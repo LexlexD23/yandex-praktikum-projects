{
 "cells": [
  {
   "cell_type": "markdown",
   "metadata": {
    "toc": true
   },
   "source": [
    "<h1>Содержание<span class=\"tocSkip\"></span></h1>\n",
    "<div class=\"toc\"><ul class=\"toc-item\"><li><span><a href=\"#Загрузка-данных\" data-toc-modified-id=\"Загрузка-данных-1\"><span class=\"toc-item-num\">1&nbsp;&nbsp;</span>Загрузка данных</a></span></li><li><span><a href=\"#Умножение-матриц\" data-toc-modified-id=\"Умножение-матриц-2\"><span class=\"toc-item-num\">2&nbsp;&nbsp;</span>Умножение матриц</a></span></li><li><span><a href=\"#Алгоритм-преобразования\" data-toc-modified-id=\"Алгоритм-преобразования-3\"><span class=\"toc-item-num\">3&nbsp;&nbsp;</span>Алгоритм преобразования</a></span></li><li><span><a href=\"#Проверка-алгоритма\" data-toc-modified-id=\"Проверка-алгоритма-4\"><span class=\"toc-item-num\">4&nbsp;&nbsp;</span>Проверка алгоритма</a></span></li></ul></div>"
   ]
  },
  {
   "cell_type": "markdown",
   "metadata": {},
   "source": [
    "# Защита персональных данных клиентов"
   ]
  },
  {
   "cell_type": "markdown",
   "metadata": {},
   "source": [
    "Вам нужно защитить данные клиентов страховой компании «Хоть потоп». Разработайте такой метод преобразования данных, чтобы по ним было сложно восстановить персональную информацию. Обоснуйте корректность его работы.\n",
    "\n",
    "Нужно защитить данные, чтобы при преобразовании качество моделей машинного обучения не ухудшилось. Подбирать наилучшую модель не требуется."
   ]
  },
  {
   "cell_type": "markdown",
   "metadata": {},
   "source": [
    "## Загрузка данных"
   ]
  },
  {
   "cell_type": "code",
   "execution_count": 1,
   "metadata": {},
   "outputs": [],
   "source": [
    "import pandas as pd\n",
    "import numpy as np\n",
    "import matplotlib as plt\n",
    "from sklearn.linear_model import LinearRegression\n",
    "from sklearn.metrics import r2_score\n",
    "from sklearn.model_selection import train_test_split"
   ]
  },
  {
   "cell_type": "markdown",
   "metadata": {},
   "source": [
    "Загрузка данных клиентов "
   ]
  },
  {
   "cell_type": "code",
   "execution_count": 2,
   "metadata": {},
   "outputs": [],
   "source": [
    "df_insurance = pd.read_csv('/datasets/insurance.csv')"
   ]
  },
  {
   "cell_type": "markdown",
   "metadata": {},
   "source": [
    "Обзор дата фрейма "
   ]
  },
  {
   "cell_type": "code",
   "execution_count": 3,
   "metadata": {
    "scrolled": true
   },
   "outputs": [
    {
     "name": "stdout",
     "output_type": "stream",
     "text": [
      "<class 'pandas.core.frame.DataFrame'>\n",
      "RangeIndex: 5000 entries, 0 to 4999\n",
      "Data columns (total 5 columns):\n",
      " #   Column             Non-Null Count  Dtype  \n",
      "---  ------             --------------  -----  \n",
      " 0   Пол                5000 non-null   int64  \n",
      " 1   Возраст            5000 non-null   float64\n",
      " 2   Зарплата           5000 non-null   float64\n",
      " 3   Члены семьи        5000 non-null   int64  \n",
      " 4   Страховые выплаты  5000 non-null   int64  \n",
      "dtypes: float64(2), int64(3)\n",
      "memory usage: 195.4 KB\n"
     ]
    }
   ],
   "source": [
    "df_insurance.info()"
   ]
  },
  {
   "cell_type": "markdown",
   "metadata": {},
   "source": [
    "Пропусков нет, все признаки имеют числовой тип"
   ]
  },
  {
   "cell_type": "markdown",
   "metadata": {},
   "source": [
    "Обзор таблицы с признаками"
   ]
  },
  {
   "cell_type": "code",
   "execution_count": 4,
   "metadata": {
    "scrolled": true
   },
   "outputs": [
    {
     "data": {
      "text/html": [
       "<div>\n",
       "<style scoped>\n",
       "    .dataframe tbody tr th:only-of-type {\n",
       "        vertical-align: middle;\n",
       "    }\n",
       "\n",
       "    .dataframe tbody tr th {\n",
       "        vertical-align: top;\n",
       "    }\n",
       "\n",
       "    .dataframe thead th {\n",
       "        text-align: right;\n",
       "    }\n",
       "</style>\n",
       "<table border=\"1\" class=\"dataframe\">\n",
       "  <thead>\n",
       "    <tr style=\"text-align: right;\">\n",
       "      <th></th>\n",
       "      <th>Пол</th>\n",
       "      <th>Возраст</th>\n",
       "      <th>Зарплата</th>\n",
       "      <th>Члены семьи</th>\n",
       "      <th>Страховые выплаты</th>\n",
       "    </tr>\n",
       "  </thead>\n",
       "  <tbody>\n",
       "    <tr>\n",
       "      <th>0</th>\n",
       "      <td>1</td>\n",
       "      <td>41.0</td>\n",
       "      <td>49600.0</td>\n",
       "      <td>1</td>\n",
       "      <td>0</td>\n",
       "    </tr>\n",
       "    <tr>\n",
       "      <th>1</th>\n",
       "      <td>0</td>\n",
       "      <td>46.0</td>\n",
       "      <td>38000.0</td>\n",
       "      <td>1</td>\n",
       "      <td>1</td>\n",
       "    </tr>\n",
       "    <tr>\n",
       "      <th>2</th>\n",
       "      <td>0</td>\n",
       "      <td>29.0</td>\n",
       "      <td>21000.0</td>\n",
       "      <td>0</td>\n",
       "      <td>0</td>\n",
       "    </tr>\n",
       "    <tr>\n",
       "      <th>3</th>\n",
       "      <td>0</td>\n",
       "      <td>21.0</td>\n",
       "      <td>41700.0</td>\n",
       "      <td>2</td>\n",
       "      <td>0</td>\n",
       "    </tr>\n",
       "    <tr>\n",
       "      <th>4</th>\n",
       "      <td>1</td>\n",
       "      <td>28.0</td>\n",
       "      <td>26100.0</td>\n",
       "      <td>0</td>\n",
       "      <td>0</td>\n",
       "    </tr>\n",
       "  </tbody>\n",
       "</table>\n",
       "</div>"
      ],
      "text/plain": [
       "   Пол  Возраст  Зарплата  Члены семьи  Страховые выплаты\n",
       "0    1     41.0   49600.0            1                  0\n",
       "1    0     46.0   38000.0            1                  1\n",
       "2    0     29.0   21000.0            0                  0\n",
       "3    0     21.0   41700.0            2                  0\n",
       "4    1     28.0   26100.0            0                  0"
      ]
     },
     "execution_count": 4,
     "metadata": {},
     "output_type": "execute_result"
    }
   ],
   "source": [
    "df_insurance.head()"
   ]
  },
  {
   "cell_type": "markdown",
   "metadata": {},
   "source": [
    "Корреляция признаков по методу Спирмена "
   ]
  },
  {
   "cell_type": "code",
   "execution_count": 5,
   "metadata": {
    "scrolled": true
   },
   "outputs": [
    {
     "data": {
      "text/html": [
       "<div>\n",
       "<style scoped>\n",
       "    .dataframe tbody tr th:only-of-type {\n",
       "        vertical-align: middle;\n",
       "    }\n",
       "\n",
       "    .dataframe tbody tr th {\n",
       "        vertical-align: top;\n",
       "    }\n",
       "\n",
       "    .dataframe thead th {\n",
       "        text-align: right;\n",
       "    }\n",
       "</style>\n",
       "<table border=\"1\" class=\"dataframe\">\n",
       "  <thead>\n",
       "    <tr style=\"text-align: right;\">\n",
       "      <th></th>\n",
       "      <th>Возраст</th>\n",
       "      <th>Зарплата</th>\n",
       "      <th>Члены семьи</th>\n",
       "      <th>Страховые выплаты</th>\n",
       "    </tr>\n",
       "  </thead>\n",
       "  <tbody>\n",
       "    <tr>\n",
       "      <th>Возраст</th>\n",
       "      <td>1.000000</td>\n",
       "      <td>-0.020238</td>\n",
       "      <td>-0.001503</td>\n",
       "      <td>0.548589</td>\n",
       "    </tr>\n",
       "    <tr>\n",
       "      <th>Зарплата</th>\n",
       "      <td>-0.020238</td>\n",
       "      <td>1.000000</td>\n",
       "      <td>-0.025492</td>\n",
       "      <td>-0.005549</td>\n",
       "    </tr>\n",
       "    <tr>\n",
       "      <th>Члены семьи</th>\n",
       "      <td>-0.001503</td>\n",
       "      <td>-0.025492</td>\n",
       "      <td>1.000000</td>\n",
       "      <td>-0.029210</td>\n",
       "    </tr>\n",
       "    <tr>\n",
       "      <th>Страховые выплаты</th>\n",
       "      <td>0.548589</td>\n",
       "      <td>-0.005549</td>\n",
       "      <td>-0.029210</td>\n",
       "      <td>1.000000</td>\n",
       "    </tr>\n",
       "  </tbody>\n",
       "</table>\n",
       "</div>"
      ],
      "text/plain": [
       "                    Возраст  Зарплата  Члены семьи  Страховые выплаты\n",
       "Возраст            1.000000 -0.020238    -0.001503           0.548589\n",
       "Зарплата          -0.020238  1.000000    -0.025492          -0.005549\n",
       "Члены семьи       -0.001503 -0.025492     1.000000          -0.029210\n",
       "Страховые выплаты  0.548589 -0.005549    -0.029210           1.000000"
      ]
     },
     "execution_count": 5,
     "metadata": {},
     "output_type": "execute_result"
    }
   ],
   "source": [
    "df_insurance.drop('Пол', axis = 1).corr(method = 'spearman')"
   ]
  },
  {
   "cell_type": "markdown",
   "metadata": {},
   "source": [
    "Заметен средний уровень положительной корреляции страховых выплат с возрастом клиента"
   ]
  },
  {
   "cell_type": "markdown",
   "metadata": {},
   "source": [
    "Сравнение группы клиентов, которая имела страховые случаи с теми, у кого  они отсутствовали"
   ]
  },
  {
   "cell_type": "code",
   "execution_count": 6,
   "metadata": {},
   "outputs": [],
   "source": [
    "df_insurance_case = df_insurance[df_insurance['Страховые выплаты'] > 0]\n",
    "df_not_insurance_case = df_insurance[df_insurance['Страховые выплаты'] == 0]"
   ]
  },
  {
   "cell_type": "code",
   "execution_count": 7,
   "metadata": {
    "scrolled": true
   },
   "outputs": [
    {
     "data": {
      "text/plain": [
       "count    564.000000\n",
       "mean      46.542553\n",
       "std        3.888312\n",
       "min       42.000000\n",
       "25%       44.000000\n",
       "50%       46.000000\n",
       "75%       49.000000\n",
       "max       65.000000\n",
       "Name: Возраст, dtype: float64"
      ]
     },
     "execution_count": 7,
     "metadata": {},
     "output_type": "execute_result"
    }
   ],
   "source": [
    "df_insurance_case['Возраст'].describe()"
   ]
  },
  {
   "cell_type": "code",
   "execution_count": 8,
   "metadata": {
    "scrolled": false
   },
   "outputs": [
    {
     "data": {
      "text/plain": [
       "count    4436.000000\n",
       "mean       28.970694\n",
       "std         6.599344\n",
       "min        18.000000\n",
       "25%        23.000000\n",
       "50%        29.000000\n",
       "75%        34.000000\n",
       "max        42.000000\n",
       "Name: Возраст, dtype: float64"
      ]
     },
     "execution_count": 8,
     "metadata": {},
     "output_type": "execute_result"
    }
   ],
   "source": [
    "df_not_insurance_case['Возраст'].describe()"
   ]
  },
  {
   "cell_type": "markdown",
   "metadata": {},
   "source": [
    "Видим что в группе где присутствуют страховые случаи показатели возраста выше. Это говорит о возрастозависимости страховых случаев.\n",
    "Возраст  - самый важный признак (из тех что присутствуют), характеризующий риск наступления страхового случая"
   ]
  },
  {
   "cell_type": "markdown",
   "metadata": {},
   "source": [
    "## Умножение матриц"
   ]
  },
  {
   "cell_type": "markdown",
   "metadata": {},
   "source": [
    "В этом задании вы можете записывать формулы в *Jupyter Notebook.*\n",
    "\n",
    "Чтобы записать формулу внутри текста, окружите её символами доллара \\\\$; если снаружи —  двойными символами \\\\$\\\\$. Эти формулы записываются на языке вёрстки *LaTeX.* \n",
    "\n",
    "Для примера мы записали формулы линейной регрессии. Можете их скопировать и отредактировать, чтобы решить задачу.\n",
    "\n",
    "Работать в *LaTeX* необязательно."
   ]
  },
  {
   "cell_type": "markdown",
   "metadata": {},
   "source": [
    "Обозначения:\n",
    "\n",
    "- $X$ — матрица признаков (нулевой столбец состоит из единиц)\n",
    "\n",
    "- $y$ — вектор целевого признака\n",
    "\n",
    "- $P$ — матрица, на которую умножаются признаки\n",
    "\n",
    "- $w$ — вектор весов линейной регрессии (нулевой элемент равен сдвигу)"
   ]
  },
  {
   "cell_type": "markdown",
   "metadata": {},
   "source": [
    "Предсказания:\n",
    "\n",
    "$$\n",
    "a = Xw\n",
    "$$\n",
    "\n",
    "Задача обучения:\n",
    "\n",
    "$$\n",
    "w = \\arg\\min_w MSE(Xw, y)\n",
    "$$\n",
    "\n",
    "Формула обучения:\n",
    "\n",
    "$$\n",
    "w = (X^T X)^{-1} X^T y\n",
    "$$"
   ]
  },
  {
   "cell_type": "markdown",
   "metadata": {},
   "source": [
    "\n",
    "**Формула нахождения весов для преобразованной матрицы:**\n",
    "\n",
    "$$\n",
    "w' = ((XP)^T XP)^{-1} (XP)^T y = (P^T X^T X P)^{-1} P^T X^T y \n",
    "$$\n",
    "\n",
    "**Предсказания для преобразованной  матрицы:**\n",
    "\n",
    "$$\n",
    "a' = XPw' =XP (P^T X^T X P)^{-1} P^T X^T y = \\\\\n",
    "    = XPP^{-1} (X^T X )^{-1} P^{T-1}P^T X^T y =\\\\\n",
    "    = XE (X^T X )^{-1}E X^T y = \\\\\n",
    "    = X (X^T X )^{-1} X^T y = \\\\\n",
    "    = X w =>\\\\\n",
    "    a' = X w = a\n",
    "$$"
   ]
  },
  {
   "cell_type": "markdown",
   "metadata": {},
   "source": [
    "**Ответ:** \n",
    "\n",
    "При умножении признаков  на обратимую матрицу, качество предсказаний линейной регрессии не измениться.\n",
    "\n",
    "\n",
    "**Обоснование:** \n",
    "\n",
    "Формула расчета предсказаний при преобразовании остается идентичной: \n",
    "$$\n",
    "a' = Xw = a\n",
    "$$\n"
   ]
  },
  {
   "cell_type": "markdown",
   "metadata": {},
   "source": [
    "## Алгоритм преобразования"
   ]
  },
  {
   "cell_type": "markdown",
   "metadata": {},
   "source": [
    "**Алгоритм**\n",
    "* Выделение обучающих и целевых  признаков \n",
    "* Подсчет количества признаков в обучающей выборке \n",
    "* Получение случайной квадратной обратимой матрицы с размерностью равной признакам в обучающей  матрицы \n",
    "* Преобразование матрицы признаков путем ее умножения на полученную случайную матрицу \n"
   ]
  },
  {
   "cell_type": "markdown",
   "metadata": {},
   "source": [
    "**Обоснование**\n",
    "\n",
    "При умножении на обратимую матрицы получим матрицу с неинтерпретируемыми результатами  без знания обратимой матрицы "
   ]
  },
  {
   "cell_type": "markdown",
   "metadata": {},
   "source": [
    "## Проверка алгоритма"
   ]
  },
  {
   "cell_type": "markdown",
   "metadata": {},
   "source": [
    "Получение обучающих и целевых  признаков"
   ]
  },
  {
   "cell_type": "code",
   "execution_count": 9,
   "metadata": {},
   "outputs": [],
   "source": [
    "features = df_insurance.drop('Страховые выплаты', axis=1).values\n",
    "target = df_insurance['Страховые выплаты'].values"
   ]
  },
  {
   "cell_type": "markdown",
   "metadata": {},
   "source": [
    "Функция для преобразования матрицы признаков"
   ]
  },
  {
   "cell_type": "code",
   "execution_count": 10,
   "metadata": {},
   "outputs": [],
   "source": [
    "def X_modified(matrix_X,seed):\n",
    "    dimension = features.shape[1]\n",
    "    \n",
    "    try:\n",
    "        state = np.random.RandomState(seed=seed)\n",
    "        matrix_P = state.normal(size = (dimension,dimension))\n",
    "        inv_P =  np.linalg.inv(matrix_P)\n",
    "        return matrix_X @ inv_P,inv_P\n",
    "    except np.linalg.LinAlgError:\n",
    "        X_modified(matrix_X,seed)\n",
    "   "
   ]
  },
  {
   "cell_type": "markdown",
   "metadata": {},
   "source": [
    "Сплитирование"
   ]
  },
  {
   "cell_type": "code",
   "execution_count": 11,
   "metadata": {},
   "outputs": [],
   "source": [
    "# защита данных\n",
    "features_modified,inv_P = X_modified(features,12345)\n",
    "\n",
    "features_train_raw,features_test_raw,target_train_raw,target_test_raw = train_test_split(features,target,\n",
    "                                                                                   test_size = .25, random_state = 12345)\n",
    "\n",
    "\n",
    "features_train_new,features_test_new,target_train_new,target_test_new = train_test_split(features_modified,target,\n",
    "                                                                                   test_size = .25, random_state = 12345)\n"
   ]
  },
  {
   "cell_type": "markdown",
   "metadata": {},
   "source": [
    "Восстановление данных по известной обратной матрице"
   ]
  },
  {
   "cell_type": "code",
   "execution_count": 12,
   "metadata": {},
   "outputs": [
    {
     "data": {
      "text/html": [
       "<div>\n",
       "<style scoped>\n",
       "    .dataframe tbody tr th:only-of-type {\n",
       "        vertical-align: middle;\n",
       "    }\n",
       "\n",
       "    .dataframe tbody tr th {\n",
       "        vertical-align: top;\n",
       "    }\n",
       "\n",
       "    .dataframe thead th {\n",
       "        text-align: right;\n",
       "    }\n",
       "</style>\n",
       "<table border=\"1\" class=\"dataframe\">\n",
       "  <thead>\n",
       "    <tr style=\"text-align: right;\">\n",
       "      <th></th>\n",
       "      <th>Пол</th>\n",
       "      <th>Возраст</th>\n",
       "      <th>Зарплата</th>\n",
       "      <th>Члены семьи</th>\n",
       "    </tr>\n",
       "  </thead>\n",
       "  <tbody>\n",
       "    <tr>\n",
       "      <th>0</th>\n",
       "      <td>1</td>\n",
       "      <td>41</td>\n",
       "      <td>49600</td>\n",
       "      <td>1</td>\n",
       "    </tr>\n",
       "    <tr>\n",
       "      <th>1</th>\n",
       "      <td>0</td>\n",
       "      <td>46</td>\n",
       "      <td>38000</td>\n",
       "      <td>1</td>\n",
       "    </tr>\n",
       "    <tr>\n",
       "      <th>2</th>\n",
       "      <td>0</td>\n",
       "      <td>29</td>\n",
       "      <td>21000</td>\n",
       "      <td>0</td>\n",
       "    </tr>\n",
       "    <tr>\n",
       "      <th>3</th>\n",
       "      <td>0</td>\n",
       "      <td>21</td>\n",
       "      <td>41700</td>\n",
       "      <td>2</td>\n",
       "    </tr>\n",
       "    <tr>\n",
       "      <th>4</th>\n",
       "      <td>1</td>\n",
       "      <td>28</td>\n",
       "      <td>26100</td>\n",
       "      <td>0</td>\n",
       "    </tr>\n",
       "  </tbody>\n",
       "</table>\n",
       "</div>"
      ],
      "text/plain": [
       "   Пол  Возраст  Зарплата  Члены семьи\n",
       "0    1       41     49600            1\n",
       "1    0       46     38000            1\n",
       "2    0       29     21000            0\n",
       "3    0       21     41700            2\n",
       "4    1       28     26100            0"
      ]
     },
     "execution_count": 12,
     "metadata": {},
     "output_type": "execute_result"
    }
   ],
   "source": [
    "features_decoder = features_modified @ np.linalg.inv(inv_P)\n",
    "pd.DataFrame(features_decoder,\n",
    "             columns = df_insurance.columns[:-1]) \\\n",
    "            .round(1).astype('int').head(5)"
   ]
  },
  {
   "cell_type": "code",
   "execution_count": 13,
   "metadata": {},
   "outputs": [
    {
     "data": {
      "text/html": [
       "<div>\n",
       "<style scoped>\n",
       "    .dataframe tbody tr th:only-of-type {\n",
       "        vertical-align: middle;\n",
       "    }\n",
       "\n",
       "    .dataframe tbody tr th {\n",
       "        vertical-align: top;\n",
       "    }\n",
       "\n",
       "    .dataframe thead th {\n",
       "        text-align: right;\n",
       "    }\n",
       "</style>\n",
       "<table border=\"1\" class=\"dataframe\">\n",
       "  <thead>\n",
       "    <tr style=\"text-align: right;\">\n",
       "      <th></th>\n",
       "      <th>Пол</th>\n",
       "      <th>Возраст</th>\n",
       "      <th>Зарплата</th>\n",
       "      <th>Члены семьи</th>\n",
       "      <th>Страховые выплаты</th>\n",
       "    </tr>\n",
       "  </thead>\n",
       "  <tbody>\n",
       "    <tr>\n",
       "      <th>0</th>\n",
       "      <td>1</td>\n",
       "      <td>41</td>\n",
       "      <td>49600</td>\n",
       "      <td>1</td>\n",
       "      <td>0</td>\n",
       "    </tr>\n",
       "    <tr>\n",
       "      <th>1</th>\n",
       "      <td>0</td>\n",
       "      <td>46</td>\n",
       "      <td>38000</td>\n",
       "      <td>1</td>\n",
       "      <td>1</td>\n",
       "    </tr>\n",
       "    <tr>\n",
       "      <th>2</th>\n",
       "      <td>0</td>\n",
       "      <td>29</td>\n",
       "      <td>21000</td>\n",
       "      <td>0</td>\n",
       "      <td>0</td>\n",
       "    </tr>\n",
       "    <tr>\n",
       "      <th>3</th>\n",
       "      <td>0</td>\n",
       "      <td>21</td>\n",
       "      <td>41700</td>\n",
       "      <td>2</td>\n",
       "      <td>0</td>\n",
       "    </tr>\n",
       "    <tr>\n",
       "      <th>4</th>\n",
       "      <td>1</td>\n",
       "      <td>28</td>\n",
       "      <td>26100</td>\n",
       "      <td>0</td>\n",
       "      <td>0</td>\n",
       "    </tr>\n",
       "  </tbody>\n",
       "</table>\n",
       "</div>"
      ],
      "text/plain": [
       "   Пол  Возраст  Зарплата  Члены семьи  Страховые выплаты\n",
       "0    1       41     49600            1                  0\n",
       "1    0       46     38000            1                  1\n",
       "2    0       29     21000            0                  0\n",
       "3    0       21     41700            2                  0\n",
       "4    1       28     26100            0                  0"
      ]
     },
     "execution_count": 13,
     "metadata": {},
     "output_type": "execute_result"
    }
   ],
   "source": [
    "df_insurance.head(5).astype('int')"
   ]
  },
  {
   "cell_type": "markdown",
   "metadata": {},
   "source": [
    "**Проверка качества модели** "
   ]
  },
  {
   "cell_type": "code",
   "execution_count": 14,
   "metadata": {
    "scrolled": true
   },
   "outputs": [
    {
     "name": "stdout",
     "output_type": "stream",
     "text": [
      "Метрика R2 на исходных признаках: 0.43522757127026546\n",
      "Метрика R2 на преобразованных признаках: 0.435227571270297\n"
     ]
    }
   ],
   "source": [
    "model = LinearRegression()\n",
    "model.fit(features_train_raw, target_train_raw)\n",
    "predictions = model.predict(features_test_raw)\n",
    "print('Метрика R2 на исходных признаках:',r2_score(target_test_raw, predictions))\n",
    "\n",
    "\n",
    "model.fit(features_train_new, target_train_new)\n",
    "predictions = model.predict(features_test_new)\n",
    "print('Метрика R2 на преобразованных признаках:',r2_score(target_test_new, predictions))"
   ]
  },
  {
   "cell_type": "markdown",
   "metadata": {},
   "source": [
    "Вывод:\n",
    "\n",
    "   При предсказании методом линейной регрессии, подтверждена  возможность защиты данных методом умножения на обратимую матрицу"
   ]
  },
  {
   "cell_type": "code",
   "execution_count": null,
   "metadata": {},
   "outputs": [],
   "source": []
  }
 ],
 "metadata": {
  "ExecuteTimeLog": [
   {
    "duration": 386,
    "start_time": "2023-01-22T05:39:15.898Z"
   },
   {
    "duration": 84,
    "start_time": "2023-01-22T05:39:17.682Z"
   },
   {
    "duration": 14,
    "start_time": "2023-01-22T05:39:34.615Z"
   },
   {
    "duration": 16,
    "start_time": "2023-01-22T14:02:17.495Z"
   },
   {
    "duration": 48,
    "start_time": "2023-01-25T08:18:22.218Z"
   },
   {
    "duration": 374,
    "start_time": "2023-01-25T08:18:26.877Z"
   },
   {
    "duration": 90,
    "start_time": "2023-01-25T08:18:27.252Z"
   },
   {
    "duration": 15,
    "start_time": "2023-01-25T08:18:27.344Z"
   },
   {
    "duration": 14,
    "start_time": "2023-01-25T08:18:29.387Z"
   },
   {
    "duration": 23,
    "start_time": "2023-01-25T08:18:30.392Z"
   },
   {
    "duration": 403,
    "start_time": "2023-01-25T15:37:18.455Z"
   },
   {
    "duration": 95,
    "start_time": "2023-01-25T15:37:18.859Z"
   },
   {
    "duration": 12,
    "start_time": "2023-01-25T15:37:18.956Z"
   },
   {
    "duration": 16,
    "start_time": "2023-01-25T15:37:18.970Z"
   },
   {
    "duration": 14,
    "start_time": "2023-01-25T15:37:18.988Z"
   },
   {
    "duration": 5,
    "start_time": "2023-01-25T15:37:23.308Z"
   },
   {
    "duration": 738,
    "start_time": "2023-01-25T15:38:33.225Z"
   },
   {
    "duration": 221,
    "start_time": "2023-01-25T15:38:37.046Z"
   },
   {
    "duration": 3,
    "start_time": "2023-01-25T15:38:51.899Z"
   },
   {
    "duration": 16,
    "start_time": "2023-01-25T15:38:55.426Z"
   },
   {
    "duration": 4,
    "start_time": "2023-01-25T15:50:37.747Z"
   },
   {
    "duration": 18,
    "start_time": "2023-01-25T15:50:40.340Z"
   },
   {
    "duration": 1082,
    "start_time": "2023-01-26T05:38:24.259Z"
   },
   {
    "duration": 80,
    "start_time": "2023-01-26T05:38:25.343Z"
   },
   {
    "duration": 12,
    "start_time": "2023-01-26T05:38:25.425Z"
   },
   {
    "duration": 38,
    "start_time": "2023-01-26T05:38:25.438Z"
   },
   {
    "duration": 4,
    "start_time": "2023-01-26T05:38:28.350Z"
   },
   {
    "duration": 4,
    "start_time": "2023-01-26T05:38:30.491Z"
   },
   {
    "duration": 4,
    "start_time": "2023-01-26T05:40:19.689Z"
   },
   {
    "duration": 3,
    "start_time": "2023-01-26T05:40:25.940Z"
   },
   {
    "duration": 71,
    "start_time": "2023-01-26T06:06:29.556Z"
   },
   {
    "duration": 74,
    "start_time": "2023-01-26T06:06:44.592Z"
   },
   {
    "duration": 4,
    "start_time": "2023-01-26T06:06:49.873Z"
   },
   {
    "duration": 3,
    "start_time": "2023-01-26T06:06:57.772Z"
   },
   {
    "duration": 5,
    "start_time": "2023-01-26T06:07:05.467Z"
   },
   {
    "duration": 4,
    "start_time": "2023-01-26T06:07:31.901Z"
   },
   {
    "duration": 6,
    "start_time": "2023-01-26T06:08:54.273Z"
   },
   {
    "duration": 7,
    "start_time": "2023-01-26T06:11:05.491Z"
   },
   {
    "duration": 9,
    "start_time": "2023-01-26T06:11:08.931Z"
   },
   {
    "duration": 106,
    "start_time": "2023-01-26T06:27:11.950Z"
   },
   {
    "duration": 9,
    "start_time": "2023-01-26T06:27:35.939Z"
   },
   {
    "duration": 589,
    "start_time": "2023-01-26T06:27:44.673Z"
   },
   {
    "duration": 19505,
    "start_time": "2023-01-26T06:28:03.278Z"
   },
   {
    "duration": 33,
    "start_time": "2023-01-26T06:29:37.881Z"
   },
   {
    "duration": 5,
    "start_time": "2023-01-26T06:29:44.410Z"
   },
   {
    "duration": 6,
    "start_time": "2023-01-26T06:31:48.920Z"
   },
   {
    "duration": 86852,
    "start_time": "2023-01-26T06:33:18.911Z"
   },
   {
    "duration": 82064,
    "start_time": "2023-01-26T06:34:45.764Z"
   },
   {
    "duration": 108,
    "start_time": "2023-01-26T06:40:00.314Z"
   },
   {
    "duration": 117,
    "start_time": "2023-01-26T06:40:36.060Z"
   },
   {
    "duration": 14,
    "start_time": "2023-01-26T06:43:28.115Z"
   },
   {
    "duration": 76,
    "start_time": "2023-01-26T06:43:34.870Z"
   },
   {
    "duration": 126,
    "start_time": "2023-01-26T06:44:21.290Z"
   },
   {
    "duration": 56,
    "start_time": "2023-01-26T06:44:26.912Z"
   },
   {
    "duration": 137,
    "start_time": "2023-01-26T06:44:30.031Z"
   },
   {
    "duration": 13,
    "start_time": "2023-01-26T06:44:44.355Z"
   },
   {
    "duration": 15,
    "start_time": "2023-01-26T06:44:55.498Z"
   },
   {
    "duration": 145,
    "start_time": "2023-01-26T06:46:32.583Z"
   },
   {
    "duration": 25,
    "start_time": "2023-01-26T06:48:27.856Z"
   },
   {
    "duration": 4222,
    "start_time": "2023-01-26T06:51:30.751Z"
   },
   {
    "duration": 20,
    "start_time": "2023-01-26T06:52:41.002Z"
   },
   {
    "duration": 1571,
    "start_time": "2023-01-26T06:55:00.729Z"
   },
   {
    "duration": 27,
    "start_time": "2023-01-26T06:55:02.304Z"
   },
   {
    "duration": 82,
    "start_time": "2023-01-26T06:55:02.333Z"
   },
   {
    "duration": 74,
    "start_time": "2023-01-26T06:55:02.419Z"
   },
   {
    "duration": 55,
    "start_time": "2023-01-26T06:55:02.496Z"
   },
   {
    "duration": 47,
    "start_time": "2023-01-26T06:55:02.554Z"
   },
   {
    "duration": 38,
    "start_time": "2023-01-26T06:55:02.603Z"
   },
   {
    "duration": 45,
    "start_time": "2023-01-26T06:55:02.644Z"
   },
   {
    "duration": 138,
    "start_time": "2023-01-26T06:55:02.691Z"
   },
   {
    "duration": 3,
    "start_time": "2023-01-26T07:03:20.268Z"
   },
   {
    "duration": 46,
    "start_time": "2023-01-26T07:03:20.274Z"
   },
   {
    "duration": 11,
    "start_time": "2023-01-26T07:03:20.322Z"
   },
   {
    "duration": 15,
    "start_time": "2023-01-26T07:03:20.335Z"
   },
   {
    "duration": 22,
    "start_time": "2023-01-26T07:03:20.353Z"
   },
   {
    "duration": 5,
    "start_time": "2023-01-26T07:03:20.377Z"
   },
   {
    "duration": 19,
    "start_time": "2023-01-26T07:03:20.384Z"
   },
   {
    "duration": 29,
    "start_time": "2023-01-26T07:03:20.405Z"
   },
   {
    "duration": 16,
    "start_time": "2023-01-26T07:03:20.436Z"
   },
   {
    "duration": 1070,
    "start_time": "2023-01-26T07:03:38.546Z"
   },
   {
    "duration": 24,
    "start_time": "2023-01-26T07:03:39.617Z"
   },
   {
    "duration": 12,
    "start_time": "2023-01-26T07:03:39.642Z"
   },
   {
    "duration": 18,
    "start_time": "2023-01-26T07:03:39.656Z"
   },
   {
    "duration": 13,
    "start_time": "2023-01-26T07:03:39.675Z"
   },
   {
    "duration": 10,
    "start_time": "2023-01-26T07:03:39.690Z"
   },
   {
    "duration": 21,
    "start_time": "2023-01-26T07:03:39.702Z"
   },
   {
    "duration": 11,
    "start_time": "2023-01-26T07:03:39.724Z"
   },
   {
    "duration": 62,
    "start_time": "2023-01-26T07:03:39.737Z"
   },
   {
    "duration": 52,
    "start_time": "2023-01-27T01:37:36.484Z"
   },
   {
    "duration": 1286,
    "start_time": "2023-01-27T01:37:44.755Z"
   },
   {
    "duration": 91,
    "start_time": "2023-01-27T01:37:46.043Z"
   },
   {
    "duration": 13,
    "start_time": "2023-01-27T01:37:46.136Z"
   },
   {
    "duration": 20,
    "start_time": "2023-01-27T01:37:46.151Z"
   },
   {
    "duration": 11,
    "start_time": "2023-01-27T01:37:46.173Z"
   },
   {
    "duration": 4,
    "start_time": "2023-01-27T01:37:46.186Z"
   },
   {
    "duration": 8,
    "start_time": "2023-01-27T01:37:46.192Z"
   },
   {
    "duration": 11,
    "start_time": "2023-01-27T01:37:46.202Z"
   },
   {
    "duration": 391,
    "start_time": "2023-01-27T01:37:48.222Z"
   },
   {
    "duration": 10,
    "start_time": "2023-01-27T01:39:23.800Z"
   },
   {
    "duration": 344,
    "start_time": "2023-01-27T01:39:34.869Z"
   },
   {
    "duration": 7,
    "start_time": "2023-01-27T01:39:44.371Z"
   },
   {
    "duration": 9,
    "start_time": "2023-01-27T01:42:47.581Z"
   },
   {
    "duration": 4,
    "start_time": "2023-01-27T01:43:18.779Z"
   },
   {
    "duration": 7,
    "start_time": "2023-01-27T01:43:36.225Z"
   },
   {
    "duration": 6,
    "start_time": "2023-01-27T01:44:08.435Z"
   },
   {
    "duration": 7,
    "start_time": "2023-01-27T01:45:40.961Z"
   },
   {
    "duration": 11,
    "start_time": "2023-01-27T01:47:01.760Z"
   },
   {
    "duration": 5,
    "start_time": "2023-01-27T01:47:17.495Z"
   },
   {
    "duration": 10,
    "start_time": "2023-01-27T01:48:08.130Z"
   },
   {
    "duration": 5,
    "start_time": "2023-01-27T01:48:53.495Z"
   },
   {
    "duration": 5,
    "start_time": "2023-01-27T01:49:02.574Z"
   },
   {
    "duration": 21,
    "start_time": "2023-01-27T01:49:16.325Z"
   },
   {
    "duration": 18,
    "start_time": "2023-01-27T01:50:14.674Z"
   },
   {
    "duration": 11,
    "start_time": "2023-01-27T01:51:19.240Z"
   },
   {
    "duration": 74,
    "start_time": "2023-01-27T01:51:58.634Z"
   },
   {
    "duration": 11,
    "start_time": "2023-01-27T01:52:05.053Z"
   },
   {
    "duration": 10,
    "start_time": "2023-01-27T01:55:17.274Z"
   },
   {
    "duration": 4,
    "start_time": "2023-01-27T01:55:21.523Z"
   },
   {
    "duration": 8,
    "start_time": "2023-01-27T01:55:22.849Z"
   },
   {
    "duration": 12,
    "start_time": "2023-01-27T01:55:54.574Z"
   },
   {
    "duration": 10,
    "start_time": "2023-01-27T01:57:51.853Z"
   },
   {
    "duration": 9,
    "start_time": "2023-01-27T01:58:47.623Z"
   },
   {
    "duration": 10,
    "start_time": "2023-01-27T01:59:38.999Z"
   },
   {
    "duration": 18,
    "start_time": "2023-01-27T02:03:01.753Z"
   },
   {
    "duration": 13,
    "start_time": "2023-01-27T02:03:43.214Z"
   },
   {
    "duration": 13,
    "start_time": "2023-01-27T02:03:56.034Z"
   },
   {
    "duration": 18,
    "start_time": "2023-01-27T02:04:25.794Z"
   },
   {
    "duration": 11,
    "start_time": "2023-01-27T02:05:46.794Z"
   },
   {
    "duration": 12,
    "start_time": "2023-01-27T02:05:54.533Z"
   },
   {
    "duration": 76,
    "start_time": "2023-01-27T02:06:07.313Z"
   },
   {
    "duration": 10,
    "start_time": "2023-01-27T02:06:16.824Z"
   },
   {
    "duration": 25,
    "start_time": "2023-01-27T02:07:04.874Z"
   },
   {
    "duration": 12,
    "start_time": "2023-01-27T02:07:15.169Z"
   },
   {
    "duration": 13,
    "start_time": "2023-01-27T02:07:20.226Z"
   },
   {
    "duration": 10,
    "start_time": "2023-01-27T02:07:43.914Z"
   },
   {
    "duration": 12,
    "start_time": "2023-01-27T02:09:28.879Z"
   },
   {
    "duration": 17,
    "start_time": "2023-01-27T02:09:48.829Z"
   },
   {
    "duration": 16,
    "start_time": "2023-01-27T02:09:59.394Z"
   },
   {
    "duration": 13,
    "start_time": "2023-01-27T02:17:08.394Z"
   },
   {
    "duration": 26,
    "start_time": "2023-01-27T02:44:14.465Z"
   },
   {
    "duration": 3,
    "start_time": "2023-01-27T02:45:36.876Z"
   },
   {
    "duration": 13,
    "start_time": "2023-01-27T02:45:55.195Z"
   },
   {
    "duration": 175,
    "start_time": "2023-01-27T02:46:52.515Z"
   },
   {
    "duration": 76,
    "start_time": "2023-01-27T02:47:05.685Z"
   },
   {
    "duration": 86,
    "start_time": "2023-01-27T02:50:21.635Z"
   },
   {
    "duration": 7,
    "start_time": "2023-01-27T02:53:15.356Z"
   },
   {
    "duration": 8,
    "start_time": "2023-01-27T02:54:06.050Z"
   },
   {
    "duration": 461,
    "start_time": "2023-01-27T02:54:23.931Z"
   },
   {
    "duration": 345,
    "start_time": "2023-01-27T02:54:47.241Z"
   },
   {
    "duration": 27,
    "start_time": "2023-01-27T02:55:48.340Z"
   },
   {
    "duration": 117,
    "start_time": "2023-01-27T02:58:33.794Z"
   },
   {
    "duration": 361,
    "start_time": "2023-01-27T02:59:19.090Z"
   },
   {
    "duration": 136,
    "start_time": "2023-01-27T03:01:26.514Z"
   },
   {
    "duration": 152,
    "start_time": "2023-01-27T03:02:12.434Z"
   },
   {
    "duration": 42,
    "start_time": "2023-01-27T03:07:07.028Z"
   },
   {
    "duration": 18,
    "start_time": "2023-01-27T03:09:44.133Z"
   },
   {
    "duration": 17,
    "start_time": "2023-01-27T03:11:04.518Z"
   },
   {
    "duration": 236,
    "start_time": "2023-01-27T03:12:22.342Z"
   },
   {
    "duration": 289,
    "start_time": "2023-01-27T03:12:37.637Z"
   },
   {
    "duration": 255,
    "start_time": "2023-01-27T03:13:02.797Z"
   },
   {
    "duration": 254,
    "start_time": "2023-01-27T03:13:43.712Z"
   },
   {
    "duration": 496,
    "start_time": "2023-01-27T03:14:32.614Z"
   },
   {
    "duration": 158,
    "start_time": "2023-01-27T03:24:17.692Z"
   },
   {
    "duration": 140,
    "start_time": "2023-01-27T03:25:13.251Z"
   },
   {
    "duration": 277,
    "start_time": "2023-01-27T03:25:21.646Z"
   },
   {
    "duration": 7,
    "start_time": "2023-01-27T03:25:33.992Z"
   },
   {
    "duration": 192,
    "start_time": "2023-01-27T03:26:12.412Z"
   },
   {
    "duration": 73,
    "start_time": "2023-01-27T03:26:22.792Z"
   },
   {
    "duration": 286,
    "start_time": "2023-01-27T03:26:28.737Z"
   },
   {
    "duration": 258,
    "start_time": "2023-01-27T03:36:45.772Z"
   },
   {
    "duration": 273,
    "start_time": "2023-01-27T03:36:57.598Z"
   },
   {
    "duration": 290,
    "start_time": "2023-01-27T03:37:16.303Z"
   },
   {
    "duration": 366,
    "start_time": "2023-01-27T03:47:45.482Z"
   },
   {
    "duration": 528,
    "start_time": "2023-01-27T03:48:09.008Z"
   },
   {
    "duration": 5,
    "start_time": "2023-01-27T04:08:07.172Z"
   },
   {
    "duration": 6,
    "start_time": "2023-01-27T04:08:10.187Z"
   },
   {
    "duration": 6,
    "start_time": "2023-01-27T04:09:02.531Z"
   },
   {
    "duration": 5,
    "start_time": "2023-01-27T04:09:04.458Z"
   },
   {
    "duration": 6,
    "start_time": "2023-01-27T04:09:16.733Z"
   },
   {
    "duration": 21,
    "start_time": "2023-01-27T04:09:17.401Z"
   },
   {
    "duration": 21,
    "start_time": "2023-01-27T04:09:18.743Z"
   },
   {
    "duration": 6,
    "start_time": "2023-01-27T04:27:32.397Z"
   },
   {
    "duration": 21,
    "start_time": "2023-01-27T04:27:33.178Z"
   },
   {
    "duration": 11,
    "start_time": "2023-01-27T04:37:23.453Z"
   },
   {
    "duration": 11,
    "start_time": "2023-01-27T04:37:26.478Z"
   },
   {
    "duration": 1177,
    "start_time": "2023-01-27T05:19:06.538Z"
   },
   {
    "duration": 126,
    "start_time": "2023-01-27T05:19:07.718Z"
   },
   {
    "duration": 0,
    "start_time": "2023-01-27T05:19:07.846Z"
   },
   {
    "duration": 0,
    "start_time": "2023-01-27T05:19:07.848Z"
   },
   {
    "duration": 0,
    "start_time": "2023-01-27T05:19:07.849Z"
   },
   {
    "duration": 0,
    "start_time": "2023-01-27T05:19:07.850Z"
   },
   {
    "duration": 0,
    "start_time": "2023-01-27T05:19:07.853Z"
   },
   {
    "duration": 0,
    "start_time": "2023-01-27T05:19:07.855Z"
   },
   {
    "duration": 0,
    "start_time": "2023-01-27T05:19:07.856Z"
   },
   {
    "duration": 0,
    "start_time": "2023-01-27T05:19:07.857Z"
   },
   {
    "duration": 10,
    "start_time": "2023-01-27T05:19:07.921Z"
   },
   {
    "duration": 0,
    "start_time": "2023-01-27T05:19:07.932Z"
   },
   {
    "duration": 93,
    "start_time": "2023-01-27T05:19:07.936Z"
   },
   {
    "duration": 4,
    "start_time": "2023-01-27T05:20:09.619Z"
   },
   {
    "duration": 30,
    "start_time": "2023-01-27T05:20:09.627Z"
   },
   {
    "duration": 0,
    "start_time": "2023-01-27T05:20:09.659Z"
   },
   {
    "duration": 0,
    "start_time": "2023-01-27T05:20:09.661Z"
   },
   {
    "duration": 0,
    "start_time": "2023-01-27T05:20:09.663Z"
   },
   {
    "duration": 0,
    "start_time": "2023-01-27T05:20:09.672Z"
   },
   {
    "duration": 0,
    "start_time": "2023-01-27T05:20:09.674Z"
   },
   {
    "duration": 0,
    "start_time": "2023-01-27T05:20:09.676Z"
   },
   {
    "duration": 20,
    "start_time": "2023-01-27T05:20:09.683Z"
   },
   {
    "duration": 33,
    "start_time": "2023-01-27T05:20:09.707Z"
   },
   {
    "duration": 0,
    "start_time": "2023-01-27T05:20:09.743Z"
   },
   {
    "duration": 0,
    "start_time": "2023-01-27T05:20:09.745Z"
   },
   {
    "duration": 0,
    "start_time": "2023-01-27T05:20:09.746Z"
   },
   {
    "duration": 3,
    "start_time": "2023-01-27T05:20:40.308Z"
   },
   {
    "duration": 43,
    "start_time": "2023-01-27T05:20:40.313Z"
   },
   {
    "duration": 14,
    "start_time": "2023-01-27T05:20:40.358Z"
   },
   {
    "duration": 22,
    "start_time": "2023-01-27T05:20:40.374Z"
   },
   {
    "duration": 14,
    "start_time": "2023-01-27T05:20:40.398Z"
   },
   {
    "duration": 6,
    "start_time": "2023-01-27T05:20:40.414Z"
   },
   {
    "duration": 13,
    "start_time": "2023-01-27T05:20:40.422Z"
   },
   {
    "duration": 13,
    "start_time": "2023-01-27T05:20:40.437Z"
   },
   {
    "duration": 33,
    "start_time": "2023-01-27T05:20:40.452Z"
   },
   {
    "duration": 14,
    "start_time": "2023-01-27T05:20:40.487Z"
   },
   {
    "duration": 14,
    "start_time": "2023-01-27T05:20:40.502Z"
   },
   {
    "duration": 79,
    "start_time": "2023-01-27T05:20:40.519Z"
   },
   {
    "duration": 94,
    "start_time": "2023-01-27T05:20:40.600Z"
   },
   {
    "duration": 94,
    "start_time": "2023-01-27T05:20:40.698Z"
   },
   {
    "duration": 1479,
    "start_time": "2023-01-27T05:20:54.537Z"
   },
   {
    "duration": 27,
    "start_time": "2023-01-27T05:20:56.019Z"
   },
   {
    "duration": 15,
    "start_time": "2023-01-27T05:20:56.049Z"
   },
   {
    "duration": 37,
    "start_time": "2023-01-27T05:20:56.069Z"
   },
   {
    "duration": 34,
    "start_time": "2023-01-27T05:20:56.109Z"
   },
   {
    "duration": 12,
    "start_time": "2023-01-27T05:20:56.145Z"
   },
   {
    "duration": 59,
    "start_time": "2023-01-27T05:20:56.159Z"
   },
   {
    "duration": 19,
    "start_time": "2023-01-27T05:20:56.220Z"
   },
   {
    "duration": 10,
    "start_time": "2023-01-27T05:20:56.241Z"
   },
   {
    "duration": 8,
    "start_time": "2023-01-27T05:20:56.254Z"
   },
   {
    "duration": 22,
    "start_time": "2023-01-27T05:20:56.264Z"
   },
   {
    "duration": 116,
    "start_time": "2023-01-27T05:20:56.288Z"
   },
   {
    "duration": 89,
    "start_time": "2023-01-27T05:20:56.407Z"
   },
   {
    "duration": 95,
    "start_time": "2023-01-27T05:20:56.498Z"
   },
   {
    "duration": 1591,
    "start_time": "2023-01-27T05:45:16.467Z"
   },
   {
    "duration": 28,
    "start_time": "2023-01-27T05:45:18.061Z"
   },
   {
    "duration": 30,
    "start_time": "2023-01-27T05:45:18.091Z"
   },
   {
    "duration": 66,
    "start_time": "2023-01-27T05:45:18.124Z"
   },
   {
    "duration": 28,
    "start_time": "2023-01-27T05:45:18.192Z"
   },
   {
    "duration": 21,
    "start_time": "2023-01-27T05:45:18.224Z"
   },
   {
    "duration": 14,
    "start_time": "2023-01-27T05:45:18.247Z"
   },
   {
    "duration": 21,
    "start_time": "2023-01-27T05:45:18.264Z"
   },
   {
    "duration": 17,
    "start_time": "2023-01-27T05:45:18.287Z"
   },
   {
    "duration": 18,
    "start_time": "2023-01-27T05:45:18.307Z"
   },
   {
    "duration": 33,
    "start_time": "2023-01-27T05:45:18.331Z"
   },
   {
    "duration": 129,
    "start_time": "2023-01-27T05:45:18.386Z"
   },
   {
    "duration": 167,
    "start_time": "2023-01-27T05:45:18.519Z"
   },
   {
    "duration": 14,
    "start_time": "2023-01-27T05:45:18.688Z"
   }
  ],
  "kernelspec": {
   "display_name": "Python 3 (ipykernel)",
   "language": "python",
   "name": "python3"
  },
  "language_info": {
   "codemirror_mode": {
    "name": "ipython",
    "version": 3
   },
   "file_extension": ".py",
   "mimetype": "text/x-python",
   "name": "python",
   "nbconvert_exporter": "python",
   "pygments_lexer": "ipython3",
   "version": "3.9.5"
  },
  "toc": {
   "base_numbering": 1,
   "nav_menu": {},
   "number_sections": true,
   "sideBar": true,
   "skip_h1_title": true,
   "title_cell": "Содержание",
   "title_sidebar": "Contents",
   "toc_cell": true,
   "toc_position": {},
   "toc_section_display": true,
   "toc_window_display": true
  }
 },
 "nbformat": 4,
 "nbformat_minor": 2
}
