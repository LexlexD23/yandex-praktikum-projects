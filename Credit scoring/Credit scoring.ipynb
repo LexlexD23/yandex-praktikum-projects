{
 "cells": [
  {
   "cell_type": "markdown",
   "id": "1335fcbd",
   "metadata": {},
   "source": [
    "# Исследование надежности заемщиков."
   ]
  },
  {
   "cell_type": "markdown",
   "id": "49fff093",
   "metadata": {},
   "source": [
    "\n",
    "**Цель исследования** — проверить четыре гипотезы:\n",
    "1. Влияет ли семейное положение   на факт погашения кредита в срок.\n",
    "2. Влияет ли  наличие детей на факт погашения кредита в срок.\n",
    "3. Влияет ли  наличие образования на факт погашения кредита в срок.\n",
    "4. Влияет ли  цель получения кредита на факт погашения в срок.\n",
    "\n",
    "\n",
    "**Ход исследования**\n",
    "\n",
    "Данные о поведении пользователей находятся в файле `data.csv`. О качестве данных ничего не известно. Поэтому перед проверкой гипотез понадобится обзор данных. \n",
    "\n",
    "будут проверены данные на ошибки и оценено их влияние на исследование. Затем, на этапе предобработки будет найдена  возможность исправить самые критичные ошибки данных.\n",
    " \n",
    "Таким образом, исследование пройдёт в три этапа:\n",
    " 1. Обзор данных.\n",
    " 2. Предобработка данных.\n",
    " 3. Проверка гипотез.\n",
    "\n"
   ]
  },
  {
   "cell_type": "markdown",
   "id": "511a1068",
   "metadata": {},
   "source": [
    "# Шаг 1. Обзор данных"
   ]
  },
  {
   "cell_type": "code",
   "execution_count": 2,
   "id": "44114a57",
   "metadata": {},
   "outputs": [
    {
     "data": {
      "text/html": [
       "<div>\n",
       "<style scoped>\n",
       "    .dataframe tbody tr th:only-of-type {\n",
       "        vertical-align: middle;\n",
       "    }\n",
       "\n",
       "    .dataframe tbody tr th {\n",
       "        vertical-align: top;\n",
       "    }\n",
       "\n",
       "    .dataframe thead th {\n",
       "        text-align: right;\n",
       "    }\n",
       "</style>\n",
       "<table border=\"1\" class=\"dataframe\">\n",
       "  <thead>\n",
       "    <tr style=\"text-align: right;\">\n",
       "      <th></th>\n",
       "      <th>children</th>\n",
       "      <th>days_employed</th>\n",
       "      <th>dob_years</th>\n",
       "      <th>education</th>\n",
       "      <th>education_id</th>\n",
       "      <th>family_status</th>\n",
       "      <th>family_status_id</th>\n",
       "      <th>gender</th>\n",
       "      <th>income_type</th>\n",
       "      <th>debt</th>\n",
       "      <th>total_income</th>\n",
       "      <th>purpose</th>\n",
       "    </tr>\n",
       "  </thead>\n",
       "  <tbody>\n",
       "    <tr>\n",
       "      <td>0</td>\n",
       "      <td>1</td>\n",
       "      <td>-8437.673028</td>\n",
       "      <td>42</td>\n",
       "      <td>высшее</td>\n",
       "      <td>0</td>\n",
       "      <td>женат / замужем</td>\n",
       "      <td>0</td>\n",
       "      <td>F</td>\n",
       "      <td>сотрудник</td>\n",
       "      <td>0</td>\n",
       "      <td>253875.639453</td>\n",
       "      <td>покупка жилья</td>\n",
       "    </tr>\n",
       "    <tr>\n",
       "      <td>1</td>\n",
       "      <td>1</td>\n",
       "      <td>-4024.803754</td>\n",
       "      <td>36</td>\n",
       "      <td>среднее</td>\n",
       "      <td>1</td>\n",
       "      <td>женат / замужем</td>\n",
       "      <td>0</td>\n",
       "      <td>F</td>\n",
       "      <td>сотрудник</td>\n",
       "      <td>0</td>\n",
       "      <td>112080.014102</td>\n",
       "      <td>приобретение автомобиля</td>\n",
       "    </tr>\n",
       "    <tr>\n",
       "      <td>2</td>\n",
       "      <td>0</td>\n",
       "      <td>-5623.422610</td>\n",
       "      <td>33</td>\n",
       "      <td>Среднее</td>\n",
       "      <td>1</td>\n",
       "      <td>женат / замужем</td>\n",
       "      <td>0</td>\n",
       "      <td>M</td>\n",
       "      <td>сотрудник</td>\n",
       "      <td>0</td>\n",
       "      <td>145885.952297</td>\n",
       "      <td>покупка жилья</td>\n",
       "    </tr>\n",
       "    <tr>\n",
       "      <td>3</td>\n",
       "      <td>3</td>\n",
       "      <td>-4124.747207</td>\n",
       "      <td>32</td>\n",
       "      <td>среднее</td>\n",
       "      <td>1</td>\n",
       "      <td>женат / замужем</td>\n",
       "      <td>0</td>\n",
       "      <td>M</td>\n",
       "      <td>сотрудник</td>\n",
       "      <td>0</td>\n",
       "      <td>267628.550329</td>\n",
       "      <td>дополнительное образование</td>\n",
       "    </tr>\n",
       "    <tr>\n",
       "      <td>4</td>\n",
       "      <td>0</td>\n",
       "      <td>340266.072047</td>\n",
       "      <td>53</td>\n",
       "      <td>среднее</td>\n",
       "      <td>1</td>\n",
       "      <td>гражданский брак</td>\n",
       "      <td>1</td>\n",
       "      <td>F</td>\n",
       "      <td>пенсионер</td>\n",
       "      <td>0</td>\n",
       "      <td>158616.077870</td>\n",
       "      <td>сыграть свадьбу</td>\n",
       "    </tr>\n",
       "    <tr>\n",
       "      <td>5</td>\n",
       "      <td>0</td>\n",
       "      <td>-926.185831</td>\n",
       "      <td>27</td>\n",
       "      <td>высшее</td>\n",
       "      <td>0</td>\n",
       "      <td>гражданский брак</td>\n",
       "      <td>1</td>\n",
       "      <td>M</td>\n",
       "      <td>компаньон</td>\n",
       "      <td>0</td>\n",
       "      <td>255763.565419</td>\n",
       "      <td>покупка жилья</td>\n",
       "    </tr>\n",
       "    <tr>\n",
       "      <td>6</td>\n",
       "      <td>0</td>\n",
       "      <td>-2879.202052</td>\n",
       "      <td>43</td>\n",
       "      <td>высшее</td>\n",
       "      <td>0</td>\n",
       "      <td>женат / замужем</td>\n",
       "      <td>0</td>\n",
       "      <td>F</td>\n",
       "      <td>компаньон</td>\n",
       "      <td>0</td>\n",
       "      <td>240525.971920</td>\n",
       "      <td>операции с жильем</td>\n",
       "    </tr>\n",
       "    <tr>\n",
       "      <td>7</td>\n",
       "      <td>0</td>\n",
       "      <td>-152.779569</td>\n",
       "      <td>50</td>\n",
       "      <td>СРЕДНЕЕ</td>\n",
       "      <td>1</td>\n",
       "      <td>женат / замужем</td>\n",
       "      <td>0</td>\n",
       "      <td>M</td>\n",
       "      <td>сотрудник</td>\n",
       "      <td>0</td>\n",
       "      <td>135823.934197</td>\n",
       "      <td>образование</td>\n",
       "    </tr>\n",
       "    <tr>\n",
       "      <td>8</td>\n",
       "      <td>2</td>\n",
       "      <td>-6929.865299</td>\n",
       "      <td>35</td>\n",
       "      <td>ВЫСШЕЕ</td>\n",
       "      <td>0</td>\n",
       "      <td>гражданский брак</td>\n",
       "      <td>1</td>\n",
       "      <td>F</td>\n",
       "      <td>сотрудник</td>\n",
       "      <td>0</td>\n",
       "      <td>95856.832424</td>\n",
       "      <td>на проведение свадьбы</td>\n",
       "    </tr>\n",
       "    <tr>\n",
       "      <td>9</td>\n",
       "      <td>0</td>\n",
       "      <td>-2188.756445</td>\n",
       "      <td>41</td>\n",
       "      <td>среднее</td>\n",
       "      <td>1</td>\n",
       "      <td>женат / замужем</td>\n",
       "      <td>0</td>\n",
       "      <td>M</td>\n",
       "      <td>сотрудник</td>\n",
       "      <td>0</td>\n",
       "      <td>144425.938277</td>\n",
       "      <td>покупка жилья для семьи</td>\n",
       "    </tr>\n",
       "  </tbody>\n",
       "</table>\n",
       "</div>"
      ],
      "text/plain": [
       "   children  days_employed  dob_years education  education_id  \\\n",
       "0         1   -8437.673028         42    высшее             0   \n",
       "1         1   -4024.803754         36   среднее             1   \n",
       "2         0   -5623.422610         33   Среднее             1   \n",
       "3         3   -4124.747207         32   среднее             1   \n",
       "4         0  340266.072047         53   среднее             1   \n",
       "5         0    -926.185831         27    высшее             0   \n",
       "6         0   -2879.202052         43    высшее             0   \n",
       "7         0    -152.779569         50   СРЕДНЕЕ             1   \n",
       "8         2   -6929.865299         35    ВЫСШЕЕ             0   \n",
       "9         0   -2188.756445         41   среднее             1   \n",
       "\n",
       "      family_status  family_status_id gender income_type  debt   total_income  \\\n",
       "0   женат / замужем                 0      F   сотрудник     0  253875.639453   \n",
       "1   женат / замужем                 0      F   сотрудник     0  112080.014102   \n",
       "2   женат / замужем                 0      M   сотрудник     0  145885.952297   \n",
       "3   женат / замужем                 0      M   сотрудник     0  267628.550329   \n",
       "4  гражданский брак                 1      F   пенсионер     0  158616.077870   \n",
       "5  гражданский брак                 1      M   компаньон     0  255763.565419   \n",
       "6   женат / замужем                 0      F   компаньон     0  240525.971920   \n",
       "7   женат / замужем                 0      M   сотрудник     0  135823.934197   \n",
       "8  гражданский брак                 1      F   сотрудник     0   95856.832424   \n",
       "9   женат / замужем                 0      M   сотрудник     0  144425.938277   \n",
       "\n",
       "                      purpose  \n",
       "0               покупка жилья  \n",
       "1     приобретение автомобиля  \n",
       "2               покупка жилья  \n",
       "3  дополнительное образование  \n",
       "4             сыграть свадьбу  \n",
       "5               покупка жилья  \n",
       "6           операции с жильем  \n",
       "7                 образование  \n",
       "8       на проведение свадьбы  \n",
       "9     покупка жилья для семьи  "
      ]
     },
     "execution_count": 2,
     "metadata": {},
     "output_type": "execute_result"
    }
   ],
   "source": [
    "import pandas as pd # импорт библиотеки pandas\n",
    "df = pd.read_csv('/datasets/data.csv') # чтение файла с данными и сохранение в df\n",
    "df.head(10)\n"
   ]
  },
  {
   "cell_type": "code",
   "execution_count": 3,
   "id": "974d02f7",
   "metadata": {},
   "outputs": [
    {
     "name": "stdout",
     "output_type": "stream",
     "text": [
      "<class 'pandas.core.frame.DataFrame'>\n",
      "RangeIndex: 21525 entries, 0 to 21524\n",
      "Data columns (total 12 columns):\n",
      "children            21525 non-null int64\n",
      "days_employed       19351 non-null float64\n",
      "dob_years           21525 non-null int64\n",
      "education           21525 non-null object\n",
      "education_id        21525 non-null int64\n",
      "family_status       21525 non-null object\n",
      "family_status_id    21525 non-null int64\n",
      "gender              21525 non-null object\n",
      "income_type         21525 non-null object\n",
      "debt                21525 non-null int64\n",
      "total_income        19351 non-null float64\n",
      "purpose             21525 non-null object\n",
      "dtypes: float64(2), int64(5), object(5)\n",
      "memory usage: 2.0+ MB\n"
     ]
    }
   ],
   "source": [
    "df.info() # получение общей информации о данных в таблице df"
   ]
  },
  {
   "cell_type": "markdown",
   "id": "a4ac4ca3",
   "metadata": {},
   "source": [
    "Итак, в таблице 12 столбцов. Тип данных в столбцах — `object`,`int64`, `float64`.\n",
    "\n",
    "Согласно документации к данным:\n",
    "* `children` — количество детей;\n",
    "* `days_employed` — стаж работы;  \n",
    "* `dob_years` — возраст клиента;\n",
    "* `education` — образование клиента (категориальная переменная, объектного  типа);\n",
    "* `education_id` — образование клиента (категориальная переменная, целочисленого типа);\n",
    "* `family_status` — семейное положение (категориальная переменная, объектного  типа);\n",
    "* `family_status_id` — семейное положение (категориальная переменная, целочисленного типа);\n",
    "* `gender` — пол;\n",
    "* `income_type` — категория занятости;\n",
    "* `total_income` — ежемесячный доход;\n",
    "* `purpose ` — цель получения кредита.\n",
    "\n",
    "В некоторых столбцах видны аномалии, ошибки:\n",
    "1. В колонке `days_employed` отрицательный стаж работы.\n",
    "2. В колонке `days_employed` слишком большой положительный стаж у пенсионеров (возможно не дни а часы) \n",
    "3. В колонке `total_income` для валюты слишком много незначащих знаков после запятой.\n",
    "\n",
    "Количество значений в столбцах различается. Значит, в данных есть пропущенные значения."
   ]
  },
  {
   "cell_type": "markdown",
   "id": "4cb2c758",
   "metadata": {},
   "source": [
    "# Шаг 2.1 Заполнение пропусков"
   ]
  },
  {
   "cell_type": "markdown",
   "id": "1a9db462",
   "metadata": {},
   "source": [
    "Оценим количество пропусков:"
   ]
  },
  {
   "cell_type": "code",
   "execution_count": 4,
   "id": "feedece0",
   "metadata": {},
   "outputs": [
    {
     "data": {
      "text/plain": [
       "children               0\n",
       "days_employed       2174\n",
       "dob_years              0\n",
       "education              0\n",
       "education_id           0\n",
       "family_status          0\n",
       "family_status_id       0\n",
       "gender                 0\n",
       "income_type            0\n",
       "debt                   0\n",
       "total_income        2174\n",
       "purpose                0\n",
       "dtype: int64"
      ]
     },
     "execution_count": 4,
     "metadata": {},
     "output_type": "execute_result"
    }
   ],
   "source": [
    "df.isna().sum()"
   ]
  },
  {
   "cell_type": "markdown",
   "id": "5d246778",
   "metadata": {},
   "source": [
    "Пропуски есть только в категории стаж работы и доход. При этом их количество одинаковое."
   ]
  },
  {
   "cell_type": "markdown",
   "id": "a3f4ae82",
   "metadata": {},
   "source": [
    "Оценим общий вес пропусков в данных: "
   ]
  },
  {
   "cell_type": "code",
   "execution_count": 5,
   "id": "d7834c85",
   "metadata": {
    "scrolled": true
   },
   "outputs": [
    {
     "name": "stdout",
     "output_type": "stream",
     "text": [
      "Пропуски в графе стаж: 10.10%\n",
      "Пропуски в графе доход: 10.10%\n"
     ]
    }
   ],
   "source": [
    "\n",
    "# отношение всех пропусков в столбце к общему количеству пропусков \n",
    "ratio_nan_days_employed = df['days_employed'].isna().sum()/len(df['days_employed']) \n",
    "print(f\"Пропуски в графе стаж: {ratio_nan_days_employed:.2%}\")\n",
    "ratio_nan_total_income = df['total_income'].isna().sum()/len(df['total_income']) \n",
    "print(f\"Пропуски в графе доход: {ratio_nan_total_income:.2%}\")"
   ]
  },
  {
   "cell_type": "markdown",
   "id": "895d5628",
   "metadata": {},
   "source": [
    "Десять процентов это весомая доля в выборке, такое количество может существенно повлиять на выводы при анализе."
   ]
  },
  {
   "cell_type": "markdown",
   "id": "d72f9745",
   "metadata": {},
   "source": [
    "Проверим связь пропусков с категорией занятости."
   ]
  },
  {
   "cell_type": "markdown",
   "id": "b315404e",
   "metadata": {},
   "source": [
    "Сгруппируем данные дохода по категории занятости:"
   ]
  },
  {
   "cell_type": "code",
   "execution_count": 6,
   "id": "ef00a55a",
   "metadata": {
    "scrolled": true
   },
   "outputs": [
    {
     "data": {
      "text/plain": [
       "income_type\n",
       "сотрудник          10014\n",
       "компаньон           4577\n",
       "пенсионер           3443\n",
       "госслужащий         1312\n",
       "безработный            2\n",
       "студент                1\n",
       "предприниматель        1\n",
       "в декрете              1\n",
       "Name: total_income, dtype: int64"
      ]
     },
     "execution_count": 6,
     "metadata": {},
     "output_type": "execute_result"
    }
   ],
   "source": [
    "df.groupby('income_type')['total_income'].count().sort_values(ascending=False) # сортировка по убыванию"
   ]
  },
  {
   "cell_type": "markdown",
   "id": "cbf8f1e2",
   "metadata": {},
   "source": [
    "Основу данных составляют 4 типа занятости клиентов - сотрудник, компаньон, пенсионер, госслужащий. Остальные пренебрежимо малы."
   ]
  },
  {
   "cell_type": "markdown",
   "id": "411a6471",
   "metadata": {},
   "source": [
    "Обьеденим категорию предприниматель и компаньон, так это одна и та же категория:"
   ]
  },
  {
   "cell_type": "code",
   "execution_count": 7,
   "id": "c73c76b5",
   "metadata": {},
   "outputs": [],
   "source": [
    "df.loc[df['income_type'] == 'предприниматель','income_type'] = 'компаньон'"
   ]
  },
  {
   "cell_type": "markdown",
   "id": "c9ce4311",
   "metadata": {},
   "source": [
    "Функция для анализа доли пропусков в столбце с выбранной категорией по отношению к общему количеству данных этой категорией: "
   ]
  },
  {
   "cell_type": "code",
   "execution_count": 8,
   "id": "64156dec",
   "metadata": {},
   "outputs": [],
   "source": [
    "# параметрами функцции является столбец - serias, название столбца датафрейма column_str, \n",
    "# название категории category в столбце column_str\n",
    "def analys_ratio_nan(serias, column_str, category):\n",
    "    ratio_category =  serias.count() / df[column_str].count()\n",
    "    ratio_nan_category =  serias.isna().sum() / df[column_str].isna().sum() \n",
    "    print(f\"Доля категории '{category}' составляет: {ratio_category:.2%}\")\n",
    "    print(f'Доля пропусков в  столбце  {column_str} в  категории {category} составляет: {ratio_nan_category:.2%}')"
   ]
  },
  {
   "cell_type": "markdown",
   "id": "f0232d47",
   "metadata": {},
   "source": [
    "Написание функции для сортировки датафрейма по определенной категории:"
   ]
  },
  {
   "cell_type": "code",
   "execution_count": 9,
   "id": "0b6ae6a7",
   "metadata": {},
   "outputs": [],
   "source": [
    "# параметрами функции является название столбца и категория в столбце по которой \n",
    "# нужно отсортиравать датафрейм\n",
    "def data_filtred(column_str, category):                           \n",
    "    try:\n",
    "        df_category=df[df[column_str] == category]\n",
    "        return    df_category                         \n",
    "    except:\n",
    "        print('Неверный тип данных')"
   ]
  },
  {
   "cell_type": "markdown",
   "id": "21d5dcd6",
   "metadata": {},
   "source": [
    "Проверка предположения, что доли пропусков зависят от типа занятости (например не предоставлена подтвержденная информация о стаже и доходе)"
   ]
  },
  {
   "cell_type": "code",
   "execution_count": 10,
   "id": "3adc7585",
   "metadata": {
    "scrolled": true
   },
   "outputs": [
    {
     "name": "stdout",
     "output_type": "stream",
     "text": [
      "Доля категории 'сотрудник' составляет: 51.75%\n",
      "Доля пропусков в  столбце  total_income в  категории сотрудник составляет: 50.83%\n",
      "Доля категории 'компаньон' составляет: 23.66%\n",
      "Доля пропусков в  столбце  total_income в  категории компаньон составляет: 23.41%\n",
      "Доля категории 'пенсионер' составляет: 17.79%\n",
      "Доля пропусков в  столбце  total_income в  категории пенсионер составляет: 19.00%\n",
      "Доля категории 'госслужащий' составляет: 6.78%\n",
      "Доля пропусков в  столбце  total_income в  категории госслужащий составляет: 6.76%\n"
     ]
    }
   ],
   "source": [
    "# дата фреймы с определенной категорией занятости\n",
    "workers = data_filtred('income_type','сотрудник')\n",
    "businessmans = data_filtred('income_type','компаньон')\n",
    "retirees = data_filtred('income_type','пенсионер')\n",
    "government_employees = data_filtred('income_type','госслужащий')\n",
    "\n",
    "# анализ пропусков в каждой категории\n",
    "analys_ratio_nan(workers['total_income'],'total_income','сотрудник')\n",
    "analys_ratio_nan(businessmans['total_income'],'total_income','компаньон')\n",
    "analys_ratio_nan(retirees['total_income'],'total_income','пенсионер')\n",
    "analys_ratio_nan(government_employees['total_income'],'total_income','госслужащий')"
   ]
  },
  {
   "cell_type": "markdown",
   "id": "92f583e0",
   "metadata": {},
   "source": [
    "Предположение не подтвердилось госслужащие имеют ту же частоту пропусков что и сотрудники."
   ]
  },
  {
   "cell_type": "markdown",
   "id": "e0ba62a8",
   "metadata": {},
   "source": [
    "Для выбора значения которым будем заменять пропуски сравним среднее значение дохода с медианным."
   ]
  },
  {
   "cell_type": "code",
   "execution_count": 11,
   "id": "2a01006a",
   "metadata": {},
   "outputs": [
    {
     "name": "stdout",
     "output_type": "stream",
     "text": [
      "Среднее значение в категории доход: 167422.30220817294\n",
      "Медианное значение в категории доход: 145017.93753253992\n"
     ]
    }
   ],
   "source": [
    "print('Среднее значение в категории доход:', df['total_income'].mean())\n",
    "print('Медианное значение в категории доход:', df['total_income'].median())"
   ]
  },
  {
   "cell_type": "markdown",
   "id": "bd52c9bb",
   "metadata": {},
   "source": [
    "Мы видим разницу в величине дохода. Среднее значение выше медианного за счет влияние клиентов с высокими доходами. По этой причине целесообразней выбрать медианное значение дохода, так как в его расчете нет влияния  отдельных клиентов с высоким доходом. "
   ]
  },
  {
   "cell_type": "markdown",
   "id": "30ba18a6",
   "metadata": {},
   "source": [
    "Проанализируем медианный доход для каждого типа занятости:"
   ]
  },
  {
   "cell_type": "code",
   "execution_count": 12,
   "id": "e4f7ef65",
   "metadata": {},
   "outputs": [
    {
     "name": "stdout",
     "output_type": "stream",
     "text": [
      "Медианный доход в категории сотрудник: 142594.39684740017\n",
      "Медианный доход в категории компаньон: 172396.00084601453\n",
      "Медианный доход в категории пенсионер: 118514.48641164352\n",
      "Медианный доход в категории госслужащий: 150447.9352830068\n"
     ]
    }
   ],
   "source": [
    "#медианное значение  по типу занятости\n",
    "workers_median = workers['total_income'].median()\n",
    "businessmans_median = businessmans['total_income'].median()\n",
    "retirees_median = retirees['total_income'].median()\n",
    "government_employees_median = government_employees['total_income'].median()\n",
    "\n",
    "print('Медианный доход в категории сотрудник:', workers['total_income'].median())\n",
    "print('Медианный доход в категории компаньон:',businessmans['total_income'].median())\n",
    "print('Медианный доход в категории пенсионер:',retirees['total_income'].median())\n",
    "print('Медианный доход в категории госслужащий:',government_employees['total_income'].median())"
   ]
  },
  {
   "cell_type": "markdown",
   "id": "a2910bb4",
   "metadata": {},
   "source": [
    "Пенсионеры имеют наименьший доход, а клиенты в категории \"компаньон\" наоборот обладают \n",
    "самыми большими доходами."
   ]
  },
  {
   "cell_type": "markdown",
   "id": "c15b195b",
   "metadata": {},
   "source": [
    "Замена пропусков на медианное значение в каждом типе занятости:"
   ]
  },
  {
   "cell_type": "code",
   "execution_count": 13,
   "id": "c68f7ec0",
   "metadata": {},
   "outputs": [],
   "source": [
    "# получение столбцов с замененными (на медианное значение) пропусками для основных типов занятости\n",
    "workers = data_filtred('income_type','сотрудник')['total_income'].fillna(workers_median)\n",
    "businessmans = data_filtred('income_type','компаньон')['total_income'].fillna(businessmans_median)\n",
    "retirees = data_filtred('income_type','пенсионер')['total_income'].fillna(retirees_median)\n",
    "government_employees = data_filtred('income_type','госслужащий')['total_income'].fillna(government_employees_median)\n",
    "\n",
    "# замена пропусков для каждой категории сотрудников\n",
    "df['total_income'] = df['total_income'].fillna(workers)\n",
    "df['total_income'] = df['total_income'].fillna(businessmans)\n",
    "df['total_income'] = df['total_income'].fillna(retirees)\n",
    "df['total_income'] = df['total_income'].fillna(government_employees)"
   ]
  },
  {
   "cell_type": "markdown",
   "id": "a5b8f0eb",
   "metadata": {},
   "source": [
    "Проверим замену в категории `total_income`:"
   ]
  },
  {
   "cell_type": "code",
   "execution_count": 14,
   "id": "afcbbe08",
   "metadata": {
    "scrolled": true
   },
   "outputs": [
    {
     "data": {
      "text/plain": [
       "0"
      ]
     },
     "execution_count": 14,
     "metadata": {},
     "output_type": "execute_result"
    }
   ],
   "source": [
    "df['total_income'].isna().sum()"
   ]
  },
  {
   "cell_type": "markdown",
   "id": "19693283",
   "metadata": {},
   "source": [
    "Замена пропусков в столбце стажа."
   ]
  },
  {
   "cell_type": "markdown",
   "id": "0280dca2",
   "metadata": {},
   "source": [
    "Проверка предположения о том, что отрицательные значение стажа работника это стаж до выхода на пенсию."
   ]
  },
  {
   "cell_type": "code",
   "execution_count": 15,
   "id": "f5fef040",
   "metadata": {},
   "outputs": [
    {
     "data": {
      "text/plain": [
       "income_type\n",
       "безработный       2\n",
       "пенсионер      3443\n",
       "Name: income_type, dtype: int64"
      ]
     },
     "execution_count": 15,
     "metadata": {},
     "output_type": "execute_result"
    }
   ],
   "source": [
    "# подсчет строк с положительным стажем\n",
    "df[df['days_employed'] > 0].groupby('income_type')['income_type'].count()"
   ]
  },
  {
   "cell_type": "markdown",
   "id": "156828c7",
   "metadata": {},
   "source": [
    "Мы видим, что только пенсионеры и безработные имеют положительный стаж, что подтверждает предположение."
   ]
  },
  {
   "cell_type": "markdown",
   "id": "643bde11",
   "metadata": {},
   "source": [
    "Проверим предположение, что у пенсионеров стаж указан в часах"
   ]
  },
  {
   "cell_type": "code",
   "execution_count": 16,
   "id": "737832ac",
   "metadata": {},
   "outputs": [
    {
     "name": "stdout",
     "output_type": "stream",
     "text": [
      "Стаж в годах: 41.7\n",
      "Средний возраст клиентов с положительным стажем: 59.1\n"
     ]
    }
   ],
   "source": [
    "df_positive_days_employed = df[df['days_employed'] > 0] # получение датафрейма с положительным стажем\n",
    "retirees_old_mean = df_positive_days_employed['dob_years'].mean() # средний возраст таких клиентов\n",
    "retirees_dob_years_mean = df_positive_days_employed['days_employed'].mean() # средняя величена положительного стажа\n",
    "print(f'Стаж в годах: {retirees_dob_years_mean/24/365:.1f}')\n",
    "print(f'Средний возраст клиентов с положительным стажем: {retirees_old_mean:.1f}')"
   ]
  },
  {
   "cell_type": "markdown",
   "id": "83a760a7",
   "metadata": {},
   "source": [
    "Возраст и стаж соответствует предположению."
   ]
  },
  {
   "cell_type": "markdown",
   "id": "f0b0e9df",
   "metadata": {},
   "source": [
    "Посмотрим на такие же данные, но для отрицательного стажа:"
   ]
  },
  {
   "cell_type": "code",
   "execution_count": 17,
   "id": "bb597b82",
   "metadata": {
    "scrolled": true
   },
   "outputs": [
    {
     "name": "stdout",
     "output_type": "stream",
     "text": [
      "Стаж в годах: -6.4\n",
      "Средний возраст клиентов с отрицательным стажем: 39.8\n"
     ]
    }
   ],
   "source": [
    "df_negative_days_employed = df[df['days_employed'] < 0] # получение датафрейма с отрицательным стажем\n",
    "others_old_mean = df_negative_days_employed['dob_years'].mean() # средний возраст таких клиентов\n",
    "others_dob_years_mean = df_negative_days_employed['days_employed'].mean() # средняя величена отицательного стажа\n",
    "\n",
    "print(f'Стаж в годах: {others_dob_years_mean/365:.1f}')\n",
    "print(f'Средний возраст клиентов с отрицательным стажем: {others_old_mean:.1f}')"
   ]
  },
  {
   "cell_type": "markdown",
   "id": "8f31f233",
   "metadata": {},
   "source": [
    "Предположение о том, что отрицательный стаж (в днях) это стаж работающих людей, а положительный (в часах) это стаж пенсионеров, выглядит обоснованно."
   ]
  },
  {
   "cell_type": "markdown",
   "id": "8cc0b215",
   "metadata": {},
   "source": [
    "Заменим пропуски стажа в категории пенсионеры:"
   ]
  },
  {
   "cell_type": "code",
   "execution_count": 18,
   "id": "8ab8fc1a",
   "metadata": {},
   "outputs": [],
   "source": [
    "# замена стажа для пенсионеров\n",
    "retirees_drop_nan = df[df['income_type']=='пенсионер']['days_employed'].fillna(retirees_dob_years_mean)\n",
    "df['days_employed']=df['days_employed'].fillna(retirees_drop_nan)\n",
    "# замена стажа для всех остальных категорий\n",
    "other_drop_nan = df[df['income_type']!='пенсионер']['days_employed'].fillna(others_dob_years_mean)\n",
    "df['days_employed']=df['days_employed'].fillna(other_drop_nan)"
   ]
  },
  {
   "cell_type": "markdown",
   "id": "0c779ed0",
   "metadata": {},
   "source": [
    "Проверка на количество пропусков:"
   ]
  },
  {
   "cell_type": "code",
   "execution_count": 19,
   "id": "76791afd",
   "metadata": {},
   "outputs": [
    {
     "data": {
      "text/plain": [
       "0"
      ]
     },
     "execution_count": 19,
     "metadata": {},
     "output_type": "execute_result"
    }
   ],
   "source": [
    "df['days_employed'].isna().sum()"
   ]
  },
  {
   "cell_type": "markdown",
   "id": "b40a8ef5",
   "metadata": {},
   "source": [
    "# Шаг 2.2 Проверка данных на аномалии и исправления."
   ]
  },
  {
   "cell_type": "markdown",
   "id": "f64a55d3",
   "metadata": {},
   "source": [
    "Сгруппируем данные столбца о количестве детей:"
   ]
  },
  {
   "cell_type": "code",
   "execution_count": 20,
   "id": "c3e47ac2",
   "metadata": {
    "scrolled": true
   },
   "outputs": [
    {
     "data": {
      "text/plain": [
       " 0     14149\n",
       " 1      4818\n",
       " 2      2055\n",
       " 3       330\n",
       " 20       76\n",
       "-1        47\n",
       " 4        41\n",
       " 5         9\n",
       "Name: children, dtype: int64"
      ]
     },
     "execution_count": 20,
     "metadata": {},
     "output_type": "execute_result"
    }
   ],
   "source": [
    "df['children'].value_counts()"
   ]
  },
  {
   "cell_type": "markdown",
   "id": "d2fde0c7",
   "metadata": {},
   "source": [
    "У некоторых клиентов количество детей равно 20 при этом в наборе данных отсутствует клиенты со значение от 6 до 19. Это указывает на явную  ошибку в данных."
   ]
  },
  {
   "cell_type": "markdown",
   "id": "810e94ec",
   "metadata": {},
   "source": [
    "Замена этого количества детей  на наиболее часто повторяющиеся значение:"
   ]
  },
  {
   "cell_type": "code",
   "execution_count": 21,
   "id": "dd500c73",
   "metadata": {},
   "outputs": [],
   "source": [
    "children_mode = int(df['children'].mode())\n",
    "df.loc[df.children == 20,'children'] = children_mode"
   ]
  },
  {
   "cell_type": "markdown",
   "id": "f317f47e",
   "metadata": {},
   "source": [
    "Проверка замены:"
   ]
  },
  {
   "cell_type": "code",
   "execution_count": 22,
   "id": "688ca7d8",
   "metadata": {},
   "outputs": [
    {
     "data": {
      "text/plain": [
       " 0    14225\n",
       " 1     4818\n",
       " 2     2055\n",
       " 3      330\n",
       "-1       47\n",
       " 4       41\n",
       " 5        9\n",
       "Name: children, dtype: int64"
      ]
     },
     "execution_count": 22,
     "metadata": {},
     "output_type": "execute_result"
    }
   ],
   "source": [
    "df['children'].value_counts()"
   ]
  },
  {
   "cell_type": "markdown",
   "id": "07433cc7",
   "metadata": {},
   "source": [
    "Проверка предположения  о том, что значение -1 обозначает когда-то наличие детей."
   ]
  },
  {
   "cell_type": "markdown",
   "id": "39cf9607",
   "metadata": {},
   "source": [
    "Для этого нужно сравнить средний возраст клиентов у которых в категории `children` стоит -1 со всеми остальными. Так как вероятно те у кого не стало детей будут в среднем старше остальных. "
   ]
  },
  {
   "cell_type": "code",
   "execution_count": 23,
   "id": "da3288be",
   "metadata": {},
   "outputs": [
    {
     "data": {
      "text/plain": [
       "42.57446808510638"
      ]
     },
     "execution_count": 23,
     "metadata": {},
     "output_type": "execute_result"
    }
   ],
   "source": [
    "df[df['children'] == -1]['dob_years'].mean()"
   ]
  },
  {
   "cell_type": "markdown",
   "id": "a6e8804c",
   "metadata": {},
   "source": [
    "Средний возраст практически не отличается, возможно, причина в том это дети с некоторыми особенностями, получающие социальную поддержку."
   ]
  },
  {
   "cell_type": "markdown",
   "id": "23fc31f9",
   "metadata": {},
   "source": [
    "Но вероятней это просто тире."
   ]
  },
  {
   "cell_type": "markdown",
   "id": "fe2d3666",
   "metadata": {},
   "source": [
    "Замена значений -1 в категории `children` на 1."
   ]
  },
  {
   "cell_type": "code",
   "execution_count": 24,
   "id": "65f15c0b",
   "metadata": {},
   "outputs": [],
   "source": [
    "df.loc[df.children == -1,'children'] = 1"
   ]
  },
  {
   "cell_type": "markdown",
   "id": "8c95fd22",
   "metadata": {},
   "source": [
    "Анализ всех возрастов клиентов."
   ]
  },
  {
   "cell_type": "code",
   "execution_count": 25,
   "id": "54759944",
   "metadata": {},
   "outputs": [
    {
     "data": {
      "text/plain": [
       "array([42, 36, 33, 32, 53, 27, 43, 50, 35, 41, 40, 65, 54, 56, 26, 48, 24,\n",
       "       21, 57, 67, 28, 63, 62, 47, 34, 68, 25, 31, 30, 20, 49, 37, 45, 61,\n",
       "       64, 44, 52, 46, 23, 38, 39, 51,  0, 59, 29, 60, 55, 58, 71, 22, 73,\n",
       "       66, 69, 19, 72, 70, 74, 75])"
      ]
     },
     "execution_count": 25,
     "metadata": {},
     "output_type": "execute_result"
    }
   ],
   "source": [
    "df['dob_years'].unique()"
   ]
  },
  {
   "cell_type": "markdown",
   "id": "f6d066e1",
   "metadata": {},
   "source": [
    "Клиенты с нулевым возрастом это явная аномалия."
   ]
  },
  {
   "cell_type": "markdown",
   "id": "33175421",
   "metadata": {},
   "source": [
    "Замена клиентов с нулевым возрастом."
   ]
  },
  {
   "cell_type": "markdown",
   "id": "f94460cb",
   "metadata": {},
   "source": [
    "Список уникальных категорий занятости для клиентов."
   ]
  },
  {
   "cell_type": "code",
   "execution_count": 26,
   "id": "e5c6fd5a",
   "metadata": {},
   "outputs": [
    {
     "data": {
      "text/plain": [
       "array(['пенсионер', 'сотрудник', 'компаньон', 'госслужащий'], dtype=object)"
      ]
     },
     "execution_count": 26,
     "metadata": {},
     "output_type": "execute_result"
    }
   ],
   "source": [
    "zero_old_unique = df[df['dob_years'] == 0]['income_type'].unique()\n",
    "zero_old_unique"
   ]
  },
  {
   "cell_type": "markdown",
   "id": "df71523f",
   "metadata": {},
   "source": [
    "Замена нулевого возраста медианным возрастом каждой категории занятости."
   ]
  },
  {
   "cell_type": "code",
   "execution_count": 27,
   "id": "30166929",
   "metadata": {},
   "outputs": [],
   "source": [
    "for employment in zero_old_unique:\n",
    "    df.loc[(df['dob_years'] == 0) & (df['income_type'] == employment),'dob_years'] = int(\n",
    "        data_filtred('income_type', employment)['dob_years'].median()) "
   ]
  },
  {
   "cell_type": "markdown",
   "id": "09e7a0e7",
   "metadata": {},
   "source": [
    "Проверка замены:"
   ]
  },
  {
   "cell_type": "code",
   "execution_count": 28,
   "id": "5fa03c35",
   "metadata": {
    "scrolled": true
   },
   "outputs": [
    {
     "data": {
      "text/plain": [
       "array([42, 36, 33, 32, 53, 27, 43, 50, 35, 41, 40, 65, 54, 56, 26, 48, 24,\n",
       "       21, 57, 67, 28, 63, 62, 47, 34, 68, 25, 31, 30, 20, 49, 37, 45, 61,\n",
       "       64, 44, 52, 46, 23, 38, 39, 51, 60, 59, 29, 55, 58, 71, 22, 73, 66,\n",
       "       69, 19, 72, 70, 74, 75])"
      ]
     },
     "execution_count": 28,
     "metadata": {},
     "output_type": "execute_result"
    }
   ],
   "source": [
    "df['dob_years'].unique()"
   ]
  },
  {
   "cell_type": "markdown",
   "id": "1de3e195",
   "metadata": {},
   "source": [
    "Просмотр пола:"
   ]
  },
  {
   "cell_type": "code",
   "execution_count": 29,
   "id": "e23a1ff7",
   "metadata": {},
   "outputs": [
    {
     "data": {
      "text/plain": [
       "F      14236\n",
       "M       7288\n",
       "XNA        1\n",
       "Name: gender, dtype: int64"
      ]
     },
     "execution_count": 29,
     "metadata": {},
     "output_type": "execute_result"
    }
   ],
   "source": [
    "df['gender'].value_counts()"
   ]
  },
  {
   "cell_type": "markdown",
   "id": "982974e8",
   "metadata": {},
   "source": [
    "Две трети заемщиков женщины. Также есть один клиент неопределенного пола. Возможно, что клиент сам себя так идентифицировал, так как при вводе информации  о поле ставят одну букву, а тут не одна буква, поэтому человек заполняющий графу пола не мог ввести три буквы. "
   ]
  },
  {
   "cell_type": "markdown",
   "id": "efa06a83",
   "metadata": {},
   "source": [
    "Просмотр этого клиента:"
   ]
  },
  {
   "cell_type": "code",
   "execution_count": 30,
   "id": "1b3b4707",
   "metadata": {
    "scrolled": true
   },
   "outputs": [
    {
     "data": {
      "text/html": [
       "<div>\n",
       "<style scoped>\n",
       "    .dataframe tbody tr th:only-of-type {\n",
       "        vertical-align: middle;\n",
       "    }\n",
       "\n",
       "    .dataframe tbody tr th {\n",
       "        vertical-align: top;\n",
       "    }\n",
       "\n",
       "    .dataframe thead th {\n",
       "        text-align: right;\n",
       "    }\n",
       "</style>\n",
       "<table border=\"1\" class=\"dataframe\">\n",
       "  <thead>\n",
       "    <tr style=\"text-align: right;\">\n",
       "      <th></th>\n",
       "      <th>children</th>\n",
       "      <th>days_employed</th>\n",
       "      <th>dob_years</th>\n",
       "      <th>education</th>\n",
       "      <th>education_id</th>\n",
       "      <th>family_status</th>\n",
       "      <th>family_status_id</th>\n",
       "      <th>gender</th>\n",
       "      <th>income_type</th>\n",
       "      <th>debt</th>\n",
       "      <th>total_income</th>\n",
       "      <th>purpose</th>\n",
       "    </tr>\n",
       "  </thead>\n",
       "  <tbody>\n",
       "    <tr>\n",
       "      <td>10701</td>\n",
       "      <td>0</td>\n",
       "      <td>-2358.600502</td>\n",
       "      <td>24</td>\n",
       "      <td>неоконченное высшее</td>\n",
       "      <td>2</td>\n",
       "      <td>гражданский брак</td>\n",
       "      <td>1</td>\n",
       "      <td>XNA</td>\n",
       "      <td>компаньон</td>\n",
       "      <td>0</td>\n",
       "      <td>203905.157261</td>\n",
       "      <td>покупка недвижимости</td>\n",
       "    </tr>\n",
       "  </tbody>\n",
       "</table>\n",
       "</div>"
      ],
      "text/plain": [
       "       children  days_employed  dob_years            education  education_id  \\\n",
       "10701         0   -2358.600502         24  неоконченное высшее             2   \n",
       "\n",
       "          family_status  family_status_id gender income_type  debt  \\\n",
       "10701  гражданский брак                 1    XNA   компаньон     0   \n",
       "\n",
       "        total_income               purpose  \n",
       "10701  203905.157261  покупка недвижимости  "
      ]
     },
     "execution_count": 30,
     "metadata": {},
     "output_type": "execute_result"
    }
   ],
   "source": [
    "df[df['gender'] == 'XNA']"
   ]
  },
  {
   "cell_type": "markdown",
   "id": "bc3cacd5",
   "metadata": {},
   "source": [
    "Заемщик молод, плюс у него отсутствуют дети. Чаще всего молодёжь  себя идентифицирует полом отличным от мужчины и женщины. Вероятно, клиент сам себя так идентифицировал. Гражданский брак также указывает на это. "
   ]
  },
  {
   "cell_type": "markdown",
   "id": "4c171028",
   "metadata": {},
   "source": [
    "В любом случае один клиент не может повлиять на результаты общих выводов."
   ]
  },
  {
   "cell_type": "markdown",
   "id": "a494ee88",
   "metadata": {},
   "source": [
    "# Шаг 2.3. Изменение типов данных."
   ]
  },
  {
   "cell_type": "markdown",
   "id": "c06e7513",
   "metadata": {},
   "source": [
    "В категории `total_income` вещественный тип заменим на целочисленный, так как многочисленные знаки после запятой не информативны."
   ]
  },
  {
   "cell_type": "code",
   "execution_count": 31,
   "id": "c44daab0",
   "metadata": {},
   "outputs": [],
   "source": [
    "df['total_income'] = df['total_income'].astype('int')"
   ]
  },
  {
   "cell_type": "markdown",
   "id": "8d960b24",
   "metadata": {},
   "source": [
    "# Шаг 2.4. Удаление дубликатов."
   ]
  },
  {
   "cell_type": "markdown",
   "id": "fa7c0b4d",
   "metadata": {},
   "source": [
    "Проверка на наличие неявных дубликатов в столбце `family_status`:"
   ]
  },
  {
   "cell_type": "code",
   "execution_count": 32,
   "id": "0d8fb36a",
   "metadata": {},
   "outputs": [
    {
     "data": {
      "text/plain": [
       "array(['женат / замужем', 'гражданский брак', 'вдовец / вдова',\n",
       "       'в разводе', 'Не женат / не замужем'], dtype=object)"
      ]
     },
     "execution_count": 32,
     "metadata": {},
     "output_type": "execute_result"
    }
   ],
   "source": [
    "df['family_status'].unique()"
   ]
  },
  {
   "cell_type": "markdown",
   "id": "82a157cd",
   "metadata": {},
   "source": [
    "Здесь нет неявных дубликатов, но можно привести переменные к одинаковоми стилю"
   ]
  },
  {
   "cell_type": "code",
   "execution_count": 33,
   "id": "4874a434",
   "metadata": {},
   "outputs": [],
   "source": [
    "df['family_status'] = df['family_status'].str.lower() # переведем все переменные  в нижний регистр"
   ]
  },
  {
   "cell_type": "markdown",
   "id": "373d32e1",
   "metadata": {},
   "source": [
    "Проверка категории образования на наличие неявных дубликатов"
   ]
  },
  {
   "cell_type": "code",
   "execution_count": 34,
   "id": "356a792e",
   "metadata": {},
   "outputs": [
    {
     "data": {
      "text/plain": [
       "array(['высшее', 'среднее', 'Среднее', 'СРЕДНЕЕ', 'ВЫСШЕЕ',\n",
       "       'неоконченное высшее', 'начальное', 'Высшее',\n",
       "       'НЕОКОНЧЕННОЕ ВЫСШЕЕ', 'Неоконченное высшее', 'НАЧАЛЬНОЕ',\n",
       "       'Начальное', 'Ученая степень', 'УЧЕНАЯ СТЕПЕНЬ', 'ученая степень'],\n",
       "      dtype=object)"
      ]
     },
     "execution_count": 34,
     "metadata": {},
     "output_type": "execute_result"
    }
   ],
   "source": [
    "df['education'].unique()"
   ]
  },
  {
   "cell_type": "markdown",
   "id": "6f2873e5",
   "metadata": {},
   "source": [
    "В переменных  нет выраженного одинаково стиля (присутствуют разные регистры)."
   ]
  },
  {
   "cell_type": "markdown",
   "id": "1e50bf6c",
   "metadata": {},
   "source": [
    "Замена на нижний регистр все значения переменных. И проверка на уникальные значения."
   ]
  },
  {
   "cell_type": "code",
   "execution_count": 35,
   "id": "e9ed0f44",
   "metadata": {
    "scrolled": false
   },
   "outputs": [
    {
     "data": {
      "text/plain": [
       "array(['высшее', 'среднее', 'неоконченное высшее', 'начальное',\n",
       "       'ученая степень'], dtype=object)"
      ]
     },
     "execution_count": 35,
     "metadata": {},
     "output_type": "execute_result"
    }
   ],
   "source": [
    "df['education'] = df['education'].str.lower()\n",
    "df['education'].unique()"
   ]
  },
  {
   "cell_type": "markdown",
   "id": "fff60b92",
   "metadata": {},
   "source": [
    "Проверка на наличние явных дубликатов."
   ]
  },
  {
   "cell_type": "code",
   "execution_count": 36,
   "id": "f20fe49c",
   "metadata": {},
   "outputs": [
    {
     "data": {
      "text/plain": [
       "71"
      ]
     },
     "execution_count": 36,
     "metadata": {},
     "output_type": "execute_result"
    }
   ],
   "source": [
    "df.duplicated().sum()"
   ]
  },
  {
   "cell_type": "markdown",
   "id": "9557a9d8",
   "metadata": {},
   "source": [
    "Удалиние явных дубликатов и проверка."
   ]
  },
  {
   "cell_type": "code",
   "execution_count": 37,
   "id": "72e04803",
   "metadata": {},
   "outputs": [
    {
     "data": {
      "text/plain": [
       "0"
      ]
     },
     "execution_count": 37,
     "metadata": {},
     "output_type": "execute_result"
    }
   ],
   "source": [
    "df = df.drop_duplicates()\n",
    "df.duplicated().sum()"
   ]
  },
  {
   "cell_type": "markdown",
   "id": "8655bcc6",
   "metadata": {},
   "source": [
    "Проверка `purpose` на наличие неявных дубликатов:"
   ]
  },
  {
   "cell_type": "code",
   "execution_count": 38,
   "id": "4463847a",
   "metadata": {},
   "outputs": [
    {
     "data": {
      "text/plain": [
       "array(['покупка жилья', 'приобретение автомобиля',\n",
       "       'дополнительное образование', 'сыграть свадьбу',\n",
       "       'операции с жильем', 'образование', 'на проведение свадьбы',\n",
       "       'покупка жилья для семьи', 'покупка недвижимости',\n",
       "       'покупка коммерческой недвижимости', 'покупка жилой недвижимости',\n",
       "       'строительство собственной недвижимости', 'недвижимость',\n",
       "       'строительство недвижимости', 'на покупку подержанного автомобиля',\n",
       "       'на покупку своего автомобиля',\n",
       "       'операции с коммерческой недвижимостью',\n",
       "       'строительство жилой недвижимости', 'жилье',\n",
       "       'операции со своей недвижимостью', 'автомобили',\n",
       "       'заняться образованием', 'сделка с подержанным автомобилем',\n",
       "       'получение образования', 'автомобиль', 'свадьба',\n",
       "       'получение дополнительного образования', 'покупка своего жилья',\n",
       "       'операции с недвижимостью', 'получение высшего образования',\n",
       "       'свой автомобиль', 'сделка с автомобилем',\n",
       "       'профильное образование', 'высшее образование',\n",
       "       'покупка жилья для сдачи', 'на покупку автомобиля', 'ремонт жилью',\n",
       "       'заняться высшим образованием'], dtype=object)"
      ]
     },
     "execution_count": 38,
     "metadata": {},
     "output_type": "execute_result"
    }
   ],
   "source": [
    "df['purpose'].unique()"
   ]
  },
  {
   "cell_type": "markdown",
   "id": "39df7108",
   "metadata": {},
   "source": [
    "Среди целей нет абсолютно совпадающих категорий, но некоторые категории смежные."
   ]
  },
  {
   "cell_type": "markdown",
   "id": "cfe18273",
   "metadata": {},
   "source": [
    "# Шаг 2.5. Формирование дополнительных датафреймов словарей, декомпозиция исходного датафрейма."
   ]
  },
  {
   "cell_type": "markdown",
   "id": "bb702a40",
   "metadata": {},
   "source": [
    "Создание датафрейма словаря для категории `education`:"
   ]
  },
  {
   "cell_type": "code",
   "execution_count": 39,
   "id": "14d5b7ac",
   "metadata": {},
   "outputs": [
    {
     "data": {
      "text/html": [
       "<div>\n",
       "<style scoped>\n",
       "    .dataframe tbody tr th:only-of-type {\n",
       "        vertical-align: middle;\n",
       "    }\n",
       "\n",
       "    .dataframe tbody tr th {\n",
       "        vertical-align: top;\n",
       "    }\n",
       "\n",
       "    .dataframe thead th {\n",
       "        text-align: right;\n",
       "    }\n",
       "</style>\n",
       "<table border=\"1\" class=\"dataframe\">\n",
       "  <thead>\n",
       "    <tr style=\"text-align: right;\">\n",
       "      <th></th>\n",
       "      <th>education</th>\n",
       "      <th>education_id</th>\n",
       "    </tr>\n",
       "  </thead>\n",
       "  <tbody>\n",
       "    <tr>\n",
       "      <td>0</td>\n",
       "      <td>высшее</td>\n",
       "      <td>0</td>\n",
       "    </tr>\n",
       "    <tr>\n",
       "      <td>1</td>\n",
       "      <td>среднее</td>\n",
       "      <td>1</td>\n",
       "    </tr>\n",
       "    <tr>\n",
       "      <td>2</td>\n",
       "      <td>неоконченное высшее</td>\n",
       "      <td>2</td>\n",
       "    </tr>\n",
       "    <tr>\n",
       "      <td>3</td>\n",
       "      <td>начальное</td>\n",
       "      <td>3</td>\n",
       "    </tr>\n",
       "    <tr>\n",
       "      <td>4</td>\n",
       "      <td>ученая степень</td>\n",
       "      <td>4</td>\n",
       "    </tr>\n",
       "  </tbody>\n",
       "</table>\n",
       "</div>"
      ],
      "text/plain": [
       "             education  education_id\n",
       "0               высшее             0\n",
       "1              среднее             1\n",
       "2  неоконченное высшее             2\n",
       "3            начальное             3\n",
       "4       ученая степень             4"
      ]
     },
     "execution_count": 39,
     "metadata": {},
     "output_type": "execute_result"
    }
   ],
   "source": [
    "education_dict = df[['education','education_id']].drop_duplicates().reset_index(drop=True)\n",
    "education_dict"
   ]
  },
  {
   "cell_type": "markdown",
   "id": "6aba0df7",
   "metadata": {},
   "source": [
    "Создание датафрейма словаря для категории `family_status`:"
   ]
  },
  {
   "cell_type": "code",
   "execution_count": 40,
   "id": "88003f80",
   "metadata": {},
   "outputs": [
    {
     "data": {
      "text/html": [
       "<div>\n",
       "<style scoped>\n",
       "    .dataframe tbody tr th:only-of-type {\n",
       "        vertical-align: middle;\n",
       "    }\n",
       "\n",
       "    .dataframe tbody tr th {\n",
       "        vertical-align: top;\n",
       "    }\n",
       "\n",
       "    .dataframe thead th {\n",
       "        text-align: right;\n",
       "    }\n",
       "</style>\n",
       "<table border=\"1\" class=\"dataframe\">\n",
       "  <thead>\n",
       "    <tr style=\"text-align: right;\">\n",
       "      <th></th>\n",
       "      <th>family_status</th>\n",
       "      <th>family_status_id</th>\n",
       "    </tr>\n",
       "  </thead>\n",
       "  <tbody>\n",
       "    <tr>\n",
       "      <td>0</td>\n",
       "      <td>женат / замужем</td>\n",
       "      <td>0</td>\n",
       "    </tr>\n",
       "    <tr>\n",
       "      <td>1</td>\n",
       "      <td>гражданский брак</td>\n",
       "      <td>1</td>\n",
       "    </tr>\n",
       "    <tr>\n",
       "      <td>2</td>\n",
       "      <td>вдовец / вдова</td>\n",
       "      <td>2</td>\n",
       "    </tr>\n",
       "    <tr>\n",
       "      <td>3</td>\n",
       "      <td>в разводе</td>\n",
       "      <td>3</td>\n",
       "    </tr>\n",
       "    <tr>\n",
       "      <td>4</td>\n",
       "      <td>не женат / не замужем</td>\n",
       "      <td>4</td>\n",
       "    </tr>\n",
       "  </tbody>\n",
       "</table>\n",
       "</div>"
      ],
      "text/plain": [
       "           family_status  family_status_id\n",
       "0        женат / замужем                 0\n",
       "1       гражданский брак                 1\n",
       "2         вдовец / вдова                 2\n",
       "3              в разводе                 3\n",
       "4  не женат / не замужем                 4"
      ]
     },
     "execution_count": 40,
     "metadata": {},
     "output_type": "execute_result"
    }
   ],
   "source": [
    "family_dict = df[['family_status','family_status_id']].drop_duplicates().reset_index(drop=True)\n",
    "family_dict"
   ]
  },
  {
   "cell_type": "markdown",
   "id": "186cf221",
   "metadata": {},
   "source": [
    "Декомпозиция датафрейма путем удаления столбцов образования и семейного статуса"
   ]
  },
  {
   "cell_type": "code",
   "execution_count": 41,
   "id": "8d0daf4e",
   "metadata": {},
   "outputs": [],
   "source": [
    "df = df.drop(['family_status','education'],axis=1)"
   ]
  },
  {
   "cell_type": "markdown",
   "id": "70fd8214",
   "metadata": {},
   "source": [
    "Просмотр датафрейма"
   ]
  },
  {
   "cell_type": "code",
   "execution_count": 42,
   "id": "2c03888e",
   "metadata": {
    "scrolled": true
   },
   "outputs": [
    {
     "data": {
      "text/html": [
       "<div>\n",
       "<style scoped>\n",
       "    .dataframe tbody tr th:only-of-type {\n",
       "        vertical-align: middle;\n",
       "    }\n",
       "\n",
       "    .dataframe tbody tr th {\n",
       "        vertical-align: top;\n",
       "    }\n",
       "\n",
       "    .dataframe thead th {\n",
       "        text-align: right;\n",
       "    }\n",
       "</style>\n",
       "<table border=\"1\" class=\"dataframe\">\n",
       "  <thead>\n",
       "    <tr style=\"text-align: right;\">\n",
       "      <th></th>\n",
       "      <th>children</th>\n",
       "      <th>days_employed</th>\n",
       "      <th>dob_years</th>\n",
       "      <th>education_id</th>\n",
       "      <th>family_status_id</th>\n",
       "      <th>gender</th>\n",
       "      <th>income_type</th>\n",
       "      <th>debt</th>\n",
       "      <th>total_income</th>\n",
       "      <th>purpose</th>\n",
       "    </tr>\n",
       "  </thead>\n",
       "  <tbody>\n",
       "    <tr>\n",
       "      <td>0</td>\n",
       "      <td>1</td>\n",
       "      <td>-8437.673028</td>\n",
       "      <td>42</td>\n",
       "      <td>0</td>\n",
       "      <td>0</td>\n",
       "      <td>F</td>\n",
       "      <td>сотрудник</td>\n",
       "      <td>0</td>\n",
       "      <td>253875</td>\n",
       "      <td>покупка жилья</td>\n",
       "    </tr>\n",
       "    <tr>\n",
       "      <td>1</td>\n",
       "      <td>1</td>\n",
       "      <td>-4024.803754</td>\n",
       "      <td>36</td>\n",
       "      <td>1</td>\n",
       "      <td>0</td>\n",
       "      <td>F</td>\n",
       "      <td>сотрудник</td>\n",
       "      <td>0</td>\n",
       "      <td>112080</td>\n",
       "      <td>приобретение автомобиля</td>\n",
       "    </tr>\n",
       "    <tr>\n",
       "      <td>2</td>\n",
       "      <td>0</td>\n",
       "      <td>-5623.422610</td>\n",
       "      <td>33</td>\n",
       "      <td>1</td>\n",
       "      <td>0</td>\n",
       "      <td>M</td>\n",
       "      <td>сотрудник</td>\n",
       "      <td>0</td>\n",
       "      <td>145885</td>\n",
       "      <td>покупка жилья</td>\n",
       "    </tr>\n",
       "    <tr>\n",
       "      <td>3</td>\n",
       "      <td>3</td>\n",
       "      <td>-4124.747207</td>\n",
       "      <td>32</td>\n",
       "      <td>1</td>\n",
       "      <td>0</td>\n",
       "      <td>M</td>\n",
       "      <td>сотрудник</td>\n",
       "      <td>0</td>\n",
       "      <td>267628</td>\n",
       "      <td>дополнительное образование</td>\n",
       "    </tr>\n",
       "    <tr>\n",
       "      <td>4</td>\n",
       "      <td>0</td>\n",
       "      <td>340266.072047</td>\n",
       "      <td>53</td>\n",
       "      <td>1</td>\n",
       "      <td>1</td>\n",
       "      <td>F</td>\n",
       "      <td>пенсионер</td>\n",
       "      <td>0</td>\n",
       "      <td>158616</td>\n",
       "      <td>сыграть свадьбу</td>\n",
       "    </tr>\n",
       "  </tbody>\n",
       "</table>\n",
       "</div>"
      ],
      "text/plain": [
       "   children  days_employed  dob_years  education_id  family_status_id gender  \\\n",
       "0         1   -8437.673028         42             0                 0      F   \n",
       "1         1   -4024.803754         36             1                 0      F   \n",
       "2         0   -5623.422610         33             1                 0      M   \n",
       "3         3   -4124.747207         32             1                 0      M   \n",
       "4         0  340266.072047         53             1                 1      F   \n",
       "\n",
       "  income_type  debt  total_income                     purpose  \n",
       "0   сотрудник     0        253875               покупка жилья  \n",
       "1   сотрудник     0        112080     приобретение автомобиля  \n",
       "2   сотрудник     0        145885               покупка жилья  \n",
       "3   сотрудник     0        267628  дополнительное образование  \n",
       "4   пенсионер     0        158616             сыграть свадьбу  "
      ]
     },
     "execution_count": 42,
     "metadata": {},
     "output_type": "execute_result"
    }
   ],
   "source": [
    "df.head()"
   ]
  },
  {
   "cell_type": "markdown",
   "id": "1b74ef11",
   "metadata": {},
   "source": [
    "# Шаг 2.6. Категоризация дохода."
   ]
  },
  {
   "cell_type": "markdown",
   "id": "637095be",
   "metadata": {},
   "source": [
    "Функция для категоризации дохода"
   ]
  },
  {
   "cell_type": "code",
   "execution_count": 43,
   "id": "49a75f42",
   "metadata": {},
   "outputs": [],
   "source": [
    "# параметр функции - целочисленный доход income\n",
    "# возвращаемый параметр - категориальная переменная\n",
    "def income_group(income):\n",
    "    try :\n",
    "        if income <= 30000:\n",
    "            return 'E'\n",
    "        if income <= 50000:\n",
    "            return 'D'\n",
    "        if income <= 200000:\n",
    "            return 'C'\n",
    "        if income <= 1000000:\n",
    "            return 'B'\n",
    "        if income >= 1000001:\n",
    "            return 'A'\n",
    "    except:\n",
    "        print('Неверный тип данных')"
   ]
  },
  {
   "cell_type": "markdown",
   "id": "73e76c81",
   "metadata": {},
   "source": [
    "Создание нового столбца `total_income_category` с категориальной переменной:"
   ]
  },
  {
   "cell_type": "code",
   "execution_count": 44,
   "id": "2b1a1c98",
   "metadata": {},
   "outputs": [
    {
     "data": {
      "text/html": [
       "<div>\n",
       "<style scoped>\n",
       "    .dataframe tbody tr th:only-of-type {\n",
       "        vertical-align: middle;\n",
       "    }\n",
       "\n",
       "    .dataframe tbody tr th {\n",
       "        vertical-align: top;\n",
       "    }\n",
       "\n",
       "    .dataframe thead th {\n",
       "        text-align: right;\n",
       "    }\n",
       "</style>\n",
       "<table border=\"1\" class=\"dataframe\">\n",
       "  <thead>\n",
       "    <tr style=\"text-align: right;\">\n",
       "      <th></th>\n",
       "      <th>children</th>\n",
       "      <th>days_employed</th>\n",
       "      <th>dob_years</th>\n",
       "      <th>education_id</th>\n",
       "      <th>family_status_id</th>\n",
       "      <th>gender</th>\n",
       "      <th>income_type</th>\n",
       "      <th>debt</th>\n",
       "      <th>total_income</th>\n",
       "      <th>purpose</th>\n",
       "      <th>total_income_category</th>\n",
       "    </tr>\n",
       "  </thead>\n",
       "  <tbody>\n",
       "    <tr>\n",
       "      <td>0</td>\n",
       "      <td>1</td>\n",
       "      <td>-8437.673028</td>\n",
       "      <td>42</td>\n",
       "      <td>0</td>\n",
       "      <td>0</td>\n",
       "      <td>F</td>\n",
       "      <td>сотрудник</td>\n",
       "      <td>0</td>\n",
       "      <td>253875</td>\n",
       "      <td>покупка жилья</td>\n",
       "      <td>B</td>\n",
       "    </tr>\n",
       "    <tr>\n",
       "      <td>1</td>\n",
       "      <td>1</td>\n",
       "      <td>-4024.803754</td>\n",
       "      <td>36</td>\n",
       "      <td>1</td>\n",
       "      <td>0</td>\n",
       "      <td>F</td>\n",
       "      <td>сотрудник</td>\n",
       "      <td>0</td>\n",
       "      <td>112080</td>\n",
       "      <td>приобретение автомобиля</td>\n",
       "      <td>C</td>\n",
       "    </tr>\n",
       "    <tr>\n",
       "      <td>2</td>\n",
       "      <td>0</td>\n",
       "      <td>-5623.422610</td>\n",
       "      <td>33</td>\n",
       "      <td>1</td>\n",
       "      <td>0</td>\n",
       "      <td>M</td>\n",
       "      <td>сотрудник</td>\n",
       "      <td>0</td>\n",
       "      <td>145885</td>\n",
       "      <td>покупка жилья</td>\n",
       "      <td>C</td>\n",
       "    </tr>\n",
       "    <tr>\n",
       "      <td>3</td>\n",
       "      <td>3</td>\n",
       "      <td>-4124.747207</td>\n",
       "      <td>32</td>\n",
       "      <td>1</td>\n",
       "      <td>0</td>\n",
       "      <td>M</td>\n",
       "      <td>сотрудник</td>\n",
       "      <td>0</td>\n",
       "      <td>267628</td>\n",
       "      <td>дополнительное образование</td>\n",
       "      <td>B</td>\n",
       "    </tr>\n",
       "    <tr>\n",
       "      <td>4</td>\n",
       "      <td>0</td>\n",
       "      <td>340266.072047</td>\n",
       "      <td>53</td>\n",
       "      <td>1</td>\n",
       "      <td>1</td>\n",
       "      <td>F</td>\n",
       "      <td>пенсионер</td>\n",
       "      <td>0</td>\n",
       "      <td>158616</td>\n",
       "      <td>сыграть свадьбу</td>\n",
       "      <td>C</td>\n",
       "    </tr>\n",
       "  </tbody>\n",
       "</table>\n",
       "</div>"
      ],
      "text/plain": [
       "   children  days_employed  dob_years  education_id  family_status_id gender  \\\n",
       "0         1   -8437.673028         42             0                 0      F   \n",
       "1         1   -4024.803754         36             1                 0      F   \n",
       "2         0   -5623.422610         33             1                 0      M   \n",
       "3         3   -4124.747207         32             1                 0      M   \n",
       "4         0  340266.072047         53             1                 1      F   \n",
       "\n",
       "  income_type  debt  total_income                     purpose  \\\n",
       "0   сотрудник     0        253875               покупка жилья   \n",
       "1   сотрудник     0        112080     приобретение автомобиля   \n",
       "2   сотрудник     0        145885               покупка жилья   \n",
       "3   сотрудник     0        267628  дополнительное образование   \n",
       "4   пенсионер     0        158616             сыграть свадьбу   \n",
       "\n",
       "  total_income_category  \n",
       "0                     B  \n",
       "1                     C  \n",
       "2                     C  \n",
       "3                     B  \n",
       "4                     C  "
      ]
     },
     "execution_count": 44,
     "metadata": {},
     "output_type": "execute_result"
    }
   ],
   "source": [
    "df['total_income_category'] = df['total_income'].apply(income_group)\n",
    "df.head()"
   ]
  },
  {
   "cell_type": "markdown",
   "id": "17b80c37",
   "metadata": {},
   "source": [
    "# Шаг 2.7. Категоризация целей кредита."
   ]
  },
  {
   "cell_type": "markdown",
   "id": "8e07c655",
   "metadata": {},
   "source": [
    "Функция, обобщающая цель кредита исходя из большого количества смежных целей:"
   ]
  },
  {
   "cell_type": "code",
   "execution_count": 45,
   "id": "86f6e3ce",
   "metadata": {},
   "outputs": [],
   "source": [
    "# параметром функции является строка, функция по вхождению подстроки в строке аргумента возвращает обобщенную категорию\n",
    "def purpose_operation(purpose):\n",
    "    if purpose.find('автомобил') >= 0:\n",
    "        return 'операции с автомобилем'\n",
    "    if purpose.find('жиль') >= 0  or purpose.find('недвижимост') >= 0:\n",
    "        return 'операции с недвижимостью'\n",
    "    if purpose.find('свадьб') >= 0:\n",
    "        return 'проведение свадьбы'\n",
    "    if purpose.find('образовани') >= 0:\n",
    "        return 'получение образования'\n",
    "    else:\n",
    "        return 'неустановленая цель'"
   ]
  },
  {
   "cell_type": "markdown",
   "id": "9261f9da",
   "metadata": {},
   "source": [
    "Добавление нового столбца с обобщенной категорией целей:"
   ]
  },
  {
   "cell_type": "code",
   "execution_count": 46,
   "id": "f2ca628a",
   "metadata": {
    "scrolled": true
   },
   "outputs": [
    {
     "data": {
      "text/html": [
       "<div>\n",
       "<style scoped>\n",
       "    .dataframe tbody tr th:only-of-type {\n",
       "        vertical-align: middle;\n",
       "    }\n",
       "\n",
       "    .dataframe tbody tr th {\n",
       "        vertical-align: top;\n",
       "    }\n",
       "\n",
       "    .dataframe thead th {\n",
       "        text-align: right;\n",
       "    }\n",
       "</style>\n",
       "<table border=\"1\" class=\"dataframe\">\n",
       "  <thead>\n",
       "    <tr style=\"text-align: right;\">\n",
       "      <th></th>\n",
       "      <th>children</th>\n",
       "      <th>days_employed</th>\n",
       "      <th>dob_years</th>\n",
       "      <th>education_id</th>\n",
       "      <th>family_status_id</th>\n",
       "      <th>gender</th>\n",
       "      <th>income_type</th>\n",
       "      <th>debt</th>\n",
       "      <th>total_income</th>\n",
       "      <th>purpose</th>\n",
       "      <th>total_income_category</th>\n",
       "      <th>purpose_category</th>\n",
       "    </tr>\n",
       "  </thead>\n",
       "  <tbody>\n",
       "    <tr>\n",
       "      <td>0</td>\n",
       "      <td>1</td>\n",
       "      <td>-8437.673028</td>\n",
       "      <td>42</td>\n",
       "      <td>0</td>\n",
       "      <td>0</td>\n",
       "      <td>F</td>\n",
       "      <td>сотрудник</td>\n",
       "      <td>0</td>\n",
       "      <td>253875</td>\n",
       "      <td>покупка жилья</td>\n",
       "      <td>B</td>\n",
       "      <td>операции с недвижимостью</td>\n",
       "    </tr>\n",
       "    <tr>\n",
       "      <td>1</td>\n",
       "      <td>1</td>\n",
       "      <td>-4024.803754</td>\n",
       "      <td>36</td>\n",
       "      <td>1</td>\n",
       "      <td>0</td>\n",
       "      <td>F</td>\n",
       "      <td>сотрудник</td>\n",
       "      <td>0</td>\n",
       "      <td>112080</td>\n",
       "      <td>приобретение автомобиля</td>\n",
       "      <td>C</td>\n",
       "      <td>операции с автомобилем</td>\n",
       "    </tr>\n",
       "    <tr>\n",
       "      <td>2</td>\n",
       "      <td>0</td>\n",
       "      <td>-5623.422610</td>\n",
       "      <td>33</td>\n",
       "      <td>1</td>\n",
       "      <td>0</td>\n",
       "      <td>M</td>\n",
       "      <td>сотрудник</td>\n",
       "      <td>0</td>\n",
       "      <td>145885</td>\n",
       "      <td>покупка жилья</td>\n",
       "      <td>C</td>\n",
       "      <td>операции с недвижимостью</td>\n",
       "    </tr>\n",
       "    <tr>\n",
       "      <td>3</td>\n",
       "      <td>3</td>\n",
       "      <td>-4124.747207</td>\n",
       "      <td>32</td>\n",
       "      <td>1</td>\n",
       "      <td>0</td>\n",
       "      <td>M</td>\n",
       "      <td>сотрудник</td>\n",
       "      <td>0</td>\n",
       "      <td>267628</td>\n",
       "      <td>дополнительное образование</td>\n",
       "      <td>B</td>\n",
       "      <td>получение образования</td>\n",
       "    </tr>\n",
       "    <tr>\n",
       "      <td>4</td>\n",
       "      <td>0</td>\n",
       "      <td>340266.072047</td>\n",
       "      <td>53</td>\n",
       "      <td>1</td>\n",
       "      <td>1</td>\n",
       "      <td>F</td>\n",
       "      <td>пенсионер</td>\n",
       "      <td>0</td>\n",
       "      <td>158616</td>\n",
       "      <td>сыграть свадьбу</td>\n",
       "      <td>C</td>\n",
       "      <td>проведение свадьбы</td>\n",
       "    </tr>\n",
       "  </tbody>\n",
       "</table>\n",
       "</div>"
      ],
      "text/plain": [
       "   children  days_employed  dob_years  education_id  family_status_id gender  \\\n",
       "0         1   -8437.673028         42             0                 0      F   \n",
       "1         1   -4024.803754         36             1                 0      F   \n",
       "2         0   -5623.422610         33             1                 0      M   \n",
       "3         3   -4124.747207         32             1                 0      M   \n",
       "4         0  340266.072047         53             1                 1      F   \n",
       "\n",
       "  income_type  debt  total_income                     purpose  \\\n",
       "0   сотрудник     0        253875               покупка жилья   \n",
       "1   сотрудник     0        112080     приобретение автомобиля   \n",
       "2   сотрудник     0        145885               покупка жилья   \n",
       "3   сотрудник     0        267628  дополнительное образование   \n",
       "4   пенсионер     0        158616             сыграть свадьбу   \n",
       "\n",
       "  total_income_category          purpose_category  \n",
       "0                     B  операции с недвижимостью  \n",
       "1                     C    операции с автомобилем  \n",
       "2                     C  операции с недвижимостью  \n",
       "3                     B     получение образования  \n",
       "4                     C        проведение свадьбы  "
      ]
     },
     "execution_count": 46,
     "metadata": {},
     "output_type": "execute_result"
    }
   ],
   "source": [
    "df['purpose_category'] = df['purpose'].apply(purpose_operation)\n",
    "df.head()"
   ]
  },
  {
   "cell_type": "markdown",
   "id": "25d6c8fd",
   "metadata": {},
   "source": [
    "# Ответы на вопросы."
   ]
  },
  {
   "cell_type": "markdown",
   "id": "7c13cda0",
   "metadata": {},
   "source": [
    "Сводная таблица зависимости уровня дохода и задолжности:"
   ]
  },
  {
   "cell_type": "code",
   "execution_count": 47,
   "id": "6c0a205e",
   "metadata": {},
   "outputs": [
    {
     "data": {
      "text/html": [
       "<div>\n",
       "<style scoped>\n",
       "    .dataframe tbody tr th:only-of-type {\n",
       "        vertical-align: middle;\n",
       "    }\n",
       "\n",
       "    .dataframe tbody tr th {\n",
       "        vertical-align: top;\n",
       "    }\n",
       "\n",
       "    .dataframe thead tr th {\n",
       "        text-align: left;\n",
       "    }\n",
       "\n",
       "    .dataframe thead tr:last-of-type th {\n",
       "        text-align: right;\n",
       "    }\n",
       "</style>\n",
       "<table border=\"1\" class=\"dataframe\">\n",
       "  <thead>\n",
       "    <tr>\n",
       "      <th></th>\n",
       "      <th colspan=\"2\" halign=\"left\">debt</th>\n",
       "      <th>dob_years</th>\n",
       "    </tr>\n",
       "    <tr>\n",
       "      <th></th>\n",
       "      <th>len</th>\n",
       "      <th>mean</th>\n",
       "      <th>mean</th>\n",
       "    </tr>\n",
       "    <tr>\n",
       "      <th>total_income_category</th>\n",
       "      <th></th>\n",
       "      <th></th>\n",
       "      <th></th>\n",
       "    </tr>\n",
       "  </thead>\n",
       "  <tbody>\n",
       "    <tr>\n",
       "      <td>A</td>\n",
       "      <td>25.0</td>\n",
       "      <td>0.080000</td>\n",
       "      <td>45.280000</td>\n",
       "    </tr>\n",
       "    <tr>\n",
       "      <td>B</td>\n",
       "      <td>5041.0</td>\n",
       "      <td>0.070621</td>\n",
       "      <td>42.556834</td>\n",
       "    </tr>\n",
       "    <tr>\n",
       "      <td>C</td>\n",
       "      <td>16016.0</td>\n",
       "      <td>0.084915</td>\n",
       "      <td>43.612450</td>\n",
       "    </tr>\n",
       "    <tr>\n",
       "      <td>D</td>\n",
       "      <td>350.0</td>\n",
       "      <td>0.060000</td>\n",
       "      <td>49.537143</td>\n",
       "    </tr>\n",
       "    <tr>\n",
       "      <td>E</td>\n",
       "      <td>22.0</td>\n",
       "      <td>0.090909</td>\n",
       "      <td>55.000000</td>\n",
       "    </tr>\n",
       "  </tbody>\n",
       "</table>\n",
       "</div>"
      ],
      "text/plain": [
       "                          debt            dob_years\n",
       "                           len      mean       mean\n",
       "total_income_category                              \n",
       "A                         25.0  0.080000  45.280000\n",
       "B                       5041.0  0.070621  42.556834\n",
       "C                      16016.0  0.084915  43.612450\n",
       "D                        350.0  0.060000  49.537143\n",
       "E                         22.0  0.090909  55.000000"
      ]
     },
     "execution_count": 47,
     "metadata": {},
     "output_type": "execute_result"
    }
   ],
   "source": [
    "data_total_income_category = df.pivot_table(index = ['total_income_category'],\n",
    "                                                   values=['debt','dob_years'],\n",
    "                                                   aggfunc={'debt':['mean',len],'dob_years':'mean'}\n",
    "                                                  )\n",
    "data_total_income_category"
   ]
  },
  {
   "cell_type": "markdown",
   "id": "e0bf0605",
   "metadata": {},
   "source": [
    "Крайние категории доходов слишком малочислены, для того чтобы быть опорой для анализа."
   ]
  },
  {
   "cell_type": "markdown",
   "id": "b550e70d",
   "metadata": {},
   "source": [
    "На первый взгляд, кажется что лучшими клиентами должны быть клиенты с высокими доходами. Но на самом деле самыми надежными заемщиками (если учитывать только доход) являются клиенты с самым низкими доходами - D (не учитывая категорию E из-за малочисленности)."
   ]
  },
  {
   "cell_type": "markdown",
   "id": "6bc86bb2",
   "metadata": {},
   "source": [
    "Возможно это объясняется тем, что категория D более чем в 10 раз меньше B. Также возможно в выборке D больше пенсионеров со стабильным доходом и более низкой долей обязательных трат, например связанных с ипотекой и расходами на детей. "
   ]
  },
  {
   "cell_type": "markdown",
   "id": "118d34c0",
   "metadata": {},
   "source": [
    "Сводная таблица зависимости уровня образования и задолжности:"
   ]
  },
  {
   "cell_type": "code",
   "execution_count": 51,
   "id": "42b3806e",
   "metadata": {},
   "outputs": [
    {
     "data": {
      "text/html": [
       "<div>\n",
       "<style scoped>\n",
       "    .dataframe tbody tr th:only-of-type {\n",
       "        vertical-align: middle;\n",
       "    }\n",
       "\n",
       "    .dataframe tbody tr th {\n",
       "        vertical-align: top;\n",
       "    }\n",
       "\n",
       "    .dataframe thead tr th {\n",
       "        text-align: left;\n",
       "    }\n",
       "</style>\n",
       "<table border=\"1\" class=\"dataframe\">\n",
       "  <thead>\n",
       "    <tr>\n",
       "      <th></th>\n",
       "      <th>education_id</th>\n",
       "      <th colspan=\"2\" halign=\"left\">debt</th>\n",
       "      <th colspan=\"2\" halign=\"left\">total_income</th>\n",
       "    </tr>\n",
       "    <tr>\n",
       "      <th></th>\n",
       "      <th></th>\n",
       "      <th>len</th>\n",
       "      <th>mean</th>\n",
       "      <th>mean</th>\n",
       "      <th>median</th>\n",
       "    </tr>\n",
       "  </thead>\n",
       "  <tbody>\n",
       "    <tr>\n",
       "      <td>0</td>\n",
       "      <td>высшее</td>\n",
       "      <td>5250.0</td>\n",
       "      <td>0.052952</td>\n",
       "      <td>201475.555238</td>\n",
       "      <td>171485.0</td>\n",
       "    </tr>\n",
       "    <tr>\n",
       "      <td>1</td>\n",
       "      <td>среднее</td>\n",
       "      <td>15172.0</td>\n",
       "      <td>0.089902</td>\n",
       "      <td>152742.087068</td>\n",
       "      <td>141695.0</td>\n",
       "    </tr>\n",
       "    <tr>\n",
       "      <td>2</td>\n",
       "      <td>неоконченное высшее</td>\n",
       "      <td>744.0</td>\n",
       "      <td>0.091398</td>\n",
       "      <td>178592.478495</td>\n",
       "      <td>155759.0</td>\n",
       "    </tr>\n",
       "    <tr>\n",
       "      <td>3</td>\n",
       "      <td>начальное</td>\n",
       "      <td>282.0</td>\n",
       "      <td>0.109929</td>\n",
       "      <td>132581.429078</td>\n",
       "      <td>118941.5</td>\n",
       "    </tr>\n",
       "    <tr>\n",
       "      <td>4</td>\n",
       "      <td>ученая степень</td>\n",
       "      <td>6.0</td>\n",
       "      <td>0.000000</td>\n",
       "      <td>174749.833333</td>\n",
       "      <td>157259.5</td>\n",
       "    </tr>\n",
       "  </tbody>\n",
       "</table>\n",
       "</div>"
      ],
      "text/plain": [
       "          education_id     debt             total_income          \n",
       "                            len      mean           mean    median\n",
       "0               высшее   5250.0  0.052952  201475.555238  171485.0\n",
       "1              среднее  15172.0  0.089902  152742.087068  141695.0\n",
       "2  неоконченное высшее    744.0  0.091398  178592.478495  155759.0\n",
       "3            начальное    282.0  0.109929  132581.429078  118941.5\n",
       "4       ученая степень      6.0  0.000000  174749.833333  157259.5"
      ]
     },
     "execution_count": 51,
     "metadata": {},
     "output_type": "execute_result"
    }
   ],
   "source": [
    "data_education_id.reset_index().replace({'education_id': education_dict.education.to_dict()})"
   ]
  },
  {
   "cell_type": "markdown",
   "id": "c680d564",
   "metadata": {},
   "source": [
    "Самые ненадежные заемщики это заемщики с начальным образованием. Возможно это связано с доходами и той  обязательной долей расходов, которые они вынуждены нести для обеспечения минимальных потребностей.\n",
    "С уверенностью можно сказать, что надежность заемщиков растет с ростом уровня его образования, исключая людей с ученой степенью, так как их количество слишком мало.\n",
    "Клиенты с неоконченным высшим образованием по уровню риска практически соответствуют среднему образованию. "
   ]
  },
  {
   "cell_type": "markdown",
   "id": "1a1a3bff",
   "metadata": {},
   "source": [
    "Сводная таблица зависимости количества детей и задолжности."
   ]
  },
  {
   "cell_type": "code",
   "execution_count": 197,
   "id": "b54924bf",
   "metadata": {},
   "outputs": [
    {
     "data": {
      "text/html": [
       "<div>\n",
       "<style scoped>\n",
       "    .dataframe tbody tr th:only-of-type {\n",
       "        vertical-align: middle;\n",
       "    }\n",
       "\n",
       "    .dataframe tbody tr th {\n",
       "        vertical-align: top;\n",
       "    }\n",
       "\n",
       "    .dataframe thead tr th {\n",
       "        text-align: left;\n",
       "    }\n",
       "\n",
       "    .dataframe thead tr:last-of-type th {\n",
       "        text-align: right;\n",
       "    }\n",
       "</style>\n",
       "<table border=\"1\" class=\"dataframe\">\n",
       "  <thead>\n",
       "    <tr>\n",
       "      <th></th>\n",
       "      <th colspan=\"2\" halign=\"left\">debt</th>\n",
       "      <th colspan=\"3\" halign=\"left\">total_income</th>\n",
       "    </tr>\n",
       "    <tr>\n",
       "      <th></th>\n",
       "      <th>len</th>\n",
       "      <th>mean</th>\n",
       "      <th>max</th>\n",
       "      <th>mean</th>\n",
       "      <th>median</th>\n",
       "    </tr>\n",
       "    <tr>\n",
       "      <th>children</th>\n",
       "      <th></th>\n",
       "      <th></th>\n",
       "      <th></th>\n",
       "      <th></th>\n",
       "      <th></th>\n",
       "    </tr>\n",
       "  </thead>\n",
       "  <tbody>\n",
       "    <tr>\n",
       "      <td>0</td>\n",
       "      <td>14167.0</td>\n",
       "      <td>0.075598</td>\n",
       "      <td>2265604.0</td>\n",
       "      <td>163047.167784</td>\n",
       "      <td>142594.0</td>\n",
       "    </tr>\n",
       "    <tr>\n",
       "      <td>1</td>\n",
       "      <td>4855.0</td>\n",
       "      <td>0.091658</td>\n",
       "      <td>2200852.0</td>\n",
       "      <td>169041.779609</td>\n",
       "      <td>145521.0</td>\n",
       "    </tr>\n",
       "    <tr>\n",
       "      <td>2</td>\n",
       "      <td>2052.0</td>\n",
       "      <td>0.094542</td>\n",
       "      <td>1103455.0</td>\n",
       "      <td>169747.961014</td>\n",
       "      <td>142594.0</td>\n",
       "    </tr>\n",
       "    <tr>\n",
       "      <td>3</td>\n",
       "      <td>330.0</td>\n",
       "      <td>0.081818</td>\n",
       "      <td>1091627.0</td>\n",
       "      <td>179461.130303</td>\n",
       "      <td>145220.0</td>\n",
       "    </tr>\n",
       "    <tr>\n",
       "      <td>4</td>\n",
       "      <td>41.0</td>\n",
       "      <td>0.097561</td>\n",
       "      <td>494337.0</td>\n",
       "      <td>166360.707317</td>\n",
       "      <td>150447.0</td>\n",
       "    </tr>\n",
       "    <tr>\n",
       "      <td>5</td>\n",
       "      <td>9.0</td>\n",
       "      <td>0.000000</td>\n",
       "      <td>269068.0</td>\n",
       "      <td>167336.888889</td>\n",
       "      <td>168460.0</td>\n",
       "    </tr>\n",
       "  </tbody>\n",
       "</table>\n",
       "</div>"
      ],
      "text/plain": [
       "             debt           total_income                         \n",
       "              len      mean          max           mean    median\n",
       "children                                                         \n",
       "0         14167.0  0.075598    2265604.0  163047.167784  142594.0\n",
       "1          4855.0  0.091658    2200852.0  169041.779609  145521.0\n",
       "2          2052.0  0.094542    1103455.0  169747.961014  142594.0\n",
       "3           330.0  0.081818    1091627.0  179461.130303  145220.0\n",
       "4            41.0  0.097561     494337.0  166360.707317  150447.0\n",
       "5             9.0  0.000000     269068.0  167336.888889  168460.0"
      ]
     },
     "execution_count": 197,
     "metadata": {},
     "output_type": "execute_result"
    }
   ],
   "source": [
    "data_children = df.pivot_table(index=['children'], values=['debt','total_income'],\n",
    "               aggfunc = {'debt':['mean',len],'total_income':['mean','median','max']})\n",
    "data_children"
   ]
  },
  {
   "cell_type": "markdown",
   "id": "58ae1105",
   "metadata": {},
   "source": [
    "С ростом количества детей падает надежность заемщиков. Исключением являются клиенты с тремя детьми."
   ]
  },
  {
   "cell_type": "markdown",
   "id": "d0d3197b",
   "metadata": {},
   "source": [
    "Если посмотреть на среднее значение дохода таких клиентов то это можно объяснить более высокими доходами, но смотря  насколько значительно отличается количество клиентов с двумя и тремя детьми, а также что максимальные их доходы практически не отличаются,при этом отличается среднее от медианного."
   ]
  },
  {
   "cell_type": "markdown",
   "id": "0c00b4b3",
   "metadata": {},
   "source": [
    " Можем сказать, что это влияние малого размера выборки клиентов с тремя детьми. "
   ]
  },
  {
   "cell_type": "markdown",
   "id": "0b24f38a",
   "metadata": {},
   "source": [
    "Сводная таблица зависимости семейного положения и задолжности."
   ]
  },
  {
   "cell_type": "code",
   "execution_count": 198,
   "id": "84798882",
   "metadata": {},
   "outputs": [
    {
     "data": {
      "text/html": [
       "<div>\n",
       "<style scoped>\n",
       "    .dataframe tbody tr th:only-of-type {\n",
       "        vertical-align: middle;\n",
       "    }\n",
       "\n",
       "    .dataframe tbody tr th {\n",
       "        vertical-align: top;\n",
       "    }\n",
       "\n",
       "    .dataframe thead th {\n",
       "        text-align: right;\n",
       "    }\n",
       "</style>\n",
       "<table border=\"1\" class=\"dataframe\">\n",
       "  <thead>\n",
       "    <tr style=\"text-align: right;\">\n",
       "      <th></th>\n",
       "      <th>family_status</th>\n",
       "      <th>family_status_id</th>\n",
       "    </tr>\n",
       "  </thead>\n",
       "  <tbody>\n",
       "    <tr>\n",
       "      <td>0</td>\n",
       "      <td>женат / замужем</td>\n",
       "      <td>0</td>\n",
       "    </tr>\n",
       "    <tr>\n",
       "      <td>1</td>\n",
       "      <td>гражданский брак</td>\n",
       "      <td>1</td>\n",
       "    </tr>\n",
       "    <tr>\n",
       "      <td>2</td>\n",
       "      <td>вдовец / вдова</td>\n",
       "      <td>2</td>\n",
       "    </tr>\n",
       "    <tr>\n",
       "      <td>3</td>\n",
       "      <td>в разводе</td>\n",
       "      <td>3</td>\n",
       "    </tr>\n",
       "    <tr>\n",
       "      <td>4</td>\n",
       "      <td>не женат / не замужем</td>\n",
       "      <td>4</td>\n",
       "    </tr>\n",
       "  </tbody>\n",
       "</table>\n",
       "</div>"
      ],
      "text/plain": [
       "           family_status  family_status_id\n",
       "0        женат / замужем                 0\n",
       "1       гражданский брак                 1\n",
       "2         вдовец / вдова                 2\n",
       "3              в разводе                 3\n",
       "4  не женат / не замужем                 4"
      ]
     },
     "metadata": {},
     "output_type": "display_data"
    },
    {
     "data": {
      "text/html": [
       "<div>\n",
       "<style scoped>\n",
       "    .dataframe tbody tr th:only-of-type {\n",
       "        vertical-align: middle;\n",
       "    }\n",
       "\n",
       "    .dataframe tbody tr th {\n",
       "        vertical-align: top;\n",
       "    }\n",
       "\n",
       "    .dataframe thead tr th {\n",
       "        text-align: left;\n",
       "    }\n",
       "\n",
       "    .dataframe thead tr:last-of-type th {\n",
       "        text-align: right;\n",
       "    }\n",
       "</style>\n",
       "<table border=\"1\" class=\"dataframe\">\n",
       "  <thead>\n",
       "    <tr>\n",
       "      <th></th>\n",
       "      <th colspan=\"2\" halign=\"left\">debt</th>\n",
       "      <th>dob_years</th>\n",
       "      <th>total_income</th>\n",
       "    </tr>\n",
       "    <tr>\n",
       "      <th></th>\n",
       "      <th>len</th>\n",
       "      <th>mean</th>\n",
       "      <th>mean</th>\n",
       "      <th>median</th>\n",
       "    </tr>\n",
       "    <tr>\n",
       "      <th>family_status_id</th>\n",
       "      <th></th>\n",
       "      <th></th>\n",
       "      <th></th>\n",
       "      <th></th>\n",
       "    </tr>\n",
       "  </thead>\n",
       "  <tbody>\n",
       "    <tr>\n",
       "      <td>0</td>\n",
       "      <td>12339.0</td>\n",
       "      <td>0.075452</td>\n",
       "      <td>43.715779</td>\n",
       "      <td>142969</td>\n",
       "    </tr>\n",
       "    <tr>\n",
       "      <td>1</td>\n",
       "      <td>4151.0</td>\n",
       "      <td>0.093471</td>\n",
       "      <td>42.272224</td>\n",
       "      <td>142594</td>\n",
       "    </tr>\n",
       "    <tr>\n",
       "      <td>2</td>\n",
       "      <td>959.0</td>\n",
       "      <td>0.065693</td>\n",
       "      <td>56.816475</td>\n",
       "      <td>127310</td>\n",
       "    </tr>\n",
       "    <tr>\n",
       "      <td>3</td>\n",
       "      <td>1195.0</td>\n",
       "      <td>0.071130</td>\n",
       "      <td>45.881172</td>\n",
       "      <td>143450</td>\n",
       "    </tr>\n",
       "    <tr>\n",
       "      <td>4</td>\n",
       "      <td>2810.0</td>\n",
       "      <td>0.097509</td>\n",
       "      <td>38.615658</td>\n",
       "      <td>142594</td>\n",
       "    </tr>\n",
       "  </tbody>\n",
       "</table>\n",
       "</div>"
      ],
      "text/plain": [
       "                     debt            dob_years total_income\n",
       "                      len      mean       mean       median\n",
       "family_status_id                                           \n",
       "0                 12339.0  0.075452  43.715779       142969\n",
       "1                  4151.0  0.093471  42.272224       142594\n",
       "2                   959.0  0.065693  56.816475       127310\n",
       "3                  1195.0  0.071130  45.881172       143450\n",
       "4                  2810.0  0.097509  38.615658       142594"
      ]
     },
     "execution_count": 198,
     "metadata": {},
     "output_type": "execute_result"
    }
   ],
   "source": [
    "display(family_dict)\n",
    "data_family_status_id = df.pivot_table(index=['family_status_id'], \n",
    "                                       values=['debt','total_income','dob_years'],\n",
    "                           aggfunc={'debt':['mean',len],'total_income':'median','dob_years':'mean'})\n",
    "data_family_status_id\n"
   ]
  },
  {
   "cell_type": "markdown",
   "id": "66040bdd",
   "metadata": {},
   "source": [
    "Самыми ненадежными заемщиками  являются неженатые клиенты. Они же и являются самыми молодыми. Вероятно, потому что при несильно отличающемся (в худшую сторону)  уровне доходов от заемщиков сболее низким долгом, у них присутствуют больше обязательных трат связанных с жильем."
   ]
  },
  {
   "cell_type": "markdown",
   "id": "efea5ca0",
   "metadata": {},
   "source": [
    "Люди состоящие в гражданском браке имеют меньший долг, чем неженатые заемщики. Но так как так их возраст и доход соответствует женатым. Можем предположить, что причина в личных качествах людей живущих в гражданском браке, но с уверенностью это утверждать нельзя."
   ]
  },
  {
   "cell_type": "markdown",
   "id": "92b1303b",
   "metadata": {},
   "source": [
    "Вдовцы/вводы являются самыми надежными заемщиками. Вероятно причина в том, что они бывшие женатые клиенты, которые также имеют низкую задолжность. При этом судя по возрасту являются пенсионерами со стабильными доходами и своим жильем."
   ]
  },
  {
   "cell_type": "markdown",
   "id": "b56f6868",
   "metadata": {},
   "source": [
    "Сводная таблица зависимости целей кридита и задолжности."
   ]
  },
  {
   "cell_type": "code",
   "execution_count": 199,
   "id": "2bc7785a",
   "metadata": {},
   "outputs": [
    {
     "data": {
      "text/html": [
       "<div>\n",
       "<style scoped>\n",
       "    .dataframe tbody tr th:only-of-type {\n",
       "        vertical-align: middle;\n",
       "    }\n",
       "\n",
       "    .dataframe tbody tr th {\n",
       "        vertical-align: top;\n",
       "    }\n",
       "\n",
       "    .dataframe thead tr th {\n",
       "        text-align: left;\n",
       "    }\n",
       "\n",
       "    .dataframe thead tr:last-of-type th {\n",
       "        text-align: right;\n",
       "    }\n",
       "</style>\n",
       "<table border=\"1\" class=\"dataframe\">\n",
       "  <thead>\n",
       "    <tr>\n",
       "      <th></th>\n",
       "      <th colspan=\"2\" halign=\"left\">debt</th>\n",
       "      <th>dob_years</th>\n",
       "      <th>total_income</th>\n",
       "    </tr>\n",
       "    <tr>\n",
       "      <th></th>\n",
       "      <th>len</th>\n",
       "      <th>mean</th>\n",
       "      <th>mean</th>\n",
       "      <th>median</th>\n",
       "    </tr>\n",
       "    <tr>\n",
       "      <th>purpose_category</th>\n",
       "      <th></th>\n",
       "      <th></th>\n",
       "      <th></th>\n",
       "      <th></th>\n",
       "    </tr>\n",
       "  </thead>\n",
       "  <tbody>\n",
       "    <tr>\n",
       "      <td>операции с автомобилем</td>\n",
       "      <td>4306.0</td>\n",
       "      <td>0.093590</td>\n",
       "      <td>43.689039</td>\n",
       "      <td>142594</td>\n",
       "    </tr>\n",
       "    <tr>\n",
       "      <td>операции с недвижимостью</td>\n",
       "      <td>10811.0</td>\n",
       "      <td>0.072334</td>\n",
       "      <td>43.361206</td>\n",
       "      <td>142895</td>\n",
       "    </tr>\n",
       "    <tr>\n",
       "      <td>получение образования</td>\n",
       "      <td>4013.0</td>\n",
       "      <td>0.092200</td>\n",
       "      <td>43.609768</td>\n",
       "      <td>142594</td>\n",
       "    </tr>\n",
       "    <tr>\n",
       "      <td>проведение свадьбы</td>\n",
       "      <td>2324.0</td>\n",
       "      <td>0.080034</td>\n",
       "      <td>43.372203</td>\n",
       "      <td>142594</td>\n",
       "    </tr>\n",
       "  </tbody>\n",
       "</table>\n",
       "</div>"
      ],
      "text/plain": [
       "                             debt            dob_years total_income\n",
       "                              len      mean       mean       median\n",
       "purpose_category                                                   \n",
       "операции с автомобилем     4306.0  0.093590  43.689039       142594\n",
       "операции с недвижимостью  10811.0  0.072334  43.361206       142895\n",
       "получение образования      4013.0  0.092200  43.609768       142594\n",
       "проведение свадьбы         2324.0  0.080034  43.372203       142594"
      ]
     },
     "execution_count": 199,
     "metadata": {},
     "output_type": "execute_result"
    }
   ],
   "source": [
    "data_purpose_category = df.pivot_table(index=['purpose_category'], values=['debt','total_income','dob_years'],\n",
    "               aggfunc={'debt':['mean',len],'total_income':'median','dob_years':'mean'})\n",
    "data_purpose_category"
   ]
  },
  {
   "cell_type": "markdown",
   "id": "18c34fea",
   "metadata": {},
   "source": [
    "Операции с недвижимостью имеют самый низкий уровень долга. Вероятно, потому что жилье является первой необходимостью и люди к этому подходят очень серьезно."
   ]
  },
  {
   "cell_type": "markdown",
   "id": "bc2f1e9b",
   "metadata": {},
   "source": [
    "Затем  идут клиенты с целью проведения свадьбы эти траты не такие большие как автомобиль. "
   ]
  },
  {
   "cell_type": "markdown",
   "id": "51f5bff6",
   "metadata": {},
   "source": [
    "Кредиты на авто и на образование имеют примерно одинаковый уровень задолжности. Они не настолько значимы как недвижимость и не столько малы как свадьба. Поэтому задолжность здесь выше."
   ]
  },
  {
   "cell_type": "markdown",
   "id": "e5980d37",
   "metadata": {},
   "source": [
    "**Влияние семейного положение на факт погашения долга:**"
   ]
  },
  {
   "cell_type": "code",
   "execution_count": 200,
   "id": "250a8f5e",
   "metadata": {},
   "outputs": [
    {
     "name": "stdout",
     "output_type": "stream",
     "text": [
      "Холостые заемщики являются имеют самый большой показатель долга: 9.75% невозврата\n",
      "Овдовевшие клиенты имеют самый низкий показатель долга: 6.57% невозврата\n"
     ]
    }
   ],
   "source": [
    "worst_family_client = data_family_status_id[('debt', 'mean')].max()\n",
    "best_family_client = data_family_status_id[('debt', 'mean')].min()\n",
    "print(f'Холостые заемщики являются имеют самый большой показатель долга: {worst_family_client:.2%} невозврата')\n",
    "print(f'Овдовевшие клиенты имеют самый низкий показатель долга: {best_family_client:.2%} невозврата')"
   ]
  },
  {
   "cell_type": "markdown",
   "id": "859246f2",
   "metadata": {},
   "source": [
    "Люди состоящие в браке или когда-либо состоявшие имеют низкую вероятность не погашения долга."
   ]
  },
  {
   "cell_type": "markdown",
   "id": "4cb8951a",
   "metadata": {},
   "source": [
    "**Влияние наличия детей на факт погашения долга**"
   ]
  },
  {
   "cell_type": "code",
   "execution_count": 201,
   "id": "e8fa9e01",
   "metadata": {},
   "outputs": [
    {
     "name": "stdout",
     "output_type": "stream",
     "text": [
      "С учетом небольших размеров выборки, во всех категориях.\n",
      "Клиенты с двумя детьми,самые ненадежные заемщики: 9.45% невозврата.\n",
      "\n",
      "Самые надежные заемщики - это заемщики без детей: 7.56% невозврата.\n"
     ]
    }
   ],
   "source": [
    "worst_children_client = data_children.loc[2][('debt', 'mean')]\n",
    "best_children_client = data_children.loc[0][('debt', 'mean')]\n",
    "print('С учетом небольших размеров выборки, во всех категориях.')\n",
    "print(f\"Клиенты с двумя детьми,самые ненадежные заемщики: {worst_children_client:.2%} невозврата.\\n\")\n",
    "print(f'Самые надежные заемщики - это заемщики без детей: {best_children_client:.2%} невозврата.')"
   ]
  },
  {
   "cell_type": "markdown",
   "id": "8c1ef3ad",
   "metadata": {},
   "source": [
    "Чем больше детей у заемщика тем ниже кредитное качество заемщика."
   ]
  },
  {
   "cell_type": "markdown",
   "id": "12e8f023",
   "metadata": {},
   "source": [
    "**Влияние наличие образования на факт погашения долга:**"
   ]
  },
  {
   "cell_type": "code",
   "execution_count": 202,
   "id": "a944e2bc",
   "metadata": {},
   "outputs": [
    {
     "name": "stdout",
     "output_type": "stream",
     "text": [
      "Клиенты с начальным образованием самые ненадежные заемщики: 10.99% невозврата.\n",
      "\n",
      "С учетом небольших размеров выборки, во всех категориях.\n",
      "Самые надежные заемщики - это клиенты с высшим образованием: 5.30% невозврата.\n"
     ]
    }
   ],
   "source": [
    "worst_education_client = data_education_id.loc[3][('debt', 'mean')]\n",
    "best_education_client = data_education_id.loc[0][('debt', 'mean')]\n",
    "print(f\"Клиенты с начальным образованием самые ненадежные заемщики: {worst_education_client:.2%} невозврата.\\n\")\n",
    "print('С учетом небольших размеров выборки, во всех категориях.')\n",
    "print(f'Самые надежные заемщики - это клиенты с высшим образованием: {best_education_client:.2%} невозврата.')"
   ]
  },
  {
   "cell_type": "markdown",
   "id": "b8b88d8b",
   "metadata": {},
   "source": [
    "Анализ показал что чем выше уровень образование тем лучше кредитоспособность заемщика."
   ]
  },
  {
   "cell_type": "markdown",
   "id": "bc503b5a",
   "metadata": {},
   "source": [
    "**Влияние целей получения кредита на факт погашения долга:**"
   ]
  },
  {
   "cell_type": "code",
   "execution_count": 203,
   "id": "13a07841",
   "metadata": {},
   "outputs": [
    {
     "name": "stdout",
     "output_type": "stream",
     "text": [
      "Клиенты с целью кредита - 'операции с автомобилем'самые ненадежные заемщики: 9.36% невозврата.\n",
      "Самые надежные заемщики с целью - 'операции с недвижимостью': 7.23% невозврата.\n"
     ]
    }
   ],
   "source": [
    "worst_purpose_client = data_purpose_category.loc['операции с автомобилем'][('debt', 'mean')]\n",
    "best_purpose_client = data_purpose_category.loc['операции с недвижимостью'][('debt', 'mean')]\n",
    "print(f\"Клиенты с целью кредита - 'операции с автомобилем'самые ненадежные заемщики: {worst_purpose_client:.2%} невозврата.\")\n",
    "print(f\"Самые надежные заемщики с целью - 'операции с недвижимостью': {best_purpose_client:.2%} невозврата.\")"
   ]
  },
  {
   "cell_type": "markdown",
   "id": "9414a2e3",
   "metadata": {},
   "source": [
    "Кредиты связанные с недвижимостью и свадьбой являются самыми надежными, вероятно это связано с важностью жилья и небольшой суммой кредита для свадебных расходов. Остальные цели имеют практически одинаковый риск невозврата. "
   ]
  },
  {
   "cell_type": "markdown",
   "id": "e1dbf680",
   "metadata": {},
   "source": [
    "# Общий вывод:"
   ]
  },
  {
   "cell_type": "markdown",
   "id": "4e9e48e8",
   "metadata": {},
   "source": [
    "Все перечисленные факторы влияют на кредитоспособность, при этом в разной степени. Наличие вышего образвания существенно повышает качество заемщика, в отличии от уровня дохода (без учета размера долга). Тем не менее сводные таблицы показывают, что по одному какому-то критерию нельзя с уверенностью делать вывод о кредитоспособности заемщика."
   ]
  }
 ],
 "metadata": {
  "ExecuteTimeLog": [
   {
    "duration": 798,
    "start_time": "2022-02-17T15:07:01.005Z"
   },
   {
    "duration": 61,
    "start_time": "2022-02-17T15:07:09.028Z"
   },
   {
    "duration": 11,
    "start_time": "2022-02-17T15:13:35.791Z"
   },
   {
    "duration": 62,
    "start_time": "2022-02-17T15:13:51.877Z"
   },
   {
    "duration": 62,
    "start_time": "2022-02-17T15:19:46.700Z"
   },
   {
    "duration": 61,
    "start_time": "2022-02-17T15:22:09.188Z"
   },
   {
    "duration": 62,
    "start_time": "2022-02-17T15:36:24.423Z"
   },
   {
    "duration": 646,
    "start_time": "2022-02-18T01:56:46.262Z"
   },
   {
    "duration": 58,
    "start_time": "2022-02-18T02:14:52.180Z"
   },
   {
    "duration": 9,
    "start_time": "2022-02-18T03:02:37.986Z"
   },
   {
    "duration": 66,
    "start_time": "2022-02-18T03:11:49.050Z"
   },
   {
    "duration": 5,
    "start_time": "2022-02-18T03:12:08.441Z"
   },
   {
    "duration": 249,
    "start_time": "2022-02-18T03:12:51.649Z"
   },
   {
    "duration": 192,
    "start_time": "2022-02-18T03:12:58.672Z"
   },
   {
    "duration": 6,
    "start_time": "2022-02-18T03:13:11.669Z"
   },
   {
    "duration": 5,
    "start_time": "2022-02-18T03:13:48.388Z"
   },
   {
    "duration": 6,
    "start_time": "2022-02-18T03:21:43.204Z"
   },
   {
    "duration": 17,
    "start_time": "2022-02-18T03:29:17.241Z"
   },
   {
    "duration": 16,
    "start_time": "2022-02-18T03:29:40.449Z"
   },
   {
    "duration": 17,
    "start_time": "2022-02-18T03:29:49.489Z"
   },
   {
    "duration": 14,
    "start_time": "2022-02-18T03:31:10.978Z"
   },
   {
    "duration": 17,
    "start_time": "2022-02-18T03:31:33.458Z"
   },
   {
    "duration": 7,
    "start_time": "2022-02-18T03:33:12.605Z"
   },
   {
    "duration": 197,
    "start_time": "2022-02-18T03:37:43.387Z"
   },
   {
    "duration": 7,
    "start_time": "2022-02-18T03:37:47.846Z"
   },
   {
    "duration": 7,
    "start_time": "2022-02-18T03:38:04.713Z"
   },
   {
    "duration": 23,
    "start_time": "2022-02-18T04:09:19.351Z"
   },
   {
    "duration": 19,
    "start_time": "2022-02-18T04:10:02.147Z"
   },
   {
    "duration": 20,
    "start_time": "2022-02-18T04:11:19.167Z"
   },
   {
    "duration": 18,
    "start_time": "2022-02-18T04:12:06.784Z"
   },
   {
    "duration": 15,
    "start_time": "2022-02-18T04:23:05.792Z"
   },
   {
    "duration": 22,
    "start_time": "2022-02-18T04:25:31.767Z"
   },
   {
    "duration": 75,
    "start_time": "2022-02-18T04:32:41.261Z"
   },
   {
    "duration": 57,
    "start_time": "2022-02-18T04:33:11.531Z"
   },
   {
    "duration": 71,
    "start_time": "2022-02-18T04:33:50.451Z"
   },
   {
    "duration": 249,
    "start_time": "2022-02-18T04:33:59.400Z"
   },
   {
    "duration": 207,
    "start_time": "2022-02-18T04:34:11.084Z"
   },
   {
    "duration": 216,
    "start_time": "2022-02-18T04:34:20.766Z"
   },
   {
    "duration": 27,
    "start_time": "2022-02-18T04:34:41.031Z"
   },
   {
    "duration": 24,
    "start_time": "2022-02-18T04:36:02.211Z"
   },
   {
    "duration": 25,
    "start_time": "2022-02-18T04:37:14.271Z"
   },
   {
    "duration": 5,
    "start_time": "2022-02-18T04:38:12.901Z"
   },
   {
    "duration": 179,
    "start_time": "2022-02-18T04:40:57.778Z"
   },
   {
    "duration": 5,
    "start_time": "2022-02-18T04:41:34.211Z"
   },
   {
    "duration": 7,
    "start_time": "2022-02-18T04:41:56.431Z"
   },
   {
    "duration": 4,
    "start_time": "2022-02-18T04:45:47.811Z"
   },
   {
    "duration": 4,
    "start_time": "2022-02-18T04:45:58.151Z"
   },
   {
    "duration": 5,
    "start_time": "2022-02-18T04:46:06.292Z"
   },
   {
    "duration": 8,
    "start_time": "2022-02-18T04:46:21.711Z"
   },
   {
    "duration": 4470,
    "start_time": "2022-02-18T04:49:17.431Z"
   },
   {
    "duration": 4507,
    "start_time": "2022-02-18T04:49:22.233Z"
   },
   {
    "duration": 5,
    "start_time": "2022-02-18T04:50:04.392Z"
   },
   {
    "duration": 8,
    "start_time": "2022-02-18T04:51:30.793Z"
   },
   {
    "duration": 205,
    "start_time": "2022-02-18T04:53:11.912Z"
   },
   {
    "duration": 26,
    "start_time": "2022-02-18T04:53:20.232Z"
   },
   {
    "duration": 212,
    "start_time": "2022-02-18T04:56:53.437Z"
   },
   {
    "duration": 28,
    "start_time": "2022-02-18T04:57:06.957Z"
   },
   {
    "duration": 28,
    "start_time": "2022-02-18T04:57:50.917Z"
   },
   {
    "duration": 7,
    "start_time": "2022-02-18T04:59:30.749Z"
   },
   {
    "duration": 214,
    "start_time": "2022-02-18T05:00:02.148Z"
   },
   {
    "duration": 195,
    "start_time": "2022-02-18T05:00:06.787Z"
   },
   {
    "duration": 198,
    "start_time": "2022-02-18T05:00:10.628Z"
   },
   {
    "duration": 198,
    "start_time": "2022-02-18T05:00:15.070Z"
   },
   {
    "duration": 29,
    "start_time": "2022-02-18T05:01:01.099Z"
   },
   {
    "duration": 27,
    "start_time": "2022-02-18T05:01:25.183Z"
   },
   {
    "duration": 29,
    "start_time": "2022-02-18T05:02:16.688Z"
   },
   {
    "duration": 85,
    "start_time": "2022-02-18T05:03:55.368Z"
   },
   {
    "duration": 30,
    "start_time": "2022-02-18T05:04:01.344Z"
   },
   {
    "duration": 28,
    "start_time": "2022-02-18T05:06:16.888Z"
   },
   {
    "duration": 30,
    "start_time": "2022-02-18T05:07:19.808Z"
   },
   {
    "duration": 32,
    "start_time": "2022-02-18T05:09:16.808Z"
   },
   {
    "duration": 30,
    "start_time": "2022-02-18T05:09:49.205Z"
   },
   {
    "duration": 31,
    "start_time": "2022-02-18T05:10:28.518Z"
   },
   {
    "duration": 65,
    "start_time": "2022-02-18T05:11:59.608Z"
   },
   {
    "duration": 32,
    "start_time": "2022-02-18T05:12:05.043Z"
   },
   {
    "duration": 31,
    "start_time": "2022-02-18T05:13:16.772Z"
   },
   {
    "duration": 60,
    "start_time": "2022-02-18T05:23:37.373Z"
   },
   {
    "duration": 817,
    "start_time": "2022-02-20T14:53:52.571Z"
   },
   {
    "duration": 15,
    "start_time": "2022-02-20T14:53:53.391Z"
   },
   {
    "duration": 12,
    "start_time": "2022-02-20T14:53:53.409Z"
   },
   {
    "duration": 8,
    "start_time": "2022-02-20T14:53:53.449Z"
   },
   {
    "duration": 11,
    "start_time": "2022-02-20T14:53:53.460Z"
   },
   {
    "duration": 6,
    "start_time": "2022-02-20T14:53:53.474Z"
   },
   {
    "duration": 84,
    "start_time": "2022-02-20T14:53:53.483Z"
   },
   {
    "duration": 847,
    "start_time": "2022-02-20T14:53:53.571Z"
   },
   {
    "duration": 9,
    "start_time": "2022-02-20T14:57:29.393Z"
   },
   {
    "duration": 7,
    "start_time": "2022-02-20T14:58:00.752Z"
   },
   {
    "duration": 7,
    "start_time": "2022-02-20T14:58:16.312Z"
   },
   {
    "duration": 7,
    "start_time": "2022-02-20T14:58:25.393Z"
   },
   {
    "duration": 456,
    "start_time": "2022-02-21T01:28:21.092Z"
   },
   {
    "duration": 851,
    "start_time": "2022-02-21T01:28:31.236Z"
   },
   {
    "duration": 27,
    "start_time": "2022-02-21T01:28:32.090Z"
   },
   {
    "duration": 14,
    "start_time": "2022-02-21T01:28:32.120Z"
   },
   {
    "duration": 8,
    "start_time": "2022-02-21T01:28:32.137Z"
   },
   {
    "duration": 11,
    "start_time": "2022-02-21T01:28:32.148Z"
   },
   {
    "duration": 6,
    "start_time": "2022-02-21T01:28:32.212Z"
   },
   {
    "duration": 40,
    "start_time": "2022-02-21T01:28:32.220Z"
   },
   {
    "duration": 48,
    "start_time": "2022-02-21T01:28:32.264Z"
   },
   {
    "duration": 431,
    "start_time": "2022-02-21T01:30:15.072Z"
   },
   {
    "duration": 5,
    "start_time": "2022-02-21T01:35:49.079Z"
   },
   {
    "duration": 6,
    "start_time": "2022-02-21T01:36:19.472Z"
   },
   {
    "duration": 10,
    "start_time": "2022-02-21T01:37:44.278Z"
   },
   {
    "duration": 12,
    "start_time": "2022-02-21T01:38:10.667Z"
   },
   {
    "duration": 11,
    "start_time": "2022-02-21T01:38:32.511Z"
   },
   {
    "duration": -650,
    "start_time": "2022-02-21T01:45:45.707Z"
   },
   {
    "duration": 10148,
    "start_time": "2022-02-21T01:45:59.083Z"
   },
   {
    "duration": 7,
    "start_time": "2022-02-21T01:46:31.706Z"
   },
   {
    "duration": 9,
    "start_time": "2022-02-21T01:46:53.273Z"
   },
   {
    "duration": 8,
    "start_time": "2022-02-21T01:47:08.688Z"
   },
   {
    "duration": 8,
    "start_time": "2022-02-21T02:33:52.237Z"
   },
   {
    "duration": 26,
    "start_time": "2022-02-21T02:33:54.454Z"
   },
   {
    "duration": 24,
    "start_time": "2022-02-21T02:34:11.335Z"
   },
   {
    "duration": 24,
    "start_time": "2022-02-21T02:34:24.877Z"
   },
   {
    "duration": 9,
    "start_time": "2022-02-21T02:56:53.043Z"
   },
   {
    "duration": 8,
    "start_time": "2022-02-21T02:57:12.774Z"
   },
   {
    "duration": 9,
    "start_time": "2022-02-21T02:57:29.202Z"
   },
   {
    "duration": 8,
    "start_time": "2022-02-21T02:57:43.123Z"
   },
   {
    "duration": 19,
    "start_time": "2022-02-21T02:58:19.700Z"
   },
   {
    "duration": 9,
    "start_time": "2022-02-21T02:58:31.486Z"
   },
   {
    "duration": 8,
    "start_time": "2022-02-21T03:01:50.642Z"
   },
   {
    "duration": 7,
    "start_time": "2022-02-21T03:02:01.930Z"
   },
   {
    "duration": 9,
    "start_time": "2022-02-21T03:03:15.020Z"
   },
   {
    "duration": 107,
    "start_time": "2022-02-21T03:03:21.610Z"
   },
   {
    "duration": 15,
    "start_time": "2022-02-21T03:03:21.720Z"
   },
   {
    "duration": 14,
    "start_time": "2022-02-21T03:03:21.738Z"
   },
   {
    "duration": 7,
    "start_time": "2022-02-21T03:03:21.756Z"
   },
   {
    "duration": 51,
    "start_time": "2022-02-21T03:03:21.767Z"
   },
   {
    "duration": 8,
    "start_time": "2022-02-21T03:03:21.821Z"
   },
   {
    "duration": 40,
    "start_time": "2022-02-21T03:03:21.876Z"
   },
   {
    "duration": 8,
    "start_time": "2022-02-21T03:03:21.918Z"
   },
   {
    "duration": 5,
    "start_time": "2022-02-21T03:03:21.929Z"
   },
   {
    "duration": 24,
    "start_time": "2022-02-21T03:03:21.936Z"
   },
   {
    "duration": 385,
    "start_time": "2022-02-21T03:03:21.962Z"
   },
   {
    "duration": -3441,
    "start_time": "2022-02-21T03:03:25.791Z"
   },
   {
    "duration": 13,
    "start_time": "2022-02-21T03:22:39.933Z"
   },
   {
    "duration": 6,
    "start_time": "2022-02-21T03:23:18.922Z"
   },
   {
    "duration": 128,
    "start_time": "2022-02-21T03:23:55.887Z"
   },
   {
    "duration": 15,
    "start_time": "2022-02-21T03:24:02.951Z"
   },
   {
    "duration": 7,
    "start_time": "2022-02-21T03:24:05.474Z"
   },
   {
    "duration": 6,
    "start_time": "2022-02-21T03:24:18.732Z"
   },
   {
    "duration": 9,
    "start_time": "2022-02-21T03:24:23.449Z"
   },
   {
    "duration": 8,
    "start_time": "2022-02-21T03:25:25.040Z"
   },
   {
    "duration": 9,
    "start_time": "2022-02-21T03:25:50.149Z"
   },
   {
    "duration": 368,
    "start_time": "2022-02-21T03:34:34.070Z"
   },
   {
    "duration": 10,
    "start_time": "2022-02-21T03:34:45.843Z"
   },
   {
    "duration": 43,
    "start_time": "2022-02-21T03:34:48.402Z"
   },
   {
    "duration": 7,
    "start_time": "2022-02-21T03:35:08.533Z"
   },
   {
    "duration": 14,
    "start_time": "2022-02-21T03:36:04.180Z"
   },
   {
    "duration": 6,
    "start_time": "2022-02-21T03:36:06.622Z"
   },
   {
    "duration": 9,
    "start_time": "2022-02-21T03:40:56.242Z"
   },
   {
    "duration": 7,
    "start_time": "2022-02-21T03:41:01.442Z"
   },
   {
    "duration": 104,
    "start_time": "2022-02-21T03:41:25.414Z"
   },
   {
    "duration": 17,
    "start_time": "2022-02-21T03:41:25.522Z"
   },
   {
    "duration": 14,
    "start_time": "2022-02-21T03:41:25.543Z"
   },
   {
    "duration": 8,
    "start_time": "2022-02-21T03:41:25.560Z"
   },
   {
    "duration": 10,
    "start_time": "2022-02-21T03:41:25.610Z"
   },
   {
    "duration": 6,
    "start_time": "2022-02-21T03:41:25.623Z"
   },
   {
    "duration": 41,
    "start_time": "2022-02-21T03:41:25.631Z"
   },
   {
    "duration": 9,
    "start_time": "2022-02-21T03:41:25.712Z"
   },
   {
    "duration": 5,
    "start_time": "2022-02-21T03:41:25.724Z"
   },
   {
    "duration": 9,
    "start_time": "2022-02-21T03:41:25.731Z"
   },
   {
    "duration": 23,
    "start_time": "2022-02-21T03:41:25.743Z"
   },
   {
    "duration": 388,
    "start_time": "2022-02-21T03:41:25.769Z"
   },
   {
    "duration": -2127,
    "start_time": "2022-02-21T03:41:28.287Z"
   },
   {
    "duration": 9,
    "start_time": "2022-02-21T03:41:55.683Z"
   },
   {
    "duration": 9,
    "start_time": "2022-02-21T03:45:16.580Z"
   },
   {
    "duration": 4719,
    "start_time": "2022-02-21T03:45:48.571Z"
   },
   {
    "duration": 4964,
    "start_time": "2022-02-21T03:46:55.952Z"
   },
   {
    "duration": 4915,
    "start_time": "2022-02-21T03:47:11.762Z"
   },
   {
    "duration": 182,
    "start_time": "2022-02-21T03:47:34.970Z"
   },
   {
    "duration": 4726,
    "start_time": "2022-02-21T03:47:41.317Z"
   },
   {
    "duration": 4940,
    "start_time": "2022-02-21T03:47:59.122Z"
   },
   {
    "duration": 4781,
    "start_time": "2022-02-21T03:48:30.643Z"
   },
   {
    "duration": 91,
    "start_time": "2022-02-21T03:48:50.650Z"
   },
   {
    "duration": 14,
    "start_time": "2022-02-21T03:48:50.770Z"
   },
   {
    "duration": 13,
    "start_time": "2022-02-21T03:48:50.889Z"
   },
   {
    "duration": 7,
    "start_time": "2022-02-21T03:48:50.905Z"
   },
   {
    "duration": 18,
    "start_time": "2022-02-21T03:48:50.915Z"
   },
   {
    "duration": 7,
    "start_time": "2022-02-21T03:48:50.936Z"
   },
   {
    "duration": 39,
    "start_time": "2022-02-21T03:48:50.945Z"
   },
   {
    "duration": 29,
    "start_time": "2022-02-21T03:48:50.987Z"
   },
   {
    "duration": 13,
    "start_time": "2022-02-21T03:48:51.050Z"
   },
   {
    "duration": 5,
    "start_time": "2022-02-21T03:48:51.066Z"
   },
   {
    "duration": 25,
    "start_time": "2022-02-21T03:48:51.074Z"
   },
   {
    "duration": 425,
    "start_time": "2022-02-21T03:48:51.102Z"
   },
   {
    "duration": -5066,
    "start_time": "2022-02-21T03:48:56.596Z"
   },
   {
    "duration": 9,
    "start_time": "2022-02-21T03:49:43.920Z"
   },
   {
    "duration": 4777,
    "start_time": "2022-02-21T03:49:48.524Z"
   },
   {
    "duration": 4842,
    "start_time": "2022-02-21T03:50:09.382Z"
   },
   {
    "duration": 89,
    "start_time": "2022-02-21T03:50:21.781Z"
   },
   {
    "duration": 15,
    "start_time": "2022-02-21T03:50:21.872Z"
   },
   {
    "duration": 31,
    "start_time": "2022-02-21T03:50:21.891Z"
   },
   {
    "duration": 8,
    "start_time": "2022-02-21T03:50:21.926Z"
   },
   {
    "duration": 13,
    "start_time": "2022-02-21T03:50:21.937Z"
   },
   {
    "duration": 8,
    "start_time": "2022-02-21T03:50:21.952Z"
   },
   {
    "duration": 43,
    "start_time": "2022-02-21T03:50:22.053Z"
   },
   {
    "duration": 10,
    "start_time": "2022-02-21T03:50:22.099Z"
   },
   {
    "duration": 393,
    "start_time": "2022-02-21T03:50:22.194Z"
   },
   {
    "duration": -2697,
    "start_time": "2022-02-21T03:50:25.288Z"
   },
   {
    "duration": -2699,
    "start_time": "2022-02-21T03:50:25.292Z"
   },
   {
    "duration": -2701,
    "start_time": "2022-02-21T03:50:25.296Z"
   },
   {
    "duration": -2703,
    "start_time": "2022-02-21T03:50:25.300Z"
   },
   {
    "duration": 95,
    "start_time": "2022-02-21T03:51:03.773Z"
   },
   {
    "duration": 15,
    "start_time": "2022-02-21T03:51:03.872Z"
   },
   {
    "duration": 31,
    "start_time": "2022-02-21T03:51:03.890Z"
   },
   {
    "duration": 7,
    "start_time": "2022-02-21T03:51:03.923Z"
   },
   {
    "duration": 11,
    "start_time": "2022-02-21T03:51:03.933Z"
   },
   {
    "duration": 6,
    "start_time": "2022-02-21T03:51:03.951Z"
   },
   {
    "duration": 78,
    "start_time": "2022-02-21T03:51:03.961Z"
   },
   {
    "duration": 9,
    "start_time": "2022-02-21T03:51:04.041Z"
   },
   {
    "duration": 13,
    "start_time": "2022-02-21T03:51:04.053Z"
   },
   {
    "duration": 42,
    "start_time": "2022-02-21T03:51:04.068Z"
   },
   {
    "duration": 24,
    "start_time": "2022-02-21T03:51:04.113Z"
   },
   {
    "duration": 402,
    "start_time": "2022-02-21T03:51:04.139Z"
   },
   {
    "duration": -7017,
    "start_time": "2022-02-21T03:51:11.560Z"
   },
   {
    "duration": 43,
    "start_time": "2022-02-21T03:51:55.513Z"
   },
   {
    "duration": 24,
    "start_time": "2022-02-21T03:52:17.572Z"
   },
   {
    "duration": 42,
    "start_time": "2022-02-21T03:54:18.731Z"
   },
   {
    "duration": 135,
    "start_time": "2022-02-21T03:54:42.731Z"
   },
   {
    "duration": 12,
    "start_time": "2022-02-21T03:54:55.992Z"
   },
   {
    "duration": 7,
    "start_time": "2022-02-21T03:55:00.973Z"
   },
   {
    "duration": 13,
    "start_time": "2022-02-21T03:56:34.405Z"
   },
   {
    "duration": 9,
    "start_time": "2022-02-21T03:57:10.326Z"
   },
   {
    "duration": 91,
    "start_time": "2022-02-21T03:57:25.611Z"
   },
   {
    "duration": 19,
    "start_time": "2022-02-21T03:57:25.705Z"
   },
   {
    "duration": 14,
    "start_time": "2022-02-21T03:57:25.726Z"
   },
   {
    "duration": 9,
    "start_time": "2022-02-21T03:57:25.742Z"
   },
   {
    "duration": 10,
    "start_time": "2022-02-21T03:57:25.753Z"
   },
   {
    "duration": 48,
    "start_time": "2022-02-21T03:57:25.765Z"
   },
   {
    "duration": 41,
    "start_time": "2022-02-21T03:57:25.816Z"
   },
   {
    "duration": 8,
    "start_time": "2022-02-21T03:57:25.861Z"
   },
   {
    "duration": 3,
    "start_time": "2022-02-21T03:57:25.911Z"
   },
   {
    "duration": 11,
    "start_time": "2022-02-21T03:57:25.917Z"
   },
   {
    "duration": 23,
    "start_time": "2022-02-21T03:57:25.930Z"
   },
   {
    "duration": 399,
    "start_time": "2022-02-21T03:57:25.956Z"
   },
   {
    "duration": -2637,
    "start_time": "2022-02-21T03:57:28.994Z"
   },
   {
    "duration": 9,
    "start_time": "2022-02-21T03:57:42.545Z"
   },
   {
    "duration": 6,
    "start_time": "2022-02-21T03:57:55.011Z"
   },
   {
    "duration": 143,
    "start_time": "2022-02-21T03:58:32.400Z"
   },
   {
    "duration": 14,
    "start_time": "2022-02-21T03:58:40.370Z"
   },
   {
    "duration": 8,
    "start_time": "2022-02-21T03:58:52.284Z"
   },
   {
    "duration": 104,
    "start_time": "2022-02-21T04:00:05.425Z"
   },
   {
    "duration": 14,
    "start_time": "2022-02-21T04:00:05.531Z"
   },
   {
    "duration": 14,
    "start_time": "2022-02-21T04:00:05.548Z"
   },
   {
    "duration": 8,
    "start_time": "2022-02-21T04:00:05.564Z"
   },
   {
    "duration": 10,
    "start_time": "2022-02-21T04:00:05.624Z"
   },
   {
    "duration": 6,
    "start_time": "2022-02-21T04:00:05.637Z"
   },
   {
    "duration": 42,
    "start_time": "2022-02-21T04:00:05.647Z"
   },
   {
    "duration": 8,
    "start_time": "2022-02-21T04:00:05.712Z"
   },
   {
    "duration": 3,
    "start_time": "2022-02-21T04:00:05.722Z"
   },
   {
    "duration": 17,
    "start_time": "2022-02-21T04:00:05.728Z"
   },
   {
    "duration": 33,
    "start_time": "2022-02-21T04:00:05.747Z"
   },
   {
    "duration": 419,
    "start_time": "2022-02-21T04:00:05.783Z"
   },
   {
    "duration": -1632,
    "start_time": "2022-02-21T04:00:07.836Z"
   },
   {
    "duration": 60,
    "start_time": "2022-02-21T04:01:15.811Z"
   },
   {
    "duration": 86,
    "start_time": "2022-02-21T04:01:59.453Z"
   },
   {
    "duration": 70,
    "start_time": "2022-02-21T04:02:15.785Z"
   },
   {
    "duration": 108,
    "start_time": "2022-02-21T04:02:41.611Z"
   },
   {
    "duration": 12,
    "start_time": "2022-02-21T04:03:19.842Z"
   },
   {
    "duration": 7,
    "start_time": "2022-02-21T04:03:23.283Z"
   },
   {
    "duration": 8,
    "start_time": "2022-02-21T04:03:36.803Z"
   },
   {
    "duration": 5,
    "start_time": "2022-02-21T04:03:45.803Z"
   },
   {
    "duration": 4870,
    "start_time": "2022-02-21T04:05:52.403Z"
   },
   {
    "duration": 4851,
    "start_time": "2022-02-21T04:06:10.522Z"
   },
   {
    "duration": 91,
    "start_time": "2022-02-21T04:06:38.643Z"
   },
   {
    "duration": 15,
    "start_time": "2022-02-21T04:06:38.780Z"
   },
   {
    "duration": 12,
    "start_time": "2022-02-21T04:06:38.798Z"
   },
   {
    "duration": 7,
    "start_time": "2022-02-21T04:06:38.814Z"
   },
   {
    "duration": 13,
    "start_time": "2022-02-21T04:06:38.824Z"
   },
   {
    "duration": 7,
    "start_time": "2022-02-21T04:06:38.839Z"
   },
   {
    "duration": 82,
    "start_time": "2022-02-21T04:06:38.849Z"
   },
   {
    "duration": 9,
    "start_time": "2022-02-21T04:06:38.934Z"
   },
   {
    "duration": 12,
    "start_time": "2022-02-21T04:06:38.946Z"
   },
   {
    "duration": 8,
    "start_time": "2022-02-21T04:06:38.960Z"
   },
   {
    "duration": 61,
    "start_time": "2022-02-21T04:06:38.971Z"
   },
   {
    "duration": 7,
    "start_time": "2022-02-21T04:06:39.034Z"
   },
   {
    "duration": 4,
    "start_time": "2022-02-21T04:06:39.045Z"
   },
   {
    "duration": 4762,
    "start_time": "2022-02-21T04:06:39.052Z"
   },
   {
    "duration": 5057,
    "start_time": "2022-02-21T04:07:14.281Z"
   },
   {
    "duration": 87,
    "start_time": "2022-02-21T04:07:26.492Z"
   },
   {
    "duration": 35,
    "start_time": "2022-02-21T04:07:26.582Z"
   },
   {
    "duration": 12,
    "start_time": "2022-02-21T04:07:26.620Z"
   },
   {
    "duration": 7,
    "start_time": "2022-02-21T04:07:26.635Z"
   },
   {
    "duration": 10,
    "start_time": "2022-02-21T04:07:26.645Z"
   },
   {
    "duration": 6,
    "start_time": "2022-02-21T04:07:26.657Z"
   },
   {
    "duration": 40,
    "start_time": "2022-02-21T04:07:26.711Z"
   },
   {
    "duration": 9,
    "start_time": "2022-02-21T04:07:26.754Z"
   },
   {
    "duration": 51,
    "start_time": "2022-02-21T04:07:26.766Z"
   },
   {
    "duration": 9,
    "start_time": "2022-02-21T04:07:26.820Z"
   },
   {
    "duration": 24,
    "start_time": "2022-02-21T04:07:26.832Z"
   },
   {
    "duration": 6,
    "start_time": "2022-02-21T04:07:26.860Z"
   },
   {
    "duration": 43,
    "start_time": "2022-02-21T04:07:26.868Z"
   },
   {
    "duration": 9,
    "start_time": "2022-02-21T04:07:26.914Z"
   },
   {
    "duration": 19,
    "start_time": "2022-02-21T04:15:35.122Z"
   },
   {
    "duration": 10,
    "start_time": "2022-02-21T04:15:59.525Z"
   },
   {
    "duration": 380,
    "start_time": "2022-02-21T04:17:23.531Z"
   },
   {
    "duration": 10,
    "start_time": "2022-02-21T04:17:42.250Z"
   },
   {
    "duration": 433,
    "start_time": "2022-02-21T04:19:48.751Z"
   },
   {
    "duration": 7,
    "start_time": "2022-02-21T04:19:55.491Z"
   },
   {
    "duration": 16,
    "start_time": "2022-02-21T04:20:50.752Z"
   },
   {
    "duration": 22,
    "start_time": "2022-02-21T04:20:59.291Z"
   },
   {
    "duration": 24,
    "start_time": "2022-02-21T04:26:15.574Z"
   },
   {
    "duration": 7,
    "start_time": "2022-02-21T04:32:47.246Z"
   },
   {
    "duration": 16,
    "start_time": "2022-02-21T04:32:56.224Z"
   },
   {
    "duration": 392,
    "start_time": "2022-02-21T04:34:45.787Z"
   },
   {
    "duration": 15,
    "start_time": "2022-02-21T04:35:15.935Z"
   },
   {
    "duration": 16,
    "start_time": "2022-02-21T04:38:42.305Z"
   },
   {
    "duration": 15,
    "start_time": "2022-02-21T04:40:23.966Z"
   },
   {
    "duration": 391,
    "start_time": "2022-02-21T04:47:12.552Z"
   },
   {
    "duration": 8,
    "start_time": "2022-02-21T04:47:26.914Z"
   },
   {
    "duration": 389,
    "start_time": "2022-02-21T04:47:51.224Z"
   },
   {
    "duration": 432,
    "start_time": "2022-02-21T04:48:14.466Z"
   },
   {
    "duration": 379,
    "start_time": "2022-02-21T04:48:26.233Z"
   },
   {
    "duration": 16,
    "start_time": "2022-02-21T04:48:43.404Z"
   },
   {
    "duration": 108,
    "start_time": "2022-02-21T04:50:02.463Z"
   },
   {
    "duration": 37,
    "start_time": "2022-02-21T04:50:02.574Z"
   },
   {
    "duration": 15,
    "start_time": "2022-02-21T04:50:02.615Z"
   },
   {
    "duration": 10,
    "start_time": "2022-02-21T04:50:02.633Z"
   },
   {
    "duration": 20,
    "start_time": "2022-02-21T04:50:02.647Z"
   },
   {
    "duration": 12,
    "start_time": "2022-02-21T04:50:02.703Z"
   },
   {
    "duration": 40,
    "start_time": "2022-02-21T04:50:02.793Z"
   },
   {
    "duration": 8,
    "start_time": "2022-02-21T04:50:02.836Z"
   },
   {
    "duration": 14,
    "start_time": "2022-02-21T04:50:02.846Z"
   },
   {
    "duration": 7,
    "start_time": "2022-02-21T04:50:02.945Z"
   },
   {
    "duration": 27,
    "start_time": "2022-02-21T04:50:02.955Z"
   },
   {
    "duration": 6,
    "start_time": "2022-02-21T04:50:02.985Z"
   },
   {
    "duration": 5,
    "start_time": "2022-02-21T04:50:02.994Z"
   },
   {
    "duration": 16,
    "start_time": "2022-02-21T04:50:03.002Z"
   },
   {
    "duration": 20,
    "start_time": "2022-02-21T04:50:03.020Z"
   },
   {
    "duration": 13,
    "start_time": "2022-02-21T04:50:03.043Z"
   },
   {
    "duration": 52,
    "start_time": "2022-02-21T04:50:03.059Z"
   },
   {
    "duration": 25,
    "start_time": "2022-02-21T04:50:03.114Z"
   },
   {
    "duration": 27,
    "start_time": "2022-02-21T04:50:03.142Z"
   },
   {
    "duration": 53,
    "start_time": "2022-02-21T04:50:03.172Z"
   },
   {
    "duration": 16,
    "start_time": "2022-02-21T04:50:03.227Z"
   },
   {
    "duration": 20,
    "start_time": "2022-02-21T04:50:03.246Z"
   },
   {
    "duration": 15,
    "start_time": "2022-02-21T04:50:36.104Z"
   },
   {
    "duration": 80,
    "start_time": "2022-02-21T06:00:49.428Z"
   },
   {
    "duration": 15,
    "start_time": "2022-02-21T06:00:49.511Z"
   },
   {
    "duration": 15,
    "start_time": "2022-02-21T06:00:49.529Z"
   },
   {
    "duration": 8,
    "start_time": "2022-02-21T06:00:49.546Z"
   },
   {
    "duration": 11,
    "start_time": "2022-02-21T06:00:49.556Z"
   },
   {
    "duration": 7,
    "start_time": "2022-02-21T06:00:49.611Z"
   },
   {
    "duration": 40,
    "start_time": "2022-02-21T06:00:49.631Z"
   },
   {
    "duration": 42,
    "start_time": "2022-02-21T06:00:49.674Z"
   },
   {
    "duration": 15,
    "start_time": "2022-02-21T06:00:49.720Z"
   },
   {
    "duration": 8,
    "start_time": "2022-02-21T06:00:49.738Z"
   },
   {
    "duration": 61,
    "start_time": "2022-02-21T06:00:49.750Z"
   },
   {
    "duration": 6,
    "start_time": "2022-02-21T06:00:49.813Z"
   },
   {
    "duration": 4,
    "start_time": "2022-02-21T06:00:49.822Z"
   },
   {
    "duration": 10,
    "start_time": "2022-02-21T06:00:49.829Z"
   },
   {
    "duration": 18,
    "start_time": "2022-02-21T06:00:49.843Z"
   },
   {
    "duration": 52,
    "start_time": "2022-02-21T06:00:49.864Z"
   },
   {
    "duration": 10,
    "start_time": "2022-02-21T06:00:49.919Z"
   },
   {
    "duration": 27,
    "start_time": "2022-02-21T06:00:49.932Z"
   },
   {
    "duration": 8,
    "start_time": "2022-02-21T06:00:49.962Z"
   },
   {
    "duration": 61,
    "start_time": "2022-02-21T06:00:49.972Z"
   },
   {
    "duration": 17,
    "start_time": "2022-02-21T06:00:50.036Z"
   },
   {
    "duration": 17,
    "start_time": "2022-02-21T06:00:50.055Z"
   },
   {
    "duration": 38,
    "start_time": "2022-02-21T06:00:50.075Z"
   },
   {
    "duration": 19,
    "start_time": "2022-02-21T06:00:50.115Z"
   },
   {
    "duration": 5,
    "start_time": "2022-02-21T06:00:50.137Z"
   },
   {
    "duration": 19,
    "start_time": "2022-02-21T06:00:50.144Z"
   },
   {
    "duration": 131,
    "start_time": "2022-02-21T06:00:50.167Z"
   },
   {
    "duration": -893,
    "start_time": "2022-02-21T06:00:51.195Z"
   },
   {
    "duration": 7,
    "start_time": "2022-02-21T06:02:14.730Z"
   },
   {
    "duration": 35,
    "start_time": "2022-02-21T06:02:23.221Z"
   },
   {
    "duration": 5,
    "start_time": "2022-02-21T06:29:07.995Z"
   },
   {
    "duration": 31,
    "start_time": "2022-02-21T06:29:27.956Z"
   },
   {
    "duration": 57,
    "start_time": "2022-02-21T06:29:48.385Z"
   },
   {
    "duration": 5,
    "start_time": "2022-02-21T06:31:14.696Z"
   },
   {
    "duration": 5,
    "start_time": "2022-02-21T06:31:45.818Z"
   },
   {
    "duration": 5,
    "start_time": "2022-02-21T06:32:26.448Z"
   },
   {
    "duration": 44,
    "start_time": "2022-02-21T06:32:29.884Z"
   },
   {
    "duration": 54,
    "start_time": "2022-02-21T06:33:01.935Z"
   },
   {
    "duration": 450,
    "start_time": "2022-02-21T06:35:02.927Z"
   },
   {
    "duration": 5,
    "start_time": "2022-02-21T06:35:14.669Z"
   },
   {
    "duration": 54,
    "start_time": "2022-02-21T06:35:18.206Z"
   },
   {
    "duration": 5,
    "start_time": "2022-02-21T06:36:35.436Z"
   },
   {
    "duration": 5,
    "start_time": "2022-02-21T06:36:54.025Z"
   },
   {
    "duration": 43,
    "start_time": "2022-02-21T06:36:56.621Z"
   },
   {
    "duration": 5,
    "start_time": "2022-02-21T06:37:53.055Z"
   },
   {
    "duration": 42,
    "start_time": "2022-02-21T06:37:54.854Z"
   },
   {
    "duration": 135,
    "start_time": "2022-02-21T06:39:11.808Z"
   },
   {
    "duration": 8,
    "start_time": "2022-02-21T06:39:17.625Z"
   },
   {
    "duration": 5,
    "start_time": "2022-02-21T06:40:23.742Z"
   },
   {
    "duration": 41,
    "start_time": "2022-02-21T06:40:27.590Z"
   },
   {
    "duration": 5,
    "start_time": "2022-02-21T06:40:45.932Z"
   },
   {
    "duration": 501,
    "start_time": "2022-02-21T06:57:49.580Z"
   },
   {
    "duration": 22,
    "start_time": "2022-02-21T07:00:50.633Z"
   },
   {
    "duration": 32,
    "start_time": "2022-02-21T07:01:00.279Z"
   },
   {
    "duration": 136,
    "start_time": "2022-02-21T07:02:04.838Z"
   },
   {
    "duration": 229,
    "start_time": "2022-02-21T07:06:03.781Z"
   },
   {
    "duration": 27,
    "start_time": "2022-02-21T07:06:11.266Z"
   },
   {
    "duration": 44,
    "start_time": "2022-02-21T07:06:24.130Z"
   },
   {
    "duration": 424,
    "start_time": "2022-02-21T07:08:44.193Z"
   },
   {
    "duration": 394,
    "start_time": "2022-02-21T07:08:53.891Z"
   },
   {
    "duration": 35,
    "start_time": "2022-02-21T07:10:03.409Z"
   },
   {
    "duration": 46,
    "start_time": "2022-02-21T07:10:54.597Z"
   },
   {
    "duration": 22,
    "start_time": "2022-02-21T07:12:05.110Z"
   },
   {
    "duration": 17,
    "start_time": "2022-02-21T07:13:32.709Z"
   },
   {
    "duration": 6,
    "start_time": "2022-02-21T07:14:31.377Z"
   },
   {
    "duration": 6,
    "start_time": "2022-02-21T07:14:47.989Z"
   },
   {
    "duration": 18,
    "start_time": "2022-02-21T07:15:20.422Z"
   },
   {
    "duration": 22,
    "start_time": "2022-02-21T07:15:28.806Z"
   },
   {
    "duration": 6,
    "start_time": "2022-02-21T07:16:09.657Z"
   },
   {
    "duration": 8,
    "start_time": "2022-02-21T07:22:50.806Z"
   },
   {
    "duration": 417,
    "start_time": "2022-02-21T07:24:26.534Z"
   },
   {
    "duration": 11,
    "start_time": "2022-02-21T07:24:52.056Z"
   },
   {
    "duration": 12,
    "start_time": "2022-02-21T07:25:16.169Z"
   },
   {
    "duration": 20,
    "start_time": "2022-02-21T07:27:26.214Z"
   },
   {
    "duration": 20,
    "start_time": "2022-02-21T07:29:11.262Z"
   },
   {
    "duration": 672,
    "start_time": "2022-02-21T07:31:02.050Z"
   },
   {
    "duration": 21,
    "start_time": "2022-02-21T07:31:31.437Z"
   },
   {
    "duration": 1636,
    "start_time": "2022-02-21T07:36:10.619Z"
   },
   {
    "duration": 22,
    "start_time": "2022-02-21T07:36:18.669Z"
   },
   {
    "duration": 1034,
    "start_time": "2022-02-21T07:40:22.967Z"
   },
   {
    "duration": 364,
    "start_time": "2022-02-21T07:40:43.771Z"
   },
   {
    "duration": 20,
    "start_time": "2022-02-21T07:40:52.737Z"
   },
   {
    "duration": 18,
    "start_time": "2022-02-21T07:41:48.328Z"
   },
   {
    "duration": 27,
    "start_time": "2022-02-21T07:42:00.037Z"
   },
   {
    "duration": 20,
    "start_time": "2022-02-21T07:42:07.604Z"
   },
   {
    "duration": 19,
    "start_time": "2022-02-21T07:43:01.572Z"
   },
   {
    "duration": 86,
    "start_time": "2022-02-21T07:46:14.964Z"
   },
   {
    "duration": 15,
    "start_time": "2022-02-21T07:46:15.086Z"
   },
   {
    "duration": 14,
    "start_time": "2022-02-21T07:46:15.218Z"
   },
   {
    "duration": 10,
    "start_time": "2022-02-21T07:46:15.236Z"
   },
   {
    "duration": 12,
    "start_time": "2022-02-21T07:46:15.354Z"
   },
   {
    "duration": 8,
    "start_time": "2022-02-21T07:46:15.369Z"
   },
   {
    "duration": 38,
    "start_time": "2022-02-21T07:46:15.390Z"
   },
   {
    "duration": 8,
    "start_time": "2022-02-21T07:46:15.431Z"
   },
   {
    "duration": 12,
    "start_time": "2022-02-21T07:46:15.490Z"
   },
   {
    "duration": 8,
    "start_time": "2022-02-21T07:46:15.504Z"
   },
   {
    "duration": 26,
    "start_time": "2022-02-21T07:46:15.515Z"
   },
   {
    "duration": 6,
    "start_time": "2022-02-21T07:46:15.544Z"
   },
   {
    "duration": 6,
    "start_time": "2022-02-21T07:46:15.596Z"
   },
   {
    "duration": 10,
    "start_time": "2022-02-21T07:46:15.604Z"
   },
   {
    "duration": 17,
    "start_time": "2022-02-21T07:46:15.616Z"
   },
   {
    "duration": 12,
    "start_time": "2022-02-21T07:46:15.636Z"
   },
   {
    "duration": 7,
    "start_time": "2022-02-21T07:46:15.651Z"
   },
   {
    "duration": 23,
    "start_time": "2022-02-21T07:46:15.660Z"
   },
   {
    "duration": 7,
    "start_time": "2022-02-21T07:46:15.711Z"
   },
   {
    "duration": 25,
    "start_time": "2022-02-21T07:46:15.721Z"
   },
   {
    "duration": 16,
    "start_time": "2022-02-21T07:46:15.945Z"
   },
   {
    "duration": 14,
    "start_time": "2022-02-21T07:46:15.964Z"
   },
   {
    "duration": 6,
    "start_time": "2022-02-21T07:46:15.981Z"
   },
   {
    "duration": 22,
    "start_time": "2022-02-21T07:46:15.990Z"
   },
   {
    "duration": 5,
    "start_time": "2022-02-21T07:46:16.014Z"
   },
   {
    "duration": 15,
    "start_time": "2022-02-21T07:46:16.022Z"
   },
   {
    "duration": 390,
    "start_time": "2022-02-21T07:46:16.039Z"
   },
   {
    "duration": -1666,
    "start_time": "2022-02-21T07:46:18.098Z"
   },
   {
    "duration": -1684,
    "start_time": "2022-02-21T07:46:18.118Z"
   },
   {
    "duration": -1689,
    "start_time": "2022-02-21T07:46:18.126Z"
   },
   {
    "duration": -1695,
    "start_time": "2022-02-21T07:46:18.133Z"
   },
   {
    "duration": -1698,
    "start_time": "2022-02-21T07:46:18.138Z"
   },
   {
    "duration": -1701,
    "start_time": "2022-02-21T07:46:18.144Z"
   },
   {
    "duration": 89,
    "start_time": "2022-02-21T07:46:50.986Z"
   },
   {
    "duration": 42,
    "start_time": "2022-02-21T07:46:51.079Z"
   },
   {
    "duration": 15,
    "start_time": "2022-02-21T07:46:51.125Z"
   },
   {
    "duration": 9,
    "start_time": "2022-02-21T07:46:51.144Z"
   },
   {
    "duration": 13,
    "start_time": "2022-02-21T07:46:51.156Z"
   },
   {
    "duration": 9,
    "start_time": "2022-02-21T07:46:51.212Z"
   },
   {
    "duration": 42,
    "start_time": "2022-02-21T07:46:51.224Z"
   },
   {
    "duration": 45,
    "start_time": "2022-02-21T07:46:51.270Z"
   },
   {
    "duration": 12,
    "start_time": "2022-02-21T07:46:51.318Z"
   },
   {
    "duration": 19,
    "start_time": "2022-02-21T07:46:51.333Z"
   },
   {
    "duration": 26,
    "start_time": "2022-02-21T07:46:51.355Z"
   },
   {
    "duration": 32,
    "start_time": "2022-02-21T07:46:51.383Z"
   },
   {
    "duration": 5,
    "start_time": "2022-02-21T07:46:51.418Z"
   },
   {
    "duration": 9,
    "start_time": "2022-02-21T07:46:51.445Z"
   },
   {
    "duration": 16,
    "start_time": "2022-02-21T07:46:51.457Z"
   },
   {
    "duration": 40,
    "start_time": "2022-02-21T07:46:51.477Z"
   },
   {
    "duration": 7,
    "start_time": "2022-02-21T07:46:51.521Z"
   },
   {
    "duration": 25,
    "start_time": "2022-02-21T07:46:51.530Z"
   },
   {
    "duration": 8,
    "start_time": "2022-02-21T07:46:51.557Z"
   },
   {
    "duration": 64,
    "start_time": "2022-02-21T07:46:51.567Z"
   },
   {
    "duration": 16,
    "start_time": "2022-02-21T07:46:51.634Z"
   },
   {
    "duration": 16,
    "start_time": "2022-02-21T07:46:51.654Z"
   },
   {
    "duration": 38,
    "start_time": "2022-02-21T07:46:51.673Z"
   },
   {
    "duration": 17,
    "start_time": "2022-02-21T07:46:51.713Z"
   },
   {
    "duration": 5,
    "start_time": "2022-02-21T07:46:51.732Z"
   },
   {
    "duration": 14,
    "start_time": "2022-02-21T07:46:51.739Z"
   },
   {
    "duration": 2,
    "start_time": "2022-02-21T07:46:51.756Z"
   },
   {
    "duration": 5,
    "start_time": "2022-02-21T07:46:51.761Z"
   },
   {
    "duration": 43,
    "start_time": "2022-02-21T07:46:51.810Z"
   },
   {
    "duration": 21,
    "start_time": "2022-02-21T07:46:51.856Z"
   },
   {
    "duration": 45,
    "start_time": "2022-02-21T07:46:51.879Z"
   },
   {
    "duration": 18,
    "start_time": "2022-02-21T07:46:51.927Z"
   },
   {
    "duration": 20,
    "start_time": "2022-02-21T07:46:52.164Z"
   },
   {
    "duration": 7,
    "start_time": "2022-02-21T07:51:47.275Z"
   },
   {
    "duration": 24,
    "start_time": "2022-02-21T07:52:40.340Z"
   },
   {
    "duration": 8,
    "start_time": "2022-02-21T07:52:53.885Z"
   },
   {
    "duration": 9,
    "start_time": "2022-02-21T07:57:19.290Z"
   },
   {
    "duration": 7,
    "start_time": "2022-02-21T07:58:03.993Z"
   },
   {
    "duration": 10,
    "start_time": "2022-02-21T07:59:15.730Z"
   },
   {
    "duration": 11,
    "start_time": "2022-02-21T07:59:50.492Z"
   },
   {
    "duration": 287,
    "start_time": "2022-02-21T08:00:16.171Z"
   },
   {
    "duration": 6,
    "start_time": "2022-02-21T08:00:41.211Z"
   },
   {
    "duration": 7,
    "start_time": "2022-02-21T08:01:17.950Z"
   },
   {
    "duration": 7,
    "start_time": "2022-02-21T08:03:17.650Z"
   },
   {
    "duration": 7,
    "start_time": "2022-02-21T08:03:40.099Z"
   },
   {
    "duration": 651,
    "start_time": "2022-02-22T00:40:33.534Z"
   },
   {
    "duration": 12,
    "start_time": "2022-02-22T00:40:34.187Z"
   },
   {
    "duration": 18,
    "start_time": "2022-02-22T00:40:34.201Z"
   },
   {
    "duration": 5,
    "start_time": "2022-02-22T00:40:34.221Z"
   },
   {
    "duration": 10,
    "start_time": "2022-02-22T00:40:34.228Z"
   },
   {
    "duration": 5,
    "start_time": "2022-02-22T00:40:34.240Z"
   },
   {
    "duration": 27,
    "start_time": "2022-02-22T00:40:34.246Z"
   },
   {
    "duration": 246,
    "start_time": "2022-02-22T00:40:34.275Z"
   },
   {
    "duration": -1297,
    "start_time": "2022-02-22T00:40:35.821Z"
   },
   {
    "duration": -1312,
    "start_time": "2022-02-22T00:40:35.837Z"
   },
   {
    "duration": -1319,
    "start_time": "2022-02-22T00:40:35.845Z"
   },
   {
    "duration": -1323,
    "start_time": "2022-02-22T00:40:35.850Z"
   },
   {
    "duration": -1329,
    "start_time": "2022-02-22T00:40:35.857Z"
   },
   {
    "duration": -1336,
    "start_time": "2022-02-22T00:40:35.865Z"
   },
   {
    "duration": -1341,
    "start_time": "2022-02-22T00:40:35.871Z"
   },
   {
    "duration": -1362,
    "start_time": "2022-02-22T00:40:35.893Z"
   },
   {
    "duration": -1370,
    "start_time": "2022-02-22T00:40:35.902Z"
   },
   {
    "duration": -1376,
    "start_time": "2022-02-22T00:40:35.909Z"
   },
   {
    "duration": -1383,
    "start_time": "2022-02-22T00:40:35.917Z"
   },
   {
    "duration": -1387,
    "start_time": "2022-02-22T00:40:35.922Z"
   },
   {
    "duration": -1393,
    "start_time": "2022-02-22T00:40:35.929Z"
   },
   {
    "duration": -1505,
    "start_time": "2022-02-22T00:40:36.042Z"
   },
   {
    "duration": -1679,
    "start_time": "2022-02-22T00:40:36.217Z"
   },
   {
    "duration": -1686,
    "start_time": "2022-02-22T00:40:36.225Z"
   },
   {
    "duration": -1693,
    "start_time": "2022-02-22T00:40:36.233Z"
   },
   {
    "duration": -1697,
    "start_time": "2022-02-22T00:40:36.238Z"
   },
   {
    "duration": -1702,
    "start_time": "2022-02-22T00:40:36.245Z"
   },
   {
    "duration": -1705,
    "start_time": "2022-02-22T00:40:36.249Z"
   },
   {
    "duration": -1710,
    "start_time": "2022-02-22T00:40:36.255Z"
   },
   {
    "duration": -1715,
    "start_time": "2022-02-22T00:40:36.261Z"
   },
   {
    "duration": -1720,
    "start_time": "2022-02-22T00:40:36.267Z"
   },
   {
    "duration": -1724,
    "start_time": "2022-02-22T00:40:36.272Z"
   },
   {
    "duration": -1728,
    "start_time": "2022-02-22T00:40:36.277Z"
   },
   {
    "duration": -1744,
    "start_time": "2022-02-22T00:40:36.295Z"
   },
   {
    "duration": -1816,
    "start_time": "2022-02-22T00:40:36.369Z"
   },
   {
    "duration": -1820,
    "start_time": "2022-02-22T00:40:36.374Z"
   },
   {
    "duration": -1825,
    "start_time": "2022-02-22T00:40:36.380Z"
   },
   {
    "duration": -1828,
    "start_time": "2022-02-22T00:40:36.385Z"
   },
   {
    "duration": -1832,
    "start_time": "2022-02-22T00:40:36.390Z"
   },
   {
    "duration": -1836,
    "start_time": "2022-02-22T00:40:36.395Z"
   },
   {
    "duration": 59,
    "start_time": "2022-02-22T00:41:20.875Z"
   },
   {
    "duration": 11,
    "start_time": "2022-02-22T00:41:20.936Z"
   },
   {
    "duration": 15,
    "start_time": "2022-02-22T00:41:20.949Z"
   },
   {
    "duration": 18,
    "start_time": "2022-02-22T00:41:20.966Z"
   },
   {
    "duration": 22,
    "start_time": "2022-02-22T00:41:20.986Z"
   },
   {
    "duration": 32,
    "start_time": "2022-02-22T00:41:21.010Z"
   },
   {
    "duration": 41,
    "start_time": "2022-02-22T00:41:21.043Z"
   },
   {
    "duration": 28,
    "start_time": "2022-02-22T00:41:21.086Z"
   },
   {
    "duration": 21,
    "start_time": "2022-02-22T00:41:21.118Z"
   },
   {
    "duration": 18,
    "start_time": "2022-02-22T00:41:21.142Z"
   },
   {
    "duration": 36,
    "start_time": "2022-02-22T00:41:21.161Z"
   },
   {
    "duration": 29,
    "start_time": "2022-02-22T00:41:21.199Z"
   },
   {
    "duration": 56,
    "start_time": "2022-02-22T00:41:21.230Z"
   },
   {
    "duration": 45,
    "start_time": "2022-02-22T00:41:21.287Z"
   },
   {
    "duration": 43,
    "start_time": "2022-02-22T00:41:21.333Z"
   },
   {
    "duration": 15,
    "start_time": "2022-02-22T00:41:21.378Z"
   },
   {
    "duration": 39,
    "start_time": "2022-02-22T00:41:21.395Z"
   },
   {
    "duration": 37,
    "start_time": "2022-02-22T00:41:21.436Z"
   },
   {
    "duration": 32,
    "start_time": "2022-02-22T00:41:21.475Z"
   },
   {
    "duration": 30,
    "start_time": "2022-02-22T00:41:21.509Z"
   },
   {
    "duration": 20,
    "start_time": "2022-02-22T00:41:21.541Z"
   },
   {
    "duration": 39,
    "start_time": "2022-02-22T00:41:21.563Z"
   },
   {
    "duration": 25,
    "start_time": "2022-02-22T00:41:21.604Z"
   },
   {
    "duration": 16,
    "start_time": "2022-02-22T00:41:21.631Z"
   },
   {
    "duration": 57,
    "start_time": "2022-02-22T00:41:21.649Z"
   },
   {
    "duration": 43,
    "start_time": "2022-02-22T00:41:21.708Z"
   },
   {
    "duration": 27,
    "start_time": "2022-02-22T00:41:21.754Z"
   },
   {
    "duration": 24,
    "start_time": "2022-02-22T00:41:21.783Z"
   },
   {
    "duration": 20,
    "start_time": "2022-02-22T00:41:21.809Z"
   },
   {
    "duration": 10,
    "start_time": "2022-02-22T00:41:21.831Z"
   },
   {
    "duration": 20,
    "start_time": "2022-02-22T00:41:21.843Z"
   },
   {
    "duration": 17,
    "start_time": "2022-02-22T00:41:21.865Z"
   },
   {
    "duration": 15,
    "start_time": "2022-02-22T00:41:21.884Z"
   },
   {
    "duration": 20,
    "start_time": "2022-02-22T00:41:21.901Z"
   },
   {
    "duration": 32,
    "start_time": "2022-02-22T00:41:21.923Z"
   },
   {
    "duration": 59,
    "start_time": "2022-02-22T00:41:21.957Z"
   },
   {
    "duration": 25,
    "start_time": "2022-02-22T00:41:22.017Z"
   },
   {
    "duration": 19,
    "start_time": "2022-02-22T00:41:22.043Z"
   },
   {
    "duration": 41,
    "start_time": "2022-02-22T00:41:22.064Z"
   },
   {
    "duration": 35,
    "start_time": "2022-02-22T00:41:22.106Z"
   },
   {
    "duration": 76,
    "start_time": "2022-02-22T00:43:36.577Z"
   },
   {
    "duration": 7,
    "start_time": "2022-02-22T00:43:51.299Z"
   },
   {
    "duration": 8,
    "start_time": "2022-02-22T00:44:20.647Z"
   },
   {
    "duration": 1200,
    "start_time": "2022-02-22T00:44:39.668Z"
   },
   {
    "duration": 6,
    "start_time": "2022-02-22T00:45:14.887Z"
   },
   {
    "duration": 4,
    "start_time": "2022-02-22T00:45:20.902Z"
   },
   {
    "duration": 5,
    "start_time": "2022-02-22T00:46:03.809Z"
   },
   {
    "duration": 6,
    "start_time": "2022-02-22T00:46:29.608Z"
   },
   {
    "duration": 14,
    "start_time": "2022-02-22T00:46:47.930Z"
   },
   {
    "duration": 57,
    "start_time": "2022-02-22T00:48:08.901Z"
   },
   {
    "duration": 10,
    "start_time": "2022-02-22T00:48:08.960Z"
   },
   {
    "duration": 9,
    "start_time": "2022-02-22T00:48:08.972Z"
   },
   {
    "duration": 6,
    "start_time": "2022-02-22T00:48:08.982Z"
   },
   {
    "duration": 34,
    "start_time": "2022-02-22T00:48:08.989Z"
   },
   {
    "duration": 5,
    "start_time": "2022-02-22T00:48:09.025Z"
   },
   {
    "duration": 29,
    "start_time": "2022-02-22T00:48:09.315Z"
   },
   {
    "duration": 6,
    "start_time": "2022-02-22T00:48:09.346Z"
   },
   {
    "duration": 10,
    "start_time": "2022-02-22T00:48:09.354Z"
   },
   {
    "duration": 7,
    "start_time": "2022-02-22T00:48:09.366Z"
   },
   {
    "duration": 45,
    "start_time": "2022-02-22T00:48:09.375Z"
   },
   {
    "duration": 5,
    "start_time": "2022-02-22T00:48:09.421Z"
   },
   {
    "duration": 5,
    "start_time": "2022-02-22T00:48:09.428Z"
   },
   {
    "duration": 2,
    "start_time": "2022-02-22T00:48:09.434Z"
   },
   {
    "duration": 7,
    "start_time": "2022-02-22T00:48:09.438Z"
   },
   {
    "duration": 4,
    "start_time": "2022-02-22T00:48:09.447Z"
   },
   {
    "duration": 6,
    "start_time": "2022-02-22T00:48:09.452Z"
   },
   {
    "duration": 6,
    "start_time": "2022-02-22T00:48:09.459Z"
   },
   {
    "duration": 54,
    "start_time": "2022-02-22T00:48:09.466Z"
   },
   {
    "duration": 6,
    "start_time": "2022-02-22T00:48:09.522Z"
   },
   {
    "duration": 6,
    "start_time": "2022-02-22T00:48:09.529Z"
   },
   {
    "duration": 8,
    "start_time": "2022-02-22T00:48:09.536Z"
   },
   {
    "duration": 13,
    "start_time": "2022-02-22T00:48:09.545Z"
   },
   {
    "duration": 9,
    "start_time": "2022-02-22T00:48:09.560Z"
   },
   {
    "duration": 5,
    "start_time": "2022-02-22T00:48:09.570Z"
   },
   {
    "duration": 52,
    "start_time": "2022-02-22T00:48:09.578Z"
   },
   {
    "duration": 5,
    "start_time": "2022-02-22T00:48:09.632Z"
   },
   {
    "duration": 18,
    "start_time": "2022-02-22T00:48:09.639Z"
   },
   {
    "duration": 12,
    "start_time": "2022-02-22T00:48:09.658Z"
   },
   {
    "duration": 12,
    "start_time": "2022-02-22T00:48:09.672Z"
   },
   {
    "duration": 35,
    "start_time": "2022-02-22T00:48:09.686Z"
   },
   {
    "duration": 12,
    "start_time": "2022-02-22T00:48:09.723Z"
   },
   {
    "duration": 6,
    "start_time": "2022-02-22T00:48:09.737Z"
   },
   {
    "duration": 10,
    "start_time": "2022-02-22T00:48:09.745Z"
   },
   {
    "duration": 2,
    "start_time": "2022-02-22T00:48:09.756Z"
   },
   {
    "duration": 4,
    "start_time": "2022-02-22T00:48:09.760Z"
   },
   {
    "duration": 55,
    "start_time": "2022-02-22T00:48:09.766Z"
   },
   {
    "duration": 15,
    "start_time": "2022-02-22T00:48:09.822Z"
   },
   {
    "duration": 11,
    "start_time": "2022-02-22T00:48:09.839Z"
   },
   {
    "duration": 11,
    "start_time": "2022-02-22T00:48:09.852Z"
   },
   {
    "duration": 12,
    "start_time": "2022-02-22T00:48:09.865Z"
   },
   {
    "duration": 8,
    "start_time": "2022-02-22T00:49:08.741Z"
   },
   {
    "duration": 5,
    "start_time": "2022-02-22T01:00:21.241Z"
   },
   {
    "duration": 4,
    "start_time": "2022-02-22T01:00:33.372Z"
   },
   {
    "duration": 16,
    "start_time": "2022-02-22T01:02:43.965Z"
   },
   {
    "duration": 183,
    "start_time": "2022-02-22T01:03:33.220Z"
   },
   {
    "duration": 7,
    "start_time": "2022-02-22T01:03:42.013Z"
   },
   {
    "duration": 4,
    "start_time": "2022-02-22T01:04:59.440Z"
   },
   {
    "duration": 8,
    "start_time": "2022-02-22T01:05:51.562Z"
   },
   {
    "duration": 9,
    "start_time": "2022-02-22T01:06:19.380Z"
   },
   {
    "duration": 8,
    "start_time": "2022-02-22T01:10:20.840Z"
   },
   {
    "duration": 3,
    "start_time": "2022-02-22T01:12:19.581Z"
   },
   {
    "duration": 9,
    "start_time": "2022-02-22T01:12:23.811Z"
   },
   {
    "duration": 13,
    "start_time": "2022-02-22T01:12:34.644Z"
   },
   {
    "duration": 15,
    "start_time": "2022-02-22T01:12:40.790Z"
   },
   {
    "duration": 6,
    "start_time": "2022-02-22T01:18:10.263Z"
   },
   {
    "duration": 7,
    "start_time": "2022-02-22T01:37:15.403Z"
   },
   {
    "duration": 5,
    "start_time": "2022-02-22T01:42:21.198Z"
   },
   {
    "duration": 198,
    "start_time": "2022-02-22T01:47:32.794Z"
   },
   {
    "duration": 9,
    "start_time": "2022-02-22T01:47:41.053Z"
   },
   {
    "duration": 7,
    "start_time": "2022-02-22T01:48:30.954Z"
   },
   {
    "duration": 7,
    "start_time": "2022-02-22T01:48:34.393Z"
   },
   {
    "duration": 7,
    "start_time": "2022-02-22T01:48:43.663Z"
   },
   {
    "duration": 7,
    "start_time": "2022-02-22T01:56:06.712Z"
   },
   {
    "duration": 7,
    "start_time": "2022-02-22T01:56:21.780Z"
   },
   {
    "duration": 7,
    "start_time": "2022-02-22T01:57:09.772Z"
   },
   {
    "duration": 7,
    "start_time": "2022-02-22T01:58:31.995Z"
   },
   {
    "duration": 7,
    "start_time": "2022-02-22T01:59:09.084Z"
   },
   {
    "duration": 7,
    "start_time": "2022-02-22T01:59:19.112Z"
   },
   {
    "duration": 9,
    "start_time": "2022-02-22T02:00:45.871Z"
   },
   {
    "duration": 8,
    "start_time": "2022-02-22T02:00:53.759Z"
   },
   {
    "duration": 8,
    "start_time": "2022-02-22T02:01:04.410Z"
   },
   {
    "duration": 195,
    "start_time": "2022-02-22T02:02:15.647Z"
   },
   {
    "duration": 193,
    "start_time": "2022-02-22T02:02:34.406Z"
   },
   {
    "duration": 9,
    "start_time": "2022-02-22T02:02:45.696Z"
   },
   {
    "duration": 8,
    "start_time": "2022-02-22T02:03:03.386Z"
   },
   {
    "duration": 9,
    "start_time": "2022-02-22T02:07:18.056Z"
   },
   {
    "duration": 5,
    "start_time": "2022-02-22T02:13:37.817Z"
   },
   {
    "duration": 4,
    "start_time": "2022-02-22T02:13:40.407Z"
   },
   {
    "duration": 8,
    "start_time": "2022-02-22T02:17:10.167Z"
   },
   {
    "duration": 6,
    "start_time": "2022-02-22T02:17:21.585Z"
   },
   {
    "duration": 7,
    "start_time": "2022-02-22T02:17:41.535Z"
   },
   {
    "duration": 5,
    "start_time": "2022-02-22T02:17:44.087Z"
   },
   {
    "duration": 6,
    "start_time": "2022-02-22T02:18:21.615Z"
   },
   {
    "duration": 5,
    "start_time": "2022-02-22T02:18:24.167Z"
   },
   {
    "duration": 4,
    "start_time": "2022-02-22T02:18:41.648Z"
   },
   {
    "duration": 4,
    "start_time": "2022-02-22T02:18:51.527Z"
   },
   {
    "duration": 58,
    "start_time": "2022-02-22T02:19:30.985Z"
   },
   {
    "duration": 11,
    "start_time": "2022-02-22T02:19:31.046Z"
   },
   {
    "duration": 10,
    "start_time": "2022-02-22T02:19:31.059Z"
   },
   {
    "duration": 7,
    "start_time": "2022-02-22T02:19:31.071Z"
   },
   {
    "duration": 44,
    "start_time": "2022-02-22T02:19:31.080Z"
   },
   {
    "duration": 5,
    "start_time": "2022-02-22T02:19:31.126Z"
   },
   {
    "duration": 28,
    "start_time": "2022-02-22T02:19:31.133Z"
   },
   {
    "duration": 6,
    "start_time": "2022-02-22T02:19:31.162Z"
   },
   {
    "duration": 49,
    "start_time": "2022-02-22T02:19:31.170Z"
   },
   {
    "duration": 5,
    "start_time": "2022-02-22T02:19:31.221Z"
   },
   {
    "duration": 18,
    "start_time": "2022-02-22T02:19:31.228Z"
   },
   {
    "duration": 4,
    "start_time": "2022-02-22T02:19:31.248Z"
   },
   {
    "duration": 6,
    "start_time": "2022-02-22T02:19:31.254Z"
   },
   {
    "duration": 66,
    "start_time": "2022-02-22T02:19:31.262Z"
   },
   {
    "duration": -2621,
    "start_time": "2022-02-22T02:19:33.951Z"
   },
   {
    "duration": -2626,
    "start_time": "2022-02-22T02:19:33.957Z"
   },
   {
    "duration": -2632,
    "start_time": "2022-02-22T02:19:33.964Z"
   },
   {
    "duration": -2637,
    "start_time": "2022-02-22T02:19:33.970Z"
   },
   {
    "duration": -2643,
    "start_time": "2022-02-22T02:19:33.977Z"
   },
   {
    "duration": -2648,
    "start_time": "2022-02-22T02:19:33.983Z"
   },
   {
    "duration": 7,
    "start_time": "2022-02-22T02:19:31.367Z"
   },
   {
    "duration": 7,
    "start_time": "2022-02-22T02:19:31.376Z"
   },
   {
    "duration": 9,
    "start_time": "2022-02-22T02:19:31.385Z"
   },
   {
    "duration": 7,
    "start_time": "2022-02-22T02:19:31.677Z"
   },
   {
    "duration": 4601,
    "start_time": "2022-02-22T02:19:31.686Z"
   },
   {
    "duration": -1554,
    "start_time": "2022-02-22T02:19:37.844Z"
   },
   {
    "duration": -1560,
    "start_time": "2022-02-22T02:19:37.851Z"
   },
   {
    "duration": -1607,
    "start_time": "2022-02-22T02:19:37.898Z"
   },
   {
    "duration": -1628,
    "start_time": "2022-02-22T02:19:37.920Z"
   },
   {
    "duration": -1639,
    "start_time": "2022-02-22T02:19:37.932Z"
   },
   {
    "duration": -1644,
    "start_time": "2022-02-22T02:19:37.938Z"
   },
   {
    "duration": -1650,
    "start_time": "2022-02-22T02:19:37.945Z"
   },
   {
    "duration": -1655,
    "start_time": "2022-02-22T02:19:37.951Z"
   },
   {
    "duration": -1661,
    "start_time": "2022-02-22T02:19:37.958Z"
   },
   {
    "duration": -1668,
    "start_time": "2022-02-22T02:19:37.966Z"
   },
   {
    "duration": -1672,
    "start_time": "2022-02-22T02:19:37.971Z"
   },
   {
    "duration": -1678,
    "start_time": "2022-02-22T02:19:37.978Z"
   },
   {
    "duration": -1684,
    "start_time": "2022-02-22T02:19:37.984Z"
   },
   {
    "duration": -1827,
    "start_time": "2022-02-22T02:19:38.128Z"
   },
   {
    "duration": -1868,
    "start_time": "2022-02-22T02:19:38.170Z"
   },
   {
    "duration": -1900,
    "start_time": "2022-02-22T02:19:38.203Z"
   },
   {
    "duration": -1918,
    "start_time": "2022-02-22T02:19:38.222Z"
   },
   {
    "duration": -1929,
    "start_time": "2022-02-22T02:19:38.234Z"
   },
   {
    "duration": -1935,
    "start_time": "2022-02-22T02:19:38.240Z"
   },
   {
    "duration": -1942,
    "start_time": "2022-02-22T02:19:38.248Z"
   },
   {
    "duration": -2003,
    "start_time": "2022-02-22T02:19:38.310Z"
   },
   {
    "duration": -2008,
    "start_time": "2022-02-22T02:19:38.316Z"
   },
   {
    "duration": 55,
    "start_time": "2022-02-22T02:20:09.429Z"
   },
   {
    "duration": 11,
    "start_time": "2022-02-22T02:20:09.486Z"
   },
   {
    "duration": 22,
    "start_time": "2022-02-22T02:20:09.500Z"
   },
   {
    "duration": 6,
    "start_time": "2022-02-22T02:20:09.524Z"
   },
   {
    "duration": 7,
    "start_time": "2022-02-22T02:20:09.532Z"
   },
   {
    "duration": 5,
    "start_time": "2022-02-22T02:20:09.541Z"
   },
   {
    "duration": 28,
    "start_time": "2022-02-22T02:20:09.547Z"
   },
   {
    "duration": 46,
    "start_time": "2022-02-22T02:20:09.576Z"
   },
   {
    "duration": 11,
    "start_time": "2022-02-22T02:20:09.624Z"
   },
   {
    "duration": 5,
    "start_time": "2022-02-22T02:20:09.637Z"
   },
   {
    "duration": 25,
    "start_time": "2022-02-22T02:20:09.643Z"
   },
   {
    "duration": 4,
    "start_time": "2022-02-22T02:20:09.670Z"
   },
   {
    "duration": 45,
    "start_time": "2022-02-22T02:20:09.676Z"
   },
   {
    "duration": 73,
    "start_time": "2022-02-22T02:20:09.723Z"
   },
   {
    "duration": -2751,
    "start_time": "2022-02-22T02:20:12.550Z"
   },
   {
    "duration": -2761,
    "start_time": "2022-02-22T02:20:12.560Z"
   },
   {
    "duration": -2768,
    "start_time": "2022-02-22T02:20:12.568Z"
   },
   {
    "duration": -2775,
    "start_time": "2022-02-22T02:20:12.576Z"
   },
   {
    "duration": -2781,
    "start_time": "2022-02-22T02:20:12.583Z"
   },
   {
    "duration": -2788,
    "start_time": "2022-02-22T02:20:12.591Z"
   },
   {
    "duration": -2794,
    "start_time": "2022-02-22T02:20:12.598Z"
   },
   {
    "duration": -2799,
    "start_time": "2022-02-22T02:20:12.604Z"
   },
   {
    "duration": -2804,
    "start_time": "2022-02-22T02:20:12.610Z"
   },
   {
    "duration": -3209,
    "start_time": "2022-02-22T02:20:13.016Z"
   },
   {
    "duration": -3652,
    "start_time": "2022-02-22T02:20:13.460Z"
   },
   {
    "duration": -3657,
    "start_time": "2022-02-22T02:20:13.466Z"
   },
   {
    "duration": -3663,
    "start_time": "2022-02-22T02:20:13.473Z"
   },
   {
    "duration": -3668,
    "start_time": "2022-02-22T02:20:13.479Z"
   },
   {
    "duration": -3674,
    "start_time": "2022-02-22T02:20:13.486Z"
   },
   {
    "duration": -3680,
    "start_time": "2022-02-22T02:20:13.493Z"
   },
   {
    "duration": -3686,
    "start_time": "2022-02-22T02:20:13.500Z"
   },
   {
    "duration": -3690,
    "start_time": "2022-02-22T02:20:13.505Z"
   },
   {
    "duration": -3695,
    "start_time": "2022-02-22T02:20:13.512Z"
   },
   {
    "duration": 13,
    "start_time": "2022-02-22T02:20:09.904Z"
   },
   {
    "duration": 10,
    "start_time": "2022-02-22T02:20:09.919Z"
   },
   {
    "duration": 5,
    "start_time": "2022-02-22T02:20:09.931Z"
   },
   {
    "duration": 11,
    "start_time": "2022-02-22T02:20:09.938Z"
   },
   {
    "duration": 4,
    "start_time": "2022-02-22T02:20:09.951Z"
   },
   {
    "duration": 11,
    "start_time": "2022-02-22T02:20:09.957Z"
   },
   {
    "duration": 50,
    "start_time": "2022-02-22T02:20:09.970Z"
   },
   {
    "duration": 8,
    "start_time": "2022-02-22T02:20:10.022Z"
   },
   {
    "duration": 9,
    "start_time": "2022-02-22T02:20:10.032Z"
   },
   {
    "duration": 35,
    "start_time": "2022-02-22T02:20:10.042Z"
   },
   {
    "duration": 19,
    "start_time": "2022-02-22T02:20:10.079Z"
   },
   {
    "duration": 27,
    "start_time": "2022-02-22T02:20:10.100Z"
   },
   {
    "duration": 20,
    "start_time": "2022-02-22T02:20:10.128Z"
   },
   {
    "duration": 14,
    "start_time": "2022-02-22T02:20:10.150Z"
   },
   {
    "duration": 55,
    "start_time": "2022-02-22T02:20:59.059Z"
   },
   {
    "duration": 10,
    "start_time": "2022-02-22T02:20:59.116Z"
   },
   {
    "duration": 8,
    "start_time": "2022-02-22T02:20:59.128Z"
   },
   {
    "duration": 6,
    "start_time": "2022-02-22T02:20:59.451Z"
   },
   {
    "duration": 9,
    "start_time": "2022-02-22T02:20:59.458Z"
   },
   {
    "duration": 4,
    "start_time": "2022-02-22T02:20:59.469Z"
   },
   {
    "duration": 27,
    "start_time": "2022-02-22T02:21:00.497Z"
   },
   {
    "duration": 5,
    "start_time": "2022-02-22T02:21:00.526Z"
   },
   {
    "duration": 11,
    "start_time": "2022-02-22T02:21:00.533Z"
   },
   {
    "duration": 15,
    "start_time": "2022-02-22T02:21:00.546Z"
   },
   {
    "duration": 23,
    "start_time": "2022-02-22T02:21:00.563Z"
   },
   {
    "duration": 4,
    "start_time": "2022-02-22T02:21:00.588Z"
   },
   {
    "duration": 29,
    "start_time": "2022-02-22T02:21:00.594Z"
   },
   {
    "duration": 23,
    "start_time": "2022-02-22T02:21:00.625Z"
   },
   {
    "duration": 29,
    "start_time": "2022-02-22T02:21:00.650Z"
   },
   {
    "duration": 32,
    "start_time": "2022-02-22T02:21:00.681Z"
   },
   {
    "duration": 11,
    "start_time": "2022-02-22T02:21:00.714Z"
   },
   {
    "duration": 6,
    "start_time": "2022-02-22T02:21:00.732Z"
   },
   {
    "duration": 5,
    "start_time": "2022-02-22T02:21:00.739Z"
   },
   {
    "duration": 15,
    "start_time": "2022-02-22T02:21:00.746Z"
   },
   {
    "duration": 11,
    "start_time": "2022-02-22T02:21:00.763Z"
   },
   {
    "duration": 7,
    "start_time": "2022-02-22T02:21:00.776Z"
   },
   {
    "duration": 10,
    "start_time": "2022-02-22T02:21:00.785Z"
   },
   {
    "duration": 24,
    "start_time": "2022-02-22T02:21:00.796Z"
   },
   {
    "duration": 8,
    "start_time": "2022-02-22T02:21:00.822Z"
   },
   {
    "duration": 10,
    "start_time": "2022-02-22T02:21:00.832Z"
   },
   {
    "duration": 12,
    "start_time": "2022-02-22T02:21:00.844Z"
   },
   {
    "duration": 18,
    "start_time": "2022-02-22T02:21:00.858Z"
   },
   {
    "duration": 5,
    "start_time": "2022-02-22T02:21:00.878Z"
   },
   {
    "duration": 48,
    "start_time": "2022-02-22T02:21:00.884Z"
   },
   {
    "duration": 13,
    "start_time": "2022-02-22T02:21:00.933Z"
   },
   {
    "duration": 16,
    "start_time": "2022-02-22T02:21:00.947Z"
   },
   {
    "duration": 12,
    "start_time": "2022-02-22T02:21:01.337Z"
   },
   {
    "duration": 10,
    "start_time": "2022-02-22T02:21:01.351Z"
   },
   {
    "duration": 7,
    "start_time": "2022-02-22T02:21:01.363Z"
   },
   {
    "duration": 12,
    "start_time": "2022-02-22T02:21:01.371Z"
   },
   {
    "duration": 11,
    "start_time": "2022-02-22T02:21:01.385Z"
   },
   {
    "duration": 22,
    "start_time": "2022-02-22T02:21:01.398Z"
   },
   {
    "duration": 8,
    "start_time": "2022-02-22T02:21:01.422Z"
   },
   {
    "duration": 9,
    "start_time": "2022-02-22T02:21:01.432Z"
   },
   {
    "duration": 17,
    "start_time": "2022-02-22T02:21:01.443Z"
   },
   {
    "duration": 29,
    "start_time": "2022-02-22T02:21:01.462Z"
   },
   {
    "duration": 27,
    "start_time": "2022-02-22T02:21:01.492Z"
   },
   {
    "duration": 13,
    "start_time": "2022-02-22T02:21:01.520Z"
   },
   {
    "duration": 14,
    "start_time": "2022-02-22T02:21:01.889Z"
   },
   {
    "duration": 12,
    "start_time": "2022-02-22T02:21:01.905Z"
   },
   {
    "duration": 8,
    "start_time": "2022-02-22T02:21:51.016Z"
   },
   {
    "duration": 7,
    "start_time": "2022-02-22T02:22:00.211Z"
   },
   {
    "duration": 195,
    "start_time": "2022-02-22T02:23:41.899Z"
   },
   {
    "duration": 4,
    "start_time": "2022-02-22T02:23:48.576Z"
   },
   {
    "duration": 56,
    "start_time": "2022-02-22T02:36:18.827Z"
   },
   {
    "duration": 11,
    "start_time": "2022-02-22T02:36:18.885Z"
   },
   {
    "duration": 23,
    "start_time": "2022-02-22T02:36:18.898Z"
   },
   {
    "duration": 6,
    "start_time": "2022-02-22T02:36:19.117Z"
   },
   {
    "duration": 11,
    "start_time": "2022-02-22T02:36:19.125Z"
   },
   {
    "duration": 5,
    "start_time": "2022-02-22T02:36:19.246Z"
   },
   {
    "duration": 28,
    "start_time": "2022-02-22T02:36:19.456Z"
   },
   {
    "duration": 7,
    "start_time": "2022-02-22T02:36:19.486Z"
   },
   {
    "duration": 64,
    "start_time": "2022-02-22T02:36:19.495Z"
   },
   {
    "duration": -2386,
    "start_time": "2022-02-22T02:36:21.947Z"
   },
   {
    "duration": -2412,
    "start_time": "2022-02-22T02:36:21.974Z"
   },
   {
    "duration": -2418,
    "start_time": "2022-02-22T02:36:21.982Z"
   },
   {
    "duration": -2424,
    "start_time": "2022-02-22T02:36:21.989Z"
   },
   {
    "duration": -2429,
    "start_time": "2022-02-22T02:36:21.995Z"
   },
   {
    "duration": 6,
    "start_time": "2022-02-22T02:36:19.852Z"
   },
   {
    "duration": 7,
    "start_time": "2022-02-22T02:36:19.861Z"
   },
   {
    "duration": 5,
    "start_time": "2022-02-22T02:36:19.870Z"
   },
   {
    "duration": 8,
    "start_time": "2022-02-22T02:36:19.876Z"
   },
   {
    "duration": 4,
    "start_time": "2022-02-22T02:36:19.886Z"
   },
   {
    "duration": 8,
    "start_time": "2022-02-22T02:36:19.891Z"
   },
   {
    "duration": 19,
    "start_time": "2022-02-22T02:36:19.900Z"
   },
   {
    "duration": 5,
    "start_time": "2022-02-22T02:36:19.921Z"
   },
   {
    "duration": 2,
    "start_time": "2022-02-22T02:36:19.929Z"
   },
   {
    "duration": 4,
    "start_time": "2022-02-22T02:36:19.933Z"
   },
   {
    "duration": 208,
    "start_time": "2022-02-22T02:36:19.939Z"
   },
   {
    "duration": -3094,
    "start_time": "2022-02-22T02:36:23.243Z"
   },
   {
    "duration": -3122,
    "start_time": "2022-02-22T02:36:23.272Z"
   },
   {
    "duration": -3132,
    "start_time": "2022-02-22T02:36:23.283Z"
   },
   {
    "duration": -3140,
    "start_time": "2022-02-22T02:36:23.292Z"
   },
   {
    "duration": -3145,
    "start_time": "2022-02-22T02:36:23.298Z"
   },
   {
    "duration": 6,
    "start_time": "2022-02-22T02:36:20.266Z"
   },
   {
    "duration": 14,
    "start_time": "2022-02-22T02:36:20.274Z"
   },
   {
    "duration": 11,
    "start_time": "2022-02-22T02:36:20.290Z"
   },
   {
    "duration": 10,
    "start_time": "2022-02-22T02:36:20.303Z"
   },
   {
    "duration": 4,
    "start_time": "2022-02-22T02:36:20.315Z"
   },
   {
    "duration": 13,
    "start_time": "2022-02-22T02:36:20.321Z"
   },
   {
    "duration": 3,
    "start_time": "2022-02-22T02:36:20.335Z"
   },
   {
    "duration": 13,
    "start_time": "2022-02-22T02:36:20.340Z"
   },
   {
    "duration": 9,
    "start_time": "2022-02-22T02:36:20.355Z"
   },
   {
    "duration": 11,
    "start_time": "2022-02-22T02:36:20.366Z"
   },
   {
    "duration": 4,
    "start_time": "2022-02-22T02:36:20.379Z"
   },
   {
    "duration": 57,
    "start_time": "2022-02-22T02:36:20.385Z"
   },
   {
    "duration": 17,
    "start_time": "2022-02-22T02:36:20.444Z"
   },
   {
    "duration": 12,
    "start_time": "2022-02-22T02:36:20.462Z"
   },
   {
    "duration": 12,
    "start_time": "2022-02-22T02:36:20.475Z"
   },
   {
    "duration": 44,
    "start_time": "2022-02-22T02:36:20.489Z"
   },
   {
    "duration": 56,
    "start_time": "2022-02-22T02:38:38.356Z"
   },
   {
    "duration": 11,
    "start_time": "2022-02-22T02:38:38.414Z"
   },
   {
    "duration": 9,
    "start_time": "2022-02-22T02:38:38.427Z"
   },
   {
    "duration": 6,
    "start_time": "2022-02-22T02:38:38.438Z"
   },
   {
    "duration": 11,
    "start_time": "2022-02-22T02:38:38.446Z"
   },
   {
    "duration": 6,
    "start_time": "2022-02-22T02:38:38.505Z"
   },
   {
    "duration": 30,
    "start_time": "2022-02-22T02:38:38.513Z"
   },
   {
    "duration": 6,
    "start_time": "2022-02-22T02:38:38.624Z"
   },
   {
    "duration": 204,
    "start_time": "2022-02-22T02:38:38.939Z"
   },
   {
    "duration": -1187,
    "start_time": "2022-02-22T02:38:40.332Z"
   },
   {
    "duration": -1193,
    "start_time": "2022-02-22T02:38:40.339Z"
   },
   {
    "duration": -1197,
    "start_time": "2022-02-22T02:38:40.345Z"
   },
   {
    "duration": -1202,
    "start_time": "2022-02-22T02:38:40.351Z"
   },
   {
    "duration": -1357,
    "start_time": "2022-02-22T02:38:40.507Z"
   },
   {
    "duration": -1551,
    "start_time": "2022-02-22T02:38:40.702Z"
   },
   {
    "duration": -1565,
    "start_time": "2022-02-22T02:38:40.717Z"
   },
   {
    "duration": -1575,
    "start_time": "2022-02-22T02:38:40.728Z"
   },
   {
    "duration": -1582,
    "start_time": "2022-02-22T02:38:40.736Z"
   },
   {
    "duration": -1588,
    "start_time": "2022-02-22T02:38:40.743Z"
   },
   {
    "duration": -1593,
    "start_time": "2022-02-22T02:38:40.749Z"
   },
   {
    "duration": 11,
    "start_time": "2022-02-22T02:38:39.344Z"
   },
   {
    "duration": 6,
    "start_time": "2022-02-22T02:38:39.357Z"
   },
   {
    "duration": 2,
    "start_time": "2022-02-22T02:38:39.366Z"
   },
   {
    "duration": 4,
    "start_time": "2022-02-22T02:38:39.370Z"
   },
   {
    "duration": 192,
    "start_time": "2022-02-22T02:38:39.376Z"
   },
   {
    "duration": -1567,
    "start_time": "2022-02-22T02:38:41.137Z"
   },
   {
    "duration": -1572,
    "start_time": "2022-02-22T02:38:41.144Z"
   },
   {
    "duration": -1579,
    "start_time": "2022-02-22T02:38:41.151Z"
   },
   {
    "duration": -1584,
    "start_time": "2022-02-22T02:38:41.157Z"
   },
   {
    "duration": -1588,
    "start_time": "2022-02-22T02:38:41.163Z"
   },
   {
    "duration": -1595,
    "start_time": "2022-02-22T02:38:41.171Z"
   },
   {
    "duration": -1782,
    "start_time": "2022-02-22T02:38:41.359Z"
   },
   {
    "duration": -1787,
    "start_time": "2022-02-22T02:38:41.365Z"
   },
   {
    "duration": -1824,
    "start_time": "2022-02-22T02:38:41.403Z"
   },
   {
    "duration": 5,
    "start_time": "2022-02-22T02:38:39.794Z"
   },
   {
    "duration": 14,
    "start_time": "2022-02-22T02:38:39.801Z"
   },
   {
    "duration": 3,
    "start_time": "2022-02-22T02:38:39.817Z"
   },
   {
    "duration": 11,
    "start_time": "2022-02-22T02:38:39.822Z"
   },
   {
    "duration": 9,
    "start_time": "2022-02-22T02:38:39.835Z"
   },
   {
    "duration": 7,
    "start_time": "2022-02-22T02:38:39.845Z"
   },
   {
    "duration": 5,
    "start_time": "2022-02-22T02:38:39.853Z"
   },
   {
    "duration": 60,
    "start_time": "2022-02-22T02:38:39.859Z"
   },
   {
    "duration": 16,
    "start_time": "2022-02-22T02:38:39.921Z"
   },
   {
    "duration": 14,
    "start_time": "2022-02-22T02:38:40.975Z"
   },
   {
    "duration": 12,
    "start_time": "2022-02-22T02:38:40.991Z"
   },
   {
    "duration": 13,
    "start_time": "2022-02-22T02:38:41.005Z"
   },
   {
    "duration": 5,
    "start_time": "2022-02-22T02:40:38.324Z"
   },
   {
    "duration": 189,
    "start_time": "2022-02-22T02:40:41.164Z"
   },
   {
    "duration": 197,
    "start_time": "2022-02-22T02:43:17.514Z"
   },
   {
    "duration": 12,
    "start_time": "2022-02-22T02:44:54.295Z"
   },
   {
    "duration": 15,
    "start_time": "2022-02-22T02:46:12.583Z"
   },
   {
    "duration": 5,
    "start_time": "2022-02-22T02:46:20.325Z"
   },
   {
    "duration": 244,
    "start_time": "2022-02-22T02:50:12.683Z"
   },
   {
    "duration": 48,
    "start_time": "2022-02-22T02:50:42.234Z"
   },
   {
    "duration": 45,
    "start_time": "2022-02-22T02:50:51.474Z"
   },
   {
    "duration": 47,
    "start_time": "2022-02-22T02:50:56.595Z"
   },
   {
    "duration": 44,
    "start_time": "2022-02-22T02:51:08.673Z"
   },
   {
    "duration": 47,
    "start_time": "2022-02-22T02:51:13.241Z"
   },
   {
    "duration": 16,
    "start_time": "2022-02-22T02:51:47.235Z"
   },
   {
    "duration": 5,
    "start_time": "2022-02-22T02:51:50.024Z"
   },
   {
    "duration": 7,
    "start_time": "2022-02-22T02:54:22.735Z"
   },
   {
    "duration": 17,
    "start_time": "2022-02-22T02:54:32.525Z"
   },
   {
    "duration": 15,
    "start_time": "2022-02-22T02:55:21.905Z"
   },
   {
    "duration": 10,
    "start_time": "2022-02-22T02:55:58.892Z"
   },
   {
    "duration": 7,
    "start_time": "2022-02-22T03:00:06.032Z"
   },
   {
    "duration": 6,
    "start_time": "2022-02-22T03:00:32.646Z"
   },
   {
    "duration": 8,
    "start_time": "2022-02-22T03:01:11.961Z"
   },
   {
    "duration": 8,
    "start_time": "2022-02-22T03:01:27.873Z"
   },
   {
    "duration": 7,
    "start_time": "2022-02-22T03:08:08.427Z"
   },
   {
    "duration": 8,
    "start_time": "2022-02-22T03:08:18.836Z"
   },
   {
    "duration": 76,
    "start_time": "2022-02-22T03:57:34.640Z"
   },
   {
    "duration": 8,
    "start_time": "2022-02-22T03:57:49.262Z"
   },
   {
    "duration": 9,
    "start_time": "2022-02-22T03:58:25.266Z"
   },
   {
    "duration": 486,
    "start_time": "2022-02-22T03:58:37.234Z"
   },
   {
    "duration": 9,
    "start_time": "2022-02-22T04:30:11.364Z"
   },
   {
    "duration": 8,
    "start_time": "2022-02-22T04:30:45.444Z"
   },
   {
    "duration": 7,
    "start_time": "2022-02-22T04:32:01.176Z"
   },
   {
    "duration": 8,
    "start_time": "2022-02-22T04:32:46.160Z"
   },
   {
    "duration": 8,
    "start_time": "2022-02-22T04:33:43.680Z"
   },
   {
    "duration": 7,
    "start_time": "2022-02-22T04:42:46.723Z"
   },
   {
    "duration": 5,
    "start_time": "2022-02-22T04:51:31.167Z"
   },
   {
    "duration": 2409,
    "start_time": "2022-02-22T04:51:42.014Z"
   },
   {
    "duration": 2552,
    "start_time": "2022-02-22T04:52:28.151Z"
   },
   {
    "duration": 54,
    "start_time": "2022-02-22T04:53:08.763Z"
   },
   {
    "duration": 10,
    "start_time": "2022-02-22T04:53:08.823Z"
   },
   {
    "duration": 9,
    "start_time": "2022-02-22T04:53:08.835Z"
   },
   {
    "duration": 6,
    "start_time": "2022-02-22T04:53:08.926Z"
   },
   {
    "duration": 9,
    "start_time": "2022-02-22T04:53:08.934Z"
   },
   {
    "duration": 4,
    "start_time": "2022-02-22T04:53:08.946Z"
   },
   {
    "duration": 30,
    "start_time": "2022-02-22T04:53:09.065Z"
   },
   {
    "duration": 5,
    "start_time": "2022-02-22T04:53:09.097Z"
   },
   {
    "duration": 15,
    "start_time": "2022-02-22T04:53:09.104Z"
   },
   {
    "duration": 4,
    "start_time": "2022-02-22T04:53:09.195Z"
   },
   {
    "duration": 17,
    "start_time": "2022-02-22T04:53:09.201Z"
   },
   {
    "duration": 193,
    "start_time": "2022-02-22T04:53:09.220Z"
   },
   {
    "duration": -1893,
    "start_time": "2022-02-22T04:53:11.308Z"
   },
   {
    "duration": -1901,
    "start_time": "2022-02-22T04:53:11.318Z"
   },
   {
    "duration": -1908,
    "start_time": "2022-02-22T04:53:11.326Z"
   },
   {
    "duration": -1913,
    "start_time": "2022-02-22T04:53:11.332Z"
   },
   {
    "duration": -1918,
    "start_time": "2022-02-22T04:53:11.338Z"
   },
   {
    "duration": -1923,
    "start_time": "2022-02-22T04:53:11.345Z"
   },
   {
    "duration": -1929,
    "start_time": "2022-02-22T04:53:11.352Z"
   },
   {
    "duration": -2271,
    "start_time": "2022-02-22T04:53:11.695Z"
   },
   {
    "duration": -2354,
    "start_time": "2022-02-22T04:53:11.779Z"
   },
   {
    "duration": -2363,
    "start_time": "2022-02-22T04:53:11.789Z"
   },
   {
    "duration": 59,
    "start_time": "2022-02-22T04:53:09.623Z"
   },
   {
    "duration": -2427,
    "start_time": "2022-02-22T04:53:12.111Z"
   },
   {
    "duration": -2433,
    "start_time": "2022-02-22T04:53:12.118Z"
   },
   {
    "duration": -2438,
    "start_time": "2022-02-22T04:53:12.124Z"
   },
   {
    "duration": -2444,
    "start_time": "2022-02-22T04:53:12.131Z"
   },
   {
    "duration": -2448,
    "start_time": "2022-02-22T04:53:12.136Z"
   },
   {
    "duration": -2455,
    "start_time": "2022-02-22T04:53:12.144Z"
   },
   {
    "duration": -2461,
    "start_time": "2022-02-22T04:53:12.151Z"
   },
   {
    "duration": -2467,
    "start_time": "2022-02-22T04:53:12.158Z"
   },
   {
    "duration": -2474,
    "start_time": "2022-02-22T04:53:12.166Z"
   },
   {
    "duration": -2480,
    "start_time": "2022-02-22T04:53:12.173Z"
   },
   {
    "duration": -2484,
    "start_time": "2022-02-22T04:53:12.178Z"
   },
   {
    "duration": 2416,
    "start_time": "2022-02-22T04:53:09.742Z"
   },
   {
    "duration": -1318,
    "start_time": "2022-02-22T04:53:13.478Z"
   },
   {
    "duration": -1325,
    "start_time": "2022-02-22T04:53:13.486Z"
   },
   {
    "duration": -1331,
    "start_time": "2022-02-22T04:53:13.493Z"
   },
   {
    "duration": -1336,
    "start_time": "2022-02-22T04:53:13.499Z"
   },
   {
    "duration": -1341,
    "start_time": "2022-02-22T04:53:13.505Z"
   },
   {
    "duration": -1347,
    "start_time": "2022-02-22T04:53:13.512Z"
   },
   {
    "duration": -1352,
    "start_time": "2022-02-22T04:53:13.518Z"
   },
   {
    "duration": -1357,
    "start_time": "2022-02-22T04:53:13.524Z"
   },
   {
    "duration": -1364,
    "start_time": "2022-02-22T04:53:13.531Z"
   },
   {
    "duration": -1369,
    "start_time": "2022-02-22T04:53:13.537Z"
   },
   {
    "duration": -1375,
    "start_time": "2022-02-22T04:53:13.544Z"
   },
   {
    "duration": -1379,
    "start_time": "2022-02-22T04:53:13.549Z"
   },
   {
    "duration": -1788,
    "start_time": "2022-02-22T04:53:13.959Z"
   },
   {
    "duration": -1797,
    "start_time": "2022-02-22T04:53:13.969Z"
   },
   {
    "duration": -1825,
    "start_time": "2022-02-22T04:53:13.998Z"
   },
   {
    "duration": 2496,
    "start_time": "2022-02-22T04:54:07.930Z"
   },
   {
    "duration": 2832,
    "start_time": "2022-02-22T04:54:18.889Z"
   },
   {
    "duration": 58,
    "start_time": "2022-02-22T04:54:55.631Z"
   },
   {
    "duration": 11,
    "start_time": "2022-02-22T04:57:44.870Z"
   },
   {
    "duration": 13,
    "start_time": "2022-02-22T04:58:19.466Z"
   },
   {
    "duration": 11,
    "start_time": "2022-02-22T04:58:51.031Z"
   },
   {
    "duration": 56,
    "start_time": "2022-02-22T04:59:33.509Z"
   },
   {
    "duration": 13,
    "start_time": "2022-02-22T04:59:33.567Z"
   },
   {
    "duration": 11,
    "start_time": "2022-02-22T04:59:33.582Z"
   },
   {
    "duration": 7,
    "start_time": "2022-02-22T04:59:33.620Z"
   },
   {
    "duration": 8,
    "start_time": "2022-02-22T04:59:33.629Z"
   },
   {
    "duration": 8,
    "start_time": "2022-02-22T04:59:33.639Z"
   },
   {
    "duration": 29,
    "start_time": "2022-02-22T04:59:33.649Z"
   },
   {
    "duration": 7,
    "start_time": "2022-02-22T04:59:33.718Z"
   },
   {
    "duration": 15,
    "start_time": "2022-02-22T04:59:33.727Z"
   },
   {
    "duration": 4,
    "start_time": "2022-02-22T04:59:33.744Z"
   },
   {
    "duration": 19,
    "start_time": "2022-02-22T04:59:33.750Z"
   },
   {
    "duration": 12,
    "start_time": "2022-02-22T04:59:33.770Z"
   },
   {
    "duration": 44,
    "start_time": "2022-02-22T04:59:33.783Z"
   },
   {
    "duration": 4,
    "start_time": "2022-02-22T04:59:33.829Z"
   },
   {
    "duration": 8,
    "start_time": "2022-02-22T04:59:33.835Z"
   },
   {
    "duration": 8,
    "start_time": "2022-02-22T04:59:34.190Z"
   },
   {
    "duration": 8,
    "start_time": "2022-02-22T04:59:34.200Z"
   },
   {
    "duration": 5,
    "start_time": "2022-02-22T04:59:34.211Z"
   },
   {
    "duration": 4,
    "start_time": "2022-02-22T04:59:34.218Z"
   },
   {
    "duration": 5,
    "start_time": "2022-02-22T04:59:34.224Z"
   },
   {
    "duration": 6,
    "start_time": "2022-02-22T04:59:34.230Z"
   },
   {
    "duration": 5,
    "start_time": "2022-02-22T04:59:34.237Z"
   },
   {
    "duration": 8,
    "start_time": "2022-02-22T04:59:34.243Z"
   },
   {
    "duration": 6,
    "start_time": "2022-02-22T04:59:34.253Z"
   },
   {
    "duration": 7,
    "start_time": "2022-02-22T04:59:34.260Z"
   },
   {
    "duration": 5,
    "start_time": "2022-02-22T04:59:34.268Z"
   },
   {
    "duration": 3,
    "start_time": "2022-02-22T04:59:34.450Z"
   },
   {
    "duration": 5,
    "start_time": "2022-02-22T04:59:34.454Z"
   },
   {
    "duration": 206,
    "start_time": "2022-02-22T04:59:34.461Z"
   },
   {
    "duration": -2434,
    "start_time": "2022-02-22T04:59:37.104Z"
   },
   {
    "duration": -2536,
    "start_time": "2022-02-22T04:59:37.207Z"
   },
   {
    "duration": -2544,
    "start_time": "2022-02-22T04:59:37.216Z"
   },
   {
    "duration": -2549,
    "start_time": "2022-02-22T04:59:37.222Z"
   },
   {
    "duration": -2560,
    "start_time": "2022-02-22T04:59:37.234Z"
   },
   {
    "duration": -2565,
    "start_time": "2022-02-22T04:59:37.240Z"
   },
   {
    "duration": -2571,
    "start_time": "2022-02-22T04:59:37.247Z"
   },
   {
    "duration": -2577,
    "start_time": "2022-02-22T04:59:37.254Z"
   },
   {
    "duration": -2584,
    "start_time": "2022-02-22T04:59:37.262Z"
   },
   {
    "duration": -2591,
    "start_time": "2022-02-22T04:59:37.269Z"
   },
   {
    "duration": -2614,
    "start_time": "2022-02-22T04:59:37.293Z"
   },
   {
    "duration": -2620,
    "start_time": "2022-02-22T04:59:37.300Z"
   },
   {
    "duration": 7,
    "start_time": "2022-02-22T04:59:34.972Z"
   },
   {
    "duration": 9,
    "start_time": "2022-02-22T04:59:34.981Z"
   },
   {
    "duration": 4,
    "start_time": "2022-02-22T04:59:34.992Z"
   },
   {
    "duration": 6,
    "start_time": "2022-02-22T04:59:34.998Z"
   },
   {
    "duration": 33,
    "start_time": "2022-02-22T04:59:35.005Z"
   },
   {
    "duration": 18,
    "start_time": "2022-02-22T04:59:35.040Z"
   },
   {
    "duration": 12,
    "start_time": "2022-02-22T04:59:35.060Z"
   },
   {
    "duration": 15,
    "start_time": "2022-02-22T04:59:35.074Z"
   },
   {
    "duration": 37,
    "start_time": "2022-02-22T04:59:35.091Z"
   },
   {
    "duration": 14,
    "start_time": "2022-02-22T05:03:39.431Z"
   },
   {
    "duration": 6,
    "start_time": "2022-02-22T05:05:40.209Z"
   },
   {
    "duration": 200,
    "start_time": "2022-02-22T05:07:05.890Z"
   },
   {
    "duration": 206,
    "start_time": "2022-02-22T05:07:21.366Z"
   },
   {
    "duration": 175,
    "start_time": "2022-02-22T05:07:38.608Z"
   },
   {
    "duration": 185,
    "start_time": "2022-02-22T05:08:02.937Z"
   },
   {
    "duration": 59,
    "start_time": "2022-02-22T05:08:22.202Z"
   },
   {
    "duration": 10,
    "start_time": "2022-02-22T05:08:22.263Z"
   },
   {
    "duration": 9,
    "start_time": "2022-02-22T05:08:22.275Z"
   },
   {
    "duration": 5,
    "start_time": "2022-02-22T05:08:22.285Z"
   },
   {
    "duration": 28,
    "start_time": "2022-02-22T05:08:22.292Z"
   },
   {
    "duration": 4,
    "start_time": "2022-02-22T05:08:22.322Z"
   },
   {
    "duration": 29,
    "start_time": "2022-02-22T05:08:22.328Z"
   },
   {
    "duration": 6,
    "start_time": "2022-02-22T05:08:22.359Z"
   },
   {
    "duration": 26,
    "start_time": "2022-02-22T05:08:22.393Z"
   },
   {
    "duration": 5,
    "start_time": "2022-02-22T05:08:22.421Z"
   },
   {
    "duration": 21,
    "start_time": "2022-02-22T05:08:22.428Z"
   },
   {
    "duration": 11,
    "start_time": "2022-02-22T05:08:22.451Z"
   },
   {
    "duration": 10,
    "start_time": "2022-02-22T05:08:22.464Z"
   },
   {
    "duration": 5,
    "start_time": "2022-02-22T05:08:22.476Z"
   },
   {
    "duration": 40,
    "start_time": "2022-02-22T05:08:22.483Z"
   },
   {
    "duration": 7,
    "start_time": "2022-02-22T05:08:22.526Z"
   },
   {
    "duration": 5,
    "start_time": "2022-02-22T05:08:22.535Z"
   },
   {
    "duration": 6,
    "start_time": "2022-02-22T05:08:22.542Z"
   },
   {
    "duration": 4,
    "start_time": "2022-02-22T05:08:22.549Z"
   },
   {
    "duration": 5,
    "start_time": "2022-02-22T05:08:22.555Z"
   },
   {
    "duration": 6,
    "start_time": "2022-02-22T05:08:22.561Z"
   },
   {
    "duration": 52,
    "start_time": "2022-02-22T05:08:22.569Z"
   },
   {
    "duration": 8,
    "start_time": "2022-02-22T05:08:22.623Z"
   },
   {
    "duration": 7,
    "start_time": "2022-02-22T05:08:22.633Z"
   },
   {
    "duration": 9,
    "start_time": "2022-02-22T05:08:22.642Z"
   },
   {
    "duration": 7,
    "start_time": "2022-02-22T05:08:22.653Z"
   },
   {
    "duration": 3,
    "start_time": "2022-02-22T05:08:22.661Z"
   },
   {
    "duration": 6,
    "start_time": "2022-02-22T05:08:22.666Z"
   },
   {
    "duration": 240,
    "start_time": "2022-02-22T05:08:22.674Z"
   },
   {
    "duration": -2355,
    "start_time": "2022-02-22T05:08:25.271Z"
   },
   {
    "duration": -2361,
    "start_time": "2022-02-22T05:08:25.278Z"
   },
   {
    "duration": -2367,
    "start_time": "2022-02-22T05:08:25.285Z"
   },
   {
    "duration": -2372,
    "start_time": "2022-02-22T05:08:25.291Z"
   },
   {
    "duration": -2379,
    "start_time": "2022-02-22T05:08:25.298Z"
   },
   {
    "duration": -2384,
    "start_time": "2022-02-22T05:08:25.304Z"
   },
   {
    "duration": -2390,
    "start_time": "2022-02-22T05:08:25.311Z"
   },
   {
    "duration": -2394,
    "start_time": "2022-02-22T05:08:25.317Z"
   },
   {
    "duration": -2435,
    "start_time": "2022-02-22T05:08:25.358Z"
   },
   {
    "duration": -2442,
    "start_time": "2022-02-22T05:08:25.367Z"
   },
   {
    "duration": -2451,
    "start_time": "2022-02-22T05:08:25.377Z"
   },
   {
    "duration": -2457,
    "start_time": "2022-02-22T05:08:25.384Z"
   },
   {
    "duration": -2462,
    "start_time": "2022-02-22T05:08:25.391Z"
   },
   {
    "duration": -2468,
    "start_time": "2022-02-22T05:08:25.398Z"
   },
   {
    "duration": -2474,
    "start_time": "2022-02-22T05:08:25.405Z"
   },
   {
    "duration": -2479,
    "start_time": "2022-02-22T05:08:25.411Z"
   },
   {
    "duration": -2485,
    "start_time": "2022-02-22T05:08:25.418Z"
   },
   {
    "duration": -2490,
    "start_time": "2022-02-22T05:08:25.424Z"
   },
   {
    "duration": -2495,
    "start_time": "2022-02-22T05:08:25.430Z"
   },
   {
    "duration": -2502,
    "start_time": "2022-02-22T05:08:25.438Z"
   },
   {
    "duration": -2511,
    "start_time": "2022-02-22T05:08:25.448Z"
   },
   {
    "duration": 58,
    "start_time": "2022-02-22T05:10:36.830Z"
   },
   {
    "duration": 11,
    "start_time": "2022-02-22T05:10:36.890Z"
   },
   {
    "duration": 19,
    "start_time": "2022-02-22T05:10:36.904Z"
   },
   {
    "duration": 6,
    "start_time": "2022-02-22T05:10:36.925Z"
   },
   {
    "duration": 7,
    "start_time": "2022-02-22T05:10:36.933Z"
   },
   {
    "duration": 4,
    "start_time": "2022-02-22T05:10:36.942Z"
   },
   {
    "duration": 28,
    "start_time": "2022-02-22T05:10:36.948Z"
   },
   {
    "duration": 41,
    "start_time": "2022-02-22T05:10:36.978Z"
   },
   {
    "duration": 16,
    "start_time": "2022-02-22T05:10:37.022Z"
   },
   {
    "duration": 5,
    "start_time": "2022-02-22T05:10:37.040Z"
   },
   {
    "duration": 17,
    "start_time": "2022-02-22T05:10:37.046Z"
   },
   {
    "duration": 12,
    "start_time": "2022-02-22T05:10:37.065Z"
   },
   {
    "duration": 45,
    "start_time": "2022-02-22T05:10:37.079Z"
   },
   {
    "duration": 4,
    "start_time": "2022-02-22T05:10:37.126Z"
   },
   {
    "duration": 6,
    "start_time": "2022-02-22T05:10:37.132Z"
   },
   {
    "duration": 8,
    "start_time": "2022-02-22T05:10:37.140Z"
   },
   {
    "duration": 5,
    "start_time": "2022-02-22T05:10:37.150Z"
   },
   {
    "duration": 5,
    "start_time": "2022-02-22T05:10:37.157Z"
   },
   {
    "duration": 5,
    "start_time": "2022-02-22T05:10:37.164Z"
   },
   {
    "duration": 50,
    "start_time": "2022-02-22T05:10:37.171Z"
   },
   {
    "duration": 7,
    "start_time": "2022-02-22T05:10:37.223Z"
   },
   {
    "duration": 6,
    "start_time": "2022-02-22T05:10:37.231Z"
   },
   {
    "duration": 9,
    "start_time": "2022-02-22T05:10:37.239Z"
   },
   {
    "duration": 7,
    "start_time": "2022-02-22T05:10:37.250Z"
   },
   {
    "duration": 61,
    "start_time": "2022-02-22T05:10:37.259Z"
   },
   {
    "duration": 7,
    "start_time": "2022-02-22T05:10:37.322Z"
   },
   {
    "duration": 4,
    "start_time": "2022-02-22T05:10:37.331Z"
   },
   {
    "duration": 5,
    "start_time": "2022-02-22T05:10:37.337Z"
   },
   {
    "duration": 184,
    "start_time": "2022-02-22T05:10:37.344Z"
   },
   {
    "duration": -2163,
    "start_time": "2022-02-22T05:10:39.692Z"
   },
   {
    "duration": -2171,
    "start_time": "2022-02-22T05:10:39.702Z"
   },
   {
    "duration": -2177,
    "start_time": "2022-02-22T05:10:39.709Z"
   },
   {
    "duration": -2183,
    "start_time": "2022-02-22T05:10:39.716Z"
   },
   {
    "duration": -2189,
    "start_time": "2022-02-22T05:10:39.723Z"
   },
   {
    "duration": -2198,
    "start_time": "2022-02-22T05:10:39.732Z"
   },
   {
    "duration": -2203,
    "start_time": "2022-02-22T05:10:39.738Z"
   },
   {
    "duration": -2209,
    "start_time": "2022-02-22T05:10:39.745Z"
   },
   {
    "duration": -2214,
    "start_time": "2022-02-22T05:10:39.751Z"
   },
   {
    "duration": 5,
    "start_time": "2022-02-22T05:10:37.618Z"
   },
   {
    "duration": 10,
    "start_time": "2022-02-22T05:10:37.628Z"
   },
   {
    "duration": 4,
    "start_time": "2022-02-22T05:10:37.640Z"
   },
   {
    "duration": 7,
    "start_time": "2022-02-22T05:10:37.646Z"
   },
   {
    "duration": 8,
    "start_time": "2022-02-22T05:10:37.655Z"
   },
   {
    "duration": 4,
    "start_time": "2022-02-22T05:10:37.664Z"
   },
   {
    "duration": 8,
    "start_time": "2022-02-22T05:10:37.670Z"
   },
   {
    "duration": 60,
    "start_time": "2022-02-22T05:10:37.679Z"
   },
   {
    "duration": 18,
    "start_time": "2022-02-22T05:10:37.741Z"
   },
   {
    "duration": 189,
    "start_time": "2022-02-22T05:10:37.761Z"
   },
   {
    "duration": -2158,
    "start_time": "2022-02-22T05:10:40.110Z"
   },
   {
    "duration": -2164,
    "start_time": "2022-02-22T05:10:40.117Z"
   },
   {
    "duration": 4674,
    "start_time": "2022-02-22T05:11:11.279Z"
   },
   {
    "duration": 55,
    "start_time": "2022-02-22T05:11:46.680Z"
   },
   {
    "duration": 11,
    "start_time": "2022-02-22T05:11:46.737Z"
   },
   {
    "duration": 10,
    "start_time": "2022-02-22T05:11:46.750Z"
   },
   {
    "duration": 6,
    "start_time": "2022-02-22T05:11:46.762Z"
   },
   {
    "duration": 9,
    "start_time": "2022-02-22T05:11:46.769Z"
   },
   {
    "duration": 5,
    "start_time": "2022-02-22T05:11:46.779Z"
   },
   {
    "duration": 62,
    "start_time": "2022-02-22T05:11:46.786Z"
   },
   {
    "duration": 5,
    "start_time": "2022-02-22T05:11:46.850Z"
   },
   {
    "duration": 16,
    "start_time": "2022-02-22T05:11:46.990Z"
   },
   {
    "duration": 5,
    "start_time": "2022-02-22T05:11:47.007Z"
   },
   {
    "duration": 18,
    "start_time": "2022-02-22T05:11:47.014Z"
   },
   {
    "duration": 12,
    "start_time": "2022-02-22T05:11:47.209Z"
   },
   {
    "duration": 9,
    "start_time": "2022-02-22T05:11:47.223Z"
   },
   {
    "duration": 4,
    "start_time": "2022-02-22T05:11:47.234Z"
   },
   {
    "duration": 5,
    "start_time": "2022-02-22T05:11:47.240Z"
   },
   {
    "duration": 9,
    "start_time": "2022-02-22T05:11:47.246Z"
   },
   {
    "duration": 7,
    "start_time": "2022-02-22T05:11:47.257Z"
   },
   {
    "duration": 5,
    "start_time": "2022-02-22T05:11:47.266Z"
   },
   {
    "duration": 4,
    "start_time": "2022-02-22T05:11:47.273Z"
   },
   {
    "duration": 42,
    "start_time": "2022-02-22T05:11:47.279Z"
   },
   {
    "duration": 6,
    "start_time": "2022-02-22T05:11:47.323Z"
   },
   {
    "duration": 4,
    "start_time": "2022-02-22T05:11:47.330Z"
   },
   {
    "duration": 7,
    "start_time": "2022-02-22T05:11:47.335Z"
   },
   {
    "duration": 5,
    "start_time": "2022-02-22T05:11:47.344Z"
   },
   {
    "duration": 8,
    "start_time": "2022-02-22T05:11:47.350Z"
   },
   {
    "duration": 6,
    "start_time": "2022-02-22T05:11:47.360Z"
   },
   {
    "duration": 3,
    "start_time": "2022-02-22T05:11:47.367Z"
   },
   {
    "duration": 55,
    "start_time": "2022-02-22T05:13:20.989Z"
   },
   {
    "duration": 10,
    "start_time": "2022-02-22T05:13:21.046Z"
   },
   {
    "duration": 9,
    "start_time": "2022-02-22T05:13:21.059Z"
   },
   {
    "duration": 6,
    "start_time": "2022-02-22T05:13:21.070Z"
   },
   {
    "duration": 9,
    "start_time": "2022-02-22T05:13:21.077Z"
   },
   {
    "duration": 33,
    "start_time": "2022-02-22T05:13:21.088Z"
   },
   {
    "duration": 30,
    "start_time": "2022-02-22T05:13:21.123Z"
   },
   {
    "duration": 5,
    "start_time": "2022-02-22T05:13:21.155Z"
   },
   {
    "duration": 16,
    "start_time": "2022-02-22T05:13:21.163Z"
   },
   {
    "duration": 5,
    "start_time": "2022-02-22T05:13:21.181Z"
   },
   {
    "duration": 17,
    "start_time": "2022-02-22T05:13:21.220Z"
   },
   {
    "duration": 11,
    "start_time": "2022-02-22T05:13:21.240Z"
   },
   {
    "duration": 12,
    "start_time": "2022-02-22T05:13:21.253Z"
   },
   {
    "duration": 6,
    "start_time": "2022-02-22T05:13:21.267Z"
   },
   {
    "duration": 48,
    "start_time": "2022-02-22T05:13:21.275Z"
   },
   {
    "duration": 9,
    "start_time": "2022-02-22T05:13:21.325Z"
   },
   {
    "duration": 9,
    "start_time": "2022-02-22T05:13:21.337Z"
   },
   {
    "duration": 9,
    "start_time": "2022-02-22T05:13:21.348Z"
   },
   {
    "duration": 4,
    "start_time": "2022-02-22T05:13:21.359Z"
   },
   {
    "duration": 4,
    "start_time": "2022-02-22T05:13:21.365Z"
   },
   {
    "duration": 6,
    "start_time": "2022-02-22T05:13:21.371Z"
   },
   {
    "duration": 40,
    "start_time": "2022-02-22T05:13:21.379Z"
   },
   {
    "duration": 9,
    "start_time": "2022-02-22T05:13:21.421Z"
   },
   {
    "duration": 7,
    "start_time": "2022-02-22T05:13:21.520Z"
   },
   {
    "duration": 7,
    "start_time": "2022-02-22T05:13:21.529Z"
   },
   {
    "duration": 8,
    "start_time": "2022-02-22T05:13:21.538Z"
   },
   {
    "duration": 3,
    "start_time": "2022-02-22T05:13:21.548Z"
   },
   {
    "duration": 4,
    "start_time": "2022-02-22T05:13:21.553Z"
   },
   {
    "duration": 196,
    "start_time": "2022-02-22T05:13:21.558Z"
   },
   {
    "duration": -2396,
    "start_time": "2022-02-22T05:13:24.153Z"
   },
   {
    "duration": -2405,
    "start_time": "2022-02-22T05:13:24.163Z"
   },
   {
    "duration": -2410,
    "start_time": "2022-02-22T05:13:24.169Z"
   },
   {
    "duration": -2417,
    "start_time": "2022-02-22T05:13:24.177Z"
   },
   {
    "duration": -2422,
    "start_time": "2022-02-22T05:13:24.183Z"
   },
   {
    "duration": -2428,
    "start_time": "2022-02-22T05:13:24.190Z"
   },
   {
    "duration": -2434,
    "start_time": "2022-02-22T05:13:24.197Z"
   },
   {
    "duration": -2440,
    "start_time": "2022-02-22T05:13:24.204Z"
   },
   {
    "duration": -2447,
    "start_time": "2022-02-22T05:13:24.212Z"
   },
   {
    "duration": -2453,
    "start_time": "2022-02-22T05:13:24.219Z"
   },
   {
    "duration": -2458,
    "start_time": "2022-02-22T05:13:24.225Z"
   },
   {
    "duration": -2463,
    "start_time": "2022-02-22T05:13:24.232Z"
   },
   {
    "duration": -2467,
    "start_time": "2022-02-22T05:13:24.238Z"
   },
   {
    "duration": -2473,
    "start_time": "2022-02-22T05:13:24.245Z"
   },
   {
    "duration": -2492,
    "start_time": "2022-02-22T05:13:24.265Z"
   },
   {
    "duration": -2504,
    "start_time": "2022-02-22T05:13:24.278Z"
   },
   {
    "duration": -2509,
    "start_time": "2022-02-22T05:13:24.284Z"
   },
   {
    "duration": -2516,
    "start_time": "2022-02-22T05:13:24.292Z"
   },
   {
    "duration": -2521,
    "start_time": "2022-02-22T05:13:24.298Z"
   },
   {
    "duration": -2529,
    "start_time": "2022-02-22T05:13:24.306Z"
   },
   {
    "duration": -2689,
    "start_time": "2022-02-22T05:13:24.468Z"
   },
   {
    "duration": 11,
    "start_time": "2022-02-22T05:14:40.868Z"
   },
   {
    "duration": 14,
    "start_time": "2022-02-22T05:15:27.988Z"
   },
   {
    "duration": 17,
    "start_time": "2022-02-22T05:16:09.148Z"
   },
   {
    "duration": 58,
    "start_time": "2022-02-22T05:16:12.108Z"
   },
   {
    "duration": 10,
    "start_time": "2022-02-22T05:16:12.168Z"
   },
   {
    "duration": 10,
    "start_time": "2022-02-22T05:16:12.180Z"
   },
   {
    "duration": 30,
    "start_time": "2022-02-22T05:16:12.193Z"
   },
   {
    "duration": 8,
    "start_time": "2022-02-22T05:16:12.225Z"
   },
   {
    "duration": 5,
    "start_time": "2022-02-22T05:16:12.234Z"
   },
   {
    "duration": 29,
    "start_time": "2022-02-22T05:16:12.240Z"
   },
   {
    "duration": 6,
    "start_time": "2022-02-22T05:16:12.271Z"
   },
   {
    "duration": 53,
    "start_time": "2022-02-22T05:16:12.279Z"
   },
   {
    "duration": 4,
    "start_time": "2022-02-22T05:16:12.333Z"
   },
   {
    "duration": 17,
    "start_time": "2022-02-22T05:16:12.339Z"
   },
   {
    "duration": 13,
    "start_time": "2022-02-22T05:16:12.357Z"
   },
   {
    "duration": 13,
    "start_time": "2022-02-22T05:16:12.372Z"
   },
   {
    "duration": 36,
    "start_time": "2022-02-22T05:16:12.387Z"
   },
   {
    "duration": 6,
    "start_time": "2022-02-22T05:16:12.425Z"
   },
   {
    "duration": 8,
    "start_time": "2022-02-22T05:16:12.497Z"
   },
   {
    "duration": 6,
    "start_time": "2022-02-22T05:16:12.507Z"
   },
   {
    "duration": 5,
    "start_time": "2022-02-22T05:16:12.516Z"
   },
   {
    "duration": 6,
    "start_time": "2022-02-22T05:16:12.522Z"
   },
   {
    "duration": 5,
    "start_time": "2022-02-22T05:16:12.529Z"
   },
   {
    "duration": 6,
    "start_time": "2022-02-22T05:16:12.535Z"
   },
   {
    "duration": 5,
    "start_time": "2022-02-22T05:16:12.542Z"
   },
   {
    "duration": 8,
    "start_time": "2022-02-22T05:16:12.669Z"
   },
   {
    "duration": 7,
    "start_time": "2022-02-22T05:16:12.679Z"
   },
   {
    "duration": 9,
    "start_time": "2022-02-22T05:16:12.689Z"
   },
   {
    "duration": 8,
    "start_time": "2022-02-22T05:16:12.700Z"
   },
   {
    "duration": 3,
    "start_time": "2022-02-22T05:16:12.710Z"
   },
   {
    "duration": 12,
    "start_time": "2022-02-22T05:16:12.715Z"
   },
   {
    "duration": 5,
    "start_time": "2022-02-22T05:16:12.728Z"
   },
   {
    "duration": 7,
    "start_time": "2022-02-22T05:16:12.735Z"
   },
   {
    "duration": 10,
    "start_time": "2022-02-22T05:16:12.744Z"
   },
   {
    "duration": 13,
    "start_time": "2022-02-22T05:16:12.755Z"
   },
   {
    "duration": 8,
    "start_time": "2022-02-22T05:16:12.769Z"
   },
   {
    "duration": 4,
    "start_time": "2022-02-22T05:16:12.779Z"
   },
   {
    "duration": 44,
    "start_time": "2022-02-22T05:16:12.785Z"
   },
   {
    "duration": 5,
    "start_time": "2022-02-22T05:16:12.831Z"
   },
   {
    "duration": 16,
    "start_time": "2022-02-22T05:16:12.837Z"
   },
   {
    "duration": 11,
    "start_time": "2022-02-22T05:16:12.854Z"
   },
   {
    "duration": 10,
    "start_time": "2022-02-22T05:16:12.868Z"
   },
   {
    "duration": 41,
    "start_time": "2022-02-22T05:16:12.879Z"
   },
   {
    "duration": 12,
    "start_time": "2022-02-22T05:16:12.922Z"
   },
   {
    "duration": 4,
    "start_time": "2022-02-22T05:16:12.936Z"
   },
   {
    "duration": 7,
    "start_time": "2022-02-22T05:16:12.942Z"
   },
   {
    "duration": 9,
    "start_time": "2022-02-22T05:16:12.951Z"
   },
   {
    "duration": 4,
    "start_time": "2022-02-22T05:16:12.962Z"
   },
   {
    "duration": 53,
    "start_time": "2022-02-22T05:16:12.968Z"
   },
   {
    "duration": 29,
    "start_time": "2022-02-22T05:16:13.023Z"
   },
   {
    "duration": 15,
    "start_time": "2022-02-22T05:16:13.054Z"
   },
   {
    "duration": 248,
    "start_time": "2022-02-22T05:16:13.071Z"
   },
   {
    "duration": -2389,
    "start_time": "2022-02-22T05:16:15.710Z"
   },
   {
    "duration": -2408,
    "start_time": "2022-02-22T05:16:15.731Z"
   },
   {
    "duration": 13,
    "start_time": "2022-02-22T05:16:29.552Z"
   },
   {
    "duration": 5075,
    "start_time": "2022-02-22T05:25:19.952Z"
   },
   {
    "duration": 56,
    "start_time": "2022-02-22T05:25:28.346Z"
   },
   {
    "duration": 11,
    "start_time": "2022-02-22T05:25:28.404Z"
   },
   {
    "duration": 10,
    "start_time": "2022-02-22T05:25:28.417Z"
   },
   {
    "duration": 6,
    "start_time": "2022-02-22T05:25:28.428Z"
   },
   {
    "duration": 9,
    "start_time": "2022-02-22T05:25:28.436Z"
   },
   {
    "duration": 8,
    "start_time": "2022-02-22T05:25:28.446Z"
   },
   {
    "duration": 63,
    "start_time": "2022-02-22T05:25:28.456Z"
   },
   {
    "duration": 6,
    "start_time": "2022-02-22T05:25:28.521Z"
   },
   {
    "duration": 16,
    "start_time": "2022-02-22T05:25:28.530Z"
   },
   {
    "duration": 4,
    "start_time": "2022-02-22T05:25:28.548Z"
   },
   {
    "duration": 20,
    "start_time": "2022-02-22T05:25:28.554Z"
   },
   {
    "duration": 45,
    "start_time": "2022-02-22T05:25:28.576Z"
   },
   {
    "duration": 5,
    "start_time": "2022-02-22T05:25:28.623Z"
   },
   {
    "duration": 5,
    "start_time": "2022-02-22T05:25:28.865Z"
   },
   {
    "duration": 6,
    "start_time": "2022-02-22T05:25:28.872Z"
   },
   {
    "duration": 7,
    "start_time": "2022-02-22T05:25:28.880Z"
   },
   {
    "duration": 5,
    "start_time": "2022-02-22T05:25:28.890Z"
   },
   {
    "duration": 5,
    "start_time": "2022-02-22T05:25:28.896Z"
   },
   {
    "duration": 6,
    "start_time": "2022-02-22T05:25:28.903Z"
   },
   {
    "duration": 5,
    "start_time": "2022-02-22T05:25:28.910Z"
   },
   {
    "duration": 5,
    "start_time": "2022-02-22T05:25:28.917Z"
   },
   {
    "duration": 5,
    "start_time": "2022-02-22T05:25:28.985Z"
   },
   {
    "duration": 10,
    "start_time": "2022-02-22T05:25:28.992Z"
   },
   {
    "duration": 6,
    "start_time": "2022-02-22T05:25:29.004Z"
   },
   {
    "duration": 7,
    "start_time": "2022-02-22T05:25:29.011Z"
   },
   {
    "duration": 5,
    "start_time": "2022-02-22T05:25:29.020Z"
   },
   {
    "duration": 12,
    "start_time": "2022-02-22T05:25:29.027Z"
   },
   {
    "duration": 2,
    "start_time": "2022-02-22T05:25:29.074Z"
   },
   {
    "duration": 10,
    "start_time": "2022-02-22T05:25:29.078Z"
   },
   {
    "duration": 9,
    "start_time": "2022-02-22T05:25:29.090Z"
   },
   {
    "duration": 13,
    "start_time": "2022-02-22T05:25:29.101Z"
   },
   {
    "duration": 9,
    "start_time": "2022-02-22T05:25:29.115Z"
   },
   {
    "duration": 5,
    "start_time": "2022-02-22T05:25:29.126Z"
   },
   {
    "duration": 17,
    "start_time": "2022-02-22T05:25:29.132Z"
   },
   {
    "duration": 7,
    "start_time": "2022-02-22T05:25:29.151Z"
   },
   {
    "duration": 17,
    "start_time": "2022-02-22T05:25:29.161Z"
   },
   {
    "duration": 42,
    "start_time": "2022-02-22T05:25:29.181Z"
   },
   {
    "duration": 13,
    "start_time": "2022-02-22T05:25:29.225Z"
   },
   {
    "duration": 6,
    "start_time": "2022-02-22T05:25:29.239Z"
   },
   {
    "duration": 17,
    "start_time": "2022-02-22T05:25:29.247Z"
   },
   {
    "duration": 4,
    "start_time": "2022-02-22T05:25:29.266Z"
   },
   {
    "duration": 8,
    "start_time": "2022-02-22T05:25:29.271Z"
   },
   {
    "duration": 42,
    "start_time": "2022-02-22T05:25:29.280Z"
   },
   {
    "duration": 3,
    "start_time": "2022-02-22T05:25:29.324Z"
   },
   {
    "duration": 8,
    "start_time": "2022-02-22T05:25:29.329Z"
   },
   {
    "duration": 31,
    "start_time": "2022-02-22T05:25:29.339Z"
   },
   {
    "duration": 13,
    "start_time": "2022-02-22T05:25:29.372Z"
   },
   {
    "duration": 41,
    "start_time": "2022-02-22T05:25:29.387Z"
   },
   {
    "duration": 12,
    "start_time": "2022-02-22T05:25:29.430Z"
   },
   {
    "duration": 13,
    "start_time": "2022-02-22T05:25:29.443Z"
   },
   {
    "duration": 202,
    "start_time": "2022-02-22T05:26:23.330Z"
   },
   {
    "duration": 183,
    "start_time": "2022-02-22T05:28:07.609Z"
   },
   {
    "duration": 55,
    "start_time": "2022-02-22T05:28:17.895Z"
   },
   {
    "duration": 11,
    "start_time": "2022-02-22T05:28:17.952Z"
   },
   {
    "duration": 9,
    "start_time": "2022-02-22T05:28:17.965Z"
   },
   {
    "duration": 5,
    "start_time": "2022-02-22T05:28:17.976Z"
   },
   {
    "duration": 37,
    "start_time": "2022-02-22T05:28:17.983Z"
   },
   {
    "duration": 5,
    "start_time": "2022-02-22T05:28:18.022Z"
   },
   {
    "duration": 29,
    "start_time": "2022-02-22T05:28:18.028Z"
   },
   {
    "duration": 6,
    "start_time": "2022-02-22T05:28:18.059Z"
   },
   {
    "duration": 17,
    "start_time": "2022-02-22T05:28:18.067Z"
   },
   {
    "duration": 34,
    "start_time": "2022-02-22T05:28:18.086Z"
   },
   {
    "duration": 18,
    "start_time": "2022-02-22T05:28:18.122Z"
   },
   {
    "duration": 14,
    "start_time": "2022-02-22T05:28:18.142Z"
   },
   {
    "duration": 5,
    "start_time": "2022-02-22T05:28:18.157Z"
   },
   {
    "duration": 5,
    "start_time": "2022-02-22T05:28:18.164Z"
   },
   {
    "duration": 6,
    "start_time": "2022-02-22T05:28:18.171Z"
   },
   {
    "duration": 46,
    "start_time": "2022-02-22T05:28:18.178Z"
   },
   {
    "duration": 6,
    "start_time": "2022-02-22T05:28:18.226Z"
   },
   {
    "duration": 5,
    "start_time": "2022-02-22T05:28:18.234Z"
   },
   {
    "duration": 6,
    "start_time": "2022-02-22T05:28:18.241Z"
   },
   {
    "duration": 5,
    "start_time": "2022-02-22T05:28:18.249Z"
   },
   {
    "duration": 7,
    "start_time": "2022-02-22T05:28:18.256Z"
   },
   {
    "duration": 5,
    "start_time": "2022-02-22T05:28:18.264Z"
   },
   {
    "duration": 49,
    "start_time": "2022-02-22T05:28:18.271Z"
   },
   {
    "duration": 6,
    "start_time": "2022-02-22T05:28:18.322Z"
   },
   {
    "duration": 10,
    "start_time": "2022-02-22T05:28:18.330Z"
   },
   {
    "duration": 4,
    "start_time": "2022-02-22T05:28:18.342Z"
   },
   {
    "duration": 13,
    "start_time": "2022-02-22T05:28:18.348Z"
   },
   {
    "duration": 2,
    "start_time": "2022-02-22T05:28:18.363Z"
   },
   {
    "duration": 5,
    "start_time": "2022-02-22T05:28:18.368Z"
   },
   {
    "duration": 47,
    "start_time": "2022-02-22T05:28:18.375Z"
   },
   {
    "duration": 13,
    "start_time": "2022-02-22T05:28:18.424Z"
   },
   {
    "duration": 12,
    "start_time": "2022-02-22T05:28:18.439Z"
   },
   {
    "duration": 5,
    "start_time": "2022-02-22T05:28:18.452Z"
   },
   {
    "duration": 16,
    "start_time": "2022-02-22T05:28:18.459Z"
   },
   {
    "duration": 6,
    "start_time": "2022-02-22T05:28:18.477Z"
   },
   {
    "duration": 45,
    "start_time": "2022-02-22T05:28:18.484Z"
   },
   {
    "duration": 13,
    "start_time": "2022-02-22T05:28:18.531Z"
   },
   {
    "duration": 195,
    "start_time": "2022-02-22T05:28:28.015Z"
   },
   {
    "duration": 5,
    "start_time": "2022-02-22T05:29:11.914Z"
   },
   {
    "duration": 11,
    "start_time": "2022-02-22T05:29:19.395Z"
   },
   {
    "duration": 11,
    "start_time": "2022-02-22T05:29:42.730Z"
   },
   {
    "duration": 16,
    "start_time": "2022-02-22T05:31:56.580Z"
   },
   {
    "duration": 29,
    "start_time": "2022-02-22T05:32:43.049Z"
   },
   {
    "duration": 34,
    "start_time": "2022-02-22T05:32:50.529Z"
   },
   {
    "duration": 29,
    "start_time": "2022-02-22T05:33:35.160Z"
   },
   {
    "duration": 66,
    "start_time": "2022-02-22T05:34:36.139Z"
   },
   {
    "duration": 67,
    "start_time": "2022-02-22T05:34:40.968Z"
   },
   {
    "duration": 13,
    "start_time": "2022-02-22T05:34:41.038Z"
   },
   {
    "duration": 19,
    "start_time": "2022-02-22T05:34:41.053Z"
   },
   {
    "duration": 6,
    "start_time": "2022-02-22T05:34:41.075Z"
   },
   {
    "duration": 24,
    "start_time": "2022-02-22T05:34:41.083Z"
   },
   {
    "duration": 17,
    "start_time": "2022-02-22T05:34:41.110Z"
   },
   {
    "duration": 45,
    "start_time": "2022-02-22T05:34:41.129Z"
   },
   {
    "duration": 22,
    "start_time": "2022-02-22T05:34:41.176Z"
   },
   {
    "duration": 41,
    "start_time": "2022-02-22T05:34:41.201Z"
   },
   {
    "duration": 20,
    "start_time": "2022-02-22T05:34:41.245Z"
   },
   {
    "duration": 30,
    "start_time": "2022-02-22T05:34:41.267Z"
   },
   {
    "duration": 18,
    "start_time": "2022-02-22T05:34:41.299Z"
   },
   {
    "duration": 4,
    "start_time": "2022-02-22T05:34:41.319Z"
   },
   {
    "duration": 19,
    "start_time": "2022-02-22T05:34:41.325Z"
   },
   {
    "duration": 30,
    "start_time": "2022-02-22T05:34:41.346Z"
   },
   {
    "duration": 22,
    "start_time": "2022-02-22T05:34:41.378Z"
   },
   {
    "duration": 19,
    "start_time": "2022-02-22T05:34:41.402Z"
   },
   {
    "duration": 8,
    "start_time": "2022-02-22T05:34:41.423Z"
   },
   {
    "duration": 25,
    "start_time": "2022-02-22T05:34:41.433Z"
   },
   {
    "duration": 17,
    "start_time": "2022-02-22T05:34:41.462Z"
   },
   {
    "duration": 14,
    "start_time": "2022-02-22T05:34:41.480Z"
   },
   {
    "duration": 17,
    "start_time": "2022-02-22T05:34:41.496Z"
   },
   {
    "duration": 15,
    "start_time": "2022-02-22T05:34:41.515Z"
   },
   {
    "duration": 9,
    "start_time": "2022-02-22T05:34:41.532Z"
   },
   {
    "duration": 36,
    "start_time": "2022-02-22T05:34:41.543Z"
   },
   {
    "duration": 25,
    "start_time": "2022-02-22T05:34:41.581Z"
   },
   {
    "duration": 30,
    "start_time": "2022-02-22T05:34:41.609Z"
   },
   {
    "duration": 4,
    "start_time": "2022-02-22T05:34:41.641Z"
   },
   {
    "duration": 18,
    "start_time": "2022-02-22T05:34:41.646Z"
   },
   {
    "duration": 41,
    "start_time": "2022-02-22T05:34:41.666Z"
   },
   {
    "duration": 7,
    "start_time": "2022-02-22T05:34:41.709Z"
   },
   {
    "duration": 31,
    "start_time": "2022-02-22T05:34:41.719Z"
   },
   {
    "duration": 21,
    "start_time": "2022-02-22T05:34:41.752Z"
   },
   {
    "duration": 9,
    "start_time": "2022-02-22T05:34:41.775Z"
   },
   {
    "duration": 40,
    "start_time": "2022-02-22T05:34:41.786Z"
   },
   {
    "duration": 19,
    "start_time": "2022-02-22T05:34:41.828Z"
   },
   {
    "duration": 22,
    "start_time": "2022-02-22T05:34:41.849Z"
   },
   {
    "duration": 14,
    "start_time": "2022-02-22T05:34:41.873Z"
   },
   {
    "duration": 228,
    "start_time": "2022-02-22T05:34:41.889Z"
   },
   {
    "duration": -2424,
    "start_time": "2022-02-22T05:34:44.543Z"
   },
   {
    "duration": -2428,
    "start_time": "2022-02-22T05:34:44.549Z"
   },
   {
    "duration": -2435,
    "start_time": "2022-02-22T05:34:44.557Z"
   },
   {
    "duration": -2442,
    "start_time": "2022-02-22T05:34:44.566Z"
   },
   {
    "duration": -2448,
    "start_time": "2022-02-22T05:34:44.573Z"
   },
   {
    "duration": -2453,
    "start_time": "2022-02-22T05:34:44.580Z"
   },
   {
    "duration": -2458,
    "start_time": "2022-02-22T05:34:44.587Z"
   },
   {
    "duration": -2465,
    "start_time": "2022-02-22T05:34:44.595Z"
   },
   {
    "duration": -2506,
    "start_time": "2022-02-22T05:34:44.638Z"
   },
   {
    "duration": -2517,
    "start_time": "2022-02-22T05:34:44.650Z"
   },
   {
    "duration": -2523,
    "start_time": "2022-02-22T05:34:44.658Z"
   },
   {
    "duration": -2528,
    "start_time": "2022-02-22T05:34:44.665Z"
   },
   {
    "duration": 13,
    "start_time": "2022-02-22T05:35:09.199Z"
   },
   {
    "duration": 59,
    "start_time": "2022-02-22T05:36:14.319Z"
   },
   {
    "duration": 12,
    "start_time": "2022-02-22T05:36:14.439Z"
   },
   {
    "duration": 10,
    "start_time": "2022-02-22T05:36:14.491Z"
   },
   {
    "duration": 5,
    "start_time": "2022-02-22T05:36:14.504Z"
   },
   {
    "duration": 9,
    "start_time": "2022-02-22T05:36:14.511Z"
   },
   {
    "duration": 6,
    "start_time": "2022-02-22T05:36:14.523Z"
   },
   {
    "duration": 30,
    "start_time": "2022-02-22T05:36:14.531Z"
   },
   {
    "duration": 8,
    "start_time": "2022-02-22T05:36:14.563Z"
   },
   {
    "duration": 19,
    "start_time": "2022-02-22T05:36:14.742Z"
   },
   {
    "duration": 5,
    "start_time": "2022-02-22T05:36:14.763Z"
   },
   {
    "duration": 18,
    "start_time": "2022-02-22T05:36:14.771Z"
   },
   {
    "duration": 27,
    "start_time": "2022-02-22T05:36:14.792Z"
   },
   {
    "duration": 6,
    "start_time": "2022-02-22T05:36:14.821Z"
   },
   {
    "duration": 7,
    "start_time": "2022-02-22T05:36:14.829Z"
   },
   {
    "duration": 7,
    "start_time": "2022-02-22T05:36:14.837Z"
   },
   {
    "duration": 9,
    "start_time": "2022-02-22T05:36:14.846Z"
   },
   {
    "duration": 7,
    "start_time": "2022-02-22T05:36:14.858Z"
   },
   {
    "duration": 6,
    "start_time": "2022-02-22T05:36:14.867Z"
   },
   {
    "duration": 5,
    "start_time": "2022-02-22T05:36:14.918Z"
   },
   {
    "duration": 4,
    "start_time": "2022-02-22T05:36:14.925Z"
   },
   {
    "duration": 6,
    "start_time": "2022-02-22T05:36:14.931Z"
   },
   {
    "duration": 4,
    "start_time": "2022-02-22T05:36:14.938Z"
   },
   {
    "duration": 8,
    "start_time": "2022-02-22T05:36:14.943Z"
   },
   {
    "duration": 7,
    "start_time": "2022-02-22T05:36:15.274Z"
   },
   {
    "duration": 7,
    "start_time": "2022-02-22T05:36:15.285Z"
   },
   {
    "duration": 16,
    "start_time": "2022-02-22T05:36:15.294Z"
   },
   {
    "duration": 30,
    "start_time": "2022-02-22T05:36:15.312Z"
   },
   {
    "duration": 12,
    "start_time": "2022-02-22T05:36:15.344Z"
   },
   {
    "duration": 16,
    "start_time": "2022-02-22T05:36:15.357Z"
   },
   {
    "duration": 35,
    "start_time": "2022-02-22T05:36:15.375Z"
   },
   {
    "duration": 7,
    "start_time": "2022-02-22T05:36:15.412Z"
   },
   {
    "duration": 14,
    "start_time": "2022-02-22T05:36:15.421Z"
   },
   {
    "duration": 18,
    "start_time": "2022-02-22T05:36:15.438Z"
   },
   {
    "duration": 7,
    "start_time": "2022-02-22T05:36:15.457Z"
   },
   {
    "duration": 18,
    "start_time": "2022-02-22T05:36:15.466Z"
   },
   {
    "duration": 7,
    "start_time": "2022-02-22T05:36:15.486Z"
   },
   {
    "duration": 38,
    "start_time": "2022-02-22T05:36:15.494Z"
   },
   {
    "duration": 12,
    "start_time": "2022-02-22T05:36:15.533Z"
   },
   {
    "duration": 32,
    "start_time": "2022-02-22T05:36:15.547Z"
   },
   {
    "duration": 14,
    "start_time": "2022-02-22T05:36:15.581Z"
   },
   {
    "duration": 11,
    "start_time": "2022-02-22T05:36:16.556Z"
   },
   {
    "duration": 17,
    "start_time": "2022-02-22T05:36:16.569Z"
   },
   {
    "duration": 14,
    "start_time": "2022-02-22T05:36:16.588Z"
   },
   {
    "duration": 9,
    "start_time": "2022-02-22T05:36:16.604Z"
   },
   {
    "duration": 15,
    "start_time": "2022-02-22T05:36:16.614Z"
   },
   {
    "duration": 13,
    "start_time": "2022-02-22T05:36:16.631Z"
   },
   {
    "duration": 38,
    "start_time": "2022-02-22T05:36:16.645Z"
   },
   {
    "duration": 15,
    "start_time": "2022-02-22T05:36:16.684Z"
   },
   {
    "duration": 12,
    "start_time": "2022-02-22T05:36:16.702Z"
   },
   {
    "duration": 13,
    "start_time": "2022-02-22T05:36:16.716Z"
   },
   {
    "duration": 13,
    "start_time": "2022-02-22T05:36:16.731Z"
   },
   {
    "duration": 193,
    "start_time": "2022-02-22T05:39:44.618Z"
   },
   {
    "duration": 16,
    "start_time": "2022-02-22T05:40:21.098Z"
   },
   {
    "duration": 43,
    "start_time": "2022-02-22T05:41:03.386Z"
   },
   {
    "duration": 7,
    "start_time": "2022-02-22T05:46:02.909Z"
   },
   {
    "duration": 6,
    "start_time": "2022-02-22T05:46:12.139Z"
   },
   {
    "duration": 56,
    "start_time": "2022-02-22T05:46:23.817Z"
   },
   {
    "duration": 10,
    "start_time": "2022-02-22T05:46:23.875Z"
   },
   {
    "duration": 10,
    "start_time": "2022-02-22T05:46:24.047Z"
   },
   {
    "duration": 6,
    "start_time": "2022-02-22T05:46:28.785Z"
   },
   {
    "duration": 6,
    "start_time": "2022-02-22T05:46:37.289Z"
   },
   {
    "duration": 5,
    "start_time": "2022-02-22T05:47:11.539Z"
   },
   {
    "duration": 6,
    "start_time": "2022-02-22T05:47:26.138Z"
   },
   {
    "duration": 6,
    "start_time": "2022-02-22T05:47:37.789Z"
   },
   {
    "duration": 525,
    "start_time": "2022-02-22T07:36:01.760Z"
   },
   {
    "duration": 58,
    "start_time": "2022-02-22T07:36:18.462Z"
   },
   {
    "duration": 11,
    "start_time": "2022-02-22T07:36:18.523Z"
   },
   {
    "duration": 9,
    "start_time": "2022-02-22T07:36:18.536Z"
   },
   {
    "duration": 5,
    "start_time": "2022-02-22T07:36:18.547Z"
   },
   {
    "duration": 8,
    "start_time": "2022-02-22T07:36:18.643Z"
   },
   {
    "duration": 5,
    "start_time": "2022-02-22T07:36:18.655Z"
   },
   {
    "duration": 3,
    "start_time": "2022-02-22T07:36:18.662Z"
   },
   {
    "duration": 67,
    "start_time": "2022-02-22T07:36:18.667Z"
   },
   {
    "duration": -2085,
    "start_time": "2022-02-22T07:36:20.820Z"
   },
   {
    "duration": 55,
    "start_time": "2022-02-22T07:36:49.580Z"
   },
   {
    "duration": 10,
    "start_time": "2022-02-22T07:36:49.637Z"
   },
   {
    "duration": 12,
    "start_time": "2022-02-22T07:36:49.649Z"
   },
   {
    "duration": 5,
    "start_time": "2022-02-22T07:36:49.663Z"
   },
   {
    "duration": 8,
    "start_time": "2022-02-22T07:36:49.669Z"
   },
   {
    "duration": 5,
    "start_time": "2022-02-22T07:36:49.678Z"
   },
   {
    "duration": 3,
    "start_time": "2022-02-22T07:36:49.684Z"
   },
   {
    "duration": 9,
    "start_time": "2022-02-22T07:36:49.720Z"
   },
   {
    "duration": 28,
    "start_time": "2022-02-22T07:36:49.776Z"
   },
   {
    "duration": 11,
    "start_time": "2022-02-22T07:37:15.034Z"
   },
   {
    "duration": 23,
    "start_time": "2022-02-22T07:38:22.634Z"
   },
   {
    "duration": 20,
    "start_time": "2022-02-22T07:39:21.653Z"
   },
   {
    "duration": 628,
    "start_time": "2022-02-24T02:58:22.867Z"
   },
   {
    "duration": 11,
    "start_time": "2022-02-24T02:58:23.496Z"
   },
   {
    "duration": 8,
    "start_time": "2022-02-24T02:58:23.509Z"
   },
   {
    "duration": 6,
    "start_time": "2022-02-24T02:58:23.518Z"
   },
   {
    "duration": 10,
    "start_time": "2022-02-24T02:58:23.525Z"
   },
   {
    "duration": 4,
    "start_time": "2022-02-24T02:58:23.546Z"
   },
   {
    "duration": 5,
    "start_time": "2022-02-24T02:58:23.551Z"
   },
   {
    "duration": 764,
    "start_time": "2022-02-24T02:58:27.829Z"
   },
   {
    "duration": 5,
    "start_time": "2022-02-24T02:59:13.319Z"
   },
   {
    "duration": 195,
    "start_time": "2022-02-24T03:07:07.692Z"
   },
   {
    "duration": 112,
    "start_time": "2022-02-24T03:07:20.808Z"
   },
   {
    "duration": 5,
    "start_time": "2022-02-24T03:08:29.318Z"
   },
   {
    "duration": 983,
    "start_time": "2022-02-25T01:26:46.778Z"
   },
   {
    "duration": 55,
    "start_time": "2022-02-25T01:27:29.622Z"
   },
   {
    "duration": 51,
    "start_time": "2022-02-25T01:27:49.737Z"
   },
   {
    "duration": 383,
    "start_time": "2022-02-25T01:30:22.866Z"
   },
   {
    "duration": 374,
    "start_time": "2022-02-25T01:31:00.015Z"
   },
   {
    "duration": 377,
    "start_time": "2022-02-25T01:31:23.866Z"
   },
   {
    "duration": 384,
    "start_time": "2022-02-25T01:31:46.811Z"
   },
   {
    "duration": 384,
    "start_time": "2022-02-25T01:32:22.094Z"
   },
   {
    "duration": 53,
    "start_time": "2022-02-25T01:32:30.553Z"
   },
   {
    "duration": 58,
    "start_time": "2022-02-25T01:32:48.267Z"
   },
   {
    "duration": 68,
    "start_time": "2022-02-25T01:46:43.168Z"
   },
   {
    "duration": 800,
    "start_time": "2022-02-25T04:46:03.242Z"
   },
   {
    "duration": 81,
    "start_time": "2022-02-25T04:46:11.854Z"
   },
   {
    "duration": 83,
    "start_time": "2022-02-25T04:47:41.045Z"
   },
   {
    "duration": 399,
    "start_time": "2022-02-25T04:49:00.023Z"
   },
   {
    "duration": 321,
    "start_time": "2022-02-25T04:50:42.874Z"
   },
   {
    "duration": 305,
    "start_time": "2022-02-25T04:50:53.133Z"
   },
   {
    "duration": 294,
    "start_time": "2022-02-25T04:50:59.634Z"
   },
   {
    "duration": 308,
    "start_time": "2022-02-25T04:51:08.504Z"
   },
   {
    "duration": 84,
    "start_time": "2022-02-25T04:51:44.428Z"
   },
   {
    "duration": 86,
    "start_time": "2022-02-25T04:51:55.543Z"
   },
   {
    "duration": 81,
    "start_time": "2022-02-25T04:52:29.499Z"
   },
   {
    "duration": 83,
    "start_time": "2022-02-25T04:52:45.099Z"
   },
   {
    "duration": 337,
    "start_time": "2022-02-25T04:59:47.802Z"
   },
   {
    "duration": 84,
    "start_time": "2022-02-25T05:00:17.623Z"
   },
   {
    "duration": 14,
    "start_time": "2022-02-25T05:00:17.709Z"
   },
   {
    "duration": 12,
    "start_time": "2022-02-25T05:00:17.726Z"
   },
   {
    "duration": 7,
    "start_time": "2022-02-25T05:00:17.741Z"
   },
   {
    "duration": 48,
    "start_time": "2022-02-25T05:00:17.750Z"
   },
   {
    "duration": 6,
    "start_time": "2022-02-25T05:00:17.800Z"
   },
   {
    "duration": 5,
    "start_time": "2022-02-25T05:00:17.808Z"
   },
   {
    "duration": 8,
    "start_time": "2022-02-25T05:00:17.815Z"
   },
   {
    "duration": 22,
    "start_time": "2022-02-25T05:00:17.827Z"
   },
   {
    "duration": 4,
    "start_time": "2022-02-25T05:00:17.851Z"
   },
   {
    "duration": 40,
    "start_time": "2022-02-25T05:00:17.894Z"
   },
   {
    "duration": 8,
    "start_time": "2022-02-25T05:00:17.936Z"
   },
   {
    "duration": 267,
    "start_time": "2022-02-25T05:00:24.772Z"
   },
   {
    "duration": 44,
    "start_time": "2022-02-25T05:01:04.700Z"
   },
   {
    "duration": 16,
    "start_time": "2022-02-25T05:01:36.853Z"
   },
   {
    "duration": 8,
    "start_time": "2022-02-25T05:01:42.012Z"
   },
   {
    "duration": 27,
    "start_time": "2022-02-25T05:02:29.754Z"
   },
   {
    "duration": 23,
    "start_time": "2022-02-25T05:02:59.433Z"
   },
   {
    "duration": 8,
    "start_time": "2022-02-25T05:03:02.092Z"
   },
   {
    "duration": 30,
    "start_time": "2022-02-25T05:03:33.297Z"
   },
   {
    "duration": 8,
    "start_time": "2022-02-25T05:03:36.331Z"
   },
   {
    "duration": 38,
    "start_time": "2022-02-25T05:04:57.855Z"
   },
   {
    "duration": 7,
    "start_time": "2022-02-25T05:05:01.062Z"
   },
   {
    "duration": 14,
    "start_time": "2022-02-25T05:09:00.566Z"
   },
   {
    "duration": 15,
    "start_time": "2022-02-25T05:09:40.908Z"
   },
   {
    "duration": 16,
    "start_time": "2022-02-25T05:10:00.325Z"
   },
   {
    "duration": 12,
    "start_time": "2022-02-25T05:10:14.239Z"
   },
   {
    "duration": 12,
    "start_time": "2022-02-25T05:10:28.605Z"
   },
   {
    "duration": 13,
    "start_time": "2022-02-25T05:11:13.119Z"
   },
   {
    "duration": 7,
    "start_time": "2022-02-25T05:12:04.960Z"
   },
   {
    "duration": 9,
    "start_time": "2022-02-25T05:12:10.455Z"
   },
   {
    "duration": 37,
    "start_time": "2022-02-25T05:12:53.559Z"
   },
   {
    "duration": 160,
    "start_time": "2022-02-25T05:13:00.359Z"
   },
   {
    "duration": 10,
    "start_time": "2022-02-25T05:13:18.958Z"
   },
   {
    "duration": 10,
    "start_time": "2022-02-25T05:16:00.031Z"
   },
   {
    "duration": 10,
    "start_time": "2022-02-25T05:16:06.417Z"
   },
   {
    "duration": 11,
    "start_time": "2022-02-25T05:16:33.253Z"
   },
   {
    "duration": 11,
    "start_time": "2022-02-25T05:16:58.202Z"
   },
   {
    "duration": 12,
    "start_time": "2022-02-25T05:17:39.903Z"
   },
   {
    "duration": 12,
    "start_time": "2022-02-25T05:18:02.862Z"
   },
   {
    "duration": 11,
    "start_time": "2022-02-25T05:18:40.774Z"
   },
   {
    "duration": 9,
    "start_time": "2022-02-25T05:19:05.295Z"
   },
   {
    "duration": 12,
    "start_time": "2022-02-25T05:19:43.755Z"
   },
   {
    "duration": 11,
    "start_time": "2022-02-25T05:21:11.588Z"
   },
   {
    "duration": 11,
    "start_time": "2022-02-25T05:21:53.896Z"
   },
   {
    "duration": 11,
    "start_time": "2022-02-25T05:22:55.419Z"
   },
   {
    "duration": 11,
    "start_time": "2022-02-25T05:23:12.977Z"
   },
   {
    "duration": 12,
    "start_time": "2022-02-25T05:23:28.857Z"
   },
   {
    "duration": 40,
    "start_time": "2022-02-25T05:25:04.616Z"
   },
   {
    "duration": 49,
    "start_time": "2022-02-25T05:25:25.496Z"
   },
   {
    "duration": 9,
    "start_time": "2022-02-25T05:40:10.772Z"
   },
   {
    "duration": 252,
    "start_time": "2022-02-25T05:40:34.329Z"
   },
   {
    "duration": 13,
    "start_time": "2022-02-25T05:41:24.886Z"
   },
   {
    "duration": 9,
    "start_time": "2022-02-25T05:41:45.902Z"
   },
   {
    "duration": 23,
    "start_time": "2022-02-25T05:42:08.121Z"
   },
   {
    "duration": 86,
    "start_time": "2022-02-25T05:42:44.859Z"
   },
   {
    "duration": 15,
    "start_time": "2022-02-25T05:42:44.948Z"
   },
   {
    "duration": 37,
    "start_time": "2022-02-25T05:42:44.966Z"
   },
   {
    "duration": 10,
    "start_time": "2022-02-25T05:42:45.006Z"
   },
   {
    "duration": 29,
    "start_time": "2022-02-25T05:42:45.018Z"
   },
   {
    "duration": 6,
    "start_time": "2022-02-25T05:42:45.049Z"
   },
   {
    "duration": 44,
    "start_time": "2022-02-25T05:42:45.057Z"
   },
   {
    "duration": 4,
    "start_time": "2022-02-25T05:42:45.104Z"
   },
   {
    "duration": 10,
    "start_time": "2022-02-25T05:42:45.111Z"
   },
   {
    "duration": 24,
    "start_time": "2022-02-25T05:42:51.911Z"
   },
   {
    "duration": 8,
    "start_time": "2022-02-25T05:43:14.371Z"
   },
   {
    "duration": 40,
    "start_time": "2022-02-25T05:43:24.928Z"
   },
   {
    "duration": 42,
    "start_time": "2022-02-25T05:43:29.482Z"
   },
   {
    "duration": 7,
    "start_time": "2022-02-25T05:43:37.562Z"
   },
   {
    "duration": 23,
    "start_time": "2022-02-25T05:44:07.049Z"
   },
   {
    "duration": 84,
    "start_time": "2022-02-25T06:03:52.694Z"
   },
   {
    "duration": 26,
    "start_time": "2022-02-25T06:03:52.781Z"
   },
   {
    "duration": 13,
    "start_time": "2022-02-25T06:03:52.810Z"
   },
   {
    "duration": 8,
    "start_time": "2022-02-25T06:03:52.825Z"
   },
   {
    "duration": 17,
    "start_time": "2022-02-25T06:03:52.835Z"
   },
   {
    "duration": 8,
    "start_time": "2022-02-25T06:03:52.894Z"
   },
   {
    "duration": 22,
    "start_time": "2022-02-25T06:03:52.905Z"
   },
   {
    "duration": 4,
    "start_time": "2022-02-25T06:03:52.930Z"
   },
   {
    "duration": 10,
    "start_time": "2022-02-25T06:03:52.937Z"
   },
   {
    "duration": 66,
    "start_time": "2022-02-25T06:03:52.949Z"
   },
   {
    "duration": 4,
    "start_time": "2022-02-25T06:03:53.018Z"
   },
   {
    "duration": 72,
    "start_time": "2022-02-25T06:03:53.024Z"
   },
   {
    "duration": 10,
    "start_time": "2022-02-25T06:03:53.099Z"
   },
   {
    "duration": 43,
    "start_time": "2022-02-25T06:03:53.111Z"
   },
   {
    "duration": 7,
    "start_time": "2022-02-25T06:03:53.157Z"
   },
   {
    "duration": 265,
    "start_time": "2022-02-25T06:03:53.194Z"
   },
   {
    "duration": -7473,
    "start_time": "2022-02-25T06:04:00.936Z"
   },
   {
    "duration": -7479,
    "start_time": "2022-02-25T06:04:00.944Z"
   },
   {
    "duration": 7,
    "start_time": "2022-02-25T06:06:25.465Z"
   },
   {
    "duration": 252,
    "start_time": "2022-02-25T06:06:28.403Z"
   },
   {
    "duration": 272,
    "start_time": "2022-02-25T06:07:02.315Z"
   },
   {
    "duration": 18,
    "start_time": "2022-02-25T06:07:30.833Z"
   },
   {
    "duration": 87,
    "start_time": "2022-02-25T06:09:25.796Z"
   },
   {
    "duration": 27,
    "start_time": "2022-02-25T06:09:25.885Z"
   },
   {
    "duration": 14,
    "start_time": "2022-02-25T06:09:25.915Z"
   },
   {
    "duration": 8,
    "start_time": "2022-02-25T06:09:25.932Z"
   },
   {
    "duration": 11,
    "start_time": "2022-02-25T06:09:25.942Z"
   },
   {
    "duration": 8,
    "start_time": "2022-02-25T06:09:25.994Z"
   },
   {
    "duration": 21,
    "start_time": "2022-02-25T06:09:35.713Z"
   },
   {
    "duration": 6,
    "start_time": "2022-02-25T06:11:27.429Z"
   },
   {
    "duration": 7,
    "start_time": "2022-02-25T06:12:42.875Z"
   },
   {
    "duration": 85,
    "start_time": "2022-02-25T06:13:43.764Z"
   },
   {
    "duration": 16,
    "start_time": "2022-02-25T06:13:43.853Z"
   },
   {
    "duration": 13,
    "start_time": "2022-02-25T06:13:43.895Z"
   },
   {
    "duration": 7,
    "start_time": "2022-02-25T06:13:43.911Z"
   },
   {
    "duration": 11,
    "start_time": "2022-02-25T06:13:43.921Z"
   },
   {
    "duration": 6,
    "start_time": "2022-02-25T06:13:43.934Z"
   },
   {
    "duration": 67,
    "start_time": "2022-02-25T06:13:43.943Z"
   },
   {
    "duration": 5,
    "start_time": "2022-02-25T06:13:44.012Z"
   },
   {
    "duration": 11,
    "start_time": "2022-02-25T06:13:44.020Z"
   },
   {
    "duration": 28,
    "start_time": "2022-02-25T06:13:44.034Z"
   },
   {
    "duration": 29,
    "start_time": "2022-02-25T06:13:44.065Z"
   },
   {
    "duration": 12,
    "start_time": "2022-02-25T06:13:44.097Z"
   },
   {
    "duration": 10,
    "start_time": "2022-02-25T06:14:01.774Z"
   },
   {
    "duration": 6,
    "start_time": "2022-02-25T06:16:14.305Z"
   },
   {
    "duration": 18,
    "start_time": "2022-02-25T06:16:25.514Z"
   },
   {
    "duration": 8,
    "start_time": "2022-02-25T06:16:31.186Z"
   },
   {
    "duration": 9,
    "start_time": "2022-02-25T06:16:38.144Z"
   },
   {
    "duration": 80,
    "start_time": "2022-02-25T06:19:31.932Z"
   },
   {
    "duration": 14,
    "start_time": "2022-02-25T06:19:32.014Z"
   },
   {
    "duration": 11,
    "start_time": "2022-02-25T06:19:32.031Z"
   },
   {
    "duration": 8,
    "start_time": "2022-02-25T06:19:32.044Z"
   },
   {
    "duration": 46,
    "start_time": "2022-02-25T06:19:32.054Z"
   },
   {
    "duration": 6,
    "start_time": "2022-02-25T06:19:32.102Z"
   },
   {
    "duration": 20,
    "start_time": "2022-02-25T06:19:32.111Z"
   },
   {
    "duration": 4,
    "start_time": "2022-02-25T06:19:32.133Z"
   },
   {
    "duration": 7,
    "start_time": "2022-02-25T06:19:32.141Z"
   },
   {
    "duration": 61,
    "start_time": "2022-02-25T06:19:32.151Z"
   },
   {
    "duration": 5,
    "start_time": "2022-02-25T06:19:32.214Z"
   },
   {
    "duration": 16,
    "start_time": "2022-02-25T06:19:32.221Z"
   },
   {
    "duration": 17,
    "start_time": "2022-02-25T06:19:32.239Z"
   },
   {
    "duration": 61,
    "start_time": "2022-02-25T06:19:32.258Z"
   },
   {
    "duration": 17,
    "start_time": "2022-02-25T06:19:32.321Z"
   },
   {
    "duration": 3,
    "start_time": "2022-02-25T06:19:32.340Z"
   },
   {
    "duration": 15,
    "start_time": "2022-02-25T06:19:32.345Z"
   },
   {
    "duration": 35,
    "start_time": "2022-02-25T06:19:32.363Z"
   },
   {
    "duration": 10,
    "start_time": "2022-02-25T06:19:35.198Z"
   },
   {
    "duration": 87,
    "start_time": "2022-02-25T06:27:25.506Z"
   },
   {
    "duration": 15,
    "start_time": "2022-02-25T06:27:25.596Z"
   },
   {
    "duration": 13,
    "start_time": "2022-02-25T06:27:25.614Z"
   },
   {
    "duration": 8,
    "start_time": "2022-02-25T06:27:25.630Z"
   },
   {
    "duration": 54,
    "start_time": "2022-02-25T06:27:25.641Z"
   },
   {
    "duration": 8,
    "start_time": "2022-02-25T06:27:25.698Z"
   },
   {
    "duration": 21,
    "start_time": "2022-02-25T06:27:25.709Z"
   },
   {
    "duration": 4,
    "start_time": "2022-02-25T06:27:25.733Z"
   },
   {
    "duration": 15,
    "start_time": "2022-02-25T06:27:25.741Z"
   },
   {
    "duration": 26,
    "start_time": "2022-02-25T06:27:25.795Z"
   },
   {
    "duration": 5,
    "start_time": "2022-02-25T06:27:25.823Z"
   },
   {
    "duration": 11,
    "start_time": "2022-02-25T06:27:25.831Z"
   },
   {
    "duration": 11,
    "start_time": "2022-02-25T06:27:25.844Z"
   },
   {
    "duration": 76,
    "start_time": "2022-02-25T06:27:25.858Z"
   },
   {
    "duration": 18,
    "start_time": "2022-02-25T06:27:25.936Z"
   },
   {
    "duration": 4,
    "start_time": "2022-02-25T06:27:25.957Z"
   },
   {
    "duration": 41,
    "start_time": "2022-02-25T06:27:25.963Z"
   },
   {
    "duration": 10,
    "start_time": "2022-02-25T06:27:26.007Z"
   },
   {
    "duration": 11,
    "start_time": "2022-02-25T06:27:30.765Z"
   },
   {
    "duration": 8,
    "start_time": "2022-02-25T06:27:35.305Z"
   },
   {
    "duration": 11,
    "start_time": "2022-02-25T06:46:29.946Z"
   },
   {
    "duration": 12,
    "start_time": "2022-02-25T06:48:24.936Z"
   },
   {
    "duration": 9,
    "start_time": "2022-02-25T06:51:18.086Z"
   },
   {
    "duration": 90,
    "start_time": "2022-02-25T06:51:33.354Z"
   },
   {
    "duration": 15,
    "start_time": "2022-02-25T06:51:33.447Z"
   },
   {
    "duration": 36,
    "start_time": "2022-02-25T06:51:33.466Z"
   },
   {
    "duration": 17,
    "start_time": "2022-02-25T06:51:33.505Z"
   },
   {
    "duration": 19,
    "start_time": "2022-02-25T06:51:33.524Z"
   },
   {
    "duration": 22,
    "start_time": "2022-02-25T06:51:33.546Z"
   },
   {
    "duration": 33,
    "start_time": "2022-02-25T06:51:33.570Z"
   },
   {
    "duration": 5,
    "start_time": "2022-02-25T06:51:33.606Z"
   },
   {
    "duration": 20,
    "start_time": "2022-02-25T06:51:33.614Z"
   },
   {
    "duration": 49,
    "start_time": "2022-02-25T06:51:33.636Z"
   },
   {
    "duration": 8,
    "start_time": "2022-02-25T06:51:33.689Z"
   },
   {
    "duration": 14,
    "start_time": "2022-02-25T06:51:33.700Z"
   },
   {
    "duration": 20,
    "start_time": "2022-02-25T06:51:33.717Z"
   },
   {
    "duration": 57,
    "start_time": "2022-02-25T06:51:33.740Z"
   },
   {
    "duration": 17,
    "start_time": "2022-02-25T06:51:33.800Z"
   },
   {
    "duration": 10,
    "start_time": "2022-02-25T06:51:33.820Z"
   },
   {
    "duration": 28,
    "start_time": "2022-02-25T06:51:33.833Z"
   },
   {
    "duration": 14,
    "start_time": "2022-02-25T06:51:33.865Z"
   },
   {
    "duration": 21,
    "start_time": "2022-02-25T06:51:33.881Z"
   },
   {
    "duration": 8,
    "start_time": "2022-02-25T06:51:37.246Z"
   },
   {
    "duration": 12,
    "start_time": "2022-02-25T06:51:38.995Z"
   },
   {
    "duration": 9,
    "start_time": "2022-02-25T06:51:40.515Z"
   },
   {
    "duration": 5,
    "start_time": "2022-02-25T06:52:46.715Z"
   },
   {
    "duration": 13,
    "start_time": "2022-02-25T06:53:50.469Z"
   },
   {
    "duration": 9,
    "start_time": "2022-02-25T06:54:16.716Z"
   },
   {
    "duration": 14,
    "start_time": "2022-02-25T06:57:40.271Z"
   },
   {
    "duration": 16,
    "start_time": "2022-02-25T06:58:16.841Z"
   },
   {
    "duration": 12,
    "start_time": "2022-02-25T06:58:33.801Z"
   },
   {
    "duration": 88,
    "start_time": "2022-02-25T06:59:12.643Z"
   },
   {
    "duration": 16,
    "start_time": "2022-02-25T06:59:12.735Z"
   },
   {
    "duration": 43,
    "start_time": "2022-02-25T06:59:12.754Z"
   },
   {
    "duration": 8,
    "start_time": "2022-02-25T06:59:12.800Z"
   },
   {
    "duration": 12,
    "start_time": "2022-02-25T06:59:12.810Z"
   },
   {
    "duration": 7,
    "start_time": "2022-02-25T06:59:12.825Z"
   },
   {
    "duration": 67,
    "start_time": "2022-02-25T06:59:12.835Z"
   },
   {
    "duration": 4,
    "start_time": "2022-02-25T06:59:12.905Z"
   },
   {
    "duration": 14,
    "start_time": "2022-02-25T06:59:12.913Z"
   },
   {
    "duration": 26,
    "start_time": "2022-02-25T06:59:12.929Z"
   },
   {
    "duration": 5,
    "start_time": "2022-02-25T06:59:12.957Z"
   },
   {
    "duration": 40,
    "start_time": "2022-02-25T06:59:12.964Z"
   },
   {
    "duration": 19,
    "start_time": "2022-02-25T06:59:13.006Z"
   },
   {
    "duration": 44,
    "start_time": "2022-02-25T06:59:13.028Z"
   },
   {
    "duration": 36,
    "start_time": "2022-02-25T06:59:13.074Z"
   },
   {
    "duration": 4,
    "start_time": "2022-02-25T06:59:13.113Z"
   },
   {
    "duration": 14,
    "start_time": "2022-02-25T06:59:13.120Z"
   },
   {
    "duration": 11,
    "start_time": "2022-02-25T06:59:13.137Z"
   },
   {
    "duration": 13,
    "start_time": "2022-02-25T06:59:13.196Z"
   },
   {
    "duration": 12,
    "start_time": "2022-02-25T06:59:17.101Z"
   },
   {
    "duration": 14,
    "start_time": "2022-02-25T06:59:19.917Z"
   },
   {
    "duration": 13,
    "start_time": "2022-02-25T06:59:44.787Z"
   },
   {
    "duration": 22,
    "start_time": "2022-02-25T07:00:08.787Z"
   },
   {
    "duration": 248,
    "start_time": "2022-02-25T07:18:25.377Z"
   },
   {
    "duration": 312,
    "start_time": "2022-02-25T07:18:59.862Z"
   },
   {
    "duration": 258,
    "start_time": "2022-02-25T07:19:56.548Z"
   },
   {
    "duration": 10,
    "start_time": "2022-02-25T07:20:15.167Z"
   },
   {
    "duration": 22,
    "start_time": "2022-02-25T07:22:04.102Z"
   },
   {
    "duration": 311,
    "start_time": "2022-02-25T07:35:04.692Z"
   },
   {
    "duration": 11,
    "start_time": "2022-02-25T07:35:12.737Z"
   },
   {
    "duration": 86,
    "start_time": "2022-02-25T07:35:24.207Z"
   },
   {
    "duration": 14,
    "start_time": "2022-02-25T07:35:24.296Z"
   },
   {
    "duration": 14,
    "start_time": "2022-02-25T07:35:24.313Z"
   },
   {
    "duration": 9,
    "start_time": "2022-02-25T07:35:24.330Z"
   },
   {
    "duration": 58,
    "start_time": "2022-02-25T07:35:24.342Z"
   },
   {
    "duration": 6,
    "start_time": "2022-02-25T07:35:24.403Z"
   },
   {
    "duration": 21,
    "start_time": "2022-02-25T07:35:24.411Z"
   },
   {
    "duration": 4,
    "start_time": "2022-02-25T07:35:24.436Z"
   },
   {
    "duration": 10,
    "start_time": "2022-02-25T07:35:24.442Z"
   },
   {
    "duration": 25,
    "start_time": "2022-02-25T07:35:24.494Z"
   },
   {
    "duration": 5,
    "start_time": "2022-02-25T07:35:24.521Z"
   },
   {
    "duration": 7,
    "start_time": "2022-02-25T07:35:24.529Z"
   },
   {
    "duration": 13,
    "start_time": "2022-02-25T07:35:24.539Z"
   },
   {
    "duration": 45,
    "start_time": "2022-02-25T07:35:24.595Z"
   },
   {
    "duration": 19,
    "start_time": "2022-02-25T07:35:24.642Z"
   },
   {
    "duration": 29,
    "start_time": "2022-02-25T07:35:24.664Z"
   },
   {
    "duration": 13,
    "start_time": "2022-02-25T07:35:24.696Z"
   },
   {
    "duration": 10,
    "start_time": "2022-02-25T07:35:24.712Z"
   },
   {
    "duration": 12,
    "start_time": "2022-02-25T07:35:24.724Z"
   },
   {
    "duration": 38,
    "start_time": "2022-02-25T07:35:42.110Z"
   },
   {
    "duration": 32,
    "start_time": "2022-02-25T07:36:05.403Z"
   },
   {
    "duration": 10,
    "start_time": "2022-02-25T07:37:14.727Z"
   },
   {
    "duration": 12,
    "start_time": "2022-02-25T07:37:29.027Z"
   },
   {
    "duration": 10,
    "start_time": "2022-02-25T07:37:36.737Z"
   },
   {
    "duration": 20,
    "start_time": "2022-02-25T07:42:07.678Z"
   },
   {
    "duration": 36,
    "start_time": "2022-02-25T07:42:17.602Z"
   },
   {
    "duration": 14,
    "start_time": "2022-02-25T07:42:25.643Z"
   },
   {
    "duration": 697,
    "start_time": "2022-02-28T04:35:05.415Z"
   },
   {
    "duration": 10,
    "start_time": "2022-02-28T04:35:06.113Z"
   },
   {
    "duration": 8,
    "start_time": "2022-02-28T04:35:06.124Z"
   },
   {
    "duration": 4,
    "start_time": "2022-02-28T04:35:06.134Z"
   },
   {
    "duration": 7,
    "start_time": "2022-02-28T04:35:06.139Z"
   },
   {
    "duration": 6,
    "start_time": "2022-02-28T04:35:06.147Z"
   },
   {
    "duration": 4,
    "start_time": "2022-02-28T04:35:06.154Z"
   },
   {
    "duration": 6,
    "start_time": "2022-02-28T04:35:06.160Z"
   },
   {
    "duration": 58,
    "start_time": "2022-02-28T04:35:06.168Z"
   },
   {
    "duration": 3,
    "start_time": "2022-02-28T04:35:06.227Z"
   },
   {
    "duration": 1135,
    "start_time": "2022-02-28T04:35:06.231Z"
   },
   {
    "duration": -196,
    "start_time": "2022-02-28T04:35:07.563Z"
   },
   {
    "duration": -255,
    "start_time": "2022-02-28T04:35:07.623Z"
   },
   {
    "duration": -264,
    "start_time": "2022-02-28T04:35:07.633Z"
   },
   {
    "duration": -272,
    "start_time": "2022-02-28T04:35:07.642Z"
   },
   {
    "duration": 6,
    "start_time": "2022-02-28T04:35:12.489Z"
   },
   {
    "duration": 68,
    "start_time": "2022-02-28T04:36:17.240Z"
   },
   {
    "duration": 8,
    "start_time": "2022-02-28T04:36:17.310Z"
   },
   {
    "duration": 7,
    "start_time": "2022-02-28T04:36:17.320Z"
   },
   {
    "duration": 4,
    "start_time": "2022-02-28T04:36:17.329Z"
   },
   {
    "duration": 6,
    "start_time": "2022-02-28T04:36:17.334Z"
   },
   {
    "duration": 5,
    "start_time": "2022-02-28T04:36:17.341Z"
   },
   {
    "duration": 4,
    "start_time": "2022-02-28T04:36:17.347Z"
   },
   {
    "duration": 7,
    "start_time": "2022-02-28T04:36:17.353Z"
   },
   {
    "duration": 61,
    "start_time": "2022-02-28T04:36:17.362Z"
   },
   {
    "duration": 56,
    "start_time": "2022-02-28T04:37:20.539Z"
   },
   {
    "duration": 9,
    "start_time": "2022-02-28T04:37:20.596Z"
   },
   {
    "duration": 7,
    "start_time": "2022-02-28T04:37:20.617Z"
   },
   {
    "duration": 4,
    "start_time": "2022-02-28T04:37:20.626Z"
   },
   {
    "duration": 9,
    "start_time": "2022-02-28T04:37:20.633Z"
   },
   {
    "duration": 5,
    "start_time": "2022-02-28T04:37:20.644Z"
   },
   {
    "duration": 2,
    "start_time": "2022-02-28T04:37:20.666Z"
   },
   {
    "duration": 5,
    "start_time": "2022-02-28T04:37:20.673Z"
   },
   {
    "duration": 24,
    "start_time": "2022-02-28T04:37:20.690Z"
   },
   {
    "duration": 2,
    "start_time": "2022-02-28T04:37:20.716Z"
   },
   {
    "duration": 28,
    "start_time": "2022-02-28T04:37:20.720Z"
   },
   {
    "duration": 4,
    "start_time": "2022-02-28T04:37:20.749Z"
   },
   {
    "duration": 9,
    "start_time": "2022-02-28T04:37:20.755Z"
   },
   {
    "duration": 5,
    "start_time": "2022-02-28T04:37:20.765Z"
   },
   {
    "duration": 34,
    "start_time": "2022-02-28T04:37:20.772Z"
   },
   {
    "duration": 19,
    "start_time": "2022-02-28T04:37:24.276Z"
   },
   {
    "duration": 14,
    "start_time": "2022-02-28T04:38:14.655Z"
   },
   {
    "duration": 5,
    "start_time": "2022-02-28T04:51:57.407Z"
   },
   {
    "duration": 310,
    "start_time": "2022-03-01T03:16:11.551Z"
   },
   {
    "duration": 760,
    "start_time": "2022-03-01T04:06:54.195Z"
   },
   {
    "duration": 15,
    "start_time": "2022-03-01T04:06:54.958Z"
   },
   {
    "duration": 12,
    "start_time": "2022-03-01T04:06:54.976Z"
   },
   {
    "duration": 12,
    "start_time": "2022-03-01T04:06:54.991Z"
   },
   {
    "duration": 11,
    "start_time": "2022-03-01T04:06:55.050Z"
   },
   {
    "duration": 9,
    "start_time": "2022-03-01T04:06:55.064Z"
   },
   {
    "duration": 6,
    "start_time": "2022-03-01T04:06:55.076Z"
   },
   {
    "duration": 7,
    "start_time": "2022-03-01T04:06:55.086Z"
   },
   {
    "duration": 90,
    "start_time": "2022-03-01T04:06:55.096Z"
   },
   {
    "duration": 4,
    "start_time": "2022-03-01T04:06:55.189Z"
   },
   {
    "duration": 78,
    "start_time": "2022-03-01T04:06:55.196Z"
   },
   {
    "duration": 9,
    "start_time": "2022-03-01T04:06:55.276Z"
   },
   {
    "duration": 19,
    "start_time": "2022-03-01T04:06:55.288Z"
   },
   {
    "duration": 49,
    "start_time": "2022-03-01T04:06:55.310Z"
   },
   {
    "duration": 11,
    "start_time": "2022-03-01T04:06:55.361Z"
   },
   {
    "duration": 18,
    "start_time": "2022-03-01T04:06:55.374Z"
   },
   {
    "duration": 5,
    "start_time": "2022-03-01T04:06:55.395Z"
   },
   {
    "duration": 53,
    "start_time": "2022-03-01T04:06:55.403Z"
   },
   {
    "duration": 20,
    "start_time": "2022-03-01T04:07:02.842Z"
   },
   {
    "duration": 81,
    "start_time": "2022-03-01T04:29:56.000Z"
   },
   {
    "duration": 19,
    "start_time": "2022-03-01T04:29:56.085Z"
   },
   {
    "duration": 53,
    "start_time": "2022-03-01T04:29:56.108Z"
   },
   {
    "duration": 10,
    "start_time": "2022-03-01T04:29:56.165Z"
   },
   {
    "duration": 13,
    "start_time": "2022-03-01T04:29:56.178Z"
   },
   {
    "duration": 64,
    "start_time": "2022-03-01T04:29:56.194Z"
   },
   {
    "duration": 4,
    "start_time": "2022-03-01T04:29:56.261Z"
   },
   {
    "duration": 7,
    "start_time": "2022-03-01T04:29:56.269Z"
   },
   {
    "duration": 86,
    "start_time": "2022-03-01T04:29:56.278Z"
   },
   {
    "duration": 4,
    "start_time": "2022-03-01T04:29:56.367Z"
   },
   {
    "duration": 37,
    "start_time": "2022-03-01T04:29:56.373Z"
   },
   {
    "duration": 6,
    "start_time": "2022-03-01T04:29:56.412Z"
   },
   {
    "duration": 16,
    "start_time": "2022-03-01T04:29:56.452Z"
   },
   {
    "duration": 11,
    "start_time": "2022-03-01T04:29:56.471Z"
   },
   {
    "duration": 10,
    "start_time": "2022-03-01T04:29:56.485Z"
   },
   {
    "duration": 69,
    "start_time": "2022-03-01T04:29:56.497Z"
   },
   {
    "duration": 6,
    "start_time": "2022-03-01T04:29:56.569Z"
   },
   {
    "duration": 9,
    "start_time": "2022-03-01T04:29:56.577Z"
   },
   {
    "duration": 75,
    "start_time": "2022-03-01T04:29:56.589Z"
   },
   {
    "duration": 7,
    "start_time": "2022-03-01T04:29:56.666Z"
   },
   {
    "duration": 8,
    "start_time": "2022-03-01T04:29:56.676Z"
   },
   {
    "duration": 10,
    "start_time": "2022-03-01T04:29:56.687Z"
   },
   {
    "duration": 56,
    "start_time": "2022-03-01T04:29:56.701Z"
   },
   {
    "duration": 7,
    "start_time": "2022-03-01T04:29:56.760Z"
   },
   {
    "duration": 12,
    "start_time": "2022-03-01T04:29:56.769Z"
   },
   {
    "duration": 6,
    "start_time": "2022-03-01T04:29:56.783Z"
   },
   {
    "duration": 60,
    "start_time": "2022-03-01T04:29:56.791Z"
   },
   {
    "duration": 6,
    "start_time": "2022-03-01T04:29:56.854Z"
   },
   {
    "duration": 16,
    "start_time": "2022-03-01T04:29:56.862Z"
   },
   {
    "duration": 947,
    "start_time": "2022-03-01T04:29:56.881Z"
   },
   {
    "duration": -4553,
    "start_time": "2022-03-01T04:30:02.384Z"
   },
   {
    "duration": -4559,
    "start_time": "2022-03-01T04:30:02.391Z"
   },
   {
    "duration": 76,
    "start_time": "2022-03-01T04:44:28.083Z"
   },
   {
    "duration": 17,
    "start_time": "2022-03-01T04:44:28.161Z"
   },
   {
    "duration": 14,
    "start_time": "2022-03-01T04:44:28.181Z"
   },
   {
    "duration": 8,
    "start_time": "2022-03-01T04:44:28.210Z"
   },
   {
    "duration": 40,
    "start_time": "2022-03-01T04:44:28.221Z"
   },
   {
    "duration": 9,
    "start_time": "2022-03-01T04:44:28.265Z"
   },
   {
    "duration": 4,
    "start_time": "2022-03-01T04:44:28.277Z"
   },
   {
    "duration": 8,
    "start_time": "2022-03-01T04:44:28.576Z"
   },
   {
    "duration": 39,
    "start_time": "2022-03-01T04:44:28.588Z"
   },
   {
    "duration": 4,
    "start_time": "2022-03-01T04:44:28.630Z"
   },
   {
    "duration": 36,
    "start_time": "2022-03-01T04:44:28.683Z"
   },
   {
    "duration": 7,
    "start_time": "2022-03-01T04:44:28.722Z"
   },
   {
    "duration": 14,
    "start_time": "2022-03-01T04:44:28.817Z"
   },
   {
    "duration": 9,
    "start_time": "2022-03-01T04:44:28.834Z"
   },
   {
    "duration": 10,
    "start_time": "2022-03-01T04:44:28.857Z"
   },
   {
    "duration": 19,
    "start_time": "2022-03-01T04:44:28.870Z"
   },
   {
    "duration": 5,
    "start_time": "2022-03-01T04:44:28.892Z"
   },
   {
    "duration": 7,
    "start_time": "2022-03-01T04:44:28.900Z"
   },
   {
    "duration": 57,
    "start_time": "2022-03-01T04:44:28.909Z"
   },
   {
    "duration": 7,
    "start_time": "2022-03-01T04:44:28.969Z"
   },
   {
    "duration": 8,
    "start_time": "2022-03-01T04:44:28.979Z"
   },
   {
    "duration": 61,
    "start_time": "2022-03-01T04:44:28.990Z"
   },
   {
    "duration": 9,
    "start_time": "2022-03-01T04:44:29.054Z"
   },
   {
    "duration": 8,
    "start_time": "2022-03-01T04:44:29.066Z"
   },
   {
    "duration": 11,
    "start_time": "2022-03-01T04:44:29.076Z"
   },
   {
    "duration": 6,
    "start_time": "2022-03-01T04:44:29.089Z"
   },
   {
    "duration": 7,
    "start_time": "2022-03-01T04:44:29.153Z"
   },
   {
    "duration": 5,
    "start_time": "2022-03-01T04:44:29.163Z"
   },
   {
    "duration": 16,
    "start_time": "2022-03-01T04:44:29.170Z"
   },
   {
    "duration": 942,
    "start_time": "2022-03-01T04:44:34.905Z"
   },
   {
    "duration": 5,
    "start_time": "2022-03-01T04:46:03.608Z"
   },
   {
    "duration": 231,
    "start_time": "2022-03-01T04:46:13.654Z"
   },
   {
    "duration": 69,
    "start_time": "2022-03-01T04:47:19.780Z"
   },
   {
    "duration": 15,
    "start_time": "2022-03-01T04:47:19.851Z"
   },
   {
    "duration": 12,
    "start_time": "2022-03-01T04:47:19.869Z"
   },
   {
    "duration": 7,
    "start_time": "2022-03-01T04:47:19.884Z"
   },
   {
    "duration": 62,
    "start_time": "2022-03-01T04:47:19.894Z"
   },
   {
    "duration": 9,
    "start_time": "2022-03-01T04:47:19.958Z"
   },
   {
    "duration": 6,
    "start_time": "2022-03-01T04:47:19.970Z"
   },
   {
    "duration": 7,
    "start_time": "2022-03-01T04:47:19.980Z"
   },
   {
    "duration": 85,
    "start_time": "2022-03-01T04:47:19.990Z"
   },
   {
    "duration": 5,
    "start_time": "2022-03-01T04:47:20.077Z"
   },
   {
    "duration": 50,
    "start_time": "2022-03-01T04:47:23.714Z"
   },
   {
    "duration": 70,
    "start_time": "2022-03-01T04:48:00.123Z"
   },
   {
    "duration": 15,
    "start_time": "2022-03-01T04:48:00.196Z"
   },
   {
    "duration": 46,
    "start_time": "2022-03-01T04:48:00.214Z"
   },
   {
    "duration": 8,
    "start_time": "2022-03-01T04:48:00.262Z"
   },
   {
    "duration": 18,
    "start_time": "2022-03-01T04:48:00.272Z"
   },
   {
    "duration": 11,
    "start_time": "2022-03-01T04:48:00.292Z"
   },
   {
    "duration": 11,
    "start_time": "2022-03-01T04:48:00.305Z"
   },
   {
    "duration": 19,
    "start_time": "2022-03-01T04:48:03.992Z"
   },
   {
    "duration": 47,
    "start_time": "2022-03-01T04:48:35.294Z"
   },
   {
    "duration": 59,
    "start_time": "2022-03-01T04:49:14.683Z"
   },
   {
    "duration": 58,
    "start_time": "2022-03-01T04:51:54.796Z"
   },
   {
    "duration": 61,
    "start_time": "2022-03-01T04:52:26.023Z"
   },
   {
    "duration": 72,
    "start_time": "2022-03-01T04:54:43.240Z"
   },
   {
    "duration": 36,
    "start_time": "2022-03-01T04:54:43.315Z"
   },
   {
    "duration": 12,
    "start_time": "2022-03-01T04:54:43.354Z"
   },
   {
    "duration": 7,
    "start_time": "2022-03-01T04:54:43.369Z"
   },
   {
    "duration": 11,
    "start_time": "2022-03-01T04:54:43.379Z"
   },
   {
    "duration": 59,
    "start_time": "2022-03-01T04:54:43.392Z"
   },
   {
    "duration": 5,
    "start_time": "2022-03-01T04:54:43.454Z"
   },
   {
    "duration": 9,
    "start_time": "2022-03-01T04:54:43.462Z"
   },
   {
    "duration": 80,
    "start_time": "2022-03-01T04:54:43.474Z"
   },
   {
    "duration": 4,
    "start_time": "2022-03-01T04:54:43.556Z"
   },
   {
    "duration": 30,
    "start_time": "2022-03-01T04:54:43.563Z"
   },
   {
    "duration": 6,
    "start_time": "2022-03-01T04:54:43.596Z"
   },
   {
    "duration": 50,
    "start_time": "2022-03-01T04:54:43.604Z"
   },
   {
    "duration": 9,
    "start_time": "2022-03-01T04:54:43.656Z"
   },
   {
    "duration": 10,
    "start_time": "2022-03-01T04:54:43.668Z"
   },
   {
    "duration": 18,
    "start_time": "2022-03-01T04:54:43.680Z"
   },
   {
    "duration": 52,
    "start_time": "2022-03-01T04:54:43.700Z"
   },
   {
    "duration": 6,
    "start_time": "2022-03-01T04:54:43.755Z"
   },
   {
    "duration": 22,
    "start_time": "2022-03-01T04:54:43.764Z"
   },
   {
    "duration": 7,
    "start_time": "2022-03-01T04:54:43.788Z"
   },
   {
    "duration": 59,
    "start_time": "2022-03-01T04:54:43.797Z"
   },
   {
    "duration": 10,
    "start_time": "2022-03-01T04:54:43.858Z"
   },
   {
    "duration": 7,
    "start_time": "2022-03-01T04:54:43.872Z"
   },
   {
    "duration": 7,
    "start_time": "2022-03-01T04:54:43.882Z"
   },
   {
    "duration": 62,
    "start_time": "2022-03-01T04:54:43.891Z"
   },
   {
    "duration": 6,
    "start_time": "2022-03-01T04:54:43.956Z"
   },
   {
    "duration": 8,
    "start_time": "2022-03-01T04:54:43.964Z"
   },
   {
    "duration": 6,
    "start_time": "2022-03-01T04:54:43.974Z"
   },
   {
    "duration": 72,
    "start_time": "2022-03-01T04:54:43.982Z"
   },
   {
    "duration": 318,
    "start_time": "2022-03-01T04:54:50.929Z"
   },
   {
    "duration": 5,
    "start_time": "2022-03-01T04:55:00.409Z"
   },
   {
    "duration": 42,
    "start_time": "2022-03-01T05:02:00.516Z"
   },
   {
    "duration": 23,
    "start_time": "2022-03-01T05:03:12.930Z"
   },
   {
    "duration": 78,
    "start_time": "2022-03-01T05:03:19.695Z"
   },
   {
    "duration": 13,
    "start_time": "2022-03-01T05:03:19.775Z"
   },
   {
    "duration": 12,
    "start_time": "2022-03-01T05:03:19.791Z"
   },
   {
    "duration": 51,
    "start_time": "2022-03-01T05:03:19.805Z"
   },
   {
    "duration": 17,
    "start_time": "2022-03-01T05:03:19.859Z"
   },
   {
    "duration": 10,
    "start_time": "2022-03-01T05:03:19.879Z"
   },
   {
    "duration": 6,
    "start_time": "2022-03-01T05:03:19.891Z"
   },
   {
    "duration": 10,
    "start_time": "2022-03-01T05:03:19.953Z"
   },
   {
    "duration": 42,
    "start_time": "2022-03-01T05:03:19.968Z"
   },
   {
    "duration": 39,
    "start_time": "2022-03-01T05:03:20.013Z"
   },
   {
    "duration": 31,
    "start_time": "2022-03-01T05:03:20.055Z"
   },
   {
    "duration": 6,
    "start_time": "2022-03-01T05:03:20.089Z"
   },
   {
    "duration": 56,
    "start_time": "2022-03-01T05:03:20.097Z"
   },
   {
    "duration": 10,
    "start_time": "2022-03-01T05:03:20.155Z"
   },
   {
    "duration": 11,
    "start_time": "2022-03-01T05:03:20.168Z"
   },
   {
    "duration": 26,
    "start_time": "2022-03-01T05:03:20.182Z"
   },
   {
    "duration": 43,
    "start_time": "2022-03-01T05:03:20.211Z"
   },
   {
    "duration": 9,
    "start_time": "2022-03-01T05:03:20.256Z"
   },
   {
    "duration": 22,
    "start_time": "2022-03-01T05:03:20.267Z"
   },
   {
    "duration": 9,
    "start_time": "2022-03-01T05:03:20.292Z"
   },
   {
    "duration": 53,
    "start_time": "2022-03-01T05:03:20.303Z"
   },
   {
    "duration": 10,
    "start_time": "2022-03-01T05:03:20.359Z"
   },
   {
    "duration": 7,
    "start_time": "2022-03-01T05:03:20.374Z"
   },
   {
    "duration": 12,
    "start_time": "2022-03-01T05:03:20.384Z"
   },
   {
    "duration": 60,
    "start_time": "2022-03-01T05:03:20.399Z"
   },
   {
    "duration": 6,
    "start_time": "2022-03-01T05:03:20.462Z"
   },
   {
    "duration": 9,
    "start_time": "2022-03-01T05:03:20.470Z"
   },
   {
    "duration": 6,
    "start_time": "2022-03-01T05:03:20.481Z"
   },
   {
    "duration": 64,
    "start_time": "2022-03-01T05:03:20.489Z"
   },
   {
    "duration": 6,
    "start_time": "2022-03-01T05:03:20.556Z"
   },
   {
    "duration": 23,
    "start_time": "2022-03-01T05:03:24.770Z"
   },
   {
    "duration": 41,
    "start_time": "2022-03-01T05:03:38.620Z"
   },
   {
    "duration": 7,
    "start_time": "2022-03-01T05:05:45.630Z"
   },
   {
    "duration": 17,
    "start_time": "2022-03-01T05:17:56.991Z"
   },
   {
    "duration": 80,
    "start_time": "2022-03-01T05:20:18.072Z"
   },
   {
    "duration": 19,
    "start_time": "2022-03-01T05:20:18.156Z"
   },
   {
    "duration": 14,
    "start_time": "2022-03-01T05:20:18.180Z"
   },
   {
    "duration": 7,
    "start_time": "2022-03-01T05:20:18.198Z"
   },
   {
    "duration": 12,
    "start_time": "2022-03-01T05:20:18.252Z"
   },
   {
    "duration": 9,
    "start_time": "2022-03-01T05:20:18.266Z"
   },
   {
    "duration": 4,
    "start_time": "2022-03-01T05:20:18.277Z"
   },
   {
    "duration": 11,
    "start_time": "2022-03-01T05:20:18.284Z"
   },
   {
    "duration": 40,
    "start_time": "2022-03-01T05:20:18.352Z"
   },
   {
    "duration": 6,
    "start_time": "2022-03-01T05:20:18.396Z"
   },
   {
    "duration": 71,
    "start_time": "2022-03-01T05:20:18.405Z"
   },
   {
    "duration": 6,
    "start_time": "2022-03-01T05:20:18.478Z"
   },
   {
    "duration": 14,
    "start_time": "2022-03-01T05:20:18.486Z"
   },
   {
    "duration": 49,
    "start_time": "2022-03-01T05:20:18.502Z"
   },
   {
    "duration": 10,
    "start_time": "2022-03-01T05:20:18.554Z"
   },
   {
    "duration": 19,
    "start_time": "2022-03-01T05:20:18.566Z"
   },
   {
    "duration": 5,
    "start_time": "2022-03-01T05:20:18.588Z"
   },
   {
    "duration": 55,
    "start_time": "2022-03-01T05:20:18.596Z"
   },
   {
    "duration": 21,
    "start_time": "2022-03-01T05:20:18.653Z"
   },
   {
    "duration": 7,
    "start_time": "2022-03-01T05:20:18.678Z"
   },
   {
    "duration": 8,
    "start_time": "2022-03-01T05:20:18.687Z"
   },
   {
    "duration": 58,
    "start_time": "2022-03-01T05:20:18.697Z"
   },
   {
    "duration": 7,
    "start_time": "2022-03-01T05:20:18.757Z"
   },
   {
    "duration": 7,
    "start_time": "2022-03-01T05:20:18.767Z"
   },
   {
    "duration": 12,
    "start_time": "2022-03-01T05:20:18.776Z"
   },
   {
    "duration": 6,
    "start_time": "2022-03-01T05:20:18.790Z"
   },
   {
    "duration": 8,
    "start_time": "2022-03-01T05:20:18.851Z"
   },
   {
    "duration": 11,
    "start_time": "2022-03-01T05:20:18.861Z"
   },
   {
    "duration": 14,
    "start_time": "2022-03-01T05:20:18.874Z"
   },
   {
    "duration": 4,
    "start_time": "2022-03-01T05:20:18.890Z"
   },
   {
    "duration": 66,
    "start_time": "2022-03-01T05:20:18.896Z"
   },
   {
    "duration": 42,
    "start_time": "2022-03-01T05:20:18.965Z"
   },
   {
    "duration": 8,
    "start_time": "2022-03-01T05:20:19.010Z"
   },
   {
    "duration": 48,
    "start_time": "2022-03-01T05:20:19.020Z"
   },
   {
    "duration": 14,
    "start_time": "2022-03-01T05:20:19.072Z"
   },
   {
    "duration": 22,
    "start_time": "2022-03-01T05:20:19.131Z"
   },
   {
    "duration": 10,
    "start_time": "2022-03-01T05:20:19.156Z"
   },
   {
    "duration": 6,
    "start_time": "2022-03-01T05:20:19.169Z"
   },
   {
    "duration": 15,
    "start_time": "2022-03-01T05:20:42.350Z"
   },
   {
    "duration": 6,
    "start_time": "2022-03-01T05:34:30.741Z"
   },
   {
    "duration": 73,
    "start_time": "2022-03-01T05:35:04.760Z"
   },
   {
    "duration": 7,
    "start_time": "2022-03-01T05:36:24.570Z"
   },
   {
    "duration": 10,
    "start_time": "2022-03-01T05:36:54.820Z"
   },
   {
    "duration": 7,
    "start_time": "2022-03-01T05:49:12.123Z"
   },
   {
    "duration": 8,
    "start_time": "2022-03-01T05:50:38.114Z"
   },
   {
    "duration": 84,
    "start_time": "2022-03-01T05:56:10.683Z"
   },
   {
    "duration": 10,
    "start_time": "2022-03-01T05:56:15.644Z"
   },
   {
    "duration": 9,
    "start_time": "2022-03-01T06:08:21.046Z"
   },
   {
    "duration": 10,
    "start_time": "2022-03-01T06:09:29.320Z"
   },
   {
    "duration": 8,
    "start_time": "2022-03-01T06:09:54.121Z"
   },
   {
    "duration": 8,
    "start_time": "2022-03-01T06:10:08.629Z"
   },
   {
    "duration": 18,
    "start_time": "2022-03-01T06:10:52.809Z"
   },
   {
    "duration": 17,
    "start_time": "2022-03-01T06:13:00.568Z"
   },
   {
    "duration": 65,
    "start_time": "2022-03-01T06:18:47.013Z"
   },
   {
    "duration": 18,
    "start_time": "2022-03-01T07:43:40.192Z"
   },
   {
    "duration": 67,
    "start_time": "2022-03-01T07:43:58.086Z"
   },
   {
    "duration": 17,
    "start_time": "2022-03-01T07:43:58.155Z"
   },
   {
    "duration": 19,
    "start_time": "2022-03-01T07:43:58.176Z"
   },
   {
    "duration": 17,
    "start_time": "2022-03-01T07:43:58.198Z"
   },
   {
    "duration": 37,
    "start_time": "2022-03-01T07:43:58.217Z"
   },
   {
    "duration": 9,
    "start_time": "2022-03-01T07:43:58.257Z"
   },
   {
    "duration": 13,
    "start_time": "2022-03-01T07:43:58.269Z"
   },
   {
    "duration": 13,
    "start_time": "2022-03-01T07:43:58.285Z"
   },
   {
    "duration": 83,
    "start_time": "2022-03-01T07:43:58.301Z"
   },
   {
    "duration": 4,
    "start_time": "2022-03-01T07:43:58.387Z"
   },
   {
    "duration": 66,
    "start_time": "2022-03-01T07:43:58.393Z"
   },
   {
    "duration": 6,
    "start_time": "2022-03-01T07:43:58.462Z"
   },
   {
    "duration": 10,
    "start_time": "2022-03-01T07:43:58.471Z"
   },
   {
    "duration": 8,
    "start_time": "2022-03-01T07:43:58.484Z"
   },
   {
    "duration": 62,
    "start_time": "2022-03-01T07:43:58.494Z"
   },
   {
    "duration": 20,
    "start_time": "2022-03-01T07:43:58.558Z"
   },
   {
    "duration": 6,
    "start_time": "2022-03-01T07:43:58.580Z"
   },
   {
    "duration": 9,
    "start_time": "2022-03-01T07:43:58.588Z"
   },
   {
    "duration": 52,
    "start_time": "2022-03-01T07:43:58.600Z"
   },
   {
    "duration": 8,
    "start_time": "2022-03-01T07:43:58.654Z"
   },
   {
    "duration": 7,
    "start_time": "2022-03-01T07:43:58.664Z"
   },
   {
    "duration": 10,
    "start_time": "2022-03-01T07:43:58.673Z"
   },
   {
    "duration": 6,
    "start_time": "2022-03-01T07:43:58.685Z"
   },
   {
    "duration": 66,
    "start_time": "2022-03-01T07:43:58.693Z"
   },
   {
    "duration": 6,
    "start_time": "2022-03-01T07:43:58.761Z"
   },
   {
    "duration": 11,
    "start_time": "2022-03-01T07:43:58.770Z"
   },
   {
    "duration": 69,
    "start_time": "2022-03-01T07:43:58.783Z"
   },
   {
    "duration": 5,
    "start_time": "2022-03-01T07:43:58.854Z"
   },
   {
    "duration": 24,
    "start_time": "2022-03-01T07:43:58.862Z"
   },
   {
    "duration": 96,
    "start_time": "2022-03-01T07:43:58.889Z"
   },
   {
    "duration": 6,
    "start_time": "2022-03-01T07:43:58.988Z"
   },
   {
    "duration": 55,
    "start_time": "2022-03-01T07:43:58.996Z"
   },
   {
    "duration": 7,
    "start_time": "2022-03-01T07:43:59.054Z"
   },
   {
    "duration": 22,
    "start_time": "2022-03-01T07:43:59.063Z"
   },
   {
    "duration": 8,
    "start_time": "2022-03-01T07:43:59.087Z"
   },
   {
    "duration": 15,
    "start_time": "2022-03-01T07:44:08.003Z"
   },
   {
    "duration": 16,
    "start_time": "2022-03-01T07:45:16.003Z"
   },
   {
    "duration": 18,
    "start_time": "2022-03-01T07:49:12.016Z"
   },
   {
    "duration": 6,
    "start_time": "2022-03-01T07:51:12.279Z"
   },
   {
    "duration": 14,
    "start_time": "2022-03-01T07:51:14.888Z"
   },
   {
    "duration": 976,
    "start_time": "2022-03-01T07:51:54.361Z"
   },
   {
    "duration": 14,
    "start_time": "2022-03-01T07:53:18.292Z"
   },
   {
    "duration": 10,
    "start_time": "2022-03-01T08:07:24.898Z"
   },
   {
    "duration": 228,
    "start_time": "2022-03-01T08:24:29.754Z"
   },
   {
    "duration": 72,
    "start_time": "2022-03-01T08:24:36.555Z"
   },
   {
    "duration": 28,
    "start_time": "2022-03-01T08:24:36.629Z"
   },
   {
    "duration": 12,
    "start_time": "2022-03-01T08:24:36.660Z"
   },
   {
    "duration": 7,
    "start_time": "2022-03-01T08:24:36.675Z"
   },
   {
    "duration": 11,
    "start_time": "2022-03-01T08:24:36.684Z"
   },
   {
    "duration": 58,
    "start_time": "2022-03-01T08:24:36.697Z"
   },
   {
    "duration": 5,
    "start_time": "2022-03-01T08:24:36.758Z"
   },
   {
    "duration": 12,
    "start_time": "2022-03-01T08:24:36.766Z"
   },
   {
    "duration": 90,
    "start_time": "2022-03-01T08:24:36.782Z"
   },
   {
    "duration": 4,
    "start_time": "2022-03-01T08:24:36.875Z"
   },
   {
    "duration": 36,
    "start_time": "2022-03-01T08:24:36.882Z"
   },
   {
    "duration": 32,
    "start_time": "2022-03-01T08:24:36.921Z"
   },
   {
    "duration": 13,
    "start_time": "2022-03-01T08:24:36.955Z"
   },
   {
    "duration": 9,
    "start_time": "2022-03-01T08:24:36.971Z"
   },
   {
    "duration": 10,
    "start_time": "2022-03-01T08:24:36.983Z"
   },
   {
    "duration": 71,
    "start_time": "2022-03-01T08:24:36.995Z"
   },
   {
    "duration": 5,
    "start_time": "2022-03-01T08:24:37.071Z"
   },
   {
    "duration": 7,
    "start_time": "2022-03-01T08:24:37.079Z"
   },
   {
    "duration": 9,
    "start_time": "2022-03-01T08:24:37.088Z"
   },
   {
    "duration": 58,
    "start_time": "2022-03-01T08:24:37.099Z"
   },
   {
    "duration": 8,
    "start_time": "2022-03-01T08:24:37.159Z"
   },
   {
    "duration": 10,
    "start_time": "2022-03-01T08:24:37.169Z"
   },
   {
    "duration": 5,
    "start_time": "2022-03-01T08:24:37.181Z"
   },
   {
    "duration": 8,
    "start_time": "2022-03-01T08:24:37.189Z"
   },
   {
    "duration": 6,
    "start_time": "2022-03-01T08:24:37.251Z"
   },
   {
    "duration": 12,
    "start_time": "2022-03-01T08:24:37.259Z"
   },
   {
    "duration": 18,
    "start_time": "2022-03-01T08:24:37.273Z"
   },
   {
    "duration": 5,
    "start_time": "2022-03-01T08:24:37.293Z"
   },
   {
    "duration": 72,
    "start_time": "2022-03-01T08:24:37.300Z"
   },
   {
    "duration": 41,
    "start_time": "2022-03-01T08:24:37.375Z"
   },
   {
    "duration": 37,
    "start_time": "2022-03-01T08:24:37.419Z"
   },
   {
    "duration": 23,
    "start_time": "2022-03-01T08:24:37.459Z"
   },
   {
    "duration": 9,
    "start_time": "2022-03-01T08:24:37.485Z"
   },
   {
    "duration": 76,
    "start_time": "2022-03-01T08:24:37.497Z"
   },
   {
    "duration": 11,
    "start_time": "2022-03-01T08:24:37.576Z"
   },
   {
    "duration": 64,
    "start_time": "2022-03-01T08:24:37.590Z"
   },
   {
    "duration": 19,
    "start_time": "2022-03-01T08:24:37.656Z"
   },
   {
    "duration": 6,
    "start_time": "2022-03-01T08:24:37.678Z"
   },
   {
    "duration": 18,
    "start_time": "2022-03-01T08:24:37.686Z"
   },
   {
    "duration": 5,
    "start_time": "2022-03-01T08:24:37.750Z"
   },
   {
    "duration": 14,
    "start_time": "2022-03-01T08:24:37.757Z"
   },
   {
    "duration": 26,
    "start_time": "2022-03-01T08:25:00.401Z"
   },
   {
    "duration": 5,
    "start_time": "2022-03-01T08:25:11.442Z"
   },
   {
    "duration": 37,
    "start_time": "2022-03-01T08:25:14.863Z"
   },
   {
    "duration": 23,
    "start_time": "2022-03-01T08:25:31.164Z"
   },
   {
    "duration": 20,
    "start_time": "2022-03-01T08:25:35.120Z"
   },
   {
    "duration": 19,
    "start_time": "2022-03-01T08:25:46.873Z"
   },
   {
    "duration": 19,
    "start_time": "2022-03-01T08:28:27.932Z"
   },
   {
    "duration": 26,
    "start_time": "2022-03-01T08:30:59.216Z"
   },
   {
    "duration": 879,
    "start_time": "2022-03-01T14:52:59.506Z"
   },
   {
    "duration": 18,
    "start_time": "2022-03-01T14:53:00.388Z"
   },
   {
    "duration": 14,
    "start_time": "2022-03-01T14:53:00.410Z"
   },
   {
    "duration": 15,
    "start_time": "2022-03-01T14:53:00.427Z"
   },
   {
    "duration": 12,
    "start_time": "2022-03-01T14:53:00.473Z"
   },
   {
    "duration": 11,
    "start_time": "2022-03-01T14:53:00.488Z"
   },
   {
    "duration": 16,
    "start_time": "2022-03-01T14:53:00.501Z"
   },
   {
    "duration": 18,
    "start_time": "2022-03-01T14:53:00.521Z"
   },
   {
    "duration": 66,
    "start_time": "2022-03-01T14:53:00.542Z"
   },
   {
    "duration": 4,
    "start_time": "2022-03-01T14:53:00.610Z"
   },
   {
    "duration": 41,
    "start_time": "2022-03-01T14:53:00.616Z"
   },
   {
    "duration": 16,
    "start_time": "2022-03-01T14:53:00.659Z"
   },
   {
    "duration": 21,
    "start_time": "2022-03-01T14:53:00.677Z"
   },
   {
    "duration": 8,
    "start_time": "2022-03-01T14:53:00.701Z"
   },
   {
    "duration": 11,
    "start_time": "2022-03-01T14:53:00.711Z"
   },
   {
    "duration": 56,
    "start_time": "2022-03-01T14:53:00.725Z"
   },
   {
    "duration": 8,
    "start_time": "2022-03-01T14:53:00.784Z"
   },
   {
    "duration": 12,
    "start_time": "2022-03-01T14:53:00.794Z"
   },
   {
    "duration": 16,
    "start_time": "2022-03-01T14:53:00.808Z"
   },
   {
    "duration": 10,
    "start_time": "2022-03-01T14:53:00.826Z"
   },
   {
    "duration": 41,
    "start_time": "2022-03-01T14:53:00.839Z"
   },
   {
    "duration": 13,
    "start_time": "2022-03-01T14:53:00.883Z"
   },
   {
    "duration": 6,
    "start_time": "2022-03-01T14:53:00.901Z"
   },
   {
    "duration": 11,
    "start_time": "2022-03-01T14:53:00.909Z"
   },
   {
    "duration": 6,
    "start_time": "2022-03-01T14:53:00.923Z"
   },
   {
    "duration": 48,
    "start_time": "2022-03-01T14:53:00.931Z"
   },
   {
    "duration": 20,
    "start_time": "2022-03-01T14:53:00.981Z"
   },
   {
    "duration": 14,
    "start_time": "2022-03-01T14:53:01.004Z"
   },
   {
    "duration": 54,
    "start_time": "2022-03-01T14:53:01.021Z"
   },
   {
    "duration": 50,
    "start_time": "2022-03-01T14:53:01.077Z"
   },
   {
    "duration": 6,
    "start_time": "2022-03-01T14:53:01.129Z"
   },
   {
    "duration": 49,
    "start_time": "2022-03-01T14:53:01.138Z"
   },
   {
    "duration": 7,
    "start_time": "2022-03-01T14:53:01.189Z"
   },
   {
    "duration": 31,
    "start_time": "2022-03-01T14:53:01.198Z"
   },
   {
    "duration": 18,
    "start_time": "2022-03-01T14:53:01.232Z"
   },
   {
    "duration": 17,
    "start_time": "2022-03-01T14:53:01.273Z"
   },
   {
    "duration": 24,
    "start_time": "2022-03-01T14:53:01.293Z"
   },
   {
    "duration": 11,
    "start_time": "2022-03-01T14:53:01.319Z"
   },
   {
    "duration": 42,
    "start_time": "2022-03-01T14:53:01.332Z"
   },
   {
    "duration": 10,
    "start_time": "2022-03-01T14:53:01.377Z"
   },
   {
    "duration": 33,
    "start_time": "2022-03-01T14:53:01.389Z"
   },
   {
    "duration": 21,
    "start_time": "2022-03-01T14:53:01.424Z"
   },
   {
    "duration": 49,
    "start_time": "2022-03-01T14:53:01.447Z"
   },
   {
    "duration": 22,
    "start_time": "2022-03-01T14:53:01.498Z"
   },
   {
    "duration": 611,
    "start_time": "2022-03-01T14:53:13.574Z"
   },
   {
    "duration": 601,
    "start_time": "2022-03-01T14:56:22.582Z"
   },
   {
    "duration": 21,
    "start_time": "2022-03-01T14:56:51.118Z"
   },
   {
    "duration": 27,
    "start_time": "2022-03-01T15:20:08.398Z"
   },
   {
    "duration": 22,
    "start_time": "2022-03-01T15:20:31.547Z"
   },
   {
    "duration": 323,
    "start_time": "2022-03-01T15:26:07.634Z"
   },
   {
    "duration": 22,
    "start_time": "2022-03-01T15:26:31.138Z"
   },
   {
    "duration": 19,
    "start_time": "2022-03-01T15:28:43.334Z"
   },
   {
    "duration": 267,
    "start_time": "2022-03-02T02:37:06.148Z"
   },
   {
    "duration": 636,
    "start_time": "2022-03-02T02:37:10.169Z"
   },
   {
    "duration": 13,
    "start_time": "2022-03-02T02:37:10.807Z"
   },
   {
    "duration": 9,
    "start_time": "2022-03-02T02:37:10.822Z"
   },
   {
    "duration": 6,
    "start_time": "2022-03-02T02:37:10.833Z"
   },
   {
    "duration": 8,
    "start_time": "2022-03-02T02:37:10.859Z"
   },
   {
    "duration": 7,
    "start_time": "2022-03-02T02:37:10.868Z"
   },
   {
    "duration": 7,
    "start_time": "2022-03-02T02:37:10.877Z"
   },
   {
    "duration": 13,
    "start_time": "2022-03-02T02:37:10.886Z"
   },
   {
    "duration": 64,
    "start_time": "2022-03-02T02:37:10.901Z"
   },
   {
    "duration": 4,
    "start_time": "2022-03-02T02:37:10.967Z"
   },
   {
    "duration": 24,
    "start_time": "2022-03-02T02:37:10.972Z"
   },
   {
    "duration": 5,
    "start_time": "2022-03-02T02:37:10.998Z"
   },
   {
    "duration": 7,
    "start_time": "2022-03-02T02:37:11.005Z"
   },
   {
    "duration": 6,
    "start_time": "2022-03-02T02:37:11.014Z"
   },
   {
    "duration": 43,
    "start_time": "2022-03-02T02:37:11.022Z"
   },
   {
    "duration": 15,
    "start_time": "2022-03-02T02:37:11.066Z"
   },
   {
    "duration": 5,
    "start_time": "2022-03-02T02:37:11.082Z"
   },
   {
    "duration": 6,
    "start_time": "2022-03-02T02:37:11.088Z"
   },
   {
    "duration": 5,
    "start_time": "2022-03-02T02:37:11.096Z"
   },
   {
    "duration": 5,
    "start_time": "2022-03-02T02:37:11.103Z"
   },
   {
    "duration": 55,
    "start_time": "2022-03-02T02:37:11.110Z"
   },
   {
    "duration": 8,
    "start_time": "2022-03-02T02:37:11.167Z"
   },
   {
    "duration": 8,
    "start_time": "2022-03-02T02:37:11.177Z"
   },
   {
    "duration": 10,
    "start_time": "2022-03-02T02:37:11.187Z"
   },
   {
    "duration": 9,
    "start_time": "2022-03-02T02:37:11.199Z"
   },
   {
    "duration": 11,
    "start_time": "2022-03-02T02:37:11.210Z"
   },
   {
    "duration": 42,
    "start_time": "2022-03-02T02:37:11.225Z"
   },
   {
    "duration": 4,
    "start_time": "2022-03-02T02:37:11.269Z"
   },
   {
    "duration": 19,
    "start_time": "2022-03-02T02:37:11.274Z"
   },
   {
    "duration": 30,
    "start_time": "2022-03-02T02:37:11.294Z"
   },
   {
    "duration": 5,
    "start_time": "2022-03-02T02:37:11.325Z"
   },
   {
    "duration": 13,
    "start_time": "2022-03-02T02:37:11.359Z"
   },
   {
    "duration": 7,
    "start_time": "2022-03-02T02:37:11.374Z"
   },
   {
    "duration": 14,
    "start_time": "2022-03-02T02:37:11.383Z"
   },
   {
    "duration": 5,
    "start_time": "2022-03-02T02:37:11.399Z"
   },
   {
    "duration": 10,
    "start_time": "2022-03-02T02:37:11.405Z"
   },
   {
    "duration": 53,
    "start_time": "2022-03-02T02:37:11.417Z"
   },
   {
    "duration": 4,
    "start_time": "2022-03-02T02:37:11.472Z"
   },
   {
    "duration": 12,
    "start_time": "2022-03-02T02:37:11.478Z"
   },
   {
    "duration": 4,
    "start_time": "2022-03-02T02:37:11.491Z"
   },
   {
    "duration": 21,
    "start_time": "2022-03-02T02:37:11.497Z"
   },
   {
    "duration": 4,
    "start_time": "2022-03-02T02:37:11.520Z"
   },
   {
    "duration": 26,
    "start_time": "2022-03-02T02:37:11.560Z"
   },
   {
    "duration": 16,
    "start_time": "2022-03-02T02:37:11.588Z"
   },
   {
    "duration": 14,
    "start_time": "2022-03-02T02:37:15.188Z"
   },
   {
    "duration": 11,
    "start_time": "2022-03-02T02:37:40.613Z"
   },
   {
    "duration": 13,
    "start_time": "2022-03-02T02:38:30.547Z"
   },
   {
    "duration": 13,
    "start_time": "2022-03-02T02:55:08.386Z"
   },
   {
    "duration": 13,
    "start_time": "2022-03-02T03:00:11.938Z"
   },
   {
    "duration": 204,
    "start_time": "2022-03-02T03:27:25.026Z"
   },
   {
    "duration": 175,
    "start_time": "2022-03-02T03:27:52.706Z"
   },
   {
    "duration": 232,
    "start_time": "2022-03-02T03:28:13.319Z"
   },
   {
    "duration": 188,
    "start_time": "2022-03-02T03:28:23.708Z"
   },
   {
    "duration": 211,
    "start_time": "2022-03-02T03:29:28.476Z"
   },
   {
    "duration": 44,
    "start_time": "2022-03-02T03:29:57.609Z"
   },
   {
    "duration": 19,
    "start_time": "2022-03-02T03:30:20.446Z"
   },
   {
    "duration": 29,
    "start_time": "2022-03-02T03:31:35.675Z"
   },
   {
    "duration": 1361,
    "start_time": "2022-03-02T03:32:14.277Z"
   },
   {
    "duration": 233,
    "start_time": "2022-03-02T03:32:34.458Z"
   },
   {
    "duration": 16,
    "start_time": "2022-03-02T03:34:17.665Z"
   },
   {
    "duration": 199,
    "start_time": "2022-03-02T03:35:19.986Z"
   },
   {
    "duration": 16,
    "start_time": "2022-03-02T03:35:25.986Z"
   },
   {
    "duration": 15,
    "start_time": "2022-03-02T03:36:25.106Z"
   },
   {
    "duration": 1315,
    "start_time": "2022-03-02T03:36:43.303Z"
   },
   {
    "duration": 205,
    "start_time": "2022-03-02T03:37:15.996Z"
   },
   {
    "duration": 1318,
    "start_time": "2022-03-02T03:37:44.017Z"
   },
   {
    "duration": 16,
    "start_time": "2022-03-02T03:38:01.797Z"
   },
   {
    "duration": 65,
    "start_time": "2022-03-02T03:38:57.350Z"
   },
   {
    "duration": 68,
    "start_time": "2022-03-02T03:39:09.842Z"
   },
   {
    "duration": 60,
    "start_time": "2022-03-02T03:39:21.321Z"
   },
   {
    "duration": 66,
    "start_time": "2022-03-02T03:39:48.149Z"
   },
   {
    "duration": 55,
    "start_time": "2022-03-02T03:39:55.588Z"
   },
   {
    "duration": 138,
    "start_time": "2022-03-02T03:40:11.016Z"
   },
   {
    "duration": 16,
    "start_time": "2022-03-02T03:40:18.528Z"
   },
   {
    "duration": 29,
    "start_time": "2022-03-02T03:40:43.042Z"
   },
   {
    "duration": 69,
    "start_time": "2022-03-02T03:41:28.019Z"
   },
   {
    "duration": 26,
    "start_time": "2022-03-02T03:41:36.991Z"
   },
   {
    "duration": 193,
    "start_time": "2022-03-02T03:46:15.904Z"
   },
   {
    "duration": 60,
    "start_time": "2022-03-02T03:47:03.764Z"
   },
   {
    "duration": 23,
    "start_time": "2022-03-02T03:47:18.647Z"
   },
   {
    "duration": 71,
    "start_time": "2022-03-02T03:52:24.706Z"
   },
   {
    "duration": 30,
    "start_time": "2022-03-02T03:52:57.449Z"
   },
   {
    "duration": 28,
    "start_time": "2022-03-02T03:53:31.840Z"
   },
   {
    "duration": 28,
    "start_time": "2022-03-02T03:56:39.682Z"
   },
   {
    "duration": 30,
    "start_time": "2022-03-02T03:58:31.807Z"
   },
   {
    "duration": 31,
    "start_time": "2022-03-02T03:59:29.609Z"
   },
   {
    "duration": 185,
    "start_time": "2022-03-02T04:00:14.770Z"
   },
   {
    "duration": 30,
    "start_time": "2022-03-02T04:00:39.691Z"
   },
   {
    "duration": 19,
    "start_time": "2022-03-02T04:03:03.936Z"
   },
   {
    "duration": 16,
    "start_time": "2022-03-02T04:03:15.552Z"
   },
   {
    "duration": 21,
    "start_time": "2022-03-02T04:17:37.635Z"
   },
   {
    "duration": 22,
    "start_time": "2022-03-02T04:18:04.115Z"
   },
   {
    "duration": 79,
    "start_time": "2022-03-02T04:23:01.601Z"
   },
   {
    "duration": 4767,
    "start_time": "2022-03-02T04:23:09.466Z"
   },
   {
    "duration": 25,
    "start_time": "2022-03-02T04:23:48.645Z"
   },
   {
    "duration": 28,
    "start_time": "2022-03-02T04:24:25.215Z"
   },
   {
    "duration": 27,
    "start_time": "2022-03-02T04:25:26.201Z"
   },
   {
    "duration": 30,
    "start_time": "2022-03-02T04:26:19.340Z"
   },
   {
    "duration": 2,
    "start_time": "2022-03-02T05:16:26.097Z"
   },
   {
    "duration": 36,
    "start_time": "2022-03-02T05:25:27.217Z"
   },
   {
    "duration": 31,
    "start_time": "2022-03-02T05:25:52.877Z"
   },
   {
    "duration": 104,
    "start_time": "2022-03-02T14:13:13.218Z"
   },
   {
    "duration": 636,
    "start_time": "2022-03-02T14:13:19.222Z"
   },
   {
    "duration": 9,
    "start_time": "2022-03-02T14:13:19.860Z"
   },
   {
    "duration": 8,
    "start_time": "2022-03-02T14:13:19.871Z"
   },
   {
    "duration": 5,
    "start_time": "2022-03-02T14:13:19.880Z"
   },
   {
    "duration": 17,
    "start_time": "2022-03-02T14:13:19.887Z"
   },
   {
    "duration": 9,
    "start_time": "2022-03-02T14:13:19.906Z"
   },
   {
    "duration": 3,
    "start_time": "2022-03-02T14:13:19.917Z"
   },
   {
    "duration": 6,
    "start_time": "2022-03-02T14:13:19.921Z"
   },
   {
    "duration": 23,
    "start_time": "2022-03-02T14:13:19.930Z"
   },
   {
    "duration": 2,
    "start_time": "2022-03-02T14:13:19.955Z"
   },
   {
    "duration": 44,
    "start_time": "2022-03-02T14:13:19.959Z"
   },
   {
    "duration": 4,
    "start_time": "2022-03-02T14:13:20.005Z"
   },
   {
    "duration": 9,
    "start_time": "2022-03-02T14:13:20.010Z"
   },
   {
    "duration": 9,
    "start_time": "2022-03-02T14:13:20.020Z"
   },
   {
    "duration": 20,
    "start_time": "2022-03-02T14:13:20.030Z"
   },
   {
    "duration": 15,
    "start_time": "2022-03-02T14:13:20.051Z"
   },
   {
    "duration": 5,
    "start_time": "2022-03-02T14:13:20.068Z"
   },
   {
    "duration": 36,
    "start_time": "2022-03-02T14:13:20.074Z"
   },
   {
    "duration": 10,
    "start_time": "2022-03-02T14:13:20.113Z"
   },
   {
    "duration": 7,
    "start_time": "2022-03-02T14:13:20.125Z"
   },
   {
    "duration": 9,
    "start_time": "2022-03-02T14:13:20.134Z"
   },
   {
    "duration": 7,
    "start_time": "2022-03-02T14:13:20.144Z"
   },
   {
    "duration": 10,
    "start_time": "2022-03-02T14:13:20.153Z"
   },
   {
    "duration": 13,
    "start_time": "2022-03-02T14:13:20.164Z"
   },
   {
    "duration": 27,
    "start_time": "2022-03-02T14:13:20.178Z"
   },
   {
    "duration": 10,
    "start_time": "2022-03-02T14:13:20.207Z"
   },
   {
    "duration": 11,
    "start_time": "2022-03-02T14:13:20.221Z"
   },
   {
    "duration": 6,
    "start_time": "2022-03-02T14:13:20.235Z"
   },
   {
    "duration": 21,
    "start_time": "2022-03-02T14:13:20.243Z"
   },
   {
    "duration": 44,
    "start_time": "2022-03-02T14:13:20.266Z"
   },
   {
    "duration": 5,
    "start_time": "2022-03-02T14:13:20.312Z"
   },
   {
    "duration": 12,
    "start_time": "2022-03-02T14:13:20.318Z"
   },
   {
    "duration": 8,
    "start_time": "2022-03-02T14:13:20.331Z"
   },
   {
    "duration": 16,
    "start_time": "2022-03-02T14:13:20.342Z"
   },
   {
    "duration": 8,
    "start_time": "2022-03-02T14:13:20.359Z"
   },
   {
    "duration": 47,
    "start_time": "2022-03-02T14:13:20.368Z"
   },
   {
    "duration": 12,
    "start_time": "2022-03-02T14:13:20.417Z"
   },
   {
    "duration": 5,
    "start_time": "2022-03-02T14:13:20.430Z"
   },
   {
    "duration": 13,
    "start_time": "2022-03-02T14:13:20.437Z"
   },
   {
    "duration": 6,
    "start_time": "2022-03-02T14:13:20.452Z"
   },
   {
    "duration": 21,
    "start_time": "2022-03-02T14:13:20.459Z"
   },
   {
    "duration": 22,
    "start_time": "2022-03-02T14:13:20.481Z"
   },
   {
    "duration": 29,
    "start_time": "2022-03-02T14:13:20.505Z"
   },
   {
    "duration": 93,
    "start_time": "2022-03-02T14:13:20.536Z"
   },
   {
    "duration": 30,
    "start_time": "2022-03-02T14:13:35.047Z"
   },
   {
    "duration": 53,
    "start_time": "2022-03-02T14:30:51.505Z"
   },
   {
    "duration": 9,
    "start_time": "2022-03-02T14:30:51.559Z"
   },
   {
    "duration": 8,
    "start_time": "2022-03-02T14:30:51.570Z"
   },
   {
    "duration": 5,
    "start_time": "2022-03-02T14:30:51.580Z"
   },
   {
    "duration": 30,
    "start_time": "2022-03-02T14:30:51.586Z"
   },
   {
    "duration": 6,
    "start_time": "2022-03-02T14:30:51.618Z"
   },
   {
    "duration": 8,
    "start_time": "2022-03-02T14:30:51.625Z"
   },
   {
    "duration": 5,
    "start_time": "2022-03-02T14:30:51.636Z"
   },
   {
    "duration": 28,
    "start_time": "2022-03-02T14:30:51.643Z"
   },
   {
    "duration": 3,
    "start_time": "2022-03-02T14:30:51.672Z"
   },
   {
    "duration": 24,
    "start_time": "2022-03-02T14:30:51.700Z"
   },
   {
    "duration": 3,
    "start_time": "2022-03-02T14:30:51.726Z"
   },
   {
    "duration": 13,
    "start_time": "2022-03-02T14:30:51.731Z"
   },
   {
    "duration": 8,
    "start_time": "2022-03-02T14:30:51.746Z"
   },
   {
    "duration": 14,
    "start_time": "2022-03-02T14:30:51.755Z"
   },
   {
    "duration": 31,
    "start_time": "2022-03-02T14:30:51.770Z"
   },
   {
    "duration": 9,
    "start_time": "2022-03-02T14:30:51.803Z"
   },
   {
    "duration": 7,
    "start_time": "2022-03-02T14:30:51.814Z"
   },
   {
    "duration": 8,
    "start_time": "2022-03-02T14:30:51.822Z"
   },
   {
    "duration": 11,
    "start_time": "2022-03-02T14:30:51.831Z"
   },
   {
    "duration": 12,
    "start_time": "2022-03-02T14:30:51.844Z"
   },
   {
    "duration": 8,
    "start_time": "2022-03-02T14:30:51.858Z"
   },
   {
    "duration": 9,
    "start_time": "2022-03-02T14:30:51.868Z"
   },
   {
    "duration": 8,
    "start_time": "2022-03-02T14:30:51.879Z"
   },
   {
    "duration": 15,
    "start_time": "2022-03-02T14:30:51.889Z"
   },
   {
    "duration": 12,
    "start_time": "2022-03-02T14:30:51.907Z"
   },
   {
    "duration": 15,
    "start_time": "2022-03-02T14:30:51.921Z"
   },
   {
    "duration": 6,
    "start_time": "2022-03-02T14:30:51.938Z"
   },
   {
    "duration": 18,
    "start_time": "2022-03-02T14:30:51.946Z"
   },
   {
    "duration": 45,
    "start_time": "2022-03-02T14:30:51.966Z"
   },
   {
    "duration": 5,
    "start_time": "2022-03-02T14:30:52.013Z"
   },
   {
    "duration": 11,
    "start_time": "2022-03-02T14:30:52.019Z"
   },
   {
    "duration": 6,
    "start_time": "2022-03-02T14:30:52.031Z"
   },
   {
    "duration": 16,
    "start_time": "2022-03-02T14:30:52.039Z"
   },
   {
    "duration": 5,
    "start_time": "2022-03-02T14:30:52.057Z"
   },
   {
    "duration": 11,
    "start_time": "2022-03-02T14:30:52.064Z"
   },
   {
    "duration": 39,
    "start_time": "2022-03-02T14:30:52.077Z"
   },
   {
    "duration": 5,
    "start_time": "2022-03-02T14:30:52.117Z"
   },
   {
    "duration": 12,
    "start_time": "2022-03-02T14:30:52.124Z"
   },
   {
    "duration": 6,
    "start_time": "2022-03-02T14:30:52.138Z"
   },
   {
    "duration": 21,
    "start_time": "2022-03-02T14:30:52.146Z"
   },
   {
    "duration": 3,
    "start_time": "2022-03-02T14:30:52.169Z"
   },
   {
    "duration": 43,
    "start_time": "2022-03-02T14:30:52.174Z"
   },
   {
    "duration": 24,
    "start_time": "2022-03-02T14:30:52.220Z"
   },
   {
    "duration": 22,
    "start_time": "2022-03-02T14:30:52.246Z"
   },
   {
    "duration": 48,
    "start_time": "2022-03-02T14:30:52.269Z"
   },
   {
    "duration": 26,
    "start_time": "2022-03-02T14:30:52.319Z"
   },
   {
    "duration": 30,
    "start_time": "2022-03-02T14:30:52.346Z"
   },
   {
    "duration": 630,
    "start_time": "2022-03-03T01:36:47.456Z"
   },
   {
    "duration": 13,
    "start_time": "2022-03-03T01:36:48.088Z"
   },
   {
    "duration": 10,
    "start_time": "2022-03-03T01:36:48.103Z"
   },
   {
    "duration": 272,
    "start_time": "2022-03-03T01:36:48.115Z"
   },
   {
    "duration": -5094,
    "start_time": "2022-03-03T01:36:53.483Z"
   },
   {
    "duration": -5106,
    "start_time": "2022-03-03T01:36:53.496Z"
   },
   {
    "duration": -5113,
    "start_time": "2022-03-03T01:36:53.504Z"
   },
   {
    "duration": -5120,
    "start_time": "2022-03-03T01:36:53.512Z"
   },
   {
    "duration": 344,
    "start_time": "2022-03-03T01:36:56.696Z"
   },
   {
    "duration": 7,
    "start_time": "2022-03-03T01:37:31.081Z"
   },
   {
    "duration": 81,
    "start_time": "2022-03-03T01:37:43.105Z"
   },
   {
    "duration": 4,
    "start_time": "2022-03-03T01:38:15.866Z"
   },
   {
    "duration": 3,
    "start_time": "2022-03-03T01:38:20.437Z"
   },
   {
    "duration": 28,
    "start_time": "2022-03-03T01:38:21.905Z"
   },
   {
    "duration": 4,
    "start_time": "2022-03-03T01:40:42.464Z"
   },
   {
    "duration": 25,
    "start_time": "2022-03-03T01:41:25.997Z"
   },
   {
    "duration": 3,
    "start_time": "2022-03-03T01:47:05.192Z"
   },
   {
    "duration": 20,
    "start_time": "2022-03-03T01:47:07.977Z"
   },
   {
    "duration": 3,
    "start_time": "2022-03-03T01:49:03.080Z"
   },
   {
    "duration": 20,
    "start_time": "2022-03-03T01:49:06.111Z"
   },
   {
    "duration": 4,
    "start_time": "2022-03-03T01:49:23.344Z"
   },
   {
    "duration": 3,
    "start_time": "2022-03-03T01:49:54.064Z"
   },
   {
    "duration": 20,
    "start_time": "2022-03-03T01:49:57.664Z"
   },
   {
    "duration": 677,
    "start_time": "2022-03-03T04:44:18.590Z"
   },
   {
    "duration": 9,
    "start_time": "2022-03-03T04:44:19.268Z"
   },
   {
    "duration": 7,
    "start_time": "2022-03-03T04:44:19.279Z"
   },
   {
    "duration": 5,
    "start_time": "2022-03-03T04:44:19.288Z"
   },
   {
    "duration": 13,
    "start_time": "2022-03-03T04:44:19.294Z"
   },
   {
    "duration": 6,
    "start_time": "2022-03-03T04:44:19.309Z"
   },
   {
    "duration": 5,
    "start_time": "2022-03-03T04:44:19.316Z"
   },
   {
    "duration": 4,
    "start_time": "2022-03-03T04:44:19.323Z"
   },
   {
    "duration": 24,
    "start_time": "2022-03-03T04:44:19.328Z"
   },
   {
    "duration": 5,
    "start_time": "2022-03-03T04:44:19.353Z"
   },
   {
    "duration": 17,
    "start_time": "2022-03-03T04:45:14.512Z"
   },
   {
    "duration": 3746,
    "start_time": "2022-03-03T04:46:02.234Z"
   },
   {
    "duration": 15,
    "start_time": "2022-03-03T04:46:21.678Z"
   },
   {
    "duration": 10,
    "start_time": "2022-03-03T04:46:59.603Z"
   },
   {
    "duration": 8,
    "start_time": "2022-03-03T04:47:14.603Z"
   },
   {
    "duration": 264,
    "start_time": "2022-03-03T14:09:15.436Z"
   },
   {
    "duration": 640,
    "start_time": "2022-03-03T14:09:22.440Z"
   },
   {
    "duration": 12,
    "start_time": "2022-03-03T14:09:23.082Z"
   },
   {
    "duration": 33,
    "start_time": "2022-03-03T14:09:23.096Z"
   },
   {
    "duration": 21,
    "start_time": "2022-03-03T14:09:23.131Z"
   },
   {
    "duration": 25,
    "start_time": "2022-03-03T14:09:23.154Z"
   },
   {
    "duration": 23,
    "start_time": "2022-03-03T14:09:23.181Z"
   },
   {
    "duration": 17,
    "start_time": "2022-03-03T14:09:23.206Z"
   },
   {
    "duration": 34,
    "start_time": "2022-03-03T14:09:23.225Z"
   },
   {
    "duration": 66,
    "start_time": "2022-03-03T14:09:23.263Z"
   },
   {
    "duration": 15,
    "start_time": "2022-03-03T14:09:23.331Z"
   },
   {
    "duration": 21,
    "start_time": "2022-03-03T14:09:23.347Z"
   },
   {
    "duration": 49,
    "start_time": "2022-03-03T14:09:23.370Z"
   },
   {
    "duration": 12,
    "start_time": "2022-03-03T14:09:23.421Z"
   },
   {
    "duration": 26,
    "start_time": "2022-03-03T14:09:23.434Z"
   },
   {
    "duration": 35,
    "start_time": "2022-03-03T14:09:23.462Z"
   },
   {
    "duration": 37,
    "start_time": "2022-03-03T14:09:23.499Z"
   },
   {
    "duration": 31,
    "start_time": "2022-03-03T14:09:23.538Z"
   },
   {
    "duration": 28,
    "start_time": "2022-03-03T14:09:23.571Z"
   },
   {
    "duration": 23,
    "start_time": "2022-03-03T14:09:23.601Z"
   },
   {
    "duration": 35,
    "start_time": "2022-03-03T14:09:23.626Z"
   },
   {
    "duration": 25,
    "start_time": "2022-03-03T14:09:23.663Z"
   },
   {
    "duration": 30,
    "start_time": "2022-03-03T14:09:23.690Z"
   },
   {
    "duration": 29,
    "start_time": "2022-03-03T14:09:23.723Z"
   },
   {
    "duration": 30,
    "start_time": "2022-03-03T14:09:23.754Z"
   },
   {
    "duration": 50,
    "start_time": "2022-03-03T14:09:23.786Z"
   },
   {
    "duration": 26,
    "start_time": "2022-03-03T14:09:23.838Z"
   },
   {
    "duration": 34,
    "start_time": "2022-03-03T14:09:23.867Z"
   },
   {
    "duration": 33,
    "start_time": "2022-03-03T14:09:23.902Z"
   },
   {
    "duration": 37,
    "start_time": "2022-03-03T14:09:23.937Z"
   },
   {
    "duration": 49,
    "start_time": "2022-03-03T14:09:23.976Z"
   },
   {
    "duration": 5,
    "start_time": "2022-03-03T14:09:33.876Z"
   },
   {
    "duration": 62,
    "start_time": "2022-03-03T14:14:19.147Z"
   },
   {
    "duration": 11,
    "start_time": "2022-03-03T14:14:19.211Z"
   },
   {
    "duration": 14,
    "start_time": "2022-03-03T14:14:19.225Z"
   },
   {
    "duration": 5,
    "start_time": "2022-03-03T14:14:19.242Z"
   },
   {
    "duration": 9,
    "start_time": "2022-03-03T14:14:19.249Z"
   },
   {
    "duration": 44,
    "start_time": "2022-03-03T14:14:19.260Z"
   },
   {
    "duration": 6,
    "start_time": "2022-03-03T14:14:19.306Z"
   },
   {
    "duration": 8,
    "start_time": "2022-03-03T14:14:19.315Z"
   },
   {
    "duration": 27,
    "start_time": "2022-03-03T14:14:19.325Z"
   },
   {
    "duration": 5,
    "start_time": "2022-03-03T14:14:19.354Z"
   },
   {
    "duration": 43,
    "start_time": "2022-03-03T14:14:19.361Z"
   },
   {
    "duration": 25,
    "start_time": "2022-03-03T14:14:19.407Z"
   },
   {
    "duration": 6,
    "start_time": "2022-03-03T14:14:19.434Z"
   },
   {
    "duration": 11,
    "start_time": "2022-03-03T14:14:19.442Z"
   },
   {
    "duration": 11,
    "start_time": "2022-03-03T14:14:19.456Z"
   },
   {
    "duration": 43,
    "start_time": "2022-03-03T14:14:19.469Z"
   },
   {
    "duration": 16,
    "start_time": "2022-03-03T14:14:19.514Z"
   },
   {
    "duration": 6,
    "start_time": "2022-03-03T14:14:19.532Z"
   },
   {
    "duration": 13,
    "start_time": "2022-03-03T14:14:19.540Z"
   },
   {
    "duration": 17,
    "start_time": "2022-03-03T14:14:19.555Z"
   },
   {
    "duration": 29,
    "start_time": "2022-03-03T14:14:19.573Z"
   },
   {
    "duration": 12,
    "start_time": "2022-03-03T14:14:19.604Z"
   },
   {
    "duration": 8,
    "start_time": "2022-03-03T14:14:19.620Z"
   },
   {
    "duration": 21,
    "start_time": "2022-03-03T14:14:19.630Z"
   },
   {
    "duration": 16,
    "start_time": "2022-03-03T14:14:19.653Z"
   },
   {
    "duration": 14,
    "start_time": "2022-03-03T14:14:19.671Z"
   },
   {
    "duration": 23,
    "start_time": "2022-03-03T14:14:19.687Z"
   },
   {
    "duration": 14,
    "start_time": "2022-03-03T14:14:19.712Z"
   },
   {
    "duration": 25,
    "start_time": "2022-03-03T14:14:19.728Z"
   },
   {
    "duration": 41,
    "start_time": "2022-03-03T14:14:19.755Z"
   },
   {
    "duration": 5,
    "start_time": "2022-03-03T14:14:19.798Z"
   },
   {
    "duration": 22,
    "start_time": "2022-03-03T14:14:19.805Z"
   },
   {
    "duration": 14,
    "start_time": "2022-03-03T14:14:19.829Z"
   },
   {
    "duration": 32,
    "start_time": "2022-03-03T14:14:19.845Z"
   },
   {
    "duration": 9,
    "start_time": "2022-03-03T14:14:19.879Z"
   },
   {
    "duration": 14,
    "start_time": "2022-03-03T14:14:19.890Z"
   },
   {
    "duration": 17,
    "start_time": "2022-03-03T14:14:19.906Z"
   },
   {
    "duration": 8,
    "start_time": "2022-03-03T14:14:19.924Z"
   },
   {
    "duration": 24,
    "start_time": "2022-03-03T14:14:19.934Z"
   },
   {
    "duration": 9,
    "start_time": "2022-03-03T14:14:19.960Z"
   },
   {
    "duration": 32,
    "start_time": "2022-03-03T14:14:19.970Z"
   },
   {
    "duration": 11,
    "start_time": "2022-03-03T14:14:20.004Z"
   },
   {
    "duration": 39,
    "start_time": "2022-03-03T14:14:20.017Z"
   },
   {
    "duration": 38,
    "start_time": "2022-03-03T14:14:20.058Z"
   },
   {
    "duration": 30,
    "start_time": "2022-03-03T14:14:20.099Z"
   },
   {
    "duration": 33,
    "start_time": "2022-03-03T14:14:20.131Z"
   },
   {
    "duration": 59,
    "start_time": "2022-03-03T14:14:20.165Z"
   },
   {
    "duration": 36,
    "start_time": "2022-03-03T14:14:20.226Z"
   },
   {
    "duration": 58,
    "start_time": "2022-03-03T14:28:43.559Z"
   },
   {
    "duration": 12,
    "start_time": "2022-03-03T14:28:43.619Z"
   },
   {
    "duration": 12,
    "start_time": "2022-03-03T14:28:43.634Z"
   },
   {
    "duration": 6,
    "start_time": "2022-03-03T14:28:43.648Z"
   },
   {
    "duration": 13,
    "start_time": "2022-03-03T14:28:43.655Z"
   },
   {
    "duration": 40,
    "start_time": "2022-03-03T14:28:43.670Z"
   },
   {
    "duration": 7,
    "start_time": "2022-03-03T14:28:43.712Z"
   },
   {
    "duration": 8,
    "start_time": "2022-03-03T14:28:43.721Z"
   },
   {
    "duration": 23,
    "start_time": "2022-03-03T14:28:43.732Z"
   },
   {
    "duration": 5,
    "start_time": "2022-03-03T14:28:43.758Z"
   },
   {
    "duration": 9,
    "start_time": "2022-03-03T14:28:43.802Z"
   },
   {
    "duration": 22,
    "start_time": "2022-03-03T14:28:43.812Z"
   },
   {
    "duration": 6,
    "start_time": "2022-03-03T14:28:43.837Z"
   },
   {
    "duration": 11,
    "start_time": "2022-03-03T14:28:43.845Z"
   },
   {
    "duration": 44,
    "start_time": "2022-03-03T14:28:43.859Z"
   },
   {
    "duration": 9,
    "start_time": "2022-03-03T14:28:43.906Z"
   },
   {
    "duration": 15,
    "start_time": "2022-03-03T14:28:43.917Z"
   },
   {
    "duration": 5,
    "start_time": "2022-03-03T14:28:43.933Z"
   },
   {
    "duration": 10,
    "start_time": "2022-03-03T14:28:43.940Z"
   },
   {
    "duration": 10,
    "start_time": "2022-03-03T14:28:43.952Z"
   },
   {
    "duration": 41,
    "start_time": "2022-03-03T14:28:43.963Z"
   },
   {
    "duration": 7,
    "start_time": "2022-03-03T14:28:44.006Z"
   },
   {
    "duration": 6,
    "start_time": "2022-03-03T14:28:44.015Z"
   },
   {
    "duration": 10,
    "start_time": "2022-03-03T14:28:44.022Z"
   },
   {
    "duration": 7,
    "start_time": "2022-03-03T14:28:44.034Z"
   },
   {
    "duration": 14,
    "start_time": "2022-03-03T14:28:44.043Z"
   },
   {
    "duration": 44,
    "start_time": "2022-03-03T14:28:44.061Z"
   },
   {
    "duration": 9,
    "start_time": "2022-03-03T14:28:44.107Z"
   },
   {
    "duration": 19,
    "start_time": "2022-03-03T14:28:44.117Z"
   },
   {
    "duration": 31,
    "start_time": "2022-03-03T14:28:44.138Z"
   },
   {
    "duration": 30,
    "start_time": "2022-03-03T14:28:44.171Z"
   },
   {
    "duration": 15,
    "start_time": "2022-03-03T14:28:44.203Z"
   },
   {
    "duration": 12,
    "start_time": "2022-03-03T14:28:44.220Z"
   },
   {
    "duration": 17,
    "start_time": "2022-03-03T14:28:44.234Z"
   },
   {
    "duration": 12,
    "start_time": "2022-03-03T14:28:44.253Z"
   },
   {
    "duration": 34,
    "start_time": "2022-03-03T14:28:44.267Z"
   },
   {
    "duration": 15,
    "start_time": "2022-03-03T14:28:44.303Z"
   },
   {
    "duration": 4,
    "start_time": "2022-03-03T14:28:44.320Z"
   },
   {
    "duration": 18,
    "start_time": "2022-03-03T14:28:44.326Z"
   },
   {
    "duration": 9,
    "start_time": "2022-03-03T14:28:44.346Z"
   },
   {
    "duration": 24,
    "start_time": "2022-03-03T14:28:44.357Z"
   },
   {
    "duration": 5,
    "start_time": "2022-03-03T14:28:44.402Z"
   },
   {
    "duration": 29,
    "start_time": "2022-03-03T14:28:44.409Z"
   },
   {
    "duration": 30,
    "start_time": "2022-03-03T14:28:44.440Z"
   },
   {
    "duration": 54,
    "start_time": "2022-03-03T14:28:44.472Z"
   },
   {
    "duration": 32,
    "start_time": "2022-03-03T14:28:44.529Z"
   },
   {
    "duration": 61,
    "start_time": "2022-03-03T14:28:44.564Z"
   },
   {
    "duration": 36,
    "start_time": "2022-03-03T14:28:44.627Z"
   },
   {
    "duration": 677,
    "start_time": "2022-03-11T19:43:27.389Z"
   },
   {
    "duration": 11,
    "start_time": "2022-03-11T19:43:28.068Z"
   },
   {
    "duration": 17,
    "start_time": "2022-03-11T19:43:28.081Z"
   },
   {
    "duration": 20,
    "start_time": "2022-03-11T19:43:28.100Z"
   },
   {
    "duration": 11,
    "start_time": "2022-03-11T19:43:28.122Z"
   },
   {
    "duration": 13,
    "start_time": "2022-03-11T19:43:28.135Z"
   },
   {
    "duration": 11,
    "start_time": "2022-03-11T19:43:28.150Z"
   },
   {
    "duration": 19,
    "start_time": "2022-03-11T19:43:28.163Z"
   },
   {
    "duration": 29,
    "start_time": "2022-03-11T19:43:28.184Z"
   },
   {
    "duration": 5,
    "start_time": "2022-03-11T19:43:28.214Z"
   },
   {
    "duration": 22,
    "start_time": "2022-03-11T19:43:28.220Z"
   },
   {
    "duration": 25,
    "start_time": "2022-03-11T19:43:28.244Z"
   },
   {
    "duration": 4,
    "start_time": "2022-03-11T19:43:28.271Z"
   },
   {
    "duration": 18,
    "start_time": "2022-03-11T19:43:28.277Z"
   },
   {
    "duration": 12,
    "start_time": "2022-03-11T19:43:28.297Z"
   },
   {
    "duration": 21,
    "start_time": "2022-03-11T19:43:28.311Z"
   },
   {
    "duration": 17,
    "start_time": "2022-03-11T19:43:28.334Z"
   },
   {
    "duration": 4,
    "start_time": "2022-03-11T19:43:28.352Z"
   },
   {
    "duration": 13,
    "start_time": "2022-03-11T19:43:28.358Z"
   },
   {
    "duration": 11,
    "start_time": "2022-03-11T19:43:28.372Z"
   },
   {
    "duration": 8,
    "start_time": "2022-03-11T19:43:28.384Z"
   },
   {
    "duration": 14,
    "start_time": "2022-03-11T19:43:28.394Z"
   },
   {
    "duration": 5,
    "start_time": "2022-03-11T19:43:28.411Z"
   },
   {
    "duration": 12,
    "start_time": "2022-03-11T19:43:28.418Z"
   },
   {
    "duration": 18,
    "start_time": "2022-03-11T19:43:28.431Z"
   },
   {
    "duration": 17,
    "start_time": "2022-03-11T19:43:28.451Z"
   },
   {
    "duration": 32,
    "start_time": "2022-03-11T19:43:28.470Z"
   },
   {
    "duration": 16,
    "start_time": "2022-03-11T19:43:28.504Z"
   },
   {
    "duration": 23,
    "start_time": "2022-03-11T19:43:28.522Z"
   },
   {
    "duration": 29,
    "start_time": "2022-03-11T19:43:28.546Z"
   },
   {
    "duration": 4,
    "start_time": "2022-03-11T19:43:28.577Z"
   },
   {
    "duration": 19,
    "start_time": "2022-03-11T19:43:28.583Z"
   },
   {
    "duration": 6,
    "start_time": "2022-03-11T19:43:28.604Z"
   },
   {
    "duration": 22,
    "start_time": "2022-03-11T19:43:28.612Z"
   },
   {
    "duration": 17,
    "start_time": "2022-03-11T19:43:28.636Z"
   },
   {
    "duration": 18,
    "start_time": "2022-03-11T19:43:28.654Z"
   },
   {
    "duration": 23,
    "start_time": "2022-03-11T19:43:28.674Z"
   },
   {
    "duration": 21,
    "start_time": "2022-03-11T19:43:28.698Z"
   },
   {
    "duration": 23,
    "start_time": "2022-03-11T19:43:28.721Z"
   },
   {
    "duration": 20,
    "start_time": "2022-03-11T19:43:28.746Z"
   },
   {
    "duration": 44,
    "start_time": "2022-03-11T19:43:28.767Z"
   },
   {
    "duration": 14,
    "start_time": "2022-03-11T19:43:28.812Z"
   },
   {
    "duration": 34,
    "start_time": "2022-03-11T19:43:28.828Z"
   },
   {
    "duration": 25,
    "start_time": "2022-03-11T19:43:28.864Z"
   },
   {
    "duration": 23,
    "start_time": "2022-03-11T19:43:28.891Z"
   },
   {
    "duration": 31,
    "start_time": "2022-03-11T19:43:28.915Z"
   },
   {
    "duration": 25,
    "start_time": "2022-03-11T19:43:28.947Z"
   },
   {
    "duration": 50,
    "start_time": "2022-03-11T19:43:28.974Z"
   },
   {
    "duration": 10,
    "start_time": "2022-03-11T19:45:18.026Z"
   },
   {
    "duration": 59,
    "start_time": "2022-03-11T19:45:20.422Z"
   },
   {
    "duration": 12,
    "start_time": "2022-03-11T19:45:20.484Z"
   },
   {
    "duration": 10,
    "start_time": "2022-03-11T19:45:20.499Z"
   },
   {
    "duration": 8,
    "start_time": "2022-03-11T19:45:20.511Z"
   },
   {
    "duration": 10,
    "start_time": "2022-03-11T19:45:22.300Z"
   },
   {
    "duration": 370,
    "start_time": "2022-03-11T19:49:06.687Z"
   },
   {
    "duration": 4,
    "start_time": "2022-03-11T19:52:25.643Z"
   },
   {
    "duration": 9,
    "start_time": "2022-03-11T19:54:31.381Z"
   },
   {
    "duration": 76,
    "start_time": "2022-03-11T19:54:37.233Z"
   },
   {
    "duration": 12,
    "start_time": "2022-03-11T19:54:37.311Z"
   },
   {
    "duration": 9,
    "start_time": "2022-03-11T19:54:37.325Z"
   },
   {
    "duration": 6,
    "start_time": "2022-03-11T19:54:37.335Z"
   },
   {
    "duration": 8,
    "start_time": "2022-03-11T19:54:37.343Z"
   },
   {
    "duration": 6,
    "start_time": "2022-03-11T19:54:37.353Z"
   },
   {
    "duration": 48,
    "start_time": "2022-03-11T19:54:37.361Z"
   },
   {
    "duration": 9,
    "start_time": "2022-03-11T19:54:37.412Z"
   },
   {
    "duration": 32,
    "start_time": "2022-03-11T19:54:37.424Z"
   },
   {
    "duration": 6,
    "start_time": "2022-03-11T19:54:37.458Z"
   },
   {
    "duration": 16,
    "start_time": "2022-03-11T19:54:37.466Z"
   },
   {
    "duration": 48,
    "start_time": "2022-03-11T19:54:37.484Z"
   },
   {
    "duration": 6,
    "start_time": "2022-03-11T19:54:37.534Z"
   },
   {
    "duration": 10,
    "start_time": "2022-03-11T19:54:37.542Z"
   },
   {
    "duration": 7,
    "start_time": "2022-03-11T19:54:37.555Z"
   },
   {
    "duration": 41,
    "start_time": "2022-03-11T19:54:37.565Z"
   },
   {
    "duration": 20,
    "start_time": "2022-03-11T19:54:37.608Z"
   },
   {
    "duration": 6,
    "start_time": "2022-03-11T19:54:37.630Z"
   },
   {
    "duration": 8,
    "start_time": "2022-03-11T19:54:37.638Z"
   },
   {
    "duration": 7,
    "start_time": "2022-03-11T19:54:37.648Z"
   },
   {
    "duration": 6,
    "start_time": "2022-03-11T19:54:37.658Z"
   },
   {
    "duration": 41,
    "start_time": "2022-03-11T19:54:37.666Z"
   },
   {
    "duration": 5,
    "start_time": "2022-03-11T19:54:37.712Z"
   },
   {
    "duration": 7,
    "start_time": "2022-03-11T19:54:37.720Z"
   },
   {
    "duration": 5,
    "start_time": "2022-03-11T19:54:37.729Z"
   },
   {
    "duration": 10,
    "start_time": "2022-03-11T19:54:37.736Z"
   },
   {
    "duration": 18,
    "start_time": "2022-03-11T19:54:37.749Z"
   },
   {
    "duration": 39,
    "start_time": "2022-03-11T19:54:37.769Z"
   },
   {
    "duration": 23,
    "start_time": "2022-03-11T19:54:37.810Z"
   },
   {
    "duration": 44,
    "start_time": "2022-03-11T19:54:37.836Z"
   },
   {
    "duration": 27,
    "start_time": "2022-03-11T19:54:37.882Z"
   },
   {
    "duration": 20,
    "start_time": "2022-03-11T19:54:37.910Z"
   },
   {
    "duration": 9,
    "start_time": "2022-03-11T19:54:37.933Z"
   },
   {
    "duration": 25,
    "start_time": "2022-03-11T19:54:37.945Z"
   },
   {
    "duration": 34,
    "start_time": "2022-03-11T19:54:37.973Z"
   },
   {
    "duration": 12,
    "start_time": "2022-03-11T19:54:38.009Z"
   },
   {
    "duration": 13,
    "start_time": "2022-03-11T19:54:38.023Z"
   },
   {
    "duration": 5,
    "start_time": "2022-03-11T19:54:38.038Z"
   },
   {
    "duration": 13,
    "start_time": "2022-03-11T19:54:38.045Z"
   },
   {
    "duration": 47,
    "start_time": "2022-03-11T19:54:38.060Z"
   },
   {
    "duration": 5,
    "start_time": "2022-03-11T19:54:38.109Z"
   },
   {
    "duration": 19,
    "start_time": "2022-03-11T19:54:38.116Z"
   },
   {
    "duration": 5,
    "start_time": "2022-03-11T19:54:38.137Z"
   },
   {
    "duration": 29,
    "start_time": "2022-03-11T19:54:38.144Z"
   },
   {
    "duration": 47,
    "start_time": "2022-03-11T19:54:38.174Z"
   },
   {
    "duration": 25,
    "start_time": "2022-03-11T19:54:38.222Z"
   },
   {
    "duration": 28,
    "start_time": "2022-03-11T19:54:38.249Z"
   },
   {
    "duration": 52,
    "start_time": "2022-03-11T19:54:38.279Z"
   },
   {
    "duration": 30,
    "start_time": "2022-03-11T19:54:38.333Z"
   },
   {
    "duration": 337,
    "start_time": "2022-03-14T13:04:20.041Z"
   },
   {
    "duration": 798,
    "start_time": "2022-03-14T13:04:27.539Z"
   },
   {
    "duration": 10,
    "start_time": "2022-03-14T13:04:28.339Z"
   },
   {
    "duration": 9,
    "start_time": "2022-03-14T13:04:28.351Z"
   },
   {
    "duration": 7,
    "start_time": "2022-03-14T13:04:32.139Z"
   },
   {
    "duration": 7,
    "start_time": "2022-03-14T13:04:51.912Z"
   },
   {
    "duration": 8,
    "start_time": "2022-03-14T13:05:46.398Z"
   },
   {
    "duration": 55,
    "start_time": "2022-03-14T13:11:40.439Z"
   },
   {
    "duration": 10,
    "start_time": "2022-03-14T13:11:40.496Z"
   },
   {
    "duration": 10,
    "start_time": "2022-03-14T13:11:40.507Z"
   },
   {
    "duration": 5,
    "start_time": "2022-03-14T13:11:40.519Z"
   },
   {
    "duration": 8,
    "start_time": "2022-03-14T13:11:40.525Z"
   },
   {
    "duration": 6,
    "start_time": "2022-03-14T13:11:40.535Z"
   },
   {
    "duration": 5,
    "start_time": "2022-03-14T13:11:40.542Z"
   },
   {
    "duration": 9,
    "start_time": "2022-03-14T13:11:40.548Z"
   },
   {
    "duration": 24,
    "start_time": "2022-03-14T13:11:40.600Z"
   },
   {
    "duration": 16,
    "start_time": "2022-03-14T13:11:40.627Z"
   },
   {
    "duration": 10,
    "start_time": "2022-03-14T13:11:40.644Z"
   },
   {
    "duration": 20,
    "start_time": "2022-03-14T13:11:40.656Z"
   },
   {
    "duration": 4,
    "start_time": "2022-03-14T13:11:40.677Z"
   },
   {
    "duration": 60,
    "start_time": "2022-03-14T13:20:05.174Z"
   },
   {
    "duration": 13,
    "start_time": "2022-03-14T13:20:05.236Z"
   },
   {
    "duration": 10,
    "start_time": "2022-03-14T13:20:05.252Z"
   },
   {
    "duration": 6,
    "start_time": "2022-03-14T13:20:05.264Z"
   },
   {
    "duration": 30,
    "start_time": "2022-03-14T13:20:05.272Z"
   },
   {
    "duration": 8,
    "start_time": "2022-03-14T13:20:05.304Z"
   },
   {
    "duration": 8,
    "start_time": "2022-03-14T13:20:05.314Z"
   },
   {
    "duration": 9,
    "start_time": "2022-03-14T13:20:05.324Z"
   },
   {
    "duration": 35,
    "start_time": "2022-03-14T13:20:05.335Z"
   },
   {
    "duration": 4,
    "start_time": "2022-03-14T13:20:05.372Z"
   },
   {
    "duration": 27,
    "start_time": "2022-03-14T13:20:05.378Z"
   },
   {
    "duration": 19,
    "start_time": "2022-03-14T13:20:05.406Z"
   },
   {
    "duration": 4,
    "start_time": "2022-03-14T13:20:05.427Z"
   },
   {
    "duration": 13,
    "start_time": "2022-03-14T13:20:05.433Z"
   },
   {
    "duration": 8,
    "start_time": "2022-03-14T13:20:05.448Z"
   },
   {
    "duration": 14,
    "start_time": "2022-03-14T13:20:05.458Z"
   },
   {
    "duration": 14,
    "start_time": "2022-03-14T13:20:05.672Z"
   },
   {
    "duration": 4,
    "start_time": "2022-03-14T13:20:05.687Z"
   },
   {
    "duration": 6,
    "start_time": "2022-03-14T13:20:05.766Z"
   },
   {
    "duration": 7,
    "start_time": "2022-03-14T13:20:05.773Z"
   },
   {
    "duration": 4,
    "start_time": "2022-03-14T13:20:05.782Z"
   },
   {
    "duration": 8,
    "start_time": "2022-03-14T13:20:05.788Z"
   },
   {
    "duration": 4,
    "start_time": "2022-03-14T13:20:05.798Z"
   },
   {
    "duration": 6,
    "start_time": "2022-03-14T13:20:05.803Z"
   },
   {
    "duration": 4,
    "start_time": "2022-03-14T13:20:05.861Z"
   },
   {
    "duration": 7,
    "start_time": "2022-03-14T13:20:05.867Z"
   },
   {
    "duration": 14,
    "start_time": "2022-03-14T13:20:05.876Z"
   },
   {
    "duration": 8,
    "start_time": "2022-03-14T13:20:05.892Z"
   },
   {
    "duration": 27,
    "start_time": "2022-03-14T13:20:05.902Z"
   },
   {
    "duration": 30,
    "start_time": "2022-03-14T13:20:05.931Z"
   },
   {
    "duration": 4,
    "start_time": "2022-03-14T13:20:05.963Z"
   },
   {
    "duration": 15,
    "start_time": "2022-03-14T13:20:05.969Z"
   },
   {
    "duration": 17,
    "start_time": "2022-03-14T13:20:05.986Z"
   },
   {
    "duration": 15,
    "start_time": "2022-03-14T13:20:06.005Z"
   },
   {
    "duration": 7,
    "start_time": "2022-03-14T13:20:06.022Z"
   },
   {
    "duration": 12,
    "start_time": "2022-03-14T13:20:08.197Z"
   },
   {
    "duration": 20,
    "start_time": "2022-03-14T13:20:47.490Z"
   },
   {
    "duration": 354,
    "start_time": "2022-03-14T13:39:29.849Z"
   },
   {
    "duration": 64,
    "start_time": "2022-03-14T13:39:37.673Z"
   },
   {
    "duration": 9,
    "start_time": "2022-03-14T13:39:37.739Z"
   },
   {
    "duration": 9,
    "start_time": "2022-03-14T13:39:37.750Z"
   },
   {
    "duration": 4,
    "start_time": "2022-03-14T13:39:37.761Z"
   },
   {
    "duration": 35,
    "start_time": "2022-03-14T13:39:37.767Z"
   },
   {
    "duration": 6,
    "start_time": "2022-03-14T13:39:37.804Z"
   },
   {
    "duration": 4,
    "start_time": "2022-03-14T13:39:37.812Z"
   },
   {
    "duration": 7,
    "start_time": "2022-03-14T13:39:37.818Z"
   },
   {
    "duration": 20,
    "start_time": "2022-03-14T13:39:37.827Z"
   },
   {
    "duration": 4,
    "start_time": "2022-03-14T13:39:37.848Z"
   },
   {
    "duration": 15,
    "start_time": "2022-03-14T13:39:37.854Z"
   },
   {
    "duration": 20,
    "start_time": "2022-03-14T13:39:37.901Z"
   },
   {
    "duration": 3,
    "start_time": "2022-03-14T13:39:37.923Z"
   },
   {
    "duration": 9,
    "start_time": "2022-03-14T13:39:37.928Z"
   },
   {
    "duration": 12,
    "start_time": "2022-03-14T13:39:37.938Z"
   },
   {
    "duration": 8,
    "start_time": "2022-03-14T13:39:37.952Z"
   },
   {
    "duration": 43,
    "start_time": "2022-03-14T13:39:37.962Z"
   },
   {
    "duration": 5,
    "start_time": "2022-03-14T13:39:38.007Z"
   },
   {
    "duration": 8,
    "start_time": "2022-03-14T13:39:38.015Z"
   },
   {
    "duration": 7,
    "start_time": "2022-03-14T13:39:38.025Z"
   },
   {
    "duration": 10,
    "start_time": "2022-03-14T13:39:38.034Z"
   },
   {
    "duration": 14,
    "start_time": "2022-03-14T13:39:38.046Z"
   },
   {
    "duration": 7,
    "start_time": "2022-03-14T13:39:38.062Z"
   },
   {
    "duration": 8,
    "start_time": "2022-03-14T13:39:38.071Z"
   },
   {
    "duration": 364,
    "start_time": "2022-03-14T13:40:01.570Z"
   },
   {
    "duration": 57,
    "start_time": "2022-03-14T13:40:27.888Z"
   },
   {
    "duration": 11,
    "start_time": "2022-03-14T13:40:27.947Z"
   },
   {
    "duration": 10,
    "start_time": "2022-03-14T13:40:27.960Z"
   },
   {
    "duration": 7,
    "start_time": "2022-03-14T13:40:28.002Z"
   },
   {
    "duration": 13,
    "start_time": "2022-03-14T13:40:28.011Z"
   },
   {
    "duration": 8,
    "start_time": "2022-03-14T13:40:28.026Z"
   },
   {
    "duration": 4,
    "start_time": "2022-03-14T13:40:28.036Z"
   },
   {
    "duration": 7,
    "start_time": "2022-03-14T13:40:28.043Z"
   },
   {
    "duration": 23,
    "start_time": "2022-03-14T13:40:28.052Z"
   },
   {
    "duration": 28,
    "start_time": "2022-03-14T13:40:28.076Z"
   },
   {
    "duration": 11,
    "start_time": "2022-03-14T13:40:28.105Z"
   },
   {
    "duration": 23,
    "start_time": "2022-03-14T13:40:28.117Z"
   },
   {
    "duration": 4,
    "start_time": "2022-03-14T13:40:28.141Z"
   },
   {
    "duration": 13,
    "start_time": "2022-03-14T13:40:28.146Z"
   },
   {
    "duration": 6,
    "start_time": "2022-03-14T13:40:28.161Z"
   },
   {
    "duration": 38,
    "start_time": "2022-03-14T13:40:28.168Z"
   },
   {
    "duration": 14,
    "start_time": "2022-03-14T13:40:28.208Z"
   },
   {
    "duration": 5,
    "start_time": "2022-03-14T13:40:28.224Z"
   },
   {
    "duration": 11,
    "start_time": "2022-03-14T13:40:28.231Z"
   },
   {
    "duration": 13,
    "start_time": "2022-03-14T13:40:28.244Z"
   },
   {
    "duration": 14,
    "start_time": "2022-03-14T13:40:28.259Z"
   },
   {
    "duration": 32,
    "start_time": "2022-03-14T13:40:28.274Z"
   },
   {
    "duration": 4,
    "start_time": "2022-03-14T13:40:28.309Z"
   },
   {
    "duration": 513,
    "start_time": "2022-03-14T13:40:30.623Z"
   },
   {
    "duration": 6,
    "start_time": "2022-03-14T13:40:45.045Z"
   },
   {
    "duration": 6,
    "start_time": "2022-03-14T13:45:16.061Z"
   },
   {
    "duration": 108,
    "start_time": "2022-03-14T13:59:24.297Z"
   },
   {
    "duration": 146,
    "start_time": "2022-03-14T13:59:35.433Z"
   },
   {
    "duration": 1246,
    "start_time": "2022-03-14T13:59:52.512Z"
   },
   {
    "duration": 3247,
    "start_time": "2022-03-14T14:00:10.785Z"
   },
   {
    "duration": 21,
    "start_time": "2022-03-14T14:03:27.548Z"
   },
   {
    "duration": 374,
    "start_time": "2022-03-14T14:03:58.643Z"
   },
   {
    "duration": 365,
    "start_time": "2022-03-14T14:07:40.247Z"
   },
   {
    "duration": 55,
    "start_time": "2022-03-14T14:07:52.382Z"
   },
   {
    "duration": 10,
    "start_time": "2022-03-14T14:07:52.439Z"
   },
   {
    "duration": 12,
    "start_time": "2022-03-14T14:07:52.451Z"
   },
   {
    "duration": 11,
    "start_time": "2022-03-14T14:07:52.467Z"
   },
   {
    "duration": 9,
    "start_time": "2022-03-14T14:07:52.501Z"
   },
   {
    "duration": 6,
    "start_time": "2022-03-14T14:07:52.511Z"
   },
   {
    "duration": 4,
    "start_time": "2022-03-14T14:07:52.519Z"
   },
   {
    "duration": 4,
    "start_time": "2022-03-14T14:07:52.525Z"
   },
   {
    "duration": 17,
    "start_time": "2022-03-14T14:07:52.531Z"
   },
   {
    "duration": 4,
    "start_time": "2022-03-14T14:07:52.550Z"
   },
   {
    "duration": 48,
    "start_time": "2022-03-14T14:07:52.556Z"
   },
   {
    "duration": 20,
    "start_time": "2022-03-14T14:07:52.605Z"
   },
   {
    "duration": 4,
    "start_time": "2022-03-14T14:07:52.626Z"
   },
   {
    "duration": 11,
    "start_time": "2022-03-14T14:07:52.631Z"
   },
   {
    "duration": 8,
    "start_time": "2022-03-14T14:07:52.643Z"
   },
   {
    "duration": 8,
    "start_time": "2022-03-14T14:07:52.653Z"
   },
   {
    "duration": 42,
    "start_time": "2022-03-14T14:07:52.662Z"
   },
   {
    "duration": 4,
    "start_time": "2022-03-14T14:07:52.706Z"
   },
   {
    "duration": 9,
    "start_time": "2022-03-14T14:07:52.712Z"
   },
   {
    "duration": 7,
    "start_time": "2022-03-14T14:07:52.723Z"
   },
   {
    "duration": 10,
    "start_time": "2022-03-14T14:07:52.731Z"
   },
   {
    "duration": 10,
    "start_time": "2022-03-14T14:07:52.743Z"
   },
   {
    "duration": 8,
    "start_time": "2022-03-14T14:07:52.754Z"
   },
   {
    "duration": 8,
    "start_time": "2022-03-14T14:07:52.763Z"
   },
   {
    "duration": 32,
    "start_time": "2022-03-14T14:07:52.772Z"
   },
   {
    "duration": 310,
    "start_time": "2022-03-14T14:07:55.013Z"
   },
   {
    "duration": 25,
    "start_time": "2022-03-14T14:08:13.271Z"
   },
   {
    "duration": 6,
    "start_time": "2022-03-14T14:08:26.166Z"
   },
   {
    "duration": 57,
    "start_time": "2022-03-14T14:10:21.897Z"
   },
   {
    "duration": 12,
    "start_time": "2022-03-14T14:10:21.955Z"
   },
   {
    "duration": 9,
    "start_time": "2022-03-14T14:10:21.969Z"
   },
   {
    "duration": 24,
    "start_time": "2022-03-14T14:10:21.980Z"
   },
   {
    "duration": 7,
    "start_time": "2022-03-14T14:10:22.006Z"
   },
   {
    "duration": 6,
    "start_time": "2022-03-14T14:10:22.015Z"
   },
   {
    "duration": 7,
    "start_time": "2022-03-14T14:10:22.022Z"
   },
   {
    "duration": 3,
    "start_time": "2022-03-14T14:10:22.031Z"
   },
   {
    "duration": 25,
    "start_time": "2022-03-14T14:10:22.036Z"
   },
   {
    "duration": 39,
    "start_time": "2022-03-14T14:10:22.063Z"
   },
   {
    "duration": 13,
    "start_time": "2022-03-14T14:10:22.104Z"
   },
   {
    "duration": 21,
    "start_time": "2022-03-14T14:10:22.119Z"
   },
   {
    "duration": 4,
    "start_time": "2022-03-14T14:10:22.142Z"
   },
   {
    "duration": 13,
    "start_time": "2022-03-14T14:10:22.148Z"
   },
   {
    "duration": 7,
    "start_time": "2022-03-14T14:10:22.163Z"
   },
   {
    "duration": 9,
    "start_time": "2022-03-14T14:10:22.200Z"
   },
   {
    "duration": 16,
    "start_time": "2022-03-14T14:10:22.212Z"
   },
   {
    "duration": 5,
    "start_time": "2022-03-14T14:10:22.230Z"
   },
   {
    "duration": 9,
    "start_time": "2022-03-14T14:10:22.237Z"
   },
   {
    "duration": 6,
    "start_time": "2022-03-14T14:10:22.248Z"
   },
   {
    "duration": 8,
    "start_time": "2022-03-14T14:10:22.255Z"
   },
   {
    "duration": 39,
    "start_time": "2022-03-14T14:10:22.265Z"
   },
   {
    "duration": 4,
    "start_time": "2022-03-14T14:10:22.307Z"
   },
   {
    "duration": 4,
    "start_time": "2022-03-14T14:10:22.313Z"
   },
   {
    "duration": 15,
    "start_time": "2022-03-14T14:10:22.318Z"
   },
   {
    "duration": 321,
    "start_time": "2022-03-14T14:10:24.969Z"
   },
   {
    "duration": 29,
    "start_time": "2022-03-14T14:10:32.760Z"
   },
   {
    "duration": 5,
    "start_time": "2022-03-14T14:10:49.151Z"
   },
   {
    "duration": 26,
    "start_time": "2022-03-14T14:11:19.182Z"
   },
   {
    "duration": 5,
    "start_time": "2022-03-14T14:11:22.224Z"
   },
   {
    "duration": 78,
    "start_time": "2022-03-14T14:11:29.539Z"
   },
   {
    "duration": 14,
    "start_time": "2022-03-14T14:11:29.620Z"
   },
   {
    "duration": 9,
    "start_time": "2022-03-14T14:11:29.637Z"
   },
   {
    "duration": 4,
    "start_time": "2022-03-14T14:11:29.648Z"
   },
   {
    "duration": 8,
    "start_time": "2022-03-14T14:11:29.654Z"
   },
   {
    "duration": 38,
    "start_time": "2022-03-14T14:11:29.664Z"
   },
   {
    "duration": 5,
    "start_time": "2022-03-14T14:11:29.704Z"
   },
   {
    "duration": 6,
    "start_time": "2022-03-14T14:11:29.712Z"
   },
   {
    "duration": 28,
    "start_time": "2022-03-14T14:11:29.720Z"
   },
   {
    "duration": 6,
    "start_time": "2022-03-14T14:11:29.750Z"
   },
   {
    "duration": 16,
    "start_time": "2022-03-14T14:11:29.758Z"
   },
   {
    "duration": 20,
    "start_time": "2022-03-14T14:11:29.801Z"
   },
   {
    "duration": 4,
    "start_time": "2022-03-14T14:11:29.823Z"
   },
   {
    "duration": 11,
    "start_time": "2022-03-14T14:11:29.828Z"
   },
   {
    "duration": 10,
    "start_time": "2022-03-14T14:11:29.841Z"
   },
   {
    "duration": 15,
    "start_time": "2022-03-14T14:11:29.853Z"
   },
   {
    "duration": 40,
    "start_time": "2022-03-14T14:11:29.869Z"
   },
   {
    "duration": 5,
    "start_time": "2022-03-14T14:11:29.911Z"
   },
   {
    "duration": 9,
    "start_time": "2022-03-14T14:11:29.918Z"
   },
   {
    "duration": 8,
    "start_time": "2022-03-14T14:11:29.929Z"
   },
   {
    "duration": 12,
    "start_time": "2022-03-14T14:11:29.939Z"
   },
   {
    "duration": 14,
    "start_time": "2022-03-14T14:11:29.952Z"
   },
   {
    "duration": 32,
    "start_time": "2022-03-14T14:11:29.969Z"
   },
   {
    "duration": 3,
    "start_time": "2022-03-14T14:11:30.003Z"
   },
   {
    "duration": 12,
    "start_time": "2022-03-14T14:11:30.008Z"
   },
   {
    "duration": 30,
    "start_time": "2022-03-14T14:11:32.246Z"
   },
   {
    "duration": 4,
    "start_time": "2022-03-14T14:11:35.777Z"
   },
   {
    "duration": 7,
    "start_time": "2022-03-14T14:28:30.494Z"
   },
   {
    "duration": 22,
    "start_time": "2022-03-14T14:30:27.508Z"
   },
   {
    "duration": 43,
    "start_time": "2022-03-14T14:30:48.525Z"
   },
   {
    "duration": 9,
    "start_time": "2022-03-14T14:31:57.055Z"
   },
   {
    "duration": 7,
    "start_time": "2022-03-14T14:32:13.504Z"
   },
   {
    "duration": 7,
    "start_time": "2022-03-14T14:40:48.843Z"
   },
   {
    "duration": 6,
    "start_time": "2022-03-14T14:41:46.125Z"
   },
   {
    "duration": 73,
    "start_time": "2022-03-14T14:41:58.590Z"
   },
   {
    "duration": 14,
    "start_time": "2022-03-14T14:41:58.665Z"
   },
   {
    "duration": 25,
    "start_time": "2022-03-14T14:41:58.681Z"
   },
   {
    "duration": 8,
    "start_time": "2022-03-14T14:41:58.710Z"
   },
   {
    "duration": 10,
    "start_time": "2022-03-14T14:41:58.721Z"
   },
   {
    "duration": 9,
    "start_time": "2022-03-14T14:41:58.732Z"
   },
   {
    "duration": 4,
    "start_time": "2022-03-14T14:41:58.743Z"
   },
   {
    "duration": 4,
    "start_time": "2022-03-14T14:41:58.749Z"
   },
   {
    "duration": 66,
    "start_time": "2022-03-14T14:41:58.755Z"
   },
   {
    "duration": 6,
    "start_time": "2022-03-14T14:41:58.823Z"
   },
   {
    "duration": 10,
    "start_time": "2022-03-14T14:41:58.830Z"
   },
   {
    "duration": 18,
    "start_time": "2022-03-14T14:41:58.841Z"
   },
   {
    "duration": 3,
    "start_time": "2022-03-14T14:41:58.861Z"
   },
   {
    "duration": 36,
    "start_time": "2022-03-14T14:41:58.866Z"
   },
   {
    "duration": 8,
    "start_time": "2022-03-14T14:41:58.904Z"
   },
   {
    "duration": 6,
    "start_time": "2022-03-14T14:41:58.914Z"
   },
   {
    "duration": 13,
    "start_time": "2022-03-14T14:41:58.922Z"
   },
   {
    "duration": 5,
    "start_time": "2022-03-14T14:41:58.937Z"
   },
   {
    "duration": 9,
    "start_time": "2022-03-14T14:41:58.943Z"
   },
   {
    "duration": 8,
    "start_time": "2022-03-14T14:41:58.954Z"
   },
   {
    "duration": 12,
    "start_time": "2022-03-14T14:41:58.963Z"
   },
   {
    "duration": 29,
    "start_time": "2022-03-14T14:41:58.977Z"
   },
   {
    "duration": 8,
    "start_time": "2022-03-14T14:41:59.007Z"
   },
   {
    "duration": 11,
    "start_time": "2022-03-14T14:41:59.017Z"
   },
   {
    "duration": 9,
    "start_time": "2022-03-14T14:41:59.029Z"
   },
   {
    "duration": 116,
    "start_time": "2022-03-14T14:46:03.747Z"
   },
   {
    "duration": 54,
    "start_time": "2022-03-14T14:49:43.350Z"
   },
   {
    "duration": 9,
    "start_time": "2022-03-14T14:49:43.406Z"
   },
   {
    "duration": 9,
    "start_time": "2022-03-14T14:49:43.417Z"
   },
   {
    "duration": 5,
    "start_time": "2022-03-14T14:49:43.427Z"
   },
   {
    "duration": 7,
    "start_time": "2022-03-14T14:49:43.434Z"
   },
   {
    "duration": 5,
    "start_time": "2022-03-14T14:49:43.443Z"
   },
   {
    "duration": 4,
    "start_time": "2022-03-14T14:49:43.450Z"
   },
   {
    "duration": 10,
    "start_time": "2022-03-14T14:49:43.456Z"
   },
   {
    "duration": 18,
    "start_time": "2022-03-14T14:49:43.501Z"
   },
   {
    "duration": 5,
    "start_time": "2022-03-14T14:49:43.520Z"
   },
   {
    "duration": 10,
    "start_time": "2022-03-14T14:49:43.527Z"
   },
   {
    "duration": 20,
    "start_time": "2022-03-14T14:49:43.538Z"
   },
   {
    "duration": 4,
    "start_time": "2022-03-14T14:49:43.560Z"
   },
   {
    "duration": 40,
    "start_time": "2022-03-14T14:49:43.565Z"
   },
   {
    "duration": 8,
    "start_time": "2022-03-14T14:49:43.607Z"
   },
   {
    "duration": 7,
    "start_time": "2022-03-14T14:49:43.616Z"
   },
   {
    "duration": 12,
    "start_time": "2022-03-14T14:49:43.624Z"
   },
   {
    "duration": 3,
    "start_time": "2022-03-14T14:49:43.638Z"
   },
   {
    "duration": 10,
    "start_time": "2022-03-14T14:49:43.642Z"
   },
   {
    "duration": 9,
    "start_time": "2022-03-14T14:49:43.654Z"
   },
   {
    "duration": 6,
    "start_time": "2022-03-14T14:49:43.702Z"
   },
   {
    "duration": 7,
    "start_time": "2022-03-14T14:49:43.709Z"
   },
   {
    "duration": 10,
    "start_time": "2022-03-14T14:49:43.719Z"
   },
   {
    "duration": 8,
    "start_time": "2022-03-14T14:49:43.731Z"
   },
   {
    "duration": 10,
    "start_time": "2022-03-14T14:49:43.741Z"
   },
   {
    "duration": 48,
    "start_time": "2022-03-14T14:49:43.753Z"
   },
   {
    "duration": 5,
    "start_time": "2022-03-14T14:49:43.803Z"
   },
   {
    "duration": 8,
    "start_time": "2022-03-14T14:49:43.810Z"
   },
   {
    "duration": 15,
    "start_time": "2022-03-14T14:49:43.820Z"
   },
   {
    "duration": 7,
    "start_time": "2022-03-14T14:49:43.837Z"
   },
   {
    "duration": 20,
    "start_time": "2022-03-14T14:49:43.845Z"
   },
   {
    "duration": 48,
    "start_time": "2022-03-14T14:49:43.866Z"
   },
   {
    "duration": 5,
    "start_time": "2022-03-14T14:49:43.916Z"
   },
   {
    "duration": 15,
    "start_time": "2022-03-14T14:49:43.923Z"
   },
   {
    "duration": 9,
    "start_time": "2022-03-14T14:49:43.940Z"
   },
   {
    "duration": 20,
    "start_time": "2022-03-14T14:49:43.951Z"
   },
   {
    "duration": 46,
    "start_time": "2022-03-14T14:49:43.973Z"
   },
   {
    "duration": 73,
    "start_time": "2022-03-14T14:50:44.919Z"
   },
   {
    "duration": 15,
    "start_time": "2022-03-14T14:50:44.994Z"
   },
   {
    "duration": 12,
    "start_time": "2022-03-14T14:50:45.011Z"
   },
   {
    "duration": 5,
    "start_time": "2022-03-14T14:50:45.026Z"
   },
   {
    "duration": 10,
    "start_time": "2022-03-14T14:50:45.033Z"
   },
   {
    "duration": 8,
    "start_time": "2022-03-14T14:50:45.045Z"
   },
   {
    "duration": 7,
    "start_time": "2022-03-14T14:50:45.055Z"
   },
   {
    "duration": 9,
    "start_time": "2022-03-14T14:50:45.063Z"
   },
   {
    "duration": 17,
    "start_time": "2022-03-14T14:50:45.102Z"
   },
   {
    "duration": 4,
    "start_time": "2022-03-14T14:50:45.121Z"
   },
   {
    "duration": 11,
    "start_time": "2022-03-14T14:50:45.127Z"
   },
   {
    "duration": 20,
    "start_time": "2022-03-14T14:50:45.139Z"
   },
   {
    "duration": 4,
    "start_time": "2022-03-14T14:50:45.161Z"
   },
   {
    "duration": 35,
    "start_time": "2022-03-14T14:50:45.167Z"
   },
   {
    "duration": 9,
    "start_time": "2022-03-14T14:50:45.204Z"
   },
   {
    "duration": 10,
    "start_time": "2022-03-14T14:50:45.214Z"
   },
   {
    "duration": 14,
    "start_time": "2022-03-14T14:50:45.225Z"
   },
   {
    "duration": 4,
    "start_time": "2022-03-14T14:50:45.241Z"
   },
   {
    "duration": 9,
    "start_time": "2022-03-14T14:50:45.246Z"
   },
   {
    "duration": 7,
    "start_time": "2022-03-14T14:50:45.257Z"
   },
   {
    "duration": 36,
    "start_time": "2022-03-14T14:50:45.266Z"
   },
   {
    "duration": 5,
    "start_time": "2022-03-14T14:50:45.304Z"
   },
   {
    "duration": 8,
    "start_time": "2022-03-14T14:50:45.311Z"
   },
   {
    "duration": 10,
    "start_time": "2022-03-14T14:50:45.320Z"
   },
   {
    "duration": 10,
    "start_time": "2022-03-14T14:50:45.332Z"
   },
   {
    "duration": 58,
    "start_time": "2022-03-14T14:50:45.344Z"
   },
   {
    "duration": 5,
    "start_time": "2022-03-14T14:50:45.406Z"
   },
   {
    "duration": 10,
    "start_time": "2022-03-14T14:50:45.413Z"
   },
   {
    "duration": 12,
    "start_time": "2022-03-14T14:50:45.424Z"
   },
   {
    "duration": 3,
    "start_time": "2022-03-14T14:50:45.438Z"
   },
   {
    "duration": 24,
    "start_time": "2022-03-14T14:50:45.443Z"
   },
   {
    "duration": 15,
    "start_time": "2022-03-14T14:50:45.469Z"
   },
   {
    "duration": 16,
    "start_time": "2022-03-14T14:50:45.486Z"
   },
   {
    "duration": 16,
    "start_time": "2022-03-14T14:50:45.504Z"
   },
   {
    "duration": 18,
    "start_time": "2022-03-14T14:50:47.910Z"
   },
   {
    "duration": 38,
    "start_time": "2022-03-14T14:50:52.657Z"
   },
   {
    "duration": 26,
    "start_time": "2022-03-14T14:59:15.197Z"
   },
   {
    "duration": 29,
    "start_time": "2022-03-14T14:59:49.675Z"
   },
   {
    "duration": 67,
    "start_time": "2022-03-14T15:18:10.249Z"
   },
   {
    "duration": 9,
    "start_time": "2022-03-14T15:18:10.318Z"
   },
   {
    "duration": 9,
    "start_time": "2022-03-14T15:18:10.329Z"
   },
   {
    "duration": 5,
    "start_time": "2022-03-14T15:18:10.340Z"
   },
   {
    "duration": 10,
    "start_time": "2022-03-14T15:18:10.346Z"
   },
   {
    "duration": 6,
    "start_time": "2022-03-14T15:18:10.357Z"
   },
   {
    "duration": 6,
    "start_time": "2022-03-14T15:18:10.364Z"
   },
   {
    "duration": 31,
    "start_time": "2022-03-14T15:18:10.372Z"
   },
   {
    "duration": 17,
    "start_time": "2022-03-14T15:18:10.405Z"
   },
   {
    "duration": 4,
    "start_time": "2022-03-14T15:18:10.424Z"
   },
   {
    "duration": 10,
    "start_time": "2022-03-14T15:18:10.430Z"
   },
   {
    "duration": 21,
    "start_time": "2022-03-14T15:18:10.441Z"
   },
   {
    "duration": 4,
    "start_time": "2022-03-14T15:18:10.463Z"
   },
   {
    "duration": 6,
    "start_time": "2022-03-14T15:18:10.501Z"
   },
   {
    "duration": 5,
    "start_time": "2022-03-14T15:18:10.508Z"
   },
   {
    "duration": 8,
    "start_time": "2022-03-14T15:18:10.515Z"
   },
   {
    "duration": 16,
    "start_time": "2022-03-14T15:18:10.525Z"
   },
   {
    "duration": 4,
    "start_time": "2022-03-14T15:18:10.543Z"
   },
   {
    "duration": 10,
    "start_time": "2022-03-14T15:18:10.548Z"
   },
   {
    "duration": 11,
    "start_time": "2022-03-14T15:18:10.559Z"
   },
   {
    "duration": 8,
    "start_time": "2022-03-14T15:18:10.571Z"
   },
   {
    "duration": 4,
    "start_time": "2022-03-14T15:18:10.601Z"
   },
   {
    "duration": 8,
    "start_time": "2022-03-14T15:18:10.606Z"
   },
   {
    "duration": 8,
    "start_time": "2022-03-14T15:18:10.615Z"
   },
   {
    "duration": 9,
    "start_time": "2022-03-14T15:18:10.624Z"
   },
   {
    "duration": 28,
    "start_time": "2022-03-14T15:18:10.634Z"
   },
   {
    "duration": 4,
    "start_time": "2022-03-14T15:18:10.665Z"
   },
   {
    "duration": 9,
    "start_time": "2022-03-14T15:18:10.671Z"
   },
   {
    "duration": 27,
    "start_time": "2022-03-14T15:18:10.681Z"
   },
   {
    "duration": 3,
    "start_time": "2022-03-14T15:18:10.709Z"
   },
   {
    "duration": 8,
    "start_time": "2022-03-14T15:18:10.714Z"
   },
   {
    "duration": 13,
    "start_time": "2022-03-14T15:18:10.724Z"
   },
   {
    "duration": 14,
    "start_time": "2022-03-14T15:18:10.739Z"
   },
   {
    "duration": 18,
    "start_time": "2022-03-14T15:18:10.754Z"
   },
   {
    "duration": 28,
    "start_time": "2022-03-14T15:18:10.774Z"
   },
   {
    "duration": 26,
    "start_time": "2022-03-14T15:18:10.803Z"
   },
   {
    "duration": 5,
    "start_time": "2022-03-14T15:18:10.830Z"
   },
   {
    "duration": 9,
    "start_time": "2022-03-14T15:18:10.836Z"
   },
   {
    "duration": 12,
    "start_time": "2022-03-14T15:18:10.847Z"
   },
   {
    "duration": 4,
    "start_time": "2022-03-14T15:18:10.861Z"
   },
   {
    "duration": 38,
    "start_time": "2022-03-14T15:18:10.867Z"
   },
   {
    "duration": 3,
    "start_time": "2022-03-14T15:18:10.906Z"
   },
   {
    "duration": 20,
    "start_time": "2022-03-14T15:18:10.910Z"
   },
   {
    "duration": 3,
    "start_time": "2022-03-14T15:18:10.931Z"
   },
   {
    "duration": 33,
    "start_time": "2022-03-14T15:18:10.935Z"
   },
   {
    "duration": 35,
    "start_time": "2022-03-14T15:18:10.969Z"
   },
   {
    "duration": 27,
    "start_time": "2022-03-14T15:18:11.005Z"
   },
   {
    "duration": 25,
    "start_time": "2022-03-14T15:18:11.034Z"
   },
   {
    "duration": 52,
    "start_time": "2022-03-14T15:18:11.061Z"
   },
   {
    "duration": 28,
    "start_time": "2022-03-14T15:18:11.114Z"
   },
   {
    "duration": 18,
    "start_time": "2022-03-14T15:21:08.156Z"
   },
   {
    "duration": 24,
    "start_time": "2022-03-14T15:22:56.048Z"
   },
   {
    "duration": 28,
    "start_time": "2022-03-14T15:24:11.430Z"
   },
   {
    "duration": 27,
    "start_time": "2022-03-14T15:26:01.360Z"
   },
   {
    "duration": 29,
    "start_time": "2022-03-14T15:27:03.137Z"
   },
   {
    "duration": 31,
    "start_time": "2022-03-14T15:28:16.419Z"
   },
   {
    "duration": 29,
    "start_time": "2022-03-14T15:29:00.150Z"
   },
   {
    "duration": 351,
    "start_time": "2022-03-14T15:29:22.940Z"
   },
   {
    "duration": 33,
    "start_time": "2022-03-14T15:29:27.695Z"
   },
   {
    "duration": 289,
    "start_time": "2022-03-14T15:30:34.118Z"
   },
   {
    "duration": 6,
    "start_time": "2022-03-14T15:30:46.681Z"
   },
   {
    "duration": 96,
    "start_time": "2022-03-14T15:34:36.748Z"
   },
   {
    "duration": 341,
    "start_time": "2022-03-14T15:35:14.076Z"
   },
   {
    "duration": 4,
    "start_time": "2022-03-14T15:37:16.256Z"
   },
   {
    "duration": 5,
    "start_time": "2022-03-14T15:38:27.588Z"
   },
   {
    "duration": 4,
    "start_time": "2022-03-14T15:38:50.315Z"
   },
   {
    "duration": 5,
    "start_time": "2022-03-14T15:42:11.298Z"
   },
   {
    "duration": 903,
    "start_time": "2022-03-15T00:39:49.977Z"
   },
   {
    "duration": 16,
    "start_time": "2022-03-15T00:39:50.882Z"
   },
   {
    "duration": 21,
    "start_time": "2022-03-15T00:39:50.901Z"
   },
   {
    "duration": 22,
    "start_time": "2022-03-15T00:39:50.925Z"
   },
   {
    "duration": 23,
    "start_time": "2022-03-15T00:39:50.949Z"
   },
   {
    "duration": 20,
    "start_time": "2022-03-15T00:39:50.974Z"
   },
   {
    "duration": 12,
    "start_time": "2022-03-15T00:39:50.996Z"
   },
   {
    "duration": 29,
    "start_time": "2022-03-15T00:39:51.010Z"
   },
   {
    "duration": 62,
    "start_time": "2022-03-15T00:39:51.043Z"
   },
   {
    "duration": 7,
    "start_time": "2022-03-15T00:39:51.108Z"
   },
   {
    "duration": 24,
    "start_time": "2022-03-15T00:39:51.117Z"
   },
   {
    "duration": 44,
    "start_time": "2022-03-15T00:39:51.143Z"
   },
   {
    "duration": 8,
    "start_time": "2022-03-15T00:39:51.190Z"
   },
   {
    "duration": 22,
    "start_time": "2022-03-15T00:39:51.201Z"
   },
   {
    "duration": 14,
    "start_time": "2022-03-15T00:39:51.225Z"
   },
   {
    "duration": 38,
    "start_time": "2022-03-15T00:39:51.241Z"
   },
   {
    "duration": 30,
    "start_time": "2022-03-15T00:39:51.281Z"
   },
   {
    "duration": 14,
    "start_time": "2022-03-15T00:39:51.313Z"
   },
   {
    "duration": 21,
    "start_time": "2022-03-15T00:39:51.330Z"
   },
   {
    "duration": 16,
    "start_time": "2022-03-15T00:39:51.354Z"
   },
   {
    "duration": 10,
    "start_time": "2022-03-15T00:39:51.373Z"
   },
   {
    "duration": 21,
    "start_time": "2022-03-15T00:39:51.386Z"
   },
   {
    "duration": 18,
    "start_time": "2022-03-15T00:39:51.409Z"
   },
   {
    "duration": 8,
    "start_time": "2022-03-15T00:39:51.430Z"
   },
   {
    "duration": 11,
    "start_time": "2022-03-15T00:39:51.441Z"
   },
   {
    "duration": 41,
    "start_time": "2022-03-15T00:39:51.474Z"
   },
   {
    "duration": 6,
    "start_time": "2022-03-15T00:39:51.520Z"
   },
   {
    "duration": 11,
    "start_time": "2022-03-15T00:39:51.529Z"
   },
   {
    "duration": 46,
    "start_time": "2022-03-15T00:39:51.543Z"
   },
   {
    "duration": 6,
    "start_time": "2022-03-15T00:39:51.592Z"
   },
   {
    "duration": 9,
    "start_time": "2022-03-15T00:39:51.601Z"
   },
   {
    "duration": 18,
    "start_time": "2022-03-15T00:39:51.613Z"
   },
   {
    "duration": 42,
    "start_time": "2022-03-15T00:39:51.633Z"
   },
   {
    "duration": 22,
    "start_time": "2022-03-15T00:39:51.677Z"
   },
   {
    "duration": 31,
    "start_time": "2022-03-15T00:39:51.701Z"
   },
   {
    "duration": 83,
    "start_time": "2022-03-15T00:39:51.734Z"
   },
   {
    "duration": 7,
    "start_time": "2022-03-15T00:39:51.819Z"
   },
   {
    "duration": 25,
    "start_time": "2022-03-15T00:39:51.828Z"
   },
   {
    "duration": 31,
    "start_time": "2022-03-15T00:39:51.855Z"
   },
   {
    "duration": 8,
    "start_time": "2022-03-15T00:39:51.888Z"
   },
   {
    "duration": 30,
    "start_time": "2022-03-15T00:39:51.898Z"
   },
   {
    "duration": 19,
    "start_time": "2022-03-15T00:39:51.931Z"
   },
   {
    "duration": 41,
    "start_time": "2022-03-15T00:39:51.953Z"
   },
   {
    "duration": 16,
    "start_time": "2022-03-15T00:39:51.998Z"
   },
   {
    "duration": 61,
    "start_time": "2022-03-15T00:39:52.017Z"
   },
   {
    "duration": 46,
    "start_time": "2022-03-15T00:39:52.081Z"
   },
   {
    "duration": 78,
    "start_time": "2022-03-15T00:39:52.130Z"
   },
   {
    "duration": 74,
    "start_time": "2022-03-15T00:39:52.211Z"
   },
   {
    "duration": 50,
    "start_time": "2022-03-15T00:39:52.288Z"
   },
   {
    "duration": 73,
    "start_time": "2022-03-15T00:39:52.340Z"
   },
   {
    "duration": 6,
    "start_time": "2022-03-15T00:39:52.415Z"
   },
   {
    "duration": 7043,
    "start_time": "2022-03-15T00:39:59.957Z"
   },
   {
    "duration": 6,
    "start_time": "2022-03-15T00:40:25.948Z"
   },
   {
    "duration": 7,
    "start_time": "2022-03-15T00:40:33.894Z"
   },
   {
    "duration": 6,
    "start_time": "2022-03-15T00:44:53.918Z"
   },
   {
    "duration": 7,
    "start_time": "2022-03-15T00:45:08.758Z"
   },
   {
    "duration": 6,
    "start_time": "2022-03-15T00:49:58.404Z"
   },
   {
    "duration": 7,
    "start_time": "2022-03-15T00:50:17.372Z"
   },
   {
    "duration": 46,
    "start_time": "2022-03-15T00:53:48.993Z"
   },
   {
    "duration": 59,
    "start_time": "2022-03-15T00:54:00.519Z"
   },
   {
    "duration": 8,
    "start_time": "2022-03-15T00:55:38.961Z"
   },
   {
    "duration": 6,
    "start_time": "2022-03-15T00:55:56.860Z"
   },
   {
    "duration": 7,
    "start_time": "2022-03-15T01:02:53.408Z"
   },
   {
    "duration": 8,
    "start_time": "2022-03-15T01:03:30.928Z"
   },
   {
    "duration": 6,
    "start_time": "2022-03-15T01:04:37.358Z"
   },
   {
    "duration": 7,
    "start_time": "2022-03-15T01:05:33.707Z"
   },
   {
    "duration": 7,
    "start_time": "2022-03-15T01:07:59.392Z"
   },
   {
    "duration": 7,
    "start_time": "2022-03-15T01:09:31.408Z"
   },
   {
    "duration": 108,
    "start_time": "2022-03-15T01:11:50.592Z"
   },
   {
    "duration": 7,
    "start_time": "2022-03-15T01:12:16.639Z"
   },
   {
    "duration": 7,
    "start_time": "2022-03-15T01:12:54.790Z"
   },
   {
    "duration": 7,
    "start_time": "2022-03-15T01:14:42.720Z"
   },
   {
    "duration": 103,
    "start_time": "2022-03-15T01:15:19.150Z"
   },
   {
    "duration": 94,
    "start_time": "2022-03-15T01:15:34.461Z"
   },
   {
    "duration": 8,
    "start_time": "2022-03-15T01:16:03.669Z"
   },
   {
    "duration": 7,
    "start_time": "2022-03-15T01:17:04.030Z"
   },
   {
    "duration": 7,
    "start_time": "2022-03-15T01:17:56.950Z"
   },
   {
    "duration": 7,
    "start_time": "2022-03-15T01:18:09.606Z"
   },
   {
    "duration": 618,
    "start_time": "2022-03-15T03:07:15.446Z"
   },
   {
    "duration": 11,
    "start_time": "2022-03-15T03:07:16.066Z"
   },
   {
    "duration": 8,
    "start_time": "2022-03-15T03:07:16.079Z"
   },
   {
    "duration": 14,
    "start_time": "2022-03-15T03:07:16.088Z"
   },
   {
    "duration": 6,
    "start_time": "2022-03-15T03:07:16.103Z"
   },
   {
    "duration": 6,
    "start_time": "2022-03-15T03:07:16.111Z"
   },
   {
    "duration": 3,
    "start_time": "2022-03-15T03:07:16.118Z"
   },
   {
    "duration": 5,
    "start_time": "2022-03-15T03:07:16.122Z"
   },
   {
    "duration": 18,
    "start_time": "2022-03-15T03:07:16.129Z"
   },
   {
    "duration": 4,
    "start_time": "2022-03-15T03:07:16.149Z"
   },
   {
    "duration": 10,
    "start_time": "2022-03-15T03:07:16.154Z"
   },
   {
    "duration": 53,
    "start_time": "2022-03-15T03:07:16.165Z"
   },
   {
    "duration": 4,
    "start_time": "2022-03-15T03:07:16.219Z"
   },
   {
    "duration": 7,
    "start_time": "2022-03-15T03:07:16.225Z"
   },
   {
    "duration": 5,
    "start_time": "2022-03-15T03:07:16.234Z"
   },
   {
    "duration": 11,
    "start_time": "2022-03-15T03:07:16.241Z"
   },
   {
    "duration": 14,
    "start_time": "2022-03-15T03:07:16.254Z"
   },
   {
    "duration": 4,
    "start_time": "2022-03-15T03:07:16.270Z"
   },
   {
    "duration": 27,
    "start_time": "2022-03-15T03:07:16.275Z"
   },
   {
    "duration": 6,
    "start_time": "2022-03-15T03:07:16.303Z"
   },
   {
    "duration": 10,
    "start_time": "2022-03-15T03:07:16.310Z"
   },
   {
    "duration": 22,
    "start_time": "2022-03-15T03:07:16.322Z"
   },
   {
    "duration": 8,
    "start_time": "2022-03-15T03:07:16.345Z"
   },
   {
    "duration": 21,
    "start_time": "2022-03-15T03:07:16.354Z"
   },
   {
    "duration": 40,
    "start_time": "2022-03-15T03:07:16.376Z"
   },
   {
    "duration": 43,
    "start_time": "2022-03-15T03:07:16.418Z"
   },
   {
    "duration": 15,
    "start_time": "2022-03-15T03:07:16.465Z"
   },
   {
    "duration": 27,
    "start_time": "2022-03-15T03:07:16.482Z"
   },
   {
    "duration": 55,
    "start_time": "2022-03-15T03:07:16.511Z"
   },
   {
    "duration": 27,
    "start_time": "2022-03-15T03:07:16.568Z"
   },
   {
    "duration": 28,
    "start_time": "2022-03-15T03:07:16.596Z"
   },
   {
    "duration": 25,
    "start_time": "2022-03-15T03:07:16.626Z"
   },
   {
    "duration": 25,
    "start_time": "2022-03-15T03:07:16.653Z"
   },
   {
    "duration": 36,
    "start_time": "2022-03-15T03:07:16.680Z"
   },
   {
    "duration": 38,
    "start_time": "2022-03-15T03:07:16.718Z"
   },
   {
    "duration": 42,
    "start_time": "2022-03-15T03:07:16.758Z"
   },
   {
    "duration": 6,
    "start_time": "2022-03-15T03:07:16.801Z"
   },
   {
    "duration": 31,
    "start_time": "2022-03-15T03:07:16.809Z"
   },
   {
    "duration": 13,
    "start_time": "2022-03-15T03:07:16.842Z"
   },
   {
    "duration": 7,
    "start_time": "2022-03-15T03:07:16.856Z"
   },
   {
    "duration": 15,
    "start_time": "2022-03-15T03:07:16.865Z"
   },
   {
    "duration": 20,
    "start_time": "2022-03-15T03:07:16.882Z"
   },
   {
    "duration": 28,
    "start_time": "2022-03-15T03:07:16.903Z"
   },
   {
    "duration": 8,
    "start_time": "2022-03-15T03:07:16.933Z"
   },
   {
    "duration": 55,
    "start_time": "2022-03-15T03:07:16.943Z"
   },
   {
    "duration": 40,
    "start_time": "2022-03-15T03:07:17.000Z"
   },
   {
    "duration": 42,
    "start_time": "2022-03-15T03:07:17.042Z"
   },
   {
    "duration": 54,
    "start_time": "2022-03-15T03:07:17.086Z"
   },
   {
    "duration": 61,
    "start_time": "2022-03-15T03:07:17.142Z"
   },
   {
    "duration": 31,
    "start_time": "2022-03-15T03:07:17.204Z"
   },
   {
    "duration": 9,
    "start_time": "2022-03-15T03:07:17.236Z"
   },
   {
    "duration": 11,
    "start_time": "2022-03-15T03:07:17.247Z"
   },
   {
    "duration": 5,
    "start_time": "2022-03-15T03:07:20.983Z"
   },
   {
    "duration": 5,
    "start_time": "2022-03-15T03:07:37.235Z"
   },
   {
    "duration": 5,
    "start_time": "2022-03-15T03:18:42.289Z"
   },
   {
    "duration": 60,
    "start_time": "2022-03-15T03:24:40.726Z"
   },
   {
    "duration": 10,
    "start_time": "2022-03-15T03:24:40.787Z"
   },
   {
    "duration": 8,
    "start_time": "2022-03-15T03:24:40.799Z"
   },
   {
    "duration": 5,
    "start_time": "2022-03-15T03:24:40.809Z"
   },
   {
    "duration": 7,
    "start_time": "2022-03-15T03:24:40.816Z"
   },
   {
    "duration": 6,
    "start_time": "2022-03-15T03:24:40.824Z"
   },
   {
    "duration": 6,
    "start_time": "2022-03-15T03:24:40.832Z"
   },
   {
    "duration": 7,
    "start_time": "2022-03-15T03:24:40.840Z"
   },
   {
    "duration": 23,
    "start_time": "2022-03-15T03:24:40.849Z"
   },
   {
    "duration": 31,
    "start_time": "2022-03-15T03:24:40.873Z"
   },
   {
    "duration": 9,
    "start_time": "2022-03-15T03:24:40.906Z"
   },
   {
    "duration": 19,
    "start_time": "2022-03-15T03:24:40.916Z"
   },
   {
    "duration": 5,
    "start_time": "2022-03-15T03:24:40.937Z"
   },
   {
    "duration": 10,
    "start_time": "2022-03-15T03:24:40.944Z"
   },
   {
    "duration": 12,
    "start_time": "2022-03-15T03:24:40.956Z"
   },
   {
    "duration": 7,
    "start_time": "2022-03-15T03:24:41.001Z"
   },
   {
    "duration": 12,
    "start_time": "2022-03-15T03:24:41.009Z"
   },
   {
    "duration": 4,
    "start_time": "2022-03-15T03:24:41.023Z"
   },
   {
    "duration": 9,
    "start_time": "2022-03-15T03:24:41.029Z"
   },
   {
    "duration": 7,
    "start_time": "2022-03-15T03:24:41.041Z"
   },
   {
    "duration": 9,
    "start_time": "2022-03-15T03:24:41.050Z"
   },
   {
    "duration": 45,
    "start_time": "2022-03-15T03:24:41.061Z"
   },
   {
    "duration": 6,
    "start_time": "2022-03-15T03:24:41.108Z"
   },
   {
    "duration": 6,
    "start_time": "2022-03-15T03:24:41.116Z"
   },
   {
    "duration": 9,
    "start_time": "2022-03-15T03:24:41.124Z"
   },
   {
    "duration": 30,
    "start_time": "2022-03-15T03:24:41.134Z"
   },
   {
    "duration": 5,
    "start_time": "2022-03-15T03:24:41.166Z"
   },
   {
    "duration": 32,
    "start_time": "2022-03-15T03:24:41.173Z"
   },
   {
    "duration": 11,
    "start_time": "2022-03-15T03:24:41.207Z"
   },
   {
    "duration": 4,
    "start_time": "2022-03-15T03:24:41.220Z"
   },
   {
    "duration": 10,
    "start_time": "2022-03-15T03:24:41.225Z"
   },
   {
    "duration": 14,
    "start_time": "2022-03-15T03:24:41.236Z"
   },
   {
    "duration": 8,
    "start_time": "2022-03-15T03:24:41.251Z"
   },
   {
    "duration": 46,
    "start_time": "2022-03-15T03:24:41.261Z"
   },
   {
    "duration": 19,
    "start_time": "2022-03-15T03:24:41.309Z"
   },
   {
    "duration": 29,
    "start_time": "2022-03-15T03:24:41.329Z"
   },
   {
    "duration": 5,
    "start_time": "2022-03-15T03:24:41.359Z"
   },
   {
    "duration": 39,
    "start_time": "2022-03-15T03:24:41.365Z"
   },
   {
    "duration": 10,
    "start_time": "2022-03-15T03:24:41.406Z"
   },
   {
    "duration": 4,
    "start_time": "2022-03-15T03:24:41.419Z"
   },
   {
    "duration": 11,
    "start_time": "2022-03-15T03:24:41.424Z"
   },
   {
    "duration": 7,
    "start_time": "2022-03-15T03:24:41.437Z"
   },
   {
    "duration": 21,
    "start_time": "2022-03-15T03:24:41.445Z"
   },
   {
    "duration": 3,
    "start_time": "2022-03-15T03:24:41.468Z"
   },
   {
    "duration": 51,
    "start_time": "2022-03-15T03:24:41.472Z"
   },
   {
    "duration": 26,
    "start_time": "2022-03-15T03:24:41.525Z"
   },
   {
    "duration": 58,
    "start_time": "2022-03-15T03:24:41.553Z"
   },
   {
    "duration": 27,
    "start_time": "2022-03-15T03:24:41.613Z"
   },
   {
    "duration": 31,
    "start_time": "2022-03-15T03:24:41.642Z"
   },
   {
    "duration": 55,
    "start_time": "2022-03-15T03:24:41.675Z"
   },
   {
    "duration": 5,
    "start_time": "2022-03-15T03:24:41.732Z"
   },
   {
    "duration": 6,
    "start_time": "2022-03-15T03:24:41.739Z"
   },
   {
    "duration": 8,
    "start_time": "2022-03-15T03:24:41.747Z"
   },
   {
    "duration": 6,
    "start_time": "2022-03-15T03:24:41.756Z"
   },
   {
    "duration": 356,
    "start_time": "2022-03-15T03:28:11.345Z"
   },
   {
    "duration": 66,
    "start_time": "2022-03-15T03:28:28.585Z"
   },
   {
    "duration": 9,
    "start_time": "2022-03-15T03:28:28.652Z"
   },
   {
    "duration": 8,
    "start_time": "2022-03-15T03:28:28.663Z"
   },
   {
    "duration": 4,
    "start_time": "2022-03-15T03:28:28.673Z"
   },
   {
    "duration": 26,
    "start_time": "2022-03-15T03:28:28.679Z"
   },
   {
    "duration": 5,
    "start_time": "2022-03-15T03:28:28.707Z"
   },
   {
    "duration": 4,
    "start_time": "2022-03-15T03:28:28.714Z"
   },
   {
    "duration": 3,
    "start_time": "2022-03-15T03:28:28.720Z"
   },
   {
    "duration": 21,
    "start_time": "2022-03-15T03:28:28.726Z"
   },
   {
    "duration": 5,
    "start_time": "2022-03-15T03:28:28.748Z"
   },
   {
    "duration": 9,
    "start_time": "2022-03-15T03:28:28.755Z"
   },
   {
    "duration": 54,
    "start_time": "2022-03-15T03:28:28.766Z"
   },
   {
    "duration": 4,
    "start_time": "2022-03-15T03:28:28.822Z"
   },
   {
    "duration": 7,
    "start_time": "2022-03-15T03:28:28.828Z"
   },
   {
    "duration": 6,
    "start_time": "2022-03-15T03:28:28.837Z"
   },
   {
    "duration": 11,
    "start_time": "2022-03-15T03:28:28.845Z"
   },
   {
    "duration": 49,
    "start_time": "2022-03-15T03:28:28.859Z"
   },
   {
    "duration": 5,
    "start_time": "2022-03-15T03:28:28.910Z"
   },
   {
    "duration": 6,
    "start_time": "2022-03-15T03:28:28.916Z"
   },
   {
    "duration": 6,
    "start_time": "2022-03-15T03:28:28.924Z"
   },
   {
    "duration": 7,
    "start_time": "2022-03-15T03:28:28.931Z"
   },
   {
    "duration": 11,
    "start_time": "2022-03-15T03:28:28.940Z"
   },
   {
    "duration": 9,
    "start_time": "2022-03-15T03:28:28.953Z"
   },
   {
    "duration": 9,
    "start_time": "2022-03-15T03:28:28.963Z"
   },
   {
    "duration": 35,
    "start_time": "2022-03-15T03:28:28.973Z"
   },
   {
    "duration": 26,
    "start_time": "2022-03-15T03:28:29.009Z"
   },
   {
    "duration": 4,
    "start_time": "2022-03-15T03:28:29.037Z"
   },
   {
    "duration": 9,
    "start_time": "2022-03-15T03:28:29.042Z"
   },
   {
    "duration": 13,
    "start_time": "2022-03-15T03:28:29.053Z"
   },
   {
    "duration": 6,
    "start_time": "2022-03-15T03:28:29.068Z"
   },
   {
    "duration": 11,
    "start_time": "2022-03-15T03:28:29.076Z"
   },
   {
    "duration": 22,
    "start_time": "2022-03-15T03:28:29.088Z"
   },
   {
    "duration": 7,
    "start_time": "2022-03-15T03:28:29.112Z"
   },
   {
    "duration": 15,
    "start_time": "2022-03-15T03:28:29.122Z"
   },
   {
    "duration": 18,
    "start_time": "2022-03-15T03:28:29.139Z"
   },
   {
    "duration": 48,
    "start_time": "2022-03-15T03:28:29.159Z"
   },
   {
    "duration": 5,
    "start_time": "2022-03-15T03:28:29.209Z"
   },
   {
    "duration": 11,
    "start_time": "2022-03-15T03:28:34.745Z"
   },
   {
    "duration": 12,
    "start_time": "2022-03-15T03:28:41.067Z"
   },
   {
    "duration": 53,
    "start_time": "2022-03-15T03:29:05.375Z"
   },
   {
    "duration": 9,
    "start_time": "2022-03-15T03:29:05.430Z"
   },
   {
    "duration": 8,
    "start_time": "2022-03-15T03:29:05.441Z"
   },
   {
    "duration": 5,
    "start_time": "2022-03-15T03:29:05.450Z"
   },
   {
    "duration": 7,
    "start_time": "2022-03-15T03:29:05.456Z"
   },
   {
    "duration": 38,
    "start_time": "2022-03-15T03:29:05.464Z"
   },
   {
    "duration": 6,
    "start_time": "2022-03-15T03:29:05.503Z"
   },
   {
    "duration": 3,
    "start_time": "2022-03-15T03:29:05.512Z"
   },
   {
    "duration": 18,
    "start_time": "2022-03-15T03:29:05.517Z"
   },
   {
    "duration": 5,
    "start_time": "2022-03-15T03:29:05.536Z"
   },
   {
    "duration": 14,
    "start_time": "2022-03-15T03:29:05.542Z"
   },
   {
    "duration": 18,
    "start_time": "2022-03-15T03:29:05.558Z"
   },
   {
    "duration": 4,
    "start_time": "2022-03-15T03:29:05.601Z"
   },
   {
    "duration": 9,
    "start_time": "2022-03-15T03:29:05.607Z"
   },
   {
    "duration": 9,
    "start_time": "2022-03-15T03:29:05.618Z"
   },
   {
    "duration": 10,
    "start_time": "2022-03-15T03:29:05.628Z"
   },
   {
    "duration": 13,
    "start_time": "2022-03-15T03:29:05.639Z"
   },
   {
    "duration": 4,
    "start_time": "2022-03-15T03:29:05.654Z"
   },
   {
    "duration": 10,
    "start_time": "2022-03-15T03:29:05.659Z"
   },
   {
    "duration": 31,
    "start_time": "2022-03-15T03:29:05.670Z"
   },
   {
    "duration": 5,
    "start_time": "2022-03-15T03:29:05.702Z"
   },
   {
    "duration": 8,
    "start_time": "2022-03-15T03:29:05.708Z"
   },
   {
    "duration": 7,
    "start_time": "2022-03-15T03:29:05.719Z"
   },
   {
    "duration": 7,
    "start_time": "2022-03-15T03:29:05.728Z"
   },
   {
    "duration": 10,
    "start_time": "2022-03-15T03:29:05.737Z"
   },
   {
    "duration": 30,
    "start_time": "2022-03-15T03:29:05.748Z"
   },
   {
    "duration": 22,
    "start_time": "2022-03-15T03:29:05.779Z"
   },
   {
    "duration": 6,
    "start_time": "2022-03-15T03:29:05.802Z"
   },
   {
    "duration": 13,
    "start_time": "2022-03-15T03:29:05.810Z"
   },
   {
    "duration": 7,
    "start_time": "2022-03-15T03:29:05.824Z"
   },
   {
    "duration": 11,
    "start_time": "2022-03-15T03:29:05.832Z"
   },
   {
    "duration": 14,
    "start_time": "2022-03-15T03:29:05.844Z"
   },
   {
    "duration": 8,
    "start_time": "2022-03-15T03:29:05.859Z"
   },
   {
    "duration": 34,
    "start_time": "2022-03-15T03:29:05.868Z"
   },
   {
    "duration": 17,
    "start_time": "2022-03-15T03:29:05.903Z"
   },
   {
    "duration": 25,
    "start_time": "2022-03-15T03:29:05.921Z"
   },
   {
    "duration": 4,
    "start_time": "2022-03-15T03:29:05.948Z"
   },
   {
    "duration": 10,
    "start_time": "2022-03-15T03:29:05.954Z"
   },
   {
    "duration": 37,
    "start_time": "2022-03-15T03:29:05.965Z"
   },
   {
    "duration": 5,
    "start_time": "2022-03-15T03:29:06.003Z"
   },
   {
    "duration": 11,
    "start_time": "2022-03-15T03:29:06.009Z"
   },
   {
    "duration": 5,
    "start_time": "2022-03-15T03:29:06.022Z"
   },
   {
    "duration": 22,
    "start_time": "2022-03-15T03:29:06.029Z"
   },
   {
    "duration": 3,
    "start_time": "2022-03-15T03:29:06.052Z"
   },
   {
    "duration": 47,
    "start_time": "2022-03-15T03:29:06.057Z"
   },
   {
    "duration": 24,
    "start_time": "2022-03-15T03:29:06.106Z"
   },
   {
    "duration": 36,
    "start_time": "2022-03-15T03:29:06.134Z"
   },
   {
    "duration": 45,
    "start_time": "2022-03-15T03:29:06.173Z"
   },
   {
    "duration": 29,
    "start_time": "2022-03-15T03:29:06.220Z"
   },
   {
    "duration": 28,
    "start_time": "2022-03-15T03:29:06.250Z"
   },
   {
    "duration": 25,
    "start_time": "2022-03-15T03:29:06.279Z"
   },
   {
    "duration": 6,
    "start_time": "2022-03-15T03:29:06.305Z"
   },
   {
    "duration": 5,
    "start_time": "2022-03-15T03:29:06.312Z"
   },
   {
    "duration": 5,
    "start_time": "2022-03-15T03:29:06.318Z"
   },
   {
    "duration": 261,
    "start_time": "2022-03-15T14:48:39.275Z"
   },
   {
    "duration": 682,
    "start_time": "2022-03-15T14:48:41.909Z"
   },
   {
    "duration": 13,
    "start_time": "2022-03-15T14:48:42.593Z"
   },
   {
    "duration": 11,
    "start_time": "2022-03-15T14:48:42.608Z"
   },
   {
    "duration": 9,
    "start_time": "2022-03-15T14:48:42.621Z"
   },
   {
    "duration": 10,
    "start_time": "2022-03-15T14:48:42.631Z"
   },
   {
    "duration": 7,
    "start_time": "2022-03-15T14:48:42.643Z"
   },
   {
    "duration": 8,
    "start_time": "2022-03-15T14:48:42.652Z"
   },
   {
    "duration": 9,
    "start_time": "2022-03-15T14:48:42.662Z"
   },
   {
    "duration": 24,
    "start_time": "2022-03-15T14:48:42.704Z"
   },
   {
    "duration": 5,
    "start_time": "2022-03-15T14:48:42.731Z"
   },
   {
    "duration": 21,
    "start_time": "2022-03-15T14:48:42.738Z"
   },
   {
    "duration": 48,
    "start_time": "2022-03-15T14:48:42.761Z"
   },
   {
    "duration": 5,
    "start_time": "2022-03-15T14:48:42.811Z"
   },
   {
    "duration": 17,
    "start_time": "2022-03-15T14:48:42.818Z"
   },
   {
    "duration": 15,
    "start_time": "2022-03-15T14:48:42.837Z"
   },
   {
    "duration": 18,
    "start_time": "2022-03-15T14:48:42.854Z"
   },
   {
    "duration": 38,
    "start_time": "2022-03-15T14:48:42.874Z"
   },
   {
    "duration": 4,
    "start_time": "2022-03-15T14:48:42.914Z"
   },
   {
    "duration": 29,
    "start_time": "2022-03-15T14:48:42.920Z"
   },
   {
    "duration": 15,
    "start_time": "2022-03-15T14:48:42.950Z"
   },
   {
    "duration": 18,
    "start_time": "2022-03-15T14:48:42.967Z"
   },
   {
    "duration": 19,
    "start_time": "2022-03-15T14:48:42.987Z"
   },
   {
    "duration": 11,
    "start_time": "2022-03-15T14:48:43.009Z"
   },
   {
    "duration": 14,
    "start_time": "2022-03-15T14:48:43.022Z"
   },
   {
    "duration": 16,
    "start_time": "2022-03-15T14:48:43.038Z"
   },
   {
    "duration": 41,
    "start_time": "2022-03-15T14:48:43.056Z"
   },
   {
    "duration": 5,
    "start_time": "2022-03-15T14:48:43.101Z"
   },
   {
    "duration": 15,
    "start_time": "2022-03-15T14:48:43.108Z"
   },
   {
    "duration": 19,
    "start_time": "2022-03-15T14:48:43.125Z"
   },
   {
    "duration": 13,
    "start_time": "2022-03-15T14:48:43.147Z"
   },
   {
    "duration": 11,
    "start_time": "2022-03-15T14:48:43.162Z"
   },
   {
    "duration": 27,
    "start_time": "2022-03-15T14:48:43.175Z"
   },
   {
    "duration": 19,
    "start_time": "2022-03-15T14:48:43.204Z"
   },
   {
    "duration": 27,
    "start_time": "2022-03-15T14:48:43.225Z"
   },
   {
    "duration": 34,
    "start_time": "2022-03-15T14:48:43.253Z"
   },
   {
    "duration": 37,
    "start_time": "2022-03-15T14:48:43.289Z"
   },
   {
    "duration": 6,
    "start_time": "2022-03-15T14:48:43.329Z"
   },
   {
    "duration": 15,
    "start_time": "2022-03-15T14:48:43.337Z"
   },
   {
    "duration": 17,
    "start_time": "2022-03-15T14:48:43.353Z"
   },
   {
    "duration": 9,
    "start_time": "2022-03-15T14:48:43.372Z"
   },
   {
    "duration": 30,
    "start_time": "2022-03-15T14:48:43.383Z"
   },
   {
    "duration": 7,
    "start_time": "2022-03-15T14:48:43.414Z"
   },
   {
    "duration": 24,
    "start_time": "2022-03-15T14:48:43.423Z"
   },
   {
    "duration": 5,
    "start_time": "2022-03-15T14:48:43.449Z"
   },
   {
    "duration": 46,
    "start_time": "2022-03-15T14:48:43.456Z"
   },
   {
    "duration": 29,
    "start_time": "2022-03-15T14:48:43.505Z"
   },
   {
    "duration": 33,
    "start_time": "2022-03-15T14:48:43.537Z"
   },
   {
    "duration": 256,
    "start_time": "2022-03-15T14:48:44.775Z"
   },
   {
    "duration": 9,
    "start_time": "2022-03-15T14:49:06.188Z"
   },
   {
    "duration": 18,
    "start_time": "2022-03-15T14:49:37.017Z"
   }
  ],
  "kernelspec": {
   "display_name": "Python 3 (ipykernel)",
   "language": "python",
   "name": "python3"
  },
  "language_info": {
   "codemirror_mode": {
    "name": "ipython",
    "version": 3
   },
   "file_extension": ".py",
   "mimetype": "text/x-python",
   "name": "python",
   "nbconvert_exporter": "python",
   "pygments_lexer": "ipython3",
   "version": "3.9.5"
  },
  "toc": {
   "base_numbering": 1,
   "nav_menu": {},
   "number_sections": true,
   "sideBar": true,
   "skip_h1_title": true,
   "title_cell": "Table of Contents",
   "title_sidebar": "Contents",
   "toc_cell": false,
   "toc_position": {
    "height": "calc(100% - 180px)",
    "left": "10px",
    "top": "150px",
    "width": "165px"
   },
   "toc_section_display": true,
   "toc_window_display": true
  }
 },
 "nbformat": 4,
 "nbformat_minor": 5
}
