{
 "cells": [
  {
   "cell_type": "markdown",
   "metadata": {},
   "source": [
    "# Определение стоимости автомобилей"
   ]
  },
  {
   "cell_type": "markdown",
   "metadata": {},
   "source": [
    "Сервис по продаже автомобилей с пробегом «Не бит, не крашен» разрабатывает приложение для привлечения новых клиентов. В нём можно быстро узнать рыночную стоимость своего автомобиля. В вашем распоряжении исторические данные: технические характеристики, комплектации и цены автомобилей. Вам нужно построить модель для определения стоимости. \n",
    "\n",
    "Заказчику важны:\n",
    "\n",
    "- качество предсказания;\n",
    "- скорость предсказания;\n",
    "- время обучения."
   ]
  },
  {
   "cell_type": "markdown",
   "metadata": {},
   "source": [
    "## Подготовка данных"
   ]
  },
  {
   "cell_type": "code",
   "execution_count": 1,
   "metadata": {},
   "outputs": [],
   "source": [
    "import pandas as pd\n",
    "import seaborn as sns\n",
    "from catboost import CatBoostRegressor\n",
    "from lightgbm import LGBMRegressor\n",
    "from sklearn.model_selection import GridSearchCV\n",
    "from sklearn.metrics import mean_squared_error\n",
    "from sklearn.model_selection import train_test_split\n",
    "from sklearn.metrics import mean_squared_error\n",
    "from sklearn.linear_model import LinearRegression\n",
    "from sklearn.dummy import DummyRegressor\n",
    "from sklearn.preprocessing import OneHotEncoder,RobustScaler\n",
    "import time\n"
   ]
  },
  {
   "cell_type": "code",
   "execution_count": 2,
   "metadata": {},
   "outputs": [],
   "source": [
    "pd.options.display.float_format = '{:,.2f}'.format"
   ]
  },
  {
   "cell_type": "markdown",
   "metadata": {},
   "source": [
    "Обзор датасета\n",
    "\n",
    "Признаки\n",
    "* DateCrawled — дата скачивания анкеты из базы\n",
    "* VehicleType — тип автомобильного кузова\n",
    "* RegistrationYear — год регистрации автомобиля\n",
    "* Gearbox — тип коробки передач\n",
    "* Power — мощность (л. с.)\n",
    "* Model — модель автомобиля\n",
    "* Kilometer — пробег (км)\n",
    "* RegistrationMonth — месяц регистрации автомобиля\n",
    "* FuelType — тип топлива\n",
    "* Brand — марка автомобиля\n",
    "* Repaired — была машина в ремонте или нет\n",
    "* DateCreated — дата создания анкеты\n",
    "* NumberOfPictures — количество фотографий автомобиля\n",
    "* PostalCode — почтовый индекс владельца анкеты (пользователя)\n",
    "* LastSeen — дата последней активности пользователя\n",
    "\n",
    "Целевой признак\n",
    "* Price — цена (евро)"
   ]
  },
  {
   "cell_type": "markdown",
   "metadata": {},
   "source": [
    "Загрузка данных"
   ]
  },
  {
   "cell_type": "code",
   "execution_count": 3,
   "metadata": {},
   "outputs": [],
   "source": [
    "df_cars = pd.read_csv('/datasets/autos.csv')"
   ]
  },
  {
   "cell_type": "markdown",
   "metadata": {},
   "source": [
    "Обзор датафрейма"
   ]
  },
  {
   "cell_type": "code",
   "execution_count": 4,
   "metadata": {
    "scrolled": true
   },
   "outputs": [
    {
     "data": {
      "text/html": [
       "<div>\n",
       "<style scoped>\n",
       "    .dataframe tbody tr th:only-of-type {\n",
       "        vertical-align: middle;\n",
       "    }\n",
       "\n",
       "    .dataframe tbody tr th {\n",
       "        vertical-align: top;\n",
       "    }\n",
       "\n",
       "    .dataframe thead th {\n",
       "        text-align: right;\n",
       "    }\n",
       "</style>\n",
       "<table border=\"1\" class=\"dataframe\">\n",
       "  <thead>\n",
       "    <tr style=\"text-align: right;\">\n",
       "      <th></th>\n",
       "      <th>DateCrawled</th>\n",
       "      <th>Price</th>\n",
       "      <th>VehicleType</th>\n",
       "      <th>RegistrationYear</th>\n",
       "      <th>Gearbox</th>\n",
       "      <th>Power</th>\n",
       "      <th>Model</th>\n",
       "      <th>Kilometer</th>\n",
       "      <th>RegistrationMonth</th>\n",
       "      <th>FuelType</th>\n",
       "      <th>Brand</th>\n",
       "      <th>Repaired</th>\n",
       "      <th>DateCreated</th>\n",
       "      <th>NumberOfPictures</th>\n",
       "      <th>PostalCode</th>\n",
       "      <th>LastSeen</th>\n",
       "    </tr>\n",
       "  </thead>\n",
       "  <tbody>\n",
       "    <tr>\n",
       "      <th>0</th>\n",
       "      <td>2016-03-24 11:52:17</td>\n",
       "      <td>480</td>\n",
       "      <td>NaN</td>\n",
       "      <td>1993</td>\n",
       "      <td>manual</td>\n",
       "      <td>0</td>\n",
       "      <td>golf</td>\n",
       "      <td>150000</td>\n",
       "      <td>0</td>\n",
       "      <td>petrol</td>\n",
       "      <td>volkswagen</td>\n",
       "      <td>NaN</td>\n",
       "      <td>2016-03-24 00:00:00</td>\n",
       "      <td>0</td>\n",
       "      <td>70435</td>\n",
       "      <td>2016-04-07 03:16:57</td>\n",
       "    </tr>\n",
       "    <tr>\n",
       "      <th>1</th>\n",
       "      <td>2016-03-24 10:58:45</td>\n",
       "      <td>18300</td>\n",
       "      <td>coupe</td>\n",
       "      <td>2011</td>\n",
       "      <td>manual</td>\n",
       "      <td>190</td>\n",
       "      <td>NaN</td>\n",
       "      <td>125000</td>\n",
       "      <td>5</td>\n",
       "      <td>gasoline</td>\n",
       "      <td>audi</td>\n",
       "      <td>yes</td>\n",
       "      <td>2016-03-24 00:00:00</td>\n",
       "      <td>0</td>\n",
       "      <td>66954</td>\n",
       "      <td>2016-04-07 01:46:50</td>\n",
       "    </tr>\n",
       "    <tr>\n",
       "      <th>2</th>\n",
       "      <td>2016-03-14 12:52:21</td>\n",
       "      <td>9800</td>\n",
       "      <td>suv</td>\n",
       "      <td>2004</td>\n",
       "      <td>auto</td>\n",
       "      <td>163</td>\n",
       "      <td>grand</td>\n",
       "      <td>125000</td>\n",
       "      <td>8</td>\n",
       "      <td>gasoline</td>\n",
       "      <td>jeep</td>\n",
       "      <td>NaN</td>\n",
       "      <td>2016-03-14 00:00:00</td>\n",
       "      <td>0</td>\n",
       "      <td>90480</td>\n",
       "      <td>2016-04-05 12:47:46</td>\n",
       "    </tr>\n",
       "    <tr>\n",
       "      <th>3</th>\n",
       "      <td>2016-03-17 16:54:04</td>\n",
       "      <td>1500</td>\n",
       "      <td>small</td>\n",
       "      <td>2001</td>\n",
       "      <td>manual</td>\n",
       "      <td>75</td>\n",
       "      <td>golf</td>\n",
       "      <td>150000</td>\n",
       "      <td>6</td>\n",
       "      <td>petrol</td>\n",
       "      <td>volkswagen</td>\n",
       "      <td>no</td>\n",
       "      <td>2016-03-17 00:00:00</td>\n",
       "      <td>0</td>\n",
       "      <td>91074</td>\n",
       "      <td>2016-03-17 17:40:17</td>\n",
       "    </tr>\n",
       "    <tr>\n",
       "      <th>4</th>\n",
       "      <td>2016-03-31 17:25:20</td>\n",
       "      <td>3600</td>\n",
       "      <td>small</td>\n",
       "      <td>2008</td>\n",
       "      <td>manual</td>\n",
       "      <td>69</td>\n",
       "      <td>fabia</td>\n",
       "      <td>90000</td>\n",
       "      <td>7</td>\n",
       "      <td>gasoline</td>\n",
       "      <td>skoda</td>\n",
       "      <td>no</td>\n",
       "      <td>2016-03-31 00:00:00</td>\n",
       "      <td>0</td>\n",
       "      <td>60437</td>\n",
       "      <td>2016-04-06 10:17:21</td>\n",
       "    </tr>\n",
       "  </tbody>\n",
       "</table>\n",
       "</div>"
      ],
      "text/plain": [
       "           DateCrawled  Price VehicleType  RegistrationYear Gearbox  Power  \\\n",
       "0  2016-03-24 11:52:17    480         NaN              1993  manual      0   \n",
       "1  2016-03-24 10:58:45  18300       coupe              2011  manual    190   \n",
       "2  2016-03-14 12:52:21   9800         suv              2004    auto    163   \n",
       "3  2016-03-17 16:54:04   1500       small              2001  manual     75   \n",
       "4  2016-03-31 17:25:20   3600       small              2008  manual     69   \n",
       "\n",
       "   Model  Kilometer  RegistrationMonth  FuelType       Brand Repaired  \\\n",
       "0   golf     150000                  0    petrol  volkswagen      NaN   \n",
       "1    NaN     125000                  5  gasoline        audi      yes   \n",
       "2  grand     125000                  8  gasoline        jeep      NaN   \n",
       "3   golf     150000                  6    petrol  volkswagen       no   \n",
       "4  fabia      90000                  7  gasoline       skoda       no   \n",
       "\n",
       "           DateCreated  NumberOfPictures  PostalCode             LastSeen  \n",
       "0  2016-03-24 00:00:00                 0       70435  2016-04-07 03:16:57  \n",
       "1  2016-03-24 00:00:00                 0       66954  2016-04-07 01:46:50  \n",
       "2  2016-03-14 00:00:00                 0       90480  2016-04-05 12:47:46  \n",
       "3  2016-03-17 00:00:00                 0       91074  2016-03-17 17:40:17  \n",
       "4  2016-03-31 00:00:00                 0       60437  2016-04-06 10:17:21  "
      ]
     },
     "execution_count": 4,
     "metadata": {},
     "output_type": "execute_result"
    }
   ],
   "source": [
    "df_cars.head()"
   ]
  },
  {
   "cell_type": "markdown",
   "metadata": {},
   "source": [
    "Просмотр общей информации"
   ]
  },
  {
   "cell_type": "code",
   "execution_count": 5,
   "metadata": {
    "scrolled": false
   },
   "outputs": [
    {
     "name": "stdout",
     "output_type": "stream",
     "text": [
      "<class 'pandas.core.frame.DataFrame'>\n",
      "RangeIndex: 354369 entries, 0 to 354368\n",
      "Data columns (total 16 columns):\n",
      " #   Column             Non-Null Count   Dtype \n",
      "---  ------             --------------   ----- \n",
      " 0   DateCrawled        354369 non-null  object\n",
      " 1   Price              354369 non-null  int64 \n",
      " 2   VehicleType        316879 non-null  object\n",
      " 3   RegistrationYear   354369 non-null  int64 \n",
      " 4   Gearbox            334536 non-null  object\n",
      " 5   Power              354369 non-null  int64 \n",
      " 6   Model              334664 non-null  object\n",
      " 7   Kilometer          354369 non-null  int64 \n",
      " 8   RegistrationMonth  354369 non-null  int64 \n",
      " 9   FuelType           321474 non-null  object\n",
      " 10  Brand              354369 non-null  object\n",
      " 11  Repaired           283215 non-null  object\n",
      " 12  DateCreated        354369 non-null  object\n",
      " 13  NumberOfPictures   354369 non-null  int64 \n",
      " 14  PostalCode         354369 non-null  int64 \n",
      " 15  LastSeen           354369 non-null  object\n",
      "dtypes: int64(7), object(9)\n",
      "memory usage: 43.3+ MB\n"
     ]
    }
   ],
   "source": [
    "df_cars.info()"
   ]
  },
  {
   "cell_type": "markdown",
   "metadata": {},
   "source": [
    "* Датасет состоит из категориальных и вещественных признаков\n",
    "* При предварительном просмотре бросается в глаза нулевая мощьность \n",
    "* Присутствуют пропуски"
   ]
  },
  {
   "cell_type": "markdown",
   "metadata": {},
   "source": [
    "Приведение названий признаков к змеиному регистру"
   ]
  },
  {
   "cell_type": "code",
   "execution_count": 6,
   "metadata": {},
   "outputs": [],
   "source": [
    "df_cars = df_cars.rename(columns = {'DateCrawled': 'date_crawled','Price' :'price','VehicleType':'vehicle_type',\n",
    "                                    'RegistrationYear':'registration_year','Gearbox':'gear_box','Power':'power',\n",
    "                                    'Model' : 'model', 'Kilometer' : 'kilometer','RegistrationMonth':'registration_month',\n",
    "                                    'FuelType' : 'fuel_type','Brand' : 'brand','Repaired': 'repaired','DateCreated' : 'date_created',\n",
    "                                    'NumberOfPictures' : 'number_of_pictures','PostalCode':'postal_code','LastSeen' : 'last_seen'\n",
    "                                   })"
   ]
  },
  {
   "cell_type": "markdown",
   "metadata": {},
   "source": [
    "Доля пропусков"
   ]
  },
  {
   "cell_type": "code",
   "execution_count": 7,
   "metadata": {},
   "outputs": [
    {
     "data": {
      "text/html": [
       "<div>\n",
       "<style scoped>\n",
       "    .dataframe tbody tr th:only-of-type {\n",
       "        vertical-align: middle;\n",
       "    }\n",
       "\n",
       "    .dataframe tbody tr th {\n",
       "        vertical-align: top;\n",
       "    }\n",
       "\n",
       "    .dataframe thead th {\n",
       "        text-align: right;\n",
       "    }\n",
       "</style>\n",
       "<table border=\"1\" class=\"dataframe\">\n",
       "  <thead>\n",
       "    <tr style=\"text-align: right;\">\n",
       "      <th></th>\n",
       "      <th>space</th>\n",
       "    </tr>\n",
       "  </thead>\n",
       "  <tbody>\n",
       "    <tr>\n",
       "      <th>vehicle_type</th>\n",
       "      <td>10.58</td>\n",
       "    </tr>\n",
       "    <tr>\n",
       "      <th>gear_box</th>\n",
       "      <td>5.60</td>\n",
       "    </tr>\n",
       "    <tr>\n",
       "      <th>model</th>\n",
       "      <td>5.56</td>\n",
       "    </tr>\n",
       "    <tr>\n",
       "      <th>fuel_type</th>\n",
       "      <td>9.28</td>\n",
       "    </tr>\n",
       "    <tr>\n",
       "      <th>repaired</th>\n",
       "      <td>20.08</td>\n",
       "    </tr>\n",
       "  </tbody>\n",
       "</table>\n",
       "</div>"
      ],
      "text/plain": [
       "              space\n",
       "vehicle_type  10.58\n",
       "gear_box       5.60\n",
       "model          5.56\n",
       "fuel_type      9.28\n",
       "repaired      20.08"
      ]
     },
     "execution_count": 7,
     "metadata": {},
     "output_type": "execute_result"
    }
   ],
   "source": [
    "df_cars.isna().sum().to_frame().rename(columns = {0:'space'}).query('space>0')/len(df_cars)*100"
   ]
  },
  {
   "cell_type": "markdown",
   "metadata": {},
   "source": [
    "Просмотр стастистик "
   ]
  },
  {
   "cell_type": "code",
   "execution_count": 8,
   "metadata": {
    "scrolled": false
   },
   "outputs": [
    {
     "data": {
      "text/html": [
       "<div>\n",
       "<style scoped>\n",
       "    .dataframe tbody tr th:only-of-type {\n",
       "        vertical-align: middle;\n",
       "    }\n",
       "\n",
       "    .dataframe tbody tr th {\n",
       "        vertical-align: top;\n",
       "    }\n",
       "\n",
       "    .dataframe thead th {\n",
       "        text-align: right;\n",
       "    }\n",
       "</style>\n",
       "<table border=\"1\" class=\"dataframe\">\n",
       "  <thead>\n",
       "    <tr style=\"text-align: right;\">\n",
       "      <th></th>\n",
       "      <th>price</th>\n",
       "      <th>registration_year</th>\n",
       "      <th>power</th>\n",
       "      <th>kilometer</th>\n",
       "      <th>registration_month</th>\n",
       "      <th>number_of_pictures</th>\n",
       "      <th>postal_code</th>\n",
       "    </tr>\n",
       "  </thead>\n",
       "  <tbody>\n",
       "    <tr>\n",
       "      <th>count</th>\n",
       "      <td>354,369.00</td>\n",
       "      <td>354,369.00</td>\n",
       "      <td>354,369.00</td>\n",
       "      <td>354,369.00</td>\n",
       "      <td>354,369.00</td>\n",
       "      <td>354,369.00</td>\n",
       "      <td>354,369.00</td>\n",
       "    </tr>\n",
       "    <tr>\n",
       "      <th>mean</th>\n",
       "      <td>4,416.66</td>\n",
       "      <td>2,004.23</td>\n",
       "      <td>110.09</td>\n",
       "      <td>128,211.17</td>\n",
       "      <td>5.71</td>\n",
       "      <td>0.00</td>\n",
       "      <td>50,508.69</td>\n",
       "    </tr>\n",
       "    <tr>\n",
       "      <th>std</th>\n",
       "      <td>4,514.16</td>\n",
       "      <td>90.23</td>\n",
       "      <td>189.85</td>\n",
       "      <td>37,905.34</td>\n",
       "      <td>3.73</td>\n",
       "      <td>0.00</td>\n",
       "      <td>25,783.10</td>\n",
       "    </tr>\n",
       "    <tr>\n",
       "      <th>min</th>\n",
       "      <td>0.00</td>\n",
       "      <td>1,000.00</td>\n",
       "      <td>0.00</td>\n",
       "      <td>5,000.00</td>\n",
       "      <td>0.00</td>\n",
       "      <td>0.00</td>\n",
       "      <td>1,067.00</td>\n",
       "    </tr>\n",
       "    <tr>\n",
       "      <th>25%</th>\n",
       "      <td>1,050.00</td>\n",
       "      <td>1,999.00</td>\n",
       "      <td>69.00</td>\n",
       "      <td>125,000.00</td>\n",
       "      <td>3.00</td>\n",
       "      <td>0.00</td>\n",
       "      <td>30,165.00</td>\n",
       "    </tr>\n",
       "    <tr>\n",
       "      <th>50%</th>\n",
       "      <td>2,700.00</td>\n",
       "      <td>2,003.00</td>\n",
       "      <td>105.00</td>\n",
       "      <td>150,000.00</td>\n",
       "      <td>6.00</td>\n",
       "      <td>0.00</td>\n",
       "      <td>49,413.00</td>\n",
       "    </tr>\n",
       "    <tr>\n",
       "      <th>75%</th>\n",
       "      <td>6,400.00</td>\n",
       "      <td>2,008.00</td>\n",
       "      <td>143.00</td>\n",
       "      <td>150,000.00</td>\n",
       "      <td>9.00</td>\n",
       "      <td>0.00</td>\n",
       "      <td>71,083.00</td>\n",
       "    </tr>\n",
       "    <tr>\n",
       "      <th>max</th>\n",
       "      <td>20,000.00</td>\n",
       "      <td>9,999.00</td>\n",
       "      <td>20,000.00</td>\n",
       "      <td>150,000.00</td>\n",
       "      <td>12.00</td>\n",
       "      <td>0.00</td>\n",
       "      <td>99,998.00</td>\n",
       "    </tr>\n",
       "  </tbody>\n",
       "</table>\n",
       "</div>"
      ],
      "text/plain": [
       "           price  registration_year      power  kilometer  registration_month  \\\n",
       "count 354,369.00         354,369.00 354,369.00 354,369.00          354,369.00   \n",
       "mean    4,416.66           2,004.23     110.09 128,211.17                5.71   \n",
       "std     4,514.16              90.23     189.85  37,905.34                3.73   \n",
       "min         0.00           1,000.00       0.00   5,000.00                0.00   \n",
       "25%     1,050.00           1,999.00      69.00 125,000.00                3.00   \n",
       "50%     2,700.00           2,003.00     105.00 150,000.00                6.00   \n",
       "75%     6,400.00           2,008.00     143.00 150,000.00                9.00   \n",
       "max    20,000.00           9,999.00  20,000.00 150,000.00               12.00   \n",
       "\n",
       "       number_of_pictures  postal_code  \n",
       "count          354,369.00   354,369.00  \n",
       "mean                 0.00    50,508.69  \n",
       "std                  0.00    25,783.10  \n",
       "min                  0.00     1,067.00  \n",
       "25%                  0.00    30,165.00  \n",
       "50%                  0.00    49,413.00  \n",
       "75%                  0.00    71,083.00  \n",
       "max                  0.00    99,998.00  "
      ]
     },
     "execution_count": 8,
     "metadata": {},
     "output_type": "execute_result"
    }
   ],
   "source": [
    "df_cars.describe()"
   ]
  },
  {
   "cell_type": "markdown",
   "metadata": {},
   "source": [
    "Присутствуют аномалии\n",
    "* Нулевая цена\n",
    "* Невозможные значения годов регистрации\n",
    "* Нулевая мощность\n",
    "* Неправдоподобная мощность \n",
    "* Нулевой месяц регистрации\n",
    "* Все машины имеют ноль картинок"
   ]
  },
  {
   "cell_type": "markdown",
   "metadata": {},
   "source": [
    "**Обзор категориальных признаков**"
   ]
  },
  {
   "cell_type": "markdown",
   "metadata": {},
   "source": [
    "Тип кузова"
   ]
  },
  {
   "cell_type": "code",
   "execution_count": 9,
   "metadata": {},
   "outputs": [
    {
     "data": {
      "text/plain": [
       "<AxesSubplot:title={'center':'Тип автомобильного кузова'}, ylabel='vehicle_type'>"
      ]
     },
     "execution_count": 9,
     "metadata": {},
     "output_type": "execute_result"
    },
    {
     "data": {
      "image/png": "[encoded data removed]",
      "text/plain": [
       "<Figure size 432x288 with 1 Axes>"
      ]
     },
     "metadata": {},
     "output_type": "display_data"
    }
   ],
   "source": [
    "df_cars['vehicle_type'].fillna('unknown').value_counts().plot(kind = 'pie',title = 'Тип автомобильного кузова')"
   ]
  },
  {
   "cell_type": "markdown",
   "metadata": {},
   "source": [
    "Тип коробки передач"
   ]
  },
  {
   "cell_type": "code",
   "execution_count": 10,
   "metadata": {},
   "outputs": [
    {
     "data": {
      "text/plain": [
       "manual    75.70\n",
       "auto      18.71\n",
       "unknown    5.60\n",
       "Name: gear_box, dtype: float64"
      ]
     },
     "execution_count": 10,
     "metadata": {},
     "output_type": "execute_result"
    }
   ],
   "source": [
    "# доля в процентах\n",
    "(df_cars['gear_box'].fillna('unknown').value_counts() / len(df_cars) *100)"
   ]
  },
  {
   "cell_type": "markdown",
   "metadata": {},
   "source": [
    "Модель"
   ]
  },
  {
   "cell_type": "code",
   "execution_count": 11,
   "metadata": {},
   "outputs": [
    {
     "data": {
      "text/plain": [
       "golf       8.25\n",
       "other      6.89\n",
       "3er        5.58\n",
       "unknown    5.56\n",
       "polo       3.69\n",
       "corsa      3.55\n",
       "astra      3.05\n",
       "passat     2.86\n",
       "a4         2.79\n",
       "c_klasse   2.35\n",
       "Name: model, dtype: float64"
      ]
     },
     "execution_count": 11,
     "metadata": {},
     "output_type": "execute_result"
    }
   ],
   "source": [
    "# доля в процентах\n",
    "(df_cars['model'].fillna('unknown').value_counts() / len(df_cars) *100)[:10]"
   ]
  },
  {
   "cell_type": "markdown",
   "metadata": {},
   "source": [
    "Вид топлива"
   ]
  },
  {
   "cell_type": "code",
   "execution_count": 12,
   "metadata": {
    "scrolled": false
   },
   "outputs": [
    {
     "data": {
      "text/plain": [
       "petrol     61.05\n",
       "gasoline   27.86\n",
       "unknown     9.28\n",
       "lpg         1.50\n",
       "cng         0.16\n",
       "hybrid      0.07\n",
       "other       0.06\n",
       "electric    0.03\n",
       "Name: fuel_type, dtype: float64"
      ]
     },
     "execution_count": 12,
     "metadata": {},
     "output_type": "execute_result"
    }
   ],
   "source": [
    "# в процентах\n",
    "df_cars['fuel_type'].fillna('unknown').value_counts() / len(df_cars) *100"
   ]
  },
  {
   "cell_type": "markdown",
   "metadata": {},
   "source": [
    "Была машина в ремонте или нет"
   ]
  },
  {
   "cell_type": "code",
   "execution_count": 13,
   "metadata": {
    "scrolled": false
   },
   "outputs": [
    {
     "data": {
      "text/plain": [
       "no        69.75\n",
       "unknown   20.08\n",
       "yes       10.17\n",
       "Name: repaired, dtype: float64"
      ]
     },
     "execution_count": 13,
     "metadata": {},
     "output_type": "execute_result"
    }
   ],
   "source": [
    "df_cars['repaired'].fillna('unknown').value_counts() / len(df_cars) *100"
   ]
  },
  {
   "cell_type": "markdown",
   "metadata": {},
   "source": [
    "**Обработка аномалий**"
   ]
  },
  {
   "cell_type": "markdown",
   "metadata": {},
   "source": [
    "Цена"
   ]
  },
  {
   "cell_type": "markdown",
   "metadata": {},
   "source": [
    "Удаление всего что меньше 500 евро"
   ]
  },
  {
   "cell_type": "code",
   "execution_count": 14,
   "metadata": {},
   "outputs": [],
   "source": [
    "df_cars = df_cars.query('price > 500')"
   ]
  },
  {
   "cell_type": "markdown",
   "metadata": {},
   "source": [
    "Мощность"
   ]
  },
  {
   "cell_type": "markdown",
   "metadata": {},
   "source": [
    "Удаление машин с неправдоподобными значениями "
   ]
  },
  {
   "cell_type": "code",
   "execution_count": 15,
   "metadata": {
    "scrolled": true
   },
   "outputs": [],
   "source": [
    "df_cars = df_cars.query('power> 50 and power < 1000')\n"
   ]
  },
  {
   "cell_type": "code",
   "execution_count": 16,
   "metadata": {
    "scrolled": false
   },
   "outputs": [],
   "source": [
    "\n",
    "pd.options.mode.chained_assignment = None\n",
    "\n",
    "list_models  = df_cars['model'].unique() \n",
    "# df = df_cars.copy()\n",
    "for model in list_models:\n",
    "    \n",
    "    index_model_power_zero =  df_cars.query('model == @model & power == 0 ').index\n",
    "    mean_power_of_model = df_cars.query('model == @model & power != 0 ')['power'].mean()\n",
    "#     ser = df['power'].loc[ind].copy()\n",
    "#     ser = mean_power_of_model\n",
    "    df_cars['power'].loc[index_model_power_zero] = mean_power_of_model\n",
    "#     print(mean_power_of_model,model)"
   ]
  },
  {
   "cell_type": "markdown",
   "metadata": {},
   "source": [
    "Год регистрации"
   ]
  },
  {
   "cell_type": "markdown",
   "metadata": {},
   "source": [
    "Удаление машин у которых год регистрации меньше года выгрузки анкеты"
   ]
  },
  {
   "cell_type": "code",
   "execution_count": 17,
   "metadata": {},
   "outputs": [],
   "source": [
    "year_date_crawled = pd.to_datetime(df_cars['date_crawled'], format='%Y-%m-%d %H:%M:%S').dt.year\n",
    "compare_registration_year = year_date_crawled < df_cars['registration_year']\n",
    "index_error = compare_registration_year[compare_registration_year == True].index\n"
   ]
  },
  {
   "cell_type": "code",
   "execution_count": 18,
   "metadata": {},
   "outputs": [],
   "source": [
    "df_cars = df_cars.drop(index = index_error)"
   ]
  },
  {
   "cell_type": "code",
   "execution_count": 19,
   "metadata": {},
   "outputs": [
    {
     "name": "stdout",
     "output_type": "stream",
     "text": [
      "<class 'pandas.core.frame.DataFrame'>\n",
      "Int64Index: 267937 entries, 1 to 354368\n",
      "Data columns (total 16 columns):\n",
      " #   Column              Non-Null Count   Dtype  \n",
      "---  ------              --------------   -----  \n",
      " 0   date_crawled        267937 non-null  object \n",
      " 1   price               267937 non-null  int64  \n",
      " 2   vehicle_type        260097 non-null  object \n",
      " 3   registration_year   267937 non-null  int64  \n",
      " 4   gear_box            263935 non-null  object \n",
      " 5   power               267937 non-null  float64\n",
      " 6   model               258974 non-null  object \n",
      " 7   kilometer           267937 non-null  int64  \n",
      " 8   registration_month  267937 non-null  int64  \n",
      " 9   fuel_type           256174 non-null  object \n",
      " 10  brand               267937 non-null  object \n",
      " 11  repaired            233477 non-null  object \n",
      " 12  date_created        267937 non-null  object \n",
      " 13  number_of_pictures  267937 non-null  int64  \n",
      " 14  postal_code         267937 non-null  int64  \n",
      " 15  last_seen           267937 non-null  object \n",
      "dtypes: float64(1), int64(6), object(9)\n",
      "memory usage: 34.8+ MB\n"
     ]
    }
   ],
   "source": [
    "df_cars.info()"
   ]
  },
  {
   "cell_type": "code",
   "execution_count": 20,
   "metadata": {
    "scrolled": true
   },
   "outputs": [
    {
     "data": {
      "text/plain": [
       "<AxesSubplot:title={'center':'Количество представленных автомобилей по годам'}>"
      ]
     },
     "execution_count": 20,
     "metadata": {},
     "output_type": "execute_result"
    },
    {
     "data": {
      "image/png": "[encoded data removed]",
      "text/plain": [
       "<Figure size 1224x360 with 1 Axes>"
      ]
     },
     "metadata": {
      "needs_background": "light"
     },
     "output_type": "display_data"
    }
   ],
   "source": [
    "df_cars.query('registration_year > 1960 & registration_year < 2020')['registration_year'] \\\n",
    "    .value_counts() \\\n",
    "    .to_frame() \\\n",
    "    .sort_index() \\\n",
    "    .plot(kind = 'bar',figsize = (17,5), title = 'Количество представленных автомобилей по годам')"
   ]
  },
  {
   "cell_type": "markdown",
   "metadata": {},
   "source": [
    "Возьмем временной промежуток с 1960 до 2016 включительно"
   ]
  },
  {
   "cell_type": "code",
   "execution_count": 21,
   "metadata": {},
   "outputs": [],
   "source": [
    "df_cars = df_cars.query(' registration_year >= 1965 & registration_year <= 2016')"
   ]
  },
  {
   "cell_type": "markdown",
   "metadata": {},
   "source": [
    "Удаление машин у которых год регистрации меньше года выгрузки анкеты"
   ]
  },
  {
   "cell_type": "markdown",
   "metadata": {},
   "source": [
    "Месяц регистрации"
   ]
  },
  {
   "cell_type": "code",
   "execution_count": 22,
   "metadata": {
    "scrolled": true
   },
   "outputs": [
    {
     "data": {
      "text/plain": [
       "<AxesSubplot:title={'center':'Доля в процентах регистраций каждого месяца'}>"
      ]
     },
     "execution_count": 22,
     "metadata": {},
     "output_type": "execute_result"
    },
    {
     "data": {
      "image/png": "[encoded data removed]",
      "text/plain": [
       "<Figure size 1080x360 with 1 Axes>"
      ]
     },
     "metadata": {
      "needs_background": "light"
     },
     "output_type": "display_data"
    }
   ],
   "source": [
    "(df_cars['registration_month'].fillna('unknown').value_counts() / len(df_cars) *100) \\\n",
    "    .to_frame() \\\n",
    "    .sort_index() \\\n",
    "    .plot(kind = 'bar', title = 'Доля в процентах регистраций каждого месяца',figsize =(15,5),rot = 1)"
   ]
  },
  {
   "cell_type": "markdown",
   "metadata": {},
   "source": [
    "Требуется уточнение что такое нулевой месяц, возможно неустановленный месяц  "
   ]
  },
  {
   "cell_type": "markdown",
   "metadata": {},
   "source": [
    "**Обработка дубликатов**"
   ]
  },
  {
   "cell_type": "markdown",
   "metadata": {},
   "source": [
    "Поиск дубликатов по важным признакам"
   ]
  },
  {
   "cell_type": "code",
   "execution_count": 23,
   "metadata": {},
   "outputs": [],
   "source": [
    "most_important_columns = ['price','vehicle_type','registration_year','gear_box','power','kilometer',\n",
    "                          'model','brand','repaired','postal_code','fuel_type']"
   ]
  },
  {
   "cell_type": "code",
   "execution_count": 24,
   "metadata": {},
   "outputs": [
    {
     "data": {
      "text/plain": [
       "19186"
      ]
     },
     "execution_count": 24,
     "metadata": {},
     "output_type": "execute_result"
    }
   ],
   "source": [
    "df_cars[most_important_columns].duplicated().sum()"
   ]
  },
  {
   "cell_type": "markdown",
   "metadata": {},
   "source": [
    "Удаление дубликатов"
   ]
  },
  {
   "cell_type": "code",
   "execution_count": 25,
   "metadata": {
    "scrolled": true
   },
   "outputs": [],
   "source": [
    "df_cars = df_cars.drop_duplicates(subset=most_important_columns)"
   ]
  },
  {
   "cell_type": "markdown",
   "metadata": {},
   "source": [
    "**Обработка пропусков**"
   ]
  },
  {
   "cell_type": "code",
   "execution_count": 26,
   "metadata": {
    "scrolled": false
   },
   "outputs": [
    {
     "data": {
      "text/html": [
       "<div>\n",
       "<style scoped>\n",
       "    .dataframe tbody tr th:only-of-type {\n",
       "        vertical-align: middle;\n",
       "    }\n",
       "\n",
       "    .dataframe tbody tr th {\n",
       "        vertical-align: top;\n",
       "    }\n",
       "\n",
       "    .dataframe thead th {\n",
       "        text-align: right;\n",
       "    }\n",
       "</style>\n",
       "<table border=\"1\" class=\"dataframe\">\n",
       "  <thead>\n",
       "    <tr style=\"text-align: right;\">\n",
       "      <th></th>\n",
       "      <th>space</th>\n",
       "    </tr>\n",
       "  </thead>\n",
       "  <tbody>\n",
       "    <tr>\n",
       "      <th>vehicle_type</th>\n",
       "      <td>3.06</td>\n",
       "    </tr>\n",
       "    <tr>\n",
       "      <th>gear_box</th>\n",
       "      <td>1.57</td>\n",
       "    </tr>\n",
       "    <tr>\n",
       "      <th>model</th>\n",
       "      <td>3.44</td>\n",
       "    </tr>\n",
       "    <tr>\n",
       "      <th>fuel_type</th>\n",
       "      <td>4.61</td>\n",
       "    </tr>\n",
       "    <tr>\n",
       "      <th>repaired</th>\n",
       "      <td>13.23</td>\n",
       "    </tr>\n",
       "  </tbody>\n",
       "</table>\n",
       "</div>"
      ],
      "text/plain": [
       "              space\n",
       "vehicle_type   3.06\n",
       "gear_box       1.57\n",
       "model          3.44\n",
       "fuel_type      4.61\n",
       "repaired      13.23"
      ]
     },
     "execution_count": 26,
     "metadata": {},
     "output_type": "execute_result"
    }
   ],
   "source": [
    "df_cars.isna().sum().to_frame().rename(columns = {0:'space'}).query('space>0')/len(df_cars)*100"
   ]
  },
  {
   "cell_type": "markdown",
   "metadata": {},
   "source": [
    "Заполнение пропусков заклушкой в категории где  больше 10% пропусков"
   ]
  },
  {
   "cell_type": "code",
   "execution_count": 27,
   "metadata": {
    "scrolled": true
   },
   "outputs": [],
   "source": [
    "df_cars['repaired'] = df_cars['repaired'].fillna('unknown')"
   ]
  },
  {
   "cell_type": "markdown",
   "metadata": {},
   "source": [
    "Размер датасета позволяет удалить  остальные пропуски"
   ]
  },
  {
   "cell_type": "code",
   "execution_count": 28,
   "metadata": {},
   "outputs": [],
   "source": [
    "df_cars = df_cars.dropna()"
   ]
  },
  {
   "cell_type": "code",
   "execution_count": 29,
   "metadata": {},
   "outputs": [
    {
     "data": {
      "text/plain": [
       "224128"
      ]
     },
     "execution_count": 29,
     "metadata": {},
     "output_type": "execute_result"
    }
   ],
   "source": [
    "df_cars.shape[0]"
   ]
  },
  {
   "cell_type": "markdown",
   "metadata": {},
   "source": [
    "Сброс всех индексов"
   ]
  },
  {
   "cell_type": "code",
   "execution_count": 30,
   "metadata": {},
   "outputs": [],
   "source": [
    "df_cars.reset_index(drop = True, inplace= True )"
   ]
  },
  {
   "cell_type": "markdown",
   "metadata": {},
   "source": [
    "**Корреляции на  основных влияющих факторах цены** "
   ]
  },
  {
   "cell_type": "code",
   "execution_count": 31,
   "metadata": {
    "scrolled": true
   },
   "outputs": [
    {
     "data": {
      "text/html": [
       "<div>\n",
       "<style scoped>\n",
       "    .dataframe tbody tr th:only-of-type {\n",
       "        vertical-align: middle;\n",
       "    }\n",
       "\n",
       "    .dataframe tbody tr th {\n",
       "        vertical-align: top;\n",
       "    }\n",
       "\n",
       "    .dataframe thead th {\n",
       "        text-align: right;\n",
       "    }\n",
       "</style>\n",
       "<table border=\"1\" class=\"dataframe\">\n",
       "  <thead>\n",
       "    <tr style=\"text-align: right;\">\n",
       "      <th></th>\n",
       "      <th>price</th>\n",
       "      <th>power</th>\n",
       "      <th>kilometer</th>\n",
       "      <th>registration_year</th>\n",
       "    </tr>\n",
       "  </thead>\n",
       "  <tbody>\n",
       "    <tr>\n",
       "      <th>price</th>\n",
       "      <td>1.00</td>\n",
       "      <td>0.48</td>\n",
       "      <td>-0.39</td>\n",
       "      <td>0.72</td>\n",
       "    </tr>\n",
       "    <tr>\n",
       "      <th>power</th>\n",
       "      <td>0.48</td>\n",
       "      <td>1.00</td>\n",
       "      <td>0.16</td>\n",
       "      <td>0.12</td>\n",
       "    </tr>\n",
       "    <tr>\n",
       "      <th>kilometer</th>\n",
       "      <td>-0.39</td>\n",
       "      <td>0.16</td>\n",
       "      <td>1.00</td>\n",
       "      <td>-0.45</td>\n",
       "    </tr>\n",
       "    <tr>\n",
       "      <th>registration_year</th>\n",
       "      <td>0.72</td>\n",
       "      <td>0.12</td>\n",
       "      <td>-0.45</td>\n",
       "      <td>1.00</td>\n",
       "    </tr>\n",
       "  </tbody>\n",
       "</table>\n",
       "</div>"
      ],
      "text/plain": [
       "                   price  power  kilometer  registration_year\n",
       "price               1.00   0.48      -0.39               0.72\n",
       "power               0.48   1.00       0.16               0.12\n",
       "kilometer          -0.39   0.16       1.00              -0.45\n",
       "registration_year   0.72   0.12      -0.45               1.00"
      ]
     },
     "execution_count": 31,
     "metadata": {},
     "output_type": "execute_result"
    }
   ],
   "source": [
    "df_cars[['price','power','kilometer','registration_year']].corr(method = 'spearman')"
   ]
  },
  {
   "cell_type": "markdown",
   "metadata": {},
   "source": [
    "Ожидаемая\n",
    "* положительная корреляция между ценой и мощностью, а также годом регистрации\n",
    "* отрицательная корреляция между ценой и пробегом"
   ]
  },
  {
   "cell_type": "markdown",
   "metadata": {},
   "source": [
    "Просмотр статистик на обработанном датасете основных признаков влияющих на цену"
   ]
  },
  {
   "cell_type": "code",
   "execution_count": 32,
   "metadata": {
    "scrolled": false
   },
   "outputs": [
    {
     "data": {
      "text/html": [
       "<div>\n",
       "<style scoped>\n",
       "    .dataframe tbody tr th:only-of-type {\n",
       "        vertical-align: middle;\n",
       "    }\n",
       "\n",
       "    .dataframe tbody tr th {\n",
       "        vertical-align: top;\n",
       "    }\n",
       "\n",
       "    .dataframe thead th {\n",
       "        text-align: right;\n",
       "    }\n",
       "</style>\n",
       "<table border=\"1\" class=\"dataframe\">\n",
       "  <thead>\n",
       "    <tr style=\"text-align: right;\">\n",
       "      <th></th>\n",
       "      <th>price</th>\n",
       "      <th>power</th>\n",
       "      <th>kilometer</th>\n",
       "      <th>registration_year</th>\n",
       "    </tr>\n",
       "  </thead>\n",
       "  <tbody>\n",
       "    <tr>\n",
       "      <th>count</th>\n",
       "      <td>224,128.00</td>\n",
       "      <td>224,128.00</td>\n",
       "      <td>224,128.00</td>\n",
       "      <td>224,128.00</td>\n",
       "    </tr>\n",
       "    <tr>\n",
       "      <th>mean</th>\n",
       "      <td>5,415.74</td>\n",
       "      <td>126.10</td>\n",
       "      <td>127,401.84</td>\n",
       "      <td>2,003.31</td>\n",
       "    </tr>\n",
       "    <tr>\n",
       "      <th>std</th>\n",
       "      <td>4,659.72</td>\n",
       "      <td>53.31</td>\n",
       "      <td>36,889.40</td>\n",
       "      <td>5.81</td>\n",
       "    </tr>\n",
       "    <tr>\n",
       "      <th>min</th>\n",
       "      <td>501.00</td>\n",
       "      <td>51.00</td>\n",
       "      <td>5,000.00</td>\n",
       "      <td>1,965.00</td>\n",
       "    </tr>\n",
       "    <tr>\n",
       "      <th>25%</th>\n",
       "      <td>1,790.00</td>\n",
       "      <td>88.00</td>\n",
       "      <td>125,000.00</td>\n",
       "      <td>2,000.00</td>\n",
       "    </tr>\n",
       "    <tr>\n",
       "      <th>50%</th>\n",
       "      <td>3,800.00</td>\n",
       "      <td>116.00</td>\n",
       "      <td>150,000.00</td>\n",
       "      <td>2,004.00</td>\n",
       "    </tr>\n",
       "    <tr>\n",
       "      <th>75%</th>\n",
       "      <td>7,800.00</td>\n",
       "      <td>150.00</td>\n",
       "      <td>150,000.00</td>\n",
       "      <td>2,007.00</td>\n",
       "    </tr>\n",
       "    <tr>\n",
       "      <th>max</th>\n",
       "      <td>20,000.00</td>\n",
       "      <td>999.00</td>\n",
       "      <td>150,000.00</td>\n",
       "      <td>2,016.00</td>\n",
       "    </tr>\n",
       "  </tbody>\n",
       "</table>\n",
       "</div>"
      ],
      "text/plain": [
       "           price      power  kilometer  registration_year\n",
       "count 224,128.00 224,128.00 224,128.00         224,128.00\n",
       "mean    5,415.74     126.10 127,401.84           2,003.31\n",
       "std     4,659.72      53.31  36,889.40               5.81\n",
       "min       501.00      51.00   5,000.00           1,965.00\n",
       "25%     1,790.00      88.00 125,000.00           2,000.00\n",
       "50%     3,800.00     116.00 150,000.00           2,004.00\n",
       "75%     7,800.00     150.00 150,000.00           2,007.00\n",
       "max    20,000.00     999.00 150,000.00           2,016.00"
      ]
     },
     "execution_count": 32,
     "metadata": {},
     "output_type": "execute_result"
    }
   ],
   "source": [
    "df_cars[['price','power','kilometer','registration_year']].describe()"
   ]
  },
  {
   "cell_type": "markdown",
   "metadata": {},
   "source": [
    "Датасет очищен от аномалий (странные значений цены, года регистрации, мощности)"
   ]
  },
  {
   "cell_type": "markdown",
   "metadata": {},
   "source": [
    "## Обучение моделей"
   ]
  },
  {
   "cell_type": "markdown",
   "metadata": {},
   "source": [
    "**Разбиение на целевые и тренировочные признаки**"
   ]
  },
  {
   "cell_type": "code",
   "execution_count": 33,
   "metadata": {},
   "outputs": [],
   "source": [
    "features = df_cars.drop(['price','date_crawled','registration_month',\n",
    "                         'date_created','number_of_pictures','postal_code','last_seen'], axis = 1)  \n",
    "target = df_cars['price'] \n",
    "\n"
   ]
  },
  {
   "cell_type": "markdown",
   "metadata": {},
   "source": [
    "**Выделение категориальных признаков**"
   ]
  },
  {
   "cell_type": "code",
   "execution_count": 34,
   "metadata": {},
   "outputs": [],
   "source": [
    "categories = []\n",
    "for feature in features.columns:\n",
    "    if features[feature].dtype == 'O':\n",
    "        features[feature] = features[feature].astype('category')\n",
    "        categories.append(feature) \n",
    "    else:\n",
    "        features[feature] = features[feature].astype('int')\n",
    "        "
   ]
  },
  {
   "cell_type": "markdown",
   "metadata": {},
   "source": [
    "**Разбиение на тестовую и тренировочную  выборку**"
   ]
  },
  {
   "cell_type": "code",
   "execution_count": 35,
   "metadata": {},
   "outputs": [],
   "source": [
    "features_train, features_test, target_train, target_test = train_test_split(features, target, test_size=0.25, \n",
    "                                                                            random_state=12345)"
   ]
  },
  {
   "cell_type": "markdown",
   "metadata": {},
   "source": [
    "**Catboost**"
   ]
  },
  {
   "cell_type": "code",
   "execution_count": 36,
   "metadata": {
    "scrolled": true
   },
   "outputs": [],
   "source": [
    "params = {\n",
    "#             'learning_rate':[0.03,0.001,0.01,0.1,0.2,0.3],\n",
    "             'depth':[6,8]\n",
    "            }\n",
    "\n",
    "grid_cat = GridSearchCV(CatBoostRegressor(random_state = 12345,cat_features  = categories), \n",
    "            params, cv=3,scoring='neg_mean_squared_error')"
   ]
  },
  {
   "cell_type": "code",
   "execution_count": 37,
   "metadata": {
    "scrolled": true
   },
   "outputs": [
    {
     "name": "stdout",
     "output_type": "stream",
     "text": [
      "Learning rate set to 0.086297\n",
      "0:\tlearn: 4382.3407967\ttotal: 215ms\tremaining: 3m 35s\n",
      "1:\tlearn: 4136.5677991\ttotal: 383ms\tremaining: 3m 10s\n",
      "2:\tlearn: 3915.0304506\ttotal: 543ms\tremaining: 3m\n",
      "3:\tlearn: 3720.5378095\ttotal: 675ms\tremaining: 2m 48s\n",
      "4:\tlearn: 3538.7923639\ttotal: 802ms\tremaining: 2m 39s\n",
      "5:\tlearn: 3376.4508736\ttotal: 907ms\tremaining: 2m 30s\n",
      "6:\tlearn: 3233.6910582\ttotal: 1.08s\tremaining: 2m 33s\n",
      "7:\tlearn: 3105.7115179\ttotal: 1.2s\tremaining: 2m 28s\n",
      "8:\tlearn: 2984.8595326\ttotal: 1.32s\tremaining: 2m 25s\n",
      "9:\tlearn: 2882.5401616\ttotal: 1.45s\tremaining: 2m 23s\n",
      "10:\tlearn: 2786.4273243\ttotal: 1.6s\tremaining: 2m 23s\n",
      "11:\tlearn: 2698.7516772\ttotal: 1.73s\tremaining: 2m 22s\n",
      "12:\tlearn: 2624.2356411\ttotal: 1.83s\tremaining: 2m 18s\n",
      "13:\tlearn: 2555.3543042\ttotal: 1.96s\tremaining: 2m 17s\n",
      "14:\tlearn: 2490.8807831\ttotal: 2.07s\tremaining: 2m 15s\n",
      "15:\tlearn: 2432.7365514\ttotal: 2.21s\tremaining: 2m 16s\n",
      "16:\tlearn: 2382.6953795\ttotal: 2.31s\tremaining: 2m 13s\n",
      "17:\tlearn: 2327.1555051\ttotal: 2.42s\tremaining: 2m 12s\n",
      "18:\tlearn: 2287.0308078\ttotal: 2.54s\tremaining: 2m 11s\n",
      "19:\tlearn: 2242.4763996\ttotal: 2.66s\tremaining: 2m 10s\n",
      "20:\tlearn: 2209.6953770\ttotal: 2.77s\tremaining: 2m 9s\n",
      "21:\tlearn: 2175.1707375\ttotal: 2.89s\tremaining: 2m 8s\n",
      "22:\tlearn: 2141.8102500\ttotal: 3s\tremaining: 2m 7s\n",
      "23:\tlearn: 2111.1648645\ttotal: 3.13s\tremaining: 2m 7s\n",
      "24:\tlearn: 2088.9482200\ttotal: 3.27s\tremaining: 2m 7s\n",
      "25:\tlearn: 2064.0353127\ttotal: 3.38s\tremaining: 2m 6s\n",
      "26:\tlearn: 2046.0176043\ttotal: 3.49s\tremaining: 2m 5s\n",
      "27:\tlearn: 2026.6365278\ttotal: 3.63s\tremaining: 2m 6s\n",
      "28:\tlearn: 2008.1602935\ttotal: 3.75s\tremaining: 2m 5s\n",
      "29:\tlearn: 1991.8880283\ttotal: 3.88s\tremaining: 2m 5s\n",
      "30:\tlearn: 1978.8074305\ttotal: 4.02s\tremaining: 2m 5s\n",
      "31:\tlearn: 1962.3127652\ttotal: 4.13s\tremaining: 2m 5s\n",
      "32:\tlearn: 1949.1779368\ttotal: 4.23s\tremaining: 2m 3s\n",
      "33:\tlearn: 1936.5022271\ttotal: 4.34s\tremaining: 2m 3s\n",
      "34:\tlearn: 1925.8080457\ttotal: 4.45s\tremaining: 2m 2s\n",
      "35:\tlearn: 1914.1499568\ttotal: 4.57s\tremaining: 2m 2s\n",
      "36:\tlearn: 1905.8466088\ttotal: 4.65s\tremaining: 2m 1s\n",
      "37:\tlearn: 1895.9569339\ttotal: 4.75s\tremaining: 2m\n",
      "38:\tlearn: 1888.6514111\ttotal: 4.86s\tremaining: 1m 59s\n",
      "39:\tlearn: 1881.3097527\ttotal: 4.96s\tremaining: 1m 58s\n",
      "40:\tlearn: 1874.3128845\ttotal: 5.06s\tremaining: 1m 58s\n",
      "41:\tlearn: 1868.1733714\ttotal: 5.18s\tremaining: 1m 58s\n",
      "42:\tlearn: 1861.9073792\ttotal: 5.27s\tremaining: 1m 57s\n",
      "43:\tlearn: 1856.1479613\ttotal: 5.35s\tremaining: 1m 56s\n",
      "44:\tlearn: 1851.8147924\ttotal: 5.43s\tremaining: 1m 55s\n",
      "45:\tlearn: 1846.5702897\ttotal: 5.54s\tremaining: 1m 54s\n",
      "46:\tlearn: 1843.0528881\ttotal: 5.63s\tremaining: 1m 54s\n",
      "47:\tlearn: 1838.5305814\ttotal: 5.73s\tremaining: 1m 53s\n",
      "48:\tlearn: 1834.9330532\ttotal: 5.83s\tremaining: 1m 53s\n",
      "49:\tlearn: 1831.8805507\ttotal: 5.91s\tremaining: 1m 52s\n",
      "50:\tlearn: 1828.3757843\ttotal: 6s\tremaining: 1m 51s\n",
      "51:\tlearn: 1824.6533528\ttotal: 6.12s\tremaining: 1m 51s\n",
      "52:\tlearn: 1821.7437165\ttotal: 6.23s\tremaining: 1m 51s\n",
      "53:\tlearn: 1819.2339601\ttotal: 6.32s\tremaining: 1m 50s\n",
      "54:\tlearn: 1816.4898469\ttotal: 6.43s\tremaining: 1m 50s\n",
      "55:\tlearn: 1813.8365842\ttotal: 6.56s\tremaining: 1m 50s\n",
      "56:\tlearn: 1811.6465621\ttotal: 6.65s\tremaining: 1m 49s\n",
      "57:\tlearn: 1807.3896221\ttotal: 6.76s\tremaining: 1m 49s\n",
      "58:\tlearn: 1804.0987927\ttotal: 6.87s\tremaining: 1m 49s\n",
      "59:\tlearn: 1797.7878102\ttotal: 6.95s\tremaining: 1m 48s\n",
      "60:\tlearn: 1795.1420984\ttotal: 7.05s\tremaining: 1m 48s\n",
      "61:\tlearn: 1790.8197561\ttotal: 7.15s\tremaining: 1m 48s\n",
      "62:\tlearn: 1788.4635893\ttotal: 7.26s\tremaining: 1m 47s\n",
      "63:\tlearn: 1785.8014148\ttotal: 7.39s\tremaining: 1m 48s\n",
      "64:\tlearn: 1780.7772465\ttotal: 7.45s\tremaining: 1m 47s\n",
      "65:\tlearn: 1778.9374068\ttotal: 7.55s\tremaining: 1m 46s\n",
      "66:\tlearn: 1776.6208356\ttotal: 7.63s\tremaining: 1m 46s\n",
      "67:\tlearn: 1774.2364441\ttotal: 7.71s\tremaining: 1m 45s\n",
      "68:\tlearn: 1769.8020149\ttotal: 7.79s\tremaining: 1m 45s\n",
      "69:\tlearn: 1767.4080866\ttotal: 7.92s\tremaining: 1m 45s\n",
      "70:\tlearn: 1764.9797831\ttotal: 8.02s\tremaining: 1m 44s\n",
      "71:\tlearn: 1763.2353539\ttotal: 8.11s\tremaining: 1m 44s\n",
      "72:\tlearn: 1761.7372445\ttotal: 8.22s\tremaining: 1m 44s\n",
      "73:\tlearn: 1759.3579361\ttotal: 8.35s\tremaining: 1m 44s\n",
      "74:\tlearn: 1757.9733565\ttotal: 8.43s\tremaining: 1m 43s\n",
      "75:\tlearn: 1756.0555539\ttotal: 8.5s\tremaining: 1m 43s\n",
      "76:\tlearn: 1753.3809421\ttotal: 8.59s\tremaining: 1m 42s\n",
      "77:\tlearn: 1751.5920788\ttotal: 8.69s\tremaining: 1m 42s\n",
      "78:\tlearn: 1749.0207096\ttotal: 8.78s\tremaining: 1m 42s\n",
      "79:\tlearn: 1747.3397800\ttotal: 8.89s\tremaining: 1m 42s\n",
      "80:\tlearn: 1745.7700572\ttotal: 9s\tremaining: 1m 42s\n",
      "81:\tlearn: 1743.7232596\ttotal: 9.09s\tremaining: 1m 41s\n",
      "82:\tlearn: 1740.4062038\ttotal: 9.16s\tremaining: 1m 41s\n",
      "83:\tlearn: 1738.5129145\ttotal: 9.24s\tremaining: 1m 40s\n",
      "84:\tlearn: 1737.2954636\ttotal: 9.35s\tremaining: 1m 40s\n",
      "85:\tlearn: 1735.8399270\ttotal: 9.41s\tremaining: 1m 40s\n",
      "86:\tlearn: 1734.2568889\ttotal: 9.51s\tremaining: 1m 39s\n",
      "87:\tlearn: 1733.1226985\ttotal: 9.61s\tremaining: 1m 39s\n",
      "88:\tlearn: 1732.3615307\ttotal: 9.7s\tremaining: 1m 39s\n",
      "89:\tlearn: 1730.9021084\ttotal: 9.79s\tremaining: 1m 38s\n",
      "90:\tlearn: 1728.8214343\ttotal: 9.86s\tremaining: 1m 38s\n",
      "91:\tlearn: 1727.5874734\ttotal: 9.96s\tremaining: 1m 38s\n",
      "92:\tlearn: 1726.1663084\ttotal: 10.1s\tremaining: 1m 38s\n",
      "93:\tlearn: 1724.5080376\ttotal: 10.2s\tremaining: 1m 38s\n",
      "94:\tlearn: 1723.3225455\ttotal: 10.3s\tremaining: 1m 38s\n",
      "95:\tlearn: 1722.1219232\ttotal: 10.4s\tremaining: 1m 38s\n",
      "96:\tlearn: 1720.9084657\ttotal: 10.6s\tremaining: 1m 38s\n",
      "97:\tlearn: 1719.2098784\ttotal: 10.7s\tremaining: 1m 38s\n",
      "98:\tlearn: 1717.8168010\ttotal: 10.8s\tremaining: 1m 38s\n",
      "99:\tlearn: 1716.4433995\ttotal: 11s\tremaining: 1m 38s\n",
      "100:\tlearn: 1714.9681399\ttotal: 11.1s\tremaining: 1m 38s\n",
      "101:\tlearn: 1713.2833560\ttotal: 11.2s\tremaining: 1m 38s\n",
      "102:\tlearn: 1711.8826445\ttotal: 11.3s\tremaining: 1m 38s\n",
      "103:\tlearn: 1711.3849916\ttotal: 11.4s\tremaining: 1m 37s\n",
      "104:\tlearn: 1708.7764948\ttotal: 11.5s\tremaining: 1m 37s\n",
      "105:\tlearn: 1707.6195389\ttotal: 11.6s\tremaining: 1m 37s\n",
      "106:\tlearn: 1706.5211818\ttotal: 11.7s\tremaining: 1m 37s\n",
      "107:\tlearn: 1704.5218586\ttotal: 11.8s\tremaining: 1m 37s\n",
      "108:\tlearn: 1703.4618388\ttotal: 11.8s\tremaining: 1m 36s\n",
      "109:\tlearn: 1701.7451783\ttotal: 11.9s\tremaining: 1m 36s\n",
      "110:\tlearn: 1701.0254963\ttotal: 12s\tremaining: 1m 36s\n",
      "111:\tlearn: 1700.4676754\ttotal: 12.1s\tremaining: 1m 35s\n",
      "112:\tlearn: 1699.7867827\ttotal: 12.2s\tremaining: 1m 35s\n",
      "113:\tlearn: 1698.6961257\ttotal: 12.3s\tremaining: 1m 35s\n",
      "114:\tlearn: 1697.6189368\ttotal: 12.4s\tremaining: 1m 35s\n",
      "115:\tlearn: 1696.2978634\ttotal: 12.5s\tremaining: 1m 34s\n",
      "116:\tlearn: 1695.2291137\ttotal: 12.5s\tremaining: 1m 34s\n",
      "117:\tlearn: 1693.5798638\ttotal: 12.6s\tremaining: 1m 34s\n",
      "118:\tlearn: 1692.2045941\ttotal: 12.7s\tremaining: 1m 34s\n",
      "119:\tlearn: 1691.1000646\ttotal: 12.8s\tremaining: 1m 33s\n",
      "120:\tlearn: 1690.5337447\ttotal: 12.9s\tremaining: 1m 33s\n",
      "121:\tlearn: 1689.3544041\ttotal: 13s\tremaining: 1m 33s\n",
      "122:\tlearn: 1688.0316927\ttotal: 13.1s\tremaining: 1m 33s\n",
      "123:\tlearn: 1687.4518449\ttotal: 13.2s\tremaining: 1m 33s\n",
      "124:\tlearn: 1686.6685417\ttotal: 13.3s\tremaining: 1m 33s\n",
      "125:\tlearn: 1686.0745343\ttotal: 13.4s\tremaining: 1m 33s\n",
      "126:\tlearn: 1684.7761512\ttotal: 13.5s\tremaining: 1m 32s\n",
      "127:\tlearn: 1684.1620995\ttotal: 13.6s\tremaining: 1m 32s\n",
      "128:\tlearn: 1683.4406433\ttotal: 13.7s\tremaining: 1m 32s\n",
      "129:\tlearn: 1681.6158520\ttotal: 13.8s\tremaining: 1m 32s\n",
      "130:\tlearn: 1680.1155018\ttotal: 13.9s\tremaining: 1m 32s\n",
      "131:\tlearn: 1679.3818727\ttotal: 14s\tremaining: 1m 32s\n",
      "132:\tlearn: 1678.9437646\ttotal: 14.1s\tremaining: 1m 32s\n",
      "133:\tlearn: 1677.5842989\ttotal: 14.2s\tremaining: 1m 31s\n",
      "134:\tlearn: 1676.8440219\ttotal: 14.3s\tremaining: 1m 31s\n",
      "135:\tlearn: 1675.9120405\ttotal: 14.4s\tremaining: 1m 31s\n",
      "136:\tlearn: 1675.1291853\ttotal: 14.5s\tremaining: 1m 31s\n",
      "137:\tlearn: 1673.7899095\ttotal: 14.6s\tremaining: 1m 31s\n",
      "138:\tlearn: 1673.1609595\ttotal: 14.7s\tremaining: 1m 30s\n",
      "139:\tlearn: 1672.6342477\ttotal: 14.8s\tremaining: 1m 30s\n",
      "140:\tlearn: 1672.1564314\ttotal: 14.9s\tremaining: 1m 30s\n",
      "141:\tlearn: 1671.1357577\ttotal: 15s\tremaining: 1m 30s\n",
      "142:\tlearn: 1669.9722825\ttotal: 15.1s\tremaining: 1m 30s\n",
      "143:\tlearn: 1669.1135091\ttotal: 15.2s\tremaining: 1m 30s\n",
      "144:\tlearn: 1668.2612636\ttotal: 15.3s\tremaining: 1m 30s\n",
      "145:\tlearn: 1667.2364613\ttotal: 15.4s\tremaining: 1m 30s\n",
      "146:\tlearn: 1666.8121618\ttotal: 15.5s\tremaining: 1m 30s\n",
      "147:\tlearn: 1665.9218844\ttotal: 15.6s\tremaining: 1m 29s\n",
      "148:\tlearn: 1665.6218825\ttotal: 15.7s\tremaining: 1m 29s\n",
      "149:\tlearn: 1664.7439248\ttotal: 15.8s\tremaining: 1m 29s\n",
      "150:\tlearn: 1664.0691543\ttotal: 15.9s\tremaining: 1m 29s\n",
      "151:\tlearn: 1662.8309733\ttotal: 16s\tremaining: 1m 29s\n",
      "152:\tlearn: 1662.2110966\ttotal: 16.2s\tremaining: 1m 29s\n",
      "153:\tlearn: 1661.4720473\ttotal: 16.3s\tremaining: 1m 29s\n",
      "154:\tlearn: 1660.6553986\ttotal: 16.4s\tremaining: 1m 29s\n",
      "155:\tlearn: 1659.8105801\ttotal: 16.5s\tremaining: 1m 29s\n",
      "156:\tlearn: 1658.9047543\ttotal: 16.7s\tremaining: 1m 29s\n",
      "157:\tlearn: 1658.3290107\ttotal: 16.8s\tremaining: 1m 29s\n",
      "158:\tlearn: 1657.6242280\ttotal: 16.9s\tremaining: 1m 29s\n",
      "159:\tlearn: 1657.1259876\ttotal: 17s\tremaining: 1m 29s\n",
      "160:\tlearn: 1656.4648508\ttotal: 17.1s\tremaining: 1m 29s\n",
      "161:\tlearn: 1655.4884588\ttotal: 17.2s\tremaining: 1m 29s\n",
      "162:\tlearn: 1654.6822904\ttotal: 17.3s\tremaining: 1m 29s\n",
      "163:\tlearn: 1653.7848622\ttotal: 17.5s\tremaining: 1m 28s\n",
      "164:\tlearn: 1653.3872898\ttotal: 17.6s\tremaining: 1m 28s\n",
      "165:\tlearn: 1652.9537497\ttotal: 17.7s\tremaining: 1m 28s\n",
      "166:\tlearn: 1652.3843579\ttotal: 17.8s\tremaining: 1m 28s\n",
      "167:\tlearn: 1651.9500066\ttotal: 17.9s\tremaining: 1m 28s\n",
      "168:\tlearn: 1651.4980158\ttotal: 18s\tremaining: 1m 28s\n",
      "169:\tlearn: 1650.7713374\ttotal: 18.1s\tremaining: 1m 28s\n",
      "170:\tlearn: 1650.2065431\ttotal: 18.2s\tremaining: 1m 28s\n",
      "171:\tlearn: 1649.8539637\ttotal: 18.3s\tremaining: 1m 27s\n",
      "172:\tlearn: 1649.5197763\ttotal: 18.4s\tremaining: 1m 27s\n",
      "173:\tlearn: 1648.9919642\ttotal: 18.5s\tremaining: 1m 27s\n",
      "174:\tlearn: 1648.3715511\ttotal: 18.6s\tremaining: 1m 27s\n",
      "175:\tlearn: 1647.6756639\ttotal: 18.7s\tremaining: 1m 27s\n",
      "176:\tlearn: 1647.1981241\ttotal: 18.8s\tremaining: 1m 27s\n",
      "177:\tlearn: 1646.2837268\ttotal: 18.9s\tremaining: 1m 27s\n",
      "178:\tlearn: 1645.7549789\ttotal: 19s\tremaining: 1m 27s\n",
      "179:\tlearn: 1645.5574399\ttotal: 19.1s\tremaining: 1m 26s\n",
      "180:\tlearn: 1645.2806708\ttotal: 19.2s\tremaining: 1m 26s\n",
      "181:\tlearn: 1644.6815581\ttotal: 19.2s\tremaining: 1m 26s\n",
      "182:\tlearn: 1644.1192309\ttotal: 19.3s\tremaining: 1m 26s\n",
      "183:\tlearn: 1643.4241946\ttotal: 19.4s\tremaining: 1m 26s\n",
      "184:\tlearn: 1643.1483597\ttotal: 19.5s\tremaining: 1m 25s\n",
      "185:\tlearn: 1642.4437389\ttotal: 19.6s\tremaining: 1m 25s\n",
      "186:\tlearn: 1641.6419999\ttotal: 19.7s\tremaining: 1m 25s\n",
      "187:\tlearn: 1641.2064956\ttotal: 19.8s\tremaining: 1m 25s\n",
      "188:\tlearn: 1640.4291273\ttotal: 19.9s\tremaining: 1m 25s\n",
      "189:\tlearn: 1639.8367953\ttotal: 20s\tremaining: 1m 25s\n",
      "190:\tlearn: 1639.4456610\ttotal: 20.1s\tremaining: 1m 25s\n",
      "191:\tlearn: 1638.8870293\ttotal: 20.3s\tremaining: 1m 25s\n",
      "192:\tlearn: 1638.2020495\ttotal: 20.4s\tremaining: 1m 25s\n",
      "193:\tlearn: 1637.4827440\ttotal: 20.5s\tremaining: 1m 25s\n",
      "194:\tlearn: 1637.2286170\ttotal: 20.6s\tremaining: 1m 25s\n",
      "195:\tlearn: 1636.6783846\ttotal: 20.8s\tremaining: 1m 25s\n",
      "196:\tlearn: 1636.2138902\ttotal: 20.9s\tremaining: 1m 25s\n",
      "197:\tlearn: 1635.3619782\ttotal: 21s\tremaining: 1m 25s\n",
      "198:\tlearn: 1635.0455927\ttotal: 21.1s\tremaining: 1m 24s\n",
      "199:\tlearn: 1634.3013203\ttotal: 21.2s\tremaining: 1m 24s\n",
      "200:\tlearn: 1633.9154772\ttotal: 21.3s\tremaining: 1m 24s\n",
      "201:\tlearn: 1633.1501917\ttotal: 21.4s\tremaining: 1m 24s\n",
      "202:\tlearn: 1632.6994031\ttotal: 21.5s\tremaining: 1m 24s\n",
      "203:\tlearn: 1632.3036067\ttotal: 21.6s\tremaining: 1m 24s\n",
      "204:\tlearn: 1631.9299405\ttotal: 21.7s\tremaining: 1m 24s\n",
      "205:\tlearn: 1631.5142145\ttotal: 21.8s\tremaining: 1m 24s\n",
      "206:\tlearn: 1630.9761330\ttotal: 21.9s\tremaining: 1m 23s\n",
      "207:\tlearn: 1630.7804699\ttotal: 22s\tremaining: 1m 23s\n",
      "208:\tlearn: 1630.0761013\ttotal: 22.1s\tremaining: 1m 23s\n",
      "209:\tlearn: 1629.4783334\ttotal: 22.2s\tremaining: 1m 23s\n",
      "210:\tlearn: 1628.8550461\ttotal: 22.3s\tremaining: 1m 23s\n",
      "211:\tlearn: 1628.2622335\ttotal: 22.4s\tremaining: 1m 23s\n",
      "212:\tlearn: 1627.5852751\ttotal: 22.5s\tremaining: 1m 23s\n",
      "213:\tlearn: 1626.9181771\ttotal: 22.7s\tremaining: 1m 23s\n",
      "214:\tlearn: 1626.3064937\ttotal: 22.8s\tremaining: 1m 23s\n",
      "215:\tlearn: 1625.6809376\ttotal: 22.9s\tremaining: 1m 23s\n",
      "216:\tlearn: 1625.2494835\ttotal: 23s\tremaining: 1m 22s\n",
      "217:\tlearn: 1624.5963854\ttotal: 23.1s\tremaining: 1m 22s\n",
      "218:\tlearn: 1624.2755191\ttotal: 23.2s\tremaining: 1m 22s\n",
      "219:\tlearn: 1623.3842657\ttotal: 23.3s\tremaining: 1m 22s\n",
      "220:\tlearn: 1623.0719203\ttotal: 23.4s\tremaining: 1m 22s\n",
      "221:\tlearn: 1622.8609053\ttotal: 23.5s\tremaining: 1m 22s\n",
      "222:\tlearn: 1622.2391738\ttotal: 23.6s\tremaining: 1m 22s\n",
      "223:\tlearn: 1621.9520627\ttotal: 23.7s\tremaining: 1m 22s\n",
      "224:\tlearn: 1621.7275520\ttotal: 23.8s\tremaining: 1m 22s\n",
      "225:\tlearn: 1621.3074194\ttotal: 23.9s\tremaining: 1m 21s\n",
      "226:\tlearn: 1620.8140227\ttotal: 24s\tremaining: 1m 21s\n",
      "227:\tlearn: 1620.6289120\ttotal: 24.1s\tremaining: 1m 21s\n",
      "228:\tlearn: 1620.2593391\ttotal: 24.2s\tremaining: 1m 21s\n",
      "229:\tlearn: 1619.7851570\ttotal: 24.4s\tremaining: 1m 21s\n",
      "230:\tlearn: 1619.4124072\ttotal: 24.5s\tremaining: 1m 21s\n",
      "231:\tlearn: 1619.0266342\ttotal: 24.6s\tremaining: 1m 21s\n",
      "232:\tlearn: 1618.8658332\ttotal: 24.7s\tremaining: 1m 21s\n",
      "233:\tlearn: 1618.4071215\ttotal: 24.8s\tremaining: 1m 21s\n",
      "234:\tlearn: 1617.8619538\ttotal: 24.9s\tremaining: 1m 21s\n",
      "235:\tlearn: 1617.4235124\ttotal: 25s\tremaining: 1m 21s\n",
      "236:\tlearn: 1617.0695863\ttotal: 25.1s\tremaining: 1m 20s\n",
      "237:\tlearn: 1616.8328986\ttotal: 25.2s\tremaining: 1m 20s\n",
      "238:\tlearn: 1616.5931208\ttotal: 25.3s\tremaining: 1m 20s\n",
      "239:\tlearn: 1616.2535583\ttotal: 25.4s\tremaining: 1m 20s\n",
      "240:\tlearn: 1615.6489342\ttotal: 25.5s\tremaining: 1m 20s\n",
      "241:\tlearn: 1615.1300269\ttotal: 25.7s\tremaining: 1m 20s\n",
      "242:\tlearn: 1614.7989905\ttotal: 25.8s\tremaining: 1m 20s\n",
      "243:\tlearn: 1614.3289997\ttotal: 25.9s\tremaining: 1m 20s\n",
      "244:\tlearn: 1613.8416906\ttotal: 26s\tremaining: 1m 20s\n",
      "245:\tlearn: 1613.5504565\ttotal: 26.1s\tremaining: 1m 20s\n",
      "246:\tlearn: 1613.4660535\ttotal: 26.2s\tremaining: 1m 19s\n",
      "247:\tlearn: 1613.0791867\ttotal: 26.3s\tremaining: 1m 19s\n",
      "248:\tlearn: 1612.9453892\ttotal: 26.4s\tremaining: 1m 19s\n",
      "249:\tlearn: 1612.7176773\ttotal: 26.5s\tremaining: 1m 19s\n",
      "250:\tlearn: 1612.0529102\ttotal: 26.6s\tremaining: 1m 19s\n",
      "251:\tlearn: 1611.6923333\ttotal: 26.7s\tremaining: 1m 19s\n",
      "252:\tlearn: 1611.3466820\ttotal: 26.8s\tremaining: 1m 19s\n",
      "253:\tlearn: 1611.0908570\ttotal: 26.9s\tremaining: 1m 19s\n",
      "254:\tlearn: 1610.8905242\ttotal: 27s\tremaining: 1m 18s\n",
      "255:\tlearn: 1610.5582969\ttotal: 27.1s\tremaining: 1m 18s\n",
      "256:\tlearn: 1610.4377070\ttotal: 27.2s\tremaining: 1m 18s\n",
      "257:\tlearn: 1610.2209312\ttotal: 27.3s\tremaining: 1m 18s\n",
      "258:\tlearn: 1609.6116737\ttotal: 27.4s\tremaining: 1m 18s\n",
      "259:\tlearn: 1608.9667577\ttotal: 27.4s\tremaining: 1m 18s\n",
      "260:\tlearn: 1608.7188414\ttotal: 27.5s\tremaining: 1m 17s\n",
      "261:\tlearn: 1608.3809238\ttotal: 27.6s\tremaining: 1m 17s\n",
      "262:\tlearn: 1608.1119796\ttotal: 27.7s\tremaining: 1m 17s\n",
      "263:\tlearn: 1607.9853903\ttotal: 27.8s\tremaining: 1m 17s\n",
      "264:\tlearn: 1607.4970142\ttotal: 28s\tremaining: 1m 17s\n",
      "265:\tlearn: 1607.2200416\ttotal: 28.1s\tremaining: 1m 17s\n",
      "266:\tlearn: 1607.1029645\ttotal: 28.2s\tremaining: 1m 17s\n",
      "267:\tlearn: 1606.9922545\ttotal: 28.3s\tremaining: 1m 17s\n",
      "268:\tlearn: 1606.8278592\ttotal: 28.4s\tremaining: 1m 17s\n",
      "269:\tlearn: 1606.4932370\ttotal: 28.4s\tremaining: 1m 16s\n",
      "270:\tlearn: 1606.2809392\ttotal: 28.5s\tremaining: 1m 16s\n",
      "271:\tlearn: 1605.7533507\ttotal: 28.7s\tremaining: 1m 16s\n",
      "272:\tlearn: 1605.5175736\ttotal: 28.7s\tremaining: 1m 16s\n",
      "273:\tlearn: 1605.2410208\ttotal: 28.8s\tremaining: 1m 16s\n",
      "274:\tlearn: 1604.8478977\ttotal: 28.9s\tremaining: 1m 16s\n",
      "275:\tlearn: 1604.5144871\ttotal: 29s\tremaining: 1m 16s\n",
      "276:\tlearn: 1604.2529422\ttotal: 29.1s\tremaining: 1m 16s\n",
      "277:\tlearn: 1603.5718826\ttotal: 29.3s\tremaining: 1m 16s\n",
      "278:\tlearn: 1603.0984821\ttotal: 29.4s\tremaining: 1m 15s\n",
      "279:\tlearn: 1602.7972904\ttotal: 29.5s\tremaining: 1m 15s\n",
      "280:\tlearn: 1602.5177163\ttotal: 29.6s\tremaining: 1m 15s\n",
      "281:\tlearn: 1602.1935209\ttotal: 29.7s\tremaining: 1m 15s\n",
      "282:\tlearn: 1601.9814526\ttotal: 29.8s\tremaining: 1m 15s\n",
      "283:\tlearn: 1601.4898884\ttotal: 29.9s\tremaining: 1m 15s\n",
      "284:\tlearn: 1601.0942372\ttotal: 30.1s\tremaining: 1m 15s\n",
      "285:\tlearn: 1600.6340428\ttotal: 30.3s\tremaining: 1m 15s\n",
      "286:\tlearn: 1600.3621810\ttotal: 30.4s\tremaining: 1m 15s\n",
      "287:\tlearn: 1600.0668021\ttotal: 30.5s\tremaining: 1m 15s\n",
      "288:\tlearn: 1599.7270435\ttotal: 30.6s\tremaining: 1m 15s\n",
      "289:\tlearn: 1599.1966829\ttotal: 30.7s\tremaining: 1m 15s\n",
      "290:\tlearn: 1598.8950850\ttotal: 30.8s\tremaining: 1m 15s\n",
      "291:\tlearn: 1598.7653692\ttotal: 30.9s\tremaining: 1m 14s\n",
      "292:\tlearn: 1598.4029674\ttotal: 31s\tremaining: 1m 14s\n",
      "293:\tlearn: 1598.2554442\ttotal: 31.1s\tremaining: 1m 14s\n",
      "294:\tlearn: 1597.9686900\ttotal: 31.2s\tremaining: 1m 14s\n",
      "295:\tlearn: 1597.8338176\ttotal: 31.3s\tremaining: 1m 14s\n",
      "296:\tlearn: 1597.7154205\ttotal: 31.4s\tremaining: 1m 14s\n",
      "297:\tlearn: 1597.4283338\ttotal: 31.5s\tremaining: 1m 14s\n",
      "298:\tlearn: 1597.2286682\ttotal: 31.6s\tremaining: 1m 14s\n",
      "299:\tlearn: 1597.0148431\ttotal: 31.7s\tremaining: 1m 14s\n",
      "300:\tlearn: 1596.4545607\ttotal: 31.9s\tremaining: 1m 14s\n",
      "301:\tlearn: 1596.0016218\ttotal: 32s\tremaining: 1m 13s\n",
      "302:\tlearn: 1595.7716572\ttotal: 32.1s\tremaining: 1m 13s\n",
      "303:\tlearn: 1595.4172332\ttotal: 32.3s\tremaining: 1m 13s\n",
      "304:\tlearn: 1595.1385967\ttotal: 32.4s\tremaining: 1m 13s\n",
      "305:\tlearn: 1594.8746986\ttotal: 32.5s\tremaining: 1m 13s\n",
      "306:\tlearn: 1594.5327795\ttotal: 32.6s\tremaining: 1m 13s\n",
      "307:\tlearn: 1594.4141310\ttotal: 32.7s\tremaining: 1m 13s\n",
      "308:\tlearn: 1593.8959815\ttotal: 32.9s\tremaining: 1m 13s\n",
      "309:\tlearn: 1593.7144024\ttotal: 33s\tremaining: 1m 13s\n",
      "310:\tlearn: 1593.5168255\ttotal: 33.1s\tremaining: 1m 13s\n",
      "311:\tlearn: 1593.2829865\ttotal: 33.2s\tremaining: 1m 13s\n",
      "312:\tlearn: 1593.0380949\ttotal: 33.3s\tremaining: 1m 13s\n",
      "313:\tlearn: 1592.7913993\ttotal: 33.4s\tremaining: 1m 12s\n",
      "314:\tlearn: 1592.7414277\ttotal: 33.5s\tremaining: 1m 12s\n",
      "315:\tlearn: 1592.5515009\ttotal: 33.6s\tremaining: 1m 12s\n",
      "316:\tlearn: 1592.3360599\ttotal: 33.7s\tremaining: 1m 12s\n",
      "317:\tlearn: 1591.8715575\ttotal: 33.8s\tremaining: 1m 12s\n",
      "318:\tlearn: 1591.8181045\ttotal: 33.9s\tremaining: 1m 12s\n",
      "319:\tlearn: 1591.4821778\ttotal: 34s\tremaining: 1m 12s\n",
      "320:\tlearn: 1591.4041797\ttotal: 34.1s\tremaining: 1m 12s\n",
      "321:\tlearn: 1591.2329193\ttotal: 34.2s\tremaining: 1m 12s\n",
      "322:\tlearn: 1591.0762031\ttotal: 34.3s\tremaining: 1m 11s\n",
      "323:\tlearn: 1590.7575764\ttotal: 34.4s\tremaining: 1m 11s\n",
      "324:\tlearn: 1590.2325431\ttotal: 34.6s\tremaining: 1m 11s\n",
      "325:\tlearn: 1590.0233433\ttotal: 34.7s\tremaining: 1m 11s\n",
      "326:\tlearn: 1589.7260252\ttotal: 34.8s\tremaining: 1m 11s\n",
      "327:\tlearn: 1589.3306898\ttotal: 34.9s\tremaining: 1m 11s\n",
      "328:\tlearn: 1589.1097456\ttotal: 35s\tremaining: 1m 11s\n",
      "329:\tlearn: 1588.7474704\ttotal: 35.1s\tremaining: 1m 11s\n",
      "330:\tlearn: 1588.4769607\ttotal: 35.2s\tremaining: 1m 11s\n",
      "331:\tlearn: 1588.3919351\ttotal: 35.3s\tremaining: 1m 11s\n",
      "332:\tlearn: 1588.0324315\ttotal: 35.4s\tremaining: 1m 10s\n",
      "333:\tlearn: 1587.6809642\ttotal: 35.5s\tremaining: 1m 10s\n",
      "334:\tlearn: 1587.4858573\ttotal: 35.7s\tremaining: 1m 10s\n",
      "335:\tlearn: 1587.2774263\ttotal: 35.8s\tremaining: 1m 10s\n",
      "336:\tlearn: 1587.0953539\ttotal: 35.9s\tremaining: 1m 10s\n",
      "337:\tlearn: 1586.9653195\ttotal: 36s\tremaining: 1m 10s\n",
      "338:\tlearn: 1586.5415283\ttotal: 36.1s\tremaining: 1m 10s\n",
      "339:\tlearn: 1586.3634083\ttotal: 36.2s\tremaining: 1m 10s\n",
      "340:\tlearn: 1586.0114025\ttotal: 36.3s\tremaining: 1m 10s\n",
      "341:\tlearn: 1585.8029732\ttotal: 36.4s\tremaining: 1m 10s\n",
      "342:\tlearn: 1585.5997799\ttotal: 36.5s\tremaining: 1m 9s\n",
      "343:\tlearn: 1585.5283521\ttotal: 36.6s\tremaining: 1m 9s\n",
      "344:\tlearn: 1585.1400672\ttotal: 36.7s\tremaining: 1m 9s\n",
      "345:\tlearn: 1584.9012427\ttotal: 36.8s\tremaining: 1m 9s\n",
      "346:\tlearn: 1584.6278777\ttotal: 36.9s\tremaining: 1m 9s\n",
      "347:\tlearn: 1584.3231518\ttotal: 37s\tremaining: 1m 9s\n",
      "348:\tlearn: 1584.0627555\ttotal: 37.1s\tremaining: 1m 9s\n",
      "349:\tlearn: 1583.7261847\ttotal: 37.2s\tremaining: 1m 9s\n",
      "350:\tlearn: 1583.4781809\ttotal: 37.4s\tremaining: 1m 9s\n",
      "351:\tlearn: 1583.3216215\ttotal: 37.4s\tremaining: 1m 8s\n",
      "352:\tlearn: 1583.0907519\ttotal: 37.5s\tremaining: 1m 8s\n",
      "353:\tlearn: 1582.9412071\ttotal: 37.6s\tremaining: 1m 8s\n",
      "354:\tlearn: 1582.7388162\ttotal: 37.7s\tremaining: 1m 8s\n",
      "355:\tlearn: 1582.5763703\ttotal: 37.8s\tremaining: 1m 8s\n",
      "356:\tlearn: 1582.3507971\ttotal: 37.9s\tremaining: 1m 8s\n",
      "357:\tlearn: 1582.2069720\ttotal: 38s\tremaining: 1m 8s\n",
      "358:\tlearn: 1581.9568792\ttotal: 38.1s\tremaining: 1m 8s\n",
      "359:\tlearn: 1581.8192335\ttotal: 38.2s\tremaining: 1m 7s\n",
      "360:\tlearn: 1581.5269054\ttotal: 38.3s\tremaining: 1m 7s\n",
      "361:\tlearn: 1581.2934939\ttotal: 38.4s\tremaining: 1m 7s\n",
      "362:\tlearn: 1581.0634860\ttotal: 38.5s\tremaining: 1m 7s\n",
      "363:\tlearn: 1580.6879862\ttotal: 38.6s\tremaining: 1m 7s\n",
      "364:\tlearn: 1580.4812008\ttotal: 38.7s\tremaining: 1m 7s\n",
      "365:\tlearn: 1580.3113475\ttotal: 38.8s\tremaining: 1m 7s\n",
      "366:\tlearn: 1580.0368578\ttotal: 38.9s\tremaining: 1m 7s\n",
      "367:\tlearn: 1579.8012761\ttotal: 39s\tremaining: 1m 7s\n",
      "368:\tlearn: 1579.5226906\ttotal: 39.1s\tremaining: 1m 6s\n",
      "369:\tlearn: 1579.2410001\ttotal: 39.2s\tremaining: 1m 6s\n",
      "370:\tlearn: 1578.9885378\ttotal: 39.3s\tremaining: 1m 6s\n",
      "371:\tlearn: 1578.8429047\ttotal: 39.4s\tremaining: 1m 6s\n",
      "372:\tlearn: 1578.4996119\ttotal: 39.5s\tremaining: 1m 6s\n",
      "373:\tlearn: 1578.2878174\ttotal: 39.6s\tremaining: 1m 6s\n",
      "374:\tlearn: 1577.9436969\ttotal: 39.7s\tremaining: 1m 6s\n",
      "375:\tlearn: 1577.6010339\ttotal: 39.8s\tremaining: 1m 6s\n",
      "376:\tlearn: 1577.3292598\ttotal: 40s\tremaining: 1m 6s\n",
      "377:\tlearn: 1577.1547198\ttotal: 40.1s\tremaining: 1m 5s\n",
      "378:\tlearn: 1577.0387558\ttotal: 40.2s\tremaining: 1m 5s\n",
      "379:\tlearn: 1576.5069039\ttotal: 40.3s\tremaining: 1m 5s\n",
      "380:\tlearn: 1576.2248327\ttotal: 40.4s\tremaining: 1m 5s\n",
      "381:\tlearn: 1575.9898682\ttotal: 40.5s\tremaining: 1m 5s\n",
      "382:\tlearn: 1575.7497935\ttotal: 40.7s\tremaining: 1m 5s\n",
      "383:\tlearn: 1575.5910693\ttotal: 40.8s\tremaining: 1m 5s\n",
      "384:\tlearn: 1575.4134043\ttotal: 40.9s\tremaining: 1m 5s\n",
      "385:\tlearn: 1575.2160385\ttotal: 41s\tremaining: 1m 5s\n",
      "386:\tlearn: 1574.9713296\ttotal: 41.1s\tremaining: 1m 5s\n",
      "387:\tlearn: 1574.5937793\ttotal: 41.2s\tremaining: 1m 5s\n",
      "388:\tlearn: 1574.3879396\ttotal: 41.3s\tremaining: 1m 4s\n",
      "389:\tlearn: 1574.1499744\ttotal: 41.4s\tremaining: 1m 4s\n",
      "390:\tlearn: 1574.0333995\ttotal: 41.5s\tremaining: 1m 4s\n",
      "391:\tlearn: 1573.9323284\ttotal: 41.6s\tremaining: 1m 4s\n",
      "392:\tlearn: 1573.7249680\ttotal: 41.8s\tremaining: 1m 4s\n",
      "393:\tlearn: 1573.4958550\ttotal: 41.9s\tremaining: 1m 4s\n",
      "394:\tlearn: 1573.2436861\ttotal: 42s\tremaining: 1m 4s\n",
      "395:\tlearn: 1572.7574415\ttotal: 42.1s\tremaining: 1m 4s\n",
      "396:\tlearn: 1572.6214812\ttotal: 42.2s\tremaining: 1m 4s\n",
      "397:\tlearn: 1572.5340353\ttotal: 42.3s\tremaining: 1m 3s\n",
      "398:\tlearn: 1572.4492264\ttotal: 42.4s\tremaining: 1m 3s\n",
      "399:\tlearn: 1572.3442182\ttotal: 42.5s\tremaining: 1m 3s\n",
      "400:\tlearn: 1571.9246014\ttotal: 42.6s\tremaining: 1m 3s\n",
      "401:\tlearn: 1571.8069149\ttotal: 42.7s\tremaining: 1m 3s\n",
      "402:\tlearn: 1571.7037961\ttotal: 42.8s\tremaining: 1m 3s\n",
      "403:\tlearn: 1571.5391354\ttotal: 42.9s\tremaining: 1m 3s\n",
      "404:\tlearn: 1571.3884511\ttotal: 43s\tremaining: 1m 3s\n",
      "405:\tlearn: 1571.2070084\ttotal: 43.1s\tremaining: 1m 3s\n",
      "406:\tlearn: 1571.1021467\ttotal: 43.2s\tremaining: 1m 2s\n",
      "407:\tlearn: 1570.9828829\ttotal: 43.3s\tremaining: 1m 2s\n",
      "408:\tlearn: 1570.6375703\ttotal: 43.4s\tremaining: 1m 2s\n",
      "409:\tlearn: 1570.3526147\ttotal: 43.5s\tremaining: 1m 2s\n",
      "410:\tlearn: 1570.0400237\ttotal: 43.6s\tremaining: 1m 2s\n",
      "411:\tlearn: 1569.8210695\ttotal: 43.7s\tremaining: 1m 2s\n",
      "412:\tlearn: 1569.7693080\ttotal: 43.8s\tremaining: 1m 2s\n",
      "413:\tlearn: 1569.6545066\ttotal: 43.9s\tremaining: 1m 2s\n",
      "414:\tlearn: 1569.3904224\ttotal: 44s\tremaining: 1m 2s\n",
      "415:\tlearn: 1569.2010910\ttotal: 44.2s\tremaining: 1m 1s\n",
      "416:\tlearn: 1569.0177233\ttotal: 44.3s\tremaining: 1m 1s\n",
      "417:\tlearn: 1568.8612119\ttotal: 44.4s\tremaining: 1m 1s\n",
      "418:\tlearn: 1568.7730461\ttotal: 44.5s\tremaining: 1m 1s\n",
      "419:\tlearn: 1568.6861760\ttotal: 44.6s\tremaining: 1m 1s\n",
      "420:\tlearn: 1568.5805518\ttotal: 44.8s\tremaining: 1m 1s\n",
      "421:\tlearn: 1568.4087049\ttotal: 44.9s\tremaining: 1m 1s\n",
      "422:\tlearn: 1568.1944717\ttotal: 45s\tremaining: 1m 1s\n",
      "423:\tlearn: 1568.0154531\ttotal: 45.2s\tremaining: 1m 1s\n",
      "424:\tlearn: 1567.6530697\ttotal: 45.3s\tremaining: 1m 1s\n",
      "425:\tlearn: 1567.3786069\ttotal: 45.4s\tremaining: 1m 1s\n",
      "426:\tlearn: 1567.1564046\ttotal: 45.5s\tremaining: 1m 1s\n",
      "427:\tlearn: 1567.0672325\ttotal: 45.6s\tremaining: 1m 1s\n",
      "428:\tlearn: 1566.9103845\ttotal: 45.7s\tremaining: 1m\n",
      "429:\tlearn: 1566.6410120\ttotal: 45.8s\tremaining: 1m\n",
      "430:\tlearn: 1566.4815997\ttotal: 45.9s\tremaining: 1m\n",
      "431:\tlearn: 1566.3854564\ttotal: 46.1s\tremaining: 1m\n",
      "432:\tlearn: 1566.2255820\ttotal: 46.1s\tremaining: 1m\n",
      "433:\tlearn: 1566.0812498\ttotal: 46.3s\tremaining: 1m\n",
      "434:\tlearn: 1565.9722085\ttotal: 46.4s\tremaining: 1m\n",
      "435:\tlearn: 1565.9303163\ttotal: 46.5s\tremaining: 1m\n",
      "436:\tlearn: 1565.5522352\ttotal: 46.6s\tremaining: 60s\n",
      "437:\tlearn: 1565.3416522\ttotal: 46.6s\tremaining: 59.9s\n",
      "438:\tlearn: 1565.1120089\ttotal: 46.7s\tremaining: 59.7s\n",
      "439:\tlearn: 1564.9309196\ttotal: 46.8s\tremaining: 59.6s\n",
      "440:\tlearn: 1564.7777662\ttotal: 47s\tremaining: 59.5s\n",
      "441:\tlearn: 1564.6248654\ttotal: 47s\tremaining: 59.4s\n",
      "442:\tlearn: 1564.5061703\ttotal: 47.1s\tremaining: 59.3s\n",
      "443:\tlearn: 1564.2849378\ttotal: 47.2s\tremaining: 59.2s\n",
      "444:\tlearn: 1564.2066474\ttotal: 47.3s\tremaining: 59s\n",
      "445:\tlearn: 1563.9891450\ttotal: 47.4s\tremaining: 58.9s\n",
      "446:\tlearn: 1563.9149092\ttotal: 47.6s\tremaining: 58.8s\n",
      "447:\tlearn: 1563.7225476\ttotal: 47.7s\tremaining: 58.7s\n",
      "448:\tlearn: 1563.3448434\ttotal: 47.8s\tremaining: 58.6s\n",
      "449:\tlearn: 1563.2346134\ttotal: 47.9s\tremaining: 58.5s\n",
      "450:\tlearn: 1563.0658451\ttotal: 48s\tremaining: 58.4s\n",
      "451:\tlearn: 1562.9389717\ttotal: 48.1s\tremaining: 58.4s\n",
      "452:\tlearn: 1562.7346953\ttotal: 48.2s\tremaining: 58.3s\n",
      "453:\tlearn: 1562.5916151\ttotal: 48.3s\tremaining: 58.1s\n",
      "454:\tlearn: 1562.3557322\ttotal: 48.5s\tremaining: 58.1s\n",
      "455:\tlearn: 1562.2777148\ttotal: 48.6s\tremaining: 58s\n",
      "456:\tlearn: 1562.1555091\ttotal: 48.7s\tremaining: 57.8s\n",
      "457:\tlearn: 1561.9850629\ttotal: 48.8s\tremaining: 57.7s\n",
      "458:\tlearn: 1561.8246173\ttotal: 48.9s\tremaining: 57.6s\n",
      "459:\tlearn: 1561.6406751\ttotal: 49s\tremaining: 57.5s\n",
      "460:\tlearn: 1561.4143328\ttotal: 49.1s\tremaining: 57.4s\n",
      "461:\tlearn: 1561.3331907\ttotal: 49.2s\tremaining: 57.3s\n",
      "462:\tlearn: 1561.1813339\ttotal: 49.3s\tremaining: 57.2s\n",
      "463:\tlearn: 1561.0888386\ttotal: 49.4s\tremaining: 57.1s\n",
      "464:\tlearn: 1560.8799396\ttotal: 49.5s\tremaining: 57s\n",
      "465:\tlearn: 1560.7305746\ttotal: 49.7s\tremaining: 56.9s\n",
      "466:\tlearn: 1560.5410537\ttotal: 49.8s\tremaining: 56.8s\n",
      "467:\tlearn: 1560.3927179\ttotal: 49.9s\tremaining: 56.7s\n",
      "468:\tlearn: 1560.1528066\ttotal: 50s\tremaining: 56.6s\n",
      "469:\tlearn: 1560.0836694\ttotal: 50.1s\tremaining: 56.5s\n",
      "470:\tlearn: 1559.8809502\ttotal: 50.2s\tremaining: 56.4s\n",
      "471:\tlearn: 1559.7247508\ttotal: 50.3s\tremaining: 56.2s\n",
      "472:\tlearn: 1559.5220576\ttotal: 50.4s\tremaining: 56.1s\n",
      "473:\tlearn: 1559.3992838\ttotal: 50.5s\tremaining: 56s\n",
      "474:\tlearn: 1559.3828912\ttotal: 50.6s\tremaining: 55.9s\n",
      "475:\tlearn: 1558.9555622\ttotal: 50.7s\tremaining: 55.8s\n",
      "476:\tlearn: 1558.7252408\ttotal: 50.8s\tremaining: 55.7s\n",
      "477:\tlearn: 1558.6599341\ttotal: 50.9s\tremaining: 55.6s\n",
      "478:\tlearn: 1558.4828997\ttotal: 51s\tremaining: 55.5s\n",
      "479:\tlearn: 1558.3748974\ttotal: 51.1s\tremaining: 55.4s\n",
      "480:\tlearn: 1558.1879218\ttotal: 51.2s\tremaining: 55.3s\n",
      "481:\tlearn: 1557.9517656\ttotal: 51.3s\tremaining: 55.1s\n",
      "482:\tlearn: 1557.7516466\ttotal: 51.4s\tremaining: 55s\n",
      "483:\tlearn: 1557.5890694\ttotal: 51.5s\tremaining: 54.9s\n",
      "484:\tlearn: 1557.4654347\ttotal: 51.6s\tremaining: 54.8s\n",
      "485:\tlearn: 1557.3901673\ttotal: 51.7s\tremaining: 54.7s\n",
      "486:\tlearn: 1557.2907572\ttotal: 51.8s\tremaining: 54.6s\n",
      "487:\tlearn: 1556.9883458\ttotal: 51.9s\tremaining: 54.5s\n",
      "488:\tlearn: 1556.8493102\ttotal: 52s\tremaining: 54.4s\n",
      "489:\tlearn: 1556.6810491\ttotal: 52.1s\tremaining: 54.2s\n",
      "490:\tlearn: 1556.3965135\ttotal: 52.2s\tremaining: 54.1s\n",
      "491:\tlearn: 1556.3124020\ttotal: 52.3s\tremaining: 54s\n",
      "492:\tlearn: 1556.1657442\ttotal: 52.4s\tremaining: 53.9s\n",
      "493:\tlearn: 1555.9300750\ttotal: 52.4s\tremaining: 53.7s\n",
      "494:\tlearn: 1555.7092674\ttotal: 52.5s\tremaining: 53.6s\n",
      "495:\tlearn: 1555.6811477\ttotal: 52.7s\tremaining: 53.5s\n",
      "496:\tlearn: 1555.5755670\ttotal: 52.8s\tremaining: 53.4s\n",
      "497:\tlearn: 1555.3383147\ttotal: 52.9s\tremaining: 53.3s\n",
      "498:\tlearn: 1555.2785921\ttotal: 53s\tremaining: 53.2s\n",
      "499:\tlearn: 1554.8910311\ttotal: 53.1s\tremaining: 53.1s\n",
      "500:\tlearn: 1554.7320514\ttotal: 53.2s\tremaining: 53s\n",
      "501:\tlearn: 1554.6542582\ttotal: 53.3s\tremaining: 52.8s\n",
      "502:\tlearn: 1554.4861149\ttotal: 53.4s\tremaining: 52.7s\n",
      "503:\tlearn: 1554.4226216\ttotal: 53.5s\tremaining: 52.6s\n",
      "504:\tlearn: 1554.1909706\ttotal: 53.5s\tremaining: 52.5s\n",
      "505:\tlearn: 1553.9740049\ttotal: 53.6s\tremaining: 52.4s\n",
      "506:\tlearn: 1553.9454793\ttotal: 53.7s\tremaining: 52.3s\n",
      "507:\tlearn: 1553.7158626\ttotal: 53.9s\tremaining: 52.2s\n",
      "508:\tlearn: 1553.5892682\ttotal: 54s\tremaining: 52.1s\n",
      "509:\tlearn: 1553.4411912\ttotal: 54.2s\tremaining: 52s\n",
      "510:\tlearn: 1553.1978040\ttotal: 54.3s\tremaining: 51.9s\n",
      "511:\tlearn: 1552.8395015\ttotal: 54.4s\tremaining: 51.8s\n",
      "512:\tlearn: 1552.5981895\ttotal: 54.5s\tremaining: 51.7s\n",
      "513:\tlearn: 1552.5020178\ttotal: 54.6s\tremaining: 51.6s\n",
      "514:\tlearn: 1552.3631020\ttotal: 54.7s\tremaining: 51.5s\n",
      "515:\tlearn: 1552.1740338\ttotal: 54.8s\tremaining: 51.4s\n",
      "516:\tlearn: 1552.0730413\ttotal: 54.9s\tremaining: 51.3s\n",
      "517:\tlearn: 1551.7951902\ttotal: 55s\tremaining: 51.2s\n",
      "518:\tlearn: 1551.6665082\ttotal: 55.1s\tremaining: 51.1s\n",
      "519:\tlearn: 1551.5044822\ttotal: 55.3s\tremaining: 51s\n",
      "520:\tlearn: 1551.2707669\ttotal: 55.4s\tremaining: 50.9s\n",
      "521:\tlearn: 1551.1632672\ttotal: 55.5s\tremaining: 50.9s\n",
      "522:\tlearn: 1550.6651373\ttotal: 55.7s\tremaining: 50.8s\n",
      "523:\tlearn: 1550.5233282\ttotal: 55.8s\tremaining: 50.7s\n",
      "524:\tlearn: 1550.4275004\ttotal: 55.8s\tremaining: 50.5s\n",
      "525:\tlearn: 1550.2983878\ttotal: 56s\tremaining: 50.4s\n",
      "526:\tlearn: 1550.0826700\ttotal: 56.1s\tremaining: 50.3s\n",
      "527:\tlearn: 1549.9026013\ttotal: 56.2s\tremaining: 50.2s\n",
      "528:\tlearn: 1549.7873401\ttotal: 56.3s\tremaining: 50.1s\n",
      "529:\tlearn: 1549.5975805\ttotal: 56.4s\tremaining: 50.1s\n",
      "530:\tlearn: 1549.4005030\ttotal: 56.6s\tremaining: 50s\n",
      "531:\tlearn: 1549.1958113\ttotal: 56.7s\tremaining: 49.9s\n",
      "532:\tlearn: 1549.0438466\ttotal: 56.8s\tremaining: 49.8s\n",
      "533:\tlearn: 1548.9373249\ttotal: 56.9s\tremaining: 49.7s\n",
      "534:\tlearn: 1548.8264053\ttotal: 57s\tremaining: 49.6s\n",
      "535:\tlearn: 1548.7337942\ttotal: 57.1s\tremaining: 49.5s\n",
      "536:\tlearn: 1548.6696524\ttotal: 57.2s\tremaining: 49.3s\n",
      "537:\tlearn: 1548.5381394\ttotal: 57.4s\tremaining: 49.3s\n",
      "538:\tlearn: 1548.4393021\ttotal: 57.5s\tremaining: 49.2s\n",
      "539:\tlearn: 1548.3271278\ttotal: 57.6s\tremaining: 49.1s\n",
      "540:\tlearn: 1548.1914521\ttotal: 57.7s\tremaining: 48.9s\n",
      "541:\tlearn: 1548.0288807\ttotal: 57.8s\tremaining: 48.8s\n",
      "542:\tlearn: 1547.8563815\ttotal: 57.9s\tremaining: 48.7s\n",
      "543:\tlearn: 1547.7088818\ttotal: 58s\tremaining: 48.6s\n",
      "544:\tlearn: 1547.6456638\ttotal: 58.1s\tremaining: 48.5s\n",
      "545:\tlearn: 1547.4983705\ttotal: 58.2s\tremaining: 48.4s\n",
      "546:\tlearn: 1547.2906851\ttotal: 58.3s\tremaining: 48.3s\n",
      "547:\tlearn: 1547.1273905\ttotal: 58.4s\tremaining: 48.2s\n",
      "548:\tlearn: 1546.9471600\ttotal: 58.5s\tremaining: 48.1s\n",
      "549:\tlearn: 1546.7584711\ttotal: 58.6s\tremaining: 48s\n",
      "550:\tlearn: 1546.7139119\ttotal: 58.7s\tremaining: 47.9s\n",
      "551:\tlearn: 1546.6072207\ttotal: 58.8s\tremaining: 47.8s\n",
      "552:\tlearn: 1546.5064671\ttotal: 58.9s\tremaining: 47.6s\n",
      "553:\tlearn: 1546.3750434\ttotal: 59s\tremaining: 47.5s\n",
      "554:\tlearn: 1546.2091234\ttotal: 59.2s\tremaining: 47.4s\n",
      "555:\tlearn: 1546.1451177\ttotal: 59.3s\tremaining: 47.3s\n",
      "556:\tlearn: 1546.0181634\ttotal: 59.4s\tremaining: 47.3s\n",
      "557:\tlearn: 1545.8648922\ttotal: 59.6s\tremaining: 47.2s\n",
      "558:\tlearn: 1545.7135042\ttotal: 59.7s\tremaining: 47.1s\n",
      "559:\tlearn: 1545.6305968\ttotal: 59.8s\tremaining: 47s\n",
      "560:\tlearn: 1545.5552537\ttotal: 59.9s\tremaining: 46.8s\n",
      "561:\tlearn: 1545.4289344\ttotal: 60s\tremaining: 46.7s\n",
      "562:\tlearn: 1545.4000672\ttotal: 1m\tremaining: 46.6s\n",
      "563:\tlearn: 1545.3220086\ttotal: 1m\tremaining: 46.5s\n",
      "564:\tlearn: 1545.0334222\ttotal: 1m\tremaining: 46.4s\n",
      "565:\tlearn: 1544.9520632\ttotal: 1m\tremaining: 46.3s\n",
      "566:\tlearn: 1544.7976299\ttotal: 1m\tremaining: 46.2s\n",
      "567:\tlearn: 1544.5963171\ttotal: 1m\tremaining: 46.1s\n",
      "568:\tlearn: 1544.4208651\ttotal: 1m\tremaining: 46s\n",
      "569:\tlearn: 1544.2106060\ttotal: 1m\tremaining: 45.9s\n",
      "570:\tlearn: 1544.0970271\ttotal: 1m\tremaining: 45.8s\n",
      "571:\tlearn: 1544.0403447\ttotal: 1m 1s\tremaining: 45.7s\n",
      "572:\tlearn: 1543.8652342\ttotal: 1m 1s\tremaining: 45.6s\n",
      "573:\tlearn: 1543.6149454\ttotal: 1m 1s\tremaining: 45.5s\n",
      "574:\tlearn: 1543.5785781\ttotal: 1m 1s\tremaining: 45.4s\n",
      "575:\tlearn: 1543.4499159\ttotal: 1m 1s\tremaining: 45.3s\n",
      "576:\tlearn: 1543.4216540\ttotal: 1m 1s\tremaining: 45.2s\n",
      "577:\tlearn: 1543.2368603\ttotal: 1m 1s\tremaining: 45.1s\n",
      "578:\tlearn: 1543.0105456\ttotal: 1m 1s\tremaining: 45.1s\n",
      "579:\tlearn: 1542.7448632\ttotal: 1m 2s\tremaining: 45s\n",
      "580:\tlearn: 1542.6553243\ttotal: 1m 2s\tremaining: 44.9s\n",
      "581:\tlearn: 1542.4425556\ttotal: 1m 2s\tremaining: 44.8s\n",
      "582:\tlearn: 1542.1867350\ttotal: 1m 2s\tremaining: 44.7s\n",
      "583:\tlearn: 1542.0801508\ttotal: 1m 2s\tremaining: 44.6s\n",
      "584:\tlearn: 1541.9178823\ttotal: 1m 2s\tremaining: 44.5s\n",
      "585:\tlearn: 1541.8566252\ttotal: 1m 2s\tremaining: 44.3s\n",
      "586:\tlearn: 1541.5929156\ttotal: 1m 2s\tremaining: 44.2s\n",
      "587:\tlearn: 1541.4700213\ttotal: 1m 2s\tremaining: 44.1s\n",
      "588:\tlearn: 1541.3707056\ttotal: 1m 3s\tremaining: 44s\n",
      "589:\tlearn: 1541.3047530\ttotal: 1m 3s\tremaining: 43.9s\n",
      "590:\tlearn: 1541.1362967\ttotal: 1m 3s\tremaining: 43.8s\n",
      "591:\tlearn: 1540.8965924\ttotal: 1m 3s\tremaining: 43.7s\n",
      "592:\tlearn: 1540.8537777\ttotal: 1m 3s\tremaining: 43.6s\n",
      "593:\tlearn: 1540.7859239\ttotal: 1m 3s\tremaining: 43.5s\n",
      "594:\tlearn: 1540.6486329\ttotal: 1m 3s\tremaining: 43.4s\n",
      "595:\tlearn: 1540.5686891\ttotal: 1m 3s\tremaining: 43.3s\n",
      "596:\tlearn: 1540.4442055\ttotal: 1m 3s\tremaining: 43.2s\n",
      "597:\tlearn: 1540.3664893\ttotal: 1m 4s\tremaining: 43.1s\n",
      "598:\tlearn: 1540.2268729\ttotal: 1m 4s\tremaining: 43s\n",
      "599:\tlearn: 1540.0672110\ttotal: 1m 4s\tremaining: 42.9s\n",
      "600:\tlearn: 1539.8202908\ttotal: 1m 4s\tremaining: 42.8s\n",
      "601:\tlearn: 1539.7151758\ttotal: 1m 4s\tremaining: 42.7s\n",
      "602:\tlearn: 1539.6362534\ttotal: 1m 4s\tremaining: 42.5s\n",
      "603:\tlearn: 1539.4386457\ttotal: 1m 4s\tremaining: 42.5s\n",
      "604:\tlearn: 1539.3097355\ttotal: 1m 4s\tremaining: 42.4s\n",
      "605:\tlearn: 1539.2369615\ttotal: 1m 4s\tremaining: 42.2s\n",
      "606:\tlearn: 1539.1773091\ttotal: 1m 5s\tremaining: 42.1s\n",
      "607:\tlearn: 1539.0063431\ttotal: 1m 5s\tremaining: 42s\n",
      "608:\tlearn: 1538.8840270\ttotal: 1m 5s\tremaining: 41.9s\n",
      "609:\tlearn: 1538.7309792\ttotal: 1m 5s\tremaining: 41.8s\n",
      "610:\tlearn: 1538.6348197\ttotal: 1m 5s\tremaining: 41.7s\n",
      "611:\tlearn: 1538.4982630\ttotal: 1m 5s\tremaining: 41.6s\n",
      "612:\tlearn: 1538.3558772\ttotal: 1m 5s\tremaining: 41.5s\n",
      "613:\tlearn: 1538.2451005\ttotal: 1m 5s\tremaining: 41.4s\n",
      "614:\tlearn: 1537.8722204\ttotal: 1m 5s\tremaining: 41.3s\n",
      "615:\tlearn: 1537.6820094\ttotal: 1m 6s\tremaining: 41.2s\n",
      "616:\tlearn: 1537.5185715\ttotal: 1m 6s\tremaining: 41.1s\n",
      "617:\tlearn: 1537.4178275\ttotal: 1m 6s\tremaining: 41s\n",
      "618:\tlearn: 1537.2060015\ttotal: 1m 6s\tremaining: 40.9s\n",
      "619:\tlearn: 1537.1648797\ttotal: 1m 6s\tremaining: 40.8s\n",
      "620:\tlearn: 1537.1059542\ttotal: 1m 6s\tremaining: 40.7s\n",
      "621:\tlearn: 1537.0593056\ttotal: 1m 6s\tremaining: 40.6s\n",
      "622:\tlearn: 1537.0091230\ttotal: 1m 6s\tremaining: 40.5s\n",
      "623:\tlearn: 1536.9370794\ttotal: 1m 6s\tremaining: 40.4s\n",
      "624:\tlearn: 1536.7949978\ttotal: 1m 7s\tremaining: 40.3s\n",
      "625:\tlearn: 1536.7855230\ttotal: 1m 7s\tremaining: 40.1s\n",
      "626:\tlearn: 1536.6396202\ttotal: 1m 7s\tremaining: 40s\n",
      "627:\tlearn: 1536.4884981\ttotal: 1m 7s\tremaining: 39.9s\n",
      "628:\tlearn: 1536.3349305\ttotal: 1m 7s\tremaining: 39.8s\n",
      "629:\tlearn: 1536.0686801\ttotal: 1m 7s\tremaining: 39.6s\n",
      "630:\tlearn: 1535.9498711\ttotal: 1m 7s\tremaining: 39.5s\n",
      "631:\tlearn: 1535.7679518\ttotal: 1m 7s\tremaining: 39.4s\n",
      "632:\tlearn: 1535.6527150\ttotal: 1m 7s\tremaining: 39.3s\n",
      "633:\tlearn: 1535.5599177\ttotal: 1m 7s\tremaining: 39.2s\n",
      "634:\tlearn: 1535.4036774\ttotal: 1m 7s\tremaining: 39s\n",
      "635:\tlearn: 1535.2617581\ttotal: 1m 8s\tremaining: 38.9s\n",
      "636:\tlearn: 1535.1225513\ttotal: 1m 8s\tremaining: 38.8s\n",
      "637:\tlearn: 1534.9440499\ttotal: 1m 8s\tremaining: 38.7s\n",
      "638:\tlearn: 1534.8685185\ttotal: 1m 8s\tremaining: 38.6s\n",
      "639:\tlearn: 1534.6696618\ttotal: 1m 8s\tremaining: 38.5s\n",
      "640:\tlearn: 1534.5765500\ttotal: 1m 8s\tremaining: 38.4s\n",
      "641:\tlearn: 1534.3413024\ttotal: 1m 8s\tremaining: 38.3s\n",
      "642:\tlearn: 1534.1227587\ttotal: 1m 8s\tremaining: 38.1s\n",
      "643:\tlearn: 1533.9770736\ttotal: 1m 8s\tremaining: 38s\n",
      "644:\tlearn: 1533.7813643\ttotal: 1m 8s\tremaining: 37.9s\n",
      "645:\tlearn: 1533.6282091\ttotal: 1m 9s\tremaining: 37.8s\n",
      "646:\tlearn: 1533.5799279\ttotal: 1m 9s\tremaining: 37.7s\n",
      "647:\tlearn: 1533.2786426\ttotal: 1m 9s\tremaining: 37.7s\n",
      "648:\tlearn: 1533.1235927\ttotal: 1m 9s\tremaining: 37.6s\n",
      "649:\tlearn: 1532.9816660\ttotal: 1m 9s\tremaining: 37.5s\n",
      "650:\tlearn: 1532.8394410\ttotal: 1m 9s\tremaining: 37.4s\n",
      "651:\tlearn: 1532.7269472\ttotal: 1m 9s\tremaining: 37.3s\n",
      "652:\tlearn: 1532.6878191\ttotal: 1m 9s\tremaining: 37.2s\n",
      "653:\tlearn: 1532.5321598\ttotal: 1m 10s\tremaining: 37.1s\n",
      "654:\tlearn: 1532.4514456\ttotal: 1m 10s\tremaining: 37s\n",
      "655:\tlearn: 1532.2780951\ttotal: 1m 10s\tremaining: 36.9s\n",
      "656:\tlearn: 1532.2392139\ttotal: 1m 10s\tremaining: 36.8s\n",
      "657:\tlearn: 1532.0651242\ttotal: 1m 10s\tremaining: 36.6s\n",
      "658:\tlearn: 1531.8677311\ttotal: 1m 10s\tremaining: 36.6s\n",
      "659:\tlearn: 1531.7341201\ttotal: 1m 10s\tremaining: 36.5s\n",
      "660:\tlearn: 1531.6665425\ttotal: 1m 10s\tremaining: 36.4s\n",
      "661:\tlearn: 1531.5447484\ttotal: 1m 10s\tremaining: 36.2s\n",
      "662:\tlearn: 1531.4568504\ttotal: 1m 11s\tremaining: 36.1s\n",
      "663:\tlearn: 1531.3179062\ttotal: 1m 11s\tremaining: 36s\n",
      "664:\tlearn: 1531.2945328\ttotal: 1m 11s\tremaining: 35.9s\n",
      "665:\tlearn: 1531.2165635\ttotal: 1m 11s\tremaining: 35.8s\n",
      "666:\tlearn: 1531.0370845\ttotal: 1m 11s\tremaining: 35.7s\n",
      "667:\tlearn: 1530.9443418\ttotal: 1m 11s\tremaining: 35.6s\n",
      "668:\tlearn: 1530.7574308\ttotal: 1m 11s\tremaining: 35.5s\n",
      "669:\tlearn: 1530.7270205\ttotal: 1m 11s\tremaining: 35.4s\n",
      "670:\tlearn: 1530.5663111\ttotal: 1m 11s\tremaining: 35.3s\n",
      "671:\tlearn: 1530.4738082\ttotal: 1m 12s\tremaining: 35.2s\n",
      "672:\tlearn: 1530.3722534\ttotal: 1m 12s\tremaining: 35.1s\n",
      "673:\tlearn: 1530.1560636\ttotal: 1m 12s\tremaining: 35s\n",
      "674:\tlearn: 1530.1047989\ttotal: 1m 12s\tremaining: 34.9s\n",
      "675:\tlearn: 1529.9035490\ttotal: 1m 12s\tremaining: 34.8s\n",
      "676:\tlearn: 1529.6331120\ttotal: 1m 12s\tremaining: 34.7s\n",
      "677:\tlearn: 1529.5160887\ttotal: 1m 12s\tremaining: 34.6s\n",
      "678:\tlearn: 1529.3237900\ttotal: 1m 12s\tremaining: 34.5s\n",
      "679:\tlearn: 1529.1612140\ttotal: 1m 13s\tremaining: 34.4s\n",
      "680:\tlearn: 1529.0251839\ttotal: 1m 13s\tremaining: 34.3s\n",
      "681:\tlearn: 1528.9951714\ttotal: 1m 13s\tremaining: 34.1s\n",
      "682:\tlearn: 1528.7520061\ttotal: 1m 13s\tremaining: 34s\n",
      "683:\tlearn: 1528.5164178\ttotal: 1m 13s\tremaining: 33.9s\n",
      "684:\tlearn: 1528.3991743\ttotal: 1m 13s\tremaining: 33.8s\n",
      "685:\tlearn: 1528.3486949\ttotal: 1m 13s\tremaining: 33.7s\n",
      "686:\tlearn: 1528.0947289\ttotal: 1m 13s\tremaining: 33.6s\n",
      "687:\tlearn: 1527.9857152\ttotal: 1m 13s\tremaining: 33.5s\n",
      "688:\tlearn: 1527.8471460\ttotal: 1m 14s\tremaining: 33.4s\n",
      "689:\tlearn: 1527.7101545\ttotal: 1m 14s\tremaining: 33.3s\n",
      "690:\tlearn: 1527.6116929\ttotal: 1m 14s\tremaining: 33.2s\n",
      "691:\tlearn: 1527.5338819\ttotal: 1m 14s\tremaining: 33.1s\n",
      "692:\tlearn: 1527.4418781\ttotal: 1m 14s\tremaining: 33s\n",
      "693:\tlearn: 1527.3795913\ttotal: 1m 14s\tremaining: 32.9s\n",
      "694:\tlearn: 1527.2684687\ttotal: 1m 14s\tremaining: 32.8s\n",
      "695:\tlearn: 1527.1516407\ttotal: 1m 14s\tremaining: 32.7s\n",
      "696:\tlearn: 1527.0089205\ttotal: 1m 14s\tremaining: 32.6s\n",
      "697:\tlearn: 1526.9299800\ttotal: 1m 15s\tremaining: 32.5s\n",
      "698:\tlearn: 1526.8224739\ttotal: 1m 15s\tremaining: 32.4s\n",
      "699:\tlearn: 1526.7488042\ttotal: 1m 15s\tremaining: 32.3s\n",
      "700:\tlearn: 1526.6324667\ttotal: 1m 15s\tremaining: 32.2s\n",
      "701:\tlearn: 1526.5606885\ttotal: 1m 15s\tremaining: 32.1s\n",
      "702:\tlearn: 1526.4455249\ttotal: 1m 15s\tremaining: 32s\n",
      "703:\tlearn: 1526.2380691\ttotal: 1m 15s\tremaining: 31.8s\n",
      "704:\tlearn: 1526.1630156\ttotal: 1m 15s\tremaining: 31.7s\n",
      "705:\tlearn: 1525.9809315\ttotal: 1m 15s\tremaining: 31.6s\n",
      "706:\tlearn: 1525.9394751\ttotal: 1m 16s\tremaining: 31.5s\n",
      "707:\tlearn: 1525.8637050\ttotal: 1m 16s\tremaining: 31.4s\n",
      "708:\tlearn: 1525.7679523\ttotal: 1m 16s\tremaining: 31.3s\n",
      "709:\tlearn: 1525.6431540\ttotal: 1m 16s\tremaining: 31.2s\n",
      "710:\tlearn: 1525.5090041\ttotal: 1m 16s\tremaining: 31.1s\n",
      "711:\tlearn: 1525.3246712\ttotal: 1m 16s\tremaining: 31s\n",
      "712:\tlearn: 1525.2260058\ttotal: 1m 16s\tremaining: 30.9s\n",
      "713:\tlearn: 1525.1900248\ttotal: 1m 16s\tremaining: 30.8s\n",
      "714:\tlearn: 1525.1776505\ttotal: 1m 16s\tremaining: 30.6s\n",
      "715:\tlearn: 1525.1234757\ttotal: 1m 17s\tremaining: 30.6s\n",
      "716:\tlearn: 1524.9837153\ttotal: 1m 17s\tremaining: 30.5s\n",
      "717:\tlearn: 1524.9291941\ttotal: 1m 17s\tremaining: 30.3s\n",
      "718:\tlearn: 1524.8588928\ttotal: 1m 17s\tremaining: 30.2s\n",
      "719:\tlearn: 1524.8012948\ttotal: 1m 17s\tremaining: 30.1s\n",
      "720:\tlearn: 1524.7384939\ttotal: 1m 17s\tremaining: 30s\n",
      "721:\tlearn: 1524.6873758\ttotal: 1m 17s\tremaining: 29.9s\n",
      "722:\tlearn: 1524.6170729\ttotal: 1m 17s\tremaining: 29.8s\n",
      "723:\tlearn: 1524.5060604\ttotal: 1m 17s\tremaining: 29.7s\n",
      "724:\tlearn: 1524.3505323\ttotal: 1m 18s\tremaining: 29.6s\n",
      "725:\tlearn: 1524.2424206\ttotal: 1m 18s\tremaining: 29.5s\n",
      "726:\tlearn: 1524.1450436\ttotal: 1m 18s\tremaining: 29.4s\n",
      "727:\tlearn: 1523.9769406\ttotal: 1m 18s\tremaining: 29.2s\n",
      "728:\tlearn: 1523.8528880\ttotal: 1m 18s\tremaining: 29.1s\n",
      "729:\tlearn: 1523.7782071\ttotal: 1m 18s\tremaining: 29s\n",
      "730:\tlearn: 1523.6142012\ttotal: 1m 18s\tremaining: 28.9s\n",
      "731:\tlearn: 1523.3621542\ttotal: 1m 18s\tremaining: 28.8s\n",
      "732:\tlearn: 1523.2476024\ttotal: 1m 18s\tremaining: 28.7s\n",
      "733:\tlearn: 1523.1426187\ttotal: 1m 18s\tremaining: 28.6s\n",
      "734:\tlearn: 1522.9820767\ttotal: 1m 18s\tremaining: 28.5s\n",
      "735:\tlearn: 1522.6520831\ttotal: 1m 19s\tremaining: 28.4s\n",
      "736:\tlearn: 1522.5606110\ttotal: 1m 19s\tremaining: 28.3s\n",
      "737:\tlearn: 1522.4452742\ttotal: 1m 19s\tremaining: 28.2s\n",
      "738:\tlearn: 1522.2966767\ttotal: 1m 19s\tremaining: 28.1s\n",
      "739:\tlearn: 1522.1611290\ttotal: 1m 19s\tremaining: 28s\n",
      "740:\tlearn: 1522.0157612\ttotal: 1m 19s\tremaining: 27.9s\n",
      "741:\tlearn: 1521.8446991\ttotal: 1m 19s\tremaining: 27.7s\n",
      "742:\tlearn: 1521.7058244\ttotal: 1m 19s\tremaining: 27.6s\n",
      "743:\tlearn: 1521.6639441\ttotal: 1m 20s\tremaining: 27.5s\n",
      "744:\tlearn: 1521.5037832\ttotal: 1m 20s\tremaining: 27.4s\n",
      "745:\tlearn: 1521.3639597\ttotal: 1m 20s\tremaining: 27.3s\n",
      "746:\tlearn: 1521.2222968\ttotal: 1m 20s\tremaining: 27.2s\n",
      "747:\tlearn: 1521.1900727\ttotal: 1m 20s\tremaining: 27.1s\n",
      "748:\tlearn: 1521.1067775\ttotal: 1m 20s\tremaining: 27s\n",
      "749:\tlearn: 1521.0265638\ttotal: 1m 20s\tremaining: 26.9s\n",
      "750:\tlearn: 1520.8423484\ttotal: 1m 20s\tremaining: 26.8s\n",
      "751:\tlearn: 1520.7547578\ttotal: 1m 20s\tremaining: 26.7s\n",
      "752:\tlearn: 1520.6974078\ttotal: 1m 21s\tremaining: 26.6s\n",
      "753:\tlearn: 1520.5687276\ttotal: 1m 21s\tremaining: 26.5s\n",
      "754:\tlearn: 1520.4585526\ttotal: 1m 21s\tremaining: 26.4s\n",
      "755:\tlearn: 1520.4084876\ttotal: 1m 21s\tremaining: 26.3s\n",
      "756:\tlearn: 1520.3418124\ttotal: 1m 21s\tremaining: 26.2s\n",
      "757:\tlearn: 1520.2402610\ttotal: 1m 21s\tremaining: 26.1s\n",
      "758:\tlearn: 1520.1679251\ttotal: 1m 21s\tremaining: 25.9s\n",
      "759:\tlearn: 1520.1364124\ttotal: 1m 21s\tremaining: 25.8s\n",
      "760:\tlearn: 1520.0696174\ttotal: 1m 21s\tremaining: 25.7s\n",
      "761:\tlearn: 1519.9644939\ttotal: 1m 22s\tremaining: 25.6s\n",
      "762:\tlearn: 1519.8218760\ttotal: 1m 22s\tremaining: 25.5s\n",
      "763:\tlearn: 1519.7039361\ttotal: 1m 22s\tremaining: 25.4s\n",
      "764:\tlearn: 1519.6004533\ttotal: 1m 22s\tremaining: 25.3s\n",
      "765:\tlearn: 1519.4926124\ttotal: 1m 22s\tremaining: 25.2s\n",
      "766:\tlearn: 1519.3983054\ttotal: 1m 22s\tremaining: 25.1s\n",
      "767:\tlearn: 1519.2769128\ttotal: 1m 22s\tremaining: 25s\n",
      "768:\tlearn: 1519.0589642\ttotal: 1m 22s\tremaining: 24.9s\n",
      "769:\tlearn: 1518.9596350\ttotal: 1m 22s\tremaining: 24.8s\n",
      "770:\tlearn: 1518.8138749\ttotal: 1m 23s\tremaining: 24.7s\n",
      "771:\tlearn: 1518.6496529\ttotal: 1m 23s\tremaining: 24.6s\n",
      "772:\tlearn: 1518.5506956\ttotal: 1m 23s\tremaining: 24.5s\n",
      "773:\tlearn: 1518.4182048\ttotal: 1m 23s\tremaining: 24.4s\n",
      "774:\tlearn: 1518.3064987\ttotal: 1m 23s\tremaining: 24.3s\n",
      "775:\tlearn: 1518.1526272\ttotal: 1m 23s\tremaining: 24.1s\n",
      "776:\tlearn: 1518.0454951\ttotal: 1m 23s\tremaining: 24s\n",
      "777:\tlearn: 1517.8694080\ttotal: 1m 23s\tremaining: 23.9s\n",
      "778:\tlearn: 1517.7422892\ttotal: 1m 23s\tremaining: 23.8s\n",
      "779:\tlearn: 1517.6571858\ttotal: 1m 24s\tremaining: 23.7s\n",
      "780:\tlearn: 1517.5900061\ttotal: 1m 24s\tremaining: 23.6s\n",
      "781:\tlearn: 1517.5189577\ttotal: 1m 24s\tremaining: 23.5s\n",
      "782:\tlearn: 1517.3377014\ttotal: 1m 24s\tremaining: 23.4s\n",
      "783:\tlearn: 1517.1654546\ttotal: 1m 24s\tremaining: 23.3s\n",
      "784:\tlearn: 1517.1065857\ttotal: 1m 24s\tremaining: 23.2s\n",
      "785:\tlearn: 1517.0317127\ttotal: 1m 24s\tremaining: 23.1s\n",
      "786:\tlearn: 1516.9030650\ttotal: 1m 24s\tremaining: 23s\n",
      "787:\tlearn: 1516.8491696\ttotal: 1m 24s\tremaining: 22.9s\n",
      "788:\tlearn: 1516.7564773\ttotal: 1m 25s\tremaining: 22.8s\n",
      "789:\tlearn: 1516.6603927\ttotal: 1m 25s\tremaining: 22.7s\n",
      "790:\tlearn: 1516.6382684\ttotal: 1m 25s\tremaining: 22.5s\n",
      "791:\tlearn: 1516.6240227\ttotal: 1m 25s\tremaining: 22.4s\n",
      "792:\tlearn: 1516.6024003\ttotal: 1m 25s\tremaining: 22.3s\n",
      "793:\tlearn: 1516.4552403\ttotal: 1m 25s\tremaining: 22.2s\n",
      "794:\tlearn: 1516.3941811\ttotal: 1m 25s\tremaining: 22.1s\n",
      "795:\tlearn: 1516.3586810\ttotal: 1m 25s\tremaining: 22s\n",
      "796:\tlearn: 1516.3163869\ttotal: 1m 25s\tremaining: 21.9s\n",
      "797:\tlearn: 1516.2669923\ttotal: 1m 26s\tremaining: 21.8s\n",
      "798:\tlearn: 1516.0742061\ttotal: 1m 26s\tremaining: 21.7s\n",
      "799:\tlearn: 1515.9953980\ttotal: 1m 26s\tremaining: 21.6s\n",
      "800:\tlearn: 1515.9612314\ttotal: 1m 26s\tremaining: 21.5s\n",
      "801:\tlearn: 1515.8952738\ttotal: 1m 26s\tremaining: 21.4s\n",
      "802:\tlearn: 1515.8068313\ttotal: 1m 26s\tremaining: 21.3s\n",
      "803:\tlearn: 1515.6614893\ttotal: 1m 26s\tremaining: 21.2s\n",
      "804:\tlearn: 1515.5420102\ttotal: 1m 26s\tremaining: 21s\n",
      "805:\tlearn: 1515.2404982\ttotal: 1m 27s\tremaining: 20.9s\n",
      "806:\tlearn: 1515.1409818\ttotal: 1m 27s\tremaining: 20.8s\n",
      "807:\tlearn: 1515.0844966\ttotal: 1m 27s\tremaining: 20.7s\n",
      "808:\tlearn: 1515.0378562\ttotal: 1m 27s\tremaining: 20.6s\n",
      "809:\tlearn: 1514.9593968\ttotal: 1m 27s\tremaining: 20.5s\n",
      "810:\tlearn: 1514.9194828\ttotal: 1m 27s\tremaining: 20.4s\n",
      "811:\tlearn: 1514.8339512\ttotal: 1m 27s\tremaining: 20.3s\n",
      "812:\tlearn: 1514.7687049\ttotal: 1m 27s\tremaining: 20.2s\n",
      "813:\tlearn: 1514.6427718\ttotal: 1m 27s\tremaining: 20.1s\n",
      "814:\tlearn: 1514.5593431\ttotal: 1m 27s\tremaining: 20s\n",
      "815:\tlearn: 1514.4971646\ttotal: 1m 28s\tremaining: 19.9s\n",
      "816:\tlearn: 1514.4164038\ttotal: 1m 28s\tremaining: 19.7s\n",
      "817:\tlearn: 1514.2991420\ttotal: 1m 28s\tremaining: 19.6s\n",
      "818:\tlearn: 1514.2077626\ttotal: 1m 28s\tremaining: 19.5s\n",
      "819:\tlearn: 1514.1139119\ttotal: 1m 28s\tremaining: 19.4s\n",
      "820:\tlearn: 1514.0009328\ttotal: 1m 28s\tremaining: 19.3s\n",
      "821:\tlearn: 1513.8675051\ttotal: 1m 28s\tremaining: 19.2s\n",
      "822:\tlearn: 1513.8332986\ttotal: 1m 28s\tremaining: 19.1s\n",
      "823:\tlearn: 1513.7625331\ttotal: 1m 28s\tremaining: 19s\n",
      "824:\tlearn: 1513.6764995\ttotal: 1m 29s\tremaining: 18.9s\n",
      "825:\tlearn: 1513.5692827\ttotal: 1m 29s\tremaining: 18.8s\n",
      "826:\tlearn: 1513.5280164\ttotal: 1m 29s\tremaining: 18.7s\n",
      "827:\tlearn: 1513.4061496\ttotal: 1m 29s\tremaining: 18.6s\n",
      "828:\tlearn: 1513.3791954\ttotal: 1m 29s\tremaining: 18.5s\n",
      "829:\tlearn: 1513.3692958\ttotal: 1m 29s\tremaining: 18.4s\n",
      "830:\tlearn: 1513.3015563\ttotal: 1m 29s\tremaining: 18.3s\n",
      "831:\tlearn: 1513.2527309\ttotal: 1m 29s\tremaining: 18.2s\n",
      "832:\tlearn: 1513.2281200\ttotal: 1m 30s\tremaining: 18.1s\n",
      "833:\tlearn: 1513.2179333\ttotal: 1m 30s\tremaining: 17.9s\n",
      "834:\tlearn: 1513.1909585\ttotal: 1m 30s\tremaining: 17.8s\n",
      "835:\tlearn: 1513.1170002\ttotal: 1m 30s\tremaining: 17.7s\n",
      "836:\tlearn: 1513.0433561\ttotal: 1m 30s\tremaining: 17.6s\n",
      "837:\tlearn: 1512.9764955\ttotal: 1m 30s\tremaining: 17.5s\n",
      "838:\tlearn: 1512.8989627\ttotal: 1m 30s\tremaining: 17.4s\n",
      "839:\tlearn: 1512.6756781\ttotal: 1m 30s\tremaining: 17.3s\n",
      "840:\tlearn: 1512.6045851\ttotal: 1m 30s\tremaining: 17.2s\n",
      "841:\tlearn: 1512.4122893\ttotal: 1m 31s\tremaining: 17.1s\n",
      "842:\tlearn: 1512.3219774\ttotal: 1m 31s\tremaining: 17s\n",
      "843:\tlearn: 1512.1866850\ttotal: 1m 31s\tremaining: 16.9s\n",
      "844:\tlearn: 1512.1099648\ttotal: 1m 31s\tremaining: 16.8s\n",
      "845:\tlearn: 1511.9540099\ttotal: 1m 31s\tremaining: 16.7s\n",
      "846:\tlearn: 1511.9018705\ttotal: 1m 31s\tremaining: 16.5s\n",
      "847:\tlearn: 1511.7369742\ttotal: 1m 31s\tremaining: 16.4s\n",
      "848:\tlearn: 1511.6116314\ttotal: 1m 31s\tremaining: 16.3s\n",
      "849:\tlearn: 1511.4972309\ttotal: 1m 31s\tremaining: 16.2s\n",
      "850:\tlearn: 1511.3687409\ttotal: 1m 32s\tremaining: 16.1s\n",
      "851:\tlearn: 1511.2481112\ttotal: 1m 32s\tremaining: 16s\n",
      "852:\tlearn: 1511.1368635\ttotal: 1m 32s\tremaining: 15.9s\n",
      "853:\tlearn: 1511.0987667\ttotal: 1m 32s\tremaining: 15.8s\n",
      "854:\tlearn: 1510.9495130\ttotal: 1m 32s\tremaining: 15.7s\n",
      "855:\tlearn: 1510.8236302\ttotal: 1m 32s\tremaining: 15.6s\n",
      "856:\tlearn: 1510.7504065\ttotal: 1m 32s\tremaining: 15.5s\n",
      "857:\tlearn: 1510.6748497\ttotal: 1m 32s\tremaining: 15.4s\n",
      "858:\tlearn: 1510.4104597\ttotal: 1m 32s\tremaining: 15.2s\n",
      "859:\tlearn: 1510.3059449\ttotal: 1m 33s\tremaining: 15.1s\n",
      "860:\tlearn: 1510.2300455\ttotal: 1m 33s\tremaining: 15s\n",
      "861:\tlearn: 1510.1535152\ttotal: 1m 33s\tremaining: 14.9s\n",
      "862:\tlearn: 1510.0981743\ttotal: 1m 33s\tremaining: 14.8s\n",
      "863:\tlearn: 1509.9355123\ttotal: 1m 33s\tremaining: 14.7s\n",
      "864:\tlearn: 1509.8868193\ttotal: 1m 33s\tremaining: 14.6s\n",
      "865:\tlearn: 1509.7939463\ttotal: 1m 33s\tremaining: 14.5s\n",
      "866:\tlearn: 1509.7200550\ttotal: 1m 33s\tremaining: 14.4s\n",
      "867:\tlearn: 1509.6329546\ttotal: 1m 33s\tremaining: 14.3s\n",
      "868:\tlearn: 1509.5714886\ttotal: 1m 33s\tremaining: 14.2s\n",
      "869:\tlearn: 1509.4717445\ttotal: 1m 34s\tremaining: 14.1s\n",
      "870:\tlearn: 1509.3946997\ttotal: 1m 34s\tremaining: 13.9s\n",
      "871:\tlearn: 1509.3151030\ttotal: 1m 34s\tremaining: 13.8s\n",
      "872:\tlearn: 1509.2324654\ttotal: 1m 34s\tremaining: 13.7s\n",
      "873:\tlearn: 1509.0974104\ttotal: 1m 34s\tremaining: 13.6s\n",
      "874:\tlearn: 1508.9575317\ttotal: 1m 34s\tremaining: 13.5s\n",
      "875:\tlearn: 1508.8918235\ttotal: 1m 34s\tremaining: 13.4s\n",
      "876:\tlearn: 1508.8819792\ttotal: 1m 34s\tremaining: 13.3s\n",
      "877:\tlearn: 1508.8207272\ttotal: 1m 34s\tremaining: 13.2s\n",
      "878:\tlearn: 1508.6643819\ttotal: 1m 35s\tremaining: 13.1s\n",
      "879:\tlearn: 1508.5602925\ttotal: 1m 35s\tremaining: 13s\n",
      "880:\tlearn: 1508.4925190\ttotal: 1m 35s\tremaining: 12.9s\n",
      "881:\tlearn: 1508.3750670\ttotal: 1m 35s\tremaining: 12.8s\n",
      "882:\tlearn: 1508.3508650\ttotal: 1m 35s\tremaining: 12.7s\n",
      "883:\tlearn: 1508.3387359\ttotal: 1m 35s\tremaining: 12.5s\n",
      "884:\tlearn: 1508.2596091\ttotal: 1m 35s\tremaining: 12.4s\n",
      "885:\tlearn: 1508.2162979\ttotal: 1m 35s\tremaining: 12.3s\n",
      "886:\tlearn: 1508.1608273\ttotal: 1m 35s\tremaining: 12.2s\n",
      "887:\tlearn: 1508.0592414\ttotal: 1m 36s\tremaining: 12.1s\n",
      "888:\tlearn: 1507.9373472\ttotal: 1m 36s\tremaining: 12s\n",
      "889:\tlearn: 1507.8485877\ttotal: 1m 36s\tremaining: 11.9s\n",
      "890:\tlearn: 1507.7539186\ttotal: 1m 36s\tremaining: 11.8s\n",
      "891:\tlearn: 1507.5592675\ttotal: 1m 36s\tremaining: 11.7s\n",
      "892:\tlearn: 1507.4082741\ttotal: 1m 36s\tremaining: 11.6s\n",
      "893:\tlearn: 1507.2821757\ttotal: 1m 36s\tremaining: 11.5s\n",
      "894:\tlearn: 1507.0749410\ttotal: 1m 36s\tremaining: 11.4s\n",
      "895:\tlearn: 1507.0248176\ttotal: 1m 36s\tremaining: 11.2s\n",
      "896:\tlearn: 1506.9173001\ttotal: 1m 36s\tremaining: 11.1s\n",
      "897:\tlearn: 1506.8290456\ttotal: 1m 37s\tremaining: 11s\n",
      "898:\tlearn: 1506.7830843\ttotal: 1m 37s\tremaining: 10.9s\n",
      "899:\tlearn: 1506.7324754\ttotal: 1m 37s\tremaining: 10.8s\n",
      "900:\tlearn: 1506.6546564\ttotal: 1m 37s\tremaining: 10.7s\n",
      "901:\tlearn: 1506.5577502\ttotal: 1m 37s\tremaining: 10.6s\n",
      "902:\tlearn: 1506.5312458\ttotal: 1m 37s\tremaining: 10.5s\n",
      "903:\tlearn: 1506.3829517\ttotal: 1m 37s\tremaining: 10.4s\n",
      "904:\tlearn: 1506.2987450\ttotal: 1m 37s\tremaining: 10.3s\n",
      "905:\tlearn: 1506.2421212\ttotal: 1m 37s\tremaining: 10.2s\n",
      "906:\tlearn: 1506.1369277\ttotal: 1m 37s\tremaining: 10s\n",
      "907:\tlearn: 1505.9920780\ttotal: 1m 38s\tremaining: 9.93s\n",
      "908:\tlearn: 1505.7961215\ttotal: 1m 38s\tremaining: 9.82s\n",
      "909:\tlearn: 1505.6996686\ttotal: 1m 38s\tremaining: 9.72s\n",
      "910:\tlearn: 1505.6392331\ttotal: 1m 38s\tremaining: 9.61s\n",
      "911:\tlearn: 1505.5995151\ttotal: 1m 38s\tremaining: 9.5s\n",
      "912:\tlearn: 1505.4275535\ttotal: 1m 38s\tremaining: 9.39s\n",
      "913:\tlearn: 1505.2274144\ttotal: 1m 38s\tremaining: 9.29s\n",
      "914:\tlearn: 1505.2025307\ttotal: 1m 38s\tremaining: 9.18s\n",
      "915:\tlearn: 1505.1758190\ttotal: 1m 38s\tremaining: 9.07s\n",
      "916:\tlearn: 1505.1461527\ttotal: 1m 39s\tremaining: 8.97s\n",
      "917:\tlearn: 1505.1373597\ttotal: 1m 39s\tremaining: 8.86s\n",
      "918:\tlearn: 1505.0410446\ttotal: 1m 39s\tremaining: 8.75s\n",
      "919:\tlearn: 1504.9356152\ttotal: 1m 39s\tremaining: 8.64s\n",
      "920:\tlearn: 1504.8586939\ttotal: 1m 39s\tremaining: 8.53s\n",
      "921:\tlearn: 1504.7761383\ttotal: 1m 39s\tremaining: 8.42s\n",
      "922:\tlearn: 1504.7106441\ttotal: 1m 39s\tremaining: 8.31s\n",
      "923:\tlearn: 1504.5739755\ttotal: 1m 39s\tremaining: 8.21s\n",
      "924:\tlearn: 1504.4330694\ttotal: 1m 39s\tremaining: 8.1s\n",
      "925:\tlearn: 1504.2344570\ttotal: 1m 39s\tremaining: 7.99s\n",
      "926:\tlearn: 1504.2237740\ttotal: 1m 40s\tremaining: 7.88s\n",
      "927:\tlearn: 1504.1270891\ttotal: 1m 40s\tremaining: 7.77s\n",
      "928:\tlearn: 1504.0630569\ttotal: 1m 40s\tremaining: 7.66s\n",
      "929:\tlearn: 1503.9501977\ttotal: 1m 40s\tremaining: 7.56s\n",
      "930:\tlearn: 1503.9070426\ttotal: 1m 40s\tremaining: 7.45s\n",
      "931:\tlearn: 1503.7434043\ttotal: 1m 40s\tremaining: 7.34s\n",
      "932:\tlearn: 1503.6060802\ttotal: 1m 40s\tremaining: 7.23s\n",
      "933:\tlearn: 1503.4947240\ttotal: 1m 40s\tremaining: 7.13s\n",
      "934:\tlearn: 1503.4200196\ttotal: 1m 40s\tremaining: 7.02s\n",
      "935:\tlearn: 1503.3317032\ttotal: 1m 41s\tremaining: 6.91s\n",
      "936:\tlearn: 1503.3047080\ttotal: 1m 41s\tremaining: 6.8s\n",
      "937:\tlearn: 1503.2800648\ttotal: 1m 41s\tremaining: 6.69s\n",
      "938:\tlearn: 1503.1963760\ttotal: 1m 41s\tremaining: 6.58s\n",
      "939:\tlearn: 1503.1738298\ttotal: 1m 41s\tremaining: 6.47s\n",
      "940:\tlearn: 1503.0562649\ttotal: 1m 41s\tremaining: 6.37s\n",
      "941:\tlearn: 1503.0525087\ttotal: 1m 41s\tremaining: 6.25s\n",
      "942:\tlearn: 1502.9644829\ttotal: 1m 41s\tremaining: 6.14s\n",
      "943:\tlearn: 1502.8431199\ttotal: 1m 41s\tremaining: 6.04s\n",
      "944:\tlearn: 1502.8343954\ttotal: 1m 41s\tremaining: 5.93s\n",
      "945:\tlearn: 1502.6423766\ttotal: 1m 41s\tremaining: 5.82s\n",
      "946:\tlearn: 1502.5379048\ttotal: 1m 42s\tremaining: 5.71s\n",
      "947:\tlearn: 1502.4762545\ttotal: 1m 42s\tremaining: 5.6s\n",
      "948:\tlearn: 1502.3258702\ttotal: 1m 42s\tremaining: 5.49s\n",
      "949:\tlearn: 1502.2344778\ttotal: 1m 42s\tremaining: 5.38s\n",
      "950:\tlearn: 1502.1755750\ttotal: 1m 42s\tremaining: 5.28s\n",
      "951:\tlearn: 1502.0918086\ttotal: 1m 42s\tremaining: 5.17s\n",
      "952:\tlearn: 1502.0546652\ttotal: 1m 42s\tremaining: 5.06s\n",
      "953:\tlearn: 1501.9552735\ttotal: 1m 42s\tremaining: 4.95s\n",
      "954:\tlearn: 1501.8575857\ttotal: 1m 42s\tremaining: 4.84s\n",
      "955:\tlearn: 1501.7919861\ttotal: 1m 42s\tremaining: 4.74s\n",
      "956:\tlearn: 1501.6814257\ttotal: 1m 43s\tremaining: 4.63s\n",
      "957:\tlearn: 1501.4881165\ttotal: 1m 43s\tremaining: 4.52s\n",
      "958:\tlearn: 1501.4583394\ttotal: 1m 43s\tremaining: 4.41s\n",
      "959:\tlearn: 1501.3261686\ttotal: 1m 43s\tremaining: 4.3s\n",
      "960:\tlearn: 1501.1901841\ttotal: 1m 43s\tremaining: 4.2s\n",
      "961:\tlearn: 1501.0482610\ttotal: 1m 43s\tremaining: 4.09s\n",
      "962:\tlearn: 1500.7958321\ttotal: 1m 43s\tremaining: 3.98s\n",
      "963:\tlearn: 1500.7274987\ttotal: 1m 43s\tremaining: 3.87s\n",
      "964:\tlearn: 1500.6912066\ttotal: 1m 43s\tremaining: 3.77s\n",
      "965:\tlearn: 1500.5651272\ttotal: 1m 43s\tremaining: 3.66s\n",
      "966:\tlearn: 1500.4322401\ttotal: 1m 44s\tremaining: 3.55s\n",
      "967:\tlearn: 1500.3748007\ttotal: 1m 44s\tremaining: 3.44s\n",
      "968:\tlearn: 1500.3447600\ttotal: 1m 44s\tremaining: 3.34s\n",
      "969:\tlearn: 1500.2746980\ttotal: 1m 44s\tremaining: 3.23s\n",
      "970:\tlearn: 1500.2244227\ttotal: 1m 44s\tremaining: 3.12s\n",
      "971:\tlearn: 1500.2026051\ttotal: 1m 44s\tremaining: 3.01s\n",
      "972:\tlearn: 1500.1565785\ttotal: 1m 44s\tremaining: 2.9s\n",
      "973:\tlearn: 1500.0329085\ttotal: 1m 44s\tremaining: 2.8s\n",
      "974:\tlearn: 1499.9871091\ttotal: 1m 44s\tremaining: 2.69s\n",
      "975:\tlearn: 1499.9468708\ttotal: 1m 45s\tremaining: 2.58s\n",
      "976:\tlearn: 1499.8749882\ttotal: 1m 45s\tremaining: 2.48s\n",
      "977:\tlearn: 1499.7899083\ttotal: 1m 45s\tremaining: 2.37s\n",
      "978:\tlearn: 1499.7797661\ttotal: 1m 45s\tremaining: 2.26s\n",
      "979:\tlearn: 1499.7349509\ttotal: 1m 45s\tremaining: 2.15s\n",
      "980:\tlearn: 1499.6896574\ttotal: 1m 45s\tremaining: 2.04s\n",
      "981:\tlearn: 1499.5645885\ttotal: 1m 45s\tremaining: 1.94s\n",
      "982:\tlearn: 1499.4630348\ttotal: 1m 45s\tremaining: 1.83s\n",
      "983:\tlearn: 1499.4251059\ttotal: 1m 45s\tremaining: 1.72s\n",
      "984:\tlearn: 1499.2702933\ttotal: 1m 45s\tremaining: 1.61s\n",
      "985:\tlearn: 1499.1965579\ttotal: 1m 46s\tremaining: 1.5s\n",
      "986:\tlearn: 1499.1300294\ttotal: 1m 46s\tremaining: 1.4s\n",
      "987:\tlearn: 1499.0765666\ttotal: 1m 46s\tremaining: 1.29s\n",
      "988:\tlearn: 1499.0593011\ttotal: 1m 46s\tremaining: 1.18s\n",
      "989:\tlearn: 1499.0519566\ttotal: 1m 46s\tremaining: 1.07s\n",
      "990:\tlearn: 1498.9687632\ttotal: 1m 46s\tremaining: 967ms\n",
      "991:\tlearn: 1498.9023332\ttotal: 1m 46s\tremaining: 859ms\n",
      "992:\tlearn: 1498.8163867\ttotal: 1m 46s\tremaining: 752ms\n",
      "993:\tlearn: 1498.7033147\ttotal: 1m 46s\tremaining: 644ms\n",
      "994:\tlearn: 1498.6398390\ttotal: 1m 46s\tremaining: 537ms\n",
      "995:\tlearn: 1498.6141484\ttotal: 1m 46s\tremaining: 429ms\n",
      "996:\tlearn: 1498.5493087\ttotal: 1m 47s\tremaining: 322ms\n",
      "997:\tlearn: 1498.3852647\ttotal: 1m 47s\tremaining: 215ms\n",
      "998:\tlearn: 1498.3760085\ttotal: 1m 47s\tremaining: 107ms\n",
      "999:\tlearn: 1498.3254712\ttotal: 1m 47s\tremaining: 0us\n",
      "Learning rate set to 0.086297\n",
      "0:\tlearn: 4387.8616151\ttotal: 180ms\tremaining: 3m\n",
      "1:\tlearn: 4141.9051023\ttotal: 319ms\tremaining: 2m 39s\n",
      "2:\tlearn: 3924.4487005\ttotal: 441ms\tremaining: 2m 26s\n",
      "3:\tlearn: 3725.9546042\ttotal: 557ms\tremaining: 2m 18s\n",
      "4:\tlearn: 3547.1966408\ttotal: 675ms\tremaining: 2m 14s\n",
      "5:\tlearn: 3385.9658263\ttotal: 817ms\tremaining: 2m 15s\n",
      "6:\tlearn: 3239.7726349\ttotal: 977ms\tremaining: 2m 18s\n",
      "7:\tlearn: 3112.4083001\ttotal: 1.1s\tremaining: 2m 17s\n",
      "8:\tlearn: 2992.9675645\ttotal: 1.2s\tremaining: 2m 12s\n",
      "9:\tlearn: 2887.7300049\ttotal: 1.31s\tremaining: 2m 9s\n",
      "10:\tlearn: 2789.0346087\ttotal: 1.43s\tremaining: 2m 8s\n",
      "11:\tlearn: 2704.3739939\ttotal: 1.56s\tremaining: 2m 8s\n",
      "12:\tlearn: 2625.9489082\ttotal: 1.65s\tremaining: 2m 5s\n",
      "13:\tlearn: 2557.4720172\ttotal: 1.75s\tremaining: 2m 3s\n",
      "14:\tlearn: 2488.1365767\ttotal: 1.86s\tremaining: 2m 2s\n",
      "15:\tlearn: 2432.4416801\ttotal: 1.97s\tremaining: 2m\n",
      "16:\tlearn: 2381.4826056\ttotal: 2.07s\tremaining: 1m 59s\n",
      "17:\tlearn: 2328.4955766\ttotal: 2.19s\tremaining: 1m 59s\n",
      "18:\tlearn: 2288.6289805\ttotal: 2.27s\tremaining: 1m 57s\n",
      "19:\tlearn: 2249.3516210\ttotal: 2.37s\tremaining: 1m 56s\n",
      "20:\tlearn: 2209.5722418\ttotal: 2.51s\tremaining: 1m 57s\n",
      "21:\tlearn: 2180.5400501\ttotal: 2.6s\tremaining: 1m 55s\n",
      "22:\tlearn: 2148.0360679\ttotal: 2.71s\tremaining: 1m 55s\n",
      "23:\tlearn: 2122.5079363\ttotal: 2.82s\tremaining: 1m 54s\n",
      "24:\tlearn: 2099.5015504\ttotal: 2.96s\tremaining: 1m 55s\n",
      "25:\tlearn: 2075.2784015\ttotal: 3.1s\tremaining: 1m 56s\n",
      "26:\tlearn: 2057.3854561\ttotal: 3.19s\tremaining: 1m 55s\n",
      "27:\tlearn: 2037.5363719\ttotal: 3.29s\tremaining: 1m 54s\n",
      "28:\tlearn: 2019.1307196\ttotal: 3.38s\tremaining: 1m 53s\n",
      "29:\tlearn: 2005.0396175\ttotal: 3.46s\tremaining: 1m 51s\n",
      "30:\tlearn: 1989.2328133\ttotal: 3.57s\tremaining: 1m 51s\n",
      "31:\tlearn: 1976.1665082\ttotal: 3.66s\tremaining: 1m 50s\n",
      "32:\tlearn: 1964.2511313\ttotal: 3.77s\tremaining: 1m 50s\n",
      "33:\tlearn: 1953.9547440\ttotal: 3.85s\tremaining: 1m 49s\n",
      "34:\tlearn: 1943.2256863\ttotal: 3.96s\tremaining: 1m 49s\n",
      "35:\tlearn: 1929.2156713\ttotal: 4.06s\tremaining: 1m 48s\n",
      "36:\tlearn: 1915.2481130\ttotal: 4.16s\tremaining: 1m 48s\n",
      "37:\tlearn: 1906.6849600\ttotal: 4.24s\tremaining: 1m 47s\n",
      "38:\tlearn: 1898.7519891\ttotal: 4.33s\tremaining: 1m 46s\n",
      "39:\tlearn: 1889.8981427\ttotal: 4.44s\tremaining: 1m 46s\n",
      "40:\tlearn: 1881.7589085\ttotal: 4.54s\tremaining: 1m 46s\n",
      "41:\tlearn: 1876.1405210\ttotal: 4.63s\tremaining: 1m 45s\n",
      "42:\tlearn: 1870.0005747\ttotal: 4.73s\tremaining: 1m 45s\n",
      "43:\tlearn: 1863.6830102\ttotal: 4.83s\tremaining: 1m 44s\n",
      "44:\tlearn: 1858.6239849\ttotal: 4.94s\tremaining: 1m 44s\n",
      "45:\tlearn: 1851.0820750\ttotal: 5.02s\tremaining: 1m 44s\n",
      "46:\tlearn: 1846.3989703\ttotal: 5.1s\tremaining: 1m 43s\n",
      "47:\tlearn: 1841.9299212\ttotal: 5.21s\tremaining: 1m 43s\n",
      "48:\tlearn: 1838.4178725\ttotal: 5.3s\tremaining: 1m 42s\n",
      "49:\tlearn: 1834.3717476\ttotal: 5.39s\tremaining: 1m 42s\n",
      "50:\tlearn: 1828.4417232\ttotal: 5.49s\tremaining: 1m 42s\n",
      "51:\tlearn: 1823.6027576\ttotal: 5.62s\tremaining: 1m 42s\n",
      "52:\tlearn: 1819.2926435\ttotal: 5.71s\tremaining: 1m 42s\n",
      "53:\tlearn: 1815.2916293\ttotal: 5.83s\tremaining: 1m 42s\n",
      "54:\tlearn: 1812.5602777\ttotal: 5.92s\tremaining: 1m 41s\n",
      "55:\tlearn: 1810.0873649\ttotal: 6.01s\tremaining: 1m 41s\n",
      "56:\tlearn: 1807.0832250\ttotal: 6.12s\tremaining: 1m 41s\n",
      "57:\tlearn: 1803.5921786\ttotal: 6.23s\tremaining: 1m 41s\n",
      "58:\tlearn: 1800.2109946\ttotal: 6.33s\tremaining: 1m 41s\n",
      "59:\tlearn: 1796.9512654\ttotal: 6.46s\tremaining: 1m 41s\n",
      "60:\tlearn: 1794.4427378\ttotal: 6.57s\tremaining: 1m 41s\n",
      "61:\tlearn: 1791.6718149\ttotal: 6.69s\tremaining: 1m 41s\n",
      "62:\tlearn: 1789.4219239\ttotal: 6.79s\tremaining: 1m 40s\n",
      "63:\tlearn: 1786.3711088\ttotal: 6.89s\tremaining: 1m 40s\n",
      "64:\tlearn: 1783.5632615\ttotal: 6.99s\tremaining: 1m 40s\n",
      "65:\tlearn: 1781.0251015\ttotal: 7.09s\tremaining: 1m 40s\n",
      "66:\tlearn: 1778.9156837\ttotal: 7.21s\tremaining: 1m 40s\n",
      "67:\tlearn: 1776.8372794\ttotal: 7.29s\tremaining: 1m 39s\n",
      "68:\tlearn: 1774.9557861\ttotal: 7.42s\tremaining: 1m 40s\n",
      "69:\tlearn: 1772.7178079\ttotal: 7.56s\tremaining: 1m 40s\n",
      "70:\tlearn: 1770.5119950\ttotal: 7.67s\tremaining: 1m 40s\n",
      "71:\tlearn: 1767.8577675\ttotal: 7.74s\tremaining: 1m 39s\n",
      "72:\tlearn: 1766.1946832\ttotal: 7.81s\tremaining: 1m 39s\n",
      "73:\tlearn: 1764.8910495\ttotal: 7.93s\tremaining: 1m 39s\n",
      "74:\tlearn: 1762.4317741\ttotal: 8.01s\tremaining: 1m 38s\n",
      "75:\tlearn: 1760.3503387\ttotal: 8.09s\tremaining: 1m 38s\n",
      "76:\tlearn: 1756.9907009\ttotal: 8.21s\tremaining: 1m 38s\n",
      "77:\tlearn: 1755.1198891\ttotal: 8.33s\tremaining: 1m 38s\n",
      "78:\tlearn: 1753.4447896\ttotal: 8.46s\tremaining: 1m 38s\n",
      "79:\tlearn: 1751.9576167\ttotal: 8.57s\tremaining: 1m 38s\n",
      "80:\tlearn: 1749.5266845\ttotal: 8.64s\tremaining: 1m 38s\n",
      "81:\tlearn: 1748.1836297\ttotal: 8.74s\tremaining: 1m 37s\n",
      "82:\tlearn: 1746.6483202\ttotal: 8.87s\tremaining: 1m 37s\n",
      "83:\tlearn: 1743.1496522\ttotal: 8.98s\tremaining: 1m 37s\n",
      "84:\tlearn: 1741.9929437\ttotal: 9.09s\tremaining: 1m 37s\n",
      "85:\tlearn: 1740.8000593\ttotal: 9.23s\tremaining: 1m 38s\n",
      "86:\tlearn: 1739.2623585\ttotal: 9.35s\tremaining: 1m 38s\n",
      "87:\tlearn: 1737.0389414\ttotal: 9.46s\tremaining: 1m 38s\n",
      "88:\tlearn: 1735.9414335\ttotal: 9.57s\tremaining: 1m 37s\n",
      "89:\tlearn: 1734.3378730\ttotal: 9.69s\tremaining: 1m 37s\n",
      "90:\tlearn: 1732.3504388\ttotal: 9.8s\tremaining: 1m 37s\n",
      "91:\tlearn: 1730.2287627\ttotal: 9.95s\tremaining: 1m 38s\n",
      "92:\tlearn: 1729.1460966\ttotal: 10.1s\tremaining: 1m 38s\n",
      "93:\tlearn: 1727.5721713\ttotal: 10.2s\tremaining: 1m 38s\n",
      "94:\tlearn: 1726.4779192\ttotal: 10.3s\tremaining: 1m 38s\n",
      "95:\tlearn: 1724.7659022\ttotal: 10.4s\tremaining: 1m 37s\n",
      "96:\tlearn: 1723.7739865\ttotal: 10.5s\tremaining: 1m 37s\n",
      "97:\tlearn: 1722.4722262\ttotal: 10.6s\tremaining: 1m 37s\n",
      "98:\tlearn: 1721.1452957\ttotal: 10.7s\tremaining: 1m 37s\n",
      "99:\tlearn: 1719.5993422\ttotal: 10.8s\tremaining: 1m 37s\n",
      "100:\tlearn: 1718.8023319\ttotal: 10.9s\tremaining: 1m 37s\n",
      "101:\tlearn: 1717.6627848\ttotal: 11s\tremaining: 1m 37s\n",
      "102:\tlearn: 1716.5355625\ttotal: 11.1s\tremaining: 1m 37s\n",
      "103:\tlearn: 1715.3628176\ttotal: 11.2s\tremaining: 1m 36s\n",
      "104:\tlearn: 1714.6331839\ttotal: 11.3s\tremaining: 1m 36s\n",
      "105:\tlearn: 1713.5109569\ttotal: 11.4s\tremaining: 1m 36s\n",
      "106:\tlearn: 1711.7645402\ttotal: 11.5s\tremaining: 1m 36s\n",
      "107:\tlearn: 1711.0100343\ttotal: 11.6s\tremaining: 1m 35s\n",
      "108:\tlearn: 1710.1690033\ttotal: 11.7s\tremaining: 1m 35s\n",
      "109:\tlearn: 1707.5197646\ttotal: 11.8s\tremaining: 1m 35s\n",
      "110:\tlearn: 1706.2603185\ttotal: 11.9s\tremaining: 1m 35s\n",
      "111:\tlearn: 1705.1459772\ttotal: 12s\tremaining: 1m 35s\n",
      "112:\tlearn: 1704.1448701\ttotal: 12.1s\tremaining: 1m 35s\n",
      "113:\tlearn: 1703.0963761\ttotal: 12.2s\tremaining: 1m 34s\n",
      "114:\tlearn: 1701.5588203\ttotal: 12.3s\tremaining: 1m 34s\n",
      "115:\tlearn: 1700.5969095\ttotal: 12.4s\tremaining: 1m 34s\n",
      "116:\tlearn: 1699.8112569\ttotal: 12.5s\tremaining: 1m 34s\n",
      "117:\tlearn: 1698.1552478\ttotal: 12.6s\tremaining: 1m 34s\n",
      "118:\tlearn: 1696.4023606\ttotal: 12.7s\tremaining: 1m 33s\n",
      "119:\tlearn: 1695.1891889\ttotal: 12.8s\tremaining: 1m 33s\n",
      "120:\tlearn: 1694.4235105\ttotal: 12.9s\tremaining: 1m 33s\n",
      "121:\tlearn: 1693.3038473\ttotal: 13s\tremaining: 1m 33s\n",
      "122:\tlearn: 1692.5652516\ttotal: 13.1s\tremaining: 1m 33s\n",
      "123:\tlearn: 1691.4823171\ttotal: 13.2s\tremaining: 1m 33s\n",
      "124:\tlearn: 1690.7149322\ttotal: 13.3s\tremaining: 1m 33s\n",
      "125:\tlearn: 1689.9223682\ttotal: 13.4s\tremaining: 1m 33s\n",
      "126:\tlearn: 1688.8930212\ttotal: 13.5s\tremaining: 1m 33s\n",
      "127:\tlearn: 1687.7114628\ttotal: 13.6s\tremaining: 1m 32s\n",
      "128:\tlearn: 1686.5709385\ttotal: 13.8s\tremaining: 1m 32s\n",
      "129:\tlearn: 1685.4455806\ttotal: 13.8s\tremaining: 1m 32s\n",
      "130:\tlearn: 1684.4280122\ttotal: 14s\tremaining: 1m 32s\n",
      "131:\tlearn: 1683.8495289\ttotal: 14s\tremaining: 1m 32s\n",
      "132:\tlearn: 1682.8404227\ttotal: 14.1s\tremaining: 1m 32s\n",
      "133:\tlearn: 1682.3095583\ttotal: 14.3s\tremaining: 1m 32s\n",
      "134:\tlearn: 1681.0952238\ttotal: 14.3s\tremaining: 1m 31s\n",
      "135:\tlearn: 1680.4452635\ttotal: 14.4s\tremaining: 1m 31s\n",
      "136:\tlearn: 1680.0576394\ttotal: 14.5s\tremaining: 1m 31s\n",
      "137:\tlearn: 1679.4655344\ttotal: 14.7s\tremaining: 1m 31s\n",
      "138:\tlearn: 1677.9981031\ttotal: 14.8s\tremaining: 1m 31s\n",
      "139:\tlearn: 1677.1293324\ttotal: 14.9s\tremaining: 1m 31s\n",
      "140:\tlearn: 1676.0962806\ttotal: 14.9s\tremaining: 1m 31s\n",
      "141:\tlearn: 1674.6991162\ttotal: 15.1s\tremaining: 1m 31s\n",
      "142:\tlearn: 1673.7353350\ttotal: 15.2s\tremaining: 1m 30s\n",
      "143:\tlearn: 1673.0043053\ttotal: 15.3s\tremaining: 1m 30s\n",
      "144:\tlearn: 1672.2349928\ttotal: 15.4s\tremaining: 1m 31s\n",
      "145:\tlearn: 1671.5161119\ttotal: 15.6s\tremaining: 1m 30s\n",
      "146:\tlearn: 1670.5728375\ttotal: 15.7s\tremaining: 1m 30s\n",
      "147:\tlearn: 1669.6676278\ttotal: 15.8s\tremaining: 1m 30s\n",
      "148:\tlearn: 1669.3385906\ttotal: 15.9s\tremaining: 1m 30s\n",
      "149:\tlearn: 1668.8194320\ttotal: 16s\tremaining: 1m 30s\n",
      "150:\tlearn: 1668.4241376\ttotal: 16.1s\tremaining: 1m 30s\n",
      "151:\tlearn: 1667.5296073\ttotal: 16.2s\tremaining: 1m 30s\n",
      "152:\tlearn: 1666.8927680\ttotal: 16.3s\tremaining: 1m 30s\n",
      "153:\tlearn: 1666.3180839\ttotal: 16.4s\tremaining: 1m 30s\n",
      "154:\tlearn: 1665.8017325\ttotal: 16.5s\tremaining: 1m 30s\n",
      "155:\tlearn: 1664.6534458\ttotal: 16.6s\tremaining: 1m 29s\n",
      "156:\tlearn: 1663.9073693\ttotal: 16.8s\tremaining: 1m 30s\n",
      "157:\tlearn: 1662.5280689\ttotal: 16.9s\tremaining: 1m 30s\n",
      "158:\tlearn: 1662.1735019\ttotal: 17s\tremaining: 1m 29s\n",
      "159:\tlearn: 1661.6554766\ttotal: 17.1s\tremaining: 1m 29s\n",
      "160:\tlearn: 1661.1274796\ttotal: 17.2s\tremaining: 1m 29s\n",
      "161:\tlearn: 1660.5431851\ttotal: 17.4s\tremaining: 1m 29s\n",
      "162:\tlearn: 1659.9105109\ttotal: 17.4s\tremaining: 1m 29s\n",
      "163:\tlearn: 1659.2853182\ttotal: 17.6s\tremaining: 1m 29s\n",
      "164:\tlearn: 1658.1276441\ttotal: 17.7s\tremaining: 1m 29s\n",
      "165:\tlearn: 1657.4870187\ttotal: 17.8s\tremaining: 1m 29s\n",
      "166:\tlearn: 1656.9316878\ttotal: 17.9s\tremaining: 1m 29s\n",
      "167:\tlearn: 1656.1637186\ttotal: 18s\tremaining: 1m 29s\n",
      "168:\tlearn: 1655.7480149\ttotal: 18.1s\tremaining: 1m 28s\n",
      "169:\tlearn: 1655.3096771\ttotal: 18.2s\tremaining: 1m 28s\n",
      "170:\tlearn: 1654.9980502\ttotal: 18.3s\tremaining: 1m 28s\n",
      "171:\tlearn: 1654.3652812\ttotal: 18.4s\tremaining: 1m 28s\n",
      "172:\tlearn: 1653.3651431\ttotal: 18.5s\tremaining: 1m 28s\n",
      "173:\tlearn: 1652.8384604\ttotal: 18.6s\tremaining: 1m 28s\n",
      "174:\tlearn: 1652.3552350\ttotal: 18.7s\tremaining: 1m 28s\n",
      "175:\tlearn: 1651.0645884\ttotal: 18.8s\tremaining: 1m 28s\n",
      "176:\tlearn: 1650.4279098\ttotal: 18.9s\tremaining: 1m 27s\n",
      "177:\tlearn: 1649.8370036\ttotal: 19.1s\tremaining: 1m 27s\n",
      "178:\tlearn: 1649.3410410\ttotal: 19.1s\tremaining: 1m 27s\n",
      "179:\tlearn: 1648.3796117\ttotal: 19.3s\tremaining: 1m 27s\n",
      "180:\tlearn: 1648.0258537\ttotal: 19.4s\tremaining: 1m 27s\n",
      "181:\tlearn: 1647.1953872\ttotal: 19.5s\tremaining: 1m 27s\n",
      "182:\tlearn: 1646.4823489\ttotal: 19.6s\tremaining: 1m 27s\n",
      "183:\tlearn: 1645.7355550\ttotal: 19.7s\tremaining: 1m 27s\n",
      "184:\tlearn: 1644.7715305\ttotal: 19.8s\tremaining: 1m 27s\n",
      "185:\tlearn: 1643.9514758\ttotal: 20s\tremaining: 1m 27s\n",
      "186:\tlearn: 1643.1768100\ttotal: 20.1s\tremaining: 1m 27s\n",
      "187:\tlearn: 1642.8924600\ttotal: 20.2s\tremaining: 1m 27s\n",
      "188:\tlearn: 1642.2056114\ttotal: 20.4s\tremaining: 1m 27s\n",
      "189:\tlearn: 1641.1574736\ttotal: 20.5s\tremaining: 1m 27s\n",
      "190:\tlearn: 1640.5527364\ttotal: 20.6s\tremaining: 1m 27s\n",
      "191:\tlearn: 1639.8634115\ttotal: 20.7s\tremaining: 1m 27s\n",
      "192:\tlearn: 1639.3143244\ttotal: 20.8s\tremaining: 1m 27s\n",
      "193:\tlearn: 1638.7735194\ttotal: 20.9s\tremaining: 1m 27s\n",
      "194:\tlearn: 1638.2878080\ttotal: 21.1s\tremaining: 1m 26s\n",
      "195:\tlearn: 1637.6925459\ttotal: 21.2s\tremaining: 1m 26s\n",
      "196:\tlearn: 1637.2527973\ttotal: 21.3s\tremaining: 1m 26s\n",
      "197:\tlearn: 1636.6233244\ttotal: 21.4s\tremaining: 1m 26s\n",
      "198:\tlearn: 1635.9031599\ttotal: 21.5s\tremaining: 1m 26s\n",
      "199:\tlearn: 1635.1446261\ttotal: 21.6s\tremaining: 1m 26s\n",
      "200:\tlearn: 1634.5022245\ttotal: 21.7s\tremaining: 1m 26s\n",
      "201:\tlearn: 1633.9656539\ttotal: 21.8s\tremaining: 1m 26s\n",
      "202:\tlearn: 1633.7309073\ttotal: 21.9s\tremaining: 1m 26s\n",
      "203:\tlearn: 1633.1079584\ttotal: 22s\tremaining: 1m 25s\n",
      "204:\tlearn: 1632.5745122\ttotal: 22.1s\tremaining: 1m 25s\n",
      "205:\tlearn: 1632.1571954\ttotal: 22.2s\tremaining: 1m 25s\n",
      "206:\tlearn: 1631.7222840\ttotal: 22.3s\tremaining: 1m 25s\n",
      "207:\tlearn: 1631.0940890\ttotal: 22.4s\tremaining: 1m 25s\n",
      "208:\tlearn: 1630.8276388\ttotal: 22.5s\tremaining: 1m 25s\n",
      "209:\tlearn: 1630.3448418\ttotal: 22.6s\tremaining: 1m 25s\n",
      "210:\tlearn: 1629.7407559\ttotal: 22.8s\tremaining: 1m 25s\n",
      "211:\tlearn: 1629.5256091\ttotal: 22.9s\tremaining: 1m 25s\n",
      "212:\tlearn: 1628.9861429\ttotal: 23s\tremaining: 1m 25s\n",
      "213:\tlearn: 1628.7661115\ttotal: 23.1s\tremaining: 1m 24s\n",
      "214:\tlearn: 1628.3736197\ttotal: 23.2s\tremaining: 1m 24s\n",
      "215:\tlearn: 1628.0867754\ttotal: 23.4s\tremaining: 1m 24s\n",
      "216:\tlearn: 1627.4348163\ttotal: 23.5s\tremaining: 1m 24s\n",
      "217:\tlearn: 1627.0804812\ttotal: 23.6s\tremaining: 1m 24s\n",
      "218:\tlearn: 1626.6591484\ttotal: 23.7s\tremaining: 1m 24s\n",
      "219:\tlearn: 1626.4230279\ttotal: 23.8s\tremaining: 1m 24s\n",
      "220:\tlearn: 1626.2193603\ttotal: 23.9s\tremaining: 1m 24s\n",
      "221:\tlearn: 1625.4906056\ttotal: 24s\tremaining: 1m 24s\n",
      "222:\tlearn: 1624.9886107\ttotal: 24.1s\tremaining: 1m 24s\n",
      "223:\tlearn: 1624.4881276\ttotal: 24.2s\tremaining: 1m 23s\n",
      "224:\tlearn: 1624.3849498\ttotal: 24.3s\tremaining: 1m 23s\n",
      "225:\tlearn: 1623.8947948\ttotal: 24.5s\tremaining: 1m 23s\n",
      "226:\tlearn: 1623.3860275\ttotal: 24.6s\tremaining: 1m 23s\n",
      "227:\tlearn: 1623.0784918\ttotal: 24.7s\tremaining: 1m 23s\n",
      "228:\tlearn: 1622.7821115\ttotal: 24.8s\tremaining: 1m 23s\n",
      "229:\tlearn: 1622.6663543\ttotal: 24.9s\tremaining: 1m 23s\n",
      "230:\tlearn: 1622.2145017\ttotal: 25s\tremaining: 1m 23s\n",
      "231:\tlearn: 1621.7834293\ttotal: 25.2s\tremaining: 1m 23s\n",
      "232:\tlearn: 1621.2992631\ttotal: 25.2s\tremaining: 1m 23s\n",
      "233:\tlearn: 1620.7000245\ttotal: 25.4s\tremaining: 1m 23s\n",
      "234:\tlearn: 1620.3625652\ttotal: 25.5s\tremaining: 1m 22s\n",
      "235:\tlearn: 1620.1026934\ttotal: 25.6s\tremaining: 1m 22s\n",
      "236:\tlearn: 1619.3049544\ttotal: 25.7s\tremaining: 1m 22s\n",
      "237:\tlearn: 1618.4891712\ttotal: 25.8s\tremaining: 1m 22s\n",
      "238:\tlearn: 1618.3652392\ttotal: 25.9s\tremaining: 1m 22s\n",
      "239:\tlearn: 1617.9494473\ttotal: 26.1s\tremaining: 1m 22s\n",
      "240:\tlearn: 1617.7238306\ttotal: 26.2s\tremaining: 1m 22s\n",
      "241:\tlearn: 1617.4471425\ttotal: 26.3s\tremaining: 1m 22s\n",
      "242:\tlearn: 1617.1959643\ttotal: 26.4s\tremaining: 1m 22s\n",
      "243:\tlearn: 1616.7125558\ttotal: 26.5s\tremaining: 1m 22s\n",
      "244:\tlearn: 1616.3357026\ttotal: 26.6s\tremaining: 1m 22s\n",
      "245:\tlearn: 1615.9751524\ttotal: 26.7s\tremaining: 1m 21s\n",
      "246:\tlearn: 1615.6029451\ttotal: 26.9s\tremaining: 1m 21s\n",
      "247:\tlearn: 1615.1422693\ttotal: 27s\tremaining: 1m 21s\n",
      "248:\tlearn: 1614.5947925\ttotal: 27.1s\tremaining: 1m 21s\n",
      "249:\tlearn: 1614.3022350\ttotal: 27.2s\tremaining: 1m 21s\n",
      "250:\tlearn: 1613.6663494\ttotal: 27.3s\tremaining: 1m 21s\n",
      "251:\tlearn: 1612.9991877\ttotal: 27.4s\tremaining: 1m 21s\n",
      "252:\tlearn: 1612.6838346\ttotal: 27.5s\tremaining: 1m 21s\n",
      "253:\tlearn: 1612.3901740\ttotal: 27.6s\tremaining: 1m 21s\n",
      "254:\tlearn: 1611.9254720\ttotal: 27.7s\tremaining: 1m 20s\n",
      "255:\tlearn: 1611.4964839\ttotal: 27.8s\tremaining: 1m 20s\n",
      "256:\tlearn: 1611.1085777\ttotal: 27.9s\tremaining: 1m 20s\n",
      "257:\tlearn: 1610.6695155\ttotal: 28s\tremaining: 1m 20s\n",
      "258:\tlearn: 1610.3105429\ttotal: 28.1s\tremaining: 1m 20s\n",
      "259:\tlearn: 1609.8076219\ttotal: 28.2s\tremaining: 1m 20s\n",
      "260:\tlearn: 1609.7120490\ttotal: 28.3s\tremaining: 1m 20s\n",
      "261:\tlearn: 1609.5052984\ttotal: 28.4s\tremaining: 1m 20s\n",
      "262:\tlearn: 1609.0614950\ttotal: 28.5s\tremaining: 1m 19s\n",
      "263:\tlearn: 1608.7692172\ttotal: 28.6s\tremaining: 1m 19s\n",
      "264:\tlearn: 1608.6389436\ttotal: 28.7s\tremaining: 1m 19s\n",
      "265:\tlearn: 1608.3854735\ttotal: 28.8s\tremaining: 1m 19s\n",
      "266:\tlearn: 1608.1053236\ttotal: 28.9s\tremaining: 1m 19s\n",
      "267:\tlearn: 1607.6434144\ttotal: 29s\tremaining: 1m 19s\n",
      "268:\tlearn: 1607.5519009\ttotal: 29.1s\tremaining: 1m 19s\n",
      "269:\tlearn: 1607.0220892\ttotal: 29.2s\tremaining: 1m 18s\n",
      "270:\tlearn: 1606.9596650\ttotal: 29.3s\tremaining: 1m 18s\n",
      "271:\tlearn: 1606.4963480\ttotal: 29.4s\tremaining: 1m 18s\n",
      "272:\tlearn: 1606.1078886\ttotal: 29.5s\tremaining: 1m 18s\n",
      "273:\tlearn: 1605.6269835\ttotal: 29.6s\tremaining: 1m 18s\n",
      "274:\tlearn: 1605.2938473\ttotal: 29.7s\tremaining: 1m 18s\n",
      "275:\tlearn: 1604.7918153\ttotal: 29.8s\tremaining: 1m 18s\n",
      "276:\tlearn: 1604.4660485\ttotal: 30s\tremaining: 1m 18s\n",
      "277:\tlearn: 1604.3568610\ttotal: 30.1s\tremaining: 1m 18s\n",
      "278:\tlearn: 1604.0581542\ttotal: 30.2s\tremaining: 1m 18s\n",
      "279:\tlearn: 1603.5159119\ttotal: 30.3s\tremaining: 1m 17s\n",
      "280:\tlearn: 1603.1761029\ttotal: 30.4s\tremaining: 1m 17s\n",
      "281:\tlearn: 1602.7910107\ttotal: 30.5s\tremaining: 1m 17s\n",
      "282:\tlearn: 1602.7441185\ttotal: 30.6s\tremaining: 1m 17s\n",
      "283:\tlearn: 1602.4462030\ttotal: 30.7s\tremaining: 1m 17s\n",
      "284:\tlearn: 1602.1106411\ttotal: 30.8s\tremaining: 1m 17s\n",
      "285:\tlearn: 1601.7220359\ttotal: 31s\tremaining: 1m 17s\n",
      "286:\tlearn: 1601.6176415\ttotal: 31.1s\tremaining: 1m 17s\n",
      "287:\tlearn: 1601.3133330\ttotal: 31.2s\tremaining: 1m 17s\n",
      "288:\tlearn: 1600.9487344\ttotal: 31.3s\tremaining: 1m 16s\n",
      "289:\tlearn: 1600.8865892\ttotal: 31.4s\tremaining: 1m 16s\n",
      "290:\tlearn: 1600.5949521\ttotal: 31.5s\tremaining: 1m 16s\n",
      "291:\tlearn: 1600.4622906\ttotal: 31.6s\tremaining: 1m 16s\n",
      "292:\tlearn: 1600.2528145\ttotal: 31.7s\tremaining: 1m 16s\n",
      "293:\tlearn: 1599.9148931\ttotal: 31.8s\tremaining: 1m 16s\n",
      "294:\tlearn: 1599.5401268\ttotal: 31.9s\tremaining: 1m 16s\n",
      "295:\tlearn: 1599.1255381\ttotal: 32s\tremaining: 1m 16s\n",
      "296:\tlearn: 1598.6473276\ttotal: 32.1s\tremaining: 1m 16s\n",
      "297:\tlearn: 1598.4395690\ttotal: 32.2s\tremaining: 1m 15s\n",
      "298:\tlearn: 1598.0024671\ttotal: 32.3s\tremaining: 1m 15s\n",
      "299:\tlearn: 1597.7255762\ttotal: 32.4s\tremaining: 1m 15s\n",
      "300:\tlearn: 1597.4282228\ttotal: 32.5s\tremaining: 1m 15s\n",
      "301:\tlearn: 1596.9522293\ttotal: 32.6s\tremaining: 1m 15s\n",
      "302:\tlearn: 1596.6112745\ttotal: 32.8s\tremaining: 1m 15s\n",
      "303:\tlearn: 1596.4301646\ttotal: 32.9s\tremaining: 1m 15s\n",
      "304:\tlearn: 1596.1315433\ttotal: 33s\tremaining: 1m 15s\n",
      "305:\tlearn: 1595.8911975\ttotal: 33.1s\tremaining: 1m 15s\n",
      "306:\tlearn: 1595.5334948\ttotal: 33.2s\tremaining: 1m 14s\n",
      "307:\tlearn: 1595.1794894\ttotal: 33.3s\tremaining: 1m 14s\n",
      "308:\tlearn: 1594.5536800\ttotal: 33.5s\tremaining: 1m 14s\n",
      "309:\tlearn: 1594.2193951\ttotal: 33.6s\tremaining: 1m 14s\n",
      "310:\tlearn: 1594.0440796\ttotal: 33.7s\tremaining: 1m 14s\n",
      "311:\tlearn: 1593.8324399\ttotal: 33.8s\tremaining: 1m 14s\n",
      "312:\tlearn: 1593.4195839\ttotal: 33.9s\tremaining: 1m 14s\n",
      "313:\tlearn: 1593.1906103\ttotal: 33.9s\tremaining: 1m 14s\n",
      "314:\tlearn: 1592.8879458\ttotal: 34.1s\tremaining: 1m 14s\n",
      "315:\tlearn: 1592.6736898\ttotal: 34.2s\tremaining: 1m 13s\n",
      "316:\tlearn: 1592.3588036\ttotal: 34.3s\tremaining: 1m 13s\n",
      "317:\tlearn: 1592.1671317\ttotal: 34.4s\tremaining: 1m 13s\n",
      "318:\tlearn: 1591.9158602\ttotal: 34.5s\tremaining: 1m 13s\n",
      "319:\tlearn: 1591.6057190\ttotal: 34.6s\tremaining: 1m 13s\n",
      "320:\tlearn: 1591.4312926\ttotal: 34.7s\tremaining: 1m 13s\n",
      "321:\tlearn: 1591.1595865\ttotal: 34.8s\tremaining: 1m 13s\n",
      "322:\tlearn: 1590.5754192\ttotal: 34.9s\tremaining: 1m 13s\n",
      "323:\tlearn: 1590.1921781\ttotal: 35.1s\tremaining: 1m 13s\n",
      "324:\tlearn: 1590.0285789\ttotal: 35.1s\tremaining: 1m 12s\n",
      "325:\tlearn: 1589.9073198\ttotal: 35.2s\tremaining: 1m 12s\n",
      "326:\tlearn: 1589.6680030\ttotal: 35.3s\tremaining: 1m 12s\n",
      "327:\tlearn: 1589.4339146\ttotal: 35.4s\tremaining: 1m 12s\n",
      "328:\tlearn: 1589.3297369\ttotal: 35.5s\tremaining: 1m 12s\n",
      "329:\tlearn: 1589.2144908\ttotal: 35.6s\tremaining: 1m 12s\n",
      "330:\tlearn: 1588.7172719\ttotal: 35.7s\tremaining: 1m 12s\n",
      "331:\tlearn: 1588.6732298\ttotal: 35.8s\tremaining: 1m 12s\n",
      "332:\tlearn: 1588.4260864\ttotal: 35.9s\tremaining: 1m 11s\n",
      "333:\tlearn: 1588.0654199\ttotal: 36s\tremaining: 1m 11s\n",
      "334:\tlearn: 1587.7062816\ttotal: 36.1s\tremaining: 1m 11s\n",
      "335:\tlearn: 1587.6899848\ttotal: 36.3s\tremaining: 1m 11s\n",
      "336:\tlearn: 1587.3819011\ttotal: 36.4s\tremaining: 1m 11s\n",
      "337:\tlearn: 1586.9780786\ttotal: 36.5s\tremaining: 1m 11s\n",
      "338:\tlearn: 1586.4944061\ttotal: 36.6s\tremaining: 1m 11s\n",
      "339:\tlearn: 1586.3722359\ttotal: 36.7s\tremaining: 1m 11s\n",
      "340:\tlearn: 1585.9908111\ttotal: 36.8s\tremaining: 1m 11s\n",
      "341:\tlearn: 1585.7639001\ttotal: 37s\tremaining: 1m 11s\n",
      "342:\tlearn: 1585.5809587\ttotal: 37s\tremaining: 1m 10s\n",
      "343:\tlearn: 1585.3054445\ttotal: 37.1s\tremaining: 1m 10s\n",
      "344:\tlearn: 1585.2365763\ttotal: 37.3s\tremaining: 1m 10s\n",
      "345:\tlearn: 1585.0566574\ttotal: 37.4s\tremaining: 1m 10s\n",
      "346:\tlearn: 1584.9309308\ttotal: 37.6s\tremaining: 1m 10s\n",
      "347:\tlearn: 1584.7526976\ttotal: 37.7s\tremaining: 1m 10s\n",
      "348:\tlearn: 1584.6860781\ttotal: 37.8s\tremaining: 1m 10s\n",
      "349:\tlearn: 1584.5713470\ttotal: 37.9s\tremaining: 1m 10s\n",
      "350:\tlearn: 1584.4723390\ttotal: 38s\tremaining: 1m 10s\n",
      "351:\tlearn: 1584.3558482\ttotal: 38.1s\tremaining: 1m 10s\n",
      "352:\tlearn: 1584.1199542\ttotal: 38.2s\tremaining: 1m 10s\n",
      "353:\tlearn: 1583.9752602\ttotal: 38.3s\tremaining: 1m 9s\n",
      "354:\tlearn: 1583.6588524\ttotal: 38.4s\tremaining: 1m 9s\n",
      "355:\tlearn: 1583.5359327\ttotal: 38.5s\tremaining: 1m 9s\n",
      "356:\tlearn: 1583.3435687\ttotal: 38.6s\tremaining: 1m 9s\n",
      "357:\tlearn: 1582.9531741\ttotal: 38.7s\tremaining: 1m 9s\n",
      "358:\tlearn: 1582.7555284\ttotal: 38.8s\tremaining: 1m 9s\n",
      "359:\tlearn: 1582.6450324\ttotal: 38.9s\tremaining: 1m 9s\n",
      "360:\tlearn: 1582.4648491\ttotal: 39s\tremaining: 1m 9s\n",
      "361:\tlearn: 1582.1406821\ttotal: 39.1s\tremaining: 1m 9s\n",
      "362:\tlearn: 1582.0079951\ttotal: 39.3s\tremaining: 1m 8s\n",
      "363:\tlearn: 1581.7416278\ttotal: 39.4s\tremaining: 1m 8s\n",
      "364:\tlearn: 1581.4682870\ttotal: 39.5s\tremaining: 1m 8s\n",
      "365:\tlearn: 1581.2324631\ttotal: 39.7s\tremaining: 1m 8s\n",
      "366:\tlearn: 1581.0730047\ttotal: 39.8s\tremaining: 1m 8s\n",
      "367:\tlearn: 1580.6691549\ttotal: 39.9s\tremaining: 1m 8s\n",
      "368:\tlearn: 1580.4200042\ttotal: 40s\tremaining: 1m 8s\n",
      "369:\tlearn: 1580.2271799\ttotal: 40.1s\tremaining: 1m 8s\n",
      "370:\tlearn: 1580.1156836\ttotal: 40.2s\tremaining: 1m 8s\n",
      "371:\tlearn: 1579.9052302\ttotal: 40.3s\tremaining: 1m 8s\n",
      "372:\tlearn: 1579.6590539\ttotal: 40.5s\tremaining: 1m 8s\n",
      "373:\tlearn: 1579.3822586\ttotal: 40.6s\tremaining: 1m 7s\n",
      "374:\tlearn: 1579.1605653\ttotal: 40.7s\tremaining: 1m 7s\n",
      "375:\tlearn: 1578.8066788\ttotal: 40.8s\tremaining: 1m 7s\n",
      "376:\tlearn: 1578.7840023\ttotal: 40.9s\tremaining: 1m 7s\n",
      "377:\tlearn: 1578.5603154\ttotal: 41s\tremaining: 1m 7s\n",
      "378:\tlearn: 1578.2609950\ttotal: 41.1s\tremaining: 1m 7s\n",
      "379:\tlearn: 1578.0635612\ttotal: 41.3s\tremaining: 1m 7s\n",
      "380:\tlearn: 1577.8185562\ttotal: 41.4s\tremaining: 1m 7s\n",
      "381:\tlearn: 1577.5737819\ttotal: 41.5s\tremaining: 1m 7s\n",
      "382:\tlearn: 1577.4637696\ttotal: 41.6s\tremaining: 1m 7s\n",
      "383:\tlearn: 1577.2865337\ttotal: 41.7s\tremaining: 1m 6s\n",
      "384:\tlearn: 1577.1209123\ttotal: 41.9s\tremaining: 1m 6s\n",
      "385:\tlearn: 1576.9730971\ttotal: 42s\tremaining: 1m 6s\n",
      "386:\tlearn: 1576.8745535\ttotal: 42.1s\tremaining: 1m 6s\n",
      "387:\tlearn: 1576.7593450\ttotal: 42.2s\tremaining: 1m 6s\n",
      "388:\tlearn: 1576.4442068\ttotal: 42.3s\tremaining: 1m 6s\n",
      "389:\tlearn: 1576.2463443\ttotal: 42.4s\tremaining: 1m 6s\n",
      "390:\tlearn: 1576.1310588\ttotal: 42.5s\tremaining: 1m 6s\n",
      "391:\tlearn: 1576.0425305\ttotal: 42.6s\tremaining: 1m 6s\n",
      "392:\tlearn: 1575.8760434\ttotal: 42.7s\tremaining: 1m 6s\n",
      "393:\tlearn: 1575.8305344\ttotal: 42.8s\tremaining: 1m 5s\n",
      "394:\tlearn: 1575.6972938\ttotal: 42.9s\tremaining: 1m 5s\n",
      "395:\tlearn: 1575.4966224\ttotal: 43s\tremaining: 1m 5s\n",
      "396:\tlearn: 1575.4187296\ttotal: 43s\tremaining: 1m 5s\n",
      "397:\tlearn: 1575.1746012\ttotal: 43.1s\tremaining: 1m 5s\n",
      "398:\tlearn: 1575.0752403\ttotal: 43.2s\tremaining: 1m 5s\n",
      "399:\tlearn: 1574.9011277\ttotal: 43.3s\tremaining: 1m 4s\n",
      "400:\tlearn: 1574.8297907\ttotal: 43.3s\tremaining: 1m 4s\n",
      "401:\tlearn: 1574.6772327\ttotal: 43.5s\tremaining: 1m 4s\n",
      "402:\tlearn: 1574.5093339\ttotal: 43.5s\tremaining: 1m 4s\n",
      "403:\tlearn: 1574.2523349\ttotal: 43.7s\tremaining: 1m 4s\n",
      "404:\tlearn: 1574.0715601\ttotal: 43.8s\tremaining: 1m 4s\n",
      "405:\tlearn: 1573.9131543\ttotal: 43.9s\tremaining: 1m 4s\n",
      "406:\tlearn: 1573.8127886\ttotal: 44s\tremaining: 1m 4s\n",
      "407:\tlearn: 1573.6501830\ttotal: 44.1s\tremaining: 1m 3s\n",
      "408:\tlearn: 1573.5494403\ttotal: 44.2s\tremaining: 1m 3s\n",
      "409:\tlearn: 1573.3765720\ttotal: 44.3s\tremaining: 1m 3s\n",
      "410:\tlearn: 1573.1989557\ttotal: 44.4s\tremaining: 1m 3s\n",
      "411:\tlearn: 1573.0394809\ttotal: 44.5s\tremaining: 1m 3s\n",
      "412:\tlearn: 1572.9489681\ttotal: 44.6s\tremaining: 1m 3s\n",
      "413:\tlearn: 1572.8789114\ttotal: 44.6s\tremaining: 1m 3s\n",
      "414:\tlearn: 1572.7843869\ttotal: 44.7s\tremaining: 1m 3s\n",
      "415:\tlearn: 1572.5427556\ttotal: 44.8s\tremaining: 1m 2s\n",
      "416:\tlearn: 1572.2077568\ttotal: 44.9s\tremaining: 1m 2s\n",
      "417:\tlearn: 1572.1252936\ttotal: 45s\tremaining: 1m 2s\n",
      "418:\tlearn: 1571.8539890\ttotal: 45.1s\tremaining: 1m 2s\n",
      "419:\tlearn: 1571.7449011\ttotal: 45.3s\tremaining: 1m 2s\n",
      "420:\tlearn: 1571.5371465\ttotal: 45.4s\tremaining: 1m 2s\n",
      "421:\tlearn: 1571.0714915\ttotal: 45.5s\tremaining: 1m 2s\n",
      "422:\tlearn: 1570.8081761\ttotal: 45.6s\tremaining: 1m 2s\n",
      "423:\tlearn: 1570.5781723\ttotal: 45.7s\tremaining: 1m 2s\n",
      "424:\tlearn: 1570.3574813\ttotal: 45.8s\tremaining: 1m 2s\n",
      "425:\tlearn: 1570.1784858\ttotal: 45.9s\tremaining: 1m 1s\n",
      "426:\tlearn: 1570.1497895\ttotal: 46.1s\tremaining: 1m 1s\n",
      "427:\tlearn: 1570.0075552\ttotal: 46.1s\tremaining: 1m 1s\n",
      "428:\tlearn: 1569.8930903\ttotal: 46.2s\tremaining: 1m 1s\n",
      "429:\tlearn: 1569.5573681\ttotal: 46.4s\tremaining: 1m 1s\n",
      "430:\tlearn: 1569.4665415\ttotal: 46.5s\tremaining: 1m 1s\n",
      "431:\tlearn: 1569.3635993\ttotal: 46.6s\tremaining: 1m 1s\n",
      "432:\tlearn: 1569.2170198\ttotal: 46.6s\tremaining: 1m 1s\n",
      "433:\tlearn: 1569.0860546\ttotal: 46.8s\tremaining: 1m\n",
      "434:\tlearn: 1568.8036331\ttotal: 46.9s\tremaining: 1m\n",
      "435:\tlearn: 1568.6158256\ttotal: 47s\tremaining: 1m\n",
      "436:\tlearn: 1568.3276503\ttotal: 47.1s\tremaining: 1m\n",
      "437:\tlearn: 1567.8998418\ttotal: 47.2s\tremaining: 1m\n",
      "438:\tlearn: 1567.6492528\ttotal: 47.3s\tremaining: 1m\n",
      "439:\tlearn: 1567.4807148\ttotal: 47.4s\tremaining: 1m\n",
      "440:\tlearn: 1567.3364474\ttotal: 47.4s\tremaining: 1m\n",
      "441:\tlearn: 1567.2877279\ttotal: 47.5s\tremaining: 60s\n",
      "442:\tlearn: 1567.1848201\ttotal: 47.6s\tremaining: 59.9s\n",
      "443:\tlearn: 1566.9738795\ttotal: 47.7s\tremaining: 59.8s\n",
      "444:\tlearn: 1566.8666425\ttotal: 47.9s\tremaining: 59.7s\n",
      "445:\tlearn: 1566.7341627\ttotal: 48s\tremaining: 59.6s\n",
      "446:\tlearn: 1566.6868805\ttotal: 48.1s\tremaining: 59.5s\n",
      "447:\tlearn: 1566.4820300\ttotal: 48.2s\tremaining: 59.4s\n",
      "448:\tlearn: 1566.2836777\ttotal: 48.3s\tremaining: 59.3s\n",
      "449:\tlearn: 1566.0911829\ttotal: 48.4s\tremaining: 59.2s\n",
      "450:\tlearn: 1565.7847024\ttotal: 48.5s\tremaining: 59.1s\n",
      "451:\tlearn: 1565.5796474\ttotal: 48.6s\tremaining: 59s\n",
      "452:\tlearn: 1565.3908217\ttotal: 48.8s\tremaining: 58.9s\n",
      "453:\tlearn: 1565.2854779\ttotal: 48.8s\tremaining: 58.7s\n",
      "454:\tlearn: 1565.1478209\ttotal: 48.9s\tremaining: 58.6s\n",
      "455:\tlearn: 1565.0195444\ttotal: 49s\tremaining: 58.5s\n",
      "456:\tlearn: 1564.6819819\ttotal: 49.1s\tremaining: 58.4s\n",
      "457:\tlearn: 1564.6588266\ttotal: 49.2s\tremaining: 58.2s\n",
      "458:\tlearn: 1564.5037865\ttotal: 49.3s\tremaining: 58.1s\n",
      "459:\tlearn: 1564.3574756\ttotal: 49.4s\tremaining: 58s\n",
      "460:\tlearn: 1564.1507464\ttotal: 49.5s\tremaining: 57.9s\n",
      "461:\tlearn: 1564.0259747\ttotal: 49.6s\tremaining: 57.8s\n",
      "462:\tlearn: 1563.9210035\ttotal: 49.7s\tremaining: 57.7s\n",
      "463:\tlearn: 1563.7096155\ttotal: 49.8s\tremaining: 57.5s\n",
      "464:\tlearn: 1563.5251737\ttotal: 49.9s\tremaining: 57.4s\n",
      "465:\tlearn: 1563.4483790\ttotal: 50s\tremaining: 57.3s\n",
      "466:\tlearn: 1563.2658597\ttotal: 50.1s\tremaining: 57.2s\n",
      "467:\tlearn: 1563.1463704\ttotal: 50.2s\tremaining: 57s\n",
      "468:\tlearn: 1562.9720932\ttotal: 50.3s\tremaining: 56.9s\n",
      "469:\tlearn: 1562.8612126\ttotal: 50.4s\tremaining: 56.8s\n",
      "470:\tlearn: 1562.8150618\ttotal: 50.5s\tremaining: 56.7s\n",
      "471:\tlearn: 1562.7939802\ttotal: 50.5s\tremaining: 56.5s\n",
      "472:\tlearn: 1562.6030175\ttotal: 50.7s\tremaining: 56.4s\n",
      "473:\tlearn: 1562.4623893\ttotal: 50.7s\tremaining: 56.3s\n",
      "474:\tlearn: 1562.4266493\ttotal: 50.8s\tremaining: 56.2s\n",
      "475:\tlearn: 1562.2783216\ttotal: 50.9s\tremaining: 56.1s\n",
      "476:\tlearn: 1562.2649001\ttotal: 51s\tremaining: 55.9s\n",
      "477:\tlearn: 1562.0731209\ttotal: 51.1s\tremaining: 55.8s\n",
      "478:\tlearn: 1561.9643908\ttotal: 51.2s\tremaining: 55.7s\n",
      "479:\tlearn: 1561.9261841\ttotal: 51.3s\tremaining: 55.6s\n",
      "480:\tlearn: 1561.8799331\ttotal: 51.4s\tremaining: 55.4s\n",
      "481:\tlearn: 1561.7888184\ttotal: 51.4s\tremaining: 55.3s\n",
      "482:\tlearn: 1561.7174441\ttotal: 51.5s\tremaining: 55.1s\n",
      "483:\tlearn: 1561.5172124\ttotal: 51.6s\tremaining: 55s\n",
      "484:\tlearn: 1561.3966887\ttotal: 51.7s\tremaining: 54.9s\n",
      "485:\tlearn: 1561.1000543\ttotal: 51.8s\tremaining: 54.8s\n",
      "486:\tlearn: 1561.0350974\ttotal: 51.9s\tremaining: 54.6s\n",
      "487:\tlearn: 1560.8550064\ttotal: 52s\tremaining: 54.5s\n",
      "488:\tlearn: 1560.6067466\ttotal: 52s\tremaining: 54.4s\n",
      "489:\tlearn: 1560.5263730\ttotal: 52.1s\tremaining: 54.3s\n",
      "490:\tlearn: 1560.4876913\ttotal: 52.2s\tremaining: 54.2s\n",
      "491:\tlearn: 1560.4317910\ttotal: 52.4s\tremaining: 54.1s\n",
      "492:\tlearn: 1560.2220875\ttotal: 52.5s\tremaining: 54s\n",
      "493:\tlearn: 1560.1292846\ttotal: 52.6s\tremaining: 53.9s\n",
      "494:\tlearn: 1559.7134609\ttotal: 52.7s\tremaining: 53.8s\n",
      "495:\tlearn: 1559.5782510\ttotal: 52.8s\tremaining: 53.7s\n",
      "496:\tlearn: 1559.5120758\ttotal: 52.9s\tremaining: 53.6s\n",
      "497:\tlearn: 1559.4551808\ttotal: 53s\tremaining: 53.5s\n",
      "498:\tlearn: 1559.3269934\ttotal: 53.1s\tremaining: 53.4s\n",
      "499:\tlearn: 1558.9781371\ttotal: 53.2s\tremaining: 53.2s\n",
      "500:\tlearn: 1558.6712160\ttotal: 53.4s\tremaining: 53.1s\n",
      "501:\tlearn: 1558.4714760\ttotal: 53.4s\tremaining: 53s\n",
      "502:\tlearn: 1558.1247343\ttotal: 53.5s\tremaining: 52.9s\n",
      "503:\tlearn: 1558.0297312\ttotal: 53.7s\tremaining: 52.8s\n",
      "504:\tlearn: 1557.8470748\ttotal: 53.8s\tremaining: 52.7s\n",
      "505:\tlearn: 1557.5968578\ttotal: 53.8s\tremaining: 52.6s\n",
      "506:\tlearn: 1557.5162010\ttotal: 53.9s\tremaining: 52.5s\n",
      "507:\tlearn: 1557.3981827\ttotal: 54s\tremaining: 52.3s\n",
      "508:\tlearn: 1557.2060960\ttotal: 54.1s\tremaining: 52.2s\n",
      "509:\tlearn: 1556.9140612\ttotal: 54.3s\tremaining: 52.1s\n",
      "510:\tlearn: 1556.8431261\ttotal: 54.4s\tremaining: 52s\n",
      "511:\tlearn: 1556.6972150\ttotal: 54.5s\tremaining: 51.9s\n",
      "512:\tlearn: 1556.6142777\ttotal: 54.6s\tremaining: 51.8s\n",
      "513:\tlearn: 1556.3662323\ttotal: 54.7s\tremaining: 51.7s\n",
      "514:\tlearn: 1556.0872423\ttotal: 54.8s\tremaining: 51.6s\n",
      "515:\tlearn: 1555.9345341\ttotal: 54.9s\tremaining: 51.5s\n",
      "516:\tlearn: 1555.8229624\ttotal: 55.1s\tremaining: 51.4s\n",
      "517:\tlearn: 1555.5705980\ttotal: 55.1s\tremaining: 51.3s\n",
      "518:\tlearn: 1555.3094997\ttotal: 55.2s\tremaining: 51.2s\n",
      "519:\tlearn: 1555.2125247\ttotal: 55.3s\tremaining: 51.1s\n",
      "520:\tlearn: 1555.1524566\ttotal: 55.4s\tremaining: 51s\n",
      "521:\tlearn: 1554.9739482\ttotal: 55.5s\tremaining: 50.8s\n",
      "522:\tlearn: 1554.6990063\ttotal: 55.6s\tremaining: 50.7s\n",
      "523:\tlearn: 1554.6250783\ttotal: 55.7s\tremaining: 50.6s\n",
      "524:\tlearn: 1554.3104514\ttotal: 55.8s\tremaining: 50.5s\n",
      "525:\tlearn: 1554.1379485\ttotal: 55.9s\tremaining: 50.3s\n",
      "526:\tlearn: 1553.9960233\ttotal: 56s\tremaining: 50.2s\n",
      "527:\tlearn: 1553.7344951\ttotal: 56.1s\tremaining: 50.1s\n",
      "528:\tlearn: 1553.5194910\ttotal: 56.2s\tremaining: 50s\n",
      "529:\tlearn: 1553.4432865\ttotal: 56.2s\tremaining: 49.9s\n",
      "530:\tlearn: 1553.3313451\ttotal: 56.3s\tremaining: 49.8s\n",
      "531:\tlearn: 1552.8749051\ttotal: 56.4s\tremaining: 49.6s\n",
      "532:\tlearn: 1552.7169433\ttotal: 56.5s\tremaining: 49.5s\n",
      "533:\tlearn: 1552.4829213\ttotal: 56.6s\tremaining: 49.4s\n",
      "534:\tlearn: 1552.3445051\ttotal: 56.7s\tremaining: 49.3s\n",
      "535:\tlearn: 1552.2429537\ttotal: 56.8s\tremaining: 49.2s\n",
      "536:\tlearn: 1552.2223858\ttotal: 56.9s\tremaining: 49s\n",
      "537:\tlearn: 1552.1350239\ttotal: 56.9s\tremaining: 48.9s\n",
      "538:\tlearn: 1551.9950592\ttotal: 57s\tremaining: 48.8s\n",
      "539:\tlearn: 1551.8167816\ttotal: 57.2s\tremaining: 48.7s\n",
      "540:\tlearn: 1551.6716347\ttotal: 57.3s\tremaining: 48.6s\n",
      "541:\tlearn: 1551.5767345\ttotal: 57.4s\tremaining: 48.5s\n",
      "542:\tlearn: 1551.4104364\ttotal: 57.5s\tremaining: 48.4s\n",
      "543:\tlearn: 1551.1706836\ttotal: 57.6s\tremaining: 48.2s\n",
      "544:\tlearn: 1551.0737922\ttotal: 57.7s\tremaining: 48.1s\n",
      "545:\tlearn: 1550.9844123\ttotal: 57.8s\tremaining: 48s\n",
      "546:\tlearn: 1550.8019928\ttotal: 57.9s\tremaining: 47.9s\n",
      "547:\tlearn: 1550.6492945\ttotal: 58s\tremaining: 47.8s\n",
      "548:\tlearn: 1550.4359436\ttotal: 58.1s\tremaining: 47.7s\n",
      "549:\tlearn: 1550.2139629\ttotal: 58.1s\tremaining: 47.6s\n",
      "550:\tlearn: 1550.1411641\ttotal: 58.2s\tremaining: 47.4s\n",
      "551:\tlearn: 1549.9456983\ttotal: 58.3s\tremaining: 47.3s\n",
      "552:\tlearn: 1549.8734896\ttotal: 58.4s\tremaining: 47.2s\n",
      "553:\tlearn: 1549.8210116\ttotal: 58.5s\tremaining: 47.1s\n",
      "554:\tlearn: 1549.6789567\ttotal: 58.6s\tremaining: 47s\n",
      "555:\tlearn: 1549.5739423\ttotal: 58.7s\tremaining: 46.8s\n",
      "556:\tlearn: 1549.3503575\ttotal: 58.8s\tremaining: 46.7s\n",
      "557:\tlearn: 1549.1489381\ttotal: 58.9s\tremaining: 46.6s\n",
      "558:\tlearn: 1549.0700382\ttotal: 59s\tremaining: 46.5s\n",
      "559:\tlearn: 1549.0561350\ttotal: 59s\tremaining: 46.4s\n",
      "560:\tlearn: 1548.9203459\ttotal: 59.2s\tremaining: 46.3s\n",
      "561:\tlearn: 1548.8471182\ttotal: 59.2s\tremaining: 46.2s\n",
      "562:\tlearn: 1548.7609536\ttotal: 59.4s\tremaining: 46.1s\n",
      "563:\tlearn: 1548.6259139\ttotal: 59.5s\tremaining: 46s\n",
      "564:\tlearn: 1548.4070624\ttotal: 59.6s\tremaining: 45.9s\n",
      "565:\tlearn: 1548.2479850\ttotal: 59.7s\tremaining: 45.8s\n",
      "566:\tlearn: 1548.1588586\ttotal: 59.8s\tremaining: 45.7s\n",
      "567:\tlearn: 1548.0722977\ttotal: 59.9s\tremaining: 45.6s\n",
      "568:\tlearn: 1547.8164773\ttotal: 1m\tremaining: 45.5s\n",
      "569:\tlearn: 1547.6573295\ttotal: 1m\tremaining: 45.4s\n",
      "570:\tlearn: 1547.4460673\ttotal: 1m\tremaining: 45.3s\n",
      "571:\tlearn: 1547.4136327\ttotal: 1m\tremaining: 45.2s\n",
      "572:\tlearn: 1547.2433251\ttotal: 1m\tremaining: 45s\n",
      "573:\tlearn: 1547.0840477\ttotal: 1m\tremaining: 44.9s\n",
      "574:\tlearn: 1547.0079100\ttotal: 1m\tremaining: 44.8s\n",
      "575:\tlearn: 1546.8107919\ttotal: 1m\tremaining: 44.7s\n",
      "576:\tlearn: 1546.7284322\ttotal: 1m\tremaining: 44.6s\n",
      "577:\tlearn: 1546.6639298\ttotal: 1m\tremaining: 44.5s\n",
      "578:\tlearn: 1546.5881488\ttotal: 1m 1s\tremaining: 44.4s\n",
      "579:\tlearn: 1546.4359118\ttotal: 1m 1s\tremaining: 44.3s\n",
      "580:\tlearn: 1546.3017279\ttotal: 1m 1s\tremaining: 44.2s\n",
      "581:\tlearn: 1546.2251451\ttotal: 1m 1s\tremaining: 44.1s\n",
      "582:\tlearn: 1546.0055715\ttotal: 1m 1s\tremaining: 43.9s\n",
      "583:\tlearn: 1545.9269481\ttotal: 1m 1s\tremaining: 43.8s\n",
      "584:\tlearn: 1545.8483291\ttotal: 1m 1s\tremaining: 43.7s\n",
      "585:\tlearn: 1545.6947730\ttotal: 1m 1s\tremaining: 43.6s\n",
      "586:\tlearn: 1545.4852823\ttotal: 1m 1s\tremaining: 43.5s\n",
      "587:\tlearn: 1545.2864448\ttotal: 1m 1s\tremaining: 43.4s\n",
      "588:\tlearn: 1545.0721931\ttotal: 1m 1s\tremaining: 43.3s\n",
      "589:\tlearn: 1544.8326633\ttotal: 1m 2s\tremaining: 43.1s\n",
      "590:\tlearn: 1544.5081548\ttotal: 1m 2s\tremaining: 43s\n",
      "591:\tlearn: 1544.3348950\ttotal: 1m 2s\tremaining: 42.9s\n",
      "592:\tlearn: 1544.1916909\ttotal: 1m 2s\tremaining: 42.8s\n",
      "593:\tlearn: 1544.0815721\ttotal: 1m 2s\tremaining: 42.7s\n",
      "594:\tlearn: 1543.9946018\ttotal: 1m 2s\tremaining: 42.6s\n",
      "595:\tlearn: 1543.9036398\ttotal: 1m 2s\tremaining: 42.5s\n",
      "596:\tlearn: 1543.7829568\ttotal: 1m 2s\tremaining: 42.4s\n",
      "597:\tlearn: 1543.7160180\ttotal: 1m 2s\tremaining: 42.3s\n",
      "598:\tlearn: 1543.6200328\ttotal: 1m 3s\tremaining: 42.2s\n",
      "599:\tlearn: 1543.4624646\ttotal: 1m 3s\tremaining: 42.1s\n",
      "600:\tlearn: 1543.3015775\ttotal: 1m 3s\tremaining: 42s\n",
      "601:\tlearn: 1543.1991043\ttotal: 1m 3s\tremaining: 41.9s\n",
      "602:\tlearn: 1542.9854181\ttotal: 1m 3s\tremaining: 41.7s\n",
      "603:\tlearn: 1542.8659845\ttotal: 1m 3s\tremaining: 41.7s\n",
      "604:\tlearn: 1542.7196407\ttotal: 1m 3s\tremaining: 41.5s\n",
      "605:\tlearn: 1542.6853937\ttotal: 1m 3s\tremaining: 41.5s\n",
      "606:\tlearn: 1542.4553623\ttotal: 1m 3s\tremaining: 41.3s\n",
      "607:\tlearn: 1542.3996845\ttotal: 1m 3s\tremaining: 41.2s\n",
      "608:\tlearn: 1542.2388773\ttotal: 1m 4s\tremaining: 41.1s\n",
      "609:\tlearn: 1542.1680612\ttotal: 1m 4s\tremaining: 41s\n",
      "610:\tlearn: 1542.0578874\ttotal: 1m 4s\tremaining: 40.9s\n",
      "611:\tlearn: 1541.9273122\ttotal: 1m 4s\tremaining: 40.8s\n",
      "612:\tlearn: 1541.8446143\ttotal: 1m 4s\tremaining: 40.7s\n",
      "613:\tlearn: 1541.6925649\ttotal: 1m 4s\tremaining: 40.6s\n",
      "614:\tlearn: 1541.6538371\ttotal: 1m 4s\tremaining: 40.5s\n",
      "615:\tlearn: 1541.5836486\ttotal: 1m 4s\tremaining: 40.4s\n",
      "616:\tlearn: 1541.3004524\ttotal: 1m 4s\tremaining: 40.3s\n",
      "617:\tlearn: 1541.1565701\ttotal: 1m 5s\tremaining: 40.2s\n",
      "618:\tlearn: 1541.1068832\ttotal: 1m 5s\tremaining: 40.1s\n",
      "619:\tlearn: 1540.9697063\ttotal: 1m 5s\tremaining: 40s\n",
      "620:\tlearn: 1540.9144370\ttotal: 1m 5s\tremaining: 39.9s\n",
      "621:\tlearn: 1540.8285947\ttotal: 1m 5s\tremaining: 39.8s\n",
      "622:\tlearn: 1540.7252045\ttotal: 1m 5s\tremaining: 39.7s\n",
      "623:\tlearn: 1540.6266229\ttotal: 1m 5s\tremaining: 39.6s\n",
      "624:\tlearn: 1540.5622875\ttotal: 1m 5s\tremaining: 39.5s\n",
      "625:\tlearn: 1540.4103073\ttotal: 1m 5s\tremaining: 39.4s\n",
      "626:\tlearn: 1540.1852136\ttotal: 1m 6s\tremaining: 39.3s\n",
      "627:\tlearn: 1540.1297691\ttotal: 1m 6s\tremaining: 39.2s\n",
      "628:\tlearn: 1540.0336450\ttotal: 1m 6s\tremaining: 39.1s\n",
      "629:\tlearn: 1539.8992396\ttotal: 1m 6s\tremaining: 39s\n",
      "630:\tlearn: 1539.7931070\ttotal: 1m 6s\tremaining: 38.9s\n",
      "631:\tlearn: 1539.6876572\ttotal: 1m 6s\tremaining: 38.8s\n",
      "632:\tlearn: 1539.6609459\ttotal: 1m 6s\tremaining: 38.7s\n",
      "633:\tlearn: 1539.5559238\ttotal: 1m 6s\tremaining: 38.5s\n",
      "634:\tlearn: 1539.4717249\ttotal: 1m 6s\tremaining: 38.4s\n",
      "635:\tlearn: 1539.4167543\ttotal: 1m 7s\tremaining: 38.3s\n",
      "636:\tlearn: 1539.3941167\ttotal: 1m 7s\tremaining: 38.2s\n",
      "637:\tlearn: 1539.2088757\ttotal: 1m 7s\tremaining: 38.1s\n",
      "638:\tlearn: 1538.9697125\ttotal: 1m 7s\tremaining: 38s\n",
      "639:\tlearn: 1538.7858217\ttotal: 1m 7s\tremaining: 37.9s\n",
      "640:\tlearn: 1538.6469908\ttotal: 1m 7s\tremaining: 37.8s\n",
      "641:\tlearn: 1538.5182723\ttotal: 1m 7s\tremaining: 37.8s\n",
      "642:\tlearn: 1538.2557177\ttotal: 1m 7s\tremaining: 37.7s\n",
      "643:\tlearn: 1538.0687086\ttotal: 1m 7s\tremaining: 37.6s\n",
      "644:\tlearn: 1537.7792201\ttotal: 1m 8s\tremaining: 37.5s\n",
      "645:\tlearn: 1537.7000225\ttotal: 1m 8s\tremaining: 37.3s\n",
      "646:\tlearn: 1537.5024474\ttotal: 1m 8s\tremaining: 37.2s\n",
      "647:\tlearn: 1537.4416999\ttotal: 1m 8s\tremaining: 37.1s\n",
      "648:\tlearn: 1537.3331613\ttotal: 1m 8s\tremaining: 37s\n",
      "649:\tlearn: 1537.2814959\ttotal: 1m 8s\tremaining: 36.9s\n",
      "650:\tlearn: 1537.1575511\ttotal: 1m 8s\tremaining: 36.8s\n",
      "651:\tlearn: 1537.0660968\ttotal: 1m 8s\tremaining: 36.7s\n",
      "652:\tlearn: 1536.9353662\ttotal: 1m 8s\tremaining: 36.6s\n",
      "653:\tlearn: 1536.8877111\ttotal: 1m 9s\tremaining: 36.5s\n",
      "654:\tlearn: 1536.6889794\ttotal: 1m 9s\tremaining: 36.4s\n",
      "655:\tlearn: 1536.5951847\ttotal: 1m 9s\tremaining: 36.3s\n",
      "656:\tlearn: 1536.4994764\ttotal: 1m 9s\tremaining: 36.2s\n",
      "657:\tlearn: 1536.4044474\ttotal: 1m 9s\tremaining: 36.1s\n",
      "658:\tlearn: 1536.3590268\ttotal: 1m 9s\tremaining: 36s\n",
      "659:\tlearn: 1536.2254642\ttotal: 1m 9s\tremaining: 35.9s\n",
      "660:\tlearn: 1536.1918475\ttotal: 1m 9s\tremaining: 35.8s\n",
      "661:\tlearn: 1536.0505385\ttotal: 1m 9s\tremaining: 35.7s\n",
      "662:\tlearn: 1535.8542636\ttotal: 1m 10s\tremaining: 35.6s\n",
      "663:\tlearn: 1535.7569411\ttotal: 1m 10s\tremaining: 35.5s\n",
      "664:\tlearn: 1535.6487887\ttotal: 1m 10s\tremaining: 35.4s\n",
      "665:\tlearn: 1535.4851810\ttotal: 1m 10s\tremaining: 35.3s\n",
      "666:\tlearn: 1535.4092406\ttotal: 1m 10s\tremaining: 35.2s\n",
      "667:\tlearn: 1535.3147511\ttotal: 1m 10s\tremaining: 35.1s\n",
      "668:\tlearn: 1535.2375160\ttotal: 1m 10s\tremaining: 35s\n",
      "669:\tlearn: 1535.1153341\ttotal: 1m 10s\tremaining: 34.9s\n",
      "670:\tlearn: 1535.0306322\ttotal: 1m 10s\tremaining: 34.8s\n",
      "671:\tlearn: 1534.9525811\ttotal: 1m 10s\tremaining: 34.6s\n",
      "672:\tlearn: 1534.6878000\ttotal: 1m 11s\tremaining: 34.5s\n",
      "673:\tlearn: 1534.4832692\ttotal: 1m 11s\tremaining: 34.5s\n",
      "674:\tlearn: 1534.4133634\ttotal: 1m 11s\tremaining: 34.4s\n",
      "675:\tlearn: 1534.1945108\ttotal: 1m 11s\tremaining: 34.3s\n",
      "676:\tlearn: 1533.9966939\ttotal: 1m 11s\tremaining: 34.1s\n",
      "677:\tlearn: 1533.9492762\ttotal: 1m 11s\tremaining: 34s\n",
      "678:\tlearn: 1533.8912699\ttotal: 1m 11s\tremaining: 33.9s\n",
      "679:\tlearn: 1533.7654573\ttotal: 1m 11s\tremaining: 33.8s\n",
      "680:\tlearn: 1533.5691021\ttotal: 1m 12s\tremaining: 33.7s\n",
      "681:\tlearn: 1533.4338685\ttotal: 1m 12s\tremaining: 33.6s\n",
      "682:\tlearn: 1533.3867880\ttotal: 1m 12s\tremaining: 33.5s\n",
      "683:\tlearn: 1533.2615679\ttotal: 1m 12s\tremaining: 33.4s\n",
      "684:\tlearn: 1533.2275906\ttotal: 1m 12s\tremaining: 33.3s\n",
      "685:\tlearn: 1533.0494751\ttotal: 1m 12s\tremaining: 33.2s\n",
      "686:\tlearn: 1532.9279321\ttotal: 1m 12s\tremaining: 33.1s\n",
      "687:\tlearn: 1532.8147573\ttotal: 1m 12s\tremaining: 33s\n",
      "688:\tlearn: 1532.6175280\ttotal: 1m 12s\tremaining: 32.9s\n",
      "689:\tlearn: 1532.5655682\ttotal: 1m 13s\tremaining: 32.8s\n",
      "690:\tlearn: 1532.5473612\ttotal: 1m 13s\tremaining: 32.7s\n",
      "691:\tlearn: 1532.4524486\ttotal: 1m 13s\tremaining: 32.6s\n",
      "692:\tlearn: 1532.3825957\ttotal: 1m 13s\tremaining: 32.5s\n",
      "693:\tlearn: 1532.2690568\ttotal: 1m 13s\tremaining: 32.4s\n",
      "694:\tlearn: 1532.1661526\ttotal: 1m 13s\tremaining: 32.3s\n",
      "695:\tlearn: 1532.1158925\ttotal: 1m 13s\tremaining: 32.2s\n",
      "696:\tlearn: 1532.0198727\ttotal: 1m 13s\tremaining: 32.1s\n",
      "697:\tlearn: 1531.9297479\ttotal: 1m 13s\tremaining: 32s\n",
      "698:\tlearn: 1531.8138220\ttotal: 1m 13s\tremaining: 31.8s\n",
      "699:\tlearn: 1531.6106471\ttotal: 1m 14s\tremaining: 31.8s\n",
      "700:\tlearn: 1531.5494109\ttotal: 1m 14s\tremaining: 31.6s\n",
      "701:\tlearn: 1531.3803157\ttotal: 1m 14s\tremaining: 31.5s\n",
      "702:\tlearn: 1531.3152592\ttotal: 1m 14s\tremaining: 31.4s\n",
      "703:\tlearn: 1531.2373347\ttotal: 1m 14s\tremaining: 31.3s\n",
      "704:\tlearn: 1531.2237375\ttotal: 1m 14s\tremaining: 31.2s\n",
      "705:\tlearn: 1530.9571021\ttotal: 1m 14s\tremaining: 31.1s\n",
      "706:\tlearn: 1530.9152503\ttotal: 1m 14s\tremaining: 31s\n",
      "707:\tlearn: 1530.8682868\ttotal: 1m 14s\tremaining: 30.9s\n",
      "708:\tlearn: 1530.4603560\ttotal: 1m 14s\tremaining: 30.7s\n",
      "709:\tlearn: 1530.3649106\ttotal: 1m 15s\tremaining: 30.6s\n",
      "710:\tlearn: 1530.2760269\ttotal: 1m 15s\tremaining: 30.5s\n",
      "711:\tlearn: 1530.2612550\ttotal: 1m 15s\tremaining: 30.4s\n",
      "712:\tlearn: 1530.1969883\ttotal: 1m 15s\tremaining: 30.3s\n",
      "713:\tlearn: 1530.0750023\ttotal: 1m 15s\tremaining: 30.2s\n",
      "714:\tlearn: 1529.9791136\ttotal: 1m 15s\tremaining: 30.1s\n",
      "715:\tlearn: 1529.8562288\ttotal: 1m 15s\tremaining: 30s\n",
      "716:\tlearn: 1529.6432100\ttotal: 1m 15s\tremaining: 29.9s\n",
      "717:\tlearn: 1529.5928807\ttotal: 1m 15s\tremaining: 29.8s\n",
      "718:\tlearn: 1529.5246545\ttotal: 1m 15s\tremaining: 29.7s\n",
      "719:\tlearn: 1529.3781539\ttotal: 1m 15s\tremaining: 29.5s\n",
      "720:\tlearn: 1529.1514311\ttotal: 1m 16s\tremaining: 29.5s\n",
      "721:\tlearn: 1529.0371640\ttotal: 1m 16s\tremaining: 29.3s\n",
      "722:\tlearn: 1528.9416927\ttotal: 1m 16s\tremaining: 29.2s\n",
      "723:\tlearn: 1528.8323712\ttotal: 1m 16s\tremaining: 29.1s\n",
      "724:\tlearn: 1528.8108378\ttotal: 1m 16s\tremaining: 29s\n",
      "725:\tlearn: 1528.7313782\ttotal: 1m 16s\tremaining: 28.9s\n",
      "726:\tlearn: 1528.6954913\ttotal: 1m 16s\tremaining: 28.8s\n",
      "727:\tlearn: 1528.6388505\ttotal: 1m 16s\tremaining: 28.7s\n",
      "728:\tlearn: 1528.5368146\ttotal: 1m 16s\tremaining: 28.6s\n",
      "729:\tlearn: 1528.2064290\ttotal: 1m 16s\tremaining: 28.5s\n",
      "730:\tlearn: 1528.1182254\ttotal: 1m 17s\tremaining: 28.4s\n",
      "731:\tlearn: 1528.0925315\ttotal: 1m 17s\tremaining: 28.3s\n",
      "732:\tlearn: 1528.0140434\ttotal: 1m 17s\tremaining: 28.1s\n",
      "733:\tlearn: 1527.9730642\ttotal: 1m 17s\tremaining: 28s\n",
      "734:\tlearn: 1527.7710821\ttotal: 1m 17s\tremaining: 27.9s\n",
      "735:\tlearn: 1527.7692769\ttotal: 1m 17s\tremaining: 27.8s\n",
      "736:\tlearn: 1527.7028883\ttotal: 1m 17s\tremaining: 27.7s\n",
      "737:\tlearn: 1527.5308128\ttotal: 1m 17s\tremaining: 27.6s\n",
      "738:\tlearn: 1527.4163639\ttotal: 1m 17s\tremaining: 27.5s\n",
      "739:\tlearn: 1527.2564241\ttotal: 1m 17s\tremaining: 27.4s\n",
      "740:\tlearn: 1527.1673109\ttotal: 1m 18s\tremaining: 27.3s\n",
      "741:\tlearn: 1527.1374815\ttotal: 1m 18s\tremaining: 27.2s\n",
      "742:\tlearn: 1526.9486491\ttotal: 1m 18s\tremaining: 27.1s\n",
      "743:\tlearn: 1526.8401830\ttotal: 1m 18s\tremaining: 27s\n",
      "744:\tlearn: 1526.6489420\ttotal: 1m 18s\tremaining: 26.9s\n",
      "745:\tlearn: 1526.5219000\ttotal: 1m 18s\tremaining: 26.7s\n",
      "746:\tlearn: 1526.4387465\ttotal: 1m 18s\tremaining: 26.6s\n",
      "747:\tlearn: 1526.3791423\ttotal: 1m 18s\tremaining: 26.5s\n",
      "748:\tlearn: 1526.2868625\ttotal: 1m 18s\tremaining: 26.4s\n",
      "749:\tlearn: 1526.2179387\ttotal: 1m 18s\tremaining: 26.3s\n",
      "750:\tlearn: 1526.1935358\ttotal: 1m 19s\tremaining: 26.2s\n",
      "751:\tlearn: 1526.1361740\ttotal: 1m 19s\tremaining: 26.1s\n",
      "752:\tlearn: 1526.0466134\ttotal: 1m 19s\tremaining: 26s\n",
      "753:\tlearn: 1526.0391366\ttotal: 1m 19s\tremaining: 25.9s\n",
      "754:\tlearn: 1526.0021858\ttotal: 1m 19s\tremaining: 25.8s\n",
      "755:\tlearn: 1525.9906167\ttotal: 1m 19s\tremaining: 25.7s\n",
      "756:\tlearn: 1525.8752117\ttotal: 1m 19s\tremaining: 25.6s\n",
      "757:\tlearn: 1525.7793285\ttotal: 1m 19s\tremaining: 25.5s\n",
      "758:\tlearn: 1525.7139479\ttotal: 1m 19s\tremaining: 25.4s\n",
      "759:\tlearn: 1525.6352654\ttotal: 1m 20s\tremaining: 25.3s\n",
      "760:\tlearn: 1525.5479022\ttotal: 1m 20s\tremaining: 25.2s\n",
      "761:\tlearn: 1525.3950650\ttotal: 1m 20s\tremaining: 25.1s\n",
      "762:\tlearn: 1525.3303897\ttotal: 1m 20s\tremaining: 25s\n",
      "763:\tlearn: 1525.1298186\ttotal: 1m 20s\tremaining: 24.9s\n",
      "764:\tlearn: 1525.0464652\ttotal: 1m 20s\tremaining: 24.8s\n",
      "765:\tlearn: 1524.9156796\ttotal: 1m 20s\tremaining: 24.7s\n",
      "766:\tlearn: 1524.7932664\ttotal: 1m 20s\tremaining: 24.6s\n",
      "767:\tlearn: 1524.4735129\ttotal: 1m 20s\tremaining: 24.5s\n",
      "768:\tlearn: 1524.4427875\ttotal: 1m 21s\tremaining: 24.4s\n",
      "769:\tlearn: 1524.4020753\ttotal: 1m 21s\tremaining: 24.3s\n",
      "770:\tlearn: 1524.3336289\ttotal: 1m 21s\tremaining: 24.2s\n",
      "771:\tlearn: 1524.3004091\ttotal: 1m 21s\tremaining: 24.1s\n",
      "772:\tlearn: 1524.1689387\ttotal: 1m 21s\tremaining: 23.9s\n",
      "773:\tlearn: 1524.0002178\ttotal: 1m 21s\tremaining: 23.8s\n",
      "774:\tlearn: 1523.8915702\ttotal: 1m 21s\tremaining: 23.7s\n",
      "775:\tlearn: 1523.8838752\ttotal: 1m 21s\tremaining: 23.6s\n",
      "776:\tlearn: 1523.7554585\ttotal: 1m 21s\tremaining: 23.5s\n",
      "777:\tlearn: 1523.5708330\ttotal: 1m 22s\tremaining: 23.4s\n",
      "778:\tlearn: 1523.4001358\ttotal: 1m 22s\tremaining: 23.3s\n",
      "779:\tlearn: 1523.3276285\ttotal: 1m 22s\tremaining: 23.2s\n",
      "780:\tlearn: 1523.2327074\ttotal: 1m 22s\tremaining: 23.1s\n",
      "781:\tlearn: 1523.0416911\ttotal: 1m 22s\tremaining: 23s\n",
      "782:\tlearn: 1522.9097802\ttotal: 1m 22s\tremaining: 22.9s\n",
      "783:\tlearn: 1522.8853678\ttotal: 1m 22s\tremaining: 22.8s\n",
      "784:\tlearn: 1522.7462583\ttotal: 1m 22s\tremaining: 22.7s\n",
      "785:\tlearn: 1522.7357948\ttotal: 1m 22s\tremaining: 22.6s\n",
      "786:\tlearn: 1522.6314255\ttotal: 1m 23s\tremaining: 22.5s\n",
      "787:\tlearn: 1522.4609713\ttotal: 1m 23s\tremaining: 22.4s\n",
      "788:\tlearn: 1522.3499282\ttotal: 1m 23s\tremaining: 22.3s\n",
      "789:\tlearn: 1522.2616086\ttotal: 1m 23s\tremaining: 22.2s\n",
      "790:\tlearn: 1522.1560182\ttotal: 1m 23s\tremaining: 22s\n",
      "791:\tlearn: 1522.1098785\ttotal: 1m 23s\tremaining: 21.9s\n",
      "792:\tlearn: 1522.0357346\ttotal: 1m 23s\tremaining: 21.8s\n",
      "793:\tlearn: 1521.9871327\ttotal: 1m 23s\tremaining: 21.7s\n",
      "794:\tlearn: 1521.8766165\ttotal: 1m 23s\tremaining: 21.6s\n",
      "795:\tlearn: 1521.7817516\ttotal: 1m 24s\tremaining: 21.5s\n",
      "796:\tlearn: 1521.5906091\ttotal: 1m 24s\tremaining: 21.4s\n",
      "797:\tlearn: 1521.4520716\ttotal: 1m 24s\tremaining: 21.3s\n",
      "798:\tlearn: 1521.3952546\ttotal: 1m 24s\tremaining: 21.2s\n",
      "799:\tlearn: 1521.2748894\ttotal: 1m 24s\tremaining: 21.1s\n",
      "800:\tlearn: 1521.2069967\ttotal: 1m 24s\tremaining: 21s\n",
      "801:\tlearn: 1521.1275619\ttotal: 1m 24s\tremaining: 20.9s\n",
      "802:\tlearn: 1521.0503131\ttotal: 1m 24s\tremaining: 20.8s\n",
      "803:\tlearn: 1521.0188305\ttotal: 1m 24s\tremaining: 20.7s\n",
      "804:\tlearn: 1520.9516961\ttotal: 1m 24s\tremaining: 20.6s\n",
      "805:\tlearn: 1520.7518181\ttotal: 1m 25s\tremaining: 20.5s\n",
      "806:\tlearn: 1520.6550039\ttotal: 1m 25s\tremaining: 20.4s\n",
      "807:\tlearn: 1520.3611141\ttotal: 1m 25s\tremaining: 20.3s\n",
      "808:\tlearn: 1520.2106056\ttotal: 1m 25s\tremaining: 20.2s\n",
      "809:\tlearn: 1520.1208318\ttotal: 1m 25s\tremaining: 20.1s\n",
      "810:\tlearn: 1519.9755399\ttotal: 1m 25s\tremaining: 19.9s\n",
      "811:\tlearn: 1519.8630388\ttotal: 1m 25s\tremaining: 19.8s\n",
      "812:\tlearn: 1519.7276887\ttotal: 1m 25s\tremaining: 19.7s\n",
      "813:\tlearn: 1519.6994300\ttotal: 1m 25s\tremaining: 19.6s\n",
      "814:\tlearn: 1519.5312082\ttotal: 1m 26s\tremaining: 19.5s\n",
      "815:\tlearn: 1519.4096122\ttotal: 1m 26s\tremaining: 19.4s\n",
      "816:\tlearn: 1519.1974914\ttotal: 1m 26s\tremaining: 19.3s\n",
      "817:\tlearn: 1519.1252710\ttotal: 1m 26s\tremaining: 19.2s\n",
      "818:\tlearn: 1519.1079125\ttotal: 1m 26s\tremaining: 19.1s\n",
      "819:\tlearn: 1518.9713980\ttotal: 1m 26s\tremaining: 19s\n",
      "820:\tlearn: 1518.9247656\ttotal: 1m 26s\tremaining: 18.9s\n",
      "821:\tlearn: 1518.7709411\ttotal: 1m 26s\tremaining: 18.8s\n",
      "822:\tlearn: 1518.6676852\ttotal: 1m 26s\tremaining: 18.7s\n",
      "823:\tlearn: 1518.5504832\ttotal: 1m 27s\tremaining: 18.6s\n",
      "824:\tlearn: 1518.3936588\ttotal: 1m 27s\tremaining: 18.5s\n",
      "825:\tlearn: 1518.2950294\ttotal: 1m 27s\tremaining: 18.4s\n",
      "826:\tlearn: 1518.0870339\ttotal: 1m 27s\tremaining: 18.3s\n",
      "827:\tlearn: 1517.9951269\ttotal: 1m 27s\tremaining: 18.2s\n",
      "828:\tlearn: 1517.9505387\ttotal: 1m 27s\tremaining: 18s\n",
      "829:\tlearn: 1517.8269624\ttotal: 1m 27s\tremaining: 17.9s\n",
      "830:\tlearn: 1517.6945597\ttotal: 1m 27s\tremaining: 17.8s\n",
      "831:\tlearn: 1517.4644715\ttotal: 1m 27s\tremaining: 17.7s\n",
      "832:\tlearn: 1517.3630867\ttotal: 1m 27s\tremaining: 17.6s\n",
      "833:\tlearn: 1517.2883653\ttotal: 1m 28s\tremaining: 17.5s\n",
      "834:\tlearn: 1517.1590342\ttotal: 1m 28s\tremaining: 17.4s\n",
      "835:\tlearn: 1517.0056314\ttotal: 1m 28s\tremaining: 17.3s\n",
      "836:\tlearn: 1516.9845268\ttotal: 1m 28s\tremaining: 17.2s\n",
      "837:\tlearn: 1516.7026522\ttotal: 1m 28s\tremaining: 17.1s\n",
      "838:\tlearn: 1516.6971992\ttotal: 1m 28s\tremaining: 17s\n",
      "839:\tlearn: 1516.6549788\ttotal: 1m 28s\tremaining: 16.9s\n",
      "840:\tlearn: 1516.5668162\ttotal: 1m 28s\tremaining: 16.8s\n",
      "841:\tlearn: 1516.5073654\ttotal: 1m 28s\tremaining: 16.7s\n",
      "842:\tlearn: 1516.4155691\ttotal: 1m 29s\tremaining: 16.6s\n",
      "843:\tlearn: 1516.3609049\ttotal: 1m 29s\tremaining: 16.5s\n",
      "844:\tlearn: 1516.3368524\ttotal: 1m 29s\tremaining: 16.4s\n",
      "845:\tlearn: 1516.2467139\ttotal: 1m 29s\tremaining: 16.3s\n",
      "846:\tlearn: 1516.1831673\ttotal: 1m 29s\tremaining: 16.2s\n",
      "847:\tlearn: 1516.1559679\ttotal: 1m 29s\tremaining: 16s\n",
      "848:\tlearn: 1516.1281916\ttotal: 1m 29s\tremaining: 15.9s\n",
      "849:\tlearn: 1516.1152301\ttotal: 1m 29s\tremaining: 15.8s\n",
      "850:\tlearn: 1516.0076118\ttotal: 1m 29s\tremaining: 15.7s\n",
      "851:\tlearn: 1515.8927157\ttotal: 1m 29s\tremaining: 15.6s\n",
      "852:\tlearn: 1515.8052159\ttotal: 1m 30s\tremaining: 15.5s\n",
      "853:\tlearn: 1515.6498471\ttotal: 1m 30s\tremaining: 15.4s\n",
      "854:\tlearn: 1515.3856949\ttotal: 1m 30s\tremaining: 15.3s\n",
      "855:\tlearn: 1515.3507616\ttotal: 1m 30s\tremaining: 15.2s\n",
      "856:\tlearn: 1515.3350336\ttotal: 1m 30s\tremaining: 15.1s\n",
      "857:\tlearn: 1515.2707553\ttotal: 1m 30s\tremaining: 15s\n",
      "858:\tlearn: 1515.0752910\ttotal: 1m 30s\tremaining: 14.9s\n",
      "859:\tlearn: 1515.0536492\ttotal: 1m 30s\tremaining: 14.8s\n",
      "860:\tlearn: 1514.9932367\ttotal: 1m 30s\tremaining: 14.7s\n",
      "861:\tlearn: 1514.8084743\ttotal: 1m 30s\tremaining: 14.6s\n",
      "862:\tlearn: 1514.6588921\ttotal: 1m 31s\tremaining: 14.4s\n",
      "863:\tlearn: 1514.5036807\ttotal: 1m 31s\tremaining: 14.3s\n",
      "864:\tlearn: 1514.4507607\ttotal: 1m 31s\tremaining: 14.2s\n",
      "865:\tlearn: 1514.3454794\ttotal: 1m 31s\tremaining: 14.1s\n",
      "866:\tlearn: 1514.1478342\ttotal: 1m 31s\tremaining: 14s\n",
      "867:\tlearn: 1514.0254481\ttotal: 1m 31s\tremaining: 13.9s\n",
      "868:\tlearn: 1513.8583248\ttotal: 1m 31s\tremaining: 13.8s\n",
      "869:\tlearn: 1513.7896261\ttotal: 1m 31s\tremaining: 13.7s\n",
      "870:\tlearn: 1513.7099510\ttotal: 1m 31s\tremaining: 13.6s\n",
      "871:\tlearn: 1513.5600464\ttotal: 1m 31s\tremaining: 13.5s\n",
      "872:\tlearn: 1513.4526565\ttotal: 1m 31s\tremaining: 13.4s\n",
      "873:\tlearn: 1513.3867637\ttotal: 1m 32s\tremaining: 13.3s\n",
      "874:\tlearn: 1513.3713118\ttotal: 1m 32s\tremaining: 13.2s\n",
      "875:\tlearn: 1513.3385919\ttotal: 1m 32s\tremaining: 13.1s\n",
      "876:\tlearn: 1513.1746653\ttotal: 1m 32s\tremaining: 13s\n",
      "877:\tlearn: 1513.0494775\ttotal: 1m 32s\tremaining: 12.9s\n",
      "878:\tlearn: 1512.9338323\ttotal: 1m 32s\tremaining: 12.7s\n",
      "879:\tlearn: 1512.8731843\ttotal: 1m 32s\tremaining: 12.6s\n",
      "880:\tlearn: 1512.7722812\ttotal: 1m 32s\tremaining: 12.5s\n",
      "881:\tlearn: 1512.7587481\ttotal: 1m 32s\tremaining: 12.4s\n",
      "882:\tlearn: 1512.5768705\ttotal: 1m 33s\tremaining: 12.3s\n",
      "883:\tlearn: 1512.4025487\ttotal: 1m 33s\tremaining: 12.2s\n",
      "884:\tlearn: 1512.3713697\ttotal: 1m 33s\tremaining: 12.1s\n",
      "885:\tlearn: 1512.2755636\ttotal: 1m 33s\tremaining: 12s\n",
      "886:\tlearn: 1512.1945087\ttotal: 1m 33s\tremaining: 11.9s\n",
      "887:\tlearn: 1512.0947360\ttotal: 1m 33s\tremaining: 11.8s\n",
      "888:\tlearn: 1511.9471960\ttotal: 1m 33s\tremaining: 11.7s\n",
      "889:\tlearn: 1511.7548277\ttotal: 1m 33s\tremaining: 11.6s\n",
      "890:\tlearn: 1511.6944591\ttotal: 1m 33s\tremaining: 11.5s\n",
      "891:\tlearn: 1511.5842023\ttotal: 1m 33s\tremaining: 11.4s\n",
      "892:\tlearn: 1511.5226963\ttotal: 1m 34s\tremaining: 11.3s\n",
      "893:\tlearn: 1511.5045589\ttotal: 1m 34s\tremaining: 11.2s\n",
      "894:\tlearn: 1511.4730717\ttotal: 1m 34s\tremaining: 11.1s\n",
      "895:\tlearn: 1511.4185768\ttotal: 1m 34s\tremaining: 11s\n",
      "896:\tlearn: 1511.3849974\ttotal: 1m 34s\tremaining: 10.8s\n",
      "897:\tlearn: 1511.2993331\ttotal: 1m 34s\tremaining: 10.7s\n",
      "898:\tlearn: 1511.2219821\ttotal: 1m 34s\tremaining: 10.6s\n",
      "899:\tlearn: 1511.1215342\ttotal: 1m 34s\tremaining: 10.5s\n",
      "900:\tlearn: 1510.9860634\ttotal: 1m 34s\tremaining: 10.4s\n",
      "901:\tlearn: 1510.8923975\ttotal: 1m 35s\tremaining: 10.3s\n",
      "902:\tlearn: 1510.7992338\ttotal: 1m 35s\tremaining: 10.2s\n",
      "903:\tlearn: 1510.7360597\ttotal: 1m 35s\tremaining: 10.1s\n",
      "904:\tlearn: 1510.6830455\ttotal: 1m 35s\tremaining: 10s\n",
      "905:\tlearn: 1510.5892844\ttotal: 1m 35s\tremaining: 9.91s\n",
      "906:\tlearn: 1510.4444947\ttotal: 1m 35s\tremaining: 9.8s\n",
      "907:\tlearn: 1510.4060070\ttotal: 1m 35s\tremaining: 9.7s\n",
      "908:\tlearn: 1510.3749508\ttotal: 1m 35s\tremaining: 9.59s\n",
      "909:\tlearn: 1510.1868390\ttotal: 1m 35s\tremaining: 9.49s\n",
      "910:\tlearn: 1510.1030752\ttotal: 1m 36s\tremaining: 9.39s\n",
      "911:\tlearn: 1509.9017015\ttotal: 1m 36s\tremaining: 9.28s\n",
      "912:\tlearn: 1509.8901162\ttotal: 1m 36s\tremaining: 9.18s\n",
      "913:\tlearn: 1509.8299043\ttotal: 1m 36s\tremaining: 9.08s\n",
      "914:\tlearn: 1509.8025721\ttotal: 1m 36s\tremaining: 8.97s\n",
      "915:\tlearn: 1509.6221599\ttotal: 1m 36s\tremaining: 8.86s\n",
      "916:\tlearn: 1509.4869419\ttotal: 1m 36s\tremaining: 8.76s\n",
      "917:\tlearn: 1509.3856032\ttotal: 1m 36s\tremaining: 8.66s\n",
      "918:\tlearn: 1509.2587893\ttotal: 1m 37s\tremaining: 8.55s\n",
      "919:\tlearn: 1509.1524896\ttotal: 1m 37s\tremaining: 8.45s\n",
      "920:\tlearn: 1509.0973918\ttotal: 1m 37s\tremaining: 8.34s\n",
      "921:\tlearn: 1509.0041005\ttotal: 1m 37s\tremaining: 8.24s\n",
      "922:\tlearn: 1508.9414765\ttotal: 1m 37s\tremaining: 8.13s\n",
      "923:\tlearn: 1508.8569696\ttotal: 1m 37s\tremaining: 8.03s\n",
      "924:\tlearn: 1508.6671563\ttotal: 1m 37s\tremaining: 7.92s\n",
      "925:\tlearn: 1508.6273796\ttotal: 1m 37s\tremaining: 7.82s\n",
      "926:\tlearn: 1508.5690332\ttotal: 1m 37s\tremaining: 7.71s\n",
      "927:\tlearn: 1508.5144380\ttotal: 1m 38s\tremaining: 7.61s\n",
      "928:\tlearn: 1508.4072013\ttotal: 1m 38s\tremaining: 7.5s\n",
      "929:\tlearn: 1508.2028586\ttotal: 1m 38s\tremaining: 7.4s\n",
      "930:\tlearn: 1508.0415677\ttotal: 1m 38s\tremaining: 7.29s\n",
      "931:\tlearn: 1507.9065878\ttotal: 1m 38s\tremaining: 7.19s\n",
      "932:\tlearn: 1507.8462158\ttotal: 1m 38s\tremaining: 7.08s\n",
      "933:\tlearn: 1507.7883248\ttotal: 1m 38s\tremaining: 6.98s\n",
      "934:\tlearn: 1507.7700587\ttotal: 1m 38s\tremaining: 6.88s\n",
      "935:\tlearn: 1507.7236279\ttotal: 1m 39s\tremaining: 6.77s\n",
      "936:\tlearn: 1507.5998131\ttotal: 1m 39s\tremaining: 6.67s\n",
      "937:\tlearn: 1507.5402542\ttotal: 1m 39s\tremaining: 6.56s\n",
      "938:\tlearn: 1507.4558563\ttotal: 1m 39s\tremaining: 6.46s\n",
      "939:\tlearn: 1507.3755157\ttotal: 1m 39s\tremaining: 6.35s\n",
      "940:\tlearn: 1507.3123049\ttotal: 1m 39s\tremaining: 6.25s\n",
      "941:\tlearn: 1507.1840010\ttotal: 1m 39s\tremaining: 6.14s\n",
      "942:\tlearn: 1507.1143968\ttotal: 1m 39s\tremaining: 6.03s\n",
      "943:\tlearn: 1507.0471622\ttotal: 1m 39s\tremaining: 5.93s\n",
      "944:\tlearn: 1506.9079695\ttotal: 1m 40s\tremaining: 5.82s\n",
      "945:\tlearn: 1506.8374561\ttotal: 1m 40s\tremaining: 5.72s\n",
      "946:\tlearn: 1506.6634726\ttotal: 1m 40s\tremaining: 5.61s\n",
      "947:\tlearn: 1506.5519565\ttotal: 1m 40s\tremaining: 5.5s\n",
      "948:\tlearn: 1506.4904732\ttotal: 1m 40s\tremaining: 5.4s\n",
      "949:\tlearn: 1506.3216851\ttotal: 1m 40s\tremaining: 5.29s\n",
      "950:\tlearn: 1506.2120952\ttotal: 1m 40s\tremaining: 5.19s\n",
      "951:\tlearn: 1506.1455230\ttotal: 1m 40s\tremaining: 5.08s\n",
      "952:\tlearn: 1506.0371830\ttotal: 1m 40s\tremaining: 4.97s\n",
      "953:\tlearn: 1505.9821135\ttotal: 1m 40s\tremaining: 4.87s\n",
      "954:\tlearn: 1505.8650740\ttotal: 1m 41s\tremaining: 4.76s\n",
      "955:\tlearn: 1505.7711790\ttotal: 1m 41s\tremaining: 4.66s\n",
      "956:\tlearn: 1505.6462116\ttotal: 1m 41s\tremaining: 4.55s\n",
      "957:\tlearn: 1505.4505489\ttotal: 1m 41s\tremaining: 4.45s\n",
      "958:\tlearn: 1505.3797281\ttotal: 1m 41s\tremaining: 4.34s\n",
      "959:\tlearn: 1505.2096218\ttotal: 1m 41s\tremaining: 4.24s\n",
      "960:\tlearn: 1505.0641043\ttotal: 1m 41s\tremaining: 4.13s\n",
      "961:\tlearn: 1505.0181093\ttotal: 1m 41s\tremaining: 4.02s\n",
      "962:\tlearn: 1504.9232463\ttotal: 1m 41s\tremaining: 3.92s\n",
      "963:\tlearn: 1504.8250010\ttotal: 1m 42s\tremaining: 3.81s\n",
      "964:\tlearn: 1504.6495988\ttotal: 1m 42s\tremaining: 3.71s\n",
      "965:\tlearn: 1504.5760521\ttotal: 1m 42s\tremaining: 3.6s\n",
      "966:\tlearn: 1504.4707324\ttotal: 1m 42s\tremaining: 3.49s\n",
      "967:\tlearn: 1504.3692329\ttotal: 1m 42s\tremaining: 3.39s\n",
      "968:\tlearn: 1504.1965437\ttotal: 1m 42s\tremaining: 3.28s\n",
      "969:\tlearn: 1503.9221250\ttotal: 1m 42s\tremaining: 3.17s\n",
      "970:\tlearn: 1503.7776451\ttotal: 1m 42s\tremaining: 3.07s\n",
      "971:\tlearn: 1503.7274759\ttotal: 1m 42s\tremaining: 2.96s\n",
      "972:\tlearn: 1503.6335372\ttotal: 1m 43s\tremaining: 2.86s\n",
      "973:\tlearn: 1503.5877796\ttotal: 1m 43s\tremaining: 2.75s\n",
      "974:\tlearn: 1503.5528503\ttotal: 1m 43s\tremaining: 2.65s\n",
      "975:\tlearn: 1503.5209219\ttotal: 1m 43s\tremaining: 2.54s\n",
      "976:\tlearn: 1503.4374827\ttotal: 1m 43s\tremaining: 2.43s\n",
      "977:\tlearn: 1503.4114451\ttotal: 1m 43s\tremaining: 2.33s\n",
      "978:\tlearn: 1503.3680355\ttotal: 1m 43s\tremaining: 2.22s\n",
      "979:\tlearn: 1503.2706277\ttotal: 1m 43s\tremaining: 2.12s\n",
      "980:\tlearn: 1503.2278238\ttotal: 1m 43s\tremaining: 2.01s\n",
      "981:\tlearn: 1503.1136429\ttotal: 1m 43s\tremaining: 1.9s\n",
      "982:\tlearn: 1503.0716804\ttotal: 1m 44s\tremaining: 1.8s\n",
      "983:\tlearn: 1503.0097385\ttotal: 1m 44s\tremaining: 1.69s\n",
      "984:\tlearn: 1502.8911838\ttotal: 1m 44s\tremaining: 1.59s\n",
      "985:\tlearn: 1502.8189406\ttotal: 1m 44s\tremaining: 1.48s\n",
      "986:\tlearn: 1502.5832708\ttotal: 1m 44s\tremaining: 1.38s\n",
      "987:\tlearn: 1502.5001390\ttotal: 1m 44s\tremaining: 1.27s\n",
      "988:\tlearn: 1502.4096693\ttotal: 1m 44s\tremaining: 1.16s\n",
      "989:\tlearn: 1502.3036389\ttotal: 1m 44s\tremaining: 1.06s\n",
      "990:\tlearn: 1502.1952614\ttotal: 1m 44s\tremaining: 953ms\n",
      "991:\tlearn: 1502.1119362\ttotal: 1m 45s\tremaining: 847ms\n",
      "992:\tlearn: 1502.0183429\ttotal: 1m 45s\tremaining: 741ms\n",
      "993:\tlearn: 1501.9124151\ttotal: 1m 45s\tremaining: 635ms\n",
      "994:\tlearn: 1501.8386696\ttotal: 1m 45s\tremaining: 529ms\n",
      "995:\tlearn: 1501.7549173\ttotal: 1m 45s\tremaining: 424ms\n",
      "996:\tlearn: 1501.5450932\ttotal: 1m 45s\tremaining: 318ms\n",
      "997:\tlearn: 1501.4521688\ttotal: 1m 45s\tremaining: 212ms\n",
      "998:\tlearn: 1501.4076267\ttotal: 1m 45s\tremaining: 106ms\n",
      "999:\tlearn: 1501.3308298\ttotal: 1m 45s\tremaining: 0us\n",
      "Learning rate set to 0.086297\n",
      "0:\tlearn: 4389.2565646\ttotal: 144ms\tremaining: 2m 23s\n",
      "1:\tlearn: 4145.4866843\ttotal: 285ms\tremaining: 2m 22s\n",
      "2:\tlearn: 3920.1023569\ttotal: 425ms\tremaining: 2m 21s\n",
      "3:\tlearn: 3723.8901011\ttotal: 538ms\tremaining: 2m 13s\n",
      "4:\tlearn: 3547.6771656\ttotal: 661ms\tremaining: 2m 11s\n",
      "5:\tlearn: 3385.4061632\ttotal: 775ms\tremaining: 2m 8s\n",
      "6:\tlearn: 3237.5930389\ttotal: 888ms\tremaining: 2m 6s\n",
      "7:\tlearn: 3107.5784030\ttotal: 1.02s\tremaining: 2m 7s\n",
      "8:\tlearn: 2989.4153942\ttotal: 1.17s\tremaining: 2m 8s\n",
      "9:\tlearn: 2883.2566320\ttotal: 1.32s\tremaining: 2m 10s\n",
      "10:\tlearn: 2791.4179669\ttotal: 1.44s\tremaining: 2m 9s\n",
      "11:\tlearn: 2705.1189611\ttotal: 1.56s\tremaining: 2m 8s\n",
      "12:\tlearn: 2628.3889141\ttotal: 1.71s\tremaining: 2m 9s\n",
      "13:\tlearn: 2553.0702821\ttotal: 1.84s\tremaining: 2m 9s\n",
      "14:\tlearn: 2494.8515021\ttotal: 1.95s\tremaining: 2m 7s\n",
      "15:\tlearn: 2433.6717362\ttotal: 2.05s\tremaining: 2m 6s\n",
      "16:\tlearn: 2380.4639727\ttotal: 2.16s\tremaining: 2m 4s\n",
      "17:\tlearn: 2331.7710624\ttotal: 2.28s\tremaining: 2m 4s\n",
      "18:\tlearn: 2290.9629509\ttotal: 2.38s\tremaining: 2m 2s\n",
      "19:\tlearn: 2248.1139424\ttotal: 2.48s\tremaining: 2m 1s\n",
      "20:\tlearn: 2215.2531194\ttotal: 2.61s\tremaining: 2m 1s\n",
      "21:\tlearn: 2185.7712801\ttotal: 2.73s\tremaining: 2m 1s\n",
      "22:\tlearn: 2154.3987652\ttotal: 2.86s\tremaining: 2m 1s\n",
      "23:\tlearn: 2123.7574435\ttotal: 2.97s\tremaining: 2m\n",
      "24:\tlearn: 2098.6590850\ttotal: 3.07s\tremaining: 1m 59s\n",
      "25:\tlearn: 2076.6752377\ttotal: 3.17s\tremaining: 1m 58s\n",
      "26:\tlearn: 2056.9847196\ttotal: 3.27s\tremaining: 1m 57s\n",
      "27:\tlearn: 2034.3385590\ttotal: 3.39s\tremaining: 1m 57s\n",
      "28:\tlearn: 2012.8118825\ttotal: 3.51s\tremaining: 1m 57s\n",
      "29:\tlearn: 1994.9502697\ttotal: 3.6s\tremaining: 1m 56s\n",
      "30:\tlearn: 1980.4688846\ttotal: 3.69s\tremaining: 1m 55s\n",
      "31:\tlearn: 1965.6062113\ttotal: 3.79s\tremaining: 1m 54s\n",
      "32:\tlearn: 1953.3391831\ttotal: 3.88s\tremaining: 1m 53s\n",
      "33:\tlearn: 1942.4251024\ttotal: 3.98s\tremaining: 1m 53s\n",
      "34:\tlearn: 1932.3665844\ttotal: 4.07s\tremaining: 1m 52s\n",
      "35:\tlearn: 1921.8133128\ttotal: 4.18s\tremaining: 1m 51s\n",
      "36:\tlearn: 1911.8106968\ttotal: 4.27s\tremaining: 1m 51s\n",
      "37:\tlearn: 1903.4106217\ttotal: 4.34s\tremaining: 1m 49s\n",
      "38:\tlearn: 1894.9337330\ttotal: 4.45s\tremaining: 1m 49s\n",
      "39:\tlearn: 1887.7947757\ttotal: 4.54s\tremaining: 1m 48s\n",
      "40:\tlearn: 1880.6625052\ttotal: 4.62s\tremaining: 1m 48s\n",
      "41:\tlearn: 1874.3154059\ttotal: 4.71s\tremaining: 1m 47s\n",
      "42:\tlearn: 1868.9357513\ttotal: 4.81s\tremaining: 1m 47s\n",
      "43:\tlearn: 1864.2753309\ttotal: 4.9s\tremaining: 1m 46s\n",
      "44:\tlearn: 1859.3664882\ttotal: 4.99s\tremaining: 1m 45s\n",
      "45:\tlearn: 1852.4601414\ttotal: 5.1s\tremaining: 1m 45s\n",
      "46:\tlearn: 1847.9184468\ttotal: 5.23s\tremaining: 1m 45s\n",
      "47:\tlearn: 1842.0822782\ttotal: 5.33s\tremaining: 1m 45s\n",
      "48:\tlearn: 1838.2546521\ttotal: 5.42s\tremaining: 1m 45s\n",
      "49:\tlearn: 1834.5291425\ttotal: 5.49s\tremaining: 1m 44s\n",
      "50:\tlearn: 1829.5415287\ttotal: 5.57s\tremaining: 1m 43s\n",
      "51:\tlearn: 1826.9491689\ttotal: 5.67s\tremaining: 1m 43s\n",
      "52:\tlearn: 1822.6203763\ttotal: 5.76s\tremaining: 1m 42s\n",
      "53:\tlearn: 1818.9915016\ttotal: 5.87s\tremaining: 1m 42s\n",
      "54:\tlearn: 1815.8702447\ttotal: 5.99s\tremaining: 1m 42s\n",
      "55:\tlearn: 1812.7227422\ttotal: 6.1s\tremaining: 1m 42s\n",
      "56:\tlearn: 1809.7032906\ttotal: 6.22s\tremaining: 1m 42s\n",
      "57:\tlearn: 1806.5169361\ttotal: 6.32s\tremaining: 1m 42s\n",
      "58:\tlearn: 1802.1986690\ttotal: 6.42s\tremaining: 1m 42s\n",
      "59:\tlearn: 1799.2595586\ttotal: 6.51s\tremaining: 1m 42s\n",
      "60:\tlearn: 1796.5488859\ttotal: 6.65s\tremaining: 1m 42s\n",
      "61:\tlearn: 1792.6988829\ttotal: 6.77s\tremaining: 1m 42s\n",
      "62:\tlearn: 1790.4433548\ttotal: 6.88s\tremaining: 1m 42s\n",
      "63:\tlearn: 1788.3067919\ttotal: 7s\tremaining: 1m 42s\n",
      "64:\tlearn: 1783.0562505\ttotal: 7.07s\tremaining: 1m 41s\n",
      "65:\tlearn: 1780.6597657\ttotal: 7.19s\tremaining: 1m 41s\n",
      "66:\tlearn: 1777.5132494\ttotal: 7.25s\tremaining: 1m 41s\n",
      "67:\tlearn: 1775.8357258\ttotal: 7.35s\tremaining: 1m 40s\n",
      "68:\tlearn: 1773.2757011\ttotal: 7.45s\tremaining: 1m 40s\n",
      "69:\tlearn: 1770.3746411\ttotal: 7.53s\tremaining: 1m 40s\n",
      "70:\tlearn: 1767.6697778\ttotal: 7.61s\tremaining: 1m 39s\n",
      "71:\tlearn: 1765.9921174\ttotal: 7.69s\tremaining: 1m 39s\n",
      "72:\tlearn: 1764.5322024\ttotal: 7.78s\tremaining: 1m 38s\n",
      "73:\tlearn: 1762.3563423\ttotal: 7.83s\tremaining: 1m 38s\n",
      "74:\tlearn: 1760.5926846\ttotal: 7.94s\tremaining: 1m 37s\n",
      "75:\tlearn: 1759.5622323\ttotal: 8.02s\tremaining: 1m 37s\n",
      "76:\tlearn: 1758.1093226\ttotal: 8.11s\tremaining: 1m 37s\n",
      "77:\tlearn: 1756.5905500\ttotal: 8.18s\tremaining: 1m 36s\n",
      "78:\tlearn: 1754.8013176\ttotal: 8.3s\tremaining: 1m 36s\n",
      "79:\tlearn: 1752.2341523\ttotal: 8.39s\tremaining: 1m 36s\n",
      "80:\tlearn: 1751.2739047\ttotal: 8.51s\tremaining: 1m 36s\n",
      "81:\tlearn: 1748.0555413\ttotal: 8.57s\tremaining: 1m 35s\n",
      "82:\tlearn: 1746.8717436\ttotal: 8.67s\tremaining: 1m 35s\n",
      "83:\tlearn: 1745.3038453\ttotal: 8.78s\tremaining: 1m 35s\n",
      "84:\tlearn: 1744.1009456\ttotal: 8.85s\tremaining: 1m 35s\n",
      "85:\tlearn: 1742.7095311\ttotal: 8.96s\tremaining: 1m 35s\n",
      "86:\tlearn: 1741.1206665\ttotal: 9.09s\tremaining: 1m 35s\n",
      "87:\tlearn: 1739.9479045\ttotal: 9.21s\tremaining: 1m 35s\n",
      "88:\tlearn: 1738.2224758\ttotal: 9.3s\tremaining: 1m 35s\n",
      "89:\tlearn: 1737.5571366\ttotal: 9.39s\tremaining: 1m 34s\n",
      "90:\tlearn: 1735.8359474\ttotal: 9.49s\tremaining: 1m 34s\n",
      "91:\tlearn: 1734.1607998\ttotal: 9.59s\tremaining: 1m 34s\n",
      "92:\tlearn: 1731.2145158\ttotal: 9.67s\tremaining: 1m 34s\n",
      "93:\tlearn: 1730.1547872\ttotal: 9.77s\tremaining: 1m 34s\n",
      "94:\tlearn: 1728.4676554\ttotal: 9.89s\tremaining: 1m 34s\n",
      "95:\tlearn: 1727.2028622\ttotal: 9.97s\tremaining: 1m 33s\n",
      "96:\tlearn: 1726.1505527\ttotal: 10s\tremaining: 1m 33s\n",
      "97:\tlearn: 1725.3844401\ttotal: 10.2s\tremaining: 1m 33s\n",
      "98:\tlearn: 1724.3679691\ttotal: 10.2s\tremaining: 1m 33s\n",
      "99:\tlearn: 1723.1087620\ttotal: 10.3s\tremaining: 1m 33s\n",
      "100:\tlearn: 1722.2088349\ttotal: 10.4s\tremaining: 1m 32s\n",
      "101:\tlearn: 1720.7881874\ttotal: 10.5s\tremaining: 1m 32s\n",
      "102:\tlearn: 1718.0754190\ttotal: 10.6s\tremaining: 1m 32s\n",
      "103:\tlearn: 1716.9607830\ttotal: 10.6s\tremaining: 1m 31s\n",
      "104:\tlearn: 1716.2822896\ttotal: 10.8s\tremaining: 1m 31s\n",
      "105:\tlearn: 1715.1245675\ttotal: 10.9s\tremaining: 1m 31s\n",
      "106:\tlearn: 1713.9465437\ttotal: 11s\tremaining: 1m 31s\n",
      "107:\tlearn: 1712.5780724\ttotal: 11.1s\tremaining: 1m 31s\n",
      "108:\tlearn: 1711.7758501\ttotal: 11.2s\tremaining: 1m 31s\n",
      "109:\tlearn: 1710.8098444\ttotal: 11.3s\tremaining: 1m 31s\n",
      "110:\tlearn: 1708.7572454\ttotal: 11.4s\tremaining: 1m 30s\n",
      "111:\tlearn: 1706.6856220\ttotal: 11.4s\tremaining: 1m 30s\n",
      "112:\tlearn: 1704.8008840\ttotal: 11.5s\tremaining: 1m 30s\n",
      "113:\tlearn: 1703.8314976\ttotal: 11.6s\tremaining: 1m 30s\n",
      "114:\tlearn: 1702.9029699\ttotal: 11.7s\tremaining: 1m 30s\n",
      "115:\tlearn: 1701.9906032\ttotal: 11.8s\tremaining: 1m 29s\n",
      "116:\tlearn: 1700.4478335\ttotal: 11.9s\tremaining: 1m 29s\n",
      "117:\tlearn: 1700.0450502\ttotal: 12s\tremaining: 1m 29s\n",
      "118:\tlearn: 1699.0525812\ttotal: 12.1s\tremaining: 1m 29s\n",
      "119:\tlearn: 1697.9796645\ttotal: 12.2s\tremaining: 1m 29s\n",
      "120:\tlearn: 1697.0928947\ttotal: 12.3s\tremaining: 1m 29s\n",
      "121:\tlearn: 1695.0432289\ttotal: 12.4s\tremaining: 1m 29s\n",
      "122:\tlearn: 1694.2957484\ttotal: 12.5s\tremaining: 1m 29s\n",
      "123:\tlearn: 1693.7335450\ttotal: 12.6s\tremaining: 1m 28s\n",
      "124:\tlearn: 1692.4299392\ttotal: 12.7s\tremaining: 1m 28s\n",
      "125:\tlearn: 1691.7395547\ttotal: 12.8s\tremaining: 1m 28s\n",
      "126:\tlearn: 1691.2890993\ttotal: 12.9s\tremaining: 1m 28s\n",
      "127:\tlearn: 1690.0272468\ttotal: 13s\tremaining: 1m 28s\n",
      "128:\tlearn: 1689.0336173\ttotal: 13.1s\tremaining: 1m 28s\n",
      "129:\tlearn: 1688.1757439\ttotal: 13.2s\tremaining: 1m 28s\n",
      "130:\tlearn: 1687.7305754\ttotal: 13.3s\tremaining: 1m 28s\n",
      "131:\tlearn: 1686.6836536\ttotal: 13.4s\tremaining: 1m 28s\n",
      "132:\tlearn: 1685.5029382\ttotal: 13.5s\tremaining: 1m 28s\n",
      "133:\tlearn: 1684.7158281\ttotal: 13.6s\tremaining: 1m 28s\n",
      "134:\tlearn: 1683.5507911\ttotal: 13.7s\tremaining: 1m 27s\n",
      "135:\tlearn: 1682.4488133\ttotal: 13.8s\tremaining: 1m 27s\n",
      "136:\tlearn: 1681.8993131\ttotal: 13.9s\tremaining: 1m 27s\n",
      "137:\tlearn: 1681.3495042\ttotal: 14s\tremaining: 1m 27s\n",
      "138:\tlearn: 1680.3634501\ttotal: 14.1s\tremaining: 1m 27s\n",
      "139:\tlearn: 1679.5465715\ttotal: 14.2s\tremaining: 1m 27s\n",
      "140:\tlearn: 1678.8602463\ttotal: 14.3s\tremaining: 1m 27s\n",
      "141:\tlearn: 1677.5143308\ttotal: 14.5s\tremaining: 1m 27s\n",
      "142:\tlearn: 1676.5817591\ttotal: 14.6s\tremaining: 1m 27s\n",
      "143:\tlearn: 1675.8521533\ttotal: 14.7s\tremaining: 1m 27s\n",
      "144:\tlearn: 1675.0302531\ttotal: 14.9s\tremaining: 1m 27s\n",
      "145:\tlearn: 1673.7212790\ttotal: 15s\tremaining: 1m 27s\n",
      "146:\tlearn: 1673.1643781\ttotal: 15.1s\tremaining: 1m 27s\n",
      "147:\tlearn: 1671.5438588\ttotal: 15.2s\tremaining: 1m 27s\n",
      "148:\tlearn: 1670.4171467\ttotal: 15.3s\tremaining: 1m 27s\n",
      "149:\tlearn: 1669.7053829\ttotal: 15.4s\tremaining: 1m 27s\n",
      "150:\tlearn: 1668.4331121\ttotal: 15.6s\tremaining: 1m 27s\n",
      "151:\tlearn: 1667.6728525\ttotal: 15.6s\tremaining: 1m 27s\n",
      "152:\tlearn: 1667.1197518\ttotal: 15.7s\tremaining: 1m 27s\n",
      "153:\tlearn: 1666.1558931\ttotal: 15.9s\tremaining: 1m 27s\n",
      "154:\tlearn: 1665.2223911\ttotal: 16s\tremaining: 1m 27s\n",
      "155:\tlearn: 1663.6057956\ttotal: 16.1s\tremaining: 1m 27s\n",
      "156:\tlearn: 1662.7244981\ttotal: 16.2s\tremaining: 1m 26s\n",
      "157:\tlearn: 1662.1673259\ttotal: 16.3s\tremaining: 1m 26s\n",
      "158:\tlearn: 1661.8463269\ttotal: 16.4s\tremaining: 1m 26s\n",
      "159:\tlearn: 1661.0444139\ttotal: 16.5s\tremaining: 1m 26s\n",
      "160:\tlearn: 1660.3218742\ttotal: 16.6s\tremaining: 1m 26s\n",
      "161:\tlearn: 1659.6236712\ttotal: 16.8s\tremaining: 1m 26s\n",
      "162:\tlearn: 1658.5084660\ttotal: 16.9s\tremaining: 1m 26s\n",
      "163:\tlearn: 1658.1701526\ttotal: 17s\tremaining: 1m 26s\n",
      "164:\tlearn: 1657.5730102\ttotal: 17.1s\tremaining: 1m 26s\n",
      "165:\tlearn: 1656.4491747\ttotal: 17.2s\tremaining: 1m 26s\n",
      "166:\tlearn: 1655.9010269\ttotal: 17.3s\tremaining: 1m 26s\n",
      "167:\tlearn: 1655.4139150\ttotal: 17.4s\tremaining: 1m 26s\n",
      "168:\tlearn: 1654.6464411\ttotal: 17.6s\tremaining: 1m 26s\n",
      "169:\tlearn: 1654.3053018\ttotal: 17.7s\tremaining: 1m 26s\n",
      "170:\tlearn: 1654.0185137\ttotal: 17.8s\tremaining: 1m 26s\n",
      "171:\tlearn: 1653.6289746\ttotal: 17.9s\tremaining: 1m 26s\n",
      "172:\tlearn: 1653.1791901\ttotal: 18s\tremaining: 1m 26s\n",
      "173:\tlearn: 1652.7417055\ttotal: 18.1s\tremaining: 1m 26s\n",
      "174:\tlearn: 1652.4876997\ttotal: 18.2s\tremaining: 1m 25s\n",
      "175:\tlearn: 1652.0241693\ttotal: 18.3s\tremaining: 1m 25s\n",
      "176:\tlearn: 1651.3714565\ttotal: 18.5s\tremaining: 1m 26s\n",
      "177:\tlearn: 1650.7209368\ttotal: 18.6s\tremaining: 1m 26s\n",
      "178:\tlearn: 1650.4118958\ttotal: 18.7s\tremaining: 1m 25s\n",
      "179:\tlearn: 1649.8342488\ttotal: 18.9s\tremaining: 1m 25s\n",
      "180:\tlearn: 1649.2806624\ttotal: 19s\tremaining: 1m 25s\n",
      "181:\tlearn: 1648.1232538\ttotal: 19.1s\tremaining: 1m 25s\n",
      "182:\tlearn: 1647.4283679\ttotal: 19.2s\tremaining: 1m 25s\n",
      "183:\tlearn: 1646.6174859\ttotal: 19.3s\tremaining: 1m 25s\n",
      "184:\tlearn: 1645.9092177\ttotal: 19.4s\tremaining: 1m 25s\n",
      "185:\tlearn: 1645.2384557\ttotal: 19.5s\tremaining: 1m 25s\n",
      "186:\tlearn: 1644.4316670\ttotal: 19.6s\tremaining: 1m 25s\n",
      "187:\tlearn: 1643.8299858\ttotal: 19.8s\tremaining: 1m 25s\n",
      "188:\tlearn: 1643.2331437\ttotal: 19.9s\tremaining: 1m 25s\n",
      "189:\tlearn: 1642.8091017\ttotal: 20s\tremaining: 1m 25s\n",
      "190:\tlearn: 1642.3685261\ttotal: 20.1s\tremaining: 1m 25s\n",
      "191:\tlearn: 1642.0408882\ttotal: 20.2s\tremaining: 1m 25s\n",
      "192:\tlearn: 1641.5540943\ttotal: 20.3s\tremaining: 1m 24s\n",
      "193:\tlearn: 1641.0243835\ttotal: 20.4s\tremaining: 1m 24s\n",
      "194:\tlearn: 1640.7800232\ttotal: 20.5s\tremaining: 1m 24s\n",
      "195:\tlearn: 1640.0781338\ttotal: 20.6s\tremaining: 1m 24s\n",
      "196:\tlearn: 1639.4027579\ttotal: 20.7s\tremaining: 1m 24s\n",
      "197:\tlearn: 1639.1743202\ttotal: 20.8s\tremaining: 1m 24s\n",
      "198:\tlearn: 1638.5192918\ttotal: 20.9s\tremaining: 1m 24s\n",
      "199:\tlearn: 1638.1116712\ttotal: 21s\tremaining: 1m 23s\n",
      "200:\tlearn: 1637.8908475\ttotal: 21.1s\tremaining: 1m 23s\n",
      "201:\tlearn: 1637.3120060\ttotal: 21.2s\tremaining: 1m 23s\n",
      "202:\tlearn: 1637.1252389\ttotal: 21.3s\tremaining: 1m 23s\n",
      "203:\tlearn: 1636.2219980\ttotal: 21.5s\tremaining: 1m 23s\n",
      "204:\tlearn: 1635.4675811\ttotal: 21.6s\tremaining: 1m 23s\n",
      "205:\tlearn: 1635.1795709\ttotal: 21.7s\tremaining: 1m 23s\n",
      "206:\tlearn: 1634.3901575\ttotal: 21.8s\tremaining: 1m 23s\n",
      "207:\tlearn: 1634.0618484\ttotal: 21.8s\tremaining: 1m 23s\n",
      "208:\tlearn: 1633.5290780\ttotal: 21.9s\tremaining: 1m 22s\n",
      "209:\tlearn: 1632.8169177\ttotal: 22.1s\tremaining: 1m 22s\n",
      "210:\tlearn: 1632.3095778\ttotal: 22.2s\tremaining: 1m 22s\n",
      "211:\tlearn: 1632.0797983\ttotal: 22.3s\tremaining: 1m 22s\n",
      "212:\tlearn: 1631.7465869\ttotal: 22.4s\tremaining: 1m 22s\n",
      "213:\tlearn: 1631.3362274\ttotal: 22.5s\tremaining: 1m 22s\n",
      "214:\tlearn: 1630.8013289\ttotal: 22.6s\tremaining: 1m 22s\n",
      "215:\tlearn: 1630.0071352\ttotal: 22.7s\tremaining: 1m 22s\n",
      "216:\tlearn: 1629.2572800\ttotal: 22.8s\tremaining: 1m 22s\n",
      "217:\tlearn: 1629.0272537\ttotal: 22.9s\tremaining: 1m 22s\n",
      "218:\tlearn: 1628.9168616\ttotal: 23s\tremaining: 1m 22s\n",
      "219:\tlearn: 1628.6620196\ttotal: 23.1s\tremaining: 1m 22s\n",
      "220:\tlearn: 1628.2385803\ttotal: 23.3s\tremaining: 1m 22s\n",
      "221:\tlearn: 1627.6369531\ttotal: 23.4s\tremaining: 1m 21s\n",
      "222:\tlearn: 1627.0106287\ttotal: 23.5s\tremaining: 1m 21s\n",
      "223:\tlearn: 1626.3474673\ttotal: 23.6s\tremaining: 1m 21s\n",
      "224:\tlearn: 1625.9652513\ttotal: 23.7s\tremaining: 1m 21s\n",
      "225:\tlearn: 1625.3533497\ttotal: 23.8s\tremaining: 1m 21s\n",
      "226:\tlearn: 1625.0621719\ttotal: 23.9s\tremaining: 1m 21s\n",
      "227:\tlearn: 1624.7599667\ttotal: 24s\tremaining: 1m 21s\n",
      "228:\tlearn: 1624.5441731\ttotal: 24.1s\tremaining: 1m 21s\n",
      "229:\tlearn: 1624.0620497\ttotal: 24.2s\tremaining: 1m 21s\n",
      "230:\tlearn: 1623.6042311\ttotal: 24.4s\tremaining: 1m 21s\n",
      "231:\tlearn: 1623.3203417\ttotal: 24.5s\tremaining: 1m 21s\n",
      "232:\tlearn: 1622.9332429\ttotal: 24.6s\tremaining: 1m 20s\n",
      "233:\tlearn: 1622.1928729\ttotal: 24.7s\tremaining: 1m 20s\n",
      "234:\tlearn: 1621.9061824\ttotal: 24.8s\tremaining: 1m 20s\n",
      "235:\tlearn: 1621.5419763\ttotal: 24.9s\tremaining: 1m 20s\n",
      "236:\tlearn: 1621.1512729\ttotal: 25s\tremaining: 1m 20s\n",
      "237:\tlearn: 1620.8664794\ttotal: 25s\tremaining: 1m 20s\n",
      "238:\tlearn: 1620.1332034\ttotal: 25.1s\tremaining: 1m 20s\n",
      "239:\tlearn: 1619.6745741\ttotal: 25.2s\tremaining: 1m 19s\n",
      "240:\tlearn: 1619.1022903\ttotal: 25.3s\tremaining: 1m 19s\n",
      "241:\tlearn: 1618.7362927\ttotal: 25.4s\tremaining: 1m 19s\n",
      "242:\tlearn: 1618.3930641\ttotal: 25.6s\tremaining: 1m 19s\n",
      "243:\tlearn: 1617.9747419\ttotal: 25.7s\tremaining: 1m 19s\n",
      "244:\tlearn: 1617.7378143\ttotal: 25.8s\tremaining: 1m 19s\n",
      "245:\tlearn: 1617.2783659\ttotal: 25.9s\tremaining: 1m 19s\n",
      "246:\tlearn: 1616.6527204\ttotal: 26s\tremaining: 1m 19s\n",
      "247:\tlearn: 1616.4060540\ttotal: 26.1s\tremaining: 1m 19s\n",
      "248:\tlearn: 1616.3220056\ttotal: 26.3s\tremaining: 1m 19s\n",
      "249:\tlearn: 1616.2540259\ttotal: 26.4s\tremaining: 1m 19s\n",
      "250:\tlearn: 1616.0108287\ttotal: 26.5s\tremaining: 1m 19s\n",
      "251:\tlearn: 1615.3183833\ttotal: 26.6s\tremaining: 1m 18s\n",
      "252:\tlearn: 1614.9207031\ttotal: 26.7s\tremaining: 1m 18s\n",
      "253:\tlearn: 1614.5831897\ttotal: 26.8s\tremaining: 1m 18s\n",
      "254:\tlearn: 1614.0881393\ttotal: 26.9s\tremaining: 1m 18s\n",
      "255:\tlearn: 1613.6979852\ttotal: 27s\tremaining: 1m 18s\n",
      "256:\tlearn: 1613.0713174\ttotal: 27.1s\tremaining: 1m 18s\n",
      "257:\tlearn: 1612.6325953\ttotal: 27.2s\tremaining: 1m 18s\n",
      "258:\tlearn: 1612.1912357\ttotal: 27.3s\tremaining: 1m 18s\n",
      "259:\tlearn: 1611.8077217\ttotal: 27.4s\tremaining: 1m 18s\n",
      "260:\tlearn: 1611.4513706\ttotal: 27.5s\tremaining: 1m 17s\n",
      "261:\tlearn: 1611.1423729\ttotal: 27.6s\tremaining: 1m 17s\n",
      "262:\tlearn: 1610.7560500\ttotal: 27.8s\tremaining: 1m 17s\n",
      "263:\tlearn: 1610.4349693\ttotal: 27.9s\tremaining: 1m 17s\n",
      "264:\tlearn: 1609.8419845\ttotal: 28s\tremaining: 1m 17s\n",
      "265:\tlearn: 1609.6165509\ttotal: 28.1s\tremaining: 1m 17s\n",
      "266:\tlearn: 1609.2130041\ttotal: 28.2s\tremaining: 1m 17s\n",
      "267:\tlearn: 1608.9530685\ttotal: 28.3s\tremaining: 1m 17s\n",
      "268:\tlearn: 1608.3281876\ttotal: 28.3s\tremaining: 1m 17s\n",
      "269:\tlearn: 1608.1812312\ttotal: 28.4s\tremaining: 1m 16s\n",
      "270:\tlearn: 1607.9603512\ttotal: 28.6s\tremaining: 1m 16s\n",
      "271:\tlearn: 1607.7264720\ttotal: 28.7s\tremaining: 1m 16s\n",
      "272:\tlearn: 1607.2338775\ttotal: 28.7s\tremaining: 1m 16s\n",
      "273:\tlearn: 1606.4950029\ttotal: 28.9s\tremaining: 1m 16s\n",
      "274:\tlearn: 1606.1898561\ttotal: 28.9s\tremaining: 1m 16s\n",
      "275:\tlearn: 1606.0192691\ttotal: 29s\tremaining: 1m 16s\n",
      "276:\tlearn: 1605.7389778\ttotal: 29.2s\tremaining: 1m 16s\n",
      "277:\tlearn: 1605.5815925\ttotal: 29.3s\tremaining: 1m 16s\n",
      "278:\tlearn: 1605.1791857\ttotal: 29.4s\tremaining: 1m 15s\n",
      "279:\tlearn: 1604.6972125\ttotal: 29.5s\tremaining: 1m 15s\n",
      "280:\tlearn: 1604.0682300\ttotal: 29.6s\tremaining: 1m 15s\n",
      "281:\tlearn: 1603.8105540\ttotal: 29.7s\tremaining: 1m 15s\n",
      "282:\tlearn: 1603.6234548\ttotal: 29.8s\tremaining: 1m 15s\n",
      "283:\tlearn: 1603.2539415\ttotal: 29.9s\tremaining: 1m 15s\n",
      "284:\tlearn: 1602.9460751\ttotal: 30s\tremaining: 1m 15s\n",
      "285:\tlearn: 1602.8114672\ttotal: 30.1s\tremaining: 1m 15s\n",
      "286:\tlearn: 1602.4221565\ttotal: 30.1s\tremaining: 1m 14s\n",
      "287:\tlearn: 1602.1221693\ttotal: 30.2s\tremaining: 1m 14s\n",
      "288:\tlearn: 1601.9372920\ttotal: 30.4s\tremaining: 1m 14s\n",
      "289:\tlearn: 1601.7530960\ttotal: 30.4s\tremaining: 1m 14s\n",
      "290:\tlearn: 1601.5274700\ttotal: 30.5s\tremaining: 1m 14s\n",
      "291:\tlearn: 1601.1303211\ttotal: 30.6s\tremaining: 1m 14s\n",
      "292:\tlearn: 1600.9531392\ttotal: 30.7s\tremaining: 1m 14s\n",
      "293:\tlearn: 1600.7060873\ttotal: 30.9s\tremaining: 1m 14s\n",
      "294:\tlearn: 1600.6597450\ttotal: 31s\tremaining: 1m 14s\n",
      "295:\tlearn: 1600.4144558\ttotal: 31.1s\tremaining: 1m 13s\n",
      "296:\tlearn: 1600.0941587\ttotal: 31.2s\tremaining: 1m 13s\n",
      "297:\tlearn: 1599.9620451\ttotal: 31.3s\tremaining: 1m 13s\n",
      "298:\tlearn: 1599.6445396\ttotal: 31.4s\tremaining: 1m 13s\n",
      "299:\tlearn: 1599.3399738\ttotal: 31.6s\tremaining: 1m 13s\n",
      "300:\tlearn: 1598.9646473\ttotal: 31.7s\tremaining: 1m 13s\n",
      "301:\tlearn: 1598.6676091\ttotal: 31.8s\tremaining: 1m 13s\n",
      "302:\tlearn: 1598.4605274\ttotal: 31.9s\tremaining: 1m 13s\n",
      "303:\tlearn: 1598.1896489\ttotal: 32s\tremaining: 1m 13s\n",
      "304:\tlearn: 1597.8048954\ttotal: 32.1s\tremaining: 1m 13s\n",
      "305:\tlearn: 1597.5383775\ttotal: 32.2s\tremaining: 1m 13s\n",
      "306:\tlearn: 1597.4130744\ttotal: 32.3s\tremaining: 1m 12s\n",
      "307:\tlearn: 1596.9752125\ttotal: 32.4s\tremaining: 1m 12s\n",
      "308:\tlearn: 1596.5500494\ttotal: 32.5s\tremaining: 1m 12s\n",
      "309:\tlearn: 1596.3789792\ttotal: 32.6s\tremaining: 1m 12s\n",
      "310:\tlearn: 1595.9488359\ttotal: 32.8s\tremaining: 1m 12s\n",
      "311:\tlearn: 1595.4626305\ttotal: 32.9s\tremaining: 1m 12s\n",
      "312:\tlearn: 1595.0984758\ttotal: 33s\tremaining: 1m 12s\n",
      "313:\tlearn: 1594.9765506\ttotal: 33.1s\tremaining: 1m 12s\n",
      "314:\tlearn: 1594.7961435\ttotal: 33.2s\tremaining: 1m 12s\n",
      "315:\tlearn: 1594.7341446\ttotal: 33.3s\tremaining: 1m 12s\n",
      "316:\tlearn: 1594.3465620\ttotal: 33.4s\tremaining: 1m 11s\n",
      "317:\tlearn: 1594.1180373\ttotal: 33.5s\tremaining: 1m 11s\n",
      "318:\tlearn: 1593.5776520\ttotal: 33.7s\tremaining: 1m 11s\n",
      "319:\tlearn: 1593.1703178\ttotal: 33.8s\tremaining: 1m 11s\n",
      "320:\tlearn: 1593.0211333\ttotal: 33.9s\tremaining: 1m 11s\n",
      "321:\tlearn: 1592.4803825\ttotal: 34s\tremaining: 1m 11s\n",
      "322:\tlearn: 1592.0789281\ttotal: 34.1s\tremaining: 1m 11s\n",
      "323:\tlearn: 1591.7903816\ttotal: 34.2s\tremaining: 1m 11s\n",
      "324:\tlearn: 1591.5413076\ttotal: 34.3s\tremaining: 1m 11s\n",
      "325:\tlearn: 1591.1844639\ttotal: 34.5s\tremaining: 1m 11s\n",
      "326:\tlearn: 1590.8840499\ttotal: 34.5s\tremaining: 1m 11s\n",
      "327:\tlearn: 1590.3481832\ttotal: 34.6s\tremaining: 1m 10s\n",
      "328:\tlearn: 1590.0972259\ttotal: 34.8s\tremaining: 1m 10s\n",
      "329:\tlearn: 1589.8457645\ttotal: 34.9s\tremaining: 1m 10s\n",
      "330:\tlearn: 1589.4681791\ttotal: 35s\tremaining: 1m 10s\n",
      "331:\tlearn: 1589.1184604\ttotal: 35.1s\tremaining: 1m 10s\n",
      "332:\tlearn: 1588.9488763\ttotal: 35.2s\tremaining: 1m 10s\n",
      "333:\tlearn: 1588.7646181\ttotal: 35.3s\tremaining: 1m 10s\n",
      "334:\tlearn: 1588.6054790\ttotal: 35.4s\tremaining: 1m 10s\n",
      "335:\tlearn: 1588.4547995\ttotal: 35.5s\tremaining: 1m 10s\n",
      "336:\tlearn: 1587.8758459\ttotal: 35.6s\tremaining: 1m 10s\n",
      "337:\tlearn: 1587.6753696\ttotal: 35.7s\tremaining: 1m 9s\n",
      "338:\tlearn: 1587.3356268\ttotal: 35.8s\tremaining: 1m 9s\n",
      "339:\tlearn: 1587.0929491\ttotal: 35.9s\tremaining: 1m 9s\n",
      "340:\tlearn: 1586.9844921\ttotal: 36s\tremaining: 1m 9s\n",
      "341:\tlearn: 1586.6130033\ttotal: 36.1s\tremaining: 1m 9s\n",
      "342:\tlearn: 1586.4111247\ttotal: 36.2s\tremaining: 1m 9s\n",
      "343:\tlearn: 1586.1589411\ttotal: 36.3s\tremaining: 1m 9s\n",
      "344:\tlearn: 1585.7980015\ttotal: 36.4s\tremaining: 1m 9s\n",
      "345:\tlearn: 1585.4615243\ttotal: 36.6s\tremaining: 1m 9s\n",
      "346:\tlearn: 1585.2496181\ttotal: 36.7s\tremaining: 1m 8s\n",
      "347:\tlearn: 1584.9581697\ttotal: 36.8s\tremaining: 1m 8s\n",
      "348:\tlearn: 1584.7396859\ttotal: 36.8s\tremaining: 1m 8s\n",
      "349:\tlearn: 1584.7048560\ttotal: 36.9s\tremaining: 1m 8s\n",
      "350:\tlearn: 1584.4096724\ttotal: 37s\tremaining: 1m 8s\n",
      "351:\tlearn: 1583.8842066\ttotal: 37.1s\tremaining: 1m 8s\n",
      "352:\tlearn: 1583.6181302\ttotal: 37.2s\tremaining: 1m 8s\n",
      "353:\tlearn: 1583.1854162\ttotal: 37.3s\tremaining: 1m 8s\n",
      "354:\tlearn: 1583.0782249\ttotal: 37.4s\tremaining: 1m 7s\n",
      "355:\tlearn: 1582.7647582\ttotal: 37.5s\tremaining: 1m 7s\n",
      "356:\tlearn: 1582.4149545\ttotal: 37.6s\tremaining: 1m 7s\n",
      "357:\tlearn: 1582.0753776\ttotal: 37.8s\tremaining: 1m 7s\n",
      "358:\tlearn: 1581.9713100\ttotal: 37.9s\tremaining: 1m 7s\n",
      "359:\tlearn: 1581.5567701\ttotal: 38s\tremaining: 1m 7s\n",
      "360:\tlearn: 1581.3129588\ttotal: 38.1s\tremaining: 1m 7s\n",
      "361:\tlearn: 1581.1776551\ttotal: 38.2s\tremaining: 1m 7s\n",
      "362:\tlearn: 1580.8459008\ttotal: 38.3s\tremaining: 1m 7s\n",
      "363:\tlearn: 1580.6711173\ttotal: 38.4s\tremaining: 1m 7s\n",
      "364:\tlearn: 1580.3268045\ttotal: 38.5s\tremaining: 1m 6s\n",
      "365:\tlearn: 1580.1843623\ttotal: 38.6s\tremaining: 1m 6s\n",
      "366:\tlearn: 1579.9277457\ttotal: 38.7s\tremaining: 1m 6s\n",
      "367:\tlearn: 1579.6425795\ttotal: 38.8s\tremaining: 1m 6s\n",
      "368:\tlearn: 1579.4730225\ttotal: 38.9s\tremaining: 1m 6s\n",
      "369:\tlearn: 1579.1984464\ttotal: 39s\tremaining: 1m 6s\n",
      "370:\tlearn: 1579.1063502\ttotal: 39.1s\tremaining: 1m 6s\n",
      "371:\tlearn: 1578.8747454\ttotal: 39.2s\tremaining: 1m 6s\n",
      "372:\tlearn: 1578.7120230\ttotal: 39.3s\tremaining: 1m 6s\n",
      "373:\tlearn: 1578.6805599\ttotal: 39.4s\tremaining: 1m 5s\n",
      "374:\tlearn: 1578.5402050\ttotal: 39.5s\tremaining: 1m 5s\n",
      "375:\tlearn: 1578.4093023\ttotal: 39.6s\tremaining: 1m 5s\n",
      "376:\tlearn: 1578.0256748\ttotal: 39.7s\tremaining: 1m 5s\n",
      "377:\tlearn: 1577.7599154\ttotal: 39.8s\tremaining: 1m 5s\n",
      "378:\tlearn: 1577.5162184\ttotal: 39.9s\tremaining: 1m 5s\n",
      "379:\tlearn: 1577.2849790\ttotal: 40s\tremaining: 1m 5s\n",
      "380:\tlearn: 1577.0478426\ttotal: 40.2s\tremaining: 1m 5s\n",
      "381:\tlearn: 1576.7643997\ttotal: 40.3s\tremaining: 1m 5s\n",
      "382:\tlearn: 1576.6026891\ttotal: 40.4s\tremaining: 1m 5s\n",
      "383:\tlearn: 1576.3981301\ttotal: 40.5s\tremaining: 1m 4s\n",
      "384:\tlearn: 1576.2330208\ttotal: 40.6s\tremaining: 1m 4s\n",
      "385:\tlearn: 1575.8474475\ttotal: 40.7s\tremaining: 1m 4s\n",
      "386:\tlearn: 1575.7473145\ttotal: 40.8s\tremaining: 1m 4s\n",
      "387:\tlearn: 1575.5923595\ttotal: 40.9s\tremaining: 1m 4s\n",
      "388:\tlearn: 1575.2052228\ttotal: 41.1s\tremaining: 1m 4s\n",
      "389:\tlearn: 1574.7685463\ttotal: 41.2s\tremaining: 1m 4s\n",
      "390:\tlearn: 1574.6324712\ttotal: 41.3s\tremaining: 1m 4s\n",
      "391:\tlearn: 1574.5544518\ttotal: 41.4s\tremaining: 1m 4s\n",
      "392:\tlearn: 1574.3278139\ttotal: 41.5s\tremaining: 1m 4s\n",
      "393:\tlearn: 1574.2164553\ttotal: 41.5s\tremaining: 1m 3s\n",
      "394:\tlearn: 1574.0192630\ttotal: 41.6s\tremaining: 1m 3s\n",
      "395:\tlearn: 1573.6726196\ttotal: 41.7s\tremaining: 1m 3s\n",
      "396:\tlearn: 1573.5940020\ttotal: 41.8s\tremaining: 1m 3s\n",
      "397:\tlearn: 1573.5318034\ttotal: 42s\tremaining: 1m 3s\n",
      "398:\tlearn: 1573.3139138\ttotal: 42.1s\tremaining: 1m 3s\n",
      "399:\tlearn: 1573.1787474\ttotal: 42.2s\tremaining: 1m 3s\n",
      "400:\tlearn: 1573.0360166\ttotal: 42.3s\tremaining: 1m 3s\n",
      "401:\tlearn: 1572.7175226\ttotal: 42.4s\tremaining: 1m 3s\n",
      "402:\tlearn: 1572.6181864\ttotal: 42.5s\tremaining: 1m 2s\n",
      "403:\tlearn: 1572.3487283\ttotal: 42.6s\tremaining: 1m 2s\n",
      "404:\tlearn: 1572.2497333\ttotal: 42.7s\tremaining: 1m 2s\n",
      "405:\tlearn: 1571.9589957\ttotal: 42.8s\tremaining: 1m 2s\n",
      "406:\tlearn: 1571.7077167\ttotal: 42.9s\tremaining: 1m 2s\n",
      "407:\tlearn: 1571.3318605\ttotal: 43s\tremaining: 1m 2s\n",
      "408:\tlearn: 1571.1436357\ttotal: 43.1s\tremaining: 1m 2s\n",
      "409:\tlearn: 1570.9692126\ttotal: 43.2s\tremaining: 1m 2s\n",
      "410:\tlearn: 1570.7742289\ttotal: 43.4s\tremaining: 1m 2s\n",
      "411:\tlearn: 1570.4836012\ttotal: 43.4s\tremaining: 1m 2s\n",
      "412:\tlearn: 1570.2266448\ttotal: 43.6s\tremaining: 1m 1s\n",
      "413:\tlearn: 1569.9047219\ttotal: 43.7s\tremaining: 1m 1s\n",
      "414:\tlearn: 1569.4955830\ttotal: 43.8s\tremaining: 1m 1s\n",
      "415:\tlearn: 1569.1588154\ttotal: 43.9s\tremaining: 1m 1s\n",
      "416:\tlearn: 1568.8130992\ttotal: 44s\tremaining: 1m 1s\n",
      "417:\tlearn: 1568.4250443\ttotal: 44.1s\tremaining: 1m 1s\n",
      "418:\tlearn: 1568.0698564\ttotal: 44.2s\tremaining: 1m 1s\n",
      "419:\tlearn: 1567.8296523\ttotal: 44.3s\tremaining: 1m 1s\n",
      "420:\tlearn: 1567.5891403\ttotal: 44.5s\tremaining: 1m 1s\n",
      "421:\tlearn: 1567.5590012\ttotal: 44.6s\tremaining: 1m 1s\n",
      "422:\tlearn: 1567.4175871\ttotal: 44.7s\tremaining: 1m\n",
      "423:\tlearn: 1567.3100796\ttotal: 44.8s\tremaining: 1m\n",
      "424:\tlearn: 1567.1674953\ttotal: 44.9s\tremaining: 1m\n",
      "425:\tlearn: 1567.0420645\ttotal: 45s\tremaining: 1m\n",
      "426:\tlearn: 1566.7899153\ttotal: 45.1s\tremaining: 1m\n",
      "427:\tlearn: 1566.5017817\ttotal: 45.3s\tremaining: 1m\n",
      "428:\tlearn: 1566.3038460\ttotal: 45.4s\tremaining: 1m\n",
      "429:\tlearn: 1565.9198173\ttotal: 45.5s\tremaining: 1m\n",
      "430:\tlearn: 1565.8263736\ttotal: 45.6s\tremaining: 1m\n",
      "431:\tlearn: 1565.5325504\ttotal: 45.7s\tremaining: 1m\n",
      "432:\tlearn: 1565.3430345\ttotal: 45.8s\tremaining: 60s\n",
      "433:\tlearn: 1565.0931730\ttotal: 45.9s\tremaining: 59.9s\n",
      "434:\tlearn: 1564.9930302\ttotal: 46s\tremaining: 59.8s\n",
      "435:\tlearn: 1564.8148533\ttotal: 46.1s\tremaining: 59.7s\n",
      "436:\tlearn: 1564.5658941\ttotal: 46.2s\tremaining: 59.5s\n",
      "437:\tlearn: 1564.1979583\ttotal: 46.3s\tremaining: 59.4s\n",
      "438:\tlearn: 1563.9879810\ttotal: 46.4s\tremaining: 59.3s\n",
      "439:\tlearn: 1563.7716723\ttotal: 46.5s\tremaining: 59.2s\n",
      "440:\tlearn: 1563.7100592\ttotal: 46.6s\tremaining: 59.1s\n",
      "441:\tlearn: 1563.4756720\ttotal: 46.7s\tremaining: 59s\n",
      "442:\tlearn: 1563.2511158\ttotal: 46.8s\tremaining: 58.9s\n",
      "443:\tlearn: 1562.7254156\ttotal: 46.9s\tremaining: 58.8s\n",
      "444:\tlearn: 1562.6078874\ttotal: 47s\tremaining: 58.7s\n",
      "445:\tlearn: 1562.4070426\ttotal: 47.1s\tremaining: 58.5s\n",
      "446:\tlearn: 1562.3361594\ttotal: 47.2s\tremaining: 58.4s\n",
      "447:\tlearn: 1562.0186064\ttotal: 47.3s\tremaining: 58.3s\n",
      "448:\tlearn: 1561.8248948\ttotal: 47.4s\tremaining: 58.2s\n",
      "449:\tlearn: 1561.7767760\ttotal: 47.5s\tremaining: 58.1s\n",
      "450:\tlearn: 1561.6677329\ttotal: 47.7s\tremaining: 58s\n",
      "451:\tlearn: 1561.4021704\ttotal: 47.8s\tremaining: 57.9s\n",
      "452:\tlearn: 1561.3728224\ttotal: 47.9s\tremaining: 57.8s\n",
      "453:\tlearn: 1561.1092634\ttotal: 48s\tremaining: 57.7s\n",
      "454:\tlearn: 1560.9449830\ttotal: 48.1s\tremaining: 57.6s\n",
      "455:\tlearn: 1560.6230923\ttotal: 48.2s\tremaining: 57.5s\n",
      "456:\tlearn: 1560.4361117\ttotal: 48.3s\tremaining: 57.4s\n",
      "457:\tlearn: 1560.3221990\ttotal: 48.4s\tremaining: 57.3s\n",
      "458:\tlearn: 1560.1333554\ttotal: 48.5s\tremaining: 57.1s\n",
      "459:\tlearn: 1559.9835023\ttotal: 48.6s\tremaining: 57s\n",
      "460:\tlearn: 1559.7041427\ttotal: 48.7s\tremaining: 56.9s\n",
      "461:\tlearn: 1559.6220203\ttotal: 48.8s\tremaining: 56.8s\n",
      "462:\tlearn: 1559.4071884\ttotal: 48.9s\tremaining: 56.7s\n",
      "463:\tlearn: 1559.2738200\ttotal: 49s\tremaining: 56.6s\n",
      "464:\tlearn: 1559.1145947\ttotal: 49.1s\tremaining: 56.5s\n",
      "465:\tlearn: 1558.9377684\ttotal: 49.2s\tremaining: 56.4s\n",
      "466:\tlearn: 1558.7571608\ttotal: 49.3s\tremaining: 56.3s\n",
      "467:\tlearn: 1558.5433328\ttotal: 49.4s\tremaining: 56.2s\n",
      "468:\tlearn: 1558.3496911\ttotal: 49.5s\tremaining: 56.1s\n",
      "469:\tlearn: 1558.1491734\ttotal: 49.6s\tremaining: 56s\n",
      "470:\tlearn: 1557.8434105\ttotal: 49.7s\tremaining: 55.8s\n",
      "471:\tlearn: 1557.7048840\ttotal: 49.8s\tremaining: 55.7s\n",
      "472:\tlearn: 1557.6129810\ttotal: 49.9s\tremaining: 55.6s\n",
      "473:\tlearn: 1557.4236681\ttotal: 50s\tremaining: 55.4s\n",
      "474:\tlearn: 1557.3636259\ttotal: 50s\tremaining: 55.3s\n",
      "475:\tlearn: 1557.1309062\ttotal: 50.1s\tremaining: 55.2s\n",
      "476:\tlearn: 1556.9372787\ttotal: 50.2s\tremaining: 55.1s\n",
      "477:\tlearn: 1556.6828848\ttotal: 50.3s\tremaining: 55s\n",
      "478:\tlearn: 1556.6135106\ttotal: 50.4s\tremaining: 54.8s\n",
      "479:\tlearn: 1556.5323998\ttotal: 50.5s\tremaining: 54.7s\n",
      "480:\tlearn: 1556.3049854\ttotal: 50.6s\tremaining: 54.6s\n",
      "481:\tlearn: 1555.9304284\ttotal: 50.8s\tremaining: 54.5s\n",
      "482:\tlearn: 1555.7681455\ttotal: 50.9s\tremaining: 54.4s\n",
      "483:\tlearn: 1555.5023458\ttotal: 51s\tremaining: 54.3s\n",
      "484:\tlearn: 1555.4379558\ttotal: 51.1s\tremaining: 54.2s\n",
      "485:\tlearn: 1555.3869827\ttotal: 51.1s\tremaining: 54.1s\n",
      "486:\tlearn: 1555.2800373\ttotal: 51.2s\tremaining: 54s\n",
      "487:\tlearn: 1555.2358576\ttotal: 51.4s\tremaining: 53.9s\n",
      "488:\tlearn: 1555.1569328\ttotal: 51.5s\tremaining: 53.8s\n",
      "489:\tlearn: 1555.0497375\ttotal: 51.6s\tremaining: 53.7s\n",
      "490:\tlearn: 1555.0000141\ttotal: 51.7s\tremaining: 53.6s\n",
      "491:\tlearn: 1554.8569591\ttotal: 51.8s\tremaining: 53.5s\n",
      "492:\tlearn: 1554.6577523\ttotal: 51.9s\tremaining: 53.4s\n",
      "493:\tlearn: 1554.4740132\ttotal: 52s\tremaining: 53.3s\n",
      "494:\tlearn: 1554.2571508\ttotal: 52.2s\tremaining: 53.2s\n",
      "495:\tlearn: 1554.0064847\ttotal: 52.3s\tremaining: 53.1s\n",
      "496:\tlearn: 1553.8605871\ttotal: 52.4s\tremaining: 53s\n",
      "497:\tlearn: 1553.5503883\ttotal: 52.5s\tremaining: 52.9s\n",
      "498:\tlearn: 1553.4900685\ttotal: 52.6s\tremaining: 52.8s\n",
      "499:\tlearn: 1553.4011461\ttotal: 52.7s\tremaining: 52.7s\n",
      "500:\tlearn: 1553.2113317\ttotal: 52.8s\tremaining: 52.6s\n",
      "501:\tlearn: 1552.9379307\ttotal: 53s\tremaining: 52.5s\n",
      "502:\tlearn: 1552.8105348\ttotal: 53.1s\tremaining: 52.5s\n",
      "503:\tlearn: 1552.5986607\ttotal: 53.3s\tremaining: 52.5s\n",
      "504:\tlearn: 1552.3412443\ttotal: 53.4s\tremaining: 52.4s\n",
      "505:\tlearn: 1552.2505759\ttotal: 53.6s\tremaining: 52.3s\n",
      "506:\tlearn: 1552.1185580\ttotal: 53.7s\tremaining: 52.2s\n",
      "507:\tlearn: 1551.9485454\ttotal: 53.8s\tremaining: 52.1s\n",
      "508:\tlearn: 1551.8622606\ttotal: 54s\tremaining: 52.1s\n",
      "509:\tlearn: 1551.7060193\ttotal: 54.1s\tremaining: 52s\n",
      "510:\tlearn: 1551.4819067\ttotal: 54.2s\tremaining: 51.9s\n",
      "511:\tlearn: 1551.2698690\ttotal: 54.3s\tremaining: 51.7s\n",
      "512:\tlearn: 1551.1266172\ttotal: 54.4s\tremaining: 51.7s\n",
      "513:\tlearn: 1551.0372265\ttotal: 54.5s\tremaining: 51.5s\n",
      "514:\tlearn: 1550.9317077\ttotal: 54.6s\tremaining: 51.4s\n",
      "515:\tlearn: 1550.7400487\ttotal: 54.7s\tremaining: 51.3s\n",
      "516:\tlearn: 1550.5492768\ttotal: 54.8s\tremaining: 51.2s\n",
      "517:\tlearn: 1550.4254680\ttotal: 54.9s\tremaining: 51.1s\n",
      "518:\tlearn: 1550.3247268\ttotal: 55s\tremaining: 51s\n",
      "519:\tlearn: 1550.2554255\ttotal: 55.1s\tremaining: 50.9s\n",
      "520:\tlearn: 1549.9912635\ttotal: 55.3s\tremaining: 50.8s\n",
      "521:\tlearn: 1549.9525091\ttotal: 55.3s\tremaining: 50.7s\n",
      "522:\tlearn: 1549.7353647\ttotal: 55.4s\tremaining: 50.6s\n",
      "523:\tlearn: 1549.4415234\ttotal: 55.5s\tremaining: 50.5s\n",
      "524:\tlearn: 1549.0437594\ttotal: 55.6s\tremaining: 50.3s\n",
      "525:\tlearn: 1548.8667551\ttotal: 55.8s\tremaining: 50.2s\n",
      "526:\tlearn: 1548.5644373\ttotal: 55.9s\tremaining: 50.1s\n",
      "527:\tlearn: 1548.3426764\ttotal: 56s\tremaining: 50s\n",
      "528:\tlearn: 1548.2547160\ttotal: 56.1s\tremaining: 49.9s\n",
      "529:\tlearn: 1548.1517597\ttotal: 56.2s\tremaining: 49.8s\n",
      "530:\tlearn: 1547.9731644\ttotal: 56.3s\tremaining: 49.7s\n",
      "531:\tlearn: 1547.7629386\ttotal: 56.4s\tremaining: 49.6s\n",
      "532:\tlearn: 1547.5074038\ttotal: 56.5s\tremaining: 49.5s\n",
      "533:\tlearn: 1547.4396169\ttotal: 56.6s\tremaining: 49.4s\n",
      "534:\tlearn: 1547.2348258\ttotal: 56.7s\tremaining: 49.3s\n",
      "535:\tlearn: 1547.0072659\ttotal: 56.8s\tremaining: 49.2s\n",
      "536:\tlearn: 1546.6124588\ttotal: 56.9s\tremaining: 49.1s\n",
      "537:\tlearn: 1546.5328014\ttotal: 57s\tremaining: 48.9s\n",
      "538:\tlearn: 1546.3362956\ttotal: 57.1s\tremaining: 48.8s\n",
      "539:\tlearn: 1546.2459568\ttotal: 57.2s\tremaining: 48.7s\n",
      "540:\tlearn: 1545.9537964\ttotal: 57.3s\tremaining: 48.6s\n",
      "541:\tlearn: 1545.8421725\ttotal: 57.4s\tremaining: 48.5s\n",
      "542:\tlearn: 1545.6622938\ttotal: 57.5s\tremaining: 48.4s\n",
      "543:\tlearn: 1545.4784861\ttotal: 57.6s\tremaining: 48.3s\n",
      "544:\tlearn: 1545.3499948\ttotal: 57.7s\tremaining: 48.1s\n",
      "545:\tlearn: 1545.2206794\ttotal: 57.8s\tremaining: 48s\n",
      "546:\tlearn: 1545.1170179\ttotal: 57.9s\tremaining: 47.9s\n",
      "547:\tlearn: 1545.0802029\ttotal: 58s\tremaining: 47.8s\n",
      "548:\tlearn: 1544.8533999\ttotal: 58.1s\tremaining: 47.7s\n",
      "549:\tlearn: 1544.7980942\ttotal: 58.1s\tremaining: 47.6s\n",
      "550:\tlearn: 1544.7320964\ttotal: 58.2s\tremaining: 47.4s\n",
      "551:\tlearn: 1544.6764652\ttotal: 58.3s\tremaining: 47.3s\n",
      "552:\tlearn: 1544.5354521\ttotal: 58.4s\tremaining: 47.2s\n",
      "553:\tlearn: 1544.2878429\ttotal: 58.4s\tremaining: 47.1s\n",
      "554:\tlearn: 1544.1456695\ttotal: 58.6s\tremaining: 47s\n",
      "555:\tlearn: 1543.9906951\ttotal: 58.7s\tremaining: 46.8s\n",
      "556:\tlearn: 1543.7445356\ttotal: 58.8s\tremaining: 46.7s\n",
      "557:\tlearn: 1543.5827796\ttotal: 58.9s\tremaining: 46.6s\n",
      "558:\tlearn: 1543.4604381\ttotal: 59s\tremaining: 46.5s\n",
      "559:\tlearn: 1543.4148133\ttotal: 59.1s\tremaining: 46.4s\n",
      "560:\tlearn: 1543.3244152\ttotal: 59.2s\tremaining: 46.3s\n",
      "561:\tlearn: 1543.1807448\ttotal: 59.3s\tremaining: 46.2s\n",
      "562:\tlearn: 1542.9964285\ttotal: 59.4s\tremaining: 46.1s\n",
      "563:\tlearn: 1542.7588800\ttotal: 59.5s\tremaining: 46s\n",
      "564:\tlearn: 1542.5711206\ttotal: 59.6s\tremaining: 45.9s\n",
      "565:\tlearn: 1542.1007239\ttotal: 59.7s\tremaining: 45.8s\n",
      "566:\tlearn: 1541.9431287\ttotal: 59.9s\tremaining: 45.7s\n",
      "567:\tlearn: 1541.8010333\ttotal: 60s\tremaining: 45.6s\n",
      "568:\tlearn: 1541.7583330\ttotal: 1m\tremaining: 45.5s\n",
      "569:\tlearn: 1541.6078660\ttotal: 1m\tremaining: 45.4s\n",
      "570:\tlearn: 1541.3815338\ttotal: 1m\tremaining: 45.3s\n",
      "571:\tlearn: 1541.2978259\ttotal: 1m\tremaining: 45.2s\n",
      "572:\tlearn: 1541.2531276\ttotal: 1m\tremaining: 45.1s\n",
      "573:\tlearn: 1541.1782433\ttotal: 1m\tremaining: 45s\n",
      "574:\tlearn: 1541.1509183\ttotal: 1m\tremaining: 44.9s\n",
      "575:\tlearn: 1540.9809015\ttotal: 1m\tremaining: 44.8s\n",
      "576:\tlearn: 1540.8300725\ttotal: 1m\tremaining: 44.7s\n",
      "577:\tlearn: 1540.6790886\ttotal: 1m 1s\tremaining: 44.6s\n",
      "578:\tlearn: 1540.6013161\ttotal: 1m 1s\tremaining: 44.5s\n",
      "579:\tlearn: 1540.3545523\ttotal: 1m 1s\tremaining: 44.4s\n",
      "580:\tlearn: 1540.2823018\ttotal: 1m 1s\tremaining: 44.3s\n",
      "581:\tlearn: 1540.1441046\ttotal: 1m 1s\tremaining: 44.2s\n",
      "582:\tlearn: 1539.9742690\ttotal: 1m 1s\tremaining: 44.1s\n",
      "583:\tlearn: 1539.8528526\ttotal: 1m 1s\tremaining: 44s\n",
      "584:\tlearn: 1539.6439069\ttotal: 1m 1s\tremaining: 43.9s\n",
      "585:\tlearn: 1539.5070191\ttotal: 1m 1s\tremaining: 43.8s\n",
      "586:\tlearn: 1539.2884820\ttotal: 1m 2s\tremaining: 43.7s\n",
      "587:\tlearn: 1539.1031649\ttotal: 1m 2s\tremaining: 43.5s\n",
      "588:\tlearn: 1538.6942333\ttotal: 1m 2s\tremaining: 43.4s\n",
      "589:\tlearn: 1538.5713730\ttotal: 1m 2s\tremaining: 43.3s\n",
      "590:\tlearn: 1538.2902313\ttotal: 1m 2s\tremaining: 43.2s\n",
      "591:\tlearn: 1538.1145980\ttotal: 1m 2s\tremaining: 43.1s\n",
      "592:\tlearn: 1537.9367716\ttotal: 1m 2s\tremaining: 43s\n",
      "593:\tlearn: 1537.8377192\ttotal: 1m 2s\tremaining: 42.8s\n",
      "594:\tlearn: 1537.8015619\ttotal: 1m 2s\tremaining: 42.7s\n",
      "595:\tlearn: 1537.7126750\ttotal: 1m 2s\tremaining: 42.6s\n",
      "596:\tlearn: 1537.6488134\ttotal: 1m 2s\tremaining: 42.5s\n",
      "597:\tlearn: 1537.5320633\ttotal: 1m 3s\tremaining: 42.4s\n",
      "598:\tlearn: 1537.4275997\ttotal: 1m 3s\tremaining: 42.3s\n",
      "599:\tlearn: 1537.3003920\ttotal: 1m 3s\tremaining: 42.2s\n",
      "600:\tlearn: 1537.1741986\ttotal: 1m 3s\tremaining: 42.1s\n",
      "601:\tlearn: 1536.9119474\ttotal: 1m 3s\tremaining: 42s\n",
      "602:\tlearn: 1536.8118499\ttotal: 1m 3s\tremaining: 41.9s\n",
      "603:\tlearn: 1536.6467201\ttotal: 1m 3s\tremaining: 41.8s\n",
      "604:\tlearn: 1536.6341328\ttotal: 1m 3s\tremaining: 41.7s\n",
      "605:\tlearn: 1536.5782133\ttotal: 1m 4s\tremaining: 41.6s\n",
      "606:\tlearn: 1536.5360250\ttotal: 1m 4s\tremaining: 41.5s\n",
      "607:\tlearn: 1536.4272541\ttotal: 1m 4s\tremaining: 41.4s\n",
      "608:\tlearn: 1536.2315345\ttotal: 1m 4s\tremaining: 41.3s\n",
      "609:\tlearn: 1536.1289920\ttotal: 1m 4s\tremaining: 41.2s\n",
      "610:\tlearn: 1536.0556294\ttotal: 1m 4s\tremaining: 41.1s\n",
      "611:\tlearn: 1535.8110917\ttotal: 1m 4s\tremaining: 41s\n",
      "612:\tlearn: 1535.6307735\ttotal: 1m 4s\tremaining: 40.9s\n",
      "613:\tlearn: 1535.5507954\ttotal: 1m 4s\tremaining: 40.8s\n",
      "614:\tlearn: 1535.4332408\ttotal: 1m 4s\tremaining: 40.7s\n",
      "615:\tlearn: 1535.3662991\ttotal: 1m 5s\tremaining: 40.6s\n",
      "616:\tlearn: 1535.0911465\ttotal: 1m 5s\tremaining: 40.5s\n",
      "617:\tlearn: 1534.9395853\ttotal: 1m 5s\tremaining: 40.4s\n",
      "618:\tlearn: 1534.8516436\ttotal: 1m 5s\tremaining: 40.3s\n",
      "619:\tlearn: 1534.7887918\ttotal: 1m 5s\tremaining: 40.2s\n",
      "620:\tlearn: 1534.6448146\ttotal: 1m 5s\tremaining: 40.1s\n",
      "621:\tlearn: 1534.5243152\ttotal: 1m 5s\tremaining: 40s\n",
      "622:\tlearn: 1534.4612774\ttotal: 1m 5s\tremaining: 39.9s\n",
      "623:\tlearn: 1534.3678990\ttotal: 1m 6s\tremaining: 39.8s\n",
      "624:\tlearn: 1534.2775523\ttotal: 1m 6s\tremaining: 39.7s\n",
      "625:\tlearn: 1534.1739655\ttotal: 1m 6s\tremaining: 39.6s\n",
      "626:\tlearn: 1533.9270260\ttotal: 1m 6s\tremaining: 39.5s\n",
      "627:\tlearn: 1533.8372378\ttotal: 1m 6s\tremaining: 39.4s\n",
      "628:\tlearn: 1533.7178015\ttotal: 1m 6s\tremaining: 39.3s\n",
      "629:\tlearn: 1533.5184339\ttotal: 1m 6s\tremaining: 39.2s\n",
      "630:\tlearn: 1533.4713286\ttotal: 1m 6s\tremaining: 39.1s\n",
      "631:\tlearn: 1533.2864080\ttotal: 1m 6s\tremaining: 39s\n",
      "632:\tlearn: 1533.2431751\ttotal: 1m 7s\tremaining: 38.8s\n",
      "633:\tlearn: 1533.0345729\ttotal: 1m 7s\tremaining: 38.7s\n",
      "634:\tlearn: 1532.9697884\ttotal: 1m 7s\tremaining: 38.6s\n",
      "635:\tlearn: 1532.8118042\ttotal: 1m 7s\tremaining: 38.5s\n",
      "636:\tlearn: 1532.6204957\ttotal: 1m 7s\tremaining: 38.4s\n",
      "637:\tlearn: 1532.4184200\ttotal: 1m 7s\tremaining: 38.3s\n",
      "638:\tlearn: 1532.1672358\ttotal: 1m 7s\tremaining: 38.2s\n",
      "639:\tlearn: 1532.0101386\ttotal: 1m 7s\tremaining: 38.1s\n",
      "640:\tlearn: 1531.8882313\ttotal: 1m 7s\tremaining: 38s\n",
      "641:\tlearn: 1531.8146386\ttotal: 1m 7s\tremaining: 37.8s\n",
      "642:\tlearn: 1531.7119881\ttotal: 1m 7s\tremaining: 37.7s\n",
      "643:\tlearn: 1531.5973711\ttotal: 1m 8s\tremaining: 37.6s\n",
      "644:\tlearn: 1531.4096022\ttotal: 1m 8s\tremaining: 37.5s\n",
      "645:\tlearn: 1531.3402411\ttotal: 1m 8s\tremaining: 37.4s\n",
      "646:\tlearn: 1531.2031145\ttotal: 1m 8s\tremaining: 37.3s\n",
      "647:\tlearn: 1531.0254392\ttotal: 1m 8s\tremaining: 37.2s\n",
      "648:\tlearn: 1530.9884625\ttotal: 1m 8s\tremaining: 37.1s\n",
      "649:\tlearn: 1530.8753816\ttotal: 1m 8s\tremaining: 37s\n",
      "650:\tlearn: 1530.7422783\ttotal: 1m 8s\tremaining: 36.9s\n",
      "651:\tlearn: 1530.5787655\ttotal: 1m 8s\tremaining: 36.7s\n",
      "652:\tlearn: 1530.3817001\ttotal: 1m 8s\tremaining: 36.6s\n",
      "653:\tlearn: 1530.2454704\ttotal: 1m 9s\tremaining: 36.5s\n",
      "654:\tlearn: 1530.1450866\ttotal: 1m 9s\tremaining: 36.4s\n",
      "655:\tlearn: 1530.0974540\ttotal: 1m 9s\tremaining: 36.3s\n",
      "656:\tlearn: 1530.0128774\ttotal: 1m 9s\tremaining: 36.2s\n",
      "657:\tlearn: 1529.8830690\ttotal: 1m 9s\tremaining: 36.1s\n",
      "658:\tlearn: 1529.8723979\ttotal: 1m 9s\tremaining: 36s\n",
      "659:\tlearn: 1529.6823221\ttotal: 1m 9s\tremaining: 35.9s\n",
      "660:\tlearn: 1529.6171811\ttotal: 1m 9s\tremaining: 35.8s\n",
      "661:\tlearn: 1529.5403735\ttotal: 1m 9s\tremaining: 35.7s\n",
      "662:\tlearn: 1529.5142689\ttotal: 1m 9s\tremaining: 35.6s\n",
      "663:\tlearn: 1529.4770450\ttotal: 1m 10s\tremaining: 35.4s\n",
      "664:\tlearn: 1529.3245500\ttotal: 1m 10s\tremaining: 35.3s\n",
      "665:\tlearn: 1529.2662245\ttotal: 1m 10s\tremaining: 35.2s\n",
      "666:\tlearn: 1529.1628106\ttotal: 1m 10s\tremaining: 35.1s\n",
      "667:\tlearn: 1529.0877972\ttotal: 1m 10s\tremaining: 35.1s\n",
      "668:\tlearn: 1528.9647433\ttotal: 1m 10s\tremaining: 35s\n",
      "669:\tlearn: 1528.8805356\ttotal: 1m 10s\tremaining: 34.8s\n",
      "670:\tlearn: 1528.6993222\ttotal: 1m 10s\tremaining: 34.7s\n",
      "671:\tlearn: 1528.5191309\ttotal: 1m 10s\tremaining: 34.6s\n",
      "672:\tlearn: 1528.4542554\ttotal: 1m 11s\tremaining: 34.5s\n",
      "673:\tlearn: 1528.3817529\ttotal: 1m 11s\tremaining: 34.4s\n",
      "674:\tlearn: 1528.3456958\ttotal: 1m 11s\tremaining: 34.3s\n",
      "675:\tlearn: 1528.1816747\ttotal: 1m 11s\tremaining: 34.2s\n",
      "676:\tlearn: 1528.1127946\ttotal: 1m 11s\tremaining: 34.1s\n",
      "677:\tlearn: 1527.9798200\ttotal: 1m 11s\tremaining: 34s\n",
      "678:\tlearn: 1527.8208598\ttotal: 1m 11s\tremaining: 33.9s\n",
      "679:\tlearn: 1527.6762488\ttotal: 1m 11s\tremaining: 33.8s\n",
      "680:\tlearn: 1527.6431003\ttotal: 1m 11s\tremaining: 33.6s\n",
      "681:\tlearn: 1527.5328922\ttotal: 1m 11s\tremaining: 33.5s\n",
      "682:\tlearn: 1527.4589372\ttotal: 1m 12s\tremaining: 33.4s\n",
      "683:\tlearn: 1527.3096233\ttotal: 1m 12s\tremaining: 33.3s\n",
      "684:\tlearn: 1527.1506184\ttotal: 1m 12s\tremaining: 33.2s\n",
      "685:\tlearn: 1526.9196631\ttotal: 1m 12s\tremaining: 33.1s\n",
      "686:\tlearn: 1526.8793309\ttotal: 1m 12s\tremaining: 33s\n",
      "687:\tlearn: 1526.6988582\ttotal: 1m 12s\tremaining: 32.9s\n",
      "688:\tlearn: 1526.5979319\ttotal: 1m 12s\tremaining: 32.8s\n",
      "689:\tlearn: 1526.5175142\ttotal: 1m 12s\tremaining: 32.7s\n",
      "690:\tlearn: 1526.4759076\ttotal: 1m 12s\tremaining: 32.6s\n",
      "691:\tlearn: 1526.4452887\ttotal: 1m 12s\tremaining: 32.5s\n",
      "692:\tlearn: 1526.2971545\ttotal: 1m 13s\tremaining: 32.4s\n",
      "693:\tlearn: 1526.2089336\ttotal: 1m 13s\tremaining: 32.3s\n",
      "694:\tlearn: 1526.0341113\ttotal: 1m 13s\tremaining: 32.2s\n",
      "695:\tlearn: 1525.9931950\ttotal: 1m 13s\tremaining: 32.1s\n",
      "696:\tlearn: 1525.5983386\ttotal: 1m 13s\tremaining: 32s\n",
      "697:\tlearn: 1525.3462290\ttotal: 1m 13s\tremaining: 31.9s\n",
      "698:\tlearn: 1525.2865759\ttotal: 1m 13s\tremaining: 31.8s\n",
      "699:\tlearn: 1525.2380937\ttotal: 1m 13s\tremaining: 31.6s\n",
      "700:\tlearn: 1525.1770429\ttotal: 1m 13s\tremaining: 31.5s\n",
      "701:\tlearn: 1525.1396456\ttotal: 1m 14s\tremaining: 31.4s\n",
      "702:\tlearn: 1525.0306742\ttotal: 1m 14s\tremaining: 31.3s\n",
      "703:\tlearn: 1524.8674918\ttotal: 1m 14s\tremaining: 31.2s\n",
      "704:\tlearn: 1524.6950709\ttotal: 1m 14s\tremaining: 31.1s\n",
      "705:\tlearn: 1524.6193593\ttotal: 1m 14s\tremaining: 31s\n",
      "706:\tlearn: 1524.4821083\ttotal: 1m 14s\tremaining: 30.9s\n",
      "707:\tlearn: 1524.3945287\ttotal: 1m 14s\tremaining: 30.8s\n",
      "708:\tlearn: 1524.3719967\ttotal: 1m 14s\tremaining: 30.7s\n",
      "709:\tlearn: 1524.3401869\ttotal: 1m 14s\tremaining: 30.6s\n",
      "710:\tlearn: 1524.2745495\ttotal: 1m 14s\tremaining: 30.5s\n",
      "711:\tlearn: 1523.9876799\ttotal: 1m 15s\tremaining: 30.4s\n",
      "712:\tlearn: 1523.9482875\ttotal: 1m 15s\tremaining: 30.3s\n",
      "713:\tlearn: 1523.8817221\ttotal: 1m 15s\tremaining: 30.2s\n",
      "714:\tlearn: 1523.8720686\ttotal: 1m 15s\tremaining: 30.1s\n",
      "715:\tlearn: 1523.8247675\ttotal: 1m 15s\tremaining: 30s\n",
      "716:\tlearn: 1523.6626944\ttotal: 1m 15s\tremaining: 29.9s\n",
      "717:\tlearn: 1523.6250505\ttotal: 1m 15s\tremaining: 29.8s\n",
      "718:\tlearn: 1523.4144009\ttotal: 1m 15s\tremaining: 29.7s\n",
      "719:\tlearn: 1523.3137273\ttotal: 1m 15s\tremaining: 29.6s\n",
      "720:\tlearn: 1523.2151464\ttotal: 1m 16s\tremaining: 29.4s\n",
      "721:\tlearn: 1523.1520293\ttotal: 1m 16s\tremaining: 29.4s\n",
      "722:\tlearn: 1523.1086413\ttotal: 1m 16s\tremaining: 29.2s\n",
      "723:\tlearn: 1522.9505433\ttotal: 1m 16s\tremaining: 29.1s\n",
      "724:\tlearn: 1522.9123126\ttotal: 1m 16s\tremaining: 29s\n",
      "725:\tlearn: 1522.8715931\ttotal: 1m 16s\tremaining: 28.9s\n",
      "726:\tlearn: 1522.7474412\ttotal: 1m 16s\tremaining: 28.8s\n",
      "727:\tlearn: 1522.6928203\ttotal: 1m 16s\tremaining: 28.7s\n",
      "728:\tlearn: 1522.6249842\ttotal: 1m 17s\tremaining: 28.6s\n",
      "729:\tlearn: 1522.5756265\ttotal: 1m 17s\tremaining: 28.5s\n",
      "730:\tlearn: 1522.4775481\ttotal: 1m 17s\tremaining: 28.4s\n",
      "731:\tlearn: 1522.3764440\ttotal: 1m 17s\tremaining: 28.3s\n",
      "732:\tlearn: 1522.2748631\ttotal: 1m 17s\tremaining: 28.2s\n",
      "733:\tlearn: 1522.2055141\ttotal: 1m 17s\tremaining: 28.1s\n",
      "734:\tlearn: 1522.1350653\ttotal: 1m 17s\tremaining: 28s\n",
      "735:\tlearn: 1521.9610530\ttotal: 1m 17s\tremaining: 27.9s\n",
      "736:\tlearn: 1521.8082807\ttotal: 1m 17s\tremaining: 27.8s\n",
      "737:\tlearn: 1521.6741826\ttotal: 1m 18s\tremaining: 27.7s\n",
      "738:\tlearn: 1521.5586197\ttotal: 1m 18s\tremaining: 27.6s\n",
      "739:\tlearn: 1521.4702018\ttotal: 1m 18s\tremaining: 27.5s\n",
      "740:\tlearn: 1521.3959961\ttotal: 1m 18s\tremaining: 27.4s\n",
      "741:\tlearn: 1521.3872234\ttotal: 1m 18s\tremaining: 27.3s\n",
      "742:\tlearn: 1521.3230958\ttotal: 1m 18s\tremaining: 27.2s\n",
      "743:\tlearn: 1521.1943668\ttotal: 1m 18s\tremaining: 27.1s\n",
      "744:\tlearn: 1521.1490516\ttotal: 1m 18s\tremaining: 27s\n",
      "745:\tlearn: 1520.8739628\ttotal: 1m 18s\tremaining: 26.9s\n",
      "746:\tlearn: 1520.7935735\ttotal: 1m 19s\tremaining: 26.8s\n",
      "747:\tlearn: 1520.6295932\ttotal: 1m 19s\tremaining: 26.7s\n",
      "748:\tlearn: 1520.5283992\ttotal: 1m 19s\tremaining: 26.6s\n",
      "749:\tlearn: 1520.4976393\ttotal: 1m 19s\tremaining: 26.4s\n",
      "750:\tlearn: 1520.4491768\ttotal: 1m 19s\tremaining: 26.3s\n",
      "751:\tlearn: 1520.3696197\ttotal: 1m 19s\tremaining: 26.2s\n",
      "752:\tlearn: 1520.1596596\ttotal: 1m 19s\tremaining: 26.1s\n",
      "753:\tlearn: 1520.0162917\ttotal: 1m 19s\tremaining: 26s\n",
      "754:\tlearn: 1519.9523317\ttotal: 1m 19s\tremaining: 25.9s\n",
      "755:\tlearn: 1519.8435250\ttotal: 1m 20s\tremaining: 25.8s\n",
      "756:\tlearn: 1519.7135783\ttotal: 1m 20s\tremaining: 25.7s\n",
      "757:\tlearn: 1519.6130570\ttotal: 1m 20s\tremaining: 25.6s\n",
      "758:\tlearn: 1519.4485182\ttotal: 1m 20s\tremaining: 25.5s\n",
      "759:\tlearn: 1519.3369557\ttotal: 1m 20s\tremaining: 25.4s\n",
      "760:\tlearn: 1519.2707805\ttotal: 1m 20s\tremaining: 25.3s\n",
      "761:\tlearn: 1519.1708293\ttotal: 1m 20s\tremaining: 25.2s\n",
      "762:\tlearn: 1518.9855811\ttotal: 1m 20s\tremaining: 25.1s\n",
      "763:\tlearn: 1518.8459989\ttotal: 1m 20s\tremaining: 25s\n",
      "764:\tlearn: 1518.7203627\ttotal: 1m 21s\tremaining: 24.9s\n",
      "765:\tlearn: 1518.6060757\ttotal: 1m 21s\tremaining: 24.8s\n",
      "766:\tlearn: 1518.5372623\ttotal: 1m 21s\tremaining: 24.7s\n",
      "767:\tlearn: 1518.4829829\ttotal: 1m 21s\tremaining: 24.6s\n",
      "768:\tlearn: 1518.4020033\ttotal: 1m 21s\tremaining: 24.5s\n",
      "769:\tlearn: 1518.3130060\ttotal: 1m 21s\tremaining: 24.4s\n",
      "770:\tlearn: 1518.2411935\ttotal: 1m 21s\tremaining: 24.3s\n",
      "771:\tlearn: 1518.0208020\ttotal: 1m 21s\tremaining: 24.2s\n",
      "772:\tlearn: 1517.9413392\ttotal: 1m 21s\tremaining: 24.1s\n",
      "773:\tlearn: 1517.7946418\ttotal: 1m 22s\tremaining: 23.9s\n",
      "774:\tlearn: 1517.6043088\ttotal: 1m 22s\tremaining: 23.8s\n",
      "775:\tlearn: 1517.4432062\ttotal: 1m 22s\tremaining: 23.7s\n",
      "776:\tlearn: 1517.2485143\ttotal: 1m 22s\tremaining: 23.6s\n",
      "777:\tlearn: 1517.1045186\ttotal: 1m 22s\tremaining: 23.5s\n",
      "778:\tlearn: 1517.0613491\ttotal: 1m 22s\tremaining: 23.4s\n",
      "779:\tlearn: 1516.9557569\ttotal: 1m 22s\tremaining: 23.3s\n",
      "780:\tlearn: 1516.8466860\ttotal: 1m 22s\tremaining: 23.2s\n",
      "781:\tlearn: 1516.7817906\ttotal: 1m 22s\tremaining: 23.1s\n",
      "782:\tlearn: 1516.6122240\ttotal: 1m 22s\tremaining: 23s\n",
      "783:\tlearn: 1516.4117034\ttotal: 1m 23s\tremaining: 22.9s\n",
      "784:\tlearn: 1516.3006519\ttotal: 1m 23s\tremaining: 22.8s\n",
      "785:\tlearn: 1516.0525566\ttotal: 1m 23s\tremaining: 22.7s\n",
      "786:\tlearn: 1515.9547172\ttotal: 1m 23s\tremaining: 22.6s\n",
      "787:\tlearn: 1515.8130651\ttotal: 1m 23s\tremaining: 22.5s\n",
      "788:\tlearn: 1515.6365429\ttotal: 1m 23s\tremaining: 22.4s\n",
      "789:\tlearn: 1515.4416480\ttotal: 1m 23s\tremaining: 22.3s\n",
      "790:\tlearn: 1515.2209826\ttotal: 1m 23s\tremaining: 22.1s\n",
      "791:\tlearn: 1515.1730985\ttotal: 1m 23s\tremaining: 22.1s\n",
      "792:\tlearn: 1515.0090530\ttotal: 1m 24s\tremaining: 21.9s\n",
      "793:\tlearn: 1514.8355055\ttotal: 1m 24s\tremaining: 21.8s\n",
      "794:\tlearn: 1514.7120210\ttotal: 1m 24s\tremaining: 21.7s\n",
      "795:\tlearn: 1514.5308569\ttotal: 1m 24s\tremaining: 21.6s\n",
      "796:\tlearn: 1514.3663052\ttotal: 1m 24s\tremaining: 21.5s\n",
      "797:\tlearn: 1514.2458413\ttotal: 1m 24s\tremaining: 21.4s\n",
      "798:\tlearn: 1514.1281063\ttotal: 1m 24s\tremaining: 21.3s\n",
      "799:\tlearn: 1514.0150010\ttotal: 1m 24s\tremaining: 21.2s\n",
      "800:\tlearn: 1513.9977105\ttotal: 1m 24s\tremaining: 21.1s\n",
      "801:\tlearn: 1513.8140653\ttotal: 1m 24s\tremaining: 21s\n",
      "802:\tlearn: 1513.7781531\ttotal: 1m 25s\tremaining: 20.9s\n",
      "803:\tlearn: 1513.6536959\ttotal: 1m 25s\tremaining: 20.8s\n",
      "804:\tlearn: 1513.6276820\ttotal: 1m 25s\tremaining: 20.7s\n",
      "805:\tlearn: 1513.5209352\ttotal: 1m 25s\tremaining: 20.6s\n",
      "806:\tlearn: 1513.4802128\ttotal: 1m 25s\tremaining: 20.5s\n",
      "807:\tlearn: 1513.2174606\ttotal: 1m 25s\tremaining: 20.4s\n",
      "808:\tlearn: 1513.0894515\ttotal: 1m 25s\tremaining: 20.3s\n",
      "809:\tlearn: 1513.0443029\ttotal: 1m 25s\tremaining: 20.2s\n",
      "810:\tlearn: 1512.9983327\ttotal: 1m 26s\tremaining: 20s\n",
      "811:\tlearn: 1512.8195613\ttotal: 1m 26s\tremaining: 19.9s\n",
      "812:\tlearn: 1512.7440175\ttotal: 1m 26s\tremaining: 19.8s\n",
      "813:\tlearn: 1512.6869018\ttotal: 1m 26s\tremaining: 19.7s\n",
      "814:\tlearn: 1512.6624095\ttotal: 1m 26s\tremaining: 19.6s\n",
      "815:\tlearn: 1512.5082074\ttotal: 1m 26s\tremaining: 19.5s\n",
      "816:\tlearn: 1512.4789977\ttotal: 1m 26s\tremaining: 19.4s\n",
      "817:\tlearn: 1512.4646253\ttotal: 1m 26s\tremaining: 19.3s\n",
      "818:\tlearn: 1512.3243363\ttotal: 1m 26s\tremaining: 19.2s\n",
      "819:\tlearn: 1512.2869609\ttotal: 1m 26s\tremaining: 19.1s\n",
      "820:\tlearn: 1512.2400451\ttotal: 1m 27s\tremaining: 19s\n",
      "821:\tlearn: 1512.0877617\ttotal: 1m 27s\tremaining: 18.9s\n",
      "822:\tlearn: 1511.9897258\ttotal: 1m 27s\tremaining: 18.8s\n",
      "823:\tlearn: 1511.9135920\ttotal: 1m 27s\tremaining: 18.7s\n",
      "824:\tlearn: 1511.7839251\ttotal: 1m 27s\tremaining: 18.6s\n",
      "825:\tlearn: 1511.6767700\ttotal: 1m 27s\tremaining: 18.4s\n",
      "826:\tlearn: 1511.5560640\ttotal: 1m 27s\tremaining: 18.3s\n",
      "827:\tlearn: 1511.5140640\ttotal: 1m 27s\tremaining: 18.2s\n",
      "828:\tlearn: 1511.4106821\ttotal: 1m 27s\tremaining: 18.1s\n",
      "829:\tlearn: 1511.2796521\ttotal: 1m 27s\tremaining: 18s\n",
      "830:\tlearn: 1511.2257535\ttotal: 1m 28s\tremaining: 17.9s\n",
      "831:\tlearn: 1511.1360956\ttotal: 1m 28s\tremaining: 17.8s\n",
      "832:\tlearn: 1510.8997079\ttotal: 1m 28s\tremaining: 17.7s\n",
      "833:\tlearn: 1510.8278654\ttotal: 1m 28s\tremaining: 17.6s\n",
      "834:\tlearn: 1510.7769089\ttotal: 1m 28s\tremaining: 17.5s\n",
      "835:\tlearn: 1510.6592786\ttotal: 1m 28s\tremaining: 17.4s\n",
      "836:\tlearn: 1510.5836039\ttotal: 1m 28s\tremaining: 17.3s\n",
      "837:\tlearn: 1510.4934413\ttotal: 1m 28s\tremaining: 17.2s\n",
      "838:\tlearn: 1510.3835801\ttotal: 1m 28s\tremaining: 17.1s\n",
      "839:\tlearn: 1510.3367379\ttotal: 1m 28s\tremaining: 16.9s\n",
      "840:\tlearn: 1510.1699483\ttotal: 1m 29s\tremaining: 16.8s\n",
      "841:\tlearn: 1510.0722005\ttotal: 1m 29s\tremaining: 16.7s\n",
      "842:\tlearn: 1509.9507234\ttotal: 1m 29s\tremaining: 16.6s\n",
      "843:\tlearn: 1509.9194785\ttotal: 1m 29s\tremaining: 16.5s\n",
      "844:\tlearn: 1509.7499277\ttotal: 1m 29s\tremaining: 16.4s\n",
      "845:\tlearn: 1509.6198147\ttotal: 1m 29s\tremaining: 16.3s\n",
      "846:\tlearn: 1509.5745970\ttotal: 1m 29s\tremaining: 16.2s\n",
      "847:\tlearn: 1509.4840199\ttotal: 1m 29s\tremaining: 16.1s\n",
      "848:\tlearn: 1509.4205657\ttotal: 1m 29s\tremaining: 16s\n",
      "849:\tlearn: 1509.3072724\ttotal: 1m 29s\tremaining: 15.9s\n",
      "850:\tlearn: 1509.2911861\ttotal: 1m 30s\tremaining: 15.8s\n",
      "851:\tlearn: 1509.1310185\ttotal: 1m 30s\tremaining: 15.6s\n",
      "852:\tlearn: 1508.9818803\ttotal: 1m 30s\tremaining: 15.5s\n",
      "853:\tlearn: 1508.7899388\ttotal: 1m 30s\tremaining: 15.4s\n",
      "854:\tlearn: 1508.7245188\ttotal: 1m 30s\tremaining: 15.3s\n",
      "855:\tlearn: 1508.6801812\ttotal: 1m 30s\tremaining: 15.2s\n",
      "856:\tlearn: 1508.5757045\ttotal: 1m 30s\tremaining: 15.1s\n",
      "857:\tlearn: 1508.4393674\ttotal: 1m 30s\tremaining: 15s\n",
      "858:\tlearn: 1508.2282324\ttotal: 1m 30s\tremaining: 14.9s\n",
      "859:\tlearn: 1508.1904341\ttotal: 1m 30s\tremaining: 14.8s\n",
      "860:\tlearn: 1508.0834006\ttotal: 1m 31s\tremaining: 14.7s\n",
      "861:\tlearn: 1507.9954408\ttotal: 1m 31s\tremaining: 14.6s\n",
      "862:\tlearn: 1507.9207794\ttotal: 1m 31s\tremaining: 14.5s\n",
      "863:\tlearn: 1507.7598962\ttotal: 1m 31s\tremaining: 14.4s\n",
      "864:\tlearn: 1507.6674836\ttotal: 1m 31s\tremaining: 14.3s\n",
      "865:\tlearn: 1507.5324547\ttotal: 1m 31s\tremaining: 14.2s\n",
      "866:\tlearn: 1507.5191691\ttotal: 1m 31s\tremaining: 14.1s\n",
      "867:\tlearn: 1507.4172453\ttotal: 1m 31s\tremaining: 14s\n",
      "868:\tlearn: 1507.4041642\ttotal: 1m 31s\tremaining: 13.8s\n",
      "869:\tlearn: 1507.3623298\ttotal: 1m 31s\tremaining: 13.7s\n",
      "870:\tlearn: 1507.2650411\ttotal: 1m 32s\tremaining: 13.6s\n",
      "871:\tlearn: 1507.2220440\ttotal: 1m 32s\tremaining: 13.5s\n",
      "872:\tlearn: 1507.0439306\ttotal: 1m 32s\tremaining: 13.4s\n",
      "873:\tlearn: 1506.9684091\ttotal: 1m 32s\tremaining: 13.3s\n",
      "874:\tlearn: 1506.8867718\ttotal: 1m 32s\tremaining: 13.2s\n",
      "875:\tlearn: 1506.8491299\ttotal: 1m 32s\tremaining: 13.1s\n",
      "876:\tlearn: 1506.7984634\ttotal: 1m 32s\tremaining: 13s\n",
      "877:\tlearn: 1506.6809037\ttotal: 1m 32s\tremaining: 12.9s\n",
      "878:\tlearn: 1506.6008956\ttotal: 1m 32s\tremaining: 12.8s\n",
      "879:\tlearn: 1506.5692032\ttotal: 1m 33s\tremaining: 12.7s\n",
      "880:\tlearn: 1506.5339870\ttotal: 1m 33s\tremaining: 12.6s\n",
      "881:\tlearn: 1506.4568888\ttotal: 1m 33s\tremaining: 12.5s\n",
      "882:\tlearn: 1506.3809003\ttotal: 1m 33s\tremaining: 12.4s\n",
      "883:\tlearn: 1506.2886257\ttotal: 1m 33s\tremaining: 12.3s\n",
      "884:\tlearn: 1506.1626459\ttotal: 1m 33s\tremaining: 12.2s\n",
      "885:\tlearn: 1506.0228681\ttotal: 1m 33s\tremaining: 12.1s\n",
      "886:\tlearn: 1505.9482663\ttotal: 1m 33s\tremaining: 12s\n",
      "887:\tlearn: 1505.8692154\ttotal: 1m 34s\tremaining: 11.9s\n",
      "888:\tlearn: 1505.7548645\ttotal: 1m 34s\tremaining: 11.8s\n",
      "889:\tlearn: 1505.7251242\ttotal: 1m 34s\tremaining: 11.6s\n",
      "890:\tlearn: 1505.6426914\ttotal: 1m 34s\tremaining: 11.5s\n",
      "891:\tlearn: 1505.5568510\ttotal: 1m 34s\tremaining: 11.4s\n",
      "892:\tlearn: 1505.3613058\ttotal: 1m 34s\tremaining: 11.3s\n",
      "893:\tlearn: 1505.3107534\ttotal: 1m 34s\tremaining: 11.2s\n",
      "894:\tlearn: 1505.2311073\ttotal: 1m 34s\tremaining: 11.1s\n",
      "895:\tlearn: 1505.1114965\ttotal: 1m 34s\tremaining: 11s\n",
      "896:\tlearn: 1505.0788681\ttotal: 1m 35s\tremaining: 10.9s\n",
      "897:\tlearn: 1505.0382733\ttotal: 1m 35s\tremaining: 10.8s\n",
      "898:\tlearn: 1504.9789122\ttotal: 1m 35s\tremaining: 10.7s\n",
      "899:\tlearn: 1504.8474137\ttotal: 1m 35s\tremaining: 10.6s\n",
      "900:\tlearn: 1504.6625193\ttotal: 1m 35s\tremaining: 10.5s\n",
      "901:\tlearn: 1504.5880901\ttotal: 1m 35s\tremaining: 10.4s\n",
      "902:\tlearn: 1504.5304386\ttotal: 1m 35s\tremaining: 10.3s\n",
      "903:\tlearn: 1504.4837214\ttotal: 1m 35s\tremaining: 10.2s\n",
      "904:\tlearn: 1504.4174532\ttotal: 1m 35s\tremaining: 10.1s\n",
      "905:\tlearn: 1504.3426564\ttotal: 1m 36s\tremaining: 9.97s\n",
      "906:\tlearn: 1504.2533799\ttotal: 1m 36s\tremaining: 9.87s\n",
      "907:\tlearn: 1504.0246137\ttotal: 1m 36s\tremaining: 9.76s\n",
      "908:\tlearn: 1503.9101633\ttotal: 1m 36s\tremaining: 9.66s\n",
      "909:\tlearn: 1503.7690360\ttotal: 1m 36s\tremaining: 9.55s\n",
      "910:\tlearn: 1503.7268568\ttotal: 1m 36s\tremaining: 9.45s\n",
      "911:\tlearn: 1503.6308188\ttotal: 1m 36s\tremaining: 9.34s\n",
      "912:\tlearn: 1503.4878474\ttotal: 1m 36s\tremaining: 9.23s\n",
      "913:\tlearn: 1503.3061129\ttotal: 1m 37s\tremaining: 9.13s\n",
      "914:\tlearn: 1503.1659829\ttotal: 1m 37s\tremaining: 9.02s\n",
      "915:\tlearn: 1503.1119475\ttotal: 1m 37s\tremaining: 8.92s\n",
      "916:\tlearn: 1502.9565985\ttotal: 1m 37s\tremaining: 8.81s\n",
      "917:\tlearn: 1502.8334596\ttotal: 1m 37s\tremaining: 8.7s\n",
      "918:\tlearn: 1502.6834335\ttotal: 1m 37s\tremaining: 8.6s\n",
      "919:\tlearn: 1502.5105294\ttotal: 1m 37s\tremaining: 8.49s\n",
      "920:\tlearn: 1502.4780715\ttotal: 1m 37s\tremaining: 8.38s\n",
      "921:\tlearn: 1502.3866035\ttotal: 1m 37s\tremaining: 8.27s\n",
      "922:\tlearn: 1502.3579984\ttotal: 1m 37s\tremaining: 8.17s\n",
      "923:\tlearn: 1502.3322797\ttotal: 1m 38s\tremaining: 8.06s\n",
      "924:\tlearn: 1502.2824558\ttotal: 1m 38s\tremaining: 7.96s\n",
      "925:\tlearn: 1502.1783535\ttotal: 1m 38s\tremaining: 7.85s\n",
      "926:\tlearn: 1502.0983621\ttotal: 1m 38s\tremaining: 7.75s\n",
      "927:\tlearn: 1502.0153119\ttotal: 1m 38s\tremaining: 7.64s\n",
      "928:\tlearn: 1501.9085562\ttotal: 1m 38s\tremaining: 7.53s\n",
      "929:\tlearn: 1501.8999304\ttotal: 1m 38s\tremaining: 7.43s\n",
      "930:\tlearn: 1501.8306291\ttotal: 1m 38s\tremaining: 7.32s\n",
      "931:\tlearn: 1501.7402586\ttotal: 1m 38s\tremaining: 7.21s\n",
      "932:\tlearn: 1501.6798754\ttotal: 1m 38s\tremaining: 7.11s\n",
      "933:\tlearn: 1501.6159823\ttotal: 1m 39s\tremaining: 7s\n",
      "934:\tlearn: 1501.5566019\ttotal: 1m 39s\tremaining: 6.89s\n",
      "935:\tlearn: 1501.4777206\ttotal: 1m 39s\tremaining: 6.79s\n",
      "936:\tlearn: 1501.2797066\ttotal: 1m 39s\tremaining: 6.68s\n",
      "937:\tlearn: 1501.2184504\ttotal: 1m 39s\tremaining: 6.58s\n",
      "938:\tlearn: 1501.1274858\ttotal: 1m 39s\tremaining: 6.47s\n",
      "939:\tlearn: 1500.9864131\ttotal: 1m 39s\tremaining: 6.37s\n",
      "940:\tlearn: 1500.9668756\ttotal: 1m 39s\tremaining: 6.26s\n",
      "941:\tlearn: 1500.9145503\ttotal: 1m 40s\tremaining: 6.16s\n",
      "942:\tlearn: 1500.8955771\ttotal: 1m 40s\tremaining: 6.05s\n",
      "943:\tlearn: 1500.7979810\ttotal: 1m 40s\tremaining: 5.95s\n",
      "944:\tlearn: 1500.7408387\ttotal: 1m 40s\tremaining: 5.84s\n",
      "945:\tlearn: 1500.6935303\ttotal: 1m 40s\tremaining: 5.74s\n",
      "946:\tlearn: 1500.6494690\ttotal: 1m 40s\tremaining: 5.63s\n",
      "947:\tlearn: 1500.5487742\ttotal: 1m 40s\tremaining: 5.53s\n",
      "948:\tlearn: 1500.4808920\ttotal: 1m 40s\tremaining: 5.42s\n",
      "949:\tlearn: 1500.4266825\ttotal: 1m 41s\tremaining: 5.32s\n",
      "950:\tlearn: 1500.3158124\ttotal: 1m 41s\tremaining: 5.21s\n",
      "951:\tlearn: 1500.2951004\ttotal: 1m 41s\tremaining: 5.1s\n",
      "952:\tlearn: 1500.2455196\ttotal: 1m 41s\tremaining: 4.99s\n",
      "953:\tlearn: 1500.1168661\ttotal: 1m 41s\tremaining: 4.89s\n",
      "954:\tlearn: 1499.9978887\ttotal: 1m 41s\tremaining: 4.78s\n",
      "955:\tlearn: 1499.9073467\ttotal: 1m 41s\tremaining: 4.68s\n",
      "956:\tlearn: 1499.8595320\ttotal: 1m 41s\tremaining: 4.57s\n",
      "957:\tlearn: 1499.8238011\ttotal: 1m 41s\tremaining: 4.46s\n",
      "958:\tlearn: 1499.7817818\ttotal: 1m 41s\tremaining: 4.36s\n",
      "959:\tlearn: 1499.7237634\ttotal: 1m 42s\tremaining: 4.25s\n",
      "960:\tlearn: 1499.5527406\ttotal: 1m 42s\tremaining: 4.15s\n",
      "961:\tlearn: 1499.4549348\ttotal: 1m 42s\tremaining: 4.04s\n",
      "962:\tlearn: 1499.4029666\ttotal: 1m 42s\tremaining: 3.93s\n",
      "963:\tlearn: 1499.1387306\ttotal: 1m 42s\tremaining: 3.82s\n",
      "964:\tlearn: 1499.1102774\ttotal: 1m 42s\tremaining: 3.72s\n",
      "965:\tlearn: 1498.9615782\ttotal: 1m 42s\tremaining: 3.61s\n",
      "966:\tlearn: 1498.9166266\ttotal: 1m 42s\tremaining: 3.51s\n",
      "967:\tlearn: 1498.8561428\ttotal: 1m 42s\tremaining: 3.4s\n",
      "968:\tlearn: 1498.8040076\ttotal: 1m 43s\tremaining: 3.3s\n",
      "969:\tlearn: 1498.7058339\ttotal: 1m 43s\tremaining: 3.19s\n",
      "970:\tlearn: 1498.6511267\ttotal: 1m 43s\tremaining: 3.08s\n",
      "971:\tlearn: 1498.5713331\ttotal: 1m 43s\tremaining: 2.98s\n",
      "972:\tlearn: 1498.5239132\ttotal: 1m 43s\tremaining: 2.87s\n",
      "973:\tlearn: 1498.4687540\ttotal: 1m 43s\tremaining: 2.76s\n",
      "974:\tlearn: 1498.3595925\ttotal: 1m 43s\tremaining: 2.66s\n",
      "975:\tlearn: 1498.3144738\ttotal: 1m 43s\tremaining: 2.55s\n",
      "976:\tlearn: 1498.1897409\ttotal: 1m 43s\tremaining: 2.44s\n",
      "977:\tlearn: 1498.0532061\ttotal: 1m 43s\tremaining: 2.34s\n",
      "978:\tlearn: 1498.0040274\ttotal: 1m 44s\tremaining: 2.23s\n",
      "979:\tlearn: 1497.9739511\ttotal: 1m 44s\tremaining: 2.13s\n",
      "980:\tlearn: 1497.9253665\ttotal: 1m 44s\tremaining: 2.02s\n",
      "981:\tlearn: 1497.9007303\ttotal: 1m 44s\tremaining: 1.91s\n",
      "982:\tlearn: 1497.8448985\ttotal: 1m 44s\tremaining: 1.81s\n",
      "983:\tlearn: 1497.6700894\ttotal: 1m 44s\tremaining: 1.7s\n",
      "984:\tlearn: 1497.4894298\ttotal: 1m 44s\tremaining: 1.59s\n",
      "985:\tlearn: 1497.4182299\ttotal: 1m 44s\tremaining: 1.49s\n",
      "986:\tlearn: 1497.3735700\ttotal: 1m 44s\tremaining: 1.38s\n",
      "987:\tlearn: 1497.3404706\ttotal: 1m 45s\tremaining: 1.27s\n",
      "988:\tlearn: 1497.2692835\ttotal: 1m 45s\tremaining: 1.17s\n",
      "989:\tlearn: 1497.2339964\ttotal: 1m 45s\tremaining: 1.06s\n",
      "990:\tlearn: 1497.2139269\ttotal: 1m 45s\tremaining: 957ms\n",
      "991:\tlearn: 1497.1025412\ttotal: 1m 45s\tremaining: 850ms\n",
      "992:\tlearn: 1496.9522922\ttotal: 1m 45s\tremaining: 744ms\n",
      "993:\tlearn: 1496.8351570\ttotal: 1m 45s\tremaining: 638ms\n",
      "994:\tlearn: 1496.7739927\ttotal: 1m 45s\tremaining: 532ms\n",
      "995:\tlearn: 1496.6462431\ttotal: 1m 45s\tremaining: 425ms\n",
      "996:\tlearn: 1496.6015017\ttotal: 1m 46s\tremaining: 319ms\n",
      "997:\tlearn: 1496.5557679\ttotal: 1m 46s\tremaining: 213ms\n",
      "998:\tlearn: 1496.5113591\ttotal: 1m 46s\tremaining: 106ms\n",
      "999:\tlearn: 1496.2822803\ttotal: 1m 46s\tremaining: 0us\n",
      "Learning rate set to 0.086297\n",
      "0:\tlearn: 4369.7544972\ttotal: 228ms\tremaining: 3m 48s\n",
      "1:\tlearn: 4114.9585223\ttotal: 447ms\tremaining: 3m 42s\n",
      "2:\tlearn: 3877.5585827\ttotal: 635ms\tremaining: 3m 31s\n",
      "3:\tlearn: 3667.7303318\ttotal: 791ms\tremaining: 3m 17s\n",
      "4:\tlearn: 3475.3374206\ttotal: 939ms\tremaining: 3m 6s\n",
      "5:\tlearn: 3305.9783410\ttotal: 1.09s\tremaining: 3m\n",
      "6:\tlearn: 3152.7967332\ttotal: 1.26s\tremaining: 2m 58s\n",
      "7:\tlearn: 3012.8768084\ttotal: 1.41s\tremaining: 2m 55s\n",
      "8:\tlearn: 2885.3365069\ttotal: 1.6s\tremaining: 2m 56s\n",
      "9:\tlearn: 2773.0833913\ttotal: 1.77s\tremaining: 2m 55s\n",
      "10:\tlearn: 2670.5782024\ttotal: 1.97s\tremaining: 2m 57s\n",
      "11:\tlearn: 2582.9009675\ttotal: 2.2s\tremaining: 3m 1s\n",
      "12:\tlearn: 2503.0500733\ttotal: 2.4s\tremaining: 3m 2s\n",
      "13:\tlearn: 2429.0109864\ttotal: 2.58s\tremaining: 3m 1s\n",
      "14:\tlearn: 2364.6486451\ttotal: 2.79s\tremaining: 3m 3s\n",
      "15:\tlearn: 2309.8289594\ttotal: 2.94s\tremaining: 3m\n",
      "16:\tlearn: 2258.3276752\ttotal: 3.13s\tremaining: 3m 1s\n",
      "17:\tlearn: 2211.0565285\ttotal: 3.32s\tremaining: 3m 1s\n",
      "18:\tlearn: 2171.0807287\ttotal: 3.47s\tremaining: 2m 58s\n",
      "19:\tlearn: 2134.1214532\ttotal: 3.64s\tremaining: 2m 58s\n",
      "20:\tlearn: 2099.3809808\ttotal: 3.82s\tremaining: 2m 58s\n",
      "21:\tlearn: 2067.5301713\ttotal: 3.95s\tremaining: 2m 55s\n",
      "22:\tlearn: 2039.7182507\ttotal: 4.08s\tremaining: 2m 53s\n",
      "23:\tlearn: 2012.6922918\ttotal: 4.22s\tremaining: 2m 51s\n",
      "24:\tlearn: 1990.0888831\ttotal: 4.35s\tremaining: 2m 49s\n",
      "25:\tlearn: 1966.2774629\ttotal: 4.51s\tremaining: 2m 49s\n",
      "26:\tlearn: 1948.2417957\ttotal: 4.64s\tremaining: 2m 47s\n",
      "27:\tlearn: 1932.6517120\ttotal: 4.78s\tremaining: 2m 45s\n",
      "28:\tlearn: 1915.6695641\ttotal: 4.9s\tremaining: 2m 44s\n",
      "29:\tlearn: 1902.9416431\ttotal: 5.02s\tremaining: 2m 42s\n",
      "30:\tlearn: 1888.5059764\ttotal: 5.16s\tremaining: 2m 41s\n",
      "31:\tlearn: 1878.3052104\ttotal: 5.29s\tremaining: 2m 40s\n",
      "32:\tlearn: 1864.2632261\ttotal: 5.43s\tremaining: 2m 39s\n",
      "33:\tlearn: 1855.0988930\ttotal: 5.58s\tremaining: 2m 38s\n",
      "34:\tlearn: 1844.2699271\ttotal: 5.72s\tremaining: 2m 37s\n",
      "35:\tlearn: 1835.3795374\ttotal: 5.87s\tremaining: 2m 37s\n",
      "36:\tlearn: 1827.0847008\ttotal: 6.04s\tremaining: 2m 37s\n",
      "37:\tlearn: 1820.0376711\ttotal: 6.2s\tremaining: 2m 36s\n",
      "38:\tlearn: 1812.7654767\ttotal: 6.35s\tremaining: 2m 36s\n",
      "39:\tlearn: 1806.7711553\ttotal: 6.46s\tremaining: 2m 34s\n",
      "40:\tlearn: 1801.6039312\ttotal: 6.59s\tremaining: 2m 34s\n",
      "41:\tlearn: 1794.9595942\ttotal: 6.72s\tremaining: 2m 33s\n",
      "42:\tlearn: 1790.2953457\ttotal: 6.87s\tremaining: 2m 32s\n",
      "43:\tlearn: 1785.0975984\ttotal: 7s\tremaining: 2m 32s\n",
      "44:\tlearn: 1780.9732829\ttotal: 7.16s\tremaining: 2m 31s\n",
      "45:\tlearn: 1775.4153042\ttotal: 7.32s\tremaining: 2m 31s\n",
      "46:\tlearn: 1771.4774978\ttotal: 7.48s\tremaining: 2m 31s\n",
      "47:\tlearn: 1767.4310954\ttotal: 7.6s\tremaining: 2m 30s\n",
      "48:\tlearn: 1764.3407770\ttotal: 7.77s\tremaining: 2m 30s\n",
      "49:\tlearn: 1760.6767478\ttotal: 7.92s\tremaining: 2m 30s\n",
      "50:\tlearn: 1756.6503504\ttotal: 8.08s\tremaining: 2m 30s\n",
      "51:\tlearn: 1753.6162745\ttotal: 8.23s\tremaining: 2m 30s\n",
      "52:\tlearn: 1746.1394715\ttotal: 8.35s\tremaining: 2m 29s\n",
      "53:\tlearn: 1740.6946368\ttotal: 8.51s\tremaining: 2m 29s\n",
      "54:\tlearn: 1737.4507952\ttotal: 8.66s\tremaining: 2m 28s\n",
      "55:\tlearn: 1734.0433307\ttotal: 8.81s\tremaining: 2m 28s\n",
      "56:\tlearn: 1730.7252575\ttotal: 8.94s\tremaining: 2m 27s\n",
      "57:\tlearn: 1727.3738536\ttotal: 9.05s\tremaining: 2m 27s\n",
      "58:\tlearn: 1724.3843800\ttotal: 9.17s\tremaining: 2m 26s\n",
      "59:\tlearn: 1721.0520390\ttotal: 9.3s\tremaining: 2m 25s\n",
      "60:\tlearn: 1717.9601536\ttotal: 9.41s\tremaining: 2m 24s\n",
      "61:\tlearn: 1715.9444256\ttotal: 9.57s\tremaining: 2m 24s\n",
      "62:\tlearn: 1712.9048869\ttotal: 9.71s\tremaining: 2m 24s\n",
      "63:\tlearn: 1710.1705429\ttotal: 9.88s\tremaining: 2m 24s\n",
      "64:\tlearn: 1707.2109228\ttotal: 10s\tremaining: 2m 23s\n",
      "65:\tlearn: 1705.2392103\ttotal: 10.2s\tremaining: 2m 23s\n",
      "66:\tlearn: 1701.9161186\ttotal: 10.3s\tremaining: 2m 23s\n",
      "67:\tlearn: 1700.1727657\ttotal: 10.5s\tremaining: 2m 23s\n",
      "68:\tlearn: 1697.5203103\ttotal: 10.6s\tremaining: 2m 22s\n",
      "69:\tlearn: 1695.3052370\ttotal: 10.7s\tremaining: 2m 22s\n",
      "70:\tlearn: 1694.1265415\ttotal: 10.8s\tremaining: 2m 21s\n",
      "71:\tlearn: 1692.3824476\ttotal: 11s\tremaining: 2m 21s\n",
      "72:\tlearn: 1691.1234910\ttotal: 11.1s\tremaining: 2m 21s\n",
      "73:\tlearn: 1689.4663985\ttotal: 11.3s\tremaining: 2m 21s\n",
      "74:\tlearn: 1688.2015128\ttotal: 11.5s\tremaining: 2m 21s\n",
      "75:\tlearn: 1684.7423949\ttotal: 11.6s\tremaining: 2m 21s\n",
      "76:\tlearn: 1683.2031629\ttotal: 11.8s\tremaining: 2m 21s\n",
      "77:\tlearn: 1681.9350632\ttotal: 11.9s\tremaining: 2m 21s\n",
      "78:\tlearn: 1680.1303682\ttotal: 12.2s\tremaining: 2m 21s\n",
      "79:\tlearn: 1678.1903778\ttotal: 12.3s\tremaining: 2m 21s\n",
      "80:\tlearn: 1675.6616168\ttotal: 12.5s\tremaining: 2m 21s\n",
      "81:\tlearn: 1674.2845194\ttotal: 12.6s\tremaining: 2m 21s\n",
      "82:\tlearn: 1673.3339787\ttotal: 12.7s\tremaining: 2m 20s\n",
      "83:\tlearn: 1672.5983617\ttotal: 12.9s\tremaining: 2m 20s\n",
      "84:\tlearn: 1671.0054120\ttotal: 13s\tremaining: 2m 20s\n",
      "85:\tlearn: 1667.9421561\ttotal: 13.2s\tremaining: 2m 19s\n",
      "86:\tlearn: 1667.1955277\ttotal: 13.3s\tremaining: 2m 19s\n",
      "87:\tlearn: 1666.1732074\ttotal: 13.4s\tremaining: 2m 19s\n",
      "88:\tlearn: 1664.8989453\ttotal: 13.6s\tremaining: 2m 19s\n",
      "89:\tlearn: 1662.8271412\ttotal: 13.7s\tremaining: 2m 18s\n",
      "90:\tlearn: 1661.6564575\ttotal: 13.8s\tremaining: 2m 18s\n",
      "91:\tlearn: 1660.1760362\ttotal: 14s\tremaining: 2m 17s\n",
      "92:\tlearn: 1659.5073862\ttotal: 14.1s\tremaining: 2m 17s\n",
      "93:\tlearn: 1657.0412750\ttotal: 14.2s\tremaining: 2m 16s\n",
      "94:\tlearn: 1655.1778319\ttotal: 14.3s\tremaining: 2m 16s\n",
      "95:\tlearn: 1653.4221985\ttotal: 14.5s\tremaining: 2m 16s\n",
      "96:\tlearn: 1652.7330949\ttotal: 14.6s\tremaining: 2m 15s\n",
      "97:\tlearn: 1651.8672424\ttotal: 14.7s\tremaining: 2m 15s\n",
      "98:\tlearn: 1650.0693885\ttotal: 14.9s\tremaining: 2m 15s\n",
      "99:\tlearn: 1649.0326318\ttotal: 15s\tremaining: 2m 15s\n",
      "100:\tlearn: 1647.7086205\ttotal: 15.1s\tremaining: 2m 14s\n",
      "101:\tlearn: 1645.9431339\ttotal: 15.3s\tremaining: 2m 14s\n",
      "102:\tlearn: 1645.3588501\ttotal: 15.4s\tremaining: 2m 14s\n",
      "103:\tlearn: 1643.7250316\ttotal: 15.6s\tremaining: 2m 14s\n",
      "104:\tlearn: 1642.8435390\ttotal: 15.7s\tremaining: 2m 14s\n",
      "105:\tlearn: 1642.1297371\ttotal: 15.9s\tremaining: 2m 13s\n",
      "106:\tlearn: 1640.2247645\ttotal: 16s\tremaining: 2m 13s\n",
      "107:\tlearn: 1639.2546853\ttotal: 16.1s\tremaining: 2m 13s\n",
      "108:\tlearn: 1637.0069293\ttotal: 16.2s\tremaining: 2m 12s\n",
      "109:\tlearn: 1635.7907958\ttotal: 16.4s\tremaining: 2m 12s\n",
      "110:\tlearn: 1634.7619600\ttotal: 16.6s\tremaining: 2m 12s\n",
      "111:\tlearn: 1633.8155600\ttotal: 16.7s\tremaining: 2m 12s\n",
      "112:\tlearn: 1632.7738267\ttotal: 16.9s\tremaining: 2m 12s\n",
      "113:\tlearn: 1632.1935447\ttotal: 17s\tremaining: 2m 12s\n",
      "114:\tlearn: 1630.4516020\ttotal: 17.2s\tremaining: 2m 12s\n",
      "115:\tlearn: 1629.1709016\ttotal: 17.3s\tremaining: 2m 11s\n",
      "116:\tlearn: 1628.3033507\ttotal: 17.5s\tremaining: 2m 11s\n",
      "117:\tlearn: 1627.1751149\ttotal: 17.6s\tremaining: 2m 11s\n",
      "118:\tlearn: 1625.9686809\ttotal: 17.8s\tremaining: 2m 12s\n",
      "119:\tlearn: 1624.7986856\ttotal: 18s\tremaining: 2m 11s\n",
      "120:\tlearn: 1624.0229318\ttotal: 18.1s\tremaining: 2m 11s\n",
      "121:\tlearn: 1623.5029762\ttotal: 18.3s\tremaining: 2m 11s\n",
      "122:\tlearn: 1622.1332618\ttotal: 18.4s\tremaining: 2m 11s\n",
      "123:\tlearn: 1621.6071518\ttotal: 18.5s\tremaining: 2m 10s\n",
      "124:\tlearn: 1621.1111921\ttotal: 18.7s\tremaining: 2m 10s\n",
      "125:\tlearn: 1619.9512298\ttotal: 18.8s\tremaining: 2m 10s\n",
      "126:\tlearn: 1619.1278056\ttotal: 19s\tremaining: 2m 10s\n",
      "127:\tlearn: 1618.5935747\ttotal: 19.1s\tremaining: 2m 9s\n",
      "128:\tlearn: 1617.4186786\ttotal: 19.2s\tremaining: 2m 9s\n",
      "129:\tlearn: 1616.5473186\ttotal: 19.3s\tremaining: 2m 9s\n",
      "130:\tlearn: 1615.4836702\ttotal: 19.4s\tremaining: 2m 8s\n",
      "131:\tlearn: 1614.2213730\ttotal: 19.6s\tremaining: 2m 8s\n",
      "132:\tlearn: 1613.4833569\ttotal: 19.7s\tremaining: 2m 8s\n",
      "133:\tlearn: 1612.2556772\ttotal: 19.9s\tremaining: 2m 8s\n",
      "134:\tlearn: 1611.5460651\ttotal: 20s\tremaining: 2m 8s\n",
      "135:\tlearn: 1611.2300658\ttotal: 20.2s\tremaining: 2m 8s\n",
      "136:\tlearn: 1610.4685397\ttotal: 20.3s\tremaining: 2m 8s\n",
      "137:\tlearn: 1609.2028284\ttotal: 20.5s\tremaining: 2m 7s\n",
      "138:\tlearn: 1608.5803694\ttotal: 20.6s\tremaining: 2m 7s\n",
      "139:\tlearn: 1607.4810210\ttotal: 20.7s\tremaining: 2m 7s\n",
      "140:\tlearn: 1606.1410918\ttotal: 20.9s\tremaining: 2m 7s\n",
      "141:\tlearn: 1605.6550645\ttotal: 21s\tremaining: 2m 6s\n",
      "142:\tlearn: 1604.9721273\ttotal: 21.2s\tremaining: 2m 6s\n",
      "143:\tlearn: 1603.5277269\ttotal: 21.3s\tremaining: 2m 6s\n",
      "144:\tlearn: 1602.6968082\ttotal: 21.4s\tremaining: 2m 6s\n",
      "145:\tlearn: 1601.7310946\ttotal: 21.6s\tremaining: 2m 6s\n",
      "146:\tlearn: 1600.5620953\ttotal: 21.7s\tremaining: 2m 6s\n",
      "147:\tlearn: 1599.4110246\ttotal: 21.9s\tremaining: 2m 6s\n",
      "148:\tlearn: 1598.2806642\ttotal: 22.1s\tremaining: 2m 6s\n",
      "149:\tlearn: 1597.6138999\ttotal: 22.3s\tremaining: 2m 6s\n",
      "150:\tlearn: 1597.0576624\ttotal: 22.4s\tremaining: 2m 6s\n",
      "151:\tlearn: 1596.5725300\ttotal: 22.6s\tremaining: 2m 5s\n",
      "152:\tlearn: 1595.7757507\ttotal: 22.7s\tremaining: 2m 5s\n",
      "153:\tlearn: 1595.1069825\ttotal: 22.8s\tremaining: 2m 5s\n",
      "154:\tlearn: 1594.3653898\ttotal: 23s\tremaining: 2m 5s\n",
      "155:\tlearn: 1593.9264335\ttotal: 23.1s\tremaining: 2m 5s\n",
      "156:\tlearn: 1593.2689897\ttotal: 23.3s\tremaining: 2m 4s\n",
      "157:\tlearn: 1592.3266712\ttotal: 23.4s\tremaining: 2m 4s\n",
      "158:\tlearn: 1591.8334129\ttotal: 23.5s\tremaining: 2m 4s\n",
      "159:\tlearn: 1591.1007083\ttotal: 23.7s\tremaining: 2m 4s\n",
      "160:\tlearn: 1590.3975630\ttotal: 23.9s\tremaining: 2m 4s\n",
      "161:\tlearn: 1589.8573765\ttotal: 24.1s\tremaining: 2m 4s\n",
      "162:\tlearn: 1588.9816040\ttotal: 24.2s\tremaining: 2m 4s\n",
      "163:\tlearn: 1588.2963170\ttotal: 24.4s\tremaining: 2m 4s\n",
      "164:\tlearn: 1588.0304134\ttotal: 24.5s\tremaining: 2m 4s\n",
      "165:\tlearn: 1587.3260363\ttotal: 24.7s\tremaining: 2m 3s\n",
      "166:\tlearn: 1586.9410301\ttotal: 24.8s\tremaining: 2m 3s\n",
      "167:\tlearn: 1586.3054044\ttotal: 25s\tremaining: 2m 3s\n",
      "168:\tlearn: 1585.9036212\ttotal: 25.1s\tremaining: 2m 3s\n",
      "169:\tlearn: 1585.4943173\ttotal: 25.3s\tremaining: 2m 3s\n",
      "170:\tlearn: 1585.2903916\ttotal: 25.4s\tremaining: 2m 3s\n",
      "171:\tlearn: 1584.5329392\ttotal: 25.5s\tremaining: 2m 2s\n",
      "172:\tlearn: 1583.8375702\ttotal: 25.7s\tremaining: 2m 2s\n",
      "173:\tlearn: 1583.4045684\ttotal: 25.8s\tremaining: 2m 2s\n",
      "174:\tlearn: 1582.4918296\ttotal: 26s\tremaining: 2m 2s\n",
      "175:\tlearn: 1582.2384367\ttotal: 26.2s\tremaining: 2m 2s\n",
      "176:\tlearn: 1581.7343913\ttotal: 26.3s\tremaining: 2m 2s\n",
      "177:\tlearn: 1581.2284228\ttotal: 26.5s\tremaining: 2m 2s\n",
      "178:\tlearn: 1580.8225319\ttotal: 26.6s\tremaining: 2m 2s\n",
      "179:\tlearn: 1580.2674275\ttotal: 26.8s\tremaining: 2m 1s\n",
      "180:\tlearn: 1579.5116031\ttotal: 26.9s\tremaining: 2m 1s\n",
      "181:\tlearn: 1578.8981285\ttotal: 27.1s\tremaining: 2m 1s\n",
      "182:\tlearn: 1578.1339893\ttotal: 27.2s\tremaining: 2m 1s\n",
      "183:\tlearn: 1577.7042647\ttotal: 27.4s\tremaining: 2m 1s\n",
      "184:\tlearn: 1577.1983257\ttotal: 27.5s\tremaining: 2m 1s\n",
      "185:\tlearn: 1576.7472711\ttotal: 27.7s\tremaining: 2m 1s\n",
      "186:\tlearn: 1576.0830946\ttotal: 27.9s\tremaining: 2m 1s\n",
      "187:\tlearn: 1575.5856902\ttotal: 28.1s\tremaining: 2m 1s\n",
      "188:\tlearn: 1575.1222665\ttotal: 28.2s\tremaining: 2m 1s\n",
      "189:\tlearn: 1574.0256135\ttotal: 28.4s\tremaining: 2m\n",
      "190:\tlearn: 1573.6016049\ttotal: 28.5s\tremaining: 2m\n",
      "191:\tlearn: 1572.9009110\ttotal: 28.7s\tremaining: 2m\n",
      "192:\tlearn: 1572.2799798\ttotal: 28.9s\tremaining: 2m\n",
      "193:\tlearn: 1571.8117404\ttotal: 29s\tremaining: 2m\n",
      "194:\tlearn: 1571.5891077\ttotal: 29.2s\tremaining: 2m\n",
      "195:\tlearn: 1571.1646129\ttotal: 29.4s\tremaining: 2m\n",
      "196:\tlearn: 1570.7626686\ttotal: 29.6s\tremaining: 2m\n",
      "197:\tlearn: 1569.9971285\ttotal: 29.7s\tremaining: 2m\n",
      "198:\tlearn: 1569.3597078\ttotal: 29.9s\tremaining: 2m\n",
      "199:\tlearn: 1569.0840935\ttotal: 30s\tremaining: 2m\n",
      "200:\tlearn: 1568.6425601\ttotal: 30.2s\tremaining: 2m\n",
      "201:\tlearn: 1567.8924480\ttotal: 30.4s\tremaining: 1m 59s\n",
      "202:\tlearn: 1567.3640289\ttotal: 30.5s\tremaining: 1m 59s\n",
      "203:\tlearn: 1567.0741563\ttotal: 30.7s\tremaining: 1m 59s\n",
      "204:\tlearn: 1566.6311290\ttotal: 30.9s\tremaining: 1m 59s\n",
      "205:\tlearn: 1566.3585273\ttotal: 31s\tremaining: 1m 59s\n",
      "206:\tlearn: 1566.1119660\ttotal: 31.2s\tremaining: 1m 59s\n",
      "207:\tlearn: 1565.9879663\ttotal: 31.2s\tremaining: 1m 58s\n",
      "208:\tlearn: 1565.2665860\ttotal: 31.4s\tremaining: 1m 58s\n",
      "209:\tlearn: 1564.7646023\ttotal: 31.5s\tremaining: 1m 58s\n",
      "210:\tlearn: 1564.3588542\ttotal: 31.7s\tremaining: 1m 58s\n",
      "211:\tlearn: 1564.1903274\ttotal: 31.9s\tremaining: 1m 58s\n",
      "212:\tlearn: 1563.7770973\ttotal: 32.1s\tremaining: 1m 58s\n",
      "213:\tlearn: 1563.1575219\ttotal: 32.2s\tremaining: 1m 58s\n",
      "214:\tlearn: 1562.9803537\ttotal: 32.4s\tremaining: 1m 58s\n",
      "215:\tlearn: 1562.6858797\ttotal: 32.6s\tremaining: 1m 58s\n",
      "216:\tlearn: 1562.2109094\ttotal: 32.7s\tremaining: 1m 58s\n",
      "217:\tlearn: 1561.7919655\ttotal: 32.9s\tremaining: 1m 57s\n",
      "218:\tlearn: 1561.3711614\ttotal: 33s\tremaining: 1m 57s\n",
      "219:\tlearn: 1560.8604537\ttotal: 33.1s\tremaining: 1m 57s\n",
      "220:\tlearn: 1560.2518440\ttotal: 33.3s\tremaining: 1m 57s\n",
      "221:\tlearn: 1560.0178596\ttotal: 33.4s\tremaining: 1m 57s\n",
      "222:\tlearn: 1559.4855366\ttotal: 33.5s\tremaining: 1m 56s\n",
      "223:\tlearn: 1559.3118083\ttotal: 33.7s\tremaining: 1m 56s\n",
      "224:\tlearn: 1558.7390795\ttotal: 33.9s\tremaining: 1m 56s\n",
      "225:\tlearn: 1558.1862635\ttotal: 34s\tremaining: 1m 56s\n",
      "226:\tlearn: 1557.9248283\ttotal: 34.2s\tremaining: 1m 56s\n",
      "227:\tlearn: 1557.1044967\ttotal: 34.3s\tremaining: 1m 56s\n",
      "228:\tlearn: 1556.8507422\ttotal: 34.5s\tremaining: 1m 56s\n",
      "229:\tlearn: 1556.4225435\ttotal: 34.6s\tremaining: 1m 55s\n",
      "230:\tlearn: 1555.7139535\ttotal: 34.7s\tremaining: 1m 55s\n",
      "231:\tlearn: 1554.7466012\ttotal: 34.9s\tremaining: 1m 55s\n",
      "232:\tlearn: 1554.5774684\ttotal: 35s\tremaining: 1m 55s\n",
      "233:\tlearn: 1554.0574847\ttotal: 35.2s\tremaining: 1m 55s\n",
      "234:\tlearn: 1553.6600404\ttotal: 35.3s\tremaining: 1m 54s\n",
      "235:\tlearn: 1553.1578698\ttotal: 35.4s\tremaining: 1m 54s\n",
      "236:\tlearn: 1553.0409508\ttotal: 35.6s\tremaining: 1m 54s\n",
      "237:\tlearn: 1552.8558555\ttotal: 35.8s\tremaining: 1m 54s\n",
      "238:\tlearn: 1552.0799961\ttotal: 35.9s\tremaining: 1m 54s\n",
      "239:\tlearn: 1551.5301560\ttotal: 36.1s\tremaining: 1m 54s\n",
      "240:\tlearn: 1550.7826908\ttotal: 36.2s\tremaining: 1m 54s\n",
      "241:\tlearn: 1550.3924712\ttotal: 36.4s\tremaining: 1m 53s\n",
      "242:\tlearn: 1549.9203710\ttotal: 36.5s\tremaining: 1m 53s\n",
      "243:\tlearn: 1549.3417967\ttotal: 36.7s\tremaining: 1m 53s\n",
      "244:\tlearn: 1548.9710633\ttotal: 36.8s\tremaining: 1m 53s\n",
      "245:\tlearn: 1548.1413248\ttotal: 37s\tremaining: 1m 53s\n",
      "246:\tlearn: 1547.6814821\ttotal: 37.1s\tremaining: 1m 53s\n",
      "247:\tlearn: 1547.5408876\ttotal: 37.3s\tremaining: 1m 53s\n",
      "248:\tlearn: 1546.9583790\ttotal: 37.4s\tremaining: 1m 52s\n",
      "249:\tlearn: 1546.3499551\ttotal: 37.6s\tremaining: 1m 52s\n",
      "250:\tlearn: 1546.0518473\ttotal: 37.8s\tremaining: 1m 52s\n",
      "251:\tlearn: 1545.8844232\ttotal: 38s\tremaining: 1m 52s\n",
      "252:\tlearn: 1545.7338708\ttotal: 38.1s\tremaining: 1m 52s\n",
      "253:\tlearn: 1545.5352533\ttotal: 38.3s\tremaining: 1m 52s\n",
      "254:\tlearn: 1545.0534922\ttotal: 38.4s\tremaining: 1m 52s\n",
      "255:\tlearn: 1544.9054629\ttotal: 38.6s\tremaining: 1m 52s\n",
      "256:\tlearn: 1544.4974234\ttotal: 38.7s\tremaining: 1m 51s\n",
      "257:\tlearn: 1544.0218487\ttotal: 38.9s\tremaining: 1m 51s\n",
      "258:\tlearn: 1543.7101339\ttotal: 39s\tremaining: 1m 51s\n",
      "259:\tlearn: 1543.5243142\ttotal: 39.1s\tremaining: 1m 51s\n",
      "260:\tlearn: 1543.4036518\ttotal: 39.3s\tremaining: 1m 51s\n",
      "261:\tlearn: 1543.0832035\ttotal: 39.5s\tremaining: 1m 51s\n",
      "262:\tlearn: 1542.8844795\ttotal: 39.7s\tremaining: 1m 51s\n",
      "263:\tlearn: 1542.3993584\ttotal: 39.8s\tremaining: 1m 50s\n",
      "264:\tlearn: 1541.8084009\ttotal: 40s\tremaining: 1m 50s\n",
      "265:\tlearn: 1541.5037426\ttotal: 40.1s\tremaining: 1m 50s\n",
      "266:\tlearn: 1541.1296139\ttotal: 40.2s\tremaining: 1m 50s\n",
      "267:\tlearn: 1540.8063885\ttotal: 40.4s\tremaining: 1m 50s\n",
      "268:\tlearn: 1540.6166423\ttotal: 40.5s\tremaining: 1m 50s\n",
      "269:\tlearn: 1540.2247505\ttotal: 40.6s\tremaining: 1m 49s\n",
      "270:\tlearn: 1539.9552218\ttotal: 40.8s\tremaining: 1m 49s\n",
      "271:\tlearn: 1539.5606117\ttotal: 41s\tremaining: 1m 49s\n",
      "272:\tlearn: 1539.1939236\ttotal: 41.2s\tremaining: 1m 49s\n",
      "273:\tlearn: 1538.4702336\ttotal: 41.4s\tremaining: 1m 49s\n",
      "274:\tlearn: 1538.1383358\ttotal: 41.5s\tremaining: 1m 49s\n",
      "275:\tlearn: 1537.9368599\ttotal: 41.7s\tremaining: 1m 49s\n",
      "276:\tlearn: 1537.8181277\ttotal: 41.8s\tremaining: 1m 49s\n",
      "277:\tlearn: 1537.4820893\ttotal: 42s\tremaining: 1m 49s\n",
      "278:\tlearn: 1536.8999119\ttotal: 42.1s\tremaining: 1m 48s\n",
      "279:\tlearn: 1536.5025809\ttotal: 42.3s\tremaining: 1m 48s\n",
      "280:\tlearn: 1536.4395175\ttotal: 42.4s\tremaining: 1m 48s\n",
      "281:\tlearn: 1536.3374293\ttotal: 42.6s\tremaining: 1m 48s\n",
      "282:\tlearn: 1535.9311218\ttotal: 42.7s\tremaining: 1m 48s\n",
      "283:\tlearn: 1535.5000363\ttotal: 42.9s\tremaining: 1m 48s\n",
      "284:\tlearn: 1535.1902809\ttotal: 43s\tremaining: 1m 47s\n",
      "285:\tlearn: 1534.6651210\ttotal: 43.2s\tremaining: 1m 47s\n",
      "286:\tlearn: 1533.9198083\ttotal: 43.4s\tremaining: 1m 47s\n",
      "287:\tlearn: 1533.7446666\ttotal: 43.6s\tremaining: 1m 47s\n",
      "288:\tlearn: 1533.3394742\ttotal: 43.7s\tremaining: 1m 47s\n",
      "289:\tlearn: 1533.1388441\ttotal: 43.9s\tremaining: 1m 47s\n",
      "290:\tlearn: 1532.8328480\ttotal: 44.1s\tremaining: 1m 47s\n",
      "291:\tlearn: 1532.1326744\ttotal: 44.2s\tremaining: 1m 47s\n",
      "292:\tlearn: 1531.7122575\ttotal: 44.4s\tremaining: 1m 47s\n",
      "293:\tlearn: 1531.4660533\ttotal: 44.5s\tremaining: 1m 46s\n",
      "294:\tlearn: 1531.1988599\ttotal: 44.7s\tremaining: 1m 46s\n",
      "295:\tlearn: 1530.9668189\ttotal: 44.8s\tremaining: 1m 46s\n",
      "296:\tlearn: 1530.6341431\ttotal: 45s\tremaining: 1m 46s\n",
      "297:\tlearn: 1530.2967261\ttotal: 45.2s\tremaining: 1m 46s\n",
      "298:\tlearn: 1530.0500420\ttotal: 45.4s\tremaining: 1m 46s\n",
      "299:\tlearn: 1529.8535494\ttotal: 45.5s\tremaining: 1m 46s\n",
      "300:\tlearn: 1529.5574316\ttotal: 45.7s\tremaining: 1m 46s\n",
      "301:\tlearn: 1529.0833053\ttotal: 45.8s\tremaining: 1m 45s\n",
      "302:\tlearn: 1528.5011221\ttotal: 46s\tremaining: 1m 45s\n",
      "303:\tlearn: 1528.4200581\ttotal: 46.1s\tremaining: 1m 45s\n",
      "304:\tlearn: 1528.1236244\ttotal: 46.2s\tremaining: 1m 45s\n",
      "305:\tlearn: 1527.7287408\ttotal: 46.3s\tremaining: 1m 45s\n",
      "306:\tlearn: 1527.3958457\ttotal: 46.5s\tremaining: 1m 44s\n",
      "307:\tlearn: 1526.5733930\ttotal: 46.7s\tremaining: 1m 44s\n",
      "308:\tlearn: 1526.3688374\ttotal: 46.8s\tremaining: 1m 44s\n",
      "309:\tlearn: 1526.2058123\ttotal: 47s\tremaining: 1m 44s\n",
      "310:\tlearn: 1525.8397704\ttotal: 47.1s\tremaining: 1m 44s\n",
      "311:\tlearn: 1525.3756392\ttotal: 47.3s\tremaining: 1m 44s\n",
      "312:\tlearn: 1525.0692455\ttotal: 47.5s\tremaining: 1m 44s\n",
      "313:\tlearn: 1524.6589617\ttotal: 47.7s\tremaining: 1m 44s\n",
      "314:\tlearn: 1524.2667280\ttotal: 47.8s\tremaining: 1m 43s\n",
      "315:\tlearn: 1524.0889210\ttotal: 47.9s\tremaining: 1m 43s\n",
      "316:\tlearn: 1523.6011068\ttotal: 48.1s\tremaining: 1m 43s\n",
      "317:\tlearn: 1523.0810350\ttotal: 48.2s\tremaining: 1m 43s\n",
      "318:\tlearn: 1522.4752168\ttotal: 48.4s\tremaining: 1m 43s\n",
      "319:\tlearn: 1522.1653685\ttotal: 48.6s\tremaining: 1m 43s\n",
      "320:\tlearn: 1521.8861940\ttotal: 48.7s\tremaining: 1m 43s\n",
      "321:\tlearn: 1521.6078920\ttotal: 48.9s\tremaining: 1m 42s\n",
      "322:\tlearn: 1521.4890159\ttotal: 49.1s\tremaining: 1m 42s\n",
      "323:\tlearn: 1521.2444164\ttotal: 49.3s\tremaining: 1m 42s\n",
      "324:\tlearn: 1520.8870400\ttotal: 49.4s\tremaining: 1m 42s\n",
      "325:\tlearn: 1520.7525561\ttotal: 49.5s\tremaining: 1m 42s\n",
      "326:\tlearn: 1520.2483199\ttotal: 49.7s\tremaining: 1m 42s\n",
      "327:\tlearn: 1519.8348160\ttotal: 49.8s\tremaining: 1m 42s\n",
      "328:\tlearn: 1519.4237513\ttotal: 50s\tremaining: 1m 41s\n",
      "329:\tlearn: 1518.8742448\ttotal: 50.2s\tremaining: 1m 41s\n",
      "330:\tlearn: 1518.7731007\ttotal: 50.3s\tremaining: 1m 41s\n",
      "331:\tlearn: 1518.2475985\ttotal: 50.5s\tremaining: 1m 41s\n",
      "332:\tlearn: 1517.8041147\ttotal: 50.6s\tremaining: 1m 41s\n",
      "333:\tlearn: 1517.2237759\ttotal: 50.8s\tremaining: 1m 41s\n",
      "334:\tlearn: 1517.1253282\ttotal: 50.9s\tremaining: 1m 41s\n",
      "335:\tlearn: 1516.7002730\ttotal: 51.1s\tremaining: 1m 40s\n",
      "336:\tlearn: 1516.4274144\ttotal: 51.2s\tremaining: 1m 40s\n",
      "337:\tlearn: 1516.1722539\ttotal: 51.4s\tremaining: 1m 40s\n",
      "338:\tlearn: 1515.9392383\ttotal: 51.5s\tremaining: 1m 40s\n",
      "339:\tlearn: 1515.6988867\ttotal: 51.7s\tremaining: 1m 40s\n",
      "340:\tlearn: 1515.5552463\ttotal: 51.9s\tremaining: 1m 40s\n",
      "341:\tlearn: 1515.4422378\ttotal: 52.1s\tremaining: 1m 40s\n",
      "342:\tlearn: 1515.2394370\ttotal: 52.2s\tremaining: 1m 40s\n",
      "343:\tlearn: 1515.0455023\ttotal: 52.4s\tremaining: 1m 39s\n",
      "344:\tlearn: 1514.6405568\ttotal: 52.5s\tremaining: 1m 39s\n",
      "345:\tlearn: 1514.2640596\ttotal: 52.6s\tremaining: 1m 39s\n",
      "346:\tlearn: 1513.9729843\ttotal: 52.8s\tremaining: 1m 39s\n",
      "347:\tlearn: 1513.7522104\ttotal: 53s\tremaining: 1m 39s\n",
      "348:\tlearn: 1513.2390268\ttotal: 53.1s\tremaining: 1m 39s\n",
      "349:\tlearn: 1513.0354618\ttotal: 53.2s\tremaining: 1m 38s\n",
      "350:\tlearn: 1512.8537768\ttotal: 53.4s\tremaining: 1m 38s\n",
      "351:\tlearn: 1512.8250254\ttotal: 53.5s\tremaining: 1m 38s\n",
      "352:\tlearn: 1512.7012305\ttotal: 53.7s\tremaining: 1m 38s\n",
      "353:\tlearn: 1512.5242539\ttotal: 53.8s\tremaining: 1m 38s\n",
      "354:\tlearn: 1511.6453174\ttotal: 53.9s\tremaining: 1m 38s\n",
      "355:\tlearn: 1511.3366042\ttotal: 54.1s\tremaining: 1m 37s\n",
      "356:\tlearn: 1511.2056526\ttotal: 54.2s\tremaining: 1m 37s\n",
      "357:\tlearn: 1510.9653040\ttotal: 54.4s\tremaining: 1m 37s\n",
      "358:\tlearn: 1510.4993388\ttotal: 54.6s\tremaining: 1m 37s\n",
      "359:\tlearn: 1510.2379197\ttotal: 54.7s\tremaining: 1m 37s\n",
      "360:\tlearn: 1510.1688834\ttotal: 54.9s\tremaining: 1m 37s\n",
      "361:\tlearn: 1509.8418130\ttotal: 55s\tremaining: 1m 36s\n",
      "362:\tlearn: 1509.7508128\ttotal: 55.2s\tremaining: 1m 36s\n",
      "363:\tlearn: 1509.5446930\ttotal: 55.3s\tremaining: 1m 36s\n",
      "364:\tlearn: 1509.3256092\ttotal: 55.5s\tremaining: 1m 36s\n",
      "365:\tlearn: 1509.2646599\ttotal: 55.7s\tremaining: 1m 36s\n",
      "366:\tlearn: 1508.6806463\ttotal: 55.8s\tremaining: 1m 36s\n",
      "367:\tlearn: 1508.3417989\ttotal: 56s\tremaining: 1m 36s\n",
      "368:\tlearn: 1508.0130716\ttotal: 56.1s\tremaining: 1m 36s\n",
      "369:\tlearn: 1507.8836665\ttotal: 56.3s\tremaining: 1m 35s\n",
      "370:\tlearn: 1507.8371813\ttotal: 56.5s\tremaining: 1m 35s\n",
      "371:\tlearn: 1507.3259854\ttotal: 56.6s\tremaining: 1m 35s\n",
      "372:\tlearn: 1506.7946998\ttotal: 56.8s\tremaining: 1m 35s\n",
      "373:\tlearn: 1506.2281993\ttotal: 57s\tremaining: 1m 35s\n",
      "374:\tlearn: 1506.0735811\ttotal: 57.1s\tremaining: 1m 35s\n",
      "375:\tlearn: 1505.8308889\ttotal: 57.3s\tremaining: 1m 35s\n",
      "376:\tlearn: 1505.5118327\ttotal: 57.5s\tremaining: 1m 35s\n",
      "377:\tlearn: 1505.0858629\ttotal: 57.7s\tremaining: 1m 34s\n",
      "378:\tlearn: 1504.4642012\ttotal: 57.8s\tremaining: 1m 34s\n",
      "379:\tlearn: 1504.1761042\ttotal: 58s\tremaining: 1m 34s\n",
      "380:\tlearn: 1503.7219583\ttotal: 58.2s\tremaining: 1m 34s\n",
      "381:\tlearn: 1503.5828053\ttotal: 58.3s\tremaining: 1m 34s\n",
      "382:\tlearn: 1503.4676999\ttotal: 58.5s\tremaining: 1m 34s\n",
      "383:\tlearn: 1503.3381250\ttotal: 58.6s\tremaining: 1m 34s\n",
      "384:\tlearn: 1503.2321541\ttotal: 58.8s\tremaining: 1m 33s\n",
      "385:\tlearn: 1503.0303362\ttotal: 58.9s\tremaining: 1m 33s\n",
      "386:\tlearn: 1502.6880931\ttotal: 59s\tremaining: 1m 33s\n",
      "387:\tlearn: 1502.3789788\ttotal: 59.2s\tremaining: 1m 33s\n",
      "388:\tlearn: 1501.7865665\ttotal: 59.4s\tremaining: 1m 33s\n",
      "389:\tlearn: 1501.5555808\ttotal: 59.6s\tremaining: 1m 33s\n",
      "390:\tlearn: 1501.3077540\ttotal: 59.7s\tremaining: 1m 32s\n",
      "391:\tlearn: 1501.1424985\ttotal: 59.8s\tremaining: 1m 32s\n",
      "392:\tlearn: 1500.5852464\ttotal: 60s\tremaining: 1m 32s\n",
      "393:\tlearn: 1500.3078723\ttotal: 1m\tremaining: 1m 32s\n",
      "394:\tlearn: 1500.0356828\ttotal: 1m\tremaining: 1m 32s\n",
      "395:\tlearn: 1499.8375347\ttotal: 1m\tremaining: 1m 32s\n",
      "396:\tlearn: 1499.6098528\ttotal: 1m\tremaining: 1m 32s\n",
      "397:\tlearn: 1499.4754248\ttotal: 1m\tremaining: 1m 31s\n",
      "398:\tlearn: 1499.3900647\ttotal: 1m\tremaining: 1m 31s\n",
      "399:\tlearn: 1499.2467244\ttotal: 1m 1s\tremaining: 1m 31s\n",
      "400:\tlearn: 1499.0444019\ttotal: 1m 1s\tremaining: 1m 31s\n",
      "401:\tlearn: 1498.5810105\ttotal: 1m 1s\tremaining: 1m 31s\n",
      "402:\tlearn: 1497.9659299\ttotal: 1m 1s\tremaining: 1m 31s\n",
      "403:\tlearn: 1497.7011794\ttotal: 1m 1s\tremaining: 1m 31s\n",
      "404:\tlearn: 1497.5550413\ttotal: 1m 2s\tremaining: 1m 31s\n",
      "405:\tlearn: 1497.1056708\ttotal: 1m 2s\tremaining: 1m 31s\n",
      "406:\tlearn: 1496.6891578\ttotal: 1m 2s\tremaining: 1m 30s\n",
      "407:\tlearn: 1496.4459995\ttotal: 1m 2s\tremaining: 1m 30s\n",
      "408:\tlearn: 1496.2278900\ttotal: 1m 2s\tremaining: 1m 30s\n",
      "409:\tlearn: 1495.8289333\ttotal: 1m 2s\tremaining: 1m 30s\n",
      "410:\tlearn: 1495.7210582\ttotal: 1m 3s\tremaining: 1m 30s\n",
      "411:\tlearn: 1495.5108673\ttotal: 1m 3s\tremaining: 1m 30s\n",
      "412:\tlearn: 1495.3510726\ttotal: 1m 3s\tremaining: 1m 30s\n",
      "413:\tlearn: 1495.0737082\ttotal: 1m 3s\tremaining: 1m 29s\n",
      "414:\tlearn: 1494.6878723\ttotal: 1m 3s\tremaining: 1m 29s\n",
      "415:\tlearn: 1494.5019885\ttotal: 1m 3s\tremaining: 1m 29s\n",
      "416:\tlearn: 1494.3806009\ttotal: 1m 4s\tremaining: 1m 29s\n",
      "417:\tlearn: 1494.1976456\ttotal: 1m 4s\tremaining: 1m 29s\n",
      "418:\tlearn: 1494.0134746\ttotal: 1m 4s\tremaining: 1m 29s\n",
      "419:\tlearn: 1493.9505771\ttotal: 1m 4s\tremaining: 1m 29s\n",
      "420:\tlearn: 1493.6149417\ttotal: 1m 4s\tremaining: 1m 29s\n",
      "421:\tlearn: 1493.0705017\ttotal: 1m 4s\tremaining: 1m 28s\n",
      "422:\tlearn: 1493.0008289\ttotal: 1m 5s\tremaining: 1m 28s\n",
      "423:\tlearn: 1492.5457688\ttotal: 1m 5s\tremaining: 1m 28s\n",
      "424:\tlearn: 1492.4860709\ttotal: 1m 5s\tremaining: 1m 28s\n",
      "425:\tlearn: 1492.3481017\ttotal: 1m 5s\tremaining: 1m 28s\n",
      "426:\tlearn: 1492.1188035\ttotal: 1m 5s\tremaining: 1m 28s\n",
      "427:\tlearn: 1491.9261975\ttotal: 1m 5s\tremaining: 1m 27s\n",
      "428:\tlearn: 1491.4555351\ttotal: 1m 5s\tremaining: 1m 27s\n",
      "429:\tlearn: 1491.2223970\ttotal: 1m 6s\tremaining: 1m 27s\n",
      "430:\tlearn: 1490.9648511\ttotal: 1m 6s\tremaining: 1m 27s\n",
      "431:\tlearn: 1490.9183853\ttotal: 1m 6s\tremaining: 1m 27s\n",
      "432:\tlearn: 1490.5717000\ttotal: 1m 6s\tremaining: 1m 27s\n",
      "433:\tlearn: 1490.5385927\ttotal: 1m 6s\tremaining: 1m 26s\n",
      "434:\tlearn: 1490.0825537\ttotal: 1m 6s\tremaining: 1m 26s\n",
      "435:\tlearn: 1489.7316317\ttotal: 1m 6s\tremaining: 1m 26s\n",
      "436:\tlearn: 1489.5059826\ttotal: 1m 7s\tremaining: 1m 26s\n",
      "437:\tlearn: 1489.1313749\ttotal: 1m 7s\tremaining: 1m 26s\n",
      "438:\tlearn: 1488.7635255\ttotal: 1m 7s\tremaining: 1m 26s\n",
      "439:\tlearn: 1488.4161209\ttotal: 1m 7s\tremaining: 1m 26s\n",
      "440:\tlearn: 1488.1360432\ttotal: 1m 7s\tremaining: 1m 25s\n",
      "441:\tlearn: 1488.0654699\ttotal: 1m 7s\tremaining: 1m 25s\n",
      "442:\tlearn: 1487.8396895\ttotal: 1m 8s\tremaining: 1m 25s\n",
      "443:\tlearn: 1487.8136629\ttotal: 1m 8s\tremaining: 1m 25s\n",
      "444:\tlearn: 1487.4889812\ttotal: 1m 8s\tremaining: 1m 25s\n",
      "445:\tlearn: 1487.3929619\ttotal: 1m 8s\tremaining: 1m 24s\n",
      "446:\tlearn: 1487.2129028\ttotal: 1m 8s\tremaining: 1m 24s\n",
      "447:\tlearn: 1486.9611817\ttotal: 1m 8s\tremaining: 1m 24s\n",
      "448:\tlearn: 1486.7109754\ttotal: 1m 8s\tremaining: 1m 24s\n",
      "449:\tlearn: 1486.0794456\ttotal: 1m 8s\tremaining: 1m 24s\n",
      "450:\tlearn: 1485.8197773\ttotal: 1m 9s\tremaining: 1m 24s\n",
      "451:\tlearn: 1485.6289689\ttotal: 1m 9s\tremaining: 1m 23s\n",
      "452:\tlearn: 1485.2936317\ttotal: 1m 9s\tremaining: 1m 23s\n",
      "453:\tlearn: 1485.1408862\ttotal: 1m 9s\tremaining: 1m 23s\n",
      "454:\tlearn: 1485.0888375\ttotal: 1m 9s\tremaining: 1m 23s\n",
      "455:\tlearn: 1484.8178869\ttotal: 1m 9s\tremaining: 1m 23s\n",
      "456:\tlearn: 1484.7928675\ttotal: 1m 9s\tremaining: 1m 22s\n",
      "457:\tlearn: 1484.4188130\ttotal: 1m 9s\tremaining: 1m 22s\n",
      "458:\tlearn: 1484.3492963\ttotal: 1m 10s\tremaining: 1m 22s\n",
      "459:\tlearn: 1484.1956951\ttotal: 1m 10s\tremaining: 1m 22s\n",
      "460:\tlearn: 1484.1290796\ttotal: 1m 10s\tremaining: 1m 22s\n",
      "461:\tlearn: 1483.9771777\ttotal: 1m 10s\tremaining: 1m 22s\n",
      "462:\tlearn: 1483.3909296\ttotal: 1m 10s\tremaining: 1m 21s\n",
      "463:\tlearn: 1483.2409038\ttotal: 1m 10s\tremaining: 1m 21s\n",
      "464:\tlearn: 1483.0981844\ttotal: 1m 10s\tremaining: 1m 21s\n",
      "465:\tlearn: 1482.7654652\ttotal: 1m 11s\tremaining: 1m 21s\n",
      "466:\tlearn: 1482.4161616\ttotal: 1m 11s\tremaining: 1m 21s\n",
      "467:\tlearn: 1482.1648688\ttotal: 1m 11s\tremaining: 1m 21s\n",
      "468:\tlearn: 1481.9718165\ttotal: 1m 11s\tremaining: 1m 21s\n",
      "469:\tlearn: 1481.8412827\ttotal: 1m 11s\tremaining: 1m 20s\n",
      "470:\tlearn: 1481.3545263\ttotal: 1m 11s\tremaining: 1m 20s\n",
      "471:\tlearn: 1481.0983333\ttotal: 1m 12s\tremaining: 1m 20s\n",
      "472:\tlearn: 1481.0030289\ttotal: 1m 12s\tremaining: 1m 20s\n",
      "473:\tlearn: 1480.8310884\ttotal: 1m 12s\tremaining: 1m 20s\n",
      "474:\tlearn: 1480.5612226\ttotal: 1m 12s\tremaining: 1m 20s\n",
      "475:\tlearn: 1480.3359418\ttotal: 1m 12s\tremaining: 1m 20s\n",
      "476:\tlearn: 1480.3196740\ttotal: 1m 12s\tremaining: 1m 19s\n",
      "477:\tlearn: 1480.2134416\ttotal: 1m 12s\tremaining: 1m 19s\n",
      "478:\tlearn: 1480.0294999\ttotal: 1m 13s\tremaining: 1m 19s\n",
      "479:\tlearn: 1479.9516420\ttotal: 1m 13s\tremaining: 1m 19s\n",
      "480:\tlearn: 1479.5412068\ttotal: 1m 13s\tremaining: 1m 19s\n",
      "481:\tlearn: 1479.4213264\ttotal: 1m 13s\tremaining: 1m 19s\n",
      "482:\tlearn: 1479.2436601\ttotal: 1m 13s\tremaining: 1m 18s\n",
      "483:\tlearn: 1478.9778020\ttotal: 1m 13s\tremaining: 1m 18s\n",
      "484:\tlearn: 1478.8521384\ttotal: 1m 14s\tremaining: 1m 18s\n",
      "485:\tlearn: 1478.6701088\ttotal: 1m 14s\tremaining: 1m 18s\n",
      "486:\tlearn: 1478.1067157\ttotal: 1m 14s\tremaining: 1m 18s\n",
      "487:\tlearn: 1477.7028478\ttotal: 1m 14s\tremaining: 1m 18s\n",
      "488:\tlearn: 1477.5385116\ttotal: 1m 14s\tremaining: 1m 18s\n",
      "489:\tlearn: 1477.4362309\ttotal: 1m 14s\tremaining: 1m 17s\n",
      "490:\tlearn: 1477.2591484\ttotal: 1m 15s\tremaining: 1m 17s\n",
      "491:\tlearn: 1476.9717823\ttotal: 1m 15s\tremaining: 1m 17s\n",
      "492:\tlearn: 1476.8176130\ttotal: 1m 15s\tremaining: 1m 17s\n",
      "493:\tlearn: 1476.6337286\ttotal: 1m 15s\tremaining: 1m 17s\n",
      "494:\tlearn: 1476.3452218\ttotal: 1m 15s\tremaining: 1m 17s\n",
      "495:\tlearn: 1475.9661912\ttotal: 1m 15s\tremaining: 1m 17s\n",
      "496:\tlearn: 1475.7551364\ttotal: 1m 15s\tremaining: 1m 16s\n",
      "497:\tlearn: 1475.5554620\ttotal: 1m 16s\tremaining: 1m 16s\n",
      "498:\tlearn: 1475.2049576\ttotal: 1m 16s\tremaining: 1m 16s\n",
      "499:\tlearn: 1475.0929817\ttotal: 1m 16s\tremaining: 1m 16s\n",
      "500:\tlearn: 1474.8538493\ttotal: 1m 16s\tremaining: 1m 16s\n",
      "501:\tlearn: 1474.4989444\ttotal: 1m 16s\tremaining: 1m 16s\n",
      "502:\tlearn: 1474.3609965\ttotal: 1m 16s\tremaining: 1m 15s\n",
      "503:\tlearn: 1474.0131305\ttotal: 1m 17s\tremaining: 1m 15s\n",
      "504:\tlearn: 1473.8058017\ttotal: 1m 17s\tremaining: 1m 15s\n",
      "505:\tlearn: 1473.7253879\ttotal: 1m 17s\tremaining: 1m 15s\n",
      "506:\tlearn: 1473.5645341\ttotal: 1m 17s\tremaining: 1m 15s\n",
      "507:\tlearn: 1473.2050935\ttotal: 1m 17s\tremaining: 1m 15s\n",
      "508:\tlearn: 1473.0573014\ttotal: 1m 17s\tremaining: 1m 14s\n",
      "509:\tlearn: 1473.0238150\ttotal: 1m 17s\tremaining: 1m 14s\n",
      "510:\tlearn: 1472.9040261\ttotal: 1m 17s\tremaining: 1m 14s\n",
      "511:\tlearn: 1472.7762310\ttotal: 1m 18s\tremaining: 1m 14s\n",
      "512:\tlearn: 1472.3247818\ttotal: 1m 18s\tremaining: 1m 14s\n",
      "513:\tlearn: 1471.9178459\ttotal: 1m 18s\tremaining: 1m 14s\n",
      "514:\tlearn: 1471.7903281\ttotal: 1m 18s\tremaining: 1m 13s\n",
      "515:\tlearn: 1471.7239053\ttotal: 1m 18s\tremaining: 1m 13s\n",
      "516:\tlearn: 1471.5767640\ttotal: 1m 18s\tremaining: 1m 13s\n",
      "517:\tlearn: 1471.4759773\ttotal: 1m 18s\tremaining: 1m 13s\n",
      "518:\tlearn: 1471.3351759\ttotal: 1m 19s\tremaining: 1m 13s\n",
      "519:\tlearn: 1471.2289061\ttotal: 1m 19s\tremaining: 1m 13s\n",
      "520:\tlearn: 1471.0447691\ttotal: 1m 19s\tremaining: 1m 12s\n",
      "521:\tlearn: 1470.8031902\ttotal: 1m 19s\tremaining: 1m 12s\n",
      "522:\tlearn: 1470.6549819\ttotal: 1m 19s\tremaining: 1m 12s\n",
      "523:\tlearn: 1470.3049841\ttotal: 1m 19s\tremaining: 1m 12s\n",
      "524:\tlearn: 1470.1859675\ttotal: 1m 19s\tremaining: 1m 12s\n",
      "525:\tlearn: 1470.0513716\ttotal: 1m 20s\tremaining: 1m 12s\n",
      "526:\tlearn: 1469.6158251\ttotal: 1m 20s\tremaining: 1m 12s\n",
      "527:\tlearn: 1469.3670045\ttotal: 1m 20s\tremaining: 1m 11s\n",
      "528:\tlearn: 1469.2659868\ttotal: 1m 20s\tremaining: 1m 11s\n",
      "529:\tlearn: 1469.1438281\ttotal: 1m 20s\tremaining: 1m 11s\n",
      "530:\tlearn: 1469.0382691\ttotal: 1m 20s\tremaining: 1m 11s\n",
      "531:\tlearn: 1468.7340030\ttotal: 1m 20s\tremaining: 1m 11s\n",
      "532:\tlearn: 1468.6898293\ttotal: 1m 21s\tremaining: 1m 11s\n",
      "533:\tlearn: 1468.6001658\ttotal: 1m 21s\tremaining: 1m 10s\n",
      "534:\tlearn: 1468.2044009\ttotal: 1m 21s\tremaining: 1m 10s\n",
      "535:\tlearn: 1468.0029769\ttotal: 1m 21s\tremaining: 1m 10s\n",
      "536:\tlearn: 1467.9693726\ttotal: 1m 21s\tremaining: 1m 10s\n",
      "537:\tlearn: 1467.5698925\ttotal: 1m 21s\tremaining: 1m 10s\n",
      "538:\tlearn: 1467.4818046\ttotal: 1m 22s\tremaining: 1m 10s\n",
      "539:\tlearn: 1467.2847630\ttotal: 1m 22s\tremaining: 1m 10s\n",
      "540:\tlearn: 1467.1681826\ttotal: 1m 22s\tremaining: 1m 9s\n",
      "541:\tlearn: 1467.0269399\ttotal: 1m 22s\tremaining: 1m 9s\n",
      "542:\tlearn: 1466.8287402\ttotal: 1m 22s\tremaining: 1m 9s\n",
      "543:\tlearn: 1466.6194600\ttotal: 1m 22s\tremaining: 1m 9s\n",
      "544:\tlearn: 1466.5494424\ttotal: 1m 23s\tremaining: 1m 9s\n",
      "545:\tlearn: 1466.3436631\ttotal: 1m 23s\tremaining: 1m 9s\n",
      "546:\tlearn: 1466.2451173\ttotal: 1m 23s\tremaining: 1m 9s\n",
      "547:\tlearn: 1466.0847946\ttotal: 1m 23s\tremaining: 1m 8s\n",
      "548:\tlearn: 1465.7946899\ttotal: 1m 23s\tremaining: 1m 8s\n",
      "549:\tlearn: 1465.6331985\ttotal: 1m 23s\tremaining: 1m 8s\n",
      "550:\tlearn: 1465.5846672\ttotal: 1m 23s\tremaining: 1m 8s\n",
      "551:\tlearn: 1465.4977368\ttotal: 1m 24s\tremaining: 1m 8s\n",
      "552:\tlearn: 1465.2736710\ttotal: 1m 24s\tremaining: 1m 8s\n",
      "553:\tlearn: 1465.2107613\ttotal: 1m 24s\tremaining: 1m 7s\n",
      "554:\tlearn: 1465.0179895\ttotal: 1m 24s\tremaining: 1m 7s\n",
      "555:\tlearn: 1465.0001159\ttotal: 1m 24s\tremaining: 1m 7s\n",
      "556:\tlearn: 1464.8979662\ttotal: 1m 24s\tremaining: 1m 7s\n",
      "557:\tlearn: 1464.6233402\ttotal: 1m 25s\tremaining: 1m 7s\n",
      "558:\tlearn: 1464.4137033\ttotal: 1m 25s\tremaining: 1m 7s\n",
      "559:\tlearn: 1464.1018681\ttotal: 1m 25s\tremaining: 1m 7s\n",
      "560:\tlearn: 1463.8785105\ttotal: 1m 25s\tremaining: 1m 6s\n",
      "561:\tlearn: 1463.7680047\ttotal: 1m 25s\tremaining: 1m 6s\n",
      "562:\tlearn: 1463.5756030\ttotal: 1m 25s\tremaining: 1m 6s\n",
      "563:\tlearn: 1463.2826506\ttotal: 1m 25s\tremaining: 1m 6s\n",
      "564:\tlearn: 1462.9990183\ttotal: 1m 26s\tremaining: 1m 6s\n",
      "565:\tlearn: 1462.6063960\ttotal: 1m 26s\tremaining: 1m 6s\n",
      "566:\tlearn: 1462.4350864\ttotal: 1m 26s\tremaining: 1m 5s\n",
      "567:\tlearn: 1462.2771560\ttotal: 1m 26s\tremaining: 1m 5s\n",
      "568:\tlearn: 1462.0254587\ttotal: 1m 26s\tremaining: 1m 5s\n",
      "569:\tlearn: 1461.6345207\ttotal: 1m 26s\tremaining: 1m 5s\n",
      "570:\tlearn: 1461.5019684\ttotal: 1m 26s\tremaining: 1m 5s\n",
      "571:\tlearn: 1461.3404462\ttotal: 1m 26s\tremaining: 1m 5s\n",
      "572:\tlearn: 1461.3194961\ttotal: 1m 27s\tremaining: 1m 4s\n",
      "573:\tlearn: 1461.2589742\ttotal: 1m 27s\tremaining: 1m 4s\n",
      "574:\tlearn: 1461.1930745\ttotal: 1m 27s\tremaining: 1m 4s\n",
      "575:\tlearn: 1461.0094314\ttotal: 1m 27s\tremaining: 1m 4s\n",
      "576:\tlearn: 1460.9512620\ttotal: 1m 27s\tremaining: 1m 4s\n",
      "577:\tlearn: 1460.7718233\ttotal: 1m 27s\tremaining: 1m 4s\n",
      "578:\tlearn: 1460.4979544\ttotal: 1m 28s\tremaining: 1m 4s\n",
      "579:\tlearn: 1460.3833499\ttotal: 1m 28s\tremaining: 1m 3s\n",
      "580:\tlearn: 1460.1787417\ttotal: 1m 28s\tremaining: 1m 3s\n",
      "581:\tlearn: 1459.9860076\ttotal: 1m 28s\tremaining: 1m 3s\n",
      "582:\tlearn: 1459.8676720\ttotal: 1m 28s\tremaining: 1m 3s\n",
      "583:\tlearn: 1459.7438424\ttotal: 1m 28s\tremaining: 1m 3s\n",
      "584:\tlearn: 1459.5803717\ttotal: 1m 28s\tremaining: 1m 3s\n",
      "585:\tlearn: 1459.4843158\ttotal: 1m 29s\tremaining: 1m 2s\n",
      "586:\tlearn: 1459.2150980\ttotal: 1m 29s\tremaining: 1m 2s\n",
      "587:\tlearn: 1458.9907906\ttotal: 1m 29s\tremaining: 1m 2s\n",
      "588:\tlearn: 1458.8213084\ttotal: 1m 29s\tremaining: 1m 2s\n",
      "589:\tlearn: 1458.6455989\ttotal: 1m 29s\tremaining: 1m 2s\n",
      "590:\tlearn: 1458.4771538\ttotal: 1m 29s\tremaining: 1m 2s\n",
      "591:\tlearn: 1458.3889183\ttotal: 1m 30s\tremaining: 1m 2s\n",
      "592:\tlearn: 1458.1683478\ttotal: 1m 30s\tremaining: 1m 1s\n",
      "593:\tlearn: 1457.8783487\ttotal: 1m 30s\tremaining: 1m 1s\n",
      "594:\tlearn: 1457.8290096\ttotal: 1m 30s\tremaining: 1m 1s\n",
      "595:\tlearn: 1457.6831982\ttotal: 1m 30s\tremaining: 1m 1s\n",
      "596:\tlearn: 1457.3104566\ttotal: 1m 30s\tremaining: 1m 1s\n",
      "597:\tlearn: 1457.0779382\ttotal: 1m 31s\tremaining: 1m 1s\n",
      "598:\tlearn: 1456.9159154\ttotal: 1m 31s\tremaining: 1m 1s\n",
      "599:\tlearn: 1456.6856285\ttotal: 1m 31s\tremaining: 1m\n",
      "600:\tlearn: 1456.5529649\ttotal: 1m 31s\tremaining: 1m\n",
      "601:\tlearn: 1456.4006771\ttotal: 1m 31s\tremaining: 1m\n",
      "602:\tlearn: 1456.2810305\ttotal: 1m 31s\tremaining: 1m\n",
      "603:\tlearn: 1456.1094226\ttotal: 1m 32s\tremaining: 1m\n",
      "604:\tlearn: 1455.9406411\ttotal: 1m 32s\tremaining: 1m\n",
      "605:\tlearn: 1455.8050184\ttotal: 1m 32s\tremaining: 1m\n",
      "606:\tlearn: 1455.5228436\ttotal: 1m 32s\tremaining: 59.9s\n",
      "607:\tlearn: 1455.4401596\ttotal: 1m 32s\tremaining: 59.7s\n",
      "608:\tlearn: 1455.3825124\ttotal: 1m 32s\tremaining: 59.6s\n",
      "609:\tlearn: 1455.2555836\ttotal: 1m 32s\tremaining: 59.4s\n",
      "610:\tlearn: 1455.0758470\ttotal: 1m 33s\tremaining: 59.3s\n",
      "611:\tlearn: 1454.8972409\ttotal: 1m 33s\tremaining: 59.1s\n",
      "612:\tlearn: 1454.7562432\ttotal: 1m 33s\tremaining: 58.9s\n",
      "613:\tlearn: 1454.4241865\ttotal: 1m 33s\tremaining: 58.8s\n",
      "614:\tlearn: 1454.3162947\ttotal: 1m 33s\tremaining: 58.6s\n",
      "615:\tlearn: 1454.2382458\ttotal: 1m 33s\tremaining: 58.5s\n",
      "616:\tlearn: 1454.1772500\ttotal: 1m 33s\tremaining: 58.3s\n",
      "617:\tlearn: 1454.0264054\ttotal: 1m 34s\tremaining: 58.2s\n",
      "618:\tlearn: 1453.9065661\ttotal: 1m 34s\tremaining: 58s\n",
      "619:\tlearn: 1453.6006501\ttotal: 1m 34s\tremaining: 57.9s\n",
      "620:\tlearn: 1453.1984035\ttotal: 1m 34s\tremaining: 57.7s\n",
      "621:\tlearn: 1452.8446128\ttotal: 1m 34s\tremaining: 57.6s\n",
      "622:\tlearn: 1452.5761943\ttotal: 1m 34s\tremaining: 57.4s\n",
      "623:\tlearn: 1452.3491982\ttotal: 1m 35s\tremaining: 57.3s\n",
      "624:\tlearn: 1452.1160708\ttotal: 1m 35s\tremaining: 57.2s\n",
      "625:\tlearn: 1451.9955468\ttotal: 1m 35s\tremaining: 57s\n",
      "626:\tlearn: 1451.8975466\ttotal: 1m 35s\tremaining: 56.9s\n",
      "627:\tlearn: 1451.6712272\ttotal: 1m 35s\tremaining: 56.7s\n",
      "628:\tlearn: 1451.5781341\ttotal: 1m 35s\tremaining: 56.6s\n",
      "629:\tlearn: 1451.2188600\ttotal: 1m 36s\tremaining: 56.4s\n",
      "630:\tlearn: 1451.1193864\ttotal: 1m 36s\tremaining: 56.3s\n",
      "631:\tlearn: 1450.7498549\ttotal: 1m 36s\tremaining: 56.1s\n",
      "632:\tlearn: 1450.4890237\ttotal: 1m 36s\tremaining: 56s\n",
      "633:\tlearn: 1450.2060034\ttotal: 1m 36s\tremaining: 55.8s\n",
      "634:\tlearn: 1450.0761484\ttotal: 1m 36s\tremaining: 55.6s\n",
      "635:\tlearn: 1449.8855738\ttotal: 1m 37s\tremaining: 55.5s\n",
      "636:\tlearn: 1449.8428262\ttotal: 1m 37s\tremaining: 55.3s\n",
      "637:\tlearn: 1449.6142362\ttotal: 1m 37s\tremaining: 55.2s\n",
      "638:\tlearn: 1449.5821890\ttotal: 1m 37s\tremaining: 55.1s\n",
      "639:\tlearn: 1449.4805392\ttotal: 1m 37s\tremaining: 54.9s\n",
      "640:\tlearn: 1449.2717354\ttotal: 1m 37s\tremaining: 54.7s\n",
      "641:\tlearn: 1449.0009013\ttotal: 1m 37s\tremaining: 54.6s\n",
      "642:\tlearn: 1448.9740347\ttotal: 1m 38s\tremaining: 54.4s\n",
      "643:\tlearn: 1448.9231336\ttotal: 1m 38s\tremaining: 54.3s\n",
      "644:\tlearn: 1448.8204826\ttotal: 1m 38s\tremaining: 54.1s\n",
      "645:\tlearn: 1448.6174818\ttotal: 1m 38s\tremaining: 53.9s\n",
      "646:\tlearn: 1448.3627990\ttotal: 1m 38s\tremaining: 53.8s\n",
      "647:\tlearn: 1448.2880164\ttotal: 1m 38s\tremaining: 53.6s\n",
      "648:\tlearn: 1448.0641832\ttotal: 1m 38s\tremaining: 53.5s\n",
      "649:\tlearn: 1447.8520724\ttotal: 1m 39s\tremaining: 53.3s\n",
      "650:\tlearn: 1447.7015385\ttotal: 1m 39s\tremaining: 53.2s\n",
      "651:\tlearn: 1447.5641446\ttotal: 1m 39s\tremaining: 53.1s\n",
      "652:\tlearn: 1446.9901946\ttotal: 1m 39s\tremaining: 52.9s\n",
      "653:\tlearn: 1446.8005526\ttotal: 1m 39s\tremaining: 52.8s\n",
      "654:\tlearn: 1446.6811519\ttotal: 1m 39s\tremaining: 52.6s\n",
      "655:\tlearn: 1446.5117271\ttotal: 1m 40s\tremaining: 52.5s\n",
      "656:\tlearn: 1446.2597321\ttotal: 1m 40s\tremaining: 52.3s\n",
      "657:\tlearn: 1446.2053752\ttotal: 1m 40s\tremaining: 52.2s\n",
      "658:\tlearn: 1446.0423328\ttotal: 1m 40s\tremaining: 52s\n",
      "659:\tlearn: 1445.8630901\ttotal: 1m 40s\tremaining: 51.9s\n",
      "660:\tlearn: 1445.5761008\ttotal: 1m 40s\tremaining: 51.8s\n",
      "661:\tlearn: 1445.4971989\ttotal: 1m 41s\tremaining: 51.6s\n",
      "662:\tlearn: 1445.4293416\ttotal: 1m 41s\tremaining: 51.4s\n",
      "663:\tlearn: 1445.3427877\ttotal: 1m 41s\tremaining: 51.3s\n",
      "664:\tlearn: 1445.2206565\ttotal: 1m 41s\tremaining: 51.2s\n",
      "665:\tlearn: 1445.1040709\ttotal: 1m 41s\tremaining: 51s\n",
      "666:\tlearn: 1445.0355329\ttotal: 1m 41s\tremaining: 50.9s\n",
      "667:\tlearn: 1444.9633093\ttotal: 1m 42s\tremaining: 50.7s\n",
      "668:\tlearn: 1444.9013813\ttotal: 1m 42s\tremaining: 50.6s\n",
      "669:\tlearn: 1444.8052972\ttotal: 1m 42s\tremaining: 50.4s\n",
      "670:\tlearn: 1444.7369417\ttotal: 1m 42s\tremaining: 50.3s\n",
      "671:\tlearn: 1444.5175813\ttotal: 1m 42s\tremaining: 50.1s\n",
      "672:\tlearn: 1444.4098647\ttotal: 1m 42s\tremaining: 50s\n",
      "673:\tlearn: 1444.2194990\ttotal: 1m 43s\tremaining: 49.8s\n",
      "674:\tlearn: 1444.0438222\ttotal: 1m 43s\tremaining: 49.7s\n",
      "675:\tlearn: 1443.9270655\ttotal: 1m 43s\tremaining: 49.5s\n",
      "676:\tlearn: 1443.7986740\ttotal: 1m 43s\tremaining: 49.4s\n",
      "677:\tlearn: 1443.4517437\ttotal: 1m 43s\tremaining: 49.2s\n",
      "678:\tlearn: 1443.2570781\ttotal: 1m 43s\tremaining: 49.1s\n",
      "679:\tlearn: 1443.1681984\ttotal: 1m 43s\tremaining: 48.9s\n",
      "680:\tlearn: 1443.1188267\ttotal: 1m 44s\tremaining: 48.8s\n",
      "681:\tlearn: 1443.0409245\ttotal: 1m 44s\tremaining: 48.6s\n",
      "682:\tlearn: 1442.9077818\ttotal: 1m 44s\tremaining: 48.5s\n",
      "683:\tlearn: 1442.8765572\ttotal: 1m 44s\tremaining: 48.3s\n",
      "684:\tlearn: 1442.7481558\ttotal: 1m 44s\tremaining: 48.2s\n",
      "685:\tlearn: 1442.5988584\ttotal: 1m 44s\tremaining: 48s\n",
      "686:\tlearn: 1442.3945878\ttotal: 1m 45s\tremaining: 47.9s\n",
      "687:\tlearn: 1442.1215827\ttotal: 1m 45s\tremaining: 47.7s\n",
      "688:\tlearn: 1442.0407308\ttotal: 1m 45s\tremaining: 47.6s\n",
      "689:\tlearn: 1441.8180658\ttotal: 1m 45s\tremaining: 47.4s\n",
      "690:\tlearn: 1441.6748134\ttotal: 1m 45s\tremaining: 47.3s\n",
      "691:\tlearn: 1441.3490790\ttotal: 1m 45s\tremaining: 47.1s\n",
      "692:\tlearn: 1441.0943745\ttotal: 1m 45s\tremaining: 47s\n",
      "693:\tlearn: 1440.9403530\ttotal: 1m 46s\tremaining: 46.8s\n",
      "694:\tlearn: 1440.8713443\ttotal: 1m 46s\tremaining: 46.7s\n",
      "695:\tlearn: 1440.6418979\ttotal: 1m 46s\tremaining: 46.5s\n",
      "696:\tlearn: 1440.6020158\ttotal: 1m 46s\tremaining: 46.4s\n",
      "697:\tlearn: 1440.3218758\ttotal: 1m 46s\tremaining: 46.2s\n",
      "698:\tlearn: 1440.2214959\ttotal: 1m 47s\tremaining: 46.1s\n",
      "699:\tlearn: 1440.0414805\ttotal: 1m 47s\tremaining: 46s\n",
      "700:\tlearn: 1439.9636394\ttotal: 1m 47s\tremaining: 45.8s\n",
      "701:\tlearn: 1439.8459112\ttotal: 1m 47s\tremaining: 45.6s\n",
      "702:\tlearn: 1439.6314918\ttotal: 1m 47s\tremaining: 45.5s\n",
      "703:\tlearn: 1439.4903991\ttotal: 1m 47s\tremaining: 45.3s\n",
      "704:\tlearn: 1439.3005386\ttotal: 1m 47s\tremaining: 45.2s\n",
      "705:\tlearn: 1439.1864116\ttotal: 1m 48s\tremaining: 45s\n",
      "706:\tlearn: 1439.0767118\ttotal: 1m 48s\tremaining: 44.9s\n",
      "707:\tlearn: 1438.9581223\ttotal: 1m 48s\tremaining: 44.7s\n",
      "708:\tlearn: 1438.8777478\ttotal: 1m 48s\tremaining: 44.6s\n",
      "709:\tlearn: 1438.7114729\ttotal: 1m 48s\tremaining: 44.4s\n",
      "710:\tlearn: 1438.4062819\ttotal: 1m 48s\tremaining: 44.3s\n",
      "711:\tlearn: 1438.2038860\ttotal: 1m 48s\tremaining: 44.1s\n",
      "712:\tlearn: 1437.9924371\ttotal: 1m 49s\tremaining: 43.9s\n",
      "713:\tlearn: 1437.6764427\ttotal: 1m 49s\tremaining: 43.8s\n",
      "714:\tlearn: 1437.6631546\ttotal: 1m 49s\tremaining: 43.6s\n",
      "715:\tlearn: 1437.5022869\ttotal: 1m 49s\tremaining: 43.5s\n",
      "716:\tlearn: 1437.3366466\ttotal: 1m 49s\tremaining: 43.3s\n",
      "717:\tlearn: 1437.3004936\ttotal: 1m 49s\tremaining: 43.2s\n",
      "718:\tlearn: 1437.1695083\ttotal: 1m 50s\tremaining: 43s\n",
      "719:\tlearn: 1437.0706546\ttotal: 1m 50s\tremaining: 42.9s\n",
      "720:\tlearn: 1436.9668565\ttotal: 1m 50s\tremaining: 42.7s\n",
      "721:\tlearn: 1436.9565114\ttotal: 1m 50s\tremaining: 42.6s\n",
      "722:\tlearn: 1436.7355108\ttotal: 1m 50s\tremaining: 42.4s\n",
      "723:\tlearn: 1436.6464641\ttotal: 1m 50s\tremaining: 42.3s\n",
      "724:\tlearn: 1436.4144757\ttotal: 1m 51s\tremaining: 42.1s\n",
      "725:\tlearn: 1436.3337388\ttotal: 1m 51s\tremaining: 42s\n",
      "726:\tlearn: 1436.1907602\ttotal: 1m 51s\tremaining: 41.8s\n",
      "727:\tlearn: 1436.1117431\ttotal: 1m 51s\tremaining: 41.7s\n",
      "728:\tlearn: 1435.8720710\ttotal: 1m 51s\tremaining: 41.5s\n",
      "729:\tlearn: 1435.7842986\ttotal: 1m 51s\tremaining: 41.4s\n",
      "730:\tlearn: 1435.6566733\ttotal: 1m 52s\tremaining: 41.2s\n",
      "731:\tlearn: 1435.5882787\ttotal: 1m 52s\tremaining: 41.1s\n",
      "732:\tlearn: 1435.5182704\ttotal: 1m 52s\tremaining: 40.9s\n",
      "733:\tlearn: 1435.5073345\ttotal: 1m 52s\tremaining: 40.8s\n",
      "734:\tlearn: 1435.3602234\ttotal: 1m 52s\tremaining: 40.6s\n",
      "735:\tlearn: 1435.2495939\ttotal: 1m 52s\tremaining: 40.5s\n",
      "736:\tlearn: 1435.0555579\ttotal: 1m 52s\tremaining: 40.3s\n",
      "737:\tlearn: 1434.9218291\ttotal: 1m 53s\tremaining: 40.2s\n",
      "738:\tlearn: 1434.7947322\ttotal: 1m 53s\tremaining: 40s\n",
      "739:\tlearn: 1434.7067161\ttotal: 1m 53s\tremaining: 39.9s\n",
      "740:\tlearn: 1434.4083683\ttotal: 1m 53s\tremaining: 39.7s\n",
      "741:\tlearn: 1434.2993510\ttotal: 1m 53s\tremaining: 39.6s\n",
      "742:\tlearn: 1434.1156892\ttotal: 1m 53s\tremaining: 39.4s\n",
      "743:\tlearn: 1433.8752370\ttotal: 1m 54s\tremaining: 39.3s\n",
      "744:\tlearn: 1433.8228028\ttotal: 1m 54s\tremaining: 39.1s\n",
      "745:\tlearn: 1433.6336925\ttotal: 1m 54s\tremaining: 39s\n",
      "746:\tlearn: 1433.4929496\ttotal: 1m 54s\tremaining: 38.8s\n",
      "747:\tlearn: 1433.4383658\ttotal: 1m 54s\tremaining: 38.7s\n",
      "748:\tlearn: 1433.3019196\ttotal: 1m 54s\tremaining: 38.5s\n",
      "749:\tlearn: 1433.1706928\ttotal: 1m 55s\tremaining: 38.4s\n",
      "750:\tlearn: 1432.9842967\ttotal: 1m 55s\tremaining: 38.2s\n",
      "751:\tlearn: 1432.7059856\ttotal: 1m 55s\tremaining: 38.1s\n",
      "752:\tlearn: 1432.5518201\ttotal: 1m 55s\tremaining: 37.9s\n",
      "753:\tlearn: 1432.4386272\ttotal: 1m 55s\tremaining: 37.8s\n",
      "754:\tlearn: 1432.2339024\ttotal: 1m 55s\tremaining: 37.6s\n",
      "755:\tlearn: 1432.0362108\ttotal: 1m 56s\tremaining: 37.5s\n",
      "756:\tlearn: 1431.8010289\ttotal: 1m 56s\tremaining: 37.3s\n",
      "757:\tlearn: 1431.7235933\ttotal: 1m 56s\tremaining: 37.2s\n",
      "758:\tlearn: 1431.3549172\ttotal: 1m 56s\tremaining: 37s\n",
      "759:\tlearn: 1431.0852159\ttotal: 1m 56s\tremaining: 36.9s\n",
      "760:\tlearn: 1430.9515965\ttotal: 1m 56s\tremaining: 36.7s\n",
      "761:\tlearn: 1430.7168027\ttotal: 1m 57s\tremaining: 36.6s\n",
      "762:\tlearn: 1430.6150879\ttotal: 1m 57s\tremaining: 36.4s\n",
      "763:\tlearn: 1430.5675074\ttotal: 1m 57s\tremaining: 36.3s\n",
      "764:\tlearn: 1430.5339325\ttotal: 1m 57s\tremaining: 36.1s\n",
      "765:\tlearn: 1430.3226894\ttotal: 1m 57s\tremaining: 36s\n",
      "766:\tlearn: 1430.2970921\ttotal: 1m 57s\tremaining: 35.8s\n",
      "767:\tlearn: 1430.0870586\ttotal: 1m 58s\tremaining: 35.7s\n",
      "768:\tlearn: 1429.8002909\ttotal: 1m 58s\tremaining: 35.5s\n",
      "769:\tlearn: 1429.7384728\ttotal: 1m 58s\tremaining: 35.4s\n",
      "770:\tlearn: 1429.5312660\ttotal: 1m 58s\tremaining: 35.2s\n",
      "771:\tlearn: 1429.3329684\ttotal: 1m 58s\tremaining: 35.1s\n",
      "772:\tlearn: 1429.2814195\ttotal: 1m 58s\tremaining: 34.9s\n",
      "773:\tlearn: 1429.1127991\ttotal: 1m 59s\tremaining: 34.7s\n",
      "774:\tlearn: 1428.9171970\ttotal: 1m 59s\tremaining: 34.6s\n",
      "775:\tlearn: 1428.8312924\ttotal: 1m 59s\tremaining: 34.5s\n",
      "776:\tlearn: 1428.7194319\ttotal: 1m 59s\tremaining: 34.3s\n",
      "777:\tlearn: 1428.6118414\ttotal: 1m 59s\tremaining: 34.2s\n",
      "778:\tlearn: 1428.4538598\ttotal: 1m 59s\tremaining: 34s\n",
      "779:\tlearn: 1428.0987076\ttotal: 2m\tremaining: 33.9s\n",
      "780:\tlearn: 1427.8095324\ttotal: 2m\tremaining: 33.7s\n",
      "781:\tlearn: 1427.6590117\ttotal: 2m\tremaining: 33.6s\n",
      "782:\tlearn: 1427.5150541\ttotal: 2m\tremaining: 33.4s\n",
      "783:\tlearn: 1427.3156566\ttotal: 2m\tremaining: 33.3s\n",
      "784:\tlearn: 1427.1600250\ttotal: 2m\tremaining: 33.1s\n",
      "785:\tlearn: 1427.0466590\ttotal: 2m 1s\tremaining: 33s\n",
      "786:\tlearn: 1426.9632507\ttotal: 2m 1s\tremaining: 32.8s\n",
      "787:\tlearn: 1426.8506789\ttotal: 2m 1s\tremaining: 32.7s\n",
      "788:\tlearn: 1426.6293050\ttotal: 2m 1s\tremaining: 32.5s\n",
      "789:\tlearn: 1426.4595438\ttotal: 2m 1s\tremaining: 32.4s\n",
      "790:\tlearn: 1426.4169996\ttotal: 2m 1s\tremaining: 32.2s\n",
      "791:\tlearn: 1426.2307192\ttotal: 2m 2s\tremaining: 32.1s\n",
      "792:\tlearn: 1426.0825029\ttotal: 2m 2s\tremaining: 31.9s\n",
      "793:\tlearn: 1425.8915511\ttotal: 2m 2s\tremaining: 31.8s\n",
      "794:\tlearn: 1425.6293648\ttotal: 2m 2s\tremaining: 31.6s\n",
      "795:\tlearn: 1425.6108521\ttotal: 2m 2s\tremaining: 31.5s\n",
      "796:\tlearn: 1425.3878236\ttotal: 2m 3s\tremaining: 31.3s\n",
      "797:\tlearn: 1425.2237810\ttotal: 2m 3s\tremaining: 31.2s\n",
      "798:\tlearn: 1425.1139221\ttotal: 2m 3s\tremaining: 31s\n",
      "799:\tlearn: 1425.0708542\ttotal: 2m 3s\tremaining: 30.9s\n",
      "800:\tlearn: 1424.9914006\ttotal: 2m 3s\tremaining: 30.7s\n",
      "801:\tlearn: 1424.7677255\ttotal: 2m 3s\tremaining: 30.6s\n",
      "802:\tlearn: 1424.6149397\ttotal: 2m 4s\tremaining: 30.4s\n",
      "803:\tlearn: 1424.5071896\ttotal: 2m 4s\tremaining: 30.3s\n",
      "804:\tlearn: 1424.3071904\ttotal: 2m 4s\tremaining: 30.1s\n",
      "805:\tlearn: 1424.2320849\ttotal: 2m 4s\tremaining: 30s\n",
      "806:\tlearn: 1424.1907445\ttotal: 2m 4s\tremaining: 29.8s\n",
      "807:\tlearn: 1423.9590719\ttotal: 2m 4s\tremaining: 29.7s\n",
      "808:\tlearn: 1423.8432098\ttotal: 2m 4s\tremaining: 29.5s\n",
      "809:\tlearn: 1423.6728101\ttotal: 2m 5s\tremaining: 29.3s\n",
      "810:\tlearn: 1423.6391649\ttotal: 2m 5s\tremaining: 29.2s\n",
      "811:\tlearn: 1423.5093431\ttotal: 2m 5s\tremaining: 29s\n",
      "812:\tlearn: 1423.4428894\ttotal: 2m 5s\tremaining: 28.9s\n",
      "813:\tlearn: 1423.3534595\ttotal: 2m 5s\tremaining: 28.7s\n",
      "814:\tlearn: 1423.2559217\ttotal: 2m 5s\tremaining: 28.6s\n",
      "815:\tlearn: 1423.1102329\ttotal: 2m 6s\tremaining: 28.4s\n",
      "816:\tlearn: 1423.0072907\ttotal: 2m 6s\tremaining: 28.3s\n",
      "817:\tlearn: 1422.9051637\ttotal: 2m 6s\tremaining: 28.2s\n",
      "818:\tlearn: 1422.6255049\ttotal: 2m 6s\tremaining: 28s\n",
      "819:\tlearn: 1422.3889817\ttotal: 2m 6s\tremaining: 27.9s\n",
      "820:\tlearn: 1422.3183327\ttotal: 2m 7s\tremaining: 27.7s\n",
      "821:\tlearn: 1422.2476542\ttotal: 2m 7s\tremaining: 27.6s\n",
      "822:\tlearn: 1421.9600693\ttotal: 2m 7s\tremaining: 27.4s\n",
      "823:\tlearn: 1421.8565252\ttotal: 2m 7s\tremaining: 27.2s\n",
      "824:\tlearn: 1421.5852520\ttotal: 2m 7s\tremaining: 27.1s\n",
      "825:\tlearn: 1421.5429985\ttotal: 2m 7s\tremaining: 26.9s\n",
      "826:\tlearn: 1421.4092300\ttotal: 2m 8s\tremaining: 26.8s\n",
      "827:\tlearn: 1421.3686195\ttotal: 2m 8s\tremaining: 26.6s\n",
      "828:\tlearn: 1421.2940290\ttotal: 2m 8s\tremaining: 26.5s\n",
      "829:\tlearn: 1421.2456598\ttotal: 2m 8s\tremaining: 26.3s\n",
      "830:\tlearn: 1421.1934213\ttotal: 2m 8s\tremaining: 26.2s\n",
      "831:\tlearn: 1420.9919244\ttotal: 2m 8s\tremaining: 26s\n",
      "832:\tlearn: 1420.8556861\ttotal: 2m 8s\tremaining: 25.8s\n",
      "833:\tlearn: 1420.7703855\ttotal: 2m 9s\tremaining: 25.7s\n",
      "834:\tlearn: 1420.5905694\ttotal: 2m 9s\tremaining: 25.5s\n",
      "835:\tlearn: 1420.3838409\ttotal: 2m 9s\tremaining: 25.4s\n",
      "836:\tlearn: 1420.2043380\ttotal: 2m 9s\tremaining: 25.2s\n",
      "837:\tlearn: 1419.9577894\ttotal: 2m 9s\tremaining: 25.1s\n",
      "838:\tlearn: 1419.6966751\ttotal: 2m 9s\tremaining: 24.9s\n",
      "839:\tlearn: 1419.5064214\ttotal: 2m 9s\tremaining: 24.8s\n",
      "840:\tlearn: 1419.3881364\ttotal: 2m 10s\tremaining: 24.6s\n",
      "841:\tlearn: 1419.3474982\ttotal: 2m 10s\tremaining: 24.4s\n",
      "842:\tlearn: 1419.1795315\ttotal: 2m 10s\tremaining: 24.3s\n",
      "843:\tlearn: 1419.0679623\ttotal: 2m 10s\tremaining: 24.1s\n",
      "844:\tlearn: 1418.9687181\ttotal: 2m 10s\tremaining: 24s\n",
      "845:\tlearn: 1418.8947671\ttotal: 2m 10s\tremaining: 23.8s\n",
      "846:\tlearn: 1418.5751808\ttotal: 2m 10s\tremaining: 23.7s\n",
      "847:\tlearn: 1418.5223049\ttotal: 2m 11s\tremaining: 23.5s\n",
      "848:\tlearn: 1418.4406607\ttotal: 2m 11s\tremaining: 23.4s\n",
      "849:\tlearn: 1418.3392461\ttotal: 2m 11s\tremaining: 23.2s\n",
      "850:\tlearn: 1418.1022727\ttotal: 2m 11s\tremaining: 23.1s\n",
      "851:\tlearn: 1417.9565840\ttotal: 2m 11s\tremaining: 22.9s\n",
      "852:\tlearn: 1417.7779703\ttotal: 2m 12s\tremaining: 22.8s\n",
      "853:\tlearn: 1417.6453039\ttotal: 2m 12s\tremaining: 22.6s\n",
      "854:\tlearn: 1417.5021930\ttotal: 2m 12s\tremaining: 22.5s\n",
      "855:\tlearn: 1417.3046988\ttotal: 2m 12s\tremaining: 22.3s\n",
      "856:\tlearn: 1417.2168099\ttotal: 2m 12s\tremaining: 22.2s\n",
      "857:\tlearn: 1417.1917029\ttotal: 2m 12s\tremaining: 22s\n",
      "858:\tlearn: 1417.0229250\ttotal: 2m 13s\tremaining: 21.9s\n",
      "859:\tlearn: 1416.9114806\ttotal: 2m 13s\tremaining: 21.7s\n",
      "860:\tlearn: 1416.8099789\ttotal: 2m 13s\tremaining: 21.6s\n",
      "861:\tlearn: 1416.5262445\ttotal: 2m 13s\tremaining: 21.4s\n",
      "862:\tlearn: 1416.4190966\ttotal: 2m 13s\tremaining: 21.3s\n",
      "863:\tlearn: 1416.3479832\ttotal: 2m 14s\tremaining: 21.1s\n",
      "864:\tlearn: 1416.2959131\ttotal: 2m 14s\tremaining: 20.9s\n",
      "865:\tlearn: 1416.1748338\ttotal: 2m 14s\tremaining: 20.8s\n",
      "866:\tlearn: 1416.0867719\ttotal: 2m 14s\tremaining: 20.6s\n",
      "867:\tlearn: 1415.7006323\ttotal: 2m 14s\tremaining: 20.5s\n",
      "868:\tlearn: 1415.5537749\ttotal: 2m 14s\tremaining: 20.3s\n",
      "869:\tlearn: 1415.4245617\ttotal: 2m 14s\tremaining: 20.2s\n",
      "870:\tlearn: 1415.3736339\ttotal: 2m 15s\tremaining: 20s\n",
      "871:\tlearn: 1415.3218476\ttotal: 2m 15s\tremaining: 19.9s\n",
      "872:\tlearn: 1415.1836542\ttotal: 2m 15s\tremaining: 19.7s\n",
      "873:\tlearn: 1414.9540464\ttotal: 2m 15s\tremaining: 19.5s\n",
      "874:\tlearn: 1414.8039596\ttotal: 2m 15s\tremaining: 19.4s\n",
      "875:\tlearn: 1414.6748116\ttotal: 2m 15s\tremaining: 19.2s\n",
      "876:\tlearn: 1414.6070432\ttotal: 2m 16s\tremaining: 19.1s\n",
      "877:\tlearn: 1414.5190073\ttotal: 2m 16s\tremaining: 18.9s\n",
      "878:\tlearn: 1414.3978560\ttotal: 2m 16s\tremaining: 18.8s\n",
      "879:\tlearn: 1414.1869763\ttotal: 2m 16s\tremaining: 18.6s\n",
      "880:\tlearn: 1414.0298556\ttotal: 2m 16s\tremaining: 18.5s\n",
      "881:\tlearn: 1413.9703110\ttotal: 2m 17s\tremaining: 18.3s\n",
      "882:\tlearn: 1413.9128053\ttotal: 2m 17s\tremaining: 18.2s\n",
      "883:\tlearn: 1413.8215416\ttotal: 2m 17s\tremaining: 18s\n",
      "884:\tlearn: 1413.6249360\ttotal: 2m 17s\tremaining: 17.9s\n",
      "885:\tlearn: 1413.3789981\ttotal: 2m 17s\tremaining: 17.7s\n",
      "886:\tlearn: 1413.3242723\ttotal: 2m 17s\tremaining: 17.5s\n",
      "887:\tlearn: 1413.1539449\ttotal: 2m 17s\tremaining: 17.4s\n",
      "888:\tlearn: 1413.1186571\ttotal: 2m 18s\tremaining: 17.2s\n",
      "889:\tlearn: 1413.0239542\ttotal: 2m 18s\tremaining: 17.1s\n",
      "890:\tlearn: 1412.8951905\ttotal: 2m 18s\tremaining: 16.9s\n",
      "891:\tlearn: 1412.8257423\ttotal: 2m 18s\tremaining: 16.8s\n",
      "892:\tlearn: 1412.6605589\ttotal: 2m 18s\tremaining: 16.6s\n",
      "893:\tlearn: 1412.5337758\ttotal: 2m 18s\tremaining: 16.4s\n",
      "894:\tlearn: 1412.4758273\ttotal: 2m 18s\tremaining: 16.3s\n",
      "895:\tlearn: 1412.3362555\ttotal: 2m 18s\tremaining: 16.1s\n",
      "896:\tlearn: 1412.1141590\ttotal: 2m 19s\tremaining: 16s\n",
      "897:\tlearn: 1412.0780747\ttotal: 2m 19s\tremaining: 15.8s\n",
      "898:\tlearn: 1412.0050382\ttotal: 2m 19s\tremaining: 15.7s\n",
      "899:\tlearn: 1411.9024231\ttotal: 2m 19s\tremaining: 15.5s\n",
      "900:\tlearn: 1411.8702419\ttotal: 2m 19s\tremaining: 15.3s\n",
      "901:\tlearn: 1411.7404812\ttotal: 2m 19s\tremaining: 15.2s\n",
      "902:\tlearn: 1411.5077947\ttotal: 2m 20s\tremaining: 15s\n",
      "903:\tlearn: 1411.2955311\ttotal: 2m 20s\tremaining: 14.9s\n",
      "904:\tlearn: 1411.1678221\ttotal: 2m 20s\tremaining: 14.7s\n",
      "905:\tlearn: 1411.1102333\ttotal: 2m 20s\tremaining: 14.6s\n",
      "906:\tlearn: 1410.9704623\ttotal: 2m 20s\tremaining: 14.4s\n",
      "907:\tlearn: 1410.7798500\ttotal: 2m 20s\tremaining: 14.3s\n",
      "908:\tlearn: 1410.6539785\ttotal: 2m 20s\tremaining: 14.1s\n",
      "909:\tlearn: 1410.6053871\ttotal: 2m 20s\tremaining: 13.9s\n",
      "910:\tlearn: 1410.5702799\ttotal: 2m 21s\tremaining: 13.8s\n",
      "911:\tlearn: 1410.4330372\ttotal: 2m 21s\tremaining: 13.6s\n",
      "912:\tlearn: 1410.2853785\ttotal: 2m 21s\tremaining: 13.5s\n",
      "913:\tlearn: 1410.1701529\ttotal: 2m 21s\tremaining: 13.3s\n",
      "914:\tlearn: 1410.0609595\ttotal: 2m 21s\tremaining: 13.2s\n",
      "915:\tlearn: 1409.9213711\ttotal: 2m 21s\tremaining: 13s\n",
      "916:\tlearn: 1409.7452303\ttotal: 2m 22s\tremaining: 12.9s\n",
      "917:\tlearn: 1409.6401372\ttotal: 2m 22s\tremaining: 12.7s\n",
      "918:\tlearn: 1409.4860665\ttotal: 2m 22s\tremaining: 12.5s\n",
      "919:\tlearn: 1409.4101150\ttotal: 2m 22s\tremaining: 12.4s\n",
      "920:\tlearn: 1409.2787834\ttotal: 2m 22s\tremaining: 12.2s\n",
      "921:\tlearn: 1409.1649141\ttotal: 2m 22s\tremaining: 12.1s\n",
      "922:\tlearn: 1409.0474318\ttotal: 2m 23s\tremaining: 11.9s\n",
      "923:\tlearn: 1408.7996234\ttotal: 2m 23s\tremaining: 11.8s\n",
      "924:\tlearn: 1408.5789484\ttotal: 2m 23s\tremaining: 11.6s\n",
      "925:\tlearn: 1408.4978429\ttotal: 2m 23s\tremaining: 11.5s\n",
      "926:\tlearn: 1408.3618677\ttotal: 2m 23s\tremaining: 11.3s\n",
      "927:\tlearn: 1408.1971762\ttotal: 2m 23s\tremaining: 11.2s\n",
      "928:\tlearn: 1408.0719872\ttotal: 2m 23s\tremaining: 11s\n",
      "929:\tlearn: 1407.9313016\ttotal: 2m 24s\tremaining: 10.8s\n",
      "930:\tlearn: 1407.8718579\ttotal: 2m 24s\tremaining: 10.7s\n",
      "931:\tlearn: 1407.8305047\ttotal: 2m 24s\tremaining: 10.5s\n",
      "932:\tlearn: 1407.7825500\ttotal: 2m 24s\tremaining: 10.4s\n",
      "933:\tlearn: 1407.6075276\ttotal: 2m 24s\tremaining: 10.2s\n",
      "934:\tlearn: 1407.5508093\ttotal: 2m 24s\tremaining: 10.1s\n",
      "935:\tlearn: 1407.3802087\ttotal: 2m 25s\tremaining: 9.92s\n",
      "936:\tlearn: 1407.3221330\ttotal: 2m 25s\tremaining: 9.77s\n",
      "937:\tlearn: 1407.2616183\ttotal: 2m 25s\tremaining: 9.62s\n",
      "938:\tlearn: 1407.1399081\ttotal: 2m 25s\tremaining: 9.46s\n",
      "939:\tlearn: 1406.9278966\ttotal: 2m 25s\tremaining: 9.3s\n",
      "940:\tlearn: 1406.8726237\ttotal: 2m 25s\tremaining: 9.15s\n",
      "941:\tlearn: 1406.7681585\ttotal: 2m 26s\tremaining: 8.99s\n",
      "942:\tlearn: 1406.6940385\ttotal: 2m 26s\tremaining: 8.84s\n",
      "943:\tlearn: 1406.6214514\ttotal: 2m 26s\tremaining: 8.69s\n",
      "944:\tlearn: 1406.4229631\ttotal: 2m 26s\tremaining: 8.54s\n",
      "945:\tlearn: 1406.3845918\ttotal: 2m 26s\tremaining: 8.38s\n",
      "946:\tlearn: 1406.2061173\ttotal: 2m 27s\tremaining: 8.23s\n",
      "947:\tlearn: 1406.1700378\ttotal: 2m 27s\tremaining: 8.07s\n",
      "948:\tlearn: 1406.1411230\ttotal: 2m 27s\tremaining: 7.92s\n",
      "949:\tlearn: 1405.9222959\ttotal: 2m 27s\tremaining: 7.76s\n",
      "950:\tlearn: 1405.8655407\ttotal: 2m 27s\tremaining: 7.61s\n",
      "951:\tlearn: 1405.7159987\ttotal: 2m 27s\tremaining: 7.45s\n",
      "952:\tlearn: 1405.5155723\ttotal: 2m 27s\tremaining: 7.3s\n",
      "953:\tlearn: 1405.3409570\ttotal: 2m 28s\tremaining: 7.14s\n",
      "954:\tlearn: 1405.2887216\ttotal: 2m 28s\tremaining: 6.99s\n",
      "955:\tlearn: 1405.2646569\ttotal: 2m 28s\tremaining: 6.83s\n",
      "956:\tlearn: 1405.1320106\ttotal: 2m 28s\tremaining: 6.68s\n",
      "957:\tlearn: 1405.1123633\ttotal: 2m 28s\tremaining: 6.52s\n",
      "958:\tlearn: 1405.0435332\ttotal: 2m 28s\tremaining: 6.37s\n",
      "959:\tlearn: 1404.9657863\ttotal: 2m 29s\tremaining: 6.21s\n",
      "960:\tlearn: 1404.8156824\ttotal: 2m 29s\tremaining: 6.05s\n",
      "961:\tlearn: 1404.5411329\ttotal: 2m 29s\tremaining: 5.9s\n",
      "962:\tlearn: 1404.5186236\ttotal: 2m 29s\tremaining: 5.74s\n",
      "963:\tlearn: 1404.4500376\ttotal: 2m 29s\tremaining: 5.59s\n",
      "964:\tlearn: 1404.2279646\ttotal: 2m 29s\tremaining: 5.43s\n",
      "965:\tlearn: 1404.1150069\ttotal: 2m 30s\tremaining: 5.28s\n",
      "966:\tlearn: 1404.0297384\ttotal: 2m 30s\tremaining: 5.13s\n",
      "967:\tlearn: 1403.8583857\ttotal: 2m 30s\tremaining: 4.97s\n",
      "968:\tlearn: 1403.6595964\ttotal: 2m 30s\tremaining: 4.82s\n",
      "969:\tlearn: 1403.5248351\ttotal: 2m 30s\tremaining: 4.66s\n",
      "970:\tlearn: 1403.3911661\ttotal: 2m 30s\tremaining: 4.51s\n",
      "971:\tlearn: 1403.2836225\ttotal: 2m 31s\tremaining: 4.35s\n",
      "972:\tlearn: 1403.0771778\ttotal: 2m 31s\tremaining: 4.2s\n",
      "973:\tlearn: 1402.8573504\ttotal: 2m 31s\tremaining: 4.04s\n",
      "974:\tlearn: 1402.8072709\ttotal: 2m 31s\tremaining: 3.89s\n",
      "975:\tlearn: 1402.7107903\ttotal: 2m 31s\tremaining: 3.73s\n",
      "976:\tlearn: 1402.5555015\ttotal: 2m 31s\tremaining: 3.58s\n",
      "977:\tlearn: 1402.4768254\ttotal: 2m 32s\tremaining: 3.42s\n",
      "978:\tlearn: 1402.4474695\ttotal: 2m 32s\tremaining: 3.27s\n",
      "979:\tlearn: 1402.3744208\ttotal: 2m 32s\tremaining: 3.11s\n",
      "980:\tlearn: 1402.3505221\ttotal: 2m 32s\tremaining: 2.95s\n",
      "981:\tlearn: 1402.2636334\ttotal: 2m 32s\tremaining: 2.8s\n",
      "982:\tlearn: 1402.1363754\ttotal: 2m 32s\tremaining: 2.64s\n",
      "983:\tlearn: 1401.9671806\ttotal: 2m 33s\tremaining: 2.49s\n",
      "984:\tlearn: 1401.7824610\ttotal: 2m 33s\tremaining: 2.33s\n",
      "985:\tlearn: 1401.7165652\ttotal: 2m 33s\tremaining: 2.18s\n",
      "986:\tlearn: 1401.6123664\ttotal: 2m 33s\tremaining: 2.02s\n",
      "987:\tlearn: 1401.5469012\ttotal: 2m 33s\tremaining: 1.87s\n",
      "988:\tlearn: 1401.4115842\ttotal: 2m 33s\tremaining: 1.71s\n",
      "989:\tlearn: 1401.3271045\ttotal: 2m 34s\tremaining: 1.55s\n",
      "990:\tlearn: 1401.2531720\ttotal: 2m 34s\tremaining: 1.4s\n",
      "991:\tlearn: 1401.1402712\ttotal: 2m 34s\tremaining: 1.24s\n",
      "992:\tlearn: 1401.0863045\ttotal: 2m 34s\tremaining: 1.09s\n",
      "993:\tlearn: 1401.0126420\ttotal: 2m 34s\tremaining: 933ms\n",
      "994:\tlearn: 1400.7713209\ttotal: 2m 34s\tremaining: 778ms\n",
      "995:\tlearn: 1400.5637266\ttotal: 2m 34s\tremaining: 622ms\n",
      "996:\tlearn: 1400.4535617\ttotal: 2m 35s\tremaining: 467ms\n",
      "997:\tlearn: 1400.2750895\ttotal: 2m 35s\tremaining: 311ms\n",
      "998:\tlearn: 1400.1825351\ttotal: 2m 35s\tremaining: 156ms\n",
      "999:\tlearn: 1400.1246307\ttotal: 2m 35s\tremaining: 0us\n",
      "Learning rate set to 0.086297\n",
      "0:\tlearn: 4374.9630725\ttotal: 234ms\tremaining: 3m 53s\n",
      "1:\tlearn: 4111.6162676\ttotal: 467ms\tremaining: 3m 53s\n",
      "2:\tlearn: 3876.1553056\ttotal: 638ms\tremaining: 3m 31s\n",
      "3:\tlearn: 3668.2099306\ttotal: 775ms\tremaining: 3m 13s\n",
      "4:\tlearn: 3474.2857160\ttotal: 928ms\tremaining: 3m 4s\n",
      "5:\tlearn: 3306.8701323\ttotal: 1.08s\tremaining: 2m 58s\n",
      "6:\tlearn: 3156.4209945\ttotal: 1.24s\tremaining: 2m 55s\n",
      "7:\tlearn: 3016.4872022\ttotal: 1.41s\tremaining: 2m 54s\n",
      "8:\tlearn: 2893.3534226\ttotal: 1.55s\tremaining: 2m 51s\n",
      "9:\tlearn: 2783.2139359\ttotal: 1.74s\tremaining: 2m 51s\n",
      "10:\tlearn: 2687.9466579\ttotal: 1.91s\tremaining: 2m 51s\n",
      "11:\tlearn: 2598.1428537\ttotal: 2.07s\tremaining: 2m 50s\n",
      "12:\tlearn: 2520.4356523\ttotal: 2.23s\tremaining: 2m 49s\n",
      "13:\tlearn: 2447.3521228\ttotal: 2.4s\tremaining: 2m 48s\n",
      "14:\tlearn: 2384.3104008\ttotal: 2.54s\tremaining: 2m 46s\n",
      "15:\tlearn: 2321.4258482\ttotal: 2.7s\tremaining: 2m 46s\n",
      "16:\tlearn: 2266.7529020\ttotal: 2.93s\tremaining: 2m 49s\n",
      "17:\tlearn: 2218.6130465\ttotal: 3.13s\tremaining: 2m 50s\n",
      "18:\tlearn: 2176.9543126\ttotal: 3.3s\tremaining: 2m 50s\n",
      "19:\tlearn: 2140.3893404\ttotal: 3.47s\tremaining: 2m 49s\n",
      "20:\tlearn: 2104.9846170\ttotal: 3.65s\tremaining: 2m 50s\n",
      "21:\tlearn: 2075.2562530\ttotal: 3.81s\tremaining: 2m 49s\n",
      "22:\tlearn: 2045.9317015\ttotal: 3.97s\tremaining: 2m 48s\n",
      "23:\tlearn: 2022.6469458\ttotal: 4.13s\tremaining: 2m 47s\n",
      "24:\tlearn: 1999.1700796\ttotal: 4.32s\tremaining: 2m 48s\n",
      "25:\tlearn: 1977.4679915\ttotal: 4.49s\tremaining: 2m 48s\n",
      "26:\tlearn: 1959.8311106\ttotal: 4.65s\tremaining: 2m 47s\n",
      "27:\tlearn: 1940.7421481\ttotal: 4.79s\tremaining: 2m 46s\n",
      "28:\tlearn: 1922.3300945\ttotal: 4.95s\tremaining: 2m 45s\n",
      "29:\tlearn: 1905.8550233\ttotal: 5.08s\tremaining: 2m 44s\n",
      "30:\tlearn: 1893.6020771\ttotal: 5.25s\tremaining: 2m 44s\n",
      "31:\tlearn: 1880.0522526\ttotal: 5.37s\tremaining: 2m 42s\n",
      "32:\tlearn: 1869.9912793\ttotal: 5.48s\tremaining: 2m 40s\n",
      "33:\tlearn: 1860.1795956\ttotal: 5.63s\tremaining: 2m 39s\n",
      "34:\tlearn: 1848.3095153\ttotal: 5.78s\tremaining: 2m 39s\n",
      "35:\tlearn: 1837.8211697\ttotal: 5.93s\tremaining: 2m 38s\n",
      "36:\tlearn: 1830.6936627\ttotal: 6.08s\tremaining: 2m 38s\n",
      "37:\tlearn: 1822.7626909\ttotal: 6.24s\tremaining: 2m 38s\n",
      "38:\tlearn: 1815.9599524\ttotal: 6.37s\tremaining: 2m 36s\n",
      "39:\tlearn: 1810.0567866\ttotal: 6.48s\tremaining: 2m 35s\n",
      "40:\tlearn: 1804.4597238\ttotal: 6.66s\tremaining: 2m 35s\n",
      "41:\tlearn: 1799.1534756\ttotal: 6.79s\tremaining: 2m 34s\n",
      "42:\tlearn: 1791.8363234\ttotal: 6.91s\tremaining: 2m 33s\n",
      "43:\tlearn: 1786.9946284\ttotal: 7.04s\tremaining: 2m 32s\n",
      "44:\tlearn: 1781.5211703\ttotal: 7.18s\tremaining: 2m 32s\n",
      "45:\tlearn: 1776.7973910\ttotal: 7.33s\tremaining: 2m 31s\n",
      "46:\tlearn: 1772.9676582\ttotal: 7.49s\tremaining: 2m 31s\n",
      "47:\tlearn: 1768.6440892\ttotal: 7.62s\tremaining: 2m 31s\n",
      "48:\tlearn: 1764.9360196\ttotal: 7.77s\tremaining: 2m 30s\n",
      "49:\tlearn: 1760.9151851\ttotal: 7.89s\tremaining: 2m 29s\n",
      "50:\tlearn: 1755.6045230\ttotal: 8.02s\tremaining: 2m 29s\n",
      "51:\tlearn: 1752.4469222\ttotal: 8.17s\tremaining: 2m 29s\n",
      "52:\tlearn: 1750.0077577\ttotal: 8.31s\tremaining: 2m 28s\n",
      "53:\tlearn: 1746.7747369\ttotal: 8.45s\tremaining: 2m 28s\n",
      "54:\tlearn: 1743.4400080\ttotal: 8.66s\tremaining: 2m 28s\n",
      "55:\tlearn: 1740.7681877\ttotal: 8.82s\tremaining: 2m 28s\n",
      "56:\tlearn: 1738.6321948\ttotal: 8.97s\tremaining: 2m 28s\n",
      "57:\tlearn: 1734.7705822\ttotal: 9.1s\tremaining: 2m 27s\n",
      "58:\tlearn: 1732.0155854\ttotal: 9.23s\tremaining: 2m 27s\n",
      "59:\tlearn: 1728.7333895\ttotal: 9.36s\tremaining: 2m 26s\n",
      "60:\tlearn: 1726.9500435\ttotal: 9.48s\tremaining: 2m 25s\n",
      "61:\tlearn: 1725.3247301\ttotal: 9.61s\tremaining: 2m 25s\n",
      "62:\tlearn: 1722.4943188\ttotal: 9.75s\tremaining: 2m 24s\n",
      "63:\tlearn: 1719.9499910\ttotal: 9.88s\tremaining: 2m 24s\n",
      "64:\tlearn: 1716.2631197\ttotal: 10s\tremaining: 2m 24s\n",
      "65:\tlearn: 1713.8843967\ttotal: 10.1s\tremaining: 2m 23s\n",
      "66:\tlearn: 1711.7616940\ttotal: 10.3s\tremaining: 2m 23s\n",
      "67:\tlearn: 1710.0593936\ttotal: 10.4s\tremaining: 2m 22s\n",
      "68:\tlearn: 1707.9678041\ttotal: 10.6s\tremaining: 2m 22s\n",
      "69:\tlearn: 1706.5094102\ttotal: 10.7s\tremaining: 2m 22s\n",
      "70:\tlearn: 1704.8823368\ttotal: 10.8s\tremaining: 2m 21s\n",
      "71:\tlearn: 1703.1959050\ttotal: 11s\tremaining: 2m 21s\n",
      "72:\tlearn: 1701.3080325\ttotal: 11.1s\tremaining: 2m 21s\n",
      "73:\tlearn: 1700.2717170\ttotal: 11.3s\tremaining: 2m 21s\n",
      "74:\tlearn: 1697.4224159\ttotal: 11.4s\tremaining: 2m 20s\n",
      "75:\tlearn: 1695.6537394\ttotal: 11.6s\tremaining: 2m 20s\n",
      "76:\tlearn: 1694.4639532\ttotal: 11.7s\tremaining: 2m 20s\n",
      "77:\tlearn: 1691.7994658\ttotal: 11.9s\tremaining: 2m 20s\n",
      "78:\tlearn: 1690.2457680\ttotal: 12s\tremaining: 2m 19s\n",
      "79:\tlearn: 1688.2289411\ttotal: 12.2s\tremaining: 2m 19s\n",
      "80:\tlearn: 1686.5961568\ttotal: 12.3s\tremaining: 2m 19s\n",
      "81:\tlearn: 1683.2290295\ttotal: 12.4s\tremaining: 2m 18s\n",
      "82:\tlearn: 1682.1259016\ttotal: 12.5s\tremaining: 2m 18s\n",
      "83:\tlearn: 1680.6204122\ttotal: 12.7s\tremaining: 2m 18s\n",
      "84:\tlearn: 1679.3420235\ttotal: 12.9s\tremaining: 2m 18s\n",
      "85:\tlearn: 1676.9709338\ttotal: 13s\tremaining: 2m 18s\n",
      "86:\tlearn: 1675.1684084\ttotal: 13.2s\tremaining: 2m 18s\n",
      "87:\tlearn: 1672.6610645\ttotal: 13.3s\tremaining: 2m 17s\n",
      "88:\tlearn: 1671.9346078\ttotal: 13.4s\tremaining: 2m 17s\n",
      "89:\tlearn: 1668.9790701\ttotal: 13.6s\tremaining: 2m 17s\n",
      "90:\tlearn: 1666.4621079\ttotal: 13.7s\tremaining: 2m 16s\n",
      "91:\tlearn: 1664.2358398\ttotal: 13.8s\tremaining: 2m 15s\n",
      "92:\tlearn: 1663.2770139\ttotal: 14s\tremaining: 2m 16s\n",
      "93:\tlearn: 1662.2261551\ttotal: 14.1s\tremaining: 2m 16s\n",
      "94:\tlearn: 1660.9542201\ttotal: 14.3s\tremaining: 2m 16s\n",
      "95:\tlearn: 1659.6351628\ttotal: 14.4s\tremaining: 2m 16s\n",
      "96:\tlearn: 1657.0748770\ttotal: 14.6s\tremaining: 2m 15s\n",
      "97:\tlearn: 1655.6624797\ttotal: 14.8s\tremaining: 2m 15s\n",
      "98:\tlearn: 1654.5235280\ttotal: 14.9s\tremaining: 2m 15s\n",
      "99:\tlearn: 1652.9862527\ttotal: 15s\tremaining: 2m 15s\n",
      "100:\tlearn: 1651.7328948\ttotal: 15.2s\tremaining: 2m 15s\n",
      "101:\tlearn: 1650.6660126\ttotal: 15.3s\tremaining: 2m 15s\n",
      "102:\tlearn: 1649.0493436\ttotal: 15.5s\tremaining: 2m 14s\n",
      "103:\tlearn: 1648.2918622\ttotal: 15.6s\tremaining: 2m 14s\n",
      "104:\tlearn: 1646.8021421\ttotal: 15.7s\tremaining: 2m 14s\n",
      "105:\tlearn: 1646.2248849\ttotal: 15.9s\tremaining: 2m 13s\n",
      "106:\tlearn: 1645.3783153\ttotal: 16s\tremaining: 2m 13s\n",
      "107:\tlearn: 1644.2678990\ttotal: 16.1s\tremaining: 2m 13s\n",
      "108:\tlearn: 1643.4768972\ttotal: 16.3s\tremaining: 2m 12s\n",
      "109:\tlearn: 1642.1420612\ttotal: 16.4s\tremaining: 2m 12s\n",
      "110:\tlearn: 1641.5384435\ttotal: 16.5s\tremaining: 2m 12s\n",
      "111:\tlearn: 1639.8915650\ttotal: 16.7s\tremaining: 2m 12s\n",
      "112:\tlearn: 1638.6807756\ttotal: 16.8s\tremaining: 2m 12s\n",
      "113:\tlearn: 1638.0332015\ttotal: 17s\tremaining: 2m 11s\n",
      "114:\tlearn: 1637.1862761\ttotal: 17.1s\tremaining: 2m 11s\n",
      "115:\tlearn: 1636.9590111\ttotal: 17.2s\tremaining: 2m 11s\n",
      "116:\tlearn: 1636.4637089\ttotal: 17.4s\tremaining: 2m 11s\n",
      "117:\tlearn: 1635.0211480\ttotal: 17.5s\tremaining: 2m 10s\n",
      "118:\tlearn: 1633.7245813\ttotal: 17.6s\tremaining: 2m 10s\n",
      "119:\tlearn: 1632.4947802\ttotal: 17.8s\tremaining: 2m 10s\n",
      "120:\tlearn: 1631.0192377\ttotal: 17.9s\tremaining: 2m 10s\n",
      "121:\tlearn: 1629.5631900\ttotal: 18.1s\tremaining: 2m 9s\n",
      "122:\tlearn: 1628.6441956\ttotal: 18.2s\tremaining: 2m 9s\n",
      "123:\tlearn: 1627.6257165\ttotal: 18.4s\tremaining: 2m 9s\n",
      "124:\tlearn: 1626.6488163\ttotal: 18.6s\tremaining: 2m 9s\n",
      "125:\tlearn: 1625.7764479\ttotal: 18.7s\tremaining: 2m 9s\n",
      "126:\tlearn: 1624.3175864\ttotal: 18.9s\tremaining: 2m 9s\n",
      "127:\tlearn: 1623.5820425\ttotal: 19s\tremaining: 2m 9s\n",
      "128:\tlearn: 1623.2265797\ttotal: 19.2s\tremaining: 2m 9s\n",
      "129:\tlearn: 1622.3938070\ttotal: 19.3s\tremaining: 2m 9s\n",
      "130:\tlearn: 1621.0608555\ttotal: 19.4s\tremaining: 2m 8s\n",
      "131:\tlearn: 1619.8139275\ttotal: 19.6s\tremaining: 2m 8s\n",
      "132:\tlearn: 1619.3291565\ttotal: 19.7s\tremaining: 2m 8s\n",
      "133:\tlearn: 1617.8385326\ttotal: 19.9s\tremaining: 2m 8s\n",
      "134:\tlearn: 1616.9932003\ttotal: 20s\tremaining: 2m 8s\n",
      "135:\tlearn: 1615.8786833\ttotal: 20.2s\tremaining: 2m 8s\n",
      "136:\tlearn: 1614.3852522\ttotal: 20.3s\tremaining: 2m 8s\n",
      "137:\tlearn: 1613.6873066\ttotal: 20.4s\tremaining: 2m 7s\n",
      "138:\tlearn: 1612.6901349\ttotal: 20.6s\tremaining: 2m 7s\n",
      "139:\tlearn: 1611.5393983\ttotal: 20.8s\tremaining: 2m 7s\n",
      "140:\tlearn: 1610.5860435\ttotal: 21s\tremaining: 2m 7s\n",
      "141:\tlearn: 1610.2970577\ttotal: 21.1s\tremaining: 2m 7s\n",
      "142:\tlearn: 1609.7428931\ttotal: 21.2s\tremaining: 2m 7s\n",
      "143:\tlearn: 1608.8319089\ttotal: 21.4s\tremaining: 2m 7s\n",
      "144:\tlearn: 1607.4282500\ttotal: 21.6s\tremaining: 2m 7s\n",
      "145:\tlearn: 1606.6944227\ttotal: 21.7s\tremaining: 2m 7s\n",
      "146:\tlearn: 1605.3949936\ttotal: 21.9s\tremaining: 2m 6s\n",
      "147:\tlearn: 1604.5819241\ttotal: 22s\tremaining: 2m 6s\n",
      "148:\tlearn: 1604.1292837\ttotal: 22.2s\tremaining: 2m 6s\n",
      "149:\tlearn: 1603.2312882\ttotal: 22.4s\tremaining: 2m 6s\n",
      "150:\tlearn: 1602.6352940\ttotal: 22.5s\tremaining: 2m 6s\n",
      "151:\tlearn: 1602.1062990\ttotal: 22.7s\tremaining: 2m 6s\n",
      "152:\tlearn: 1601.0309555\ttotal: 22.9s\tremaining: 2m 6s\n",
      "153:\tlearn: 1600.2511354\ttotal: 23s\tremaining: 2m 6s\n",
      "154:\tlearn: 1599.2350592\ttotal: 23.2s\tremaining: 2m 6s\n",
      "155:\tlearn: 1598.7109081\ttotal: 23.4s\tremaining: 2m 6s\n",
      "156:\tlearn: 1598.0989556\ttotal: 23.6s\tremaining: 2m 6s\n",
      "157:\tlearn: 1597.5590979\ttotal: 23.7s\tremaining: 2m 6s\n",
      "158:\tlearn: 1597.1922082\ttotal: 23.9s\tremaining: 2m 6s\n",
      "159:\tlearn: 1596.1508114\ttotal: 24s\tremaining: 2m 6s\n",
      "160:\tlearn: 1595.5344121\ttotal: 24.2s\tremaining: 2m 6s\n",
      "161:\tlearn: 1595.1177329\ttotal: 24.3s\tremaining: 2m 5s\n",
      "162:\tlearn: 1594.5732623\ttotal: 24.5s\tremaining: 2m 5s\n",
      "163:\tlearn: 1593.9447339\ttotal: 24.7s\tremaining: 2m 5s\n",
      "164:\tlearn: 1593.1201885\ttotal: 24.8s\tremaining: 2m 5s\n",
      "165:\tlearn: 1592.6457022\ttotal: 25s\tremaining: 2m 5s\n",
      "166:\tlearn: 1592.2418068\ttotal: 25.2s\tremaining: 2m 5s\n",
      "167:\tlearn: 1591.5414080\ttotal: 25.5s\tremaining: 2m 6s\n",
      "168:\tlearn: 1590.4039589\ttotal: 25.7s\tremaining: 2m 6s\n",
      "169:\tlearn: 1589.6774850\ttotal: 26s\tremaining: 2m 6s\n",
      "170:\tlearn: 1589.2158510\ttotal: 26.3s\tremaining: 2m 7s\n",
      "171:\tlearn: 1588.8079882\ttotal: 26.5s\tremaining: 2m 7s\n",
      "172:\tlearn: 1588.1158331\ttotal: 26.6s\tremaining: 2m 7s\n",
      "173:\tlearn: 1587.4224126\ttotal: 26.8s\tremaining: 2m 7s\n",
      "174:\tlearn: 1586.1893703\ttotal: 26.9s\tremaining: 2m 6s\n",
      "175:\tlearn: 1585.6362412\ttotal: 27s\tremaining: 2m 6s\n",
      "176:\tlearn: 1585.2159341\ttotal: 27.2s\tremaining: 2m 6s\n",
      "177:\tlearn: 1584.8617403\ttotal: 27.4s\tremaining: 2m 6s\n",
      "178:\tlearn: 1583.9059904\ttotal: 27.5s\tremaining: 2m 6s\n",
      "179:\tlearn: 1583.1346213\ttotal: 27.7s\tremaining: 2m 6s\n",
      "180:\tlearn: 1582.5193293\ttotal: 27.8s\tremaining: 2m 5s\n",
      "181:\tlearn: 1581.2719062\ttotal: 27.9s\tremaining: 2m 5s\n",
      "182:\tlearn: 1580.5614279\ttotal: 28.1s\tremaining: 2m 5s\n",
      "183:\tlearn: 1580.2594322\ttotal: 28.3s\tremaining: 2m 5s\n",
      "184:\tlearn: 1579.3920351\ttotal: 28.4s\tremaining: 2m 5s\n",
      "185:\tlearn: 1579.0365279\ttotal: 28.5s\tremaining: 2m 4s\n",
      "186:\tlearn: 1578.3881751\ttotal: 28.7s\tremaining: 2m 4s\n",
      "187:\tlearn: 1578.2767907\ttotal: 28.9s\tremaining: 2m 4s\n",
      "188:\tlearn: 1577.9148369\ttotal: 29s\tremaining: 2m 4s\n",
      "189:\tlearn: 1577.1967221\ttotal: 29.1s\tremaining: 2m 4s\n",
      "190:\tlearn: 1576.1622825\ttotal: 29.3s\tremaining: 2m 3s\n",
      "191:\tlearn: 1575.6320917\ttotal: 29.4s\tremaining: 2m 3s\n",
      "192:\tlearn: 1574.7967918\ttotal: 29.5s\tremaining: 2m 3s\n",
      "193:\tlearn: 1574.2816317\ttotal: 29.7s\tremaining: 2m 3s\n",
      "194:\tlearn: 1573.8533845\ttotal: 29.8s\tremaining: 2m 3s\n",
      "195:\tlearn: 1573.2819144\ttotal: 30s\tremaining: 2m 2s\n",
      "196:\tlearn: 1572.7550034\ttotal: 30.1s\tremaining: 2m 2s\n",
      "197:\tlearn: 1572.3302136\ttotal: 30.3s\tremaining: 2m 2s\n",
      "198:\tlearn: 1571.5488880\ttotal: 30.4s\tremaining: 2m 2s\n",
      "199:\tlearn: 1570.5632083\ttotal: 30.6s\tremaining: 2m 2s\n",
      "200:\tlearn: 1569.9561311\ttotal: 30.7s\tremaining: 2m 2s\n",
      "201:\tlearn: 1569.6149574\ttotal: 30.8s\tremaining: 2m 1s\n",
      "202:\tlearn: 1569.3607581\ttotal: 31s\tremaining: 2m 1s\n",
      "203:\tlearn: 1568.5225850\ttotal: 31.1s\tremaining: 2m 1s\n",
      "204:\tlearn: 1568.0283156\ttotal: 31.3s\tremaining: 2m 1s\n",
      "205:\tlearn: 1567.7513778\ttotal: 31.4s\tremaining: 2m 1s\n",
      "206:\tlearn: 1567.3685511\ttotal: 31.6s\tremaining: 2m 1s\n",
      "207:\tlearn: 1567.1283527\ttotal: 31.7s\tremaining: 2m\n",
      "208:\tlearn: 1567.0205924\ttotal: 31.9s\tremaining: 2m\n",
      "209:\tlearn: 1566.5304347\ttotal: 32s\tremaining: 2m\n",
      "210:\tlearn: 1566.0598100\ttotal: 32.2s\tremaining: 2m\n",
      "211:\tlearn: 1565.5540808\ttotal: 32.3s\tremaining: 2m\n",
      "212:\tlearn: 1565.0709625\ttotal: 32.5s\tremaining: 1m 59s\n",
      "213:\tlearn: 1564.4735806\ttotal: 32.6s\tremaining: 1m 59s\n",
      "214:\tlearn: 1563.9474294\ttotal: 32.8s\tremaining: 1m 59s\n",
      "215:\tlearn: 1563.4631656\ttotal: 33s\tremaining: 1m 59s\n",
      "216:\tlearn: 1562.4758000\ttotal: 33.1s\tremaining: 1m 59s\n",
      "217:\tlearn: 1561.7507229\ttotal: 33.3s\tremaining: 1m 59s\n",
      "218:\tlearn: 1561.3386715\ttotal: 33.4s\tremaining: 1m 59s\n",
      "219:\tlearn: 1560.5159039\ttotal: 33.6s\tremaining: 1m 59s\n",
      "220:\tlearn: 1559.9888680\ttotal: 33.8s\tremaining: 1m 58s\n",
      "221:\tlearn: 1559.2797134\ttotal: 33.9s\tremaining: 1m 58s\n",
      "222:\tlearn: 1559.1329933\ttotal: 34.1s\tremaining: 1m 58s\n",
      "223:\tlearn: 1558.8449897\ttotal: 34.2s\tremaining: 1m 58s\n",
      "224:\tlearn: 1558.5922598\ttotal: 34.4s\tremaining: 1m 58s\n",
      "225:\tlearn: 1558.0529849\ttotal: 34.5s\tremaining: 1m 58s\n",
      "226:\tlearn: 1557.6656275\ttotal: 34.7s\tremaining: 1m 58s\n",
      "227:\tlearn: 1557.1341702\ttotal: 34.8s\tremaining: 1m 57s\n",
      "228:\tlearn: 1556.7010887\ttotal: 34.9s\tremaining: 1m 57s\n",
      "229:\tlearn: 1556.3365382\ttotal: 35.1s\tremaining: 1m 57s\n",
      "230:\tlearn: 1556.1382014\ttotal: 35.2s\tremaining: 1m 57s\n",
      "231:\tlearn: 1555.7423586\ttotal: 35.4s\tremaining: 1m 57s\n",
      "232:\tlearn: 1555.6057724\ttotal: 35.5s\tremaining: 1m 56s\n",
      "233:\tlearn: 1555.1992890\ttotal: 35.6s\tremaining: 1m 56s\n",
      "234:\tlearn: 1554.8248324\ttotal: 35.8s\tremaining: 1m 56s\n",
      "235:\tlearn: 1554.6305027\ttotal: 36s\tremaining: 1m 56s\n",
      "236:\tlearn: 1554.3803094\ttotal: 36.2s\tremaining: 1m 56s\n",
      "237:\tlearn: 1554.2756268\ttotal: 36.4s\tremaining: 1m 56s\n",
      "238:\tlearn: 1553.9854970\ttotal: 36.5s\tremaining: 1m 56s\n",
      "239:\tlearn: 1553.6608987\ttotal: 36.7s\tremaining: 1m 56s\n",
      "240:\tlearn: 1553.1830152\ttotal: 36.9s\tremaining: 1m 56s\n",
      "241:\tlearn: 1552.7011123\ttotal: 37.1s\tremaining: 1m 56s\n",
      "242:\tlearn: 1552.0990258\ttotal: 37.2s\tremaining: 1m 55s\n",
      "243:\tlearn: 1551.9045081\ttotal: 37.4s\tremaining: 1m 55s\n",
      "244:\tlearn: 1551.2784963\ttotal: 37.6s\tremaining: 1m 55s\n",
      "245:\tlearn: 1550.6959202\ttotal: 37.7s\tremaining: 1m 55s\n",
      "246:\tlearn: 1549.8442367\ttotal: 37.9s\tremaining: 1m 55s\n",
      "247:\tlearn: 1549.3798395\ttotal: 38s\tremaining: 1m 55s\n",
      "248:\tlearn: 1549.1770436\ttotal: 38.2s\tremaining: 1m 55s\n",
      "249:\tlearn: 1548.8465829\ttotal: 38.3s\tremaining: 1m 54s\n",
      "250:\tlearn: 1548.4706010\ttotal: 38.5s\tremaining: 1m 54s\n",
      "251:\tlearn: 1548.2626205\ttotal: 38.7s\tremaining: 1m 54s\n",
      "252:\tlearn: 1547.7098617\ttotal: 38.8s\tremaining: 1m 54s\n",
      "253:\tlearn: 1547.1754685\ttotal: 39s\tremaining: 1m 54s\n",
      "254:\tlearn: 1547.0019195\ttotal: 39.1s\tremaining: 1m 54s\n",
      "255:\tlearn: 1546.6350480\ttotal: 39.2s\tremaining: 1m 54s\n",
      "256:\tlearn: 1546.1688182\ttotal: 39.4s\tremaining: 1m 53s\n",
      "257:\tlearn: 1545.8314134\ttotal: 39.5s\tremaining: 1m 53s\n",
      "258:\tlearn: 1545.4437958\ttotal: 39.6s\tremaining: 1m 53s\n",
      "259:\tlearn: 1544.9577826\ttotal: 39.8s\tremaining: 1m 53s\n",
      "260:\tlearn: 1544.3969537\ttotal: 40s\tremaining: 1m 53s\n",
      "261:\tlearn: 1544.3030018\ttotal: 40.1s\tremaining: 1m 52s\n",
      "262:\tlearn: 1543.7212633\ttotal: 40.2s\tremaining: 1m 52s\n",
      "263:\tlearn: 1543.2338815\ttotal: 40.4s\tremaining: 1m 52s\n",
      "264:\tlearn: 1542.5223914\ttotal: 40.5s\tremaining: 1m 52s\n",
      "265:\tlearn: 1542.2573238\ttotal: 40.7s\tremaining: 1m 52s\n",
      "266:\tlearn: 1541.8783287\ttotal: 40.8s\tremaining: 1m 52s\n",
      "267:\tlearn: 1541.5037920\ttotal: 40.9s\tremaining: 1m 51s\n",
      "268:\tlearn: 1541.1858512\ttotal: 41.1s\tremaining: 1m 51s\n",
      "269:\tlearn: 1540.8908968\ttotal: 41.2s\tremaining: 1m 51s\n",
      "270:\tlearn: 1540.1908159\ttotal: 41.3s\tremaining: 1m 51s\n",
      "271:\tlearn: 1539.8922856\ttotal: 41.5s\tremaining: 1m 51s\n",
      "272:\tlearn: 1539.6883849\ttotal: 41.6s\tremaining: 1m 50s\n",
      "273:\tlearn: 1539.5168397\ttotal: 41.7s\tremaining: 1m 50s\n",
      "274:\tlearn: 1539.1033631\ttotal: 41.9s\tremaining: 1m 50s\n",
      "275:\tlearn: 1538.8782012\ttotal: 42s\tremaining: 1m 50s\n",
      "276:\tlearn: 1538.5954248\ttotal: 42.1s\tremaining: 1m 49s\n",
      "277:\tlearn: 1538.3130022\ttotal: 42.2s\tremaining: 1m 49s\n",
      "278:\tlearn: 1537.9928433\ttotal: 42.4s\tremaining: 1m 49s\n",
      "279:\tlearn: 1537.5382459\ttotal: 42.5s\tremaining: 1m 49s\n",
      "280:\tlearn: 1537.3331364\ttotal: 42.7s\tremaining: 1m 49s\n",
      "281:\tlearn: 1537.0628482\ttotal: 42.9s\tremaining: 1m 49s\n",
      "282:\tlearn: 1536.5203553\ttotal: 43s\tremaining: 1m 48s\n",
      "283:\tlearn: 1536.1557013\ttotal: 43.2s\tremaining: 1m 48s\n",
      "284:\tlearn: 1535.7960481\ttotal: 43.3s\tremaining: 1m 48s\n",
      "285:\tlearn: 1535.5278435\ttotal: 43.5s\tremaining: 1m 48s\n",
      "286:\tlearn: 1535.3727647\ttotal: 43.6s\tremaining: 1m 48s\n",
      "287:\tlearn: 1535.0589522\ttotal: 43.8s\tremaining: 1m 48s\n",
      "288:\tlearn: 1534.5725691\ttotal: 44s\tremaining: 1m 48s\n",
      "289:\tlearn: 1533.9971945\ttotal: 44.2s\tremaining: 1m 48s\n",
      "290:\tlearn: 1533.3016779\ttotal: 44.3s\tremaining: 1m 47s\n",
      "291:\tlearn: 1532.9713594\ttotal: 44.5s\tremaining: 1m 47s\n",
      "292:\tlearn: 1532.7093579\ttotal: 44.6s\tremaining: 1m 47s\n",
      "293:\tlearn: 1532.5222271\ttotal: 44.8s\tremaining: 1m 47s\n",
      "294:\tlearn: 1532.1406882\ttotal: 45s\tremaining: 1m 47s\n",
      "295:\tlearn: 1531.2954250\ttotal: 45.1s\tremaining: 1m 47s\n",
      "296:\tlearn: 1530.6473883\ttotal: 45.3s\tremaining: 1m 47s\n",
      "297:\tlearn: 1530.3490872\ttotal: 45.4s\tremaining: 1m 47s\n",
      "298:\tlearn: 1530.1439884\ttotal: 45.6s\tremaining: 1m 46s\n",
      "299:\tlearn: 1529.8955225\ttotal: 45.7s\tremaining: 1m 46s\n",
      "300:\tlearn: 1529.7112261\ttotal: 45.9s\tremaining: 1m 46s\n",
      "301:\tlearn: 1529.1886973\ttotal: 46.1s\tremaining: 1m 46s\n",
      "302:\tlearn: 1528.6856460\ttotal: 46.2s\tremaining: 1m 46s\n",
      "303:\tlearn: 1528.3083371\ttotal: 46.4s\tremaining: 1m 46s\n",
      "304:\tlearn: 1527.9413654\ttotal: 46.5s\tremaining: 1m 46s\n",
      "305:\tlearn: 1527.2634619\ttotal: 46.7s\tremaining: 1m 45s\n",
      "306:\tlearn: 1527.0092793\ttotal: 46.8s\tremaining: 1m 45s\n",
      "307:\tlearn: 1526.6367082\ttotal: 47s\tremaining: 1m 45s\n",
      "308:\tlearn: 1526.0931240\ttotal: 47.1s\tremaining: 1m 45s\n",
      "309:\tlearn: 1525.6435359\ttotal: 47.2s\tremaining: 1m 45s\n",
      "310:\tlearn: 1525.4531854\ttotal: 47.4s\tremaining: 1m 44s\n",
      "311:\tlearn: 1525.3419630\ttotal: 47.5s\tremaining: 1m 44s\n",
      "312:\tlearn: 1525.0965000\ttotal: 47.7s\tremaining: 1m 44s\n",
      "313:\tlearn: 1524.9039758\ttotal: 47.8s\tremaining: 1m 44s\n",
      "314:\tlearn: 1524.7454722\ttotal: 48s\tremaining: 1m 44s\n",
      "315:\tlearn: 1524.5607243\ttotal: 48.1s\tremaining: 1m 44s\n",
      "316:\tlearn: 1524.4331003\ttotal: 48.3s\tremaining: 1m 43s\n",
      "317:\tlearn: 1524.2931635\ttotal: 48.4s\tremaining: 1m 43s\n",
      "318:\tlearn: 1524.1505807\ttotal: 48.5s\tremaining: 1m 43s\n",
      "319:\tlearn: 1523.8232258\ttotal: 48.7s\tremaining: 1m 43s\n",
      "320:\tlearn: 1523.5679358\ttotal: 48.9s\tremaining: 1m 43s\n",
      "321:\tlearn: 1523.2335321\ttotal: 49s\tremaining: 1m 43s\n",
      "322:\tlearn: 1522.4953030\ttotal: 49.2s\tremaining: 1m 43s\n",
      "323:\tlearn: 1522.3016781\ttotal: 49.3s\tremaining: 1m 42s\n",
      "324:\tlearn: 1522.2203347\ttotal: 49.5s\tremaining: 1m 42s\n",
      "325:\tlearn: 1521.6140052\ttotal: 49.6s\tremaining: 1m 42s\n",
      "326:\tlearn: 1521.3547820\ttotal: 49.8s\tremaining: 1m 42s\n",
      "327:\tlearn: 1520.8750646\ttotal: 49.9s\tremaining: 1m 42s\n",
      "328:\tlearn: 1520.3922536\ttotal: 50.1s\tremaining: 1m 42s\n",
      "329:\tlearn: 1519.9553515\ttotal: 50.2s\tremaining: 1m 42s\n",
      "330:\tlearn: 1519.7472811\ttotal: 50.4s\tremaining: 1m 41s\n",
      "331:\tlearn: 1519.5086008\ttotal: 50.6s\tremaining: 1m 41s\n",
      "332:\tlearn: 1519.3323047\ttotal: 50.7s\tremaining: 1m 41s\n",
      "333:\tlearn: 1518.9489285\ttotal: 50.9s\tremaining: 1m 41s\n",
      "334:\tlearn: 1518.6730229\ttotal: 51s\tremaining: 1m 41s\n",
      "335:\tlearn: 1518.4065901\ttotal: 51.2s\tremaining: 1m 41s\n",
      "336:\tlearn: 1517.9874565\ttotal: 51.3s\tremaining: 1m 40s\n",
      "337:\tlearn: 1517.6238824\ttotal: 51.5s\tremaining: 1m 40s\n",
      "338:\tlearn: 1517.2069523\ttotal: 51.6s\tremaining: 1m 40s\n",
      "339:\tlearn: 1516.7230227\ttotal: 51.8s\tremaining: 1m 40s\n",
      "340:\tlearn: 1516.1638484\ttotal: 51.9s\tremaining: 1m 40s\n",
      "341:\tlearn: 1515.8748337\ttotal: 52.1s\tremaining: 1m 40s\n",
      "342:\tlearn: 1515.7834769\ttotal: 52.2s\tremaining: 1m 40s\n",
      "343:\tlearn: 1515.6370624\ttotal: 52.4s\tremaining: 1m 39s\n",
      "344:\tlearn: 1515.3181810\ttotal: 52.5s\tremaining: 1m 39s\n",
      "345:\tlearn: 1515.1527678\ttotal: 52.7s\tremaining: 1m 39s\n",
      "346:\tlearn: 1514.9457262\ttotal: 52.9s\tremaining: 1m 39s\n",
      "347:\tlearn: 1514.5403854\ttotal: 53s\tremaining: 1m 39s\n",
      "348:\tlearn: 1514.1208150\ttotal: 53.2s\tremaining: 1m 39s\n",
      "349:\tlearn: 1513.8651937\ttotal: 53.4s\tremaining: 1m 39s\n",
      "350:\tlearn: 1513.7316508\ttotal: 53.5s\tremaining: 1m 39s\n",
      "351:\tlearn: 1513.4708340\ttotal: 53.7s\tremaining: 1m 38s\n",
      "352:\tlearn: 1513.2313870\ttotal: 53.9s\tremaining: 1m 38s\n",
      "353:\tlearn: 1512.9676128\ttotal: 54.1s\tremaining: 1m 38s\n",
      "354:\tlearn: 1512.5235628\ttotal: 54.2s\tremaining: 1m 38s\n",
      "355:\tlearn: 1512.0573511\ttotal: 54.4s\tremaining: 1m 38s\n",
      "356:\tlearn: 1511.8515284\ttotal: 54.6s\tremaining: 1m 38s\n",
      "357:\tlearn: 1511.6923481\ttotal: 54.7s\tremaining: 1m 38s\n",
      "358:\tlearn: 1511.6285743\ttotal: 54.9s\tremaining: 1m 38s\n",
      "359:\tlearn: 1511.4194817\ttotal: 55s\tremaining: 1m 37s\n",
      "360:\tlearn: 1510.8699859\ttotal: 55.2s\tremaining: 1m 37s\n",
      "361:\tlearn: 1510.5333733\ttotal: 55.4s\tremaining: 1m 37s\n",
      "362:\tlearn: 1510.4044003\ttotal: 55.5s\tremaining: 1m 37s\n",
      "363:\tlearn: 1509.8758994\ttotal: 55.7s\tremaining: 1m 37s\n",
      "364:\tlearn: 1509.5604823\ttotal: 55.9s\tremaining: 1m 37s\n",
      "365:\tlearn: 1509.0454393\ttotal: 56s\tremaining: 1m 37s\n",
      "366:\tlearn: 1508.9723755\ttotal: 56.2s\tremaining: 1m 36s\n",
      "367:\tlearn: 1508.8593267\ttotal: 56.3s\tremaining: 1m 36s\n",
      "368:\tlearn: 1508.7174651\ttotal: 56.5s\tremaining: 1m 36s\n",
      "369:\tlearn: 1508.5611790\ttotal: 56.6s\tremaining: 1m 36s\n",
      "370:\tlearn: 1508.3612589\ttotal: 56.8s\tremaining: 1m 36s\n",
      "371:\tlearn: 1508.2049018\ttotal: 56.9s\tremaining: 1m 36s\n",
      "372:\tlearn: 1507.6857173\ttotal: 57.1s\tremaining: 1m 35s\n",
      "373:\tlearn: 1507.2942282\ttotal: 57.2s\tremaining: 1m 35s\n",
      "374:\tlearn: 1507.2240728\ttotal: 57.4s\tremaining: 1m 35s\n",
      "375:\tlearn: 1506.9263143\ttotal: 57.6s\tremaining: 1m 35s\n",
      "376:\tlearn: 1506.6334439\ttotal: 57.7s\tremaining: 1m 35s\n",
      "377:\tlearn: 1506.5094463\ttotal: 57.9s\tremaining: 1m 35s\n",
      "378:\tlearn: 1506.3638198\ttotal: 58.1s\tremaining: 1m 35s\n",
      "379:\tlearn: 1506.0789199\ttotal: 58.3s\tremaining: 1m 35s\n",
      "380:\tlearn: 1505.8554948\ttotal: 58.4s\tremaining: 1m 34s\n",
      "381:\tlearn: 1505.8319496\ttotal: 58.5s\tremaining: 1m 34s\n",
      "382:\tlearn: 1505.1876483\ttotal: 58.7s\tremaining: 1m 34s\n",
      "383:\tlearn: 1505.1340907\ttotal: 58.9s\tremaining: 1m 34s\n",
      "384:\tlearn: 1504.9797979\ttotal: 59.1s\tremaining: 1m 34s\n",
      "385:\tlearn: 1504.6634033\ttotal: 59.2s\tremaining: 1m 34s\n",
      "386:\tlearn: 1504.6050263\ttotal: 59.3s\tremaining: 1m 33s\n",
      "387:\tlearn: 1504.3160169\ttotal: 59.5s\tremaining: 1m 33s\n",
      "388:\tlearn: 1503.8702035\ttotal: 59.6s\tremaining: 1m 33s\n",
      "389:\tlearn: 1503.7048767\ttotal: 59.8s\tremaining: 1m 33s\n",
      "390:\tlearn: 1503.6336468\ttotal: 59.9s\tremaining: 1m 33s\n",
      "391:\tlearn: 1503.4539025\ttotal: 1m\tremaining: 1m 33s\n",
      "392:\tlearn: 1503.3294896\ttotal: 1m\tremaining: 1m 32s\n",
      "393:\tlearn: 1502.9384828\ttotal: 1m\tremaining: 1m 32s\n",
      "394:\tlearn: 1502.7679090\ttotal: 1m\tremaining: 1m 32s\n",
      "395:\tlearn: 1502.5783553\ttotal: 1m\tremaining: 1m 32s\n",
      "396:\tlearn: 1502.2120836\ttotal: 1m\tremaining: 1m 32s\n",
      "397:\tlearn: 1501.9898786\ttotal: 1m 1s\tremaining: 1m 32s\n",
      "398:\tlearn: 1501.5597062\ttotal: 1m 1s\tremaining: 1m 32s\n",
      "399:\tlearn: 1501.4616600\ttotal: 1m 1s\tremaining: 1m 32s\n",
      "400:\tlearn: 1501.0101737\ttotal: 1m 1s\tremaining: 1m 31s\n",
      "401:\tlearn: 1500.9287005\ttotal: 1m 1s\tremaining: 1m 31s\n",
      "402:\tlearn: 1500.8367142\ttotal: 1m 1s\tremaining: 1m 31s\n",
      "403:\tlearn: 1500.5386461\ttotal: 1m 2s\tremaining: 1m 31s\n",
      "404:\tlearn: 1500.2314437\ttotal: 1m 2s\tremaining: 1m 31s\n",
      "405:\tlearn: 1499.4709984\ttotal: 1m 2s\tremaining: 1m 31s\n",
      "406:\tlearn: 1499.4130995\ttotal: 1m 2s\tremaining: 1m 31s\n",
      "407:\tlearn: 1499.2605879\ttotal: 1m 2s\tremaining: 1m 31s\n",
      "408:\tlearn: 1499.1315563\ttotal: 1m 2s\tremaining: 1m 30s\n",
      "409:\tlearn: 1499.0310598\ttotal: 1m 3s\tremaining: 1m 30s\n",
      "410:\tlearn: 1498.8697429\ttotal: 1m 3s\tremaining: 1m 30s\n",
      "411:\tlearn: 1498.7528534\ttotal: 1m 3s\tremaining: 1m 30s\n",
      "412:\tlearn: 1498.6303709\ttotal: 1m 3s\tremaining: 1m 30s\n",
      "413:\tlearn: 1498.3722229\ttotal: 1m 3s\tremaining: 1m 30s\n",
      "414:\tlearn: 1498.1067633\ttotal: 1m 3s\tremaining: 1m 29s\n",
      "415:\tlearn: 1497.9606535\ttotal: 1m 3s\tremaining: 1m 29s\n",
      "416:\tlearn: 1497.5321169\ttotal: 1m 4s\tremaining: 1m 29s\n",
      "417:\tlearn: 1497.3606188\ttotal: 1m 4s\tremaining: 1m 29s\n",
      "418:\tlearn: 1497.2420461\ttotal: 1m 4s\tremaining: 1m 29s\n",
      "419:\tlearn: 1496.9095308\ttotal: 1m 4s\tremaining: 1m 29s\n",
      "420:\tlearn: 1496.7437966\ttotal: 1m 4s\tremaining: 1m 29s\n",
      "421:\tlearn: 1496.6238950\ttotal: 1m 5s\tremaining: 1m 29s\n",
      "422:\tlearn: 1496.3138635\ttotal: 1m 5s\tremaining: 1m 28s\n",
      "423:\tlearn: 1496.0999120\ttotal: 1m 5s\tremaining: 1m 28s\n",
      "424:\tlearn: 1495.6448935\ttotal: 1m 5s\tremaining: 1m 28s\n",
      "425:\tlearn: 1495.4863957\ttotal: 1m 5s\tremaining: 1m 28s\n",
      "426:\tlearn: 1495.3994958\ttotal: 1m 5s\tremaining: 1m 28s\n",
      "427:\tlearn: 1495.1547594\ttotal: 1m 6s\tremaining: 1m 28s\n",
      "428:\tlearn: 1494.9655373\ttotal: 1m 6s\tremaining: 1m 28s\n",
      "429:\tlearn: 1494.7363606\ttotal: 1m 6s\tremaining: 1m 28s\n",
      "430:\tlearn: 1494.6032482\ttotal: 1m 6s\tremaining: 1m 27s\n",
      "431:\tlearn: 1494.1686007\ttotal: 1m 6s\tremaining: 1m 27s\n",
      "432:\tlearn: 1494.1120736\ttotal: 1m 6s\tremaining: 1m 27s\n",
      "433:\tlearn: 1494.0247732\ttotal: 1m 7s\tremaining: 1m 27s\n",
      "434:\tlearn: 1493.3645652\ttotal: 1m 7s\tremaining: 1m 27s\n",
      "435:\tlearn: 1493.0613587\ttotal: 1m 7s\tremaining: 1m 27s\n",
      "436:\tlearn: 1492.7700070\ttotal: 1m 7s\tremaining: 1m 27s\n",
      "437:\tlearn: 1492.5942901\ttotal: 1m 7s\tremaining: 1m 27s\n",
      "438:\tlearn: 1492.2400448\ttotal: 1m 7s\tremaining: 1m 26s\n",
      "439:\tlearn: 1491.9499386\ttotal: 1m 8s\tremaining: 1m 26s\n",
      "440:\tlearn: 1491.7842701\ttotal: 1m 8s\tremaining: 1m 26s\n",
      "441:\tlearn: 1491.5829184\ttotal: 1m 8s\tremaining: 1m 26s\n",
      "442:\tlearn: 1491.4536748\ttotal: 1m 8s\tremaining: 1m 26s\n",
      "443:\tlearn: 1491.2211663\ttotal: 1m 8s\tremaining: 1m 26s\n",
      "444:\tlearn: 1491.0523363\ttotal: 1m 8s\tremaining: 1m 25s\n",
      "445:\tlearn: 1490.4501841\ttotal: 1m 9s\tremaining: 1m 25s\n",
      "446:\tlearn: 1489.9200962\ttotal: 1m 9s\tremaining: 1m 25s\n",
      "447:\tlearn: 1489.7546435\ttotal: 1m 9s\tremaining: 1m 25s\n",
      "448:\tlearn: 1489.4270927\ttotal: 1m 9s\tremaining: 1m 25s\n",
      "449:\tlearn: 1489.2120098\ttotal: 1m 9s\tremaining: 1m 25s\n",
      "450:\tlearn: 1489.1552470\ttotal: 1m 9s\tremaining: 1m 25s\n",
      "451:\tlearn: 1488.9642001\ttotal: 1m 10s\tremaining: 1m 24s\n",
      "452:\tlearn: 1488.6335066\ttotal: 1m 10s\tremaining: 1m 24s\n",
      "453:\tlearn: 1488.3569964\ttotal: 1m 10s\tremaining: 1m 24s\n",
      "454:\tlearn: 1488.2459198\ttotal: 1m 10s\tremaining: 1m 24s\n",
      "455:\tlearn: 1487.9164815\ttotal: 1m 10s\tremaining: 1m 24s\n",
      "456:\tlearn: 1487.7200279\ttotal: 1m 10s\tremaining: 1m 24s\n",
      "457:\tlearn: 1487.5485206\ttotal: 1m 11s\tremaining: 1m 24s\n",
      "458:\tlearn: 1487.0722196\ttotal: 1m 11s\tremaining: 1m 23s\n",
      "459:\tlearn: 1486.6831502\ttotal: 1m 11s\tremaining: 1m 23s\n",
      "460:\tlearn: 1486.5224261\ttotal: 1m 11s\tremaining: 1m 23s\n",
      "461:\tlearn: 1486.4070070\ttotal: 1m 11s\tremaining: 1m 23s\n",
      "462:\tlearn: 1486.2919967\ttotal: 1m 11s\tremaining: 1m 23s\n",
      "463:\tlearn: 1486.0315801\ttotal: 1m 12s\tremaining: 1m 23s\n",
      "464:\tlearn: 1485.7902432\ttotal: 1m 12s\tremaining: 1m 23s\n",
      "465:\tlearn: 1485.6576599\ttotal: 1m 12s\tremaining: 1m 22s\n",
      "466:\tlearn: 1485.3750499\ttotal: 1m 12s\tremaining: 1m 22s\n",
      "467:\tlearn: 1485.1732487\ttotal: 1m 12s\tremaining: 1m 22s\n",
      "468:\tlearn: 1484.8991219\ttotal: 1m 12s\tremaining: 1m 22s\n",
      "469:\tlearn: 1484.6859796\ttotal: 1m 13s\tremaining: 1m 22s\n",
      "470:\tlearn: 1484.2776113\ttotal: 1m 13s\tremaining: 1m 22s\n",
      "471:\tlearn: 1484.0644265\ttotal: 1m 13s\tremaining: 1m 22s\n",
      "472:\tlearn: 1484.0023676\ttotal: 1m 13s\tremaining: 1m 21s\n",
      "473:\tlearn: 1483.7962126\ttotal: 1m 13s\tremaining: 1m 21s\n",
      "474:\tlearn: 1483.7565163\ttotal: 1m 13s\tremaining: 1m 21s\n",
      "475:\tlearn: 1483.7191073\ttotal: 1m 14s\tremaining: 1m 21s\n",
      "476:\tlearn: 1483.3717842\ttotal: 1m 14s\tremaining: 1m 21s\n",
      "477:\tlearn: 1482.7771901\ttotal: 1m 14s\tremaining: 1m 21s\n",
      "478:\tlearn: 1482.6285572\ttotal: 1m 14s\tremaining: 1m 21s\n",
      "479:\tlearn: 1482.3678490\ttotal: 1m 14s\tremaining: 1m 20s\n",
      "480:\tlearn: 1482.2986431\ttotal: 1m 14s\tremaining: 1m 20s\n",
      "481:\tlearn: 1482.2268294\ttotal: 1m 14s\tremaining: 1m 20s\n",
      "482:\tlearn: 1482.1053103\ttotal: 1m 15s\tremaining: 1m 20s\n",
      "483:\tlearn: 1481.9973910\ttotal: 1m 15s\tremaining: 1m 20s\n",
      "484:\tlearn: 1481.8038718\ttotal: 1m 15s\tremaining: 1m 20s\n",
      "485:\tlearn: 1481.6582878\ttotal: 1m 15s\tremaining: 1m 19s\n",
      "486:\tlearn: 1481.2351750\ttotal: 1m 15s\tremaining: 1m 19s\n",
      "487:\tlearn: 1480.8628826\ttotal: 1m 15s\tremaining: 1m 19s\n",
      "488:\tlearn: 1480.6726541\ttotal: 1m 16s\tremaining: 1m 19s\n",
      "489:\tlearn: 1480.2871997\ttotal: 1m 16s\tremaining: 1m 19s\n",
      "490:\tlearn: 1480.1402739\ttotal: 1m 16s\tremaining: 1m 19s\n",
      "491:\tlearn: 1479.9854300\ttotal: 1m 16s\tremaining: 1m 18s\n",
      "492:\tlearn: 1479.8846141\ttotal: 1m 16s\tremaining: 1m 18s\n",
      "493:\tlearn: 1479.7909354\ttotal: 1m 16s\tremaining: 1m 18s\n",
      "494:\tlearn: 1479.5693896\ttotal: 1m 16s\tremaining: 1m 18s\n",
      "495:\tlearn: 1479.1522355\ttotal: 1m 17s\tremaining: 1m 18s\n",
      "496:\tlearn: 1478.8402439\ttotal: 1m 17s\tremaining: 1m 18s\n",
      "497:\tlearn: 1478.7469852\ttotal: 1m 17s\tremaining: 1m 18s\n",
      "498:\tlearn: 1478.6853471\ttotal: 1m 17s\tremaining: 1m 17s\n",
      "499:\tlearn: 1478.6024453\ttotal: 1m 17s\tremaining: 1m 17s\n",
      "500:\tlearn: 1478.4690463\ttotal: 1m 17s\tremaining: 1m 17s\n",
      "501:\tlearn: 1478.2809878\ttotal: 1m 18s\tremaining: 1m 17s\n",
      "502:\tlearn: 1478.1156424\ttotal: 1m 18s\tremaining: 1m 17s\n",
      "503:\tlearn: 1478.0082645\ttotal: 1m 18s\tremaining: 1m 17s\n",
      "504:\tlearn: 1477.5601127\ttotal: 1m 18s\tremaining: 1m 16s\n",
      "505:\tlearn: 1477.4621776\ttotal: 1m 18s\tremaining: 1m 16s\n",
      "506:\tlearn: 1477.3477555\ttotal: 1m 18s\tremaining: 1m 16s\n",
      "507:\tlearn: 1477.0374033\ttotal: 1m 19s\tremaining: 1m 16s\n",
      "508:\tlearn: 1476.7956140\ttotal: 1m 19s\tremaining: 1m 16s\n",
      "509:\tlearn: 1476.4840246\ttotal: 1m 19s\tremaining: 1m 16s\n",
      "510:\tlearn: 1476.1756328\ttotal: 1m 19s\tremaining: 1m 16s\n",
      "511:\tlearn: 1476.0047688\ttotal: 1m 19s\tremaining: 1m 15s\n",
      "512:\tlearn: 1475.4969439\ttotal: 1m 19s\tremaining: 1m 15s\n",
      "513:\tlearn: 1475.3814186\ttotal: 1m 19s\tremaining: 1m 15s\n",
      "514:\tlearn: 1475.2735995\ttotal: 1m 20s\tremaining: 1m 15s\n",
      "515:\tlearn: 1475.1777181\ttotal: 1m 20s\tremaining: 1m 15s\n",
      "516:\tlearn: 1475.0525445\ttotal: 1m 20s\tremaining: 1m 15s\n",
      "517:\tlearn: 1475.0197111\ttotal: 1m 20s\tremaining: 1m 14s\n",
      "518:\tlearn: 1474.8852250\ttotal: 1m 20s\tremaining: 1m 14s\n",
      "519:\tlearn: 1474.6211667\ttotal: 1m 20s\tremaining: 1m 14s\n",
      "520:\tlearn: 1474.3589664\ttotal: 1m 20s\tremaining: 1m 14s\n",
      "521:\tlearn: 1474.1348735\ttotal: 1m 21s\tremaining: 1m 14s\n",
      "522:\tlearn: 1473.9398930\ttotal: 1m 21s\tremaining: 1m 14s\n",
      "523:\tlearn: 1473.7259723\ttotal: 1m 21s\tremaining: 1m 13s\n",
      "524:\tlearn: 1473.5525485\ttotal: 1m 21s\tremaining: 1m 13s\n",
      "525:\tlearn: 1473.4580908\ttotal: 1m 21s\tremaining: 1m 13s\n",
      "526:\tlearn: 1473.3720542\ttotal: 1m 21s\tremaining: 1m 13s\n",
      "527:\tlearn: 1473.1884290\ttotal: 1m 21s\tremaining: 1m 13s\n",
      "528:\tlearn: 1472.9860600\ttotal: 1m 22s\tremaining: 1m 13s\n",
      "529:\tlearn: 1472.7710783\ttotal: 1m 22s\tremaining: 1m 12s\n",
      "530:\tlearn: 1472.5062699\ttotal: 1m 22s\tremaining: 1m 12s\n",
      "531:\tlearn: 1472.2805756\ttotal: 1m 22s\tremaining: 1m 12s\n",
      "532:\tlearn: 1471.9591503\ttotal: 1m 22s\tremaining: 1m 12s\n",
      "533:\tlearn: 1471.6602813\ttotal: 1m 22s\tremaining: 1m 12s\n",
      "534:\tlearn: 1471.3711121\ttotal: 1m 22s\tremaining: 1m 12s\n",
      "535:\tlearn: 1471.1377587\ttotal: 1m 23s\tremaining: 1m 11s\n",
      "536:\tlearn: 1470.9828473\ttotal: 1m 23s\tremaining: 1m 11s\n",
      "537:\tlearn: 1470.7594967\ttotal: 1m 23s\tremaining: 1m 11s\n",
      "538:\tlearn: 1470.6074598\ttotal: 1m 23s\tremaining: 1m 11s\n",
      "539:\tlearn: 1470.5105994\ttotal: 1m 23s\tremaining: 1m 11s\n",
      "540:\tlearn: 1470.4040822\ttotal: 1m 23s\tremaining: 1m 11s\n",
      "541:\tlearn: 1470.2478254\ttotal: 1m 23s\tremaining: 1m 10s\n",
      "542:\tlearn: 1470.1884041\ttotal: 1m 24s\tremaining: 1m 10s\n",
      "543:\tlearn: 1469.9413746\ttotal: 1m 24s\tremaining: 1m 10s\n",
      "544:\tlearn: 1469.8296847\ttotal: 1m 24s\tremaining: 1m 10s\n",
      "545:\tlearn: 1469.7208645\ttotal: 1m 24s\tremaining: 1m 10s\n",
      "546:\tlearn: 1469.6666986\ttotal: 1m 24s\tremaining: 1m 10s\n",
      "547:\tlearn: 1469.1578381\ttotal: 1m 24s\tremaining: 1m 9s\n",
      "548:\tlearn: 1469.0559438\ttotal: 1m 24s\tremaining: 1m 9s\n",
      "549:\tlearn: 1468.8797261\ttotal: 1m 25s\tremaining: 1m 9s\n",
      "550:\tlearn: 1468.4170374\ttotal: 1m 25s\tremaining: 1m 9s\n",
      "551:\tlearn: 1468.2825225\ttotal: 1m 25s\tremaining: 1m 9s\n",
      "552:\tlearn: 1467.9689561\ttotal: 1m 25s\tremaining: 1m 9s\n",
      "553:\tlearn: 1467.6522558\ttotal: 1m 25s\tremaining: 1m 8s\n",
      "554:\tlearn: 1467.6279278\ttotal: 1m 25s\tremaining: 1m 8s\n",
      "555:\tlearn: 1467.3986491\ttotal: 1m 25s\tremaining: 1m 8s\n",
      "556:\tlearn: 1467.0628634\ttotal: 1m 26s\tremaining: 1m 8s\n",
      "557:\tlearn: 1466.8206075\ttotal: 1m 26s\tremaining: 1m 8s\n",
      "558:\tlearn: 1466.6101923\ttotal: 1m 26s\tremaining: 1m 8s\n",
      "559:\tlearn: 1466.4194895\ttotal: 1m 26s\tremaining: 1m 8s\n",
      "560:\tlearn: 1466.2396808\ttotal: 1m 26s\tremaining: 1m 7s\n",
      "561:\tlearn: 1466.0375937\ttotal: 1m 26s\tremaining: 1m 7s\n",
      "562:\tlearn: 1465.9070305\ttotal: 1m 27s\tremaining: 1m 7s\n",
      "563:\tlearn: 1465.7528766\ttotal: 1m 27s\tremaining: 1m 7s\n",
      "564:\tlearn: 1465.5694968\ttotal: 1m 27s\tremaining: 1m 7s\n",
      "565:\tlearn: 1465.1658136\ttotal: 1m 27s\tremaining: 1m 7s\n",
      "566:\tlearn: 1465.0121493\ttotal: 1m 27s\tremaining: 1m 6s\n",
      "567:\tlearn: 1464.9298289\ttotal: 1m 27s\tremaining: 1m 6s\n",
      "568:\tlearn: 1464.5655758\ttotal: 1m 27s\tremaining: 1m 6s\n",
      "569:\tlearn: 1464.3427305\ttotal: 1m 28s\tremaining: 1m 6s\n",
      "570:\tlearn: 1464.2059603\ttotal: 1m 28s\tremaining: 1m 6s\n",
      "571:\tlearn: 1464.1077480\ttotal: 1m 28s\tremaining: 1m 6s\n",
      "572:\tlearn: 1463.9247487\ttotal: 1m 28s\tremaining: 1m 5s\n",
      "573:\tlearn: 1463.7187288\ttotal: 1m 28s\tremaining: 1m 5s\n",
      "574:\tlearn: 1463.3136295\ttotal: 1m 28s\tremaining: 1m 5s\n",
      "575:\tlearn: 1463.0198809\ttotal: 1m 28s\tremaining: 1m 5s\n",
      "576:\tlearn: 1462.7093461\ttotal: 1m 29s\tremaining: 1m 5s\n",
      "577:\tlearn: 1462.5468611\ttotal: 1m 29s\tremaining: 1m 5s\n",
      "578:\tlearn: 1462.2994584\ttotal: 1m 29s\tremaining: 1m 4s\n",
      "579:\tlearn: 1462.2286625\ttotal: 1m 29s\tremaining: 1m 4s\n",
      "580:\tlearn: 1462.1334090\ttotal: 1m 29s\tremaining: 1m 4s\n",
      "581:\tlearn: 1462.1009399\ttotal: 1m 29s\tremaining: 1m 4s\n",
      "582:\tlearn: 1461.8327926\ttotal: 1m 29s\tremaining: 1m 4s\n",
      "583:\tlearn: 1461.6903643\ttotal: 1m 30s\tremaining: 1m 4s\n",
      "584:\tlearn: 1461.4535029\ttotal: 1m 30s\tremaining: 1m 3s\n",
      "585:\tlearn: 1461.3123362\ttotal: 1m 30s\tremaining: 1m 3s\n",
      "586:\tlearn: 1460.8466547\ttotal: 1m 30s\tremaining: 1m 3s\n",
      "587:\tlearn: 1460.7143891\ttotal: 1m 30s\tremaining: 1m 3s\n",
      "588:\tlearn: 1460.4050390\ttotal: 1m 30s\tremaining: 1m 3s\n",
      "589:\tlearn: 1460.1644523\ttotal: 1m 30s\tremaining: 1m 3s\n",
      "590:\tlearn: 1460.0642545\ttotal: 1m 30s\tremaining: 1m 2s\n",
      "591:\tlearn: 1459.6406253\ttotal: 1m 31s\tremaining: 1m 2s\n",
      "592:\tlearn: 1459.3671521\ttotal: 1m 31s\tremaining: 1m 2s\n",
      "593:\tlearn: 1459.0376653\ttotal: 1m 31s\tremaining: 1m 2s\n",
      "594:\tlearn: 1458.8777452\ttotal: 1m 31s\tremaining: 1m 2s\n",
      "595:\tlearn: 1458.6630053\ttotal: 1m 31s\tremaining: 1m 2s\n",
      "596:\tlearn: 1458.5975509\ttotal: 1m 31s\tremaining: 1m 1s\n",
      "597:\tlearn: 1458.5195320\ttotal: 1m 31s\tremaining: 1m 1s\n",
      "598:\tlearn: 1458.4803559\ttotal: 1m 32s\tremaining: 1m 1s\n",
      "599:\tlearn: 1458.3686960\ttotal: 1m 32s\tremaining: 1m 1s\n",
      "600:\tlearn: 1458.1986865\ttotal: 1m 32s\tremaining: 1m 1s\n",
      "601:\tlearn: 1458.0216462\ttotal: 1m 32s\tremaining: 1m 1s\n",
      "602:\tlearn: 1457.9653680\ttotal: 1m 32s\tremaining: 1m 1s\n",
      "603:\tlearn: 1457.7975382\ttotal: 1m 32s\tremaining: 1m\n",
      "604:\tlearn: 1457.5484001\ttotal: 1m 33s\tremaining: 1m\n",
      "605:\tlearn: 1457.5042323\ttotal: 1m 33s\tremaining: 1m\n",
      "606:\tlearn: 1457.1698938\ttotal: 1m 33s\tremaining: 1m\n",
      "607:\tlearn: 1457.0157957\ttotal: 1m 33s\tremaining: 1m\n",
      "608:\tlearn: 1456.8487428\ttotal: 1m 33s\tremaining: 1m\n",
      "609:\tlearn: 1456.6104766\ttotal: 1m 33s\tremaining: 59.9s\n",
      "610:\tlearn: 1456.2405541\ttotal: 1m 33s\tremaining: 59.7s\n",
      "611:\tlearn: 1456.1450406\ttotal: 1m 33s\tremaining: 59.6s\n",
      "612:\tlearn: 1455.9870401\ttotal: 1m 34s\tremaining: 59.4s\n",
      "613:\tlearn: 1455.8281621\ttotal: 1m 34s\tremaining: 59.3s\n",
      "614:\tlearn: 1455.6234626\ttotal: 1m 34s\tremaining: 59.1s\n",
      "615:\tlearn: 1455.5700235\ttotal: 1m 34s\tremaining: 58.9s\n",
      "616:\tlearn: 1455.3979891\ttotal: 1m 34s\tremaining: 58.8s\n",
      "617:\tlearn: 1455.1715779\ttotal: 1m 34s\tremaining: 58.6s\n",
      "618:\tlearn: 1455.0155272\ttotal: 1m 34s\tremaining: 58.4s\n",
      "619:\tlearn: 1454.5398489\ttotal: 1m 35s\tremaining: 58.3s\n",
      "620:\tlearn: 1454.3653453\ttotal: 1m 35s\tremaining: 58.1s\n",
      "621:\tlearn: 1454.2305648\ttotal: 1m 35s\tremaining: 58s\n",
      "622:\tlearn: 1454.0234881\ttotal: 1m 35s\tremaining: 57.8s\n",
      "623:\tlearn: 1453.9241417\ttotal: 1m 35s\tremaining: 57.6s\n",
      "624:\tlearn: 1453.8210490\ttotal: 1m 35s\tremaining: 57.4s\n",
      "625:\tlearn: 1453.6825218\ttotal: 1m 35s\tremaining: 57.2s\n",
      "626:\tlearn: 1453.5435678\ttotal: 1m 35s\tremaining: 57.1s\n",
      "627:\tlearn: 1453.4097456\ttotal: 1m 36s\tremaining: 56.9s\n",
      "628:\tlearn: 1453.1501531\ttotal: 1m 36s\tremaining: 56.8s\n",
      "629:\tlearn: 1452.8570997\ttotal: 1m 36s\tremaining: 56.6s\n",
      "630:\tlearn: 1452.6472877\ttotal: 1m 36s\tremaining: 56.5s\n",
      "631:\tlearn: 1452.5769498\ttotal: 1m 36s\tremaining: 56.3s\n",
      "632:\tlearn: 1452.4893479\ttotal: 1m 36s\tremaining: 56.1s\n",
      "633:\tlearn: 1452.3987562\ttotal: 1m 36s\tremaining: 56s\n",
      "634:\tlearn: 1452.1183211\ttotal: 1m 37s\tremaining: 55.8s\n",
      "635:\tlearn: 1451.9063771\ttotal: 1m 37s\tremaining: 55.6s\n",
      "636:\tlearn: 1451.7639538\ttotal: 1m 37s\tremaining: 55.5s\n",
      "637:\tlearn: 1451.6267153\ttotal: 1m 37s\tremaining: 55.3s\n",
      "638:\tlearn: 1451.3983709\ttotal: 1m 37s\tremaining: 55.2s\n",
      "639:\tlearn: 1451.3615833\ttotal: 1m 37s\tremaining: 55s\n",
      "640:\tlearn: 1451.3181538\ttotal: 1m 37s\tremaining: 54.8s\n",
      "641:\tlearn: 1451.2384850\ttotal: 1m 38s\tremaining: 54.7s\n",
      "642:\tlearn: 1451.0962688\ttotal: 1m 38s\tremaining: 54.5s\n",
      "643:\tlearn: 1450.9634594\ttotal: 1m 38s\tremaining: 54.4s\n",
      "644:\tlearn: 1450.9281583\ttotal: 1m 38s\tremaining: 54.2s\n",
      "645:\tlearn: 1450.8415702\ttotal: 1m 38s\tremaining: 54s\n",
      "646:\tlearn: 1450.6550576\ttotal: 1m 38s\tremaining: 53.9s\n",
      "647:\tlearn: 1450.5859407\ttotal: 1m 38s\tremaining: 53.7s\n",
      "648:\tlearn: 1450.4934598\ttotal: 1m 38s\tremaining: 53.5s\n",
      "649:\tlearn: 1450.4176907\ttotal: 1m 39s\tremaining: 53.4s\n",
      "650:\tlearn: 1450.3582868\ttotal: 1m 39s\tremaining: 53.2s\n",
      "651:\tlearn: 1450.2922336\ttotal: 1m 39s\tremaining: 53s\n",
      "652:\tlearn: 1450.1387471\ttotal: 1m 39s\tremaining: 52.8s\n",
      "653:\tlearn: 1450.0416387\ttotal: 1m 39s\tremaining: 52.7s\n",
      "654:\tlearn: 1449.6801347\ttotal: 1m 39s\tremaining: 52.5s\n",
      "655:\tlearn: 1449.6216935\ttotal: 1m 39s\tremaining: 52.4s\n",
      "656:\tlearn: 1449.5479689\ttotal: 1m 39s\tremaining: 52.2s\n",
      "657:\tlearn: 1449.4374660\ttotal: 1m 40s\tremaining: 52s\n",
      "658:\tlearn: 1449.3487955\ttotal: 1m 40s\tremaining: 51.9s\n",
      "659:\tlearn: 1449.2332322\ttotal: 1m 40s\tremaining: 51.7s\n",
      "660:\tlearn: 1449.0665625\ttotal: 1m 40s\tremaining: 51.5s\n",
      "661:\tlearn: 1448.8807258\ttotal: 1m 40s\tremaining: 51.4s\n",
      "662:\tlearn: 1448.7404937\ttotal: 1m 40s\tremaining: 51.2s\n",
      "663:\tlearn: 1448.6684724\ttotal: 1m 40s\tremaining: 51.1s\n",
      "664:\tlearn: 1448.5986227\ttotal: 1m 41s\tremaining: 50.9s\n",
      "665:\tlearn: 1448.4864277\ttotal: 1m 41s\tremaining: 50.7s\n",
      "666:\tlearn: 1448.2946826\ttotal: 1m 41s\tremaining: 50.6s\n",
      "667:\tlearn: 1448.2037102\ttotal: 1m 41s\tremaining: 50.4s\n",
      "668:\tlearn: 1448.0311358\ttotal: 1m 41s\tremaining: 50.2s\n",
      "669:\tlearn: 1447.9402405\ttotal: 1m 41s\tremaining: 50s\n",
      "670:\tlearn: 1447.6964483\ttotal: 1m 41s\tremaining: 49.9s\n",
      "671:\tlearn: 1447.6211720\ttotal: 1m 41s\tremaining: 49.7s\n",
      "672:\tlearn: 1447.4449797\ttotal: 1m 42s\tremaining: 49.6s\n",
      "673:\tlearn: 1447.1921694\ttotal: 1m 42s\tremaining: 49.4s\n",
      "674:\tlearn: 1446.9827245\ttotal: 1m 42s\tremaining: 49.3s\n",
      "675:\tlearn: 1446.7383752\ttotal: 1m 42s\tremaining: 49.1s\n",
      "676:\tlearn: 1446.6373677\ttotal: 1m 42s\tremaining: 49s\n",
      "677:\tlearn: 1446.4989302\ttotal: 1m 42s\tremaining: 48.9s\n",
      "678:\tlearn: 1446.3849813\ttotal: 1m 43s\tremaining: 48.7s\n",
      "679:\tlearn: 1446.1993131\ttotal: 1m 43s\tremaining: 48.6s\n",
      "680:\tlearn: 1446.1205133\ttotal: 1m 43s\tremaining: 48.4s\n",
      "681:\tlearn: 1446.0075105\ttotal: 1m 43s\tremaining: 48.2s\n",
      "682:\tlearn: 1445.8248562\ttotal: 1m 43s\tremaining: 48.1s\n",
      "683:\tlearn: 1445.6896637\ttotal: 1m 43s\tremaining: 48s\n",
      "684:\tlearn: 1445.6566935\ttotal: 1m 43s\tremaining: 47.8s\n",
      "685:\tlearn: 1445.5043711\ttotal: 1m 44s\tremaining: 47.6s\n",
      "686:\tlearn: 1445.2904293\ttotal: 1m 44s\tremaining: 47.5s\n",
      "687:\tlearn: 1445.2445773\ttotal: 1m 44s\tremaining: 47.3s\n",
      "688:\tlearn: 1445.1982112\ttotal: 1m 44s\tremaining: 47.1s\n",
      "689:\tlearn: 1445.0604421\ttotal: 1m 44s\tremaining: 47s\n",
      "690:\tlearn: 1444.7499221\ttotal: 1m 44s\tremaining: 46.8s\n",
      "691:\tlearn: 1444.5913755\ttotal: 1m 44s\tremaining: 46.6s\n",
      "692:\tlearn: 1444.3870289\ttotal: 1m 44s\tremaining: 46.5s\n",
      "693:\tlearn: 1444.1321561\ttotal: 1m 45s\tremaining: 46.3s\n",
      "694:\tlearn: 1443.9855302\ttotal: 1m 45s\tremaining: 46.2s\n",
      "695:\tlearn: 1443.7746266\ttotal: 1m 45s\tremaining: 46s\n",
      "696:\tlearn: 1443.6238661\ttotal: 1m 45s\tremaining: 45.9s\n",
      "697:\tlearn: 1443.3941548\ttotal: 1m 45s\tremaining: 45.7s\n",
      "698:\tlearn: 1443.2333972\ttotal: 1m 45s\tremaining: 45.6s\n",
      "699:\tlearn: 1443.1250325\ttotal: 1m 45s\tremaining: 45.4s\n",
      "700:\tlearn: 1442.9872942\ttotal: 1m 46s\tremaining: 45.3s\n",
      "701:\tlearn: 1442.7707880\ttotal: 1m 46s\tremaining: 45.1s\n",
      "702:\tlearn: 1442.6094807\ttotal: 1m 46s\tremaining: 44.9s\n",
      "703:\tlearn: 1442.4816367\ttotal: 1m 46s\tremaining: 44.8s\n",
      "704:\tlearn: 1442.3547077\ttotal: 1m 46s\tremaining: 44.6s\n",
      "705:\tlearn: 1442.2073616\ttotal: 1m 46s\tremaining: 44.5s\n",
      "706:\tlearn: 1441.9595357\ttotal: 1m 46s\tremaining: 44.3s\n",
      "707:\tlearn: 1441.7945582\ttotal: 1m 47s\tremaining: 44.2s\n",
      "708:\tlearn: 1441.4665342\ttotal: 1m 47s\tremaining: 44s\n",
      "709:\tlearn: 1441.4170656\ttotal: 1m 47s\tremaining: 43.9s\n",
      "710:\tlearn: 1441.2581274\ttotal: 1m 47s\tremaining: 43.7s\n",
      "711:\tlearn: 1441.0079648\ttotal: 1m 47s\tremaining: 43.6s\n",
      "712:\tlearn: 1440.7767108\ttotal: 1m 47s\tremaining: 43.4s\n",
      "713:\tlearn: 1440.7266947\ttotal: 1m 47s\tremaining: 43.3s\n",
      "714:\tlearn: 1440.3666034\ttotal: 1m 48s\tremaining: 43.1s\n",
      "715:\tlearn: 1440.2767618\ttotal: 1m 48s\tremaining: 42.9s\n",
      "716:\tlearn: 1440.2291610\ttotal: 1m 48s\tremaining: 42.8s\n",
      "717:\tlearn: 1440.0263915\ttotal: 1m 48s\tremaining: 42.6s\n",
      "718:\tlearn: 1439.9102877\ttotal: 1m 48s\tremaining: 42.5s\n",
      "719:\tlearn: 1439.8302249\ttotal: 1m 48s\tremaining: 42.3s\n",
      "720:\tlearn: 1439.6421987\ttotal: 1m 49s\tremaining: 42.2s\n",
      "721:\tlearn: 1439.5242704\ttotal: 1m 49s\tremaining: 42s\n",
      "722:\tlearn: 1439.3563667\ttotal: 1m 49s\tremaining: 41.9s\n",
      "723:\tlearn: 1439.2896036\ttotal: 1m 49s\tremaining: 41.7s\n",
      "724:\tlearn: 1439.1727562\ttotal: 1m 49s\tremaining: 41.6s\n",
      "725:\tlearn: 1439.0548141\ttotal: 1m 49s\tremaining: 41.4s\n",
      "726:\tlearn: 1438.9828538\ttotal: 1m 49s\tremaining: 41.3s\n",
      "727:\tlearn: 1438.8088789\ttotal: 1m 50s\tremaining: 41.1s\n",
      "728:\tlearn: 1438.6832940\ttotal: 1m 50s\tremaining: 41s\n",
      "729:\tlearn: 1438.6286702\ttotal: 1m 50s\tremaining: 40.8s\n",
      "730:\tlearn: 1438.4990926\ttotal: 1m 50s\tremaining: 40.7s\n",
      "731:\tlearn: 1438.4566251\ttotal: 1m 50s\tremaining: 40.5s\n",
      "732:\tlearn: 1438.3382198\ttotal: 1m 50s\tremaining: 40.4s\n",
      "733:\tlearn: 1438.1490337\ttotal: 1m 50s\tremaining: 40.2s\n",
      "734:\tlearn: 1437.9539332\ttotal: 1m 51s\tremaining: 40.1s\n",
      "735:\tlearn: 1437.7764723\ttotal: 1m 51s\tremaining: 39.9s\n",
      "736:\tlearn: 1437.7334753\ttotal: 1m 51s\tremaining: 39.8s\n",
      "737:\tlearn: 1437.6840895\ttotal: 1m 51s\tremaining: 39.6s\n",
      "738:\tlearn: 1437.5141093\ttotal: 1m 51s\tremaining: 39.5s\n",
      "739:\tlearn: 1437.4951356\ttotal: 1m 51s\tremaining: 39.3s\n",
      "740:\tlearn: 1437.4416720\ttotal: 1m 51s\tremaining: 39.1s\n",
      "741:\tlearn: 1437.4127578\ttotal: 1m 52s\tremaining: 39s\n",
      "742:\tlearn: 1437.2317542\ttotal: 1m 52s\tremaining: 38.9s\n",
      "743:\tlearn: 1437.0461103\ttotal: 1m 52s\tremaining: 38.7s\n",
      "744:\tlearn: 1436.9596627\ttotal: 1m 52s\tremaining: 38.5s\n",
      "745:\tlearn: 1436.7847963\ttotal: 1m 52s\tremaining: 38.4s\n",
      "746:\tlearn: 1436.6417367\ttotal: 1m 52s\tremaining: 38.2s\n",
      "747:\tlearn: 1436.4574693\ttotal: 1m 53s\tremaining: 38.1s\n",
      "748:\tlearn: 1436.2458002\ttotal: 1m 53s\tremaining: 37.9s\n",
      "749:\tlearn: 1436.1094976\ttotal: 1m 53s\tremaining: 37.8s\n",
      "750:\tlearn: 1435.9241088\ttotal: 1m 53s\tremaining: 37.6s\n",
      "751:\tlearn: 1435.9083948\ttotal: 1m 53s\tremaining: 37.5s\n",
      "752:\tlearn: 1435.8037959\ttotal: 1m 53s\tremaining: 37.3s\n",
      "753:\tlearn: 1435.5736972\ttotal: 1m 53s\tremaining: 37.2s\n",
      "754:\tlearn: 1435.5043530\ttotal: 1m 54s\tremaining: 37s\n",
      "755:\tlearn: 1435.4487514\ttotal: 1m 54s\tremaining: 36.9s\n",
      "756:\tlearn: 1435.3575501\ttotal: 1m 54s\tremaining: 36.7s\n",
      "757:\tlearn: 1435.3034353\ttotal: 1m 54s\tremaining: 36.5s\n",
      "758:\tlearn: 1435.1444309\ttotal: 1m 54s\tremaining: 36.4s\n",
      "759:\tlearn: 1435.0916229\ttotal: 1m 54s\tremaining: 36.3s\n",
      "760:\tlearn: 1434.9139055\ttotal: 1m 54s\tremaining: 36.1s\n",
      "761:\tlearn: 1434.7414534\ttotal: 1m 55s\tremaining: 36s\n",
      "762:\tlearn: 1434.6379090\ttotal: 1m 55s\tremaining: 35.8s\n",
      "763:\tlearn: 1434.6095266\ttotal: 1m 55s\tremaining: 35.7s\n",
      "764:\tlearn: 1434.4355601\ttotal: 1m 55s\tremaining: 35.5s\n",
      "765:\tlearn: 1434.0565998\ttotal: 1m 55s\tremaining: 35.4s\n",
      "766:\tlearn: 1433.8728871\ttotal: 1m 55s\tremaining: 35.2s\n",
      "767:\tlearn: 1433.6347240\ttotal: 1m 56s\tremaining: 35.1s\n",
      "768:\tlearn: 1433.4648406\ttotal: 1m 56s\tremaining: 34.9s\n",
      "769:\tlearn: 1433.3938646\ttotal: 1m 56s\tremaining: 34.7s\n",
      "770:\tlearn: 1433.1355502\ttotal: 1m 56s\tremaining: 34.6s\n",
      "771:\tlearn: 1432.8037518\ttotal: 1m 56s\tremaining: 34.4s\n",
      "772:\tlearn: 1432.4447607\ttotal: 1m 56s\tremaining: 34.3s\n",
      "773:\tlearn: 1432.2538429\ttotal: 1m 56s\tremaining: 34.1s\n",
      "774:\tlearn: 1432.2351205\ttotal: 1m 56s\tremaining: 33.9s\n",
      "775:\tlearn: 1432.1143051\ttotal: 1m 57s\tremaining: 33.8s\n",
      "776:\tlearn: 1432.0307041\ttotal: 1m 57s\tremaining: 33.6s\n",
      "777:\tlearn: 1431.9567213\ttotal: 1m 57s\tremaining: 33.5s\n",
      "778:\tlearn: 1431.7601018\ttotal: 1m 57s\tremaining: 33.3s\n",
      "779:\tlearn: 1431.4302269\ttotal: 1m 57s\tremaining: 33.2s\n",
      "780:\tlearn: 1431.3315022\ttotal: 1m 57s\tremaining: 33s\n",
      "781:\tlearn: 1431.2091012\ttotal: 1m 57s\tremaining: 32.9s\n",
      "782:\tlearn: 1431.1190449\ttotal: 1m 57s\tremaining: 32.7s\n",
      "783:\tlearn: 1431.0527355\ttotal: 1m 58s\tremaining: 32.5s\n",
      "784:\tlearn: 1430.9615635\ttotal: 1m 58s\tremaining: 32.4s\n",
      "785:\tlearn: 1430.7940437\ttotal: 1m 58s\tremaining: 32.2s\n",
      "786:\tlearn: 1430.6709255\ttotal: 1m 58s\tremaining: 32.1s\n",
      "787:\tlearn: 1430.5766744\ttotal: 1m 58s\tremaining: 31.9s\n",
      "788:\tlearn: 1430.4378012\ttotal: 1m 58s\tremaining: 31.8s\n",
      "789:\tlearn: 1430.3177557\ttotal: 1m 59s\tremaining: 31.6s\n",
      "790:\tlearn: 1430.1635173\ttotal: 1m 59s\tremaining: 31.5s\n",
      "791:\tlearn: 1430.0383488\ttotal: 1m 59s\tremaining: 31.3s\n",
      "792:\tlearn: 1429.8477201\ttotal: 1m 59s\tremaining: 31.2s\n",
      "793:\tlearn: 1429.6665950\ttotal: 1m 59s\tremaining: 31s\n",
      "794:\tlearn: 1429.6140000\ttotal: 1m 59s\tremaining: 30.9s\n",
      "795:\tlearn: 1429.4644219\ttotal: 1m 59s\tremaining: 30.7s\n",
      "796:\tlearn: 1429.1373684\ttotal: 2m\tremaining: 30.6s\n",
      "797:\tlearn: 1428.9948635\ttotal: 2m\tremaining: 30.4s\n",
      "798:\tlearn: 1428.8206769\ttotal: 2m\tremaining: 30.3s\n",
      "799:\tlearn: 1428.7912063\ttotal: 2m\tremaining: 30.1s\n",
      "800:\tlearn: 1428.6663075\ttotal: 2m\tremaining: 29.9s\n",
      "801:\tlearn: 1428.4852872\ttotal: 2m\tremaining: 29.8s\n",
      "802:\tlearn: 1428.4340797\ttotal: 2m\tremaining: 29.6s\n",
      "803:\tlearn: 1428.3321845\ttotal: 2m\tremaining: 29.5s\n",
      "804:\tlearn: 1428.2217385\ttotal: 2m 1s\tremaining: 29.3s\n",
      "805:\tlearn: 1428.2086563\ttotal: 2m 1s\tremaining: 29.2s\n",
      "806:\tlearn: 1428.0320019\ttotal: 2m 1s\tremaining: 29s\n",
      "807:\tlearn: 1427.9459768\ttotal: 2m 1s\tremaining: 28.9s\n",
      "808:\tlearn: 1427.9072337\ttotal: 2m 1s\tremaining: 28.7s\n",
      "809:\tlearn: 1427.7829121\ttotal: 2m 1s\tremaining: 28.6s\n",
      "810:\tlearn: 1427.7301389\ttotal: 2m 1s\tremaining: 28.4s\n",
      "811:\tlearn: 1427.5752047\ttotal: 2m 2s\tremaining: 28.3s\n",
      "812:\tlearn: 1427.4946576\ttotal: 2m 2s\tremaining: 28.1s\n",
      "813:\tlearn: 1427.2825579\ttotal: 2m 2s\tremaining: 28s\n",
      "814:\tlearn: 1427.1413926\ttotal: 2m 2s\tremaining: 27.8s\n",
      "815:\tlearn: 1427.0775206\ttotal: 2m 2s\tremaining: 27.7s\n",
      "816:\tlearn: 1426.8760849\ttotal: 2m 2s\tremaining: 27.5s\n",
      "817:\tlearn: 1426.7509233\ttotal: 2m 3s\tremaining: 27.4s\n",
      "818:\tlearn: 1426.4169518\ttotal: 2m 3s\tremaining: 27.3s\n",
      "819:\tlearn: 1426.3000190\ttotal: 2m 3s\tremaining: 27.1s\n",
      "820:\tlearn: 1425.9632711\ttotal: 2m 3s\tremaining: 26.9s\n",
      "821:\tlearn: 1425.7717874\ttotal: 2m 3s\tremaining: 26.8s\n",
      "822:\tlearn: 1425.7158319\ttotal: 2m 3s\tremaining: 26.6s\n",
      "823:\tlearn: 1425.6090742\ttotal: 2m 4s\tremaining: 26.5s\n",
      "824:\tlearn: 1425.4955595\ttotal: 2m 4s\tremaining: 26.3s\n",
      "825:\tlearn: 1425.4366102\ttotal: 2m 4s\tremaining: 26.2s\n",
      "826:\tlearn: 1425.2394996\ttotal: 2m 4s\tremaining: 26s\n",
      "827:\tlearn: 1425.0714140\ttotal: 2m 4s\tremaining: 25.9s\n",
      "828:\tlearn: 1424.8837866\ttotal: 2m 4s\tremaining: 25.7s\n",
      "829:\tlearn: 1424.6169943\ttotal: 2m 4s\tremaining: 25.6s\n",
      "830:\tlearn: 1424.4128815\ttotal: 2m 5s\tremaining: 25.4s\n",
      "831:\tlearn: 1424.3538837\ttotal: 2m 5s\tremaining: 25.3s\n",
      "832:\tlearn: 1424.3133168\ttotal: 2m 5s\tremaining: 25.1s\n",
      "833:\tlearn: 1424.1776148\ttotal: 2m 5s\tremaining: 25s\n",
      "834:\tlearn: 1424.1237567\ttotal: 2m 5s\tremaining: 24.9s\n",
      "835:\tlearn: 1423.7837873\ttotal: 2m 5s\tremaining: 24.7s\n",
      "836:\tlearn: 1423.6267576\ttotal: 2m 6s\tremaining: 24.6s\n",
      "837:\tlearn: 1423.4709979\ttotal: 2m 6s\tremaining: 24.4s\n",
      "838:\tlearn: 1423.3697782\ttotal: 2m 6s\tremaining: 24.3s\n",
      "839:\tlearn: 1423.2049878\ttotal: 2m 6s\tremaining: 24.1s\n",
      "840:\tlearn: 1423.1009549\ttotal: 2m 6s\tremaining: 24s\n",
      "841:\tlearn: 1422.9439535\ttotal: 2m 6s\tremaining: 23.8s\n",
      "842:\tlearn: 1422.7083838\ttotal: 2m 7s\tremaining: 23.7s\n",
      "843:\tlearn: 1422.5686658\ttotal: 2m 7s\tremaining: 23.5s\n",
      "844:\tlearn: 1422.4459496\ttotal: 2m 7s\tremaining: 23.4s\n",
      "845:\tlearn: 1422.3304754\ttotal: 2m 7s\tremaining: 23.2s\n",
      "846:\tlearn: 1422.0597822\ttotal: 2m 7s\tremaining: 23.1s\n",
      "847:\tlearn: 1421.9066379\ttotal: 2m 7s\tremaining: 22.9s\n",
      "848:\tlearn: 1421.8423350\ttotal: 2m 8s\tremaining: 22.8s\n",
      "849:\tlearn: 1421.7880491\ttotal: 2m 8s\tremaining: 22.6s\n",
      "850:\tlearn: 1421.7324220\ttotal: 2m 8s\tremaining: 22.5s\n",
      "851:\tlearn: 1421.6469927\ttotal: 2m 8s\tremaining: 22.3s\n",
      "852:\tlearn: 1421.5582013\ttotal: 2m 8s\tremaining: 22.2s\n",
      "853:\tlearn: 1421.5012869\ttotal: 2m 8s\tremaining: 22s\n",
      "854:\tlearn: 1421.2756297\ttotal: 2m 8s\tremaining: 21.9s\n",
      "855:\tlearn: 1421.2193643\ttotal: 2m 9s\tremaining: 21.7s\n",
      "856:\tlearn: 1420.8919389\ttotal: 2m 9s\tremaining: 21.6s\n",
      "857:\tlearn: 1420.8258310\ttotal: 2m 9s\tremaining: 21.4s\n",
      "858:\tlearn: 1420.7714179\ttotal: 2m 9s\tremaining: 21.3s\n",
      "859:\tlearn: 1420.6129510\ttotal: 2m 9s\tremaining: 21.1s\n",
      "860:\tlearn: 1420.4938067\ttotal: 2m 9s\tremaining: 21s\n",
      "861:\tlearn: 1420.3403283\ttotal: 2m 9s\tremaining: 20.8s\n",
      "862:\tlearn: 1420.1316206\ttotal: 2m 10s\tremaining: 20.7s\n",
      "863:\tlearn: 1420.0656413\ttotal: 2m 10s\tremaining: 20.5s\n",
      "864:\tlearn: 1419.9880823\ttotal: 2m 10s\tremaining: 20.4s\n",
      "865:\tlearn: 1419.8072168\ttotal: 2m 10s\tremaining: 20.2s\n",
      "866:\tlearn: 1419.7809286\ttotal: 2m 10s\tremaining: 20.1s\n",
      "867:\tlearn: 1419.6715130\ttotal: 2m 10s\tremaining: 19.9s\n",
      "868:\tlearn: 1419.6420546\ttotal: 2m 10s\tremaining: 19.7s\n",
      "869:\tlearn: 1419.4680789\ttotal: 2m 11s\tremaining: 19.6s\n",
      "870:\tlearn: 1419.3338980\ttotal: 2m 11s\tremaining: 19.4s\n",
      "871:\tlearn: 1419.2011033\ttotal: 2m 11s\tremaining: 19.3s\n",
      "872:\tlearn: 1419.1431414\ttotal: 2m 11s\tremaining: 19.1s\n",
      "873:\tlearn: 1418.9535346\ttotal: 2m 11s\tremaining: 19s\n",
      "874:\tlearn: 1418.8058496\ttotal: 2m 11s\tremaining: 18.8s\n",
      "875:\tlearn: 1418.6956699\ttotal: 2m 11s\tremaining: 18.7s\n",
      "876:\tlearn: 1418.5553940\ttotal: 2m 12s\tremaining: 18.5s\n",
      "877:\tlearn: 1418.5014078\ttotal: 2m 12s\tremaining: 18.4s\n",
      "878:\tlearn: 1418.2491425\ttotal: 2m 12s\tremaining: 18.2s\n",
      "879:\tlearn: 1418.1006513\ttotal: 2m 12s\tremaining: 18.1s\n",
      "880:\tlearn: 1418.0451359\ttotal: 2m 12s\tremaining: 17.9s\n",
      "881:\tlearn: 1417.8846159\ttotal: 2m 12s\tremaining: 17.8s\n",
      "882:\tlearn: 1417.8436813\ttotal: 2m 13s\tremaining: 17.6s\n",
      "883:\tlearn: 1417.7838883\ttotal: 2m 13s\tremaining: 17.5s\n",
      "884:\tlearn: 1417.5960606\ttotal: 2m 13s\tremaining: 17.3s\n",
      "885:\tlearn: 1417.3451341\ttotal: 2m 13s\tremaining: 17.2s\n",
      "886:\tlearn: 1417.1869676\ttotal: 2m 13s\tremaining: 17s\n",
      "887:\tlearn: 1417.0232578\ttotal: 2m 13s\tremaining: 16.9s\n",
      "888:\tlearn: 1416.9721870\ttotal: 2m 13s\tremaining: 16.7s\n",
      "889:\tlearn: 1416.9415305\ttotal: 2m 14s\tremaining: 16.6s\n",
      "890:\tlearn: 1416.8294691\ttotal: 2m 14s\tremaining: 16.4s\n",
      "891:\tlearn: 1416.6648827\ttotal: 2m 14s\tremaining: 16.3s\n",
      "892:\tlearn: 1416.6067206\ttotal: 2m 14s\tremaining: 16.1s\n",
      "893:\tlearn: 1416.4872306\ttotal: 2m 14s\tremaining: 16s\n",
      "894:\tlearn: 1416.4328245\ttotal: 2m 14s\tremaining: 15.8s\n",
      "895:\tlearn: 1416.3798460\ttotal: 2m 14s\tremaining: 15.7s\n",
      "896:\tlearn: 1416.1532453\ttotal: 2m 15s\tremaining: 15.5s\n",
      "897:\tlearn: 1415.9684519\ttotal: 2m 15s\tremaining: 15.4s\n",
      "898:\tlearn: 1415.8548025\ttotal: 2m 15s\tremaining: 15.2s\n",
      "899:\tlearn: 1415.7138723\ttotal: 2m 15s\tremaining: 15.1s\n",
      "900:\tlearn: 1415.6570680\ttotal: 2m 15s\tremaining: 14.9s\n",
      "901:\tlearn: 1415.3977123\ttotal: 2m 15s\tremaining: 14.8s\n",
      "902:\tlearn: 1415.3719091\ttotal: 2m 15s\tremaining: 14.6s\n",
      "903:\tlearn: 1415.3215829\ttotal: 2m 16s\tremaining: 14.5s\n",
      "904:\tlearn: 1415.2464098\ttotal: 2m 16s\tremaining: 14.3s\n",
      "905:\tlearn: 1415.1659604\ttotal: 2m 16s\tremaining: 14.2s\n",
      "906:\tlearn: 1415.0842905\ttotal: 2m 16s\tremaining: 14s\n",
      "907:\tlearn: 1414.9525342\ttotal: 2m 16s\tremaining: 13.9s\n",
      "908:\tlearn: 1414.9306477\ttotal: 2m 16s\tremaining: 13.7s\n",
      "909:\tlearn: 1414.7429474\ttotal: 2m 17s\tremaining: 13.6s\n",
      "910:\tlearn: 1414.5174252\ttotal: 2m 17s\tremaining: 13.4s\n",
      "911:\tlearn: 1414.4208240\ttotal: 2m 17s\tremaining: 13.2s\n",
      "912:\tlearn: 1414.2736857\ttotal: 2m 17s\tremaining: 13.1s\n",
      "913:\tlearn: 1414.2533019\ttotal: 2m 17s\tremaining: 12.9s\n",
      "914:\tlearn: 1414.1810187\ttotal: 2m 17s\tremaining: 12.8s\n",
      "915:\tlearn: 1414.0372235\ttotal: 2m 17s\tremaining: 12.6s\n",
      "916:\tlearn: 1413.9647126\ttotal: 2m 18s\tremaining: 12.5s\n",
      "917:\tlearn: 1413.9320574\ttotal: 2m 18s\tremaining: 12.3s\n",
      "918:\tlearn: 1413.7388852\ttotal: 2m 18s\tremaining: 12.2s\n",
      "919:\tlearn: 1413.6701800\ttotal: 2m 18s\tremaining: 12s\n",
      "920:\tlearn: 1413.4462749\ttotal: 2m 18s\tremaining: 11.9s\n",
      "921:\tlearn: 1413.4081460\ttotal: 2m 18s\tremaining: 11.7s\n",
      "922:\tlearn: 1413.2718868\ttotal: 2m 18s\tremaining: 11.6s\n",
      "923:\tlearn: 1413.0737859\ttotal: 2m 19s\tremaining: 11.4s\n",
      "924:\tlearn: 1413.0357878\ttotal: 2m 19s\tremaining: 11.3s\n",
      "925:\tlearn: 1412.8409023\ttotal: 2m 19s\tremaining: 11.1s\n",
      "926:\tlearn: 1412.7424165\ttotal: 2m 19s\tremaining: 11s\n",
      "927:\tlearn: 1412.6729282\ttotal: 2m 19s\tremaining: 10.8s\n",
      "928:\tlearn: 1412.3544629\ttotal: 2m 19s\tremaining: 10.7s\n",
      "929:\tlearn: 1412.2137420\ttotal: 2m 19s\tremaining: 10.5s\n",
      "930:\tlearn: 1412.1910535\ttotal: 2m 20s\tremaining: 10.4s\n",
      "931:\tlearn: 1411.9967978\ttotal: 2m 20s\tremaining: 10.2s\n",
      "932:\tlearn: 1411.9684939\ttotal: 2m 20s\tremaining: 10.1s\n",
      "933:\tlearn: 1411.8979009\ttotal: 2m 20s\tremaining: 9.93s\n",
      "934:\tlearn: 1411.8529148\ttotal: 2m 20s\tremaining: 9.78s\n",
      "935:\tlearn: 1411.6943491\ttotal: 2m 20s\tremaining: 9.63s\n",
      "936:\tlearn: 1411.6001745\ttotal: 2m 20s\tremaining: 9.48s\n",
      "937:\tlearn: 1411.4811802\ttotal: 2m 21s\tremaining: 9.33s\n",
      "938:\tlearn: 1411.3478356\ttotal: 2m 21s\tremaining: 9.18s\n",
      "939:\tlearn: 1411.2682195\ttotal: 2m 21s\tremaining: 9.03s\n",
      "940:\tlearn: 1411.1620051\ttotal: 2m 21s\tremaining: 8.88s\n",
      "941:\tlearn: 1410.8629977\ttotal: 2m 21s\tremaining: 8.73s\n",
      "942:\tlearn: 1410.7566764\ttotal: 2m 21s\tremaining: 8.58s\n",
      "943:\tlearn: 1410.6407739\ttotal: 2m 22s\tremaining: 8.43s\n",
      "944:\tlearn: 1410.5078202\ttotal: 2m 22s\tremaining: 8.28s\n",
      "945:\tlearn: 1410.3387537\ttotal: 2m 22s\tremaining: 8.13s\n",
      "946:\tlearn: 1410.1846150\ttotal: 2m 22s\tremaining: 7.98s\n",
      "947:\tlearn: 1410.1090416\ttotal: 2m 22s\tremaining: 7.83s\n",
      "948:\tlearn: 1409.9776421\ttotal: 2m 22s\tremaining: 7.68s\n",
      "949:\tlearn: 1409.7524625\ttotal: 2m 23s\tremaining: 7.53s\n",
      "950:\tlearn: 1409.6434771\ttotal: 2m 23s\tremaining: 7.38s\n",
      "951:\tlearn: 1409.5270330\ttotal: 2m 23s\tremaining: 7.23s\n",
      "952:\tlearn: 1409.4100260\ttotal: 2m 23s\tremaining: 7.08s\n",
      "953:\tlearn: 1409.1939242\ttotal: 2m 23s\tremaining: 6.93s\n",
      "954:\tlearn: 1409.0816281\ttotal: 2m 23s\tremaining: 6.78s\n",
      "955:\tlearn: 1409.0235899\ttotal: 2m 24s\tremaining: 6.63s\n",
      "956:\tlearn: 1408.9497419\ttotal: 2m 24s\tremaining: 6.48s\n",
      "957:\tlearn: 1408.8539708\ttotal: 2m 24s\tremaining: 6.33s\n",
      "958:\tlearn: 1408.7525306\ttotal: 2m 24s\tremaining: 6.18s\n",
      "959:\tlearn: 1408.6067441\ttotal: 2m 24s\tremaining: 6.03s\n",
      "960:\tlearn: 1408.4569714\ttotal: 2m 24s\tremaining: 5.88s\n",
      "961:\tlearn: 1408.3655485\ttotal: 2m 25s\tremaining: 5.73s\n",
      "962:\tlearn: 1408.2401593\ttotal: 2m 25s\tremaining: 5.58s\n",
      "963:\tlearn: 1408.1371364\ttotal: 2m 25s\tremaining: 5.43s\n",
      "964:\tlearn: 1407.9741646\ttotal: 2m 25s\tremaining: 5.28s\n",
      "965:\tlearn: 1407.8758227\ttotal: 2m 25s\tremaining: 5.13s\n",
      "966:\tlearn: 1407.7485921\ttotal: 2m 25s\tremaining: 4.98s\n",
      "967:\tlearn: 1407.5051835\ttotal: 2m 26s\tremaining: 4.83s\n",
      "968:\tlearn: 1407.4363427\ttotal: 2m 26s\tremaining: 4.68s\n",
      "969:\tlearn: 1407.2804933\ttotal: 2m 26s\tremaining: 4.53s\n",
      "970:\tlearn: 1407.1709453\ttotal: 2m 26s\tremaining: 4.38s\n",
      "971:\tlearn: 1407.0807295\ttotal: 2m 26s\tremaining: 4.23s\n",
      "972:\tlearn: 1407.0312667\ttotal: 2m 26s\tremaining: 4.08s\n",
      "973:\tlearn: 1406.7883553\ttotal: 2m 27s\tremaining: 3.93s\n",
      "974:\tlearn: 1406.5472879\ttotal: 2m 27s\tremaining: 3.78s\n",
      "975:\tlearn: 1406.3527620\ttotal: 2m 27s\tremaining: 3.63s\n",
      "976:\tlearn: 1406.2744602\ttotal: 2m 27s\tremaining: 3.47s\n",
      "977:\tlearn: 1406.0669073\ttotal: 2m 27s\tremaining: 3.32s\n",
      "978:\tlearn: 1405.7123513\ttotal: 2m 27s\tremaining: 3.17s\n",
      "979:\tlearn: 1405.6735756\ttotal: 2m 28s\tremaining: 3.02s\n",
      "980:\tlearn: 1405.5335956\ttotal: 2m 28s\tremaining: 2.87s\n",
      "981:\tlearn: 1405.3857953\ttotal: 2m 28s\tremaining: 2.72s\n",
      "982:\tlearn: 1405.3339731\ttotal: 2m 28s\tremaining: 2.57s\n",
      "983:\tlearn: 1405.0972459\ttotal: 2m 28s\tremaining: 2.42s\n",
      "984:\tlearn: 1404.9127501\ttotal: 2m 28s\tremaining: 2.27s\n",
      "985:\tlearn: 1404.6738613\ttotal: 2m 29s\tremaining: 2.12s\n",
      "986:\tlearn: 1404.3742561\ttotal: 2m 29s\tremaining: 1.97s\n",
      "987:\tlearn: 1404.0296929\ttotal: 2m 29s\tremaining: 1.81s\n",
      "988:\tlearn: 1403.9721683\ttotal: 2m 29s\tremaining: 1.66s\n",
      "989:\tlearn: 1403.8320688\ttotal: 2m 29s\tremaining: 1.51s\n",
      "990:\tlearn: 1403.7649645\ttotal: 2m 29s\tremaining: 1.36s\n",
      "991:\tlearn: 1403.6912081\ttotal: 2m 29s\tremaining: 1.21s\n",
      "992:\tlearn: 1403.6034401\ttotal: 2m 30s\tremaining: 1.06s\n",
      "993:\tlearn: 1403.5105454\ttotal: 2m 30s\tremaining: 907ms\n",
      "994:\tlearn: 1403.3922377\ttotal: 2m 30s\tremaining: 755ms\n",
      "995:\tlearn: 1403.3553762\ttotal: 2m 30s\tremaining: 604ms\n",
      "996:\tlearn: 1403.2776886\ttotal: 2m 30s\tremaining: 453ms\n",
      "997:\tlearn: 1403.2269380\ttotal: 2m 30s\tremaining: 302ms\n",
      "998:\tlearn: 1403.1437858\ttotal: 2m 30s\tremaining: 151ms\n",
      "999:\tlearn: 1403.0206883\ttotal: 2m 31s\tremaining: 0us\n",
      "Learning rate set to 0.086297\n",
      "0:\tlearn: 4378.3045536\ttotal: 201ms\tremaining: 3m 20s\n",
      "1:\tlearn: 4112.3518899\ttotal: 367ms\tremaining: 3m 3s\n",
      "2:\tlearn: 3879.9159973\ttotal: 514ms\tremaining: 2m 50s\n",
      "3:\tlearn: 3668.8390369\ttotal: 683ms\tremaining: 2m 50s\n",
      "4:\tlearn: 3480.8309494\ttotal: 859ms\tremaining: 2m 50s\n",
      "5:\tlearn: 3309.1884651\ttotal: 1.02s\tremaining: 2m 48s\n",
      "6:\tlearn: 3154.2934415\ttotal: 1.18s\tremaining: 2m 47s\n",
      "7:\tlearn: 3015.5540471\ttotal: 1.33s\tremaining: 2m 45s\n",
      "8:\tlearn: 2894.6991518\ttotal: 1.48s\tremaining: 2m 43s\n",
      "9:\tlearn: 2785.8133479\ttotal: 1.66s\tremaining: 2m 44s\n",
      "10:\tlearn: 2681.3204674\ttotal: 1.82s\tremaining: 2m 43s\n",
      "11:\tlearn: 2587.7537062\ttotal: 1.97s\tremaining: 2m 41s\n",
      "12:\tlearn: 2506.5591423\ttotal: 2.11s\tremaining: 2m 40s\n",
      "13:\tlearn: 2434.2638178\ttotal: 2.25s\tremaining: 2m 38s\n",
      "14:\tlearn: 2370.6362133\ttotal: 2.41s\tremaining: 2m 38s\n",
      "15:\tlearn: 2311.6293405\ttotal: 2.53s\tremaining: 2m 35s\n",
      "16:\tlearn: 2262.6603103\ttotal: 2.68s\tremaining: 2m 35s\n",
      "17:\tlearn: 2218.1622508\ttotal: 2.84s\tremaining: 2m 35s\n",
      "18:\tlearn: 2177.2419969\ttotal: 2.98s\tremaining: 2m 33s\n",
      "19:\tlearn: 2139.8538165\ttotal: 3.13s\tremaining: 2m 33s\n",
      "20:\tlearn: 2101.7761652\ttotal: 3.27s\tremaining: 2m 32s\n",
      "21:\tlearn: 2071.0864354\ttotal: 3.41s\tremaining: 2m 31s\n",
      "22:\tlearn: 2043.9557129\ttotal: 3.59s\tremaining: 2m 32s\n",
      "23:\tlearn: 2019.0995525\ttotal: 3.77s\tremaining: 2m 33s\n",
      "24:\tlearn: 1995.8012761\ttotal: 3.91s\tremaining: 2m 32s\n",
      "25:\tlearn: 1975.8226872\ttotal: 4.07s\tremaining: 2m 32s\n",
      "26:\tlearn: 1956.0893807\ttotal: 4.23s\tremaining: 2m 32s\n",
      "27:\tlearn: 1934.4999594\ttotal: 4.39s\tremaining: 2m 32s\n",
      "28:\tlearn: 1918.4214943\ttotal: 4.54s\tremaining: 2m 31s\n",
      "29:\tlearn: 1903.6185186\ttotal: 4.64s\tremaining: 2m 30s\n",
      "30:\tlearn: 1889.6776276\ttotal: 4.77s\tremaining: 2m 28s\n",
      "31:\tlearn: 1877.7072853\ttotal: 4.89s\tremaining: 2m 28s\n",
      "32:\tlearn: 1864.9617617\ttotal: 4.99s\tremaining: 2m 26s\n",
      "33:\tlearn: 1855.0405670\ttotal: 5.12s\tremaining: 2m 25s\n",
      "34:\tlearn: 1844.6202198\ttotal: 5.24s\tremaining: 2m 24s\n",
      "35:\tlearn: 1835.7637600\ttotal: 5.37s\tremaining: 2m 23s\n",
      "36:\tlearn: 1828.4020167\ttotal: 5.54s\tremaining: 2m 24s\n",
      "37:\tlearn: 1821.3234016\ttotal: 5.68s\tremaining: 2m 23s\n",
      "38:\tlearn: 1812.9445707\ttotal: 5.81s\tremaining: 2m 23s\n",
      "39:\tlearn: 1807.0034151\ttotal: 5.92s\tremaining: 2m 22s\n",
      "40:\tlearn: 1800.9121248\ttotal: 6.08s\tremaining: 2m 22s\n",
      "41:\tlearn: 1795.5064983\ttotal: 6.21s\tremaining: 2m 21s\n",
      "42:\tlearn: 1789.5733330\ttotal: 6.33s\tremaining: 2m 20s\n",
      "43:\tlearn: 1784.1384158\ttotal: 6.44s\tremaining: 2m 19s\n",
      "44:\tlearn: 1779.5792239\ttotal: 6.55s\tremaining: 2m 18s\n",
      "45:\tlearn: 1776.1983334\ttotal: 6.65s\tremaining: 2m 17s\n",
      "46:\tlearn: 1770.7387494\ttotal: 6.76s\tremaining: 2m 17s\n",
      "47:\tlearn: 1767.4853694\ttotal: 6.91s\tremaining: 2m 16s\n",
      "48:\tlearn: 1764.1767535\ttotal: 7.05s\tremaining: 2m 16s\n",
      "49:\tlearn: 1760.4735767\ttotal: 7.18s\tremaining: 2m 16s\n",
      "50:\tlearn: 1757.1539108\ttotal: 7.29s\tremaining: 2m 15s\n",
      "51:\tlearn: 1752.8282262\ttotal: 7.41s\tremaining: 2m 15s\n",
      "52:\tlearn: 1747.3910574\ttotal: 7.52s\tremaining: 2m 14s\n",
      "53:\tlearn: 1744.7958527\ttotal: 7.63s\tremaining: 2m 13s\n",
      "54:\tlearn: 1741.0635320\ttotal: 7.77s\tremaining: 2m 13s\n",
      "55:\tlearn: 1738.1299936\ttotal: 7.91s\tremaining: 2m 13s\n",
      "56:\tlearn: 1735.4388694\ttotal: 8.05s\tremaining: 2m 13s\n",
      "57:\tlearn: 1732.6768485\ttotal: 8.18s\tremaining: 2m 12s\n",
      "58:\tlearn: 1728.7651190\ttotal: 8.27s\tremaining: 2m 11s\n",
      "59:\tlearn: 1724.6611025\ttotal: 8.38s\tremaining: 2m 11s\n",
      "60:\tlearn: 1722.1159193\ttotal: 8.52s\tremaining: 2m 11s\n",
      "61:\tlearn: 1718.6902744\ttotal: 8.61s\tremaining: 2m 10s\n",
      "62:\tlearn: 1715.9370396\ttotal: 8.79s\tremaining: 2m 10s\n",
      "63:\tlearn: 1712.8911013\ttotal: 8.94s\tremaining: 2m 10s\n",
      "64:\tlearn: 1711.2170673\ttotal: 9.06s\tremaining: 2m 10s\n",
      "65:\tlearn: 1709.4930772\ttotal: 9.21s\tremaining: 2m 10s\n",
      "66:\tlearn: 1707.5492817\ttotal: 9.33s\tremaining: 2m 9s\n",
      "67:\tlearn: 1703.9739814\ttotal: 9.45s\tremaining: 2m 9s\n",
      "68:\tlearn: 1701.3145293\ttotal: 9.59s\tremaining: 2m 9s\n",
      "69:\tlearn: 1698.8298267\ttotal: 9.75s\tremaining: 2m 9s\n",
      "70:\tlearn: 1697.3279068\ttotal: 9.9s\tremaining: 2m 9s\n",
      "71:\tlearn: 1695.5172982\ttotal: 10s\tremaining: 2m 9s\n",
      "72:\tlearn: 1692.7813858\ttotal: 10.2s\tremaining: 2m 9s\n",
      "73:\tlearn: 1690.3264782\ttotal: 10.3s\tremaining: 2m 8s\n",
      "74:\tlearn: 1688.8507791\ttotal: 10.4s\tremaining: 2m 8s\n",
      "75:\tlearn: 1686.3207666\ttotal: 10.5s\tremaining: 2m 7s\n",
      "76:\tlearn: 1684.7254271\ttotal: 10.6s\tremaining: 2m 7s\n",
      "77:\tlearn: 1683.0823714\ttotal: 10.8s\tremaining: 2m 7s\n",
      "78:\tlearn: 1681.2225221\ttotal: 10.9s\tremaining: 2m 6s\n",
      "79:\tlearn: 1680.0912938\ttotal: 11s\tremaining: 2m 6s\n",
      "80:\tlearn: 1678.9128522\ttotal: 11.2s\tremaining: 2m 6s\n",
      "81:\tlearn: 1675.9660877\ttotal: 11.3s\tremaining: 2m 6s\n",
      "82:\tlearn: 1674.9592353\ttotal: 11.4s\tremaining: 2m 6s\n",
      "83:\tlearn: 1673.5405266\ttotal: 11.6s\tremaining: 2m 6s\n",
      "84:\tlearn: 1672.2967274\ttotal: 11.7s\tremaining: 2m 5s\n",
      "85:\tlearn: 1670.9692030\ttotal: 11.9s\tremaining: 2m 6s\n",
      "86:\tlearn: 1668.9972805\ttotal: 12s\tremaining: 2m 6s\n",
      "87:\tlearn: 1668.1307147\ttotal: 12.2s\tremaining: 2m 6s\n",
      "88:\tlearn: 1665.7621505\ttotal: 12.4s\tremaining: 2m 6s\n",
      "89:\tlearn: 1663.6718710\ttotal: 12.5s\tremaining: 2m 6s\n",
      "90:\tlearn: 1662.8117388\ttotal: 12.7s\tremaining: 2m 6s\n",
      "91:\tlearn: 1661.4153649\ttotal: 12.8s\tremaining: 2m 6s\n",
      "92:\tlearn: 1660.5363843\ttotal: 13s\tremaining: 2m 6s\n",
      "93:\tlearn: 1659.4236943\ttotal: 13.1s\tremaining: 2m 6s\n",
      "94:\tlearn: 1657.8363130\ttotal: 13.3s\tremaining: 2m 6s\n",
      "95:\tlearn: 1656.7800073\ttotal: 13.4s\tremaining: 2m 6s\n",
      "96:\tlearn: 1655.0311752\ttotal: 13.5s\tremaining: 2m 5s\n",
      "97:\tlearn: 1653.7340496\ttotal: 13.7s\tremaining: 2m 5s\n",
      "98:\tlearn: 1651.9260468\ttotal: 13.8s\tremaining: 2m 5s\n",
      "99:\tlearn: 1651.4639898\ttotal: 13.9s\tremaining: 2m 5s\n",
      "100:\tlearn: 1649.9204830\ttotal: 14.1s\tremaining: 2m 5s\n",
      "101:\tlearn: 1649.1979190\ttotal: 14.2s\tremaining: 2m 5s\n",
      "102:\tlearn: 1647.8992391\ttotal: 14.4s\tremaining: 2m 5s\n",
      "103:\tlearn: 1646.7664260\ttotal: 14.6s\tremaining: 2m 5s\n",
      "104:\tlearn: 1645.9960016\ttotal: 14.7s\tremaining: 2m 5s\n",
      "105:\tlearn: 1644.4871871\ttotal: 14.8s\tremaining: 2m 4s\n",
      "106:\tlearn: 1642.5056935\ttotal: 14.9s\tremaining: 2m 4s\n",
      "107:\tlearn: 1641.6781750\ttotal: 15s\tremaining: 2m 4s\n",
      "108:\tlearn: 1640.0404139\ttotal: 15.1s\tremaining: 2m 3s\n",
      "109:\tlearn: 1639.3373548\ttotal: 15.3s\tremaining: 2m 3s\n",
      "110:\tlearn: 1638.5207789\ttotal: 15.4s\tremaining: 2m 3s\n",
      "111:\tlearn: 1637.2244812\ttotal: 15.6s\tremaining: 2m 3s\n",
      "112:\tlearn: 1635.6672337\ttotal: 15.7s\tremaining: 2m 3s\n",
      "113:\tlearn: 1634.5817955\ttotal: 15.8s\tremaining: 2m 3s\n",
      "114:\tlearn: 1632.8802465\ttotal: 15.9s\tremaining: 2m 2s\n",
      "115:\tlearn: 1631.3548666\ttotal: 16.1s\tremaining: 2m 2s\n",
      "116:\tlearn: 1630.6599533\ttotal: 16.2s\tremaining: 2m 2s\n",
      "117:\tlearn: 1630.0032311\ttotal: 16.3s\tremaining: 2m 2s\n",
      "118:\tlearn: 1629.4209954\ttotal: 16.5s\tremaining: 2m 2s\n",
      "119:\tlearn: 1628.0156084\ttotal: 16.6s\tremaining: 2m 1s\n",
      "120:\tlearn: 1626.2990965\ttotal: 16.8s\tremaining: 2m 1s\n",
      "121:\tlearn: 1625.7187553\ttotal: 16.9s\tremaining: 2m 1s\n",
      "122:\tlearn: 1624.8463096\ttotal: 17s\tremaining: 2m 1s\n",
      "123:\tlearn: 1624.1999528\ttotal: 17.2s\tremaining: 2m 1s\n",
      "124:\tlearn: 1622.6369902\ttotal: 17.3s\tremaining: 2m\n",
      "125:\tlearn: 1621.1994362\ttotal: 17.4s\tremaining: 2m\n",
      "126:\tlearn: 1620.5188703\ttotal: 17.6s\tremaining: 2m\n",
      "127:\tlearn: 1619.6569482\ttotal: 17.7s\tremaining: 2m\n",
      "128:\tlearn: 1618.6957313\ttotal: 17.9s\tremaining: 2m\n",
      "129:\tlearn: 1617.7307198\ttotal: 18s\tremaining: 2m\n",
      "130:\tlearn: 1616.1740644\ttotal: 18.1s\tremaining: 2m\n",
      "131:\tlearn: 1615.6183590\ttotal: 18.3s\tremaining: 2m\n",
      "132:\tlearn: 1615.0476060\ttotal: 18.4s\tremaining: 2m\n",
      "133:\tlearn: 1614.4501876\ttotal: 18.6s\tremaining: 2m\n",
      "134:\tlearn: 1612.9848039\ttotal: 18.7s\tremaining: 1m 59s\n",
      "135:\tlearn: 1612.2558631\ttotal: 18.9s\tremaining: 1m 59s\n",
      "136:\tlearn: 1610.9088543\ttotal: 19.1s\tremaining: 2m\n",
      "137:\tlearn: 1609.9443300\ttotal: 19.2s\tremaining: 2m\n",
      "138:\tlearn: 1608.7789977\ttotal: 19.4s\tremaining: 1m 59s\n",
      "139:\tlearn: 1607.9363386\ttotal: 19.5s\tremaining: 1m 59s\n",
      "140:\tlearn: 1607.3036797\ttotal: 19.7s\tremaining: 1m 59s\n",
      "141:\tlearn: 1605.8075644\ttotal: 19.9s\tremaining: 1m 59s\n",
      "142:\tlearn: 1605.2225147\ttotal: 20s\tremaining: 1m 59s\n",
      "143:\tlearn: 1604.4363820\ttotal: 20.2s\tremaining: 1m 59s\n",
      "144:\tlearn: 1603.6888635\ttotal: 20.3s\tremaining: 1m 59s\n",
      "145:\tlearn: 1602.3459584\ttotal: 20.5s\tremaining: 1m 59s\n",
      "146:\tlearn: 1601.3083463\ttotal: 20.6s\tremaining: 1m 59s\n",
      "147:\tlearn: 1600.7642886\ttotal: 20.8s\tremaining: 1m 59s\n",
      "148:\tlearn: 1600.1402350\ttotal: 20.9s\tremaining: 1m 59s\n",
      "149:\tlearn: 1599.6757715\ttotal: 21s\tremaining: 1m 59s\n",
      "150:\tlearn: 1599.2385561\ttotal: 21.2s\tremaining: 1m 59s\n",
      "151:\tlearn: 1597.5379604\ttotal: 21.3s\tremaining: 1m 58s\n",
      "152:\tlearn: 1597.1937881\ttotal: 21.5s\tremaining: 1m 58s\n",
      "153:\tlearn: 1596.7663457\ttotal: 21.6s\tremaining: 1m 58s\n",
      "154:\tlearn: 1595.8653544\ttotal: 21.8s\tremaining: 1m 58s\n",
      "155:\tlearn: 1595.2952131\ttotal: 21.9s\tremaining: 1m 58s\n",
      "156:\tlearn: 1594.8099081\ttotal: 22.1s\tremaining: 1m 58s\n",
      "157:\tlearn: 1593.8360758\ttotal: 22.2s\tremaining: 1m 58s\n",
      "158:\tlearn: 1593.6195811\ttotal: 22.4s\tremaining: 1m 58s\n",
      "159:\tlearn: 1593.0481804\ttotal: 22.5s\tremaining: 1m 58s\n",
      "160:\tlearn: 1592.2680743\ttotal: 22.7s\tremaining: 1m 58s\n",
      "161:\tlearn: 1591.0960906\ttotal: 22.8s\tremaining: 1m 58s\n",
      "162:\tlearn: 1590.6299867\ttotal: 23s\tremaining: 1m 58s\n",
      "163:\tlearn: 1589.7816564\ttotal: 23.1s\tremaining: 1m 57s\n",
      "164:\tlearn: 1589.5369624\ttotal: 23.3s\tremaining: 1m 57s\n",
      "165:\tlearn: 1588.3609524\ttotal: 23.4s\tremaining: 1m 57s\n",
      "166:\tlearn: 1587.2861851\ttotal: 23.6s\tremaining: 1m 57s\n",
      "167:\tlearn: 1586.8911583\ttotal: 23.7s\tremaining: 1m 57s\n",
      "168:\tlearn: 1586.6462064\ttotal: 23.9s\tremaining: 1m 57s\n",
      "169:\tlearn: 1586.3794839\ttotal: 24.1s\tremaining: 1m 57s\n",
      "170:\tlearn: 1586.1741968\ttotal: 24.2s\tremaining: 1m 57s\n",
      "171:\tlearn: 1585.5226452\ttotal: 24.4s\tremaining: 1m 57s\n",
      "172:\tlearn: 1584.8901438\ttotal: 24.5s\tremaining: 1m 57s\n",
      "173:\tlearn: 1584.3252356\ttotal: 24.7s\tremaining: 1m 57s\n",
      "174:\tlearn: 1583.5324370\ttotal: 24.8s\tremaining: 1m 57s\n",
      "175:\tlearn: 1583.2206563\ttotal: 25s\tremaining: 1m 56s\n",
      "176:\tlearn: 1582.6990271\ttotal: 25.1s\tremaining: 1m 56s\n",
      "177:\tlearn: 1582.2397086\ttotal: 25.2s\tremaining: 1m 56s\n",
      "178:\tlearn: 1581.5163710\ttotal: 25.4s\tremaining: 1m 56s\n",
      "179:\tlearn: 1580.9213332\ttotal: 25.6s\tremaining: 1m 56s\n",
      "180:\tlearn: 1580.0012844\ttotal: 25.7s\tremaining: 1m 56s\n",
      "181:\tlearn: 1579.5597637\ttotal: 25.9s\tremaining: 1m 56s\n",
      "182:\tlearn: 1578.7642561\ttotal: 26s\tremaining: 1m 56s\n",
      "183:\tlearn: 1578.3185092\ttotal: 26.3s\tremaining: 1m 56s\n",
      "184:\tlearn: 1577.2191820\ttotal: 26.6s\tremaining: 1m 57s\n",
      "185:\tlearn: 1576.5402681\ttotal: 26.9s\tremaining: 1m 57s\n",
      "186:\tlearn: 1576.1164672\ttotal: 27.1s\tremaining: 1m 58s\n",
      "187:\tlearn: 1575.6354826\ttotal: 27.4s\tremaining: 1m 58s\n",
      "188:\tlearn: 1575.2038677\ttotal: 27.7s\tremaining: 1m 59s\n",
      "189:\tlearn: 1574.7736301\ttotal: 27.9s\tremaining: 1m 58s\n",
      "190:\tlearn: 1574.4121383\ttotal: 28s\tremaining: 1m 58s\n",
      "191:\tlearn: 1573.9197093\ttotal: 28.2s\tremaining: 1m 58s\n",
      "192:\tlearn: 1573.5155523\ttotal: 28.4s\tremaining: 1m 58s\n",
      "193:\tlearn: 1572.7471780\ttotal: 28.5s\tremaining: 1m 58s\n",
      "194:\tlearn: 1572.4172532\ttotal: 28.8s\tremaining: 1m 58s\n",
      "195:\tlearn: 1571.8924650\ttotal: 28.9s\tremaining: 1m 58s\n",
      "196:\tlearn: 1571.3612968\ttotal: 29s\tremaining: 1m 58s\n",
      "197:\tlearn: 1570.6136648\ttotal: 29.2s\tremaining: 1m 58s\n",
      "198:\tlearn: 1570.4093586\ttotal: 29.3s\tremaining: 1m 57s\n",
      "199:\tlearn: 1569.8896542\ttotal: 29.5s\tremaining: 1m 57s\n",
      "200:\tlearn: 1569.4561005\ttotal: 29.6s\tremaining: 1m 57s\n",
      "201:\tlearn: 1569.1602530\ttotal: 29.8s\tremaining: 1m 57s\n",
      "202:\tlearn: 1568.7118481\ttotal: 29.9s\tremaining: 1m 57s\n",
      "203:\tlearn: 1567.6468825\ttotal: 30.1s\tremaining: 1m 57s\n",
      "204:\tlearn: 1566.8927082\ttotal: 30.2s\tremaining: 1m 57s\n",
      "205:\tlearn: 1566.5267577\ttotal: 30.4s\tremaining: 1m 57s\n",
      "206:\tlearn: 1566.1931158\ttotal: 30.5s\tremaining: 1m 56s\n",
      "207:\tlearn: 1565.4661798\ttotal: 30.6s\tremaining: 1m 56s\n",
      "208:\tlearn: 1565.1270464\ttotal: 30.7s\tremaining: 1m 56s\n",
      "209:\tlearn: 1564.3936149\ttotal: 30.9s\tremaining: 1m 56s\n",
      "210:\tlearn: 1564.1461490\ttotal: 31s\tremaining: 1m 55s\n",
      "211:\tlearn: 1563.9273505\ttotal: 31.2s\tremaining: 1m 55s\n",
      "212:\tlearn: 1563.1244790\ttotal: 31.3s\tremaining: 1m 55s\n",
      "213:\tlearn: 1562.8265289\ttotal: 31.5s\tremaining: 1m 55s\n",
      "214:\tlearn: 1562.1363381\ttotal: 31.6s\tremaining: 1m 55s\n",
      "215:\tlearn: 1561.5600148\ttotal: 31.7s\tremaining: 1m 55s\n",
      "216:\tlearn: 1560.9799138\ttotal: 31.9s\tremaining: 1m 54s\n",
      "217:\tlearn: 1560.3869256\ttotal: 32s\tremaining: 1m 54s\n",
      "218:\tlearn: 1559.8955520\ttotal: 32.2s\tremaining: 1m 54s\n",
      "219:\tlearn: 1559.2691326\ttotal: 32.3s\tremaining: 1m 54s\n",
      "220:\tlearn: 1558.5339681\ttotal: 32.5s\tremaining: 1m 54s\n",
      "221:\tlearn: 1558.1938281\ttotal: 32.6s\tremaining: 1m 54s\n",
      "222:\tlearn: 1558.0199625\ttotal: 32.7s\tremaining: 1m 53s\n",
      "223:\tlearn: 1557.7812932\ttotal: 32.8s\tremaining: 1m 53s\n",
      "224:\tlearn: 1557.4264921\ttotal: 33s\tremaining: 1m 53s\n",
      "225:\tlearn: 1557.1308221\ttotal: 33.1s\tremaining: 1m 53s\n",
      "226:\tlearn: 1556.1028469\ttotal: 33.2s\tremaining: 1m 53s\n",
      "227:\tlearn: 1555.8729621\ttotal: 33.4s\tremaining: 1m 53s\n",
      "228:\tlearn: 1555.3175258\ttotal: 33.5s\tremaining: 1m 52s\n",
      "229:\tlearn: 1554.7153483\ttotal: 33.7s\tremaining: 1m 52s\n",
      "230:\tlearn: 1554.4770947\ttotal: 33.8s\tremaining: 1m 52s\n",
      "231:\tlearn: 1554.2167099\ttotal: 34s\tremaining: 1m 52s\n",
      "232:\tlearn: 1553.6567236\ttotal: 34.1s\tremaining: 1m 52s\n",
      "233:\tlearn: 1552.8556229\ttotal: 34.2s\tremaining: 1m 52s\n",
      "234:\tlearn: 1552.4089517\ttotal: 34.4s\tremaining: 1m 51s\n",
      "235:\tlearn: 1552.0256895\ttotal: 34.6s\tremaining: 1m 51s\n",
      "236:\tlearn: 1551.6760372\ttotal: 34.7s\tremaining: 1m 51s\n",
      "237:\tlearn: 1551.3298832\ttotal: 34.8s\tremaining: 1m 51s\n",
      "238:\tlearn: 1551.0943411\ttotal: 35s\tremaining: 1m 51s\n",
      "239:\tlearn: 1550.6595239\ttotal: 35.1s\tremaining: 1m 51s\n",
      "240:\tlearn: 1550.0928758\ttotal: 35.2s\tremaining: 1m 50s\n",
      "241:\tlearn: 1549.7877534\ttotal: 35.4s\tremaining: 1m 50s\n",
      "242:\tlearn: 1549.6703283\ttotal: 35.6s\tremaining: 1m 50s\n",
      "243:\tlearn: 1548.9166800\ttotal: 35.7s\tremaining: 1m 50s\n",
      "244:\tlearn: 1548.6415662\ttotal: 35.9s\tremaining: 1m 50s\n",
      "245:\tlearn: 1548.4176756\ttotal: 36s\tremaining: 1m 50s\n",
      "246:\tlearn: 1548.1634836\ttotal: 36.1s\tremaining: 1m 50s\n",
      "247:\tlearn: 1547.9286329\ttotal: 36.3s\tremaining: 1m 50s\n",
      "248:\tlearn: 1547.7311639\ttotal: 36.4s\tremaining: 1m 49s\n",
      "249:\tlearn: 1547.3803691\ttotal: 36.6s\tremaining: 1m 49s\n",
      "250:\tlearn: 1547.0801763\ttotal: 36.7s\tremaining: 1m 49s\n",
      "251:\tlearn: 1546.7799903\ttotal: 36.9s\tremaining: 1m 49s\n",
      "252:\tlearn: 1546.3894394\ttotal: 37s\tremaining: 1m 49s\n",
      "253:\tlearn: 1545.4638802\ttotal: 37.1s\tremaining: 1m 48s\n",
      "254:\tlearn: 1545.0011108\ttotal: 37.3s\tremaining: 1m 48s\n",
      "255:\tlearn: 1544.8117384\ttotal: 37.4s\tremaining: 1m 48s\n",
      "256:\tlearn: 1544.3280103\ttotal: 37.6s\tremaining: 1m 48s\n",
      "257:\tlearn: 1543.9595061\ttotal: 37.7s\tremaining: 1m 48s\n",
      "258:\tlearn: 1543.6233163\ttotal: 37.8s\tremaining: 1m 48s\n",
      "259:\tlearn: 1543.2978264\ttotal: 37.9s\tremaining: 1m 47s\n",
      "260:\tlearn: 1543.0340018\ttotal: 38.1s\tremaining: 1m 47s\n",
      "261:\tlearn: 1542.8636949\ttotal: 38.2s\tremaining: 1m 47s\n",
      "262:\tlearn: 1542.5258576\ttotal: 38.4s\tremaining: 1m 47s\n",
      "263:\tlearn: 1542.2713936\ttotal: 38.5s\tremaining: 1m 47s\n",
      "264:\tlearn: 1541.7562307\ttotal: 38.7s\tremaining: 1m 47s\n",
      "265:\tlearn: 1541.3746327\ttotal: 38.8s\tremaining: 1m 47s\n",
      "266:\tlearn: 1540.8991857\ttotal: 39s\tremaining: 1m 47s\n",
      "267:\tlearn: 1540.3911404\ttotal: 39.1s\tremaining: 1m 46s\n",
      "268:\tlearn: 1539.9340073\ttotal: 39.3s\tremaining: 1m 46s\n",
      "269:\tlearn: 1539.5822022\ttotal: 39.4s\tremaining: 1m 46s\n",
      "270:\tlearn: 1539.2973423\ttotal: 39.6s\tremaining: 1m 46s\n",
      "271:\tlearn: 1539.0002802\ttotal: 39.7s\tremaining: 1m 46s\n",
      "272:\tlearn: 1538.5857937\ttotal: 39.9s\tremaining: 1m 46s\n",
      "273:\tlearn: 1538.1760028\ttotal: 40s\tremaining: 1m 45s\n",
      "274:\tlearn: 1537.8230662\ttotal: 40.2s\tremaining: 1m 45s\n",
      "275:\tlearn: 1537.5814465\ttotal: 40.3s\tremaining: 1m 45s\n",
      "276:\tlearn: 1536.7493072\ttotal: 40.4s\tremaining: 1m 45s\n",
      "277:\tlearn: 1536.3185063\ttotal: 40.6s\tremaining: 1m 45s\n",
      "278:\tlearn: 1535.8899360\ttotal: 40.7s\tremaining: 1m 45s\n",
      "279:\tlearn: 1535.2255348\ttotal: 40.9s\tremaining: 1m 45s\n",
      "280:\tlearn: 1534.5270191\ttotal: 41s\tremaining: 1m 44s\n",
      "281:\tlearn: 1533.6226038\ttotal: 41.1s\tremaining: 1m 44s\n",
      "282:\tlearn: 1533.4156463\ttotal: 41.2s\tremaining: 1m 44s\n",
      "283:\tlearn: 1533.0071963\ttotal: 41.4s\tremaining: 1m 44s\n",
      "284:\tlearn: 1532.3984763\ttotal: 41.6s\tremaining: 1m 44s\n",
      "285:\tlearn: 1532.0835750\ttotal: 41.8s\tremaining: 1m 44s\n",
      "286:\tlearn: 1531.7721745\ttotal: 41.9s\tremaining: 1m 44s\n",
      "287:\tlearn: 1531.2135502\ttotal: 42.2s\tremaining: 1m 44s\n",
      "288:\tlearn: 1530.9252897\ttotal: 42.5s\tremaining: 1m 44s\n",
      "289:\tlearn: 1530.6637990\ttotal: 42.8s\tremaining: 1m 44s\n",
      "290:\tlearn: 1530.4203021\ttotal: 43s\tremaining: 1m 44s\n",
      "291:\tlearn: 1530.3134799\ttotal: 43.2s\tremaining: 1m 44s\n",
      "292:\tlearn: 1530.0140240\ttotal: 43.3s\tremaining: 1m 44s\n",
      "293:\tlearn: 1529.6851099\ttotal: 43.4s\tremaining: 1m 44s\n",
      "294:\tlearn: 1529.5301350\ttotal: 43.6s\tremaining: 1m 44s\n",
      "295:\tlearn: 1529.0678990\ttotal: 43.7s\tremaining: 1m 43s\n",
      "296:\tlearn: 1528.8924965\ttotal: 43.8s\tremaining: 1m 43s\n",
      "297:\tlearn: 1528.6935941\ttotal: 44s\tremaining: 1m 43s\n",
      "298:\tlearn: 1528.2409995\ttotal: 44.1s\tremaining: 1m 43s\n",
      "299:\tlearn: 1527.8891139\ttotal: 44.3s\tremaining: 1m 43s\n",
      "300:\tlearn: 1527.6292159\ttotal: 44.4s\tremaining: 1m 43s\n",
      "301:\tlearn: 1527.3355397\ttotal: 44.6s\tremaining: 1m 43s\n",
      "302:\tlearn: 1527.1769585\ttotal: 44.8s\tremaining: 1m 42s\n",
      "303:\tlearn: 1526.6114779\ttotal: 44.9s\tremaining: 1m 42s\n",
      "304:\tlearn: 1526.2877211\ttotal: 45.1s\tremaining: 1m 42s\n",
      "305:\tlearn: 1526.0158699\ttotal: 45.3s\tremaining: 1m 42s\n",
      "306:\tlearn: 1525.5778004\ttotal: 45.4s\tremaining: 1m 42s\n",
      "307:\tlearn: 1525.1656238\ttotal: 45.6s\tremaining: 1m 42s\n",
      "308:\tlearn: 1524.6578060\ttotal: 45.8s\tremaining: 1m 42s\n",
      "309:\tlearn: 1524.3610944\ttotal: 45.9s\tremaining: 1m 42s\n",
      "310:\tlearn: 1524.1009759\ttotal: 46s\tremaining: 1m 41s\n",
      "311:\tlearn: 1523.7558294\ttotal: 46.2s\tremaining: 1m 41s\n",
      "312:\tlearn: 1523.5180847\ttotal: 46.4s\tremaining: 1m 41s\n",
      "313:\tlearn: 1523.4070964\ttotal: 46.5s\tremaining: 1m 41s\n",
      "314:\tlearn: 1523.2699076\ttotal: 46.7s\tremaining: 1m 41s\n",
      "315:\tlearn: 1522.9872041\ttotal: 46.9s\tremaining: 1m 41s\n",
      "316:\tlearn: 1522.8203977\ttotal: 47s\tremaining: 1m 41s\n",
      "317:\tlearn: 1522.5834868\ttotal: 47.1s\tremaining: 1m 41s\n",
      "318:\tlearn: 1522.2392641\ttotal: 47.3s\tremaining: 1m 40s\n",
      "319:\tlearn: 1521.8364287\ttotal: 47.4s\tremaining: 1m 40s\n",
      "320:\tlearn: 1521.6636990\ttotal: 47.6s\tremaining: 1m 40s\n",
      "321:\tlearn: 1521.2727427\ttotal: 47.7s\tremaining: 1m 40s\n",
      "322:\tlearn: 1521.0342257\ttotal: 47.8s\tremaining: 1m 40s\n",
      "323:\tlearn: 1520.1912240\ttotal: 48s\tremaining: 1m 40s\n",
      "324:\tlearn: 1519.9544610\ttotal: 48.2s\tremaining: 1m 40s\n",
      "325:\tlearn: 1519.7377377\ttotal: 48.3s\tremaining: 1m 39s\n",
      "326:\tlearn: 1519.4852010\ttotal: 48.4s\tremaining: 1m 39s\n",
      "327:\tlearn: 1519.2569861\ttotal: 48.6s\tremaining: 1m 39s\n",
      "328:\tlearn: 1519.0053290\ttotal: 48.8s\tremaining: 1m 39s\n",
      "329:\tlearn: 1518.6813120\ttotal: 48.9s\tremaining: 1m 39s\n",
      "330:\tlearn: 1518.2573561\ttotal: 49.1s\tremaining: 1m 39s\n",
      "331:\tlearn: 1518.1587625\ttotal: 49.2s\tremaining: 1m 38s\n",
      "332:\tlearn: 1518.0275485\ttotal: 49.4s\tremaining: 1m 38s\n",
      "333:\tlearn: 1517.7610782\ttotal: 49.5s\tremaining: 1m 38s\n",
      "334:\tlearn: 1517.6114310\ttotal: 49.6s\tremaining: 1m 38s\n",
      "335:\tlearn: 1517.3571200\ttotal: 49.8s\tremaining: 1m 38s\n",
      "336:\tlearn: 1517.2558144\ttotal: 50s\tremaining: 1m 38s\n",
      "337:\tlearn: 1516.8070138\ttotal: 50.1s\tremaining: 1m 38s\n",
      "338:\tlearn: 1516.4676566\ttotal: 50.3s\tremaining: 1m 38s\n",
      "339:\tlearn: 1516.1128914\ttotal: 50.5s\tremaining: 1m 38s\n",
      "340:\tlearn: 1516.0052847\ttotal: 50.7s\tremaining: 1m 37s\n",
      "341:\tlearn: 1515.8742629\ttotal: 50.8s\tremaining: 1m 37s\n",
      "342:\tlearn: 1515.5562690\ttotal: 50.9s\tremaining: 1m 37s\n",
      "343:\tlearn: 1515.2658006\ttotal: 51.1s\tremaining: 1m 37s\n",
      "344:\tlearn: 1514.7748976\ttotal: 51.2s\tremaining: 1m 37s\n",
      "345:\tlearn: 1514.4300564\ttotal: 51.4s\tremaining: 1m 37s\n",
      "346:\tlearn: 1514.3724957\ttotal: 51.5s\tremaining: 1m 36s\n",
      "347:\tlearn: 1514.3053905\ttotal: 51.6s\tremaining: 1m 36s\n",
      "348:\tlearn: 1513.7582345\ttotal: 51.8s\tremaining: 1m 36s\n",
      "349:\tlearn: 1513.3710591\ttotal: 51.9s\tremaining: 1m 36s\n",
      "350:\tlearn: 1513.1543059\ttotal: 52.1s\tremaining: 1m 36s\n",
      "351:\tlearn: 1512.8620626\ttotal: 52.2s\tremaining: 1m 36s\n",
      "352:\tlearn: 1512.2989608\ttotal: 52.4s\tremaining: 1m 36s\n",
      "353:\tlearn: 1511.9611489\ttotal: 52.6s\tremaining: 1m 35s\n",
      "354:\tlearn: 1511.7330403\ttotal: 52.7s\tremaining: 1m 35s\n",
      "355:\tlearn: 1511.3768957\ttotal: 52.8s\tremaining: 1m 35s\n",
      "356:\tlearn: 1511.1280621\ttotal: 53s\tremaining: 1m 35s\n",
      "357:\tlearn: 1511.0420912\ttotal: 53.1s\tremaining: 1m 35s\n",
      "358:\tlearn: 1510.8517939\ttotal: 53.2s\tremaining: 1m 34s\n",
      "359:\tlearn: 1510.2741109\ttotal: 53.3s\tremaining: 1m 34s\n",
      "360:\tlearn: 1510.1803898\ttotal: 53.5s\tremaining: 1m 34s\n",
      "361:\tlearn: 1509.9280858\ttotal: 53.7s\tremaining: 1m 34s\n",
      "362:\tlearn: 1509.7387550\ttotal: 53.8s\tremaining: 1m 34s\n",
      "363:\tlearn: 1509.4686535\ttotal: 54s\tremaining: 1m 34s\n",
      "364:\tlearn: 1509.1105713\ttotal: 54.1s\tremaining: 1m 34s\n",
      "365:\tlearn: 1508.7381411\ttotal: 54.3s\tremaining: 1m 34s\n",
      "366:\tlearn: 1508.2963724\ttotal: 54.4s\tremaining: 1m 33s\n",
      "367:\tlearn: 1508.1339323\ttotal: 54.6s\tremaining: 1m 33s\n",
      "368:\tlearn: 1507.6447673\ttotal: 54.7s\tremaining: 1m 33s\n",
      "369:\tlearn: 1507.4615657\ttotal: 54.8s\tremaining: 1m 33s\n",
      "370:\tlearn: 1507.1649796\ttotal: 54.9s\tremaining: 1m 33s\n",
      "371:\tlearn: 1506.8767149\ttotal: 55.1s\tremaining: 1m 33s\n",
      "372:\tlearn: 1506.7297045\ttotal: 55.3s\tremaining: 1m 32s\n",
      "373:\tlearn: 1506.4204047\ttotal: 55.5s\tremaining: 1m 32s\n",
      "374:\tlearn: 1506.2942669\ttotal: 55.6s\tremaining: 1m 32s\n",
      "375:\tlearn: 1506.1973650\ttotal: 55.8s\tremaining: 1m 32s\n",
      "376:\tlearn: 1506.0248717\ttotal: 55.9s\tremaining: 1m 32s\n",
      "377:\tlearn: 1505.8759491\ttotal: 56s\tremaining: 1m 32s\n",
      "378:\tlearn: 1505.7370578\ttotal: 56.2s\tremaining: 1m 32s\n",
      "379:\tlearn: 1505.4185879\ttotal: 56.3s\tremaining: 1m 31s\n",
      "380:\tlearn: 1505.1074724\ttotal: 56.5s\tremaining: 1m 31s\n",
      "381:\tlearn: 1504.6144994\ttotal: 56.6s\tremaining: 1m 31s\n",
      "382:\tlearn: 1504.2288903\ttotal: 56.8s\tremaining: 1m 31s\n",
      "383:\tlearn: 1503.8642739\ttotal: 56.9s\tremaining: 1m 31s\n",
      "384:\tlearn: 1503.5342585\ttotal: 57s\tremaining: 1m 31s\n",
      "385:\tlearn: 1503.4072001\ttotal: 57.2s\tremaining: 1m 30s\n",
      "386:\tlearn: 1503.2059478\ttotal: 57.3s\tremaining: 1m 30s\n",
      "387:\tlearn: 1503.0118781\ttotal: 57.5s\tremaining: 1m 30s\n",
      "388:\tlearn: 1502.6577902\ttotal: 57.6s\tremaining: 1m 30s\n",
      "389:\tlearn: 1502.5493834\ttotal: 57.7s\tremaining: 1m 30s\n",
      "390:\tlearn: 1502.3130018\ttotal: 57.8s\tremaining: 1m 30s\n",
      "391:\tlearn: 1502.1914114\ttotal: 58s\tremaining: 1m 29s\n",
      "392:\tlearn: 1501.8829125\ttotal: 58.1s\tremaining: 1m 29s\n",
      "393:\tlearn: 1501.7790084\ttotal: 58.2s\tremaining: 1m 29s\n",
      "394:\tlearn: 1501.4030811\ttotal: 58.3s\tremaining: 1m 29s\n",
      "395:\tlearn: 1501.1460952\ttotal: 58.5s\tremaining: 1m 29s\n",
      "396:\tlearn: 1500.9432723\ttotal: 58.6s\tremaining: 1m 29s\n",
      "397:\tlearn: 1500.8361368\ttotal: 58.7s\tremaining: 1m 28s\n",
      "398:\tlearn: 1500.7794231\ttotal: 58.8s\tremaining: 1m 28s\n",
      "399:\tlearn: 1500.4352896\ttotal: 59s\tremaining: 1m 28s\n",
      "400:\tlearn: 1500.1460969\ttotal: 59.1s\tremaining: 1m 28s\n",
      "401:\tlearn: 1499.9567751\ttotal: 59.2s\tremaining: 1m 28s\n",
      "402:\tlearn: 1499.3950798\ttotal: 59.4s\tremaining: 1m 27s\n",
      "403:\tlearn: 1499.1081873\ttotal: 59.5s\tremaining: 1m 27s\n",
      "404:\tlearn: 1498.5246247\ttotal: 59.6s\tremaining: 1m 27s\n",
      "405:\tlearn: 1498.4617349\ttotal: 59.7s\tremaining: 1m 27s\n",
      "406:\tlearn: 1497.7061771\ttotal: 59.9s\tremaining: 1m 27s\n",
      "407:\tlearn: 1497.2230552\ttotal: 1m\tremaining: 1m 27s\n",
      "408:\tlearn: 1496.7924143\ttotal: 1m\tremaining: 1m 26s\n",
      "409:\tlearn: 1496.6547419\ttotal: 1m\tremaining: 1m 26s\n",
      "410:\tlearn: 1496.5800946\ttotal: 1m\tremaining: 1m 26s\n",
      "411:\tlearn: 1496.2211899\ttotal: 1m\tremaining: 1m 26s\n",
      "412:\tlearn: 1496.1829278\ttotal: 1m\tremaining: 1m 26s\n",
      "413:\tlearn: 1496.0255379\ttotal: 1m\tremaining: 1m 26s\n",
      "414:\tlearn: 1495.8142329\ttotal: 1m 1s\tremaining: 1m 26s\n",
      "415:\tlearn: 1495.6805771\ttotal: 1m 1s\tremaining: 1m 25s\n",
      "416:\tlearn: 1495.2715394\ttotal: 1m 1s\tremaining: 1m 25s\n",
      "417:\tlearn: 1495.2195627\ttotal: 1m 1s\tremaining: 1m 25s\n",
      "418:\tlearn: 1495.0901240\ttotal: 1m 1s\tremaining: 1m 25s\n",
      "419:\tlearn: 1495.0225668\ttotal: 1m 1s\tremaining: 1m 25s\n",
      "420:\tlearn: 1494.8239828\ttotal: 1m 1s\tremaining: 1m 24s\n",
      "421:\tlearn: 1494.6260912\ttotal: 1m 1s\tremaining: 1m 24s\n",
      "422:\tlearn: 1494.4515300\ttotal: 1m 2s\tremaining: 1m 24s\n",
      "423:\tlearn: 1494.0903899\ttotal: 1m 2s\tremaining: 1m 24s\n",
      "424:\tlearn: 1493.8327757\ttotal: 1m 2s\tremaining: 1m 24s\n",
      "425:\tlearn: 1493.5286244\ttotal: 1m 2s\tremaining: 1m 24s\n",
      "426:\tlearn: 1493.4150158\ttotal: 1m 2s\tremaining: 1m 24s\n",
      "427:\tlearn: 1493.2711304\ttotal: 1m 2s\tremaining: 1m 23s\n",
      "428:\tlearn: 1493.1522767\ttotal: 1m 2s\tremaining: 1m 23s\n",
      "429:\tlearn: 1493.0171981\ttotal: 1m 3s\tremaining: 1m 23s\n",
      "430:\tlearn: 1492.4028720\ttotal: 1m 3s\tremaining: 1m 23s\n",
      "431:\tlearn: 1492.2701193\ttotal: 1m 3s\tremaining: 1m 23s\n",
      "432:\tlearn: 1491.7944727\ttotal: 1m 3s\tremaining: 1m 23s\n",
      "433:\tlearn: 1491.4804654\ttotal: 1m 3s\tremaining: 1m 22s\n",
      "434:\tlearn: 1491.3790682\ttotal: 1m 3s\tremaining: 1m 22s\n",
      "435:\tlearn: 1491.0895499\ttotal: 1m 3s\tremaining: 1m 22s\n",
      "436:\tlearn: 1490.9790417\ttotal: 1m 3s\tremaining: 1m 22s\n",
      "437:\tlearn: 1490.5895183\ttotal: 1m 4s\tremaining: 1m 22s\n",
      "438:\tlearn: 1490.3924770\ttotal: 1m 4s\tremaining: 1m 22s\n",
      "439:\tlearn: 1490.2840620\ttotal: 1m 4s\tremaining: 1m 22s\n",
      "440:\tlearn: 1490.0335313\ttotal: 1m 4s\tremaining: 1m 21s\n",
      "441:\tlearn: 1489.9705184\ttotal: 1m 4s\tremaining: 1m 21s\n",
      "442:\tlearn: 1489.8189587\ttotal: 1m 4s\tremaining: 1m 21s\n",
      "443:\tlearn: 1489.5011576\ttotal: 1m 5s\tremaining: 1m 21s\n",
      "444:\tlearn: 1489.3166724\ttotal: 1m 5s\tremaining: 1m 21s\n",
      "445:\tlearn: 1489.2505097\ttotal: 1m 5s\tremaining: 1m 21s\n",
      "446:\tlearn: 1489.0123098\ttotal: 1m 5s\tremaining: 1m 20s\n",
      "447:\tlearn: 1488.8211349\ttotal: 1m 5s\tremaining: 1m 20s\n",
      "448:\tlearn: 1488.6296362\ttotal: 1m 5s\tremaining: 1m 20s\n",
      "449:\tlearn: 1488.2710665\ttotal: 1m 5s\tremaining: 1m 20s\n",
      "450:\tlearn: 1487.7331403\ttotal: 1m 5s\tremaining: 1m 20s\n",
      "451:\tlearn: 1487.4398267\ttotal: 1m 6s\tremaining: 1m 20s\n",
      "452:\tlearn: 1487.0867308\ttotal: 1m 6s\tremaining: 1m 19s\n",
      "453:\tlearn: 1486.9050245\ttotal: 1m 6s\tremaining: 1m 19s\n",
      "454:\tlearn: 1486.7535418\ttotal: 1m 6s\tremaining: 1m 19s\n",
      "455:\tlearn: 1486.5078281\ttotal: 1m 6s\tremaining: 1m 19s\n",
      "456:\tlearn: 1486.4363138\ttotal: 1m 6s\tremaining: 1m 19s\n",
      "457:\tlearn: 1485.9462977\ttotal: 1m 6s\tremaining: 1m 19s\n",
      "458:\tlearn: 1485.6707288\ttotal: 1m 7s\tremaining: 1m 19s\n",
      "459:\tlearn: 1485.4705345\ttotal: 1m 7s\tremaining: 1m 18s\n",
      "460:\tlearn: 1485.2681661\ttotal: 1m 7s\tremaining: 1m 18s\n",
      "461:\tlearn: 1485.0337192\ttotal: 1m 7s\tremaining: 1m 18s\n",
      "462:\tlearn: 1484.7019912\ttotal: 1m 7s\tremaining: 1m 18s\n",
      "463:\tlearn: 1484.3963364\ttotal: 1m 7s\tremaining: 1m 18s\n",
      "464:\tlearn: 1483.9865552\ttotal: 1m 7s\tremaining: 1m 18s\n",
      "465:\tlearn: 1483.9469819\ttotal: 1m 8s\tremaining: 1m 17s\n",
      "466:\tlearn: 1483.8816751\ttotal: 1m 8s\tremaining: 1m 17s\n",
      "467:\tlearn: 1483.7422527\ttotal: 1m 8s\tremaining: 1m 17s\n",
      "468:\tlearn: 1483.4020923\ttotal: 1m 8s\tremaining: 1m 17s\n",
      "469:\tlearn: 1483.2109447\ttotal: 1m 8s\tremaining: 1m 17s\n",
      "470:\tlearn: 1483.1253814\ttotal: 1m 8s\tremaining: 1m 17s\n",
      "471:\tlearn: 1482.8072082\ttotal: 1m 8s\tremaining: 1m 17s\n",
      "472:\tlearn: 1482.6970545\ttotal: 1m 9s\tremaining: 1m 16s\n",
      "473:\tlearn: 1482.5997247\ttotal: 1m 9s\tremaining: 1m 16s\n",
      "474:\tlearn: 1482.2887056\ttotal: 1m 9s\tremaining: 1m 16s\n",
      "475:\tlearn: 1482.0428005\ttotal: 1m 9s\tremaining: 1m 16s\n",
      "476:\tlearn: 1481.8144718\ttotal: 1m 9s\tremaining: 1m 16s\n",
      "477:\tlearn: 1481.6815405\ttotal: 1m 9s\tremaining: 1m 16s\n",
      "478:\tlearn: 1481.5383324\ttotal: 1m 9s\tremaining: 1m 16s\n",
      "479:\tlearn: 1481.2857786\ttotal: 1m 10s\tremaining: 1m 15s\n",
      "480:\tlearn: 1480.8560785\ttotal: 1m 10s\tremaining: 1m 15s\n",
      "481:\tlearn: 1480.4990757\ttotal: 1m 10s\tremaining: 1m 15s\n",
      "482:\tlearn: 1480.1583579\ttotal: 1m 10s\tremaining: 1m 15s\n",
      "483:\tlearn: 1479.6669461\ttotal: 1m 10s\tremaining: 1m 15s\n",
      "484:\tlearn: 1479.5553318\ttotal: 1m 10s\tremaining: 1m 15s\n",
      "485:\tlearn: 1479.4372693\ttotal: 1m 11s\tremaining: 1m 15s\n",
      "486:\tlearn: 1479.1680843\ttotal: 1m 11s\tremaining: 1m 14s\n",
      "487:\tlearn: 1479.0753380\ttotal: 1m 11s\tremaining: 1m 14s\n",
      "488:\tlearn: 1478.8292344\ttotal: 1m 11s\tremaining: 1m 14s\n",
      "489:\tlearn: 1478.4147348\ttotal: 1m 11s\tremaining: 1m 14s\n",
      "490:\tlearn: 1478.1298604\ttotal: 1m 11s\tremaining: 1m 14s\n",
      "491:\tlearn: 1477.9223359\ttotal: 1m 12s\tremaining: 1m 14s\n",
      "492:\tlearn: 1477.8105888\ttotal: 1m 12s\tremaining: 1m 14s\n",
      "493:\tlearn: 1477.4655215\ttotal: 1m 12s\tremaining: 1m 14s\n",
      "494:\tlearn: 1477.3540520\ttotal: 1m 12s\tremaining: 1m 13s\n",
      "495:\tlearn: 1477.2286157\ttotal: 1m 12s\tremaining: 1m 13s\n",
      "496:\tlearn: 1477.0369668\ttotal: 1m 12s\tremaining: 1m 13s\n",
      "497:\tlearn: 1476.7755995\ttotal: 1m 12s\tremaining: 1m 13s\n",
      "498:\tlearn: 1476.7635290\ttotal: 1m 13s\tremaining: 1m 13s\n",
      "499:\tlearn: 1476.6102933\ttotal: 1m 13s\tremaining: 1m 13s\n",
      "500:\tlearn: 1476.4583062\ttotal: 1m 13s\tremaining: 1m 13s\n",
      "501:\tlearn: 1476.2541130\ttotal: 1m 13s\tremaining: 1m 12s\n",
      "502:\tlearn: 1476.1051183\ttotal: 1m 13s\tremaining: 1m 12s\n",
      "503:\tlearn: 1475.8227165\ttotal: 1m 13s\tremaining: 1m 12s\n",
      "504:\tlearn: 1475.6847900\ttotal: 1m 13s\tremaining: 1m 12s\n",
      "505:\tlearn: 1475.3884201\ttotal: 1m 14s\tremaining: 1m 12s\n",
      "506:\tlearn: 1474.7709140\ttotal: 1m 14s\tremaining: 1m 12s\n",
      "507:\tlearn: 1474.4621188\ttotal: 1m 14s\tremaining: 1m 12s\n",
      "508:\tlearn: 1474.3732515\ttotal: 1m 14s\tremaining: 1m 11s\n",
      "509:\tlearn: 1474.2224518\ttotal: 1m 14s\tremaining: 1m 11s\n",
      "510:\tlearn: 1474.1443739\ttotal: 1m 14s\tremaining: 1m 11s\n",
      "511:\tlearn: 1474.0442006\ttotal: 1m 14s\tremaining: 1m 11s\n",
      "512:\tlearn: 1473.6162466\ttotal: 1m 15s\tremaining: 1m 11s\n",
      "513:\tlearn: 1473.4068475\ttotal: 1m 15s\tremaining: 1m 11s\n",
      "514:\tlearn: 1473.3179571\ttotal: 1m 15s\tremaining: 1m 10s\n",
      "515:\tlearn: 1473.1743478\ttotal: 1m 15s\tremaining: 1m 10s\n",
      "516:\tlearn: 1472.9291847\ttotal: 1m 15s\tremaining: 1m 10s\n",
      "517:\tlearn: 1472.5090594\ttotal: 1m 15s\tremaining: 1m 10s\n",
      "518:\tlearn: 1472.3023473\ttotal: 1m 16s\tremaining: 1m 10s\n",
      "519:\tlearn: 1472.1274456\ttotal: 1m 16s\tremaining: 1m 10s\n",
      "520:\tlearn: 1471.9008941\ttotal: 1m 16s\tremaining: 1m 10s\n",
      "521:\tlearn: 1471.4734079\ttotal: 1m 16s\tremaining: 1m 10s\n",
      "522:\tlearn: 1471.1569193\ttotal: 1m 16s\tremaining: 1m 9s\n",
      "523:\tlearn: 1471.0207989\ttotal: 1m 16s\tremaining: 1m 9s\n",
      "524:\tlearn: 1470.7265590\ttotal: 1m 16s\tremaining: 1m 9s\n",
      "525:\tlearn: 1470.6045069\ttotal: 1m 17s\tremaining: 1m 9s\n",
      "526:\tlearn: 1470.2757193\ttotal: 1m 17s\tremaining: 1m 9s\n",
      "527:\tlearn: 1469.9112050\ttotal: 1m 17s\tremaining: 1m 9s\n",
      "528:\tlearn: 1469.5782634\ttotal: 1m 17s\tremaining: 1m 8s\n",
      "529:\tlearn: 1469.1443871\ttotal: 1m 17s\tremaining: 1m 8s\n",
      "530:\tlearn: 1469.0912280\ttotal: 1m 17s\tremaining: 1m 8s\n",
      "531:\tlearn: 1468.9726289\ttotal: 1m 17s\tremaining: 1m 8s\n",
      "532:\tlearn: 1468.8551264\ttotal: 1m 18s\tremaining: 1m 8s\n",
      "533:\tlearn: 1468.6148533\ttotal: 1m 18s\tremaining: 1m 8s\n",
      "534:\tlearn: 1468.3624448\ttotal: 1m 18s\tremaining: 1m 8s\n",
      "535:\tlearn: 1468.0463719\ttotal: 1m 18s\tremaining: 1m 7s\n",
      "536:\tlearn: 1467.7358016\ttotal: 1m 18s\tremaining: 1m 7s\n",
      "537:\tlearn: 1467.5460370\ttotal: 1m 18s\tremaining: 1m 7s\n",
      "538:\tlearn: 1467.5063112\ttotal: 1m 18s\tremaining: 1m 7s\n",
      "539:\tlearn: 1467.1864901\ttotal: 1m 19s\tremaining: 1m 7s\n",
      "540:\tlearn: 1467.0821719\ttotal: 1m 19s\tremaining: 1m 7s\n",
      "541:\tlearn: 1466.7894320\ttotal: 1m 19s\tremaining: 1m 7s\n",
      "542:\tlearn: 1466.4971531\ttotal: 1m 19s\tremaining: 1m 6s\n",
      "543:\tlearn: 1466.2927611\ttotal: 1m 19s\tremaining: 1m 6s\n",
      "544:\tlearn: 1466.1327598\ttotal: 1m 19s\tremaining: 1m 6s\n",
      "545:\tlearn: 1465.9861134\ttotal: 1m 19s\tremaining: 1m 6s\n",
      "546:\tlearn: 1465.8623467\ttotal: 1m 20s\tremaining: 1m 6s\n",
      "547:\tlearn: 1465.6352248\ttotal: 1m 20s\tremaining: 1m 6s\n",
      "548:\tlearn: 1465.4944688\ttotal: 1m 20s\tremaining: 1m 6s\n",
      "549:\tlearn: 1465.4359408\ttotal: 1m 20s\tremaining: 1m 5s\n",
      "550:\tlearn: 1465.1152704\ttotal: 1m 20s\tremaining: 1m 5s\n",
      "551:\tlearn: 1464.7576589\ttotal: 1m 20s\tremaining: 1m 5s\n",
      "552:\tlearn: 1464.4177291\ttotal: 1m 20s\tremaining: 1m 5s\n",
      "553:\tlearn: 1464.2634676\ttotal: 1m 21s\tremaining: 1m 5s\n",
      "554:\tlearn: 1464.1888318\ttotal: 1m 21s\tremaining: 1m 5s\n",
      "555:\tlearn: 1463.9790773\ttotal: 1m 21s\tremaining: 1m 5s\n",
      "556:\tlearn: 1463.6520352\ttotal: 1m 21s\tremaining: 1m 4s\n",
      "557:\tlearn: 1463.4795902\ttotal: 1m 21s\tremaining: 1m 4s\n",
      "558:\tlearn: 1463.3147590\ttotal: 1m 21s\tremaining: 1m 4s\n",
      "559:\tlearn: 1463.0463711\ttotal: 1m 22s\tremaining: 1m 4s\n",
      "560:\tlearn: 1462.8230995\ttotal: 1m 22s\tremaining: 1m 4s\n",
      "561:\tlearn: 1462.6530634\ttotal: 1m 22s\tremaining: 1m 4s\n",
      "562:\tlearn: 1462.3845323\ttotal: 1m 22s\tremaining: 1m 4s\n",
      "563:\tlearn: 1462.2307211\ttotal: 1m 22s\tremaining: 1m 3s\n",
      "564:\tlearn: 1462.0697205\ttotal: 1m 22s\tremaining: 1m 3s\n",
      "565:\tlearn: 1461.9510527\ttotal: 1m 22s\tremaining: 1m 3s\n",
      "566:\tlearn: 1461.7793137\ttotal: 1m 23s\tremaining: 1m 3s\n",
      "567:\tlearn: 1461.5492937\ttotal: 1m 23s\tremaining: 1m 3s\n",
      "568:\tlearn: 1461.2593834\ttotal: 1m 23s\tremaining: 1m 3s\n",
      "569:\tlearn: 1461.0191202\ttotal: 1m 23s\tremaining: 1m 3s\n",
      "570:\tlearn: 1460.8024537\ttotal: 1m 23s\tremaining: 1m 2s\n",
      "571:\tlearn: 1460.3960124\ttotal: 1m 23s\tremaining: 1m 2s\n",
      "572:\tlearn: 1460.2328879\ttotal: 1m 23s\tremaining: 1m 2s\n",
      "573:\tlearn: 1460.1193583\ttotal: 1m 24s\tremaining: 1m 2s\n",
      "574:\tlearn: 1459.9814783\ttotal: 1m 24s\tremaining: 1m 2s\n",
      "575:\tlearn: 1459.8798420\ttotal: 1m 24s\tremaining: 1m 2s\n",
      "576:\tlearn: 1459.7315499\ttotal: 1m 24s\tremaining: 1m 1s\n",
      "577:\tlearn: 1459.5967485\ttotal: 1m 24s\tremaining: 1m 1s\n",
      "578:\tlearn: 1459.1709570\ttotal: 1m 24s\tremaining: 1m 1s\n",
      "579:\tlearn: 1458.6119862\ttotal: 1m 25s\tremaining: 1m 1s\n",
      "580:\tlearn: 1458.5328224\ttotal: 1m 25s\tremaining: 1m 1s\n",
      "581:\tlearn: 1458.4281547\ttotal: 1m 25s\tremaining: 1m 1s\n",
      "582:\tlearn: 1458.3060191\ttotal: 1m 25s\tremaining: 1m 1s\n",
      "583:\tlearn: 1458.0731384\ttotal: 1m 25s\tremaining: 1m\n",
      "584:\tlearn: 1457.9969550\ttotal: 1m 25s\tremaining: 1m\n",
      "585:\tlearn: 1457.9016653\ttotal: 1m 25s\tremaining: 1m\n",
      "586:\tlearn: 1457.5605518\ttotal: 1m 25s\tremaining: 1m\n",
      "587:\tlearn: 1457.3335292\ttotal: 1m 26s\tremaining: 1m\n",
      "588:\tlearn: 1457.2542121\ttotal: 1m 26s\tremaining: 1m\n",
      "589:\tlearn: 1457.0964484\ttotal: 1m 26s\tremaining: 1m\n",
      "590:\tlearn: 1456.8714350\ttotal: 1m 26s\tremaining: 59.8s\n",
      "591:\tlearn: 1456.6295777\ttotal: 1m 26s\tremaining: 59.7s\n",
      "592:\tlearn: 1456.3905258\ttotal: 1m 26s\tremaining: 59.5s\n",
      "593:\tlearn: 1456.2090004\ttotal: 1m 26s\tremaining: 59.4s\n",
      "594:\tlearn: 1455.9919014\ttotal: 1m 27s\tremaining: 59.3s\n",
      "595:\tlearn: 1455.9309976\ttotal: 1m 27s\tremaining: 59.1s\n",
      "596:\tlearn: 1455.8105487\ttotal: 1m 27s\tremaining: 59s\n",
      "597:\tlearn: 1455.7207187\ttotal: 1m 27s\tremaining: 58.8s\n",
      "598:\tlearn: 1455.4484422\ttotal: 1m 27s\tremaining: 58.7s\n",
      "599:\tlearn: 1455.1282347\ttotal: 1m 27s\tremaining: 58.6s\n",
      "600:\tlearn: 1455.0128645\ttotal: 1m 27s\tremaining: 58.4s\n",
      "601:\tlearn: 1454.8230759\ttotal: 1m 28s\tremaining: 58.2s\n",
      "602:\tlearn: 1454.6875791\ttotal: 1m 28s\tremaining: 58.1s\n",
      "603:\tlearn: 1454.5225042\ttotal: 1m 28s\tremaining: 58s\n",
      "604:\tlearn: 1454.3118735\ttotal: 1m 28s\tremaining: 57.9s\n",
      "605:\tlearn: 1454.0038735\ttotal: 1m 28s\tremaining: 57.7s\n",
      "606:\tlearn: 1453.8275195\ttotal: 1m 28s\tremaining: 57.6s\n",
      "607:\tlearn: 1453.7588389\ttotal: 1m 29s\tremaining: 57.4s\n",
      "608:\tlearn: 1453.4639839\ttotal: 1m 29s\tremaining: 57.3s\n",
      "609:\tlearn: 1453.0804736\ttotal: 1m 29s\tremaining: 57.1s\n",
      "610:\tlearn: 1452.7286161\ttotal: 1m 29s\tremaining: 57s\n",
      "611:\tlearn: 1452.6596438\ttotal: 1m 29s\tremaining: 56.8s\n",
      "612:\tlearn: 1452.4595712\ttotal: 1m 29s\tremaining: 56.7s\n",
      "613:\tlearn: 1452.2565378\ttotal: 1m 29s\tremaining: 56.5s\n",
      "614:\tlearn: 1452.2415580\ttotal: 1m 30s\tremaining: 56.3s\n",
      "615:\tlearn: 1452.1828387\ttotal: 1m 30s\tremaining: 56.2s\n",
      "616:\tlearn: 1451.9953668\ttotal: 1m 30s\tremaining: 56.1s\n",
      "617:\tlearn: 1451.8333095\ttotal: 1m 30s\tremaining: 56s\n",
      "618:\tlearn: 1451.8259529\ttotal: 1m 30s\tremaining: 55.8s\n",
      "619:\tlearn: 1451.7657638\ttotal: 1m 30s\tremaining: 55.6s\n",
      "620:\tlearn: 1451.6546755\ttotal: 1m 30s\tremaining: 55.5s\n",
      "621:\tlearn: 1451.5097412\ttotal: 1m 31s\tremaining: 55.4s\n",
      "622:\tlearn: 1451.4031668\ttotal: 1m 31s\tremaining: 55.2s\n",
      "623:\tlearn: 1451.3214715\ttotal: 1m 31s\tremaining: 55.1s\n",
      "624:\tlearn: 1451.0880940\ttotal: 1m 31s\tremaining: 54.9s\n",
      "625:\tlearn: 1450.9838575\ttotal: 1m 31s\tremaining: 54.8s\n",
      "626:\tlearn: 1450.8403933\ttotal: 1m 31s\tremaining: 54.6s\n",
      "627:\tlearn: 1450.6069846\ttotal: 1m 31s\tremaining: 54.5s\n",
      "628:\tlearn: 1450.5015752\ttotal: 1m 32s\tremaining: 54.3s\n",
      "629:\tlearn: 1450.2702883\ttotal: 1m 32s\tremaining: 54.2s\n",
      "630:\tlearn: 1450.2383653\ttotal: 1m 32s\tremaining: 54s\n",
      "631:\tlearn: 1450.0296693\ttotal: 1m 32s\tremaining: 53.9s\n",
      "632:\tlearn: 1449.7709939\ttotal: 1m 32s\tremaining: 53.7s\n",
      "633:\tlearn: 1449.5872320\ttotal: 1m 32s\tremaining: 53.5s\n",
      "634:\tlearn: 1449.5482405\ttotal: 1m 32s\tremaining: 53.4s\n",
      "635:\tlearn: 1449.3652517\ttotal: 1m 33s\tremaining: 53.2s\n",
      "636:\tlearn: 1449.2668959\ttotal: 1m 33s\tremaining: 53.1s\n",
      "637:\tlearn: 1449.0607861\ttotal: 1m 33s\tremaining: 53s\n",
      "638:\tlearn: 1448.8080355\ttotal: 1m 33s\tremaining: 52.9s\n",
      "639:\tlearn: 1448.7022252\ttotal: 1m 33s\tremaining: 52.7s\n",
      "640:\tlearn: 1448.5378607\ttotal: 1m 33s\tremaining: 52.6s\n",
      "641:\tlearn: 1448.4708616\ttotal: 1m 34s\tremaining: 52.4s\n",
      "642:\tlearn: 1448.1260366\ttotal: 1m 34s\tremaining: 52.3s\n",
      "643:\tlearn: 1448.0374354\ttotal: 1m 34s\tremaining: 52.2s\n",
      "644:\tlearn: 1447.8404985\ttotal: 1m 34s\tremaining: 52s\n",
      "645:\tlearn: 1447.7534903\ttotal: 1m 34s\tremaining: 51.9s\n",
      "646:\tlearn: 1447.4503388\ttotal: 1m 34s\tremaining: 51.7s\n",
      "647:\tlearn: 1447.3525723\ttotal: 1m 35s\tremaining: 51.6s\n",
      "648:\tlearn: 1447.2810595\ttotal: 1m 35s\tremaining: 51.5s\n",
      "649:\tlearn: 1447.1370981\ttotal: 1m 35s\tremaining: 51.3s\n",
      "650:\tlearn: 1447.0354823\ttotal: 1m 35s\tremaining: 51.2s\n",
      "651:\tlearn: 1446.9220688\ttotal: 1m 35s\tremaining: 51.1s\n",
      "652:\tlearn: 1446.7047170\ttotal: 1m 35s\tremaining: 50.9s\n",
      "653:\tlearn: 1446.6126211\ttotal: 1m 36s\tremaining: 50.8s\n",
      "654:\tlearn: 1446.5220059\ttotal: 1m 36s\tremaining: 50.6s\n",
      "655:\tlearn: 1446.4078240\ttotal: 1m 36s\tremaining: 50.5s\n",
      "656:\tlearn: 1446.3601544\ttotal: 1m 36s\tremaining: 50.4s\n",
      "657:\tlearn: 1446.1505402\ttotal: 1m 36s\tremaining: 50.2s\n",
      "658:\tlearn: 1445.9444586\ttotal: 1m 36s\tremaining: 50s\n",
      "659:\tlearn: 1445.6696905\ttotal: 1m 36s\tremaining: 49.9s\n",
      "660:\tlearn: 1445.5325390\ttotal: 1m 36s\tremaining: 49.7s\n",
      "661:\tlearn: 1445.4732074\ttotal: 1m 37s\tremaining: 49.6s\n",
      "662:\tlearn: 1445.3543739\ttotal: 1m 37s\tremaining: 49.5s\n",
      "663:\tlearn: 1445.2296539\ttotal: 1m 37s\tremaining: 49.3s\n",
      "664:\tlearn: 1445.1045133\ttotal: 1m 37s\tremaining: 49.2s\n",
      "665:\tlearn: 1444.9892753\ttotal: 1m 37s\tremaining: 49s\n",
      "666:\tlearn: 1444.8877244\ttotal: 1m 37s\tremaining: 48.9s\n",
      "667:\tlearn: 1444.7304552\ttotal: 1m 38s\tremaining: 48.7s\n",
      "668:\tlearn: 1444.4695197\ttotal: 1m 38s\tremaining: 48.6s\n",
      "669:\tlearn: 1444.3165927\ttotal: 1m 38s\tremaining: 48.4s\n",
      "670:\tlearn: 1444.2564151\ttotal: 1m 38s\tremaining: 48.3s\n",
      "671:\tlearn: 1443.9493571\ttotal: 1m 38s\tremaining: 48.2s\n",
      "672:\tlearn: 1443.8566836\ttotal: 1m 38s\tremaining: 48s\n",
      "673:\tlearn: 1443.7724585\ttotal: 1m 38s\tremaining: 47.8s\n",
      "674:\tlearn: 1443.5900651\ttotal: 1m 39s\tremaining: 47.7s\n",
      "675:\tlearn: 1443.3051026\ttotal: 1m 39s\tremaining: 47.6s\n",
      "676:\tlearn: 1443.1060594\ttotal: 1m 39s\tremaining: 47.4s\n",
      "677:\tlearn: 1442.9780865\ttotal: 1m 39s\tremaining: 47.3s\n",
      "678:\tlearn: 1442.8696163\ttotal: 1m 39s\tremaining: 47.1s\n",
      "679:\tlearn: 1442.6234121\ttotal: 1m 39s\tremaining: 47s\n",
      "680:\tlearn: 1442.5879933\ttotal: 1m 39s\tremaining: 46.8s\n",
      "681:\tlearn: 1442.5556869\ttotal: 1m 40s\tremaining: 46.7s\n",
      "682:\tlearn: 1442.4203475\ttotal: 1m 40s\tremaining: 46.5s\n",
      "683:\tlearn: 1442.1978346\ttotal: 1m 40s\tremaining: 46.4s\n",
      "684:\tlearn: 1442.0950498\ttotal: 1m 40s\tremaining: 46.2s\n",
      "685:\tlearn: 1441.9965182\ttotal: 1m 40s\tremaining: 46.1s\n",
      "686:\tlearn: 1441.8081893\ttotal: 1m 40s\tremaining: 46s\n",
      "687:\tlearn: 1441.7369358\ttotal: 1m 41s\tremaining: 45.8s\n",
      "688:\tlearn: 1441.5517282\ttotal: 1m 41s\tremaining: 45.7s\n",
      "689:\tlearn: 1441.5294650\ttotal: 1m 41s\tremaining: 45.5s\n",
      "690:\tlearn: 1441.2258022\ttotal: 1m 41s\tremaining: 45.4s\n",
      "691:\tlearn: 1441.0875685\ttotal: 1m 41s\tremaining: 45.3s\n",
      "692:\tlearn: 1440.8930561\ttotal: 1m 41s\tremaining: 45.1s\n",
      "693:\tlearn: 1440.8195393\ttotal: 1m 42s\tremaining: 45s\n",
      "694:\tlearn: 1440.5145093\ttotal: 1m 42s\tremaining: 44.9s\n",
      "695:\tlearn: 1440.3699434\ttotal: 1m 42s\tremaining: 44.7s\n",
      "696:\tlearn: 1440.2573921\ttotal: 1m 42s\tremaining: 44.6s\n",
      "697:\tlearn: 1439.9271135\ttotal: 1m 42s\tremaining: 44.4s\n",
      "698:\tlearn: 1439.8451047\ttotal: 1m 42s\tremaining: 44.3s\n",
      "699:\tlearn: 1439.6335514\ttotal: 1m 42s\tremaining: 44.1s\n",
      "700:\tlearn: 1439.3588225\ttotal: 1m 43s\tremaining: 44s\n",
      "701:\tlearn: 1439.3114404\ttotal: 1m 43s\tremaining: 43.8s\n",
      "702:\tlearn: 1439.2066247\ttotal: 1m 43s\tremaining: 43.7s\n",
      "703:\tlearn: 1438.8461577\ttotal: 1m 43s\tremaining: 43.5s\n",
      "704:\tlearn: 1438.6596998\ttotal: 1m 43s\tremaining: 43.4s\n",
      "705:\tlearn: 1438.4732070\ttotal: 1m 43s\tremaining: 43.3s\n",
      "706:\tlearn: 1438.2741475\ttotal: 1m 44s\tremaining: 43.1s\n",
      "707:\tlearn: 1438.2032139\ttotal: 1m 44s\tremaining: 43s\n",
      "708:\tlearn: 1438.0213363\ttotal: 1m 44s\tremaining: 42.9s\n",
      "709:\tlearn: 1437.8802786\ttotal: 1m 44s\tremaining: 42.7s\n",
      "710:\tlearn: 1437.7180595\ttotal: 1m 44s\tremaining: 42.6s\n",
      "711:\tlearn: 1437.4277371\ttotal: 1m 44s\tremaining: 42.4s\n",
      "712:\tlearn: 1437.1428353\ttotal: 1m 45s\tremaining: 42.3s\n",
      "713:\tlearn: 1437.0548956\ttotal: 1m 45s\tremaining: 42.1s\n",
      "714:\tlearn: 1436.9193075\ttotal: 1m 45s\tremaining: 42s\n",
      "715:\tlearn: 1436.8681484\ttotal: 1m 45s\tremaining: 41.8s\n",
      "716:\tlearn: 1436.6163675\ttotal: 1m 45s\tremaining: 41.7s\n",
      "717:\tlearn: 1436.3404120\ttotal: 1m 45s\tremaining: 41.6s\n",
      "718:\tlearn: 1435.9835846\ttotal: 1m 45s\tremaining: 41.4s\n",
      "719:\tlearn: 1435.8661917\ttotal: 1m 46s\tremaining: 41.3s\n",
      "720:\tlearn: 1435.5766972\ttotal: 1m 46s\tremaining: 41.1s\n",
      "721:\tlearn: 1435.5101811\ttotal: 1m 46s\tremaining: 41s\n",
      "722:\tlearn: 1435.3904976\ttotal: 1m 46s\tremaining: 40.8s\n",
      "723:\tlearn: 1434.9601544\ttotal: 1m 46s\tremaining: 40.7s\n",
      "724:\tlearn: 1434.8919815\ttotal: 1m 46s\tremaining: 40.5s\n",
      "725:\tlearn: 1434.7636673\ttotal: 1m 47s\tremaining: 40.4s\n",
      "726:\tlearn: 1434.6923187\ttotal: 1m 47s\tremaining: 40.3s\n",
      "727:\tlearn: 1434.5166361\ttotal: 1m 47s\tremaining: 40.1s\n",
      "728:\tlearn: 1434.4530089\ttotal: 1m 47s\tremaining: 40s\n",
      "729:\tlearn: 1434.2260315\ttotal: 1m 47s\tremaining: 39.8s\n",
      "730:\tlearn: 1434.0054496\ttotal: 1m 47s\tremaining: 39.7s\n",
      "731:\tlearn: 1433.8589018\ttotal: 1m 47s\tremaining: 39.5s\n",
      "732:\tlearn: 1433.8474755\ttotal: 1m 48s\tremaining: 39.4s\n",
      "733:\tlearn: 1433.8210556\ttotal: 1m 48s\tremaining: 39.2s\n",
      "734:\tlearn: 1433.8146657\ttotal: 1m 48s\tremaining: 39.1s\n",
      "735:\tlearn: 1433.7884781\ttotal: 1m 48s\tremaining: 38.9s\n",
      "736:\tlearn: 1433.5239734\ttotal: 1m 48s\tremaining: 38.8s\n",
      "737:\tlearn: 1433.3035134\ttotal: 1m 48s\tremaining: 38.6s\n",
      "738:\tlearn: 1433.2182539\ttotal: 1m 48s\tremaining: 38.5s\n",
      "739:\tlearn: 1433.1212776\ttotal: 1m 49s\tremaining: 38.3s\n",
      "740:\tlearn: 1432.6255496\ttotal: 1m 49s\tremaining: 38.2s\n",
      "741:\tlearn: 1432.2689193\ttotal: 1m 49s\tremaining: 38s\n",
      "742:\tlearn: 1432.1664996\ttotal: 1m 49s\tremaining: 37.9s\n",
      "743:\tlearn: 1432.0964986\ttotal: 1m 49s\tremaining: 37.7s\n",
      "744:\tlearn: 1431.9457972\ttotal: 1m 49s\tremaining: 37.6s\n",
      "745:\tlearn: 1431.7774458\ttotal: 1m 50s\tremaining: 37.5s\n",
      "746:\tlearn: 1431.7548066\ttotal: 1m 50s\tremaining: 37.3s\n",
      "747:\tlearn: 1431.6706631\ttotal: 1m 50s\tremaining: 37.1s\n",
      "748:\tlearn: 1431.5131138\ttotal: 1m 50s\tremaining: 37s\n",
      "749:\tlearn: 1431.3683689\ttotal: 1m 50s\tremaining: 36.8s\n",
      "750:\tlearn: 1431.3096843\ttotal: 1m 50s\tremaining: 36.7s\n",
      "751:\tlearn: 1431.1781546\ttotal: 1m 50s\tremaining: 36.5s\n",
      "752:\tlearn: 1431.1285543\ttotal: 1m 50s\tremaining: 36.4s\n",
      "753:\tlearn: 1430.8477216\ttotal: 1m 51s\tremaining: 36.2s\n",
      "754:\tlearn: 1430.7595997\ttotal: 1m 51s\tremaining: 36.1s\n",
      "755:\tlearn: 1430.7376221\ttotal: 1m 51s\tremaining: 35.9s\n",
      "756:\tlearn: 1430.3614723\ttotal: 1m 51s\tremaining: 35.8s\n",
      "757:\tlearn: 1430.3001308\ttotal: 1m 51s\tremaining: 35.7s\n",
      "758:\tlearn: 1430.2151442\ttotal: 1m 51s\tremaining: 35.6s\n",
      "759:\tlearn: 1430.1516913\ttotal: 1m 52s\tremaining: 35.4s\n",
      "760:\tlearn: 1430.0120851\ttotal: 1m 52s\tremaining: 35.3s\n",
      "761:\tlearn: 1429.8925055\ttotal: 1m 52s\tremaining: 35.1s\n",
      "762:\tlearn: 1429.8741991\ttotal: 1m 52s\tremaining: 35s\n",
      "763:\tlearn: 1429.7073331\ttotal: 1m 52s\tremaining: 34.8s\n",
      "764:\tlearn: 1429.5802685\ttotal: 1m 52s\tremaining: 34.7s\n",
      "765:\tlearn: 1429.5153425\ttotal: 1m 53s\tremaining: 34.6s\n",
      "766:\tlearn: 1429.4250528\ttotal: 1m 53s\tremaining: 34.4s\n",
      "767:\tlearn: 1429.3115595\ttotal: 1m 53s\tremaining: 34.3s\n",
      "768:\tlearn: 1428.9970294\ttotal: 1m 53s\tremaining: 34.1s\n",
      "769:\tlearn: 1428.8371489\ttotal: 1m 53s\tremaining: 34s\n",
      "770:\tlearn: 1428.6675541\ttotal: 1m 53s\tremaining: 33.8s\n",
      "771:\tlearn: 1428.5008538\ttotal: 1m 54s\tremaining: 33.7s\n",
      "772:\tlearn: 1428.3869264\ttotal: 1m 54s\tremaining: 33.5s\n",
      "773:\tlearn: 1428.3210145\ttotal: 1m 54s\tremaining: 33.4s\n",
      "774:\tlearn: 1428.2300011\ttotal: 1m 54s\tremaining: 33.2s\n",
      "775:\tlearn: 1428.1200442\ttotal: 1m 54s\tremaining: 33.1s\n",
      "776:\tlearn: 1428.0905180\ttotal: 1m 54s\tremaining: 32.9s\n",
      "777:\tlearn: 1427.8486386\ttotal: 1m 54s\tremaining: 32.8s\n",
      "778:\tlearn: 1427.7513733\ttotal: 1m 55s\tremaining: 32.6s\n",
      "779:\tlearn: 1427.5814046\ttotal: 1m 55s\tremaining: 32.5s\n",
      "780:\tlearn: 1427.4597816\ttotal: 1m 55s\tremaining: 32.3s\n",
      "781:\tlearn: 1427.1469446\ttotal: 1m 55s\tremaining: 32.2s\n",
      "782:\tlearn: 1427.0309831\ttotal: 1m 55s\tremaining: 32s\n",
      "783:\tlearn: 1426.9335005\ttotal: 1m 55s\tremaining: 31.9s\n",
      "784:\tlearn: 1426.6266427\ttotal: 1m 55s\tremaining: 31.7s\n",
      "785:\tlearn: 1426.4194687\ttotal: 1m 56s\tremaining: 31.6s\n",
      "786:\tlearn: 1426.3237847\ttotal: 1m 56s\tremaining: 31.5s\n",
      "787:\tlearn: 1426.2620468\ttotal: 1m 56s\tremaining: 31.3s\n",
      "788:\tlearn: 1426.2102990\ttotal: 1m 56s\tremaining: 31.1s\n",
      "789:\tlearn: 1425.8374243\ttotal: 1m 56s\tremaining: 31s\n",
      "790:\tlearn: 1425.5907229\ttotal: 1m 56s\tremaining: 30.8s\n",
      "791:\tlearn: 1425.5154004\ttotal: 1m 56s\tremaining: 30.7s\n",
      "792:\tlearn: 1425.4713017\ttotal: 1m 56s\tremaining: 30.5s\n",
      "793:\tlearn: 1425.3861622\ttotal: 1m 57s\tremaining: 30.4s\n",
      "794:\tlearn: 1425.2997858\ttotal: 1m 57s\tremaining: 30.2s\n",
      "795:\tlearn: 1425.1422492\ttotal: 1m 57s\tremaining: 30.1s\n",
      "796:\tlearn: 1425.0169320\ttotal: 1m 57s\tremaining: 29.9s\n",
      "797:\tlearn: 1424.9221403\ttotal: 1m 57s\tremaining: 29.8s\n",
      "798:\tlearn: 1424.8275279\ttotal: 1m 57s\tremaining: 29.6s\n",
      "799:\tlearn: 1424.7889954\ttotal: 1m 57s\tremaining: 29.5s\n",
      "800:\tlearn: 1424.2774332\ttotal: 1m 58s\tremaining: 29.3s\n",
      "801:\tlearn: 1424.1262388\ttotal: 1m 58s\tremaining: 29.2s\n",
      "802:\tlearn: 1424.0371355\ttotal: 1m 58s\tremaining: 29.1s\n",
      "803:\tlearn: 1423.8980639\ttotal: 1m 58s\tremaining: 28.9s\n",
      "804:\tlearn: 1423.7769901\ttotal: 1m 58s\tremaining: 28.8s\n",
      "805:\tlearn: 1423.6978390\ttotal: 1m 58s\tremaining: 28.6s\n",
      "806:\tlearn: 1423.6854517\ttotal: 1m 59s\tremaining: 28.5s\n",
      "807:\tlearn: 1423.6440890\ttotal: 1m 59s\tremaining: 28.3s\n",
      "808:\tlearn: 1423.5715194\ttotal: 1m 59s\tremaining: 28.2s\n",
      "809:\tlearn: 1423.4844149\ttotal: 1m 59s\tremaining: 28s\n",
      "810:\tlearn: 1423.4130842\ttotal: 1m 59s\tremaining: 27.9s\n",
      "811:\tlearn: 1423.1746499\ttotal: 1m 59s\tremaining: 27.7s\n",
      "812:\tlearn: 1423.0664809\ttotal: 1m 59s\tremaining: 27.6s\n",
      "813:\tlearn: 1422.9808742\ttotal: 2m\tremaining: 27.4s\n",
      "814:\tlearn: 1422.7904802\ttotal: 2m\tremaining: 27.3s\n",
      "815:\tlearn: 1422.7028101\ttotal: 2m\tremaining: 27.1s\n",
      "816:\tlearn: 1422.5577655\ttotal: 2m\tremaining: 27s\n",
      "817:\tlearn: 1422.5321606\ttotal: 2m\tremaining: 26.8s\n",
      "818:\tlearn: 1422.4610712\ttotal: 2m\tremaining: 26.7s\n",
      "819:\tlearn: 1422.3466189\ttotal: 2m\tremaining: 26.5s\n",
      "820:\tlearn: 1422.2340893\ttotal: 2m 1s\tremaining: 26.4s\n",
      "821:\tlearn: 1422.1328370\ttotal: 2m 1s\tremaining: 26.2s\n",
      "822:\tlearn: 1422.0865002\ttotal: 2m 1s\tremaining: 26.1s\n",
      "823:\tlearn: 1421.9559922\ttotal: 2m 1s\tremaining: 25.9s\n",
      "824:\tlearn: 1421.8727754\ttotal: 2m 1s\tremaining: 25.8s\n",
      "825:\tlearn: 1421.7772620\ttotal: 2m 1s\tremaining: 25.7s\n",
      "826:\tlearn: 1421.6924201\ttotal: 2m 1s\tremaining: 25.5s\n",
      "827:\tlearn: 1421.5645033\ttotal: 2m 2s\tremaining: 25.4s\n",
      "828:\tlearn: 1421.4430705\ttotal: 2m 2s\tremaining: 25.2s\n",
      "829:\tlearn: 1421.3575003\ttotal: 2m 2s\tremaining: 25.1s\n",
      "830:\tlearn: 1421.1414999\ttotal: 2m 2s\tremaining: 24.9s\n",
      "831:\tlearn: 1420.7620267\ttotal: 2m 2s\tremaining: 24.8s\n",
      "832:\tlearn: 1420.6606886\ttotal: 2m 2s\tremaining: 24.6s\n",
      "833:\tlearn: 1420.5013724\ttotal: 2m 3s\tremaining: 24.5s\n",
      "834:\tlearn: 1420.4276580\ttotal: 2m 3s\tremaining: 24.3s\n",
      "835:\tlearn: 1420.1886621\ttotal: 2m 3s\tremaining: 24.2s\n",
      "836:\tlearn: 1420.0001618\ttotal: 2m 3s\tremaining: 24.1s\n",
      "837:\tlearn: 1419.9381298\ttotal: 2m 3s\tremaining: 23.9s\n",
      "838:\tlearn: 1419.7792761\ttotal: 2m 3s\tremaining: 23.7s\n",
      "839:\tlearn: 1419.5877998\ttotal: 2m 3s\tremaining: 23.6s\n",
      "840:\tlearn: 1419.4460857\ttotal: 2m 4s\tremaining: 23.5s\n",
      "841:\tlearn: 1419.1477887\ttotal: 2m 4s\tremaining: 23.3s\n",
      "842:\tlearn: 1418.9611549\ttotal: 2m 4s\tremaining: 23.2s\n",
      "843:\tlearn: 1418.7985410\ttotal: 2m 4s\tremaining: 23s\n",
      "844:\tlearn: 1418.7417313\ttotal: 2m 4s\tremaining: 22.9s\n",
      "845:\tlearn: 1418.6549595\ttotal: 2m 4s\tremaining: 22.7s\n",
      "846:\tlearn: 1418.3759900\ttotal: 2m 4s\tremaining: 22.6s\n",
      "847:\tlearn: 1418.1477715\ttotal: 2m 5s\tremaining: 22.4s\n",
      "848:\tlearn: 1417.9302243\ttotal: 2m 5s\tremaining: 22.3s\n",
      "849:\tlearn: 1417.8432565\ttotal: 2m 5s\tremaining: 22.1s\n",
      "850:\tlearn: 1417.7326738\ttotal: 2m 5s\tremaining: 22s\n",
      "851:\tlearn: 1417.5213570\ttotal: 2m 5s\tremaining: 21.8s\n",
      "852:\tlearn: 1417.4709605\ttotal: 2m 5s\tremaining: 21.7s\n",
      "853:\tlearn: 1417.3073750\ttotal: 2m 5s\tremaining: 21.5s\n",
      "854:\tlearn: 1417.1969822\ttotal: 2m 6s\tremaining: 21.4s\n",
      "855:\tlearn: 1417.0001255\ttotal: 2m 6s\tremaining: 21.2s\n",
      "856:\tlearn: 1416.9491810\ttotal: 2m 6s\tremaining: 21.1s\n",
      "857:\tlearn: 1416.7257429\ttotal: 2m 6s\tremaining: 20.9s\n",
      "858:\tlearn: 1416.6463044\ttotal: 2m 6s\tremaining: 20.8s\n",
      "859:\tlearn: 1416.3856794\ttotal: 2m 6s\tremaining: 20.6s\n",
      "860:\tlearn: 1416.2202881\ttotal: 2m 6s\tremaining: 20.5s\n",
      "861:\tlearn: 1416.1128641\ttotal: 2m 6s\tremaining: 20.3s\n",
      "862:\tlearn: 1415.9710883\ttotal: 2m 7s\tremaining: 20.2s\n",
      "863:\tlearn: 1415.7965651\ttotal: 2m 7s\tremaining: 20s\n",
      "864:\tlearn: 1415.7358922\ttotal: 2m 7s\tremaining: 19.9s\n",
      "865:\tlearn: 1415.5970799\ttotal: 2m 7s\tremaining: 19.7s\n",
      "866:\tlearn: 1415.4034755\ttotal: 2m 7s\tremaining: 19.6s\n",
      "867:\tlearn: 1415.3454420\ttotal: 2m 7s\tremaining: 19.4s\n",
      "868:\tlearn: 1415.2330623\ttotal: 2m 8s\tremaining: 19.3s\n",
      "869:\tlearn: 1415.1424307\ttotal: 2m 8s\tremaining: 19.2s\n",
      "870:\tlearn: 1414.9890047\ttotal: 2m 8s\tremaining: 19s\n",
      "871:\tlearn: 1414.8922462\ttotal: 2m 8s\tremaining: 18.9s\n",
      "872:\tlearn: 1414.7355875\ttotal: 2m 8s\tremaining: 18.7s\n",
      "873:\tlearn: 1414.5739107\ttotal: 2m 8s\tremaining: 18.6s\n",
      "874:\tlearn: 1414.5098021\ttotal: 2m 8s\tremaining: 18.4s\n",
      "875:\tlearn: 1414.4372386\ttotal: 2m 9s\tremaining: 18.3s\n",
      "876:\tlearn: 1414.2127681\ttotal: 2m 9s\tremaining: 18.1s\n",
      "877:\tlearn: 1414.0506641\ttotal: 2m 9s\tremaining: 18s\n",
      "878:\tlearn: 1413.9102687\ttotal: 2m 9s\tremaining: 17.8s\n",
      "879:\tlearn: 1413.8040206\ttotal: 2m 9s\tremaining: 17.7s\n",
      "880:\tlearn: 1413.7425701\ttotal: 2m 9s\tremaining: 17.5s\n",
      "881:\tlearn: 1413.6160819\ttotal: 2m 9s\tremaining: 17.4s\n",
      "882:\tlearn: 1413.5132653\ttotal: 2m 9s\tremaining: 17.2s\n",
      "883:\tlearn: 1413.4091872\ttotal: 2m 10s\tremaining: 17.1s\n",
      "884:\tlearn: 1413.3144100\ttotal: 2m 10s\tremaining: 16.9s\n",
      "885:\tlearn: 1413.1790740\ttotal: 2m 10s\tremaining: 16.8s\n",
      "886:\tlearn: 1413.0147282\ttotal: 2m 10s\tremaining: 16.6s\n",
      "887:\tlearn: 1412.9018283\ttotal: 2m 10s\tremaining: 16.5s\n",
      "888:\tlearn: 1412.7222604\ttotal: 2m 10s\tremaining: 16.3s\n",
      "889:\tlearn: 1412.6163276\ttotal: 2m 10s\tremaining: 16.2s\n",
      "890:\tlearn: 1412.5254516\ttotal: 2m 10s\tremaining: 16s\n",
      "891:\tlearn: 1412.4070698\ttotal: 2m 11s\tremaining: 15.9s\n",
      "892:\tlearn: 1412.2254988\ttotal: 2m 11s\tremaining: 15.7s\n",
      "893:\tlearn: 1412.0176097\ttotal: 2m 11s\tremaining: 15.6s\n",
      "894:\tlearn: 1411.9482747\ttotal: 2m 11s\tremaining: 15.4s\n",
      "895:\tlearn: 1411.8861436\ttotal: 2m 11s\tremaining: 15.3s\n",
      "896:\tlearn: 1411.8197625\ttotal: 2m 11s\tremaining: 15.1s\n",
      "897:\tlearn: 1411.6181773\ttotal: 2m 12s\tremaining: 15s\n",
      "898:\tlearn: 1411.4225969\ttotal: 2m 12s\tremaining: 14.9s\n",
      "899:\tlearn: 1411.3510082\ttotal: 2m 12s\tremaining: 14.7s\n",
      "900:\tlearn: 1411.2983340\ttotal: 2m 12s\tremaining: 14.6s\n",
      "901:\tlearn: 1411.0088623\ttotal: 2m 12s\tremaining: 14.4s\n",
      "902:\tlearn: 1410.9613838\ttotal: 2m 12s\tremaining: 14.3s\n",
      "903:\tlearn: 1410.8268570\ttotal: 2m 12s\tremaining: 14.1s\n",
      "904:\tlearn: 1410.7395745\ttotal: 2m 13s\tremaining: 14s\n",
      "905:\tlearn: 1410.6437973\ttotal: 2m 13s\tremaining: 13.8s\n",
      "906:\tlearn: 1410.5317617\ttotal: 2m 13s\tremaining: 13.7s\n",
      "907:\tlearn: 1410.4702300\ttotal: 2m 13s\tremaining: 13.5s\n",
      "908:\tlearn: 1410.2046399\ttotal: 2m 13s\tremaining: 13.4s\n",
      "909:\tlearn: 1410.1539320\ttotal: 2m 13s\tremaining: 13.2s\n",
      "910:\tlearn: 1409.9235715\ttotal: 2m 14s\tremaining: 13.1s\n",
      "911:\tlearn: 1409.6776667\ttotal: 2m 14s\tremaining: 12.9s\n",
      "912:\tlearn: 1409.5618988\ttotal: 2m 14s\tremaining: 12.8s\n",
      "913:\tlearn: 1409.4500789\ttotal: 2m 14s\tremaining: 12.7s\n",
      "914:\tlearn: 1409.2413256\ttotal: 2m 14s\tremaining: 12.5s\n",
      "915:\tlearn: 1409.1512114\ttotal: 2m 14s\tremaining: 12.4s\n",
      "916:\tlearn: 1409.0199535\ttotal: 2m 14s\tremaining: 12.2s\n",
      "917:\tlearn: 1409.0066217\ttotal: 2m 15s\tremaining: 12.1s\n",
      "918:\tlearn: 1408.9796140\ttotal: 2m 15s\tremaining: 11.9s\n",
      "919:\tlearn: 1408.8014114\ttotal: 2m 15s\tremaining: 11.8s\n",
      "920:\tlearn: 1408.6166201\ttotal: 2m 15s\tremaining: 11.6s\n",
      "921:\tlearn: 1408.5426301\ttotal: 2m 15s\tremaining: 11.5s\n",
      "922:\tlearn: 1408.5186272\ttotal: 2m 15s\tremaining: 11.3s\n",
      "923:\tlearn: 1408.4714958\ttotal: 2m 15s\tremaining: 11.2s\n",
      "924:\tlearn: 1408.3039557\ttotal: 2m 16s\tremaining: 11s\n",
      "925:\tlearn: 1408.2301360\ttotal: 2m 16s\tremaining: 10.9s\n",
      "926:\tlearn: 1408.0174403\ttotal: 2m 16s\tremaining: 10.7s\n",
      "927:\tlearn: 1407.9632732\ttotal: 2m 16s\tremaining: 10.6s\n",
      "928:\tlearn: 1407.8134624\ttotal: 2m 16s\tremaining: 10.4s\n",
      "929:\tlearn: 1407.6286627\ttotal: 2m 16s\tremaining: 10.3s\n",
      "930:\tlearn: 1407.4984719\ttotal: 2m 17s\tremaining: 10.2s\n",
      "931:\tlearn: 1407.3210061\ttotal: 2m 17s\tremaining: 10s\n",
      "932:\tlearn: 1407.1755407\ttotal: 2m 17s\tremaining: 9.86s\n",
      "933:\tlearn: 1407.0767179\ttotal: 2m 17s\tremaining: 9.71s\n",
      "934:\tlearn: 1406.9057783\ttotal: 2m 17s\tremaining: 9.57s\n",
      "935:\tlearn: 1406.7033597\ttotal: 2m 17s\tremaining: 9.42s\n",
      "936:\tlearn: 1406.6177066\ttotal: 2m 17s\tremaining: 9.27s\n",
      "937:\tlearn: 1406.5351228\ttotal: 2m 18s\tremaining: 9.13s\n",
      "938:\tlearn: 1406.4491556\ttotal: 2m 18s\tremaining: 8.98s\n",
      "939:\tlearn: 1406.3077916\ttotal: 2m 18s\tremaining: 8.84s\n",
      "940:\tlearn: 1406.2564300\ttotal: 2m 18s\tremaining: 8.69s\n",
      "941:\tlearn: 1406.1885629\ttotal: 2m 18s\tremaining: 8.54s\n",
      "942:\tlearn: 1406.1496441\ttotal: 2m 18s\tremaining: 8.4s\n",
      "943:\tlearn: 1405.9688828\ttotal: 2m 19s\tremaining: 8.25s\n",
      "944:\tlearn: 1405.7759616\ttotal: 2m 19s\tremaining: 8.1s\n",
      "945:\tlearn: 1405.7256307\ttotal: 2m 19s\tremaining: 7.96s\n",
      "946:\tlearn: 1405.4749479\ttotal: 2m 19s\tremaining: 7.81s\n",
      "947:\tlearn: 1405.3058919\ttotal: 2m 19s\tremaining: 7.66s\n",
      "948:\tlearn: 1405.1182640\ttotal: 2m 19s\tremaining: 7.51s\n",
      "949:\tlearn: 1405.0167432\ttotal: 2m 19s\tremaining: 7.36s\n",
      "950:\tlearn: 1404.9036516\ttotal: 2m 20s\tremaining: 7.21s\n",
      "951:\tlearn: 1404.7832948\ttotal: 2m 20s\tremaining: 7.07s\n",
      "952:\tlearn: 1404.6012655\ttotal: 2m 20s\tremaining: 6.92s\n",
      "953:\tlearn: 1404.4834777\ttotal: 2m 20s\tremaining: 6.77s\n",
      "954:\tlearn: 1404.3608360\ttotal: 2m 20s\tremaining: 6.62s\n",
      "955:\tlearn: 1404.0429315\ttotal: 2m 20s\tremaining: 6.48s\n",
      "956:\tlearn: 1403.9866211\ttotal: 2m 20s\tremaining: 6.33s\n",
      "957:\tlearn: 1403.8926869\ttotal: 2m 20s\tremaining: 6.18s\n",
      "958:\tlearn: 1403.8396478\ttotal: 2m 21s\tremaining: 6.03s\n",
      "959:\tlearn: 1403.8063624\ttotal: 2m 21s\tremaining: 5.88s\n",
      "960:\tlearn: 1403.7133518\ttotal: 2m 21s\tremaining: 5.73s\n",
      "961:\tlearn: 1403.6340187\ttotal: 2m 21s\tremaining: 5.59s\n",
      "962:\tlearn: 1403.4957749\ttotal: 2m 21s\tremaining: 5.44s\n",
      "963:\tlearn: 1403.3524489\ttotal: 2m 21s\tremaining: 5.29s\n",
      "964:\tlearn: 1403.1973644\ttotal: 2m 21s\tremaining: 5.14s\n",
      "965:\tlearn: 1403.0362373\ttotal: 2m 21s\tremaining: 5s\n",
      "966:\tlearn: 1402.9442155\ttotal: 2m 22s\tremaining: 4.85s\n",
      "967:\tlearn: 1402.8668631\ttotal: 2m 22s\tremaining: 4.7s\n",
      "968:\tlearn: 1402.6914941\ttotal: 2m 22s\tremaining: 4.56s\n",
      "969:\tlearn: 1402.6193820\ttotal: 2m 22s\tremaining: 4.41s\n",
      "970:\tlearn: 1402.5645396\ttotal: 2m 22s\tremaining: 4.26s\n",
      "971:\tlearn: 1402.4349801\ttotal: 2m 22s\tremaining: 4.12s\n",
      "972:\tlearn: 1402.3796426\ttotal: 2m 23s\tremaining: 3.97s\n",
      "973:\tlearn: 1402.1801400\ttotal: 2m 23s\tremaining: 3.82s\n",
      "974:\tlearn: 1401.9883426\ttotal: 2m 23s\tremaining: 3.68s\n",
      "975:\tlearn: 1401.8828311\ttotal: 2m 23s\tremaining: 3.53s\n",
      "976:\tlearn: 1401.8550071\ttotal: 2m 23s\tremaining: 3.38s\n",
      "977:\tlearn: 1401.7253531\ttotal: 2m 23s\tremaining: 3.24s\n",
      "978:\tlearn: 1401.6013920\ttotal: 2m 24s\tremaining: 3.09s\n",
      "979:\tlearn: 1401.5493585\ttotal: 2m 24s\tremaining: 2.94s\n",
      "980:\tlearn: 1401.4437282\ttotal: 2m 24s\tremaining: 2.79s\n",
      "981:\tlearn: 1401.2886841\ttotal: 2m 24s\tremaining: 2.65s\n",
      "982:\tlearn: 1401.1721515\ttotal: 2m 24s\tremaining: 2.5s\n",
      "983:\tlearn: 1401.0556151\ttotal: 2m 24s\tremaining: 2.35s\n",
      "984:\tlearn: 1400.9252321\ttotal: 2m 24s\tremaining: 2.21s\n",
      "985:\tlearn: 1400.8839113\ttotal: 2m 25s\tremaining: 2.06s\n",
      "986:\tlearn: 1400.8154491\ttotal: 2m 25s\tremaining: 1.91s\n",
      "987:\tlearn: 1400.6954141\ttotal: 2m 25s\tremaining: 1.76s\n",
      "988:\tlearn: 1400.3874261\ttotal: 2m 25s\tremaining: 1.62s\n",
      "989:\tlearn: 1400.1484797\ttotal: 2m 25s\tremaining: 1.47s\n",
      "990:\tlearn: 1399.8322891\ttotal: 2m 25s\tremaining: 1.32s\n",
      "991:\tlearn: 1399.7017444\ttotal: 2m 26s\tremaining: 1.18s\n",
      "992:\tlearn: 1399.3631434\ttotal: 2m 26s\tremaining: 1.03s\n",
      "993:\tlearn: 1399.2619056\ttotal: 2m 26s\tremaining: 884ms\n",
      "994:\tlearn: 1399.1533570\ttotal: 2m 26s\tremaining: 737ms\n",
      "995:\tlearn: 1399.1052689\ttotal: 2m 26s\tremaining: 589ms\n",
      "996:\tlearn: 1398.9677796\ttotal: 2m 26s\tremaining: 442ms\n",
      "997:\tlearn: 1398.8296226\ttotal: 2m 26s\tremaining: 295ms\n",
      "998:\tlearn: 1398.7815909\ttotal: 2m 27s\tremaining: 147ms\n",
      "999:\tlearn: 1398.5548037\ttotal: 2m 27s\tremaining: 0us\n",
      "Learning rate set to 0.092006\n",
      "0:\tlearn: 4355.1780806\ttotal: 337ms\tremaining: 5m 37s\n",
      "1:\tlearn: 4073.1903761\ttotal: 617ms\tremaining: 5m 7s\n",
      "2:\tlearn: 3824.0818666\ttotal: 907ms\tremaining: 5m 1s\n",
      "3:\tlearn: 3605.7512317\ttotal: 1.13s\tremaining: 4m 42s\n",
      "4:\tlearn: 3409.3783627\ttotal: 1.46s\tremaining: 4m 50s\n",
      "5:\tlearn: 3235.3572467\ttotal: 1.72s\tremaining: 4m 44s\n",
      "6:\tlearn: 3081.5164240\ttotal: 2.01s\tremaining: 4m 45s\n",
      "7:\tlearn: 2942.7495066\ttotal: 2.27s\tremaining: 4m 41s\n",
      "8:\tlearn: 2820.3572303\ttotal: 2.54s\tremaining: 4m 40s\n",
      "9:\tlearn: 2711.4377815\ttotal: 2.81s\tremaining: 4m 37s\n",
      "10:\tlearn: 2613.7655744\ttotal: 3.07s\tremaining: 4m 36s\n",
      "11:\tlearn: 2524.3724149\ttotal: 3.28s\tremaining: 4m 30s\n",
      "12:\tlearn: 2445.9030206\ttotal: 3.56s\tremaining: 4m 30s\n",
      "13:\tlearn: 2380.6177442\ttotal: 3.81s\tremaining: 4m 28s\n",
      "14:\tlearn: 2319.2522438\ttotal: 4.04s\tremaining: 4m 25s\n",
      "15:\tlearn: 2262.9623233\ttotal: 4.28s\tremaining: 4m 22s\n",
      "16:\tlearn: 2216.2210566\ttotal: 4.53s\tremaining: 4m 21s\n",
      "17:\tlearn: 2174.2908804\ttotal: 4.78s\tremaining: 4m 20s\n",
      "18:\tlearn: 2136.6785257\ttotal: 5.06s\tremaining: 4m 21s\n",
      "19:\tlearn: 2096.8310908\ttotal: 5.32s\tremaining: 4m 20s\n",
      "20:\tlearn: 2065.8502598\ttotal: 5.55s\tremaining: 4m 18s\n",
      "21:\tlearn: 2035.2596540\ttotal: 5.77s\tremaining: 4m 16s\n",
      "22:\tlearn: 2008.9036718\ttotal: 5.98s\tremaining: 4m 13s\n",
      "23:\tlearn: 1984.5094402\ttotal: 6.21s\tremaining: 4m 12s\n",
      "24:\tlearn: 1959.0432993\ttotal: 6.38s\tremaining: 4m 9s\n",
      "25:\tlearn: 1937.5733430\ttotal: 6.56s\tremaining: 4m 5s\n",
      "26:\tlearn: 1919.4462359\ttotal: 6.75s\tremaining: 4m 3s\n",
      "27:\tlearn: 1903.5978565\ttotal: 6.92s\tremaining: 4m\n",
      "28:\tlearn: 1888.3209929\ttotal: 7.09s\tremaining: 3m 57s\n",
      "29:\tlearn: 1875.9095277\ttotal: 7.3s\tremaining: 3m 55s\n",
      "30:\tlearn: 1864.4063703\ttotal: 7.52s\tremaining: 3m 55s\n",
      "31:\tlearn: 1854.2949445\ttotal: 7.72s\tremaining: 3m 53s\n",
      "32:\tlearn: 1840.9067325\ttotal: 7.93s\tremaining: 3m 52s\n",
      "33:\tlearn: 1830.1043894\ttotal: 8.16s\tremaining: 3m 51s\n",
      "34:\tlearn: 1822.5851397\ttotal: 8.4s\tremaining: 3m 51s\n",
      "35:\tlearn: 1814.7767259\ttotal: 8.67s\tremaining: 3m 52s\n",
      "36:\tlearn: 1807.7544609\ttotal: 8.82s\tremaining: 3m 49s\n",
      "37:\tlearn: 1798.4131170\ttotal: 8.98s\tremaining: 3m 47s\n",
      "38:\tlearn: 1792.7884946\ttotal: 9.15s\tremaining: 3m 45s\n",
      "39:\tlearn: 1787.1163678\ttotal: 9.38s\tremaining: 3m 45s\n",
      "40:\tlearn: 1781.1729265\ttotal: 9.62s\tremaining: 3m 45s\n",
      "41:\tlearn: 1775.6468788\ttotal: 9.83s\tremaining: 3m 44s\n",
      "42:\tlearn: 1771.0166884\ttotal: 10s\tremaining: 3m 42s\n",
      "43:\tlearn: 1766.2712429\ttotal: 10.2s\tremaining: 3m 41s\n",
      "44:\tlearn: 1762.5801964\ttotal: 10.4s\tremaining: 3m 39s\n",
      "45:\tlearn: 1758.4872223\ttotal: 10.6s\tremaining: 3m 39s\n",
      "46:\tlearn: 1755.1429084\ttotal: 10.8s\tremaining: 3m 38s\n",
      "47:\tlearn: 1752.0068175\ttotal: 11s\tremaining: 3m 37s\n",
      "48:\tlearn: 1745.9659863\ttotal: 11.1s\tremaining: 3m 35s\n",
      "49:\tlearn: 1742.2028579\ttotal: 11.3s\tremaining: 3m 35s\n",
      "50:\tlearn: 1738.1111132\ttotal: 11.5s\tremaining: 3m 34s\n",
      "51:\tlearn: 1735.3624154\ttotal: 11.7s\tremaining: 3m 33s\n",
      "52:\tlearn: 1728.8955455\ttotal: 11.9s\tremaining: 3m 32s\n",
      "53:\tlearn: 1726.1243670\ttotal: 12.2s\tremaining: 3m 33s\n",
      "54:\tlearn: 1722.3162297\ttotal: 12.4s\tremaining: 3m 32s\n",
      "55:\tlearn: 1718.3374074\ttotal: 12.6s\tremaining: 3m 32s\n",
      "56:\tlearn: 1714.6177144\ttotal: 12.8s\tremaining: 3m 31s\n",
      "57:\tlearn: 1711.4170899\ttotal: 13s\tremaining: 3m 31s\n",
      "58:\tlearn: 1709.2122603\ttotal: 13.3s\tremaining: 3m 31s\n",
      "59:\tlearn: 1707.1504325\ttotal: 13.5s\tremaining: 3m 31s\n",
      "60:\tlearn: 1703.8523143\ttotal: 13.7s\tremaining: 3m 30s\n",
      "61:\tlearn: 1701.5444199\ttotal: 13.9s\tremaining: 3m 30s\n",
      "62:\tlearn: 1697.8657736\ttotal: 14.1s\tremaining: 3m 29s\n",
      "63:\tlearn: 1695.7240516\ttotal: 14.3s\tremaining: 3m 28s\n",
      "64:\tlearn: 1694.0855541\ttotal: 14.5s\tremaining: 3m 28s\n",
      "65:\tlearn: 1691.0980756\ttotal: 14.7s\tremaining: 3m 28s\n",
      "66:\tlearn: 1689.0887000\ttotal: 15s\tremaining: 3m 28s\n",
      "67:\tlearn: 1687.3222432\ttotal: 15.2s\tremaining: 3m 27s\n",
      "68:\tlearn: 1684.7831539\ttotal: 15.4s\tremaining: 3m 27s\n",
      "69:\tlearn: 1683.5894427\ttotal: 15.6s\tremaining: 3m 26s\n",
      "70:\tlearn: 1681.1457825\ttotal: 15.8s\tremaining: 3m 26s\n",
      "71:\tlearn: 1679.6985439\ttotal: 16s\tremaining: 3m 26s\n",
      "72:\tlearn: 1677.8765636\ttotal: 16.3s\tremaining: 3m 27s\n",
      "73:\tlearn: 1676.6056222\ttotal: 16.5s\tremaining: 3m 26s\n",
      "74:\tlearn: 1674.8037196\ttotal: 16.7s\tremaining: 3m 25s\n",
      "75:\tlearn: 1672.8128863\ttotal: 16.9s\tremaining: 3m 25s\n",
      "76:\tlearn: 1670.4777425\ttotal: 17.1s\tremaining: 3m 24s\n",
      "77:\tlearn: 1668.1685767\ttotal: 17.3s\tremaining: 3m 24s\n",
      "78:\tlearn: 1666.9573750\ttotal: 17.5s\tremaining: 3m 24s\n",
      "79:\tlearn: 1666.1069287\ttotal: 17.7s\tremaining: 3m 23s\n",
      "80:\tlearn: 1664.8836793\ttotal: 18s\tremaining: 3m 23s\n",
      "81:\tlearn: 1662.4642516\ttotal: 18.2s\tremaining: 3m 23s\n",
      "82:\tlearn: 1661.5740548\ttotal: 18.4s\tremaining: 3m 23s\n",
      "83:\tlearn: 1659.7529240\ttotal: 18.7s\tremaining: 3m 23s\n",
      "84:\tlearn: 1658.4042275\ttotal: 18.9s\tremaining: 3m 23s\n",
      "85:\tlearn: 1657.5156993\ttotal: 19.1s\tremaining: 3m 23s\n",
      "86:\tlearn: 1655.2406579\ttotal: 19.3s\tremaining: 3m 22s\n",
      "87:\tlearn: 1652.9953486\ttotal: 19.5s\tremaining: 3m 22s\n",
      "88:\tlearn: 1651.7115041\ttotal: 19.7s\tremaining: 3m 22s\n",
      "89:\tlearn: 1650.1867094\ttotal: 20s\tremaining: 3m 21s\n",
      "90:\tlearn: 1648.8671251\ttotal: 20.2s\tremaining: 3m 22s\n",
      "91:\tlearn: 1648.0370903\ttotal: 20.5s\tremaining: 3m 22s\n",
      "92:\tlearn: 1645.7424867\ttotal: 20.7s\tremaining: 3m 21s\n",
      "93:\tlearn: 1644.8391594\ttotal: 20.9s\tremaining: 3m 21s\n",
      "94:\tlearn: 1642.9128368\ttotal: 21.1s\tremaining: 3m 20s\n",
      "95:\tlearn: 1641.0679182\ttotal: 21.3s\tremaining: 3m 20s\n",
      "96:\tlearn: 1639.5837938\ttotal: 21.5s\tremaining: 3m 19s\n",
      "97:\tlearn: 1638.1743127\ttotal: 21.6s\tremaining: 3m 19s\n",
      "98:\tlearn: 1637.2410030\ttotal: 21.8s\tremaining: 3m 18s\n",
      "99:\tlearn: 1635.9611086\ttotal: 22.1s\tremaining: 3m 18s\n",
      "100:\tlearn: 1634.3778275\ttotal: 22.3s\tremaining: 3m 18s\n",
      "101:\tlearn: 1632.8104335\ttotal: 22.5s\tremaining: 3m 18s\n",
      "102:\tlearn: 1631.4103579\ttotal: 22.7s\tremaining: 3m 17s\n",
      "103:\tlearn: 1630.4308393\ttotal: 22.9s\tremaining: 3m 17s\n",
      "104:\tlearn: 1629.2590752\ttotal: 23.1s\tremaining: 3m 16s\n",
      "105:\tlearn: 1628.9288798\ttotal: 23.4s\tremaining: 3m 17s\n",
      "106:\tlearn: 1628.5595450\ttotal: 23.6s\tremaining: 3m 17s\n",
      "107:\tlearn: 1627.2537608\ttotal: 23.8s\tremaining: 3m 16s\n",
      "108:\tlearn: 1625.8988042\ttotal: 24s\tremaining: 3m 16s\n",
      "109:\tlearn: 1625.0104173\ttotal: 24.3s\tremaining: 3m 16s\n",
      "110:\tlearn: 1623.7252928\ttotal: 24.5s\tremaining: 3m 16s\n",
      "111:\tlearn: 1622.5431614\ttotal: 24.7s\tremaining: 3m 15s\n",
      "112:\tlearn: 1621.2961648\ttotal: 24.8s\tremaining: 3m 15s\n",
      "113:\tlearn: 1620.4518391\ttotal: 25.1s\tremaining: 3m 14s\n",
      "114:\tlearn: 1619.5575057\ttotal: 25.3s\tremaining: 3m 14s\n",
      "115:\tlearn: 1618.4078413\ttotal: 25.5s\tremaining: 3m 14s\n",
      "116:\tlearn: 1617.8834620\ttotal: 25.7s\tremaining: 3m 14s\n",
      "117:\tlearn: 1616.4676353\ttotal: 25.9s\tremaining: 3m 13s\n",
      "118:\tlearn: 1615.5419428\ttotal: 26.1s\tremaining: 3m 13s\n",
      "119:\tlearn: 1614.7046339\ttotal: 26.3s\tremaining: 3m 12s\n",
      "120:\tlearn: 1613.4868311\ttotal: 26.5s\tremaining: 3m 12s\n",
      "121:\tlearn: 1612.7251669\ttotal: 26.7s\tremaining: 3m 12s\n",
      "122:\tlearn: 1611.7296575\ttotal: 27s\tremaining: 3m 12s\n",
      "123:\tlearn: 1610.8997981\ttotal: 27.2s\tremaining: 3m 11s\n",
      "124:\tlearn: 1609.7673231\ttotal: 27.4s\tremaining: 3m 11s\n",
      "125:\tlearn: 1608.6987666\ttotal: 27.5s\tremaining: 3m 11s\n",
      "126:\tlearn: 1607.7382522\ttotal: 27.8s\tremaining: 3m 10s\n",
      "127:\tlearn: 1606.7880220\ttotal: 28s\tremaining: 3m 10s\n",
      "128:\tlearn: 1606.2167561\ttotal: 28.2s\tremaining: 3m 10s\n",
      "129:\tlearn: 1605.5915083\ttotal: 28.5s\tremaining: 3m 10s\n",
      "130:\tlearn: 1604.8585275\ttotal: 28.7s\tremaining: 3m 10s\n",
      "131:\tlearn: 1604.0139714\ttotal: 29s\tremaining: 3m 10s\n",
      "132:\tlearn: 1602.9904617\ttotal: 29.3s\tremaining: 3m 10s\n",
      "133:\tlearn: 1602.2517304\ttotal: 29.5s\tremaining: 3m 10s\n",
      "134:\tlearn: 1601.0546341\ttotal: 29.7s\tremaining: 3m 10s\n",
      "135:\tlearn: 1600.4002657\ttotal: 29.9s\tremaining: 3m 9s\n",
      "136:\tlearn: 1599.9485050\ttotal: 30.1s\tremaining: 3m 9s\n",
      "137:\tlearn: 1599.5745335\ttotal: 30.3s\tremaining: 3m 9s\n",
      "138:\tlearn: 1598.5290761\ttotal: 30.5s\tremaining: 3m 9s\n",
      "139:\tlearn: 1597.6170530\ttotal: 30.7s\tremaining: 3m 8s\n",
      "140:\tlearn: 1596.8560466\ttotal: 31s\tremaining: 3m 8s\n",
      "141:\tlearn: 1596.5109906\ttotal: 31.2s\tremaining: 3m 8s\n",
      "142:\tlearn: 1595.4230832\ttotal: 31.4s\tremaining: 3m 8s\n",
      "143:\tlearn: 1595.0112780\ttotal: 31.6s\tremaining: 3m 8s\n",
      "144:\tlearn: 1594.1221337\ttotal: 31.8s\tremaining: 3m 7s\n",
      "145:\tlearn: 1593.4647933\ttotal: 32s\tremaining: 3m 7s\n",
      "146:\tlearn: 1592.7808738\ttotal: 32.2s\tremaining: 3m 6s\n",
      "147:\tlearn: 1591.9527830\ttotal: 32.4s\tremaining: 3m 6s\n",
      "148:\tlearn: 1591.4020485\ttotal: 32.6s\tremaining: 3m 6s\n",
      "149:\tlearn: 1590.3517891\ttotal: 32.8s\tremaining: 3m 5s\n",
      "150:\tlearn: 1589.9243316\ttotal: 33.1s\tremaining: 3m 5s\n",
      "151:\tlearn: 1589.4455982\ttotal: 33.3s\tremaining: 3m 5s\n",
      "152:\tlearn: 1588.5987122\ttotal: 33.5s\tremaining: 3m 5s\n",
      "153:\tlearn: 1587.9094178\ttotal: 33.7s\tremaining: 3m 5s\n",
      "154:\tlearn: 1587.2537280\ttotal: 33.9s\tremaining: 3m 4s\n",
      "155:\tlearn: 1586.7329151\ttotal: 34.1s\tremaining: 3m 4s\n",
      "156:\tlearn: 1586.1062586\ttotal: 34.3s\tremaining: 3m 4s\n",
      "157:\tlearn: 1585.9090038\ttotal: 34.6s\tremaining: 3m 4s\n",
      "158:\tlearn: 1584.9155082\ttotal: 34.8s\tremaining: 3m 4s\n",
      "159:\tlearn: 1584.4741779\ttotal: 35s\tremaining: 3m 3s\n",
      "160:\tlearn: 1583.7065684\ttotal: 35.2s\tremaining: 3m 3s\n",
      "161:\tlearn: 1583.3314212\ttotal: 35.5s\tremaining: 3m 3s\n",
      "162:\tlearn: 1582.7383694\ttotal: 35.7s\tremaining: 3m 3s\n",
      "163:\tlearn: 1582.0407894\ttotal: 35.9s\tremaining: 3m 2s\n",
      "164:\tlearn: 1581.2894997\ttotal: 36.1s\tremaining: 3m 2s\n",
      "165:\tlearn: 1580.6527709\ttotal: 36.3s\tremaining: 3m 2s\n",
      "166:\tlearn: 1580.0239246\ttotal: 36.5s\tremaining: 3m 2s\n",
      "167:\tlearn: 1579.7535217\ttotal: 36.8s\tremaining: 3m 2s\n",
      "168:\tlearn: 1579.0214516\ttotal: 37s\tremaining: 3m 1s\n",
      "169:\tlearn: 1578.4677655\ttotal: 37.2s\tremaining: 3m 1s\n",
      "170:\tlearn: 1578.1479615\ttotal: 37.4s\tremaining: 3m 1s\n",
      "171:\tlearn: 1577.7762307\ttotal: 37.6s\tremaining: 3m 1s\n",
      "172:\tlearn: 1577.2713427\ttotal: 37.8s\tremaining: 3m\n",
      "173:\tlearn: 1576.9345290\ttotal: 38s\tremaining: 3m\n",
      "174:\tlearn: 1576.3986847\ttotal: 38.1s\tremaining: 2m 59s\n",
      "175:\tlearn: 1575.3988624\ttotal: 38.3s\tremaining: 2m 59s\n",
      "176:\tlearn: 1574.7066175\ttotal: 38.5s\tremaining: 2m 59s\n",
      "177:\tlearn: 1574.3120328\ttotal: 38.8s\tremaining: 2m 59s\n",
      "178:\tlearn: 1573.7985632\ttotal: 39s\tremaining: 2m 58s\n",
      "179:\tlearn: 1573.3315436\ttotal: 39.2s\tremaining: 2m 58s\n",
      "180:\tlearn: 1572.8579890\ttotal: 39.4s\tremaining: 2m 58s\n",
      "181:\tlearn: 1572.4125257\ttotal: 39.6s\tremaining: 2m 58s\n",
      "182:\tlearn: 1571.2734190\ttotal: 39.8s\tremaining: 2m 57s\n",
      "183:\tlearn: 1570.6515414\ttotal: 40s\tremaining: 2m 57s\n",
      "184:\tlearn: 1570.0312397\ttotal: 40.2s\tremaining: 2m 57s\n",
      "185:\tlearn: 1569.5603170\ttotal: 40.4s\tremaining: 2m 56s\n",
      "186:\tlearn: 1569.3617974\ttotal: 40.6s\tremaining: 2m 56s\n",
      "187:\tlearn: 1568.7912267\ttotal: 40.8s\tremaining: 2m 56s\n",
      "188:\tlearn: 1568.0009390\ttotal: 41s\tremaining: 2m 56s\n",
      "189:\tlearn: 1567.5959814\ttotal: 41.2s\tremaining: 2m 55s\n",
      "190:\tlearn: 1567.0402924\ttotal: 41.4s\tremaining: 2m 55s\n",
      "191:\tlearn: 1566.1207674\ttotal: 41.6s\tremaining: 2m 55s\n",
      "192:\tlearn: 1565.6785469\ttotal: 41.8s\tremaining: 2m 54s\n",
      "193:\tlearn: 1564.9048857\ttotal: 42s\tremaining: 2m 54s\n",
      "194:\tlearn: 1564.7388802\ttotal: 42.3s\tremaining: 2m 54s\n",
      "195:\tlearn: 1564.0711916\ttotal: 42.5s\tremaining: 2m 54s\n",
      "196:\tlearn: 1563.5049918\ttotal: 42.7s\tremaining: 2m 54s\n",
      "197:\tlearn: 1563.0298307\ttotal: 42.9s\tremaining: 2m 53s\n",
      "198:\tlearn: 1562.5346785\ttotal: 43.1s\tremaining: 2m 53s\n",
      "199:\tlearn: 1561.9295358\ttotal: 43.3s\tremaining: 2m 53s\n",
      "200:\tlearn: 1561.5162797\ttotal: 43.5s\tremaining: 2m 53s\n",
      "201:\tlearn: 1561.2684217\ttotal: 43.7s\tremaining: 2m 52s\n",
      "202:\tlearn: 1560.7817034\ttotal: 43.9s\tremaining: 2m 52s\n",
      "203:\tlearn: 1560.3042759\ttotal: 44.1s\tremaining: 2m 52s\n",
      "204:\tlearn: 1559.9234784\ttotal: 44.4s\tremaining: 2m 52s\n",
      "205:\tlearn: 1559.5630606\ttotal: 44.6s\tremaining: 2m 51s\n",
      "206:\tlearn: 1559.1475667\ttotal: 44.7s\tremaining: 2m 51s\n",
      "207:\tlearn: 1558.9755799\ttotal: 45s\tremaining: 2m 51s\n",
      "208:\tlearn: 1558.4208234\ttotal: 45.2s\tremaining: 2m 50s\n",
      "209:\tlearn: 1558.1020018\ttotal: 45.4s\tremaining: 2m 50s\n",
      "210:\tlearn: 1557.7684200\ttotal: 45.6s\tremaining: 2m 50s\n",
      "211:\tlearn: 1557.2866487\ttotal: 45.8s\tremaining: 2m 50s\n",
      "212:\tlearn: 1556.7828686\ttotal: 46s\tremaining: 2m 50s\n",
      "213:\tlearn: 1556.3770218\ttotal: 46.2s\tremaining: 2m 49s\n",
      "214:\tlearn: 1556.1236893\ttotal: 46.4s\tremaining: 2m 49s\n",
      "215:\tlearn: 1555.8348851\ttotal: 46.6s\tremaining: 2m 49s\n",
      "216:\tlearn: 1555.4609642\ttotal: 46.9s\tremaining: 2m 49s\n",
      "217:\tlearn: 1555.3693265\ttotal: 47.1s\tremaining: 2m 48s\n",
      "218:\tlearn: 1554.8521735\ttotal: 47.3s\tremaining: 2m 48s\n",
      "219:\tlearn: 1554.3900414\ttotal: 47.5s\tremaining: 2m 48s\n",
      "220:\tlearn: 1553.9089845\ttotal: 47.8s\tremaining: 2m 48s\n",
      "221:\tlearn: 1553.6718619\ttotal: 47.9s\tremaining: 2m 47s\n",
      "222:\tlearn: 1553.1477913\ttotal: 48.1s\tremaining: 2m 47s\n",
      "223:\tlearn: 1552.5459766\ttotal: 48.4s\tremaining: 2m 47s\n",
      "224:\tlearn: 1552.0429933\ttotal: 48.6s\tremaining: 2m 47s\n",
      "225:\tlearn: 1551.1586541\ttotal: 48.8s\tremaining: 2m 47s\n",
      "226:\tlearn: 1550.9316508\ttotal: 49.1s\tremaining: 2m 47s\n",
      "227:\tlearn: 1550.6203513\ttotal: 49.3s\tremaining: 2m 46s\n",
      "228:\tlearn: 1550.2606038\ttotal: 49.6s\tremaining: 2m 46s\n",
      "229:\tlearn: 1550.0836062\ttotal: 49.7s\tremaining: 2m 46s\n",
      "230:\tlearn: 1549.8727859\ttotal: 50s\tremaining: 2m 46s\n",
      "231:\tlearn: 1549.4499510\ttotal: 50.2s\tremaining: 2m 46s\n",
      "232:\tlearn: 1548.8484510\ttotal: 50.4s\tremaining: 2m 46s\n",
      "233:\tlearn: 1548.6431350\ttotal: 50.6s\tremaining: 2m 45s\n",
      "234:\tlearn: 1548.3715786\ttotal: 50.8s\tremaining: 2m 45s\n",
      "235:\tlearn: 1548.0465823\ttotal: 51s\tremaining: 2m 45s\n",
      "236:\tlearn: 1547.8662256\ttotal: 51.2s\tremaining: 2m 44s\n",
      "237:\tlearn: 1547.5372760\ttotal: 51.4s\tremaining: 2m 44s\n",
      "238:\tlearn: 1547.0297573\ttotal: 51.6s\tremaining: 2m 44s\n",
      "239:\tlearn: 1546.7289512\ttotal: 51.8s\tremaining: 2m 44s\n",
      "240:\tlearn: 1546.4106788\ttotal: 52s\tremaining: 2m 43s\n",
      "241:\tlearn: 1545.9487373\ttotal: 52.3s\tremaining: 2m 43s\n",
      "242:\tlearn: 1545.4461945\ttotal: 52.5s\tremaining: 2m 43s\n",
      "243:\tlearn: 1545.1298014\ttotal: 52.7s\tremaining: 2m 43s\n",
      "244:\tlearn: 1544.7791400\ttotal: 53s\tremaining: 2m 43s\n",
      "245:\tlearn: 1544.2342561\ttotal: 53.2s\tremaining: 2m 43s\n",
      "246:\tlearn: 1543.7262815\ttotal: 53.4s\tremaining: 2m 42s\n",
      "247:\tlearn: 1543.1241565\ttotal: 53.7s\tremaining: 2m 42s\n",
      "248:\tlearn: 1542.7036349\ttotal: 53.9s\tremaining: 2m 42s\n",
      "249:\tlearn: 1542.2834659\ttotal: 54.1s\tremaining: 2m 42s\n",
      "250:\tlearn: 1541.9253583\ttotal: 54.3s\tremaining: 2m 42s\n",
      "251:\tlearn: 1541.5858638\ttotal: 54.5s\tremaining: 2m 41s\n",
      "252:\tlearn: 1541.4622347\ttotal: 54.8s\tremaining: 2m 41s\n",
      "253:\tlearn: 1541.2438845\ttotal: 55s\tremaining: 2m 41s\n",
      "254:\tlearn: 1540.9577188\ttotal: 55.2s\tremaining: 2m 41s\n",
      "255:\tlearn: 1540.8352726\ttotal: 55.4s\tremaining: 2m 41s\n",
      "256:\tlearn: 1540.5263956\ttotal: 55.6s\tremaining: 2m 40s\n",
      "257:\tlearn: 1540.0336672\ttotal: 55.8s\tremaining: 2m 40s\n",
      "258:\tlearn: 1539.7557825\ttotal: 56.1s\tremaining: 2m 40s\n",
      "259:\tlearn: 1539.3502519\ttotal: 56.3s\tremaining: 2m 40s\n",
      "260:\tlearn: 1539.1794771\ttotal: 56.6s\tremaining: 2m 40s\n",
      "261:\tlearn: 1538.9602730\ttotal: 56.7s\tremaining: 2m 39s\n",
      "262:\tlearn: 1538.6980182\ttotal: 56.9s\tremaining: 2m 39s\n",
      "263:\tlearn: 1538.0666531\ttotal: 57.2s\tremaining: 2m 39s\n",
      "264:\tlearn: 1537.6695071\ttotal: 57.3s\tremaining: 2m 39s\n",
      "265:\tlearn: 1537.4028729\ttotal: 57.5s\tremaining: 2m 38s\n",
      "266:\tlearn: 1536.9352984\ttotal: 57.8s\tremaining: 2m 38s\n",
      "267:\tlearn: 1536.3917706\ttotal: 58s\tremaining: 2m 38s\n",
      "268:\tlearn: 1536.0764367\ttotal: 58.2s\tremaining: 2m 38s\n",
      "269:\tlearn: 1535.3133045\ttotal: 58.5s\tremaining: 2m 38s\n",
      "270:\tlearn: 1535.0969927\ttotal: 58.8s\tremaining: 2m 38s\n",
      "271:\tlearn: 1534.6329595\ttotal: 59s\tremaining: 2m 37s\n",
      "272:\tlearn: 1534.3686935\ttotal: 59.2s\tremaining: 2m 37s\n",
      "273:\tlearn: 1533.8854723\ttotal: 59.4s\tremaining: 2m 37s\n",
      "274:\tlearn: 1533.4075375\ttotal: 59.6s\tremaining: 2m 37s\n",
      "275:\tlearn: 1533.0740059\ttotal: 59.8s\tremaining: 2m 36s\n",
      "276:\tlearn: 1532.6103184\ttotal: 1m\tremaining: 2m 36s\n",
      "277:\tlearn: 1532.4830735\ttotal: 1m\tremaining: 2m 36s\n",
      "278:\tlearn: 1531.8947834\ttotal: 1m\tremaining: 2m 36s\n",
      "279:\tlearn: 1531.5714140\ttotal: 1m\tremaining: 2m 35s\n",
      "280:\tlearn: 1531.1676597\ttotal: 1m\tremaining: 2m 35s\n",
      "281:\tlearn: 1530.6684233\ttotal: 1m 1s\tremaining: 2m 35s\n",
      "282:\tlearn: 1530.3940894\ttotal: 1m 1s\tremaining: 2m 35s\n",
      "283:\tlearn: 1529.8967337\ttotal: 1m 1s\tremaining: 2m 35s\n",
      "284:\tlearn: 1529.5419033\ttotal: 1m 1s\tremaining: 2m 34s\n",
      "285:\tlearn: 1529.3025450\ttotal: 1m 1s\tremaining: 2m 34s\n",
      "286:\tlearn: 1528.9395470\ttotal: 1m 2s\tremaining: 2m 34s\n",
      "287:\tlearn: 1528.7846411\ttotal: 1m 2s\tremaining: 2m 34s\n",
      "288:\tlearn: 1528.5002997\ttotal: 1m 2s\tremaining: 2m 33s\n",
      "289:\tlearn: 1528.0746914\ttotal: 1m 2s\tremaining: 2m 33s\n",
      "290:\tlearn: 1527.7034899\ttotal: 1m 2s\tremaining: 2m 33s\n",
      "291:\tlearn: 1527.3305815\ttotal: 1m 3s\tremaining: 2m 33s\n",
      "292:\tlearn: 1526.8710853\ttotal: 1m 3s\tremaining: 2m 32s\n",
      "293:\tlearn: 1526.4893895\ttotal: 1m 3s\tremaining: 2m 32s\n",
      "294:\tlearn: 1526.3130617\ttotal: 1m 3s\tremaining: 2m 32s\n",
      "295:\tlearn: 1525.9035883\ttotal: 1m 4s\tremaining: 2m 32s\n",
      "296:\tlearn: 1525.5692392\ttotal: 1m 4s\tremaining: 2m 32s\n",
      "297:\tlearn: 1525.3516091\ttotal: 1m 4s\tremaining: 2m 32s\n",
      "298:\tlearn: 1525.1468688\ttotal: 1m 4s\tremaining: 2m 31s\n",
      "299:\tlearn: 1524.9880416\ttotal: 1m 5s\tremaining: 2m 31s\n",
      "300:\tlearn: 1524.8366667\ttotal: 1m 5s\tremaining: 2m 31s\n",
      "301:\tlearn: 1524.5413881\ttotal: 1m 5s\tremaining: 2m 31s\n",
      "302:\tlearn: 1524.3605592\ttotal: 1m 5s\tremaining: 2m 30s\n",
      "303:\tlearn: 1524.2269779\ttotal: 1m 5s\tremaining: 2m 30s\n",
      "304:\tlearn: 1523.8778562\ttotal: 1m 6s\tremaining: 2m 30s\n",
      "305:\tlearn: 1523.5223808\ttotal: 1m 6s\tremaining: 2m 30s\n",
      "306:\tlearn: 1523.1723206\ttotal: 1m 6s\tremaining: 2m 30s\n",
      "307:\tlearn: 1523.0440509\ttotal: 1m 6s\tremaining: 2m 30s\n",
      "308:\tlearn: 1522.7808783\ttotal: 1m 7s\tremaining: 2m 29s\n",
      "309:\tlearn: 1522.5668550\ttotal: 1m 7s\tremaining: 2m 29s\n",
      "310:\tlearn: 1522.1722986\ttotal: 1m 7s\tremaining: 2m 29s\n",
      "311:\tlearn: 1521.8331648\ttotal: 1m 7s\tremaining: 2m 29s\n",
      "312:\tlearn: 1521.5313686\ttotal: 1m 8s\tremaining: 2m 29s\n",
      "313:\tlearn: 1521.2685340\ttotal: 1m 8s\tremaining: 2m 29s\n",
      "314:\tlearn: 1520.9559192\ttotal: 1m 8s\tremaining: 2m 28s\n",
      "315:\tlearn: 1520.7635214\ttotal: 1m 8s\tremaining: 2m 28s\n",
      "316:\tlearn: 1520.4676895\ttotal: 1m 8s\tremaining: 2m 28s\n",
      "317:\tlearn: 1520.2474833\ttotal: 1m 9s\tremaining: 2m 28s\n",
      "318:\tlearn: 1520.0429098\ttotal: 1m 9s\tremaining: 2m 28s\n",
      "319:\tlearn: 1519.7924892\ttotal: 1m 9s\tremaining: 2m 27s\n",
      "320:\tlearn: 1519.5951974\ttotal: 1m 9s\tremaining: 2m 27s\n",
      "321:\tlearn: 1519.3584775\ttotal: 1m 10s\tremaining: 2m 27s\n",
      "322:\tlearn: 1518.9167922\ttotal: 1m 10s\tremaining: 2m 27s\n",
      "323:\tlearn: 1518.8481009\ttotal: 1m 10s\tremaining: 2m 27s\n",
      "324:\tlearn: 1518.3853075\ttotal: 1m 10s\tremaining: 2m 26s\n",
      "325:\tlearn: 1518.2496085\ttotal: 1m 10s\tremaining: 2m 26s\n",
      "326:\tlearn: 1518.0896242\ttotal: 1m 11s\tremaining: 2m 26s\n",
      "327:\tlearn: 1517.7217941\ttotal: 1m 11s\tremaining: 2m 26s\n",
      "328:\tlearn: 1517.4940214\ttotal: 1m 11s\tremaining: 2m 26s\n",
      "329:\tlearn: 1517.1432505\ttotal: 1m 11s\tremaining: 2m 25s\n",
      "330:\tlearn: 1516.8158511\ttotal: 1m 12s\tremaining: 2m 25s\n",
      "331:\tlearn: 1516.5132134\ttotal: 1m 12s\tremaining: 2m 25s\n",
      "332:\tlearn: 1516.3932207\ttotal: 1m 12s\tremaining: 2m 25s\n",
      "333:\tlearn: 1516.0806857\ttotal: 1m 12s\tremaining: 2m 25s\n",
      "334:\tlearn: 1515.7660870\ttotal: 1m 13s\tremaining: 2m 24s\n",
      "335:\tlearn: 1515.6144690\ttotal: 1m 13s\tremaining: 2m 24s\n",
      "336:\tlearn: 1515.4837296\ttotal: 1m 13s\tremaining: 2m 24s\n",
      "337:\tlearn: 1514.9644974\ttotal: 1m 13s\tremaining: 2m 24s\n",
      "338:\tlearn: 1514.8465797\ttotal: 1m 13s\tremaining: 2m 23s\n",
      "339:\tlearn: 1514.7610224\ttotal: 1m 14s\tremaining: 2m 23s\n",
      "340:\tlearn: 1514.3966488\ttotal: 1m 14s\tremaining: 2m 23s\n",
      "341:\tlearn: 1514.1206639\ttotal: 1m 14s\tremaining: 2m 23s\n",
      "342:\tlearn: 1513.5600041\ttotal: 1m 14s\tremaining: 2m 23s\n",
      "343:\tlearn: 1513.1649111\ttotal: 1m 15s\tremaining: 2m 23s\n",
      "344:\tlearn: 1512.8771398\ttotal: 1m 15s\tremaining: 2m 22s\n",
      "345:\tlearn: 1512.7854771\ttotal: 1m 15s\tremaining: 2m 22s\n",
      "346:\tlearn: 1512.1606546\ttotal: 1m 15s\tremaining: 2m 22s\n",
      "347:\tlearn: 1512.0687500\ttotal: 1m 15s\tremaining: 2m 22s\n",
      "348:\tlearn: 1511.6335477\ttotal: 1m 16s\tremaining: 2m 22s\n",
      "349:\tlearn: 1511.4864045\ttotal: 1m 16s\tremaining: 2m 21s\n",
      "350:\tlearn: 1511.0870220\ttotal: 1m 16s\tremaining: 2m 21s\n",
      "351:\tlearn: 1510.7376976\ttotal: 1m 16s\tremaining: 2m 21s\n",
      "352:\tlearn: 1510.4997031\ttotal: 1m 17s\tremaining: 2m 21s\n",
      "353:\tlearn: 1510.2367811\ttotal: 1m 17s\tremaining: 2m 21s\n",
      "354:\tlearn: 1509.9837956\ttotal: 1m 17s\tremaining: 2m 21s\n",
      "355:\tlearn: 1509.5005243\ttotal: 1m 17s\tremaining: 2m 20s\n",
      "356:\tlearn: 1508.9902116\ttotal: 1m 18s\tremaining: 2m 20s\n",
      "357:\tlearn: 1508.4647469\ttotal: 1m 18s\tremaining: 2m 20s\n",
      "358:\tlearn: 1508.2278843\ttotal: 1m 18s\tremaining: 2m 20s\n",
      "359:\tlearn: 1507.8929940\ttotal: 1m 18s\tremaining: 2m 20s\n",
      "360:\tlearn: 1507.6312533\ttotal: 1m 19s\tremaining: 2m 19s\n",
      "361:\tlearn: 1507.2973726\ttotal: 1m 19s\tremaining: 2m 19s\n",
      "362:\tlearn: 1507.1023154\ttotal: 1m 19s\tremaining: 2m 19s\n",
      "363:\tlearn: 1506.9245338\ttotal: 1m 19s\tremaining: 2m 19s\n",
      "364:\tlearn: 1506.8005588\ttotal: 1m 19s\tremaining: 2m 19s\n",
      "365:\tlearn: 1506.5820644\ttotal: 1m 20s\tremaining: 2m 18s\n",
      "366:\tlearn: 1506.4045619\ttotal: 1m 20s\tremaining: 2m 18s\n",
      "367:\tlearn: 1506.0811264\ttotal: 1m 20s\tremaining: 2m 18s\n",
      "368:\tlearn: 1505.9700690\ttotal: 1m 20s\tremaining: 2m 18s\n",
      "369:\tlearn: 1505.4968359\ttotal: 1m 20s\tremaining: 2m 17s\n",
      "370:\tlearn: 1505.2096736\ttotal: 1m 21s\tremaining: 2m 17s\n",
      "371:\tlearn: 1504.8550118\ttotal: 1m 21s\tremaining: 2m 17s\n",
      "372:\tlearn: 1504.7063632\ttotal: 1m 21s\tremaining: 2m 17s\n",
      "373:\tlearn: 1504.5041031\ttotal: 1m 22s\tremaining: 2m 17s\n",
      "374:\tlearn: 1504.1347744\ttotal: 1m 22s\tremaining: 2m 17s\n",
      "375:\tlearn: 1503.9887199\ttotal: 1m 22s\tremaining: 2m 16s\n",
      "376:\tlearn: 1503.7311703\ttotal: 1m 22s\tremaining: 2m 16s\n",
      "377:\tlearn: 1503.4598973\ttotal: 1m 22s\tremaining: 2m 16s\n",
      "378:\tlearn: 1503.2078414\ttotal: 1m 23s\tremaining: 2m 16s\n",
      "379:\tlearn: 1502.9390566\ttotal: 1m 23s\tremaining: 2m 16s\n",
      "380:\tlearn: 1502.7254270\ttotal: 1m 23s\tremaining: 2m 15s\n",
      "381:\tlearn: 1502.4921102\ttotal: 1m 23s\tremaining: 2m 15s\n",
      "382:\tlearn: 1502.0420414\ttotal: 1m 24s\tremaining: 2m 15s\n",
      "383:\tlearn: 1501.7357400\ttotal: 1m 24s\tremaining: 2m 15s\n",
      "384:\tlearn: 1501.4007538\ttotal: 1m 24s\tremaining: 2m 15s\n",
      "385:\tlearn: 1501.2585508\ttotal: 1m 24s\tremaining: 2m 14s\n",
      "386:\tlearn: 1501.0604544\ttotal: 1m 25s\tremaining: 2m 14s\n",
      "387:\tlearn: 1500.9281547\ttotal: 1m 25s\tremaining: 2m 14s\n",
      "388:\tlearn: 1500.7023022\ttotal: 1m 25s\tremaining: 2m 14s\n",
      "389:\tlearn: 1500.5403619\ttotal: 1m 25s\tremaining: 2m 13s\n",
      "390:\tlearn: 1500.3195298\ttotal: 1m 25s\tremaining: 2m 13s\n",
      "391:\tlearn: 1500.0487046\ttotal: 1m 25s\tremaining: 2m 13s\n",
      "392:\tlearn: 1499.9412316\ttotal: 1m 26s\tremaining: 2m 13s\n",
      "393:\tlearn: 1499.6917760\ttotal: 1m 26s\tremaining: 2m 12s\n",
      "394:\tlearn: 1499.5836313\ttotal: 1m 26s\tremaining: 2m 12s\n",
      "395:\tlearn: 1499.2571134\ttotal: 1m 26s\tremaining: 2m 12s\n",
      "396:\tlearn: 1498.7398695\ttotal: 1m 26s\tremaining: 2m 12s\n",
      "397:\tlearn: 1498.6205309\ttotal: 1m 27s\tremaining: 2m 11s\n",
      "398:\tlearn: 1498.5235251\ttotal: 1m 27s\tremaining: 2m 11s\n",
      "399:\tlearn: 1498.2889182\ttotal: 1m 27s\tremaining: 2m 11s\n",
      "400:\tlearn: 1497.8651268\ttotal: 1m 27s\tremaining: 2m 11s\n",
      "401:\tlearn: 1497.6064961\ttotal: 1m 28s\tremaining: 2m 11s\n",
      "402:\tlearn: 1497.4141210\ttotal: 1m 28s\tremaining: 2m 10s\n",
      "403:\tlearn: 1497.2519294\ttotal: 1m 28s\tremaining: 2m 10s\n",
      "404:\tlearn: 1497.0134221\ttotal: 1m 28s\tremaining: 2m 10s\n",
      "405:\tlearn: 1496.7698401\ttotal: 1m 28s\tremaining: 2m 10s\n",
      "406:\tlearn: 1496.6772839\ttotal: 1m 29s\tremaining: 2m 9s\n",
      "407:\tlearn: 1496.6581261\ttotal: 1m 29s\tremaining: 2m 9s\n",
      "408:\tlearn: 1496.5022492\ttotal: 1m 29s\tremaining: 2m 9s\n",
      "409:\tlearn: 1496.2704775\ttotal: 1m 29s\tremaining: 2m 9s\n",
      "410:\tlearn: 1496.1910692\ttotal: 1m 29s\tremaining: 2m 8s\n",
      "411:\tlearn: 1496.1636523\ttotal: 1m 30s\tremaining: 2m 8s\n",
      "412:\tlearn: 1496.0794441\ttotal: 1m 30s\tremaining: 2m 8s\n",
      "413:\tlearn: 1495.8597901\ttotal: 1m 30s\tremaining: 2m 8s\n",
      "414:\tlearn: 1495.5360230\ttotal: 1m 30s\tremaining: 2m 8s\n",
      "415:\tlearn: 1495.3578428\ttotal: 1m 31s\tremaining: 2m 7s\n",
      "416:\tlearn: 1494.9048086\ttotal: 1m 31s\tremaining: 2m 7s\n",
      "417:\tlearn: 1494.6488618\ttotal: 1m 31s\tremaining: 2m 7s\n",
      "418:\tlearn: 1494.4807583\ttotal: 1m 31s\tremaining: 2m 7s\n",
      "419:\tlearn: 1494.4775883\ttotal: 1m 31s\tremaining: 2m 7s\n",
      "420:\tlearn: 1494.3450349\ttotal: 1m 32s\tremaining: 2m 6s\n",
      "421:\tlearn: 1494.0630862\ttotal: 1m 32s\tremaining: 2m 6s\n",
      "422:\tlearn: 1493.7605513\ttotal: 1m 32s\tremaining: 2m 6s\n",
      "423:\tlearn: 1493.5608339\ttotal: 1m 32s\tremaining: 2m 6s\n",
      "424:\tlearn: 1493.3888278\ttotal: 1m 32s\tremaining: 2m 5s\n",
      "425:\tlearn: 1493.2055709\ttotal: 1m 33s\tremaining: 2m 5s\n",
      "426:\tlearn: 1493.0374232\ttotal: 1m 33s\tremaining: 2m 5s\n",
      "427:\tlearn: 1492.9887826\ttotal: 1m 33s\tremaining: 2m 5s\n",
      "428:\tlearn: 1492.8206751\ttotal: 1m 33s\tremaining: 2m 4s\n",
      "429:\tlearn: 1492.5219799\ttotal: 1m 34s\tremaining: 2m 4s\n",
      "430:\tlearn: 1492.1659565\ttotal: 1m 34s\tremaining: 2m 4s\n",
      "431:\tlearn: 1492.0194152\ttotal: 1m 34s\tremaining: 2m 4s\n",
      "432:\tlearn: 1491.7558306\ttotal: 1m 34s\tremaining: 2m 4s\n",
      "433:\tlearn: 1491.4813263\ttotal: 1m 34s\tremaining: 2m 3s\n",
      "434:\tlearn: 1491.4534631\ttotal: 1m 35s\tremaining: 2m 3s\n",
      "435:\tlearn: 1491.2775341\ttotal: 1m 35s\tremaining: 2m 3s\n",
      "436:\tlearn: 1491.2148074\ttotal: 1m 35s\tremaining: 2m 3s\n",
      "437:\tlearn: 1491.0565130\ttotal: 1m 35s\tremaining: 2m 2s\n",
      "438:\tlearn: 1491.0188800\ttotal: 1m 35s\tremaining: 2m 2s\n",
      "439:\tlearn: 1490.7946720\ttotal: 1m 36s\tremaining: 2m 2s\n",
      "440:\tlearn: 1490.5788678\ttotal: 1m 36s\tremaining: 2m 2s\n",
      "441:\tlearn: 1490.3902944\ttotal: 1m 36s\tremaining: 2m 1s\n",
      "442:\tlearn: 1490.0579454\ttotal: 1m 36s\tremaining: 2m 1s\n",
      "443:\tlearn: 1489.7979701\ttotal: 1m 37s\tremaining: 2m 1s\n",
      "444:\tlearn: 1489.6446371\ttotal: 1m 37s\tremaining: 2m 1s\n",
      "445:\tlearn: 1489.6413444\ttotal: 1m 37s\tremaining: 2m 1s\n",
      "446:\tlearn: 1489.2031933\ttotal: 1m 37s\tremaining: 2m\n",
      "447:\tlearn: 1489.1440820\ttotal: 1m 37s\tremaining: 2m\n",
      "448:\tlearn: 1488.9761069\ttotal: 1m 38s\tremaining: 2m\n",
      "449:\tlearn: 1488.8072381\ttotal: 1m 38s\tremaining: 2m\n",
      "450:\tlearn: 1488.4547826\ttotal: 1m 38s\tremaining: 2m\n",
      "451:\tlearn: 1488.1716897\ttotal: 1m 38s\tremaining: 1m 59s\n",
      "452:\tlearn: 1488.0685735\ttotal: 1m 39s\tremaining: 1m 59s\n",
      "453:\tlearn: 1487.9366725\ttotal: 1m 39s\tremaining: 1m 59s\n",
      "454:\tlearn: 1487.9268979\ttotal: 1m 39s\tremaining: 1m 59s\n",
      "455:\tlearn: 1487.7982899\ttotal: 1m 39s\tremaining: 1m 59s\n",
      "456:\tlearn: 1487.5670126\ttotal: 1m 39s\tremaining: 1m 58s\n",
      "457:\tlearn: 1487.5119421\ttotal: 1m 40s\tremaining: 1m 58s\n",
      "458:\tlearn: 1487.3214625\ttotal: 1m 40s\tremaining: 1m 58s\n",
      "459:\tlearn: 1487.2920716\ttotal: 1m 40s\tremaining: 1m 58s\n",
      "460:\tlearn: 1487.2859742\ttotal: 1m 40s\tremaining: 1m 57s\n",
      "461:\tlearn: 1487.0903756\ttotal: 1m 40s\tremaining: 1m 57s\n",
      "462:\tlearn: 1487.0395987\ttotal: 1m 41s\tremaining: 1m 57s\n",
      "463:\tlearn: 1486.9834054\ttotal: 1m 41s\tremaining: 1m 57s\n",
      "464:\tlearn: 1486.8084390\ttotal: 1m 41s\tremaining: 1m 56s\n",
      "465:\tlearn: 1486.4019725\ttotal: 1m 41s\tremaining: 1m 56s\n",
      "466:\tlearn: 1486.1226825\ttotal: 1m 42s\tremaining: 1m 56s\n",
      "467:\tlearn: 1485.9072185\ttotal: 1m 42s\tremaining: 1m 56s\n",
      "468:\tlearn: 1485.5820846\ttotal: 1m 42s\tremaining: 1m 55s\n",
      "469:\tlearn: 1485.4591178\ttotal: 1m 42s\tremaining: 1m 55s\n",
      "470:\tlearn: 1485.3947116\ttotal: 1m 42s\tremaining: 1m 55s\n",
      "471:\tlearn: 1485.3512479\ttotal: 1m 43s\tremaining: 1m 55s\n",
      "472:\tlearn: 1485.0891860\ttotal: 1m 43s\tremaining: 1m 55s\n",
      "473:\tlearn: 1484.9161128\ttotal: 1m 43s\tremaining: 1m 54s\n",
      "474:\tlearn: 1484.7669483\ttotal: 1m 43s\tremaining: 1m 54s\n",
      "475:\tlearn: 1484.3788052\ttotal: 1m 43s\tremaining: 1m 54s\n",
      "476:\tlearn: 1484.2588248\ttotal: 1m 44s\tremaining: 1m 54s\n",
      "477:\tlearn: 1484.0834024\ttotal: 1m 44s\tremaining: 1m 53s\n",
      "478:\tlearn: 1484.0441877\ttotal: 1m 44s\tremaining: 1m 53s\n",
      "479:\tlearn: 1483.7176565\ttotal: 1m 44s\tremaining: 1m 53s\n",
      "480:\tlearn: 1483.4999856\ttotal: 1m 44s\tremaining: 1m 53s\n",
      "481:\tlearn: 1483.3984445\ttotal: 1m 44s\tremaining: 1m 52s\n",
      "482:\tlearn: 1483.2326704\ttotal: 1m 45s\tremaining: 1m 52s\n",
      "483:\tlearn: 1483.1030373\ttotal: 1m 45s\tremaining: 1m 52s\n",
      "484:\tlearn: 1482.8959663\ttotal: 1m 45s\tremaining: 1m 52s\n",
      "485:\tlearn: 1482.6692760\ttotal: 1m 45s\tremaining: 1m 51s\n",
      "486:\tlearn: 1482.5182965\ttotal: 1m 45s\tremaining: 1m 51s\n",
      "487:\tlearn: 1482.4502862\ttotal: 1m 46s\tremaining: 1m 51s\n",
      "488:\tlearn: 1482.2916436\ttotal: 1m 46s\tremaining: 1m 51s\n",
      "489:\tlearn: 1482.1707459\ttotal: 1m 46s\tremaining: 1m 51s\n",
      "490:\tlearn: 1482.1144191\ttotal: 1m 46s\tremaining: 1m 50s\n",
      "491:\tlearn: 1482.0107689\ttotal: 1m 47s\tremaining: 1m 50s\n",
      "492:\tlearn: 1481.8572849\ttotal: 1m 47s\tremaining: 1m 50s\n",
      "493:\tlearn: 1481.5392937\ttotal: 1m 47s\tremaining: 1m 50s\n",
      "494:\tlearn: 1481.4271869\ttotal: 1m 47s\tremaining: 1m 50s\n",
      "495:\tlearn: 1481.2476603\ttotal: 1m 48s\tremaining: 1m 49s\n",
      "496:\tlearn: 1481.1068985\ttotal: 1m 48s\tremaining: 1m 49s\n",
      "497:\tlearn: 1481.0773874\ttotal: 1m 48s\tremaining: 1m 49s\n",
      "498:\tlearn: 1481.0225890\ttotal: 1m 48s\tremaining: 1m 49s\n",
      "499:\tlearn: 1480.6112930\ttotal: 1m 49s\tremaining: 1m 49s\n",
      "500:\tlearn: 1480.3095868\ttotal: 1m 49s\tremaining: 1m 48s\n",
      "501:\tlearn: 1479.9273204\ttotal: 1m 49s\tremaining: 1m 48s\n",
      "502:\tlearn: 1479.6097615\ttotal: 1m 49s\tremaining: 1m 48s\n",
      "503:\tlearn: 1479.4878537\ttotal: 1m 49s\tremaining: 1m 48s\n",
      "504:\tlearn: 1479.4108335\ttotal: 1m 50s\tremaining: 1m 48s\n",
      "505:\tlearn: 1479.3904879\ttotal: 1m 50s\tremaining: 1m 47s\n",
      "506:\tlearn: 1479.2483673\ttotal: 1m 50s\tremaining: 1m 47s\n",
      "507:\tlearn: 1479.1063027\ttotal: 1m 50s\tremaining: 1m 47s\n",
      "508:\tlearn: 1479.0091771\ttotal: 1m 51s\tremaining: 1m 47s\n",
      "509:\tlearn: 1478.8976667\ttotal: 1m 51s\tremaining: 1m 46s\n",
      "510:\tlearn: 1478.7284821\ttotal: 1m 51s\tremaining: 1m 46s\n",
      "511:\tlearn: 1478.6166310\ttotal: 1m 51s\tremaining: 1m 46s\n",
      "512:\tlearn: 1478.4837116\ttotal: 1m 51s\tremaining: 1m 46s\n",
      "513:\tlearn: 1478.2214986\ttotal: 1m 52s\tremaining: 1m 46s\n",
      "514:\tlearn: 1478.1053649\ttotal: 1m 52s\tremaining: 1m 45s\n",
      "515:\tlearn: 1477.9114979\ttotal: 1m 52s\tremaining: 1m 45s\n",
      "516:\tlearn: 1477.8778079\ttotal: 1m 52s\tremaining: 1m 45s\n",
      "517:\tlearn: 1477.6254312\ttotal: 1m 52s\tremaining: 1m 45s\n",
      "518:\tlearn: 1477.4615969\ttotal: 1m 53s\tremaining: 1m 44s\n",
      "519:\tlearn: 1477.1142270\ttotal: 1m 53s\tremaining: 1m 44s\n",
      "520:\tlearn: 1477.0146148\ttotal: 1m 53s\tremaining: 1m 44s\n",
      "521:\tlearn: 1476.9855978\ttotal: 1m 53s\tremaining: 1m 44s\n",
      "522:\tlearn: 1476.9694229\ttotal: 1m 54s\tremaining: 1m 44s\n",
      "523:\tlearn: 1476.7575969\ttotal: 1m 54s\tremaining: 1m 43s\n",
      "524:\tlearn: 1476.6691710\ttotal: 1m 54s\tremaining: 1m 43s\n",
      "525:\tlearn: 1476.5670562\ttotal: 1m 54s\tremaining: 1m 43s\n",
      "526:\tlearn: 1476.5288062\ttotal: 1m 54s\tremaining: 1m 43s\n",
      "527:\tlearn: 1476.4432357\ttotal: 1m 55s\tremaining: 1m 42s\n",
      "528:\tlearn: 1476.3645881\ttotal: 1m 55s\tremaining: 1m 42s\n",
      "529:\tlearn: 1476.2035039\ttotal: 1m 55s\tremaining: 1m 42s\n",
      "530:\tlearn: 1475.8790905\ttotal: 1m 55s\tremaining: 1m 42s\n",
      "531:\tlearn: 1475.6486180\ttotal: 1m 55s\tremaining: 1m 42s\n",
      "532:\tlearn: 1475.5903814\ttotal: 1m 56s\tremaining: 1m 41s\n",
      "533:\tlearn: 1475.5727436\ttotal: 1m 56s\tremaining: 1m 41s\n",
      "534:\tlearn: 1475.5033784\ttotal: 1m 56s\tremaining: 1m 41s\n",
      "535:\tlearn: 1475.3885392\ttotal: 1m 56s\tremaining: 1m 41s\n",
      "536:\tlearn: 1475.2390071\ttotal: 1m 56s\tremaining: 1m 40s\n",
      "537:\tlearn: 1475.0265957\ttotal: 1m 57s\tremaining: 1m 40s\n",
      "538:\tlearn: 1474.9665396\ttotal: 1m 57s\tremaining: 1m 40s\n",
      "539:\tlearn: 1474.8093986\ttotal: 1m 57s\tremaining: 1m 40s\n",
      "540:\tlearn: 1474.6156136\ttotal: 1m 57s\tremaining: 1m 39s\n",
      "541:\tlearn: 1474.3905004\ttotal: 1m 57s\tremaining: 1m 39s\n",
      "542:\tlearn: 1474.1044798\ttotal: 1m 58s\tremaining: 1m 39s\n",
      "543:\tlearn: 1473.9958560\ttotal: 1m 58s\tremaining: 1m 39s\n",
      "544:\tlearn: 1473.8872501\ttotal: 1m 58s\tremaining: 1m 38s\n",
      "545:\tlearn: 1473.6255028\ttotal: 1m 58s\tremaining: 1m 38s\n",
      "546:\tlearn: 1473.5050112\ttotal: 1m 58s\tremaining: 1m 38s\n",
      "547:\tlearn: 1473.3325112\ttotal: 1m 59s\tremaining: 1m 38s\n",
      "548:\tlearn: 1473.3291021\ttotal: 1m 59s\tremaining: 1m 37s\n",
      "549:\tlearn: 1473.1861964\ttotal: 1m 59s\tremaining: 1m 37s\n",
      "550:\tlearn: 1473.0588264\ttotal: 1m 59s\tremaining: 1m 37s\n",
      "551:\tlearn: 1472.8793706\ttotal: 2m\tremaining: 1m 37s\n",
      "552:\tlearn: 1472.6954260\ttotal: 2m\tremaining: 1m 37s\n",
      "553:\tlearn: 1472.3120832\ttotal: 2m\tremaining: 1m 36s\n",
      "554:\tlearn: 1472.1627252\ttotal: 2m\tremaining: 1m 36s\n",
      "555:\tlearn: 1471.9399704\ttotal: 2m\tremaining: 1m 36s\n",
      "556:\tlearn: 1471.8434207\ttotal: 2m 1s\tremaining: 1m 36s\n",
      "557:\tlearn: 1471.7456487\ttotal: 2m 1s\tremaining: 1m 36s\n",
      "558:\tlearn: 1471.6579225\ttotal: 2m 1s\tremaining: 1m 35s\n",
      "559:\tlearn: 1471.3906719\ttotal: 2m 1s\tremaining: 1m 35s\n",
      "560:\tlearn: 1471.2039530\ttotal: 2m 2s\tremaining: 1m 35s\n",
      "561:\tlearn: 1470.9449534\ttotal: 2m 2s\tremaining: 1m 35s\n",
      "562:\tlearn: 1470.7852246\ttotal: 2m 2s\tremaining: 1m 35s\n",
      "563:\tlearn: 1470.7579720\ttotal: 2m 2s\tremaining: 1m 34s\n",
      "564:\tlearn: 1470.6155608\ttotal: 2m 3s\tremaining: 1m 34s\n",
      "565:\tlearn: 1470.4971593\ttotal: 2m 3s\tremaining: 1m 34s\n",
      "566:\tlearn: 1470.3224733\ttotal: 2m 3s\tremaining: 1m 34s\n",
      "567:\tlearn: 1470.1069659\ttotal: 2m 3s\tremaining: 1m 34s\n",
      "568:\tlearn: 1470.0241950\ttotal: 2m 4s\tremaining: 1m 33s\n",
      "569:\tlearn: 1469.9214245\ttotal: 2m 4s\tremaining: 1m 33s\n",
      "570:\tlearn: 1469.8013556\ttotal: 2m 4s\tremaining: 1m 33s\n",
      "571:\tlearn: 1469.7489928\ttotal: 2m 4s\tremaining: 1m 33s\n",
      "572:\tlearn: 1469.6827458\ttotal: 2m 4s\tremaining: 1m 33s\n",
      "573:\tlearn: 1469.6430889\ttotal: 2m 5s\tremaining: 1m 32s\n",
      "574:\tlearn: 1469.4117595\ttotal: 2m 5s\tremaining: 1m 32s\n",
      "575:\tlearn: 1469.3316589\ttotal: 2m 5s\tremaining: 1m 32s\n",
      "576:\tlearn: 1469.0831921\ttotal: 2m 5s\tremaining: 1m 32s\n",
      "577:\tlearn: 1469.0743190\ttotal: 2m 6s\tremaining: 1m 32s\n",
      "578:\tlearn: 1468.9150739\ttotal: 2m 6s\tremaining: 1m 31s\n",
      "579:\tlearn: 1468.7512668\ttotal: 2m 6s\tremaining: 1m 31s\n",
      "580:\tlearn: 1468.3256694\ttotal: 2m 6s\tremaining: 1m 31s\n",
      "581:\tlearn: 1468.2786352\ttotal: 2m 6s\tremaining: 1m 31s\n",
      "582:\tlearn: 1468.1609303\ttotal: 2m 7s\tremaining: 1m 30s\n",
      "583:\tlearn: 1467.9323335\ttotal: 2m 7s\tremaining: 1m 30s\n",
      "584:\tlearn: 1467.8325181\ttotal: 2m 7s\tremaining: 1m 30s\n",
      "585:\tlearn: 1467.8141613\ttotal: 2m 7s\tremaining: 1m 30s\n",
      "586:\tlearn: 1467.5921217\ttotal: 2m 8s\tremaining: 1m 30s\n",
      "587:\tlearn: 1467.4117888\ttotal: 2m 8s\tremaining: 1m 29s\n",
      "588:\tlearn: 1467.3985315\ttotal: 2m 8s\tremaining: 1m 29s\n",
      "589:\tlearn: 1467.3410036\ttotal: 2m 8s\tremaining: 1m 29s\n",
      "590:\tlearn: 1467.2218188\ttotal: 2m 9s\tremaining: 1m 29s\n",
      "591:\tlearn: 1467.1741157\ttotal: 2m 9s\tremaining: 1m 29s\n",
      "592:\tlearn: 1467.0747902\ttotal: 2m 9s\tremaining: 1m 28s\n",
      "593:\tlearn: 1467.0423565\ttotal: 2m 9s\tremaining: 1m 28s\n",
      "594:\tlearn: 1466.8253047\ttotal: 2m 9s\tremaining: 1m 28s\n",
      "595:\tlearn: 1466.7512015\ttotal: 2m 10s\tremaining: 1m 28s\n",
      "596:\tlearn: 1466.7448305\ttotal: 2m 10s\tremaining: 1m 28s\n",
      "597:\tlearn: 1466.6743244\ttotal: 2m 10s\tremaining: 1m 27s\n",
      "598:\tlearn: 1466.5007220\ttotal: 2m 10s\tremaining: 1m 27s\n",
      "599:\tlearn: 1466.3098237\ttotal: 2m 11s\tremaining: 1m 27s\n",
      "600:\tlearn: 1466.1809678\ttotal: 2m 11s\tremaining: 1m 27s\n",
      "601:\tlearn: 1465.9913027\ttotal: 2m 11s\tremaining: 1m 26s\n",
      "602:\tlearn: 1465.7389221\ttotal: 2m 11s\tremaining: 1m 26s\n",
      "603:\tlearn: 1465.7029088\ttotal: 2m 11s\tremaining: 1m 26s\n",
      "604:\tlearn: 1465.3018420\ttotal: 2m 12s\tremaining: 1m 26s\n",
      "605:\tlearn: 1465.1886238\ttotal: 2m 12s\tremaining: 1m 26s\n",
      "606:\tlearn: 1465.1602499\ttotal: 2m 12s\tremaining: 1m 25s\n",
      "607:\tlearn: 1464.8344596\ttotal: 2m 12s\tremaining: 1m 25s\n",
      "608:\tlearn: 1464.7210329\ttotal: 2m 12s\tremaining: 1m 25s\n",
      "609:\tlearn: 1464.4102754\ttotal: 2m 13s\tremaining: 1m 25s\n",
      "610:\tlearn: 1464.3632611\ttotal: 2m 13s\tremaining: 1m 24s\n",
      "611:\tlearn: 1464.2032196\ttotal: 2m 13s\tremaining: 1m 24s\n",
      "612:\tlearn: 1464.0112908\ttotal: 2m 13s\tremaining: 1m 24s\n",
      "613:\tlearn: 1463.8933086\ttotal: 2m 14s\tremaining: 1m 24s\n",
      "614:\tlearn: 1463.5781837\ttotal: 2m 14s\tremaining: 1m 24s\n",
      "615:\tlearn: 1463.4648156\ttotal: 2m 14s\tremaining: 1m 23s\n",
      "616:\tlearn: 1463.4491822\ttotal: 2m 14s\tremaining: 1m 23s\n",
      "617:\tlearn: 1463.3830174\ttotal: 2m 14s\tremaining: 1m 23s\n",
      "618:\tlearn: 1463.1146528\ttotal: 2m 15s\tremaining: 1m 23s\n",
      "619:\tlearn: 1463.0442902\ttotal: 2m 15s\tremaining: 1m 23s\n",
      "620:\tlearn: 1462.9500798\ttotal: 2m 15s\tremaining: 1m 22s\n",
      "621:\tlearn: 1462.8079419\ttotal: 2m 15s\tremaining: 1m 22s\n",
      "622:\tlearn: 1462.7059190\ttotal: 2m 16s\tremaining: 1m 22s\n",
      "623:\tlearn: 1462.5653220\ttotal: 2m 16s\tremaining: 1m 22s\n",
      "624:\tlearn: 1462.3497183\ttotal: 2m 16s\tremaining: 1m 22s\n",
      "625:\tlearn: 1462.2683781\ttotal: 2m 16s\tremaining: 1m 21s\n",
      "626:\tlearn: 1462.1838532\ttotal: 2m 17s\tremaining: 1m 21s\n",
      "627:\tlearn: 1462.0215559\ttotal: 2m 17s\tremaining: 1m 21s\n",
      "628:\tlearn: 1461.8731705\ttotal: 2m 17s\tremaining: 1m 21s\n",
      "629:\tlearn: 1461.7829829\ttotal: 2m 17s\tremaining: 1m 21s\n",
      "630:\tlearn: 1461.6557185\ttotal: 2m 18s\tremaining: 1m 20s\n",
      "631:\tlearn: 1461.6234625\ttotal: 2m 18s\tremaining: 1m 20s\n",
      "632:\tlearn: 1461.5293364\ttotal: 2m 18s\tremaining: 1m 20s\n",
      "633:\tlearn: 1461.4130290\ttotal: 2m 18s\tremaining: 1m 20s\n",
      "634:\tlearn: 1461.1565139\ttotal: 2m 19s\tremaining: 1m 19s\n",
      "635:\tlearn: 1460.9320710\ttotal: 2m 19s\tremaining: 1m 19s\n",
      "636:\tlearn: 1460.7464949\ttotal: 2m 19s\tremaining: 1m 19s\n",
      "637:\tlearn: 1460.5439735\ttotal: 2m 19s\tremaining: 1m 19s\n",
      "638:\tlearn: 1460.5063973\ttotal: 2m 20s\tremaining: 1m 19s\n",
      "639:\tlearn: 1460.4066697\ttotal: 2m 20s\tremaining: 1m 18s\n",
      "640:\tlearn: 1460.1864239\ttotal: 2m 20s\tremaining: 1m 18s\n",
      "641:\tlearn: 1460.0397555\ttotal: 2m 20s\tremaining: 1m 18s\n",
      "642:\tlearn: 1459.7451714\ttotal: 2m 20s\tremaining: 1m 18s\n",
      "643:\tlearn: 1459.5334222\ttotal: 2m 21s\tremaining: 1m 18s\n",
      "644:\tlearn: 1459.4841628\ttotal: 2m 21s\tremaining: 1m 17s\n",
      "645:\tlearn: 1459.4027684\ttotal: 2m 21s\tremaining: 1m 17s\n",
      "646:\tlearn: 1459.3434141\ttotal: 2m 21s\tremaining: 1m 17s\n",
      "647:\tlearn: 1459.2637170\ttotal: 2m 22s\tremaining: 1m 17s\n",
      "648:\tlearn: 1459.2159675\ttotal: 2m 22s\tremaining: 1m 16s\n",
      "649:\tlearn: 1459.1335167\ttotal: 2m 22s\tremaining: 1m 16s\n",
      "650:\tlearn: 1459.0003534\ttotal: 2m 22s\tremaining: 1m 16s\n",
      "651:\tlearn: 1458.8557553\ttotal: 2m 22s\tremaining: 1m 16s\n",
      "652:\tlearn: 1458.7788256\ttotal: 2m 23s\tremaining: 1m 16s\n",
      "653:\tlearn: 1458.7018399\ttotal: 2m 23s\tremaining: 1m 15s\n",
      "654:\tlearn: 1458.6910898\ttotal: 2m 23s\tremaining: 1m 15s\n",
      "655:\tlearn: 1458.6071614\ttotal: 2m 23s\tremaining: 1m 15s\n",
      "656:\tlearn: 1458.3975453\ttotal: 2m 23s\tremaining: 1m 15s\n",
      "657:\tlearn: 1458.1451074\ttotal: 2m 24s\tremaining: 1m 14s\n",
      "658:\tlearn: 1457.9212786\ttotal: 2m 24s\tremaining: 1m 14s\n",
      "659:\tlearn: 1457.6709276\ttotal: 2m 24s\tremaining: 1m 14s\n",
      "660:\tlearn: 1457.6365608\ttotal: 2m 24s\tremaining: 1m 14s\n",
      "661:\tlearn: 1457.5129086\ttotal: 2m 25s\tremaining: 1m 14s\n",
      "662:\tlearn: 1457.3681321\ttotal: 2m 25s\tremaining: 1m 13s\n",
      "663:\tlearn: 1457.1933720\ttotal: 2m 25s\tremaining: 1m 13s\n",
      "664:\tlearn: 1456.9867422\ttotal: 2m 25s\tremaining: 1m 13s\n",
      "665:\tlearn: 1456.9641808\ttotal: 2m 25s\tremaining: 1m 13s\n",
      "666:\tlearn: 1456.9363396\ttotal: 2m 26s\tremaining: 1m 12s\n",
      "667:\tlearn: 1456.8906371\ttotal: 2m 26s\tremaining: 1m 12s\n",
      "668:\tlearn: 1456.7257206\ttotal: 2m 26s\tremaining: 1m 12s\n",
      "669:\tlearn: 1456.5984747\ttotal: 2m 26s\tremaining: 1m 12s\n",
      "670:\tlearn: 1456.5098760\ttotal: 2m 27s\tremaining: 1m 12s\n",
      "671:\tlearn: 1456.3039180\ttotal: 2m 27s\tremaining: 1m 11s\n",
      "672:\tlearn: 1456.1847639\ttotal: 2m 27s\tremaining: 1m 11s\n",
      "673:\tlearn: 1456.0842574\ttotal: 2m 27s\tremaining: 1m 11s\n",
      "674:\tlearn: 1455.9690196\ttotal: 2m 27s\tremaining: 1m 11s\n",
      "675:\tlearn: 1455.9168844\ttotal: 2m 28s\tremaining: 1m 11s\n",
      "676:\tlearn: 1455.8721310\ttotal: 2m 28s\tremaining: 1m 10s\n",
      "677:\tlearn: 1455.7412717\ttotal: 2m 28s\tremaining: 1m 10s\n",
      "678:\tlearn: 1455.6527305\ttotal: 2m 28s\tremaining: 1m 10s\n",
      "679:\tlearn: 1455.5164679\ttotal: 2m 29s\tremaining: 1m 10s\n",
      "680:\tlearn: 1455.4145689\ttotal: 2m 29s\tremaining: 1m 9s\n",
      "681:\tlearn: 1455.3209022\ttotal: 2m 29s\tremaining: 1m 9s\n",
      "682:\tlearn: 1455.1448470\ttotal: 2m 29s\tremaining: 1m 9s\n",
      "683:\tlearn: 1454.9932247\ttotal: 2m 29s\tremaining: 1m 9s\n",
      "684:\tlearn: 1454.9058747\ttotal: 2m 30s\tremaining: 1m 9s\n",
      "685:\tlearn: 1454.7502667\ttotal: 2m 30s\tremaining: 1m 8s\n",
      "686:\tlearn: 1454.6563369\ttotal: 2m 30s\tremaining: 1m 8s\n",
      "687:\tlearn: 1454.4792181\ttotal: 2m 30s\tremaining: 1m 8s\n",
      "688:\tlearn: 1454.2586376\ttotal: 2m 31s\tremaining: 1m 8s\n",
      "689:\tlearn: 1454.1568578\ttotal: 2m 31s\tremaining: 1m 7s\n",
      "690:\tlearn: 1454.1428954\ttotal: 2m 31s\tremaining: 1m 7s\n",
      "691:\tlearn: 1453.9665904\ttotal: 2m 31s\tremaining: 1m 7s\n",
      "692:\tlearn: 1453.6984266\ttotal: 2m 31s\tremaining: 1m 7s\n",
      "693:\tlearn: 1453.6601417\ttotal: 2m 32s\tremaining: 1m 7s\n",
      "694:\tlearn: 1453.5574020\ttotal: 2m 32s\tremaining: 1m 6s\n",
      "695:\tlearn: 1453.5003558\ttotal: 2m 32s\tremaining: 1m 6s\n",
      "696:\tlearn: 1453.2984159\ttotal: 2m 32s\tremaining: 1m 6s\n",
      "697:\tlearn: 1453.2800090\ttotal: 2m 33s\tremaining: 1m 6s\n",
      "698:\tlearn: 1453.1911157\ttotal: 2m 33s\tremaining: 1m 5s\n",
      "699:\tlearn: 1453.0740506\ttotal: 2m 33s\tremaining: 1m 5s\n",
      "700:\tlearn: 1452.8771641\ttotal: 2m 33s\tremaining: 1m 5s\n",
      "701:\tlearn: 1452.7779317\ttotal: 2m 33s\tremaining: 1m 5s\n",
      "702:\tlearn: 1452.6506011\ttotal: 2m 34s\tremaining: 1m 5s\n",
      "703:\tlearn: 1452.6042087\ttotal: 2m 34s\tremaining: 1m 4s\n",
      "704:\tlearn: 1452.4785196\ttotal: 2m 34s\tremaining: 1m 4s\n",
      "705:\tlearn: 1452.4653799\ttotal: 2m 34s\tremaining: 1m 4s\n",
      "706:\tlearn: 1452.4065129\ttotal: 2m 35s\tremaining: 1m 4s\n",
      "707:\tlearn: 1452.2870950\ttotal: 2m 35s\tremaining: 1m 4s\n",
      "708:\tlearn: 1452.1295514\ttotal: 2m 35s\tremaining: 1m 3s\n",
      "709:\tlearn: 1452.0919634\ttotal: 2m 35s\tremaining: 1m 3s\n",
      "710:\tlearn: 1452.0008667\ttotal: 2m 35s\tremaining: 1m 3s\n",
      "711:\tlearn: 1451.8365119\ttotal: 2m 36s\tremaining: 1m 3s\n",
      "712:\tlearn: 1451.7436621\ttotal: 2m 36s\tremaining: 1m 2s\n",
      "713:\tlearn: 1451.5902488\ttotal: 2m 36s\tremaining: 1m 2s\n",
      "714:\tlearn: 1451.4596480\ttotal: 2m 36s\tremaining: 1m 2s\n",
      "715:\tlearn: 1451.3576104\ttotal: 2m 36s\tremaining: 1m 2s\n",
      "716:\tlearn: 1451.2733776\ttotal: 2m 37s\tremaining: 1m 2s\n",
      "717:\tlearn: 1451.2144354\ttotal: 2m 37s\tremaining: 1m 1s\n",
      "718:\tlearn: 1451.0700769\ttotal: 2m 37s\tremaining: 1m 1s\n",
      "719:\tlearn: 1450.9875397\ttotal: 2m 37s\tremaining: 1m 1s\n",
      "720:\tlearn: 1450.9061776\ttotal: 2m 38s\tremaining: 1m 1s\n",
      "721:\tlearn: 1450.4833979\ttotal: 2m 38s\tremaining: 1m\n",
      "722:\tlearn: 1450.4669124\ttotal: 2m 38s\tremaining: 1m\n",
      "723:\tlearn: 1450.3763244\ttotal: 2m 38s\tremaining: 1m\n",
      "724:\tlearn: 1450.3554381\ttotal: 2m 39s\tremaining: 1m\n",
      "725:\tlearn: 1450.3115246\ttotal: 2m 39s\tremaining: 1m\n",
      "726:\tlearn: 1450.1575568\ttotal: 2m 39s\tremaining: 59.9s\n",
      "727:\tlearn: 1450.0472789\ttotal: 2m 39s\tremaining: 59.7s\n",
      "728:\tlearn: 1449.9550240\ttotal: 2m 39s\tremaining: 59.4s\n",
      "729:\tlearn: 1449.7600531\ttotal: 2m 40s\tremaining: 59.2s\n",
      "730:\tlearn: 1449.6428645\ttotal: 2m 40s\tremaining: 59.1s\n",
      "731:\tlearn: 1449.5315042\ttotal: 2m 40s\tremaining: 58.8s\n",
      "732:\tlearn: 1449.3680156\ttotal: 2m 40s\tremaining: 58.6s\n",
      "733:\tlearn: 1449.2693895\ttotal: 2m 41s\tremaining: 58.4s\n",
      "734:\tlearn: 1449.2010384\ttotal: 2m 41s\tremaining: 58.2s\n",
      "735:\tlearn: 1449.0360261\ttotal: 2m 41s\tremaining: 58s\n",
      "736:\tlearn: 1449.0074165\ttotal: 2m 41s\tremaining: 57.8s\n",
      "737:\tlearn: 1448.7544680\ttotal: 2m 42s\tremaining: 57.6s\n",
      "738:\tlearn: 1448.7474094\ttotal: 2m 42s\tremaining: 57.3s\n",
      "739:\tlearn: 1448.5355929\ttotal: 2m 42s\tremaining: 57.1s\n",
      "740:\tlearn: 1448.4264966\ttotal: 2m 42s\tremaining: 56.9s\n",
      "741:\tlearn: 1448.3289863\ttotal: 2m 42s\tremaining: 56.7s\n",
      "742:\tlearn: 1448.2280123\ttotal: 2m 43s\tremaining: 56.5s\n",
      "743:\tlearn: 1448.1292715\ttotal: 2m 43s\tremaining: 56.2s\n",
      "744:\tlearn: 1447.8054446\ttotal: 2m 43s\tremaining: 56s\n",
      "745:\tlearn: 1447.6561843\ttotal: 2m 43s\tremaining: 55.8s\n",
      "746:\tlearn: 1447.6020107\ttotal: 2m 43s\tremaining: 55.5s\n",
      "747:\tlearn: 1447.3412825\ttotal: 2m 44s\tremaining: 55.3s\n",
      "748:\tlearn: 1447.1785764\ttotal: 2m 44s\tremaining: 55.1s\n",
      "749:\tlearn: 1446.9789377\ttotal: 2m 44s\tremaining: 54.9s\n",
      "750:\tlearn: 1446.8550628\ttotal: 2m 44s\tremaining: 54.6s\n",
      "751:\tlearn: 1446.8135017\ttotal: 2m 45s\tremaining: 54.4s\n",
      "752:\tlearn: 1446.7394576\ttotal: 2m 45s\tremaining: 54.2s\n",
      "753:\tlearn: 1446.5911927\ttotal: 2m 45s\tremaining: 54s\n",
      "754:\tlearn: 1446.3346828\ttotal: 2m 45s\tremaining: 53.8s\n",
      "755:\tlearn: 1446.3154233\ttotal: 2m 46s\tremaining: 53.6s\n",
      "756:\tlearn: 1446.0757038\ttotal: 2m 46s\tremaining: 53.4s\n",
      "757:\tlearn: 1445.9895399\ttotal: 2m 46s\tremaining: 53.2s\n",
      "758:\tlearn: 1445.7752566\ttotal: 2m 46s\tremaining: 52.9s\n",
      "759:\tlearn: 1445.6775481\ttotal: 2m 46s\tremaining: 52.7s\n",
      "760:\tlearn: 1445.5430829\ttotal: 2m 47s\tremaining: 52.5s\n",
      "761:\tlearn: 1445.4122192\ttotal: 2m 47s\tremaining: 52.3s\n",
      "762:\tlearn: 1445.1959884\ttotal: 2m 47s\tremaining: 52.1s\n",
      "763:\tlearn: 1445.1140824\ttotal: 2m 47s\tremaining: 51.8s\n",
      "764:\tlearn: 1445.0853781\ttotal: 2m 48s\tremaining: 51.6s\n",
      "765:\tlearn: 1445.0293920\ttotal: 2m 48s\tremaining: 51.4s\n",
      "766:\tlearn: 1444.6801539\ttotal: 2m 48s\tremaining: 51.2s\n",
      "767:\tlearn: 1444.5590438\ttotal: 2m 48s\tremaining: 51s\n",
      "768:\tlearn: 1444.4415125\ttotal: 2m 48s\tremaining: 50.7s\n",
      "769:\tlearn: 1444.3571486\ttotal: 2m 49s\tremaining: 50.5s\n",
      "770:\tlearn: 1444.2679386\ttotal: 2m 49s\tremaining: 50.3s\n",
      "771:\tlearn: 1444.1199509\ttotal: 2m 49s\tremaining: 50.1s\n",
      "772:\tlearn: 1444.0791376\ttotal: 2m 49s\tremaining: 49.9s\n",
      "773:\tlearn: 1443.9440109\ttotal: 2m 50s\tremaining: 49.7s\n",
      "774:\tlearn: 1443.8052551\ttotal: 2m 50s\tremaining: 49.4s\n",
      "775:\tlearn: 1443.7380166\ttotal: 2m 50s\tremaining: 49.2s\n",
      "776:\tlearn: 1443.6219029\ttotal: 2m 50s\tremaining: 49s\n",
      "777:\tlearn: 1443.5837749\ttotal: 2m 50s\tremaining: 48.8s\n",
      "778:\tlearn: 1443.3207038\ttotal: 2m 51s\tremaining: 48.6s\n",
      "779:\tlearn: 1443.2290327\ttotal: 2m 51s\tremaining: 48.3s\n",
      "780:\tlearn: 1443.0627986\ttotal: 2m 51s\tremaining: 48.1s\n",
      "781:\tlearn: 1442.8613101\ttotal: 2m 51s\tremaining: 47.9s\n",
      "782:\tlearn: 1442.7218072\ttotal: 2m 52s\tremaining: 47.7s\n",
      "783:\tlearn: 1442.6996295\ttotal: 2m 52s\tremaining: 47.5s\n",
      "784:\tlearn: 1442.5556486\ttotal: 2m 52s\tremaining: 47.3s\n",
      "785:\tlearn: 1442.4350959\ttotal: 2m 52s\tremaining: 47s\n",
      "786:\tlearn: 1442.3984046\ttotal: 2m 52s\tremaining: 46.8s\n",
      "787:\tlearn: 1442.2126930\ttotal: 2m 53s\tremaining: 46.6s\n",
      "788:\tlearn: 1442.1703118\ttotal: 2m 53s\tremaining: 46.4s\n",
      "789:\tlearn: 1442.0117446\ttotal: 2m 53s\tremaining: 46.2s\n",
      "790:\tlearn: 1441.9251151\ttotal: 2m 53s\tremaining: 46s\n",
      "791:\tlearn: 1441.8712576\ttotal: 2m 54s\tremaining: 45.8s\n",
      "792:\tlearn: 1441.7718007\ttotal: 2m 54s\tremaining: 45.5s\n",
      "793:\tlearn: 1441.7321537\ttotal: 2m 54s\tremaining: 45.3s\n",
      "794:\tlearn: 1441.6244168\ttotal: 2m 54s\tremaining: 45.1s\n",
      "795:\tlearn: 1441.5638280\ttotal: 2m 55s\tremaining: 44.9s\n",
      "796:\tlearn: 1441.4539101\ttotal: 2m 55s\tremaining: 44.7s\n",
      "797:\tlearn: 1441.2051938\ttotal: 2m 55s\tremaining: 44.4s\n",
      "798:\tlearn: 1441.1864900\ttotal: 2m 55s\tremaining: 44.2s\n",
      "799:\tlearn: 1440.9665934\ttotal: 2m 56s\tremaining: 44s\n",
      "800:\tlearn: 1440.8749229\ttotal: 2m 56s\tremaining: 43.8s\n",
      "801:\tlearn: 1440.6866264\ttotal: 2m 56s\tremaining: 43.6s\n",
      "802:\tlearn: 1440.6491324\ttotal: 2m 56s\tremaining: 43.3s\n",
      "803:\tlearn: 1440.5024513\ttotal: 2m 56s\tremaining: 43.1s\n",
      "804:\tlearn: 1440.3893913\ttotal: 2m 57s\tremaining: 42.9s\n",
      "805:\tlearn: 1440.3524172\ttotal: 2m 57s\tremaining: 42.7s\n",
      "806:\tlearn: 1440.2566586\ttotal: 2m 57s\tremaining: 42.5s\n",
      "807:\tlearn: 1440.1116904\ttotal: 2m 57s\tremaining: 42.2s\n",
      "808:\tlearn: 1440.0128262\ttotal: 2m 58s\tremaining: 42s\n",
      "809:\tlearn: 1439.9939494\ttotal: 2m 58s\tremaining: 41.8s\n",
      "810:\tlearn: 1439.9501332\ttotal: 2m 58s\tremaining: 41.6s\n",
      "811:\tlearn: 1439.7580497\ttotal: 2m 58s\tremaining: 41.4s\n",
      "812:\tlearn: 1439.6526054\ttotal: 2m 58s\tremaining: 41.1s\n",
      "813:\tlearn: 1439.4400261\ttotal: 2m 59s\tremaining: 40.9s\n",
      "814:\tlearn: 1439.3505034\ttotal: 2m 59s\tremaining: 40.7s\n",
      "815:\tlearn: 1439.1946063\ttotal: 2m 59s\tremaining: 40.5s\n",
      "816:\tlearn: 1439.1292767\ttotal: 2m 59s\tremaining: 40.3s\n",
      "817:\tlearn: 1439.0045423\ttotal: 2m 59s\tremaining: 40s\n",
      "818:\tlearn: 1438.8178549\ttotal: 3m\tremaining: 39.8s\n",
      "819:\tlearn: 1438.6576380\ttotal: 3m\tremaining: 39.6s\n",
      "820:\tlearn: 1438.5878601\ttotal: 3m\tremaining: 39.4s\n",
      "821:\tlearn: 1438.4616389\ttotal: 3m\tremaining: 39.2s\n",
      "822:\tlearn: 1438.3597365\ttotal: 3m 1s\tremaining: 38.9s\n",
      "823:\tlearn: 1438.3010291\ttotal: 3m 1s\tremaining: 38.7s\n",
      "824:\tlearn: 1438.1789559\ttotal: 3m 1s\tremaining: 38.5s\n",
      "825:\tlearn: 1438.1062611\ttotal: 3m 1s\tremaining: 38.3s\n",
      "826:\tlearn: 1438.0785097\ttotal: 3m 2s\tremaining: 38.1s\n",
      "827:\tlearn: 1437.9995429\ttotal: 3m 2s\tremaining: 37.9s\n",
      "828:\tlearn: 1437.8539199\ttotal: 3m 2s\tremaining: 37.7s\n",
      "829:\tlearn: 1437.6388354\ttotal: 3m 2s\tremaining: 37.4s\n",
      "830:\tlearn: 1437.5958539\ttotal: 3m 2s\tremaining: 37.2s\n",
      "831:\tlearn: 1437.3368927\ttotal: 3m 3s\tremaining: 37s\n",
      "832:\tlearn: 1437.2353765\ttotal: 3m 3s\tremaining: 36.8s\n",
      "833:\tlearn: 1437.1603759\ttotal: 3m 3s\tremaining: 36.6s\n",
      "834:\tlearn: 1437.0380663\ttotal: 3m 3s\tremaining: 36.3s\n",
      "835:\tlearn: 1436.8486178\ttotal: 3m 4s\tremaining: 36.1s\n",
      "836:\tlearn: 1436.6255818\ttotal: 3m 4s\tremaining: 35.9s\n",
      "837:\tlearn: 1436.5359685\ttotal: 3m 4s\tremaining: 35.7s\n",
      "838:\tlearn: 1436.4256758\ttotal: 3m 4s\tremaining: 35.5s\n",
      "839:\tlearn: 1436.3140895\ttotal: 3m 5s\tremaining: 35.3s\n",
      "840:\tlearn: 1436.1560288\ttotal: 3m 5s\tremaining: 35s\n",
      "841:\tlearn: 1436.0937072\ttotal: 3m 5s\tremaining: 34.8s\n",
      "842:\tlearn: 1435.8883500\ttotal: 3m 5s\tremaining: 34.6s\n",
      "843:\tlearn: 1435.7808308\ttotal: 3m 6s\tremaining: 34.4s\n",
      "844:\tlearn: 1435.5570135\ttotal: 3m 6s\tremaining: 34.2s\n",
      "845:\tlearn: 1435.5414749\ttotal: 3m 6s\tremaining: 33.9s\n",
      "846:\tlearn: 1435.4890189\ttotal: 3m 6s\tremaining: 33.7s\n",
      "847:\tlearn: 1435.3337243\ttotal: 3m 6s\tremaining: 33.5s\n",
      "848:\tlearn: 1435.2389917\ttotal: 3m 7s\tremaining: 33.3s\n",
      "849:\tlearn: 1435.1485262\ttotal: 3m 7s\tremaining: 33.1s\n",
      "850:\tlearn: 1435.1396298\ttotal: 3m 7s\tremaining: 32.8s\n",
      "851:\tlearn: 1435.1025624\ttotal: 3m 7s\tremaining: 32.6s\n",
      "852:\tlearn: 1434.9910388\ttotal: 3m 8s\tremaining: 32.4s\n",
      "853:\tlearn: 1434.9467958\ttotal: 3m 8s\tremaining: 32.2s\n",
      "854:\tlearn: 1434.8873040\ttotal: 3m 8s\tremaining: 31.9s\n",
      "855:\tlearn: 1434.6728698\ttotal: 3m 8s\tremaining: 31.7s\n",
      "856:\tlearn: 1434.5083741\ttotal: 3m 8s\tremaining: 31.5s\n",
      "857:\tlearn: 1434.3523767\ttotal: 3m 8s\tremaining: 31.3s\n",
      "858:\tlearn: 1434.3272447\ttotal: 3m 9s\tremaining: 31s\n",
      "859:\tlearn: 1434.3217800\ttotal: 3m 9s\tremaining: 30.8s\n",
      "860:\tlearn: 1434.1124590\ttotal: 3m 9s\tremaining: 30.6s\n",
      "861:\tlearn: 1433.9736830\ttotal: 3m 9s\tremaining: 30.4s\n",
      "862:\tlearn: 1433.8661156\ttotal: 3m 10s\tremaining: 30.2s\n",
      "863:\tlearn: 1433.7844347\ttotal: 3m 10s\tremaining: 30s\n",
      "864:\tlearn: 1433.5925785\ttotal: 3m 10s\tremaining: 29.7s\n",
      "865:\tlearn: 1433.5651102\ttotal: 3m 10s\tremaining: 29.5s\n",
      "866:\tlearn: 1433.4488947\ttotal: 3m 10s\tremaining: 29.3s\n",
      "867:\tlearn: 1433.2638680\ttotal: 3m 11s\tremaining: 29.1s\n",
      "868:\tlearn: 1433.2094054\ttotal: 3m 11s\tremaining: 28.9s\n",
      "869:\tlearn: 1433.0646771\ttotal: 3m 11s\tremaining: 28.7s\n",
      "870:\tlearn: 1432.8929324\ttotal: 3m 12s\tremaining: 28.5s\n",
      "871:\tlearn: 1432.7587454\ttotal: 3m 12s\tremaining: 28.2s\n",
      "872:\tlearn: 1432.7446231\ttotal: 3m 12s\tremaining: 28s\n",
      "873:\tlearn: 1432.7063660\ttotal: 3m 12s\tremaining: 27.8s\n",
      "874:\tlearn: 1432.5864206\ttotal: 3m 12s\tremaining: 27.6s\n",
      "875:\tlearn: 1432.5146630\ttotal: 3m 13s\tremaining: 27.3s\n",
      "876:\tlearn: 1432.4804409\ttotal: 3m 13s\tremaining: 27.1s\n",
      "877:\tlearn: 1432.3034556\ttotal: 3m 13s\tremaining: 26.9s\n",
      "878:\tlearn: 1432.2108098\ttotal: 3m 13s\tremaining: 26.7s\n",
      "879:\tlearn: 1432.0044835\ttotal: 3m 14s\tremaining: 26.5s\n",
      "880:\tlearn: 1431.9165486\ttotal: 3m 14s\tremaining: 26.2s\n",
      "881:\tlearn: 1431.8422198\ttotal: 3m 14s\tremaining: 26s\n",
      "882:\tlearn: 1431.7702640\ttotal: 3m 14s\tremaining: 25.8s\n",
      "883:\tlearn: 1431.3687841\ttotal: 3m 14s\tremaining: 25.6s\n",
      "884:\tlearn: 1431.1450319\ttotal: 3m 15s\tremaining: 25.4s\n",
      "885:\tlearn: 1431.0258725\ttotal: 3m 15s\tremaining: 25.2s\n",
      "886:\tlearn: 1430.8634958\ttotal: 3m 15s\tremaining: 24.9s\n",
      "887:\tlearn: 1430.7156060\ttotal: 3m 15s\tremaining: 24.7s\n",
      "888:\tlearn: 1430.5915930\ttotal: 3m 16s\tremaining: 24.5s\n",
      "889:\tlearn: 1430.4260077\ttotal: 3m 16s\tremaining: 24.3s\n",
      "890:\tlearn: 1430.1316457\ttotal: 3m 16s\tremaining: 24s\n",
      "891:\tlearn: 1429.9913237\ttotal: 3m 16s\tremaining: 23.8s\n",
      "892:\tlearn: 1429.8783914\ttotal: 3m 17s\tremaining: 23.6s\n",
      "893:\tlearn: 1429.7155833\ttotal: 3m 17s\tremaining: 23.4s\n",
      "894:\tlearn: 1429.6886980\ttotal: 3m 17s\tremaining: 23.2s\n",
      "895:\tlearn: 1429.6404058\ttotal: 3m 17s\tremaining: 23s\n",
      "896:\tlearn: 1429.5046906\ttotal: 3m 18s\tremaining: 22.7s\n",
      "897:\tlearn: 1429.3502532\ttotal: 3m 18s\tremaining: 22.5s\n",
      "898:\tlearn: 1429.3014656\ttotal: 3m 18s\tremaining: 22.3s\n",
      "899:\tlearn: 1429.2041344\ttotal: 3m 18s\tremaining: 22.1s\n",
      "900:\tlearn: 1429.1257062\ttotal: 3m 19s\tremaining: 21.9s\n",
      "901:\tlearn: 1428.9880456\ttotal: 3m 19s\tremaining: 21.7s\n",
      "902:\tlearn: 1428.8992659\ttotal: 3m 19s\tremaining: 21.4s\n",
      "903:\tlearn: 1428.8629623\ttotal: 3m 19s\tremaining: 21.2s\n",
      "904:\tlearn: 1428.7262714\ttotal: 3m 19s\tremaining: 21s\n",
      "905:\tlearn: 1428.5263306\ttotal: 3m 20s\tremaining: 20.8s\n",
      "906:\tlearn: 1428.3664265\ttotal: 3m 20s\tremaining: 20.5s\n",
      "907:\tlearn: 1428.0986131\ttotal: 3m 20s\tremaining: 20.3s\n",
      "908:\tlearn: 1427.9597250\ttotal: 3m 20s\tremaining: 20.1s\n",
      "909:\tlearn: 1427.9332270\ttotal: 3m 20s\tremaining: 19.9s\n",
      "910:\tlearn: 1427.9070392\ttotal: 3m 21s\tremaining: 19.7s\n",
      "911:\tlearn: 1427.8860426\ttotal: 3m 21s\tremaining: 19.4s\n",
      "912:\tlearn: 1427.7799684\ttotal: 3m 21s\tremaining: 19.2s\n",
      "913:\tlearn: 1427.6633441\ttotal: 3m 21s\tremaining: 19s\n",
      "914:\tlearn: 1427.5999870\ttotal: 3m 22s\tremaining: 18.8s\n",
      "915:\tlearn: 1427.4608318\ttotal: 3m 22s\tremaining: 18.5s\n",
      "916:\tlearn: 1427.3800490\ttotal: 3m 22s\tremaining: 18.3s\n",
      "917:\tlearn: 1427.3231617\ttotal: 3m 22s\tremaining: 18.1s\n",
      "918:\tlearn: 1427.3012666\ttotal: 3m 22s\tremaining: 17.9s\n",
      "919:\tlearn: 1427.2414500\ttotal: 3m 23s\tremaining: 17.7s\n",
      "920:\tlearn: 1427.0841940\ttotal: 3m 23s\tremaining: 17.4s\n",
      "921:\tlearn: 1426.9462893\ttotal: 3m 23s\tremaining: 17.2s\n",
      "922:\tlearn: 1426.8197714\ttotal: 3m 23s\tremaining: 17s\n",
      "923:\tlearn: 1426.8043617\ttotal: 3m 24s\tremaining: 16.8s\n",
      "924:\tlearn: 1426.7837409\ttotal: 3m 24s\tremaining: 16.6s\n",
      "925:\tlearn: 1426.6944746\ttotal: 3m 24s\tremaining: 16.3s\n",
      "926:\tlearn: 1426.5679932\ttotal: 3m 24s\tremaining: 16.1s\n",
      "927:\tlearn: 1426.5021503\ttotal: 3m 24s\tremaining: 15.9s\n",
      "928:\tlearn: 1426.4306040\ttotal: 3m 25s\tremaining: 15.7s\n",
      "929:\tlearn: 1426.2816883\ttotal: 3m 25s\tremaining: 15.5s\n",
      "930:\tlearn: 1426.2151272\ttotal: 3m 25s\tremaining: 15.2s\n",
      "931:\tlearn: 1425.9816210\ttotal: 3m 25s\tremaining: 15s\n",
      "932:\tlearn: 1425.9067262\ttotal: 3m 25s\tremaining: 14.8s\n",
      "933:\tlearn: 1425.8062722\ttotal: 3m 26s\tremaining: 14.6s\n",
      "934:\tlearn: 1425.5780739\ttotal: 3m 26s\tremaining: 14.3s\n",
      "935:\tlearn: 1425.4948970\ttotal: 3m 26s\tremaining: 14.1s\n",
      "936:\tlearn: 1425.3403594\ttotal: 3m 26s\tremaining: 13.9s\n",
      "937:\tlearn: 1425.2901364\ttotal: 3m 26s\tremaining: 13.7s\n",
      "938:\tlearn: 1425.2292793\ttotal: 3m 27s\tremaining: 13.5s\n",
      "939:\tlearn: 1425.0829581\ttotal: 3m 27s\tremaining: 13.2s\n",
      "940:\tlearn: 1424.9880309\ttotal: 3m 27s\tremaining: 13s\n",
      "941:\tlearn: 1424.8373556\ttotal: 3m 28s\tremaining: 12.8s\n",
      "942:\tlearn: 1424.7229774\ttotal: 3m 28s\tremaining: 12.6s\n",
      "943:\tlearn: 1424.6572111\ttotal: 3m 28s\tremaining: 12.4s\n",
      "944:\tlearn: 1424.6292620\ttotal: 3m 28s\tremaining: 12.2s\n",
      "945:\tlearn: 1424.5175427\ttotal: 3m 28s\tremaining: 11.9s\n",
      "946:\tlearn: 1424.4395837\ttotal: 3m 29s\tremaining: 11.7s\n",
      "947:\tlearn: 1424.3387724\ttotal: 3m 29s\tremaining: 11.5s\n",
      "948:\tlearn: 1424.2024859\ttotal: 3m 29s\tremaining: 11.3s\n",
      "949:\tlearn: 1424.1730819\ttotal: 3m 29s\tremaining: 11s\n",
      "950:\tlearn: 1424.0040201\ttotal: 3m 30s\tremaining: 10.8s\n",
      "951:\tlearn: 1423.9849729\ttotal: 3m 30s\tremaining: 10.6s\n",
      "952:\tlearn: 1423.7934421\ttotal: 3m 30s\tremaining: 10.4s\n",
      "953:\tlearn: 1423.6986751\ttotal: 3m 30s\tremaining: 10.2s\n",
      "954:\tlearn: 1423.5204701\ttotal: 3m 31s\tremaining: 9.94s\n",
      "955:\tlearn: 1423.4245372\ttotal: 3m 31s\tremaining: 9.72s\n",
      "956:\tlearn: 1423.3330392\ttotal: 3m 31s\tremaining: 9.5s\n",
      "957:\tlearn: 1423.2832407\ttotal: 3m 31s\tremaining: 9.28s\n",
      "958:\tlearn: 1423.2436424\ttotal: 3m 31s\tremaining: 9.06s\n",
      "959:\tlearn: 1423.1282082\ttotal: 3m 32s\tremaining: 8.84s\n",
      "960:\tlearn: 1423.0463877\ttotal: 3m 32s\tremaining: 8.62s\n",
      "961:\tlearn: 1422.9184591\ttotal: 3m 32s\tremaining: 8.39s\n",
      "962:\tlearn: 1422.7075881\ttotal: 3m 32s\tremaining: 8.18s\n",
      "963:\tlearn: 1422.6169849\ttotal: 3m 32s\tremaining: 7.95s\n",
      "964:\tlearn: 1422.5834770\ttotal: 3m 33s\tremaining: 7.73s\n",
      "965:\tlearn: 1422.3534596\ttotal: 3m 33s\tremaining: 7.51s\n",
      "966:\tlearn: 1422.2120335\ttotal: 3m 33s\tremaining: 7.29s\n",
      "967:\tlearn: 1422.0691599\ttotal: 3m 33s\tremaining: 7.07s\n",
      "968:\tlearn: 1421.9093001\ttotal: 3m 34s\tremaining: 6.85s\n",
      "969:\tlearn: 1421.8864940\ttotal: 3m 34s\tremaining: 6.63s\n",
      "970:\tlearn: 1421.7642480\ttotal: 3m 34s\tremaining: 6.41s\n",
      "971:\tlearn: 1421.7165387\ttotal: 3m 34s\tremaining: 6.18s\n",
      "972:\tlearn: 1421.4922107\ttotal: 3m 34s\tremaining: 5.96s\n",
      "973:\tlearn: 1421.3009804\ttotal: 3m 35s\tremaining: 5.74s\n",
      "974:\tlearn: 1421.2555230\ttotal: 3m 35s\tremaining: 5.52s\n",
      "975:\tlearn: 1421.1858589\ttotal: 3m 35s\tremaining: 5.3s\n",
      "976:\tlearn: 1421.0555868\ttotal: 3m 35s\tremaining: 5.08s\n",
      "977:\tlearn: 1420.8747242\ttotal: 3m 35s\tremaining: 4.86s\n",
      "978:\tlearn: 1420.8707621\ttotal: 3m 36s\tremaining: 4.63s\n",
      "979:\tlearn: 1420.7600548\ttotal: 3m 36s\tremaining: 4.41s\n",
      "980:\tlearn: 1420.7033241\ttotal: 3m 36s\tremaining: 4.19s\n",
      "981:\tlearn: 1420.6126953\ttotal: 3m 36s\tremaining: 3.97s\n",
      "982:\tlearn: 1420.5748631\ttotal: 3m 36s\tremaining: 3.75s\n",
      "983:\tlearn: 1420.4891204\ttotal: 3m 37s\tremaining: 3.53s\n",
      "984:\tlearn: 1420.4717529\ttotal: 3m 37s\tremaining: 3.31s\n",
      "985:\tlearn: 1420.4057937\ttotal: 3m 37s\tremaining: 3.09s\n",
      "986:\tlearn: 1420.3539906\ttotal: 3m 37s\tremaining: 2.87s\n",
      "987:\tlearn: 1420.3027769\ttotal: 3m 37s\tremaining: 2.65s\n",
      "988:\tlearn: 1420.2796549\ttotal: 3m 38s\tremaining: 2.43s\n",
      "989:\tlearn: 1420.1210434\ttotal: 3m 38s\tremaining: 2.21s\n",
      "990:\tlearn: 1419.9556984\ttotal: 3m 38s\tremaining: 1.99s\n",
      "991:\tlearn: 1419.9335440\ttotal: 3m 38s\tremaining: 1.76s\n",
      "992:\tlearn: 1419.7666477\ttotal: 3m 39s\tremaining: 1.54s\n",
      "993:\tlearn: 1419.6926186\ttotal: 3m 39s\tremaining: 1.32s\n",
      "994:\tlearn: 1419.4739364\ttotal: 3m 39s\tremaining: 1.1s\n",
      "995:\tlearn: 1419.4085474\ttotal: 3m 39s\tremaining: 882ms\n",
      "996:\tlearn: 1419.3231951\ttotal: 3m 39s\tremaining: 662ms\n",
      "997:\tlearn: 1419.1701540\ttotal: 3m 40s\tremaining: 441ms\n",
      "998:\tlearn: 1419.0454827\ttotal: 3m 40s\tremaining: 221ms\n",
      "999:\tlearn: 1419.0254453\ttotal: 3m 40s\tremaining: 0us\n",
      "CPU times: user 16min 29s, sys: 8.31 s, total: 16min 37s\n",
      "Wall time: 16min 55s\n"
     ]
    },
    {
     "data": {
      "text/plain": [
       "GridSearchCV(cv=3,\n",
       "             estimator=<catboost.core.CatBoostRegressor object at 0x7f72c25750d0>,\n",
       "             param_grid={'depth': [6, 8]}, scoring='neg_mean_squared_error')"
      ]
     },
     "execution_count": 37,
     "metadata": {},
     "output_type": "execute_result"
    }
   ],
   "source": [
    "%%time\n",
    "grid_cat.fit(features_train,target_train,cat_features=categories)"
   ]
  },
  {
   "cell_type": "markdown",
   "metadata": {},
   "source": [
    "**LGBMRegressor**"
   ]
  },
  {
   "cell_type": "code",
   "execution_count": 38,
   "metadata": {},
   "outputs": [],
   "source": [
    "\n",
    "\n",
    "parameters = {\n",
    "#     'n_estimators': [50,100],\n",
    "    'max_depth': [5,10]\n",
    "   \n",
    "}\n",
    "\n",
    "grid_lgbm = GridSearchCV(LGBMRegressor(), parameters, cv=3, scoring='neg_mean_squared_error')\n"
   ]
  },
  {
   "cell_type": "code",
   "execution_count": 39,
   "metadata": {},
   "outputs": [
    {
     "name": "stdout",
     "output_type": "stream",
     "text": [
      "CPU times: user 13min 57s, sys: 4.38 s, total: 14min 1s\n",
      "Wall time: 14min 8s\n"
     ]
    },
    {
     "data": {
      "text/plain": [
       "GridSearchCV(cv=3, estimator=LGBMRegressor(), param_grid={'max_depth': [5, 10]},\n",
       "             scoring='neg_mean_squared_error')"
      ]
     },
     "execution_count": 39,
     "metadata": {},
     "output_type": "execute_result"
    }
   ],
   "source": [
    "%%time\n",
    "grid_lgbm.fit(features_train, target_train)"
   ]
  },
  {
   "cell_type": "markdown",
   "metadata": {},
   "source": [
    "**LinearRegression**"
   ]
  },
  {
   "cell_type": "markdown",
   "metadata": {},
   "source": [
    "Кодирование признаков"
   ]
  },
  {
   "cell_type": "code",
   "execution_count": 40,
   "metadata": {},
   "outputs": [],
   "source": [
    "oh = OneHotEncoder(sparse = False, handle_unknown = 'ignore')\n",
    "\n",
    "ar_tr = oh.fit_transform(features_train[categories])\n",
    "ar_ts = oh.transform(features_test[categories])\n",
    "\n",
    "X_tr = pd.DataFrame(ar_tr,columns = oh.get_feature_names(categories),index = features_train.index)\n",
    "X_ts = pd.DataFrame(ar_ts,columns = oh.get_feature_names(categories),index = features_test.index)\n",
    "\n",
    "features_train_linreg = pd.concat((features_train.drop(categories,axis = 1), X_tr), axis = 1)\n",
    "features_test_linreg = pd.concat((features_test.drop(categories,axis = 1),X_ts), axis = 1)"
   ]
  },
  {
   "cell_type": "markdown",
   "metadata": {},
   "source": [
    "Масштабирование"
   ]
  },
  {
   "cell_type": "code",
   "execution_count": 41,
   "metadata": {},
   "outputs": [],
   "source": [
    "sr = RobustScaler()\n",
    "\n",
    "num_cols = features_train_linreg.drop(X_tr.columns,axis = 1).columns\n",
    "\n",
    "features_train_linreg.reset_index(drop = True,inplace = True)\n",
    "features_test_linreg.reset_index(drop = True,inplace = True)\n",
    "\n",
    "features_train_linreg.reset_index(drop = True,inplace = True)\n",
    "features_test_linreg.reset_index(drop = True,inplace = True)\n",
    "\n",
    "features_train_linreg[num_cols] = pd.DataFrame(sr.fit_transform(features_train_linreg[num_cols]), \n",
    "                                               columns = features_train_linreg[num_cols].columns)\n",
    "features_test_linreg[num_cols] = pd.DataFrame(sr.transform(features_test_linreg[num_cols]),\n",
    "                                              columns = features_test_linreg[num_cols].columns)"
   ]
  },
  {
   "cell_type": "markdown",
   "metadata": {},
   "source": [
    "Поиск лучшей модели LinearRegression"
   ]
  },
  {
   "cell_type": "code",
   "execution_count": 42,
   "metadata": {},
   "outputs": [],
   "source": [
    "param =  {'fit_intercept':[True,False]}\n",
    "\n",
    "grid_linreg = GridSearchCV(LinearRegression(), param, cv=3,scoring='neg_mean_squared_error')"
   ]
  },
  {
   "cell_type": "code",
   "execution_count": 43,
   "metadata": {
    "scrolled": true
   },
   "outputs": [
    {
     "name": "stdout",
     "output_type": "stream",
     "text": [
      "CPU times: user 54.5 s, sys: 24.2 s, total: 1min 18s\n",
      "Wall time: 1min 19s\n"
     ]
    },
    {
     "data": {
      "text/plain": [
       "GridSearchCV(cv=3, estimator=LinearRegression(),\n",
       "             param_grid={'fit_intercept': [True, False]},\n",
       "             scoring='neg_mean_squared_error')"
      ]
     },
     "execution_count": 43,
     "metadata": {},
     "output_type": "execute_result"
    }
   ],
   "source": [
    "%%time\n",
    "grid_linreg.fit(features_train_linreg,target_train)"
   ]
  },
  {
   "cell_type": "markdown",
   "metadata": {},
   "source": [
    "Обучено 3 модели, две из которых применяют бустинг"
   ]
  },
  {
   "cell_type": "markdown",
   "metadata": {},
   "source": [
    "## Анализ моделей"
   ]
  },
  {
   "cell_type": "markdown",
   "metadata": {},
   "source": [
    "Измерение времени обучения и предсказания на полученных  моделях"
   ]
  },
  {
   "cell_type": "code",
   "execution_count": 44,
   "metadata": {
    "scrolled": true
   },
   "outputs": [
    {
     "name": "stdout",
     "output_type": "stream",
     "text": [
      "Learning rate set to 0.092006\n",
      "0:\tlearn: 4355.1780806\ttotal: 392ms\tremaining: 6m 31s\n",
      "1:\tlearn: 4073.1903761\ttotal: 677ms\tremaining: 5m 37s\n",
      "2:\tlearn: 3824.0818666\ttotal: 942ms\tremaining: 5m 13s\n",
      "3:\tlearn: 3605.7512317\ttotal: 1.17s\tremaining: 4m 50s\n",
      "4:\tlearn: 3409.3783627\ttotal: 1.51s\tremaining: 4m 59s\n",
      "5:\tlearn: 3235.3572467\ttotal: 1.76s\tremaining: 4m 51s\n",
      "6:\tlearn: 3081.5164240\ttotal: 2.03s\tremaining: 4m 48s\n",
      "7:\tlearn: 2942.7495066\ttotal: 2.29s\tremaining: 4m 43s\n",
      "8:\tlearn: 2820.3572303\ttotal: 2.55s\tremaining: 4m 41s\n",
      "9:\tlearn: 2711.4377815\ttotal: 2.79s\tremaining: 4m 36s\n",
      "10:\tlearn: 2613.7655744\ttotal: 3.03s\tremaining: 4m 32s\n",
      "11:\tlearn: 2524.3724149\ttotal: 3.22s\tremaining: 4m 25s\n",
      "12:\tlearn: 2445.9030206\ttotal: 3.48s\tremaining: 4m 24s\n",
      "13:\tlearn: 2380.6177442\ttotal: 3.69s\tremaining: 4m 20s\n",
      "14:\tlearn: 2319.2522438\ttotal: 3.92s\tremaining: 4m 17s\n",
      "15:\tlearn: 2262.9623233\ttotal: 4.13s\tremaining: 4m 13s\n",
      "16:\tlearn: 2216.2210566\ttotal: 4.38s\tremaining: 4m 13s\n",
      "17:\tlearn: 2174.2908804\ttotal: 4.64s\tremaining: 4m 13s\n",
      "18:\tlearn: 2136.6785257\ttotal: 4.9s\tremaining: 4m 13s\n",
      "19:\tlearn: 2096.8310908\ttotal: 5.15s\tremaining: 4m 12s\n",
      "20:\tlearn: 2065.8502598\ttotal: 5.35s\tremaining: 4m 9s\n",
      "21:\tlearn: 2035.2596540\ttotal: 5.55s\tremaining: 4m 6s\n",
      "22:\tlearn: 2008.9036718\ttotal: 5.73s\tremaining: 4m 3s\n",
      "23:\tlearn: 1984.5094402\ttotal: 5.94s\tremaining: 4m 1s\n",
      "24:\tlearn: 1959.0432993\ttotal: 6.1s\tremaining: 3m 57s\n",
      "25:\tlearn: 1937.5733430\ttotal: 6.26s\tremaining: 3m 54s\n",
      "26:\tlearn: 1919.4462359\ttotal: 6.48s\tremaining: 3m 53s\n",
      "27:\tlearn: 1903.5978565\ttotal: 6.64s\tremaining: 3m 50s\n",
      "28:\tlearn: 1888.3209929\ttotal: 6.87s\tremaining: 3m 49s\n",
      "29:\tlearn: 1875.9095277\ttotal: 7.16s\tremaining: 3m 51s\n",
      "30:\tlearn: 1864.4063703\ttotal: 7.36s\tremaining: 3m 49s\n",
      "31:\tlearn: 1854.2949445\ttotal: 7.54s\tremaining: 3m 48s\n",
      "32:\tlearn: 1840.9067325\ttotal: 7.73s\tremaining: 3m 46s\n",
      "33:\tlearn: 1830.1043894\ttotal: 7.94s\tremaining: 3m 45s\n",
      "34:\tlearn: 1822.5851397\ttotal: 8.15s\tremaining: 3m 44s\n",
      "35:\tlearn: 1814.7767259\ttotal: 8.37s\tremaining: 3m 44s\n",
      "36:\tlearn: 1807.7544609\ttotal: 8.52s\tremaining: 3m 41s\n",
      "37:\tlearn: 1798.4131170\ttotal: 8.66s\tremaining: 3m 39s\n",
      "38:\tlearn: 1792.7884946\ttotal: 8.81s\tremaining: 3m 37s\n",
      "39:\tlearn: 1787.1163678\ttotal: 9.01s\tremaining: 3m 36s\n",
      "40:\tlearn: 1781.1729265\ttotal: 9.2s\tremaining: 3m 35s\n",
      "41:\tlearn: 1775.6468788\ttotal: 9.39s\tremaining: 3m 34s\n",
      "42:\tlearn: 1771.0166884\ttotal: 9.55s\tremaining: 3m 32s\n",
      "43:\tlearn: 1766.2712429\ttotal: 9.7s\tremaining: 3m 30s\n",
      "44:\tlearn: 1762.5801964\ttotal: 9.85s\tremaining: 3m 29s\n",
      "45:\tlearn: 1758.4872223\ttotal: 10.1s\tremaining: 3m 28s\n",
      "46:\tlearn: 1755.1429084\ttotal: 10.3s\tremaining: 3m 27s\n",
      "47:\tlearn: 1752.0068175\ttotal: 10.4s\tremaining: 3m 27s\n",
      "48:\tlearn: 1745.9659863\ttotal: 10.6s\tremaining: 3m 25s\n",
      "49:\tlearn: 1742.2028579\ttotal: 10.8s\tremaining: 3m 24s\n",
      "50:\tlearn: 1738.1111132\ttotal: 10.9s\tremaining: 3m 23s\n",
      "51:\tlearn: 1735.3624154\ttotal: 11.1s\tremaining: 3m 22s\n",
      "52:\tlearn: 1728.8955455\ttotal: 11.3s\tremaining: 3m 21s\n",
      "53:\tlearn: 1726.1243670\ttotal: 11.5s\tremaining: 3m 21s\n",
      "54:\tlearn: 1722.3162297\ttotal: 11.6s\tremaining: 3m 19s\n",
      "55:\tlearn: 1718.3374074\ttotal: 11.8s\tremaining: 3m 19s\n",
      "56:\tlearn: 1714.6177144\ttotal: 12s\tremaining: 3m 18s\n",
      "57:\tlearn: 1711.4170899\ttotal: 12.2s\tremaining: 3m 17s\n",
      "58:\tlearn: 1709.2122603\ttotal: 12.4s\tremaining: 3m 17s\n",
      "59:\tlearn: 1707.1504325\ttotal: 12.6s\tremaining: 3m 17s\n",
      "60:\tlearn: 1703.8523143\ttotal: 12.8s\tremaining: 3m 16s\n",
      "61:\tlearn: 1701.5444199\ttotal: 13s\tremaining: 3m 16s\n",
      "62:\tlearn: 1697.8657736\ttotal: 13.1s\tremaining: 3m 15s\n",
      "63:\tlearn: 1695.7240516\ttotal: 13.3s\tremaining: 3m 14s\n",
      "64:\tlearn: 1694.0855541\ttotal: 13.5s\tremaining: 3m 13s\n",
      "65:\tlearn: 1691.0980756\ttotal: 13.7s\tremaining: 3m 13s\n",
      "66:\tlearn: 1689.0887000\ttotal: 13.9s\tremaining: 3m 13s\n",
      "67:\tlearn: 1687.3222432\ttotal: 14s\tremaining: 3m 12s\n",
      "68:\tlearn: 1684.7831539\ttotal: 14.2s\tremaining: 3m 11s\n",
      "69:\tlearn: 1683.5894427\ttotal: 14.4s\tremaining: 3m 11s\n",
      "70:\tlearn: 1681.1457825\ttotal: 14.6s\tremaining: 3m 11s\n",
      "71:\tlearn: 1679.6985439\ttotal: 14.8s\tremaining: 3m 11s\n",
      "72:\tlearn: 1677.8765636\ttotal: 15.1s\tremaining: 3m 11s\n",
      "73:\tlearn: 1676.6056222\ttotal: 15.2s\tremaining: 3m 10s\n",
      "74:\tlearn: 1674.8037196\ttotal: 15.4s\tremaining: 3m 9s\n",
      "75:\tlearn: 1672.8128863\ttotal: 15.6s\tremaining: 3m 9s\n",
      "76:\tlearn: 1670.4777425\ttotal: 15.8s\tremaining: 3m 9s\n",
      "77:\tlearn: 1668.1685767\ttotal: 16s\tremaining: 3m 8s\n",
      "78:\tlearn: 1666.9573750\ttotal: 16.1s\tremaining: 3m 8s\n",
      "79:\tlearn: 1666.1069287\ttotal: 16.3s\tremaining: 3m 7s\n",
      "80:\tlearn: 1664.8836793\ttotal: 16.5s\tremaining: 3m 7s\n",
      "81:\tlearn: 1662.4642516\ttotal: 16.7s\tremaining: 3m 7s\n",
      "82:\tlearn: 1661.5740548\ttotal: 16.9s\tremaining: 3m 7s\n",
      "83:\tlearn: 1659.7529240\ttotal: 17.1s\tremaining: 3m 6s\n",
      "84:\tlearn: 1658.4042275\ttotal: 17.3s\tremaining: 3m 6s\n",
      "85:\tlearn: 1657.5156993\ttotal: 17.5s\tremaining: 3m 6s\n",
      "86:\tlearn: 1655.2406579\ttotal: 17.7s\tremaining: 3m 5s\n",
      "87:\tlearn: 1652.9953486\ttotal: 17.9s\tremaining: 3m 5s\n",
      "88:\tlearn: 1651.7115041\ttotal: 18.1s\tremaining: 3m 4s\n",
      "89:\tlearn: 1650.1867094\ttotal: 18.3s\tremaining: 3m 4s\n",
      "90:\tlearn: 1648.8671251\ttotal: 18.5s\tremaining: 3m 5s\n",
      "91:\tlearn: 1648.0370903\ttotal: 18.8s\tremaining: 3m 5s\n",
      "92:\tlearn: 1645.7424867\ttotal: 18.9s\tremaining: 3m 4s\n",
      "93:\tlearn: 1644.8391594\ttotal: 19.1s\tremaining: 3m 4s\n",
      "94:\tlearn: 1642.9128368\ttotal: 19.3s\tremaining: 3m 3s\n",
      "95:\tlearn: 1641.0679182\ttotal: 19.5s\tremaining: 3m 3s\n",
      "96:\tlearn: 1639.5837938\ttotal: 19.7s\tremaining: 3m 3s\n",
      "97:\tlearn: 1638.1743127\ttotal: 19.8s\tremaining: 3m 2s\n",
      "98:\tlearn: 1637.2410030\ttotal: 20s\tremaining: 3m 2s\n",
      "99:\tlearn: 1635.9611086\ttotal: 20.3s\tremaining: 3m 2s\n",
      "100:\tlearn: 1634.3778275\ttotal: 20.5s\tremaining: 3m 2s\n",
      "101:\tlearn: 1632.8104335\ttotal: 20.7s\tremaining: 3m 2s\n",
      "102:\tlearn: 1631.4103579\ttotal: 20.8s\tremaining: 3m 1s\n",
      "103:\tlearn: 1630.4308393\ttotal: 21s\tremaining: 3m 1s\n",
      "104:\tlearn: 1629.2590752\ttotal: 21.2s\tremaining: 3m 1s\n",
      "105:\tlearn: 1628.9288798\ttotal: 21.5s\tremaining: 3m 1s\n",
      "106:\tlearn: 1628.5595450\ttotal: 21.7s\tremaining: 3m 1s\n",
      "107:\tlearn: 1627.2537608\ttotal: 21.9s\tremaining: 3m\n",
      "108:\tlearn: 1625.8988042\ttotal: 22.1s\tremaining: 3m\n",
      "109:\tlearn: 1625.0104173\ttotal: 22.3s\tremaining: 3m\n",
      "110:\tlearn: 1623.7252928\ttotal: 22.5s\tremaining: 3m\n",
      "111:\tlearn: 1622.5431614\ttotal: 22.6s\tremaining: 2m 59s\n",
      "112:\tlearn: 1621.2961648\ttotal: 22.8s\tremaining: 2m 58s\n",
      "113:\tlearn: 1620.4518391\ttotal: 23s\tremaining: 2m 58s\n",
      "114:\tlearn: 1619.5575057\ttotal: 23.2s\tremaining: 2m 58s\n",
      "115:\tlearn: 1618.4078413\ttotal: 23.3s\tremaining: 2m 57s\n",
      "116:\tlearn: 1617.8834620\ttotal: 23.5s\tremaining: 2m 57s\n",
      "117:\tlearn: 1616.4676353\ttotal: 23.8s\tremaining: 2m 57s\n",
      "118:\tlearn: 1615.5419428\ttotal: 23.9s\tremaining: 2m 57s\n",
      "119:\tlearn: 1614.7046339\ttotal: 24.1s\tremaining: 2m 56s\n",
      "120:\tlearn: 1613.4868311\ttotal: 24.3s\tremaining: 2m 56s\n",
      "121:\tlearn: 1612.7251669\ttotal: 24.5s\tremaining: 2m 56s\n",
      "122:\tlearn: 1611.7296575\ttotal: 24.7s\tremaining: 2m 56s\n",
      "123:\tlearn: 1610.8997981\ttotal: 24.9s\tremaining: 2m 56s\n",
      "124:\tlearn: 1609.7673231\ttotal: 25.1s\tremaining: 2m 55s\n",
      "125:\tlearn: 1608.6987666\ttotal: 25.3s\tremaining: 2m 55s\n",
      "126:\tlearn: 1607.7382522\ttotal: 25.5s\tremaining: 2m 55s\n",
      "127:\tlearn: 1606.7880220\ttotal: 25.7s\tremaining: 2m 55s\n",
      "128:\tlearn: 1606.2167561\ttotal: 25.9s\tremaining: 2m 55s\n",
      "129:\tlearn: 1605.5915083\ttotal: 26.1s\tremaining: 2m 54s\n",
      "130:\tlearn: 1604.8585275\ttotal: 26.4s\tremaining: 2m 54s\n",
      "131:\tlearn: 1604.0139714\ttotal: 26.6s\tremaining: 2m 54s\n",
      "132:\tlearn: 1602.9904617\ttotal: 26.9s\tremaining: 2m 55s\n",
      "133:\tlearn: 1602.2517304\ttotal: 27s\tremaining: 2m 54s\n",
      "134:\tlearn: 1601.0546341\ttotal: 27.2s\tremaining: 2m 54s\n",
      "135:\tlearn: 1600.4002657\ttotal: 27.4s\tremaining: 2m 54s\n",
      "136:\tlearn: 1599.9485050\ttotal: 27.6s\tremaining: 2m 54s\n",
      "137:\tlearn: 1599.5745335\ttotal: 27.9s\tremaining: 2m 54s\n",
      "138:\tlearn: 1598.5290761\ttotal: 28.1s\tremaining: 2m 54s\n",
      "139:\tlearn: 1597.6170530\ttotal: 28.3s\tremaining: 2m 53s\n",
      "140:\tlearn: 1596.8560466\ttotal: 28.5s\tremaining: 2m 53s\n",
      "141:\tlearn: 1596.5109906\ttotal: 28.8s\tremaining: 2m 53s\n",
      "142:\tlearn: 1595.4230832\ttotal: 29s\tremaining: 2m 53s\n",
      "143:\tlearn: 1595.0112780\ttotal: 29.2s\tremaining: 2m 53s\n",
      "144:\tlearn: 1594.1221337\ttotal: 29.4s\tremaining: 2m 53s\n",
      "145:\tlearn: 1593.4647933\ttotal: 29.6s\tremaining: 2m 53s\n",
      "146:\tlearn: 1592.7808738\ttotal: 29.8s\tremaining: 2m 52s\n",
      "147:\tlearn: 1591.9527830\ttotal: 29.9s\tremaining: 2m 52s\n",
      "148:\tlearn: 1591.4020485\ttotal: 30.2s\tremaining: 2m 52s\n",
      "149:\tlearn: 1590.3517891\ttotal: 30.4s\tremaining: 2m 52s\n",
      "150:\tlearn: 1589.9243316\ttotal: 30.6s\tremaining: 2m 52s\n",
      "151:\tlearn: 1589.4455982\ttotal: 30.9s\tremaining: 2m 52s\n",
      "152:\tlearn: 1588.5987122\ttotal: 31.1s\tremaining: 2m 52s\n",
      "153:\tlearn: 1587.9094178\ttotal: 31.3s\tremaining: 2m 52s\n",
      "154:\tlearn: 1587.2537280\ttotal: 31.5s\tremaining: 2m 51s\n",
      "155:\tlearn: 1586.7329151\ttotal: 31.7s\tremaining: 2m 51s\n",
      "156:\tlearn: 1586.1062586\ttotal: 31.9s\tremaining: 2m 51s\n",
      "157:\tlearn: 1585.9090038\ttotal: 32.2s\tremaining: 2m 51s\n",
      "158:\tlearn: 1584.9155082\ttotal: 32.4s\tremaining: 2m 51s\n",
      "159:\tlearn: 1584.4741779\ttotal: 32.6s\tremaining: 2m 51s\n",
      "160:\tlearn: 1583.7065684\ttotal: 32.8s\tremaining: 2m 50s\n",
      "161:\tlearn: 1583.3314212\ttotal: 33s\tremaining: 2m 50s\n",
      "162:\tlearn: 1582.7383694\ttotal: 33.2s\tremaining: 2m 50s\n",
      "163:\tlearn: 1582.0407894\ttotal: 33.4s\tremaining: 2m 50s\n",
      "164:\tlearn: 1581.2894997\ttotal: 33.6s\tremaining: 2m 50s\n",
      "165:\tlearn: 1580.6527709\ttotal: 33.8s\tremaining: 2m 50s\n",
      "166:\tlearn: 1580.0239246\ttotal: 34.1s\tremaining: 2m 50s\n",
      "167:\tlearn: 1579.7535217\ttotal: 34.3s\tremaining: 2m 50s\n",
      "168:\tlearn: 1579.0214516\ttotal: 34.6s\tremaining: 2m 50s\n",
      "169:\tlearn: 1578.4677655\ttotal: 34.8s\tremaining: 2m 50s\n",
      "170:\tlearn: 1578.1479615\ttotal: 35.1s\tremaining: 2m 50s\n",
      "171:\tlearn: 1577.7762307\ttotal: 35.3s\tremaining: 2m 50s\n",
      "172:\tlearn: 1577.2713427\ttotal: 35.5s\tremaining: 2m 49s\n",
      "173:\tlearn: 1576.9345290\ttotal: 35.7s\tremaining: 2m 49s\n",
      "174:\tlearn: 1576.3986847\ttotal: 35.9s\tremaining: 2m 49s\n",
      "175:\tlearn: 1575.3988624\ttotal: 36.1s\tremaining: 2m 49s\n",
      "176:\tlearn: 1574.7066175\ttotal: 36.3s\tremaining: 2m 48s\n",
      "177:\tlearn: 1574.3120328\ttotal: 36.6s\tremaining: 2m 48s\n",
      "178:\tlearn: 1573.7985632\ttotal: 36.8s\tremaining: 2m 48s\n",
      "179:\tlearn: 1573.3315436\ttotal: 37s\tremaining: 2m 48s\n",
      "180:\tlearn: 1572.8579890\ttotal: 37.2s\tremaining: 2m 48s\n",
      "181:\tlearn: 1572.4125257\ttotal: 37.5s\tremaining: 2m 48s\n",
      "182:\tlearn: 1571.2734190\ttotal: 37.6s\tremaining: 2m 48s\n",
      "183:\tlearn: 1570.6515414\ttotal: 37.8s\tremaining: 2m 47s\n",
      "184:\tlearn: 1570.0312397\ttotal: 38s\tremaining: 2m 47s\n",
      "185:\tlearn: 1569.5603170\ttotal: 38.2s\tremaining: 2m 47s\n",
      "186:\tlearn: 1569.3617974\ttotal: 38.5s\tremaining: 2m 47s\n",
      "187:\tlearn: 1568.7912267\ttotal: 38.6s\tremaining: 2m 46s\n",
      "188:\tlearn: 1568.0009390\ttotal: 38.9s\tremaining: 2m 46s\n",
      "189:\tlearn: 1567.5959814\ttotal: 39s\tremaining: 2m 46s\n",
      "190:\tlearn: 1567.0402924\ttotal: 39.3s\tremaining: 2m 46s\n",
      "191:\tlearn: 1566.1207674\ttotal: 39.4s\tremaining: 2m 45s\n",
      "192:\tlearn: 1565.6785469\ttotal: 39.6s\tremaining: 2m 45s\n",
      "193:\tlearn: 1564.9048857\ttotal: 39.8s\tremaining: 2m 45s\n",
      "194:\tlearn: 1564.7388802\ttotal: 40.1s\tremaining: 2m 45s\n",
      "195:\tlearn: 1564.0711916\ttotal: 40.3s\tremaining: 2m 45s\n",
      "196:\tlearn: 1563.5049918\ttotal: 40.5s\tremaining: 2m 45s\n",
      "197:\tlearn: 1563.0298307\ttotal: 40.7s\tremaining: 2m 44s\n",
      "198:\tlearn: 1562.5346785\ttotal: 40.9s\tremaining: 2m 44s\n",
      "199:\tlearn: 1561.9295358\ttotal: 41.1s\tremaining: 2m 44s\n",
      "200:\tlearn: 1561.5162797\ttotal: 41.3s\tremaining: 2m 44s\n",
      "201:\tlearn: 1561.2684217\ttotal: 41.5s\tremaining: 2m 44s\n",
      "202:\tlearn: 1560.7817034\ttotal: 41.7s\tremaining: 2m 43s\n",
      "203:\tlearn: 1560.3042759\ttotal: 42s\tremaining: 2m 43s\n",
      "204:\tlearn: 1559.9234784\ttotal: 42.2s\tremaining: 2m 43s\n",
      "205:\tlearn: 1559.5630606\ttotal: 42.4s\tremaining: 2m 43s\n",
      "206:\tlearn: 1559.1475667\ttotal: 42.5s\tremaining: 2m 43s\n",
      "207:\tlearn: 1558.9755799\ttotal: 42.8s\tremaining: 2m 42s\n",
      "208:\tlearn: 1558.4208234\ttotal: 43s\tremaining: 2m 42s\n",
      "209:\tlearn: 1558.1020018\ttotal: 43.2s\tremaining: 2m 42s\n",
      "210:\tlearn: 1557.7684200\ttotal: 43.4s\tremaining: 2m 42s\n",
      "211:\tlearn: 1557.2866487\ttotal: 43.6s\tremaining: 2m 42s\n",
      "212:\tlearn: 1556.7828686\ttotal: 43.8s\tremaining: 2m 41s\n",
      "213:\tlearn: 1556.3770218\ttotal: 44s\tremaining: 2m 41s\n",
      "214:\tlearn: 1556.1236893\ttotal: 44.2s\tremaining: 2m 41s\n",
      "215:\tlearn: 1555.8348851\ttotal: 44.4s\tremaining: 2m 41s\n",
      "216:\tlearn: 1555.4609642\ttotal: 44.6s\tremaining: 2m 41s\n",
      "217:\tlearn: 1555.3693265\ttotal: 44.9s\tremaining: 2m 40s\n",
      "218:\tlearn: 1554.8521735\ttotal: 45s\tremaining: 2m 40s\n",
      "219:\tlearn: 1554.3900414\ttotal: 45.2s\tremaining: 2m 40s\n",
      "220:\tlearn: 1553.9089845\ttotal: 45.4s\tremaining: 2m 40s\n",
      "221:\tlearn: 1553.6718619\ttotal: 45.6s\tremaining: 2m 39s\n",
      "222:\tlearn: 1553.1477913\ttotal: 45.8s\tremaining: 2m 39s\n",
      "223:\tlearn: 1552.5459766\ttotal: 46s\tremaining: 2m 39s\n",
      "224:\tlearn: 1552.0429933\ttotal: 46.2s\tremaining: 2m 39s\n",
      "225:\tlearn: 1551.1586541\ttotal: 46.4s\tremaining: 2m 38s\n",
      "226:\tlearn: 1550.9316508\ttotal: 46.6s\tremaining: 2m 38s\n",
      "227:\tlearn: 1550.6203513\ttotal: 46.8s\tremaining: 2m 38s\n",
      "228:\tlearn: 1550.2606038\ttotal: 47s\tremaining: 2m 38s\n",
      "229:\tlearn: 1550.0836062\ttotal: 47.2s\tremaining: 2m 37s\n",
      "230:\tlearn: 1549.8727859\ttotal: 47.4s\tremaining: 2m 37s\n",
      "231:\tlearn: 1549.4499510\ttotal: 47.6s\tremaining: 2m 37s\n",
      "232:\tlearn: 1548.8484510\ttotal: 47.8s\tremaining: 2m 37s\n",
      "233:\tlearn: 1548.6431350\ttotal: 48s\tremaining: 2m 37s\n",
      "234:\tlearn: 1548.3715786\ttotal: 48.1s\tremaining: 2m 36s\n",
      "235:\tlearn: 1548.0465823\ttotal: 48.3s\tremaining: 2m 36s\n",
      "236:\tlearn: 1547.8662256\ttotal: 48.6s\tremaining: 2m 36s\n",
      "237:\tlearn: 1547.5372760\ttotal: 48.7s\tremaining: 2m 36s\n",
      "238:\tlearn: 1547.0297573\ttotal: 48.9s\tremaining: 2m 35s\n",
      "239:\tlearn: 1546.7289512\ttotal: 49.1s\tremaining: 2m 35s\n",
      "240:\tlearn: 1546.4106788\ttotal: 49.3s\tremaining: 2m 35s\n",
      "241:\tlearn: 1545.9487373\ttotal: 49.5s\tremaining: 2m 35s\n",
      "242:\tlearn: 1545.4461945\ttotal: 49.8s\tremaining: 2m 35s\n",
      "243:\tlearn: 1545.1298014\ttotal: 50s\tremaining: 2m 35s\n",
      "244:\tlearn: 1544.7791400\ttotal: 50.3s\tremaining: 2m 34s\n",
      "245:\tlearn: 1544.2342561\ttotal: 50.5s\tremaining: 2m 34s\n",
      "246:\tlearn: 1543.7262815\ttotal: 50.7s\tremaining: 2m 34s\n",
      "247:\tlearn: 1543.1241565\ttotal: 50.9s\tremaining: 2m 34s\n",
      "248:\tlearn: 1542.7036349\ttotal: 51.1s\tremaining: 2m 34s\n",
      "249:\tlearn: 1542.2834659\ttotal: 51.3s\tremaining: 2m 33s\n",
      "250:\tlearn: 1541.9253583\ttotal: 51.5s\tremaining: 2m 33s\n",
      "251:\tlearn: 1541.5858638\ttotal: 51.7s\tremaining: 2m 33s\n",
      "252:\tlearn: 1541.4622347\ttotal: 52s\tremaining: 2m 33s\n",
      "253:\tlearn: 1541.2438845\ttotal: 52.2s\tremaining: 2m 33s\n",
      "254:\tlearn: 1540.9577188\ttotal: 52.4s\tremaining: 2m 33s\n",
      "255:\tlearn: 1540.8352726\ttotal: 52.6s\tremaining: 2m 32s\n",
      "256:\tlearn: 1540.5263956\ttotal: 52.8s\tremaining: 2m 32s\n",
      "257:\tlearn: 1540.0336672\ttotal: 53s\tremaining: 2m 32s\n",
      "258:\tlearn: 1539.7557825\ttotal: 53.2s\tremaining: 2m 32s\n",
      "259:\tlearn: 1539.3502519\ttotal: 53.4s\tremaining: 2m 32s\n",
      "260:\tlearn: 1539.1794771\ttotal: 53.7s\tremaining: 2m 32s\n",
      "261:\tlearn: 1538.9602730\ttotal: 53.8s\tremaining: 2m 31s\n",
      "262:\tlearn: 1538.6980182\ttotal: 54.1s\tremaining: 2m 31s\n",
      "263:\tlearn: 1538.0666531\ttotal: 54.3s\tremaining: 2m 31s\n",
      "264:\tlearn: 1537.6695071\ttotal: 54.5s\tremaining: 2m 31s\n",
      "265:\tlearn: 1537.4028729\ttotal: 54.7s\tremaining: 2m 30s\n",
      "266:\tlearn: 1536.9352984\ttotal: 54.9s\tremaining: 2m 30s\n",
      "267:\tlearn: 1536.3917706\ttotal: 55.1s\tremaining: 2m 30s\n",
      "268:\tlearn: 1536.0764367\ttotal: 55.3s\tremaining: 2m 30s\n",
      "269:\tlearn: 1535.3133045\ttotal: 55.6s\tremaining: 2m 30s\n",
      "270:\tlearn: 1535.0969927\ttotal: 55.9s\tremaining: 2m 30s\n",
      "271:\tlearn: 1534.6329595\ttotal: 56.1s\tremaining: 2m 30s\n",
      "272:\tlearn: 1534.3686935\ttotal: 56.3s\tremaining: 2m 29s\n",
      "273:\tlearn: 1533.8854723\ttotal: 56.4s\tremaining: 2m 29s\n",
      "274:\tlearn: 1533.4075375\ttotal: 56.7s\tremaining: 2m 29s\n",
      "275:\tlearn: 1533.0740059\ttotal: 56.8s\tremaining: 2m 29s\n",
      "276:\tlearn: 1532.6103184\ttotal: 57.1s\tremaining: 2m 29s\n",
      "277:\tlearn: 1532.4830735\ttotal: 57.3s\tremaining: 2m 28s\n",
      "278:\tlearn: 1531.8947834\ttotal: 57.5s\tremaining: 2m 28s\n",
      "279:\tlearn: 1531.5714140\ttotal: 57.7s\tremaining: 2m 28s\n",
      "280:\tlearn: 1531.1676597\ttotal: 57.9s\tremaining: 2m 28s\n",
      "281:\tlearn: 1530.6684233\ttotal: 58.1s\tremaining: 2m 27s\n",
      "282:\tlearn: 1530.3940894\ttotal: 58.3s\tremaining: 2m 27s\n",
      "283:\tlearn: 1529.8967337\ttotal: 58.4s\tremaining: 2m 27s\n",
      "284:\tlearn: 1529.5419033\ttotal: 58.7s\tremaining: 2m 27s\n",
      "285:\tlearn: 1529.3025450\ttotal: 58.9s\tremaining: 2m 26s\n",
      "286:\tlearn: 1528.9395470\ttotal: 59.1s\tremaining: 2m 26s\n",
      "287:\tlearn: 1528.7846411\ttotal: 59.3s\tremaining: 2m 26s\n",
      "288:\tlearn: 1528.5002997\ttotal: 59.4s\tremaining: 2m 26s\n",
      "289:\tlearn: 1528.0746914\ttotal: 59.6s\tremaining: 2m 25s\n",
      "290:\tlearn: 1527.7034899\ttotal: 59.8s\tremaining: 2m 25s\n",
      "291:\tlearn: 1527.3305815\ttotal: 1m\tremaining: 2m 25s\n",
      "292:\tlearn: 1526.8710853\ttotal: 1m\tremaining: 2m 25s\n",
      "293:\tlearn: 1526.4893895\ttotal: 1m\tremaining: 2m 25s\n",
      "294:\tlearn: 1526.3130617\ttotal: 1m\tremaining: 2m 25s\n",
      "295:\tlearn: 1525.9035883\ttotal: 1m\tremaining: 2m 25s\n",
      "296:\tlearn: 1525.5692392\ttotal: 1m 1s\tremaining: 2m 24s\n",
      "297:\tlearn: 1525.3516091\ttotal: 1m 1s\tremaining: 2m 24s\n",
      "298:\tlearn: 1525.1468688\ttotal: 1m 1s\tremaining: 2m 24s\n",
      "299:\tlearn: 1524.9880416\ttotal: 1m 1s\tremaining: 2m 24s\n",
      "300:\tlearn: 1524.8366667\ttotal: 1m 2s\tremaining: 2m 24s\n",
      "301:\tlearn: 1524.5413881\ttotal: 1m 2s\tremaining: 2m 23s\n",
      "302:\tlearn: 1524.3605592\ttotal: 1m 2s\tremaining: 2m 23s\n",
      "303:\tlearn: 1524.2269779\ttotal: 1m 2s\tremaining: 2m 23s\n",
      "304:\tlearn: 1523.8778562\ttotal: 1m 2s\tremaining: 2m 23s\n",
      "305:\tlearn: 1523.5223808\ttotal: 1m 3s\tremaining: 2m 23s\n",
      "306:\tlearn: 1523.1723206\ttotal: 1m 3s\tremaining: 2m 23s\n",
      "307:\tlearn: 1523.0440509\ttotal: 1m 3s\tremaining: 2m 22s\n",
      "308:\tlearn: 1522.7808783\ttotal: 1m 3s\tremaining: 2m 22s\n",
      "309:\tlearn: 1522.5668550\ttotal: 1m 4s\tremaining: 2m 22s\n",
      "310:\tlearn: 1522.1722986\ttotal: 1m 4s\tremaining: 2m 22s\n",
      "311:\tlearn: 1521.8331648\ttotal: 1m 4s\tremaining: 2m 22s\n",
      "312:\tlearn: 1521.5313686\ttotal: 1m 4s\tremaining: 2m 22s\n",
      "313:\tlearn: 1521.2685340\ttotal: 1m 5s\tremaining: 2m 22s\n",
      "314:\tlearn: 1520.9559192\ttotal: 1m 5s\tremaining: 2m 21s\n",
      "315:\tlearn: 1520.7635214\ttotal: 1m 5s\tremaining: 2m 21s\n",
      "316:\tlearn: 1520.4676895\ttotal: 1m 5s\tremaining: 2m 21s\n",
      "317:\tlearn: 1520.2474833\ttotal: 1m 5s\tremaining: 2m 21s\n",
      "318:\tlearn: 1520.0429098\ttotal: 1m 6s\tremaining: 2m 20s\n",
      "319:\tlearn: 1519.7924892\ttotal: 1m 6s\tremaining: 2m 20s\n",
      "320:\tlearn: 1519.5951974\ttotal: 1m 6s\tremaining: 2m 20s\n",
      "321:\tlearn: 1519.3584775\ttotal: 1m 6s\tremaining: 2m 20s\n",
      "322:\tlearn: 1518.9167922\ttotal: 1m 6s\tremaining: 2m 20s\n",
      "323:\tlearn: 1518.8481009\ttotal: 1m 7s\tremaining: 2m 19s\n",
      "324:\tlearn: 1518.3853075\ttotal: 1m 7s\tremaining: 2m 19s\n",
      "325:\tlearn: 1518.2496085\ttotal: 1m 7s\tremaining: 2m 19s\n",
      "326:\tlearn: 1518.0896242\ttotal: 1m 7s\tremaining: 2m 19s\n",
      "327:\tlearn: 1517.7217941\ttotal: 1m 7s\tremaining: 2m 19s\n",
      "328:\tlearn: 1517.4940214\ttotal: 1m 8s\tremaining: 2m 18s\n",
      "329:\tlearn: 1517.1432505\ttotal: 1m 8s\tremaining: 2m 18s\n",
      "330:\tlearn: 1516.8158511\ttotal: 1m 8s\tremaining: 2m 18s\n",
      "331:\tlearn: 1516.5132134\ttotal: 1m 8s\tremaining: 2m 18s\n",
      "332:\tlearn: 1516.3932207\ttotal: 1m 9s\tremaining: 2m 18s\n",
      "333:\tlearn: 1516.0806857\ttotal: 1m 9s\tremaining: 2m 18s\n",
      "334:\tlearn: 1515.7660870\ttotal: 1m 9s\tremaining: 2m 17s\n",
      "335:\tlearn: 1515.6144690\ttotal: 1m 9s\tremaining: 2m 17s\n",
      "336:\tlearn: 1515.4837296\ttotal: 1m 9s\tremaining: 2m 17s\n",
      "337:\tlearn: 1514.9644974\ttotal: 1m 10s\tremaining: 2m 17s\n",
      "338:\tlearn: 1514.8465797\ttotal: 1m 10s\tremaining: 2m 16s\n",
      "339:\tlearn: 1514.7610224\ttotal: 1m 10s\tremaining: 2m 16s\n",
      "340:\tlearn: 1514.3966488\ttotal: 1m 10s\tremaining: 2m 16s\n",
      "341:\tlearn: 1514.1206639\ttotal: 1m 10s\tremaining: 2m 16s\n",
      "342:\tlearn: 1513.5600041\ttotal: 1m 11s\tremaining: 2m 16s\n",
      "343:\tlearn: 1513.1649111\ttotal: 1m 11s\tremaining: 2m 15s\n",
      "344:\tlearn: 1512.8771398\ttotal: 1m 11s\tremaining: 2m 15s\n",
      "345:\tlearn: 1512.7854771\ttotal: 1m 11s\tremaining: 2m 15s\n",
      "346:\tlearn: 1512.1606546\ttotal: 1m 11s\tremaining: 2m 15s\n",
      "347:\tlearn: 1512.0687500\ttotal: 1m 11s\tremaining: 2m 14s\n",
      "348:\tlearn: 1511.6335477\ttotal: 1m 12s\tremaining: 2m 14s\n",
      "349:\tlearn: 1511.4864045\ttotal: 1m 12s\tremaining: 2m 14s\n",
      "350:\tlearn: 1511.0870220\ttotal: 1m 12s\tremaining: 2m 14s\n",
      "351:\tlearn: 1510.7376976\ttotal: 1m 12s\tremaining: 2m 14s\n",
      "352:\tlearn: 1510.4997031\ttotal: 1m 13s\tremaining: 2m 13s\n",
      "353:\tlearn: 1510.2367811\ttotal: 1m 13s\tremaining: 2m 13s\n",
      "354:\tlearn: 1509.9837956\ttotal: 1m 13s\tremaining: 2m 13s\n",
      "355:\tlearn: 1509.5005243\ttotal: 1m 13s\tremaining: 2m 13s\n",
      "356:\tlearn: 1508.9902116\ttotal: 1m 13s\tremaining: 2m 12s\n",
      "357:\tlearn: 1508.4647469\ttotal: 1m 14s\tremaining: 2m 12s\n",
      "358:\tlearn: 1508.2278843\ttotal: 1m 14s\tremaining: 2m 12s\n",
      "359:\tlearn: 1507.8929940\ttotal: 1m 14s\tremaining: 2m 12s\n",
      "360:\tlearn: 1507.6312533\ttotal: 1m 14s\tremaining: 2m 12s\n",
      "361:\tlearn: 1507.2973726\ttotal: 1m 14s\tremaining: 2m 12s\n",
      "362:\tlearn: 1507.1023154\ttotal: 1m 15s\tremaining: 2m 11s\n",
      "363:\tlearn: 1506.9245338\ttotal: 1m 15s\tremaining: 2m 11s\n",
      "364:\tlearn: 1506.8005588\ttotal: 1m 15s\tremaining: 2m 11s\n",
      "365:\tlearn: 1506.5820644\ttotal: 1m 15s\tremaining: 2m 11s\n",
      "366:\tlearn: 1506.4045619\ttotal: 1m 15s\tremaining: 2m 10s\n",
      "367:\tlearn: 1506.0811264\ttotal: 1m 16s\tremaining: 2m 10s\n",
      "368:\tlearn: 1505.9700690\ttotal: 1m 16s\tremaining: 2m 10s\n",
      "369:\tlearn: 1505.4968359\ttotal: 1m 16s\tremaining: 2m 10s\n",
      "370:\tlearn: 1505.2096736\ttotal: 1m 16s\tremaining: 2m 10s\n",
      "371:\tlearn: 1504.8550118\ttotal: 1m 16s\tremaining: 2m 9s\n",
      "372:\tlearn: 1504.7063632\ttotal: 1m 17s\tremaining: 2m 9s\n",
      "373:\tlearn: 1504.5041031\ttotal: 1m 17s\tremaining: 2m 9s\n",
      "374:\tlearn: 1504.1347744\ttotal: 1m 17s\tremaining: 2m 9s\n",
      "375:\tlearn: 1503.9887199\ttotal: 1m 17s\tremaining: 2m 9s\n",
      "376:\tlearn: 1503.7311703\ttotal: 1m 18s\tremaining: 2m 8s\n",
      "377:\tlearn: 1503.4598973\ttotal: 1m 18s\tremaining: 2m 8s\n",
      "378:\tlearn: 1503.2078414\ttotal: 1m 18s\tremaining: 2m 8s\n",
      "379:\tlearn: 1502.9390566\ttotal: 1m 18s\tremaining: 2m 8s\n",
      "380:\tlearn: 1502.7254270\ttotal: 1m 18s\tremaining: 2m 8s\n",
      "381:\tlearn: 1502.4921102\ttotal: 1m 19s\tremaining: 2m 8s\n",
      "382:\tlearn: 1502.0420414\ttotal: 1m 19s\tremaining: 2m 7s\n",
      "383:\tlearn: 1501.7357400\ttotal: 1m 19s\tremaining: 2m 7s\n",
      "384:\tlearn: 1501.4007538\ttotal: 1m 19s\tremaining: 2m 7s\n",
      "385:\tlearn: 1501.2585508\ttotal: 1m 20s\tremaining: 2m 7s\n",
      "386:\tlearn: 1501.0604544\ttotal: 1m 20s\tremaining: 2m 7s\n",
      "387:\tlearn: 1500.9281547\ttotal: 1m 20s\tremaining: 2m 6s\n",
      "388:\tlearn: 1500.7023022\ttotal: 1m 20s\tremaining: 2m 6s\n",
      "389:\tlearn: 1500.5403619\ttotal: 1m 20s\tremaining: 2m 6s\n",
      "390:\tlearn: 1500.3195298\ttotal: 1m 21s\tremaining: 2m 6s\n",
      "391:\tlearn: 1500.0487046\ttotal: 1m 21s\tremaining: 2m 6s\n",
      "392:\tlearn: 1499.9412316\ttotal: 1m 21s\tremaining: 2m 5s\n",
      "393:\tlearn: 1499.6917760\ttotal: 1m 21s\tremaining: 2m 5s\n",
      "394:\tlearn: 1499.5836313\ttotal: 1m 21s\tremaining: 2m 5s\n",
      "395:\tlearn: 1499.2571134\ttotal: 1m 21s\tremaining: 2m 5s\n",
      "396:\tlearn: 1498.7398695\ttotal: 1m 22s\tremaining: 2m 4s\n",
      "397:\tlearn: 1498.6205309\ttotal: 1m 22s\tremaining: 2m 4s\n",
      "398:\tlearn: 1498.5235251\ttotal: 1m 22s\tremaining: 2m 4s\n",
      "399:\tlearn: 1498.2889182\ttotal: 1m 22s\tremaining: 2m 4s\n",
      "400:\tlearn: 1497.8651268\ttotal: 1m 23s\tremaining: 2m 4s\n",
      "401:\tlearn: 1497.6064961\ttotal: 1m 23s\tremaining: 2m 3s\n",
      "402:\tlearn: 1497.4141210\ttotal: 1m 23s\tremaining: 2m 3s\n",
      "403:\tlearn: 1497.2519294\ttotal: 1m 23s\tremaining: 2m 3s\n",
      "404:\tlearn: 1497.0134221\ttotal: 1m 23s\tremaining: 2m 3s\n",
      "405:\tlearn: 1496.7698401\ttotal: 1m 24s\tremaining: 2m 2s\n",
      "406:\tlearn: 1496.6772839\ttotal: 1m 24s\tremaining: 2m 2s\n",
      "407:\tlearn: 1496.6581261\ttotal: 1m 24s\tremaining: 2m 2s\n",
      "408:\tlearn: 1496.5022492\ttotal: 1m 24s\tremaining: 2m 2s\n",
      "409:\tlearn: 1496.2704775\ttotal: 1m 24s\tremaining: 2m 2s\n",
      "410:\tlearn: 1496.1910692\ttotal: 1m 25s\tremaining: 2m 1s\n",
      "411:\tlearn: 1496.1636523\ttotal: 1m 25s\tremaining: 2m 1s\n",
      "412:\tlearn: 1496.0794441\ttotal: 1m 25s\tremaining: 2m 1s\n",
      "413:\tlearn: 1495.8597901\ttotal: 1m 25s\tremaining: 2m 1s\n",
      "414:\tlearn: 1495.5360230\ttotal: 1m 26s\tremaining: 2m 1s\n",
      "415:\tlearn: 1495.3578428\ttotal: 1m 26s\tremaining: 2m 1s\n",
      "416:\tlearn: 1494.9048086\ttotal: 1m 26s\tremaining: 2m\n",
      "417:\tlearn: 1494.6488618\ttotal: 1m 26s\tremaining: 2m\n",
      "418:\tlearn: 1494.4807583\ttotal: 1m 26s\tremaining: 2m\n",
      "419:\tlearn: 1494.4775883\ttotal: 1m 27s\tremaining: 2m\n",
      "420:\tlearn: 1494.3450349\ttotal: 1m 27s\tremaining: 2m\n",
      "421:\tlearn: 1494.0630862\ttotal: 1m 27s\tremaining: 1m 59s\n",
      "422:\tlearn: 1493.7605513\ttotal: 1m 27s\tremaining: 1m 59s\n",
      "423:\tlearn: 1493.5608339\ttotal: 1m 27s\tremaining: 1m 59s\n",
      "424:\tlearn: 1493.3888278\ttotal: 1m 28s\tremaining: 1m 59s\n",
      "425:\tlearn: 1493.2055709\ttotal: 1m 28s\tremaining: 1m 58s\n",
      "426:\tlearn: 1493.0374232\ttotal: 1m 28s\tremaining: 1m 58s\n",
      "427:\tlearn: 1492.9887826\ttotal: 1m 28s\tremaining: 1m 58s\n",
      "428:\tlearn: 1492.8206751\ttotal: 1m 28s\tremaining: 1m 58s\n",
      "429:\tlearn: 1492.5219799\ttotal: 1m 29s\tremaining: 1m 58s\n",
      "430:\tlearn: 1492.1659565\ttotal: 1m 29s\tremaining: 1m 57s\n",
      "431:\tlearn: 1492.0194152\ttotal: 1m 29s\tremaining: 1m 57s\n",
      "432:\tlearn: 1491.7558306\ttotal: 1m 29s\tremaining: 1m 57s\n",
      "433:\tlearn: 1491.4813263\ttotal: 1m 29s\tremaining: 1m 57s\n",
      "434:\tlearn: 1491.4534631\ttotal: 1m 30s\tremaining: 1m 57s\n",
      "435:\tlearn: 1491.2775341\ttotal: 1m 30s\tremaining: 1m 56s\n",
      "436:\tlearn: 1491.2148074\ttotal: 1m 30s\tremaining: 1m 56s\n",
      "437:\tlearn: 1491.0565130\ttotal: 1m 30s\tremaining: 1m 56s\n",
      "438:\tlearn: 1491.0188800\ttotal: 1m 31s\tremaining: 1m 56s\n",
      "439:\tlearn: 1490.7946720\ttotal: 1m 31s\tremaining: 1m 56s\n",
      "440:\tlearn: 1490.5788678\ttotal: 1m 31s\tremaining: 1m 56s\n",
      "441:\tlearn: 1490.3902944\ttotal: 1m 31s\tremaining: 1m 55s\n",
      "442:\tlearn: 1490.0579454\ttotal: 1m 32s\tremaining: 1m 55s\n",
      "443:\tlearn: 1489.7979701\ttotal: 1m 32s\tremaining: 1m 55s\n",
      "444:\tlearn: 1489.6446371\ttotal: 1m 32s\tremaining: 1m 55s\n",
      "445:\tlearn: 1489.6413444\ttotal: 1m 32s\tremaining: 1m 55s\n",
      "446:\tlearn: 1489.2031933\ttotal: 1m 32s\tremaining: 1m 54s\n",
      "447:\tlearn: 1489.1440820\ttotal: 1m 33s\tremaining: 1m 54s\n",
      "448:\tlearn: 1488.9761069\ttotal: 1m 33s\tremaining: 1m 54s\n",
      "449:\tlearn: 1488.8072381\ttotal: 1m 33s\tremaining: 1m 54s\n",
      "450:\tlearn: 1488.4547826\ttotal: 1m 33s\tremaining: 1m 54s\n",
      "451:\tlearn: 1488.1716897\ttotal: 1m 34s\tremaining: 1m 54s\n",
      "452:\tlearn: 1488.0685735\ttotal: 1m 34s\tremaining: 1m 53s\n",
      "453:\tlearn: 1487.9366725\ttotal: 1m 34s\tremaining: 1m 53s\n",
      "454:\tlearn: 1487.9268979\ttotal: 1m 34s\tremaining: 1m 53s\n",
      "455:\tlearn: 1487.7982899\ttotal: 1m 34s\tremaining: 1m 53s\n",
      "456:\tlearn: 1487.5670126\ttotal: 1m 35s\tremaining: 1m 53s\n",
      "457:\tlearn: 1487.5119421\ttotal: 1m 35s\tremaining: 1m 52s\n",
      "458:\tlearn: 1487.3214625\ttotal: 1m 35s\tremaining: 1m 52s\n",
      "459:\tlearn: 1487.2920716\ttotal: 1m 35s\tremaining: 1m 52s\n",
      "460:\tlearn: 1487.2859742\ttotal: 1m 35s\tremaining: 1m 52s\n",
      "461:\tlearn: 1487.0903756\ttotal: 1m 36s\tremaining: 1m 51s\n",
      "462:\tlearn: 1487.0395987\ttotal: 1m 36s\tremaining: 1m 51s\n",
      "463:\tlearn: 1486.9834054\ttotal: 1m 36s\tremaining: 1m 51s\n",
      "464:\tlearn: 1486.8084390\ttotal: 1m 36s\tremaining: 1m 51s\n",
      "465:\tlearn: 1486.4019725\ttotal: 1m 37s\tremaining: 1m 51s\n",
      "466:\tlearn: 1486.1226825\ttotal: 1m 37s\tremaining: 1m 51s\n",
      "467:\tlearn: 1485.9072185\ttotal: 1m 37s\tremaining: 1m 50s\n",
      "468:\tlearn: 1485.5820846\ttotal: 1m 37s\tremaining: 1m 50s\n",
      "469:\tlearn: 1485.4591178\ttotal: 1m 37s\tremaining: 1m 50s\n",
      "470:\tlearn: 1485.3947116\ttotal: 1m 38s\tremaining: 1m 50s\n",
      "471:\tlearn: 1485.3512479\ttotal: 1m 38s\tremaining: 1m 50s\n",
      "472:\tlearn: 1485.0891860\ttotal: 1m 38s\tremaining: 1m 49s\n",
      "473:\tlearn: 1484.9161128\ttotal: 1m 38s\tremaining: 1m 49s\n",
      "474:\tlearn: 1484.7669483\ttotal: 1m 39s\tremaining: 1m 49s\n",
      "475:\tlearn: 1484.3788052\ttotal: 1m 39s\tremaining: 1m 49s\n",
      "476:\tlearn: 1484.2588248\ttotal: 1m 39s\tremaining: 1m 49s\n",
      "477:\tlearn: 1484.0834024\ttotal: 1m 39s\tremaining: 1m 48s\n",
      "478:\tlearn: 1484.0441877\ttotal: 1m 39s\tremaining: 1m 48s\n",
      "479:\tlearn: 1483.7176565\ttotal: 1m 39s\tremaining: 1m 48s\n",
      "480:\tlearn: 1483.4999856\ttotal: 1m 40s\tremaining: 1m 48s\n",
      "481:\tlearn: 1483.3984445\ttotal: 1m 40s\tremaining: 1m 47s\n",
      "482:\tlearn: 1483.2326704\ttotal: 1m 40s\tremaining: 1m 47s\n",
      "483:\tlearn: 1483.1030373\ttotal: 1m 40s\tremaining: 1m 47s\n",
      "484:\tlearn: 1482.8959663\ttotal: 1m 40s\tremaining: 1m 47s\n",
      "485:\tlearn: 1482.6692760\ttotal: 1m 41s\tremaining: 1m 46s\n",
      "486:\tlearn: 1482.5182965\ttotal: 1m 41s\tremaining: 1m 46s\n",
      "487:\tlearn: 1482.4502862\ttotal: 1m 41s\tremaining: 1m 46s\n",
      "488:\tlearn: 1482.2916436\ttotal: 1m 41s\tremaining: 1m 46s\n",
      "489:\tlearn: 1482.1707459\ttotal: 1m 41s\tremaining: 1m 46s\n",
      "490:\tlearn: 1482.1144191\ttotal: 1m 42s\tremaining: 1m 45s\n",
      "491:\tlearn: 1482.0107689\ttotal: 1m 42s\tremaining: 1m 45s\n",
      "492:\tlearn: 1481.8572849\ttotal: 1m 42s\tremaining: 1m 45s\n",
      "493:\tlearn: 1481.5392937\ttotal: 1m 42s\tremaining: 1m 45s\n",
      "494:\tlearn: 1481.4271869\ttotal: 1m 42s\tremaining: 1m 45s\n",
      "495:\tlearn: 1481.2476603\ttotal: 1m 43s\tremaining: 1m 44s\n",
      "496:\tlearn: 1481.1068985\ttotal: 1m 43s\tremaining: 1m 44s\n",
      "497:\tlearn: 1481.0773874\ttotal: 1m 43s\tremaining: 1m 44s\n",
      "498:\tlearn: 1481.0225890\ttotal: 1m 43s\tremaining: 1m 44s\n",
      "499:\tlearn: 1480.6112930\ttotal: 1m 43s\tremaining: 1m 43s\n",
      "500:\tlearn: 1480.3095868\ttotal: 1m 44s\tremaining: 1m 43s\n",
      "501:\tlearn: 1479.9273204\ttotal: 1m 44s\tremaining: 1m 43s\n",
      "502:\tlearn: 1479.6097615\ttotal: 1m 44s\tremaining: 1m 43s\n",
      "503:\tlearn: 1479.4878537\ttotal: 1m 44s\tremaining: 1m 43s\n",
      "504:\tlearn: 1479.4108335\ttotal: 1m 45s\tremaining: 1m 43s\n",
      "505:\tlearn: 1479.3904879\ttotal: 1m 45s\tremaining: 1m 42s\n",
      "506:\tlearn: 1479.2483673\ttotal: 1m 45s\tremaining: 1m 42s\n",
      "507:\tlearn: 1479.1063027\ttotal: 1m 45s\tremaining: 1m 42s\n",
      "508:\tlearn: 1479.0091771\ttotal: 1m 45s\tremaining: 1m 42s\n",
      "509:\tlearn: 1478.8976667\ttotal: 1m 46s\tremaining: 1m 42s\n",
      "510:\tlearn: 1478.7284821\ttotal: 1m 46s\tremaining: 1m 41s\n",
      "511:\tlearn: 1478.6166310\ttotal: 1m 46s\tremaining: 1m 41s\n",
      "512:\tlearn: 1478.4837116\ttotal: 1m 46s\tremaining: 1m 41s\n",
      "513:\tlearn: 1478.2214986\ttotal: 1m 47s\tremaining: 1m 41s\n",
      "514:\tlearn: 1478.1053649\ttotal: 1m 47s\tremaining: 1m 41s\n",
      "515:\tlearn: 1477.9114979\ttotal: 1m 47s\tremaining: 1m 40s\n",
      "516:\tlearn: 1477.8778079\ttotal: 1m 47s\tremaining: 1m 40s\n",
      "517:\tlearn: 1477.6254312\ttotal: 1m 47s\tremaining: 1m 40s\n",
      "518:\tlearn: 1477.4615969\ttotal: 1m 48s\tremaining: 1m 40s\n",
      "519:\tlearn: 1477.1142270\ttotal: 1m 48s\tremaining: 1m 39s\n",
      "520:\tlearn: 1477.0146148\ttotal: 1m 48s\tremaining: 1m 39s\n",
      "521:\tlearn: 1476.9855978\ttotal: 1m 48s\tremaining: 1m 39s\n",
      "522:\tlearn: 1476.9694229\ttotal: 1m 48s\tremaining: 1m 39s\n",
      "523:\tlearn: 1476.7575969\ttotal: 1m 49s\tremaining: 1m 39s\n",
      "524:\tlearn: 1476.6691710\ttotal: 1m 49s\tremaining: 1m 38s\n",
      "525:\tlearn: 1476.5670562\ttotal: 1m 49s\tremaining: 1m 38s\n",
      "526:\tlearn: 1476.5288062\ttotal: 1m 49s\tremaining: 1m 38s\n",
      "527:\tlearn: 1476.4432357\ttotal: 1m 49s\tremaining: 1m 38s\n",
      "528:\tlearn: 1476.3645881\ttotal: 1m 50s\tremaining: 1m 38s\n",
      "529:\tlearn: 1476.2035039\ttotal: 1m 50s\tremaining: 1m 37s\n",
      "530:\tlearn: 1475.8790905\ttotal: 1m 50s\tremaining: 1m 37s\n",
      "531:\tlearn: 1475.6486180\ttotal: 1m 50s\tremaining: 1m 37s\n",
      "532:\tlearn: 1475.5903814\ttotal: 1m 51s\tremaining: 1m 37s\n",
      "533:\tlearn: 1475.5727436\ttotal: 1m 51s\tremaining: 1m 37s\n",
      "534:\tlearn: 1475.5033784\ttotal: 1m 51s\tremaining: 1m 36s\n",
      "535:\tlearn: 1475.3885392\ttotal: 1m 51s\tremaining: 1m 36s\n",
      "536:\tlearn: 1475.2390071\ttotal: 1m 51s\tremaining: 1m 36s\n",
      "537:\tlearn: 1475.0265957\ttotal: 1m 52s\tremaining: 1m 36s\n",
      "538:\tlearn: 1474.9665396\ttotal: 1m 52s\tremaining: 1m 36s\n",
      "539:\tlearn: 1474.8093986\ttotal: 1m 52s\tremaining: 1m 35s\n",
      "540:\tlearn: 1474.6156136\ttotal: 1m 52s\tremaining: 1m 35s\n",
      "541:\tlearn: 1474.3905004\ttotal: 1m 52s\tremaining: 1m 35s\n",
      "542:\tlearn: 1474.1044798\ttotal: 1m 53s\tremaining: 1m 35s\n",
      "543:\tlearn: 1473.9958560\ttotal: 1m 53s\tremaining: 1m 34s\n",
      "544:\tlearn: 1473.8872501\ttotal: 1m 53s\tremaining: 1m 34s\n",
      "545:\tlearn: 1473.6255028\ttotal: 1m 53s\tremaining: 1m 34s\n",
      "546:\tlearn: 1473.5050112\ttotal: 1m 53s\tremaining: 1m 34s\n",
      "547:\tlearn: 1473.3325112\ttotal: 1m 53s\tremaining: 1m 34s\n",
      "548:\tlearn: 1473.3291021\ttotal: 1m 54s\tremaining: 1m 33s\n",
      "549:\tlearn: 1473.1861964\ttotal: 1m 54s\tremaining: 1m 33s\n",
      "550:\tlearn: 1473.0588264\ttotal: 1m 54s\tremaining: 1m 33s\n",
      "551:\tlearn: 1472.8793706\ttotal: 1m 54s\tremaining: 1m 33s\n",
      "552:\tlearn: 1472.6954260\ttotal: 1m 55s\tremaining: 1m 33s\n",
      "553:\tlearn: 1472.3120832\ttotal: 1m 55s\tremaining: 1m 32s\n",
      "554:\tlearn: 1472.1627252\ttotal: 1m 55s\tremaining: 1m 32s\n",
      "555:\tlearn: 1471.9399704\ttotal: 1m 55s\tremaining: 1m 32s\n",
      "556:\tlearn: 1471.8434207\ttotal: 1m 56s\tremaining: 1m 32s\n",
      "557:\tlearn: 1471.7456487\ttotal: 1m 56s\tremaining: 1m 32s\n",
      "558:\tlearn: 1471.6579225\ttotal: 1m 56s\tremaining: 1m 31s\n",
      "559:\tlearn: 1471.3906719\ttotal: 1m 56s\tremaining: 1m 31s\n",
      "560:\tlearn: 1471.2039530\ttotal: 1m 56s\tremaining: 1m 31s\n",
      "561:\tlearn: 1470.9449534\ttotal: 1m 57s\tremaining: 1m 31s\n",
      "562:\tlearn: 1470.7852246\ttotal: 1m 57s\tremaining: 1m 31s\n",
      "563:\tlearn: 1470.7579720\ttotal: 1m 57s\tremaining: 1m 30s\n",
      "564:\tlearn: 1470.6155608\ttotal: 1m 57s\tremaining: 1m 30s\n",
      "565:\tlearn: 1470.4971593\ttotal: 1m 58s\tremaining: 1m 30s\n",
      "566:\tlearn: 1470.3224733\ttotal: 1m 58s\tremaining: 1m 30s\n",
      "567:\tlearn: 1470.1069659\ttotal: 1m 58s\tremaining: 1m 30s\n",
      "568:\tlearn: 1470.0241950\ttotal: 1m 58s\tremaining: 1m 29s\n",
      "569:\tlearn: 1469.9214245\ttotal: 1m 58s\tremaining: 1m 29s\n",
      "570:\tlearn: 1469.8013556\ttotal: 1m 59s\tremaining: 1m 29s\n",
      "571:\tlearn: 1469.7489928\ttotal: 1m 59s\tremaining: 1m 29s\n",
      "572:\tlearn: 1469.6827458\ttotal: 1m 59s\tremaining: 1m 29s\n",
      "573:\tlearn: 1469.6430889\ttotal: 1m 59s\tremaining: 1m 28s\n",
      "574:\tlearn: 1469.4117595\ttotal: 2m\tremaining: 1m 28s\n",
      "575:\tlearn: 1469.3316589\ttotal: 2m\tremaining: 1m 28s\n",
      "576:\tlearn: 1469.0831921\ttotal: 2m\tremaining: 1m 28s\n",
      "577:\tlearn: 1469.0743190\ttotal: 2m\tremaining: 1m 28s\n",
      "578:\tlearn: 1468.9150739\ttotal: 2m\tremaining: 1m 27s\n",
      "579:\tlearn: 1468.7512668\ttotal: 2m 1s\tremaining: 1m 27s\n",
      "580:\tlearn: 1468.3256694\ttotal: 2m 1s\tremaining: 1m 27s\n",
      "581:\tlearn: 1468.2786352\ttotal: 2m 1s\tremaining: 1m 27s\n",
      "582:\tlearn: 1468.1609303\ttotal: 2m 1s\tremaining: 1m 27s\n",
      "583:\tlearn: 1467.9323335\ttotal: 2m 1s\tremaining: 1m 26s\n",
      "584:\tlearn: 1467.8325181\ttotal: 2m 2s\tremaining: 1m 26s\n",
      "585:\tlearn: 1467.8141613\ttotal: 2m 2s\tremaining: 1m 26s\n",
      "586:\tlearn: 1467.5921217\ttotal: 2m 2s\tremaining: 1m 26s\n",
      "587:\tlearn: 1467.4117888\ttotal: 2m 2s\tremaining: 1m 26s\n",
      "588:\tlearn: 1467.3985315\ttotal: 2m 2s\tremaining: 1m 25s\n",
      "589:\tlearn: 1467.3410036\ttotal: 2m 3s\tremaining: 1m 25s\n",
      "590:\tlearn: 1467.2218188\ttotal: 2m 3s\tremaining: 1m 25s\n",
      "591:\tlearn: 1467.1741157\ttotal: 2m 3s\tremaining: 1m 25s\n",
      "592:\tlearn: 1467.0747902\ttotal: 2m 3s\tremaining: 1m 24s\n",
      "593:\tlearn: 1467.0423565\ttotal: 2m 4s\tremaining: 1m 24s\n",
      "594:\tlearn: 1466.8253047\ttotal: 2m 4s\tremaining: 1m 24s\n",
      "595:\tlearn: 1466.7512015\ttotal: 2m 4s\tremaining: 1m 24s\n",
      "596:\tlearn: 1466.7448305\ttotal: 2m 4s\tremaining: 1m 24s\n",
      "597:\tlearn: 1466.6743244\ttotal: 2m 4s\tremaining: 1m 23s\n",
      "598:\tlearn: 1466.5007220\ttotal: 2m 5s\tremaining: 1m 23s\n",
      "599:\tlearn: 1466.3098237\ttotal: 2m 5s\tremaining: 1m 23s\n",
      "600:\tlearn: 1466.1809678\ttotal: 2m 5s\tremaining: 1m 23s\n",
      "601:\tlearn: 1465.9913027\ttotal: 2m 5s\tremaining: 1m 23s\n",
      "602:\tlearn: 1465.7389221\ttotal: 2m 6s\tremaining: 1m 22s\n",
      "603:\tlearn: 1465.7029088\ttotal: 2m 6s\tremaining: 1m 22s\n",
      "604:\tlearn: 1465.3018420\ttotal: 2m 6s\tremaining: 1m 22s\n",
      "605:\tlearn: 1465.1886238\ttotal: 2m 6s\tremaining: 1m 22s\n",
      "606:\tlearn: 1465.1602499\ttotal: 2m 7s\tremaining: 1m 22s\n",
      "607:\tlearn: 1464.8344596\ttotal: 2m 7s\tremaining: 1m 22s\n",
      "608:\tlearn: 1464.7210329\ttotal: 2m 7s\tremaining: 1m 21s\n",
      "609:\tlearn: 1464.4102754\ttotal: 2m 7s\tremaining: 1m 21s\n",
      "610:\tlearn: 1464.3632611\ttotal: 2m 7s\tremaining: 1m 21s\n",
      "611:\tlearn: 1464.2032196\ttotal: 2m 7s\tremaining: 1m 21s\n",
      "612:\tlearn: 1464.0112908\ttotal: 2m 8s\tremaining: 1m 20s\n",
      "613:\tlearn: 1463.8933086\ttotal: 2m 8s\tremaining: 1m 20s\n",
      "614:\tlearn: 1463.5781837\ttotal: 2m 8s\tremaining: 1m 20s\n",
      "615:\tlearn: 1463.4648156\ttotal: 2m 8s\tremaining: 1m 20s\n",
      "616:\tlearn: 1463.4491822\ttotal: 2m 9s\tremaining: 1m 20s\n",
      "617:\tlearn: 1463.3830174\ttotal: 2m 9s\tremaining: 1m 19s\n",
      "618:\tlearn: 1463.1146528\ttotal: 2m 9s\tremaining: 1m 19s\n",
      "619:\tlearn: 1463.0442902\ttotal: 2m 9s\tremaining: 1m 19s\n",
      "620:\tlearn: 1462.9500798\ttotal: 2m 10s\tremaining: 1m 19s\n",
      "621:\tlearn: 1462.8079419\ttotal: 2m 10s\tremaining: 1m 19s\n",
      "622:\tlearn: 1462.7059190\ttotal: 2m 10s\tremaining: 1m 18s\n",
      "623:\tlearn: 1462.5653220\ttotal: 2m 10s\tremaining: 1m 18s\n",
      "624:\tlearn: 1462.3497183\ttotal: 2m 11s\tremaining: 1m 18s\n",
      "625:\tlearn: 1462.2683781\ttotal: 2m 11s\tremaining: 1m 18s\n",
      "626:\tlearn: 1462.1838532\ttotal: 2m 11s\tremaining: 1m 18s\n",
      "627:\tlearn: 1462.0215559\ttotal: 2m 11s\tremaining: 1m 18s\n",
      "628:\tlearn: 1461.8731705\ttotal: 2m 11s\tremaining: 1m 17s\n",
      "629:\tlearn: 1461.7829829\ttotal: 2m 12s\tremaining: 1m 17s\n",
      "630:\tlearn: 1461.6557185\ttotal: 2m 12s\tremaining: 1m 17s\n",
      "631:\tlearn: 1461.6234625\ttotal: 2m 12s\tremaining: 1m 17s\n",
      "632:\tlearn: 1461.5293364\ttotal: 2m 12s\tremaining: 1m 16s\n",
      "633:\tlearn: 1461.4130290\ttotal: 2m 12s\tremaining: 1m 16s\n",
      "634:\tlearn: 1461.1565139\ttotal: 2m 13s\tremaining: 1m 16s\n",
      "635:\tlearn: 1460.9320710\ttotal: 2m 13s\tremaining: 1m 16s\n",
      "636:\tlearn: 1460.7464949\ttotal: 2m 13s\tremaining: 1m 16s\n",
      "637:\tlearn: 1460.5439735\ttotal: 2m 13s\tremaining: 1m 15s\n",
      "638:\tlearn: 1460.5063973\ttotal: 2m 13s\tremaining: 1m 15s\n",
      "639:\tlearn: 1460.4066697\ttotal: 2m 14s\tremaining: 1m 15s\n",
      "640:\tlearn: 1460.1864239\ttotal: 2m 14s\tremaining: 1m 15s\n",
      "641:\tlearn: 1460.0397555\ttotal: 2m 14s\tremaining: 1m 15s\n",
      "642:\tlearn: 1459.7451714\ttotal: 2m 14s\tremaining: 1m 14s\n",
      "643:\tlearn: 1459.5334222\ttotal: 2m 14s\tremaining: 1m 14s\n",
      "644:\tlearn: 1459.4841628\ttotal: 2m 15s\tremaining: 1m 14s\n",
      "645:\tlearn: 1459.4027684\ttotal: 2m 15s\tremaining: 1m 14s\n",
      "646:\tlearn: 1459.3434141\ttotal: 2m 15s\tremaining: 1m 13s\n",
      "647:\tlearn: 1459.2637170\ttotal: 2m 15s\tremaining: 1m 13s\n",
      "648:\tlearn: 1459.2159675\ttotal: 2m 15s\tremaining: 1m 13s\n",
      "649:\tlearn: 1459.1335167\ttotal: 2m 16s\tremaining: 1m 13s\n",
      "650:\tlearn: 1459.0003534\ttotal: 2m 16s\tremaining: 1m 13s\n",
      "651:\tlearn: 1458.8557553\ttotal: 2m 16s\tremaining: 1m 12s\n",
      "652:\tlearn: 1458.7788256\ttotal: 2m 16s\tremaining: 1m 12s\n",
      "653:\tlearn: 1458.7018399\ttotal: 2m 16s\tremaining: 1m 12s\n",
      "654:\tlearn: 1458.6910898\ttotal: 2m 17s\tremaining: 1m 12s\n",
      "655:\tlearn: 1458.6071614\ttotal: 2m 17s\tremaining: 1m 12s\n",
      "656:\tlearn: 1458.3975453\ttotal: 2m 17s\tremaining: 1m 11s\n",
      "657:\tlearn: 1458.1451074\ttotal: 2m 17s\tremaining: 1m 11s\n",
      "658:\tlearn: 1457.9212786\ttotal: 2m 18s\tremaining: 1m 11s\n",
      "659:\tlearn: 1457.6709276\ttotal: 2m 18s\tremaining: 1m 11s\n",
      "660:\tlearn: 1457.6365608\ttotal: 2m 18s\tremaining: 1m 11s\n",
      "661:\tlearn: 1457.5129086\ttotal: 2m 18s\tremaining: 1m 10s\n",
      "662:\tlearn: 1457.3681321\ttotal: 2m 18s\tremaining: 1m 10s\n",
      "663:\tlearn: 1457.1933720\ttotal: 2m 19s\tremaining: 1m 10s\n",
      "664:\tlearn: 1456.9867422\ttotal: 2m 19s\tremaining: 1m 10s\n",
      "665:\tlearn: 1456.9641808\ttotal: 2m 19s\tremaining: 1m 9s\n",
      "666:\tlearn: 1456.9363396\ttotal: 2m 19s\tremaining: 1m 9s\n",
      "667:\tlearn: 1456.8906371\ttotal: 2m 19s\tremaining: 1m 9s\n",
      "668:\tlearn: 1456.7257206\ttotal: 2m 20s\tremaining: 1m 9s\n",
      "669:\tlearn: 1456.5984747\ttotal: 2m 20s\tremaining: 1m 9s\n",
      "670:\tlearn: 1456.5098760\ttotal: 2m 20s\tremaining: 1m 8s\n",
      "671:\tlearn: 1456.3039180\ttotal: 2m 20s\tremaining: 1m 8s\n",
      "672:\tlearn: 1456.1847639\ttotal: 2m 20s\tremaining: 1m 8s\n",
      "673:\tlearn: 1456.0842574\ttotal: 2m 21s\tremaining: 1m 8s\n",
      "674:\tlearn: 1455.9690196\ttotal: 2m 21s\tremaining: 1m 8s\n",
      "675:\tlearn: 1455.9168844\ttotal: 2m 21s\tremaining: 1m 7s\n",
      "676:\tlearn: 1455.8721310\ttotal: 2m 21s\tremaining: 1m 7s\n",
      "677:\tlearn: 1455.7412717\ttotal: 2m 21s\tremaining: 1m 7s\n",
      "678:\tlearn: 1455.6527305\ttotal: 2m 22s\tremaining: 1m 7s\n",
      "679:\tlearn: 1455.5164679\ttotal: 2m 22s\tremaining: 1m 6s\n",
      "680:\tlearn: 1455.4145689\ttotal: 2m 22s\tremaining: 1m 6s\n",
      "681:\tlearn: 1455.3209022\ttotal: 2m 22s\tremaining: 1m 6s\n",
      "682:\tlearn: 1455.1448470\ttotal: 2m 22s\tremaining: 1m 6s\n",
      "683:\tlearn: 1454.9932247\ttotal: 2m 23s\tremaining: 1m 6s\n",
      "684:\tlearn: 1454.9058747\ttotal: 2m 23s\tremaining: 1m 5s\n",
      "685:\tlearn: 1454.7502667\ttotal: 2m 23s\tremaining: 1m 5s\n",
      "686:\tlearn: 1454.6563369\ttotal: 2m 23s\tremaining: 1m 5s\n",
      "687:\tlearn: 1454.4792181\ttotal: 2m 23s\tremaining: 1m 5s\n",
      "688:\tlearn: 1454.2586376\ttotal: 2m 24s\tremaining: 1m 5s\n",
      "689:\tlearn: 1454.1568578\ttotal: 2m 24s\tremaining: 1m 4s\n",
      "690:\tlearn: 1454.1428954\ttotal: 2m 24s\tremaining: 1m 4s\n",
      "691:\tlearn: 1453.9665904\ttotal: 2m 24s\tremaining: 1m 4s\n",
      "692:\tlearn: 1453.6984266\ttotal: 2m 25s\tremaining: 1m 4s\n",
      "693:\tlearn: 1453.6601417\ttotal: 2m 25s\tremaining: 1m 4s\n",
      "694:\tlearn: 1453.5574020\ttotal: 2m 25s\tremaining: 1m 3s\n",
      "695:\tlearn: 1453.5003558\ttotal: 2m 25s\tremaining: 1m 3s\n",
      "696:\tlearn: 1453.2984159\ttotal: 2m 25s\tremaining: 1m 3s\n",
      "697:\tlearn: 1453.2800090\ttotal: 2m 26s\tremaining: 1m 3s\n",
      "698:\tlearn: 1453.1911157\ttotal: 2m 26s\tremaining: 1m 2s\n",
      "699:\tlearn: 1453.0740506\ttotal: 2m 26s\tremaining: 1m 2s\n",
      "700:\tlearn: 1452.8771641\ttotal: 2m 26s\tremaining: 1m 2s\n",
      "701:\tlearn: 1452.7779317\ttotal: 2m 26s\tremaining: 1m 2s\n",
      "702:\tlearn: 1452.6506011\ttotal: 2m 27s\tremaining: 1m 2s\n",
      "703:\tlearn: 1452.6042087\ttotal: 2m 27s\tremaining: 1m 2s\n",
      "704:\tlearn: 1452.4785196\ttotal: 2m 27s\tremaining: 1m 1s\n",
      "705:\tlearn: 1452.4653799\ttotal: 2m 27s\tremaining: 1m 1s\n",
      "706:\tlearn: 1452.4065129\ttotal: 2m 28s\tremaining: 1m 1s\n",
      "707:\tlearn: 1452.2870950\ttotal: 2m 28s\tremaining: 1m 1s\n",
      "708:\tlearn: 1452.1295514\ttotal: 2m 28s\tremaining: 1m\n",
      "709:\tlearn: 1452.0919634\ttotal: 2m 28s\tremaining: 1m\n",
      "710:\tlearn: 1452.0008667\ttotal: 2m 28s\tremaining: 1m\n",
      "711:\tlearn: 1451.8365119\ttotal: 2m 29s\tremaining: 1m\n",
      "712:\tlearn: 1451.7436621\ttotal: 2m 29s\tremaining: 1m\n",
      "713:\tlearn: 1451.5902488\ttotal: 2m 29s\tremaining: 59.9s\n",
      "714:\tlearn: 1451.4596480\ttotal: 2m 29s\tremaining: 59.7s\n",
      "715:\tlearn: 1451.3576104\ttotal: 2m 29s\tremaining: 59.5s\n",
      "716:\tlearn: 1451.2733776\ttotal: 2m 30s\tremaining: 59.3s\n",
      "717:\tlearn: 1451.2144354\ttotal: 2m 30s\tremaining: 59.1s\n",
      "718:\tlearn: 1451.0700769\ttotal: 2m 30s\tremaining: 58.9s\n",
      "719:\tlearn: 1450.9875397\ttotal: 2m 30s\tremaining: 58.7s\n",
      "720:\tlearn: 1450.9061776\ttotal: 2m 31s\tremaining: 58.5s\n",
      "721:\tlearn: 1450.4833979\ttotal: 2m 31s\tremaining: 58.3s\n",
      "722:\tlearn: 1450.4669124\ttotal: 2m 31s\tremaining: 58.1s\n",
      "723:\tlearn: 1450.3763244\ttotal: 2m 31s\tremaining: 57.9s\n",
      "724:\tlearn: 1450.3554381\ttotal: 2m 31s\tremaining: 57.7s\n",
      "725:\tlearn: 1450.3115246\ttotal: 2m 32s\tremaining: 57.4s\n",
      "726:\tlearn: 1450.1575568\ttotal: 2m 32s\tremaining: 57.2s\n",
      "727:\tlearn: 1450.0472789\ttotal: 2m 32s\tremaining: 57s\n",
      "728:\tlearn: 1449.9550240\ttotal: 2m 32s\tremaining: 56.8s\n",
      "729:\tlearn: 1449.7600531\ttotal: 2m 33s\tremaining: 56.6s\n",
      "730:\tlearn: 1449.6428645\ttotal: 2m 33s\tremaining: 56.5s\n",
      "731:\tlearn: 1449.5315042\ttotal: 2m 33s\tremaining: 56.3s\n",
      "732:\tlearn: 1449.3680156\ttotal: 2m 33s\tremaining: 56.1s\n",
      "733:\tlearn: 1449.2693895\ttotal: 2m 34s\tremaining: 55.9s\n",
      "734:\tlearn: 1449.2010384\ttotal: 2m 34s\tremaining: 55.7s\n",
      "735:\tlearn: 1449.0360261\ttotal: 2m 34s\tremaining: 55.5s\n",
      "736:\tlearn: 1449.0074165\ttotal: 2m 34s\tremaining: 55.3s\n",
      "737:\tlearn: 1448.7544680\ttotal: 2m 35s\tremaining: 55.1s\n",
      "738:\tlearn: 1448.7474094\ttotal: 2m 35s\tremaining: 54.8s\n",
      "739:\tlearn: 1448.5355929\ttotal: 2m 35s\tremaining: 54.6s\n",
      "740:\tlearn: 1448.4264966\ttotal: 2m 35s\tremaining: 54.4s\n",
      "741:\tlearn: 1448.3289863\ttotal: 2m 35s\tremaining: 54.2s\n",
      "742:\tlearn: 1448.2280123\ttotal: 2m 36s\tremaining: 54s\n",
      "743:\tlearn: 1448.1292715\ttotal: 2m 36s\tremaining: 53.8s\n",
      "744:\tlearn: 1447.8054446\ttotal: 2m 36s\tremaining: 53.5s\n",
      "745:\tlearn: 1447.6561843\ttotal: 2m 36s\tremaining: 53.3s\n",
      "746:\tlearn: 1447.6020107\ttotal: 2m 36s\tremaining: 53.1s\n",
      "747:\tlearn: 1447.3412825\ttotal: 2m 36s\tremaining: 52.9s\n",
      "748:\tlearn: 1447.1785764\ttotal: 2m 37s\tremaining: 52.7s\n",
      "749:\tlearn: 1446.9789377\ttotal: 2m 37s\tremaining: 52.4s\n",
      "750:\tlearn: 1446.8550628\ttotal: 2m 37s\tremaining: 52.2s\n",
      "751:\tlearn: 1446.8135017\ttotal: 2m 37s\tremaining: 52s\n",
      "752:\tlearn: 1446.7394576\ttotal: 2m 37s\tremaining: 51.8s\n",
      "753:\tlearn: 1446.5911927\ttotal: 2m 38s\tremaining: 51.6s\n",
      "754:\tlearn: 1446.3346828\ttotal: 2m 38s\tremaining: 51.4s\n",
      "755:\tlearn: 1446.3154233\ttotal: 2m 38s\tremaining: 51.2s\n",
      "756:\tlearn: 1446.0757038\ttotal: 2m 38s\tremaining: 51s\n",
      "757:\tlearn: 1445.9895399\ttotal: 2m 39s\tremaining: 50.8s\n",
      "758:\tlearn: 1445.7752566\ttotal: 2m 39s\tremaining: 50.6s\n",
      "759:\tlearn: 1445.6775481\ttotal: 2m 39s\tremaining: 50.3s\n",
      "760:\tlearn: 1445.5430829\ttotal: 2m 39s\tremaining: 50.1s\n",
      "761:\tlearn: 1445.4122192\ttotal: 2m 39s\tremaining: 49.9s\n",
      "762:\tlearn: 1445.1959884\ttotal: 2m 40s\tremaining: 49.7s\n",
      "763:\tlearn: 1445.1140824\ttotal: 2m 40s\tremaining: 49.5s\n",
      "764:\tlearn: 1445.0853781\ttotal: 2m 40s\tremaining: 49.3s\n",
      "765:\tlearn: 1445.0293920\ttotal: 2m 40s\tremaining: 49.1s\n",
      "766:\tlearn: 1444.6801539\ttotal: 2m 40s\tremaining: 48.9s\n",
      "767:\tlearn: 1444.5590438\ttotal: 2m 41s\tremaining: 48.7s\n",
      "768:\tlearn: 1444.4415125\ttotal: 2m 41s\tremaining: 48.5s\n",
      "769:\tlearn: 1444.3571486\ttotal: 2m 41s\tremaining: 48.3s\n",
      "770:\tlearn: 1444.2679386\ttotal: 2m 41s\tremaining: 48.1s\n",
      "771:\tlearn: 1444.1199509\ttotal: 2m 42s\tremaining: 47.8s\n",
      "772:\tlearn: 1444.0791376\ttotal: 2m 42s\tremaining: 47.6s\n",
      "773:\tlearn: 1443.9440109\ttotal: 2m 42s\tremaining: 47.4s\n",
      "774:\tlearn: 1443.8052551\ttotal: 2m 42s\tremaining: 47.2s\n",
      "775:\tlearn: 1443.7380166\ttotal: 2m 42s\tremaining: 47s\n",
      "776:\tlearn: 1443.6219029\ttotal: 2m 43s\tremaining: 46.8s\n",
      "777:\tlearn: 1443.5837749\ttotal: 2m 43s\tremaining: 46.6s\n",
      "778:\tlearn: 1443.3207038\ttotal: 2m 43s\tremaining: 46.4s\n",
      "779:\tlearn: 1443.2290327\ttotal: 2m 43s\tremaining: 46.2s\n",
      "780:\tlearn: 1443.0627986\ttotal: 2m 43s\tremaining: 46s\n",
      "781:\tlearn: 1442.8613101\ttotal: 2m 44s\tremaining: 45.8s\n",
      "782:\tlearn: 1442.7218072\ttotal: 2m 44s\tremaining: 45.6s\n",
      "783:\tlearn: 1442.6996295\ttotal: 2m 44s\tremaining: 45.3s\n",
      "784:\tlearn: 1442.5556486\ttotal: 2m 44s\tremaining: 45.1s\n",
      "785:\tlearn: 1442.4350959\ttotal: 2m 45s\tremaining: 44.9s\n",
      "786:\tlearn: 1442.3984046\ttotal: 2m 45s\tremaining: 44.7s\n",
      "787:\tlearn: 1442.2126930\ttotal: 2m 45s\tremaining: 44.5s\n",
      "788:\tlearn: 1442.1703118\ttotal: 2m 45s\tremaining: 44.3s\n",
      "789:\tlearn: 1442.0117446\ttotal: 2m 46s\tremaining: 44.1s\n",
      "790:\tlearn: 1441.9251151\ttotal: 2m 46s\tremaining: 43.9s\n",
      "791:\tlearn: 1441.8712576\ttotal: 2m 46s\tremaining: 43.7s\n",
      "792:\tlearn: 1441.7718007\ttotal: 2m 46s\tremaining: 43.5s\n",
      "793:\tlearn: 1441.7321537\ttotal: 2m 46s\tremaining: 43.3s\n",
      "794:\tlearn: 1441.6244168\ttotal: 2m 47s\tremaining: 43.1s\n",
      "795:\tlearn: 1441.5638280\ttotal: 2m 47s\tremaining: 42.9s\n",
      "796:\tlearn: 1441.4539101\ttotal: 2m 47s\tremaining: 42.7s\n",
      "797:\tlearn: 1441.2051938\ttotal: 2m 47s\tremaining: 42.5s\n",
      "798:\tlearn: 1441.1864900\ttotal: 2m 48s\tremaining: 42.3s\n",
      "799:\tlearn: 1440.9665934\ttotal: 2m 48s\tremaining: 42.1s\n",
      "800:\tlearn: 1440.8749229\ttotal: 2m 48s\tremaining: 41.9s\n",
      "801:\tlearn: 1440.6866264\ttotal: 2m 48s\tremaining: 41.7s\n",
      "802:\tlearn: 1440.6491324\ttotal: 2m 48s\tremaining: 41.5s\n",
      "803:\tlearn: 1440.5024513\ttotal: 2m 49s\tremaining: 41.3s\n",
      "804:\tlearn: 1440.3893913\ttotal: 2m 49s\tremaining: 41s\n",
      "805:\tlearn: 1440.3524172\ttotal: 2m 49s\tremaining: 40.8s\n",
      "806:\tlearn: 1440.2566586\ttotal: 2m 49s\tremaining: 40.6s\n",
      "807:\tlearn: 1440.1116904\ttotal: 2m 50s\tremaining: 40.4s\n",
      "808:\tlearn: 1440.0128262\ttotal: 2m 50s\tremaining: 40.2s\n",
      "809:\tlearn: 1439.9939494\ttotal: 2m 50s\tremaining: 40s\n",
      "810:\tlearn: 1439.9501332\ttotal: 2m 50s\tremaining: 39.7s\n",
      "811:\tlearn: 1439.7580497\ttotal: 2m 50s\tremaining: 39.5s\n",
      "812:\tlearn: 1439.6526054\ttotal: 2m 50s\tremaining: 39.3s\n",
      "813:\tlearn: 1439.4400261\ttotal: 2m 51s\tremaining: 39.1s\n",
      "814:\tlearn: 1439.3505034\ttotal: 2m 51s\tremaining: 38.9s\n",
      "815:\tlearn: 1439.1946063\ttotal: 2m 51s\tremaining: 38.7s\n",
      "816:\tlearn: 1439.1292767\ttotal: 2m 51s\tremaining: 38.5s\n",
      "817:\tlearn: 1439.0045423\ttotal: 2m 51s\tremaining: 38.3s\n",
      "818:\tlearn: 1438.8178549\ttotal: 2m 52s\tremaining: 38s\n",
      "819:\tlearn: 1438.6576380\ttotal: 2m 52s\tremaining: 37.8s\n",
      "820:\tlearn: 1438.5878601\ttotal: 2m 52s\tremaining: 37.6s\n",
      "821:\tlearn: 1438.4616389\ttotal: 2m 52s\tremaining: 37.4s\n",
      "822:\tlearn: 1438.3597365\ttotal: 2m 53s\tremaining: 37.2s\n",
      "823:\tlearn: 1438.3010291\ttotal: 2m 53s\tremaining: 37s\n",
      "824:\tlearn: 1438.1789559\ttotal: 2m 53s\tremaining: 36.8s\n",
      "825:\tlearn: 1438.1062611\ttotal: 2m 53s\tremaining: 36.6s\n",
      "826:\tlearn: 1438.0785097\ttotal: 2m 54s\tremaining: 36.4s\n",
      "827:\tlearn: 1437.9995429\ttotal: 2m 54s\tremaining: 36.2s\n",
      "828:\tlearn: 1437.8539199\ttotal: 2m 54s\tremaining: 36s\n",
      "829:\tlearn: 1437.6388354\ttotal: 2m 54s\tremaining: 35.8s\n",
      "830:\tlearn: 1437.5958539\ttotal: 2m 55s\tremaining: 35.6s\n",
      "831:\tlearn: 1437.3368927\ttotal: 2m 55s\tremaining: 35.4s\n",
      "832:\tlearn: 1437.2353765\ttotal: 2m 55s\tremaining: 35.2s\n",
      "833:\tlearn: 1437.1603759\ttotal: 2m 55s\tremaining: 35s\n",
      "834:\tlearn: 1437.0380663\ttotal: 2m 55s\tremaining: 34.8s\n",
      "835:\tlearn: 1436.8486178\ttotal: 2m 56s\tremaining: 34.6s\n",
      "836:\tlearn: 1436.6255818\ttotal: 2m 56s\tremaining: 34.4s\n",
      "837:\tlearn: 1436.5359685\ttotal: 2m 56s\tremaining: 34.1s\n",
      "838:\tlearn: 1436.4256758\ttotal: 2m 56s\tremaining: 33.9s\n",
      "839:\tlearn: 1436.3140895\ttotal: 2m 57s\tremaining: 33.7s\n",
      "840:\tlearn: 1436.1560288\ttotal: 2m 57s\tremaining: 33.5s\n",
      "841:\tlearn: 1436.0937072\ttotal: 2m 57s\tremaining: 33.3s\n",
      "842:\tlearn: 1435.8883500\ttotal: 2m 57s\tremaining: 33.1s\n",
      "843:\tlearn: 1435.7808308\ttotal: 2m 57s\tremaining: 32.9s\n",
      "844:\tlearn: 1435.5570135\ttotal: 2m 58s\tremaining: 32.7s\n",
      "845:\tlearn: 1435.5414749\ttotal: 2m 58s\tremaining: 32.5s\n",
      "846:\tlearn: 1435.4890189\ttotal: 2m 58s\tremaining: 32.3s\n",
      "847:\tlearn: 1435.3337243\ttotal: 2m 58s\tremaining: 32s\n",
      "848:\tlearn: 1435.2389917\ttotal: 2m 59s\tremaining: 31.8s\n",
      "849:\tlearn: 1435.1485262\ttotal: 2m 59s\tremaining: 31.6s\n",
      "850:\tlearn: 1435.1396298\ttotal: 2m 59s\tremaining: 31.4s\n",
      "851:\tlearn: 1435.1025624\ttotal: 2m 59s\tremaining: 31.2s\n",
      "852:\tlearn: 1434.9910388\ttotal: 2m 59s\tremaining: 31s\n",
      "853:\tlearn: 1434.9467958\ttotal: 3m\tremaining: 30.8s\n",
      "854:\tlearn: 1434.8873040\ttotal: 3m\tremaining: 30.6s\n",
      "855:\tlearn: 1434.6728698\ttotal: 3m\tremaining: 30.4s\n",
      "856:\tlearn: 1434.5083741\ttotal: 3m\tremaining: 30.1s\n",
      "857:\tlearn: 1434.3523767\ttotal: 3m\tremaining: 29.9s\n",
      "858:\tlearn: 1434.3272447\ttotal: 3m\tremaining: 29.7s\n",
      "859:\tlearn: 1434.3217800\ttotal: 3m 1s\tremaining: 29.5s\n",
      "860:\tlearn: 1434.1124590\ttotal: 3m 1s\tremaining: 29.3s\n",
      "861:\tlearn: 1433.9736830\ttotal: 3m 1s\tremaining: 29.1s\n",
      "862:\tlearn: 1433.8661156\ttotal: 3m 1s\tremaining: 28.9s\n",
      "863:\tlearn: 1433.7844347\ttotal: 3m 2s\tremaining: 28.7s\n",
      "864:\tlearn: 1433.5925785\ttotal: 3m 2s\tremaining: 28.5s\n",
      "865:\tlearn: 1433.5651102\ttotal: 3m 2s\tremaining: 28.2s\n",
      "866:\tlearn: 1433.4488947\ttotal: 3m 2s\tremaining: 28s\n",
      "867:\tlearn: 1433.2638680\ttotal: 3m 2s\tremaining: 27.8s\n",
      "868:\tlearn: 1433.2094054\ttotal: 3m 3s\tremaining: 27.6s\n",
      "869:\tlearn: 1433.0646771\ttotal: 3m 3s\tremaining: 27.4s\n",
      "870:\tlearn: 1432.8929324\ttotal: 3m 3s\tremaining: 27.2s\n",
      "871:\tlearn: 1432.7587454\ttotal: 3m 3s\tremaining: 27s\n",
      "872:\tlearn: 1432.7446231\ttotal: 3m 4s\tremaining: 26.8s\n",
      "873:\tlearn: 1432.7063660\ttotal: 3m 4s\tremaining: 26.6s\n",
      "874:\tlearn: 1432.5864206\ttotal: 3m 4s\tremaining: 26.3s\n",
      "875:\tlearn: 1432.5146630\ttotal: 3m 4s\tremaining: 26.1s\n",
      "876:\tlearn: 1432.4804409\ttotal: 3m 4s\tremaining: 25.9s\n",
      "877:\tlearn: 1432.3034556\ttotal: 3m 5s\tremaining: 25.7s\n",
      "878:\tlearn: 1432.2108098\ttotal: 3m 5s\tremaining: 25.5s\n",
      "879:\tlearn: 1432.0044835\ttotal: 3m 5s\tremaining: 25.3s\n",
      "880:\tlearn: 1431.9165486\ttotal: 3m 5s\tremaining: 25.1s\n",
      "881:\tlearn: 1431.8422198\ttotal: 3m 5s\tremaining: 24.9s\n",
      "882:\tlearn: 1431.7702640\ttotal: 3m 5s\tremaining: 24.6s\n",
      "883:\tlearn: 1431.3687841\ttotal: 3m 6s\tremaining: 24.4s\n",
      "884:\tlearn: 1431.1450319\ttotal: 3m 6s\tremaining: 24.2s\n",
      "885:\tlearn: 1431.0258725\ttotal: 3m 6s\tremaining: 24s\n",
      "886:\tlearn: 1430.8634958\ttotal: 3m 6s\tremaining: 23.8s\n",
      "887:\tlearn: 1430.7156060\ttotal: 3m 7s\tremaining: 23.6s\n",
      "888:\tlearn: 1430.5915930\ttotal: 3m 7s\tremaining: 23.4s\n",
      "889:\tlearn: 1430.4260077\ttotal: 3m 7s\tremaining: 23.2s\n",
      "890:\tlearn: 1430.1316457\ttotal: 3m 7s\tremaining: 23s\n",
      "891:\tlearn: 1429.9913237\ttotal: 3m 7s\tremaining: 22.8s\n",
      "892:\tlearn: 1429.8783914\ttotal: 3m 8s\tremaining: 22.5s\n",
      "893:\tlearn: 1429.7155833\ttotal: 3m 8s\tremaining: 22.3s\n",
      "894:\tlearn: 1429.6886980\ttotal: 3m 8s\tremaining: 22.1s\n",
      "895:\tlearn: 1429.6404058\ttotal: 3m 8s\tremaining: 21.9s\n",
      "896:\tlearn: 1429.5046906\ttotal: 3m 8s\tremaining: 21.7s\n",
      "897:\tlearn: 1429.3502532\ttotal: 3m 9s\tremaining: 21.5s\n",
      "898:\tlearn: 1429.3014656\ttotal: 3m 9s\tremaining: 21.3s\n",
      "899:\tlearn: 1429.2041344\ttotal: 3m 9s\tremaining: 21.1s\n",
      "900:\tlearn: 1429.1257062\ttotal: 3m 9s\tremaining: 20.9s\n",
      "901:\tlearn: 1428.9880456\ttotal: 3m 10s\tremaining: 20.6s\n",
      "902:\tlearn: 1428.8992659\ttotal: 3m 10s\tremaining: 20.4s\n",
      "903:\tlearn: 1428.8629623\ttotal: 3m 10s\tremaining: 20.2s\n",
      "904:\tlearn: 1428.7262714\ttotal: 3m 10s\tremaining: 20s\n",
      "905:\tlearn: 1428.5263306\ttotal: 3m 10s\tremaining: 19.8s\n",
      "906:\tlearn: 1428.3664265\ttotal: 3m 11s\tremaining: 19.6s\n",
      "907:\tlearn: 1428.0986131\ttotal: 3m 11s\tremaining: 19.4s\n",
      "908:\tlearn: 1427.9597250\ttotal: 3m 11s\tremaining: 19.2s\n",
      "909:\tlearn: 1427.9332270\ttotal: 3m 11s\tremaining: 18.9s\n",
      "910:\tlearn: 1427.9070392\ttotal: 3m 11s\tremaining: 18.7s\n",
      "911:\tlearn: 1427.8860426\ttotal: 3m 11s\tremaining: 18.5s\n",
      "912:\tlearn: 1427.7799684\ttotal: 3m 11s\tremaining: 18.3s\n",
      "913:\tlearn: 1427.6633441\ttotal: 3m 12s\tremaining: 18.1s\n",
      "914:\tlearn: 1427.5999870\ttotal: 3m 12s\tremaining: 17.9s\n",
      "915:\tlearn: 1427.4608318\ttotal: 3m 12s\tremaining: 17.7s\n",
      "916:\tlearn: 1427.3800490\ttotal: 3m 12s\tremaining: 17.4s\n",
      "917:\tlearn: 1427.3231617\ttotal: 3m 12s\tremaining: 17.2s\n",
      "918:\tlearn: 1427.3012666\ttotal: 3m 13s\tremaining: 17s\n",
      "919:\tlearn: 1427.2414500\ttotal: 3m 13s\tremaining: 16.8s\n",
      "920:\tlearn: 1427.0841940\ttotal: 3m 13s\tremaining: 16.6s\n",
      "921:\tlearn: 1426.9462893\ttotal: 3m 13s\tremaining: 16.4s\n",
      "922:\tlearn: 1426.8197714\ttotal: 3m 13s\tremaining: 16.2s\n",
      "923:\tlearn: 1426.8043617\ttotal: 3m 14s\tremaining: 16s\n",
      "924:\tlearn: 1426.7837409\ttotal: 3m 14s\tremaining: 15.8s\n",
      "925:\tlearn: 1426.6944746\ttotal: 3m 14s\tremaining: 15.5s\n",
      "926:\tlearn: 1426.5679932\ttotal: 3m 14s\tremaining: 15.3s\n",
      "927:\tlearn: 1426.5021503\ttotal: 3m 14s\tremaining: 15.1s\n",
      "928:\tlearn: 1426.4306040\ttotal: 3m 15s\tremaining: 14.9s\n",
      "929:\tlearn: 1426.2816883\ttotal: 3m 15s\tremaining: 14.7s\n",
      "930:\tlearn: 1426.2151272\ttotal: 3m 15s\tremaining: 14.5s\n",
      "931:\tlearn: 1425.9816210\ttotal: 3m 15s\tremaining: 14.3s\n",
      "932:\tlearn: 1425.9067262\ttotal: 3m 16s\tremaining: 14.1s\n",
      "933:\tlearn: 1425.8062722\ttotal: 3m 16s\tremaining: 13.9s\n",
      "934:\tlearn: 1425.5780739\ttotal: 3m 16s\tremaining: 13.7s\n",
      "935:\tlearn: 1425.4948970\ttotal: 3m 16s\tremaining: 13.4s\n",
      "936:\tlearn: 1425.3403594\ttotal: 3m 16s\tremaining: 13.2s\n",
      "937:\tlearn: 1425.2901364\ttotal: 3m 17s\tremaining: 13s\n",
      "938:\tlearn: 1425.2292793\ttotal: 3m 17s\tremaining: 12.8s\n",
      "939:\tlearn: 1425.0829581\ttotal: 3m 17s\tremaining: 12.6s\n",
      "940:\tlearn: 1424.9880309\ttotal: 3m 17s\tremaining: 12.4s\n",
      "941:\tlearn: 1424.8373556\ttotal: 3m 18s\tremaining: 12.2s\n",
      "942:\tlearn: 1424.7229774\ttotal: 3m 18s\tremaining: 12s\n",
      "943:\tlearn: 1424.6572111\ttotal: 3m 18s\tremaining: 11.8s\n",
      "944:\tlearn: 1424.6292620\ttotal: 3m 18s\tremaining: 11.6s\n",
      "945:\tlearn: 1424.5175427\ttotal: 3m 18s\tremaining: 11.4s\n",
      "946:\tlearn: 1424.4395837\ttotal: 3m 19s\tremaining: 11.1s\n",
      "947:\tlearn: 1424.3387724\ttotal: 3m 19s\tremaining: 10.9s\n",
      "948:\tlearn: 1424.2024859\ttotal: 3m 19s\tremaining: 10.7s\n",
      "949:\tlearn: 1424.1730819\ttotal: 3m 19s\tremaining: 10.5s\n",
      "950:\tlearn: 1424.0040201\ttotal: 3m 20s\tremaining: 10.3s\n",
      "951:\tlearn: 1423.9849729\ttotal: 3m 20s\tremaining: 10.1s\n",
      "952:\tlearn: 1423.7934421\ttotal: 3m 20s\tremaining: 9.89s\n",
      "953:\tlearn: 1423.6986751\ttotal: 3m 20s\tremaining: 9.69s\n",
      "954:\tlearn: 1423.5204701\ttotal: 3m 21s\tremaining: 9.48s\n",
      "955:\tlearn: 1423.4245372\ttotal: 3m 21s\tremaining: 9.27s\n",
      "956:\tlearn: 1423.3330392\ttotal: 3m 21s\tremaining: 9.06s\n",
      "957:\tlearn: 1423.2832407\ttotal: 3m 21s\tremaining: 8.85s\n",
      "958:\tlearn: 1423.2436424\ttotal: 3m 21s\tremaining: 8.63s\n",
      "959:\tlearn: 1423.1282082\ttotal: 3m 22s\tremaining: 8.42s\n",
      "960:\tlearn: 1423.0463877\ttotal: 3m 22s\tremaining: 8.21s\n",
      "961:\tlearn: 1422.9184591\ttotal: 3m 22s\tremaining: 8s\n",
      "962:\tlearn: 1422.7075881\ttotal: 3m 22s\tremaining: 7.79s\n",
      "963:\tlearn: 1422.6169849\ttotal: 3m 22s\tremaining: 7.58s\n",
      "964:\tlearn: 1422.5834770\ttotal: 3m 23s\tremaining: 7.37s\n",
      "965:\tlearn: 1422.3534596\ttotal: 3m 23s\tremaining: 7.16s\n",
      "966:\tlearn: 1422.2120335\ttotal: 3m 23s\tremaining: 6.95s\n",
      "967:\tlearn: 1422.0691599\ttotal: 3m 23s\tremaining: 6.74s\n",
      "968:\tlearn: 1421.9093001\ttotal: 3m 24s\tremaining: 6.53s\n",
      "969:\tlearn: 1421.8864940\ttotal: 3m 24s\tremaining: 6.32s\n",
      "970:\tlearn: 1421.7642480\ttotal: 3m 24s\tremaining: 6.11s\n",
      "971:\tlearn: 1421.7165387\ttotal: 3m 24s\tremaining: 5.89s\n",
      "972:\tlearn: 1421.4922107\ttotal: 3m 24s\tremaining: 5.68s\n",
      "973:\tlearn: 1421.3009804\ttotal: 3m 25s\tremaining: 5.47s\n",
      "974:\tlearn: 1421.2555230\ttotal: 3m 25s\tremaining: 5.26s\n",
      "975:\tlearn: 1421.1858589\ttotal: 3m 25s\tremaining: 5.05s\n",
      "976:\tlearn: 1421.0555868\ttotal: 3m 25s\tremaining: 4.84s\n",
      "977:\tlearn: 1420.8747242\ttotal: 3m 25s\tremaining: 4.63s\n",
      "978:\tlearn: 1420.8707621\ttotal: 3m 25s\tremaining: 4.42s\n",
      "979:\tlearn: 1420.7600548\ttotal: 3m 26s\tremaining: 4.21s\n",
      "980:\tlearn: 1420.7033241\ttotal: 3m 26s\tremaining: 4s\n",
      "981:\tlearn: 1420.6126953\ttotal: 3m 26s\tremaining: 3.79s\n",
      "982:\tlearn: 1420.5748631\ttotal: 3m 26s\tremaining: 3.58s\n",
      "983:\tlearn: 1420.4891204\ttotal: 3m 27s\tremaining: 3.37s\n",
      "984:\tlearn: 1420.4717529\ttotal: 3m 27s\tremaining: 3.16s\n",
      "985:\tlearn: 1420.4057937\ttotal: 3m 27s\tremaining: 2.95s\n",
      "986:\tlearn: 1420.3539906\ttotal: 3m 27s\tremaining: 2.74s\n",
      "987:\tlearn: 1420.3027769\ttotal: 3m 28s\tremaining: 2.53s\n",
      "988:\tlearn: 1420.2796549\ttotal: 3m 28s\tremaining: 2.32s\n",
      "989:\tlearn: 1420.1210434\ttotal: 3m 28s\tremaining: 2.11s\n",
      "990:\tlearn: 1419.9556984\ttotal: 3m 28s\tremaining: 1.9s\n",
      "991:\tlearn: 1419.9335440\ttotal: 3m 28s\tremaining: 1.68s\n",
      "992:\tlearn: 1419.7666477\ttotal: 3m 29s\tremaining: 1.47s\n",
      "993:\tlearn: 1419.6926186\ttotal: 3m 29s\tremaining: 1.26s\n",
      "994:\tlearn: 1419.4739364\ttotal: 3m 29s\tremaining: 1.05s\n",
      "995:\tlearn: 1419.4085474\ttotal: 3m 29s\tremaining: 842ms\n",
      "996:\tlearn: 1419.3231951\ttotal: 3m 29s\tremaining: 632ms\n",
      "997:\tlearn: 1419.1701540\ttotal: 3m 30s\tremaining: 421ms\n",
      "998:\tlearn: 1419.0454827\ttotal: 3m 30s\tremaining: 211ms\n",
      "999:\tlearn: 1419.0254453\ttotal: 3m 30s\tremaining: 0us\n"
     ]
    }
   ],
   "source": [
    "# список трех обученных моделей\n",
    "# list_models = [cat,lgbm,lin_reg]\n",
    "list_models = [grid_cat,grid_lgbm, grid_linreg]\n",
    "\n",
    "# списки признаков с OHE и без\n",
    "features_trains = [features_train, features_train, features_train_linreg]\n",
    "\n",
    "predictions_models = []\n",
    "rmse = []\n",
    "train_time = []\n",
    "predictions_time = []\n",
    "\n",
    "# получение списков времени тренировки моделей, времени предсказания, rmse\n",
    "for model, i in zip(list_models, range(len(features_trains))) :\n",
    "    \n",
    "    start = time.time()\n",
    "    model.best_estimator_.fit(features_trains[i],target_train)\n",
    "    train_time.append(time.time() - start) \n",
    "    \n",
    "    start = time.time()\n",
    "    predictions_models.append(model.best_estimator_.predict(features_trains[i]))\n",
    "    predictions_time.append(time.time() - start)\n",
    "    \n",
    "    if model != grid_linreg: \n",
    "        rmse.append((model.best_score_*-1)**0.5)\n",
    "    else:\n",
    "        rmse.append(mean_squared_error(target_train,predictions_models[i])**0.5)"
   ]
  },
  {
   "cell_type": "markdown",
   "metadata": {},
   "source": [
    "Сводные данные о времени обучения, прогнозирования, а также метрика RMSE"
   ]
  },
  {
   "cell_type": "code",
   "execution_count": 45,
   "metadata": {
    "scrolled": false
   },
   "outputs": [
    {
     "data": {
      "text/html": [
       "<div>\n",
       "<style scoped>\n",
       "    .dataframe tbody tr th:only-of-type {\n",
       "        vertical-align: middle;\n",
       "    }\n",
       "\n",
       "    .dataframe tbody tr th {\n",
       "        vertical-align: top;\n",
       "    }\n",
       "\n",
       "    .dataframe thead th {\n",
       "        text-align: right;\n",
       "    }\n",
       "</style>\n",
       "<table border=\"1\" class=\"dataframe\">\n",
       "  <thead>\n",
       "    <tr style=\"text-align: right;\">\n",
       "      <th></th>\n",
       "      <th>time_of_train, sec</th>\n",
       "      <th>time_of_prediction, sec</th>\n",
       "      <th>rmse, €</th>\n",
       "    </tr>\n",
       "  </thead>\n",
       "  <tbody>\n",
       "    <tr>\n",
       "      <th>LGBM</th>\n",
       "      <td>212.10</td>\n",
       "      <td>1.90</td>\n",
       "      <td>1,547.42</td>\n",
       "    </tr>\n",
       "    <tr>\n",
       "      <th>CatBoost</th>\n",
       "      <td>355.80</td>\n",
       "      <td>1.82</td>\n",
       "      <td>1,582.58</td>\n",
       "    </tr>\n",
       "    <tr>\n",
       "      <th>LinearRegression</th>\n",
       "      <td>23.18</td>\n",
       "      <td>0.20</td>\n",
       "      <td>2,469.50</td>\n",
       "    </tr>\n",
       "  </tbody>\n",
       "</table>\n",
       "</div>"
      ],
      "text/plain": [
       "                  time_of_train, sec  time_of_prediction, sec  rmse, €\n",
       "LGBM                          212.10                     1.90 1,547.42\n",
       "CatBoost                      355.80                     1.82 1,582.58\n",
       "LinearRegression               23.18                     0.20 2,469.50"
      ]
     },
     "execution_count": 45,
     "metadata": {},
     "output_type": "execute_result"
    }
   ],
   "source": [
    "df_characters_models = pd.DataFrame({'time_of_train, sec': train_time,'time_of_prediction, sec': predictions_time,\n",
    "                                    'rmse, €' : rmse\n",
    "                                    },\n",
    "                                    index = ['LGBM','CatBoost','LinearRegression'])\n",
    "df_characters_models"
   ]
  },
  {
   "cell_type": "markdown",
   "metadata": {},
   "source": [
    "Два из трех показателей является лучшими у модели LGBMRegressor, также важнейшая метрика является немного выше. По этой причине LGBMRegressor можно считать лучшей"
   ]
  },
  {
   "cell_type": "markdown",
   "metadata": {},
   "source": [
    "**Итоговое тестирование выбранной модели**"
   ]
  },
  {
   "cell_type": "code",
   "execution_count": 46,
   "metadata": {},
   "outputs": [
    {
     "name": "stdout",
     "output_type": "stream",
     "text": [
      "Метрика качества rmse  на тесте в €: 1573.3919610023606\n"
     ]
    }
   ],
   "source": [
    "predictions = grid_lgbm.best_estimator_.predict(features_test)\n",
    "rmse_best_model = mean_squared_error(target_test,predictions)**0.5\n",
    "print('Метрика качества rmse  на тесте в €:',rmse_best_model)"
   ]
  },
  {
   "cell_type": "markdown",
   "metadata": {},
   "source": [
    "**Проверка адекватности**"
   ]
  },
  {
   "cell_type": "code",
   "execution_count": 47,
   "metadata": {},
   "outputs": [
    {
     "name": "stdout",
     "output_type": "stream",
     "text": [
      "Метрика rmse для константной модели в €: 4659.043762239551\n"
     ]
    }
   ],
   "source": [
    "dummy_reg = DummyRegressor(strategy = 'mean')\n",
    "\n",
    "dummy_reg.fit(features_train,target_train) \n",
    "dummy_predictions = dummy_reg.predict(features_test)\n",
    "rmse_dummy = mean_squared_error(target_test,dummy_predictions)**0.5\n",
    "\n",
    "print('Метрика rmse для константной модели в €:', rmse_dummy)"
   ]
  },
  {
   "cell_type": "markdown",
   "metadata": {},
   "source": [
    "Вывод:\n",
    "\n",
    "    Найдена лучшая модель, которая соответствует требованиям метрики RMSE "
   ]
  },
  {
   "cell_type": "code",
   "execution_count": null,
   "metadata": {},
   "outputs": [],
   "source": []
  }
 ],
 "metadata": {
  "ExecuteTimeLog": [
   {
    "duration": 44,
    "start_time": "2023-01-31T15:58:13.354Z"
   },
   {
    "duration": 410,
    "start_time": "2023-01-31T15:58:15.658Z"
   },
   {
    "duration": 63,
    "start_time": "2023-01-31T15:58:17.563Z"
   },
   {
    "duration": 2996,
    "start_time": "2023-01-31T15:58:31.860Z"
   },
   {
    "duration": 19,
    "start_time": "2023-01-31T15:58:50.809Z"
   },
   {
    "duration": 123,
    "start_time": "2023-01-31T15:59:14.049Z"
   },
   {
    "duration": 121,
    "start_time": "2023-01-31T15:59:21.203Z"
   },
   {
    "duration": 119,
    "start_time": "2023-01-31T15:59:49.796Z"
   },
   {
    "duration": 7,
    "start_time": "2023-01-31T16:02:27.250Z"
   },
   {
    "duration": 488,
    "start_time": "2023-01-31T16:02:57.203Z"
   },
   {
    "duration": 21,
    "start_time": "2023-01-31T16:03:03.494Z"
   },
   {
    "duration": 23,
    "start_time": "2023-01-31T16:03:22.677Z"
   },
   {
    "duration": 34,
    "start_time": "2023-01-31T16:03:45.935Z"
   },
   {
    "duration": 144,
    "start_time": "2023-01-31T16:05:20.535Z"
   },
   {
    "duration": 919,
    "start_time": "2023-01-31T16:05:44.529Z"
   },
   {
    "duration": 142,
    "start_time": "2023-01-31T16:06:33.068Z"
   },
   {
    "duration": 127,
    "start_time": "2023-01-31T16:07:03.318Z"
   },
   {
    "duration": 116,
    "start_time": "2023-01-31T16:07:07.632Z"
   },
   {
    "duration": 118,
    "start_time": "2023-01-31T16:07:22.358Z"
   },
   {
    "duration": 140,
    "start_time": "2023-01-31T16:08:55.038Z"
   },
   {
    "duration": 9,
    "start_time": "2023-01-31T16:09:17.451Z"
   },
   {
    "duration": 14,
    "start_time": "2023-01-31T16:09:22.976Z"
   },
   {
    "duration": 8,
    "start_time": "2023-01-31T16:09:27.432Z"
   },
   {
    "duration": 7,
    "start_time": "2023-01-31T16:09:35.407Z"
   },
   {
    "duration": 490,
    "start_time": "2023-01-31T16:09:42.974Z"
   },
   {
    "duration": 11,
    "start_time": "2023-01-31T16:10:09.371Z"
   },
   {
    "duration": 129,
    "start_time": "2023-01-31T16:10:25.400Z"
   },
   {
    "duration": 11,
    "start_time": "2023-01-31T16:10:28.587Z"
   },
   {
    "duration": 4,
    "start_time": "2023-01-31T16:10:35.123Z"
   },
   {
    "duration": 10,
    "start_time": "2023-01-31T16:11:17.284Z"
   },
   {
    "duration": 19,
    "start_time": "2023-01-31T16:11:53.893Z"
   },
   {
    "duration": 41,
    "start_time": "2023-01-31T16:12:12.165Z"
   },
   {
    "duration": 330,
    "start_time": "2023-01-31T16:12:26.059Z"
   },
   {
    "duration": 316,
    "start_time": "2023-01-31T16:12:38.415Z"
   },
   {
    "duration": 26,
    "start_time": "2023-01-31T16:13:02.971Z"
   },
   {
    "duration": 315,
    "start_time": "2023-01-31T16:13:40.168Z"
   },
   {
    "duration": 327,
    "start_time": "2023-01-31T16:13:45.462Z"
   },
   {
    "duration": 303,
    "start_time": "2023-01-31T16:14:49.719Z"
   },
   {
    "duration": 460,
    "start_time": "2023-01-31T16:15:07.271Z"
   },
   {
    "duration": 318,
    "start_time": "2023-01-31T16:15:26.256Z"
   },
   {
    "duration": 346,
    "start_time": "2023-01-31T16:15:37.560Z"
   },
   {
    "duration": 658,
    "start_time": "2023-01-31T16:15:54.295Z"
   },
   {
    "duration": 687,
    "start_time": "2023-01-31T16:16:07.069Z"
   },
   {
    "duration": 640,
    "start_time": "2023-01-31T16:16:28.462Z"
   },
   {
    "duration": 7,
    "start_time": "2023-01-31T16:16:53.257Z"
   },
   {
    "duration": 7,
    "start_time": "2023-01-31T16:16:58.054Z"
   },
   {
    "duration": 9,
    "start_time": "2023-01-31T16:17:08.445Z"
   },
   {
    "duration": 4,
    "start_time": "2023-01-31T16:17:15.565Z"
   },
   {
    "duration": 4,
    "start_time": "2023-01-31T16:17:29.336Z"
   },
   {
    "duration": 10,
    "start_time": "2023-01-31T16:17:40.153Z"
   },
   {
    "duration": 50,
    "start_time": "2023-01-31T16:18:31.350Z"
   },
   {
    "duration": 719,
    "start_time": "2023-01-31T16:18:35.791Z"
   },
   {
    "duration": 39,
    "start_time": "2023-01-31T16:18:52.410Z"
   },
   {
    "duration": 697,
    "start_time": "2023-01-31T16:19:07.528Z"
   },
   {
    "duration": 15,
    "start_time": "2023-01-31T16:19:59.266Z"
   },
   {
    "duration": 119,
    "start_time": "2023-01-31T16:23:12.870Z"
   },
   {
    "duration": 116,
    "start_time": "2023-01-31T16:23:52.005Z"
   },
   {
    "duration": 138,
    "start_time": "2023-01-31T16:24:05.185Z"
   },
   {
    "duration": 4,
    "start_time": "2023-01-31T16:27:16.093Z"
   },
   {
    "duration": 5,
    "start_time": "2023-01-31T16:27:26.473Z"
   },
   {
    "duration": 5,
    "start_time": "2023-01-31T16:27:31.160Z"
   },
   {
    "duration": 9,
    "start_time": "2023-01-31T16:27:42.913Z"
   },
   {
    "duration": 9,
    "start_time": "2023-01-31T16:27:46.584Z"
   },
   {
    "duration": 52,
    "start_time": "2023-01-31T16:27:54.077Z"
   },
   {
    "duration": 5,
    "start_time": "2023-01-31T16:27:57.504Z"
   },
   {
    "duration": 7,
    "start_time": "2023-01-31T16:29:00.817Z"
   },
   {
    "duration": 34,
    "start_time": "2023-01-31T16:29:11.938Z"
   },
   {
    "duration": 54,
    "start_time": "2023-02-01T03:47:22.784Z"
   },
   {
    "duration": 1317,
    "start_time": "2023-02-01T03:47:27.624Z"
   },
   {
    "duration": 1034,
    "start_time": "2023-02-01T03:47:28.943Z"
   },
   {
    "duration": 18,
    "start_time": "2023-02-01T03:47:29.979Z"
   },
   {
    "duration": 78,
    "start_time": "2023-02-01T03:47:29.999Z"
   },
   {
    "duration": 0,
    "start_time": "2023-02-01T03:47:30.079Z"
   },
   {
    "duration": 0,
    "start_time": "2023-02-01T03:47:30.080Z"
   },
   {
    "duration": 0,
    "start_time": "2023-02-01T03:47:30.081Z"
   },
   {
    "duration": 0,
    "start_time": "2023-02-01T03:47:30.082Z"
   },
   {
    "duration": 0,
    "start_time": "2023-02-01T03:47:30.083Z"
   },
   {
    "duration": 0,
    "start_time": "2023-02-01T03:47:30.084Z"
   },
   {
    "duration": 0,
    "start_time": "2023-02-01T03:47:30.085Z"
   },
   {
    "duration": 0,
    "start_time": "2023-02-01T03:47:30.086Z"
   },
   {
    "duration": 0,
    "start_time": "2023-02-01T03:47:30.087Z"
   },
   {
    "duration": 6,
    "start_time": "2023-02-01T03:47:40.386Z"
   },
   {
    "duration": 10,
    "start_time": "2023-02-01T03:48:17.624Z"
   },
   {
    "duration": 7,
    "start_time": "2023-02-01T03:48:20.754Z"
   },
   {
    "duration": 38,
    "start_time": "2023-02-01T03:48:25.114Z"
   },
   {
    "duration": 115,
    "start_time": "2023-02-01T03:48:29.013Z"
   },
   {
    "duration": 150,
    "start_time": "2023-02-01T03:48:36.543Z"
   },
   {
    "duration": 112,
    "start_time": "2023-02-01T03:48:44.251Z"
   },
   {
    "duration": 3,
    "start_time": "2023-02-01T03:48:46.031Z"
   },
   {
    "duration": 4,
    "start_time": "2023-02-01T03:50:04.142Z"
   },
   {
    "duration": 121,
    "start_time": "2023-02-01T03:50:21.934Z"
   },
   {
    "duration": 73,
    "start_time": "2023-02-01T03:50:42.055Z"
   },
   {
    "duration": 77,
    "start_time": "2023-02-01T03:50:55.472Z"
   },
   {
    "duration": 120,
    "start_time": "2023-02-01T03:51:02.428Z"
   },
   {
    "duration": 114,
    "start_time": "2023-02-01T03:51:07.843Z"
   },
   {
    "duration": 114,
    "start_time": "2023-02-01T03:51:18.770Z"
   },
   {
    "duration": 412,
    "start_time": "2023-02-01T03:52:38.444Z"
   },
   {
    "duration": 8,
    "start_time": "2023-02-01T03:52:52.552Z"
   },
   {
    "duration": 451,
    "start_time": "2023-02-01T03:53:06.674Z"
   },
   {
    "duration": 114,
    "start_time": "2023-02-01T05:31:00.254Z"
   },
   {
    "duration": 47,
    "start_time": "2023-02-01T06:13:19.587Z"
   },
   {
    "duration": 1170,
    "start_time": "2023-02-01T06:13:22.410Z"
   },
   {
    "duration": 6,
    "start_time": "2023-02-01T06:13:29.819Z"
   },
   {
    "duration": 7,
    "start_time": "2023-02-01T06:15:59.788Z"
   },
   {
    "duration": 9,
    "start_time": "2023-02-01T06:17:41.659Z"
   },
   {
    "duration": 135,
    "start_time": "2023-02-01T06:17:59.569Z"
   },
   {
    "duration": 7,
    "start_time": "2023-02-01T06:19:12.779Z"
   },
   {
    "duration": 13,
    "start_time": "2023-02-01T06:20:00.779Z"
   },
   {
    "duration": 12,
    "start_time": "2023-02-01T06:20:23.619Z"
   },
   {
    "duration": 1626,
    "start_time": "2023-02-01T06:20:28.229Z"
   },
   {
    "duration": 4,
    "start_time": "2023-02-01T06:22:14.071Z"
   },
   {
    "duration": 40,
    "start_time": "2023-02-01T06:22:29.498Z"
   },
   {
    "duration": 125,
    "start_time": "2023-02-01T06:23:41.737Z"
   },
   {
    "duration": 270,
    "start_time": "2023-02-01T06:24:26.860Z"
   },
   {
    "duration": 94,
    "start_time": "2023-02-01T06:24:33.410Z"
   },
   {
    "duration": 128,
    "start_time": "2023-02-01T06:24:39.109Z"
   },
   {
    "duration": 184,
    "start_time": "2023-02-01T06:26:03.297Z"
   },
   {
    "duration": 52,
    "start_time": "2023-02-01T06:26:10.520Z"
   },
   {
    "duration": 50,
    "start_time": "2023-02-01T06:26:37.210Z"
   },
   {
    "duration": 72,
    "start_time": "2023-02-01T06:26:41.552Z"
   },
   {
    "duration": 78,
    "start_time": "2023-02-01T06:26:47.979Z"
   },
   {
    "duration": 75,
    "start_time": "2023-02-01T06:26:58.750Z"
   },
   {
    "duration": 71,
    "start_time": "2023-02-01T06:27:03.980Z"
   },
   {
    "duration": 65,
    "start_time": "2023-02-01T06:27:19.729Z"
   },
   {
    "duration": 71,
    "start_time": "2023-02-01T06:27:38.440Z"
   },
   {
    "duration": 70,
    "start_time": "2023-02-01T06:27:46.349Z"
   },
   {
    "duration": 200,
    "start_time": "2023-02-01T06:28:33.820Z"
   },
   {
    "duration": 66,
    "start_time": "2023-02-01T06:29:16.498Z"
   },
   {
    "duration": 539,
    "start_time": "2023-02-01T06:29:23.051Z"
   },
   {
    "duration": 197,
    "start_time": "2023-02-01T06:29:55.586Z"
   },
   {
    "duration": 219,
    "start_time": "2023-02-01T06:30:05.610Z"
   },
   {
    "duration": 222,
    "start_time": "2023-02-01T06:30:14.939Z"
   },
   {
    "duration": 227,
    "start_time": "2023-02-01T06:30:26.131Z"
   },
   {
    "duration": 226,
    "start_time": "2023-02-01T06:30:36.909Z"
   },
   {
    "duration": 223,
    "start_time": "2023-02-01T06:31:06.787Z"
   },
   {
    "duration": 213,
    "start_time": "2023-02-01T06:31:12.573Z"
   },
   {
    "duration": 12,
    "start_time": "2023-02-01T06:32:07.321Z"
   },
   {
    "duration": 1630,
    "start_time": "2023-02-01T06:32:14.473Z"
   },
   {
    "duration": 7,
    "start_time": "2023-02-01T06:32:21.581Z"
   },
   {
    "duration": 70,
    "start_time": "2023-02-01T06:32:31.383Z"
   },
   {
    "duration": 9,
    "start_time": "2023-02-01T06:33:07.582Z"
   },
   {
    "duration": 110,
    "start_time": "2023-02-01T06:33:21.261Z"
   },
   {
    "duration": 121,
    "start_time": "2023-02-01T06:34:04.222Z"
   },
   {
    "duration": 190,
    "start_time": "2023-02-01T06:34:53.201Z"
   },
   {
    "duration": 323,
    "start_time": "2023-02-01T06:35:57.091Z"
   },
   {
    "duration": 318,
    "start_time": "2023-02-01T06:36:27.137Z"
   },
   {
    "duration": 338,
    "start_time": "2023-02-01T06:37:01.348Z"
   },
   {
    "duration": 334,
    "start_time": "2023-02-01T06:37:29.242Z"
   },
   {
    "duration": 318,
    "start_time": "2023-02-01T06:37:51.523Z"
   },
   {
    "duration": 77,
    "start_time": "2023-02-01T06:38:48.073Z"
   },
   {
    "duration": 320,
    "start_time": "2023-02-01T06:38:57.379Z"
   },
   {
    "duration": 62,
    "start_time": "2023-02-01T06:39:32.299Z"
   },
   {
    "duration": 67,
    "start_time": "2023-02-01T06:40:46.859Z"
   },
   {
    "duration": 67,
    "start_time": "2023-02-01T06:41:04.900Z"
   },
   {
    "duration": 55,
    "start_time": "2023-02-01T06:41:30.827Z"
   },
   {
    "duration": 48,
    "start_time": "2023-02-01T06:42:35.449Z"
   },
   {
    "duration": 44,
    "start_time": "2023-02-01T06:44:54.430Z"
   },
   {
    "duration": 20,
    "start_time": "2023-02-01T06:45:07.339Z"
   },
   {
    "duration": 25,
    "start_time": "2023-02-01T06:49:59.740Z"
   },
   {
    "duration": 90,
    "start_time": "2023-02-01T06:56:47.140Z"
   },
   {
    "duration": 4,
    "start_time": "2023-02-01T07:03:23.856Z"
   },
   {
    "duration": 25,
    "start_time": "2023-02-01T07:05:33.589Z"
   },
   {
    "duration": 38,
    "start_time": "2023-02-01T07:05:53.303Z"
   },
   {
    "duration": 90,
    "start_time": "2023-02-01T07:07:07.429Z"
   },
   {
    "duration": 34,
    "start_time": "2023-02-01T07:09:13.059Z"
   },
   {
    "duration": 17,
    "start_time": "2023-02-01T07:10:34.057Z"
   },
   {
    "duration": 21,
    "start_time": "2023-02-01T07:10:45.471Z"
   },
   {
    "duration": 237,
    "start_time": "2023-02-01T07:12:30.140Z"
   },
   {
    "duration": 111,
    "start_time": "2023-02-01T07:12:43.599Z"
   },
   {
    "duration": 1196,
    "start_time": "2023-02-01T07:13:14.021Z"
   },
   {
    "duration": 383,
    "start_time": "2023-02-01T07:14:20.059Z"
   },
   {
    "duration": 81,
    "start_time": "2023-02-01T07:16:16.509Z"
   },
   {
    "duration": 83,
    "start_time": "2023-02-01T07:17:14.515Z"
   },
   {
    "duration": 57,
    "start_time": "2023-02-01T07:17:21.448Z"
   },
   {
    "duration": 7,
    "start_time": "2023-02-01T07:18:01.397Z"
   },
   {
    "duration": 21,
    "start_time": "2023-02-01T07:18:10.457Z"
   },
   {
    "duration": 82,
    "start_time": "2023-02-01T07:31:03.327Z"
   },
   {
    "duration": 56,
    "start_time": "2023-02-01T07:32:34.918Z"
   },
   {
    "duration": 81,
    "start_time": "2023-02-01T07:33:15.140Z"
   },
   {
    "duration": 38,
    "start_time": "2023-02-01T07:43:39.311Z"
   },
   {
    "duration": 36,
    "start_time": "2023-02-01T07:43:54.261Z"
   },
   {
    "duration": 38,
    "start_time": "2023-02-01T07:46:23.612Z"
   },
   {
    "duration": 41,
    "start_time": "2023-02-01T07:46:28.732Z"
   },
   {
    "duration": 40,
    "start_time": "2023-02-01T07:48:43.291Z"
   },
   {
    "duration": 39,
    "start_time": "2023-02-01T07:48:48.404Z"
   },
   {
    "duration": 62,
    "start_time": "2023-02-01T07:49:36.697Z"
   },
   {
    "duration": 38,
    "start_time": "2023-02-01T07:49:41.369Z"
   },
   {
    "duration": 34,
    "start_time": "2023-02-01T07:50:46.429Z"
   },
   {
    "duration": 103910,
    "start_time": "2023-02-01T07:54:35.793Z"
   },
   {
    "duration": 81018,
    "start_time": "2023-02-01T08:00:57.984Z"
   },
   {
    "duration": 197,
    "start_time": "2023-02-01T08:04:13.126Z"
   },
   {
    "duration": 82916,
    "start_time": "2023-02-01T08:05:34.146Z"
   },
   {
    "duration": 79,
    "start_time": "2023-02-01T12:43:26.411Z"
   },
   {
    "duration": 1405,
    "start_time": "2023-02-01T12:43:31.924Z"
   },
   {
    "duration": 1090,
    "start_time": "2023-02-01T12:43:33.332Z"
   },
   {
    "duration": 15,
    "start_time": "2023-02-01T12:43:34.424Z"
   },
   {
    "duration": 13,
    "start_time": "2023-02-01T12:43:37.510Z"
   },
   {
    "duration": 115,
    "start_time": "2023-02-01T12:43:38.719Z"
   },
   {
    "duration": 1127,
    "start_time": "2023-02-01T12:46:17.710Z"
   },
   {
    "duration": 131,
    "start_time": "2023-02-01T13:04:04.262Z"
   },
   {
    "duration": 55,
    "start_time": "2023-02-01T13:09:25.833Z"
   },
   {
    "duration": 124,
    "start_time": "2023-02-01T13:09:34.553Z"
   },
   {
    "duration": 1449,
    "start_time": "2023-02-01T14:58:58.296Z"
   },
   {
    "duration": 3479,
    "start_time": "2023-02-01T14:58:59.747Z"
   },
   {
    "duration": 18,
    "start_time": "2023-02-01T14:59:03.228Z"
   },
   {
    "duration": 155,
    "start_time": "2023-02-01T14:59:03.248Z"
   },
   {
    "duration": 66,
    "start_time": "2023-02-01T14:59:03.405Z"
   },
   {
    "duration": 117,
    "start_time": "2023-02-01T14:59:03.473Z"
   },
   {
    "duration": 176,
    "start_time": "2023-02-01T15:00:08.609Z"
   },
   {
    "duration": 68,
    "start_time": "2023-02-01T15:00:25.373Z"
   },
   {
    "duration": 71,
    "start_time": "2023-02-01T15:01:04.024Z"
   },
   {
    "duration": 8,
    "start_time": "2023-02-01T15:01:27.990Z"
   },
   {
    "duration": 73,
    "start_time": "2023-02-01T15:01:59.556Z"
   },
   {
    "duration": 73,
    "start_time": "2023-02-01T15:02:22.733Z"
   },
   {
    "duration": 74,
    "start_time": "2023-02-01T15:03:06.023Z"
   },
   {
    "duration": 76,
    "start_time": "2023-02-01T15:03:17.815Z"
   },
   {
    "duration": 76,
    "start_time": "2023-02-01T15:04:32.325Z"
   },
   {
    "duration": 75,
    "start_time": "2023-02-01T15:04:49.149Z"
   },
   {
    "duration": 60,
    "start_time": "2023-02-01T15:05:44.962Z"
   },
   {
    "duration": 80,
    "start_time": "2023-02-01T15:05:49.136Z"
   },
   {
    "duration": 451,
    "start_time": "2023-02-01T15:06:00.132Z"
   },
   {
    "duration": 57,
    "start_time": "2023-02-01T15:06:12.407Z"
   },
   {
    "duration": 2336,
    "start_time": "2023-02-01T15:06:22.792Z"
   },
   {
    "duration": 644,
    "start_time": "2023-02-01T15:07:40.340Z"
   },
   {
    "duration": 713,
    "start_time": "2023-02-01T15:08:13.921Z"
   },
   {
    "duration": 707,
    "start_time": "2023-02-01T15:08:26.086Z"
   },
   {
    "duration": 1549,
    "start_time": "2023-02-01T15:08:34.144Z"
   },
   {
    "duration": 605,
    "start_time": "2023-02-01T15:09:07.329Z"
   },
   {
    "duration": 978,
    "start_time": "2023-02-01T15:09:18.645Z"
   },
   {
    "duration": 1471,
    "start_time": "2023-02-01T15:09:35.589Z"
   },
   {
    "duration": 1168,
    "start_time": "2023-02-01T15:09:53.121Z"
   },
   {
    "duration": 34,
    "start_time": "2023-02-01T15:10:47.597Z"
   },
   {
    "duration": 30,
    "start_time": "2023-02-01T15:17:51.016Z"
   },
   {
    "duration": 26,
    "start_time": "2023-02-01T15:23:40.878Z"
   },
   {
    "duration": 29,
    "start_time": "2023-02-01T15:25:17.108Z"
   },
   {
    "duration": 34,
    "start_time": "2023-02-01T15:25:59.926Z"
   },
   {
    "duration": 64,
    "start_time": "2023-02-01T15:27:19.651Z"
   },
   {
    "duration": 3,
    "start_time": "2023-02-01T15:28:08.442Z"
   },
   {
    "duration": 75,
    "start_time": "2023-02-01T15:29:11.803Z"
   },
   {
    "duration": 6,
    "start_time": "2023-02-01T15:31:39.809Z"
   },
   {
    "duration": 24,
    "start_time": "2023-02-01T15:31:46.934Z"
   },
   {
    "duration": 7,
    "start_time": "2023-02-01T15:33:31.747Z"
   },
   {
    "duration": 7,
    "start_time": "2023-02-01T15:33:41.805Z"
   },
   {
    "duration": 34,
    "start_time": "2023-02-01T15:33:46.722Z"
   },
   {
    "duration": 6,
    "start_time": "2023-02-01T15:35:10.547Z"
   },
   {
    "duration": 27,
    "start_time": "2023-02-01T15:35:17.145Z"
   },
   {
    "duration": 6,
    "start_time": "2023-02-01T15:36:16.514Z"
   },
   {
    "duration": 47,
    "start_time": "2023-02-01T15:36:25.300Z"
   },
   {
    "duration": 164,
    "start_time": "2023-02-01T15:37:03.413Z"
   },
   {
    "duration": 42,
    "start_time": "2023-02-01T15:38:59.334Z"
   },
   {
    "duration": 213,
    "start_time": "2023-02-01T15:39:16.498Z"
   },
   {
    "duration": 964,
    "start_time": "2023-02-01T15:41:51.597Z"
   },
   {
    "duration": 62,
    "start_time": "2023-02-01T15:42:08.099Z"
   },
   {
    "duration": 820,
    "start_time": "2023-02-01T15:42:11.997Z"
   },
   {
    "duration": 863,
    "start_time": "2023-02-01T15:42:51.600Z"
   },
   {
    "duration": 3,
    "start_time": "2023-02-01T15:43:05.605Z"
   },
   {
    "duration": 903,
    "start_time": "2023-02-01T15:43:05.610Z"
   },
   {
    "duration": 22,
    "start_time": "2023-02-01T15:43:06.515Z"
   },
   {
    "duration": 151,
    "start_time": "2023-02-01T15:43:06.539Z"
   },
   {
    "duration": 50,
    "start_time": "2023-02-01T15:43:08.363Z"
   },
   {
    "duration": 3,
    "start_time": "2023-02-01T15:43:14.694Z"
   },
   {
    "duration": 941,
    "start_time": "2023-02-01T15:43:14.700Z"
   },
   {
    "duration": 14,
    "start_time": "2023-02-01T15:43:15.643Z"
   },
   {
    "duration": 149,
    "start_time": "2023-02-01T15:43:15.659Z"
   },
   {
    "duration": 31,
    "start_time": "2023-02-01T15:43:15.810Z"
   },
   {
    "duration": 104,
    "start_time": "2023-02-01T15:43:15.843Z"
   },
   {
    "duration": 22,
    "start_time": "2023-02-01T15:43:15.949Z"
   },
   {
    "duration": 164,
    "start_time": "2023-02-01T15:43:15.973Z"
   },
   {
    "duration": 23,
    "start_time": "2023-02-01T15:43:16.139Z"
   },
   {
    "duration": 37,
    "start_time": "2023-02-01T15:43:16.164Z"
   },
   {
    "duration": 49,
    "start_time": "2023-02-01T15:43:16.202Z"
   },
   {
    "duration": 7,
    "start_time": "2023-02-01T15:43:18.303Z"
   },
   {
    "duration": 27,
    "start_time": "2023-02-01T15:43:30.532Z"
   },
   {
    "duration": 224,
    "start_time": "2023-02-01T15:43:51.289Z"
   },
   {
    "duration": 151,
    "start_time": "2023-02-01T15:44:16.339Z"
   },
   {
    "duration": 151,
    "start_time": "2023-02-01T15:44:37.634Z"
   },
   {
    "duration": 165,
    "start_time": "2023-02-01T15:44:56.538Z"
   },
   {
    "duration": 58,
    "start_time": "2023-02-01T15:46:28.405Z"
   },
   {
    "duration": 22,
    "start_time": "2023-02-01T15:46:43.934Z"
   },
   {
    "duration": 65,
    "start_time": "2023-02-01T15:47:26.999Z"
   },
   {
    "duration": 42,
    "start_time": "2023-02-01T15:47:45.115Z"
   },
   {
    "duration": 67,
    "start_time": "2023-02-01T15:48:12.404Z"
   },
   {
    "duration": 166,
    "start_time": "2023-02-01T15:48:19.966Z"
   },
   {
    "duration": 161,
    "start_time": "2023-02-01T15:48:36.499Z"
   },
   {
    "duration": 32,
    "start_time": "2023-02-01T15:49:13.205Z"
   },
   {
    "duration": 36,
    "start_time": "2023-02-01T15:49:50.040Z"
   },
   {
    "duration": 36,
    "start_time": "2023-02-01T15:49:58.159Z"
   },
   {
    "duration": 36,
    "start_time": "2023-02-01T15:52:32.197Z"
   },
   {
    "duration": 23,
    "start_time": "2023-02-01T15:52:59.994Z"
   },
   {
    "duration": 53,
    "start_time": "2023-02-01T15:53:58.195Z"
   },
   {
    "duration": 56,
    "start_time": "2023-02-01T15:56:09.219Z"
   },
   {
    "duration": 63,
    "start_time": "2023-02-01T15:56:25.506Z"
   },
   {
    "duration": 23,
    "start_time": "2023-02-01T15:57:42.618Z"
   },
   {
    "duration": 48,
    "start_time": "2023-02-01T15:58:18.533Z"
   },
   {
    "duration": 10,
    "start_time": "2023-02-01T16:00:21.605Z"
   },
   {
    "duration": 2,
    "start_time": "2023-02-01T16:00:48.089Z"
   },
   {
    "duration": 131,
    "start_time": "2023-02-01T16:01:36.927Z"
   },
   {
    "duration": 1452,
    "start_time": "2023-02-02T00:23:55.308Z"
   },
   {
    "duration": 1159,
    "start_time": "2023-02-02T00:23:56.763Z"
   },
   {
    "duration": 18,
    "start_time": "2023-02-02T00:23:57.924Z"
   },
   {
    "duration": 151,
    "start_time": "2023-02-02T00:23:57.944Z"
   },
   {
    "duration": 71,
    "start_time": "2023-02-02T00:23:58.097Z"
   },
   {
    "duration": 148,
    "start_time": "2023-02-02T00:23:58.171Z"
   },
   {
    "duration": 102,
    "start_time": "2023-02-02T00:23:58.320Z"
   },
   {
    "duration": 30,
    "start_time": "2023-02-02T00:23:58.423Z"
   },
   {
    "duration": 167,
    "start_time": "2023-02-02T00:23:58.455Z"
   },
   {
    "duration": 28,
    "start_time": "2023-02-02T00:23:58.625Z"
   },
   {
    "duration": 23,
    "start_time": "2023-02-02T00:23:58.655Z"
   },
   {
    "duration": 37,
    "start_time": "2023-02-02T00:23:58.679Z"
   },
   {
    "duration": 59,
    "start_time": "2023-02-02T00:23:58.718Z"
   },
   {
    "duration": 74,
    "start_time": "2023-02-02T00:23:58.778Z"
   },
   {
    "duration": 2,
    "start_time": "2023-02-02T00:23:58.854Z"
   },
   {
    "duration": 35,
    "start_time": "2023-02-02T00:25:48.261Z"
   },
   {
    "duration": 42,
    "start_time": "2023-02-02T00:27:28.662Z"
   },
   {
    "duration": 59,
    "start_time": "2023-02-02T00:30:20.908Z"
   },
   {
    "duration": 94,
    "start_time": "2023-02-02T00:33:11.780Z"
   },
   {
    "duration": 2,
    "start_time": "2023-02-02T00:33:27.211Z"
   },
   {
    "duration": 30,
    "start_time": "2023-02-02T00:35:39.674Z"
   },
   {
    "duration": 31,
    "start_time": "2023-02-02T00:37:25.893Z"
   },
   {
    "duration": 18,
    "start_time": "2023-02-02T00:39:55.544Z"
   },
   {
    "duration": 6926,
    "start_time": "2023-02-02T00:41:37.914Z"
   },
   {
    "duration": 3175,
    "start_time": "2023-02-02T00:43:10.077Z"
   },
   {
    "duration": 155,
    "start_time": "2023-02-02T00:44:32.816Z"
   },
   {
    "duration": 3166,
    "start_time": "2023-02-02T00:46:29.752Z"
   },
   {
    "duration": 48,
    "start_time": "2023-02-02T00:47:13.277Z"
   },
   {
    "duration": 2902,
    "start_time": "2023-02-02T00:47:15.510Z"
   },
   {
    "duration": 2905,
    "start_time": "2023-02-02T00:49:11.693Z"
   },
   {
    "duration": 36,
    "start_time": "2023-02-02T00:51:49.982Z"
   },
   {
    "duration": 44,
    "start_time": "2023-02-02T00:51:55.517Z"
   },
   {
    "duration": 5766,
    "start_time": "2023-02-02T00:52:03.500Z"
   },
   {
    "duration": 3106,
    "start_time": "2023-02-02T00:52:54.176Z"
   },
   {
    "duration": 2850,
    "start_time": "2023-02-02T00:53:50.631Z"
   },
   {
    "duration": 16,
    "start_time": "2023-02-02T00:56:33.601Z"
   },
   {
    "duration": 19,
    "start_time": "2023-02-02T00:56:47.534Z"
   },
   {
    "duration": 3,
    "start_time": "2023-02-02T00:57:38.045Z"
   },
   {
    "duration": 876,
    "start_time": "2023-02-02T00:57:38.050Z"
   },
   {
    "duration": 22,
    "start_time": "2023-02-02T00:57:38.928Z"
   },
   {
    "duration": 156,
    "start_time": "2023-02-02T00:57:38.952Z"
   },
   {
    "duration": 62,
    "start_time": "2023-02-02T00:57:39.110Z"
   },
   {
    "duration": 131,
    "start_time": "2023-02-02T00:57:39.174Z"
   },
   {
    "duration": 108,
    "start_time": "2023-02-02T00:57:39.307Z"
   },
   {
    "duration": 26,
    "start_time": "2023-02-02T00:57:39.417Z"
   },
   {
    "duration": 144,
    "start_time": "2023-02-02T00:57:39.444Z"
   },
   {
    "duration": 21,
    "start_time": "2023-02-02T00:57:39.590Z"
   },
   {
    "duration": 38,
    "start_time": "2023-02-02T00:57:39.612Z"
   },
   {
    "duration": 34,
    "start_time": "2023-02-02T00:57:39.652Z"
   },
   {
    "duration": 65,
    "start_time": "2023-02-02T00:57:39.687Z"
   },
   {
    "duration": 53,
    "start_time": "2023-02-02T00:57:39.755Z"
   },
   {
    "duration": 2,
    "start_time": "2023-02-02T00:57:39.810Z"
   },
   {
    "duration": 11,
    "start_time": "2023-02-02T00:57:39.814Z"
   },
   {
    "duration": 62,
    "start_time": "2023-02-02T00:57:42.170Z"
   },
   {
    "duration": 17,
    "start_time": "2023-02-02T00:57:47.935Z"
   },
   {
    "duration": 36,
    "start_time": "2023-02-02T00:58:04.683Z"
   },
   {
    "duration": 22,
    "start_time": "2023-02-02T00:58:27.597Z"
   },
   {
    "duration": 22,
    "start_time": "2023-02-02T00:59:28.887Z"
   },
   {
    "duration": 17,
    "start_time": "2023-02-02T00:59:32.938Z"
   },
   {
    "duration": 5,
    "start_time": "2023-02-02T01:00:37.051Z"
   },
   {
    "duration": 17,
    "start_time": "2023-02-02T01:00:48.807Z"
   },
   {
    "duration": 4,
    "start_time": "2023-02-02T01:00:56.667Z"
   },
   {
    "duration": 12,
    "start_time": "2023-02-02T01:01:08.341Z"
   },
   {
    "duration": 28,
    "start_time": "2023-02-02T01:04:03.770Z"
   },
   {
    "duration": 20,
    "start_time": "2023-02-02T01:04:15.896Z"
   },
   {
    "duration": 17,
    "start_time": "2023-02-02T01:04:27.404Z"
   },
   {
    "duration": 15,
    "start_time": "2023-02-02T01:05:03.388Z"
   },
   {
    "duration": 12,
    "start_time": "2023-02-02T01:05:12.442Z"
   },
   {
    "duration": 171,
    "start_time": "2023-02-02T01:05:33.735Z"
   },
   {
    "duration": 12,
    "start_time": "2023-02-02T01:05:36.354Z"
   },
   {
    "duration": 13,
    "start_time": "2023-02-02T01:06:02.525Z"
   },
   {
    "duration": 16,
    "start_time": "2023-02-02T01:06:11.686Z"
   },
   {
    "duration": 33,
    "start_time": "2023-02-02T01:07:52.046Z"
   },
   {
    "duration": 66,
    "start_time": "2023-02-02T01:08:32.474Z"
   },
   {
    "duration": 26,
    "start_time": "2023-02-02T01:08:45.903Z"
   },
   {
    "duration": 3,
    "start_time": "2023-02-02T01:09:15.983Z"
   },
   {
    "duration": 821,
    "start_time": "2023-02-02T01:09:15.988Z"
   },
   {
    "duration": 16,
    "start_time": "2023-02-02T01:09:16.812Z"
   },
   {
    "duration": 155,
    "start_time": "2023-02-02T01:09:16.831Z"
   },
   {
    "duration": 70,
    "start_time": "2023-02-02T01:09:16.988Z"
   },
   {
    "duration": 142,
    "start_time": "2023-02-02T01:09:17.059Z"
   },
   {
    "duration": 116,
    "start_time": "2023-02-02T01:09:17.203Z"
   },
   {
    "duration": 27,
    "start_time": "2023-02-02T01:09:17.321Z"
   },
   {
    "duration": 177,
    "start_time": "2023-02-02T01:09:17.351Z"
   },
   {
    "duration": 28,
    "start_time": "2023-02-02T01:09:17.530Z"
   },
   {
    "duration": 45,
    "start_time": "2023-02-02T01:09:17.560Z"
   },
   {
    "duration": 77,
    "start_time": "2023-02-02T01:09:17.607Z"
   },
   {
    "duration": 60,
    "start_time": "2023-02-02T01:09:17.686Z"
   },
   {
    "duration": 54,
    "start_time": "2023-02-02T01:09:17.748Z"
   },
   {
    "duration": 2,
    "start_time": "2023-02-02T01:09:17.804Z"
   },
   {
    "duration": 31,
    "start_time": "2023-02-02T01:09:17.808Z"
   },
   {
    "duration": 82,
    "start_time": "2023-02-02T01:09:17.841Z"
   },
   {
    "duration": 17,
    "start_time": "2023-02-02T01:09:17.925Z"
   },
   {
    "duration": 21,
    "start_time": "2023-02-02T01:09:17.944Z"
   },
   {
    "duration": 23,
    "start_time": "2023-02-02T01:09:21.824Z"
   },
   {
    "duration": 20,
    "start_time": "2023-02-02T01:09:35.183Z"
   },
   {
    "duration": 4,
    "start_time": "2023-02-02T01:09:35.723Z"
   },
   {
    "duration": 91,
    "start_time": "2023-02-02T01:09:38.757Z"
   },
   {
    "duration": 25,
    "start_time": "2023-02-02T01:09:39.874Z"
   },
   {
    "duration": 3,
    "start_time": "2023-02-02T01:10:09.306Z"
   },
   {
    "duration": 805,
    "start_time": "2023-02-02T01:10:09.311Z"
   },
   {
    "duration": 23,
    "start_time": "2023-02-02T01:10:10.118Z"
   },
   {
    "duration": 152,
    "start_time": "2023-02-02T01:10:10.143Z"
   },
   {
    "duration": 42,
    "start_time": "2023-02-02T01:10:10.298Z"
   },
   {
    "duration": 133,
    "start_time": "2023-02-02T01:10:10.342Z"
   },
   {
    "duration": 112,
    "start_time": "2023-02-02T01:10:10.477Z"
   },
   {
    "duration": 23,
    "start_time": "2023-02-02T01:10:10.591Z"
   },
   {
    "duration": 155,
    "start_time": "2023-02-02T01:10:10.616Z"
   },
   {
    "duration": 21,
    "start_time": "2023-02-02T01:10:10.773Z"
   },
   {
    "duration": 38,
    "start_time": "2023-02-02T01:10:10.796Z"
   },
   {
    "duration": 41,
    "start_time": "2023-02-02T01:10:10.836Z"
   },
   {
    "duration": 57,
    "start_time": "2023-02-02T01:10:10.879Z"
   },
   {
    "duration": 55,
    "start_time": "2023-02-02T01:10:10.938Z"
   },
   {
    "duration": 3,
    "start_time": "2023-02-02T01:10:10.994Z"
   },
   {
    "duration": 6,
    "start_time": "2023-02-02T01:10:10.999Z"
   },
   {
    "duration": 67,
    "start_time": "2023-02-02T01:10:11.006Z"
   },
   {
    "duration": 17,
    "start_time": "2023-02-02T01:10:11.075Z"
   },
   {
    "duration": 20,
    "start_time": "2023-02-02T01:10:11.094Z"
   },
   {
    "duration": 3,
    "start_time": "2023-02-02T01:13:11.976Z"
   },
   {
    "duration": 805,
    "start_time": "2023-02-02T01:13:11.981Z"
   },
   {
    "duration": 14,
    "start_time": "2023-02-02T01:13:12.788Z"
   },
   {
    "duration": 151,
    "start_time": "2023-02-02T01:13:12.804Z"
   },
   {
    "duration": 24,
    "start_time": "2023-02-02T01:13:12.957Z"
   },
   {
    "duration": 132,
    "start_time": "2023-02-02T01:13:12.983Z"
   },
   {
    "duration": 99,
    "start_time": "2023-02-02T01:13:13.117Z"
   },
   {
    "duration": 25,
    "start_time": "2023-02-02T01:13:13.218Z"
   },
   {
    "duration": 148,
    "start_time": "2023-02-02T01:13:13.245Z"
   },
   {
    "duration": 21,
    "start_time": "2023-02-02T01:13:13.394Z"
   },
   {
    "duration": 36,
    "start_time": "2023-02-02T01:13:13.417Z"
   },
   {
    "duration": 34,
    "start_time": "2023-02-02T01:13:13.455Z"
   },
   {
    "duration": 74,
    "start_time": "2023-02-02T01:13:13.491Z"
   },
   {
    "duration": 55,
    "start_time": "2023-02-02T01:13:13.568Z"
   },
   {
    "duration": 15,
    "start_time": "2023-02-02T01:13:13.624Z"
   },
   {
    "duration": 12,
    "start_time": "2023-02-02T01:13:13.641Z"
   },
   {
    "duration": 81,
    "start_time": "2023-02-02T01:13:13.655Z"
   },
   {
    "duration": 17,
    "start_time": "2023-02-02T01:13:13.737Z"
   },
   {
    "duration": 15,
    "start_time": "2023-02-02T01:13:18.190Z"
   },
   {
    "duration": 20,
    "start_time": "2023-02-02T01:13:20.648Z"
   },
   {
    "duration": 5,
    "start_time": "2023-02-02T01:13:21.407Z"
   },
   {
    "duration": 865,
    "start_time": "2023-02-02T01:13:25.548Z"
   },
   {
    "duration": 31,
    "start_time": "2023-02-02T01:13:26.816Z"
   },
   {
    "duration": 5,
    "start_time": "2023-02-02T01:13:47.430Z"
   },
   {
    "duration": 25,
    "start_time": "2023-02-02T01:13:50.776Z"
   },
   {
    "duration": 6394,
    "start_time": "2023-02-02T01:15:10.446Z"
   },
   {
    "duration": 6379,
    "start_time": "2023-02-02T01:15:34.457Z"
   },
   {
    "duration": 3,
    "start_time": "2023-02-02T01:15:48.704Z"
   },
   {
    "duration": 860,
    "start_time": "2023-02-02T01:15:48.708Z"
   },
   {
    "duration": 13,
    "start_time": "2023-02-02T01:15:49.570Z"
   },
   {
    "duration": 141,
    "start_time": "2023-02-02T01:15:49.585Z"
   },
   {
    "duration": 31,
    "start_time": "2023-02-02T01:15:49.728Z"
   },
   {
    "duration": 131,
    "start_time": "2023-02-02T01:15:49.760Z"
   },
   {
    "duration": 104,
    "start_time": "2023-02-02T01:15:49.893Z"
   },
   {
    "duration": 21,
    "start_time": "2023-02-02T01:15:49.999Z"
   },
   {
    "duration": 148,
    "start_time": "2023-02-02T01:15:50.021Z"
   },
   {
    "duration": 22,
    "start_time": "2023-02-02T01:15:50.171Z"
   },
   {
    "duration": 32,
    "start_time": "2023-02-02T01:15:50.194Z"
   },
   {
    "duration": 31,
    "start_time": "2023-02-02T01:15:50.227Z"
   },
   {
    "duration": 49,
    "start_time": "2023-02-02T01:15:50.260Z"
   },
   {
    "duration": 66,
    "start_time": "2023-02-02T01:15:50.312Z"
   },
   {
    "duration": 3,
    "start_time": "2023-02-02T01:15:50.379Z"
   },
   {
    "duration": 19,
    "start_time": "2023-02-02T01:15:50.383Z"
   },
   {
    "duration": 64,
    "start_time": "2023-02-02T01:15:50.404Z"
   },
   {
    "duration": 15,
    "start_time": "2023-02-02T01:15:50.470Z"
   },
   {
    "duration": 19,
    "start_time": "2023-02-02T01:15:50.487Z"
   },
   {
    "duration": 4,
    "start_time": "2023-02-02T01:15:50.507Z"
   },
   {
    "duration": 6,
    "start_time": "2023-02-02T01:15:50.512Z"
   },
   {
    "duration": 34,
    "start_time": "2023-02-02T01:15:50.540Z"
   },
   {
    "duration": 25,
    "start_time": "2023-02-02T01:15:51.657Z"
   },
   {
    "duration": 6393,
    "start_time": "2023-02-02T01:15:53.419Z"
   },
   {
    "duration": 13941,
    "start_time": "2023-02-02T01:17:04.063Z"
   },
   {
    "duration": 14149,
    "start_time": "2023-02-02T01:21:08.206Z"
   },
   {
    "duration": 3,
    "start_time": "2023-02-02T01:22:12.399Z"
   },
   {
    "duration": 848,
    "start_time": "2023-02-02T01:22:12.404Z"
   },
   {
    "duration": 15,
    "start_time": "2023-02-02T01:22:13.254Z"
   },
   {
    "duration": 150,
    "start_time": "2023-02-02T01:22:13.271Z"
   },
   {
    "duration": 37,
    "start_time": "2023-02-02T01:22:13.423Z"
   },
   {
    "duration": 153,
    "start_time": "2023-02-02T01:22:13.462Z"
   },
   {
    "duration": 106,
    "start_time": "2023-02-02T01:22:13.618Z"
   },
   {
    "duration": 30,
    "start_time": "2023-02-02T01:22:13.726Z"
   },
   {
    "duration": 150,
    "start_time": "2023-02-02T01:22:13.758Z"
   },
   {
    "duration": 21,
    "start_time": "2023-02-02T01:22:13.910Z"
   },
   {
    "duration": 23,
    "start_time": "2023-02-02T01:22:13.942Z"
   },
   {
    "duration": 25,
    "start_time": "2023-02-02T01:22:13.968Z"
   },
   {
    "duration": 80,
    "start_time": "2023-02-02T01:22:13.995Z"
   },
   {
    "duration": 53,
    "start_time": "2023-02-02T01:22:14.077Z"
   },
   {
    "duration": 3,
    "start_time": "2023-02-02T01:22:14.141Z"
   },
   {
    "duration": 23,
    "start_time": "2023-02-02T01:22:14.146Z"
   },
   {
    "duration": 77,
    "start_time": "2023-02-02T01:22:14.170Z"
   },
   {
    "duration": 18,
    "start_time": "2023-02-02T01:22:14.249Z"
   },
   {
    "duration": 22,
    "start_time": "2023-02-02T01:22:14.269Z"
   },
   {
    "duration": 4,
    "start_time": "2023-02-02T01:22:14.293Z"
   },
   {
    "duration": 20,
    "start_time": "2023-02-02T01:22:14.298Z"
   },
   {
    "duration": 49,
    "start_time": "2023-02-02T01:22:14.320Z"
   },
   {
    "duration": 28,
    "start_time": "2023-02-02T01:22:18.595Z"
   },
   {
    "duration": 6363,
    "start_time": "2023-02-02T01:22:23.077Z"
   },
   {
    "duration": 13,
    "start_time": "2023-02-02T01:23:04.242Z"
   },
   {
    "duration": 16,
    "start_time": "2023-02-02T01:23:13.488Z"
   },
   {
    "duration": 27,
    "start_time": "2023-02-02T01:23:23.205Z"
   },
   {
    "duration": 6563,
    "start_time": "2023-02-02T01:25:04.277Z"
   },
   {
    "duration": 6305,
    "start_time": "2023-02-02T01:25:38.461Z"
   },
   {
    "duration": 6130,
    "start_time": "2023-02-02T01:26:14.910Z"
   },
   {
    "duration": 3,
    "start_time": "2023-02-02T01:26:27.830Z"
   },
   {
    "duration": 809,
    "start_time": "2023-02-02T01:26:27.835Z"
   },
   {
    "duration": 13,
    "start_time": "2023-02-02T01:26:28.646Z"
   },
   {
    "duration": 141,
    "start_time": "2023-02-02T01:26:28.661Z"
   },
   {
    "duration": 69,
    "start_time": "2023-02-02T01:26:28.805Z"
   },
   {
    "duration": 175,
    "start_time": "2023-02-02T01:26:28.876Z"
   },
   {
    "duration": 106,
    "start_time": "2023-02-02T01:26:29.053Z"
   },
   {
    "duration": 22,
    "start_time": "2023-02-02T01:26:29.161Z"
   },
   {
    "duration": 162,
    "start_time": "2023-02-02T01:26:29.184Z"
   },
   {
    "duration": 23,
    "start_time": "2023-02-02T01:26:29.348Z"
   },
   {
    "duration": 35,
    "start_time": "2023-02-02T01:26:29.373Z"
   },
   {
    "duration": 42,
    "start_time": "2023-02-02T01:26:29.410Z"
   },
   {
    "duration": 60,
    "start_time": "2023-02-02T01:26:29.454Z"
   },
   {
    "duration": 57,
    "start_time": "2023-02-02T01:26:29.516Z"
   },
   {
    "duration": 3,
    "start_time": "2023-02-02T01:26:29.575Z"
   },
   {
    "duration": 31,
    "start_time": "2023-02-02T01:26:29.580Z"
   },
   {
    "duration": 88,
    "start_time": "2023-02-02T01:26:29.612Z"
   },
   {
    "duration": 17,
    "start_time": "2023-02-02T01:26:29.702Z"
   },
   {
    "duration": 27,
    "start_time": "2023-02-02T01:26:29.721Z"
   },
   {
    "duration": 5,
    "start_time": "2023-02-02T01:26:29.750Z"
   },
   {
    "duration": 9,
    "start_time": "2023-02-02T01:26:29.757Z"
   },
   {
    "duration": 35,
    "start_time": "2023-02-02T01:26:29.768Z"
   },
   {
    "duration": 5980,
    "start_time": "2023-02-02T01:26:32.679Z"
   },
   {
    "duration": 1223,
    "start_time": "2023-02-02T01:26:47.950Z"
   },
   {
    "duration": 884,
    "start_time": "2023-02-02T01:26:49.175Z"
   },
   {
    "duration": 17,
    "start_time": "2023-02-02T01:26:50.061Z"
   },
   {
    "duration": 156,
    "start_time": "2023-02-02T01:26:50.080Z"
   },
   {
    "duration": 62,
    "start_time": "2023-02-02T01:26:50.240Z"
   },
   {
    "duration": 146,
    "start_time": "2023-02-02T01:26:50.304Z"
   },
   {
    "duration": 119,
    "start_time": "2023-02-02T01:26:50.452Z"
   },
   {
    "duration": 32,
    "start_time": "2023-02-02T01:26:50.574Z"
   },
   {
    "duration": 160,
    "start_time": "2023-02-02T01:26:50.607Z"
   },
   {
    "duration": 21,
    "start_time": "2023-02-02T01:26:50.770Z"
   },
   {
    "duration": 28,
    "start_time": "2023-02-02T01:26:50.793Z"
   },
   {
    "duration": 55,
    "start_time": "2023-02-02T01:26:50.823Z"
   },
   {
    "duration": 52,
    "start_time": "2023-02-02T01:26:50.880Z"
   },
   {
    "duration": 50,
    "start_time": "2023-02-02T01:26:50.933Z"
   },
   {
    "duration": 3,
    "start_time": "2023-02-02T01:26:50.985Z"
   },
   {
    "duration": 20,
    "start_time": "2023-02-02T01:26:50.989Z"
   },
   {
    "duration": 110,
    "start_time": "2023-02-02T01:26:51.011Z"
   },
   {
    "duration": 18,
    "start_time": "2023-02-02T01:26:51.123Z"
   },
   {
    "duration": 21,
    "start_time": "2023-02-02T01:26:51.142Z"
   },
   {
    "duration": 4,
    "start_time": "2023-02-02T01:26:51.165Z"
   },
   {
    "duration": 20,
    "start_time": "2023-02-02T01:26:51.170Z"
   },
   {
    "duration": 43,
    "start_time": "2023-02-02T01:26:51.192Z"
   },
   {
    "duration": 25,
    "start_time": "2023-02-02T01:26:54.349Z"
   },
   {
    "duration": 235,
    "start_time": "2023-02-02T01:26:56.120Z"
   },
   {
    "duration": 6280,
    "start_time": "2023-02-02T01:27:13.960Z"
   },
   {
    "duration": 6281,
    "start_time": "2023-02-02T01:27:56.378Z"
   },
   {
    "duration": 6659,
    "start_time": "2023-02-02T01:28:07.406Z"
   },
   {
    "duration": 6179,
    "start_time": "2023-02-02T01:28:25.525Z"
   },
   {
    "duration": 1067,
    "start_time": "2023-02-02T01:29:33.285Z"
   },
   {
    "duration": 6509,
    "start_time": "2023-02-02T01:37:03.956Z"
   },
   {
    "duration": 6505,
    "start_time": "2023-02-02T01:41:04.906Z"
   },
   {
    "duration": 6430,
    "start_time": "2023-02-02T01:41:13.148Z"
   },
   {
    "duration": 6271,
    "start_time": "2023-02-02T01:41:38.387Z"
   },
   {
    "duration": 1282,
    "start_time": "2023-02-02T01:42:44.246Z"
   },
   {
    "duration": 887,
    "start_time": "2023-02-02T01:42:45.530Z"
   },
   {
    "duration": 26,
    "start_time": "2023-02-02T01:42:46.419Z"
   },
   {
    "duration": 165,
    "start_time": "2023-02-02T01:42:46.447Z"
   },
   {
    "duration": 75,
    "start_time": "2023-02-02T01:42:46.615Z"
   },
   {
    "duration": 155,
    "start_time": "2023-02-02T01:42:46.692Z"
   },
   {
    "duration": 109,
    "start_time": "2023-02-02T01:42:46.849Z"
   },
   {
    "duration": 23,
    "start_time": "2023-02-02T01:42:46.961Z"
   },
   {
    "duration": 222,
    "start_time": "2023-02-02T01:42:46.986Z"
   },
   {
    "duration": 21,
    "start_time": "2023-02-02T01:42:47.210Z"
   },
   {
    "duration": 61,
    "start_time": "2023-02-02T01:42:47.240Z"
   },
   {
    "duration": 85,
    "start_time": "2023-02-02T01:42:47.303Z"
   },
   {
    "duration": 77,
    "start_time": "2023-02-02T01:42:47.390Z"
   },
   {
    "duration": 55,
    "start_time": "2023-02-02T01:42:47.469Z"
   },
   {
    "duration": 14,
    "start_time": "2023-02-02T01:42:47.526Z"
   },
   {
    "duration": 22,
    "start_time": "2023-02-02T01:42:47.542Z"
   },
   {
    "duration": 120,
    "start_time": "2023-02-02T01:42:47.566Z"
   },
   {
    "duration": 16,
    "start_time": "2023-02-02T01:42:47.688Z"
   },
   {
    "duration": 45,
    "start_time": "2023-02-02T01:42:47.706Z"
   },
   {
    "duration": 11,
    "start_time": "2023-02-02T01:42:47.752Z"
   },
   {
    "duration": 33,
    "start_time": "2023-02-02T01:42:47.764Z"
   },
   {
    "duration": 54,
    "start_time": "2023-02-02T01:42:47.798Z"
   },
   {
    "duration": 6276,
    "start_time": "2023-02-02T01:42:47.854Z"
   },
   {
    "duration": 14,
    "start_time": "2023-02-02T01:43:42.838Z"
   },
   {
    "duration": 1147,
    "start_time": "2023-02-02T01:45:23.073Z"
   },
   {
    "duration": 887,
    "start_time": "2023-02-02T01:45:24.222Z"
   },
   {
    "duration": 17,
    "start_time": "2023-02-02T01:45:25.111Z"
   },
   {
    "duration": 162,
    "start_time": "2023-02-02T01:45:25.129Z"
   },
   {
    "duration": 68,
    "start_time": "2023-02-02T01:45:25.294Z"
   },
   {
    "duration": 144,
    "start_time": "2023-02-02T01:45:25.364Z"
   },
   {
    "duration": 106,
    "start_time": "2023-02-02T01:45:25.510Z"
   },
   {
    "duration": 29,
    "start_time": "2023-02-02T01:45:25.618Z"
   },
   {
    "duration": 159,
    "start_time": "2023-02-02T01:45:25.649Z"
   },
   {
    "duration": 19,
    "start_time": "2023-02-02T01:45:25.810Z"
   },
   {
    "duration": 29,
    "start_time": "2023-02-02T01:45:25.830Z"
   },
   {
    "duration": 28,
    "start_time": "2023-02-02T01:45:25.861Z"
   },
   {
    "duration": 69,
    "start_time": "2023-02-02T01:45:25.891Z"
   },
   {
    "duration": 50,
    "start_time": "2023-02-02T01:45:25.963Z"
   },
   {
    "duration": 2,
    "start_time": "2023-02-02T01:45:26.015Z"
   },
   {
    "duration": 22,
    "start_time": "2023-02-02T01:45:26.018Z"
   },
   {
    "duration": 73,
    "start_time": "2023-02-02T01:45:26.042Z"
   },
   {
    "duration": 25,
    "start_time": "2023-02-02T01:45:26.116Z"
   },
   {
    "duration": 21,
    "start_time": "2023-02-02T01:45:26.142Z"
   },
   {
    "duration": 5,
    "start_time": "2023-02-02T01:45:26.164Z"
   },
   {
    "duration": 9,
    "start_time": "2023-02-02T01:45:26.171Z"
   },
   {
    "duration": 43,
    "start_time": "2023-02-02T01:45:26.182Z"
   },
   {
    "duration": 6251,
    "start_time": "2023-02-02T01:45:48.347Z"
   },
   {
    "duration": 15,
    "start_time": "2023-02-02T01:46:17.079Z"
   },
   {
    "duration": 220,
    "start_time": "2023-02-02T01:46:44.582Z"
   },
   {
    "duration": 16,
    "start_time": "2023-02-02T01:47:54.878Z"
   },
   {
    "duration": 51,
    "start_time": "2023-02-02T01:51:17.318Z"
   },
   {
    "duration": 60,
    "start_time": "2023-02-02T01:51:39.073Z"
   },
   {
    "duration": 53,
    "start_time": "2023-02-02T01:51:50.504Z"
   },
   {
    "duration": 152,
    "start_time": "2023-02-02T01:54:26.746Z"
   },
   {
    "duration": 54,
    "start_time": "2023-02-02T01:55:38.336Z"
   },
   {
    "duration": 177,
    "start_time": "2023-02-02T01:57:51.172Z"
   },
   {
    "duration": 10,
    "start_time": "2023-02-02T02:02:59.226Z"
   },
   {
    "duration": 70,
    "start_time": "2023-02-02T02:03:35.538Z"
   },
   {
    "duration": 146,
    "start_time": "2023-02-02T02:03:45.170Z"
   },
   {
    "duration": 1112,
    "start_time": "2023-02-02T02:04:17.719Z"
   },
   {
    "duration": 92,
    "start_time": "2023-02-02T02:04:51.072Z"
   },
   {
    "duration": 169,
    "start_time": "2023-02-02T02:04:56.075Z"
   },
   {
    "duration": 270,
    "start_time": "2023-02-02T02:06:36.536Z"
   },
   {
    "duration": 174,
    "start_time": "2023-02-02T02:07:02.576Z"
   },
   {
    "duration": 210,
    "start_time": "2023-02-02T02:07:34.472Z"
   },
   {
    "duration": 195,
    "start_time": "2023-02-02T02:07:46.974Z"
   },
   {
    "duration": 190,
    "start_time": "2023-02-02T02:07:55.599Z"
   },
   {
    "duration": 193,
    "start_time": "2023-02-02T02:08:01.763Z"
   },
   {
    "duration": 449,
    "start_time": "2023-02-02T02:13:46.010Z"
   },
   {
    "duration": 137,
    "start_time": "2023-02-02T02:23:57.413Z"
   },
   {
    "duration": 112,
    "start_time": "2023-02-02T02:24:18.818Z"
   },
   {
    "duration": 58,
    "start_time": "2023-02-02T02:24:38.871Z"
   },
   {
    "duration": 46,
    "start_time": "2023-02-02T02:25:25.742Z"
   },
   {
    "duration": 207,
    "start_time": "2023-02-02T02:25:28.488Z"
   },
   {
    "duration": 149,
    "start_time": "2023-02-02T02:25:38.018Z"
   },
   {
    "duration": 50,
    "start_time": "2023-02-02T02:25:45.529Z"
   },
   {
    "duration": 4,
    "start_time": "2023-02-02T02:29:36.813Z"
   },
   {
    "duration": 114,
    "start_time": "2023-02-02T02:31:10.927Z"
   },
   {
    "duration": 115,
    "start_time": "2023-02-02T02:31:32.988Z"
   },
   {
    "duration": 159,
    "start_time": "2023-02-02T02:31:49.514Z"
   },
   {
    "duration": 174,
    "start_time": "2023-02-02T02:31:56.248Z"
   },
   {
    "duration": 182,
    "start_time": "2023-02-02T02:32:03.770Z"
   },
   {
    "duration": 189,
    "start_time": "2023-02-02T02:32:23.251Z"
   },
   {
    "duration": 287,
    "start_time": "2023-02-02T02:32:37.748Z"
   },
   {
    "duration": 265,
    "start_time": "2023-02-02T02:33:21.241Z"
   },
   {
    "duration": 4,
    "start_time": "2023-02-02T02:35:07.314Z"
   },
   {
    "duration": 254,
    "start_time": "2023-02-02T02:35:20.257Z"
   },
   {
    "duration": 284,
    "start_time": "2023-02-02T02:38:07.710Z"
   },
   {
    "duration": 285,
    "start_time": "2023-02-02T02:38:34.801Z"
   },
   {
    "duration": 412,
    "start_time": "2023-02-02T02:39:06.092Z"
   },
   {
    "duration": 118,
    "start_time": "2023-02-02T02:41:05.341Z"
   },
   {
    "duration": 16,
    "start_time": "2023-02-02T02:42:48.651Z"
   },
   {
    "duration": 135,
    "start_time": "2023-02-02T02:42:58.629Z"
   },
   {
    "duration": 232,
    "start_time": "2023-02-02T02:43:31.489Z"
   },
   {
    "duration": 150,
    "start_time": "2023-02-02T02:45:50.121Z"
   },
   {
    "duration": 29,
    "start_time": "2023-02-02T02:47:34.931Z"
   },
   {
    "duration": 54,
    "start_time": "2023-02-02T02:53:16.431Z"
   },
   {
    "duration": 4168,
    "start_time": "2023-02-02T02:53:40.732Z"
   },
   {
    "duration": 10,
    "start_time": "2023-02-02T02:53:49.551Z"
   },
   {
    "duration": 15,
    "start_time": "2023-02-02T02:53:51.277Z"
   },
   {
    "duration": 3,
    "start_time": "2023-02-02T02:54:09.469Z"
   },
   {
    "duration": 774,
    "start_time": "2023-02-02T02:54:09.473Z"
   },
   {
    "duration": 13,
    "start_time": "2023-02-02T02:54:10.249Z"
   },
   {
    "duration": 137,
    "start_time": "2023-02-02T02:54:10.264Z"
   },
   {
    "duration": 22,
    "start_time": "2023-02-02T02:54:10.403Z"
   },
   {
    "duration": 131,
    "start_time": "2023-02-02T02:54:10.440Z"
   },
   {
    "duration": 104,
    "start_time": "2023-02-02T02:54:10.573Z"
   },
   {
    "duration": 172,
    "start_time": "2023-02-02T02:54:10.679Z"
   },
   {
    "duration": 52,
    "start_time": "2023-02-02T02:54:10.852Z"
   },
   {
    "duration": 70,
    "start_time": "2023-02-02T02:54:10.907Z"
   },
   {
    "duration": 63,
    "start_time": "2023-02-02T02:54:10.978Z"
   },
   {
    "duration": 54,
    "start_time": "2023-02-02T02:54:11.042Z"
   },
   {
    "duration": 2,
    "start_time": "2023-02-02T02:54:11.098Z"
   },
   {
    "duration": 11,
    "start_time": "2023-02-02T02:54:11.102Z"
   },
   {
    "duration": 71,
    "start_time": "2023-02-02T02:54:11.115Z"
   },
   {
    "duration": 5842,
    "start_time": "2023-02-02T02:54:11.187Z"
   },
   {
    "duration": 11,
    "start_time": "2023-02-02T02:54:17.040Z"
   },
   {
    "duration": 20,
    "start_time": "2023-02-02T02:54:17.053Z"
   },
   {
    "duration": 1066,
    "start_time": "2023-02-02T02:54:17.074Z"
   },
   {
    "duration": 39,
    "start_time": "2023-02-02T02:54:18.141Z"
   },
   {
    "duration": 308,
    "start_time": "2023-02-02T02:54:18.181Z"
   },
   {
    "duration": 5,
    "start_time": "2023-02-02T02:54:18.491Z"
   },
   {
    "duration": 7,
    "start_time": "2023-02-02T02:54:18.498Z"
   },
   {
    "duration": 268,
    "start_time": "2023-02-02T02:54:18.506Z"
   },
   {
    "duration": 319,
    "start_time": "2023-02-02T02:54:18.776Z"
   },
   {
    "duration": 132,
    "start_time": "2023-02-02T02:54:19.098Z"
   },
   {
    "duration": 163,
    "start_time": "2023-02-02T02:54:19.240Z"
   },
   {
    "duration": 38,
    "start_time": "2023-02-02T02:54:19.406Z"
   },
   {
    "duration": 54,
    "start_time": "2023-02-02T02:55:17.891Z"
   },
   {
    "duration": 1141,
    "start_time": "2023-02-02T02:56:09.182Z"
   },
   {
    "duration": 869,
    "start_time": "2023-02-02T02:56:10.324Z"
   },
   {
    "duration": 18,
    "start_time": "2023-02-02T02:56:11.195Z"
   },
   {
    "duration": 156,
    "start_time": "2023-02-02T02:56:11.216Z"
   },
   {
    "duration": 58,
    "start_time": "2023-02-02T02:56:11.373Z"
   },
   {
    "duration": 147,
    "start_time": "2023-02-02T02:56:11.441Z"
   },
   {
    "duration": 104,
    "start_time": "2023-02-02T02:56:11.590Z"
   },
   {
    "duration": 173,
    "start_time": "2023-02-02T02:56:11.695Z"
   },
   {
    "duration": 49,
    "start_time": "2023-02-02T02:56:11.869Z"
   },
   {
    "duration": 63,
    "start_time": "2023-02-02T02:56:11.920Z"
   },
   {
    "duration": 64,
    "start_time": "2023-02-02T02:56:11.984Z"
   },
   {
    "duration": 52,
    "start_time": "2023-02-02T02:56:12.050Z"
   },
   {
    "duration": 3,
    "start_time": "2023-02-02T02:56:12.104Z"
   },
   {
    "duration": 85,
    "start_time": "2023-02-02T02:56:12.108Z"
   },
   {
    "duration": 70,
    "start_time": "2023-02-02T02:56:12.196Z"
   },
   {
    "duration": 5595,
    "start_time": "2023-02-02T02:56:12.269Z"
   },
   {
    "duration": 12,
    "start_time": "2023-02-02T02:56:17.866Z"
   },
   {
    "duration": 24,
    "start_time": "2023-02-02T02:56:17.880Z"
   },
   {
    "duration": 1141,
    "start_time": "2023-02-02T02:56:17.905Z"
   },
   {
    "duration": 41,
    "start_time": "2023-02-02T02:56:19.048Z"
   },
   {
    "duration": 219,
    "start_time": "2023-02-02T02:56:19.092Z"
   },
   {
    "duration": 3,
    "start_time": "2023-02-02T02:56:19.312Z"
   },
   {
    "duration": 253,
    "start_time": "2023-02-02T02:56:19.316Z"
   },
   {
    "duration": 264,
    "start_time": "2023-02-02T02:56:19.571Z"
   },
   {
    "duration": 116,
    "start_time": "2023-02-02T02:56:19.837Z"
   },
   {
    "duration": 149,
    "start_time": "2023-02-02T02:56:19.955Z"
   },
   {
    "duration": 35,
    "start_time": "2023-02-02T02:56:20.107Z"
   },
   {
    "duration": 49,
    "start_time": "2023-02-02T02:56:37.430Z"
   },
   {
    "duration": 8,
    "start_time": "2023-02-02T02:58:29.558Z"
   },
   {
    "duration": 30,
    "start_time": "2023-02-02T02:59:12.145Z"
   },
   {
    "duration": 8,
    "start_time": "2023-02-02T02:59:14.865Z"
   },
   {
    "duration": 26,
    "start_time": "2023-02-02T02:59:34.460Z"
   },
   {
    "duration": 60,
    "start_time": "2023-02-02T02:59:38.183Z"
   },
   {
    "duration": 45,
    "start_time": "2023-02-02T03:10:57.909Z"
   },
   {
    "duration": 47,
    "start_time": "2023-02-02T03:11:19.779Z"
   },
   {
    "duration": 4256,
    "start_time": "2023-02-02T03:11:32.804Z"
   },
   {
    "duration": 111,
    "start_time": "2023-02-02T03:14:18.411Z"
   },
   {
    "duration": 4,
    "start_time": "2023-02-02T03:14:23.144Z"
   },
   {
    "duration": 60,
    "start_time": "2023-02-02T03:15:29.038Z"
   },
   {
    "duration": 58,
    "start_time": "2023-02-02T03:17:01.861Z"
   },
   {
    "duration": 3,
    "start_time": "2023-02-02T03:17:20.420Z"
   },
   {
    "duration": 24,
    "start_time": "2023-02-02T03:21:14.968Z"
   },
   {
    "duration": 267,
    "start_time": "2023-02-02T03:21:51.131Z"
   },
   {
    "duration": 5,
    "start_time": "2023-02-02T03:22:26.248Z"
   },
   {
    "duration": 3,
    "start_time": "2023-02-02T03:22:40.358Z"
   },
   {
    "duration": 65,
    "start_time": "2023-02-02T03:22:49.291Z"
   },
   {
    "duration": 90,
    "start_time": "2023-02-02T03:45:35.939Z"
   },
   {
    "duration": 20,
    "start_time": "2023-02-02T03:45:41.887Z"
   },
   {
    "duration": 4,
    "start_time": "2023-02-02T03:45:48.692Z"
   },
   {
    "duration": 8,
    "start_time": "2023-02-02T03:45:54.038Z"
   },
   {
    "duration": 20,
    "start_time": "2023-02-02T03:47:05.558Z"
   },
   {
    "duration": 6,
    "start_time": "2023-02-02T03:47:49.879Z"
   },
   {
    "duration": 12571,
    "start_time": "2023-02-02T03:47:52.439Z"
   },
   {
    "duration": 5,
    "start_time": "2023-02-02T03:50:12.285Z"
   },
   {
    "duration": 14,
    "start_time": "2023-02-02T03:50:38.306Z"
   },
   {
    "duration": 11,
    "start_time": "2023-02-02T03:56:19.756Z"
   },
   {
    "duration": 2648,
    "start_time": "2023-02-02T03:56:39.046Z"
   },
   {
    "duration": 2977,
    "start_time": "2023-02-02T04:34:33.925Z"
   },
   {
    "duration": 87,
    "start_time": "2023-02-02T04:58:59.927Z"
   },
   {
    "duration": 54,
    "start_time": "2023-02-02T05:01:33.104Z"
   },
   {
    "duration": 16,
    "start_time": "2023-02-02T05:02:54.836Z"
   },
   {
    "duration": 27,
    "start_time": "2023-02-02T05:03:17.029Z"
   },
   {
    "duration": 65,
    "start_time": "2023-02-02T05:03:50.758Z"
   },
   {
    "duration": 20,
    "start_time": "2023-02-02T05:04:05.918Z"
   },
   {
    "duration": 64,
    "start_time": "2023-02-02T05:04:08.926Z"
   },
   {
    "duration": 4,
    "start_time": "2023-02-02T05:05:39.306Z"
   },
   {
    "duration": 13,
    "start_time": "2023-02-02T05:06:04.147Z"
   },
   {
    "duration": 5,
    "start_time": "2023-02-02T05:06:41.328Z"
   },
   {
    "duration": 4,
    "start_time": "2023-02-02T05:06:52.869Z"
   },
   {
    "duration": 7,
    "start_time": "2023-02-02T05:07:15.650Z"
   },
   {
    "duration": 4,
    "start_time": "2023-02-02T05:07:32.386Z"
   },
   {
    "duration": 4,
    "start_time": "2023-02-02T05:07:35.682Z"
   },
   {
    "duration": 10,
    "start_time": "2023-02-02T05:09:28.397Z"
   },
   {
    "duration": 10,
    "start_time": "2023-02-02T05:09:33.217Z"
   },
   {
    "duration": 13,
    "start_time": "2023-02-02T05:09:37.564Z"
   },
   {
    "duration": 7,
    "start_time": "2023-02-02T05:11:18.856Z"
   },
   {
    "duration": 5,
    "start_time": "2023-02-02T05:11:49.002Z"
   },
   {
    "duration": 5,
    "start_time": "2023-02-02T05:12:06.914Z"
   },
   {
    "duration": 4,
    "start_time": "2023-02-02T05:12:18.706Z"
   },
   {
    "duration": 14,
    "start_time": "2023-02-02T05:12:46.708Z"
   },
   {
    "duration": 5,
    "start_time": "2023-02-02T05:12:50.147Z"
   },
   {
    "duration": 5,
    "start_time": "2023-02-02T05:14:06.083Z"
   },
   {
    "duration": 140,
    "start_time": "2023-02-02T05:14:35.745Z"
   },
   {
    "duration": 4,
    "start_time": "2023-02-02T05:14:51.446Z"
   },
   {
    "duration": 10,
    "start_time": "2023-02-02T05:16:02.594Z"
   },
   {
    "duration": 5,
    "start_time": "2023-02-02T05:16:20.006Z"
   },
   {
    "duration": 4,
    "start_time": "2023-02-02T05:20:18.126Z"
   },
   {
    "duration": 936,
    "start_time": "2023-02-02T05:20:18.131Z"
   },
   {
    "duration": 15,
    "start_time": "2023-02-02T05:20:19.070Z"
   },
   {
    "duration": 175,
    "start_time": "2023-02-02T05:20:19.087Z"
   },
   {
    "duration": 23,
    "start_time": "2023-02-02T05:20:19.264Z"
   },
   {
    "duration": 164,
    "start_time": "2023-02-02T05:20:19.289Z"
   },
   {
    "duration": 108,
    "start_time": "2023-02-02T05:20:19.456Z"
   },
   {
    "duration": 174,
    "start_time": "2023-02-02T05:20:19.566Z"
   },
   {
    "duration": 57,
    "start_time": "2023-02-02T05:20:19.742Z"
   },
   {
    "duration": 79,
    "start_time": "2023-02-02T05:20:19.801Z"
   },
   {
    "duration": 66,
    "start_time": "2023-02-02T05:20:19.883Z"
   },
   {
    "duration": 60,
    "start_time": "2023-02-02T05:20:19.951Z"
   },
   {
    "duration": 2,
    "start_time": "2023-02-02T05:20:20.013Z"
   },
   {
    "duration": 71,
    "start_time": "2023-02-02T05:20:20.017Z"
   },
   {
    "duration": 53,
    "start_time": "2023-02-02T05:20:20.090Z"
   },
   {
    "duration": 4995,
    "start_time": "2023-02-02T05:20:20.145Z"
   },
   {
    "duration": 13,
    "start_time": "2023-02-02T05:20:25.142Z"
   },
   {
    "duration": 1070,
    "start_time": "2023-02-02T05:20:25.157Z"
   },
   {
    "duration": 45,
    "start_time": "2023-02-02T05:20:26.235Z"
   },
   {
    "duration": 222,
    "start_time": "2023-02-02T05:20:26.282Z"
   },
   {
    "duration": 2,
    "start_time": "2023-02-02T05:20:26.506Z"
   },
   {
    "duration": 246,
    "start_time": "2023-02-02T05:20:26.510Z"
   },
   {
    "duration": 244,
    "start_time": "2023-02-02T05:20:26.758Z"
   },
   {
    "duration": 109,
    "start_time": "2023-02-02T05:20:27.003Z"
   },
   {
    "duration": 145,
    "start_time": "2023-02-02T05:20:27.113Z"
   },
   {
    "duration": 3,
    "start_time": "2023-02-02T05:20:27.260Z"
   },
   {
    "duration": 30,
    "start_time": "2023-02-02T05:20:27.265Z"
   },
   {
    "duration": 64,
    "start_time": "2023-02-02T05:20:27.297Z"
   },
   {
    "duration": 4,
    "start_time": "2023-02-02T05:20:27.366Z"
   },
   {
    "duration": 49,
    "start_time": "2023-02-02T05:20:27.372Z"
   },
   {
    "duration": 135,
    "start_time": "2023-02-02T05:20:27.423Z"
   },
   {
    "duration": 57,
    "start_time": "2023-02-02T05:20:27.560Z"
   },
   {
    "duration": 7,
    "start_time": "2023-02-02T05:20:27.619Z"
   },
   {
    "duration": 79,
    "start_time": "2023-02-02T05:20:27.628Z"
   },
   {
    "duration": 0,
    "start_time": "2023-02-02T05:20:27.709Z"
   },
   {
    "duration": 0,
    "start_time": "2023-02-02T05:20:27.710Z"
   },
   {
    "duration": 6,
    "start_time": "2023-02-02T05:20:49.762Z"
   },
   {
    "duration": 6,
    "start_time": "2023-02-02T05:21:44.165Z"
   },
   {
    "duration": 11,
    "start_time": "2023-02-02T05:25:19.855Z"
   },
   {
    "duration": 3,
    "start_time": "2023-02-02T05:25:29.996Z"
   },
   {
    "duration": 4,
    "start_time": "2023-02-02T05:25:36.680Z"
   },
   {
    "duration": 101,
    "start_time": "2023-02-02T05:26:00.026Z"
   },
   {
    "duration": 7,
    "start_time": "2023-02-02T05:26:18.243Z"
   },
   {
    "duration": 332,
    "start_time": "2023-02-02T05:27:10.680Z"
   },
   {
    "duration": 43,
    "start_time": "2023-02-02T05:30:58.519Z"
   },
   {
    "duration": 15,
    "start_time": "2023-02-02T05:32:09.307Z"
   },
   {
    "duration": 3,
    "start_time": "2023-02-02T05:32:13.720Z"
   },
   {
    "duration": 102,
    "start_time": "2023-02-02T05:32:18.648Z"
   },
   {
    "duration": 113,
    "start_time": "2023-02-02T05:33:24.807Z"
   },
   {
    "duration": 62,
    "start_time": "2023-02-02T05:34:26.518Z"
   },
   {
    "duration": 95,
    "start_time": "2023-02-02T05:34:58.912Z"
   },
   {
    "duration": 136,
    "start_time": "2023-02-02T05:35:17.440Z"
   },
   {
    "duration": 3,
    "start_time": "2023-02-02T05:36:09.816Z"
   },
   {
    "duration": 878,
    "start_time": "2023-02-02T05:36:09.821Z"
   },
   {
    "duration": 13,
    "start_time": "2023-02-02T05:36:10.702Z"
   },
   {
    "duration": 149,
    "start_time": "2023-02-02T05:36:10.717Z"
   },
   {
    "duration": 23,
    "start_time": "2023-02-02T05:36:10.868Z"
   },
   {
    "duration": 151,
    "start_time": "2023-02-02T05:36:10.893Z"
   },
   {
    "duration": 114,
    "start_time": "2023-02-02T05:36:11.047Z"
   },
   {
    "duration": 167,
    "start_time": "2023-02-02T05:36:11.163Z"
   },
   {
    "duration": 52,
    "start_time": "2023-02-02T05:36:11.341Z"
   },
   {
    "duration": 72,
    "start_time": "2023-02-02T05:36:11.396Z"
   },
   {
    "duration": 54,
    "start_time": "2023-02-02T05:36:11.470Z"
   },
   {
    "duration": 61,
    "start_time": "2023-02-02T05:36:11.526Z"
   },
   {
    "duration": 3,
    "start_time": "2023-02-02T05:36:11.588Z"
   },
   {
    "duration": 67,
    "start_time": "2023-02-02T05:36:11.593Z"
   },
   {
    "duration": 42,
    "start_time": "2023-02-02T05:36:11.662Z"
   },
   {
    "duration": 4793,
    "start_time": "2023-02-02T05:36:11.706Z"
   },
   {
    "duration": 10,
    "start_time": "2023-02-02T05:36:16.501Z"
   },
   {
    "duration": 1057,
    "start_time": "2023-02-02T05:36:16.513Z"
   },
   {
    "duration": 31,
    "start_time": "2023-02-02T05:36:17.572Z"
   },
   {
    "duration": 199,
    "start_time": "2023-02-02T05:36:17.605Z"
   },
   {
    "duration": 3,
    "start_time": "2023-02-02T05:36:17.806Z"
   },
   {
    "duration": 182,
    "start_time": "2023-02-02T05:36:17.810Z"
   },
   {
    "duration": 198,
    "start_time": "2023-02-02T05:36:17.994Z"
   },
   {
    "duration": 130,
    "start_time": "2023-02-02T05:36:18.195Z"
   },
   {
    "duration": 131,
    "start_time": "2023-02-02T05:36:18.326Z"
   },
   {
    "duration": 2,
    "start_time": "2023-02-02T05:36:18.459Z"
   },
   {
    "duration": 27,
    "start_time": "2023-02-02T05:36:18.463Z"
   },
   {
    "duration": 63,
    "start_time": "2023-02-02T05:36:18.493Z"
   },
   {
    "duration": 4,
    "start_time": "2023-02-02T05:36:18.558Z"
   },
   {
    "duration": 53,
    "start_time": "2023-02-02T05:36:18.564Z"
   },
   {
    "duration": 68,
    "start_time": "2023-02-02T05:36:18.619Z"
   },
   {
    "duration": 4,
    "start_time": "2023-02-02T05:36:18.689Z"
   },
   {
    "duration": 98,
    "start_time": "2023-02-02T05:36:24.621Z"
   },
   {
    "duration": 5,
    "start_time": "2023-02-02T05:36:26.638Z"
   },
   {
    "duration": 4,
    "start_time": "2023-02-02T05:36:52.506Z"
   },
   {
    "duration": 4,
    "start_time": "2023-02-02T05:37:00.193Z"
   },
   {
    "duration": 22,
    "start_time": "2023-02-02T05:37:14.636Z"
   },
   {
    "duration": 115,
    "start_time": "2023-02-02T05:37:36.275Z"
   },
   {
    "duration": 118,
    "start_time": "2023-02-02T05:38:22.644Z"
   },
   {
    "duration": 3,
    "start_time": "2023-02-02T05:39:36.726Z"
   },
   {
    "duration": 805,
    "start_time": "2023-02-02T05:39:36.731Z"
   },
   {
    "duration": 13,
    "start_time": "2023-02-02T05:39:37.541Z"
   },
   {
    "duration": 144,
    "start_time": "2023-02-02T05:39:37.556Z"
   },
   {
    "duration": 62,
    "start_time": "2023-02-02T05:39:37.702Z"
   },
   {
    "duration": 140,
    "start_time": "2023-02-02T05:39:37.767Z"
   },
   {
    "duration": 119,
    "start_time": "2023-02-02T05:39:37.909Z"
   },
   {
    "duration": 176,
    "start_time": "2023-02-02T05:39:38.029Z"
   },
   {
    "duration": 77,
    "start_time": "2023-02-02T05:39:38.207Z"
   },
   {
    "duration": 60,
    "start_time": "2023-02-02T05:39:38.286Z"
   },
   {
    "duration": 51,
    "start_time": "2023-02-02T05:39:38.349Z"
   },
   {
    "duration": 85,
    "start_time": "2023-02-02T05:39:38.402Z"
   },
   {
    "duration": 2,
    "start_time": "2023-02-02T05:39:38.492Z"
   },
   {
    "duration": 60,
    "start_time": "2023-02-02T05:39:38.496Z"
   },
   {
    "duration": 42,
    "start_time": "2023-02-02T05:39:38.559Z"
   },
   {
    "duration": 4639,
    "start_time": "2023-02-02T05:39:38.603Z"
   },
   {
    "duration": 11,
    "start_time": "2023-02-02T05:39:43.244Z"
   },
   {
    "duration": 1097,
    "start_time": "2023-02-02T05:39:43.257Z"
   },
   {
    "duration": 31,
    "start_time": "2023-02-02T05:39:44.356Z"
   },
   {
    "duration": 214,
    "start_time": "2023-02-02T05:39:44.389Z"
   },
   {
    "duration": 3,
    "start_time": "2023-02-02T05:39:44.605Z"
   },
   {
    "duration": 185,
    "start_time": "2023-02-02T05:39:44.610Z"
   },
   {
    "duration": 185,
    "start_time": "2023-02-02T05:39:44.797Z"
   },
   {
    "duration": 107,
    "start_time": "2023-02-02T05:39:44.984Z"
   },
   {
    "duration": 135,
    "start_time": "2023-02-02T05:39:45.093Z"
   },
   {
    "duration": 10,
    "start_time": "2023-02-02T05:39:45.230Z"
   },
   {
    "duration": 24,
    "start_time": "2023-02-02T05:39:45.241Z"
   },
   {
    "duration": 48,
    "start_time": "2023-02-02T05:39:45.267Z"
   },
   {
    "duration": 24,
    "start_time": "2023-02-02T05:39:45.317Z"
   },
   {
    "duration": 51,
    "start_time": "2023-02-02T05:39:45.343Z"
   },
   {
    "duration": 73,
    "start_time": "2023-02-02T05:39:45.396Z"
   },
   {
    "duration": 5,
    "start_time": "2023-02-02T05:39:45.470Z"
   },
   {
    "duration": 5,
    "start_time": "2023-02-02T05:39:49.084Z"
   },
   {
    "duration": 98,
    "start_time": "2023-02-02T05:39:50.925Z"
   },
   {
    "duration": 4,
    "start_time": "2023-02-02T05:39:54.184Z"
   },
   {
    "duration": 24,
    "start_time": "2023-02-02T05:39:59.744Z"
   },
   {
    "duration": 126,
    "start_time": "2023-02-02T05:40:21.880Z"
   },
   {
    "duration": 94,
    "start_time": "2023-02-02T05:41:05.557Z"
   },
   {
    "duration": 7,
    "start_time": "2023-02-02T05:53:45.492Z"
   },
   {
    "duration": 6,
    "start_time": "2023-02-02T05:54:55.503Z"
   },
   {
    "duration": 5,
    "start_time": "2023-02-02T05:56:23.641Z"
   },
   {
    "duration": 7,
    "start_time": "2023-02-02T05:56:36.861Z"
   },
   {
    "duration": 7,
    "start_time": "2023-02-02T05:57:32.211Z"
   },
   {
    "duration": 117,
    "start_time": "2023-02-02T05:58:19.166Z"
   },
   {
    "duration": 103,
    "start_time": "2023-02-02T06:26:05.254Z"
   },
   {
    "duration": 62425,
    "start_time": "2023-02-02T06:26:38.870Z"
   },
   {
    "duration": 64512,
    "start_time": "2023-02-02T06:28:19.519Z"
   },
   {
    "duration": 2259,
    "start_time": "2023-02-02T06:35:09.596Z"
   },
   {
    "duration": 2194,
    "start_time": "2023-02-02T06:35:23.056Z"
   },
   {
    "duration": 2345,
    "start_time": "2023-02-02T06:35:53.605Z"
   },
   {
    "duration": 21,
    "start_time": "2023-02-02T06:39:23.481Z"
   },
   {
    "duration": 579,
    "start_time": "2023-02-02T06:40:14.198Z"
   },
   {
    "duration": 11,
    "start_time": "2023-02-02T06:42:27.053Z"
   },
   {
    "duration": 1288,
    "start_time": "2023-02-02T06:42:33.607Z"
   },
   {
    "duration": 23,
    "start_time": "2023-02-02T06:42:54.682Z"
   },
   {
    "duration": 19,
    "start_time": "2023-02-02T06:43:38.319Z"
   },
   {
    "duration": 18,
    "start_time": "2023-02-02T06:43:54.650Z"
   },
   {
    "duration": 172,
    "start_time": "2023-02-02T06:44:07.089Z"
   },
   {
    "duration": 64,
    "start_time": "2023-02-02T06:44:22.813Z"
   },
   {
    "duration": 59,
    "start_time": "2023-02-02T06:44:32.041Z"
   },
   {
    "duration": 1411,
    "start_time": "2023-02-02T06:52:33.372Z"
   },
   {
    "duration": 897,
    "start_time": "2023-02-02T06:52:34.785Z"
   },
   {
    "duration": 18,
    "start_time": "2023-02-02T06:52:35.684Z"
   },
   {
    "duration": 153,
    "start_time": "2023-02-02T06:52:35.704Z"
   },
   {
    "duration": 64,
    "start_time": "2023-02-02T06:52:35.860Z"
   },
   {
    "duration": 153,
    "start_time": "2023-02-02T06:52:35.925Z"
   },
   {
    "duration": 103,
    "start_time": "2023-02-02T06:52:36.080Z"
   },
   {
    "duration": 182,
    "start_time": "2023-02-02T06:52:36.185Z"
   },
   {
    "duration": 52,
    "start_time": "2023-02-02T06:52:36.369Z"
   },
   {
    "duration": 67,
    "start_time": "2023-02-02T06:52:36.422Z"
   },
   {
    "duration": 70,
    "start_time": "2023-02-02T06:52:36.490Z"
   },
   {
    "duration": 59,
    "start_time": "2023-02-02T06:52:36.562Z"
   },
   {
    "duration": 111,
    "start_time": "2023-02-02T06:52:36.624Z"
   },
   {
    "duration": 79,
    "start_time": "2023-02-02T06:52:36.739Z"
   },
   {
    "duration": 57,
    "start_time": "2023-02-02T06:52:36.820Z"
   },
   {
    "duration": 4852,
    "start_time": "2023-02-02T06:52:36.879Z"
   },
   {
    "duration": 16,
    "start_time": "2023-02-02T06:52:41.733Z"
   },
   {
    "duration": 1076,
    "start_time": "2023-02-02T06:52:41.752Z"
   },
   {
    "duration": 42,
    "start_time": "2023-02-02T06:52:42.830Z"
   },
   {
    "duration": 198,
    "start_time": "2023-02-02T06:52:42.874Z"
   },
   {
    "duration": 3,
    "start_time": "2023-02-02T06:52:43.074Z"
   },
   {
    "duration": 274,
    "start_time": "2023-02-02T06:52:43.078Z"
   },
   {
    "duration": 233,
    "start_time": "2023-02-02T06:52:43.353Z"
   },
   {
    "duration": 116,
    "start_time": "2023-02-02T06:52:43.588Z"
   },
   {
    "duration": 167,
    "start_time": "2023-02-02T06:52:43.706Z"
   },
   {
    "duration": 4,
    "start_time": "2023-02-02T06:52:43.875Z"
   },
   {
    "duration": 37,
    "start_time": "2023-02-02T06:52:43.881Z"
   },
   {
    "duration": 57,
    "start_time": "2023-02-02T06:52:43.920Z"
   },
   {
    "duration": 4,
    "start_time": "2023-02-02T06:52:43.979Z"
   },
   {
    "duration": 63,
    "start_time": "2023-02-02T06:52:43.984Z"
   },
   {
    "duration": 151,
    "start_time": "2023-02-02T06:52:44.049Z"
   },
   {
    "duration": 5,
    "start_time": "2023-02-02T06:52:44.201Z"
   },
   {
    "duration": 123,
    "start_time": "2023-02-02T06:52:44.208Z"
   },
   {
    "duration": 7,
    "start_time": "2023-02-02T06:52:44.333Z"
   },
   {
    "duration": 7,
    "start_time": "2023-02-02T06:52:44.342Z"
   },
   {
    "duration": 4,
    "start_time": "2023-02-02T06:52:44.351Z"
   },
   {
    "duration": 11,
    "start_time": "2023-02-02T06:52:44.357Z"
   },
   {
    "duration": 23,
    "start_time": "2023-02-02T06:52:44.369Z"
   },
   {
    "duration": 21,
    "start_time": "2023-02-02T06:53:09.801Z"
   },
   {
    "duration": 224,
    "start_time": "2023-02-02T06:53:12.922Z"
   },
   {
    "duration": 112,
    "start_time": "2023-02-02T06:57:07.971Z"
   },
   {
    "duration": 42,
    "start_time": "2023-02-02T06:57:25.352Z"
   },
   {
    "duration": 121,
    "start_time": "2023-02-02T06:57:46.967Z"
   },
   {
    "duration": 95,
    "start_time": "2023-02-02T06:59:15.751Z"
   },
   {
    "duration": 96,
    "start_time": "2023-02-02T06:59:34.949Z"
   },
   {
    "duration": 5,
    "start_time": "2023-02-02T07:01:06.367Z"
   },
   {
    "duration": 94,
    "start_time": "2023-02-02T07:01:25.006Z"
   },
   {
    "duration": 138,
    "start_time": "2023-02-02T07:04:00.191Z"
   },
   {
    "duration": 118,
    "start_time": "2023-02-02T07:04:19.610Z"
   },
   {
    "duration": 15,
    "start_time": "2023-02-02T07:07:44.041Z"
   },
   {
    "duration": 92,
    "start_time": "2023-02-02T07:07:44.085Z"
   },
   {
    "duration": 3,
    "start_time": "2023-02-02T07:09:26.829Z"
   },
   {
    "duration": 873,
    "start_time": "2023-02-02T07:09:26.834Z"
   },
   {
    "duration": 13,
    "start_time": "2023-02-02T07:09:27.709Z"
   },
   {
    "duration": 132,
    "start_time": "2023-02-02T07:09:27.739Z"
   },
   {
    "duration": 25,
    "start_time": "2023-02-02T07:09:27.873Z"
   },
   {
    "duration": 184,
    "start_time": "2023-02-02T07:09:27.900Z"
   },
   {
    "duration": 123,
    "start_time": "2023-02-02T07:09:28.085Z"
   },
   {
    "duration": 179,
    "start_time": "2023-02-02T07:09:28.210Z"
   },
   {
    "duration": 54,
    "start_time": "2023-02-02T07:09:28.392Z"
   },
   {
    "duration": 55,
    "start_time": "2023-02-02T07:09:28.448Z"
   },
   {
    "duration": 69,
    "start_time": "2023-02-02T07:09:28.505Z"
   },
   {
    "duration": 65,
    "start_time": "2023-02-02T07:09:28.576Z"
   },
   {
    "duration": 3,
    "start_time": "2023-02-02T07:09:28.642Z"
   },
   {
    "duration": 60,
    "start_time": "2023-02-02T07:09:28.647Z"
   },
   {
    "duration": 56,
    "start_time": "2023-02-02T07:09:28.709Z"
   },
   {
    "duration": 4841,
    "start_time": "2023-02-02T07:09:28.766Z"
   },
   {
    "duration": 13,
    "start_time": "2023-02-02T07:09:33.608Z"
   },
   {
    "duration": 1068,
    "start_time": "2023-02-02T07:09:33.623Z"
   },
   {
    "duration": 34,
    "start_time": "2023-02-02T07:09:34.693Z"
   },
   {
    "duration": 201,
    "start_time": "2023-02-02T07:09:34.739Z"
   },
   {
    "duration": 2,
    "start_time": "2023-02-02T07:09:34.942Z"
   },
   {
    "duration": 222,
    "start_time": "2023-02-02T07:09:34.946Z"
   },
   {
    "duration": 208,
    "start_time": "2023-02-02T07:09:35.170Z"
   },
   {
    "duration": 107,
    "start_time": "2023-02-02T07:09:35.382Z"
   },
   {
    "duration": 134,
    "start_time": "2023-02-02T07:09:35.492Z"
   },
   {
    "duration": 3,
    "start_time": "2023-02-02T07:09:35.628Z"
   },
   {
    "duration": 45,
    "start_time": "2023-02-02T07:09:35.640Z"
   },
   {
    "duration": 47,
    "start_time": "2023-02-02T07:09:35.686Z"
   },
   {
    "duration": 6,
    "start_time": "2023-02-02T07:09:35.735Z"
   },
   {
    "duration": 55,
    "start_time": "2023-02-02T07:09:35.743Z"
   },
   {
    "duration": 58,
    "start_time": "2023-02-02T07:09:35.800Z"
   },
   {
    "duration": 24,
    "start_time": "2023-02-02T07:09:35.860Z"
   },
   {
    "duration": 119,
    "start_time": "2023-02-02T07:09:35.886Z"
   },
   {
    "duration": 3,
    "start_time": "2023-02-02T07:09:36.007Z"
   },
   {
    "duration": 25,
    "start_time": "2023-02-02T07:09:36.012Z"
   },
   {
    "duration": 30,
    "start_time": "2023-02-02T07:09:36.039Z"
   },
   {
    "duration": 28,
    "start_time": "2023-02-02T07:09:36.071Z"
   },
   {
    "duration": 41,
    "start_time": "2023-02-02T07:09:36.101Z"
   },
   {
    "duration": 31,
    "start_time": "2023-02-02T07:09:36.144Z"
   },
   {
    "duration": 12,
    "start_time": "2023-02-02T07:09:55.106Z"
   },
   {
    "duration": 3839,
    "start_time": "2023-02-02T07:10:12.764Z"
   },
   {
    "duration": 3243,
    "start_time": "2023-02-02T07:10:36.409Z"
   },
   {
    "duration": 92,
    "start_time": "2023-02-02T07:11:09.570Z"
   },
   {
    "duration": 3282,
    "start_time": "2023-02-02T07:11:15.769Z"
   },
   {
    "duration": 3274,
    "start_time": "2023-02-02T07:11:38.079Z"
   },
   {
    "duration": 3322,
    "start_time": "2023-02-02T07:12:04.017Z"
   },
   {
    "duration": 103,
    "start_time": "2023-02-02T07:12:38.242Z"
   },
   {
    "duration": 5,
    "start_time": "2023-02-02T07:12:59.991Z"
   },
   {
    "duration": 311,
    "start_time": "2023-02-02T07:13:20.605Z"
   },
   {
    "duration": 600540,
    "start_time": "2023-02-02T07:14:03.036Z"
   },
   {
    "duration": 0,
    "start_time": "2023-02-02T07:24:03.579Z"
   },
   {
    "duration": 0,
    "start_time": "2023-02-02T07:24:03.580Z"
   },
   {
    "duration": 4,
    "start_time": "2023-02-02T07:24:19.108Z"
   },
   {
    "duration": 173536,
    "start_time": "2023-02-02T07:24:23.834Z"
   },
   {
    "duration": 4,
    "start_time": "2023-02-02T07:30:13.397Z"
   },
   {
    "duration": 17,
    "start_time": "2023-02-02T07:32:07.355Z"
   },
   {
    "duration": 162790,
    "start_time": "2023-02-02T07:34:36.948Z"
   },
   {
    "duration": 4,
    "start_time": "2023-02-02T07:37:38.672Z"
   },
   {
    "duration": 4,
    "start_time": "2023-02-02T07:37:52.628Z"
   },
   {
    "duration": 3,
    "start_time": "2023-02-02T07:37:57.488Z"
   },
   {
    "duration": 171364,
    "start_time": "2023-02-02T07:38:00.839Z"
   },
   {
    "duration": 5,
    "start_time": "2023-02-02T07:41:04.279Z"
   },
   {
    "duration": 4,
    "start_time": "2023-02-02T07:41:18.338Z"
   },
   {
    "duration": 4,
    "start_time": "2023-02-02T07:42:13.357Z"
   },
   {
    "duration": 5,
    "start_time": "2023-02-02T07:42:23.131Z"
   },
   {
    "duration": 4,
    "start_time": "2023-02-02T07:42:38.720Z"
   },
   {
    "duration": 4,
    "start_time": "2023-02-02T07:43:04.389Z"
   },
   {
    "duration": 107,
    "start_time": "2023-02-02T07:43:35.075Z"
   },
   {
    "duration": 113,
    "start_time": "2023-02-02T07:47:09.105Z"
   },
   {
    "duration": 18,
    "start_time": "2023-02-02T07:47:25.478Z"
   },
   {
    "duration": 30031,
    "start_time": "2023-02-02T07:48:08.136Z"
   },
   {
    "duration": 3,
    "start_time": "2023-02-02T07:53:47.012Z"
   },
   {
    "duration": 5,
    "start_time": "2023-02-02T07:54:17.984Z"
   },
   {
    "duration": 96,
    "start_time": "2023-02-02T07:57:53.586Z"
   },
   {
    "duration": 94,
    "start_time": "2023-02-02T07:58:15.612Z"
   },
   {
    "duration": 44,
    "start_time": "2023-02-02T07:58:55.059Z"
   },
   {
    "duration": 40,
    "start_time": "2023-02-02T07:59:07.035Z"
   },
   {
    "duration": 91,
    "start_time": "2023-02-02T07:59:27.715Z"
   },
   {
    "duration": 101,
    "start_time": "2023-02-02T08:04:05.796Z"
   },
   {
    "duration": 108,
    "start_time": "2023-02-02T08:06:46.444Z"
   },
   {
    "duration": 104,
    "start_time": "2023-02-02T08:06:54.679Z"
   },
   {
    "duration": 29,
    "start_time": "2023-02-02T08:09:01.624Z"
   },
   {
    "duration": 42,
    "start_time": "2023-02-02T08:09:22.650Z"
   },
   {
    "duration": 55,
    "start_time": "2023-02-02T08:09:33.232Z"
   },
   {
    "duration": 20,
    "start_time": "2023-02-02T08:09:34.866Z"
   },
   {
    "duration": 3687,
    "start_time": "2023-02-02T08:09:39.054Z"
   },
   {
    "duration": 3,
    "start_time": "2023-02-02T08:11:12.061Z"
   },
   {
    "duration": 872,
    "start_time": "2023-02-02T08:11:12.079Z"
   },
   {
    "duration": 14,
    "start_time": "2023-02-02T08:11:12.954Z"
   },
   {
    "duration": 145,
    "start_time": "2023-02-02T08:11:12.970Z"
   },
   {
    "duration": 38,
    "start_time": "2023-02-02T08:11:13.116Z"
   },
   {
    "duration": 145,
    "start_time": "2023-02-02T08:11:13.156Z"
   },
   {
    "duration": 121,
    "start_time": "2023-02-02T08:11:13.304Z"
   },
   {
    "duration": 203,
    "start_time": "2023-02-02T08:11:13.428Z"
   },
   {
    "duration": 61,
    "start_time": "2023-02-02T08:11:13.644Z"
   },
   {
    "duration": 73,
    "start_time": "2023-02-02T08:11:13.707Z"
   },
   {
    "duration": 71,
    "start_time": "2023-02-02T08:11:13.782Z"
   },
   {
    "duration": 54,
    "start_time": "2023-02-02T08:11:13.855Z"
   },
   {
    "duration": 3,
    "start_time": "2023-02-02T08:11:13.911Z"
   },
   {
    "duration": 69,
    "start_time": "2023-02-02T08:11:13.916Z"
   },
   {
    "duration": 41,
    "start_time": "2023-02-02T08:11:13.989Z"
   },
   {
    "duration": 5003,
    "start_time": "2023-02-02T08:11:14.032Z"
   },
   {
    "duration": 12,
    "start_time": "2023-02-02T08:11:19.040Z"
   },
   {
    "duration": 1146,
    "start_time": "2023-02-02T08:11:19.054Z"
   },
   {
    "duration": 39,
    "start_time": "2023-02-02T08:11:20.201Z"
   },
   {
    "duration": 217,
    "start_time": "2023-02-02T08:11:20.242Z"
   },
   {
    "duration": 2,
    "start_time": "2023-02-02T08:11:20.461Z"
   },
   {
    "duration": 240,
    "start_time": "2023-02-02T08:11:20.465Z"
   },
   {
    "duration": 207,
    "start_time": "2023-02-02T08:11:20.707Z"
   },
   {
    "duration": 111,
    "start_time": "2023-02-02T08:11:20.916Z"
   },
   {
    "duration": 166,
    "start_time": "2023-02-02T08:11:21.028Z"
   },
   {
    "duration": 3,
    "start_time": "2023-02-02T08:11:21.196Z"
   },
   {
    "duration": 53,
    "start_time": "2023-02-02T08:11:21.200Z"
   },
   {
    "duration": 66,
    "start_time": "2023-02-02T08:11:21.255Z"
   },
   {
    "duration": 4,
    "start_time": "2023-02-02T08:11:21.323Z"
   },
   {
    "duration": 41,
    "start_time": "2023-02-02T08:11:21.329Z"
   },
   {
    "duration": 21,
    "start_time": "2023-02-02T08:11:27.756Z"
   },
   {
    "duration": 27,
    "start_time": "2023-02-02T08:12:08.628Z"
   },
   {
    "duration": 4,
    "start_time": "2023-02-02T08:12:27.276Z"
   },
   {
    "duration": 837,
    "start_time": "2023-02-02T08:12:27.282Z"
   },
   {
    "duration": 26,
    "start_time": "2023-02-02T08:12:28.121Z"
   },
   {
    "duration": 171,
    "start_time": "2023-02-02T08:12:28.149Z"
   },
   {
    "duration": 39,
    "start_time": "2023-02-02T08:12:28.322Z"
   },
   {
    "duration": 143,
    "start_time": "2023-02-02T08:12:28.362Z"
   },
   {
    "duration": 111,
    "start_time": "2023-02-02T08:12:28.507Z"
   },
   {
    "duration": 189,
    "start_time": "2023-02-02T08:12:28.620Z"
   },
   {
    "duration": 79,
    "start_time": "2023-02-02T08:12:28.813Z"
   },
   {
    "duration": 87,
    "start_time": "2023-02-02T08:12:28.895Z"
   },
   {
    "duration": 75,
    "start_time": "2023-02-02T08:12:28.984Z"
   },
   {
    "duration": 58,
    "start_time": "2023-02-02T08:12:29.061Z"
   },
   {
    "duration": 3,
    "start_time": "2023-02-02T08:12:29.121Z"
   },
   {
    "duration": 75,
    "start_time": "2023-02-02T08:12:29.125Z"
   },
   {
    "duration": 50,
    "start_time": "2023-02-02T08:12:29.202Z"
   },
   {
    "duration": 4824,
    "start_time": "2023-02-02T08:12:29.254Z"
   },
   {
    "duration": 11,
    "start_time": "2023-02-02T08:12:34.080Z"
   },
   {
    "duration": 1117,
    "start_time": "2023-02-02T08:12:34.093Z"
   },
   {
    "duration": 48,
    "start_time": "2023-02-02T08:12:35.212Z"
   },
   {
    "duration": 207,
    "start_time": "2023-02-02T08:12:35.262Z"
   },
   {
    "duration": 3,
    "start_time": "2023-02-02T08:12:35.471Z"
   },
   {
    "duration": 210,
    "start_time": "2023-02-02T08:12:35.475Z"
   },
   {
    "duration": 215,
    "start_time": "2023-02-02T08:12:35.687Z"
   },
   {
    "duration": 121,
    "start_time": "2023-02-02T08:12:35.906Z"
   },
   {
    "duration": 180,
    "start_time": "2023-02-02T08:12:36.029Z"
   },
   {
    "duration": 3,
    "start_time": "2023-02-02T08:12:36.211Z"
   },
   {
    "duration": 85,
    "start_time": "2023-02-02T08:12:36.216Z"
   },
   {
    "duration": 261,
    "start_time": "2023-02-02T08:12:36.303Z"
   },
   {
    "duration": 11,
    "start_time": "2023-02-02T08:12:36.567Z"
   },
   {
    "duration": 142,
    "start_time": "2023-02-02T08:12:36.580Z"
   },
   {
    "duration": 53,
    "start_time": "2023-02-02T08:12:40.150Z"
   },
   {
    "duration": 82,
    "start_time": "2023-02-02T08:12:41.305Z"
   },
   {
    "duration": 3566,
    "start_time": "2023-02-02T08:12:47.988Z"
   },
   {
    "duration": 98,
    "start_time": "2023-02-02T08:26:08.172Z"
   },
   {
    "duration": 6,
    "start_time": "2023-02-02T08:26:17.902Z"
   },
   {
    "duration": 8309,
    "start_time": "2023-02-02T08:27:00.943Z"
   },
   {
    "duration": 23,
    "start_time": "2023-02-02T08:27:21.856Z"
   },
   {
    "duration": 1751,
    "start_time": "2023-02-02T11:25:00.093Z"
   },
   {
    "duration": 1226,
    "start_time": "2023-02-02T11:25:01.846Z"
   },
   {
    "duration": 19,
    "start_time": "2023-02-02T11:25:03.074Z"
   },
   {
    "duration": 161,
    "start_time": "2023-02-02T11:25:03.094Z"
   },
   {
    "duration": 57,
    "start_time": "2023-02-02T11:25:03.257Z"
   },
   {
    "duration": 143,
    "start_time": "2023-02-02T11:25:03.316Z"
   },
   {
    "duration": 115,
    "start_time": "2023-02-02T11:25:03.461Z"
   },
   {
    "duration": 194,
    "start_time": "2023-02-02T11:25:03.578Z"
   },
   {
    "duration": 75,
    "start_time": "2023-02-02T11:25:03.773Z"
   },
   {
    "duration": 62,
    "start_time": "2023-02-02T11:25:03.850Z"
   },
   {
    "duration": 75,
    "start_time": "2023-02-02T11:25:03.914Z"
   },
   {
    "duration": 71,
    "start_time": "2023-02-02T11:25:03.991Z"
   },
   {
    "duration": 2,
    "start_time": "2023-02-02T11:25:04.064Z"
   },
   {
    "duration": 79,
    "start_time": "2023-02-02T11:25:04.069Z"
   },
   {
    "duration": 61,
    "start_time": "2023-02-02T11:25:04.150Z"
   },
   {
    "duration": 5140,
    "start_time": "2023-02-02T11:25:04.213Z"
   },
   {
    "duration": 12,
    "start_time": "2023-02-02T11:25:09.355Z"
   },
   {
    "duration": 1120,
    "start_time": "2023-02-02T11:25:09.369Z"
   },
   {
    "duration": 35,
    "start_time": "2023-02-02T11:25:10.491Z"
   },
   {
    "duration": 202,
    "start_time": "2023-02-02T11:25:10.540Z"
   },
   {
    "duration": 3,
    "start_time": "2023-02-02T11:25:10.744Z"
   },
   {
    "duration": 313,
    "start_time": "2023-02-02T11:25:10.749Z"
   },
   {
    "duration": 239,
    "start_time": "2023-02-02T11:25:11.064Z"
   },
   {
    "duration": 120,
    "start_time": "2023-02-02T11:25:11.305Z"
   },
   {
    "duration": 155,
    "start_time": "2023-02-02T11:25:11.427Z"
   },
   {
    "duration": 4,
    "start_time": "2023-02-02T11:25:11.584Z"
   },
   {
    "duration": 48,
    "start_time": "2023-02-02T11:25:11.590Z"
   },
   {
    "duration": 49,
    "start_time": "2023-02-02T11:25:11.640Z"
   },
   {
    "duration": 5,
    "start_time": "2023-02-02T11:25:11.691Z"
   },
   {
    "duration": 135,
    "start_time": "2023-02-02T11:25:16.497Z"
   },
   {
    "duration": 12,
    "start_time": "2023-02-02T11:25:55.837Z"
   },
   {
    "duration": 11,
    "start_time": "2023-02-02T11:26:03.477Z"
   },
   {
    "duration": 100,
    "start_time": "2023-02-02T11:27:10.996Z"
   },
   {
    "duration": 26,
    "start_time": "2023-02-02T11:27:14.330Z"
   },
   {
    "duration": 79,
    "start_time": "2023-02-02T11:27:58.946Z"
   },
   {
    "duration": 3,
    "start_time": "2023-02-02T11:28:25.715Z"
   },
   {
    "duration": 1194,
    "start_time": "2023-02-02T11:33:04.220Z"
   },
   {
    "duration": 114147,
    "start_time": "2023-02-02T11:34:04.464Z"
   },
   {
    "duration": 3935,
    "start_time": "2023-02-02T11:35:58.613Z"
   },
   {
    "duration": 4127,
    "start_time": "2023-02-02T11:37:05.423Z"
   },
   {
    "duration": 4777,
    "start_time": "2023-02-02T11:37:36.870Z"
   },
   {
    "duration": 11,
    "start_time": "2023-02-02T11:38:02.442Z"
   },
   {
    "duration": 3,
    "start_time": "2023-02-02T11:40:22.163Z"
   },
   {
    "duration": 300775,
    "start_time": "2023-02-02T11:40:57.674Z"
   },
   {
    "duration": 356,
    "start_time": "2023-02-02T11:53:07.865Z"
   },
   {
    "duration": 348,
    "start_time": "2023-02-02T11:53:57.323Z"
   },
   {
    "duration": 332,
    "start_time": "2023-02-02T11:54:18.744Z"
   },
   {
    "duration": 10,
    "start_time": "2023-02-02T11:55:48.376Z"
   },
   {
    "duration": 4,
    "start_time": "2023-02-02T11:55:53.869Z"
   },
   {
    "duration": 4,
    "start_time": "2023-02-02T11:56:08.504Z"
   },
   {
    "duration": 4,
    "start_time": "2023-02-02T11:56:23.257Z"
   },
   {
    "duration": 4,
    "start_time": "2023-02-02T11:56:31.024Z"
   },
   {
    "duration": 4,
    "start_time": "2023-02-02T11:56:39.524Z"
   },
   {
    "duration": 26,
    "start_time": "2023-02-02T11:59:57.065Z"
   },
   {
    "duration": 936,
    "start_time": "2023-02-02T12:01:47.405Z"
   },
   {
    "duration": 871,
    "start_time": "2023-02-02T12:02:54.178Z"
   },
   {
    "duration": 4,
    "start_time": "2023-02-02T12:03:10.484Z"
   },
   {
    "duration": 359,
    "start_time": "2023-02-02T12:03:58.233Z"
   },
   {
    "duration": 9,
    "start_time": "2023-02-02T12:04:27.718Z"
   },
   {
    "duration": 942,
    "start_time": "2023-02-02T12:04:30.098Z"
   },
   {
    "duration": 5,
    "start_time": "2023-02-02T12:04:34.716Z"
   },
   {
    "duration": 4,
    "start_time": "2023-02-02T12:05:33.846Z"
   },
   {
    "duration": 5,
    "start_time": "2023-02-02T12:05:53.092Z"
   },
   {
    "duration": 4,
    "start_time": "2023-02-02T12:06:10.934Z"
   },
   {
    "duration": 332,
    "start_time": "2023-02-02T12:06:25.257Z"
   },
   {
    "duration": 885,
    "start_time": "2023-02-02T12:06:37.968Z"
   },
   {
    "duration": 51,
    "start_time": "2023-02-02T14:08:51.312Z"
   },
   {
    "duration": 1563,
    "start_time": "2023-02-02T14:10:04.704Z"
   },
   {
    "duration": 1039,
    "start_time": "2023-02-02T14:10:06.269Z"
   },
   {
    "duration": 20,
    "start_time": "2023-02-02T14:10:07.310Z"
   },
   {
    "duration": 175,
    "start_time": "2023-02-02T14:10:07.332Z"
   },
   {
    "duration": 52,
    "start_time": "2023-02-02T14:10:07.509Z"
   },
   {
    "duration": 137,
    "start_time": "2023-02-02T14:10:07.563Z"
   },
   {
    "duration": 99,
    "start_time": "2023-02-02T14:10:07.701Z"
   },
   {
    "duration": 157,
    "start_time": "2023-02-02T14:10:07.801Z"
   },
   {
    "duration": 56,
    "start_time": "2023-02-02T14:10:07.960Z"
   },
   {
    "duration": 50,
    "start_time": "2023-02-02T14:10:08.019Z"
   },
   {
    "duration": 64,
    "start_time": "2023-02-02T14:10:08.071Z"
   },
   {
    "duration": 61,
    "start_time": "2023-02-02T14:10:08.137Z"
   },
   {
    "duration": 2,
    "start_time": "2023-02-02T14:10:08.200Z"
   },
   {
    "duration": 58,
    "start_time": "2023-02-02T14:10:08.204Z"
   },
   {
    "duration": 62,
    "start_time": "2023-02-02T14:10:08.264Z"
   },
   {
    "duration": 4182,
    "start_time": "2023-02-02T14:10:08.328Z"
   },
   {
    "duration": 11,
    "start_time": "2023-02-02T14:10:12.512Z"
   },
   {
    "duration": 972,
    "start_time": "2023-02-02T14:10:12.524Z"
   },
   {
    "duration": 33,
    "start_time": "2023-02-02T14:10:13.498Z"
   },
   {
    "duration": 265,
    "start_time": "2023-02-02T14:10:13.533Z"
   },
   {
    "duration": 2,
    "start_time": "2023-02-02T14:10:13.801Z"
   },
   {
    "duration": 215,
    "start_time": "2023-02-02T14:10:13.805Z"
   },
   {
    "duration": 259,
    "start_time": "2023-02-02T14:10:14.022Z"
   },
   {
    "duration": 129,
    "start_time": "2023-02-02T14:10:14.284Z"
   },
   {
    "duration": 127,
    "start_time": "2023-02-02T14:10:14.416Z"
   },
   {
    "duration": 3,
    "start_time": "2023-02-02T14:10:14.545Z"
   },
   {
    "duration": 49,
    "start_time": "2023-02-02T14:10:14.550Z"
   },
   {
    "duration": 42,
    "start_time": "2023-02-02T14:10:14.603Z"
   },
   {
    "duration": 10,
    "start_time": "2023-02-02T14:10:14.647Z"
   },
   {
    "duration": 105,
    "start_time": "2023-02-02T14:10:14.658Z"
   },
   {
    "duration": 22,
    "start_time": "2023-02-02T14:10:14.764Z"
   },
   {
    "duration": 3207,
    "start_time": "2023-02-02T14:10:14.793Z"
   },
   {
    "duration": 2,
    "start_time": "2023-02-02T14:10:18.002Z"
   },
   {
    "duration": 13,
    "start_time": "2023-02-02T14:10:18.006Z"
   },
   {
    "duration": 32,
    "start_time": "2023-02-02T14:10:18.021Z"
   },
   {
    "duration": 24,
    "start_time": "2023-02-02T14:10:18.055Z"
   },
   {
    "duration": 105664,
    "start_time": "2023-02-02T14:10:18.080Z"
   },
   {
    "duration": 119051,
    "start_time": "2023-02-02T14:12:03.746Z"
   },
   {
    "duration": 2,
    "start_time": "2023-02-02T14:14:02.799Z"
   },
   {
    "duration": 121,
    "start_time": "2023-02-02T14:14:02.802Z"
   },
   {
    "duration": 167,
    "start_time": "2023-02-02T14:14:02.925Z"
   },
   {
    "duration": 3,
    "start_time": "2023-02-02T14:16:14.105Z"
   },
   {
    "duration": 10,
    "start_time": "2023-02-02T14:17:01.213Z"
   },
   {
    "duration": 197624,
    "start_time": "2023-02-02T14:17:54.373Z"
   },
   {
    "duration": 9,
    "start_time": "2023-02-02T14:23:00.029Z"
   },
   {
    "duration": 10,
    "start_time": "2023-02-02T14:23:12.643Z"
   },
   {
    "duration": 75,
    "start_time": "2023-02-02T14:23:45.580Z"
   },
   {
    "duration": 884,
    "start_time": "2023-02-02T14:23:56.025Z"
   },
   {
    "duration": 11,
    "start_time": "2023-02-02T14:24:13.026Z"
   },
   {
    "duration": 4,
    "start_time": "2023-02-02T14:24:20.010Z"
   },
   {
    "duration": 3,
    "start_time": "2023-02-02T14:34:52.700Z"
   },
   {
    "duration": 8,
    "start_time": "2023-02-02T14:35:02.241Z"
   },
   {
    "duration": 8,
    "start_time": "2023-02-02T14:35:07.634Z"
   },
   {
    "duration": 9,
    "start_time": "2023-02-02T14:44:39.981Z"
   },
   {
    "duration": 13,
    "start_time": "2023-02-02T14:45:29.771Z"
   },
   {
    "duration": 16,
    "start_time": "2023-02-02T14:45:44.995Z"
   },
   {
    "duration": 12,
    "start_time": "2023-02-02T14:45:52.205Z"
   },
   {
    "duration": 9,
    "start_time": "2023-02-02T14:46:26.590Z"
   },
   {
    "duration": 5,
    "start_time": "2023-02-02T14:49:05.304Z"
   },
   {
    "duration": 5,
    "start_time": "2023-02-02T14:50:55.475Z"
   },
   {
    "duration": 4,
    "start_time": "2023-02-02T14:51:00.399Z"
   },
   {
    "duration": 7,
    "start_time": "2023-02-02T14:53:39.802Z"
   },
   {
    "duration": 3,
    "start_time": "2023-02-02T14:54:38.816Z"
   },
   {
    "duration": 5,
    "start_time": "2023-02-02T14:54:47.148Z"
   },
   {
    "duration": 1668,
    "start_time": "2023-02-02T16:00:15.481Z"
   },
   {
    "duration": 3,
    "start_time": "2023-02-02T16:00:17.151Z"
   },
   {
    "duration": 2914,
    "start_time": "2023-02-02T16:00:17.155Z"
   },
   {
    "duration": 20,
    "start_time": "2023-02-02T16:00:20.071Z"
   },
   {
    "duration": 117,
    "start_time": "2023-02-02T16:00:20.094Z"
   },
   {
    "duration": 49,
    "start_time": "2023-02-02T16:00:20.213Z"
   },
   {
    "duration": 134,
    "start_time": "2023-02-02T16:00:20.263Z"
   },
   {
    "duration": 113,
    "start_time": "2023-02-02T16:00:20.398Z"
   },
   {
    "duration": 178,
    "start_time": "2023-02-02T16:00:20.513Z"
   },
   {
    "duration": 48,
    "start_time": "2023-02-02T16:00:20.693Z"
   },
   {
    "duration": 68,
    "start_time": "2023-02-02T16:00:20.743Z"
   },
   {
    "duration": 44,
    "start_time": "2023-02-02T16:00:20.813Z"
   },
   {
    "duration": 62,
    "start_time": "2023-02-02T16:00:20.859Z"
   },
   {
    "duration": 2,
    "start_time": "2023-02-02T16:00:20.925Z"
   },
   {
    "duration": 78,
    "start_time": "2023-02-02T16:00:20.929Z"
   },
   {
    "duration": 50,
    "start_time": "2023-02-02T16:00:21.010Z"
   },
   {
    "duration": 4998,
    "start_time": "2023-02-02T16:00:21.062Z"
   },
   {
    "duration": 10,
    "start_time": "2023-02-02T16:00:26.062Z"
   },
   {
    "duration": 1254,
    "start_time": "2023-02-02T16:00:26.074Z"
   },
   {
    "duration": 34,
    "start_time": "2023-02-02T16:00:27.330Z"
   },
   {
    "duration": 321,
    "start_time": "2023-02-02T16:00:27.365Z"
   },
   {
    "duration": 3,
    "start_time": "2023-02-02T16:00:27.688Z"
   },
   {
    "duration": 244,
    "start_time": "2023-02-02T16:00:27.693Z"
   },
   {
    "duration": 223,
    "start_time": "2023-02-02T16:00:27.939Z"
   },
   {
    "duration": 120,
    "start_time": "2023-02-02T16:00:28.165Z"
   },
   {
    "duration": 131,
    "start_time": "2023-02-02T16:00:28.287Z"
   },
   {
    "duration": 3,
    "start_time": "2023-02-02T16:00:28.420Z"
   },
   {
    "duration": 53,
    "start_time": "2023-02-02T16:00:28.425Z"
   },
   {
    "duration": 50,
    "start_time": "2023-02-02T16:00:28.480Z"
   },
   {
    "duration": 11,
    "start_time": "2023-02-02T16:00:28.532Z"
   },
   {
    "duration": 119,
    "start_time": "2023-02-02T16:00:28.545Z"
   },
   {
    "duration": 28,
    "start_time": "2023-02-02T16:00:28.665Z"
   },
   {
    "duration": 3075,
    "start_time": "2023-02-02T16:00:28.695Z"
   },
   {
    "duration": 2,
    "start_time": "2023-02-02T16:00:31.772Z"
   },
   {
    "duration": 24,
    "start_time": "2023-02-02T16:00:31.776Z"
   },
   {
    "duration": 41,
    "start_time": "2023-02-02T16:00:31.801Z"
   },
   {
    "duration": 20,
    "start_time": "2023-02-02T16:00:31.844Z"
   },
   {
    "duration": 111897,
    "start_time": "2023-02-02T16:00:31.866Z"
   },
   {
    "duration": 4225,
    "start_time": "2023-02-02T16:02:23.765Z"
   },
   {
    "duration": 3,
    "start_time": "2023-02-02T16:02:27.991Z"
   },
   {
    "duration": 15,
    "start_time": "2023-02-02T16:02:27.997Z"
   },
   {
    "duration": 13,
    "start_time": "2023-02-02T16:02:28.014Z"
   },
   {
    "duration": 231,
    "start_time": "2023-02-02T16:02:28.029Z"
   },
   {
    "duration": 41,
    "start_time": "2023-02-03T01:38:14.076Z"
   },
   {
    "duration": 1504,
    "start_time": "2023-02-03T01:38:18.536Z"
   },
   {
    "duration": 3,
    "start_time": "2023-02-03T01:38:20.042Z"
   },
   {
    "duration": 2863,
    "start_time": "2023-02-03T01:38:20.046Z"
   },
   {
    "duration": 16,
    "start_time": "2023-02-03T01:38:22.911Z"
   },
   {
    "duration": 110,
    "start_time": "2023-02-03T01:38:22.929Z"
   },
   {
    "duration": 48,
    "start_time": "2023-02-03T01:38:23.041Z"
   },
   {
    "duration": 117,
    "start_time": "2023-02-03T01:38:23.091Z"
   },
   {
    "duration": 87,
    "start_time": "2023-02-03T01:38:23.209Z"
   },
   {
    "duration": 167,
    "start_time": "2023-02-03T01:38:23.298Z"
   },
   {
    "duration": 39,
    "start_time": "2023-02-03T01:38:23.469Z"
   },
   {
    "duration": 50,
    "start_time": "2023-02-03T01:38:23.509Z"
   },
   {
    "duration": 50,
    "start_time": "2023-02-03T01:38:23.561Z"
   },
   {
    "duration": 40,
    "start_time": "2023-02-03T01:38:23.628Z"
   },
   {
    "duration": 65,
    "start_time": "2023-02-03T01:38:23.669Z"
   },
   {
    "duration": 47,
    "start_time": "2023-02-03T01:38:23.736Z"
   },
   {
    "duration": 3843,
    "start_time": "2023-02-03T01:38:23.785Z"
   },
   {
    "duration": 905,
    "start_time": "2023-02-03T01:38:27.629Z"
   },
   {
    "duration": 40,
    "start_time": "2023-02-03T01:38:28.536Z"
   },
   {
    "duration": 244,
    "start_time": "2023-02-03T01:38:28.578Z"
   },
   {
    "duration": 2,
    "start_time": "2023-02-03T01:38:28.827Z"
   },
   {
    "duration": 161,
    "start_time": "2023-02-03T01:38:28.831Z"
   },
   {
    "duration": 70,
    "start_time": "2023-02-03T01:38:28.994Z"
   },
   {
    "duration": 0,
    "start_time": "2023-02-03T01:38:29.066Z"
   },
   {
    "duration": 0,
    "start_time": "2023-02-03T01:38:29.067Z"
   },
   {
    "duration": 0,
    "start_time": "2023-02-03T01:38:29.068Z"
   },
   {
    "duration": 0,
    "start_time": "2023-02-03T01:38:29.069Z"
   },
   {
    "duration": 0,
    "start_time": "2023-02-03T01:38:29.070Z"
   },
   {
    "duration": 160,
    "start_time": "2023-02-03T01:38:59.837Z"
   },
   {
    "duration": 78,
    "start_time": "2023-02-03T01:39:01.750Z"
   },
   {
    "duration": 117,
    "start_time": "2023-02-03T01:39:03.583Z"
   },
   {
    "duration": 2,
    "start_time": "2023-02-03T01:39:05.696Z"
   },
   {
    "duration": 20,
    "start_time": "2023-02-03T01:39:07.732Z"
   },
   {
    "duration": 3,
    "start_time": "2023-02-03T01:39:36.279Z"
   },
   {
    "duration": 19,
    "start_time": "2023-02-03T01:39:36.284Z"
   },
   {
    "duration": 681,
    "start_time": "2023-02-03T01:39:36.305Z"
   },
   {
    "duration": 13,
    "start_time": "2023-02-03T01:39:36.987Z"
   },
   {
    "duration": 112,
    "start_time": "2023-02-03T01:39:37.002Z"
   },
   {
    "duration": 31,
    "start_time": "2023-02-03T01:39:37.116Z"
   },
   {
    "duration": 133,
    "start_time": "2023-02-03T01:39:37.149Z"
   },
   {
    "duration": 97,
    "start_time": "2023-02-03T01:39:37.283Z"
   },
   {
    "duration": 136,
    "start_time": "2023-02-03T01:39:37.382Z"
   },
   {
    "duration": 41,
    "start_time": "2023-02-03T01:39:37.520Z"
   },
   {
    "duration": 39,
    "start_time": "2023-02-03T01:39:37.563Z"
   },
   {
    "duration": 54,
    "start_time": "2023-02-03T01:39:37.604Z"
   },
   {
    "duration": 39,
    "start_time": "2023-02-03T01:39:37.660Z"
   },
   {
    "duration": 61,
    "start_time": "2023-02-03T01:39:37.700Z"
   },
   {
    "duration": 38,
    "start_time": "2023-02-03T01:39:37.763Z"
   },
   {
    "duration": 3889,
    "start_time": "2023-02-03T01:39:37.802Z"
   },
   {
    "duration": 915,
    "start_time": "2023-02-03T01:39:41.693Z"
   },
   {
    "duration": 45,
    "start_time": "2023-02-03T01:39:42.609Z"
   },
   {
    "duration": 167,
    "start_time": "2023-02-03T01:39:42.656Z"
   },
   {
    "duration": 3,
    "start_time": "2023-02-03T01:39:42.828Z"
   },
   {
    "duration": 152,
    "start_time": "2023-02-03T01:39:42.832Z"
   },
   {
    "duration": 159,
    "start_time": "2023-02-03T01:39:42.986Z"
   },
   {
    "duration": 82,
    "start_time": "2023-02-03T01:39:43.146Z"
   },
   {
    "duration": 107,
    "start_time": "2023-02-03T01:39:43.230Z"
   },
   {
    "duration": 2,
    "start_time": "2023-02-03T01:39:43.339Z"
   },
   {
    "duration": 28,
    "start_time": "2023-02-03T01:39:46.175Z"
   },
   {
    "duration": 40,
    "start_time": "2023-02-03T01:45:10.978Z"
   },
   {
    "duration": 129,
    "start_time": "2023-02-03T01:45:39.547Z"
   },
   {
    "duration": 142,
    "start_time": "2023-02-03T01:45:56.975Z"
   },
   {
    "duration": 161,
    "start_time": "2023-02-03T01:46:48.910Z"
   },
   {
    "duration": 162,
    "start_time": "2023-02-03T01:47:04.338Z"
   },
   {
    "duration": 76,
    "start_time": "2023-02-03T01:56:08.166Z"
   },
   {
    "duration": 3,
    "start_time": "2023-02-03T02:11:07.325Z"
   },
   {
    "duration": 7,
    "start_time": "2023-02-03T02:11:07.332Z"
   },
   {
    "duration": 645,
    "start_time": "2023-02-03T02:11:07.341Z"
   },
   {
    "duration": 13,
    "start_time": "2023-02-03T02:11:07.988Z"
   },
   {
    "duration": 195,
    "start_time": "2023-02-03T02:11:08.002Z"
   },
   {
    "duration": 33,
    "start_time": "2023-02-03T02:11:08.200Z"
   },
   {
    "duration": 106,
    "start_time": "2023-02-03T02:11:08.234Z"
   },
   {
    "duration": 90,
    "start_time": "2023-02-03T02:11:08.341Z"
   },
   {
    "duration": 139,
    "start_time": "2023-02-03T02:11:08.433Z"
   },
   {
    "duration": 37,
    "start_time": "2023-02-03T02:11:08.573Z"
   },
   {
    "duration": 62,
    "start_time": "2023-02-03T02:11:08.612Z"
   },
   {
    "duration": 53,
    "start_time": "2023-02-03T02:11:08.676Z"
   },
   {
    "duration": 39,
    "start_time": "2023-02-03T02:11:08.730Z"
   },
   {
    "duration": 42,
    "start_time": "2023-02-03T02:11:08.770Z"
   },
   {
    "duration": 137,
    "start_time": "2023-02-03T02:11:08.814Z"
   },
   {
    "duration": 3644,
    "start_time": "2023-02-03T02:11:08.953Z"
   },
   {
    "duration": 885,
    "start_time": "2023-02-03T02:11:12.598Z"
   },
   {
    "duration": 45,
    "start_time": "2023-02-03T02:11:13.485Z"
   },
   {
    "duration": 171,
    "start_time": "2023-02-03T02:11:13.532Z"
   },
   {
    "duration": 2,
    "start_time": "2023-02-03T02:11:13.705Z"
   },
   {
    "duration": 181,
    "start_time": "2023-02-03T02:11:13.709Z"
   },
   {
    "duration": 161,
    "start_time": "2023-02-03T02:11:13.891Z"
   },
   {
    "duration": 82,
    "start_time": "2023-02-03T02:11:14.054Z"
   },
   {
    "duration": 118,
    "start_time": "2023-02-03T02:11:14.137Z"
   },
   {
    "duration": 3,
    "start_time": "2023-02-03T02:11:14.257Z"
   },
   {
    "duration": 119,
    "start_time": "2023-02-03T02:11:14.261Z"
   },
   {
    "duration": 46,
    "start_time": "2023-02-03T02:11:14.382Z"
   },
   {
    "duration": 9,
    "start_time": "2023-02-03T02:11:14.430Z"
   },
   {
    "duration": 111,
    "start_time": "2023-02-03T02:11:14.440Z"
   },
   {
    "duration": 19,
    "start_time": "2023-02-03T02:11:14.554Z"
   },
   {
    "duration": 16,
    "start_time": "2023-02-03T02:11:14.575Z"
   },
   {
    "duration": 29,
    "start_time": "2023-02-03T02:11:14.592Z"
   },
   {
    "duration": 23,
    "start_time": "2023-02-03T02:11:14.623Z"
   },
   {
    "duration": 43,
    "start_time": "2023-02-03T02:11:14.648Z"
   },
   {
    "duration": 94318,
    "start_time": "2023-02-03T02:11:14.692Z"
   },
   {
    "duration": 3723,
    "start_time": "2023-02-03T02:12:49.012Z"
   },
   {
    "duration": 3,
    "start_time": "2023-02-03T02:12:52.736Z"
   },
   {
    "duration": 6,
    "start_time": "2023-02-03T02:12:52.740Z"
   },
   {
    "duration": 5,
    "start_time": "2023-02-03T02:12:52.748Z"
   },
   {
    "duration": 8,
    "start_time": "2023-02-03T02:12:52.754Z"
   },
   {
    "duration": 131371,
    "start_time": "2023-02-03T02:12:52.764Z"
   },
   {
    "duration": 7,
    "start_time": "2023-02-03T02:15:04.137Z"
   },
   {
    "duration": 800,
    "start_time": "2023-02-03T02:15:04.145Z"
   },
   {
    "duration": 8,
    "start_time": "2023-02-03T02:15:04.946Z"
   },
   {
    "duration": 11,
    "start_time": "2023-02-03T02:53:10.122Z"
   },
   {
    "duration": 3,
    "start_time": "2023-02-03T02:53:17.591Z"
   },
   {
    "duration": 1709,
    "start_time": "2023-02-03T02:53:28.461Z"
   },
   {
    "duration": 11313,
    "start_time": "2023-02-03T02:53:41.616Z"
   },
   {
    "duration": 3,
    "start_time": "2023-02-03T02:55:42.163Z"
   },
   {
    "duration": 6,
    "start_time": "2023-02-03T02:55:42.168Z"
   },
   {
    "duration": 644,
    "start_time": "2023-02-03T02:55:42.176Z"
   },
   {
    "duration": 11,
    "start_time": "2023-02-03T02:55:42.822Z"
   },
   {
    "duration": 106,
    "start_time": "2023-02-03T02:55:42.835Z"
   },
   {
    "duration": 21,
    "start_time": "2023-02-03T02:55:42.943Z"
   },
   {
    "duration": 106,
    "start_time": "2023-02-03T02:55:42.966Z"
   },
   {
    "duration": 90,
    "start_time": "2023-02-03T02:55:43.074Z"
   },
   {
    "duration": 127,
    "start_time": "2023-02-03T02:55:43.167Z"
   },
   {
    "duration": 49,
    "start_time": "2023-02-03T02:55:43.296Z"
   },
   {
    "duration": 38,
    "start_time": "2023-02-03T02:55:43.347Z"
   },
   {
    "duration": 59,
    "start_time": "2023-02-03T02:55:43.386Z"
   },
   {
    "duration": 46,
    "start_time": "2023-02-03T02:55:43.447Z"
   },
   {
    "duration": 64,
    "start_time": "2023-02-03T02:55:43.494Z"
   },
   {
    "duration": 39,
    "start_time": "2023-02-03T02:55:43.560Z"
   },
   {
    "duration": 3652,
    "start_time": "2023-02-03T02:55:43.600Z"
   },
   {
    "duration": 1080,
    "start_time": "2023-02-03T02:55:47.256Z"
   },
   {
    "duration": 38,
    "start_time": "2023-02-03T02:55:48.338Z"
   },
   {
    "duration": 171,
    "start_time": "2023-02-03T02:55:48.378Z"
   },
   {
    "duration": 2,
    "start_time": "2023-02-03T02:55:48.551Z"
   },
   {
    "duration": 146,
    "start_time": "2023-02-03T02:55:48.554Z"
   },
   {
    "duration": 161,
    "start_time": "2023-02-03T02:55:48.702Z"
   },
   {
    "duration": 80,
    "start_time": "2023-02-03T02:55:48.865Z"
   },
   {
    "duration": 108,
    "start_time": "2023-02-03T02:55:48.949Z"
   },
   {
    "duration": 3,
    "start_time": "2023-02-03T02:55:49.059Z"
   },
   {
    "duration": 86,
    "start_time": "2023-02-03T02:55:49.064Z"
   },
   {
    "duration": 38,
    "start_time": "2023-02-03T02:55:49.152Z"
   },
   {
    "duration": 10,
    "start_time": "2023-02-03T02:55:49.192Z"
   },
   {
    "duration": 98,
    "start_time": "2023-02-03T02:55:49.204Z"
   },
   {
    "duration": 32,
    "start_time": "2023-02-03T02:55:49.303Z"
   },
   {
    "duration": 3,
    "start_time": "2023-02-03T02:55:49.336Z"
   },
   {
    "duration": 7,
    "start_time": "2023-02-03T02:55:49.340Z"
   },
   {
    "duration": 6,
    "start_time": "2023-02-03T02:55:49.348Z"
   },
   {
    "duration": 4,
    "start_time": "2023-02-03T02:55:49.356Z"
   },
   {
    "duration": 93937,
    "start_time": "2023-02-03T02:55:49.361Z"
   },
   {
    "duration": 4238,
    "start_time": "2023-02-03T02:57:23.300Z"
   },
   {
    "duration": 3,
    "start_time": "2023-02-03T02:57:27.540Z"
   },
   {
    "duration": 6,
    "start_time": "2023-02-03T02:57:27.544Z"
   },
   {
    "duration": 77,
    "start_time": "2023-02-03T02:57:27.551Z"
   },
   {
    "duration": 86,
    "start_time": "2023-02-03T03:02:38.063Z"
   },
   {
    "duration": 52,
    "start_time": "2023-02-03T03:02:49.956Z"
   },
   {
    "duration": 1737,
    "start_time": "2023-02-03T03:02:56.158Z"
   },
   {
    "duration": 11876,
    "start_time": "2023-02-03T03:03:00.260Z"
   },
   {
    "duration": 3,
    "start_time": "2023-02-03T04:14:36.633Z"
   },
   {
    "duration": 5,
    "start_time": "2023-02-03T04:14:36.637Z"
   },
   {
    "duration": 707,
    "start_time": "2023-02-03T04:14:36.644Z"
   },
   {
    "duration": 12,
    "start_time": "2023-02-03T04:14:37.353Z"
   },
   {
    "duration": 114,
    "start_time": "2023-02-03T04:14:37.366Z"
   },
   {
    "duration": 21,
    "start_time": "2023-02-03T04:14:37.482Z"
   },
   {
    "duration": 103,
    "start_time": "2023-02-03T04:14:37.505Z"
   },
   {
    "duration": 85,
    "start_time": "2023-02-03T04:14:37.610Z"
   },
   {
    "duration": 139,
    "start_time": "2023-02-03T04:14:37.697Z"
   },
   {
    "duration": 37,
    "start_time": "2023-02-03T04:14:37.838Z"
   },
   {
    "duration": 53,
    "start_time": "2023-02-03T04:14:37.877Z"
   },
   {
    "duration": 37,
    "start_time": "2023-02-03T04:14:37.931Z"
   },
   {
    "duration": 38,
    "start_time": "2023-02-03T04:14:37.969Z"
   },
   {
    "duration": 62,
    "start_time": "2023-02-03T04:14:38.008Z"
   },
   {
    "duration": 38,
    "start_time": "2023-02-03T04:14:38.072Z"
   },
   {
    "duration": 3731,
    "start_time": "2023-02-03T04:14:38.111Z"
   },
   {
    "duration": 891,
    "start_time": "2023-02-03T04:14:41.844Z"
   },
   {
    "duration": 37,
    "start_time": "2023-02-03T04:14:42.736Z"
   },
   {
    "duration": 177,
    "start_time": "2023-02-03T04:14:42.774Z"
   },
   {
    "duration": 3,
    "start_time": "2023-02-03T04:14:42.952Z"
   },
   {
    "duration": 148,
    "start_time": "2023-02-03T04:14:42.956Z"
   },
   {
    "duration": 157,
    "start_time": "2023-02-03T04:14:43.105Z"
   },
   {
    "duration": 80,
    "start_time": "2023-02-03T04:14:43.264Z"
   },
   {
    "duration": 119,
    "start_time": "2023-02-03T04:14:43.347Z"
   },
   {
    "duration": 3,
    "start_time": "2023-02-03T04:14:43.468Z"
   },
   {
    "duration": 91,
    "start_time": "2023-02-03T04:14:43.472Z"
   },
   {
    "duration": 40,
    "start_time": "2023-02-03T04:14:43.565Z"
   },
   {
    "duration": 25,
    "start_time": "2023-02-03T04:14:43.607Z"
   },
   {
    "duration": 82,
    "start_time": "2023-02-03T04:14:43.634Z"
   },
   {
    "duration": 31,
    "start_time": "2023-02-03T04:14:43.717Z"
   },
   {
    "duration": 3,
    "start_time": "2023-02-03T04:14:43.749Z"
   },
   {
    "duration": 7,
    "start_time": "2023-02-03T04:14:43.753Z"
   },
   {
    "duration": 4,
    "start_time": "2023-02-03T04:14:43.761Z"
   },
   {
    "duration": 4,
    "start_time": "2023-02-03T04:14:43.767Z"
   },
   {
    "duration": 93953,
    "start_time": "2023-02-03T04:14:43.773Z"
   },
   {
    "duration": 4104,
    "start_time": "2023-02-03T04:16:17.728Z"
   },
   {
    "duration": 3,
    "start_time": "2023-02-03T04:16:21.834Z"
   },
   {
    "duration": 6,
    "start_time": "2023-02-03T04:16:21.839Z"
   },
   {
    "duration": 4,
    "start_time": "2023-02-03T04:16:21.847Z"
   },
   {
    "duration": 1926,
    "start_time": "2023-02-03T04:16:21.853Z"
   },
   {
    "duration": 11956,
    "start_time": "2023-02-03T04:16:23.780Z"
   },
   {
    "duration": 10,
    "start_time": "2023-02-03T04:17:27.329Z"
   },
   {
    "duration": 147009,
    "start_time": "2023-02-03T04:17:48.726Z"
   },
   {
    "duration": 7,
    "start_time": "2023-02-03T04:21:31.126Z"
   },
   {
    "duration": 797,
    "start_time": "2023-02-03T04:21:49.965Z"
   },
   {
    "duration": 280,
    "start_time": "2023-02-03T04:22:24.070Z"
   },
   {
    "duration": 862,
    "start_time": "2023-02-03T04:22:46.821Z"
   },
   {
    "duration": 8,
    "start_time": "2023-02-03T04:22:50.141Z"
   },
   {
    "duration": 1798,
    "start_time": "2023-02-03T11:26:24.610Z"
   },
   {
    "duration": 5,
    "start_time": "2023-02-03T11:26:26.412Z"
   },
   {
    "duration": 3294,
    "start_time": "2023-02-03T11:26:26.418Z"
   },
   {
    "duration": 20,
    "start_time": "2023-02-03T11:26:29.714Z"
   },
   {
    "duration": 152,
    "start_time": "2023-02-03T11:26:29.736Z"
   },
   {
    "duration": 55,
    "start_time": "2023-02-03T11:26:29.889Z"
   },
   {
    "duration": 174,
    "start_time": "2023-02-03T11:26:29.946Z"
   },
   {
    "duration": 108,
    "start_time": "2023-02-03T11:26:30.121Z"
   },
   {
    "duration": 226,
    "start_time": "2023-02-03T11:26:30.231Z"
   },
   {
    "duration": 66,
    "start_time": "2023-02-03T11:26:30.460Z"
   },
   {
    "duration": 81,
    "start_time": "2023-02-03T11:26:30.528Z"
   },
   {
    "duration": 95,
    "start_time": "2023-02-03T11:26:30.612Z"
   },
   {
    "duration": 53,
    "start_time": "2023-02-03T11:26:30.709Z"
   },
   {
    "duration": 86,
    "start_time": "2023-02-03T11:26:30.771Z"
   },
   {
    "duration": 61,
    "start_time": "2023-02-03T11:26:30.859Z"
   },
   {
    "duration": 5117,
    "start_time": "2023-02-03T11:26:30.922Z"
   },
   {
    "duration": 1189,
    "start_time": "2023-02-03T11:26:36.040Z"
   },
   {
    "duration": 54,
    "start_time": "2023-02-03T11:26:37.231Z"
   },
   {
    "duration": 297,
    "start_time": "2023-02-03T11:26:37.287Z"
   },
   {
    "duration": 3,
    "start_time": "2023-02-03T11:26:37.586Z"
   },
   {
    "duration": 218,
    "start_time": "2023-02-03T11:26:37.591Z"
   },
   {
    "duration": 220,
    "start_time": "2023-02-03T11:26:37.810Z"
   },
   {
    "duration": 108,
    "start_time": "2023-02-03T11:26:38.032Z"
   },
   {
    "duration": 157,
    "start_time": "2023-02-03T11:26:38.141Z"
   },
   {
    "duration": 2,
    "start_time": "2023-02-03T11:26:38.301Z"
   },
   {
    "duration": 111,
    "start_time": "2023-02-03T11:26:38.305Z"
   },
   {
    "duration": 50,
    "start_time": "2023-02-03T11:26:38.418Z"
   },
   {
    "duration": 16,
    "start_time": "2023-02-03T11:26:38.473Z"
   },
   {
    "duration": 108,
    "start_time": "2023-02-03T11:26:38.491Z"
   },
   {
    "duration": 22,
    "start_time": "2023-02-03T11:26:38.600Z"
   },
   {
    "duration": 2,
    "start_time": "2023-02-03T11:26:38.624Z"
   },
   {
    "duration": 11,
    "start_time": "2023-02-03T11:26:38.627Z"
   },
   {
    "duration": 6,
    "start_time": "2023-02-03T11:26:38.640Z"
   },
   {
    "duration": 114151,
    "start_time": "2023-02-03T11:26:38.647Z"
   },
   {
    "duration": 60973,
    "start_time": "2023-02-03T11:28:32.800Z"
   },
   {
    "duration": 4,
    "start_time": "2023-02-03T11:29:33.775Z"
   },
   {
    "duration": 20,
    "start_time": "2023-02-03T11:29:33.781Z"
   },
   {
    "duration": 7,
    "start_time": "2023-02-03T11:29:33.803Z"
   },
   {
    "duration": 2143,
    "start_time": "2023-02-03T11:29:33.812Z"
   },
   {
    "duration": 9,
    "start_time": "2023-02-03T11:29:35.957Z"
   },
   {
    "duration": 3,
    "start_time": "2023-02-03T11:29:35.975Z"
   },
   {
    "duration": 15996,
    "start_time": "2023-02-03T11:29:35.981Z"
   },
   {
    "duration": 433791,
    "start_time": "2023-02-03T11:29:51.980Z"
   },
   {
    "duration": 100,
    "start_time": "2023-02-03T11:37:05.773Z"
   },
   {
    "duration": 1095,
    "start_time": "2023-02-03T11:37:05.875Z"
   },
   {
    "duration": 95,
    "start_time": "2023-02-03T11:37:06.972Z"
   },
   {
    "duration": 10,
    "start_time": "2023-02-03T11:37:07.069Z"
   },
   {
    "duration": 7,
    "start_time": "2023-02-03T11:45:49.162Z"
   },
   {
    "duration": 7,
    "start_time": "2023-02-03T11:46:53.523Z"
   },
   {
    "duration": 176,
    "start_time": "2023-02-03T11:57:36.734Z"
   },
   {
    "duration": 146495,
    "start_time": "2023-02-03T11:57:57.054Z"
   },
   {
    "duration": 31323,
    "start_time": "2023-02-03T12:07:27.065Z"
   },
   {
    "duration": 108792,
    "start_time": "2023-02-03T12:10:18.080Z"
   },
   {
    "duration": 752,
    "start_time": "2023-02-03T12:12:29.419Z"
   },
   {
    "duration": 8,
    "start_time": "2023-02-03T12:12:32.581Z"
   },
   {
    "duration": 12,
    "start_time": "2023-02-03T12:21:22.220Z"
   },
   {
    "duration": 33806,
    "start_time": "2023-02-03T12:21:32.457Z"
   },
   {
    "duration": 7,
    "start_time": "2023-02-03T12:22:24.052Z"
   },
   {
    "duration": 56,
    "start_time": "2023-02-03T12:23:12.562Z"
   },
   {
    "duration": 63,
    "start_time": "2023-02-03T12:23:23.320Z"
   },
   {
    "duration": 19,
    "start_time": "2023-02-03T12:23:37.730Z"
   },
   {
    "duration": 4,
    "start_time": "2023-02-03T12:24:01.553Z"
   },
   {
    "duration": 99073,
    "start_time": "2023-02-03T12:25:55.901Z"
   },
   {
    "duration": 4,
    "start_time": "2023-02-03T12:28:08.082Z"
   },
   {
    "duration": 4,
    "start_time": "2023-02-03T12:30:07.856Z"
   },
   {
    "duration": 7,
    "start_time": "2023-02-03T12:30:37.310Z"
   },
   {
    "duration": 1646,
    "start_time": "2023-02-03T13:49:24.230Z"
   },
   {
    "duration": 5,
    "start_time": "2023-02-03T13:49:25.878Z"
   },
   {
    "duration": 3468,
    "start_time": "2023-02-03T13:49:25.885Z"
   },
   {
    "duration": 18,
    "start_time": "2023-02-03T13:49:29.354Z"
   },
   {
    "duration": 155,
    "start_time": "2023-02-03T13:49:29.375Z"
   },
   {
    "duration": 63,
    "start_time": "2023-02-03T13:49:29.532Z"
   },
   {
    "duration": 131,
    "start_time": "2023-02-03T13:49:29.596Z"
   },
   {
    "duration": 107,
    "start_time": "2023-02-03T13:49:29.729Z"
   },
   {
    "duration": 179,
    "start_time": "2023-02-03T13:49:29.838Z"
   },
   {
    "duration": 88,
    "start_time": "2023-02-03T13:49:30.019Z"
   },
   {
    "duration": 106,
    "start_time": "2023-02-03T13:49:30.109Z"
   },
   {
    "duration": 61,
    "start_time": "2023-02-03T13:49:30.217Z"
   },
   {
    "duration": 56,
    "start_time": "2023-02-03T13:49:30.280Z"
   },
   {
    "duration": 78,
    "start_time": "2023-02-03T13:49:30.339Z"
   },
   {
    "duration": 60,
    "start_time": "2023-02-03T13:49:30.419Z"
   },
   {
    "duration": 4309,
    "start_time": "2023-02-03T13:49:30.480Z"
   },
   {
    "duration": 1005,
    "start_time": "2023-02-03T13:49:34.791Z"
   },
   {
    "duration": 39,
    "start_time": "2023-02-03T13:49:35.798Z"
   },
   {
    "duration": 282,
    "start_time": "2023-02-03T13:49:35.838Z"
   },
   {
    "duration": 4,
    "start_time": "2023-02-03T13:49:36.122Z"
   },
   {
    "duration": 203,
    "start_time": "2023-02-03T13:49:36.128Z"
   },
   {
    "duration": 200,
    "start_time": "2023-02-03T13:49:36.333Z"
   },
   {
    "duration": 110,
    "start_time": "2023-02-03T13:49:36.535Z"
   },
   {
    "duration": 158,
    "start_time": "2023-02-03T13:49:36.647Z"
   },
   {
    "duration": 3,
    "start_time": "2023-02-03T13:49:36.807Z"
   },
   {
    "duration": 111,
    "start_time": "2023-02-03T13:49:36.812Z"
   },
   {
    "duration": 53,
    "start_time": "2023-02-03T13:49:36.925Z"
   },
   {
    "duration": 12,
    "start_time": "2023-02-03T13:49:36.980Z"
   },
   {
    "duration": 122,
    "start_time": "2023-02-03T13:49:36.993Z"
   },
   {
    "duration": 24,
    "start_time": "2023-02-03T13:49:37.117Z"
   },
   {
    "duration": 2,
    "start_time": "2023-02-03T13:49:37.143Z"
   },
   {
    "duration": 6,
    "start_time": "2023-02-03T13:49:37.146Z"
   },
   {
    "duration": 14,
    "start_time": "2023-02-03T13:49:37.154Z"
   },
   {
    "duration": 7,
    "start_time": "2023-02-03T13:49:37.169Z"
   },
   {
    "duration": 104563,
    "start_time": "2023-02-03T13:49:37.177Z"
   },
   {
    "duration": 5,
    "start_time": "2023-02-03T13:51:21.742Z"
   },
   {
    "duration": 363728,
    "start_time": "2023-02-03T13:51:21.748Z"
   },
   {
    "duration": 3,
    "start_time": "2023-02-03T13:57:25.477Z"
   },
   {
    "duration": 7,
    "start_time": "2023-02-03T13:57:25.481Z"
   },
   {
    "duration": 7,
    "start_time": "2023-02-03T13:57:25.490Z"
   },
   {
    "duration": 2043,
    "start_time": "2023-02-03T13:57:25.500Z"
   },
   {
    "duration": 3,
    "start_time": "2023-02-03T13:57:27.545Z"
   },
   {
    "duration": 12,
    "start_time": "2023-02-03T13:57:27.549Z"
   },
   {
    "duration": 16810,
    "start_time": "2023-02-03T13:57:27.563Z"
   },
   {
    "duration": 509409,
    "start_time": "2023-02-03T13:57:44.374Z"
   },
   {
    "duration": 82,
    "start_time": "2023-02-03T14:06:13.790Z"
   },
   {
    "duration": 9,
    "start_time": "2023-02-03T14:07:31.107Z"
   },
   {
    "duration": 126,
    "start_time": "2023-02-03T14:08:39.561Z"
   },
   {
    "duration": 4,
    "start_time": "2023-02-03T14:10:20.305Z"
   },
   {
    "duration": 5,
    "start_time": "2023-02-03T14:10:24.827Z"
   },
   {
    "duration": 552,
    "start_time": "2023-02-03T14:13:59.161Z"
   },
   {
    "duration": 507,
    "start_time": "2023-02-03T14:15:11.285Z"
   },
   {
    "duration": 482,
    "start_time": "2023-02-03T14:15:29.398Z"
   },
   {
    "duration": 559,
    "start_time": "2023-02-03T14:16:11.028Z"
   },
   {
    "duration": 4,
    "start_time": "2023-02-03T14:27:00.193Z"
   },
   {
    "duration": 21,
    "start_time": "2023-02-03T14:27:00.199Z"
   },
   {
    "duration": 821,
    "start_time": "2023-02-03T14:27:00.221Z"
   },
   {
    "duration": 13,
    "start_time": "2023-02-03T14:27:01.044Z"
   },
   {
    "duration": 191,
    "start_time": "2023-02-03T14:27:01.059Z"
   },
   {
    "duration": 31,
    "start_time": "2023-02-03T14:27:01.252Z"
   },
   {
    "duration": 133,
    "start_time": "2023-02-03T14:27:01.285Z"
   },
   {
    "duration": 93,
    "start_time": "2023-02-03T14:27:01.420Z"
   },
   {
    "duration": 167,
    "start_time": "2023-02-03T14:27:01.515Z"
   },
   {
    "duration": 46,
    "start_time": "2023-02-03T14:27:01.683Z"
   },
   {
    "duration": 61,
    "start_time": "2023-02-03T14:27:01.731Z"
   },
   {
    "duration": 48,
    "start_time": "2023-02-03T14:27:01.795Z"
   },
   {
    "duration": 67,
    "start_time": "2023-02-03T14:27:01.844Z"
   },
   {
    "duration": 51,
    "start_time": "2023-02-03T14:27:01.912Z"
   },
   {
    "duration": 158,
    "start_time": "2023-02-03T14:27:01.965Z"
   },
   {
    "duration": 4370,
    "start_time": "2023-02-03T14:27:02.125Z"
   },
   {
    "duration": 956,
    "start_time": "2023-02-03T14:27:06.497Z"
   },
   {
    "duration": 47,
    "start_time": "2023-02-03T14:27:07.455Z"
   },
   {
    "duration": 193,
    "start_time": "2023-02-03T14:27:07.503Z"
   },
   {
    "duration": 3,
    "start_time": "2023-02-03T14:27:07.698Z"
   },
   {
    "duration": 182,
    "start_time": "2023-02-03T14:27:07.702Z"
   },
   {
    "duration": 172,
    "start_time": "2023-02-03T14:27:07.886Z"
   },
   {
    "duration": 116,
    "start_time": "2023-02-03T14:27:08.060Z"
   },
   {
    "duration": 114,
    "start_time": "2023-02-03T14:27:08.178Z"
   },
   {
    "duration": 3,
    "start_time": "2023-02-03T14:27:08.293Z"
   },
   {
    "duration": 97,
    "start_time": "2023-02-03T14:27:08.297Z"
   },
   {
    "duration": 38,
    "start_time": "2023-02-03T14:27:08.395Z"
   },
   {
    "duration": 9,
    "start_time": "2023-02-03T14:27:08.435Z"
   },
   {
    "duration": 98,
    "start_time": "2023-02-03T14:27:08.445Z"
   },
   {
    "duration": 32,
    "start_time": "2023-02-03T14:27:08.544Z"
   },
   {
    "duration": 3,
    "start_time": "2023-02-03T14:27:08.578Z"
   },
   {
    "duration": 692105,
    "start_time": "2023-02-03T14:27:08.586Z"
   },
   {
    "duration": 3,
    "start_time": "2023-02-03T14:38:40.696Z"
   },
   {
    "duration": 241776,
    "start_time": "2023-02-03T14:38:40.700Z"
   },
   {
    "duration": 2666,
    "start_time": "2023-02-03T14:42:42.478Z"
   },
   {
    "duration": 58,
    "start_time": "2023-02-03T14:42:45.146Z"
   },
   {
    "duration": 0,
    "start_time": "2023-02-03T14:42:45.206Z"
   },
   {
    "duration": 2,
    "start_time": "2023-02-03T14:46:56.894Z"
   },
   {
    "duration": 138138,
    "start_time": "2023-02-03T14:47:01.143Z"
   },
   {
    "duration": 11,
    "start_time": "2023-02-03T14:50:24.543Z"
   },
   {
    "duration": 10,
    "start_time": "2023-02-03T14:50:41.796Z"
   },
   {
    "duration": 259799,
    "start_time": "2023-02-03T14:51:25.075Z"
   },
   {
    "duration": 8,
    "start_time": "2023-02-03T14:59:01.253Z"
   },
   {
    "duration": 4,
    "start_time": "2023-02-03T14:59:43.376Z"
   },
   {
    "duration": 607,
    "start_time": "2023-02-03T15:01:55.461Z"
   },
   {
    "duration": 6,
    "start_time": "2023-02-03T15:02:04.365Z"
   },
   {
    "duration": 589,
    "start_time": "2023-02-03T15:09:07.379Z"
   },
   {
    "duration": 6,
    "start_time": "2023-02-03T15:09:24.105Z"
   },
   {
    "duration": 472,
    "start_time": "2023-02-03T15:13:02.124Z"
   },
   {
    "duration": 1496,
    "start_time": "2023-02-03T23:50:48.720Z"
   },
   {
    "duration": 3,
    "start_time": "2023-02-03T23:50:50.218Z"
   },
   {
    "duration": 866,
    "start_time": "2023-02-03T23:50:50.223Z"
   },
   {
    "duration": 17,
    "start_time": "2023-02-03T23:50:51.091Z"
   },
   {
    "duration": 143,
    "start_time": "2023-02-03T23:50:51.110Z"
   },
   {
    "duration": 56,
    "start_time": "2023-02-03T23:50:51.254Z"
   },
   {
    "duration": 144,
    "start_time": "2023-02-03T23:50:51.312Z"
   },
   {
    "duration": 102,
    "start_time": "2023-02-03T23:50:51.458Z"
   },
   {
    "duration": 176,
    "start_time": "2023-02-03T23:50:51.562Z"
   },
   {
    "duration": 49,
    "start_time": "2023-02-03T23:50:51.739Z"
   },
   {
    "duration": 65,
    "start_time": "2023-02-03T23:50:51.789Z"
   },
   {
    "duration": 49,
    "start_time": "2023-02-03T23:50:51.855Z"
   },
   {
    "duration": 64,
    "start_time": "2023-02-03T23:50:51.906Z"
   },
   {
    "duration": 65,
    "start_time": "2023-02-03T23:50:51.973Z"
   },
   {
    "duration": 52,
    "start_time": "2023-02-03T23:50:52.039Z"
   },
   {
    "duration": 4633,
    "start_time": "2023-02-03T23:50:52.092Z"
   },
   {
    "duration": 972,
    "start_time": "2023-02-03T23:50:56.727Z"
   },
   {
    "duration": 54,
    "start_time": "2023-02-03T23:50:57.700Z"
   },
   {
    "duration": 262,
    "start_time": "2023-02-03T23:50:57.756Z"
   },
   {
    "duration": 3,
    "start_time": "2023-02-03T23:50:58.019Z"
   },
   {
    "duration": 230,
    "start_time": "2023-02-03T23:50:58.024Z"
   },
   {
    "duration": 199,
    "start_time": "2023-02-03T23:50:58.255Z"
   },
   {
    "duration": 101,
    "start_time": "2023-02-03T23:50:58.456Z"
   },
   {
    "duration": 144,
    "start_time": "2023-02-03T23:50:58.559Z"
   },
   {
    "duration": 3,
    "start_time": "2023-02-03T23:50:58.705Z"
   },
   {
    "duration": 105,
    "start_time": "2023-02-03T23:50:58.710Z"
   },
   {
    "duration": 51,
    "start_time": "2023-02-03T23:50:58.817Z"
   },
   {
    "duration": 10,
    "start_time": "2023-02-03T23:50:58.870Z"
   },
   {
    "duration": 106,
    "start_time": "2023-02-03T23:50:58.882Z"
   },
   {
    "duration": 25,
    "start_time": "2023-02-03T23:50:58.990Z"
   },
   {
    "duration": 15,
    "start_time": "2023-02-03T23:50:59.017Z"
   },
   {
    "duration": 1574,
    "start_time": "2023-02-04T00:02:03.206Z"
   },
   {
    "duration": 3,
    "start_time": "2023-02-04T00:02:04.782Z"
   },
   {
    "duration": 837,
    "start_time": "2023-02-04T00:02:04.786Z"
   },
   {
    "duration": 24,
    "start_time": "2023-02-04T00:02:05.624Z"
   },
   {
    "duration": 144,
    "start_time": "2023-02-04T00:02:05.651Z"
   },
   {
    "duration": 63,
    "start_time": "2023-02-04T00:02:05.796Z"
   },
   {
    "duration": 129,
    "start_time": "2023-02-04T00:02:05.861Z"
   },
   {
    "duration": 111,
    "start_time": "2023-02-04T00:02:05.992Z"
   },
   {
    "duration": 192,
    "start_time": "2023-02-04T00:02:06.105Z"
   },
   {
    "duration": 56,
    "start_time": "2023-02-04T00:02:06.300Z"
   },
   {
    "duration": 51,
    "start_time": "2023-02-04T00:02:06.357Z"
   },
   {
    "duration": 66,
    "start_time": "2023-02-04T00:02:06.409Z"
   },
   {
    "duration": 62,
    "start_time": "2023-02-04T00:02:06.476Z"
   },
   {
    "duration": 60,
    "start_time": "2023-02-04T00:02:06.541Z"
   },
   {
    "duration": 69,
    "start_time": "2023-02-04T00:02:06.602Z"
   },
   {
    "duration": 4564,
    "start_time": "2023-02-04T00:02:06.673Z"
   },
   {
    "duration": 891,
    "start_time": "2023-02-04T00:02:11.239Z"
   },
   {
    "duration": 38,
    "start_time": "2023-02-04T00:02:12.137Z"
   },
   {
    "duration": 292,
    "start_time": "2023-02-04T00:02:12.177Z"
   },
   {
    "duration": 3,
    "start_time": "2023-02-04T00:02:12.472Z"
   },
   {
    "duration": 199,
    "start_time": "2023-02-04T00:02:12.477Z"
   },
   {
    "duration": 187,
    "start_time": "2023-02-04T00:02:12.678Z"
   },
   {
    "duration": 98,
    "start_time": "2023-02-04T00:02:12.867Z"
   },
   {
    "duration": 139,
    "start_time": "2023-02-04T00:02:12.967Z"
   },
   {
    "duration": 4,
    "start_time": "2023-02-04T00:02:13.108Z"
   },
   {
    "duration": 5,
    "start_time": "2023-02-04T00:02:13.114Z"
   },
   {
    "duration": 105,
    "start_time": "2023-02-04T00:02:13.121Z"
   },
   {
    "duration": 45,
    "start_time": "2023-02-04T00:02:13.238Z"
   },
   {
    "duration": 10,
    "start_time": "2023-02-04T00:02:13.285Z"
   },
   {
    "duration": 119,
    "start_time": "2023-02-04T00:02:13.296Z"
   },
   {
    "duration": 31,
    "start_time": "2023-02-04T00:02:13.417Z"
   },
   {
    "duration": 4,
    "start_time": "2023-02-04T00:02:13.450Z"
   },
   {
    "duration": 683533,
    "start_time": "2023-02-04T00:02:13.455Z"
   },
   {
    "duration": 3,
    "start_time": "2023-02-04T00:13:36.990Z"
   },
   {
    "duration": 48445,
    "start_time": "2023-02-04T00:13:36.995Z"
   },
   {
    "duration": 2782,
    "start_time": "2023-02-04T00:14:25.441Z"
   },
   {
    "duration": 3,
    "start_time": "2023-02-04T00:14:28.225Z"
   },
   {
    "duration": 47,
    "start_time": "2023-02-04T03:13:24.664Z"
   },
   {
    "duration": 1569,
    "start_time": "2023-02-04T03:13:29.038Z"
   },
   {
    "duration": 3,
    "start_time": "2023-02-04T03:13:30.609Z"
   },
   {
    "duration": 2835,
    "start_time": "2023-02-04T03:13:30.613Z"
   },
   {
    "duration": 17,
    "start_time": "2023-02-04T03:13:33.451Z"
   },
   {
    "duration": 140,
    "start_time": "2023-02-04T03:13:33.469Z"
   },
   {
    "duration": 54,
    "start_time": "2023-02-04T03:13:33.611Z"
   },
   {
    "duration": 132,
    "start_time": "2023-02-04T03:13:33.667Z"
   },
   {
    "duration": 98,
    "start_time": "2023-02-04T03:13:33.801Z"
   },
   {
    "duration": 173,
    "start_time": "2023-02-04T03:13:33.900Z"
   },
   {
    "duration": 50,
    "start_time": "2023-02-04T03:13:34.075Z"
   },
   {
    "duration": 53,
    "start_time": "2023-02-04T03:13:34.138Z"
   },
   {
    "duration": 67,
    "start_time": "2023-02-04T03:13:34.193Z"
   },
   {
    "duration": 50,
    "start_time": "2023-02-04T03:13:34.262Z"
   },
   {
    "duration": 71,
    "start_time": "2023-02-04T03:13:34.314Z"
   },
   {
    "duration": 63,
    "start_time": "2023-02-04T03:13:34.387Z"
   },
   {
    "duration": 4526,
    "start_time": "2023-02-04T03:13:34.451Z"
   },
   {
    "duration": 1013,
    "start_time": "2023-02-04T03:13:38.979Z"
   },
   {
    "duration": 52,
    "start_time": "2023-02-04T03:13:39.993Z"
   },
   {
    "duration": 40,
    "start_time": "2023-02-04T03:13:41.844Z"
   },
   {
    "duration": 87,
    "start_time": "2023-02-04T03:13:44.076Z"
   },
   {
    "duration": 6,
    "start_time": "2023-02-04T03:13:50.269Z"
   },
   {
    "duration": 4,
    "start_time": "2023-02-04T03:15:45.282Z"
   },
   {
    "duration": 5,
    "start_time": "2023-02-04T03:16:09.450Z"
   },
   {
    "duration": 9,
    "start_time": "2023-02-04T03:19:18.447Z"
   },
   {
    "duration": 632,
    "start_time": "2023-02-04T03:19:29.136Z"
   },
   {
    "duration": 533,
    "start_time": "2023-02-04T03:20:18.975Z"
   },
   {
    "duration": 690,
    "start_time": "2023-02-04T03:20:45.738Z"
   },
   {
    "duration": 427,
    "start_time": "2023-02-04T03:21:00.184Z"
   },
   {
    "duration": 392,
    "start_time": "2023-02-04T03:21:16.911Z"
   },
   {
    "duration": 386,
    "start_time": "2023-02-04T03:21:34.134Z"
   },
   {
    "duration": 677,
    "start_time": "2023-02-04T03:21:47.341Z"
   },
   {
    "duration": 374,
    "start_time": "2023-02-04T03:22:04.814Z"
   },
   {
    "duration": 52,
    "start_time": "2023-02-04T03:27:07.985Z"
   },
   {
    "duration": 46,
    "start_time": "2023-02-04T03:27:27.799Z"
   },
   {
    "duration": 61,
    "start_time": "2023-02-04T03:28:46.402Z"
   },
   {
    "duration": 62,
    "start_time": "2023-02-04T03:29:04.805Z"
   },
   {
    "duration": 53,
    "start_time": "2023-02-04T03:31:17.084Z"
   },
   {
    "duration": 61,
    "start_time": "2023-02-04T03:31:23.892Z"
   },
   {
    "duration": 5,
    "start_time": "2023-02-04T03:32:27.770Z"
   },
   {
    "duration": 61,
    "start_time": "2023-02-04T03:32:51.945Z"
   },
   {
    "duration": 65,
    "start_time": "2023-02-04T03:33:11.546Z"
   },
   {
    "duration": 59,
    "start_time": "2023-02-04T03:33:33.073Z"
   },
   {
    "duration": 72,
    "start_time": "2023-02-04T03:34:06.426Z"
   },
   {
    "duration": 72,
    "start_time": "2023-02-04T03:34:35.034Z"
   },
   {
    "duration": 73,
    "start_time": "2023-02-04T03:34:44.310Z"
   },
   {
    "duration": 67,
    "start_time": "2023-02-04T03:35:54.656Z"
   },
   {
    "duration": 61,
    "start_time": "2023-02-04T03:37:32.041Z"
   },
   {
    "duration": 78,
    "start_time": "2023-02-04T03:37:50.982Z"
   },
   {
    "duration": 65,
    "start_time": "2023-02-04T03:38:30.241Z"
   },
   {
    "duration": 53,
    "start_time": "2023-02-04T03:40:32.571Z"
   },
   {
    "duration": 55,
    "start_time": "2023-02-04T03:40:40.084Z"
   },
   {
    "duration": 61,
    "start_time": "2023-02-04T03:41:27.778Z"
   },
   {
    "duration": 80,
    "start_time": "2023-02-04T03:41:43.530Z"
   },
   {
    "duration": 72,
    "start_time": "2023-02-04T03:42:18.609Z"
   },
   {
    "duration": 65,
    "start_time": "2023-02-04T03:42:32.913Z"
   },
   {
    "duration": 63,
    "start_time": "2023-02-04T03:44:07.834Z"
   },
   {
    "duration": 7,
    "start_time": "2023-02-04T03:46:14.527Z"
   },
   {
    "duration": 4,
    "start_time": "2023-02-04T03:47:07.000Z"
   },
   {
    "duration": 7,
    "start_time": "2023-02-04T03:47:16.406Z"
   },
   {
    "duration": 5,
    "start_time": "2023-02-04T03:47:44.543Z"
   },
   {
    "duration": 4,
    "start_time": "2023-02-04T03:48:42.828Z"
   },
   {
    "duration": 5,
    "start_time": "2023-02-04T03:48:49.620Z"
   },
   {
    "duration": 4,
    "start_time": "2023-02-04T03:49:18.100Z"
   },
   {
    "duration": 6,
    "start_time": "2023-02-04T03:49:20.011Z"
   },
   {
    "duration": 6,
    "start_time": "2023-02-04T03:49:36.004Z"
   },
   {
    "duration": 9,
    "start_time": "2023-02-04T03:49:59.421Z"
   },
   {
    "duration": 4,
    "start_time": "2023-02-04T03:50:25.082Z"
   },
   {
    "duration": 5,
    "start_time": "2023-02-04T03:50:36.755Z"
   },
   {
    "duration": 6,
    "start_time": "2023-02-04T03:50:56.370Z"
   },
   {
    "duration": 3,
    "start_time": "2023-02-04T03:51:28.491Z"
   },
   {
    "duration": 3,
    "start_time": "2023-02-04T03:51:30.026Z"
   },
   {
    "duration": 7,
    "start_time": "2023-02-04T03:51:34.010Z"
   },
   {
    "duration": 5,
    "start_time": "2023-02-04T03:52:07.145Z"
   },
   {
    "duration": 5,
    "start_time": "2023-02-04T03:52:15.488Z"
   },
   {
    "duration": 4,
    "start_time": "2023-02-04T03:53:06.496Z"
   },
   {
    "duration": 61,
    "start_time": "2023-02-04T03:53:39.544Z"
   },
   {
    "duration": 120,
    "start_time": "2023-02-04T03:57:36.164Z"
   },
   {
    "duration": 4,
    "start_time": "2023-02-04T03:57:45.563Z"
   },
   {
    "duration": 5,
    "start_time": "2023-02-04T03:58:16.962Z"
   },
   {
    "duration": 105,
    "start_time": "2023-02-04T03:58:54.277Z"
   },
   {
    "duration": 10,
    "start_time": "2023-02-04T03:59:17.836Z"
   },
   {
    "duration": 5,
    "start_time": "2023-02-04T03:59:41.739Z"
   },
   {
    "duration": 10,
    "start_time": "2023-02-04T03:59:50.221Z"
   },
   {
    "duration": 12,
    "start_time": "2023-02-04T04:00:27.355Z"
   },
   {
    "duration": 4,
    "start_time": "2023-02-04T04:00:38.100Z"
   },
   {
    "duration": 4,
    "start_time": "2023-02-04T04:00:38.108Z"
   },
   {
    "duration": 798,
    "start_time": "2023-02-04T04:00:38.114Z"
   },
   {
    "duration": 14,
    "start_time": "2023-02-04T04:00:38.914Z"
   },
   {
    "duration": 147,
    "start_time": "2023-02-04T04:00:38.930Z"
   },
   {
    "duration": 23,
    "start_time": "2023-02-04T04:00:39.080Z"
   },
   {
    "duration": 144,
    "start_time": "2023-02-04T04:00:39.105Z"
   },
   {
    "duration": 106,
    "start_time": "2023-02-04T04:00:39.251Z"
   },
   {
    "duration": 169,
    "start_time": "2023-02-04T04:00:39.359Z"
   },
   {
    "duration": 53,
    "start_time": "2023-02-04T04:00:39.529Z"
   },
   {
    "duration": 65,
    "start_time": "2023-02-04T04:00:39.584Z"
   },
   {
    "duration": 88,
    "start_time": "2023-02-04T04:00:39.651Z"
   },
   {
    "duration": 51,
    "start_time": "2023-02-04T04:00:39.740Z"
   },
   {
    "duration": 66,
    "start_time": "2023-02-04T04:00:39.793Z"
   },
   {
    "duration": 42,
    "start_time": "2023-02-04T04:00:39.861Z"
   },
   {
    "duration": 4740,
    "start_time": "2023-02-04T04:00:39.905Z"
   },
   {
    "duration": 1022,
    "start_time": "2023-02-04T04:00:44.646Z"
   },
   {
    "duration": 68,
    "start_time": "2023-02-04T04:00:45.670Z"
   },
   {
    "duration": 79,
    "start_time": "2023-02-04T04:00:45.740Z"
   },
   {
    "duration": 70,
    "start_time": "2023-02-04T04:00:47.163Z"
   },
   {
    "duration": 54,
    "start_time": "2023-02-04T04:00:47.706Z"
   },
   {
    "duration": 4,
    "start_time": "2023-02-04T04:00:48.945Z"
   },
   {
    "duration": 6,
    "start_time": "2023-02-04T04:00:52.481Z"
   },
   {
    "duration": 13,
    "start_time": "2023-02-04T04:00:58.946Z"
   },
   {
    "duration": 6,
    "start_time": "2023-02-04T04:01:14.202Z"
   },
   {
    "duration": 19,
    "start_time": "2023-02-04T04:02:22.377Z"
   },
   {
    "duration": 98,
    "start_time": "2023-02-04T04:02:30.120Z"
   },
   {
    "duration": 25,
    "start_time": "2023-02-04T04:02:40.097Z"
   },
   {
    "duration": 8,
    "start_time": "2023-02-04T04:03:38.179Z"
   },
   {
    "duration": 23,
    "start_time": "2023-02-04T04:03:38.189Z"
   },
   {
    "duration": 836,
    "start_time": "2023-02-04T04:03:38.214Z"
   },
   {
    "duration": 14,
    "start_time": "2023-02-04T04:03:39.052Z"
   },
   {
    "duration": 161,
    "start_time": "2023-02-04T04:03:39.068Z"
   },
   {
    "duration": 27,
    "start_time": "2023-02-04T04:03:39.230Z"
   },
   {
    "duration": 157,
    "start_time": "2023-02-04T04:03:39.259Z"
   },
   {
    "duration": 103,
    "start_time": "2023-02-04T04:03:39.417Z"
   },
   {
    "duration": 176,
    "start_time": "2023-02-04T04:03:39.521Z"
   },
   {
    "duration": 63,
    "start_time": "2023-02-04T04:03:39.699Z"
   },
   {
    "duration": 52,
    "start_time": "2023-02-04T04:03:39.764Z"
   },
   {
    "duration": 66,
    "start_time": "2023-02-04T04:03:39.818Z"
   },
   {
    "duration": 65,
    "start_time": "2023-02-04T04:03:39.885Z"
   },
   {
    "duration": 53,
    "start_time": "2023-02-04T04:03:39.952Z"
   },
   {
    "duration": 58,
    "start_time": "2023-02-04T04:03:40.007Z"
   },
   {
    "duration": 4388,
    "start_time": "2023-02-04T04:03:40.067Z"
   },
   {
    "duration": 901,
    "start_time": "2023-02-04T04:03:44.457Z"
   },
   {
    "duration": 41,
    "start_time": "2023-02-04T04:03:45.360Z"
   },
   {
    "duration": 89,
    "start_time": "2023-02-04T04:03:45.404Z"
   },
   {
    "duration": 57,
    "start_time": "2023-02-04T04:03:47.688Z"
   },
   {
    "duration": 4,
    "start_time": "2023-02-04T04:03:48.369Z"
   },
   {
    "duration": 7,
    "start_time": "2023-02-04T04:03:49.009Z"
   },
   {
    "duration": 4,
    "start_time": "2023-02-04T04:03:50.536Z"
   },
   {
    "duration": 112,
    "start_time": "2023-02-04T04:03:52.703Z"
   },
   {
    "duration": 24,
    "start_time": "2023-02-04T04:03:56.264Z"
   },
   {
    "duration": 16,
    "start_time": "2023-02-04T04:04:08.426Z"
   },
   {
    "duration": 18,
    "start_time": "2023-02-04T04:04:21.656Z"
   },
   {
    "duration": 33,
    "start_time": "2023-02-04T04:04:33.983Z"
   },
   {
    "duration": 21,
    "start_time": "2023-02-04T04:04:55.838Z"
   },
   {
    "duration": 4,
    "start_time": "2023-02-04T04:05:10.695Z"
   },
   {
    "duration": 33,
    "start_time": "2023-02-04T04:05:56.055Z"
   },
   {
    "duration": 20,
    "start_time": "2023-02-04T04:06:05.167Z"
   },
   {
    "duration": 67,
    "start_time": "2023-02-04T04:11:49.600Z"
   },
   {
    "duration": 1474,
    "start_time": "2023-02-04T04:11:57.505Z"
   },
   {
    "duration": 2,
    "start_time": "2023-02-04T04:11:58.981Z"
   },
   {
    "duration": 933,
    "start_time": "2023-02-04T04:11:58.985Z"
   },
   {
    "duration": 34,
    "start_time": "2023-02-04T04:11:59.921Z"
   },
   {
    "duration": 146,
    "start_time": "2023-02-04T04:11:59.957Z"
   },
   {
    "duration": 63,
    "start_time": "2023-02-04T04:12:00.104Z"
   },
   {
    "duration": 159,
    "start_time": "2023-02-04T04:12:00.168Z"
   },
   {
    "duration": 135,
    "start_time": "2023-02-04T04:12:00.329Z"
   },
   {
    "duration": 204,
    "start_time": "2023-02-04T04:12:00.465Z"
   },
   {
    "duration": 47,
    "start_time": "2023-02-04T04:12:00.672Z"
   },
   {
    "duration": 68,
    "start_time": "2023-02-04T04:12:00.720Z"
   },
   {
    "duration": 72,
    "start_time": "2023-02-04T04:12:00.791Z"
   },
   {
    "duration": 51,
    "start_time": "2023-02-04T04:12:00.865Z"
   },
   {
    "duration": 82,
    "start_time": "2023-02-04T04:12:00.918Z"
   },
   {
    "duration": 65,
    "start_time": "2023-02-04T04:12:01.002Z"
   },
   {
    "duration": 5234,
    "start_time": "2023-02-04T04:12:01.069Z"
   },
   {
    "duration": 89,
    "start_time": "2023-02-04T04:12:06.305Z"
   },
   {
    "duration": 72,
    "start_time": "2023-02-04T04:12:06.396Z"
   },
   {
    "duration": 135,
    "start_time": "2023-02-04T04:12:10.449Z"
   },
   {
    "duration": 4,
    "start_time": "2023-02-04T04:13:00.585Z"
   },
   {
    "duration": 1531,
    "start_time": "2023-02-04T04:13:41.360Z"
   },
   {
    "duration": 3,
    "start_time": "2023-02-04T04:13:42.893Z"
   },
   {
    "duration": 974,
    "start_time": "2023-02-04T04:13:42.897Z"
   },
   {
    "duration": 17,
    "start_time": "2023-02-04T04:13:43.874Z"
   },
   {
    "duration": 165,
    "start_time": "2023-02-04T04:13:43.892Z"
   },
   {
    "duration": 53,
    "start_time": "2023-02-04T04:13:44.059Z"
   },
   {
    "duration": 158,
    "start_time": "2023-02-04T04:13:44.114Z"
   },
   {
    "duration": 110,
    "start_time": "2023-02-04T04:13:44.274Z"
   },
   {
    "duration": 192,
    "start_time": "2023-02-04T04:13:44.385Z"
   },
   {
    "duration": 59,
    "start_time": "2023-02-04T04:13:44.580Z"
   },
   {
    "duration": 56,
    "start_time": "2023-02-04T04:13:44.641Z"
   },
   {
    "duration": 75,
    "start_time": "2023-02-04T04:13:44.698Z"
   },
   {
    "duration": 50,
    "start_time": "2023-02-04T04:13:44.774Z"
   },
   {
    "duration": 78,
    "start_time": "2023-02-04T04:13:44.826Z"
   },
   {
    "duration": 63,
    "start_time": "2023-02-04T04:13:44.906Z"
   },
   {
    "duration": 4948,
    "start_time": "2023-02-04T04:13:44.970Z"
   },
   {
    "duration": 92,
    "start_time": "2023-02-04T04:13:49.920Z"
   },
   {
    "duration": 5,
    "start_time": "2023-02-04T04:13:50.014Z"
   },
   {
    "duration": 5,
    "start_time": "2023-02-04T04:13:51.887Z"
   },
   {
    "duration": 65,
    "start_time": "2023-02-04T04:13:53.919Z"
   },
   {
    "duration": 50,
    "start_time": "2023-02-04T04:14:22.623Z"
   },
   {
    "duration": 900,
    "start_time": "2023-02-04T04:14:26.070Z"
   },
   {
    "duration": 45,
    "start_time": "2023-02-04T04:15:08.199Z"
   },
   {
    "duration": 262,
    "start_time": "2023-02-04T04:15:18.261Z"
   },
   {
    "duration": 3,
    "start_time": "2023-02-04T04:15:22.877Z"
   },
   {
    "duration": 197,
    "start_time": "2023-02-04T04:15:23.422Z"
   },
   {
    "duration": 202,
    "start_time": "2023-02-04T04:15:30.413Z"
   },
   {
    "duration": 102,
    "start_time": "2023-02-04T04:15:39.316Z"
   },
   {
    "duration": 111,
    "start_time": "2023-02-04T04:18:39.276Z"
   },
   {
    "duration": 17,
    "start_time": "2023-02-04T04:18:59.604Z"
   },
   {
    "duration": 3,
    "start_time": "2023-02-04T04:42:29.157Z"
   },
   {
    "duration": 23,
    "start_time": "2023-02-04T04:42:29.164Z"
   },
   {
    "duration": 824,
    "start_time": "2023-02-04T04:42:29.188Z"
   },
   {
    "duration": 14,
    "start_time": "2023-02-04T04:42:30.013Z"
   },
   {
    "duration": 128,
    "start_time": "2023-02-04T04:42:30.039Z"
   },
   {
    "duration": 28,
    "start_time": "2023-02-04T04:42:30.168Z"
   },
   {
    "duration": 136,
    "start_time": "2023-02-04T04:42:30.198Z"
   },
   {
    "duration": 87,
    "start_time": "2023-02-04T04:42:30.338Z"
   },
   {
    "duration": 169,
    "start_time": "2023-02-04T04:42:30.426Z"
   },
   {
    "duration": 50,
    "start_time": "2023-02-04T04:42:30.597Z"
   },
   {
    "duration": 50,
    "start_time": "2023-02-04T04:42:30.650Z"
   },
   {
    "duration": 65,
    "start_time": "2023-02-04T04:42:30.702Z"
   },
   {
    "duration": 47,
    "start_time": "2023-02-04T04:42:30.768Z"
   },
   {
    "duration": 62,
    "start_time": "2023-02-04T04:42:30.817Z"
   },
   {
    "duration": 39,
    "start_time": "2023-02-04T04:42:30.881Z"
   },
   {
    "duration": 4398,
    "start_time": "2023-02-04T04:42:30.922Z"
   },
   {
    "duration": 78,
    "start_time": "2023-02-04T04:42:35.322Z"
   },
   {
    "duration": 4,
    "start_time": "2023-02-04T04:42:35.402Z"
   },
   {
    "duration": 59,
    "start_time": "2023-02-04T04:42:35.408Z"
   },
   {
    "duration": 42,
    "start_time": "2023-02-04T04:42:35.468Z"
   },
   {
    "duration": 928,
    "start_time": "2023-02-04T04:42:35.512Z"
   },
   {
    "duration": 38,
    "start_time": "2023-02-04T04:42:36.442Z"
   },
   {
    "duration": 211,
    "start_time": "2023-02-04T04:42:36.482Z"
   },
   {
    "duration": 3,
    "start_time": "2023-02-04T04:42:36.696Z"
   },
   {
    "duration": 193,
    "start_time": "2023-02-04T04:42:36.701Z"
   },
   {
    "duration": 191,
    "start_time": "2023-02-04T04:42:36.896Z"
   },
   {
    "duration": 103,
    "start_time": "2023-02-04T04:42:37.089Z"
   },
   {
    "duration": 23,
    "start_time": "2023-02-04T04:42:37.195Z"
   },
   {
    "duration": 31,
    "start_time": "2023-02-04T04:42:37.221Z"
   },
   {
    "duration": 12,
    "start_time": "2023-02-04T04:42:37.254Z"
   },
   {
    "duration": 19,
    "start_time": "2023-02-04T04:42:37.267Z"
   },
   {
    "duration": 68,
    "start_time": "2023-02-04T04:42:37.287Z"
   },
   {
    "duration": 0,
    "start_time": "2023-02-04T04:42:37.357Z"
   },
   {
    "duration": 0,
    "start_time": "2023-02-04T04:42:37.358Z"
   },
   {
    "duration": 0,
    "start_time": "2023-02-04T04:42:37.360Z"
   },
   {
    "duration": 10,
    "start_time": "2023-02-04T04:42:54.833Z"
   },
   {
    "duration": 16,
    "start_time": "2023-02-04T04:43:05.281Z"
   },
   {
    "duration": 11,
    "start_time": "2023-02-04T04:44:53.760Z"
   },
   {
    "duration": 5,
    "start_time": "2023-02-04T04:45:09.145Z"
   },
   {
    "duration": 3,
    "start_time": "2023-02-04T04:45:09.154Z"
   },
   {
    "duration": 782,
    "start_time": "2023-02-04T04:45:09.159Z"
   },
   {
    "duration": 15,
    "start_time": "2023-02-04T04:45:09.944Z"
   },
   {
    "duration": 140,
    "start_time": "2023-02-04T04:45:09.960Z"
   },
   {
    "duration": 62,
    "start_time": "2023-02-04T04:45:10.103Z"
   },
   {
    "duration": 130,
    "start_time": "2023-02-04T04:45:10.167Z"
   },
   {
    "duration": 106,
    "start_time": "2023-02-04T04:45:10.299Z"
   },
   {
    "duration": 174,
    "start_time": "2023-02-04T04:45:10.407Z"
   },
   {
    "duration": 60,
    "start_time": "2023-02-04T04:45:10.583Z"
   },
   {
    "duration": 56,
    "start_time": "2023-02-04T04:45:10.644Z"
   },
   {
    "duration": 72,
    "start_time": "2023-02-04T04:45:10.703Z"
   },
   {
    "duration": 67,
    "start_time": "2023-02-04T04:45:10.777Z"
   },
   {
    "duration": 54,
    "start_time": "2023-02-04T04:45:10.846Z"
   },
   {
    "duration": 61,
    "start_time": "2023-02-04T04:45:10.902Z"
   },
   {
    "duration": 4899,
    "start_time": "2023-02-04T04:45:10.965Z"
   },
   {
    "duration": 91,
    "start_time": "2023-02-04T04:45:15.866Z"
   },
   {
    "duration": 44,
    "start_time": "2023-02-04T04:45:15.959Z"
   },
   {
    "duration": 139,
    "start_time": "2023-02-04T04:45:16.005Z"
   },
   {
    "duration": 115,
    "start_time": "2023-02-04T04:45:23.368Z"
   },
   {
    "duration": 908,
    "start_time": "2023-02-04T04:45:24.624Z"
   },
   {
    "duration": 44,
    "start_time": "2023-02-04T04:45:29.831Z"
   },
   {
    "duration": 190,
    "start_time": "2023-02-04T04:45:37.159Z"
   },
   {
    "duration": 4,
    "start_time": "2023-02-04T04:45:42.575Z"
   },
   {
    "duration": 188,
    "start_time": "2023-02-04T04:45:45.167Z"
   },
   {
    "duration": 187,
    "start_time": "2023-02-04T04:45:49.927Z"
   },
   {
    "duration": 105,
    "start_time": "2023-02-04T04:45:52.735Z"
   },
   {
    "duration": 22,
    "start_time": "2023-02-04T04:45:55.558Z"
   },
   {
    "duration": 14,
    "start_time": "2023-02-04T04:46:00.254Z"
   },
   {
    "duration": 4,
    "start_time": "2023-02-04T04:46:01.007Z"
   },
   {
    "duration": 3,
    "start_time": "2023-02-04T04:46:08.303Z"
   },
   {
    "duration": 53,
    "start_time": "2023-02-04T04:46:10.007Z"
   },
   {
    "duration": 10,
    "start_time": "2023-02-04T04:46:51.215Z"
   },
   {
    "duration": 6,
    "start_time": "2023-02-04T04:46:58.303Z"
   },
   {
    "duration": 78,
    "start_time": "2023-02-04T04:47:29.733Z"
   },
   {
    "duration": 0,
    "start_time": "2023-02-04T04:47:29.813Z"
   },
   {
    "duration": 0,
    "start_time": "2023-02-04T04:47:29.814Z"
   },
   {
    "duration": 0,
    "start_time": "2023-02-04T04:47:29.816Z"
   },
   {
    "duration": 0,
    "start_time": "2023-02-04T04:47:29.817Z"
   },
   {
    "duration": 0,
    "start_time": "2023-02-04T04:47:29.818Z"
   },
   {
    "duration": 0,
    "start_time": "2023-02-04T04:47:29.819Z"
   },
   {
    "duration": 0,
    "start_time": "2023-02-04T04:47:29.839Z"
   },
   {
    "duration": 0,
    "start_time": "2023-02-04T04:47:29.840Z"
   },
   {
    "duration": 11,
    "start_time": "2023-02-04T04:47:29.856Z"
   },
   {
    "duration": 3,
    "start_time": "2023-02-04T04:47:29.927Z"
   },
   {
    "duration": 77,
    "start_time": "2023-02-04T04:47:29.934Z"
   },
   {
    "duration": 12,
    "start_time": "2023-02-04T04:47:30.013Z"
   },
   {
    "duration": 0,
    "start_time": "2023-02-04T04:47:30.026Z"
   },
   {
    "duration": 0,
    "start_time": "2023-02-04T04:47:30.027Z"
   },
   {
    "duration": 0,
    "start_time": "2023-02-04T04:47:30.029Z"
   },
   {
    "duration": 3,
    "start_time": "2023-02-04T04:47:47.667Z"
   },
   {
    "duration": 8,
    "start_time": "2023-02-04T04:47:47.674Z"
   },
   {
    "duration": 802,
    "start_time": "2023-02-04T04:47:47.685Z"
   },
   {
    "duration": 15,
    "start_time": "2023-02-04T04:47:48.489Z"
   },
   {
    "duration": 143,
    "start_time": "2023-02-04T04:47:48.506Z"
   },
   {
    "duration": 50,
    "start_time": "2023-02-04T04:47:48.652Z"
   },
   {
    "duration": 147,
    "start_time": "2023-02-04T04:47:48.704Z"
   },
   {
    "duration": 101,
    "start_time": "2023-02-04T04:47:48.853Z"
   },
   {
    "duration": 184,
    "start_time": "2023-02-04T04:47:48.956Z"
   },
   {
    "duration": 52,
    "start_time": "2023-02-04T04:47:49.142Z"
   },
   {
    "duration": 66,
    "start_time": "2023-02-04T04:47:49.195Z"
   },
   {
    "duration": 51,
    "start_time": "2023-02-04T04:47:49.264Z"
   },
   {
    "duration": 69,
    "start_time": "2023-02-04T04:47:49.317Z"
   },
   {
    "duration": 55,
    "start_time": "2023-02-04T04:47:49.388Z"
   },
   {
    "duration": 39,
    "start_time": "2023-02-04T04:47:49.445Z"
   },
   {
    "duration": 4749,
    "start_time": "2023-02-04T04:47:49.486Z"
   },
   {
    "duration": 73,
    "start_time": "2023-02-04T04:47:54.237Z"
   },
   {
    "duration": 50,
    "start_time": "2023-02-04T04:47:54.312Z"
   },
   {
    "duration": 107,
    "start_time": "2023-02-04T04:47:54.364Z"
   },
   {
    "duration": 910,
    "start_time": "2023-02-04T04:47:54.473Z"
   },
   {
    "duration": 37,
    "start_time": "2023-02-04T04:47:55.385Z"
   },
   {
    "duration": 197,
    "start_time": "2023-02-04T04:47:55.424Z"
   },
   {
    "duration": 15,
    "start_time": "2023-02-04T04:47:55.623Z"
   },
   {
    "duration": 181,
    "start_time": "2023-02-04T04:47:55.640Z"
   },
   {
    "duration": 186,
    "start_time": "2023-02-04T04:47:55.823Z"
   },
   {
    "duration": 103,
    "start_time": "2023-02-04T04:47:56.011Z"
   },
   {
    "duration": 29,
    "start_time": "2023-02-04T04:47:56.116Z"
   },
   {
    "duration": 133,
    "start_time": "2023-02-04T04:47:56.147Z"
   },
   {
    "duration": 4,
    "start_time": "2023-02-04T04:47:56.282Z"
   },
   {
    "duration": 12,
    "start_time": "2023-02-04T04:47:56.289Z"
   },
   {
    "duration": 117,
    "start_time": "2023-02-04T04:47:56.303Z"
   },
   {
    "duration": 54,
    "start_time": "2023-02-04T04:47:56.423Z"
   },
   {
    "duration": 12,
    "start_time": "2023-02-04T04:48:05.437Z"
   },
   {
    "duration": 116,
    "start_time": "2023-02-04T04:48:08.668Z"
   },
   {
    "duration": 5,
    "start_time": "2023-02-04T04:48:16.285Z"
   },
   {
    "duration": 28,
    "start_time": "2023-02-04T04:48:24.134Z"
   },
   {
    "duration": 2561,
    "start_time": "2023-02-04T04:48:30.511Z"
   },
   {
    "duration": 19,
    "start_time": "2023-02-04T04:48:36.990Z"
   },
   {
    "duration": 11,
    "start_time": "2023-02-04T04:50:35.742Z"
   },
   {
    "duration": 21,
    "start_time": "2023-02-04T04:50:47.469Z"
   },
   {
    "duration": 5,
    "start_time": "2023-02-04T04:51:04.621Z"
   },
   {
    "duration": 176,
    "start_time": "2023-02-04T04:52:15.483Z"
   },
   {
    "duration": 1574,
    "start_time": "2023-02-04T06:43:37.499Z"
   },
   {
    "duration": 3,
    "start_time": "2023-02-04T06:43:39.075Z"
   },
   {
    "duration": 1036,
    "start_time": "2023-02-04T06:43:39.079Z"
   },
   {
    "duration": 17,
    "start_time": "2023-02-04T06:43:40.117Z"
   },
   {
    "duration": 103,
    "start_time": "2023-02-04T06:43:40.135Z"
   },
   {
    "duration": 47,
    "start_time": "2023-02-04T06:43:40.240Z"
   },
   {
    "duration": 123,
    "start_time": "2023-02-04T06:43:40.288Z"
   },
   {
    "duration": 101,
    "start_time": "2023-02-04T06:43:40.413Z"
   },
   {
    "duration": 163,
    "start_time": "2023-02-04T06:43:40.515Z"
   },
   {
    "duration": 49,
    "start_time": "2023-02-04T06:43:40.681Z"
   },
   {
    "duration": 42,
    "start_time": "2023-02-04T06:43:40.732Z"
   },
   {
    "duration": 59,
    "start_time": "2023-02-04T06:43:40.776Z"
   },
   {
    "duration": 43,
    "start_time": "2023-02-04T06:43:40.837Z"
   },
   {
    "duration": 73,
    "start_time": "2023-02-04T06:43:40.882Z"
   },
   {
    "duration": 59,
    "start_time": "2023-02-04T06:43:40.956Z"
   },
   {
    "duration": 4369,
    "start_time": "2023-02-04T06:43:41.016Z"
   },
   {
    "duration": 74,
    "start_time": "2023-02-04T06:43:45.386Z"
   },
   {
    "duration": 66,
    "start_time": "2023-02-04T06:43:45.462Z"
   },
   {
    "duration": 90,
    "start_time": "2023-02-04T06:43:45.530Z"
   },
   {
    "duration": 861,
    "start_time": "2023-02-04T06:43:45.621Z"
   },
   {
    "duration": 46,
    "start_time": "2023-02-04T06:43:46.483Z"
   },
   {
    "duration": 259,
    "start_time": "2023-02-04T06:43:46.530Z"
   },
   {
    "duration": 4,
    "start_time": "2023-02-04T06:43:46.791Z"
   },
   {
    "duration": 185,
    "start_time": "2023-02-04T06:43:46.796Z"
   },
   {
    "duration": 188,
    "start_time": "2023-02-04T06:43:46.982Z"
   },
   {
    "duration": 90,
    "start_time": "2023-02-04T06:43:47.172Z"
   },
   {
    "duration": 14,
    "start_time": "2023-02-04T06:43:47.264Z"
   },
   {
    "duration": 118,
    "start_time": "2023-02-04T06:43:47.281Z"
   },
   {
    "duration": 4,
    "start_time": "2023-02-04T06:43:47.402Z"
   },
   {
    "duration": 7,
    "start_time": "2023-02-04T06:43:47.408Z"
   },
   {
    "duration": 107,
    "start_time": "2023-02-04T06:43:47.416Z"
   },
   {
    "duration": 43,
    "start_time": "2023-02-04T06:43:47.524Z"
   },
   {
    "duration": 11,
    "start_time": "2023-02-04T06:43:47.569Z"
   },
   {
    "duration": 112,
    "start_time": "2023-02-04T06:43:47.582Z"
   },
   {
    "duration": 27,
    "start_time": "2023-02-04T06:43:47.704Z"
   },
   {
    "duration": 3,
    "start_time": "2023-02-04T06:43:47.732Z"
   },
   {
    "duration": 12598,
    "start_time": "2023-02-04T06:43:47.737Z"
   },
   {
    "duration": 3,
    "start_time": "2023-02-04T06:44:00.337Z"
   },
   {
    "duration": 1387,
    "start_time": "2023-02-04T06:44:29.147Z"
   },
   {
    "duration": 2,
    "start_time": "2023-02-04T06:44:30.536Z"
   },
   {
    "duration": 840,
    "start_time": "2023-02-04T06:44:30.540Z"
   },
   {
    "duration": 22,
    "start_time": "2023-02-04T06:44:31.382Z"
   },
   {
    "duration": 109,
    "start_time": "2023-02-04T06:44:31.405Z"
   },
   {
    "duration": 48,
    "start_time": "2023-02-04T06:44:31.516Z"
   },
   {
    "duration": 118,
    "start_time": "2023-02-04T06:44:31.566Z"
   },
   {
    "duration": 96,
    "start_time": "2023-02-04T06:44:31.685Z"
   },
   {
    "duration": 167,
    "start_time": "2023-02-04T06:44:31.783Z"
   },
   {
    "duration": 41,
    "start_time": "2023-02-04T06:44:31.953Z"
   },
   {
    "duration": 48,
    "start_time": "2023-02-04T06:44:32.003Z"
   },
   {
    "duration": 52,
    "start_time": "2023-02-04T06:44:32.053Z"
   },
   {
    "duration": 42,
    "start_time": "2023-02-04T06:44:32.107Z"
   },
   {
    "duration": 72,
    "start_time": "2023-02-04T06:44:32.151Z"
   },
   {
    "duration": 48,
    "start_time": "2023-02-04T06:44:32.225Z"
   },
   {
    "duration": 4260,
    "start_time": "2023-02-04T06:44:32.274Z"
   },
   {
    "duration": 78,
    "start_time": "2023-02-04T06:44:36.535Z"
   },
   {
    "duration": 53,
    "start_time": "2023-02-04T06:44:36.614Z"
   },
   {
    "duration": 99,
    "start_time": "2023-02-04T06:44:36.668Z"
   },
   {
    "duration": 878,
    "start_time": "2023-02-04T06:44:36.768Z"
   },
   {
    "duration": 38,
    "start_time": "2023-02-04T06:44:37.648Z"
   },
   {
    "duration": 271,
    "start_time": "2023-02-04T06:44:37.688Z"
   },
   {
    "duration": 3,
    "start_time": "2023-02-04T06:44:37.961Z"
   },
   {
    "duration": 182,
    "start_time": "2023-02-04T06:44:37.965Z"
   },
   {
    "duration": 185,
    "start_time": "2023-02-04T06:44:38.149Z"
   },
   {
    "duration": 84,
    "start_time": "2023-02-04T06:44:38.336Z"
   },
   {
    "duration": 15,
    "start_time": "2023-02-04T06:44:38.421Z"
   },
   {
    "duration": 115,
    "start_time": "2023-02-04T06:44:38.439Z"
   },
   {
    "duration": 5,
    "start_time": "2023-02-04T06:44:38.556Z"
   },
   {
    "duration": 5,
    "start_time": "2023-02-04T06:44:38.562Z"
   },
   {
    "duration": 112,
    "start_time": "2023-02-04T06:44:38.568Z"
   },
   {
    "duration": 51,
    "start_time": "2023-02-04T06:44:38.681Z"
   },
   {
    "duration": 11,
    "start_time": "2023-02-04T06:44:38.734Z"
   },
   {
    "duration": 112,
    "start_time": "2023-02-04T06:44:38.747Z"
   },
   {
    "duration": 32,
    "start_time": "2023-02-04T06:44:43.354Z"
   },
   {
    "duration": 2837,
    "start_time": "2023-02-04T06:44:50.133Z"
   },
   {
    "duration": 111,
    "start_time": "2023-02-04T06:44:56.811Z"
   },
   {
    "duration": 14,
    "start_time": "2023-02-04T06:45:35.114Z"
   },
   {
    "duration": 4,
    "start_time": "2023-02-04T06:45:49.036Z"
   },
   {
    "duration": 15,
    "start_time": "2023-02-04T06:46:34.243Z"
   },
   {
    "duration": 14,
    "start_time": "2023-02-04T06:48:21.388Z"
   },
   {
    "duration": 2409,
    "start_time": "2023-02-04T06:48:32.722Z"
   },
   {
    "duration": 4,
    "start_time": "2023-02-04T06:48:36.073Z"
   },
   {
    "duration": 64,
    "start_time": "2023-02-04T06:49:20.454Z"
   },
   {
    "duration": 18,
    "start_time": "2023-02-04T06:49:34.886Z"
   },
   {
    "duration": 8,
    "start_time": "2023-02-04T06:50:15.993Z"
   },
   {
    "duration": 4,
    "start_time": "2023-02-04T06:50:20.233Z"
   },
   {
    "duration": 7,
    "start_time": "2023-02-04T06:50:51.579Z"
   },
   {
    "duration": 4,
    "start_time": "2023-02-04T06:50:55.204Z"
   },
   {
    "duration": 74,
    "start_time": "2023-02-04T06:51:26.623Z"
   },
   {
    "duration": 35,
    "start_time": "2023-02-04T06:53:40.663Z"
   },
   {
    "duration": 4,
    "start_time": "2023-02-04T06:54:42.694Z"
   },
   {
    "duration": 72741,
    "start_time": "2023-02-04T06:54:43.971Z"
   },
   {
    "duration": 1365,
    "start_time": "2023-02-04T06:56:45.953Z"
   },
   {
    "duration": 2,
    "start_time": "2023-02-04T06:56:47.320Z"
   },
   {
    "duration": 783,
    "start_time": "2023-02-04T06:56:47.324Z"
   },
   {
    "duration": 19,
    "start_time": "2023-02-04T06:56:48.109Z"
   },
   {
    "duration": 138,
    "start_time": "2023-02-04T06:56:48.131Z"
   },
   {
    "duration": 59,
    "start_time": "2023-02-04T06:56:48.270Z"
   },
   {
    "duration": 117,
    "start_time": "2023-02-04T06:56:48.330Z"
   },
   {
    "duration": 98,
    "start_time": "2023-02-04T06:56:48.448Z"
   },
   {
    "duration": 169,
    "start_time": "2023-02-04T06:56:48.548Z"
   },
   {
    "duration": 43,
    "start_time": "2023-02-04T06:56:48.718Z"
   },
   {
    "duration": 59,
    "start_time": "2023-02-04T06:56:48.763Z"
   },
   {
    "duration": 44,
    "start_time": "2023-02-04T06:56:48.823Z"
   },
   {
    "duration": 54,
    "start_time": "2023-02-04T06:56:48.868Z"
   },
   {
    "duration": 56,
    "start_time": "2023-02-04T06:56:48.925Z"
   },
   {
    "duration": 64,
    "start_time": "2023-02-04T06:56:48.982Z"
   },
   {
    "duration": 4273,
    "start_time": "2023-02-04T06:56:49.047Z"
   },
   {
    "duration": 69,
    "start_time": "2023-02-04T06:56:53.322Z"
   },
   {
    "duration": 58,
    "start_time": "2023-02-04T06:56:53.393Z"
   },
   {
    "duration": 95,
    "start_time": "2023-02-04T06:56:53.453Z"
   },
   {
    "duration": 902,
    "start_time": "2023-02-04T06:56:53.549Z"
   },
   {
    "duration": 50,
    "start_time": "2023-02-04T06:56:54.453Z"
   },
   {
    "duration": 266,
    "start_time": "2023-02-04T06:56:54.505Z"
   },
   {
    "duration": 3,
    "start_time": "2023-02-04T06:56:54.773Z"
   },
   {
    "duration": 172,
    "start_time": "2023-02-04T06:56:54.778Z"
   },
   {
    "duration": 186,
    "start_time": "2023-02-04T06:56:54.952Z"
   },
   {
    "duration": 81,
    "start_time": "2023-02-04T06:56:55.139Z"
   },
   {
    "duration": 17,
    "start_time": "2023-02-04T06:56:55.222Z"
   },
   {
    "duration": 132,
    "start_time": "2023-02-04T06:56:55.241Z"
   },
   {
    "duration": 4,
    "start_time": "2023-02-04T06:56:55.374Z"
   },
   {
    "duration": 10,
    "start_time": "2023-02-04T06:56:55.380Z"
   },
   {
    "duration": 106,
    "start_time": "2023-02-04T06:56:55.391Z"
   },
   {
    "duration": 47,
    "start_time": "2023-02-04T06:56:55.500Z"
   },
   {
    "duration": 11,
    "start_time": "2023-02-04T06:56:55.549Z"
   },
   {
    "duration": 119,
    "start_time": "2023-02-04T06:56:55.561Z"
   },
   {
    "duration": 30,
    "start_time": "2023-02-04T06:56:58.484Z"
   },
   {
    "duration": 2620,
    "start_time": "2023-02-04T06:57:27.531Z"
   },
   {
    "duration": 35,
    "start_time": "2023-02-04T06:57:35.785Z"
   },
   {
    "duration": 4,
    "start_time": "2023-02-04T07:02:49.655Z"
   },
   {
    "duration": 76135,
    "start_time": "2023-02-04T07:02:52.473Z"
   },
   {
    "duration": 4,
    "start_time": "2023-02-04T07:04:28.997Z"
   },
   {
    "duration": 4,
    "start_time": "2023-02-04T07:04:37.921Z"
   },
   {
    "duration": 4,
    "start_time": "2023-02-04T07:05:15.674Z"
   },
   {
    "duration": 4,
    "start_time": "2023-02-04T07:05:22.858Z"
   },
   {
    "duration": 3,
    "start_time": "2023-02-04T07:07:33.715Z"
   },
   {
    "duration": 28943,
    "start_time": "2023-02-04T07:07:39.465Z"
   },
   {
    "duration": 4,
    "start_time": "2023-02-04T07:08:45.274Z"
   },
   {
    "duration": 4,
    "start_time": "2023-02-04T07:09:00.143Z"
   },
   {
    "duration": 5,
    "start_time": "2023-02-04T07:09:43.385Z"
   },
   {
    "duration": 4,
    "start_time": "2023-02-04T07:12:17.368Z"
   },
   {
    "duration": 191,
    "start_time": "2023-02-04T07:14:11.162Z"
   },
   {
    "duration": 95,
    "start_time": "2023-02-04T07:17:55.313Z"
   },
   {
    "duration": 4,
    "start_time": "2023-02-04T07:19:26.142Z"
   },
   {
    "duration": 6,
    "start_time": "2023-02-04T07:19:37.062Z"
   },
   {
    "duration": 5,
    "start_time": "2023-02-04T07:19:48.531Z"
   },
   {
    "duration": 5,
    "start_time": "2023-02-04T07:19:58.535Z"
   },
   {
    "duration": 92,
    "start_time": "2023-02-04T07:24:54.520Z"
   },
   {
    "duration": 101002,
    "start_time": "2023-02-04T07:27:53.203Z"
   },
   {
    "duration": 196,
    "start_time": "2023-02-04T07:30:18.108Z"
   },
   {
    "duration": 4,
    "start_time": "2023-02-04T07:30:21.733Z"
   },
   {
    "duration": 131,
    "start_time": "2023-02-04T07:30:31.878Z"
   },
   {
    "duration": 3,
    "start_time": "2023-02-04T07:34:18.646Z"
   },
   {
    "duration": 105555,
    "start_time": "2023-02-04T07:34:24.356Z"
   },
   {
    "duration": 4,
    "start_time": "2023-02-04T07:37:02.160Z"
   },
   {
    "duration": 4,
    "start_time": "2023-02-04T07:37:24.706Z"
   },
   {
    "duration": 5,
    "start_time": "2023-02-04T07:37:54.682Z"
   },
   {
    "duration": 4,
    "start_time": "2023-02-04T07:38:08.779Z"
   },
   {
    "duration": 4,
    "start_time": "2023-02-04T07:38:23.739Z"
   },
   {
    "duration": 5,
    "start_time": "2023-02-04T07:38:43.708Z"
   },
   {
    "duration": 4,
    "start_time": "2023-02-04T07:38:52.715Z"
   },
   {
    "duration": 4,
    "start_time": "2023-02-04T07:39:13.303Z"
   },
   {
    "duration": 1503,
    "start_time": "2023-02-04T08:00:07.573Z"
   },
   {
    "duration": 3,
    "start_time": "2023-02-04T08:00:09.078Z"
   },
   {
    "duration": 853,
    "start_time": "2023-02-04T08:00:09.082Z"
   },
   {
    "duration": 18,
    "start_time": "2023-02-04T08:00:09.937Z"
   },
   {
    "duration": 124,
    "start_time": "2023-02-04T08:00:09.957Z"
   },
   {
    "duration": 65,
    "start_time": "2023-02-04T08:00:10.082Z"
   },
   {
    "duration": 118,
    "start_time": "2023-02-04T08:00:10.149Z"
   },
   {
    "duration": 116,
    "start_time": "2023-02-04T08:00:10.269Z"
   },
   {
    "duration": 174,
    "start_time": "2023-02-04T08:00:10.387Z"
   },
   {
    "duration": 53,
    "start_time": "2023-02-04T08:00:10.563Z"
   },
   {
    "duration": 50,
    "start_time": "2023-02-04T08:00:10.617Z"
   },
   {
    "duration": 61,
    "start_time": "2023-02-04T08:00:10.669Z"
   },
   {
    "duration": 44,
    "start_time": "2023-02-04T08:00:10.732Z"
   },
   {
    "duration": 69,
    "start_time": "2023-02-04T08:00:10.779Z"
   },
   {
    "duration": 60,
    "start_time": "2023-02-04T08:00:10.850Z"
   },
   {
    "duration": 4675,
    "start_time": "2023-02-04T08:00:10.912Z"
   },
   {
    "duration": 73,
    "start_time": "2023-02-04T08:00:15.588Z"
   },
   {
    "duration": 65,
    "start_time": "2023-02-04T08:00:15.663Z"
   },
   {
    "duration": 89,
    "start_time": "2023-02-04T08:00:15.729Z"
   },
   {
    "duration": 886,
    "start_time": "2023-02-04T08:00:15.820Z"
   },
   {
    "duration": 40,
    "start_time": "2023-02-04T08:00:16.707Z"
   },
   {
    "duration": 286,
    "start_time": "2023-02-04T08:00:16.749Z"
   },
   {
    "duration": 3,
    "start_time": "2023-02-04T08:00:17.036Z"
   },
   {
    "duration": 189,
    "start_time": "2023-02-04T08:00:17.041Z"
   },
   {
    "duration": 201,
    "start_time": "2023-02-04T08:00:17.232Z"
   },
   {
    "duration": 86,
    "start_time": "2023-02-04T08:00:17.435Z"
   },
   {
    "duration": 13,
    "start_time": "2023-02-04T08:00:17.523Z"
   },
   {
    "duration": 120,
    "start_time": "2023-02-04T08:00:17.539Z"
   },
   {
    "duration": 4,
    "start_time": "2023-02-04T08:00:17.661Z"
   },
   {
    "duration": 4,
    "start_time": "2023-02-04T08:00:17.667Z"
   },
   {
    "duration": 119,
    "start_time": "2023-02-04T08:00:17.673Z"
   },
   {
    "duration": 53,
    "start_time": "2023-02-04T08:00:17.794Z"
   },
   {
    "duration": 11,
    "start_time": "2023-02-04T08:00:17.848Z"
   },
   {
    "duration": 124,
    "start_time": "2023-02-04T08:00:17.861Z"
   },
   {
    "duration": 32,
    "start_time": "2023-02-04T08:00:17.987Z"
   },
   {
    "duration": 3,
    "start_time": "2023-02-04T08:00:18.021Z"
   },
   {
    "duration": 34441,
    "start_time": "2023-02-04T08:00:18.025Z"
   },
   {
    "duration": 4,
    "start_time": "2023-02-04T08:00:52.468Z"
   },
   {
    "duration": 1440,
    "start_time": "2023-02-04T08:01:08.192Z"
   },
   {
    "duration": 5,
    "start_time": "2023-02-04T08:01:09.634Z"
   },
   {
    "duration": 782,
    "start_time": "2023-02-04T08:01:09.640Z"
   },
   {
    "duration": 19,
    "start_time": "2023-02-04T08:01:10.424Z"
   },
   {
    "duration": 122,
    "start_time": "2023-02-04T08:01:10.445Z"
   },
   {
    "duration": 58,
    "start_time": "2023-02-04T08:01:10.569Z"
   },
   {
    "duration": 118,
    "start_time": "2023-02-04T08:01:10.629Z"
   },
   {
    "duration": 110,
    "start_time": "2023-02-04T08:01:10.749Z"
   },
   {
    "duration": 172,
    "start_time": "2023-02-04T08:01:10.861Z"
   },
   {
    "duration": 43,
    "start_time": "2023-02-04T08:01:11.035Z"
   },
   {
    "duration": 59,
    "start_time": "2023-02-04T08:01:11.080Z"
   },
   {
    "duration": 42,
    "start_time": "2023-02-04T08:01:11.141Z"
   },
   {
    "duration": 74,
    "start_time": "2023-02-04T08:01:11.185Z"
   },
   {
    "duration": 67,
    "start_time": "2023-02-04T08:01:11.263Z"
   },
   {
    "duration": 46,
    "start_time": "2023-02-04T08:01:11.332Z"
   },
   {
    "duration": 4625,
    "start_time": "2023-02-04T08:01:11.379Z"
   },
   {
    "duration": 72,
    "start_time": "2023-02-04T08:01:16.006Z"
   },
   {
    "duration": 65,
    "start_time": "2023-02-04T08:01:16.080Z"
   },
   {
    "duration": 90,
    "start_time": "2023-02-04T08:01:16.146Z"
   },
   {
    "duration": 878,
    "start_time": "2023-02-04T08:01:16.237Z"
   },
   {
    "duration": 39,
    "start_time": "2023-02-04T08:01:17.117Z"
   },
   {
    "duration": 298,
    "start_time": "2023-02-04T08:01:17.158Z"
   },
   {
    "duration": 3,
    "start_time": "2023-02-04T08:01:17.459Z"
   },
   {
    "duration": 194,
    "start_time": "2023-02-04T08:01:17.464Z"
   },
   {
    "duration": 188,
    "start_time": "2023-02-04T08:01:17.660Z"
   },
   {
    "duration": 84,
    "start_time": "2023-02-04T08:01:17.850Z"
   },
   {
    "duration": 14,
    "start_time": "2023-02-04T08:01:17.935Z"
   },
   {
    "duration": 118,
    "start_time": "2023-02-04T08:01:17.951Z"
   },
   {
    "duration": 4,
    "start_time": "2023-02-04T08:01:18.071Z"
   },
   {
    "duration": 7,
    "start_time": "2023-02-04T08:01:18.076Z"
   },
   {
    "duration": 105,
    "start_time": "2023-02-04T08:01:18.084Z"
   },
   {
    "duration": 50,
    "start_time": "2023-02-04T08:01:18.191Z"
   },
   {
    "duration": 11,
    "start_time": "2023-02-04T08:01:18.243Z"
   },
   {
    "duration": 133,
    "start_time": "2023-02-04T08:01:18.255Z"
   },
   {
    "duration": 29,
    "start_time": "2023-02-04T08:01:22.343Z"
   },
   {
    "duration": 2724,
    "start_time": "2023-02-04T08:01:27.479Z"
   },
   {
    "duration": 37,
    "start_time": "2023-02-04T08:01:32.788Z"
   },
   {
    "duration": 3,
    "start_time": "2023-02-04T08:01:37.312Z"
   },
   {
    "duration": 130904,
    "start_time": "2023-02-04T08:01:50.905Z"
   },
   {
    "duration": 4,
    "start_time": "2023-02-04T08:08:07.509Z"
   },
   {
    "duration": 240,
    "start_time": "2023-02-04T08:08:21.772Z"
   },
   {
    "duration": 119,
    "start_time": "2023-02-04T08:08:26.388Z"
   },
   {
    "duration": 141,
    "start_time": "2023-02-04T08:08:35.564Z"
   },
   {
    "duration": 4,
    "start_time": "2023-02-04T08:09:18.556Z"
   },
   {
    "duration": 3,
    "start_time": "2023-02-04T08:15:39.143Z"
   },
   {
    "duration": 26312,
    "start_time": "2023-02-04T08:15:43.393Z"
   },
   {
    "duration": 4,
    "start_time": "2023-02-04T08:21:06.084Z"
   },
   {
    "duration": 958051,
    "start_time": "2023-02-04T08:21:08.395Z"
   },
   {
    "duration": 4,
    "start_time": "2023-02-04T08:38:04.678Z"
   },
   {
    "duration": 4,
    "start_time": "2023-02-04T08:38:28.686Z"
   },
   {
    "duration": 5,
    "start_time": "2023-02-04T08:38:40.159Z"
   },
   {
    "duration": 4,
    "start_time": "2023-02-04T08:38:52.859Z"
   },
   {
    "duration": 311206,
    "start_time": "2023-02-04T08:39:17.903Z"
   },
   {
    "duration": 9,
    "start_time": "2023-02-04T08:47:03.597Z"
   },
   {
    "duration": 5,
    "start_time": "2023-02-04T08:47:14.448Z"
   },
   {
    "duration": 4,
    "start_time": "2023-02-04T08:48:24.929Z"
   },
   {
    "duration": 1455,
    "start_time": "2023-02-04T08:49:40.503Z"
   },
   {
    "duration": 3,
    "start_time": "2023-02-04T08:49:41.960Z"
   },
   {
    "duration": 814,
    "start_time": "2023-02-04T08:49:41.965Z"
   },
   {
    "duration": 25,
    "start_time": "2023-02-04T08:49:42.781Z"
   },
   {
    "duration": 118,
    "start_time": "2023-02-04T08:49:42.809Z"
   },
   {
    "duration": 52,
    "start_time": "2023-02-04T08:49:42.929Z"
   },
   {
    "duration": 131,
    "start_time": "2023-02-04T08:49:42.983Z"
   },
   {
    "duration": 105,
    "start_time": "2023-02-04T08:49:43.116Z"
   },
   {
    "duration": 183,
    "start_time": "2023-02-04T08:49:43.223Z"
   },
   {
    "duration": 47,
    "start_time": "2023-02-04T08:49:43.408Z"
   },
   {
    "duration": 69,
    "start_time": "2023-02-04T08:49:43.457Z"
   },
   {
    "duration": 52,
    "start_time": "2023-02-04T08:49:43.528Z"
   },
   {
    "duration": 61,
    "start_time": "2023-02-04T08:49:43.582Z"
   },
   {
    "duration": 70,
    "start_time": "2023-02-04T08:49:43.646Z"
   },
   {
    "duration": 48,
    "start_time": "2023-02-04T08:49:43.717Z"
   },
   {
    "duration": 4798,
    "start_time": "2023-02-04T08:49:43.767Z"
   },
   {
    "duration": 71,
    "start_time": "2023-02-04T08:49:48.567Z"
   },
   {
    "duration": 65,
    "start_time": "2023-02-04T08:49:48.639Z"
   },
   {
    "duration": 99,
    "start_time": "2023-02-04T08:49:48.706Z"
   },
   {
    "duration": 922,
    "start_time": "2023-02-04T08:49:48.806Z"
   },
   {
    "duration": 40,
    "start_time": "2023-02-04T08:49:49.729Z"
   },
   {
    "duration": 295,
    "start_time": "2023-02-04T08:49:49.771Z"
   },
   {
    "duration": 2,
    "start_time": "2023-02-04T08:49:50.068Z"
   },
   {
    "duration": 211,
    "start_time": "2023-02-04T08:49:50.072Z"
   },
   {
    "duration": 188,
    "start_time": "2023-02-04T08:49:50.285Z"
   },
   {
    "duration": 83,
    "start_time": "2023-02-04T08:49:50.475Z"
   },
   {
    "duration": 15,
    "start_time": "2023-02-04T08:49:50.560Z"
   },
   {
    "duration": 122,
    "start_time": "2023-02-04T08:49:50.576Z"
   },
   {
    "duration": 4,
    "start_time": "2023-02-04T08:49:50.700Z"
   },
   {
    "duration": 5,
    "start_time": "2023-02-04T08:49:50.705Z"
   },
   {
    "duration": 128,
    "start_time": "2023-02-04T08:49:50.711Z"
   },
   {
    "duration": 50,
    "start_time": "2023-02-04T08:49:50.841Z"
   },
   {
    "duration": 14,
    "start_time": "2023-02-04T08:49:50.893Z"
   },
   {
    "duration": 115,
    "start_time": "2023-02-04T08:49:50.909Z"
   },
   {
    "duration": 29,
    "start_time": "2023-02-04T08:49:51.026Z"
   },
   {
    "duration": 4,
    "start_time": "2023-02-04T08:49:51.057Z"
   },
   {
    "duration": 967791,
    "start_time": "2023-02-04T08:49:51.062Z"
   },
   {
    "duration": 4,
    "start_time": "2023-02-04T09:05:58.855Z"
   },
   {
    "duration": 1241276,
    "start_time": "2023-02-04T09:05:58.861Z"
   },
   {
    "duration": 1437,
    "start_time": "2023-02-04T09:26:49.430Z"
   },
   {
    "duration": 3,
    "start_time": "2023-02-04T09:26:50.869Z"
   },
   {
    "duration": 830,
    "start_time": "2023-02-04T09:26:50.874Z"
   },
   {
    "duration": 17,
    "start_time": "2023-02-04T09:26:51.707Z"
   },
   {
    "duration": 136,
    "start_time": "2023-02-04T09:26:51.726Z"
   },
   {
    "duration": 65,
    "start_time": "2023-02-04T09:26:51.864Z"
   },
   {
    "duration": 129,
    "start_time": "2023-02-04T09:26:51.931Z"
   },
   {
    "duration": 120,
    "start_time": "2023-02-04T09:26:52.061Z"
   },
   {
    "duration": 201,
    "start_time": "2023-02-04T09:26:52.183Z"
   },
   {
    "duration": 83,
    "start_time": "2023-02-04T09:26:52.388Z"
   },
   {
    "duration": 51,
    "start_time": "2023-02-04T09:26:52.473Z"
   },
   {
    "duration": 45,
    "start_time": "2023-02-04T09:26:52.526Z"
   },
   {
    "duration": 62,
    "start_time": "2023-02-04T09:26:52.573Z"
   },
   {
    "duration": 74,
    "start_time": "2023-02-04T09:26:52.637Z"
   },
   {
    "duration": 54,
    "start_time": "2023-02-04T09:26:52.713Z"
   },
   {
    "duration": 4840,
    "start_time": "2023-02-04T09:26:52.768Z"
   },
   {
    "duration": 97,
    "start_time": "2023-02-04T09:26:57.610Z"
   },
   {
    "duration": 67,
    "start_time": "2023-02-04T09:26:57.709Z"
   },
   {
    "duration": 99,
    "start_time": "2023-02-04T09:26:57.777Z"
   },
   {
    "duration": 926,
    "start_time": "2023-02-04T09:26:57.878Z"
   },
   {
    "duration": 40,
    "start_time": "2023-02-04T09:26:58.806Z"
   },
   {
    "duration": 312,
    "start_time": "2023-02-04T09:26:58.848Z"
   },
   {
    "duration": 3,
    "start_time": "2023-02-04T09:26:59.162Z"
   },
   {
    "duration": 222,
    "start_time": "2023-02-04T09:26:59.167Z"
   },
   {
    "duration": 207,
    "start_time": "2023-02-04T09:26:59.390Z"
   },
   {
    "duration": 92,
    "start_time": "2023-02-04T09:26:59.599Z"
   },
   {
    "duration": 14,
    "start_time": "2023-02-04T09:26:59.704Z"
   },
   {
    "duration": 120,
    "start_time": "2023-02-04T09:26:59.722Z"
   },
   {
    "duration": 4,
    "start_time": "2023-02-04T09:26:59.844Z"
   },
   {
    "duration": 8,
    "start_time": "2023-02-04T09:26:59.849Z"
   },
   {
    "duration": 119,
    "start_time": "2023-02-04T09:26:59.858Z"
   },
   {
    "duration": 53,
    "start_time": "2023-02-04T09:26:59.979Z"
   },
   {
    "duration": 12,
    "start_time": "2023-02-04T09:27:00.034Z"
   },
   {
    "duration": 130,
    "start_time": "2023-02-04T09:27:00.048Z"
   },
   {
    "duration": 34,
    "start_time": "2023-02-04T09:27:00.180Z"
   },
   {
    "duration": 4,
    "start_time": "2023-02-04T09:27:00.216Z"
   },
   {
    "duration": 1436,
    "start_time": "2023-02-04T09:48:51.032Z"
   },
   {
    "duration": 3,
    "start_time": "2023-02-04T09:48:52.470Z"
   },
   {
    "duration": 872,
    "start_time": "2023-02-04T09:48:52.474Z"
   },
   {
    "duration": 17,
    "start_time": "2023-02-04T09:48:53.348Z"
   },
   {
    "duration": 149,
    "start_time": "2023-02-04T09:48:53.368Z"
   },
   {
    "duration": 100,
    "start_time": "2023-02-04T09:48:53.519Z"
   },
   {
    "duration": 130,
    "start_time": "2023-02-04T09:48:53.621Z"
   },
   {
    "duration": 131,
    "start_time": "2023-02-04T09:48:53.753Z"
   },
   {
    "duration": 180,
    "start_time": "2023-02-04T09:48:53.886Z"
   },
   {
    "duration": 66,
    "start_time": "2023-02-04T09:48:54.067Z"
   },
   {
    "duration": 58,
    "start_time": "2023-02-04T09:48:54.136Z"
   },
   {
    "duration": 54,
    "start_time": "2023-02-04T09:48:54.205Z"
   },
   {
    "duration": 75,
    "start_time": "2023-02-04T09:48:54.261Z"
   },
   {
    "duration": 69,
    "start_time": "2023-02-04T09:48:54.341Z"
   },
   {
    "duration": 48,
    "start_time": "2023-02-04T09:48:54.411Z"
   },
   {
    "duration": 4774,
    "start_time": "2023-02-04T09:48:54.461Z"
   },
   {
    "duration": 83,
    "start_time": "2023-02-04T09:48:59.236Z"
   },
   {
    "duration": 56,
    "start_time": "2023-02-04T09:48:59.320Z"
   },
   {
    "duration": 103,
    "start_time": "2023-02-04T09:48:59.378Z"
   },
   {
    "duration": 971,
    "start_time": "2023-02-04T09:48:59.483Z"
   },
   {
    "duration": 52,
    "start_time": "2023-02-04T09:49:00.456Z"
   },
   {
    "duration": 280,
    "start_time": "2023-02-04T09:49:00.510Z"
   },
   {
    "duration": 11,
    "start_time": "2023-02-04T09:49:00.792Z"
   },
   {
    "duration": 203,
    "start_time": "2023-02-04T09:49:00.805Z"
   },
   {
    "duration": 206,
    "start_time": "2023-02-04T09:49:01.010Z"
   },
   {
    "duration": 91,
    "start_time": "2023-02-04T09:49:01.218Z"
   },
   {
    "duration": 14,
    "start_time": "2023-02-04T09:49:01.311Z"
   },
   {
    "duration": 121,
    "start_time": "2023-02-04T09:49:01.327Z"
   },
   {
    "duration": 4,
    "start_time": "2023-02-04T09:49:01.450Z"
   },
   {
    "duration": 15,
    "start_time": "2023-02-04T09:49:01.456Z"
   },
   {
    "duration": 110,
    "start_time": "2023-02-04T09:49:01.473Z"
   },
   {
    "duration": 60,
    "start_time": "2023-02-04T09:49:01.585Z"
   },
   {
    "duration": 12,
    "start_time": "2023-02-04T09:49:01.647Z"
   },
   {
    "duration": 127,
    "start_time": "2023-02-04T09:49:01.661Z"
   },
   {
    "duration": 31,
    "start_time": "2023-02-04T09:49:01.789Z"
   },
   {
    "duration": 4,
    "start_time": "2023-02-04T09:49:01.822Z"
   },
   {
    "duration": 1010568,
    "start_time": "2023-02-04T09:50:02.879Z"
   },
   {
    "duration": 4,
    "start_time": "2023-02-04T10:08:30.869Z"
   },
   {
    "duration": 626833,
    "start_time": "2023-02-04T10:08:32.863Z"
   },
   {
    "duration": 12,
    "start_time": "2023-02-04T10:19:14.846Z"
   },
   {
    "duration": 2464,
    "start_time": "2023-02-04T10:19:18.536Z"
   },
   {
    "duration": 44,
    "start_time": "2023-02-04T10:19:24.068Z"
   },
   {
    "duration": 4,
    "start_time": "2023-02-04T10:19:28.062Z"
   },
   {
    "duration": 157571,
    "start_time": "2023-02-04T10:19:30.745Z"
   },
   {
    "duration": 484884,
    "start_time": "2023-02-04T10:28:33.129Z"
   },
   {
    "duration": 24,
    "start_time": "2023-02-04T10:39:48.465Z"
   },
   {
    "duration": 4,
    "start_time": "2023-02-04T10:40:10.093Z"
   },
   {
    "duration": 4,
    "start_time": "2023-02-04T10:40:19.555Z"
   },
   {
    "duration": 4,
    "start_time": "2023-02-04T10:40:32.461Z"
   },
   {
    "duration": 4,
    "start_time": "2023-02-04T10:41:23.360Z"
   },
   {
    "duration": 2007345,
    "start_time": "2023-02-04T10:41:26.316Z"
   },
   {
    "duration": 3961,
    "start_time": "2023-02-04T11:15:07.781Z"
   },
   {
    "duration": 1392,
    "start_time": "2023-02-04T16:39:21.822Z"
   },
   {
    "duration": 2,
    "start_time": "2023-02-04T16:39:23.216Z"
   },
   {
    "duration": 2934,
    "start_time": "2023-02-04T16:39:23.219Z"
   },
   {
    "duration": 16,
    "start_time": "2023-02-04T16:39:26.155Z"
   },
   {
    "duration": 143,
    "start_time": "2023-02-04T16:39:26.175Z"
   },
   {
    "duration": 71,
    "start_time": "2023-02-04T16:39:26.320Z"
   },
   {
    "duration": 159,
    "start_time": "2023-02-04T16:39:26.393Z"
   },
   {
    "duration": 96,
    "start_time": "2023-02-04T16:39:26.554Z"
   },
   {
    "duration": 169,
    "start_time": "2023-02-04T16:39:26.651Z"
   },
   {
    "duration": 45,
    "start_time": "2023-02-04T16:39:26.821Z"
   },
   {
    "duration": 57,
    "start_time": "2023-02-04T16:39:26.867Z"
   },
   {
    "duration": 43,
    "start_time": "2023-02-04T16:39:26.925Z"
   },
   {
    "duration": 66,
    "start_time": "2023-02-04T16:39:26.970Z"
   },
   {
    "duration": 80,
    "start_time": "2023-02-04T16:39:27.039Z"
   },
   {
    "duration": 56,
    "start_time": "2023-02-04T16:39:27.121Z"
   },
   {
    "duration": 3857,
    "start_time": "2023-02-04T16:39:27.188Z"
   },
   {
    "duration": 69,
    "start_time": "2023-02-04T16:39:31.047Z"
   },
   {
    "duration": 69,
    "start_time": "2023-02-04T16:39:31.117Z"
   },
   {
    "duration": 98,
    "start_time": "2023-02-04T16:39:31.187Z"
   },
   {
    "duration": 821,
    "start_time": "2023-02-04T16:39:31.290Z"
   },
   {
    "duration": 42,
    "start_time": "2023-02-04T16:39:32.113Z"
   },
   {
    "duration": 245,
    "start_time": "2023-02-04T16:39:32.157Z"
   },
   {
    "duration": 3,
    "start_time": "2023-02-04T16:39:32.403Z"
   },
   {
    "duration": 170,
    "start_time": "2023-02-04T16:39:32.407Z"
   },
   {
    "duration": 180,
    "start_time": "2023-02-04T16:39:32.579Z"
   },
   {
    "duration": 91,
    "start_time": "2023-02-04T16:39:32.760Z"
   },
   {
    "duration": 14,
    "start_time": "2023-02-04T16:39:32.852Z"
   },
   {
    "duration": 131,
    "start_time": "2023-02-04T16:39:32.867Z"
   },
   {
    "duration": 4,
    "start_time": "2023-02-04T16:39:33.000Z"
   },
   {
    "duration": 5,
    "start_time": "2023-02-04T16:39:33.006Z"
   },
   {
    "duration": 105,
    "start_time": "2023-02-04T16:39:33.012Z"
   },
   {
    "duration": 41,
    "start_time": "2023-02-04T16:39:33.119Z"
   },
   {
    "duration": 10,
    "start_time": "2023-02-04T16:39:33.162Z"
   },
   {
    "duration": 100,
    "start_time": "2023-02-04T16:39:33.191Z"
   },
   {
    "duration": 23,
    "start_time": "2023-02-04T16:39:33.293Z"
   },
   {
    "duration": 3,
    "start_time": "2023-02-04T16:39:33.317Z"
   },
   {
    "duration": 382960,
    "start_time": "2023-02-04T16:39:33.322Z"
   },
   {
    "duration": 4,
    "start_time": "2023-02-04T16:45:56.288Z"
   },
   {
    "duration": 3714,
    "start_time": "2023-02-04T16:45:56.294Z"
   },
   {
    "duration": 1833,
    "start_time": "2023-02-05T00:28:36.533Z"
   },
   {
    "duration": 3,
    "start_time": "2023-02-05T00:28:38.368Z"
   },
   {
    "duration": 3228,
    "start_time": "2023-02-05T00:28:38.372Z"
   },
   {
    "duration": 18,
    "start_time": "2023-02-05T00:28:41.602Z"
   },
   {
    "duration": 147,
    "start_time": "2023-02-05T00:28:41.622Z"
   },
   {
    "duration": 70,
    "start_time": "2023-02-05T00:28:41.771Z"
   },
   {
    "duration": 150,
    "start_time": "2023-02-05T00:28:41.842Z"
   },
   {
    "duration": 107,
    "start_time": "2023-02-05T00:28:41.994Z"
   },
   {
    "duration": 210,
    "start_time": "2023-02-05T00:28:42.102Z"
   },
   {
    "duration": 84,
    "start_time": "2023-02-05T00:28:42.316Z"
   },
   {
    "duration": 104,
    "start_time": "2023-02-05T00:28:42.404Z"
   },
   {
    "duration": 99,
    "start_time": "2023-02-05T00:28:42.511Z"
   },
   {
    "duration": 91,
    "start_time": "2023-02-05T00:28:42.612Z"
   },
   {
    "duration": 84,
    "start_time": "2023-02-05T00:28:42.705Z"
   },
   {
    "duration": 66,
    "start_time": "2023-02-05T00:28:42.791Z"
   },
   {
    "duration": 5239,
    "start_time": "2023-02-05T00:28:42.862Z"
   },
   {
    "duration": 93,
    "start_time": "2023-02-05T00:28:48.102Z"
   },
   {
    "duration": 76,
    "start_time": "2023-02-05T00:28:48.196Z"
   },
   {
    "duration": 119,
    "start_time": "2023-02-05T00:28:48.274Z"
   },
   {
    "duration": 997,
    "start_time": "2023-02-05T00:28:48.395Z"
   },
   {
    "duration": 63,
    "start_time": "2023-02-05T00:28:49.395Z"
   },
   {
    "duration": 325,
    "start_time": "2023-02-05T00:28:49.461Z"
   },
   {
    "duration": 5,
    "start_time": "2023-02-05T00:28:49.788Z"
   },
   {
    "duration": 227,
    "start_time": "2023-02-05T00:28:49.794Z"
   },
   {
    "duration": 243,
    "start_time": "2023-02-05T00:28:50.023Z"
   },
   {
    "duration": 124,
    "start_time": "2023-02-05T00:28:50.268Z"
   },
   {
    "duration": 18,
    "start_time": "2023-02-05T00:28:50.393Z"
   },
   {
    "duration": 165,
    "start_time": "2023-02-05T00:28:50.416Z"
   },
   {
    "duration": 5,
    "start_time": "2023-02-05T00:28:50.583Z"
   },
   {
    "duration": 10,
    "start_time": "2023-02-05T00:28:50.590Z"
   },
   {
    "duration": 131,
    "start_time": "2023-02-05T00:28:50.601Z"
   },
   {
    "duration": 62,
    "start_time": "2023-02-05T00:28:50.738Z"
   },
   {
    "duration": 12,
    "start_time": "2023-02-05T00:28:50.802Z"
   },
   {
    "duration": 138,
    "start_time": "2023-02-05T00:28:50.816Z"
   },
   {
    "duration": 29,
    "start_time": "2023-02-05T00:28:50.956Z"
   },
   {
    "duration": 4,
    "start_time": "2023-02-05T00:28:50.987Z"
   },
   {
    "duration": 1015976,
    "start_time": "2023-02-05T00:28:50.993Z"
   },
   {
    "duration": 4,
    "start_time": "2023-02-05T00:45:46.971Z"
   },
   {
    "duration": 848471,
    "start_time": "2023-02-05T00:45:46.977Z"
   },
   {
    "duration": 2847,
    "start_time": "2023-02-05T00:59:55.449Z"
   },
   {
    "duration": 39,
    "start_time": "2023-02-05T00:59:58.298Z"
   },
   {
    "duration": 3,
    "start_time": "2023-02-05T00:59:58.339Z"
   },
   {
    "duration": 79197,
    "start_time": "2023-02-05T00:59:58.343Z"
   },
   {
    "duration": 595096,
    "start_time": "2023-02-05T01:01:17.542Z"
   },
   {
    "duration": 97,
    "start_time": "2023-02-05T01:11:12.641Z"
   },
   {
    "duration": 698,
    "start_time": "2023-02-05T01:11:12.740Z"
   },
   {
    "duration": 6,
    "start_time": "2023-02-05T01:11:13.441Z"
   }
  ],
  "kernelspec": {
   "display_name": "Python 3 (ipykernel)",
   "language": "python",
   "name": "python3"
  },
  "language_info": {
   "codemirror_mode": {
    "name": "ipython",
    "version": 3
   },
   "file_extension": ".py",
   "mimetype": "text/x-python",
   "name": "python",
   "nbconvert_exporter": "python",
   "pygments_lexer": "ipython3",
   "version": "3.9.5"
  },
  "toc": {
   "base_numbering": 1,
   "nav_menu": {},
   "number_sections": true,
   "sideBar": true,
   "skip_h1_title": true,
   "title_cell": "Table of Contents",
   "title_sidebar": "Contents",
   "toc_cell": false,
   "toc_position": {},
   "toc_section_display": true,
   "toc_window_display": false
  }
 },
 "nbformat": 4,
 "nbformat_minor": 2
}
