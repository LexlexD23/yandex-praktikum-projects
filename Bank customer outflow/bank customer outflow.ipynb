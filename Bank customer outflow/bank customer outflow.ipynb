{
 "cells": [
  {
   "cell_type": "markdown",
   "metadata": {
    "toc": true
   },
   "source": [
    "<h1>Содержание<span class=\"tocSkip\"></span></h1>\n",
    "<div class=\"toc\"><ul class=\"toc-item\"><li><span><a href=\"#Подготовка-данных\" data-toc-modified-id=\"Подготовка-данных-1\"><span class=\"toc-item-num\">1&nbsp;&nbsp;</span>Подготовка данных</a></span></li><li><span><a href=\"#Исследование-задачи\" data-toc-modified-id=\"Исследование-задачи-2\"><span class=\"toc-item-num\">2&nbsp;&nbsp;</span>Исследование задачи</a></span></li><li><span><a href=\"#Борьба-с-дисбалансом\" data-toc-modified-id=\"Борьба-с-дисбалансом-3\"><span class=\"toc-item-num\">3&nbsp;&nbsp;</span>Борьба с дисбалансом</a></span></li><li><span><a href=\"#Тестирование-модели\" data-toc-modified-id=\"Тестирование-модели-4\"><span class=\"toc-item-num\">4&nbsp;&nbsp;</span>Тестирование модели</a></span></li></ul></div>"
   ]
  },
  {
   "cell_type": "markdown",
   "metadata": {},
   "source": [
    "# Отток клиентов"
   ]
  },
  {
   "cell_type": "markdown",
   "metadata": {},
   "source": [
    "Из «Бета-Банка» стали уходить клиенты. Каждый месяц. Немного, но заметно. Банковские маркетологи посчитали: сохранять текущих клиентов дешевле, чем привлекать новых.\n",
    "\n",
    "Нужно спрогнозировать, уйдёт клиент из банка в ближайшее время или нет. Вам предоставлены исторические данные о поведении клиентов и расторжении договоров с банком. \n",
    "\n",
    "Постройте модель с предельно большим значением *F1*-меры. Чтобы сдать проект успешно, нужно довести метрику до 0.59. Проверьте *F1*-меру на тестовой выборке самостоятельно.\n",
    "\n",
    "Дополнительно измеряйте *AUC-ROC*, сравнивайте её значение с *F1*-мерой.\n",
    "\n",
    "Источник данных: [https://www.kaggle.com/barelydedicated/bank-customer-churn-modeling](https://www.kaggle.com/barelydedicated/bank-customer-churn-modeling)"
   ]
  },
  {
   "cell_type": "markdown",
   "metadata": {},
   "source": [
    "## Подготовка данных"
   ]
  },
  {
   "cell_type": "code",
   "execution_count": 1,
   "metadata": {},
   "outputs": [],
   "source": [
    "import pandas as pd\n",
    "import seaborn as sns\n",
    "import matplotlib.pyplot as plt\n",
    "from sklearn.ensemble import RandomForestClassifier\n",
    "from sklearn.linear_model import LogisticRegression\n",
    "from sklearn.tree import DecisionTreeClassifier\n",
    "from sklearn.model_selection import train_test_split\n",
    "from sklearn.metrics import f1_score\n",
    "from sklearn.model_selection import GridSearchCV\n",
    "from sklearn.utils import shuffle\n",
    "from sklearn.metrics import roc_auc_score\n",
    "from sklearn.metrics import roc_curve \n",
    "from sklearn.preprocessing import OneHotEncoder,RobustScaler"
   ]
  },
  {
   "cell_type": "code",
   "execution_count": 2,
   "metadata": {},
   "outputs": [],
   "source": [
    "df = pd.read_csv('/datasets/Churn.csv')"
   ]
  },
  {
   "cell_type": "markdown",
   "metadata": {},
   "source": [
    "Признаки\n",
    "* RowNumber — индекс строки в данных\n",
    "* CustomerId — уникальный идентификатор клиента\n",
    "* Surname — фамилия\n",
    "* CreditScore — кредитный рейтинг\n",
    "* Geography — страна проживания\n",
    "* Gender — пол\n",
    "* Age — возраст\n",
    "* Tenure — сколько лет человек является клиентом банка\n",
    "* Balance — баланс на счёте\n",
    "* NumOfProducts — количество продуктов банка, используемых клиентом\n",
    "* HasCrCard — наличие кредитной карты\n",
    "* IsActiveMember — активность клиента\n",
    "* EstimatedSalary — предполагаемая зарплата"
   ]
  },
  {
   "cell_type": "code",
   "execution_count": 3,
   "metadata": {
    "scrolled": false
   },
   "outputs": [
    {
     "data": {
      "text/html": [
       "<div>\n",
       "<style scoped>\n",
       "    .dataframe tbody tr th:only-of-type {\n",
       "        vertical-align: middle;\n",
       "    }\n",
       "\n",
       "    .dataframe tbody tr th {\n",
       "        vertical-align: top;\n",
       "    }\n",
       "\n",
       "    .dataframe thead th {\n",
       "        text-align: right;\n",
       "    }\n",
       "</style>\n",
       "<table border=\"1\" class=\"dataframe\">\n",
       "  <thead>\n",
       "    <tr style=\"text-align: right;\">\n",
       "      <th></th>\n",
       "      <th>RowNumber</th>\n",
       "      <th>CustomerId</th>\n",
       "      <th>Surname</th>\n",
       "      <th>CreditScore</th>\n",
       "      <th>Geography</th>\n",
       "      <th>Gender</th>\n",
       "      <th>Age</th>\n",
       "      <th>Tenure</th>\n",
       "      <th>Balance</th>\n",
       "      <th>NumOfProducts</th>\n",
       "      <th>HasCrCard</th>\n",
       "      <th>IsActiveMember</th>\n",
       "      <th>EstimatedSalary</th>\n",
       "      <th>Exited</th>\n",
       "    </tr>\n",
       "  </thead>\n",
       "  <tbody>\n",
       "    <tr>\n",
       "      <th>0</th>\n",
       "      <td>1</td>\n",
       "      <td>15634602</td>\n",
       "      <td>Hargrave</td>\n",
       "      <td>619</td>\n",
       "      <td>France</td>\n",
       "      <td>Female</td>\n",
       "      <td>42</td>\n",
       "      <td>2.0</td>\n",
       "      <td>0.00</td>\n",
       "      <td>1</td>\n",
       "      <td>1</td>\n",
       "      <td>1</td>\n",
       "      <td>101348.88</td>\n",
       "      <td>1</td>\n",
       "    </tr>\n",
       "    <tr>\n",
       "      <th>1</th>\n",
       "      <td>2</td>\n",
       "      <td>15647311</td>\n",
       "      <td>Hill</td>\n",
       "      <td>608</td>\n",
       "      <td>Spain</td>\n",
       "      <td>Female</td>\n",
       "      <td>41</td>\n",
       "      <td>1.0</td>\n",
       "      <td>83807.86</td>\n",
       "      <td>1</td>\n",
       "      <td>0</td>\n",
       "      <td>1</td>\n",
       "      <td>112542.58</td>\n",
       "      <td>0</td>\n",
       "    </tr>\n",
       "    <tr>\n",
       "      <th>2</th>\n",
       "      <td>3</td>\n",
       "      <td>15619304</td>\n",
       "      <td>Onio</td>\n",
       "      <td>502</td>\n",
       "      <td>France</td>\n",
       "      <td>Female</td>\n",
       "      <td>42</td>\n",
       "      <td>8.0</td>\n",
       "      <td>159660.80</td>\n",
       "      <td>3</td>\n",
       "      <td>1</td>\n",
       "      <td>0</td>\n",
       "      <td>113931.57</td>\n",
       "      <td>1</td>\n",
       "    </tr>\n",
       "    <tr>\n",
       "      <th>3</th>\n",
       "      <td>4</td>\n",
       "      <td>15701354</td>\n",
       "      <td>Boni</td>\n",
       "      <td>699</td>\n",
       "      <td>France</td>\n",
       "      <td>Female</td>\n",
       "      <td>39</td>\n",
       "      <td>1.0</td>\n",
       "      <td>0.00</td>\n",
       "      <td>2</td>\n",
       "      <td>0</td>\n",
       "      <td>0</td>\n",
       "      <td>93826.63</td>\n",
       "      <td>0</td>\n",
       "    </tr>\n",
       "    <tr>\n",
       "      <th>4</th>\n",
       "      <td>5</td>\n",
       "      <td>15737888</td>\n",
       "      <td>Mitchell</td>\n",
       "      <td>850</td>\n",
       "      <td>Spain</td>\n",
       "      <td>Female</td>\n",
       "      <td>43</td>\n",
       "      <td>2.0</td>\n",
       "      <td>125510.82</td>\n",
       "      <td>1</td>\n",
       "      <td>1</td>\n",
       "      <td>1</td>\n",
       "      <td>79084.10</td>\n",
       "      <td>0</td>\n",
       "    </tr>\n",
       "  </tbody>\n",
       "</table>\n",
       "</div>"
      ],
      "text/plain": [
       "   RowNumber  CustomerId   Surname  CreditScore Geography  Gender  Age  \\\n",
       "0          1    15634602  Hargrave          619    France  Female   42   \n",
       "1          2    15647311      Hill          608     Spain  Female   41   \n",
       "2          3    15619304      Onio          502    France  Female   42   \n",
       "3          4    15701354      Boni          699    France  Female   39   \n",
       "4          5    15737888  Mitchell          850     Spain  Female   43   \n",
       "\n",
       "   Tenure    Balance  NumOfProducts  HasCrCard  IsActiveMember  \\\n",
       "0     2.0       0.00              1          1               1   \n",
       "1     1.0   83807.86              1          0               1   \n",
       "2     8.0  159660.80              3          1               0   \n",
       "3     1.0       0.00              2          0               0   \n",
       "4     2.0  125510.82              1          1               1   \n",
       "\n",
       "   EstimatedSalary  Exited  \n",
       "0        101348.88       1  \n",
       "1        112542.58       0  \n",
       "2        113931.57       1  \n",
       "3         93826.63       0  \n",
       "4         79084.10       0  "
      ]
     },
     "execution_count": 3,
     "metadata": {},
     "output_type": "execute_result"
    }
   ],
   "source": [
    "df.head()"
   ]
  },
  {
   "cell_type": "code",
   "execution_count": 4,
   "metadata": {
    "scrolled": true
   },
   "outputs": [
    {
     "name": "stdout",
     "output_type": "stream",
     "text": [
      "<class 'pandas.core.frame.DataFrame'>\n",
      "RangeIndex: 10000 entries, 0 to 9999\n",
      "Data columns (total 14 columns):\n",
      " #   Column           Non-Null Count  Dtype  \n",
      "---  ------           --------------  -----  \n",
      " 0   RowNumber        10000 non-null  int64  \n",
      " 1   CustomerId       10000 non-null  int64  \n",
      " 2   Surname          10000 non-null  object \n",
      " 3   CreditScore      10000 non-null  int64  \n",
      " 4   Geography        10000 non-null  object \n",
      " 5   Gender           10000 non-null  object \n",
      " 6   Age              10000 non-null  int64  \n",
      " 7   Tenure           9091 non-null   float64\n",
      " 8   Balance          10000 non-null  float64\n",
      " 9   NumOfProducts    10000 non-null  int64  \n",
      " 10  HasCrCard        10000 non-null  int64  \n",
      " 11  IsActiveMember   10000 non-null  int64  \n",
      " 12  EstimatedSalary  10000 non-null  float64\n",
      " 13  Exited           10000 non-null  int64  \n",
      "dtypes: float64(3), int64(8), object(3)\n",
      "memory usage: 1.1+ MB\n"
     ]
    }
   ],
   "source": [
    "df.info()"
   ]
  },
  {
   "cell_type": "markdown",
   "metadata": {},
   "source": [
    "  * Стиль названий колонок не приведен  к змеиному \n",
    "  * Пропуски в `tenure` (количество лет в статусе клиента банка)\n",
    "  * Колонка  `RowNumber` дублирует индекс        \n"
   ]
  },
  {
   "cell_type": "code",
   "execution_count": 5,
   "metadata": {},
   "outputs": [],
   "source": [
    "df = df.drop('RowNumber',axis = 1)"
   ]
  },
  {
   "cell_type": "code",
   "execution_count": 6,
   "metadata": {},
   "outputs": [],
   "source": [
    "df = df.rename(columns = {'CustomerId': 'customer_id','CreditScore':'credit_score',\n",
    "                     'NumOfProducts':'num_of_products','HasCrCard':'has_cr_card', 'IsActiveMember':'is_active_member',\n",
    "                      'EstimatedSalary' : 'estimated_salary'   \n",
    "                    }\n",
    "         )\n",
    "df.columns = df.columns.str.lower()"
   ]
  },
  {
   "cell_type": "code",
   "execution_count": 7,
   "metadata": {},
   "outputs": [
    {
     "data": {
      "text/plain": [
       "Index(['customer_id', 'surname', 'credit_score', 'geography', 'gender', 'age',\n",
       "       'tenure', 'balance', 'num_of_products', 'has_cr_card',\n",
       "       'is_active_member', 'estimated_salary', 'exited'],\n",
       "      dtype='object')"
      ]
     },
     "execution_count": 7,
     "metadata": {},
     "output_type": "execute_result"
    }
   ],
   "source": [
    "df.columns"
   ]
  },
  {
   "cell_type": "markdown",
   "metadata": {},
   "source": [
    "Доля пропусков в процентах"
   ]
  },
  {
   "cell_type": "code",
   "execution_count": 8,
   "metadata": {
    "scrolled": false
   },
   "outputs": [
    {
     "data": {
      "text/html": [
       "<div>\n",
       "<style scoped>\n",
       "    .dataframe tbody tr th:only-of-type {\n",
       "        vertical-align: middle;\n",
       "    }\n",
       "\n",
       "    .dataframe tbody tr th {\n",
       "        vertical-align: top;\n",
       "    }\n",
       "\n",
       "    .dataframe thead th {\n",
       "        text-align: right;\n",
       "    }\n",
       "</style>\n",
       "<table border=\"1\" class=\"dataframe\">\n",
       "  <thead>\n",
       "    <tr style=\"text-align: right;\">\n",
       "      <th></th>\n",
       "      <th>space</th>\n",
       "    </tr>\n",
       "  </thead>\n",
       "  <tbody>\n",
       "    <tr>\n",
       "      <th>tenure</th>\n",
       "      <td>9.09</td>\n",
       "    </tr>\n",
       "  </tbody>\n",
       "</table>\n",
       "</div>"
      ],
      "text/plain": [
       "        space\n",
       "tenure   9.09"
      ]
     },
     "execution_count": 8,
     "metadata": {},
     "output_type": "execute_result"
    }
   ],
   "source": [
    "(df.isna().mean()*100)\\\n",
    "    .to_frame()\\\n",
    "    .rename(columns = {0:'space'})\\\n",
    "    .query('space > 0')\n"
   ]
  },
  {
   "cell_type": "markdown",
   "metadata": {},
   "source": [
    "Так как заполение пропусков может исказить выборку,  удалим 9 процентов выборки"
   ]
  },
  {
   "cell_type": "code",
   "execution_count": 9,
   "metadata": {},
   "outputs": [],
   "source": [
    "df = df.dropna(subset = ['tenure'])"
   ]
  },
  {
   "cell_type": "markdown",
   "metadata": {},
   "source": [
    "Поиск явных дубликатов"
   ]
  },
  {
   "cell_type": "code",
   "execution_count": 10,
   "metadata": {},
   "outputs": [
    {
     "data": {
      "text/plain": [
       "0"
      ]
     },
     "execution_count": 10,
     "metadata": {},
     "output_type": "execute_result"
    }
   ],
   "source": [
    "df.duplicated().sum()"
   ]
  },
  {
   "cell_type": "markdown",
   "metadata": {},
   "source": [
    "## Исследование задачи"
   ]
  },
  {
   "cell_type": "markdown",
   "metadata": {},
   "source": [
    "Диаграмма разброса признаков"
   ]
  },
  {
   "cell_type": "code",
   "execution_count": 11,
   "metadata": {},
   "outputs": [],
   "source": [
    "sns.pairplot(df[['credit_score', 'gender', 'age',\\\n",
    "        'tenure', 'balance', 'num_of_products',\\\n",
    "       'is_active_member', 'estimated_salary','exited']],hue = 'exited')"
   ]
  },
  {
   "cell_type": "markdown",
   "metadata": {},
   "source": [
    "Видно, что отток клиентов больше в группе с большим количеством продуктов от банка "
   ]
  },
  {
   "cell_type": "markdown",
   "metadata": {},
   "source": [
    "Уберем признаки не имеющие связи c причинами клиента уйти или остаться "
   ]
  },
  {
   "cell_type": "code",
   "execution_count": 12,
   "metadata": {},
   "outputs": [],
   "source": [
    "df = df.drop(['customer_id','surname'],axis = 1)"
   ]
  },
  {
   "cell_type": "code",
   "execution_count": 13,
   "metadata": {},
   "outputs": [],
   "source": [
    "features = df.drop('exited',axis = 1)\n",
    "target = df['exited']"
   ]
  },
  {
   "cell_type": "markdown",
   "metadata": {},
   "source": [
    "Подготовка  выборок"
   ]
  },
  {
   "cell_type": "code",
   "execution_count": 14,
   "metadata": {},
   "outputs": [],
   "source": [
    "features_train,features_valid_test,target_train,target_valid_test = train_test_split(features,target,\n",
    "                                                                                   test_size = .4, random_state = 12345)\n",
    "\n",
    "features_valid,features_test,target_valid,target_test = train_test_split(features_valid_test,\n",
    "                                                                       target_valid_test,test_size = .5, random_state = 12345)"
   ]
  },
  {
   "cell_type": "markdown",
   "metadata": {},
   "source": [
    "Кодирование "
   ]
  },
  {
   "cell_type": "code",
   "execution_count": 15,
   "metadata": {},
   "outputs": [],
   "source": [
    "oh = OneHotEncoder(sparse = False, handle_unknown = 'ignore')\n",
    "\n",
    "ar_tr = oh.fit_transform(features_train[['gender','geography']])\n",
    "ar_val = oh.transform(features_valid[['gender','geography']])\n",
    "ar_ts = oh.transform(features_test[['gender','geography']])\n",
    "\n",
    "X_tr = pd.DataFrame(ar_tr,columns = oh.get_feature_names(['gender','geography']),index = features_train.index)\n",
    "X_val = pd.DataFrame(ar_val,columns = oh.get_feature_names(['gender','geography']),index = features_valid.index)\n",
    "X_ts = pd.DataFrame(ar_ts,columns = oh.get_feature_names(['gender','geography']),index = features_test.index)\n",
    "\n",
    "features_train = pd.concat((features_train.drop(['gender','geography'],axis = 1), X_tr), axis = 1)\n",
    "features_valid = pd.concat((features_valid.drop(['gender','geography'],axis = 1),X_val), axis = 1)\n",
    "features_test = pd.concat((features_test.drop(['gender','geography'],axis = 1),X_ts), axis = 1)"
   ]
  },
  {
   "cell_type": "markdown",
   "metadata": {},
   "source": [
    "Маштабирование"
   ]
  },
  {
   "cell_type": "code",
   "execution_count": 16,
   "metadata": {},
   "outputs": [],
   "source": [
    "sr = RobustScaler()\n",
    "\n",
    "num_cols = features_train.drop(X_tr.columns,axis = 1).columns\n",
    "\n",
    "features_train.reset_index(drop = True,inplace = True)\n",
    "features_valid.reset_index(drop = True,inplace = True)\n",
    "features_test.reset_index(drop = True,inplace = True)\n",
    "\n",
    "target_train.reset_index(drop = True,inplace = True)\n",
    "target_valid.reset_index(drop = True,inplace = True)\n",
    "target_test.reset_index(drop = True,inplace = True)\n",
    "\n",
    "features_train[num_cols] = pd.DataFrame(sr.fit_transform(features_train[num_cols]), columns = features_train[num_cols].columns)\n",
    "features_valid[num_cols] = pd.DataFrame(sr.transform(features_valid[num_cols]),columns = features_valid[num_cols].columns)\n",
    "features_test[num_cols] = pd.DataFrame(sr.transform(features_test[num_cols]),columns = features_test[num_cols].columns)"
   ]
  },
  {
   "cell_type": "markdown",
   "metadata": {},
   "source": [
    "**Случайный лес, подбор гиперпараметров**"
   ]
  },
  {
   "cell_type": "code",
   "execution_count": 17,
   "metadata": {
    "scrolled": false
   },
   "outputs": [],
   "source": [
    "parametrs = { 'n_estimators': range (10, 51, 10),\n",
    "              'max_depth': range (1,13, 2),\n",
    "              'min_samples_leaf': range (1,8),\n",
    "              'min_samples_split': range (2,10,2) }\n",
    "\n",
    "model = RandomForestClassifier(random_state = 12345)\n",
    "grid = GridSearchCV(model, parametrs, cv=5)\n",
    "grid.fit(features_train,target_train)\n",
    "grid.best_params_"
   ]
  },
  {
   "cell_type": "code",
   "execution_count": 18,
   "metadata": {
    "scrolled": true
   },
   "outputs": [
    {
     "name": "stdout",
     "output_type": "stream",
     "text": [
      "Метрика f1 для случайного леса =  0.5806451612903226\n"
     ]
    }
   ],
   "source": [
    "model_forest = RandomForestClassifier(random_state = 12345,n_estimators = 30,max_depth = 11,\n",
    "                              min_samples_leaf = 1,min_samples_split = 2)\n",
    "model_forest.fit(features_train, target_train)\n",
    "predictions = model_forest.predict(features_valid)\n",
    "\n",
    "probabilities_valid = model_forest.predict_proba(features_valid)\n",
    "probabilities_one_valid = probabilities_valid[:, 1]\n",
    "roc_forest = roc_auc_score(target_valid, probabilities_one_valid)\n",
    "\n",
    "f1_forest = f1_score(target_valid,predictions)\n",
    "print('Метрика f1 для случайного леса = ',f1_forest)"
   ]
  },
  {
   "cell_type": "markdown",
   "metadata": {},
   "source": [
    "**Логистическая регрессия, подбор гиперпараметров**"
   ]
  },
  {
   "cell_type": "code",
   "execution_count": 19,
   "metadata": {},
   "outputs": [
    {
     "data": {
      "text/plain": [
       "{'C': 1}"
      ]
     },
     "execution_count": 19,
     "metadata": {},
     "output_type": "execute_result"
    }
   ],
   "source": [
    "parametrs = {'C':[0.001, 0.01, 0.1, 1, 10, 100, 1000]} \n",
    "logreg=LogisticRegression(random_state = 12345)\n",
    "grid_logreg=GridSearchCV(logreg,parametrs,cv=5)\n",
    "grid_logreg.fit(features_train,target_train)\n",
    "grid_logreg.best_params_"
   ]
  },
  {
   "cell_type": "code",
   "execution_count": 20,
   "metadata": {
    "scrolled": false
   },
   "outputs": [
    {
     "name": "stdout",
     "output_type": "stream",
     "text": [
      "Метрика f1 для логистической регесии 0.3033932135728543\n"
     ]
    }
   ],
   "source": [
    "model_log = LogisticRegression(random_state = 12345,C =  1)\n",
    "model_log.fit(features_train,target_train)\n",
    "predictions = model_log.predict(features_valid)\n",
    "\n",
    "probabilities_valid = model_log.predict_proba(features_valid)\n",
    "probabilities_one_valid = probabilities_valid[:, 1]\n",
    "roc_log = roc_auc_score(target_valid, probabilities_one_valid)\n",
    "\n",
    "f1_log = f1_score(target_valid,predictions)\n",
    "print('Метрика f1 для логистической регесии',f1_log)"
   ]
  },
  {
   "cell_type": "markdown",
   "metadata": {},
   "source": [
    "**Дерево решений, подбор гиперпараметров**"
   ]
  },
  {
   "cell_type": "code",
   "execution_count": 21,
   "metadata": {
    "scrolled": true
   },
   "outputs": [
    {
     "data": {
      "text/plain": [
       "{'max_depth': 5, 'min_samples_leaf': 5, 'min_samples_split': 2}"
      ]
     },
     "execution_count": 21,
     "metadata": {},
     "output_type": "execute_result"
    }
   ],
   "source": [
    "parametrs = { 'max_depth': range (1,6),\n",
    "              'min_samples_leaf': range (1,9),\n",
    "              'min_samples_split': range (2,5) \n",
    "            }\n",
    "              \n",
    "model = DecisionTreeClassifier(random_state = 12345)\n",
    "\n",
    "grid = GridSearchCV(model, parametrs, cv=5)\n",
    "grid.fit(features_train,target_train)\n",
    "grid.best_params_"
   ]
  },
  {
   "cell_type": "code",
   "execution_count": 22,
   "metadata": {},
   "outputs": [
    {
     "name": "stdout",
     "output_type": "stream",
     "text": [
      "Метрика f1 для решающего дерева 0.5121495327102804\n"
     ]
    }
   ],
   "source": [
    "model_tree = DecisionTreeClassifier(random_state = 12345,max_depth= 5, min_samples_leaf = 5, min_samples_split = 2)\n",
    "model_tree.fit(features_train,target_train)\n",
    "predictions = model_tree.predict(features_valid)\n",
    "\n",
    "probabilities_valid = model_tree.predict_proba(features_valid)\n",
    "probabilities_one_valid = probabilities_valid[:, 1]\n",
    "roc_tree = roc_auc_score(target_valid, probabilities_one_valid)\n",
    "\n",
    "f1_tree = f1_score(target_valid,predictions)\n",
    "print('Метрика f1 для решающего дерева',f1_score(predictions,target_valid))"
   ]
  },
  {
   "cell_type": "code",
   "execution_count": 23,
   "metadata": {
    "scrolled": false
   },
   "outputs": [
    {
     "data": {
      "text/html": [
       "<div>\n",
       "<style scoped>\n",
       "    .dataframe tbody tr th:only-of-type {\n",
       "        vertical-align: middle;\n",
       "    }\n",
       "\n",
       "    .dataframe tbody tr th {\n",
       "        vertical-align: top;\n",
       "    }\n",
       "\n",
       "    .dataframe thead th {\n",
       "        text-align: right;\n",
       "    }\n",
       "</style>\n",
       "<table border=\"1\" class=\"dataframe\">\n",
       "  <thead>\n",
       "    <tr style=\"text-align: right;\">\n",
       "      <th></th>\n",
       "      <th>Random_forest</th>\n",
       "      <th>Logistic_Regression</th>\n",
       "      <th>Decision_Tree</th>\n",
       "    </tr>\n",
       "  </thead>\n",
       "  <tbody>\n",
       "    <tr>\n",
       "      <th>f1</th>\n",
       "      <td>0.580645</td>\n",
       "      <td>0.303393</td>\n",
       "      <td>0.512150</td>\n",
       "    </tr>\n",
       "    <tr>\n",
       "      <th>roc</th>\n",
       "      <td>0.861795</td>\n",
       "      <td>0.773680</td>\n",
       "      <td>0.845695</td>\n",
       "    </tr>\n",
       "  </tbody>\n",
       "</table>\n",
       "</div>"
      ],
      "text/plain": [
       "     Random_forest  Logistic_Regression  Decision_Tree\n",
       "f1        0.580645             0.303393       0.512150\n",
       "roc       0.861795             0.773680       0.845695"
      ]
     },
     "execution_count": 23,
     "metadata": {},
     "output_type": "execute_result"
    }
   ],
   "source": [
    "pd.DataFrame({'Random_forest': [f1_forest, roc_forest],\n",
    "              'Logistic_Regression': [f1_log, roc_log],\n",
    "              'Decision_Tree': [f1_tree, roc_tree]}, \n",
    "              index = ['f1','roc']\n",
    "            )"
   ]
  },
  {
   "cell_type": "markdown",
   "metadata": {},
   "source": [
    "Без учета дисбананса, по отобраному количеству признаков за лучшую моделью классификатора среди трех  возьмем случайный лес"
   ]
  },
  {
   "cell_type": "markdown",
   "metadata": {},
   "source": [
    "## Борьба с дисбалансом"
   ]
  },
  {
   "cell_type": "markdown",
   "metadata": {},
   "source": [
    "**Обзор дисбаланса классов в целевом признаке**"
   ]
  },
  {
   "cell_type": "code",
   "execution_count": 24,
   "metadata": {
    "scrolled": false
   },
   "outputs": [
    {
     "data": {
      "text/plain": [
       "<AxesSubplot:title={'center':'Диаграмма дисбаланса'}, ylabel='Отток'>"
      ]
     },
     "execution_count": 24,
     "metadata": {},
     "output_type": "execute_result"
    },
    {
     "data": {
      "image/png": "[encoded data removed]",
      "text/plain": [
       "<Figure size 432x288 with 1 Axes>"
      ]
     },
     "metadata": {},
     "output_type": "display_data"
    }
   ],
   "source": [
    "df.value_counts('exited').plot.pie(autopct='%1.1f%%',title = 'Диаграмма дисбаланса',ylabel = 'Отток')"
   ]
  },
  {
   "cell_type": "markdown",
   "metadata": {},
   "source": [
    "В выборке ушедших клиентов в 4 раза меньше оставшихся, что приводит к дисбалансу"
   ]
  },
  {
   "cell_type": "markdown",
   "metadata": {},
   "source": [
    "**Использование параметра class_weight**"
   ]
  },
  {
   "cell_type": "code",
   "execution_count": 25,
   "metadata": {
    "scrolled": false
   },
   "outputs": [
    {
     "name": "stdout",
     "output_type": "stream",
     "text": [
      "Площадь  ROC  для случайного леса (class_weight) = 0.8718617523566193\n",
      "Метрика f1 для случайного леса (class_weight) = 0.6284074605451937\n"
     ]
    }
   ],
   "source": [
    "model_forest = RandomForestClassifier(random_state = 12345, class_weight='balanced', n_estimators = 30,max_depth = 11,\n",
    "                              min_samples_leaf = 1,min_samples_split = 2)\n",
    "model_forest.fit(features_train,target_train)\n",
    "predictions = model_forest.predict(features_valid)\n",
    "\n",
    "\n",
    "probabilities_valid = model_forest.predict_proba(features_valid)\n",
    "probabilities_one_valid = probabilities_valid[:, 1]\n",
    "fpr_balanced, tpr_balanced, thresholds = roc_curve(target_valid, probabilities_one_valid)\n",
    "\n",
    "roc_forest_bal = roc_auc_score(target_valid, probabilities_one_valid)\n",
    "\n",
    "f1_forest_bal = f1_score(target_valid,predictions)\n",
    "print('Площадь  ROC  для случайного леса (class_weight) =',roc_forest_bal)\n",
    "print('Метрика f1 для случайного леса (class_weight) =',f1_forest_bal)\n",
    "\n"
   ]
  },
  {
   "cell_type": "markdown",
   "metadata": {},
   "source": [
    "**Увеличение выборки**"
   ]
  },
  {
   "cell_type": "code",
   "execution_count": 26,
   "metadata": {},
   "outputs": [],
   "source": [
    "def upsample(features, target, repeat):\n",
    "    features_zeros = features[target == 0]\n",
    "    features_ones = features[target == 1]\n",
    "    target_zeros = target[target == 0]\n",
    "    target_ones = target[target == 1]\n",
    "\n",
    "    features_upsampled = pd.concat([features_zeros] + [features_ones] * repeat)\n",
    "    target_upsampled = pd.concat([target_zeros] + [target_ones] * repeat)\n",
    "    \n",
    "    features_upsampled, target_upsampled = shuffle(\n",
    "        features_upsampled, target_upsampled, random_state=12345)\n",
    "    \n",
    "    return features_upsampled, target_upsampled"
   ]
  },
  {
   "cell_type": "code",
   "execution_count": 27,
   "metadata": {
    "scrolled": false
   },
   "outputs": [
    {
     "name": "stdout",
     "output_type": "stream",
     "text": [
      "Площадь  ROC  для случайного леса (upsample) = 0.8624665673889156\n",
      "Метрика f1 для случайного леса (upsample) = 0.6363636363636364\n"
     ]
    }
   ],
   "source": [
    "features_train_upsampled, target_train_upsampled = upsample(features_train,target_train,4)\n",
    "\n",
    "model_forest = RandomForestClassifier(random_state = 12345, n_estimators = 30,max_depth = 11,\n",
    "                              min_samples_leaf = 1,min_samples_split = 2)\n",
    "model_forest.fit(features_train_upsampled, target_train_upsampled)\n",
    "predictions = model_forest.predict(features_valid)\n",
    "\n",
    "probabilities_valid = model_forest.predict_proba(features_valid)\n",
    "probabilities_one_valid = probabilities_valid[:, 1]\n",
    "fpr_upsam, tpr_upsam, thresholds = roc_curve(target_valid, probabilities_one_valid)\n",
    "\n",
    "roc_forest_upsam = roc_auc_score(target_valid, probabilities_one_valid)\n",
    "f1_forest_upsam = f1_score(target_valid,predictions)\n",
    "print('Площадь  ROC  для случайного леса (upsample) =',roc_forest_upsam)\n",
    "print('Метрика f1 для случайного леса (upsample) =',f1_forest_upsam)\n"
   ]
  },
  {
   "cell_type": "markdown",
   "metadata": {},
   "source": [
    "**Уменьшение выборки**"
   ]
  },
  {
   "cell_type": "code",
   "execution_count": 28,
   "metadata": {},
   "outputs": [],
   "source": [
    "def downsample(features, target, fraction):\n",
    "    features_zeros = features[target == 0]\n",
    "    features_ones = features[target == 1]\n",
    "    target_zeros = target[target == 0]\n",
    "    target_ones = target[target == 1]\n",
    "\n",
    "    features_downsampled = pd.concat(\n",
    "        [features_zeros.sample(frac=fraction, random_state=12345)] + [features_ones])\n",
    "    target_downsampled = pd.concat(\n",
    "        [target_zeros.sample(frac=fraction, random_state=12345)] + [target_ones])\n",
    "    \n",
    "    features_downsampled, target_downsampled = shuffle(\n",
    "        features_downsampled, target_downsampled, random_state=12345)\n",
    "    \n",
    "    return features_downsampled, target_downsampled"
   ]
  },
  {
   "cell_type": "code",
   "execution_count": 29,
   "metadata": {
    "scrolled": true
   },
   "outputs": [
    {
     "name": "stdout",
     "output_type": "stream",
     "text": [
      "Площадь  ROC  для случайного леса (downsample) = 0.8526700990507254\n",
      "Метрика f1 для случайного леса (downsample) = 0.5676442762535477\n"
     ]
    }
   ],
   "source": [
    "features_train_downsampled, target_train_downsampled = downsample(features_train,target_train, 0.25)\n",
    "\n",
    "model_forest.fit(features_train_downsampled, target_train_downsampled)\n",
    "predictions = model_forest.predict(features_valid)\n",
    "\n",
    "probabilities_valid = model_forest.predict_proba(features_valid)\n",
    "probabilities_one_valid = probabilities_valid[:, 1]\n",
    "roc_forest_downsam = roc_auc_score(target_valid, probabilities_one_valid)\n",
    "\n",
    "f1_forest_downsam = f1_score(target_valid,predictions)\n",
    "print('Площадь  ROC  для случайного леса (downsample) =',roc_forest_downsam)\n",
    "print('Метрика f1 для случайного леса (downsample) =',f1_forest_downsam)\n"
   ]
  },
  {
   "cell_type": "code",
   "execution_count": 30,
   "metadata": {
    "scrolled": false
   },
   "outputs": [
    {
     "data": {
      "image/png": "[encoded data removed]",
      "text/plain": [
       "<Figure size 1296x432 with 1 Axes>"
      ]
     },
     "metadata": {
      "needs_background": "light"
     },
     "output_type": "display_data"
    }
   ],
   "source": [
    "fpr_downsam, tpr_downsam, thresholds = roc_curve(target_valid, probabilities_one_valid)\n",
    "\n",
    "plt.figure(figsize=(18, 6))\n",
    "\n",
    "plt.grid()\n",
    "plt.plot(fpr_balanced, tpr_balanced)\n",
    "plt.plot(fpr_upsam, tpr_upsam)\n",
    "plt.plot(fpr_downsam, tpr_downsam)\n",
    "plt.legend(['balanced','upsample','downsample'])\n",
    "plt.plot([0, 1], [0, 1], linestyle='--')\n",
    "plt.xlim([0,1])\n",
    "plt.ylim([0,1])\n",
    "\n",
    "plt.xlabel(\"False Positive Rate\")\n",
    "\n",
    "plt.ylabel(\"True Positive Rate\")\n",
    "\n",
    "plt.title(\"ROC-кривая\")\n",
    "plt.show()\n"
   ]
  },
  {
   "cell_type": "code",
   "execution_count": 31,
   "metadata": {},
   "outputs": [
    {
     "data": {
      "text/html": [
       "<div>\n",
       "<style scoped>\n",
       "    .dataframe tbody tr th:only-of-type {\n",
       "        vertical-align: middle;\n",
       "    }\n",
       "\n",
       "    .dataframe tbody tr th {\n",
       "        vertical-align: top;\n",
       "    }\n",
       "\n",
       "    .dataframe thead th {\n",
       "        text-align: right;\n",
       "    }\n",
       "</style>\n",
       "<table border=\"1\" class=\"dataframe\">\n",
       "  <thead>\n",
       "    <tr style=\"text-align: right;\">\n",
       "      <th></th>\n",
       "      <th>balanced</th>\n",
       "      <th>upsample</th>\n",
       "      <th>down_sample</th>\n",
       "    </tr>\n",
       "  </thead>\n",
       "  <tbody>\n",
       "    <tr>\n",
       "      <th>f1</th>\n",
       "      <td>0.628407</td>\n",
       "      <td>0.636364</td>\n",
       "      <td>0.567644</td>\n",
       "    </tr>\n",
       "    <tr>\n",
       "      <th>roc</th>\n",
       "      <td>0.871862</td>\n",
       "      <td>0.862467</td>\n",
       "      <td>0.852670</td>\n",
       "    </tr>\n",
       "  </tbody>\n",
       "</table>\n",
       "</div>"
      ],
      "text/plain": [
       "     balanced  upsample  down_sample\n",
       "f1   0.628407  0.636364     0.567644\n",
       "roc  0.871862  0.862467     0.852670"
      ]
     },
     "execution_count": 31,
     "metadata": {},
     "output_type": "execute_result"
    }
   ],
   "source": [
    "pd.DataFrame({'balanced': [f1_forest_bal, roc_forest_bal],\n",
    "              'upsample': [f1_forest_upsam, roc_forest_upsam],\n",
    "              'down_sample': [f1_forest_downsam, roc_forest_downsam]},      \n",
    "              index = ['f1','roc']\n",
    "            )"
   ]
  },
  {
   "cell_type": "markdown",
   "metadata": {},
   "source": [
    "Даунсемпилинг хоть и показывает самое малое значение  AUC-ROC, но достигает немного раньше максимального показателя TPR при более низком FPR"
   ]
  },
  {
   "cell_type": "markdown",
   "metadata": {},
   "source": [
    "## Тестирование модели"
   ]
  },
  {
   "cell_type": "markdown",
   "metadata": {},
   "source": [
    "Увеличение тренировочной выборки за счет валидационной"
   ]
  },
  {
   "cell_type": "code",
   "execution_count": 32,
   "metadata": {},
   "outputs": [],
   "source": [
    "features_train = pd.concat([features_train] + [features_valid])\n",
    "target_train = pd.concat([target_train] + [target_valid])"
   ]
  },
  {
   "cell_type": "markdown",
   "metadata": {},
   "source": [
    "Тестирование оптимальной модели "
   ]
  },
  {
   "cell_type": "code",
   "execution_count": 33,
   "metadata": {},
   "outputs": [
    {
     "name": "stdout",
     "output_type": "stream",
     "text": [
      "Площадь  ROC  для случайного леса на тестовой выборке = 0.8496316479967706\n",
      "Метрика f1 для случайного леса на тестовой выборке = 0.6062322946175637\n"
     ]
    }
   ],
   "source": [
    "model_forest = RandomForestClassifier(random_state = 12345,class_weight='balanced', n_estimators = 30,max_depth = 11,\n",
    "                               min_samples_leaf = 1,min_samples_split = 2)\n",
    "model_forest.fit(features_train,target_train)\n",
    "predictions = model_forest.predict(features_test)\n",
    "\n",
    "probabilities_test = model_forest.predict_proba(features_test)\n",
    "probabilities_one_test = probabilities_test[:, 1]\n",
    "\n",
    "roc_forest_test = roc_auc_score(target_test, probabilities_one_test)\n",
    "f1_forest_test = f1_score(target_test, predictions)\n",
    "\n",
    "print('Площадь  ROC  для случайного леса на тестовой выборке =',roc_forest_test)\n",
    "print('Метрика f1 для случайного леса на тестовой выборке =',f1_forest_test)"
   ]
  },
  {
   "cell_type": "code",
   "execution_count": 34,
   "metadata": {},
   "outputs": [
    {
     "data": {
      "image/png": "[encoded data removed]",
      "text/plain": [
       "<Figure size 1296x432 with 1 Axes>"
      ]
     },
     "metadata": {
      "needs_background": "light"
     },
     "output_type": "display_data"
    }
   ],
   "source": [
    "fpr, tpr, thresholds = roc_curve(target_test, probabilities_one_test)\n",
    "\n",
    "plt.figure(figsize=(18, 6))\n",
    "plt.grid()\n",
    "\n",
    "plt.plot(fpr, tpr)\n",
    "\n",
    "\n",
    "plt.plot([0, 1], [0, 1], linestyle='--')\n",
    "plt.xlim([0,1])\n",
    "plt.ylim([0,1])\n",
    "\n",
    "plt.xlabel(\"False Positive Rate\")\n",
    "\n",
    "plt.ylabel(\"True Positive Rate\")\n",
    "\n",
    "plt.title(\"ROC-кривая\")\n",
    "plt.show()"
   ]
  },
  {
   "cell_type": "markdown",
   "metadata": {},
   "source": [
    "Вывод:\n",
    "   * Обучена модель классификатора  способная давать метрику качества в соответствии с заданем\n",
    "   * На основнии прогноза по оттоку можно применять меры для удержания клиентов"
   ]
  }
 ],
 "metadata": {
  "ExecuteTimeLog": [
   {
    "duration": 414,
    "start_time": "2022-11-25T00:57:35.496Z"
   },
   {
    "duration": 46,
    "start_time": "2022-11-25T00:57:35.912Z"
   },
   {
    "duration": 80,
    "start_time": "2022-11-25T00:57:45.600Z"
   },
   {
    "duration": 21,
    "start_time": "2022-11-25T00:57:47.721Z"
   },
   {
    "duration": 12,
    "start_time": "2022-11-25T00:58:05.575Z"
   },
   {
    "duration": 59,
    "start_time": "2022-11-25T00:59:44.369Z"
   },
   {
    "duration": 4,
    "start_time": "2022-11-25T00:59:48.875Z"
   },
   {
    "duration": 3,
    "start_time": "2022-11-25T01:00:07.637Z"
   },
   {
    "duration": 5,
    "start_time": "2022-11-25T01:06:31.445Z"
   },
   {
    "duration": 3,
    "start_time": "2022-11-25T01:07:16.326Z"
   },
   {
    "duration": 2,
    "start_time": "2022-11-25T01:07:29.690Z"
   },
   {
    "duration": 44,
    "start_time": "2022-11-25T01:07:29.694Z"
   },
   {
    "duration": 11,
    "start_time": "2022-11-25T01:07:29.740Z"
   },
   {
    "duration": 3,
    "start_time": "2022-11-25T01:07:48.936Z"
   },
   {
    "duration": 18,
    "start_time": "2022-11-25T01:17:30.683Z"
   },
   {
    "duration": 5,
    "start_time": "2022-11-25T01:18:04.896Z"
   },
   {
    "duration": 6,
    "start_time": "2022-11-25T01:18:10.842Z"
   },
   {
    "duration": 4,
    "start_time": "2022-11-25T01:18:16.606Z"
   },
   {
    "duration": 3,
    "start_time": "2022-11-25T01:18:39.087Z"
   },
   {
    "duration": 42,
    "start_time": "2022-11-25T01:18:39.094Z"
   },
   {
    "duration": 13,
    "start_time": "2022-11-25T01:18:39.138Z"
   },
   {
    "duration": 12,
    "start_time": "2022-11-25T01:18:39.152Z"
   },
   {
    "duration": 4,
    "start_time": "2022-11-25T01:18:42.186Z"
   },
   {
    "duration": 4,
    "start_time": "2022-11-25T01:18:42.962Z"
   },
   {
    "duration": 692,
    "start_time": "2022-11-25T01:33:00.483Z"
   },
   {
    "duration": 4,
    "start_time": "2022-11-25T01:33:20.451Z"
   },
   {
    "duration": 472,
    "start_time": "2022-11-25T01:33:42.964Z"
   },
   {
    "duration": 7,
    "start_time": "2022-11-25T01:34:29.900Z"
   },
   {
    "duration": 20,
    "start_time": "2022-11-25T01:34:48.456Z"
   },
   {
    "duration": 9,
    "start_time": "2022-11-25T01:35:11.997Z"
   },
   {
    "duration": 9,
    "start_time": "2022-11-25T01:35:59.905Z"
   },
   {
    "duration": 4,
    "start_time": "2022-11-25T01:36:10.726Z"
   },
   {
    "duration": 16,
    "start_time": "2022-11-25T01:37:05.087Z"
   },
   {
    "duration": 12,
    "start_time": "2022-11-25T01:38:44.913Z"
   },
   {
    "duration": 20,
    "start_time": "2022-11-25T01:38:55.599Z"
   },
   {
    "duration": 521,
    "start_time": "2022-11-25T01:40:16.189Z"
   },
   {
    "duration": 16,
    "start_time": "2022-11-25T01:40:25.649Z"
   },
   {
    "duration": 16485,
    "start_time": "2022-11-25T01:42:46.879Z"
   },
   {
    "duration": 2841,
    "start_time": "2022-11-25T01:46:02.601Z"
   },
   {
    "duration": 2269,
    "start_time": "2022-11-25T01:47:38.473Z"
   },
   {
    "duration": 2789,
    "start_time": "2022-11-25T01:48:47.196Z"
   },
   {
    "duration": 2593,
    "start_time": "2022-11-25T01:49:05.987Z"
   },
   {
    "duration": 22,
    "start_time": "2022-11-25T01:49:19.795Z"
   },
   {
    "duration": 2616,
    "start_time": "2022-11-25T01:49:47.630Z"
   },
   {
    "duration": 3824,
    "start_time": "2022-11-25T01:50:55.946Z"
   },
   {
    "duration": 37,
    "start_time": "2022-11-25T01:52:15.496Z"
   },
   {
    "duration": 118,
    "start_time": "2022-11-25T01:52:39.610Z"
   },
   {
    "duration": 141,
    "start_time": "2022-11-25T01:52:51.511Z"
   },
   {
    "duration": 7,
    "start_time": "2022-11-25T01:53:02.841Z"
   },
   {
    "duration": 143,
    "start_time": "2022-11-25T01:53:15.422Z"
   },
   {
    "duration": 176,
    "start_time": "2022-11-25T01:53:30.193Z"
   },
   {
    "duration": 140,
    "start_time": "2022-11-25T01:53:53.449Z"
   },
   {
    "duration": 157,
    "start_time": "2022-11-25T01:53:56.130Z"
   },
   {
    "duration": 143,
    "start_time": "2022-11-25T01:54:08.809Z"
   },
   {
    "duration": 107,
    "start_time": "2022-11-25T01:55:06.250Z"
   },
   {
    "duration": 102,
    "start_time": "2022-11-25T01:55:28.698Z"
   },
   {
    "duration": 155,
    "start_time": "2022-11-25T01:57:20.672Z"
   },
   {
    "duration": 133,
    "start_time": "2022-11-25T01:57:33.111Z"
   },
   {
    "duration": 131,
    "start_time": "2022-11-25T01:58:24.040Z"
   },
   {
    "duration": 123,
    "start_time": "2022-11-25T01:59:51.552Z"
   },
   {
    "duration": 146,
    "start_time": "2022-11-25T02:00:16.488Z"
   },
   {
    "duration": 49,
    "start_time": "2022-11-25T02:02:03.138Z"
   },
   {
    "duration": 122,
    "start_time": "2022-11-25T02:02:08.033Z"
   },
   {
    "duration": 129,
    "start_time": "2022-11-25T02:02:26.073Z"
   },
   {
    "duration": 16,
    "start_time": "2022-11-25T02:03:29.448Z"
   },
   {
    "duration": 11,
    "start_time": "2022-11-25T02:03:38.389Z"
   },
   {
    "duration": 4,
    "start_time": "2022-11-25T02:04:38.807Z"
   },
   {
    "duration": 5,
    "start_time": "2022-11-25T02:06:32.753Z"
   },
   {
    "duration": 130,
    "start_time": "2022-11-25T02:07:39.367Z"
   },
   {
    "duration": 148,
    "start_time": "2022-11-25T02:07:49.975Z"
   },
   {
    "duration": 141,
    "start_time": "2022-11-25T02:07:54.493Z"
   },
   {
    "duration": 44,
    "start_time": "2022-11-25T02:08:44.945Z"
   },
   {
    "duration": 123,
    "start_time": "2022-11-25T02:08:53.105Z"
   },
   {
    "duration": 120,
    "start_time": "2022-11-25T02:09:07.885Z"
   },
   {
    "duration": 137,
    "start_time": "2022-11-25T02:10:06.092Z"
   },
   {
    "duration": 134,
    "start_time": "2022-11-25T02:10:23.234Z"
   },
   {
    "duration": 100,
    "start_time": "2022-11-25T02:12:10.595Z"
   },
   {
    "duration": 118,
    "start_time": "2022-11-25T02:12:22.715Z"
   },
   {
    "duration": 2670,
    "start_time": "2022-11-25T02:12:51.357Z"
   },
   {
    "duration": 1973,
    "start_time": "2022-11-25T02:13:22.787Z"
   },
   {
    "duration": 1508,
    "start_time": "2022-11-25T02:13:58.862Z"
   },
   {
    "duration": 1524,
    "start_time": "2022-11-25T05:08:01.478Z"
   },
   {
    "duration": 420,
    "start_time": "2022-11-25T05:08:03.004Z"
   },
   {
    "duration": 31,
    "start_time": "2022-11-25T05:08:03.426Z"
   },
   {
    "duration": 20,
    "start_time": "2022-11-25T05:08:03.460Z"
   },
   {
    "duration": 7,
    "start_time": "2022-11-25T05:08:03.482Z"
   },
   {
    "duration": 11,
    "start_time": "2022-11-25T05:08:03.491Z"
   },
   {
    "duration": 6,
    "start_time": "2022-11-25T05:08:03.504Z"
   },
   {
    "duration": 5,
    "start_time": "2022-11-25T05:08:23.007Z"
   },
   {
    "duration": 10,
    "start_time": "2022-11-25T05:08:24.251Z"
   },
   {
    "duration": 13,
    "start_time": "2022-11-25T05:09:50.676Z"
   },
   {
    "duration": 15,
    "start_time": "2022-11-25T05:11:38.736Z"
   },
   {
    "duration": 111,
    "start_time": "2022-11-25T05:20:33.854Z"
   },
   {
    "duration": 3,
    "start_time": "2022-11-25T05:20:41.493Z"
   },
   {
    "duration": 55,
    "start_time": "2022-11-25T05:20:41.498Z"
   },
   {
    "duration": 12,
    "start_time": "2022-11-25T05:20:41.584Z"
   },
   {
    "duration": 13,
    "start_time": "2022-11-25T05:20:41.598Z"
   },
   {
    "duration": 5,
    "start_time": "2022-11-25T05:20:45.462Z"
   },
   {
    "duration": 5,
    "start_time": "2022-11-25T05:20:50.926Z"
   },
   {
    "duration": 4,
    "start_time": "2022-11-25T05:20:51.483Z"
   },
   {
    "duration": 343,
    "start_time": "2022-11-25T06:00:06.409Z"
   },
   {
    "duration": 44,
    "start_time": "2022-11-25T06:00:06.755Z"
   },
   {
    "duration": 13,
    "start_time": "2022-11-25T06:00:06.801Z"
   },
   {
    "duration": 17,
    "start_time": "2022-11-25T06:00:06.815Z"
   },
   {
    "duration": 5,
    "start_time": "2022-11-25T06:00:06.834Z"
   },
   {
    "duration": 18,
    "start_time": "2022-11-25T06:00:06.841Z"
   },
   {
    "duration": 7,
    "start_time": "2022-11-25T06:00:06.860Z"
   },
   {
    "duration": 126,
    "start_time": "2022-11-25T06:00:06.869Z"
   },
   {
    "duration": 5,
    "start_time": "2022-11-25T06:00:06.997Z"
   },
   {
    "duration": 168,
    "start_time": "2022-11-25T06:00:07.004Z"
   },
   {
    "duration": 156,
    "start_time": "2022-11-25T06:00:07.174Z"
   },
   {
    "duration": 129,
    "start_time": "2022-11-25T06:00:07.331Z"
   },
   {
    "duration": 210,
    "start_time": "2022-11-25T06:00:07.462Z"
   },
   {
    "duration": 150,
    "start_time": "2022-11-25T06:00:07.675Z"
   },
   {
    "duration": 156,
    "start_time": "2022-11-25T06:00:07.827Z"
   },
   {
    "duration": 146,
    "start_time": "2022-11-25T06:00:07.985Z"
   },
   {
    "duration": 146,
    "start_time": "2022-11-25T06:00:08.138Z"
   },
   {
    "duration": 136,
    "start_time": "2022-11-25T06:00:08.285Z"
   },
   {
    "duration": 146,
    "start_time": "2022-11-25T06:00:08.423Z"
   },
   {
    "duration": 146,
    "start_time": "2022-11-25T06:00:08.571Z"
   },
   {
    "duration": 174,
    "start_time": "2022-11-25T06:00:08.718Z"
   },
   {
    "duration": 172,
    "start_time": "2022-11-25T06:00:08.895Z"
   },
   {
    "duration": 162,
    "start_time": "2022-11-25T06:00:09.069Z"
   },
   {
    "duration": 134,
    "start_time": "2022-11-25T06:00:09.245Z"
   },
   {
    "duration": 154,
    "start_time": "2022-11-25T06:00:09.381Z"
   },
   {
    "duration": 215,
    "start_time": "2022-11-25T06:00:09.537Z"
   },
   {
    "duration": 131,
    "start_time": "2022-11-25T06:00:09.754Z"
   },
   {
    "duration": 124,
    "start_time": "2022-11-25T06:00:09.887Z"
   },
   {
    "duration": 27,
    "start_time": "2022-11-25T06:00:10.013Z"
   },
   {
    "duration": 13,
    "start_time": "2022-11-25T06:00:10.042Z"
   },
   {
    "duration": 9,
    "start_time": "2022-11-25T06:00:10.056Z"
   },
   {
    "duration": 27,
    "start_time": "2022-11-25T06:00:13.987Z"
   },
   {
    "duration": 24,
    "start_time": "2022-11-25T06:00:28.889Z"
   },
   {
    "duration": 4,
    "start_time": "2022-11-25T06:02:03.745Z"
   },
   {
    "duration": 42,
    "start_time": "2022-11-25T06:02:03.754Z"
   },
   {
    "duration": 14,
    "start_time": "2022-11-25T06:02:03.798Z"
   },
   {
    "duration": 18,
    "start_time": "2022-11-25T06:02:03.814Z"
   },
   {
    "duration": 5,
    "start_time": "2022-11-25T06:02:03.835Z"
   },
   {
    "duration": 27,
    "start_time": "2022-11-25T06:02:03.844Z"
   },
   {
    "duration": 7,
    "start_time": "2022-11-25T06:02:03.873Z"
   },
   {
    "duration": 3,
    "start_time": "2022-11-25T06:02:12.351Z"
   },
   {
    "duration": 42,
    "start_time": "2022-11-25T06:02:12.355Z"
   },
   {
    "duration": 12,
    "start_time": "2022-11-25T06:02:12.399Z"
   },
   {
    "duration": 13,
    "start_time": "2022-11-25T06:02:12.413Z"
   },
   {
    "duration": 3,
    "start_time": "2022-11-25T06:02:12.428Z"
   },
   {
    "duration": 22,
    "start_time": "2022-11-25T06:02:12.433Z"
   },
   {
    "duration": 5,
    "start_time": "2022-11-25T06:02:21.089Z"
   },
   {
    "duration": 4,
    "start_time": "2022-11-25T06:02:22.608Z"
   },
   {
    "duration": 106,
    "start_time": "2022-11-25T06:02:28.691Z"
   },
   {
    "duration": 110,
    "start_time": "2022-11-25T06:02:43.080Z"
   },
   {
    "duration": 15,
    "start_time": "2022-11-25T06:02:47.527Z"
   },
   {
    "duration": 21,
    "start_time": "2022-11-25T06:03:11.287Z"
   },
   {
    "duration": 5,
    "start_time": "2022-11-25T06:03:17.816Z"
   },
   {
    "duration": 10,
    "start_time": "2022-11-25T06:03:20.068Z"
   },
   {
    "duration": 20,
    "start_time": "2022-11-25T06:03:26.298Z"
   },
   {
    "duration": 13,
    "start_time": "2022-11-25T06:04:40.809Z"
   },
   {
    "duration": 6,
    "start_time": "2022-11-25T06:05:17.908Z"
   },
   {
    "duration": 9,
    "start_time": "2022-11-25T06:05:23.412Z"
   },
   {
    "duration": 8,
    "start_time": "2022-11-25T06:05:51.151Z"
   },
   {
    "duration": 29,
    "start_time": "2022-11-25T06:06:07.821Z"
   },
   {
    "duration": 17,
    "start_time": "2022-11-25T06:06:37.169Z"
   },
   {
    "duration": 16,
    "start_time": "2022-11-25T06:06:52.998Z"
   },
   {
    "duration": 30,
    "start_time": "2022-11-25T06:07:23.928Z"
   },
   {
    "duration": 10,
    "start_time": "2022-11-25T06:07:37.768Z"
   },
   {
    "duration": 7,
    "start_time": "2022-11-25T06:07:57.741Z"
   },
   {
    "duration": 9,
    "start_time": "2022-11-25T06:09:18.808Z"
   },
   {
    "duration": 21,
    "start_time": "2022-11-25T06:09:36.680Z"
   },
   {
    "duration": 43,
    "start_time": "2022-11-25T06:09:45.829Z"
   },
   {
    "duration": 12,
    "start_time": "2022-11-25T06:27:56.143Z"
   },
   {
    "duration": 14,
    "start_time": "2022-11-25T06:28:04.327Z"
   },
   {
    "duration": 6,
    "start_time": "2022-11-25T06:28:16.643Z"
   },
   {
    "duration": 8,
    "start_time": "2022-11-25T06:28:23.044Z"
   },
   {
    "duration": 20,
    "start_time": "2022-11-25T06:35:15.450Z"
   },
   {
    "duration": 16,
    "start_time": "2022-11-25T06:35:19.052Z"
   },
   {
    "duration": 3,
    "start_time": "2022-11-25T06:35:24.205Z"
   },
   {
    "duration": 55,
    "start_time": "2022-11-25T06:35:24.210Z"
   },
   {
    "duration": 13,
    "start_time": "2022-11-25T06:35:24.266Z"
   },
   {
    "duration": 16,
    "start_time": "2022-11-25T06:35:24.281Z"
   },
   {
    "duration": 7,
    "start_time": "2022-11-25T06:35:24.299Z"
   },
   {
    "duration": 7,
    "start_time": "2022-11-25T06:35:24.307Z"
   },
   {
    "duration": 6,
    "start_time": "2022-11-25T06:35:24.316Z"
   },
   {
    "duration": 26,
    "start_time": "2022-11-25T06:35:24.323Z"
   },
   {
    "duration": 5,
    "start_time": "2022-11-25T06:35:24.351Z"
   },
   {
    "duration": 181,
    "start_time": "2022-11-25T06:35:24.359Z"
   },
   {
    "duration": 161,
    "start_time": "2022-11-25T06:35:24.542Z"
   },
   {
    "duration": 111,
    "start_time": "2022-11-25T06:35:24.704Z"
   },
   {
    "duration": 133,
    "start_time": "2022-11-25T06:35:24.817Z"
   },
   {
    "duration": 149,
    "start_time": "2022-11-25T06:35:24.952Z"
   },
   {
    "duration": 139,
    "start_time": "2022-11-25T06:35:25.103Z"
   },
   {
    "duration": 133,
    "start_time": "2022-11-25T06:35:25.244Z"
   },
   {
    "duration": 147,
    "start_time": "2022-11-25T06:35:25.380Z"
   },
   {
    "duration": 146,
    "start_time": "2022-11-25T06:35:25.529Z"
   },
   {
    "duration": 152,
    "start_time": "2022-11-25T06:35:25.677Z"
   },
   {
    "duration": 148,
    "start_time": "2022-11-25T06:35:25.831Z"
   },
   {
    "duration": 132,
    "start_time": "2022-11-25T06:35:25.981Z"
   },
   {
    "duration": 237,
    "start_time": "2022-11-25T06:35:26.115Z"
   },
   {
    "duration": 133,
    "start_time": "2022-11-25T06:35:26.354Z"
   },
   {
    "duration": 170,
    "start_time": "2022-11-25T06:35:26.489Z"
   },
   {
    "duration": 152,
    "start_time": "2022-11-25T06:35:26.660Z"
   },
   {
    "duration": 110,
    "start_time": "2022-11-25T06:35:26.814Z"
   },
   {
    "duration": 125,
    "start_time": "2022-11-25T06:35:26.926Z"
   },
   {
    "duration": 132,
    "start_time": "2022-11-25T06:35:27.052Z"
   },
   {
    "duration": 18,
    "start_time": "2022-11-25T06:35:27.186Z"
   },
   {
    "duration": 7,
    "start_time": "2022-11-25T06:35:27.206Z"
   },
   {
    "duration": 57,
    "start_time": "2022-11-25T06:35:27.216Z"
   },
   {
    "duration": 7,
    "start_time": "2022-11-25T06:35:27.275Z"
   },
   {
    "duration": 19,
    "start_time": "2022-11-25T06:35:27.284Z"
   },
   {
    "duration": 32,
    "start_time": "2022-11-25T06:35:48.812Z"
   },
   {
    "duration": 3,
    "start_time": "2022-11-25T06:35:50.212Z"
   },
   {
    "duration": 10,
    "start_time": "2022-11-25T06:35:53.084Z"
   },
   {
    "duration": 18,
    "start_time": "2022-11-25T06:35:54.002Z"
   },
   {
    "duration": 6,
    "start_time": "2022-11-25T06:35:57.481Z"
   },
   {
    "duration": 7,
    "start_time": "2022-11-25T06:35:58.765Z"
   },
   {
    "duration": 10,
    "start_time": "2022-11-25T06:35:59.722Z"
   },
   {
    "duration": 667,
    "start_time": "2022-11-25T06:36:01.621Z"
   },
   {
    "duration": 3,
    "start_time": "2022-11-25T06:36:43.162Z"
   },
   {
    "duration": 642,
    "start_time": "2022-11-25T06:37:13.099Z"
   },
   {
    "duration": 697,
    "start_time": "2022-11-25T06:37:54.058Z"
   },
   {
    "duration": 784,
    "start_time": "2022-11-25T06:38:06.133Z"
   },
   {
    "duration": 853,
    "start_time": "2022-11-25T06:38:38.838Z"
   },
   {
    "duration": 3,
    "start_time": "2022-11-25T06:42:34.768Z"
   },
   {
    "duration": 471,
    "start_time": "2022-11-25T06:43:19.872Z"
   },
   {
    "duration": 4,
    "start_time": "2022-11-25T06:46:03.705Z"
   },
   {
    "duration": 35,
    "start_time": "2022-11-25T06:46:09.395Z"
   },
   {
    "duration": 35,
    "start_time": "2022-11-25T07:05:24.966Z"
   },
   {
    "duration": 628,
    "start_time": "2022-11-25T07:05:34.023Z"
   },
   {
    "duration": 280,
    "start_time": "2022-11-25T07:07:04.082Z"
   },
   {
    "duration": 32,
    "start_time": "2022-11-25T07:07:07.298Z"
   },
   {
    "duration": 17,
    "start_time": "2022-11-25T07:19:24.829Z"
   },
   {
    "duration": 19,
    "start_time": "2022-11-25T07:19:46.619Z"
   },
   {
    "duration": 39855,
    "start_time": "2022-11-25T07:20:22.616Z"
   },
   {
    "duration": 120,
    "start_time": "2022-11-25T07:23:27.568Z"
   },
   {
    "duration": 73,
    "start_time": "2022-11-25T07:24:30.326Z"
   },
   {
    "duration": 76,
    "start_time": "2022-11-25T07:24:53.066Z"
   },
   {
    "duration": 192,
    "start_time": "2022-11-25T07:27:03.950Z"
   },
   {
    "duration": 1392,
    "start_time": "2022-11-25T07:27:36.474Z"
   },
   {
    "duration": 2756,
    "start_time": "2022-11-25T07:27:44.553Z"
   },
   {
    "duration": 182,
    "start_time": "2022-11-25T07:27:55.339Z"
   },
   {
    "duration": 1018,
    "start_time": "2022-11-25T07:28:17.556Z"
   },
   {
    "duration": 1004,
    "start_time": "2022-11-25T07:28:32.845Z"
   },
   {
    "duration": 1015,
    "start_time": "2022-11-25T07:28:40.598Z"
   },
   {
    "duration": 973,
    "start_time": "2022-11-25T07:28:48.356Z"
   },
   {
    "duration": 604,
    "start_time": "2022-11-25T07:29:02.077Z"
   },
   {
    "duration": 601,
    "start_time": "2022-11-25T07:29:09.394Z"
   },
   {
    "duration": 402,
    "start_time": "2022-11-25T07:29:15.306Z"
   },
   {
    "duration": 577,
    "start_time": "2022-11-25T07:29:22.867Z"
   },
   {
    "duration": 639,
    "start_time": "2022-11-25T07:29:28.387Z"
   },
   {
    "duration": 604,
    "start_time": "2022-11-25T07:29:36.611Z"
   },
   {
    "duration": 624,
    "start_time": "2022-11-25T07:29:46.114Z"
   },
   {
    "duration": 1558,
    "start_time": "2022-11-28T02:48:58.189Z"
   },
   {
    "duration": 162,
    "start_time": "2022-11-28T02:48:59.749Z"
   },
   {
    "duration": 16,
    "start_time": "2022-11-28T02:48:59.913Z"
   },
   {
    "duration": 14,
    "start_time": "2022-11-28T02:48:59.930Z"
   },
   {
    "duration": 4,
    "start_time": "2022-11-28T02:48:59.946Z"
   },
   {
    "duration": 7,
    "start_time": "2022-11-28T02:48:59.951Z"
   },
   {
    "duration": 3,
    "start_time": "2022-11-28T02:48:59.960Z"
   },
   {
    "duration": 14,
    "start_time": "2022-11-28T02:48:59.965Z"
   },
   {
    "duration": 4,
    "start_time": "2022-11-28T02:48:59.981Z"
   },
   {
    "duration": 57,
    "start_time": "2022-11-28T02:48:59.987Z"
   },
   {
    "duration": 6,
    "start_time": "2022-11-28T02:49:00.046Z"
   },
   {
    "duration": 39,
    "start_time": "2022-11-28T02:49:00.054Z"
   },
   {
    "duration": 7,
    "start_time": "2022-11-28T02:49:00.095Z"
   },
   {
    "duration": 33,
    "start_time": "2022-11-28T02:49:00.105Z"
   },
   {
    "duration": 11,
    "start_time": "2022-11-28T02:49:00.140Z"
   },
   {
    "duration": 21,
    "start_time": "2022-11-28T02:49:00.153Z"
   },
   {
    "duration": 7,
    "start_time": "2022-11-28T02:49:00.176Z"
   },
   {
    "duration": 23,
    "start_time": "2022-11-28T02:49:00.185Z"
   },
   {
    "duration": 4,
    "start_time": "2022-11-28T02:49:00.210Z"
   },
   {
    "duration": 3,
    "start_time": "2022-11-28T02:49:10.707Z"
   },
   {
    "duration": 112,
    "start_time": "2022-11-28T02:49:18.506Z"
   },
   {
    "duration": 11,
    "start_time": "2022-11-28T02:50:11.090Z"
   },
   {
    "duration": 632,
    "start_time": "2022-11-28T02:50:29.165Z"
   },
   {
    "duration": 11,
    "start_time": "2022-11-28T02:50:40.824Z"
   },
   {
    "duration": 426163,
    "start_time": "2022-11-28T02:51:08.128Z"
   },
   {
    "duration": 9,
    "start_time": "2022-11-28T03:00:41.617Z"
   },
   {
    "duration": 5,
    "start_time": "2022-11-28T03:00:49.735Z"
   },
   {
    "duration": 24,
    "start_time": "2022-11-28T03:01:09.054Z"
   },
   {
    "duration": 26,
    "start_time": "2022-11-28T03:01:34.636Z"
   },
   {
    "duration": 562,
    "start_time": "2022-11-28T03:03:17.577Z"
   },
   {
    "duration": 539,
    "start_time": "2022-11-28T03:03:31.953Z"
   },
   {
    "duration": 565,
    "start_time": "2022-11-28T03:03:43.380Z"
   },
   {
    "duration": 65,
    "start_time": "2022-11-28T03:13:11.196Z"
   },
   {
    "duration": 266,
    "start_time": "2022-11-28T03:13:21.097Z"
   },
   {
    "duration": 42,
    "start_time": "2022-11-28T03:14:53.307Z"
   },
   {
    "duration": 31,
    "start_time": "2022-11-28T03:15:03.907Z"
   },
   {
    "duration": 33,
    "start_time": "2022-11-28T03:15:15.046Z"
   },
   {
    "duration": 32,
    "start_time": "2022-11-28T03:15:20.267Z"
   },
   {
    "duration": 33,
    "start_time": "2022-11-28T03:15:25.516Z"
   },
   {
    "duration": 31,
    "start_time": "2022-11-28T03:15:40.347Z"
   },
   {
    "duration": 31,
    "start_time": "2022-11-28T03:15:45.653Z"
   },
   {
    "duration": 32,
    "start_time": "2022-11-28T03:15:58.354Z"
   },
   {
    "duration": 9,
    "start_time": "2022-11-28T03:24:22.823Z"
   },
   {
    "duration": 4,
    "start_time": "2022-11-28T03:24:25.667Z"
   },
   {
    "duration": 18,
    "start_time": "2022-11-28T03:24:26.931Z"
   },
   {
    "duration": 3,
    "start_time": "2022-11-28T03:24:54.235Z"
   },
   {
    "duration": 4,
    "start_time": "2022-11-28T03:25:23.026Z"
   },
   {
    "duration": 11,
    "start_time": "2022-11-28T03:25:23.645Z"
   },
   {
    "duration": 36,
    "start_time": "2022-11-28T03:27:25.547Z"
   },
   {
    "duration": 9,
    "start_time": "2022-11-28T03:30:27.335Z"
   },
   {
    "duration": 255,
    "start_time": "2022-11-28T03:30:59.288Z"
   },
   {
    "duration": 350,
    "start_time": "2022-11-28T03:31:04.946Z"
   },
   {
    "duration": 9,
    "start_time": "2022-11-28T03:31:10.225Z"
   },
   {
    "duration": 25,
    "start_time": "2022-11-28T03:31:19.823Z"
   },
   {
    "duration": 5,
    "start_time": "2022-11-28T03:31:23.373Z"
   },
   {
    "duration": 4,
    "start_time": "2022-11-28T03:37:15.536Z"
   },
   {
    "duration": 9,
    "start_time": "2022-11-28T03:37:24.656Z"
   },
   {
    "duration": 12,
    "start_time": "2022-11-28T03:37:50.546Z"
   },
   {
    "duration": 9,
    "start_time": "2022-11-28T03:38:05.973Z"
   },
   {
    "duration": 158,
    "start_time": "2022-11-28T03:38:49.467Z"
   },
   {
    "duration": 6,
    "start_time": "2022-11-28T03:38:51.018Z"
   },
   {
    "duration": 5,
    "start_time": "2022-11-28T03:40:08.464Z"
   },
   {
    "duration": 364,
    "start_time": "2022-11-28T03:41:03.485Z"
   },
   {
    "duration": 25,
    "start_time": "2022-11-28T03:41:05.505Z"
   },
   {
    "duration": 6,
    "start_time": "2022-11-28T03:41:06.225Z"
   },
   {
    "duration": 12,
    "start_time": "2022-11-28T03:45:24.143Z"
   },
   {
    "duration": 5,
    "start_time": "2022-11-28T03:45:27.986Z"
   },
   {
    "duration": 8,
    "start_time": "2022-11-28T03:45:29.159Z"
   },
   {
    "duration": 24,
    "start_time": "2022-11-28T03:46:07.512Z"
   },
   {
    "duration": 6,
    "start_time": "2022-11-28T03:46:24.303Z"
   },
   {
    "duration": 5,
    "start_time": "2022-11-28T03:54:15.231Z"
   },
   {
    "duration": 447,
    "start_time": "2022-11-28T03:54:53.865Z"
   },
   {
    "duration": 26,
    "start_time": "2022-11-28T03:54:58.425Z"
   },
   {
    "duration": 6,
    "start_time": "2022-11-28T03:55:03.054Z"
   },
   {
    "duration": 3,
    "start_time": "2022-11-29T01:53:07.623Z"
   },
   {
    "duration": 4,
    "start_time": "2022-11-29T02:41:06.751Z"
   },
   {
    "duration": 44,
    "start_time": "2022-11-29T02:41:06.756Z"
   },
   {
    "duration": 12,
    "start_time": "2022-11-29T02:41:06.801Z"
   },
   {
    "duration": 13,
    "start_time": "2022-11-29T02:41:06.815Z"
   },
   {
    "duration": 4,
    "start_time": "2022-11-29T02:41:06.830Z"
   },
   {
    "duration": 6,
    "start_time": "2022-11-29T02:41:06.835Z"
   },
   {
    "duration": 5,
    "start_time": "2022-11-29T02:41:06.843Z"
   },
   {
    "duration": 12,
    "start_time": "2022-11-29T02:41:06.849Z"
   },
   {
    "duration": 5,
    "start_time": "2022-11-29T02:41:06.862Z"
   },
   {
    "duration": 15,
    "start_time": "2022-11-29T02:41:06.868Z"
   },
   {
    "duration": 5,
    "start_time": "2022-11-29T02:41:06.885Z"
   },
   {
    "duration": 72,
    "start_time": "2022-11-29T02:41:06.891Z"
   },
   {
    "duration": 6,
    "start_time": "2022-11-29T02:41:06.964Z"
   },
   {
    "duration": 4,
    "start_time": "2022-11-29T02:41:06.974Z"
   },
   {
    "duration": 10,
    "start_time": "2022-11-29T02:41:06.980Z"
   },
   {
    "duration": 16,
    "start_time": "2022-11-29T02:41:06.992Z"
   },
   {
    "duration": 17,
    "start_time": "2022-11-29T02:41:07.038Z"
   },
   {
    "duration": 7,
    "start_time": "2022-11-29T02:41:07.056Z"
   },
   {
    "duration": 7,
    "start_time": "2022-11-29T02:41:07.065Z"
   },
   {
    "duration": 5,
    "start_time": "2022-11-29T02:41:07.073Z"
   },
   {
    "duration": 8,
    "start_time": "2022-11-29T02:41:07.079Z"
   },
   {
    "duration": 258,
    "start_time": "2022-11-29T02:41:07.089Z"
   },
   {
    "duration": 8,
    "start_time": "2022-11-29T02:41:07.349Z"
   },
   {
    "duration": 0,
    "start_time": "2022-11-29T02:41:07.359Z"
   },
   {
    "duration": 0,
    "start_time": "2022-11-29T02:41:07.360Z"
   },
   {
    "duration": 0,
    "start_time": "2022-11-29T02:41:07.361Z"
   },
   {
    "duration": 0,
    "start_time": "2022-11-29T02:41:07.362Z"
   },
   {
    "duration": 0,
    "start_time": "2022-11-29T02:41:07.362Z"
   },
   {
    "duration": 0,
    "start_time": "2022-11-29T02:41:07.363Z"
   },
   {
    "duration": 0,
    "start_time": "2022-11-29T02:41:07.364Z"
   },
   {
    "duration": 0,
    "start_time": "2022-11-29T02:41:07.365Z"
   },
   {
    "duration": 0,
    "start_time": "2022-11-29T02:41:07.366Z"
   },
   {
    "duration": 0,
    "start_time": "2022-11-29T02:41:07.367Z"
   },
   {
    "duration": 0,
    "start_time": "2022-11-29T02:41:07.368Z"
   },
   {
    "duration": 0,
    "start_time": "2022-11-29T02:41:07.369Z"
   },
   {
    "duration": 0,
    "start_time": "2022-11-29T02:41:07.370Z"
   },
   {
    "duration": 0,
    "start_time": "2022-11-29T02:41:07.371Z"
   },
   {
    "duration": 0,
    "start_time": "2022-11-29T02:41:07.372Z"
   },
   {
    "duration": 0,
    "start_time": "2022-11-29T02:41:07.373Z"
   },
   {
    "duration": 4,
    "start_time": "2022-11-29T02:42:05.730Z"
   },
   {
    "duration": 40,
    "start_time": "2022-11-29T02:42:05.740Z"
   },
   {
    "duration": 12,
    "start_time": "2022-11-29T02:42:05.782Z"
   },
   {
    "duration": 13,
    "start_time": "2022-11-29T02:42:05.796Z"
   },
   {
    "duration": 4,
    "start_time": "2022-11-29T02:42:05.811Z"
   },
   {
    "duration": 20,
    "start_time": "2022-11-29T02:42:05.817Z"
   },
   {
    "duration": 5,
    "start_time": "2022-11-29T02:42:05.839Z"
   },
   {
    "duration": 22,
    "start_time": "2022-11-29T02:42:05.846Z"
   },
   {
    "duration": 4,
    "start_time": "2022-11-29T02:42:05.870Z"
   },
   {
    "duration": 17,
    "start_time": "2022-11-29T02:42:05.876Z"
   },
   {
    "duration": 43,
    "start_time": "2022-11-29T02:42:05.894Z"
   },
   {
    "duration": 38,
    "start_time": "2022-11-29T02:42:05.939Z"
   },
   {
    "duration": 9,
    "start_time": "2022-11-29T02:42:05.979Z"
   },
   {
    "duration": 11,
    "start_time": "2022-11-29T02:42:05.990Z"
   },
   {
    "duration": 36,
    "start_time": "2022-11-29T02:42:06.005Z"
   },
   {
    "duration": 19,
    "start_time": "2022-11-29T02:42:06.042Z"
   },
   {
    "duration": 18,
    "start_time": "2022-11-29T02:42:06.063Z"
   },
   {
    "duration": 6,
    "start_time": "2022-11-29T02:42:06.083Z"
   },
   {
    "duration": 8,
    "start_time": "2022-11-29T02:42:06.090Z"
   },
   {
    "duration": 4,
    "start_time": "2022-11-29T02:42:06.137Z"
   },
   {
    "duration": 4,
    "start_time": "2022-11-29T02:42:06.143Z"
   },
   {
    "duration": 244,
    "start_time": "2022-11-29T02:42:06.149Z"
   },
   {
    "duration": 3,
    "start_time": "2022-11-29T02:42:06.395Z"
   },
   {
    "duration": 39,
    "start_time": "2022-11-29T02:42:06.399Z"
   },
   {
    "duration": 2,
    "start_time": "2022-11-29T02:42:06.440Z"
   },
   {
    "duration": 268,
    "start_time": "2022-11-29T02:42:06.444Z"
   },
   {
    "duration": 258,
    "start_time": "2022-11-29T02:42:06.714Z"
   },
   {
    "duration": 98,
    "start_time": "2022-11-29T02:42:06.973Z"
   },
   {
    "duration": 265,
    "start_time": "2022-11-29T02:42:07.073Z"
   },
   {
    "duration": 100,
    "start_time": "2022-11-29T02:42:07.339Z"
   },
   {
    "duration": 122,
    "start_time": "2022-11-29T02:42:07.442Z"
   },
   {
    "duration": 3,
    "start_time": "2022-11-29T02:42:07.566Z"
   },
   {
    "duration": 34,
    "start_time": "2022-11-29T02:42:07.571Z"
   },
   {
    "duration": 42,
    "start_time": "2022-11-29T02:42:07.606Z"
   },
   {
    "duration": 6,
    "start_time": "2022-11-29T02:42:07.650Z"
   },
   {
    "duration": 25,
    "start_time": "2022-11-29T02:42:07.657Z"
   },
   {
    "duration": 26,
    "start_time": "2022-11-29T02:42:07.683Z"
   },
   {
    "duration": 52,
    "start_time": "2022-11-29T02:42:07.710Z"
   },
   {
    "duration": 12,
    "start_time": "2022-11-29T02:42:07.764Z"
   },
   {
    "duration": 26,
    "start_time": "2022-11-29T02:42:07.777Z"
   },
   {
    "duration": 29,
    "start_time": "2022-11-29T02:42:07.804Z"
   },
   {
    "duration": 58,
    "start_time": "2022-11-29T02:42:07.836Z"
   },
   {
    "duration": 5,
    "start_time": "2022-11-29T02:42:07.896Z"
   },
   {
    "duration": 6,
    "start_time": "2022-11-29T02:42:16.250Z"
   },
   {
    "duration": 18,
    "start_time": "2022-11-29T02:42:47.087Z"
   },
   {
    "duration": 11,
    "start_time": "2022-11-29T02:47:38.602Z"
   },
   {
    "duration": 3,
    "start_time": "2022-11-29T02:48:11.362Z"
   },
   {
    "duration": 42,
    "start_time": "2022-11-29T02:48:11.367Z"
   },
   {
    "duration": 12,
    "start_time": "2022-11-29T02:48:11.410Z"
   },
   {
    "duration": 13,
    "start_time": "2022-11-29T02:48:11.423Z"
   },
   {
    "duration": 4,
    "start_time": "2022-11-29T02:48:11.438Z"
   },
   {
    "duration": 7,
    "start_time": "2022-11-29T02:48:11.443Z"
   },
   {
    "duration": 4,
    "start_time": "2022-11-29T02:48:11.452Z"
   },
   {
    "duration": 14,
    "start_time": "2022-11-29T02:48:11.457Z"
   },
   {
    "duration": 5,
    "start_time": "2022-11-29T02:48:11.472Z"
   },
   {
    "duration": 17,
    "start_time": "2022-11-29T02:48:11.478Z"
   },
   {
    "duration": 42,
    "start_time": "2022-11-29T02:48:11.497Z"
   },
   {
    "duration": 37,
    "start_time": "2022-11-29T02:48:11.541Z"
   },
   {
    "duration": 8,
    "start_time": "2022-11-29T02:48:11.581Z"
   },
   {
    "duration": 10,
    "start_time": "2022-11-29T02:48:11.591Z"
   },
   {
    "duration": 10,
    "start_time": "2022-11-29T02:48:11.638Z"
   },
   {
    "duration": 33,
    "start_time": "2022-11-29T02:48:11.649Z"
   },
   {
    "duration": 26,
    "start_time": "2022-11-29T02:48:11.683Z"
   },
   {
    "duration": 28,
    "start_time": "2022-11-29T02:48:11.711Z"
   },
   {
    "duration": 11,
    "start_time": "2022-11-29T02:48:11.740Z"
   },
   {
    "duration": 4,
    "start_time": "2022-11-29T02:48:11.753Z"
   },
   {
    "duration": 9,
    "start_time": "2022-11-29T02:48:11.759Z"
   },
   {
    "duration": 251,
    "start_time": "2022-11-29T02:48:11.770Z"
   },
   {
    "duration": 2,
    "start_time": "2022-11-29T02:48:12.022Z"
   },
   {
    "duration": 27,
    "start_time": "2022-11-29T02:48:12.037Z"
   },
   {
    "duration": 3,
    "start_time": "2022-11-29T02:48:12.065Z"
   },
   {
    "duration": 274,
    "start_time": "2022-11-29T02:48:12.069Z"
   },
   {
    "duration": 266,
    "start_time": "2022-11-29T02:48:12.344Z"
   },
   {
    "duration": 87,
    "start_time": "2022-11-29T02:48:12.612Z"
   },
   {
    "duration": 264,
    "start_time": "2022-11-29T02:48:12.700Z"
   },
   {
    "duration": 173,
    "start_time": "2022-11-29T02:48:12.965Z"
   },
   {
    "duration": 32,
    "start_time": "2022-11-29T02:48:13.139Z"
   },
   {
    "duration": 5,
    "start_time": "2022-11-29T02:48:13.172Z"
   },
   {
    "duration": 12,
    "start_time": "2022-11-29T02:48:13.178Z"
   },
   {
    "duration": 68,
    "start_time": "2022-11-29T02:48:13.191Z"
   },
   {
    "duration": 4,
    "start_time": "2022-11-29T02:48:13.261Z"
   },
   {
    "duration": 8,
    "start_time": "2022-11-29T02:48:13.266Z"
   },
   {
    "duration": 4,
    "start_time": "2022-11-29T02:48:13.278Z"
   },
   {
    "duration": 26,
    "start_time": "2022-11-29T02:48:13.283Z"
   },
   {
    "duration": 28,
    "start_time": "2022-11-29T02:48:13.310Z"
   },
   {
    "duration": 3,
    "start_time": "2022-11-29T02:48:13.340Z"
   },
   {
    "duration": 7,
    "start_time": "2022-11-29T02:48:13.344Z"
   },
   {
    "duration": 48,
    "start_time": "2022-11-29T02:48:13.352Z"
   },
   {
    "duration": 5,
    "start_time": "2022-11-29T02:48:13.401Z"
   },
   {
    "duration": 33,
    "start_time": "2022-11-29T02:48:13.408Z"
   },
   {
    "duration": 6,
    "start_time": "2022-11-29T02:48:16.211Z"
   },
   {
    "duration": 5,
    "start_time": "2022-11-29T02:48:17.512Z"
   },
   {
    "duration": 6,
    "start_time": "2022-11-29T02:48:19.242Z"
   },
   {
    "duration": 6,
    "start_time": "2022-11-29T02:48:34.791Z"
   },
   {
    "duration": 6,
    "start_time": "2022-11-29T02:48:57.321Z"
   },
   {
    "duration": 3,
    "start_time": "2022-11-29T02:49:01.330Z"
   },
   {
    "duration": 43,
    "start_time": "2022-11-29T02:49:01.335Z"
   },
   {
    "duration": 12,
    "start_time": "2022-11-29T02:49:01.379Z"
   },
   {
    "duration": 21,
    "start_time": "2022-11-29T02:49:01.392Z"
   },
   {
    "duration": 6,
    "start_time": "2022-11-29T02:49:01.415Z"
   },
   {
    "duration": 19,
    "start_time": "2022-11-29T02:49:01.423Z"
   },
   {
    "duration": 9,
    "start_time": "2022-11-29T02:49:01.444Z"
   },
   {
    "duration": 17,
    "start_time": "2022-11-29T02:49:01.454Z"
   },
   {
    "duration": 6,
    "start_time": "2022-11-29T02:49:01.473Z"
   },
   {
    "duration": 19,
    "start_time": "2022-11-29T02:49:01.480Z"
   },
   {
    "duration": 5,
    "start_time": "2022-11-29T02:49:01.500Z"
   },
   {
    "duration": 57,
    "start_time": "2022-11-29T02:49:01.507Z"
   },
   {
    "duration": 8,
    "start_time": "2022-11-29T02:49:01.565Z"
   },
   {
    "duration": 12,
    "start_time": "2022-11-29T02:49:01.576Z"
   },
   {
    "duration": 18,
    "start_time": "2022-11-29T02:49:01.589Z"
   },
   {
    "duration": 34,
    "start_time": "2022-11-29T02:49:01.608Z"
   },
   {
    "duration": 18,
    "start_time": "2022-11-29T02:49:01.644Z"
   },
   {
    "duration": 12,
    "start_time": "2022-11-29T02:49:01.663Z"
   },
   {
    "duration": 13,
    "start_time": "2022-11-29T02:49:01.677Z"
   },
   {
    "duration": 6,
    "start_time": "2022-11-29T02:49:01.691Z"
   },
   {
    "duration": 11,
    "start_time": "2022-11-29T02:49:01.699Z"
   },
   {
    "duration": 248,
    "start_time": "2022-11-29T02:49:01.712Z"
   },
   {
    "duration": 3,
    "start_time": "2022-11-29T02:49:01.961Z"
   },
   {
    "duration": 28,
    "start_time": "2022-11-29T02:49:01.965Z"
   },
   {
    "duration": 2,
    "start_time": "2022-11-29T02:49:01.994Z"
   },
   {
    "duration": 275,
    "start_time": "2022-11-29T02:49:01.997Z"
   },
   {
    "duration": 260,
    "start_time": "2022-11-29T02:49:02.273Z"
   },
   {
    "duration": 71,
    "start_time": "2022-11-29T02:49:02.535Z"
   },
   {
    "duration": 269,
    "start_time": "2022-11-29T02:49:02.607Z"
   },
   {
    "duration": 63,
    "start_time": "2022-11-29T02:49:02.878Z"
   },
   {
    "duration": 123,
    "start_time": "2022-11-29T02:49:02.943Z"
   },
   {
    "duration": 4,
    "start_time": "2022-11-29T02:49:03.067Z"
   },
   {
    "duration": 18,
    "start_time": "2022-11-29T02:49:03.072Z"
   },
   {
    "duration": 60,
    "start_time": "2022-11-29T02:49:03.092Z"
   },
   {
    "duration": 5,
    "start_time": "2022-11-29T02:49:03.154Z"
   },
   {
    "duration": 9,
    "start_time": "2022-11-29T02:49:03.160Z"
   },
   {
    "duration": 3,
    "start_time": "2022-11-29T02:49:03.171Z"
   },
   {
    "duration": 23,
    "start_time": "2022-11-29T02:49:03.176Z"
   },
   {
    "duration": 5,
    "start_time": "2022-11-29T02:49:03.201Z"
   },
   {
    "duration": 31,
    "start_time": "2022-11-29T02:49:03.207Z"
   },
   {
    "duration": 6,
    "start_time": "2022-11-29T02:49:03.241Z"
   },
   {
    "duration": 47,
    "start_time": "2022-11-29T02:49:03.248Z"
   },
   {
    "duration": 4,
    "start_time": "2022-11-29T02:49:03.297Z"
   },
   {
    "duration": 37,
    "start_time": "2022-11-29T02:49:03.303Z"
   },
   {
    "duration": 4,
    "start_time": "2022-11-29T02:49:10.281Z"
   },
   {
    "duration": 4,
    "start_time": "2022-11-29T02:49:33.702Z"
   },
   {
    "duration": 6,
    "start_time": "2022-11-29T02:50:30.622Z"
   },
   {
    "duration": 5,
    "start_time": "2022-11-29T02:50:31.513Z"
   },
   {
    "duration": 4,
    "start_time": "2022-11-29T02:50:40.400Z"
   },
   {
    "duration": 5,
    "start_time": "2022-11-29T02:50:45.032Z"
   },
   {
    "duration": 3,
    "start_time": "2022-11-29T02:51:01.445Z"
   },
   {
    "duration": 48,
    "start_time": "2022-11-29T02:51:01.450Z"
   },
   {
    "duration": 12,
    "start_time": "2022-11-29T02:51:01.500Z"
   },
   {
    "duration": 31,
    "start_time": "2022-11-29T02:51:01.513Z"
   },
   {
    "duration": 18,
    "start_time": "2022-11-29T02:51:01.547Z"
   },
   {
    "duration": 19,
    "start_time": "2022-11-29T02:51:01.566Z"
   },
   {
    "duration": 16,
    "start_time": "2022-11-29T02:51:01.586Z"
   },
   {
    "duration": 17,
    "start_time": "2022-11-29T02:51:01.604Z"
   },
   {
    "duration": 6,
    "start_time": "2022-11-29T02:51:01.623Z"
   },
   {
    "duration": 17,
    "start_time": "2022-11-29T02:51:01.631Z"
   },
   {
    "duration": 6,
    "start_time": "2022-11-29T02:51:01.652Z"
   },
   {
    "duration": 38,
    "start_time": "2022-11-29T02:51:01.660Z"
   },
   {
    "duration": 37,
    "start_time": "2022-11-29T02:51:01.700Z"
   },
   {
    "duration": 4,
    "start_time": "2022-11-29T02:51:01.740Z"
   },
   {
    "duration": 15,
    "start_time": "2022-11-29T02:51:01.746Z"
   },
   {
    "duration": 17,
    "start_time": "2022-11-29T02:51:01.763Z"
   },
   {
    "duration": 17,
    "start_time": "2022-11-29T02:51:01.781Z"
   },
   {
    "duration": 41,
    "start_time": "2022-11-29T02:51:01.799Z"
   },
   {
    "duration": 9,
    "start_time": "2022-11-29T02:51:01.842Z"
   },
   {
    "duration": 4,
    "start_time": "2022-11-29T02:51:01.852Z"
   },
   {
    "duration": 7,
    "start_time": "2022-11-29T02:51:01.858Z"
   },
   {
    "duration": 260,
    "start_time": "2022-11-29T02:51:01.866Z"
   },
   {
    "duration": 10,
    "start_time": "2022-11-29T02:51:02.128Z"
   },
   {
    "duration": 43,
    "start_time": "2022-11-29T02:51:02.139Z"
   },
   {
    "duration": 2,
    "start_time": "2022-11-29T02:51:02.184Z"
   },
   {
    "duration": 262,
    "start_time": "2022-11-29T02:51:02.188Z"
   },
   {
    "duration": 256,
    "start_time": "2022-11-29T02:51:02.452Z"
   },
   {
    "duration": 75,
    "start_time": "2022-11-29T02:51:02.710Z"
   },
   {
    "duration": 261,
    "start_time": "2022-11-29T02:51:02.788Z"
   },
   {
    "duration": 88,
    "start_time": "2022-11-29T02:51:03.051Z"
   },
   {
    "duration": 123,
    "start_time": "2022-11-29T02:51:03.141Z"
   },
   {
    "duration": 3,
    "start_time": "2022-11-29T02:51:03.266Z"
   },
   {
    "duration": 11,
    "start_time": "2022-11-29T02:51:03.271Z"
   },
   {
    "duration": 64,
    "start_time": "2022-11-29T02:51:03.284Z"
   },
   {
    "duration": 5,
    "start_time": "2022-11-29T02:51:03.350Z"
   },
   {
    "duration": 10,
    "start_time": "2022-11-29T02:51:03.356Z"
   },
   {
    "duration": 4,
    "start_time": "2022-11-29T02:51:03.367Z"
   },
   {
    "duration": 24,
    "start_time": "2022-11-29T02:51:03.372Z"
   },
   {
    "duration": 6,
    "start_time": "2022-11-29T02:51:03.398Z"
   },
   {
    "duration": 33,
    "start_time": "2022-11-29T02:51:03.406Z"
   },
   {
    "duration": 2,
    "start_time": "2022-11-29T02:51:03.441Z"
   },
   {
    "duration": 20,
    "start_time": "2022-11-29T02:51:03.445Z"
   },
   {
    "duration": 0,
    "start_time": "2022-11-29T02:51:03.467Z"
   },
   {
    "duration": 0,
    "start_time": "2022-11-29T02:51:03.468Z"
   },
   {
    "duration": 18,
    "start_time": "2022-11-29T02:51:05.521Z"
   },
   {
    "duration": 3,
    "start_time": "2022-11-29T02:51:41.563Z"
   },
   {
    "duration": 41,
    "start_time": "2022-11-29T02:51:41.571Z"
   },
   {
    "duration": 12,
    "start_time": "2022-11-29T02:51:41.614Z"
   },
   {
    "duration": 12,
    "start_time": "2022-11-29T02:51:41.628Z"
   },
   {
    "duration": 4,
    "start_time": "2022-11-29T02:51:41.642Z"
   },
   {
    "duration": 6,
    "start_time": "2022-11-29T02:51:41.648Z"
   },
   {
    "duration": 6,
    "start_time": "2022-11-29T02:51:41.656Z"
   },
   {
    "duration": 12,
    "start_time": "2022-11-29T02:51:41.663Z"
   },
   {
    "duration": 5,
    "start_time": "2022-11-29T02:51:41.676Z"
   },
   {
    "duration": 56,
    "start_time": "2022-11-29T02:51:41.682Z"
   },
   {
    "duration": 6,
    "start_time": "2022-11-29T02:51:41.740Z"
   },
   {
    "duration": 35,
    "start_time": "2022-11-29T02:51:41.747Z"
   },
   {
    "duration": 6,
    "start_time": "2022-11-29T02:51:41.784Z"
   },
   {
    "duration": 5,
    "start_time": "2022-11-29T02:51:41.792Z"
   },
   {
    "duration": 39,
    "start_time": "2022-11-29T02:51:41.799Z"
   },
   {
    "duration": 17,
    "start_time": "2022-11-29T02:51:41.839Z"
   },
   {
    "duration": 16,
    "start_time": "2022-11-29T02:51:41.858Z"
   },
   {
    "duration": 4,
    "start_time": "2022-11-29T02:51:41.875Z"
   },
   {
    "duration": 7,
    "start_time": "2022-11-29T02:51:41.881Z"
   },
   {
    "duration": 3,
    "start_time": "2022-11-29T02:51:41.890Z"
   },
   {
    "duration": 7,
    "start_time": "2022-11-29T02:51:41.894Z"
   },
   {
    "duration": 278,
    "start_time": "2022-11-29T02:51:41.902Z"
   },
   {
    "duration": 2,
    "start_time": "2022-11-29T02:51:42.182Z"
   },
   {
    "duration": 35,
    "start_time": "2022-11-29T02:51:42.185Z"
   },
   {
    "duration": 2,
    "start_time": "2022-11-29T02:51:42.222Z"
   },
   {
    "duration": 275,
    "start_time": "2022-11-29T02:51:42.237Z"
   },
   {
    "duration": 261,
    "start_time": "2022-11-29T02:51:42.513Z"
   },
   {
    "duration": 82,
    "start_time": "2022-11-29T02:51:42.775Z"
   },
   {
    "duration": 264,
    "start_time": "2022-11-29T02:51:42.859Z"
   },
   {
    "duration": 114,
    "start_time": "2022-11-29T02:51:43.125Z"
   },
   {
    "duration": 122,
    "start_time": "2022-11-29T02:51:43.241Z"
   },
   {
    "duration": 3,
    "start_time": "2022-11-29T02:51:43.365Z"
   },
   {
    "duration": 11,
    "start_time": "2022-11-29T02:51:43.370Z"
   },
   {
    "duration": 57,
    "start_time": "2022-11-29T02:51:43.383Z"
   },
   {
    "duration": 5,
    "start_time": "2022-11-29T02:51:43.441Z"
   },
   {
    "duration": 10,
    "start_time": "2022-11-29T02:51:43.447Z"
   },
   {
    "duration": 4,
    "start_time": "2022-11-29T02:51:43.459Z"
   },
   {
    "duration": 24,
    "start_time": "2022-11-29T02:51:43.465Z"
   },
   {
    "duration": 5,
    "start_time": "2022-11-29T02:51:43.491Z"
   },
   {
    "duration": 5,
    "start_time": "2022-11-29T02:51:43.497Z"
   },
   {
    "duration": 2,
    "start_time": "2022-11-29T02:51:43.538Z"
   },
   {
    "duration": 2,
    "start_time": "2022-11-29T02:51:45.281Z"
   },
   {
    "duration": 2,
    "start_time": "2022-11-29T02:51:46.171Z"
   },
   {
    "duration": 5,
    "start_time": "2022-11-29T02:51:47.250Z"
   },
   {
    "duration": 7,
    "start_time": "2022-11-29T02:51:50.880Z"
   },
   {
    "duration": 5,
    "start_time": "2022-11-29T02:52:02.921Z"
   },
   {
    "duration": 3,
    "start_time": "2022-11-29T02:52:04.690Z"
   },
   {
    "duration": 6,
    "start_time": "2022-11-29T02:52:24.458Z"
   },
   {
    "duration": 4,
    "start_time": "2022-11-29T02:52:25.968Z"
   },
   {
    "duration": 4,
    "start_time": "2022-11-29T02:52:50.440Z"
   },
   {
    "duration": 3,
    "start_time": "2022-11-29T02:53:46.762Z"
   },
   {
    "duration": 45,
    "start_time": "2022-11-29T02:53:46.767Z"
   },
   {
    "duration": 12,
    "start_time": "2022-11-29T02:53:46.813Z"
   },
   {
    "duration": 12,
    "start_time": "2022-11-29T02:53:46.827Z"
   },
   {
    "duration": 4,
    "start_time": "2022-11-29T02:53:46.842Z"
   },
   {
    "duration": 6,
    "start_time": "2022-11-29T02:53:46.847Z"
   },
   {
    "duration": 6,
    "start_time": "2022-11-29T02:53:46.854Z"
   },
   {
    "duration": 12,
    "start_time": "2022-11-29T02:53:46.861Z"
   },
   {
    "duration": 4,
    "start_time": "2022-11-29T02:53:46.874Z"
   },
   {
    "duration": 16,
    "start_time": "2022-11-29T02:53:46.879Z"
   },
   {
    "duration": 43,
    "start_time": "2022-11-29T02:53:46.896Z"
   },
   {
    "duration": 36,
    "start_time": "2022-11-29T02:53:46.941Z"
   },
   {
    "duration": 7,
    "start_time": "2022-11-29T02:53:46.980Z"
   },
   {
    "duration": 5,
    "start_time": "2022-11-29T02:53:46.988Z"
   },
   {
    "duration": 10,
    "start_time": "2022-11-29T02:53:46.994Z"
   },
   {
    "duration": 46,
    "start_time": "2022-11-29T02:53:47.006Z"
   },
   {
    "duration": 18,
    "start_time": "2022-11-29T02:53:47.054Z"
   },
   {
    "duration": 6,
    "start_time": "2022-11-29T02:53:47.074Z"
   },
   {
    "duration": 7,
    "start_time": "2022-11-29T02:53:47.081Z"
   },
   {
    "duration": 5,
    "start_time": "2022-11-29T02:53:47.090Z"
   },
   {
    "duration": 6,
    "start_time": "2022-11-29T02:53:47.096Z"
   },
   {
    "duration": 239,
    "start_time": "2022-11-29T02:53:47.137Z"
   },
   {
    "duration": 3,
    "start_time": "2022-11-29T02:53:47.378Z"
   },
   {
    "duration": 34,
    "start_time": "2022-11-29T02:53:47.383Z"
   },
   {
    "duration": 18,
    "start_time": "2022-11-29T02:53:47.419Z"
   },
   {
    "duration": 267,
    "start_time": "2022-11-29T02:53:47.439Z"
   },
   {
    "duration": 281,
    "start_time": "2022-11-29T02:53:47.708Z"
   },
   {
    "duration": 90,
    "start_time": "2022-11-29T02:53:47.991Z"
   },
   {
    "duration": 267,
    "start_time": "2022-11-29T02:53:48.083Z"
   },
   {
    "duration": 264,
    "start_time": "2022-11-29T02:53:48.352Z"
   },
   {
    "duration": 277,
    "start_time": "2022-11-29T02:53:48.617Z"
   },
   {
    "duration": 4,
    "start_time": "2022-11-29T02:53:48.895Z"
   },
   {
    "duration": 14,
    "start_time": "2022-11-29T02:53:48.901Z"
   },
   {
    "duration": 361,
    "start_time": "2022-11-29T02:53:48.917Z"
   },
   {
    "duration": 23,
    "start_time": "2022-11-29T02:53:49.280Z"
   },
   {
    "duration": 6,
    "start_time": "2022-11-29T02:53:49.304Z"
   },
   {
    "duration": 4,
    "start_time": "2022-11-29T02:53:49.338Z"
   },
   {
    "duration": 160,
    "start_time": "2022-11-29T02:53:49.343Z"
   },
   {
    "duration": 5,
    "start_time": "2022-11-29T02:53:49.505Z"
   },
   {
    "duration": 4,
    "start_time": "2022-11-29T02:53:49.512Z"
   },
   {
    "duration": 21,
    "start_time": "2022-11-29T02:53:49.517Z"
   },
   {
    "duration": 6,
    "start_time": "2022-11-29T02:53:49.539Z"
   },
   {
    "duration": 26,
    "start_time": "2022-11-29T02:53:49.547Z"
   },
   {
    "duration": 4,
    "start_time": "2022-11-29T02:53:49.575Z"
   },
   {
    "duration": 4,
    "start_time": "2022-11-29T02:53:51.988Z"
   },
   {
    "duration": 6,
    "start_time": "2022-11-29T02:53:54.380Z"
   },
   {
    "duration": 23,
    "start_time": "2022-11-29T02:54:00.931Z"
   },
   {
    "duration": 4,
    "start_time": "2022-11-29T02:54:04.601Z"
   },
   {
    "duration": 22,
    "start_time": "2022-11-29T02:54:22.171Z"
   },
   {
    "duration": 4,
    "start_time": "2022-11-29T02:54:22.768Z"
   },
   {
    "duration": 4,
    "start_time": "2022-11-29T02:54:24.368Z"
   },
   {
    "duration": 7,
    "start_time": "2022-11-29T02:54:25.830Z"
   },
   {
    "duration": 9,
    "start_time": "2022-11-29T02:57:41.409Z"
   },
   {
    "duration": 4,
    "start_time": "2022-11-29T02:57:52.511Z"
   },
   {
    "duration": 4,
    "start_time": "2022-11-29T02:58:06.738Z"
   },
   {
    "duration": 5,
    "start_time": "2022-11-29T02:58:12.761Z"
   },
   {
    "duration": 10,
    "start_time": "2022-11-29T02:58:17.089Z"
   },
   {
    "duration": 3,
    "start_time": "2022-11-29T02:59:42.396Z"
   },
   {
    "duration": 3,
    "start_time": "2022-11-29T02:59:49.290Z"
   },
   {
    "duration": 109,
    "start_time": "2022-11-29T02:59:49.969Z"
   },
   {
    "duration": 4,
    "start_time": "2022-11-29T03:04:49.751Z"
   },
   {
    "duration": 41,
    "start_time": "2022-11-29T03:04:49.757Z"
   },
   {
    "duration": 12,
    "start_time": "2022-11-29T03:04:49.800Z"
   },
   {
    "duration": 14,
    "start_time": "2022-11-29T03:04:49.814Z"
   },
   {
    "duration": 3,
    "start_time": "2022-11-29T03:04:49.830Z"
   },
   {
    "duration": 6,
    "start_time": "2022-11-29T03:04:49.836Z"
   },
   {
    "duration": 6,
    "start_time": "2022-11-29T03:04:49.844Z"
   },
   {
    "duration": 12,
    "start_time": "2022-11-29T03:04:49.851Z"
   },
   {
    "duration": 5,
    "start_time": "2022-11-29T03:04:49.865Z"
   },
   {
    "duration": 16,
    "start_time": "2022-11-29T03:04:49.871Z"
   },
   {
    "duration": 5,
    "start_time": "2022-11-29T03:04:49.889Z"
   },
   {
    "duration": 75,
    "start_time": "2022-11-29T03:04:49.896Z"
   },
   {
    "duration": 8,
    "start_time": "2022-11-29T03:04:49.972Z"
   },
   {
    "duration": 4,
    "start_time": "2022-11-29T03:04:49.983Z"
   },
   {
    "duration": 17,
    "start_time": "2022-11-29T03:04:49.988Z"
   },
   {
    "duration": 44,
    "start_time": "2022-11-29T03:04:50.006Z"
   },
   {
    "duration": 16,
    "start_time": "2022-11-29T03:04:50.052Z"
   },
   {
    "duration": 4,
    "start_time": "2022-11-29T03:04:50.070Z"
   },
   {
    "duration": 6,
    "start_time": "2022-11-29T03:04:50.075Z"
   },
   {
    "duration": 2,
    "start_time": "2022-11-29T03:04:50.083Z"
   },
   {
    "duration": 7,
    "start_time": "2022-11-29T03:04:50.086Z"
   },
   {
    "duration": 272,
    "start_time": "2022-11-29T03:04:50.095Z"
   },
   {
    "duration": 2,
    "start_time": "2022-11-29T03:04:50.369Z"
   },
   {
    "duration": 29,
    "start_time": "2022-11-29T03:04:50.373Z"
   },
   {
    "duration": 3,
    "start_time": "2022-11-29T03:04:50.404Z"
   },
   {
    "duration": 287,
    "start_time": "2022-11-29T03:04:50.408Z"
   },
   {
    "duration": 267,
    "start_time": "2022-11-29T03:04:50.697Z"
   },
   {
    "duration": 90,
    "start_time": "2022-11-29T03:04:50.966Z"
   },
   {
    "duration": 272,
    "start_time": "2022-11-29T03:04:51.058Z"
   },
   {
    "duration": 254,
    "start_time": "2022-11-29T03:04:51.332Z"
   },
   {
    "duration": 0,
    "start_time": "2022-11-29T03:04:51.589Z"
   },
   {
    "duration": 0,
    "start_time": "2022-11-29T03:04:51.590Z"
   },
   {
    "duration": 0,
    "start_time": "2022-11-29T03:04:51.592Z"
   },
   {
    "duration": 0,
    "start_time": "2022-11-29T03:04:51.593Z"
   },
   {
    "duration": 0,
    "start_time": "2022-11-29T03:04:51.595Z"
   },
   {
    "duration": 0,
    "start_time": "2022-11-29T03:04:51.596Z"
   },
   {
    "duration": 0,
    "start_time": "2022-11-29T03:04:51.597Z"
   },
   {
    "duration": 0,
    "start_time": "2022-11-29T03:04:51.599Z"
   },
   {
    "duration": 0,
    "start_time": "2022-11-29T03:04:51.600Z"
   },
   {
    "duration": 0,
    "start_time": "2022-11-29T03:04:51.602Z"
   },
   {
    "duration": 4,
    "start_time": "2022-11-29T03:05:27.481Z"
   },
   {
    "duration": 41,
    "start_time": "2022-11-29T03:05:27.488Z"
   },
   {
    "duration": 12,
    "start_time": "2022-11-29T03:05:27.530Z"
   },
   {
    "duration": 15,
    "start_time": "2022-11-29T03:05:27.545Z"
   },
   {
    "duration": 3,
    "start_time": "2022-11-29T03:05:27.562Z"
   },
   {
    "duration": 10,
    "start_time": "2022-11-29T03:05:27.566Z"
   },
   {
    "duration": 8,
    "start_time": "2022-11-29T03:05:27.577Z"
   },
   {
    "duration": 19,
    "start_time": "2022-11-29T03:05:27.586Z"
   },
   {
    "duration": 6,
    "start_time": "2022-11-29T03:05:27.637Z"
   },
   {
    "duration": 17,
    "start_time": "2022-11-29T03:05:27.645Z"
   },
   {
    "duration": 7,
    "start_time": "2022-11-29T03:05:27.664Z"
   },
   {
    "duration": 79,
    "start_time": "2022-11-29T03:05:27.673Z"
   },
   {
    "duration": 9,
    "start_time": "2022-11-29T03:05:27.754Z"
   },
   {
    "duration": 4,
    "start_time": "2022-11-29T03:05:27.768Z"
   },
   {
    "duration": 14,
    "start_time": "2022-11-29T03:05:27.773Z"
   },
   {
    "duration": 17,
    "start_time": "2022-11-29T03:05:27.789Z"
   },
   {
    "duration": 18,
    "start_time": "2022-11-29T03:05:27.838Z"
   },
   {
    "duration": 4,
    "start_time": "2022-11-29T03:05:27.858Z"
   },
   {
    "duration": 7,
    "start_time": "2022-11-29T03:05:27.864Z"
   },
   {
    "duration": 3,
    "start_time": "2022-11-29T03:05:27.873Z"
   },
   {
    "duration": 5,
    "start_time": "2022-11-29T03:05:27.877Z"
   },
   {
    "duration": 273,
    "start_time": "2022-11-29T03:05:27.883Z"
   },
   {
    "duration": 3,
    "start_time": "2022-11-29T03:05:28.157Z"
   },
   {
    "duration": 28,
    "start_time": "2022-11-29T03:05:28.161Z"
   },
   {
    "duration": 2,
    "start_time": "2022-11-29T03:05:28.191Z"
   },
   {
    "duration": 276,
    "start_time": "2022-11-29T03:05:28.194Z"
   },
   {
    "duration": 256,
    "start_time": "2022-11-29T03:05:28.472Z"
   },
   {
    "duration": 80,
    "start_time": "2022-11-29T03:05:28.730Z"
   },
   {
    "duration": 290,
    "start_time": "2022-11-29T03:05:28.812Z"
   },
   {
    "duration": 59,
    "start_time": "2022-11-29T03:05:29.104Z"
   },
   {
    "duration": 191,
    "start_time": "2022-11-29T03:05:29.165Z"
   },
   {
    "duration": 12,
    "start_time": "2022-11-29T03:05:29.438Z"
   },
   {
    "duration": 13,
    "start_time": "2022-11-29T03:05:29.538Z"
   },
   {
    "duration": 356,
    "start_time": "2022-11-29T03:05:29.552Z"
   },
   {
    "duration": 32,
    "start_time": "2022-11-29T03:05:29.909Z"
   },
   {
    "duration": 6,
    "start_time": "2022-11-29T03:05:29.942Z"
   },
   {
    "duration": 14,
    "start_time": "2022-11-29T03:05:29.949Z"
   },
   {
    "duration": 166,
    "start_time": "2022-11-29T03:05:29.965Z"
   },
   {
    "duration": 5,
    "start_time": "2022-11-29T03:05:30.133Z"
   },
   {
    "duration": 31,
    "start_time": "2022-11-29T03:05:30.140Z"
   },
   {
    "duration": 8,
    "start_time": "2022-11-29T03:05:30.175Z"
   },
   {
    "duration": 30,
    "start_time": "2022-11-29T03:05:30.185Z"
   },
   {
    "duration": 57,
    "start_time": "2022-11-29T03:05:30.216Z"
   },
   {
    "duration": 12,
    "start_time": "2022-11-29T03:05:30.275Z"
   },
   {
    "duration": 24,
    "start_time": "2022-11-29T03:05:30.288Z"
   },
   {
    "duration": 34,
    "start_time": "2022-11-29T03:05:30.313Z"
   },
   {
    "duration": 5,
    "start_time": "2022-11-29T03:05:30.349Z"
   },
   {
    "duration": 15,
    "start_time": "2022-11-29T03:05:30.356Z"
   },
   {
    "duration": 21,
    "start_time": "2022-11-29T03:05:30.374Z"
   },
   {
    "duration": 10,
    "start_time": "2022-11-29T03:05:30.397Z"
   },
   {
    "duration": 4,
    "start_time": "2022-11-29T03:05:33.290Z"
   },
   {
    "duration": 121,
    "start_time": "2022-11-29T03:05:33.843Z"
   },
   {
    "duration": 3,
    "start_time": "2022-11-29T03:07:12.947Z"
   },
   {
    "duration": 42,
    "start_time": "2022-11-29T03:07:12.952Z"
   },
   {
    "duration": 12,
    "start_time": "2022-11-29T03:07:12.996Z"
   },
   {
    "duration": 13,
    "start_time": "2022-11-29T03:07:13.010Z"
   },
   {
    "duration": 3,
    "start_time": "2022-11-29T03:07:13.025Z"
   },
   {
    "duration": 5,
    "start_time": "2022-11-29T03:07:13.038Z"
   },
   {
    "duration": 7,
    "start_time": "2022-11-29T03:07:13.044Z"
   },
   {
    "duration": 23,
    "start_time": "2022-11-29T03:07:13.053Z"
   },
   {
    "duration": 5,
    "start_time": "2022-11-29T03:07:13.077Z"
   },
   {
    "duration": 15,
    "start_time": "2022-11-29T03:07:13.084Z"
   },
   {
    "duration": 6,
    "start_time": "2022-11-29T03:07:13.100Z"
   },
   {
    "duration": 64,
    "start_time": "2022-11-29T03:07:13.107Z"
   },
   {
    "duration": 7,
    "start_time": "2022-11-29T03:07:13.172Z"
   },
   {
    "duration": 6,
    "start_time": "2022-11-29T03:07:13.180Z"
   },
   {
    "duration": 13,
    "start_time": "2022-11-29T03:07:13.187Z"
   },
   {
    "duration": 40,
    "start_time": "2022-11-29T03:07:13.202Z"
   },
   {
    "duration": 16,
    "start_time": "2022-11-29T03:07:13.244Z"
   },
   {
    "duration": 6,
    "start_time": "2022-11-29T03:07:13.261Z"
   },
   {
    "duration": 8,
    "start_time": "2022-11-29T03:07:13.269Z"
   },
   {
    "duration": 3,
    "start_time": "2022-11-29T03:07:13.278Z"
   },
   {
    "duration": 5,
    "start_time": "2022-11-29T03:07:13.282Z"
   },
   {
    "duration": 266,
    "start_time": "2022-11-29T03:07:13.288Z"
   },
   {
    "duration": 2,
    "start_time": "2022-11-29T03:07:13.556Z"
   },
   {
    "duration": 30,
    "start_time": "2022-11-29T03:07:13.559Z"
   },
   {
    "duration": 2,
    "start_time": "2022-11-29T03:07:13.590Z"
   },
   {
    "duration": 298,
    "start_time": "2022-11-29T03:07:13.594Z"
   },
   {
    "duration": 267,
    "start_time": "2022-11-29T03:07:13.893Z"
   },
   {
    "duration": 90,
    "start_time": "2022-11-29T03:07:14.163Z"
   },
   {
    "duration": 266,
    "start_time": "2022-11-29T03:07:14.254Z"
   },
   {
    "duration": 119,
    "start_time": "2022-11-29T03:07:14.522Z"
   },
   {
    "duration": 124,
    "start_time": "2022-11-29T03:07:14.643Z"
   },
   {
    "duration": 33,
    "start_time": "2022-11-29T03:07:25.439Z"
   },
   {
    "duration": 3,
    "start_time": "2022-11-29T03:14:29.311Z"
   },
   {
    "duration": 43,
    "start_time": "2022-11-29T03:14:29.316Z"
   },
   {
    "duration": 12,
    "start_time": "2022-11-29T03:14:29.446Z"
   },
   {
    "duration": 11,
    "start_time": "2022-11-29T03:14:29.461Z"
   },
   {
    "duration": 5,
    "start_time": "2022-11-29T03:14:29.474Z"
   },
   {
    "duration": 5,
    "start_time": "2022-11-29T03:14:29.481Z"
   },
   {
    "duration": 7,
    "start_time": "2022-11-29T03:14:29.488Z"
   },
   {
    "duration": 12,
    "start_time": "2022-11-29T03:14:29.497Z"
   },
   {
    "duration": 5,
    "start_time": "2022-11-29T03:14:29.572Z"
   },
   {
    "duration": 19,
    "start_time": "2022-11-29T03:14:29.579Z"
   },
   {
    "duration": 6,
    "start_time": "2022-11-29T03:14:29.599Z"
   },
   {
    "duration": 40,
    "start_time": "2022-11-29T03:14:29.606Z"
   },
   {
    "duration": 7,
    "start_time": "2022-11-29T03:14:29.648Z"
   },
   {
    "duration": 4,
    "start_time": "2022-11-29T03:14:29.656Z"
   },
   {
    "duration": 11,
    "start_time": "2022-11-29T03:14:29.661Z"
   },
   {
    "duration": 244,
    "start_time": "2022-11-29T03:14:29.674Z"
   },
   {
    "duration": 31,
    "start_time": "2022-11-29T03:14:29.920Z"
   },
   {
    "duration": 5,
    "start_time": "2022-11-29T03:14:29.952Z"
   },
   {
    "duration": 7,
    "start_time": "2022-11-29T03:14:29.958Z"
   },
   {
    "duration": 3,
    "start_time": "2022-11-29T03:14:29.966Z"
   },
   {
    "duration": 14,
    "start_time": "2022-11-29T03:14:29.972Z"
   },
   {
    "duration": 258,
    "start_time": "2022-11-29T03:14:29.987Z"
   },
   {
    "duration": 2,
    "start_time": "2022-11-29T03:14:30.246Z"
   },
   {
    "duration": 39,
    "start_time": "2022-11-29T03:14:30.250Z"
   },
   {
    "duration": 2,
    "start_time": "2022-11-29T03:14:30.291Z"
   },
   {
    "duration": 266,
    "start_time": "2022-11-29T03:14:30.295Z"
   },
   {
    "duration": 281,
    "start_time": "2022-11-29T03:14:30.562Z"
   },
   {
    "duration": 71,
    "start_time": "2022-11-29T03:14:30.844Z"
   },
   {
    "duration": 282,
    "start_time": "2022-11-29T03:14:30.917Z"
   },
   {
    "duration": 58,
    "start_time": "2022-11-29T03:14:31.201Z"
   },
   {
    "duration": 123,
    "start_time": "2022-11-29T03:14:31.339Z"
   },
   {
    "duration": 4,
    "start_time": "2022-11-29T03:14:31.464Z"
   },
   {
    "duration": 17,
    "start_time": "2022-11-29T03:14:31.469Z"
   },
   {
    "duration": 364,
    "start_time": "2022-11-29T03:14:31.488Z"
   },
   {
    "duration": 23,
    "start_time": "2022-11-29T03:14:31.853Z"
   },
   {
    "duration": 5,
    "start_time": "2022-11-29T03:14:31.878Z"
   },
   {
    "duration": 6,
    "start_time": "2022-11-29T03:14:31.885Z"
   },
   {
    "duration": 175,
    "start_time": "2022-11-29T03:14:31.892Z"
   },
   {
    "duration": 6,
    "start_time": "2022-11-29T03:14:32.069Z"
   },
   {
    "duration": 13,
    "start_time": "2022-11-29T03:14:32.076Z"
   },
   {
    "duration": 9,
    "start_time": "2022-11-29T03:14:32.092Z"
   },
   {
    "duration": 8,
    "start_time": "2022-11-29T03:14:32.102Z"
   },
   {
    "duration": 41,
    "start_time": "2022-11-29T03:14:32.111Z"
   },
   {
    "duration": 4,
    "start_time": "2022-11-29T03:14:32.154Z"
   },
   {
    "duration": 15,
    "start_time": "2022-11-29T03:14:32.159Z"
   },
   {
    "duration": 3,
    "start_time": "2022-11-29T03:14:36.909Z"
   },
   {
    "duration": 7,
    "start_time": "2022-11-29T03:15:16.127Z"
   },
   {
    "duration": 25,
    "start_time": "2022-11-29T03:16:31.199Z"
   },
   {
    "duration": 6,
    "start_time": "2022-11-29T03:16:32.239Z"
   },
   {
    "duration": 5,
    "start_time": "2022-11-29T03:16:37.840Z"
   },
   {
    "duration": 18,
    "start_time": "2022-11-29T03:16:38.039Z"
   },
   {
    "duration": 5,
    "start_time": "2022-11-29T03:16:38.400Z"
   },
   {
    "duration": 4,
    "start_time": "2022-11-29T03:16:58.088Z"
   },
   {
    "duration": 43,
    "start_time": "2022-11-29T03:16:58.094Z"
   },
   {
    "duration": 12,
    "start_time": "2022-11-29T03:16:58.138Z"
   },
   {
    "duration": 17,
    "start_time": "2022-11-29T03:16:58.152Z"
   },
   {
    "duration": 7,
    "start_time": "2022-11-29T03:16:58.172Z"
   },
   {
    "duration": 10,
    "start_time": "2022-11-29T03:16:58.181Z"
   },
   {
    "duration": 9,
    "start_time": "2022-11-29T03:16:58.193Z"
   },
   {
    "duration": 36,
    "start_time": "2022-11-29T03:16:58.204Z"
   },
   {
    "duration": 4,
    "start_time": "2022-11-29T03:16:58.242Z"
   },
   {
    "duration": 21,
    "start_time": "2022-11-29T03:16:58.248Z"
   },
   {
    "duration": 5,
    "start_time": "2022-11-29T03:16:58.271Z"
   },
   {
    "duration": 64,
    "start_time": "2022-11-29T03:16:58.277Z"
   },
   {
    "duration": 7,
    "start_time": "2022-11-29T03:16:58.342Z"
   },
   {
    "duration": 6,
    "start_time": "2022-11-29T03:16:58.352Z"
   },
   {
    "duration": 14,
    "start_time": "2022-11-29T03:16:58.359Z"
   },
   {
    "duration": 17,
    "start_time": "2022-11-29T03:16:58.375Z"
   },
   {
    "duration": 17,
    "start_time": "2022-11-29T03:16:58.393Z"
   },
   {
    "duration": 5,
    "start_time": "2022-11-29T03:16:58.438Z"
   },
   {
    "duration": 8,
    "start_time": "2022-11-29T03:16:58.444Z"
   },
   {
    "duration": 3,
    "start_time": "2022-11-29T03:16:58.454Z"
   },
   {
    "duration": 9,
    "start_time": "2022-11-29T03:16:58.459Z"
   },
   {
    "duration": 258,
    "start_time": "2022-11-29T03:16:58.469Z"
   },
   {
    "duration": 9,
    "start_time": "2022-11-29T03:16:58.729Z"
   },
   {
    "duration": 28,
    "start_time": "2022-11-29T03:16:58.739Z"
   },
   {
    "duration": 2,
    "start_time": "2022-11-29T03:16:58.768Z"
   },
   {
    "duration": 277,
    "start_time": "2022-11-29T03:16:58.771Z"
   },
   {
    "duration": 268,
    "start_time": "2022-11-29T03:16:59.050Z"
   },
   {
    "duration": 75,
    "start_time": "2022-11-29T03:16:59.320Z"
   },
   {
    "duration": 276,
    "start_time": "2022-11-29T03:16:59.396Z"
   },
   {
    "duration": 65,
    "start_time": "2022-11-29T03:16:59.674Z"
   },
   {
    "duration": 124,
    "start_time": "2022-11-29T03:16:59.742Z"
   },
   {
    "duration": 4,
    "start_time": "2022-11-29T03:16:59.867Z"
   },
   {
    "duration": 13,
    "start_time": "2022-11-29T03:16:59.872Z"
   },
   {
    "duration": 361,
    "start_time": "2022-11-29T03:16:59.886Z"
   },
   {
    "duration": 23,
    "start_time": "2022-11-29T03:17:00.249Z"
   },
   {
    "duration": 8,
    "start_time": "2022-11-29T03:17:00.274Z"
   },
   {
    "duration": 21,
    "start_time": "2022-11-29T03:17:00.284Z"
   },
   {
    "duration": 171,
    "start_time": "2022-11-29T03:17:00.307Z"
   },
   {
    "duration": 6,
    "start_time": "2022-11-29T03:17:00.480Z"
   },
   {
    "duration": 6,
    "start_time": "2022-11-29T03:17:08.161Z"
   },
   {
    "duration": 4,
    "start_time": "2022-11-29T03:17:15.720Z"
   },
   {
    "duration": 150,
    "start_time": "2022-11-29T03:17:42.232Z"
   },
   {
    "duration": 5,
    "start_time": "2022-11-29T03:17:43.270Z"
   },
   {
    "duration": 4,
    "start_time": "2022-11-29T03:17:54.820Z"
   },
   {
    "duration": 339,
    "start_time": "2022-11-29T03:18:35.851Z"
   },
   {
    "duration": 24,
    "start_time": "2022-11-29T03:18:39.089Z"
   },
   {
    "duration": 6,
    "start_time": "2022-11-29T03:18:40.040Z"
   },
   {
    "duration": 144,
    "start_time": "2022-11-29T03:19:38.202Z"
   },
   {
    "duration": 9,
    "start_time": "2022-11-29T03:19:40.120Z"
   },
   {
    "duration": 4,
    "start_time": "2022-11-29T03:19:43.488Z"
   },
   {
    "duration": 6,
    "start_time": "2022-11-29T03:19:46.288Z"
   },
   {
    "duration": 3,
    "start_time": "2022-11-29T03:19:47.041Z"
   },
   {
    "duration": 23,
    "start_time": "2022-11-29T03:19:47.800Z"
   },
   {
    "duration": 5,
    "start_time": "2022-11-29T03:19:53.179Z"
   },
   {
    "duration": 7,
    "start_time": "2022-11-29T03:19:57.172Z"
   },
   {
    "duration": 4,
    "start_time": "2022-11-29T03:20:27.882Z"
   },
   {
    "duration": 45,
    "start_time": "2022-11-29T03:20:27.887Z"
   },
   {
    "duration": 12,
    "start_time": "2022-11-29T03:20:27.934Z"
   },
   {
    "duration": 13,
    "start_time": "2022-11-29T03:20:27.948Z"
   },
   {
    "duration": 4,
    "start_time": "2022-11-29T03:20:27.963Z"
   },
   {
    "duration": 7,
    "start_time": "2022-11-29T03:20:27.969Z"
   },
   {
    "duration": 8,
    "start_time": "2022-11-29T03:20:27.977Z"
   },
   {
    "duration": 13,
    "start_time": "2022-11-29T03:20:27.987Z"
   },
   {
    "duration": 5,
    "start_time": "2022-11-29T03:20:28.038Z"
   },
   {
    "duration": 19,
    "start_time": "2022-11-29T03:20:28.045Z"
   },
   {
    "duration": 6,
    "start_time": "2022-11-29T03:20:28.066Z"
   },
   {
    "duration": 37,
    "start_time": "2022-11-29T03:20:28.073Z"
   },
   {
    "duration": 8,
    "start_time": "2022-11-29T03:20:28.138Z"
   },
   {
    "duration": 5,
    "start_time": "2022-11-29T03:20:28.147Z"
   },
   {
    "duration": 11,
    "start_time": "2022-11-29T03:20:28.154Z"
   },
   {
    "duration": 18,
    "start_time": "2022-11-29T03:20:28.166Z"
   },
   {
    "duration": 16,
    "start_time": "2022-11-29T03:20:28.185Z"
   },
   {
    "duration": 38,
    "start_time": "2022-11-29T03:20:28.202Z"
   },
   {
    "duration": 7,
    "start_time": "2022-11-29T03:20:28.241Z"
   },
   {
    "duration": 4,
    "start_time": "2022-11-29T03:20:28.249Z"
   },
   {
    "duration": 5,
    "start_time": "2022-11-29T03:20:28.254Z"
   },
   {
    "duration": 256,
    "start_time": "2022-11-29T03:20:28.260Z"
   },
   {
    "duration": 2,
    "start_time": "2022-11-29T03:20:28.518Z"
   },
   {
    "duration": 37,
    "start_time": "2022-11-29T03:20:28.522Z"
   },
   {
    "duration": 3,
    "start_time": "2022-11-29T03:20:28.560Z"
   },
   {
    "duration": 276,
    "start_time": "2022-11-29T03:20:28.564Z"
   },
   {
    "duration": 269,
    "start_time": "2022-11-29T03:20:28.842Z"
   },
   {
    "duration": 83,
    "start_time": "2022-11-29T03:20:29.112Z"
   },
   {
    "duration": 265,
    "start_time": "2022-11-29T03:20:29.198Z"
   },
   {
    "duration": 75,
    "start_time": "2022-11-29T03:20:29.464Z"
   },
   {
    "duration": 122,
    "start_time": "2022-11-29T03:20:29.542Z"
   },
   {
    "duration": 4,
    "start_time": "2022-11-29T03:20:29.666Z"
   },
   {
    "duration": 19,
    "start_time": "2022-11-29T03:20:29.672Z"
   },
   {
    "duration": 357,
    "start_time": "2022-11-29T03:20:29.693Z"
   },
   {
    "duration": 23,
    "start_time": "2022-11-29T03:20:30.052Z"
   },
   {
    "duration": 5,
    "start_time": "2022-11-29T03:20:30.076Z"
   },
   {
    "duration": 10,
    "start_time": "2022-11-29T03:20:30.082Z"
   },
   {
    "duration": 178,
    "start_time": "2022-11-29T03:20:30.094Z"
   },
   {
    "duration": 5,
    "start_time": "2022-11-29T03:20:30.273Z"
   },
   {
    "duration": 23,
    "start_time": "2022-11-29T03:20:30.280Z"
   },
   {
    "duration": 12,
    "start_time": "2022-11-29T03:20:30.304Z"
   },
   {
    "duration": 23,
    "start_time": "2022-11-29T03:20:30.318Z"
   },
   {
    "duration": 32,
    "start_time": "2022-11-29T03:20:30.343Z"
   },
   {
    "duration": 10,
    "start_time": "2022-11-29T03:20:30.377Z"
   },
   {
    "duration": 4,
    "start_time": "2022-11-29T03:20:32.760Z"
   },
   {
    "duration": 5,
    "start_time": "2022-11-29T03:20:34.761Z"
   },
   {
    "duration": 5,
    "start_time": "2022-11-29T03:21:06.441Z"
   },
   {
    "duration": 403,
    "start_time": "2022-11-29T03:21:14.560Z"
   },
   {
    "duration": 24,
    "start_time": "2022-11-29T03:21:16.810Z"
   },
   {
    "duration": 6,
    "start_time": "2022-11-29T03:21:19.191Z"
   },
   {
    "duration": 431,
    "start_time": "2022-11-29T03:21:20.288Z"
   },
   {
    "duration": 3,
    "start_time": "2022-11-29T03:21:27.761Z"
   },
   {
    "duration": 43,
    "start_time": "2022-11-29T03:21:27.766Z"
   },
   {
    "duration": 13,
    "start_time": "2022-11-29T03:21:27.811Z"
   },
   {
    "duration": 14,
    "start_time": "2022-11-29T03:21:27.826Z"
   },
   {
    "duration": 4,
    "start_time": "2022-11-29T03:21:27.842Z"
   },
   {
    "duration": 9,
    "start_time": "2022-11-29T03:21:27.847Z"
   },
   {
    "duration": 6,
    "start_time": "2022-11-29T03:21:27.857Z"
   },
   {
    "duration": 14,
    "start_time": "2022-11-29T03:21:27.864Z"
   },
   {
    "duration": 5,
    "start_time": "2022-11-29T03:21:27.880Z"
   },
   {
    "duration": 54,
    "start_time": "2022-11-29T03:21:27.887Z"
   },
   {
    "duration": 5,
    "start_time": "2022-11-29T03:21:27.943Z"
   },
   {
    "duration": 37,
    "start_time": "2022-11-29T03:21:27.950Z"
   },
   {
    "duration": 7,
    "start_time": "2022-11-29T03:21:27.989Z"
   },
   {
    "duration": 4,
    "start_time": "2022-11-29T03:21:27.998Z"
   },
   {
    "duration": 39,
    "start_time": "2022-11-29T03:21:28.004Z"
   },
   {
    "duration": 18,
    "start_time": "2022-11-29T03:21:28.045Z"
   },
   {
    "duration": 18,
    "start_time": "2022-11-29T03:21:28.065Z"
   },
   {
    "duration": 15,
    "start_time": "2022-11-29T03:21:28.085Z"
   },
   {
    "duration": 8,
    "start_time": "2022-11-29T03:21:28.102Z"
   },
   {
    "duration": 28,
    "start_time": "2022-11-29T03:21:28.111Z"
   },
   {
    "duration": 7,
    "start_time": "2022-11-29T03:21:28.140Z"
   },
   {
    "duration": 243,
    "start_time": "2022-11-29T03:21:28.149Z"
   },
   {
    "duration": 2,
    "start_time": "2022-11-29T03:21:28.394Z"
   },
   {
    "duration": 39,
    "start_time": "2022-11-29T03:21:28.399Z"
   },
   {
    "duration": 2,
    "start_time": "2022-11-29T03:21:28.440Z"
   },
   {
    "duration": 264,
    "start_time": "2022-11-29T03:21:28.444Z"
   },
   {
    "duration": 274,
    "start_time": "2022-11-29T03:21:28.710Z"
   },
   {
    "duration": 92,
    "start_time": "2022-11-29T03:21:28.986Z"
   },
   {
    "duration": 269,
    "start_time": "2022-11-29T03:21:29.080Z"
   },
   {
    "duration": 93,
    "start_time": "2022-11-29T03:21:29.351Z"
   },
   {
    "duration": 121,
    "start_time": "2022-11-29T03:21:29.445Z"
   },
   {
    "duration": 4,
    "start_time": "2022-11-29T03:21:29.567Z"
   },
   {
    "duration": 16,
    "start_time": "2022-11-29T03:21:29.572Z"
   },
   {
    "duration": 359,
    "start_time": "2022-11-29T03:21:29.590Z"
   },
   {
    "duration": 24,
    "start_time": "2022-11-29T03:21:29.951Z"
   },
   {
    "duration": 6,
    "start_time": "2022-11-29T03:21:29.976Z"
   },
   {
    "duration": 4,
    "start_time": "2022-11-29T03:21:29.984Z"
   },
   {
    "duration": 179,
    "start_time": "2022-11-29T03:21:29.990Z"
   },
   {
    "duration": 6,
    "start_time": "2022-11-29T03:21:30.170Z"
   },
   {
    "duration": 13,
    "start_time": "2022-11-29T03:21:30.178Z"
   },
   {
    "duration": 6,
    "start_time": "2022-11-29T03:21:33.611Z"
   },
   {
    "duration": 408,
    "start_time": "2022-11-29T03:21:34.311Z"
   },
   {
    "duration": 24,
    "start_time": "2022-11-29T03:21:35.690Z"
   },
   {
    "duration": 5,
    "start_time": "2022-11-29T03:21:42.600Z"
   },
   {
    "duration": 27,
    "start_time": "2022-11-29T03:21:45.747Z"
   },
   {
    "duration": 4,
    "start_time": "2022-11-29T03:21:46.638Z"
   },
   {
    "duration": 6,
    "start_time": "2022-11-29T03:21:47.631Z"
   },
   {
    "duration": 36,
    "start_time": "2022-11-29T03:32:57.100Z"
   },
   {
    "duration": 4,
    "start_time": "2022-11-29T03:35:11.694Z"
   },
   {
    "duration": 41,
    "start_time": "2022-11-29T03:35:11.699Z"
   },
   {
    "duration": 13,
    "start_time": "2022-11-29T03:35:11.742Z"
   },
   {
    "duration": 39,
    "start_time": "2022-11-29T03:35:11.757Z"
   },
   {
    "duration": 44,
    "start_time": "2022-11-29T03:35:11.798Z"
   },
   {
    "duration": 4,
    "start_time": "2022-11-29T03:35:11.844Z"
   },
   {
    "duration": 9,
    "start_time": "2022-11-29T03:35:11.850Z"
   },
   {
    "duration": 4,
    "start_time": "2022-11-29T03:35:11.861Z"
   },
   {
    "duration": 13,
    "start_time": "2022-11-29T03:35:11.867Z"
   },
   {
    "duration": 4,
    "start_time": "2022-11-29T03:35:11.882Z"
   },
   {
    "duration": 53,
    "start_time": "2022-11-29T03:35:11.888Z"
   },
   {
    "duration": 6,
    "start_time": "2022-11-29T03:35:11.942Z"
   },
   {
    "duration": 41,
    "start_time": "2022-11-29T03:35:11.949Z"
   },
   {
    "duration": 7,
    "start_time": "2022-11-29T03:35:11.991Z"
   },
   {
    "duration": 5,
    "start_time": "2022-11-29T03:35:12.000Z"
   },
   {
    "duration": 39,
    "start_time": "2022-11-29T03:35:12.006Z"
   },
   {
    "duration": 4,
    "start_time": "2022-11-29T03:35:12.047Z"
   },
   {
    "duration": 9,
    "start_time": "2022-11-29T03:35:12.052Z"
   },
   {
    "duration": 3,
    "start_time": "2022-11-29T03:35:12.062Z"
   },
   {
    "duration": 4,
    "start_time": "2022-11-29T03:35:12.067Z"
   },
   {
    "duration": 7,
    "start_time": "2022-11-29T03:35:12.073Z"
   },
   {
    "duration": 16,
    "start_time": "2022-11-29T03:35:12.082Z"
   },
   {
    "duration": 0,
    "start_time": "2022-11-29T03:35:12.100Z"
   },
   {
    "duration": 0,
    "start_time": "2022-11-29T03:35:12.138Z"
   },
   {
    "duration": 0,
    "start_time": "2022-11-29T03:35:12.139Z"
   },
   {
    "duration": 0,
    "start_time": "2022-11-29T03:35:12.140Z"
   },
   {
    "duration": 0,
    "start_time": "2022-11-29T03:35:12.141Z"
   },
   {
    "duration": 0,
    "start_time": "2022-11-29T03:35:12.142Z"
   },
   {
    "duration": 0,
    "start_time": "2022-11-29T03:35:12.143Z"
   },
   {
    "duration": 0,
    "start_time": "2022-11-29T03:35:12.144Z"
   },
   {
    "duration": 0,
    "start_time": "2022-11-29T03:35:12.145Z"
   },
   {
    "duration": 0,
    "start_time": "2022-11-29T03:35:12.146Z"
   },
   {
    "duration": 0,
    "start_time": "2022-11-29T03:35:12.147Z"
   },
   {
    "duration": 0,
    "start_time": "2022-11-29T03:35:12.148Z"
   },
   {
    "duration": 0,
    "start_time": "2022-11-29T03:35:12.149Z"
   },
   {
    "duration": 0,
    "start_time": "2022-11-29T03:35:12.150Z"
   },
   {
    "duration": 0,
    "start_time": "2022-11-29T03:35:12.151Z"
   },
   {
    "duration": 0,
    "start_time": "2022-11-29T03:35:12.152Z"
   },
   {
    "duration": 0,
    "start_time": "2022-11-29T03:35:12.153Z"
   },
   {
    "duration": 0,
    "start_time": "2022-11-29T03:35:12.154Z"
   },
   {
    "duration": 4,
    "start_time": "2022-11-29T03:36:17.149Z"
   },
   {
    "duration": 44,
    "start_time": "2022-11-29T03:36:17.155Z"
   },
   {
    "duration": 12,
    "start_time": "2022-11-29T03:36:17.201Z"
   },
   {
    "duration": 48,
    "start_time": "2022-11-29T03:36:17.215Z"
   },
   {
    "duration": 11,
    "start_time": "2022-11-29T03:36:17.265Z"
   },
   {
    "duration": 18,
    "start_time": "2022-11-29T03:36:17.278Z"
   },
   {
    "duration": 18,
    "start_time": "2022-11-29T03:36:17.298Z"
   },
   {
    "duration": 19,
    "start_time": "2022-11-29T03:36:17.318Z"
   },
   {
    "duration": 13,
    "start_time": "2022-11-29T03:36:17.338Z"
   },
   {
    "duration": 5,
    "start_time": "2022-11-29T03:36:17.352Z"
   },
   {
    "duration": 19,
    "start_time": "2022-11-29T03:36:17.358Z"
   },
   {
    "duration": 5,
    "start_time": "2022-11-29T03:36:17.378Z"
   },
   {
    "duration": 64,
    "start_time": "2022-11-29T03:36:17.385Z"
   },
   {
    "duration": 7,
    "start_time": "2022-11-29T03:36:17.451Z"
   },
   {
    "duration": 5,
    "start_time": "2022-11-29T03:36:17.460Z"
   },
   {
    "duration": 14,
    "start_time": "2022-11-29T03:36:17.466Z"
   },
   {
    "duration": 4,
    "start_time": "2022-11-29T03:36:17.481Z"
   },
   {
    "duration": 6,
    "start_time": "2022-11-29T03:36:17.487Z"
   },
   {
    "duration": 5,
    "start_time": "2022-11-29T03:36:17.495Z"
   },
   {
    "duration": 7,
    "start_time": "2022-11-29T03:36:17.501Z"
   },
   {
    "duration": 5,
    "start_time": "2022-11-29T03:36:17.538Z"
   },
   {
    "duration": 17,
    "start_time": "2022-11-29T03:36:17.545Z"
   },
   {
    "duration": 0,
    "start_time": "2022-11-29T03:36:17.563Z"
   },
   {
    "duration": 0,
    "start_time": "2022-11-29T03:36:17.565Z"
   },
   {
    "duration": 0,
    "start_time": "2022-11-29T03:36:17.566Z"
   },
   {
    "duration": 0,
    "start_time": "2022-11-29T03:36:17.567Z"
   },
   {
    "duration": 9,
    "start_time": "2022-11-29T03:37:41.947Z"
   },
   {
    "duration": 3,
    "start_time": "2022-11-29T03:37:46.920Z"
   },
   {
    "duration": 4,
    "start_time": "2022-11-29T03:38:00.200Z"
   },
   {
    "duration": 16,
    "start_time": "2022-11-29T03:38:40.848Z"
   },
   {
    "duration": 3,
    "start_time": "2022-11-29T03:38:48.928Z"
   },
   {
    "duration": 3,
    "start_time": "2022-11-29T03:38:58.341Z"
   },
   {
    "duration": 3,
    "start_time": "2022-11-29T03:39:50.830Z"
   },
   {
    "duration": 45,
    "start_time": "2022-11-29T03:39:50.835Z"
   },
   {
    "duration": 12,
    "start_time": "2022-11-29T03:39:50.882Z"
   },
   {
    "duration": 40,
    "start_time": "2022-11-29T03:39:50.896Z"
   },
   {
    "duration": 11,
    "start_time": "2022-11-29T03:39:50.938Z"
   },
   {
    "duration": 4,
    "start_time": "2022-11-29T03:39:50.951Z"
   },
   {
    "duration": 10,
    "start_time": "2022-11-29T03:39:50.956Z"
   },
   {
    "duration": 5,
    "start_time": "2022-11-29T03:39:50.967Z"
   },
   {
    "duration": 12,
    "start_time": "2022-11-29T03:39:50.974Z"
   },
   {
    "duration": 5,
    "start_time": "2022-11-29T03:39:50.987Z"
   },
   {
    "duration": 52,
    "start_time": "2022-11-29T03:39:50.994Z"
   },
   {
    "duration": 6,
    "start_time": "2022-11-29T03:39:51.048Z"
   },
   {
    "duration": 45,
    "start_time": "2022-11-29T03:39:51.055Z"
   },
   {
    "duration": 6,
    "start_time": "2022-11-29T03:39:51.102Z"
   },
   {
    "duration": 8,
    "start_time": "2022-11-29T03:39:51.109Z"
   },
   {
    "duration": 27,
    "start_time": "2022-11-29T03:39:51.118Z"
   },
   {
    "duration": 5,
    "start_time": "2022-11-29T03:39:51.146Z"
   },
   {
    "duration": 8,
    "start_time": "2022-11-29T03:39:51.153Z"
   },
   {
    "duration": 8,
    "start_time": "2022-11-29T03:39:51.163Z"
   },
   {
    "duration": 22,
    "start_time": "2022-11-29T03:39:51.173Z"
   },
   {
    "duration": 17,
    "start_time": "2022-11-29T03:39:51.196Z"
   },
   {
    "duration": 1,
    "start_time": "2022-11-29T03:39:51.214Z"
   },
   {
    "duration": 0,
    "start_time": "2022-11-29T03:39:51.216Z"
   },
   {
    "duration": 0,
    "start_time": "2022-11-29T03:39:51.238Z"
   },
   {
    "duration": 0,
    "start_time": "2022-11-29T03:39:51.239Z"
   },
   {
    "duration": 4,
    "start_time": "2022-11-29T03:39:56.310Z"
   },
   {
    "duration": 3,
    "start_time": "2022-11-29T03:39:58.096Z"
   },
   {
    "duration": 4,
    "start_time": "2022-11-29T03:40:14.127Z"
   },
   {
    "duration": 4,
    "start_time": "2022-11-29T03:40:17.610Z"
   },
   {
    "duration": 7,
    "start_time": "2022-11-29T03:40:40.830Z"
   },
   {
    "duration": 4,
    "start_time": "2022-11-29T03:40:41.780Z"
   },
   {
    "duration": 3,
    "start_time": "2022-11-29T03:40:44.848Z"
   },
   {
    "duration": 4,
    "start_time": "2022-11-29T03:40:54.789Z"
   },
   {
    "duration": 3,
    "start_time": "2022-11-29T03:40:55.378Z"
   },
   {
    "duration": 15,
    "start_time": "2022-11-29T03:41:03.562Z"
   },
   {
    "duration": 4,
    "start_time": "2022-11-29T03:42:09.610Z"
   },
   {
    "duration": 45,
    "start_time": "2022-11-29T03:42:09.616Z"
   },
   {
    "duration": 13,
    "start_time": "2022-11-29T03:42:09.663Z"
   },
   {
    "duration": 41,
    "start_time": "2022-11-29T03:42:09.677Z"
   },
   {
    "duration": 25,
    "start_time": "2022-11-29T03:42:09.720Z"
   },
   {
    "duration": 4,
    "start_time": "2022-11-29T03:42:09.750Z"
   },
   {
    "duration": 7,
    "start_time": "2022-11-29T03:42:09.755Z"
   },
   {
    "duration": 4,
    "start_time": "2022-11-29T03:42:09.763Z"
   },
   {
    "duration": 12,
    "start_time": "2022-11-29T03:42:09.769Z"
   },
   {
    "duration": 5,
    "start_time": "2022-11-29T03:42:09.784Z"
   },
   {
    "duration": 58,
    "start_time": "2022-11-29T03:42:09.791Z"
   },
   {
    "duration": 6,
    "start_time": "2022-11-29T03:42:09.850Z"
   },
   {
    "duration": 36,
    "start_time": "2022-11-29T03:42:09.857Z"
   },
   {
    "duration": 7,
    "start_time": "2022-11-29T03:42:09.894Z"
   },
   {
    "duration": 6,
    "start_time": "2022-11-29T03:42:09.902Z"
   },
   {
    "duration": 10,
    "start_time": "2022-11-29T03:42:09.938Z"
   },
   {
    "duration": 5,
    "start_time": "2022-11-29T03:42:09.950Z"
   },
   {
    "duration": 6,
    "start_time": "2022-11-29T03:42:09.956Z"
   },
   {
    "duration": 3,
    "start_time": "2022-11-29T03:42:09.964Z"
   },
   {
    "duration": 4,
    "start_time": "2022-11-29T03:42:09.968Z"
   },
   {
    "duration": 4,
    "start_time": "2022-11-29T03:42:09.973Z"
   },
   {
    "duration": 4,
    "start_time": "2022-11-29T03:42:09.979Z"
   },
   {
    "duration": 5,
    "start_time": "2022-11-29T03:42:09.985Z"
   },
   {
    "duration": 47,
    "start_time": "2022-11-29T03:42:09.991Z"
   },
   {
    "duration": 5,
    "start_time": "2022-11-29T03:42:11.760Z"
   },
   {
    "duration": 6,
    "start_time": "2022-11-29T03:42:12.602Z"
   },
   {
    "duration": 4,
    "start_time": "2022-11-29T03:42:13.400Z"
   },
   {
    "duration": 4,
    "start_time": "2022-11-29T03:42:14.481Z"
   },
   {
    "duration": 3,
    "start_time": "2022-11-29T03:42:16.500Z"
   },
   {
    "duration": 4,
    "start_time": "2022-11-29T03:42:17.728Z"
   },
   {
    "duration": 317,
    "start_time": "2022-11-29T03:42:20.683Z"
   },
   {
    "duration": 26,
    "start_time": "2022-11-29T03:42:27.321Z"
   },
   {
    "duration": 36,
    "start_time": "2022-11-29T03:42:36.641Z"
   },
   {
    "duration": 25,
    "start_time": "2022-11-29T03:43:25.870Z"
   },
   {
    "duration": 2,
    "start_time": "2022-11-29T03:44:08.529Z"
   },
   {
    "duration": 603,
    "start_time": "2022-11-29T03:44:10.443Z"
   },
   {
    "duration": 13,
    "start_time": "2022-11-29T03:44:13.981Z"
   },
   {
    "duration": 4,
    "start_time": "2022-11-29T03:50:44.562Z"
   },
   {
    "duration": 39,
    "start_time": "2022-11-29T03:50:44.577Z"
   },
   {
    "duration": 13,
    "start_time": "2022-11-29T03:50:44.618Z"
   },
   {
    "duration": 41,
    "start_time": "2022-11-29T03:50:44.633Z"
   },
   {
    "duration": 13,
    "start_time": "2022-11-29T03:50:44.676Z"
   },
   {
    "duration": 4,
    "start_time": "2022-11-29T03:50:44.692Z"
   },
   {
    "duration": 6,
    "start_time": "2022-11-29T03:50:44.698Z"
   },
   {
    "duration": 33,
    "start_time": "2022-11-29T03:50:44.705Z"
   },
   {
    "duration": 12,
    "start_time": "2022-11-29T03:50:44.740Z"
   },
   {
    "duration": 5,
    "start_time": "2022-11-29T03:50:44.753Z"
   },
   {
    "duration": 18,
    "start_time": "2022-11-29T03:50:44.759Z"
   },
   {
    "duration": 5,
    "start_time": "2022-11-29T03:50:44.778Z"
   },
   {
    "duration": 4,
    "start_time": "2022-11-29T03:50:44.785Z"
   },
   {
    "duration": 10,
    "start_time": "2022-11-29T03:50:44.790Z"
   },
   {
    "duration": 39,
    "start_time": "2022-11-29T03:50:44.802Z"
   },
   {
    "duration": 7,
    "start_time": "2022-11-29T03:50:44.843Z"
   },
   {
    "duration": 3,
    "start_time": "2022-11-29T03:50:44.852Z"
   },
   {
    "duration": 3,
    "start_time": "2022-11-29T03:50:50.520Z"
   },
   {
    "duration": 9,
    "start_time": "2022-11-29T03:50:51.962Z"
   },
   {
    "duration": 498802,
    "start_time": "2022-11-29T03:52:38.184Z"
   },
   {
    "duration": 4,
    "start_time": "2022-11-29T05:21:18.612Z"
   },
   {
    "duration": 4,
    "start_time": "2022-11-29T05:22:45.902Z"
   },
   {
    "duration": 14,
    "start_time": "2022-11-29T05:26:50.666Z"
   },
   {
    "duration": 306,
    "start_time": "2022-11-29T05:27:29.712Z"
   },
   {
    "duration": 2,
    "start_time": "2022-11-29T05:27:30.435Z"
   },
   {
    "duration": 29,
    "start_time": "2022-11-29T05:27:31.110Z"
   },
   {
    "duration": 3,
    "start_time": "2022-11-29T05:27:31.844Z"
   },
   {
    "duration": 613,
    "start_time": "2022-11-29T05:27:35.026Z"
   },
   {
    "duration": 14,
    "start_time": "2022-11-29T05:27:36.165Z"
   },
   {
    "duration": 14,
    "start_time": "2022-11-29T05:28:08.515Z"
   },
   {
    "duration": 3,
    "start_time": "2022-11-29T05:28:51.559Z"
   },
   {
    "duration": 3,
    "start_time": "2022-11-29T05:29:05.980Z"
   },
   {
    "duration": 14,
    "start_time": "2022-11-29T05:29:16.856Z"
   },
   {
    "duration": 51,
    "start_time": "2022-11-29T05:29:49.621Z"
   },
   {
    "duration": 41,
    "start_time": "2022-11-29T05:30:04.225Z"
   },
   {
    "duration": 75,
    "start_time": "2022-11-29T05:30:23.494Z"
   },
   {
    "duration": 13,
    "start_time": "2022-11-29T05:30:26.745Z"
   },
   {
    "duration": 430059,
    "start_time": "2022-11-29T05:30:44.004Z"
   },
   {
    "duration": 8770,
    "start_time": "2022-11-29T05:37:58.347Z"
   },
   {
    "duration": 6826,
    "start_time": "2022-11-29T05:38:26.758Z"
   },
   {
    "duration": 16,
    "start_time": "2022-11-29T05:38:37.349Z"
   },
   {
    "duration": 103,
    "start_time": "2022-11-29T05:38:47.638Z"
   },
   {
    "duration": 43,
    "start_time": "2022-11-29T05:38:54.914Z"
   },
   {
    "duration": 43,
    "start_time": "2022-11-29T05:39:11.318Z"
   },
   {
    "duration": 5,
    "start_time": "2022-11-29T05:39:18.977Z"
   },
   {
    "duration": 11,
    "start_time": "2022-11-29T05:39:22.438Z"
   },
   {
    "duration": 451,
    "start_time": "2022-11-29T05:39:27.318Z"
   },
   {
    "duration": 8187,
    "start_time": "2022-11-29T05:40:14.356Z"
   },
   {
    "duration": 343,
    "start_time": "2022-11-29T05:40:36.269Z"
   },
   {
    "duration": 453,
    "start_time": "2022-11-29T05:41:22.417Z"
   },
   {
    "duration": 463,
    "start_time": "2022-11-29T05:41:27.801Z"
   },
   {
    "duration": 453,
    "start_time": "2022-11-29T05:41:33.189Z"
   },
   {
    "duration": 359,
    "start_time": "2022-11-29T05:41:39.668Z"
   },
   {
    "duration": 22,
    "start_time": "2022-11-29T05:41:53.160Z"
   },
   {
    "duration": 6,
    "start_time": "2022-11-29T05:41:53.717Z"
   },
   {
    "duration": 17,
    "start_time": "2022-11-29T05:42:05.024Z"
   },
   {
    "duration": 21,
    "start_time": "2022-11-29T05:42:11.966Z"
   },
   {
    "duration": 6,
    "start_time": "2022-11-29T05:42:13.267Z"
   },
   {
    "duration": 4,
    "start_time": "2022-11-29T05:42:26.259Z"
   },
   {
    "duration": 155,
    "start_time": "2022-11-29T05:42:32.887Z"
   },
   {
    "duration": 6,
    "start_time": "2022-11-29T05:42:34.278Z"
   },
   {
    "duration": 17,
    "start_time": "2022-11-29T05:42:50.357Z"
   },
   {
    "duration": 153,
    "start_time": "2022-11-29T05:42:54.598Z"
   },
   {
    "duration": 6,
    "start_time": "2022-11-29T05:42:56.307Z"
   },
   {
    "duration": 270,
    "start_time": "2022-11-29T05:43:13.038Z"
   },
   {
    "duration": 21,
    "start_time": "2022-11-29T05:43:14.958Z"
   },
   {
    "duration": 5,
    "start_time": "2022-11-29T05:43:17.510Z"
   },
   {
    "duration": 7,
    "start_time": "2022-11-29T05:43:21.637Z"
   },
   {
    "duration": 6686,
    "start_time": "2022-11-29T05:43:58.708Z"
   },
   {
    "duration": 7545,
    "start_time": "2022-11-29T05:44:54.262Z"
   },
   {
    "duration": 2294,
    "start_time": "2022-11-29T05:45:09.398Z"
   },
   {
    "duration": 286,
    "start_time": "2022-11-29T05:45:19.008Z"
   },
   {
    "duration": 76,
    "start_time": "2022-11-29T05:45:49.485Z"
   },
   {
    "duration": 276,
    "start_time": "2022-11-29T05:45:55.997Z"
   },
   {
    "duration": 73,
    "start_time": "2022-11-29T05:46:02.569Z"
   },
   {
    "duration": 39,
    "start_time": "2022-11-29T05:46:06.837Z"
   },
   {
    "duration": 4,
    "start_time": "2022-11-29T05:46:11.038Z"
   },
   {
    "duration": 10,
    "start_time": "2022-11-29T05:46:13.560Z"
   },
   {
    "duration": 354,
    "start_time": "2022-11-29T05:46:14.917Z"
   },
   {
    "duration": 21,
    "start_time": "2022-11-29T05:46:17.287Z"
   },
   {
    "duration": 6,
    "start_time": "2022-11-29T05:46:18.436Z"
   },
   {
    "duration": 5,
    "start_time": "2022-11-29T05:46:22.968Z"
   },
   {
    "duration": 150,
    "start_time": "2022-11-29T05:46:26.597Z"
   },
   {
    "duration": 5,
    "start_time": "2022-11-29T05:46:29.866Z"
   },
   {
    "duration": 238,
    "start_time": "2022-11-29T05:47:19.861Z"
   },
   {
    "duration": 127,
    "start_time": "2022-11-29T05:48:25.993Z"
   },
   {
    "duration": 241,
    "start_time": "2022-11-29T05:48:41.610Z"
   },
   {
    "duration": 12,
    "start_time": "2022-11-29T05:49:12.876Z"
   },
   {
    "duration": 11491,
    "start_time": "2022-11-29T05:49:25.682Z"
   },
   {
    "duration": 827,
    "start_time": "2022-11-29T05:51:13.218Z"
   },
   {
    "duration": 31697,
    "start_time": "2022-11-29T05:52:44.917Z"
   },
   {
    "duration": 5311,
    "start_time": "2022-11-29T05:56:25.784Z"
   },
   {
    "duration": 5519,
    "start_time": "2022-11-29T05:56:41.252Z"
   },
   {
    "duration": 34064,
    "start_time": "2022-11-29T05:57:08.591Z"
   },
   {
    "duration": 26190,
    "start_time": "2022-11-29T06:01:03.147Z"
   },
   {
    "duration": 269,
    "start_time": "2022-11-29T06:10:58.154Z"
   },
   {
    "duration": 147,
    "start_time": "2022-11-29T06:11:00.257Z"
   },
   {
    "duration": 29,
    "start_time": "2022-11-29T06:11:50.673Z"
   },
   {
    "duration": 34,
    "start_time": "2022-11-29T06:12:04.839Z"
   },
   {
    "duration": 270,
    "start_time": "2022-11-29T06:12:18.267Z"
   },
   {
    "duration": 36,
    "start_time": "2022-11-29T06:12:21.218Z"
   },
   {
    "duration": 145,
    "start_time": "2022-11-29T06:12:41.397Z"
   },
   {
    "duration": 320,
    "start_time": "2022-11-29T06:13:26.525Z"
   },
   {
    "duration": 325,
    "start_time": "2022-11-29T06:14:20.627Z"
   },
   {
    "duration": 253,
    "start_time": "2022-11-29T06:14:51.904Z"
   },
   {
    "duration": 79,
    "start_time": "2022-11-29T06:16:00.369Z"
   },
   {
    "duration": 148,
    "start_time": "2022-11-29T06:16:09.749Z"
   },
   {
    "duration": 317,
    "start_time": "2022-11-29T06:16:27.439Z"
   },
   {
    "duration": 322,
    "start_time": "2022-11-29T06:16:51.018Z"
   },
   {
    "duration": 4,
    "start_time": "2022-11-29T06:19:45.501Z"
   },
   {
    "duration": 13,
    "start_time": "2022-11-29T06:19:49.018Z"
   },
   {
    "duration": 361,
    "start_time": "2022-11-29T06:19:50.765Z"
   },
   {
    "duration": 22,
    "start_time": "2022-11-29T06:19:53.476Z"
   },
   {
    "duration": 6,
    "start_time": "2022-11-29T06:19:55.942Z"
   },
   {
    "duration": 4,
    "start_time": "2022-11-29T06:20:03.460Z"
   },
   {
    "duration": 153,
    "start_time": "2022-11-29T06:20:04.538Z"
   },
   {
    "duration": 6,
    "start_time": "2022-11-29T06:20:05.786Z"
   },
   {
    "duration": 4,
    "start_time": "2022-11-29T06:20:20.519Z"
   },
   {
    "duration": 3,
    "start_time": "2022-11-29T06:20:34.527Z"
   },
   {
    "duration": 264,
    "start_time": "2022-11-29T06:20:35.258Z"
   },
   {
    "duration": 19,
    "start_time": "2022-11-29T06:20:43.446Z"
   },
   {
    "duration": 4,
    "start_time": "2022-11-29T06:20:43.979Z"
   },
   {
    "duration": 254,
    "start_time": "2022-11-29T06:21:58.167Z"
   },
   {
    "duration": 21,
    "start_time": "2022-11-29T06:22:01.455Z"
   },
   {
    "duration": 4,
    "start_time": "2022-11-29T06:22:42.646Z"
   },
   {
    "duration": 7,
    "start_time": "2022-11-29T06:22:48.416Z"
   },
   {
    "duration": 84,
    "start_time": "2022-11-29T06:30:07.978Z"
   },
   {
    "duration": 4,
    "start_time": "2022-11-29T06:41:11.223Z"
   },
   {
    "duration": 9,
    "start_time": "2022-11-29T06:41:32.247Z"
   },
   {
    "duration": 9,
    "start_time": "2022-11-29T06:41:47.137Z"
   },
   {
    "duration": 5,
    "start_time": "2022-11-29T06:42:17.980Z"
   },
   {
    "duration": 4,
    "start_time": "2022-11-29T06:48:06.450Z"
   },
   {
    "duration": 25,
    "start_time": "2022-11-29T06:48:15.376Z"
   },
   {
    "duration": 23,
    "start_time": "2022-11-29T06:48:44.522Z"
   },
   {
    "duration": 11,
    "start_time": "2022-11-29T06:49:24.485Z"
   },
   {
    "duration": 10,
    "start_time": "2022-11-29T06:49:31.908Z"
   },
   {
    "duration": 4,
    "start_time": "2022-11-29T06:50:12.954Z"
   },
   {
    "duration": 3,
    "start_time": "2022-11-29T06:50:21.118Z"
   },
   {
    "duration": 4,
    "start_time": "2022-11-29T06:53:00.117Z"
   },
   {
    "duration": 22,
    "start_time": "2022-11-29T06:53:05.186Z"
   },
   {
    "duration": 40,
    "start_time": "2022-11-29T06:56:29.152Z"
   },
   {
    "duration": 7556,
    "start_time": "2022-11-29T06:56:44.232Z"
   },
   {
    "duration": 14129,
    "start_time": "2022-11-29T06:57:11.530Z"
   },
   {
    "duration": 13965,
    "start_time": "2022-11-29T06:57:47.790Z"
   },
   {
    "duration": 4,
    "start_time": "2022-11-29T06:58:47.252Z"
   },
   {
    "duration": 3,
    "start_time": "2022-11-29T06:59:02.752Z"
   },
   {
    "duration": 5,
    "start_time": "2022-11-29T06:59:31.141Z"
   },
   {
    "duration": 132,
    "start_time": "2022-11-29T07:00:55.400Z"
   },
   {
    "duration": 29,
    "start_time": "2022-11-29T07:02:33.150Z"
   },
   {
    "duration": 79,
    "start_time": "2022-11-29T07:05:16.620Z"
   },
   {
    "duration": 4,
    "start_time": "2022-11-29T07:05:22.739Z"
   },
   {
    "duration": 24,
    "start_time": "2022-11-29T07:05:28.886Z"
   },
   {
    "duration": 116,
    "start_time": "2022-11-29T07:05:46.814Z"
   },
   {
    "duration": 23,
    "start_time": "2022-11-29T07:05:51.792Z"
   },
   {
    "duration": 24,
    "start_time": "2022-11-29T07:06:03.510Z"
   },
   {
    "duration": 24,
    "start_time": "2022-11-29T07:06:10.751Z"
   },
   {
    "duration": 82,
    "start_time": "2022-11-29T07:14:16.245Z"
   },
   {
    "duration": 11,
    "start_time": "2022-11-29T07:19:23.960Z"
   },
   {
    "duration": 23,
    "start_time": "2022-11-29T07:19:58.500Z"
   },
   {
    "duration": 23,
    "start_time": "2022-11-29T07:20:32.009Z"
   },
   {
    "duration": 10,
    "start_time": "2022-11-29T07:21:32.959Z"
   },
   {
    "duration": 4,
    "start_time": "2022-11-29T07:21:50.134Z"
   },
   {
    "duration": 109,
    "start_time": "2022-11-29T07:21:57.198Z"
   },
   {
    "duration": 11,
    "start_time": "2022-11-29T07:22:07.357Z"
   },
   {
    "duration": 16006,
    "start_time": "2022-11-29T07:23:27.549Z"
   },
   {
    "duration": 5,
    "start_time": "2022-11-29T07:23:54.922Z"
   },
   {
    "duration": 21628,
    "start_time": "2022-11-29T07:24:21.511Z"
   },
   {
    "duration": 75,
    "start_time": "2022-11-29T07:26:29.464Z"
   },
   {
    "duration": 569,
    "start_time": "2022-11-29T07:26:49.974Z"
   },
   {
    "duration": 21732,
    "start_time": "2022-11-29T07:27:08.307Z"
   },
   {
    "duration": 423,
    "start_time": "2022-11-29T07:27:47.819Z"
   },
   {
    "duration": 456,
    "start_time": "2022-11-29T07:30:14.482Z"
   },
   {
    "duration": 682,
    "start_time": "2022-11-29T07:30:24.763Z"
   },
   {
    "duration": 636,
    "start_time": "2022-11-29T07:30:52.801Z"
   },
   {
    "duration": 116,
    "start_time": "2022-11-29T07:31:48.823Z"
   },
   {
    "duration": 9,
    "start_time": "2022-11-29T07:31:52.938Z"
   },
   {
    "duration": 497,
    "start_time": "2022-11-29T07:32:03.640Z"
   },
   {
    "duration": 9,
    "start_time": "2022-11-29T07:32:25.679Z"
   },
   {
    "duration": 109,
    "start_time": "2022-11-29T07:32:32.529Z"
   },
   {
    "duration": 10,
    "start_time": "2022-11-29T07:32:35.357Z"
   },
   {
    "duration": 85,
    "start_time": "2022-11-29T07:32:59.054Z"
   },
   {
    "duration": 9,
    "start_time": "2022-11-29T07:33:02.069Z"
   },
   {
    "duration": 8,
    "start_time": "2022-11-29T07:35:57.592Z"
   },
   {
    "duration": 9,
    "start_time": "2022-11-29T07:36:15.233Z"
   },
   {
    "duration": 367,
    "start_time": "2022-11-29T07:36:51.975Z"
   },
   {
    "duration": 671,
    "start_time": "2022-11-29T07:38:07.771Z"
   },
   {
    "duration": 614,
    "start_time": "2022-11-29T07:38:38.625Z"
   },
   {
    "duration": 645,
    "start_time": "2022-11-29T07:39:03.894Z"
   },
   {
    "duration": 593,
    "start_time": "2022-11-29T07:40:18.052Z"
   },
   {
    "duration": 363,
    "start_time": "2022-11-29T07:40:36.879Z"
   },
   {
    "duration": 9,
    "start_time": "2022-11-29T07:40:41.177Z"
   },
   {
    "duration": 9,
    "start_time": "2022-11-29T07:41:19.489Z"
   },
   {
    "duration": 4,
    "start_time": "2022-11-29T07:41:27.776Z"
   },
   {
    "duration": 4,
    "start_time": "2022-11-29T07:41:36.054Z"
   },
   {
    "duration": 56,
    "start_time": "2022-11-29T07:41:59.186Z"
   },
   {
    "duration": 614,
    "start_time": "2022-11-29T07:42:12.228Z"
   },
   {
    "duration": 36,
    "start_time": "2022-11-29T07:42:58.233Z"
   },
   {
    "duration": 9,
    "start_time": "2022-11-29T07:43:06.755Z"
   },
   {
    "duration": 34,
    "start_time": "2022-11-29T07:43:17.591Z"
   },
   {
    "duration": 674,
    "start_time": "2022-11-29T07:43:27.169Z"
   },
   {
    "duration": 347,
    "start_time": "2022-11-29T07:43:51.517Z"
   },
   {
    "duration": 657,
    "start_time": "2022-11-29T07:43:59.486Z"
   },
   {
    "duration": 9266,
    "start_time": "2022-11-29T07:44:04.375Z"
   },
   {
    "duration": 34,
    "start_time": "2022-11-29T07:44:23.276Z"
   },
   {
    "duration": 35,
    "start_time": "2022-11-29T07:44:30.776Z"
   },
   {
    "duration": 9,
    "start_time": "2022-11-29T07:44:40.455Z"
   },
   {
    "duration": 4,
    "start_time": "2022-11-29T07:44:57.865Z"
   },
   {
    "duration": 14096,
    "start_time": "2022-11-29T07:45:53.157Z"
   },
   {
    "duration": 12,
    "start_time": "2022-11-29T07:47:34.706Z"
   },
   {
    "duration": 4,
    "start_time": "2022-11-29T07:47:38.848Z"
   },
   {
    "duration": 44,
    "start_time": "2022-11-29T07:47:38.854Z"
   },
   {
    "duration": 13,
    "start_time": "2022-11-29T07:47:38.899Z"
   },
   {
    "duration": 14,
    "start_time": "2022-11-29T07:47:38.914Z"
   },
   {
    "duration": 4,
    "start_time": "2022-11-29T07:47:38.931Z"
   },
   {
    "duration": 6,
    "start_time": "2022-11-29T07:47:38.937Z"
   },
   {
    "duration": 4,
    "start_time": "2022-11-29T07:47:38.945Z"
   },
   {
    "duration": 14,
    "start_time": "2022-11-29T07:47:38.951Z"
   },
   {
    "duration": 5,
    "start_time": "2022-11-29T07:47:38.967Z"
   },
   {
    "duration": 19,
    "start_time": "2022-11-29T07:47:38.974Z"
   },
   {
    "duration": 6,
    "start_time": "2022-11-29T07:47:39.037Z"
   },
   {
    "duration": 4,
    "start_time": "2022-11-29T07:47:59.636Z"
   },
   {
    "duration": 45,
    "start_time": "2022-11-29T07:47:59.642Z"
   },
   {
    "duration": 12,
    "start_time": "2022-11-29T07:47:59.689Z"
   },
   {
    "duration": 14,
    "start_time": "2022-11-29T07:47:59.703Z"
   },
   {
    "duration": 3,
    "start_time": "2022-11-29T07:47:59.719Z"
   },
   {
    "duration": 13,
    "start_time": "2022-11-29T07:47:59.724Z"
   },
   {
    "duration": 4,
    "start_time": "2022-11-29T07:47:59.738Z"
   },
   {
    "duration": 17,
    "start_time": "2022-11-29T07:47:59.743Z"
   },
   {
    "duration": 6,
    "start_time": "2022-11-29T07:47:59.762Z"
   },
   {
    "duration": 18,
    "start_time": "2022-11-29T07:47:59.771Z"
   },
   {
    "duration": 47,
    "start_time": "2022-11-29T07:47:59.791Z"
   },
   {
    "duration": 27798,
    "start_time": "2022-11-29T07:47:59.840Z"
   },
   {
    "duration": 4,
    "start_time": "2022-11-29T07:48:27.641Z"
   },
   {
    "duration": 13,
    "start_time": "2022-11-29T07:48:27.646Z"
   },
   {
    "duration": 5,
    "start_time": "2022-11-29T07:48:27.660Z"
   },
   {
    "duration": 10,
    "start_time": "2022-11-29T07:48:27.667Z"
   },
   {
    "duration": 8,
    "start_time": "2022-11-29T07:48:27.678Z"
   },
   {
    "duration": 4,
    "start_time": "2022-11-29T07:48:27.737Z"
   },
   {
    "duration": 5,
    "start_time": "2022-11-29T07:48:27.742Z"
   },
   {
    "duration": 14,
    "start_time": "2022-11-29T07:48:42.325Z"
   },
   {
    "duration": 9,
    "start_time": "2022-11-29T07:48:42.854Z"
   },
   {
    "duration": 4,
    "start_time": "2022-11-29T07:49:12.413Z"
   },
   {
    "duration": 55,
    "start_time": "2022-11-29T07:49:12.419Z"
   },
   {
    "duration": 13,
    "start_time": "2022-11-29T07:49:12.475Z"
   },
   {
    "duration": 20,
    "start_time": "2022-11-29T07:49:12.490Z"
   },
   {
    "duration": 12,
    "start_time": "2022-11-29T07:49:12.512Z"
   },
   {
    "duration": 8,
    "start_time": "2022-11-29T07:49:12.526Z"
   },
   {
    "duration": 5,
    "start_time": "2022-11-29T07:49:12.536Z"
   },
   {
    "duration": 16,
    "start_time": "2022-11-29T07:49:12.542Z"
   },
   {
    "duration": 4,
    "start_time": "2022-11-29T07:49:12.560Z"
   },
   {
    "duration": 16,
    "start_time": "2022-11-29T07:49:12.566Z"
   },
   {
    "duration": 4,
    "start_time": "2022-11-29T07:49:12.584Z"
   },
   {
    "duration": 27602,
    "start_time": "2022-11-29T07:49:12.590Z"
   },
   {
    "duration": 5,
    "start_time": "2022-11-29T07:50:02.530Z"
   },
   {
    "duration": 4,
    "start_time": "2022-11-29T07:50:13.985Z"
   },
   {
    "duration": 9,
    "start_time": "2022-11-29T07:50:20.246Z"
   },
   {
    "duration": 5,
    "start_time": "2022-11-29T07:50:20.687Z"
   },
   {
    "duration": 8,
    "start_time": "2022-11-29T07:50:21.267Z"
   },
   {
    "duration": 6,
    "start_time": "2022-11-29T07:50:22.436Z"
   },
   {
    "duration": 3,
    "start_time": "2022-11-29T07:50:23.257Z"
   },
   {
    "duration": 2,
    "start_time": "2022-11-29T07:50:26.298Z"
   },
   {
    "duration": 406,
    "start_time": "2022-11-29T07:50:30.657Z"
   },
   {
    "duration": 2,
    "start_time": "2022-11-29T07:50:31.516Z"
   },
   {
    "duration": 21965,
    "start_time": "2022-11-29T07:50:48.974Z"
   },
   {
    "duration": 797,
    "start_time": "2022-11-29T07:51:10.942Z"
   },
   {
    "duration": 83,
    "start_time": "2022-11-29T07:53:42.813Z"
   },
   {
    "duration": 13454,
    "start_time": "2022-11-29T07:54:21.214Z"
   },
   {
    "duration": 31,
    "start_time": "2022-11-29T07:54:34.670Z"
   },
   {
    "duration": 9,
    "start_time": "2022-11-29T07:54:39.805Z"
   },
   {
    "duration": 156,
    "start_time": "2022-11-29T07:58:21.892Z"
   },
   {
    "duration": 551,
    "start_time": "2022-11-29T07:58:58.093Z"
   },
   {
    "duration": 274,
    "start_time": "2022-11-29T07:59:11.592Z"
   },
   {
    "duration": 4,
    "start_time": "2022-11-29T07:59:31.052Z"
   },
   {
    "duration": 12,
    "start_time": "2022-11-29T07:59:34.490Z"
   },
   {
    "duration": 387,
    "start_time": "2022-11-29T07:59:35.251Z"
   },
   {
    "duration": 22,
    "start_time": "2022-11-29T07:59:42.430Z"
   },
   {
    "duration": 7,
    "start_time": "2022-11-29T07:59:45.774Z"
   },
   {
    "duration": 4,
    "start_time": "2022-11-29T07:59:55.892Z"
   },
   {
    "duration": 169,
    "start_time": "2022-11-29T07:59:57.782Z"
   },
   {
    "duration": 158,
    "start_time": "2022-11-29T08:00:31.410Z"
   },
   {
    "duration": 4,
    "start_time": "2022-11-29T08:00:36.728Z"
   },
   {
    "duration": 1447,
    "start_time": "2022-11-29T08:01:34.837Z"
   },
   {
    "duration": 44,
    "start_time": "2022-11-29T08:01:36.286Z"
   },
   {
    "duration": 18,
    "start_time": "2022-11-29T08:01:36.331Z"
   },
   {
    "duration": 14,
    "start_time": "2022-11-29T08:01:36.351Z"
   },
   {
    "duration": 4,
    "start_time": "2022-11-29T08:01:36.367Z"
   },
   {
    "duration": 8,
    "start_time": "2022-11-29T08:01:36.372Z"
   },
   {
    "duration": 6,
    "start_time": "2022-11-29T08:01:36.381Z"
   },
   {
    "duration": 18,
    "start_time": "2022-11-29T08:01:36.388Z"
   },
   {
    "duration": 34,
    "start_time": "2022-11-29T08:01:36.407Z"
   },
   {
    "duration": 21,
    "start_time": "2022-11-29T08:01:36.444Z"
   },
   {
    "duration": 6,
    "start_time": "2022-11-29T08:01:36.468Z"
   },
   {
    "duration": 7,
    "start_time": "2022-11-29T08:01:36.475Z"
   },
   {
    "duration": 24115,
    "start_time": "2022-11-29T08:01:36.483Z"
   },
   {
    "duration": 5,
    "start_time": "2022-11-29T08:02:00.600Z"
   },
   {
    "duration": 32,
    "start_time": "2022-11-29T08:02:00.607Z"
   },
   {
    "duration": 5,
    "start_time": "2022-11-29T08:02:00.641Z"
   },
   {
    "duration": 9,
    "start_time": "2022-11-29T08:02:00.648Z"
   },
   {
    "duration": 22,
    "start_time": "2022-11-29T08:02:00.659Z"
   },
   {
    "duration": 26,
    "start_time": "2022-11-29T08:02:00.683Z"
   },
   {
    "duration": 19,
    "start_time": "2022-11-29T08:02:00.711Z"
   },
   {
    "duration": 402,
    "start_time": "2022-11-29T08:02:00.732Z"
   },
   {
    "duration": 2,
    "start_time": "2022-11-29T08:02:01.138Z"
   },
   {
    "duration": 22097,
    "start_time": "2022-11-29T08:02:01.142Z"
   },
   {
    "duration": 797,
    "start_time": "2022-11-29T08:02:23.241Z"
   },
   {
    "duration": 13855,
    "start_time": "2022-11-29T08:02:24.041Z"
   },
   {
    "duration": 46,
    "start_time": "2022-11-29T08:02:37.898Z"
   },
   {
    "duration": 10,
    "start_time": "2022-11-29T08:02:37.946Z"
   },
   {
    "duration": 120,
    "start_time": "2022-11-29T08:02:37.961Z"
   },
   {
    "duration": 303,
    "start_time": "2022-11-29T08:02:38.083Z"
   },
   {
    "duration": 147,
    "start_time": "2022-11-29T08:02:38.387Z"
   },
   {
    "duration": 702,
    "start_time": "2022-11-29T08:02:38.537Z"
   },
   {
    "duration": 398,
    "start_time": "2022-11-29T08:02:39.242Z"
   },
   {
    "duration": 39,
    "start_time": "2022-11-29T08:02:39.642Z"
   },
   {
    "duration": 286,
    "start_time": "2022-11-29T08:02:39.683Z"
   },
   {
    "duration": 3,
    "start_time": "2022-11-29T08:02:39.971Z"
   },
   {
    "duration": 15,
    "start_time": "2022-11-29T08:02:39.976Z"
   },
   {
    "duration": 411,
    "start_time": "2022-11-29T08:02:39.993Z"
   },
   {
    "duration": 33,
    "start_time": "2022-11-29T08:02:40.405Z"
   },
   {
    "duration": 5,
    "start_time": "2022-11-29T08:02:40.440Z"
   },
   {
    "duration": 4,
    "start_time": "2022-11-29T08:02:40.446Z"
   },
   {
    "duration": 264,
    "start_time": "2022-11-29T08:03:03.535Z"
   },
   {
    "duration": 160,
    "start_time": "2022-11-29T08:03:14.440Z"
   },
   {
    "duration": 177,
    "start_time": "2022-11-29T08:03:22.534Z"
   },
   {
    "duration": 7,
    "start_time": "2022-11-29T08:03:24.494Z"
   },
   {
    "duration": 320,
    "start_time": "2022-11-29T08:07:25.708Z"
   },
   {
    "duration": 316,
    "start_time": "2022-11-29T08:07:36.536Z"
   },
   {
    "duration": 611,
    "start_time": "2022-11-29T08:08:56.729Z"
   },
   {
    "duration": 51,
    "start_time": "2022-11-29T08:10:27.716Z"
   },
   {
    "duration": 402,
    "start_time": "2022-11-29T08:12:42.549Z"
   },
   {
    "duration": 4,
    "start_time": "2022-11-29T08:12:49.098Z"
   },
   {
    "duration": 13,
    "start_time": "2022-11-29T08:12:51.675Z"
   },
   {
    "duration": 430,
    "start_time": "2022-11-29T08:12:52.837Z"
   },
   {
    "duration": 23,
    "start_time": "2022-11-29T08:13:01.187Z"
   },
   {
    "duration": 7,
    "start_time": "2022-11-29T08:13:02.505Z"
   },
   {
    "duration": 51,
    "start_time": "2022-11-29T08:14:13.658Z"
   },
   {
    "duration": 4,
    "start_time": "2022-11-29T08:14:30.997Z"
   },
   {
    "duration": 10,
    "start_time": "2022-11-29T08:14:31.472Z"
   },
   {
    "duration": 415,
    "start_time": "2022-11-29T08:14:36.498Z"
   },
   {
    "duration": 4,
    "start_time": "2022-11-29T08:15:17.347Z"
   },
   {
    "duration": 169,
    "start_time": "2022-11-29T08:15:20.190Z"
   },
   {
    "duration": 4,
    "start_time": "2022-11-29T08:17:56.318Z"
   },
   {
    "duration": 10,
    "start_time": "2022-11-29T08:17:56.528Z"
   },
   {
    "duration": 416,
    "start_time": "2022-11-29T08:17:57.147Z"
   },
   {
    "duration": 137,
    "start_time": "2022-11-29T08:17:57.982Z"
   },
   {
    "duration": 3,
    "start_time": "2022-11-29T08:19:18.347Z"
   },
   {
    "duration": 11,
    "start_time": "2022-11-29T08:19:19.070Z"
   },
   {
    "duration": 462,
    "start_time": "2022-11-29T08:19:20.346Z"
   },
   {
    "duration": 144,
    "start_time": "2022-11-29T08:19:27.782Z"
   },
   {
    "duration": 4,
    "start_time": "2022-11-29T08:20:00.976Z"
   },
   {
    "duration": 160,
    "start_time": "2022-11-29T08:20:01.827Z"
   },
   {
    "duration": 6,
    "start_time": "2022-11-29T08:20:10.175Z"
   },
   {
    "duration": 282,
    "start_time": "2022-11-29T08:20:17.521Z"
   },
   {
    "duration": 24,
    "start_time": "2022-11-29T08:20:18.027Z"
   },
   {
    "duration": 5,
    "start_time": "2022-11-29T08:20:19.417Z"
   },
   {
    "duration": 6,
    "start_time": "2022-11-29T08:20:19.973Z"
   },
   {
    "duration": 132,
    "start_time": "2022-11-29T08:21:35.198Z"
   },
   {
    "duration": 135,
    "start_time": "2022-11-29T08:21:52.174Z"
   },
   {
    "duration": 132,
    "start_time": "2022-11-29T08:22:29.607Z"
   },
   {
    "duration": 134,
    "start_time": "2022-11-29T08:22:39.378Z"
   },
   {
    "duration": 317,
    "start_time": "2022-11-29T08:23:07.386Z"
   },
   {
    "duration": 129,
    "start_time": "2022-11-29T08:23:07.987Z"
   },
   {
    "duration": 3,
    "start_time": "2022-11-29T08:23:10.034Z"
   },
   {
    "duration": 9,
    "start_time": "2022-11-29T08:23:32.711Z"
   },
   {
    "duration": 18,
    "start_time": "2022-11-29T08:26:37.179Z"
   },
   {
    "duration": 10,
    "start_time": "2022-11-29T08:38:59.567Z"
   },
   {
    "duration": 323,
    "start_time": "2022-11-29T08:39:07.801Z"
   },
   {
    "duration": 571,
    "start_time": "2022-11-29T08:39:15.104Z"
   },
   {
    "duration": 194,
    "start_time": "2022-11-29T08:39:24.277Z"
   },
   {
    "duration": 19,
    "start_time": "2022-11-29T08:39:27.957Z"
   },
   {
    "duration": 3,
    "start_time": "2022-11-29T08:39:43.955Z"
   },
   {
    "duration": 16,
    "start_time": "2022-11-29T08:40:28.675Z"
   },
   {
    "duration": 15,
    "start_time": "2022-11-29T08:40:41.093Z"
   },
   {
    "duration": 8,
    "start_time": "2022-11-29T08:40:55.553Z"
   },
   {
    "duration": 75,
    "start_time": "2022-11-29T08:41:54.523Z"
   },
   {
    "duration": 11,
    "start_time": "2022-11-29T08:42:01.566Z"
   },
   {
    "duration": 4,
    "start_time": "2022-11-29T15:33:10.534Z"
   },
   {
    "duration": 62,
    "start_time": "2022-11-29T15:33:10.540Z"
   },
   {
    "duration": 13,
    "start_time": "2022-11-29T15:33:10.604Z"
   },
   {
    "duration": 24,
    "start_time": "2022-11-29T15:33:10.619Z"
   },
   {
    "duration": 18,
    "start_time": "2022-11-29T15:33:10.646Z"
   },
   {
    "duration": 37,
    "start_time": "2022-11-29T15:33:10.666Z"
   },
   {
    "duration": 10,
    "start_time": "2022-11-29T15:33:10.704Z"
   },
   {
    "duration": 22,
    "start_time": "2022-11-29T15:33:10.715Z"
   },
   {
    "duration": 5,
    "start_time": "2022-11-29T15:33:10.739Z"
   },
   {
    "duration": 24,
    "start_time": "2022-11-29T15:33:10.746Z"
   },
   {
    "duration": 6,
    "start_time": "2022-11-29T15:33:10.773Z"
   },
   {
    "duration": 17,
    "start_time": "2022-11-29T15:33:10.780Z"
   },
   {
    "duration": 25168,
    "start_time": "2022-11-29T15:33:10.799Z"
   },
   {
    "duration": 5,
    "start_time": "2022-11-29T15:33:35.970Z"
   },
   {
    "duration": 28,
    "start_time": "2022-11-29T15:33:35.976Z"
   },
   {
    "duration": 5,
    "start_time": "2022-11-29T15:33:36.038Z"
   },
   {
    "duration": 10,
    "start_time": "2022-11-29T15:33:36.045Z"
   },
   {
    "duration": 5,
    "start_time": "2022-11-29T15:33:36.057Z"
   },
   {
    "duration": 4,
    "start_time": "2022-11-29T15:33:36.063Z"
   },
   {
    "duration": 5,
    "start_time": "2022-11-29T15:33:36.068Z"
   },
   {
    "duration": 371,
    "start_time": "2022-11-29T15:33:36.075Z"
   },
   {
    "duration": 2,
    "start_time": "2022-11-29T15:33:36.449Z"
   },
   {
    "duration": 23895,
    "start_time": "2022-11-29T15:33:36.452Z"
   },
   {
    "duration": 1093,
    "start_time": "2022-11-29T15:34:00.445Z"
   },
   {
    "duration": 14286,
    "start_time": "2022-11-29T15:34:01.541Z"
   },
   {
    "duration": 41,
    "start_time": "2022-11-29T15:34:15.830Z"
   },
   {
    "duration": 9,
    "start_time": "2022-11-29T15:34:15.872Z"
   },
   {
    "duration": 111,
    "start_time": "2022-11-29T15:34:15.883Z"
   },
   {
    "duration": 137,
    "start_time": "2022-11-29T15:37:52.759Z"
   },
   {
    "duration": 83,
    "start_time": "2022-11-29T15:39:18.670Z"
   },
   {
    "duration": 303,
    "start_time": "2022-11-29T15:39:22.424Z"
   },
   {
    "duration": 133,
    "start_time": "2022-11-29T15:39:39.569Z"
   },
   {
    "duration": 4,
    "start_time": "2022-11-29T15:39:59.147Z"
   },
   {
    "duration": 11,
    "start_time": "2022-11-29T15:39:59.831Z"
   },
   {
    "duration": 136,
    "start_time": "2022-11-29T15:42:14.426Z"
   },
   {
    "duration": 171,
    "start_time": "2022-11-29T15:43:18.859Z"
   },
   {
    "duration": 4,
    "start_time": "2022-11-29T15:43:28.627Z"
   },
   {
    "duration": 11,
    "start_time": "2022-11-29T15:43:29.076Z"
   },
   {
    "duration": 405,
    "start_time": "2022-11-29T15:43:29.699Z"
   },
   {
    "duration": 137,
    "start_time": "2022-11-29T15:43:30.877Z"
   },
   {
    "duration": 4,
    "start_time": "2022-11-29T15:43:34.609Z"
   },
   {
    "duration": 184,
    "start_time": "2022-11-29T15:43:36.105Z"
   },
   {
    "duration": 140,
    "start_time": "2022-11-29T15:43:37.099Z"
   },
   {
    "duration": 138,
    "start_time": "2022-11-29T15:44:13.072Z"
   },
   {
    "duration": 149,
    "start_time": "2022-11-29T15:44:51.858Z"
   },
   {
    "duration": 247,
    "start_time": "2022-11-29T15:45:37.573Z"
   },
   {
    "duration": 285,
    "start_time": "2022-11-29T15:45:47.119Z"
   },
   {
    "duration": 270,
    "start_time": "2022-11-29T15:45:56.372Z"
   },
   {
    "duration": 178,
    "start_time": "2022-11-29T15:46:06.828Z"
   },
   {
    "duration": 172,
    "start_time": "2022-11-29T15:47:06.996Z"
   },
   {
    "duration": 176,
    "start_time": "2022-11-29T15:48:15.484Z"
   },
   {
    "duration": 194,
    "start_time": "2022-11-29T15:51:42.482Z"
   },
   {
    "duration": 170,
    "start_time": "2022-11-29T15:51:58.106Z"
   },
   {
    "duration": 203,
    "start_time": "2022-11-29T15:52:05.009Z"
   },
   {
    "duration": 203,
    "start_time": "2022-11-29T15:53:31.223Z"
   },
   {
    "duration": 9,
    "start_time": "2022-11-29T15:54:44.480Z"
   },
   {
    "duration": 4,
    "start_time": "2022-11-29T15:54:45.704Z"
   },
   {
    "duration": 2,
    "start_time": "2022-11-29T15:54:51.793Z"
   },
   {
    "duration": 270,
    "start_time": "2022-11-29T15:54:52.251Z"
   },
   {
    "duration": 20,
    "start_time": "2022-11-29T15:54:54.810Z"
   },
   {
    "duration": 5,
    "start_time": "2022-11-29T15:54:55.467Z"
   },
   {
    "duration": 5,
    "start_time": "2022-11-29T15:55:02.092Z"
   },
   {
    "duration": 12,
    "start_time": "2022-11-29T15:55:03.025Z"
   },
   {
    "duration": 12,
    "start_time": "2022-11-29T15:55:07.201Z"
   },
   {
    "duration": 11,
    "start_time": "2022-11-29T15:55:37.780Z"
   },
   {
    "duration": 24,
    "start_time": "2022-11-29T15:55:48.867Z"
   },
   {
    "duration": 17,
    "start_time": "2022-11-29T15:55:58.021Z"
   },
   {
    "duration": 21,
    "start_time": "2022-11-29T15:55:59.824Z"
   },
   {
    "duration": 16,
    "start_time": "2022-11-29T15:56:01.555Z"
   },
   {
    "duration": 6,
    "start_time": "2022-11-29T15:56:24.948Z"
   },
   {
    "duration": 21,
    "start_time": "2022-11-29T15:56:26.793Z"
   },
   {
    "duration": 14,
    "start_time": "2022-11-29T15:56:28.756Z"
   },
   {
    "duration": 18,
    "start_time": "2022-11-29T15:56:29.673Z"
   },
   {
    "duration": 5,
    "start_time": "2022-11-29T15:56:49.100Z"
   },
   {
    "duration": 18,
    "start_time": "2022-11-29T15:56:50.589Z"
   },
   {
    "duration": 19,
    "start_time": "2022-11-29T15:57:13.045Z"
   },
   {
    "duration": 125,
    "start_time": "2022-11-29T15:57:30.500Z"
   },
   {
    "duration": 4,
    "start_time": "2022-11-30T01:16:27.613Z"
   },
   {
    "duration": 43,
    "start_time": "2022-11-30T01:16:27.624Z"
   },
   {
    "duration": 12,
    "start_time": "2022-11-30T01:16:27.669Z"
   },
   {
    "duration": 17,
    "start_time": "2022-11-30T01:16:27.683Z"
   },
   {
    "duration": 5,
    "start_time": "2022-11-30T01:16:27.702Z"
   },
   {
    "duration": 7,
    "start_time": "2022-11-30T01:16:27.710Z"
   },
   {
    "duration": 5,
    "start_time": "2022-11-30T01:16:27.739Z"
   },
   {
    "duration": 14,
    "start_time": "2022-11-30T01:16:27.746Z"
   },
   {
    "duration": 5,
    "start_time": "2022-11-30T01:16:27.761Z"
   },
   {
    "duration": 18,
    "start_time": "2022-11-30T01:16:27.768Z"
   },
   {
    "duration": 53,
    "start_time": "2022-11-30T01:16:27.788Z"
   },
   {
    "duration": 7,
    "start_time": "2022-11-30T01:16:27.842Z"
   },
   {
    "duration": 24656,
    "start_time": "2022-11-30T01:16:27.851Z"
   },
   {
    "duration": 5,
    "start_time": "2022-11-30T01:16:52.509Z"
   },
   {
    "duration": 30,
    "start_time": "2022-11-30T01:16:52.516Z"
   },
   {
    "duration": 4,
    "start_time": "2022-11-30T01:16:52.548Z"
   },
   {
    "duration": 8,
    "start_time": "2022-11-30T01:16:53.515Z"
   },
   {
    "duration": 2,
    "start_time": "2022-11-30T01:17:19.923Z"
   },
   {
    "duration": 16,
    "start_time": "2022-11-30T01:17:44.485Z"
   },
   {
    "duration": 4,
    "start_time": "2022-11-30T01:17:49.281Z"
   },
   {
    "duration": 42,
    "start_time": "2022-11-30T01:17:49.287Z"
   },
   {
    "duration": 14,
    "start_time": "2022-11-30T01:17:49.330Z"
   },
   {
    "duration": 13,
    "start_time": "2022-11-30T01:17:49.345Z"
   },
   {
    "duration": 4,
    "start_time": "2022-11-30T01:17:49.359Z"
   },
   {
    "duration": 8,
    "start_time": "2022-11-30T01:17:49.364Z"
   },
   {
    "duration": 7,
    "start_time": "2022-11-30T01:17:49.373Z"
   },
   {
    "duration": 12,
    "start_time": "2022-11-30T01:17:49.382Z"
   },
   {
    "duration": 43,
    "start_time": "2022-11-30T01:17:49.395Z"
   },
   {
    "duration": 16,
    "start_time": "2022-11-30T01:17:49.440Z"
   },
   {
    "duration": 5,
    "start_time": "2022-11-30T01:17:49.457Z"
   },
   {
    "duration": 6,
    "start_time": "2022-11-30T01:17:49.464Z"
   },
   {
    "duration": 24865,
    "start_time": "2022-11-30T01:17:49.472Z"
   },
   {
    "duration": 6,
    "start_time": "2022-11-30T01:18:22.902Z"
   },
   {
    "duration": 9,
    "start_time": "2022-11-30T01:18:23.955Z"
   },
   {
    "duration": 5,
    "start_time": "2022-11-30T01:18:24.713Z"
   },
   {
    "duration": 12,
    "start_time": "2022-11-30T01:18:25.913Z"
   },
   {
    "duration": 2,
    "start_time": "2022-11-30T01:18:28.433Z"
   },
   {
    "duration": 415472,
    "start_time": "2022-11-30T01:18:31.582Z"
   },
   {
    "duration": 4,
    "start_time": "2022-11-30T01:35:54.416Z"
   },
   {
    "duration": 8,
    "start_time": "2022-11-30T01:36:32.446Z"
   },
   {
    "duration": 276,
    "start_time": "2022-11-30T01:36:50.657Z"
   },
   {
    "duration": 305,
    "start_time": "2022-11-30T01:38:24.970Z"
   },
   {
    "duration": 292,
    "start_time": "2022-11-30T01:38:44.284Z"
   },
   {
    "duration": 317,
    "start_time": "2022-11-30T01:39:03.860Z"
   },
   {
    "duration": 16844,
    "start_time": "2022-11-30T01:40:44.900Z"
   },
   {
    "duration": 543,
    "start_time": "2022-11-30T02:12:48.201Z"
   },
   {
    "duration": 606,
    "start_time": "2022-11-30T02:13:19.433Z"
   },
   {
    "duration": 11178,
    "start_time": "2022-11-30T02:13:31.876Z"
   },
   {
    "duration": 28,
    "start_time": "2022-11-30T02:13:43.056Z"
   },
   {
    "duration": 31,
    "start_time": "2022-11-30T02:14:37.873Z"
   },
   {
    "duration": 30,
    "start_time": "2022-11-30T02:14:53.473Z"
   },
   {
    "duration": 9,
    "start_time": "2022-11-30T02:14:59.165Z"
   },
   {
    "duration": 249,
    "start_time": "2022-11-30T02:18:49.034Z"
   },
   {
    "duration": 23,
    "start_time": "2022-11-30T02:19:01.139Z"
   },
   {
    "duration": 279,
    "start_time": "2022-11-30T02:20:13.205Z"
   },
   {
    "duration": 469,
    "start_time": "2022-11-30T02:20:41.816Z"
   },
   {
    "duration": 4,
    "start_time": "2022-11-30T02:20:46.803Z"
   },
   {
    "duration": 10,
    "start_time": "2022-11-30T02:20:47.422Z"
   },
   {
    "duration": 381,
    "start_time": "2022-11-30T02:20:48.222Z"
   },
   {
    "duration": 25,
    "start_time": "2022-11-30T02:20:56.915Z"
   },
   {
    "duration": 4,
    "start_time": "2022-11-30T02:23:04.038Z"
   },
   {
    "duration": 4,
    "start_time": "2022-11-30T02:23:26.749Z"
   },
   {
    "duration": 4,
    "start_time": "2022-11-30T02:23:52.836Z"
   },
   {
    "duration": 371,
    "start_time": "2022-11-30T02:27:29.593Z"
   },
   {
    "duration": 4,
    "start_time": "2022-11-30T02:27:34.234Z"
   },
   {
    "duration": 4,
    "start_time": "2022-11-30T02:27:37.485Z"
   },
   {
    "duration": 170,
    "start_time": "2022-11-30T02:27:39.753Z"
   },
   {
    "duration": 200,
    "start_time": "2022-11-30T02:27:52.828Z"
   },
   {
    "duration": 9,
    "start_time": "2022-11-30T02:28:12.065Z"
   },
   {
    "duration": 7,
    "start_time": "2022-11-30T02:35:35.468Z"
   },
   {
    "duration": 278,
    "start_time": "2022-11-30T02:35:38.711Z"
   },
   {
    "duration": 325,
    "start_time": "2022-11-30T02:37:15.004Z"
   },
   {
    "duration": 332,
    "start_time": "2022-11-30T02:39:12.838Z"
   },
   {
    "duration": 344,
    "start_time": "2022-11-30T02:39:41.414Z"
   },
   {
    "duration": 352,
    "start_time": "2022-11-30T02:39:47.553Z"
   },
   {
    "duration": 339,
    "start_time": "2022-11-30T02:40:12.514Z"
   },
   {
    "duration": 209,
    "start_time": "2022-11-30T02:48:46.314Z"
   },
   {
    "duration": 254,
    "start_time": "2022-11-30T02:50:33.231Z"
   },
   {
    "duration": 160,
    "start_time": "2022-11-30T02:50:43.654Z"
   },
   {
    "duration": 519,
    "start_time": "2022-11-30T05:55:23.785Z"
   },
   {
    "duration": 3,
    "start_time": "2022-11-30T05:56:15.914Z"
   },
   {
    "duration": 41,
    "start_time": "2022-11-30T05:56:15.919Z"
   },
   {
    "duration": 13,
    "start_time": "2022-11-30T05:56:15.962Z"
   },
   {
    "duration": 13,
    "start_time": "2022-11-30T05:56:15.976Z"
   },
   {
    "duration": 4,
    "start_time": "2022-11-30T05:56:15.991Z"
   },
   {
    "duration": 6,
    "start_time": "2022-11-30T05:56:15.996Z"
   },
   {
    "duration": 35,
    "start_time": "2022-11-30T05:56:16.004Z"
   },
   {
    "duration": 15,
    "start_time": "2022-11-30T05:56:16.040Z"
   },
   {
    "duration": 5,
    "start_time": "2022-11-30T05:56:16.057Z"
   },
   {
    "duration": 5,
    "start_time": "2022-11-30T05:56:16.064Z"
   },
   {
    "duration": 25576,
    "start_time": "2022-11-30T05:56:16.070Z"
   },
   {
    "duration": 4,
    "start_time": "2022-11-30T05:56:41.648Z"
   },
   {
    "duration": 14,
    "start_time": "2022-11-30T05:56:41.654Z"
   },
   {
    "duration": 4,
    "start_time": "2022-11-30T05:56:41.671Z"
   },
   {
    "duration": 8,
    "start_time": "2022-11-30T05:56:41.676Z"
   },
   {
    "duration": 53,
    "start_time": "2022-11-30T05:56:41.685Z"
   },
   {
    "duration": 314,
    "start_time": "2022-11-30T05:56:41.740Z"
   },
   {
    "duration": 16983,
    "start_time": "2022-11-30T05:56:42.056Z"
   },
   {
    "duration": 697,
    "start_time": "2022-11-30T05:56:59.041Z"
   },
   {
    "duration": 11193,
    "start_time": "2022-11-30T05:56:59.740Z"
   },
   {
    "duration": 26,
    "start_time": "2022-11-30T05:57:10.938Z"
   },
   {
    "duration": 8,
    "start_time": "2022-11-30T05:57:10.966Z"
   },
   {
    "duration": 109,
    "start_time": "2022-11-30T05:57:10.976Z"
   },
   {
    "duration": 287,
    "start_time": "2022-11-30T05:57:43.174Z"
   },
   {
    "duration": 4,
    "start_time": "2022-11-30T05:57:47.314Z"
   },
   {
    "duration": 392,
    "start_time": "2022-11-30T05:57:49.735Z"
   },
   {
    "duration": 4,
    "start_time": "2022-11-30T05:57:53.703Z"
   },
   {
    "duration": 173,
    "start_time": "2022-11-30T05:57:54.543Z"
   },
   {
    "duration": 187,
    "start_time": "2022-11-30T05:57:58.464Z"
   },
   {
    "duration": 188,
    "start_time": "2022-11-30T05:58:11.788Z"
   },
   {
    "duration": 9,
    "start_time": "2022-11-30T06:10:52.859Z"
   },
   {
    "duration": 9,
    "start_time": "2022-11-30T06:11:00.090Z"
   },
   {
    "duration": 10,
    "start_time": "2022-11-30T06:11:08.491Z"
   },
   {
    "duration": 9,
    "start_time": "2022-11-30T06:11:28.103Z"
   },
   {
    "duration": 9,
    "start_time": "2022-11-30T06:12:49.265Z"
   },
   {
    "duration": 9,
    "start_time": "2022-11-30T06:14:43.474Z"
   },
   {
    "duration": 12,
    "start_time": "2022-11-30T06:17:20.951Z"
   },
   {
    "duration": 25350,
    "start_time": "2022-11-30T06:20:49.793Z"
   },
   {
    "duration": 4,
    "start_time": "2022-11-30T06:33:07.367Z"
   },
   {
    "duration": 41,
    "start_time": "2022-11-30T06:33:07.373Z"
   },
   {
    "duration": 13,
    "start_time": "2022-11-30T06:33:07.415Z"
   },
   {
    "duration": 13,
    "start_time": "2022-11-30T06:33:07.430Z"
   },
   {
    "duration": 4,
    "start_time": "2022-11-30T06:33:07.478Z"
   },
   {
    "duration": 6,
    "start_time": "2022-11-30T06:33:07.488Z"
   },
   {
    "duration": 9,
    "start_time": "2022-11-30T06:33:07.495Z"
   },
   {
    "duration": 14,
    "start_time": "2022-11-30T06:33:07.505Z"
   },
   {
    "duration": 6,
    "start_time": "2022-11-30T06:33:07.521Z"
   },
   {
    "duration": 11,
    "start_time": "2022-11-30T06:33:07.658Z"
   },
   {
    "duration": 26817,
    "start_time": "2022-11-30T06:33:07.769Z"
   },
   {
    "duration": 5,
    "start_time": "2022-11-30T06:33:34.588Z"
   },
   {
    "duration": 13,
    "start_time": "2022-11-30T06:33:34.594Z"
   },
   {
    "duration": 5,
    "start_time": "2022-11-30T06:33:34.639Z"
   },
   {
    "duration": 9,
    "start_time": "2022-11-30T06:33:34.645Z"
   },
   {
    "duration": 426582,
    "start_time": "2022-11-30T06:33:34.656Z"
   },
   {
    "duration": 313,
    "start_time": "2022-11-30T06:40:41.240Z"
   },
   {
    "duration": 18490,
    "start_time": "2022-11-30T06:40:41.555Z"
   },
   {
    "duration": 607,
    "start_time": "2022-11-30T06:41:00.138Z"
   },
   {
    "duration": 11455,
    "start_time": "2022-11-30T06:41:00.748Z"
   },
   {
    "duration": 40,
    "start_time": "2022-11-30T06:41:12.205Z"
   },
   {
    "duration": 10,
    "start_time": "2022-11-30T06:41:12.248Z"
   },
   {
    "duration": 121,
    "start_time": "2022-11-30T06:41:12.260Z"
   },
   {
    "duration": 310,
    "start_time": "2022-11-30T06:41:12.383Z"
   },
   {
    "duration": 4,
    "start_time": "2022-11-30T06:41:12.695Z"
   },
   {
    "duration": 432,
    "start_time": "2022-11-30T06:41:12.701Z"
   },
   {
    "duration": 5,
    "start_time": "2022-11-30T06:41:13.136Z"
   },
   {
    "duration": 202,
    "start_time": "2022-11-30T06:41:13.142Z"
   },
   {
    "duration": 224,
    "start_time": "2022-11-30T06:41:13.346Z"
   },
   {
    "duration": 9,
    "start_time": "2022-11-30T06:41:13.572Z"
   },
   {
    "duration": 7,
    "start_time": "2022-11-30T06:41:13.583Z"
   },
   {
    "duration": 405,
    "start_time": "2022-11-30T06:41:13.592Z"
   },
   {
    "duration": 179,
    "start_time": "2022-11-30T06:41:13.999Z"
   },
   {
    "duration": 1387,
    "start_time": "2022-11-30T06:43:54.990Z"
   },
   {
    "duration": 44,
    "start_time": "2022-11-30T06:43:56.379Z"
   },
   {
    "duration": 17,
    "start_time": "2022-11-30T06:43:56.425Z"
   },
   {
    "duration": 15,
    "start_time": "2022-11-30T06:43:56.444Z"
   },
   {
    "duration": 4,
    "start_time": "2022-11-30T06:43:56.461Z"
   },
   {
    "duration": 8,
    "start_time": "2022-11-30T06:43:56.467Z"
   },
   {
    "duration": 5,
    "start_time": "2022-11-30T06:43:56.476Z"
   },
   {
    "duration": 56,
    "start_time": "2022-11-30T06:43:56.482Z"
   },
   {
    "duration": 7,
    "start_time": "2022-11-30T06:43:56.540Z"
   },
   {
    "duration": 14,
    "start_time": "2022-11-30T06:43:56.548Z"
   },
   {
    "duration": 25898,
    "start_time": "2022-11-30T06:43:56.563Z"
   },
   {
    "duration": 5,
    "start_time": "2022-11-30T06:44:22.463Z"
   },
   {
    "duration": 16,
    "start_time": "2022-11-30T06:44:22.470Z"
   },
   {
    "duration": 5,
    "start_time": "2022-11-30T06:44:22.490Z"
   },
   {
    "duration": 46,
    "start_time": "2022-11-30T06:44:22.497Z"
   },
   {
    "duration": 3,
    "start_time": "2022-11-30T06:44:22.545Z"
   },
   {
    "duration": 373,
    "start_time": "2022-11-30T06:44:22.550Z"
   },
   {
    "duration": 18619,
    "start_time": "2022-11-30T06:44:22.925Z"
   },
   {
    "duration": 602,
    "start_time": "2022-11-30T06:44:41.637Z"
   },
   {
    "duration": 13418,
    "start_time": "2022-11-30T06:44:42.242Z"
   },
   {
    "duration": 27,
    "start_time": "2022-11-30T06:44:55.662Z"
   },
   {
    "duration": 8,
    "start_time": "2022-11-30T06:44:55.690Z"
   },
   {
    "duration": 120,
    "start_time": "2022-11-30T06:44:55.699Z"
   },
   {
    "duration": 306,
    "start_time": "2022-11-30T06:44:55.821Z"
   },
   {
    "duration": 10,
    "start_time": "2022-11-30T06:44:56.129Z"
   },
   {
    "duration": 446,
    "start_time": "2022-11-30T06:44:56.142Z"
   },
   {
    "duration": 5,
    "start_time": "2022-11-30T06:44:56.591Z"
   },
   {
    "duration": 202,
    "start_time": "2022-11-30T06:44:56.598Z"
   },
   {
    "duration": 202,
    "start_time": "2022-11-30T06:44:56.802Z"
   },
   {
    "duration": 12,
    "start_time": "2022-11-30T06:44:57.006Z"
   },
   {
    "duration": 23,
    "start_time": "2022-11-30T06:44:57.020Z"
   },
   {
    "duration": 446,
    "start_time": "2022-11-30T06:44:57.045Z"
   },
   {
    "duration": 0,
    "start_time": "2022-11-30T06:44:57.493Z"
   },
   {
    "duration": 8,
    "start_time": "2022-11-30T06:46:12.842Z"
   },
   {
    "duration": 1385,
    "start_time": "2022-11-30T06:46:35.327Z"
   },
   {
    "duration": 42,
    "start_time": "2022-11-30T06:46:36.714Z"
   },
   {
    "duration": 19,
    "start_time": "2022-11-30T06:46:36.757Z"
   },
   {
    "duration": 16,
    "start_time": "2022-11-30T06:46:36.778Z"
   },
   {
    "duration": 4,
    "start_time": "2022-11-30T06:46:36.797Z"
   },
   {
    "duration": 36,
    "start_time": "2022-11-30T06:46:36.803Z"
   },
   {
    "duration": 5,
    "start_time": "2022-11-30T06:46:36.841Z"
   },
   {
    "duration": 19,
    "start_time": "2022-11-30T06:46:36.848Z"
   },
   {
    "duration": 6,
    "start_time": "2022-11-30T06:46:36.869Z"
   },
   {
    "duration": 61,
    "start_time": "2022-11-30T06:46:36.877Z"
   },
   {
    "duration": 24319,
    "start_time": "2022-11-30T06:46:36.940Z"
   },
   {
    "duration": 4,
    "start_time": "2022-11-30T06:47:01.261Z"
   },
   {
    "duration": 16,
    "start_time": "2022-11-30T06:47:01.267Z"
   },
   {
    "duration": 5,
    "start_time": "2022-11-30T06:47:01.286Z"
   },
   {
    "duration": 49,
    "start_time": "2022-11-30T06:47:01.293Z"
   },
   {
    "duration": 4,
    "start_time": "2022-11-30T06:47:01.344Z"
   },
   {
    "duration": 338,
    "start_time": "2022-11-30T06:47:01.350Z"
   },
   {
    "duration": 18056,
    "start_time": "2022-11-30T06:47:01.690Z"
   },
   {
    "duration": 700,
    "start_time": "2022-11-30T06:47:19.747Z"
   },
   {
    "duration": 11655,
    "start_time": "2022-11-30T06:47:20.539Z"
   },
   {
    "duration": 43,
    "start_time": "2022-11-30T06:47:32.195Z"
   },
   {
    "duration": 10,
    "start_time": "2022-11-30T06:47:32.239Z"
   },
   {
    "duration": 109,
    "start_time": "2022-11-30T06:47:32.250Z"
   },
   {
    "duration": 294,
    "start_time": "2022-11-30T06:47:32.360Z"
   },
   {
    "duration": 4,
    "start_time": "2022-11-30T06:47:32.656Z"
   },
   {
    "duration": 408,
    "start_time": "2022-11-30T06:47:32.662Z"
   },
   {
    "duration": 4,
    "start_time": "2022-11-30T06:47:33.072Z"
   },
   {
    "duration": 192,
    "start_time": "2022-11-30T06:47:33.077Z"
   },
   {
    "duration": 202,
    "start_time": "2022-11-30T06:47:33.271Z"
   },
   {
    "duration": 9,
    "start_time": "2022-11-30T06:47:33.475Z"
   },
   {
    "duration": 9,
    "start_time": "2022-11-30T06:47:33.485Z"
   },
   {
    "duration": 392,
    "start_time": "2022-11-30T06:47:33.496Z"
   },
   {
    "duration": 161,
    "start_time": "2022-11-30T06:47:33.890Z"
   },
   {
    "duration": 679,
    "start_time": "2022-11-30T06:50:02.491Z"
   },
   {
    "duration": 4,
    "start_time": "2022-11-30T06:50:12.967Z"
   },
   {
    "duration": 44,
    "start_time": "2022-11-30T06:50:12.972Z"
   },
   {
    "duration": 13,
    "start_time": "2022-11-30T06:50:13.018Z"
   },
   {
    "duration": 13,
    "start_time": "2022-11-30T06:50:13.033Z"
   },
   {
    "duration": 4,
    "start_time": "2022-11-30T06:50:13.047Z"
   },
   {
    "duration": 8,
    "start_time": "2022-11-30T06:50:13.053Z"
   },
   {
    "duration": 5,
    "start_time": "2022-11-30T06:50:13.063Z"
   },
   {
    "duration": 15,
    "start_time": "2022-11-30T06:50:13.070Z"
   },
   {
    "duration": 6,
    "start_time": "2022-11-30T06:50:13.086Z"
   },
   {
    "duration": 13,
    "start_time": "2022-11-30T06:50:13.136Z"
   },
   {
    "duration": 24850,
    "start_time": "2022-11-30T06:50:13.151Z"
   },
   {
    "duration": 4,
    "start_time": "2022-11-30T06:50:38.003Z"
   },
   {
    "duration": 33,
    "start_time": "2022-11-30T06:50:38.009Z"
   },
   {
    "duration": 6,
    "start_time": "2022-11-30T06:50:38.044Z"
   },
   {
    "duration": 11,
    "start_time": "2022-11-30T06:50:38.052Z"
   },
   {
    "duration": 2,
    "start_time": "2022-11-30T06:50:38.065Z"
   },
   {
    "duration": 616,
    "start_time": "2022-11-30T06:50:38.070Z"
   },
   {
    "duration": 289,
    "start_time": "2022-11-30T06:51:01.916Z"
   },
   {
    "duration": 272,
    "start_time": "2022-11-30T06:51:10.325Z"
   },
   {
    "duration": 286,
    "start_time": "2022-11-30T06:51:20.929Z"
   },
   {
    "duration": 278,
    "start_time": "2022-11-30T06:51:43.876Z"
   },
   {
    "duration": 266,
    "start_time": "2022-11-30T06:51:50.876Z"
   },
   {
    "duration": 259,
    "start_time": "2022-11-30T06:52:09.616Z"
   },
   {
    "duration": 264,
    "start_time": "2022-11-30T06:52:22.850Z"
   },
   {
    "duration": 264,
    "start_time": "2022-11-30T06:52:29.238Z"
   },
   {
    "duration": 154,
    "start_time": "2022-11-30T06:53:02.356Z"
   },
   {
    "duration": 3,
    "start_time": "2022-11-30T06:53:56.367Z"
   },
   {
    "duration": 43,
    "start_time": "2022-11-30T06:53:56.372Z"
   },
   {
    "duration": 13,
    "start_time": "2022-11-30T06:53:56.417Z"
   },
   {
    "duration": 12,
    "start_time": "2022-11-30T06:53:56.431Z"
   },
   {
    "duration": 4,
    "start_time": "2022-11-30T06:53:56.445Z"
   },
   {
    "duration": 8,
    "start_time": "2022-11-30T06:53:56.451Z"
   },
   {
    "duration": 6,
    "start_time": "2022-11-30T06:53:56.460Z"
   },
   {
    "duration": 15,
    "start_time": "2022-11-30T06:53:56.467Z"
   },
   {
    "duration": 6,
    "start_time": "2022-11-30T06:53:56.483Z"
   },
   {
    "duration": 56,
    "start_time": "2022-11-30T06:53:56.490Z"
   },
   {
    "duration": 25175,
    "start_time": "2022-11-30T06:53:56.547Z"
   },
   {
    "duration": 15,
    "start_time": "2022-11-30T06:54:21.724Z"
   },
   {
    "duration": 19,
    "start_time": "2022-11-30T06:54:21.742Z"
   },
   {
    "duration": 7,
    "start_time": "2022-11-30T06:54:21.763Z"
   },
   {
    "duration": 10,
    "start_time": "2022-11-30T06:54:21.772Z"
   },
   {
    "duration": 386309,
    "start_time": "2022-11-30T06:54:42.522Z"
   },
   {
    "duration": 222,
    "start_time": "2022-11-30T07:02:00.502Z"
   },
   {
    "duration": 284,
    "start_time": "2022-11-30T07:04:17.215Z"
   },
   {
    "duration": 9903,
    "start_time": "2022-11-30T07:10:23.428Z"
   },
   {
    "duration": 30,
    "start_time": "2022-11-30T07:10:51.191Z"
   },
   {
    "duration": 8179,
    "start_time": "2022-11-30T07:11:11.128Z"
   },
   {
    "duration": 29,
    "start_time": "2022-11-30T07:11:23.330Z"
   },
   {
    "duration": 30,
    "start_time": "2022-11-30T07:11:48.128Z"
   },
   {
    "duration": 435,
    "start_time": "2022-11-30T07:12:18.707Z"
   },
   {
    "duration": 294,
    "start_time": "2022-11-30T07:12:21.458Z"
   },
   {
    "duration": 13212,
    "start_time": "2022-11-30T07:12:44.658Z"
   },
   {
    "duration": 10,
    "start_time": "2022-11-30T07:12:57.873Z"
   },
   {
    "duration": 28,
    "start_time": "2022-11-30T07:13:28.282Z"
   },
   {
    "duration": 29050,
    "start_time": "2022-11-30T07:13:34.247Z"
   },
   {
    "duration": 9785,
    "start_time": "2022-11-30T07:14:45.406Z"
   },
   {
    "duration": 29,
    "start_time": "2022-11-30T07:15:10.474Z"
   },
   {
    "duration": 5751,
    "start_time": "2022-11-30T07:15:29.695Z"
   },
   {
    "duration": 24,
    "start_time": "2022-11-30T07:15:56.219Z"
   },
   {
    "duration": 9,
    "start_time": "2022-11-30T07:16:11.849Z"
   },
   {
    "duration": 1377,
    "start_time": "2022-11-30T07:17:15.952Z"
   },
   {
    "duration": 40,
    "start_time": "2022-11-30T07:17:17.331Z"
   },
   {
    "duration": 16,
    "start_time": "2022-11-30T07:17:17.373Z"
   },
   {
    "duration": 14,
    "start_time": "2022-11-30T07:17:17.391Z"
   },
   {
    "duration": 5,
    "start_time": "2022-11-30T07:17:17.406Z"
   },
   {
    "duration": 7,
    "start_time": "2022-11-30T07:17:17.412Z"
   },
   {
    "duration": 18,
    "start_time": "2022-11-30T07:17:17.420Z"
   },
   {
    "duration": 13,
    "start_time": "2022-11-30T07:17:17.440Z"
   },
   {
    "duration": 6,
    "start_time": "2022-11-30T07:17:17.455Z"
   },
   {
    "duration": 10,
    "start_time": "2022-11-30T07:17:17.463Z"
   },
   {
    "duration": 24817,
    "start_time": "2022-11-30T07:17:17.474Z"
   },
   {
    "duration": 5,
    "start_time": "2022-11-30T07:17:42.293Z"
   },
   {
    "duration": 45,
    "start_time": "2022-11-30T07:17:42.300Z"
   },
   {
    "duration": 5,
    "start_time": "2022-11-30T07:17:42.347Z"
   },
   {
    "duration": 7,
    "start_time": "2022-11-30T07:17:42.354Z"
   },
   {
    "duration": 433568,
    "start_time": "2022-11-30T07:17:42.363Z"
   },
   {
    "duration": 322,
    "start_time": "2022-11-30T07:24:55.937Z"
   },
   {
    "duration": 18386,
    "start_time": "2022-11-30T07:24:56.261Z"
   },
   {
    "duration": 606,
    "start_time": "2022-11-30T07:25:14.739Z"
   },
   {
    "duration": 1425,
    "start_time": "2022-11-30T07:26:11.230Z"
   },
   {
    "duration": 42,
    "start_time": "2022-11-30T07:26:12.658Z"
   },
   {
    "duration": 16,
    "start_time": "2022-11-30T07:26:12.702Z"
   },
   {
    "duration": 23,
    "start_time": "2022-11-30T07:26:12.719Z"
   },
   {
    "duration": 4,
    "start_time": "2022-11-30T07:26:12.744Z"
   },
   {
    "duration": 8,
    "start_time": "2022-11-30T07:26:12.749Z"
   },
   {
    "duration": 11,
    "start_time": "2022-11-30T07:26:12.758Z"
   },
   {
    "duration": 15,
    "start_time": "2022-11-30T07:26:12.771Z"
   },
   {
    "duration": 50,
    "start_time": "2022-11-30T07:26:12.788Z"
   },
   {
    "duration": 12,
    "start_time": "2022-11-30T07:26:12.839Z"
   },
   {
    "duration": 25086,
    "start_time": "2022-11-30T07:26:12.852Z"
   },
   {
    "duration": 4,
    "start_time": "2022-11-30T07:26:37.941Z"
   },
   {
    "duration": 20,
    "start_time": "2022-11-30T07:26:37.947Z"
   },
   {
    "duration": 6,
    "start_time": "2022-11-30T07:26:37.970Z"
   },
   {
    "duration": 64,
    "start_time": "2022-11-30T07:26:37.978Z"
   },
   {
    "duration": 441246,
    "start_time": "2022-11-30T07:26:38.044Z"
   },
   {
    "duration": 317,
    "start_time": "2022-11-30T07:33:59.292Z"
   },
   {
    "duration": 18128,
    "start_time": "2022-11-30T07:33:59.611Z"
   },
   {
    "duration": 698,
    "start_time": "2022-11-30T07:34:17.741Z"
   },
   {
    "duration": 6265,
    "start_time": "2022-11-30T07:34:18.441Z"
   },
   {
    "duration": 39,
    "start_time": "2022-11-30T07:34:24.707Z"
   },
   {
    "duration": 10,
    "start_time": "2022-11-30T07:34:24.748Z"
   },
   {
    "duration": 123,
    "start_time": "2022-11-30T07:34:24.760Z"
   },
   {
    "duration": 334,
    "start_time": "2022-11-30T07:34:24.886Z"
   },
   {
    "duration": 4,
    "start_time": "2022-11-30T07:34:25.222Z"
   },
   {
    "duration": 450,
    "start_time": "2022-11-30T07:34:25.227Z"
   },
   {
    "duration": 10,
    "start_time": "2022-11-30T07:34:25.678Z"
   },
   {
    "duration": 235,
    "start_time": "2022-11-30T07:34:25.691Z"
   },
   {
    "duration": 219,
    "start_time": "2022-11-30T07:34:25.927Z"
   },
   {
    "duration": 11,
    "start_time": "2022-11-30T07:34:26.147Z"
   },
   {
    "duration": 8,
    "start_time": "2022-11-30T07:34:26.159Z"
   },
   {
    "duration": 422,
    "start_time": "2022-11-30T07:34:26.169Z"
   },
   {
    "duration": 172,
    "start_time": "2022-11-30T07:34:26.593Z"
   },
   {
    "duration": 1971,
    "start_time": "2022-11-30T11:30:38.151Z"
   },
   {
    "duration": 42,
    "start_time": "2022-11-30T11:30:40.124Z"
   },
   {
    "duration": 17,
    "start_time": "2022-11-30T11:30:44.201Z"
   },
   {
    "duration": 17,
    "start_time": "2022-11-30T11:30:45.963Z"
   },
   {
    "duration": 4,
    "start_time": "2022-11-30T11:30:54.730Z"
   },
   {
    "duration": 6,
    "start_time": "2022-11-30T11:31:23.304Z"
   },
   {
    "duration": 5,
    "start_time": "2022-11-30T11:31:24.895Z"
   },
   {
    "duration": 21,
    "start_time": "2022-11-30T11:31:34.997Z"
   },
   {
    "duration": 9,
    "start_time": "2022-11-30T11:32:05.932Z"
   },
   {
    "duration": 9,
    "start_time": "2022-11-30T11:32:11.144Z"
   },
   {
    "duration": 7,
    "start_time": "2022-11-30T11:33:22.911Z"
   },
   {
    "duration": 11,
    "start_time": "2022-11-30T11:33:46.216Z"
   },
   {
    "duration": 5,
    "start_time": "2022-11-30T11:33:57.236Z"
   },
   {
    "duration": 27389,
    "start_time": "2022-11-30T11:34:24.005Z"
   },
   {
    "duration": 6,
    "start_time": "2022-11-30T11:34:51.397Z"
   },
   {
    "duration": 11,
    "start_time": "2022-11-30T11:35:46.455Z"
   },
   {
    "duration": 5,
    "start_time": "2022-11-30T11:36:43.546Z"
   },
   {
    "duration": 8,
    "start_time": "2022-11-30T11:36:54.309Z"
   },
   {
    "duration": 477767,
    "start_time": "2022-11-30T11:37:16.350Z"
   },
   {
    "duration": 1511,
    "start_time": "2022-12-02T16:30:36.094Z"
   },
   {
    "duration": 166,
    "start_time": "2022-12-02T16:30:37.607Z"
   },
   {
    "duration": 16,
    "start_time": "2022-12-02T16:30:37.775Z"
   },
   {
    "duration": 13,
    "start_time": "2022-12-02T16:30:37.793Z"
   },
   {
    "duration": 3,
    "start_time": "2022-12-02T16:30:37.808Z"
   },
   {
    "duration": 15,
    "start_time": "2022-12-02T16:30:37.813Z"
   },
   {
    "duration": 5,
    "start_time": "2022-12-02T16:30:37.829Z"
   },
   {
    "duration": 14,
    "start_time": "2022-12-02T16:30:37.836Z"
   },
   {
    "duration": 28,
    "start_time": "2022-12-02T16:30:37.852Z"
   },
   {
    "duration": 20,
    "start_time": "2022-12-02T16:30:37.881Z"
   },
   {
    "duration": 23588,
    "start_time": "2022-12-02T16:30:37.902Z"
   },
   {
    "duration": 5,
    "start_time": "2022-12-02T16:31:01.492Z"
   },
   {
    "duration": 72,
    "start_time": "2022-12-02T16:31:01.498Z"
   },
   {
    "duration": 11,
    "start_time": "2022-12-02T16:31:09.587Z"
   },
   {
    "duration": 18,
    "start_time": "2022-12-02T16:31:12.173Z"
   },
   {
    "duration": 19,
    "start_time": "2022-12-02T16:31:38.613Z"
   },
   {
    "duration": 7,
    "start_time": "2022-12-02T16:42:15.371Z"
   },
   {
    "duration": 3,
    "start_time": "2022-12-02T16:42:27.742Z"
   },
   {
    "duration": 40,
    "start_time": "2022-12-02T16:42:27.747Z"
   },
   {
    "duration": 12,
    "start_time": "2022-12-02T16:42:27.789Z"
   },
   {
    "duration": 29,
    "start_time": "2022-12-02T16:42:27.803Z"
   },
   {
    "duration": 4,
    "start_time": "2022-12-02T16:42:27.834Z"
   },
   {
    "duration": 7,
    "start_time": "2022-12-02T16:42:27.839Z"
   },
   {
    "duration": 11,
    "start_time": "2022-12-02T16:42:27.847Z"
   },
   {
    "duration": 14,
    "start_time": "2022-12-02T16:42:27.859Z"
   },
   {
    "duration": 9,
    "start_time": "2022-12-02T16:42:30.102Z"
   },
   {
    "duration": 3,
    "start_time": "2022-12-04T02:38:46.430Z"
   },
   {
    "duration": 3,
    "start_time": "2022-12-04T02:38:55.662Z"
   },
   {
    "duration": 55,
    "start_time": "2022-12-04T02:38:55.667Z"
   },
   {
    "duration": 11,
    "start_time": "2022-12-04T02:38:55.723Z"
   },
   {
    "duration": 20,
    "start_time": "2022-12-04T02:38:55.736Z"
   },
   {
    "duration": 11,
    "start_time": "2022-12-04T02:38:55.758Z"
   },
   {
    "duration": 19,
    "start_time": "2022-12-04T02:38:55.771Z"
   },
   {
    "duration": 8,
    "start_time": "2022-12-04T02:38:55.792Z"
   },
   {
    "duration": 19,
    "start_time": "2022-12-04T02:38:55.801Z"
   },
   {
    "duration": 5,
    "start_time": "2022-12-04T02:38:55.822Z"
   },
   {
    "duration": 22,
    "start_time": "2022-12-04T02:38:55.829Z"
   },
   {
    "duration": 22772,
    "start_time": "2022-12-04T02:38:55.852Z"
   },
   {
    "duration": 4,
    "start_time": "2022-12-04T02:39:18.626Z"
   },
   {
    "duration": 15,
    "start_time": "2022-12-04T02:39:18.632Z"
   },
   {
    "duration": 41,
    "start_time": "2022-12-04T02:39:18.651Z"
   },
   {
    "duration": 4,
    "start_time": "2022-12-04T02:39:18.693Z"
   },
   {
    "duration": 9,
    "start_time": "2022-12-04T02:39:18.698Z"
   },
   {
    "duration": 3,
    "start_time": "2022-12-04T02:39:18.709Z"
   },
   {
    "duration": 271,
    "start_time": "2022-12-04T02:40:21.246Z"
   },
   {
    "duration": 16571,
    "start_time": "2022-12-04T02:40:24.510Z"
   },
   {
    "duration": 362,
    "start_time": "2022-12-04T02:40:43.726Z"
   },
   {
    "duration": 5129,
    "start_time": "2022-12-04T02:40:51.124Z"
   },
   {
    "duration": 23,
    "start_time": "2022-12-04T02:40:59.060Z"
   },
   {
    "duration": 8,
    "start_time": "2022-12-04T02:41:07.557Z"
   },
   {
    "duration": 4,
    "start_time": "2022-12-04T03:56:13.200Z"
   },
   {
    "duration": 46,
    "start_time": "2022-12-04T03:56:13.206Z"
   },
   {
    "duration": 12,
    "start_time": "2022-12-04T03:56:13.253Z"
   },
   {
    "duration": 24,
    "start_time": "2022-12-04T03:56:13.266Z"
   },
   {
    "duration": 3,
    "start_time": "2022-12-04T03:56:13.292Z"
   },
   {
    "duration": 10,
    "start_time": "2022-12-04T03:56:13.297Z"
   },
   {
    "duration": 6,
    "start_time": "2022-12-04T03:56:13.308Z"
   },
   {
    "duration": 20,
    "start_time": "2022-12-04T03:56:13.315Z"
   },
   {
    "duration": 21,
    "start_time": "2022-12-04T03:56:13.336Z"
   },
   {
    "duration": 24,
    "start_time": "2022-12-04T03:56:13.359Z"
   },
   {
    "duration": 29,
    "start_time": "2022-12-04T03:56:13.384Z"
   },
   {
    "duration": 27,
    "start_time": "2022-12-04T03:56:13.414Z"
   },
   {
    "duration": 60,
    "start_time": "2022-12-04T03:56:13.444Z"
   },
   {
    "duration": 41,
    "start_time": "2022-12-04T03:56:13.505Z"
   },
   {
    "duration": 2,
    "start_time": "2022-12-04T03:56:18.547Z"
   },
   {
    "duration": 219,
    "start_time": "2022-12-04T03:56:20.667Z"
   },
   {
    "duration": 4,
    "start_time": "2022-12-04T03:56:31.243Z"
   },
   {
    "duration": 4,
    "start_time": "2022-12-04T03:56:55.422Z"
   },
   {
    "duration": 5,
    "start_time": "2022-12-04T03:57:02.790Z"
   },
   {
    "duration": 4,
    "start_time": "2022-12-04T03:57:24.813Z"
   },
   {
    "duration": 4,
    "start_time": "2022-12-04T03:57:37.901Z"
   },
   {
    "duration": 9,
    "start_time": "2022-12-04T03:58:57.949Z"
   },
   {
    "duration": 4,
    "start_time": "2022-12-04T03:59:02.289Z"
   },
   {
    "duration": 8,
    "start_time": "2022-12-04T03:59:49.103Z"
   },
   {
    "duration": 16,
    "start_time": "2022-12-04T03:59:54.886Z"
   },
   {
    "duration": 102,
    "start_time": "2022-12-04T04:04:57.169Z"
   },
   {
    "duration": 2,
    "start_time": "2022-12-04T04:05:01.156Z"
   },
   {
    "duration": 8,
    "start_time": "2022-12-04T04:05:03.314Z"
   },
   {
    "duration": 9,
    "start_time": "2022-12-04T04:05:04.205Z"
   },
   {
    "duration": 4,
    "start_time": "2022-12-04T04:05:33.995Z"
   },
   {
    "duration": 4,
    "start_time": "2022-12-04T04:08:02.820Z"
   },
   {
    "duration": 5,
    "start_time": "2022-12-04T04:09:50.557Z"
   },
   {
    "duration": 4,
    "start_time": "2022-12-04T04:10:01.237Z"
   },
   {
    "duration": 4,
    "start_time": "2022-12-04T04:10:42.048Z"
   },
   {
    "duration": 9,
    "start_time": "2022-12-04T04:10:44.162Z"
   },
   {
    "duration": 8,
    "start_time": "2022-12-04T04:10:50.334Z"
   },
   {
    "duration": 3,
    "start_time": "2022-12-04T04:10:52.878Z"
   },
   {
    "duration": 12,
    "start_time": "2022-12-04T04:10:54.562Z"
   },
   {
    "duration": 4,
    "start_time": "2022-12-04T04:18:33.865Z"
   },
   {
    "duration": 10,
    "start_time": "2022-12-04T04:18:40.846Z"
   },
   {
    "duration": 16,
    "start_time": "2022-12-04T04:19:35.140Z"
   },
   {
    "duration": 27,
    "start_time": "2022-12-04T04:25:08.281Z"
   },
   {
    "duration": 5,
    "start_time": "2022-12-04T04:25:49.077Z"
   },
   {
    "duration": 16,
    "start_time": "2022-12-04T04:26:07.665Z"
   },
   {
    "duration": 9,
    "start_time": "2022-12-04T04:26:17.555Z"
   },
   {
    "duration": 5,
    "start_time": "2022-12-04T04:26:23.161Z"
   },
   {
    "duration": 16,
    "start_time": "2022-12-04T04:27:04.607Z"
   },
   {
    "duration": 17,
    "start_time": "2022-12-04T04:29:04.460Z"
   },
   {
    "duration": 11,
    "start_time": "2022-12-04T04:30:10.800Z"
   },
   {
    "duration": 20,
    "start_time": "2022-12-04T04:30:18.999Z"
   },
   {
    "duration": 18,
    "start_time": "2022-12-04T04:30:52.462Z"
   },
   {
    "duration": 15,
    "start_time": "2022-12-04T04:33:08.882Z"
   },
   {
    "duration": 14,
    "start_time": "2022-12-04T04:34:09.338Z"
   },
   {
    "duration": 15,
    "start_time": "2022-12-04T04:34:30.043Z"
   },
   {
    "duration": 10,
    "start_time": "2022-12-04T04:34:38.866Z"
   },
   {
    "duration": 12,
    "start_time": "2022-12-04T04:41:23.776Z"
   },
   {
    "duration": 10,
    "start_time": "2022-12-04T04:55:21.488Z"
   },
   {
    "duration": 10,
    "start_time": "2022-12-04T04:56:32.740Z"
   },
   {
    "duration": 11,
    "start_time": "2022-12-04T04:56:59.729Z"
   },
   {
    "duration": 10,
    "start_time": "2022-12-04T04:57:05.790Z"
   },
   {
    "duration": 22,
    "start_time": "2022-12-04T04:57:41.517Z"
   },
   {
    "duration": 24,
    "start_time": "2022-12-04T04:58:01.557Z"
   },
   {
    "duration": 20,
    "start_time": "2022-12-04T04:58:23.487Z"
   },
   {
    "duration": 23,
    "start_time": "2022-12-04T04:59:45.012Z"
   },
   {
    "duration": 6,
    "start_time": "2022-12-04T05:00:16.942Z"
   },
   {
    "duration": 8,
    "start_time": "2022-12-04T05:07:36.067Z"
   },
   {
    "duration": 2,
    "start_time": "2022-12-04T05:07:39.500Z"
   },
   {
    "duration": 13,
    "start_time": "2022-12-04T05:07:43.674Z"
   },
   {
    "duration": 17,
    "start_time": "2022-12-04T05:07:49.476Z"
   },
   {
    "duration": 4,
    "start_time": "2022-12-04T05:09:02.324Z"
   },
   {
    "duration": 17,
    "start_time": "2022-12-04T05:09:18.075Z"
   },
   {
    "duration": 4,
    "start_time": "2022-12-04T05:10:11.589Z"
   },
   {
    "duration": 17,
    "start_time": "2022-12-04T05:10:39.023Z"
   },
   {
    "duration": 4,
    "start_time": "2022-12-04T05:11:01.348Z"
   },
   {
    "duration": 4,
    "start_time": "2022-12-04T05:11:26.162Z"
   },
   {
    "duration": 14,
    "start_time": "2022-12-04T05:22:17.012Z"
   },
   {
    "duration": 3,
    "start_time": "2022-12-04T05:22:46.736Z"
   },
   {
    "duration": 42,
    "start_time": "2022-12-04T05:22:46.741Z"
   },
   {
    "duration": 13,
    "start_time": "2022-12-04T05:22:46.811Z"
   },
   {
    "duration": 12,
    "start_time": "2022-12-04T05:22:46.826Z"
   },
   {
    "duration": 4,
    "start_time": "2022-12-04T05:22:46.840Z"
   },
   {
    "duration": 6,
    "start_time": "2022-12-04T05:22:46.846Z"
   },
   {
    "duration": 8,
    "start_time": "2022-12-04T05:22:46.853Z"
   },
   {
    "duration": 15,
    "start_time": "2022-12-04T05:22:46.863Z"
   },
   {
    "duration": 6,
    "start_time": "2022-12-04T05:22:46.880Z"
   },
   {
    "duration": 11,
    "start_time": "2022-12-04T05:22:46.887Z"
   },
   {
    "duration": 4,
    "start_time": "2022-12-04T05:22:46.900Z"
   },
   {
    "duration": 5,
    "start_time": "2022-12-04T05:22:46.907Z"
   },
   {
    "duration": 4,
    "start_time": "2022-12-04T05:22:46.913Z"
   },
   {
    "duration": 4,
    "start_time": "2022-12-04T05:22:46.919Z"
   },
   {
    "duration": 9,
    "start_time": "2022-12-04T05:22:46.925Z"
   },
   {
    "duration": 4,
    "start_time": "2022-12-04T05:22:46.935Z"
   },
   {
    "duration": 5,
    "start_time": "2022-12-04T05:22:46.941Z"
   },
   {
    "duration": 6,
    "start_time": "2022-12-04T05:22:46.979Z"
   },
   {
    "duration": 8,
    "start_time": "2022-12-04T05:22:46.986Z"
   },
   {
    "duration": 8,
    "start_time": "2022-12-04T05:22:46.996Z"
   },
   {
    "duration": 14,
    "start_time": "2022-12-04T05:22:47.006Z"
   },
   {
    "duration": 17,
    "start_time": "2022-12-04T05:22:47.021Z"
   },
   {
    "duration": 4,
    "start_time": "2022-12-04T05:22:47.040Z"
   },
   {
    "duration": 33,
    "start_time": "2022-12-04T05:22:47.045Z"
   },
   {
    "duration": 4,
    "start_time": "2022-12-04T05:22:52.670Z"
   },
   {
    "duration": 12,
    "start_time": "2022-12-04T05:23:01.297Z"
   },
   {
    "duration": 19,
    "start_time": "2022-12-04T05:23:08.943Z"
   },
   {
    "duration": 13,
    "start_time": "2022-12-04T05:23:56.904Z"
   },
   {
    "duration": 13,
    "start_time": "2022-12-04T05:24:07.184Z"
   },
   {
    "duration": 17,
    "start_time": "2022-12-04T05:24:28.105Z"
   },
   {
    "duration": 12,
    "start_time": "2022-12-04T05:25:26.641Z"
   },
   {
    "duration": 12,
    "start_time": "2022-12-04T05:25:27.623Z"
   },
   {
    "duration": 4,
    "start_time": "2022-12-04T05:25:30.742Z"
   },
   {
    "duration": 18,
    "start_time": "2022-12-04T05:25:34.251Z"
   },
   {
    "duration": 6,
    "start_time": "2022-12-04T05:25:48.420Z"
   },
   {
    "duration": 271,
    "start_time": "2022-12-04T05:26:01.650Z"
   },
   {
    "duration": 3,
    "start_time": "2022-12-04T05:26:27.447Z"
   },
   {
    "duration": 45,
    "start_time": "2022-12-04T05:26:27.452Z"
   },
   {
    "duration": 11,
    "start_time": "2022-12-04T05:26:27.499Z"
   },
   {
    "duration": 13,
    "start_time": "2022-12-04T05:26:27.511Z"
   },
   {
    "duration": 4,
    "start_time": "2022-12-04T05:26:27.525Z"
   },
   {
    "duration": 6,
    "start_time": "2022-12-04T05:26:27.530Z"
   },
   {
    "duration": 5,
    "start_time": "2022-12-04T05:26:27.537Z"
   },
   {
    "duration": 11,
    "start_time": "2022-12-04T05:26:27.543Z"
   },
   {
    "duration": 24,
    "start_time": "2022-12-04T05:26:27.556Z"
   },
   {
    "duration": 10,
    "start_time": "2022-12-04T05:26:27.582Z"
   },
   {
    "duration": 2,
    "start_time": "2022-12-04T05:26:27.594Z"
   },
   {
    "duration": 8,
    "start_time": "2022-12-04T05:26:27.598Z"
   },
   {
    "duration": 4,
    "start_time": "2022-12-04T05:26:27.607Z"
   },
   {
    "duration": 4,
    "start_time": "2022-12-04T05:26:27.613Z"
   },
   {
    "duration": 11,
    "start_time": "2022-12-04T05:26:27.618Z"
   },
   {
    "duration": 3,
    "start_time": "2022-12-04T05:26:27.630Z"
   },
   {
    "duration": 4,
    "start_time": "2022-12-04T05:26:27.635Z"
   },
   {
    "duration": 38,
    "start_time": "2022-12-04T05:26:27.641Z"
   },
   {
    "duration": 7,
    "start_time": "2022-12-04T05:26:27.681Z"
   },
   {
    "duration": 7,
    "start_time": "2022-12-04T05:26:27.689Z"
   },
   {
    "duration": 15,
    "start_time": "2022-12-04T05:26:27.698Z"
   },
   {
    "duration": 18,
    "start_time": "2022-12-04T05:26:27.714Z"
   },
   {
    "duration": 3,
    "start_time": "2022-12-04T05:26:27.733Z"
   },
   {
    "duration": 13,
    "start_time": "2022-12-04T05:26:27.737Z"
   },
   {
    "duration": 38,
    "start_time": "2022-12-04T05:26:27.751Z"
   },
   {
    "duration": 3,
    "start_time": "2022-12-04T05:26:27.791Z"
   },
   {
    "duration": 10,
    "start_time": "2022-12-04T05:26:27.796Z"
   },
   {
    "duration": 9,
    "start_time": "2022-12-04T05:26:27.807Z"
   },
   {
    "duration": 284,
    "start_time": "2022-12-04T05:26:27.819Z"
   },
   {
    "duration": 17180,
    "start_time": "2022-12-04T05:26:28.105Z"
   },
   {
    "duration": 607,
    "start_time": "2022-12-04T05:26:45.378Z"
   },
   {
    "duration": 6817,
    "start_time": "2022-12-04T05:26:45.987Z"
   },
   {
    "duration": 77,
    "start_time": "2022-12-04T05:26:52.805Z"
   },
   {
    "duration": 16719,
    "start_time": "2022-12-04T05:27:10.065Z"
   },
   {
    "duration": 480,
    "start_time": "2022-12-04T05:27:58.505Z"
   },
   {
    "duration": 4,
    "start_time": "2022-12-04T05:28:37.820Z"
   },
   {
    "duration": 47,
    "start_time": "2022-12-04T05:28:37.825Z"
   },
   {
    "duration": 11,
    "start_time": "2022-12-04T05:28:37.874Z"
   },
   {
    "duration": 13,
    "start_time": "2022-12-04T05:28:37.886Z"
   },
   {
    "duration": 3,
    "start_time": "2022-12-04T05:28:37.901Z"
   },
   {
    "duration": 5,
    "start_time": "2022-12-04T05:28:37.906Z"
   },
   {
    "duration": 8,
    "start_time": "2022-12-04T05:28:37.913Z"
   },
   {
    "duration": 11,
    "start_time": "2022-12-04T05:28:37.922Z"
   },
   {
    "duration": 5,
    "start_time": "2022-12-04T05:28:37.934Z"
   },
   {
    "duration": 38,
    "start_time": "2022-12-04T05:28:37.940Z"
   },
   {
    "duration": 2,
    "start_time": "2022-12-04T05:28:37.981Z"
   },
   {
    "duration": 7,
    "start_time": "2022-12-04T05:28:37.984Z"
   },
   {
    "duration": 5,
    "start_time": "2022-12-04T05:28:37.993Z"
   },
   {
    "duration": 5,
    "start_time": "2022-12-04T05:28:37.999Z"
   },
   {
    "duration": 10,
    "start_time": "2022-12-04T05:28:38.005Z"
   },
   {
    "duration": 4,
    "start_time": "2022-12-04T05:28:38.016Z"
   },
   {
    "duration": 8,
    "start_time": "2022-12-04T05:28:38.021Z"
   },
   {
    "duration": 12,
    "start_time": "2022-12-04T05:28:38.031Z"
   },
   {
    "duration": 7,
    "start_time": "2022-12-04T05:28:38.044Z"
   },
   {
    "duration": 25,
    "start_time": "2022-12-04T05:28:38.053Z"
   },
   {
    "duration": 12,
    "start_time": "2022-12-04T05:28:38.080Z"
   },
   {
    "duration": 17,
    "start_time": "2022-12-04T05:28:38.094Z"
   },
   {
    "duration": 6,
    "start_time": "2022-12-04T05:28:38.113Z"
   },
   {
    "duration": 14,
    "start_time": "2022-12-04T05:28:38.120Z"
   },
   {
    "duration": 13,
    "start_time": "2022-12-04T05:28:38.135Z"
   },
   {
    "duration": 30,
    "start_time": "2022-12-04T05:28:38.149Z"
   },
   {
    "duration": 20,
    "start_time": "2022-12-04T05:28:38.181Z"
   },
   {
    "duration": 7,
    "start_time": "2022-12-04T05:28:38.202Z"
   },
   {
    "duration": 265,
    "start_time": "2022-12-04T05:28:44.753Z"
   },
   {
    "duration": 129,
    "start_time": "2022-12-04T05:28:52.651Z"
   },
   {
    "duration": 6874,
    "start_time": "2022-12-04T05:29:02.810Z"
   },
   {
    "duration": 35,
    "start_time": "2022-12-04T05:29:14.050Z"
   },
   {
    "duration": 5198,
    "start_time": "2022-12-04T05:29:17.105Z"
   },
   {
    "duration": 22,
    "start_time": "2022-12-04T05:29:22.304Z"
   },
   {
    "duration": 8,
    "start_time": "2022-12-04T05:29:25.963Z"
   },
   {
    "duration": 46,
    "start_time": "2022-12-04T05:29:40.040Z"
   },
   {
    "duration": 5045,
    "start_time": "2022-12-04T05:30:09.076Z"
   },
   {
    "duration": 23,
    "start_time": "2022-12-04T05:30:17.731Z"
   },
   {
    "duration": 5,
    "start_time": "2022-12-04T05:31:07.584Z"
   },
   {
    "duration": 325,
    "start_time": "2022-12-04T05:31:11.682Z"
   },
   {
    "duration": 4,
    "start_time": "2022-12-04T08:24:25.460Z"
   },
   {
    "duration": 52,
    "start_time": "2022-12-04T08:24:25.465Z"
   },
   {
    "duration": 11,
    "start_time": "2022-12-04T08:24:25.518Z"
   },
   {
    "duration": 13,
    "start_time": "2022-12-04T08:24:25.531Z"
   },
   {
    "duration": 4,
    "start_time": "2022-12-04T08:24:25.545Z"
   },
   {
    "duration": 7,
    "start_time": "2022-12-04T08:24:25.550Z"
   },
   {
    "duration": 5,
    "start_time": "2022-12-04T08:24:25.559Z"
   },
   {
    "duration": 17,
    "start_time": "2022-12-04T08:24:25.565Z"
   },
   {
    "duration": 5,
    "start_time": "2022-12-04T08:24:25.585Z"
   },
   {
    "duration": 14,
    "start_time": "2022-12-04T08:24:25.591Z"
   },
   {
    "duration": 3,
    "start_time": "2022-12-04T08:24:25.606Z"
   },
   {
    "duration": 9,
    "start_time": "2022-12-04T08:24:25.610Z"
   },
   {
    "duration": 5,
    "start_time": "2022-12-04T08:24:25.621Z"
   },
   {
    "duration": 8,
    "start_time": "2022-12-04T08:24:25.627Z"
   },
   {
    "duration": 10,
    "start_time": "2022-12-04T08:24:25.636Z"
   },
   {
    "duration": 4,
    "start_time": "2022-12-04T08:24:25.648Z"
   },
   {
    "duration": 25,
    "start_time": "2022-12-04T08:24:25.653Z"
   },
   {
    "duration": 8,
    "start_time": "2022-12-04T08:24:25.680Z"
   },
   {
    "duration": 6,
    "start_time": "2022-12-04T08:24:25.689Z"
   },
   {
    "duration": 7,
    "start_time": "2022-12-04T08:24:25.696Z"
   },
   {
    "duration": 13,
    "start_time": "2022-12-04T08:24:25.704Z"
   },
   {
    "duration": 16,
    "start_time": "2022-12-04T08:24:25.718Z"
   },
   {
    "duration": 6,
    "start_time": "2022-12-04T08:24:25.736Z"
   },
   {
    "duration": 5,
    "start_time": "2022-12-04T08:24:25.744Z"
   },
   {
    "duration": 6,
    "start_time": "2022-12-04T08:24:25.750Z"
   },
   {
    "duration": 21,
    "start_time": "2022-12-04T08:24:25.757Z"
   },
   {
    "duration": 11,
    "start_time": "2022-12-04T08:24:25.779Z"
   },
   {
    "duration": 6,
    "start_time": "2022-12-04T08:24:31.836Z"
   },
   {
    "duration": 13,
    "start_time": "2022-12-04T08:24:39.003Z"
   },
   {
    "duration": 4,
    "start_time": "2022-12-04T08:26:06.243Z"
   },
   {
    "duration": 41,
    "start_time": "2022-12-04T08:26:06.249Z"
   },
   {
    "duration": 12,
    "start_time": "2022-12-04T08:26:06.292Z"
   },
   {
    "duration": 16,
    "start_time": "2022-12-04T08:26:06.305Z"
   },
   {
    "duration": 3,
    "start_time": "2022-12-04T08:26:06.323Z"
   },
   {
    "duration": 5,
    "start_time": "2022-12-04T08:26:06.328Z"
   },
   {
    "duration": 5,
    "start_time": "2022-12-04T08:26:06.335Z"
   },
   {
    "duration": 13,
    "start_time": "2022-12-04T08:26:06.341Z"
   },
   {
    "duration": 27,
    "start_time": "2022-12-04T08:26:06.355Z"
   },
   {
    "duration": 13,
    "start_time": "2022-12-04T08:26:06.384Z"
   },
   {
    "duration": 3,
    "start_time": "2022-12-04T08:26:06.399Z"
   },
   {
    "duration": 7,
    "start_time": "2022-12-04T08:26:06.403Z"
   },
   {
    "duration": 5,
    "start_time": "2022-12-04T08:26:06.412Z"
   },
   {
    "duration": 5,
    "start_time": "2022-12-04T08:26:06.419Z"
   },
   {
    "duration": 10,
    "start_time": "2022-12-04T08:26:06.425Z"
   },
   {
    "duration": 3,
    "start_time": "2022-12-04T08:26:06.437Z"
   },
   {
    "duration": 6,
    "start_time": "2022-12-04T08:26:06.441Z"
   },
   {
    "duration": 30,
    "start_time": "2022-12-04T08:26:06.448Z"
   },
   {
    "duration": 5,
    "start_time": "2022-12-04T08:26:06.479Z"
   },
   {
    "duration": 8,
    "start_time": "2022-12-04T08:26:06.485Z"
   },
   {
    "duration": 13,
    "start_time": "2022-12-04T08:26:06.495Z"
   },
   {
    "duration": 17,
    "start_time": "2022-12-04T08:26:06.509Z"
   },
   {
    "duration": 4,
    "start_time": "2022-12-04T08:26:06.527Z"
   },
   {
    "duration": 4,
    "start_time": "2022-12-04T08:26:06.532Z"
   },
   {
    "duration": 5,
    "start_time": "2022-12-04T08:26:06.538Z"
   },
   {
    "duration": 6,
    "start_time": "2022-12-04T08:26:06.544Z"
   },
   {
    "duration": 32,
    "start_time": "2022-12-04T08:26:06.551Z"
   },
   {
    "duration": 15,
    "start_time": "2022-12-04T08:26:06.584Z"
   },
   {
    "duration": 12,
    "start_time": "2022-12-04T08:26:10.538Z"
   },
   {
    "duration": 18,
    "start_time": "2022-12-04T08:34:34.923Z"
   },
   {
    "duration": 4,
    "start_time": "2022-12-04T08:35:37.235Z"
   },
   {
    "duration": 42,
    "start_time": "2022-12-04T08:35:37.241Z"
   },
   {
    "duration": 12,
    "start_time": "2022-12-04T08:35:37.284Z"
   },
   {
    "duration": 11,
    "start_time": "2022-12-04T08:35:37.298Z"
   },
   {
    "duration": 3,
    "start_time": "2022-12-04T08:35:37.311Z"
   },
   {
    "duration": 6,
    "start_time": "2022-12-04T08:35:37.316Z"
   },
   {
    "duration": 5,
    "start_time": "2022-12-04T08:35:37.323Z"
   },
   {
    "duration": 12,
    "start_time": "2022-12-04T08:35:37.329Z"
   },
   {
    "duration": 35,
    "start_time": "2022-12-04T08:35:37.343Z"
   },
   {
    "duration": 10,
    "start_time": "2022-12-04T08:35:37.379Z"
   },
   {
    "duration": 2,
    "start_time": "2022-12-04T08:35:37.391Z"
   },
   {
    "duration": 9,
    "start_time": "2022-12-04T08:35:37.395Z"
   },
   {
    "duration": 10,
    "start_time": "2022-12-04T08:35:37.405Z"
   },
   {
    "duration": 5,
    "start_time": "2022-12-04T08:35:37.416Z"
   },
   {
    "duration": 5,
    "start_time": "2022-12-04T08:35:37.422Z"
   },
   {
    "duration": 11,
    "start_time": "2022-12-04T08:35:37.428Z"
   },
   {
    "duration": 6,
    "start_time": "2022-12-04T08:35:37.441Z"
   },
   {
    "duration": 9,
    "start_time": "2022-12-04T08:35:37.448Z"
   },
   {
    "duration": 6,
    "start_time": "2022-12-04T08:35:40.082Z"
   },
   {
    "duration": 16,
    "start_time": "2022-12-04T08:35:41.148Z"
   },
   {
    "duration": 4,
    "start_time": "2022-12-04T08:35:53.079Z"
   },
   {
    "duration": 45,
    "start_time": "2022-12-04T08:35:53.085Z"
   },
   {
    "duration": 11,
    "start_time": "2022-12-04T08:35:53.131Z"
   },
   {
    "duration": 13,
    "start_time": "2022-12-04T08:35:53.144Z"
   },
   {
    "duration": 3,
    "start_time": "2022-12-04T08:35:53.159Z"
   },
   {
    "duration": 7,
    "start_time": "2022-12-04T08:35:53.163Z"
   },
   {
    "duration": 4,
    "start_time": "2022-12-04T08:35:53.172Z"
   },
   {
    "duration": 11,
    "start_time": "2022-12-04T08:35:53.178Z"
   },
   {
    "duration": 5,
    "start_time": "2022-12-04T08:35:53.190Z"
   },
   {
    "duration": 9,
    "start_time": "2022-12-04T08:35:53.197Z"
   },
   {
    "duration": 2,
    "start_time": "2022-12-04T08:35:53.209Z"
   },
   {
    "duration": 6,
    "start_time": "2022-12-04T08:35:53.212Z"
   },
   {
    "duration": 6,
    "start_time": "2022-12-04T08:35:53.220Z"
   },
   {
    "duration": 6,
    "start_time": "2022-12-04T08:35:53.227Z"
   },
   {
    "duration": 4,
    "start_time": "2022-12-04T08:35:53.234Z"
   },
   {
    "duration": 5,
    "start_time": "2022-12-04T08:35:53.239Z"
   },
   {
    "duration": 33,
    "start_time": "2022-12-04T08:35:53.245Z"
   },
   {
    "duration": 6,
    "start_time": "2022-12-04T08:35:53.279Z"
   },
   {
    "duration": 7,
    "start_time": "2022-12-04T08:35:55.290Z"
   },
   {
    "duration": 17,
    "start_time": "2022-12-04T08:35:56.792Z"
   },
   {
    "duration": 12,
    "start_time": "2022-12-04T08:36:01.828Z"
   },
   {
    "duration": 4,
    "start_time": "2022-12-04T08:36:22.195Z"
   },
   {
    "duration": 41,
    "start_time": "2022-12-04T08:36:22.200Z"
   },
   {
    "duration": 10,
    "start_time": "2022-12-04T08:36:22.242Z"
   },
   {
    "duration": 12,
    "start_time": "2022-12-04T08:36:22.253Z"
   },
   {
    "duration": 3,
    "start_time": "2022-12-04T08:36:22.267Z"
   },
   {
    "duration": 8,
    "start_time": "2022-12-04T08:36:22.271Z"
   },
   {
    "duration": 5,
    "start_time": "2022-12-04T08:36:22.281Z"
   },
   {
    "duration": 12,
    "start_time": "2022-12-04T08:36:22.287Z"
   },
   {
    "duration": 5,
    "start_time": "2022-12-04T08:36:22.300Z"
   },
   {
    "duration": 11,
    "start_time": "2022-12-04T08:36:22.306Z"
   },
   {
    "duration": 2,
    "start_time": "2022-12-04T08:36:22.319Z"
   },
   {
    "duration": 7,
    "start_time": "2022-12-04T08:36:22.322Z"
   },
   {
    "duration": 5,
    "start_time": "2022-12-04T08:36:22.331Z"
   },
   {
    "duration": 5,
    "start_time": "2022-12-04T08:36:22.337Z"
   },
   {
    "duration": 6,
    "start_time": "2022-12-04T08:36:22.344Z"
   },
   {
    "duration": 2,
    "start_time": "2022-12-04T08:36:24.093Z"
   },
   {
    "duration": 3,
    "start_time": "2022-12-04T08:36:25.800Z"
   },
   {
    "duration": 17,
    "start_time": "2022-12-04T08:36:41.905Z"
   },
   {
    "duration": 4,
    "start_time": "2022-12-04T08:37:25.315Z"
   },
   {
    "duration": 16,
    "start_time": "2022-12-04T08:37:27.163Z"
   },
   {
    "duration": 7,
    "start_time": "2022-12-04T08:37:33.926Z"
   },
   {
    "duration": 16,
    "start_time": "2022-12-04T08:37:39.847Z"
   },
   {
    "duration": 11,
    "start_time": "2022-12-04T08:37:42.107Z"
   },
   {
    "duration": 19,
    "start_time": "2022-12-04T08:38:27.820Z"
   },
   {
    "duration": 8,
    "start_time": "2022-12-04T08:40:00.856Z"
   },
   {
    "duration": 5,
    "start_time": "2022-12-04T08:40:09.739Z"
   },
   {
    "duration": 17,
    "start_time": "2022-12-04T08:40:10.778Z"
   },
   {
    "duration": 8,
    "start_time": "2022-12-04T08:40:16.966Z"
   },
   {
    "duration": 10,
    "start_time": "2022-12-04T08:40:18.852Z"
   },
   {
    "duration": 8,
    "start_time": "2022-12-04T08:42:33.518Z"
   },
   {
    "duration": 17,
    "start_time": "2022-12-04T08:42:36.919Z"
   },
   {
    "duration": 9,
    "start_time": "2022-12-04T08:42:45.903Z"
   },
   {
    "duration": 14,
    "start_time": "2022-12-04T08:42:58.863Z"
   },
   {
    "duration": 8,
    "start_time": "2022-12-04T08:45:02.634Z"
   },
   {
    "duration": 6,
    "start_time": "2022-12-04T08:45:04.163Z"
   },
   {
    "duration": 17,
    "start_time": "2022-12-04T08:45:05.633Z"
   },
   {
    "duration": 28,
    "start_time": "2022-12-04T08:45:59.962Z"
   },
   {
    "duration": 9,
    "start_time": "2022-12-04T08:52:00.467Z"
   },
   {
    "duration": 16,
    "start_time": "2022-12-04T08:52:07.364Z"
   },
   {
    "duration": 17,
    "start_time": "2022-12-04T08:52:45.043Z"
   },
   {
    "duration": 4,
    "start_time": "2022-12-04T08:53:04.943Z"
   },
   {
    "duration": 49,
    "start_time": "2022-12-04T08:53:04.949Z"
   },
   {
    "duration": 12,
    "start_time": "2022-12-04T08:53:05.000Z"
   },
   {
    "duration": 22,
    "start_time": "2022-12-04T08:53:05.015Z"
   },
   {
    "duration": 4,
    "start_time": "2022-12-04T08:53:05.038Z"
   },
   {
    "duration": 12,
    "start_time": "2022-12-04T08:53:05.044Z"
   },
   {
    "duration": 7,
    "start_time": "2022-12-04T08:53:05.057Z"
   },
   {
    "duration": 12,
    "start_time": "2022-12-04T08:53:05.078Z"
   },
   {
    "duration": 5,
    "start_time": "2022-12-04T08:53:05.092Z"
   },
   {
    "duration": 13,
    "start_time": "2022-12-04T08:53:05.098Z"
   },
   {
    "duration": 9,
    "start_time": "2022-12-04T08:53:05.112Z"
   },
   {
    "duration": 10,
    "start_time": "2022-12-04T08:53:05.123Z"
   },
   {
    "duration": 5,
    "start_time": "2022-12-04T08:53:05.134Z"
   },
   {
    "duration": 5,
    "start_time": "2022-12-04T08:53:05.140Z"
   },
   {
    "duration": 5,
    "start_time": "2022-12-04T08:53:05.147Z"
   },
   {
    "duration": 7,
    "start_time": "2022-12-04T08:53:05.153Z"
   },
   {
    "duration": 32,
    "start_time": "2022-12-04T08:53:05.162Z"
   },
   {
    "duration": 7,
    "start_time": "2022-12-04T08:53:05.195Z"
   },
   {
    "duration": 18,
    "start_time": "2022-12-04T08:53:05.204Z"
   },
   {
    "duration": 8,
    "start_time": "2022-12-04T08:53:12.694Z"
   },
   {
    "duration": 11,
    "start_time": "2022-12-04T08:54:06.013Z"
   },
   {
    "duration": 9,
    "start_time": "2022-12-04T08:54:26.641Z"
   },
   {
    "duration": 15,
    "start_time": "2022-12-04T08:54:29.381Z"
   },
   {
    "duration": 7,
    "start_time": "2022-12-04T08:54:37.125Z"
   },
   {
    "duration": 23,
    "start_time": "2022-12-04T08:54:43.057Z"
   },
   {
    "duration": 16,
    "start_time": "2022-12-04T08:55:21.511Z"
   },
   {
    "duration": 30,
    "start_time": "2022-12-04T08:59:12.834Z"
   },
   {
    "duration": 3,
    "start_time": "2022-12-04T08:59:22.666Z"
   },
   {
    "duration": 16,
    "start_time": "2022-12-04T08:59:53.446Z"
   },
   {
    "duration": 2,
    "start_time": "2022-12-04T09:00:02.913Z"
   },
   {
    "duration": 23,
    "start_time": "2022-12-04T09:00:04.325Z"
   },
   {
    "duration": 346,
    "start_time": "2022-12-04T09:01:42.789Z"
   },
   {
    "duration": 16,
    "start_time": "2022-12-04T09:02:43.475Z"
   },
   {
    "duration": 38,
    "start_time": "2022-12-04T09:02:51.301Z"
   },
   {
    "duration": 328,
    "start_time": "2022-12-04T09:03:09.766Z"
   },
   {
    "duration": 4,
    "start_time": "2022-12-04T14:15:30.966Z"
   },
   {
    "duration": 63,
    "start_time": "2022-12-04T14:15:30.972Z"
   },
   {
    "duration": 14,
    "start_time": "2022-12-04T14:15:31.037Z"
   },
   {
    "duration": 23,
    "start_time": "2022-12-04T14:15:31.053Z"
   },
   {
    "duration": 22,
    "start_time": "2022-12-04T14:15:31.078Z"
   },
   {
    "duration": 10,
    "start_time": "2022-12-04T14:15:31.102Z"
   },
   {
    "duration": 32,
    "start_time": "2022-12-04T14:15:31.113Z"
   },
   {
    "duration": 16,
    "start_time": "2022-12-04T14:15:31.147Z"
   },
   {
    "duration": 16,
    "start_time": "2022-12-04T14:15:31.165Z"
   },
   {
    "duration": 15,
    "start_time": "2022-12-04T14:15:31.183Z"
   },
   {
    "duration": 3,
    "start_time": "2022-12-04T14:15:31.200Z"
   },
   {
    "duration": 12,
    "start_time": "2022-12-04T14:15:31.205Z"
   },
   {
    "duration": 17,
    "start_time": "2022-12-04T14:15:31.219Z"
   },
   {
    "duration": 20,
    "start_time": "2022-12-04T14:15:31.238Z"
   },
   {
    "duration": 13,
    "start_time": "2022-12-04T14:15:39.693Z"
   },
   {
    "duration": 15,
    "start_time": "2022-12-04T14:15:42.789Z"
   },
   {
    "duration": 18,
    "start_time": "2022-12-04T14:16:09.671Z"
   },
   {
    "duration": 13,
    "start_time": "2022-12-04T14:16:10.718Z"
   },
   {
    "duration": 5,
    "start_time": "2022-12-04T14:16:11.767Z"
   },
   {
    "duration": 18,
    "start_time": "2022-12-04T14:16:13.347Z"
   },
   {
    "duration": 4,
    "start_time": "2022-12-04T14:16:46.947Z"
   },
   {
    "duration": 18,
    "start_time": "2022-12-04T14:16:48.183Z"
   },
   {
    "duration": 7,
    "start_time": "2022-12-04T14:16:52.374Z"
   },
   {
    "duration": 3,
    "start_time": "2022-12-04T14:16:54.365Z"
   },
   {
    "duration": 2,
    "start_time": "2022-12-04T14:16:54.954Z"
   },
   {
    "duration": 2,
    "start_time": "2022-12-04T14:16:55.661Z"
   },
   {
    "duration": 3,
    "start_time": "2022-12-04T14:16:57.395Z"
   },
   {
    "duration": 302,
    "start_time": "2022-12-04T14:16:59.140Z"
   },
   {
    "duration": 5,
    "start_time": "2022-12-04T15:00:48.909Z"
   },
   {
    "duration": 74,
    "start_time": "2022-12-04T15:00:48.916Z"
   },
   {
    "duration": 13,
    "start_time": "2022-12-04T15:00:48.992Z"
   },
   {
    "duration": 40,
    "start_time": "2022-12-04T15:00:49.007Z"
   },
   {
    "duration": 29,
    "start_time": "2022-12-04T15:00:49.050Z"
   },
   {
    "duration": 32,
    "start_time": "2022-12-04T15:00:49.081Z"
   },
   {
    "duration": 43,
    "start_time": "2022-12-04T15:00:49.115Z"
   },
   {
    "duration": 52,
    "start_time": "2022-12-04T15:00:49.161Z"
   },
   {
    "duration": 12,
    "start_time": "2022-12-04T15:00:49.215Z"
   },
   {
    "duration": 42,
    "start_time": "2022-12-04T15:00:49.228Z"
   },
   {
    "duration": 20,
    "start_time": "2022-12-04T15:00:49.272Z"
   },
   {
    "duration": 30,
    "start_time": "2022-12-04T15:00:49.294Z"
   },
   {
    "duration": 89,
    "start_time": "2022-12-04T15:00:49.327Z"
   },
   {
    "duration": 0,
    "start_time": "2022-12-04T15:00:49.418Z"
   },
   {
    "duration": 0,
    "start_time": "2022-12-04T15:00:49.419Z"
   },
   {
    "duration": 22,
    "start_time": "2022-12-04T15:00:49.444Z"
   },
   {
    "duration": 15,
    "start_time": "2022-12-04T15:00:49.540Z"
   },
   {
    "duration": 30,
    "start_time": "2022-12-04T15:00:49.557Z"
   },
   {
    "duration": 35,
    "start_time": "2022-12-04T15:00:49.588Z"
   },
   {
    "duration": 31,
    "start_time": "2022-12-04T15:00:49.625Z"
   },
   {
    "duration": 330,
    "start_time": "2022-12-04T15:00:49.658Z"
   },
   {
    "duration": 68,
    "start_time": "2022-12-04T15:04:07.236Z"
   },
   {
    "duration": 38348,
    "start_time": "2022-12-04T15:04:20.336Z"
   },
   {
    "duration": 410,
    "start_time": "2022-12-04T15:05:29.068Z"
   },
   {
    "duration": 7147,
    "start_time": "2022-12-04T15:06:04.537Z"
   },
   {
    "duration": 409969,
    "start_time": "2022-12-04T15:06:45.079Z"
   },
   {
    "duration": 295,
    "start_time": "2022-12-04T15:14:18.241Z"
   },
   {
    "duration": 6355,
    "start_time": "2022-12-04T15:14:30.732Z"
   },
   {
    "duration": 200,
    "start_time": "2022-12-04T15:14:40.086Z"
   },
   {
    "duration": 5483,
    "start_time": "2022-12-04T15:15:15.310Z"
   },
   {
    "duration": 26,
    "start_time": "2022-12-04T15:15:30.235Z"
   },
   {
    "duration": 10,
    "start_time": "2022-12-04T15:15:31.088Z"
   },
   {
    "duration": 1345,
    "start_time": "2022-12-04T15:18:38.217Z"
   },
   {
    "duration": 42,
    "start_time": "2022-12-04T15:18:39.564Z"
   },
   {
    "duration": 15,
    "start_time": "2022-12-04T15:18:39.607Z"
   },
   {
    "duration": 12,
    "start_time": "2022-12-04T15:18:39.623Z"
   },
   {
    "duration": 4,
    "start_time": "2022-12-04T15:18:39.637Z"
   },
   {
    "duration": 10,
    "start_time": "2022-12-04T15:18:39.642Z"
   },
   {
    "duration": 4,
    "start_time": "2022-12-04T15:18:39.653Z"
   },
   {
    "duration": 22,
    "start_time": "2022-12-04T15:18:39.659Z"
   },
   {
    "duration": 6,
    "start_time": "2022-12-04T15:18:39.682Z"
   },
   {
    "duration": 11,
    "start_time": "2022-12-04T15:18:39.690Z"
   },
   {
    "duration": 23795,
    "start_time": "2022-12-04T15:18:39.702Z"
   },
   {
    "duration": 5,
    "start_time": "2022-12-04T15:19:03.499Z"
   },
   {
    "duration": 19,
    "start_time": "2022-12-04T15:19:03.505Z"
   },
   {
    "duration": 13,
    "start_time": "2022-12-04T15:19:03.527Z"
   },
   {
    "duration": 15,
    "start_time": "2022-12-04T15:19:03.541Z"
   },
   {
    "duration": 29,
    "start_time": "2022-12-04T15:19:03.557Z"
   },
   {
    "duration": 5,
    "start_time": "2022-12-04T15:19:03.588Z"
   },
   {
    "duration": 15,
    "start_time": "2022-12-04T15:19:03.594Z"
   },
   {
    "duration": 97184,
    "start_time": "2022-12-04T15:19:03.610Z"
   },
   {
    "duration": 0,
    "start_time": "2022-12-04T15:20:40.796Z"
   },
   {
    "duration": 0,
    "start_time": "2022-12-04T15:20:40.797Z"
   },
   {
    "duration": 0,
    "start_time": "2022-12-04T15:20:40.798Z"
   },
   {
    "duration": 0,
    "start_time": "2022-12-04T15:20:40.799Z"
   },
   {
    "duration": 0,
    "start_time": "2022-12-04T15:20:40.800Z"
   },
   {
    "duration": 0,
    "start_time": "2022-12-04T15:20:40.801Z"
   },
   {
    "duration": 0,
    "start_time": "2022-12-04T15:20:40.802Z"
   },
   {
    "duration": 0,
    "start_time": "2022-12-04T15:20:40.803Z"
   },
   {
    "duration": 0,
    "start_time": "2022-12-04T15:20:40.804Z"
   },
   {
    "duration": 0,
    "start_time": "2022-12-04T15:20:40.805Z"
   },
   {
    "duration": 0,
    "start_time": "2022-12-04T15:20:40.806Z"
   },
   {
    "duration": 0,
    "start_time": "2022-12-04T15:20:40.807Z"
   },
   {
    "duration": 0,
    "start_time": "2022-12-04T15:20:40.808Z"
   },
   {
    "duration": 0,
    "start_time": "2022-12-04T15:20:40.809Z"
   },
   {
    "duration": 0,
    "start_time": "2022-12-04T15:20:40.810Z"
   },
   {
    "duration": 0,
    "start_time": "2022-12-04T15:20:40.811Z"
   },
   {
    "duration": 0,
    "start_time": "2022-12-04T15:20:40.812Z"
   },
   {
    "duration": 4,
    "start_time": "2022-12-04T15:25:05.729Z"
   },
   {
    "duration": 47,
    "start_time": "2022-12-04T15:25:05.734Z"
   },
   {
    "duration": 12,
    "start_time": "2022-12-04T15:25:05.782Z"
   },
   {
    "duration": 14,
    "start_time": "2022-12-04T15:25:05.796Z"
   },
   {
    "duration": 4,
    "start_time": "2022-12-04T15:25:05.811Z"
   },
   {
    "duration": 8,
    "start_time": "2022-12-04T15:25:05.816Z"
   },
   {
    "duration": 6,
    "start_time": "2022-12-04T15:25:05.826Z"
   },
   {
    "duration": 16,
    "start_time": "2022-12-04T15:25:05.833Z"
   },
   {
    "duration": 27,
    "start_time": "2022-12-04T15:25:05.851Z"
   },
   {
    "duration": 11,
    "start_time": "2022-12-04T15:25:05.879Z"
   },
   {
    "duration": 24031,
    "start_time": "2022-12-04T15:25:05.891Z"
   },
   {
    "duration": 5,
    "start_time": "2022-12-04T15:25:29.925Z"
   },
   {
    "duration": 46,
    "start_time": "2022-12-04T15:25:29.932Z"
   },
   {
    "duration": 14,
    "start_time": "2022-12-04T15:25:29.979Z"
   },
   {
    "duration": 14,
    "start_time": "2022-12-04T15:25:29.995Z"
   },
   {
    "duration": 39,
    "start_time": "2022-12-04T15:25:30.011Z"
   },
   {
    "duration": 8,
    "start_time": "2022-12-04T15:25:30.052Z"
   },
   {
    "duration": 29,
    "start_time": "2022-12-04T15:25:30.061Z"
   },
   {
    "duration": 417097,
    "start_time": "2022-12-04T15:25:30.091Z"
   },
   {
    "duration": 293,
    "start_time": "2022-12-04T15:32:27.190Z"
   },
   {
    "duration": 9406,
    "start_time": "2022-12-04T15:32:27.485Z"
   },
   {
    "duration": 389,
    "start_time": "2022-12-04T15:32:36.893Z"
   },
   {
    "duration": 5545,
    "start_time": "2022-12-04T15:32:37.288Z"
   },
   {
    "duration": 42,
    "start_time": "2022-12-04T15:32:42.837Z"
   },
   {
    "duration": 14,
    "start_time": "2022-12-04T15:32:42.881Z"
   },
   {
    "duration": 112,
    "start_time": "2022-12-04T15:32:42.896Z"
   },
   {
    "duration": 310,
    "start_time": "2022-12-04T15:32:43.010Z"
   },
   {
    "duration": 4,
    "start_time": "2022-12-04T15:32:43.322Z"
   },
   {
    "duration": 403,
    "start_time": "2022-12-04T15:32:43.327Z"
   },
   {
    "duration": 4,
    "start_time": "2022-12-04T15:32:43.732Z"
   },
   {
    "duration": 193,
    "start_time": "2022-12-04T15:32:43.737Z"
   },
   {
    "duration": 256,
    "start_time": "2022-12-04T15:32:43.933Z"
   },
   {
    "duration": 11,
    "start_time": "2022-12-04T15:32:44.191Z"
   },
   {
    "duration": 10,
    "start_time": "2022-12-04T15:32:44.204Z"
   },
   {
    "duration": 363,
    "start_time": "2022-12-04T15:32:44.216Z"
   },
   {
    "duration": 164,
    "start_time": "2022-12-04T15:32:44.580Z"
   },
   {
    "duration": 1547,
    "start_time": "2022-12-05T05:12:03.044Z"
   },
   {
    "duration": 48,
    "start_time": "2022-12-05T05:12:04.593Z"
   },
   {
    "duration": 17,
    "start_time": "2022-12-05T05:12:04.643Z"
   },
   {
    "duration": 16,
    "start_time": "2022-12-05T05:12:04.662Z"
   },
   {
    "duration": 4,
    "start_time": "2022-12-05T05:12:04.679Z"
   },
   {
    "duration": 7,
    "start_time": "2022-12-05T05:12:04.685Z"
   },
   {
    "duration": 32,
    "start_time": "2022-12-05T05:12:04.694Z"
   },
   {
    "duration": 14,
    "start_time": "2022-12-05T05:12:04.728Z"
   },
   {
    "duration": 6,
    "start_time": "2022-12-05T05:12:04.744Z"
   },
   {
    "duration": 13,
    "start_time": "2022-12-05T05:12:04.753Z"
   },
   {
    "duration": 27984,
    "start_time": "2022-12-05T05:12:04.767Z"
   },
   {
    "duration": 5,
    "start_time": "2022-12-05T05:12:32.753Z"
   },
   {
    "duration": 21,
    "start_time": "2022-12-05T05:12:32.760Z"
   },
   {
    "duration": 1545,
    "start_time": "2022-12-05T14:06:59.546Z"
   },
   {
    "duration": 89,
    "start_time": "2022-12-05T14:07:01.093Z"
   },
   {
    "duration": 17,
    "start_time": "2022-12-05T14:07:01.183Z"
   },
   {
    "duration": 31,
    "start_time": "2022-12-05T14:07:01.201Z"
   },
   {
    "duration": 10,
    "start_time": "2022-12-05T14:07:01.234Z"
   },
   {
    "duration": 19,
    "start_time": "2022-12-05T14:07:01.246Z"
   },
   {
    "duration": 12,
    "start_time": "2022-12-05T14:07:01.267Z"
   },
   {
    "duration": 30,
    "start_time": "2022-12-05T14:07:01.281Z"
   },
   {
    "duration": 25,
    "start_time": "2022-12-05T14:07:01.313Z"
   },
   {
    "duration": 57,
    "start_time": "2022-12-05T14:07:01.339Z"
   },
   {
    "duration": 82,
    "start_time": "2022-12-05T14:07:01.398Z"
   },
   {
    "duration": 55,
    "start_time": "2022-12-05T14:07:01.482Z"
   },
   {
    "duration": 132,
    "start_time": "2022-12-05T14:07:01.541Z"
   },
   {
    "duration": 29,
    "start_time": "2022-12-05T14:07:01.676Z"
   },
   {
    "duration": 71,
    "start_time": "2022-12-05T14:07:01.706Z"
   },
   {
    "duration": 87,
    "start_time": "2022-12-05T14:07:01.779Z"
   },
   {
    "duration": 1377,
    "start_time": "2022-12-05T14:07:41.213Z"
   },
   {
    "duration": 43,
    "start_time": "2022-12-05T14:07:42.592Z"
   },
   {
    "duration": 18,
    "start_time": "2022-12-05T14:07:42.637Z"
   },
   {
    "duration": 14,
    "start_time": "2022-12-05T14:07:42.657Z"
   },
   {
    "duration": 5,
    "start_time": "2022-12-05T14:07:42.673Z"
   },
   {
    "duration": 11,
    "start_time": "2022-12-05T14:07:42.680Z"
   },
   {
    "duration": 19,
    "start_time": "2022-12-05T14:07:42.693Z"
   },
   {
    "duration": 22,
    "start_time": "2022-12-05T14:07:42.714Z"
   },
   {
    "duration": 6,
    "start_time": "2022-12-05T14:07:42.738Z"
   },
   {
    "duration": 25,
    "start_time": "2022-12-05T14:07:42.745Z"
   },
   {
    "duration": 4,
    "start_time": "2022-12-05T14:07:42.772Z"
   },
   {
    "duration": 11,
    "start_time": "2022-12-05T14:07:42.778Z"
   },
   {
    "duration": 9,
    "start_time": "2022-12-05T14:07:42.791Z"
   },
   {
    "duration": 116,
    "start_time": "2022-12-05T14:07:42.803Z"
   },
   {
    "duration": 0,
    "start_time": "2022-12-05T14:07:42.921Z"
   },
   {
    "duration": 4,
    "start_time": "2022-12-05T14:07:57.407Z"
   },
   {
    "duration": 44,
    "start_time": "2022-12-05T14:07:57.417Z"
   },
   {
    "duration": 20,
    "start_time": "2022-12-05T14:07:57.463Z"
   },
   {
    "duration": 14,
    "start_time": "2022-12-05T14:07:57.485Z"
   },
   {
    "duration": 4,
    "start_time": "2022-12-05T14:07:57.501Z"
   },
   {
    "duration": 13,
    "start_time": "2022-12-05T14:07:57.507Z"
   },
   {
    "duration": 22,
    "start_time": "2022-12-05T14:07:57.522Z"
   },
   {
    "duration": 28,
    "start_time": "2022-12-05T14:07:57.546Z"
   },
   {
    "duration": 5,
    "start_time": "2022-12-05T14:07:57.576Z"
   },
   {
    "duration": 18,
    "start_time": "2022-12-05T14:07:57.583Z"
   },
   {
    "duration": 3,
    "start_time": "2022-12-05T14:07:57.602Z"
   },
   {
    "duration": 9,
    "start_time": "2022-12-05T14:07:57.606Z"
   },
   {
    "duration": 9,
    "start_time": "2022-12-05T14:07:57.617Z"
   },
   {
    "duration": 7,
    "start_time": "2022-12-05T14:07:57.628Z"
   },
   {
    "duration": 12,
    "start_time": "2022-12-05T14:07:57.638Z"
   },
   {
    "duration": 0,
    "start_time": "2022-12-05T14:07:57.652Z"
   },
   {
    "duration": 5,
    "start_time": "2022-12-05T14:08:29.536Z"
   },
   {
    "duration": 7,
    "start_time": "2022-12-05T14:08:32.556Z"
   },
   {
    "duration": 14,
    "start_time": "2022-12-05T14:08:36.090Z"
   },
   {
    "duration": 21,
    "start_time": "2022-12-05T14:13:08.734Z"
   },
   {
    "duration": 4,
    "start_time": "2022-12-05T14:13:30.460Z"
   },
   {
    "duration": 33,
    "start_time": "2022-12-05T14:16:52.146Z"
   },
   {
    "duration": 37,
    "start_time": "2022-12-05T14:20:30.431Z"
   },
   {
    "duration": 14,
    "start_time": "2022-12-05T14:20:47.100Z"
   },
   {
    "duration": 4,
    "start_time": "2022-12-05T14:26:00.669Z"
   },
   {
    "duration": 3,
    "start_time": "2022-12-05T14:26:13.061Z"
   },
   {
    "duration": 4,
    "start_time": "2022-12-05T14:26:53.555Z"
   },
   {
    "duration": 4,
    "start_time": "2022-12-05T14:28:40.897Z"
   },
   {
    "duration": 138,
    "start_time": "2022-12-05T14:30:55.663Z"
   },
   {
    "duration": 25,
    "start_time": "2022-12-05T14:31:11.690Z"
   },
   {
    "duration": 35,
    "start_time": "2022-12-05T14:33:13.837Z"
   },
   {
    "duration": 20,
    "start_time": "2022-12-05T14:34:45.872Z"
   },
   {
    "duration": 19,
    "start_time": "2022-12-05T14:35:26.637Z"
   },
   {
    "duration": 20,
    "start_time": "2022-12-05T14:35:51.233Z"
   },
   {
    "duration": 21,
    "start_time": "2022-12-05T14:36:04.265Z"
   },
   {
    "duration": 5,
    "start_time": "2022-12-05T14:36:35.759Z"
   },
   {
    "duration": 76,
    "start_time": "2022-12-05T14:36:35.766Z"
   },
   {
    "duration": 14,
    "start_time": "2022-12-05T14:36:35.845Z"
   },
   {
    "duration": 36,
    "start_time": "2022-12-05T14:36:35.861Z"
   },
   {
    "duration": 25,
    "start_time": "2022-12-05T14:36:35.899Z"
   },
   {
    "duration": 30,
    "start_time": "2022-12-05T14:36:35.925Z"
   },
   {
    "duration": 29,
    "start_time": "2022-12-05T14:36:35.957Z"
   },
   {
    "duration": 33,
    "start_time": "2022-12-05T14:36:35.988Z"
   },
   {
    "duration": 19,
    "start_time": "2022-12-05T14:36:36.023Z"
   },
   {
    "duration": 37,
    "start_time": "2022-12-05T14:36:36.045Z"
   },
   {
    "duration": 16,
    "start_time": "2022-12-05T14:36:36.086Z"
   },
   {
    "duration": 48,
    "start_time": "2022-12-05T14:36:36.104Z"
   },
   {
    "duration": 25,
    "start_time": "2022-12-05T14:36:36.154Z"
   },
   {
    "duration": 31,
    "start_time": "2022-12-05T14:36:36.181Z"
   },
   {
    "duration": 25,
    "start_time": "2022-12-05T14:36:36.214Z"
   },
   {
    "duration": 26,
    "start_time": "2022-12-05T14:36:36.241Z"
   },
   {
    "duration": 9,
    "start_time": "2022-12-05T14:36:39.223Z"
   },
   {
    "duration": 14,
    "start_time": "2022-12-05T14:36:40.701Z"
   },
   {
    "duration": 25,
    "start_time": "2022-12-05T14:36:51.001Z"
   },
   {
    "duration": 16,
    "start_time": "2022-12-05T14:36:53.337Z"
   },
   {
    "duration": 30,
    "start_time": "2022-12-05T14:36:57.501Z"
   },
   {
    "duration": 5,
    "start_time": "2022-12-05T14:37:44.002Z"
   },
   {
    "duration": 8,
    "start_time": "2022-12-05T14:53:40.520Z"
   },
   {
    "duration": 17,
    "start_time": "2022-12-05T14:53:44.157Z"
   },
   {
    "duration": 5,
    "start_time": "2022-12-05T14:53:54.885Z"
   },
   {
    "duration": 18,
    "start_time": "2022-12-05T15:11:54.157Z"
   },
   {
    "duration": 15,
    "start_time": "2022-12-05T15:15:15.993Z"
   },
   {
    "duration": 24,
    "start_time": "2022-12-05T15:15:34.641Z"
   },
   {
    "duration": 14,
    "start_time": "2022-12-05T15:17:23.815Z"
   },
   {
    "duration": 15,
    "start_time": "2022-12-05T15:17:39.912Z"
   },
   {
    "duration": 4,
    "start_time": "2022-12-05T15:17:47.616Z"
   },
   {
    "duration": 55,
    "start_time": "2022-12-05T15:17:47.623Z"
   },
   {
    "duration": 15,
    "start_time": "2022-12-05T15:17:47.680Z"
   },
   {
    "duration": 28,
    "start_time": "2022-12-05T15:17:47.697Z"
   },
   {
    "duration": 5,
    "start_time": "2022-12-05T15:17:47.727Z"
   },
   {
    "duration": 15,
    "start_time": "2022-12-05T15:17:47.734Z"
   },
   {
    "duration": 7,
    "start_time": "2022-12-05T15:17:47.751Z"
   },
   {
    "duration": 22,
    "start_time": "2022-12-05T15:17:47.760Z"
   },
   {
    "duration": 6,
    "start_time": "2022-12-05T15:17:47.784Z"
   },
   {
    "duration": 13,
    "start_time": "2022-12-05T15:17:47.792Z"
   },
   {
    "duration": 2,
    "start_time": "2022-12-05T15:17:47.807Z"
   },
   {
    "duration": 6,
    "start_time": "2022-12-05T15:17:47.811Z"
   },
   {
    "duration": 4,
    "start_time": "2022-12-05T15:17:47.819Z"
   },
   {
    "duration": 10,
    "start_time": "2022-12-05T15:17:47.825Z"
   },
   {
    "duration": 8,
    "start_time": "2022-12-05T15:17:47.837Z"
   },
   {
    "duration": 36,
    "start_time": "2022-12-05T15:17:47.846Z"
   },
   {
    "duration": 8,
    "start_time": "2022-12-05T15:17:50.482Z"
   },
   {
    "duration": 16,
    "start_time": "2022-12-05T15:17:51.598Z"
   },
   {
    "duration": 14,
    "start_time": "2022-12-05T15:23:25.603Z"
   },
   {
    "duration": 4,
    "start_time": "2022-12-05T15:23:35.552Z"
   },
   {
    "duration": 51,
    "start_time": "2022-12-05T15:23:35.558Z"
   },
   {
    "duration": 14,
    "start_time": "2022-12-05T15:23:35.611Z"
   },
   {
    "duration": 46,
    "start_time": "2022-12-05T15:23:35.628Z"
   },
   {
    "duration": 7,
    "start_time": "2022-12-05T15:23:35.676Z"
   },
   {
    "duration": 16,
    "start_time": "2022-12-05T15:23:35.684Z"
   },
   {
    "duration": 12,
    "start_time": "2022-12-05T15:23:35.702Z"
   },
   {
    "duration": 18,
    "start_time": "2022-12-05T15:23:35.715Z"
   },
   {
    "duration": 8,
    "start_time": "2022-12-05T15:23:35.734Z"
   },
   {
    "duration": 12,
    "start_time": "2022-12-05T15:23:35.744Z"
   },
   {
    "duration": 3,
    "start_time": "2022-12-05T15:23:35.758Z"
   },
   {
    "duration": 18,
    "start_time": "2022-12-05T15:23:35.762Z"
   },
   {
    "duration": 13,
    "start_time": "2022-12-05T15:23:35.782Z"
   },
   {
    "duration": 21,
    "start_time": "2022-12-05T15:23:35.797Z"
   },
   {
    "duration": 9,
    "start_time": "2022-12-05T15:23:35.820Z"
   },
   {
    "duration": 11,
    "start_time": "2022-12-05T15:23:35.831Z"
   },
   {
    "duration": 16,
    "start_time": "2022-12-05T15:23:37.517Z"
   },
   {
    "duration": 19,
    "start_time": "2022-12-05T15:23:38.330Z"
   },
   {
    "duration": 23,
    "start_time": "2022-12-05T15:23:42.477Z"
   },
   {
    "duration": 16,
    "start_time": "2022-12-05T15:26:00.809Z"
   },
   {
    "duration": 13,
    "start_time": "2022-12-05T15:26:02.052Z"
   },
   {
    "duration": 4,
    "start_time": "2022-12-05T15:26:40.657Z"
   },
   {
    "duration": 51,
    "start_time": "2022-12-05T15:26:40.663Z"
   },
   {
    "duration": 13,
    "start_time": "2022-12-05T15:26:40.716Z"
   },
   {
    "duration": 14,
    "start_time": "2022-12-05T15:26:40.731Z"
   },
   {
    "duration": 4,
    "start_time": "2022-12-05T15:26:40.747Z"
   },
   {
    "duration": 20,
    "start_time": "2022-12-05T15:26:40.753Z"
   },
   {
    "duration": 10,
    "start_time": "2022-12-05T15:26:40.774Z"
   },
   {
    "duration": 16,
    "start_time": "2022-12-05T15:26:40.786Z"
   },
   {
    "duration": 6,
    "start_time": "2022-12-05T15:26:40.804Z"
   },
   {
    "duration": 12,
    "start_time": "2022-12-05T15:26:40.812Z"
   },
   {
    "duration": 4,
    "start_time": "2022-12-05T15:26:40.825Z"
   },
   {
    "duration": 11,
    "start_time": "2022-12-05T15:26:40.831Z"
   },
   {
    "duration": 17,
    "start_time": "2022-12-05T15:26:40.843Z"
   },
   {
    "duration": 11,
    "start_time": "2022-12-05T15:26:40.862Z"
   },
   {
    "duration": 8,
    "start_time": "2022-12-05T15:26:40.874Z"
   },
   {
    "duration": 39,
    "start_time": "2022-12-05T15:26:40.883Z"
   },
   {
    "duration": 22,
    "start_time": "2022-12-05T15:26:54.789Z"
   },
   {
    "duration": 16,
    "start_time": "2022-12-05T15:29:11.918Z"
   },
   {
    "duration": 24,
    "start_time": "2022-12-05T15:29:15.522Z"
   },
   {
    "duration": 18,
    "start_time": "2022-12-05T15:29:29.588Z"
   },
   {
    "duration": 6,
    "start_time": "2022-12-05T15:29:37.134Z"
   },
   {
    "duration": 54,
    "start_time": "2022-12-05T15:29:37.143Z"
   },
   {
    "duration": 20,
    "start_time": "2022-12-05T15:29:37.199Z"
   },
   {
    "duration": 21,
    "start_time": "2022-12-05T15:29:37.221Z"
   },
   {
    "duration": 10,
    "start_time": "2022-12-05T15:29:37.245Z"
   },
   {
    "duration": 21,
    "start_time": "2022-12-05T15:29:37.257Z"
   },
   {
    "duration": 26,
    "start_time": "2022-12-05T15:29:37.280Z"
   },
   {
    "duration": 18,
    "start_time": "2022-12-05T15:29:37.308Z"
   },
   {
    "duration": 8,
    "start_time": "2022-12-05T15:29:37.328Z"
   },
   {
    "duration": 21,
    "start_time": "2022-12-05T15:29:37.337Z"
   },
   {
    "duration": 3,
    "start_time": "2022-12-05T15:29:37.362Z"
   },
   {
    "duration": 14,
    "start_time": "2022-12-05T15:29:37.367Z"
   },
   {
    "duration": 8,
    "start_time": "2022-12-05T15:29:37.383Z"
   },
   {
    "duration": 8,
    "start_time": "2022-12-05T15:29:37.394Z"
   },
   {
    "duration": 10,
    "start_time": "2022-12-05T15:29:37.405Z"
   },
   {
    "duration": 12,
    "start_time": "2022-12-05T15:29:37.417Z"
   },
   {
    "duration": 24,
    "start_time": "2022-12-05T15:29:39.572Z"
   },
   {
    "duration": 18,
    "start_time": "2022-12-05T15:29:41.377Z"
   },
   {
    "duration": 22,
    "start_time": "2022-12-05T15:29:51.117Z"
   },
   {
    "duration": 14,
    "start_time": "2022-12-05T15:30:09.640Z"
   },
   {
    "duration": 5,
    "start_time": "2022-12-05T15:30:43.080Z"
   },
   {
    "duration": 48,
    "start_time": "2022-12-05T15:30:43.087Z"
   },
   {
    "duration": 19,
    "start_time": "2022-12-05T15:30:43.137Z"
   },
   {
    "duration": 26,
    "start_time": "2022-12-05T15:30:43.158Z"
   },
   {
    "duration": 7,
    "start_time": "2022-12-05T15:30:43.186Z"
   },
   {
    "duration": 15,
    "start_time": "2022-12-05T15:30:43.195Z"
   },
   {
    "duration": 13,
    "start_time": "2022-12-05T15:30:43.211Z"
   },
   {
    "duration": 34,
    "start_time": "2022-12-05T15:30:43.226Z"
   },
   {
    "duration": 16,
    "start_time": "2022-12-05T15:30:43.263Z"
   },
   {
    "duration": 20,
    "start_time": "2022-12-05T15:30:43.281Z"
   },
   {
    "duration": 6,
    "start_time": "2022-12-05T15:30:43.303Z"
   },
   {
    "duration": 9,
    "start_time": "2022-12-05T15:30:43.310Z"
   },
   {
    "duration": 8,
    "start_time": "2022-12-05T15:30:43.321Z"
   },
   {
    "duration": 13,
    "start_time": "2022-12-05T15:30:43.330Z"
   },
   {
    "duration": 9,
    "start_time": "2022-12-05T15:30:43.347Z"
   },
   {
    "duration": 13,
    "start_time": "2022-12-05T15:30:43.358Z"
   },
   {
    "duration": 15,
    "start_time": "2022-12-05T15:30:46.784Z"
   },
   {
    "duration": 21,
    "start_time": "2022-12-05T15:30:49.976Z"
   },
   {
    "duration": 5,
    "start_time": "2022-12-05T15:31:21.633Z"
   },
   {
    "duration": 47,
    "start_time": "2022-12-05T15:31:21.640Z"
   },
   {
    "duration": 13,
    "start_time": "2022-12-05T15:31:21.688Z"
   },
   {
    "duration": 18,
    "start_time": "2022-12-05T15:31:21.704Z"
   },
   {
    "duration": 5,
    "start_time": "2022-12-05T15:31:21.723Z"
   },
   {
    "duration": 8,
    "start_time": "2022-12-05T15:31:21.730Z"
   },
   {
    "duration": 5,
    "start_time": "2022-12-05T15:31:21.740Z"
   },
   {
    "duration": 34,
    "start_time": "2022-12-05T15:31:21.746Z"
   },
   {
    "duration": 6,
    "start_time": "2022-12-05T15:31:21.783Z"
   },
   {
    "duration": 12,
    "start_time": "2022-12-05T15:31:21.791Z"
   },
   {
    "duration": 2,
    "start_time": "2022-12-05T15:31:21.805Z"
   },
   {
    "duration": 8,
    "start_time": "2022-12-05T15:31:21.809Z"
   },
   {
    "duration": 17,
    "start_time": "2022-12-05T15:31:21.819Z"
   },
   {
    "duration": 7,
    "start_time": "2022-12-05T15:31:21.838Z"
   },
   {
    "duration": 7,
    "start_time": "2022-12-05T15:31:21.847Z"
   },
   {
    "duration": 33,
    "start_time": "2022-12-05T15:31:21.856Z"
   },
   {
    "duration": 28,
    "start_time": "2022-12-05T15:31:23.590Z"
   },
   {
    "duration": 35,
    "start_time": "2022-12-05T15:31:25.154Z"
   },
   {
    "duration": 9,
    "start_time": "2022-12-05T15:31:36.988Z"
   },
   {
    "duration": 46,
    "start_time": "2022-12-05T15:31:36.999Z"
   },
   {
    "duration": 11,
    "start_time": "2022-12-05T15:31:37.047Z"
   },
   {
    "duration": 24,
    "start_time": "2022-12-05T15:31:37.061Z"
   },
   {
    "duration": 5,
    "start_time": "2022-12-05T15:31:37.087Z"
   },
   {
    "duration": 7,
    "start_time": "2022-12-05T15:31:37.094Z"
   },
   {
    "duration": 5,
    "start_time": "2022-12-05T15:31:37.102Z"
   },
   {
    "duration": 12,
    "start_time": "2022-12-05T15:31:37.109Z"
   },
   {
    "duration": 6,
    "start_time": "2022-12-05T15:31:37.124Z"
   },
   {
    "duration": 44,
    "start_time": "2022-12-05T15:31:37.133Z"
   },
   {
    "duration": 2,
    "start_time": "2022-12-05T15:31:37.179Z"
   },
   {
    "duration": 10,
    "start_time": "2022-12-05T15:31:37.183Z"
   },
   {
    "duration": 6,
    "start_time": "2022-12-05T15:31:37.195Z"
   },
   {
    "duration": 8,
    "start_time": "2022-12-05T15:31:37.202Z"
   },
   {
    "duration": 7,
    "start_time": "2022-12-05T15:31:37.212Z"
   },
   {
    "duration": 11,
    "start_time": "2022-12-05T15:31:37.220Z"
   },
   {
    "duration": 18,
    "start_time": "2022-12-05T15:31:39.567Z"
   },
   {
    "duration": 16,
    "start_time": "2022-12-05T15:38:10.543Z"
   },
   {
    "duration": 4,
    "start_time": "2022-12-05T15:55:21.296Z"
   },
   {
    "duration": 4,
    "start_time": "2022-12-05T16:01:52.889Z"
   },
   {
    "duration": 54,
    "start_time": "2022-12-05T16:01:52.895Z"
   },
   {
    "duration": 13,
    "start_time": "2022-12-05T16:01:52.951Z"
   },
   {
    "duration": 41,
    "start_time": "2022-12-05T16:01:52.965Z"
   },
   {
    "duration": 64,
    "start_time": "2022-12-05T16:01:53.009Z"
   },
   {
    "duration": 31,
    "start_time": "2022-12-05T16:01:53.075Z"
   },
   {
    "duration": 26,
    "start_time": "2022-12-05T16:01:53.108Z"
   },
   {
    "duration": 31,
    "start_time": "2022-12-05T16:01:53.135Z"
   },
   {
    "duration": 28,
    "start_time": "2022-12-05T16:01:53.168Z"
   },
   {
    "duration": 30,
    "start_time": "2022-12-05T16:01:53.198Z"
   },
   {
    "duration": 3,
    "start_time": "2022-12-05T16:01:53.230Z"
   },
   {
    "duration": 29,
    "start_time": "2022-12-05T16:01:53.234Z"
   },
   {
    "duration": 25,
    "start_time": "2022-12-05T16:01:53.266Z"
   },
   {
    "duration": 16,
    "start_time": "2022-12-05T16:01:53.293Z"
   },
   {
    "duration": 34,
    "start_time": "2022-12-05T16:01:53.311Z"
   },
   {
    "duration": 24,
    "start_time": "2022-12-05T16:01:53.347Z"
   },
   {
    "duration": 22,
    "start_time": "2022-12-05T16:01:53.372Z"
   },
   {
    "duration": 58,
    "start_time": "2022-12-05T16:01:55.844Z"
   },
   {
    "duration": 41,
    "start_time": "2022-12-05T16:02:26.134Z"
   },
   {
    "duration": 76,
    "start_time": "2022-12-05T16:02:52.444Z"
   },
   {
    "duration": 21,
    "start_time": "2022-12-05T16:03:50.865Z"
   },
   {
    "duration": 5,
    "start_time": "2022-12-05T16:03:57.310Z"
   },
   {
    "duration": 4,
    "start_time": "2022-12-05T16:05:05.530Z"
   },
   {
    "duration": 51,
    "start_time": "2022-12-05T16:05:05.539Z"
   },
   {
    "duration": 13,
    "start_time": "2022-12-05T16:05:05.594Z"
   },
   {
    "duration": 19,
    "start_time": "2022-12-05T16:05:05.609Z"
   },
   {
    "duration": 8,
    "start_time": "2022-12-05T16:05:05.629Z"
   },
   {
    "duration": 9,
    "start_time": "2022-12-05T16:05:05.638Z"
   },
   {
    "duration": 4,
    "start_time": "2022-12-05T16:05:05.649Z"
   },
   {
    "duration": 39,
    "start_time": "2022-12-05T16:05:05.654Z"
   },
   {
    "duration": 7,
    "start_time": "2022-12-05T16:05:05.697Z"
   },
   {
    "duration": 19,
    "start_time": "2022-12-05T16:05:05.706Z"
   },
   {
    "duration": 3,
    "start_time": "2022-12-05T16:05:05.727Z"
   },
   {
    "duration": 11,
    "start_time": "2022-12-05T16:05:05.732Z"
   },
   {
    "duration": 7,
    "start_time": "2022-12-05T16:05:05.745Z"
   },
   {
    "duration": 10,
    "start_time": "2022-12-05T16:05:05.754Z"
   },
   {
    "duration": 15,
    "start_time": "2022-12-05T16:05:05.766Z"
   },
   {
    "duration": 22,
    "start_time": "2022-12-05T16:05:05.782Z"
   },
   {
    "duration": 29,
    "start_time": "2022-12-05T16:05:05.806Z"
   },
   {
    "duration": 32,
    "start_time": "2022-12-05T16:05:08.355Z"
   },
   {
    "duration": 5,
    "start_time": "2022-12-05T16:05:15.794Z"
   },
   {
    "duration": 5,
    "start_time": "2022-12-05T16:05:23.418Z"
   },
   {
    "duration": 42,
    "start_time": "2022-12-05T16:05:23.425Z"
   },
   {
    "duration": 23,
    "start_time": "2022-12-05T16:05:23.469Z"
   },
   {
    "duration": 16,
    "start_time": "2022-12-05T16:05:23.494Z"
   },
   {
    "duration": 10,
    "start_time": "2022-12-05T16:05:23.512Z"
   },
   {
    "duration": 14,
    "start_time": "2022-12-05T16:05:23.524Z"
   },
   {
    "duration": 7,
    "start_time": "2022-12-05T16:05:23.540Z"
   },
   {
    "duration": 17,
    "start_time": "2022-12-05T16:05:23.549Z"
   },
   {
    "duration": 17,
    "start_time": "2022-12-05T16:05:23.567Z"
   },
   {
    "duration": 35,
    "start_time": "2022-12-05T16:05:23.586Z"
   },
   {
    "duration": 3,
    "start_time": "2022-12-05T16:05:23.623Z"
   },
   {
    "duration": 10,
    "start_time": "2022-12-05T16:05:23.628Z"
   },
   {
    "duration": 8,
    "start_time": "2022-12-05T16:05:23.640Z"
   },
   {
    "duration": 8,
    "start_time": "2022-12-05T16:05:23.649Z"
   },
   {
    "duration": 11,
    "start_time": "2022-12-05T16:05:23.658Z"
   },
   {
    "duration": 45,
    "start_time": "2022-12-05T16:05:23.670Z"
   },
   {
    "duration": 19,
    "start_time": "2022-12-05T16:05:23.717Z"
   },
   {
    "duration": 24,
    "start_time": "2022-12-05T16:05:25.369Z"
   },
   {
    "duration": 32,
    "start_time": "2022-12-05T16:05:35.463Z"
   },
   {
    "duration": 5,
    "start_time": "2022-12-05T16:05:43.851Z"
   },
   {
    "duration": 52,
    "start_time": "2022-12-05T16:05:43.859Z"
   },
   {
    "duration": 12,
    "start_time": "2022-12-05T16:05:43.913Z"
   },
   {
    "duration": 13,
    "start_time": "2022-12-05T16:05:43.926Z"
   },
   {
    "duration": 3,
    "start_time": "2022-12-05T16:05:43.941Z"
   },
   {
    "duration": 6,
    "start_time": "2022-12-05T16:05:43.946Z"
   },
   {
    "duration": 6,
    "start_time": "2022-12-05T16:05:43.954Z"
   },
   {
    "duration": 26,
    "start_time": "2022-12-05T16:05:43.961Z"
   },
   {
    "duration": 5,
    "start_time": "2022-12-05T16:05:43.992Z"
   },
   {
    "duration": 18,
    "start_time": "2022-12-05T16:05:43.999Z"
   },
   {
    "duration": 2,
    "start_time": "2022-12-05T16:05:44.019Z"
   },
   {
    "duration": 19,
    "start_time": "2022-12-05T16:05:44.022Z"
   },
   {
    "duration": 6,
    "start_time": "2022-12-05T16:05:44.042Z"
   },
   {
    "duration": 4,
    "start_time": "2022-12-05T16:05:44.050Z"
   },
   {
    "duration": 10,
    "start_time": "2022-12-05T16:05:44.056Z"
   },
   {
    "duration": 11,
    "start_time": "2022-12-05T16:05:44.067Z"
   },
   {
    "duration": 8,
    "start_time": "2022-12-05T16:05:46.225Z"
   },
   {
    "duration": 19,
    "start_time": "2022-12-05T16:05:46.906Z"
   },
   {
    "duration": 4,
    "start_time": "2022-12-05T16:08:25.148Z"
   },
   {
    "duration": 56,
    "start_time": "2022-12-05T16:08:25.155Z"
   },
   {
    "duration": 14,
    "start_time": "2022-12-05T16:08:25.213Z"
   },
   {
    "duration": 21,
    "start_time": "2022-12-05T16:08:25.229Z"
   },
   {
    "duration": 16,
    "start_time": "2022-12-05T16:08:25.252Z"
   },
   {
    "duration": 12,
    "start_time": "2022-12-05T16:08:25.270Z"
   },
   {
    "duration": 29,
    "start_time": "2022-12-05T16:08:25.283Z"
   },
   {
    "duration": 48,
    "start_time": "2022-12-05T16:08:25.316Z"
   },
   {
    "duration": 6,
    "start_time": "2022-12-05T16:08:25.368Z"
   },
   {
    "duration": 29,
    "start_time": "2022-12-05T16:08:25.375Z"
   },
   {
    "duration": 2,
    "start_time": "2022-12-05T16:08:25.405Z"
   },
   {
    "duration": 7,
    "start_time": "2022-12-05T16:08:25.409Z"
   },
   {
    "duration": 5,
    "start_time": "2022-12-05T16:08:25.418Z"
   },
   {
    "duration": 5,
    "start_time": "2022-12-05T16:08:25.425Z"
   },
   {
    "duration": 7,
    "start_time": "2022-12-05T16:08:25.431Z"
   },
   {
    "duration": 9,
    "start_time": "2022-12-05T16:08:25.440Z"
   },
   {
    "duration": 23,
    "start_time": "2022-12-05T16:08:25.451Z"
   },
   {
    "duration": 38,
    "start_time": "2022-12-05T16:08:25.477Z"
   },
   {
    "duration": 20,
    "start_time": "2022-12-05T16:08:27.204Z"
   },
   {
    "duration": 25,
    "start_time": "2022-12-05T16:08:28.661Z"
   },
   {
    "duration": 4,
    "start_time": "2022-12-05T16:10:11.469Z"
   },
   {
    "duration": 281,
    "start_time": "2022-12-05T16:11:49.092Z"
   },
   {
    "duration": 14904,
    "start_time": "2022-12-05T16:12:04.999Z"
   },
   {
    "duration": 512,
    "start_time": "2022-12-05T16:12:21.277Z"
   },
   {
    "duration": 4299,
    "start_time": "2022-12-05T16:12:28.831Z"
   },
   {
    "duration": 23,
    "start_time": "2022-12-05T16:12:35.107Z"
   },
   {
    "duration": 8,
    "start_time": "2022-12-05T16:12:41.948Z"
   },
   {
    "duration": 9,
    "start_time": "2022-12-05T16:12:50.894Z"
   },
   {
    "duration": 106,
    "start_time": "2022-12-05T16:13:09.504Z"
   },
   {
    "duration": 279,
    "start_time": "2022-12-05T16:13:14.639Z"
   },
   {
    "duration": 4,
    "start_time": "2022-12-05T16:13:27.046Z"
   },
   {
    "duration": 21,
    "start_time": "2022-12-05T16:13:30.083Z"
   },
   {
    "duration": 16,
    "start_time": "2022-12-05T16:14:54.108Z"
   },
   {
    "duration": 1529,
    "start_time": "2022-12-06T00:57:55.240Z"
   },
   {
    "duration": 91,
    "start_time": "2022-12-06T00:57:56.771Z"
   },
   {
    "duration": 15,
    "start_time": "2022-12-06T00:57:56.863Z"
   },
   {
    "duration": 14,
    "start_time": "2022-12-06T00:57:56.879Z"
   },
   {
    "duration": 4,
    "start_time": "2022-12-06T00:57:56.895Z"
   },
   {
    "duration": 13,
    "start_time": "2022-12-06T00:57:56.900Z"
   },
   {
    "duration": 7,
    "start_time": "2022-12-06T00:57:56.915Z"
   },
   {
    "duration": 14,
    "start_time": "2022-12-06T00:57:56.923Z"
   },
   {
    "duration": 5,
    "start_time": "2022-12-06T00:57:56.939Z"
   },
   {
    "duration": 11,
    "start_time": "2022-12-06T00:57:56.945Z"
   },
   {
    "duration": 3,
    "start_time": "2022-12-06T00:57:56.957Z"
   },
   {
    "duration": 6,
    "start_time": "2022-12-06T00:57:56.961Z"
   },
   {
    "duration": 6,
    "start_time": "2022-12-06T00:57:56.968Z"
   },
   {
    "duration": 4,
    "start_time": "2022-12-06T00:57:56.976Z"
   },
   {
    "duration": 7,
    "start_time": "2022-12-06T00:57:56.981Z"
   },
   {
    "duration": 8,
    "start_time": "2022-12-06T00:57:56.989Z"
   },
   {
    "duration": 20,
    "start_time": "2022-12-06T00:57:57.016Z"
   },
   {
    "duration": 18,
    "start_time": "2022-12-06T00:57:57.038Z"
   },
   {
    "duration": 23,
    "start_time": "2022-12-06T00:58:04.079Z"
   },
   {
    "duration": 20,
    "start_time": "2022-12-06T00:58:12.400Z"
   },
   {
    "duration": 19,
    "start_time": "2022-12-06T00:58:16.449Z"
   },
   {
    "duration": 4,
    "start_time": "2022-12-06T01:04:19.837Z"
   },
   {
    "duration": 3,
    "start_time": "2022-12-06T01:04:28.188Z"
   },
   {
    "duration": 4,
    "start_time": "2022-12-06T01:04:34.818Z"
   },
   {
    "duration": 45,
    "start_time": "2022-12-06T01:04:34.824Z"
   },
   {
    "duration": 11,
    "start_time": "2022-12-06T01:04:34.871Z"
   },
   {
    "duration": 18,
    "start_time": "2022-12-06T01:04:34.885Z"
   },
   {
    "duration": 5,
    "start_time": "2022-12-06T01:04:34.905Z"
   },
   {
    "duration": 8,
    "start_time": "2022-12-06T01:04:34.911Z"
   },
   {
    "duration": 5,
    "start_time": "2022-12-06T01:04:34.921Z"
   },
   {
    "duration": 13,
    "start_time": "2022-12-06T01:04:34.928Z"
   },
   {
    "duration": 5,
    "start_time": "2022-12-06T01:04:34.943Z"
   },
   {
    "duration": 12,
    "start_time": "2022-12-06T01:04:34.950Z"
   },
   {
    "duration": 5,
    "start_time": "2022-12-06T01:04:34.963Z"
   },
   {
    "duration": 7,
    "start_time": "2022-12-06T01:04:34.970Z"
   },
   {
    "duration": 5,
    "start_time": "2022-12-06T01:04:34.979Z"
   },
   {
    "duration": 7,
    "start_time": "2022-12-06T01:04:34.986Z"
   },
   {
    "duration": 24,
    "start_time": "2022-12-06T01:04:34.994Z"
   },
   {
    "duration": 10,
    "start_time": "2022-12-06T01:04:35.020Z"
   },
   {
    "duration": 25,
    "start_time": "2022-12-06T01:04:35.032Z"
   },
   {
    "duration": 21,
    "start_time": "2022-12-06T01:04:35.058Z"
   },
   {
    "duration": 5,
    "start_time": "2022-12-06T01:04:39.228Z"
   },
   {
    "duration": 3,
    "start_time": "2022-12-06T01:04:42.286Z"
   },
   {
    "duration": 4,
    "start_time": "2022-12-06T01:05:22.447Z"
   },
   {
    "duration": 4,
    "start_time": "2022-12-06T01:05:24.253Z"
   },
   {
    "duration": 54,
    "start_time": "2022-12-06T01:11:04.636Z"
   },
   {
    "duration": 5,
    "start_time": "2022-12-06T01:11:07.680Z"
   },
   {
    "duration": 61,
    "start_time": "2022-12-06T01:11:07.688Z"
   },
   {
    "duration": 12,
    "start_time": "2022-12-06T01:11:07.751Z"
   },
   {
    "duration": 16,
    "start_time": "2022-12-06T01:11:07.765Z"
   },
   {
    "duration": 5,
    "start_time": "2022-12-06T01:11:07.783Z"
   },
   {
    "duration": 7,
    "start_time": "2022-12-06T01:11:07.789Z"
   },
   {
    "duration": 6,
    "start_time": "2022-12-06T01:11:07.797Z"
   },
   {
    "duration": 21,
    "start_time": "2022-12-06T01:11:07.804Z"
   },
   {
    "duration": 5,
    "start_time": "2022-12-06T01:11:07.827Z"
   },
   {
    "duration": 11,
    "start_time": "2022-12-06T01:11:07.834Z"
   },
   {
    "duration": 4,
    "start_time": "2022-12-06T01:11:07.846Z"
   },
   {
    "duration": 21,
    "start_time": "2022-12-06T01:11:07.852Z"
   },
   {
    "duration": 16,
    "start_time": "2022-12-06T01:11:07.874Z"
   },
   {
    "duration": 10,
    "start_time": "2022-12-06T01:11:07.892Z"
   },
   {
    "duration": 13,
    "start_time": "2022-12-06T01:11:07.903Z"
   },
   {
    "duration": 8,
    "start_time": "2022-12-06T01:11:07.917Z"
   },
   {
    "duration": 17,
    "start_time": "2022-12-06T01:11:07.927Z"
   },
   {
    "duration": 18,
    "start_time": "2022-12-06T01:11:07.946Z"
   },
   {
    "duration": 4,
    "start_time": "2022-12-06T01:11:07.966Z"
   },
   {
    "duration": 7,
    "start_time": "2022-12-06T01:11:07.971Z"
   },
   {
    "duration": 4,
    "start_time": "2022-12-06T01:11:11.206Z"
   },
   {
    "duration": 76,
    "start_time": "2022-12-06T01:11:11.987Z"
   },
   {
    "duration": 118,
    "start_time": "2022-12-06T01:11:26.900Z"
   },
   {
    "duration": 17,
    "start_time": "2022-12-06T01:11:40.409Z"
   },
   {
    "duration": 3,
    "start_time": "2022-12-06T01:12:06.099Z"
   },
   {
    "duration": 43,
    "start_time": "2022-12-06T01:12:06.103Z"
   },
   {
    "duration": 12,
    "start_time": "2022-12-06T01:12:06.147Z"
   },
   {
    "duration": 11,
    "start_time": "2022-12-06T01:12:06.162Z"
   },
   {
    "duration": 5,
    "start_time": "2022-12-06T01:12:06.175Z"
   },
   {
    "duration": 7,
    "start_time": "2022-12-06T01:12:06.182Z"
   },
   {
    "duration": 8,
    "start_time": "2022-12-06T01:12:06.190Z"
   },
   {
    "duration": 42,
    "start_time": "2022-12-06T01:12:06.200Z"
   },
   {
    "duration": 8,
    "start_time": "2022-12-06T01:12:06.245Z"
   },
   {
    "duration": 19,
    "start_time": "2022-12-06T01:12:06.255Z"
   },
   {
    "duration": 5,
    "start_time": "2022-12-06T01:12:06.277Z"
   },
   {
    "duration": 13,
    "start_time": "2022-12-06T01:12:06.285Z"
   },
   {
    "duration": 18,
    "start_time": "2022-12-06T01:12:06.299Z"
   },
   {
    "duration": 27,
    "start_time": "2022-12-06T01:12:06.319Z"
   },
   {
    "duration": 15,
    "start_time": "2022-12-06T01:12:06.349Z"
   },
   {
    "duration": 22,
    "start_time": "2022-12-06T01:12:06.366Z"
   },
   {
    "duration": 22,
    "start_time": "2022-12-06T01:12:06.389Z"
   },
   {
    "duration": 26,
    "start_time": "2022-12-06T01:12:06.413Z"
   },
   {
    "duration": 19,
    "start_time": "2022-12-06T01:12:13.843Z"
   },
   {
    "duration": 4,
    "start_time": "2022-12-06T01:12:19.527Z"
   },
   {
    "duration": 5,
    "start_time": "2022-12-06T01:12:30.023Z"
   },
   {
    "duration": 19,
    "start_time": "2022-12-06T01:12:33.446Z"
   },
   {
    "duration": 16,
    "start_time": "2022-12-06T01:12:45.471Z"
   },
   {
    "duration": 30,
    "start_time": "2022-12-06T01:12:56.807Z"
   },
   {
    "duration": 32,
    "start_time": "2022-12-06T01:13:35.206Z"
   },
   {
    "duration": 19,
    "start_time": "2022-12-06T01:13:37.046Z"
   },
   {
    "duration": 4,
    "start_time": "2022-12-06T01:13:40.488Z"
   },
   {
    "duration": 45,
    "start_time": "2022-12-06T01:13:40.493Z"
   },
   {
    "duration": 11,
    "start_time": "2022-12-06T01:13:40.540Z"
   },
   {
    "duration": 13,
    "start_time": "2022-12-06T01:13:40.553Z"
   },
   {
    "duration": 3,
    "start_time": "2022-12-06T01:13:40.568Z"
   },
   {
    "duration": 6,
    "start_time": "2022-12-06T01:13:40.573Z"
   },
   {
    "duration": 4,
    "start_time": "2022-12-06T01:13:40.581Z"
   },
   {
    "duration": 33,
    "start_time": "2022-12-06T01:13:40.587Z"
   },
   {
    "duration": 6,
    "start_time": "2022-12-06T01:13:40.621Z"
   },
   {
    "duration": 11,
    "start_time": "2022-12-06T01:13:40.629Z"
   },
   {
    "duration": 1,
    "start_time": "2022-12-06T01:13:40.642Z"
   },
   {
    "duration": 13,
    "start_time": "2022-12-06T01:13:40.645Z"
   },
   {
    "duration": 6,
    "start_time": "2022-12-06T01:13:40.660Z"
   },
   {
    "duration": 3,
    "start_time": "2022-12-06T01:13:40.668Z"
   },
   {
    "duration": 6,
    "start_time": "2022-12-06T01:13:40.673Z"
   },
   {
    "duration": 9,
    "start_time": "2022-12-06T01:13:40.680Z"
   },
   {
    "duration": 38,
    "start_time": "2022-12-06T01:13:40.690Z"
   },
   {
    "duration": 18,
    "start_time": "2022-12-06T01:13:40.729Z"
   },
   {
    "duration": 4,
    "start_time": "2022-12-06T01:13:40.748Z"
   },
   {
    "duration": 7,
    "start_time": "2022-12-06T01:13:40.753Z"
   },
   {
    "duration": 16,
    "start_time": "2022-12-06T01:13:40.761Z"
   },
   {
    "duration": 15,
    "start_time": "2022-12-06T01:13:44.077Z"
   },
   {
    "duration": 30,
    "start_time": "2022-12-06T01:13:46.010Z"
   },
   {
    "duration": 20,
    "start_time": "2022-12-06T01:13:48.308Z"
   },
   {
    "duration": 4,
    "start_time": "2022-12-06T01:15:43.928Z"
   },
   {
    "duration": 47,
    "start_time": "2022-12-06T01:15:43.934Z"
   },
   {
    "duration": 13,
    "start_time": "2022-12-06T01:15:43.982Z"
   },
   {
    "duration": 14,
    "start_time": "2022-12-06T01:15:43.996Z"
   },
   {
    "duration": 4,
    "start_time": "2022-12-06T01:15:44.012Z"
   },
   {
    "duration": 7,
    "start_time": "2022-12-06T01:15:44.018Z"
   },
   {
    "duration": 4,
    "start_time": "2022-12-06T01:15:44.027Z"
   },
   {
    "duration": 13,
    "start_time": "2022-12-06T01:15:44.033Z"
   },
   {
    "duration": 6,
    "start_time": "2022-12-06T01:15:44.048Z"
   },
   {
    "duration": 14,
    "start_time": "2022-12-06T01:15:44.055Z"
   },
   {
    "duration": 3,
    "start_time": "2022-12-06T01:15:44.071Z"
   },
   {
    "duration": 8,
    "start_time": "2022-12-06T01:15:44.075Z"
   },
   {
    "duration": 7,
    "start_time": "2022-12-06T01:15:44.085Z"
   },
   {
    "duration": 2,
    "start_time": "2022-12-06T01:15:44.116Z"
   },
   {
    "duration": 8,
    "start_time": "2022-12-06T01:15:44.120Z"
   },
   {
    "duration": 11,
    "start_time": "2022-12-06T01:15:44.129Z"
   },
   {
    "duration": 19,
    "start_time": "2022-12-06T01:15:44.142Z"
   },
   {
    "duration": 23,
    "start_time": "2022-12-06T01:15:44.163Z"
   },
   {
    "duration": 8,
    "start_time": "2022-12-06T01:15:44.188Z"
   },
   {
    "duration": 20,
    "start_time": "2022-12-06T01:15:44.197Z"
   },
   {
    "duration": 4,
    "start_time": "2022-12-06T01:15:45.926Z"
   },
   {
    "duration": 15,
    "start_time": "2022-12-06T01:20:45.937Z"
   },
   {
    "duration": 4,
    "start_time": "2022-12-06T01:20:53.436Z"
   },
   {
    "duration": 45,
    "start_time": "2022-12-06T01:20:53.443Z"
   },
   {
    "duration": 12,
    "start_time": "2022-12-06T01:20:53.490Z"
   },
   {
    "duration": 14,
    "start_time": "2022-12-06T01:20:53.503Z"
   },
   {
    "duration": 4,
    "start_time": "2022-12-06T01:20:53.519Z"
   },
   {
    "duration": 7,
    "start_time": "2022-12-06T01:20:53.525Z"
   },
   {
    "duration": 5,
    "start_time": "2022-12-06T01:20:53.533Z"
   },
   {
    "duration": 14,
    "start_time": "2022-12-06T01:20:53.539Z"
   },
   {
    "duration": 5,
    "start_time": "2022-12-06T01:20:53.555Z"
   },
   {
    "duration": 11,
    "start_time": "2022-12-06T01:20:53.561Z"
   },
   {
    "duration": 3,
    "start_time": "2022-12-06T01:20:53.573Z"
   },
   {
    "duration": 8,
    "start_time": "2022-12-06T01:20:53.577Z"
   },
   {
    "duration": 15,
    "start_time": "2022-12-06T01:20:53.586Z"
   },
   {
    "duration": 15,
    "start_time": "2022-12-06T01:20:53.603Z"
   },
   {
    "duration": 6,
    "start_time": "2022-12-06T01:20:53.619Z"
   },
   {
    "duration": 7,
    "start_time": "2022-12-06T01:20:53.627Z"
   },
   {
    "duration": 7,
    "start_time": "2022-12-06T01:22:21.708Z"
   },
   {
    "duration": 19,
    "start_time": "2022-12-06T01:22:22.888Z"
   },
   {
    "duration": 20,
    "start_time": "2022-12-06T01:22:24.816Z"
   },
   {
    "duration": 4,
    "start_time": "2022-12-06T01:22:43.046Z"
   },
   {
    "duration": 4,
    "start_time": "2022-12-06T01:22:44.198Z"
   },
   {
    "duration": 19,
    "start_time": "2022-12-06T01:22:48.089Z"
   },
   {
    "duration": 15,
    "start_time": "2022-12-06T01:22:58.817Z"
   },
   {
    "duration": 20,
    "start_time": "2022-12-06T01:23:53.326Z"
   },
   {
    "duration": 4,
    "start_time": "2022-12-06T01:29:06.500Z"
   },
   {
    "duration": 50,
    "start_time": "2022-12-06T01:29:06.506Z"
   },
   {
    "duration": 15,
    "start_time": "2022-12-06T01:29:06.558Z"
   },
   {
    "duration": 13,
    "start_time": "2022-12-06T01:29:06.575Z"
   },
   {
    "duration": 4,
    "start_time": "2022-12-06T01:29:06.590Z"
   },
   {
    "duration": 9,
    "start_time": "2022-12-06T01:29:06.595Z"
   },
   {
    "duration": 11,
    "start_time": "2022-12-06T01:29:06.605Z"
   },
   {
    "duration": 11,
    "start_time": "2022-12-06T01:29:06.618Z"
   },
   {
    "duration": 5,
    "start_time": "2022-12-06T01:29:06.630Z"
   },
   {
    "duration": 10,
    "start_time": "2022-12-06T01:29:06.637Z"
   },
   {
    "duration": 2,
    "start_time": "2022-12-06T01:29:06.649Z"
   },
   {
    "duration": 8,
    "start_time": "2022-12-06T01:29:06.652Z"
   },
   {
    "duration": 5,
    "start_time": "2022-12-06T01:29:06.661Z"
   },
   {
    "duration": 4,
    "start_time": "2022-12-06T01:29:06.668Z"
   },
   {
    "duration": 6,
    "start_time": "2022-12-06T01:29:06.673Z"
   },
   {
    "duration": 10,
    "start_time": "2022-12-06T01:29:06.680Z"
   },
   {
    "duration": 17,
    "start_time": "2022-12-06T01:29:06.716Z"
   },
   {
    "duration": 18,
    "start_time": "2022-12-06T01:29:06.734Z"
   },
   {
    "duration": 3,
    "start_time": "2022-12-06T01:29:06.753Z"
   },
   {
    "duration": 5,
    "start_time": "2022-12-06T01:29:06.758Z"
   },
   {
    "duration": 21,
    "start_time": "2022-12-06T01:29:06.765Z"
   },
   {
    "duration": 32,
    "start_time": "2022-12-06T01:29:06.787Z"
   },
   {
    "duration": 17,
    "start_time": "2022-12-06T01:29:06.820Z"
   },
   {
    "duration": 16,
    "start_time": "2022-12-06T01:29:10.739Z"
   },
   {
    "duration": 21,
    "start_time": "2022-12-06T01:29:12.401Z"
   },
   {
    "duration": 18,
    "start_time": "2022-12-06T01:29:14.469Z"
   },
   {
    "duration": 4,
    "start_time": "2022-12-06T01:29:41.601Z"
   },
   {
    "duration": 43,
    "start_time": "2022-12-06T01:29:41.607Z"
   },
   {
    "duration": 12,
    "start_time": "2022-12-06T01:29:41.651Z"
   },
   {
    "duration": 12,
    "start_time": "2022-12-06T01:29:41.665Z"
   },
   {
    "duration": 3,
    "start_time": "2022-12-06T01:29:41.679Z"
   },
   {
    "duration": 8,
    "start_time": "2022-12-06T01:29:41.684Z"
   },
   {
    "duration": 6,
    "start_time": "2022-12-06T01:29:41.694Z"
   },
   {
    "duration": 19,
    "start_time": "2022-12-06T01:29:41.702Z"
   },
   {
    "duration": 5,
    "start_time": "2022-12-06T01:29:41.722Z"
   },
   {
    "duration": 11,
    "start_time": "2022-12-06T01:29:41.729Z"
   },
   {
    "duration": 2,
    "start_time": "2022-12-06T01:29:41.742Z"
   },
   {
    "duration": 8,
    "start_time": "2022-12-06T01:29:41.746Z"
   },
   {
    "duration": 8,
    "start_time": "2022-12-06T01:29:41.755Z"
   },
   {
    "duration": 8,
    "start_time": "2022-12-06T01:29:41.765Z"
   },
   {
    "duration": 6,
    "start_time": "2022-12-06T01:29:41.774Z"
   },
   {
    "duration": 8,
    "start_time": "2022-12-06T01:29:41.782Z"
   },
   {
    "duration": 31,
    "start_time": "2022-12-06T01:29:41.791Z"
   },
   {
    "duration": 18,
    "start_time": "2022-12-06T01:29:41.824Z"
   },
   {
    "duration": 3,
    "start_time": "2022-12-06T01:29:41.843Z"
   },
   {
    "duration": 6,
    "start_time": "2022-12-06T01:29:41.848Z"
   },
   {
    "duration": 21,
    "start_time": "2022-12-06T01:29:41.855Z"
   },
   {
    "duration": 14,
    "start_time": "2022-12-06T01:29:41.878Z"
   },
   {
    "duration": 16,
    "start_time": "2022-12-06T01:29:43.798Z"
   },
   {
    "duration": 20,
    "start_time": "2022-12-06T01:29:47.151Z"
   },
   {
    "duration": 22,
    "start_time": "2022-12-06T01:29:48.049Z"
   },
   {
    "duration": 22,
    "start_time": "2022-12-06T01:30:55.921Z"
   },
   {
    "duration": 5,
    "start_time": "2022-12-06T01:31:16.569Z"
   },
   {
    "duration": 45,
    "start_time": "2022-12-06T01:31:16.576Z"
   },
   {
    "duration": 11,
    "start_time": "2022-12-06T01:31:16.623Z"
   },
   {
    "duration": 12,
    "start_time": "2022-12-06T01:31:16.636Z"
   },
   {
    "duration": 4,
    "start_time": "2022-12-06T01:31:16.650Z"
   },
   {
    "duration": 12,
    "start_time": "2022-12-06T01:31:16.655Z"
   },
   {
    "duration": 4,
    "start_time": "2022-12-06T01:31:16.669Z"
   },
   {
    "duration": 16,
    "start_time": "2022-12-06T01:31:16.675Z"
   },
   {
    "duration": 26,
    "start_time": "2022-12-06T01:31:16.692Z"
   },
   {
    "duration": 16,
    "start_time": "2022-12-06T01:31:16.719Z"
   },
   {
    "duration": 2,
    "start_time": "2022-12-06T01:31:16.737Z"
   },
   {
    "duration": 10,
    "start_time": "2022-12-06T01:31:16.741Z"
   },
   {
    "duration": 4,
    "start_time": "2022-12-06T01:31:16.752Z"
   },
   {
    "duration": 4,
    "start_time": "2022-12-06T01:31:16.758Z"
   },
   {
    "duration": 6,
    "start_time": "2022-12-06T01:31:16.764Z"
   },
   {
    "duration": 8,
    "start_time": "2022-12-06T01:31:16.772Z"
   },
   {
    "duration": 18,
    "start_time": "2022-12-06T01:31:16.781Z"
   },
   {
    "duration": 19,
    "start_time": "2022-12-06T01:31:16.815Z"
   },
   {
    "duration": 4,
    "start_time": "2022-12-06T01:31:16.836Z"
   },
   {
    "duration": 7,
    "start_time": "2022-12-06T01:31:16.841Z"
   },
   {
    "duration": 18,
    "start_time": "2022-12-06T01:31:16.850Z"
   },
   {
    "duration": 16,
    "start_time": "2022-12-06T01:31:16.870Z"
   },
   {
    "duration": 15,
    "start_time": "2022-12-06T01:31:19.700Z"
   },
   {
    "duration": 21,
    "start_time": "2022-12-06T01:31:21.400Z"
   },
   {
    "duration": 21,
    "start_time": "2022-12-06T01:32:48.563Z"
   },
   {
    "duration": 19,
    "start_time": "2022-12-06T01:32:49.740Z"
   },
   {
    "duration": 269,
    "start_time": "2022-12-06T01:39:01.086Z"
   },
   {
    "duration": 1305,
    "start_time": "2022-12-06T01:39:40.048Z"
   },
   {
    "duration": 40,
    "start_time": "2022-12-06T01:39:41.355Z"
   },
   {
    "duration": 16,
    "start_time": "2022-12-06T01:39:41.397Z"
   },
   {
    "duration": 13,
    "start_time": "2022-12-06T01:39:41.414Z"
   },
   {
    "duration": 3,
    "start_time": "2022-12-06T01:39:41.429Z"
   },
   {
    "duration": 10,
    "start_time": "2022-12-06T01:39:41.434Z"
   },
   {
    "duration": 8,
    "start_time": "2022-12-06T01:39:41.445Z"
   },
   {
    "duration": 14,
    "start_time": "2022-12-06T01:39:41.454Z"
   },
   {
    "duration": 5,
    "start_time": "2022-12-06T01:39:41.470Z"
   },
   {
    "duration": 10,
    "start_time": "2022-12-06T01:39:41.477Z"
   },
   {
    "duration": 2,
    "start_time": "2022-12-06T01:39:41.489Z"
   },
   {
    "duration": 3,
    "start_time": "2022-12-06T01:39:41.515Z"
   },
   {
    "duration": 7,
    "start_time": "2022-12-06T01:39:41.520Z"
   },
   {
    "duration": 6,
    "start_time": "2022-12-06T01:39:41.529Z"
   },
   {
    "duration": 9,
    "start_time": "2022-12-06T01:39:41.537Z"
   },
   {
    "duration": 9,
    "start_time": "2022-12-06T01:39:41.548Z"
   },
   {
    "duration": 20,
    "start_time": "2022-12-06T01:39:41.558Z"
   },
   {
    "duration": 19,
    "start_time": "2022-12-06T01:39:41.580Z"
   },
   {
    "duration": 21,
    "start_time": "2022-12-06T01:39:41.615Z"
   },
   {
    "duration": 1412,
    "start_time": "2022-12-06T01:40:10.887Z"
   },
   {
    "duration": 40,
    "start_time": "2022-12-06T01:40:12.301Z"
   },
   {
    "duration": 16,
    "start_time": "2022-12-06T01:40:12.343Z"
   },
   {
    "duration": 12,
    "start_time": "2022-12-06T01:40:12.360Z"
   },
   {
    "duration": 4,
    "start_time": "2022-12-06T01:40:12.374Z"
   },
   {
    "duration": 16,
    "start_time": "2022-12-06T01:40:12.380Z"
   },
   {
    "duration": 4,
    "start_time": "2022-12-06T01:40:12.397Z"
   },
   {
    "duration": 21,
    "start_time": "2022-12-06T01:40:12.403Z"
   },
   {
    "duration": 6,
    "start_time": "2022-12-06T01:40:12.425Z"
   },
   {
    "duration": 20,
    "start_time": "2022-12-06T01:40:12.433Z"
   },
   {
    "duration": 2,
    "start_time": "2022-12-06T01:40:12.454Z"
   },
   {
    "duration": 7,
    "start_time": "2022-12-06T01:40:12.458Z"
   },
   {
    "duration": 23,
    "start_time": "2022-12-06T01:40:12.467Z"
   },
   {
    "duration": 4,
    "start_time": "2022-12-06T01:40:12.495Z"
   },
   {
    "duration": 9,
    "start_time": "2022-12-06T01:40:12.500Z"
   },
   {
    "duration": 9,
    "start_time": "2022-12-06T01:40:12.511Z"
   },
   {
    "duration": 22,
    "start_time": "2022-12-06T01:40:12.522Z"
   },
   {
    "duration": 22,
    "start_time": "2022-12-06T01:40:12.546Z"
   },
   {
    "duration": 24,
    "start_time": "2022-12-06T01:40:12.570Z"
   },
   {
    "duration": 2,
    "start_time": "2022-12-06T01:40:12.596Z"
   },
   {
    "duration": 289,
    "start_time": "2022-12-06T01:40:12.599Z"
   },
   {
    "duration": 11029,
    "start_time": "2022-12-06T01:40:12.889Z"
   },
   {
    "duration": 697,
    "start_time": "2022-12-06T01:40:23.920Z"
   },
   {
    "duration": 5365,
    "start_time": "2022-12-06T01:40:24.619Z"
   },
   {
    "duration": 29,
    "start_time": "2022-12-06T01:40:29.986Z"
   },
   {
    "duration": 9,
    "start_time": "2022-12-06T01:40:30.017Z"
   },
   {
    "duration": 108,
    "start_time": "2022-12-06T01:40:30.028Z"
   },
   {
    "duration": 270,
    "start_time": "2022-12-06T01:40:30.137Z"
   },
   {
    "duration": 6,
    "start_time": "2022-12-06T01:40:30.409Z"
   },
   {
    "duration": 149,
    "start_time": "2022-12-06T01:40:30.418Z"
   },
   {
    "duration": 0,
    "start_time": "2022-12-06T01:40:30.569Z"
   },
   {
    "duration": 0,
    "start_time": "2022-12-06T01:40:30.571Z"
   },
   {
    "duration": 0,
    "start_time": "2022-12-06T01:40:30.573Z"
   },
   {
    "duration": 0,
    "start_time": "2022-12-06T01:40:30.574Z"
   },
   {
    "duration": 0,
    "start_time": "2022-12-06T01:40:30.575Z"
   },
   {
    "duration": 0,
    "start_time": "2022-12-06T01:40:30.577Z"
   },
   {
    "duration": 0,
    "start_time": "2022-12-06T01:40:30.578Z"
   },
   {
    "duration": 5,
    "start_time": "2022-12-06T01:44:21.557Z"
   },
   {
    "duration": 1373,
    "start_time": "2022-12-06T01:47:37.921Z"
   },
   {
    "duration": 42,
    "start_time": "2022-12-06T01:47:39.296Z"
   },
   {
    "duration": 17,
    "start_time": "2022-12-06T01:47:39.340Z"
   },
   {
    "duration": 13,
    "start_time": "2022-12-06T01:47:39.359Z"
   },
   {
    "duration": 4,
    "start_time": "2022-12-06T01:47:39.375Z"
   },
   {
    "duration": 6,
    "start_time": "2022-12-06T01:47:39.381Z"
   },
   {
    "duration": 5,
    "start_time": "2022-12-06T01:47:39.389Z"
   },
   {
    "duration": 11,
    "start_time": "2022-12-06T01:47:39.415Z"
   },
   {
    "duration": 8,
    "start_time": "2022-12-06T01:47:39.428Z"
   },
   {
    "duration": 13,
    "start_time": "2022-12-06T01:47:39.437Z"
   },
   {
    "duration": 2,
    "start_time": "2022-12-06T01:47:39.451Z"
   },
   {
    "duration": 6,
    "start_time": "2022-12-06T01:47:39.454Z"
   },
   {
    "duration": 5,
    "start_time": "2022-12-06T01:47:39.461Z"
   },
   {
    "duration": 4,
    "start_time": "2022-12-06T01:47:39.468Z"
   },
   {
    "duration": 5,
    "start_time": "2022-12-06T01:47:39.474Z"
   },
   {
    "duration": 8,
    "start_time": "2022-12-06T01:47:39.480Z"
   },
   {
    "duration": 41,
    "start_time": "2022-12-06T01:47:39.489Z"
   },
   {
    "duration": 19,
    "start_time": "2022-12-06T01:47:39.531Z"
   },
   {
    "duration": 45,
    "start_time": "2022-12-06T01:47:39.552Z"
   },
   {
    "duration": 0,
    "start_time": "2022-12-06T01:47:39.598Z"
   },
   {
    "duration": 0,
    "start_time": "2022-12-06T01:47:39.599Z"
   },
   {
    "duration": 0,
    "start_time": "2022-12-06T01:47:39.600Z"
   },
   {
    "duration": 0,
    "start_time": "2022-12-06T01:47:39.601Z"
   },
   {
    "duration": 0,
    "start_time": "2022-12-06T01:47:39.602Z"
   },
   {
    "duration": 0,
    "start_time": "2022-12-06T01:47:39.604Z"
   },
   {
    "duration": 0,
    "start_time": "2022-12-06T01:47:39.605Z"
   },
   {
    "duration": 0,
    "start_time": "2022-12-06T01:47:39.606Z"
   },
   {
    "duration": 0,
    "start_time": "2022-12-06T01:47:39.607Z"
   },
   {
    "duration": 0,
    "start_time": "2022-12-06T01:47:39.608Z"
   },
   {
    "duration": 0,
    "start_time": "2022-12-06T01:47:39.609Z"
   },
   {
    "duration": 0,
    "start_time": "2022-12-06T01:47:39.610Z"
   },
   {
    "duration": 0,
    "start_time": "2022-12-06T01:47:39.610Z"
   },
   {
    "duration": 0,
    "start_time": "2022-12-06T01:47:39.611Z"
   },
   {
    "duration": 0,
    "start_time": "2022-12-06T01:47:39.612Z"
   },
   {
    "duration": 0,
    "start_time": "2022-12-06T01:47:39.613Z"
   },
   {
    "duration": 0,
    "start_time": "2022-12-06T01:47:39.614Z"
   },
   {
    "duration": 0,
    "start_time": "2022-12-06T01:47:39.616Z"
   },
   {
    "duration": 0,
    "start_time": "2022-12-06T01:47:39.617Z"
   },
   {
    "duration": 1372,
    "start_time": "2022-12-06T01:48:13.704Z"
   },
   {
    "duration": 40,
    "start_time": "2022-12-06T01:48:15.078Z"
   },
   {
    "duration": 15,
    "start_time": "2022-12-06T01:48:15.119Z"
   },
   {
    "duration": 14,
    "start_time": "2022-12-06T01:48:15.136Z"
   },
   {
    "duration": 5,
    "start_time": "2022-12-06T01:48:15.152Z"
   },
   {
    "duration": 8,
    "start_time": "2022-12-06T01:48:15.159Z"
   },
   {
    "duration": 9,
    "start_time": "2022-12-06T01:48:15.169Z"
   },
   {
    "duration": 22,
    "start_time": "2022-12-06T01:48:15.180Z"
   },
   {
    "duration": 15,
    "start_time": "2022-12-06T01:48:15.203Z"
   },
   {
    "duration": 12,
    "start_time": "2022-12-06T01:48:15.221Z"
   },
   {
    "duration": 2,
    "start_time": "2022-12-06T01:48:15.234Z"
   },
   {
    "duration": 13,
    "start_time": "2022-12-06T01:48:15.237Z"
   },
   {
    "duration": 6,
    "start_time": "2022-12-06T01:48:15.251Z"
   },
   {
    "duration": 5,
    "start_time": "2022-12-06T01:48:15.258Z"
   },
   {
    "duration": 7,
    "start_time": "2022-12-06T01:48:15.265Z"
   },
   {
    "duration": 12,
    "start_time": "2022-12-06T01:48:15.274Z"
   },
   {
    "duration": 33,
    "start_time": "2022-12-06T01:48:15.288Z"
   },
   {
    "duration": 20,
    "start_time": "2022-12-06T01:48:15.323Z"
   },
   {
    "duration": 23,
    "start_time": "2022-12-06T01:48:15.344Z"
   },
   {
    "duration": 3,
    "start_time": "2022-12-06T01:48:15.368Z"
   },
   {
    "duration": 296,
    "start_time": "2022-12-06T01:48:15.372Z"
   },
   {
    "duration": 9151,
    "start_time": "2022-12-06T01:48:15.669Z"
   },
   {
    "duration": 494,
    "start_time": "2022-12-06T01:48:24.822Z"
   },
   {
    "duration": 5385,
    "start_time": "2022-12-06T01:48:25.319Z"
   },
   {
    "duration": 23,
    "start_time": "2022-12-06T01:48:30.705Z"
   },
   {
    "duration": 8,
    "start_time": "2022-12-06T01:48:30.730Z"
   },
   {
    "duration": 123,
    "start_time": "2022-12-06T01:48:30.740Z"
   },
   {
    "duration": 288,
    "start_time": "2022-12-06T01:48:30.866Z"
   },
   {
    "duration": 4,
    "start_time": "2022-12-06T01:48:31.156Z"
   },
   {
    "duration": 31,
    "start_time": "2022-12-06T01:48:31.162Z"
   },
   {
    "duration": 356,
    "start_time": "2022-12-06T01:48:31.194Z"
   },
   {
    "duration": 5,
    "start_time": "2022-12-06T01:48:31.552Z"
   },
   {
    "duration": 197,
    "start_time": "2022-12-06T01:48:31.559Z"
   },
   {
    "duration": 183,
    "start_time": "2022-12-06T01:48:31.758Z"
   },
   {
    "duration": 10,
    "start_time": "2022-12-06T01:48:31.943Z"
   },
   {
    "duration": 32,
    "start_time": "2022-12-06T01:48:31.954Z"
   },
   {
    "duration": 338,
    "start_time": "2022-12-06T01:48:31.988Z"
   },
   {
    "duration": 151,
    "start_time": "2022-12-06T01:48:32.328Z"
   },
   {
    "duration": 461686,
    "start_time": "2022-12-06T01:50:55.809Z"
   },
   {
    "duration": 59,
    "start_time": "2022-12-06T02:15:32.429Z"
   },
   {
    "duration": 201,
    "start_time": "2022-12-06T02:17:52.138Z"
   },
   {
    "duration": 4,
    "start_time": "2022-12-06T02:18:03.967Z"
   },
   {
    "duration": 48,
    "start_time": "2022-12-06T02:18:03.973Z"
   },
   {
    "duration": 13,
    "start_time": "2022-12-06T02:18:04.023Z"
   },
   {
    "duration": 15,
    "start_time": "2022-12-06T02:18:04.038Z"
   },
   {
    "duration": 4,
    "start_time": "2022-12-06T02:18:04.055Z"
   },
   {
    "duration": 7,
    "start_time": "2022-12-06T02:18:04.061Z"
   },
   {
    "duration": 4,
    "start_time": "2022-12-06T02:18:04.099Z"
   },
   {
    "duration": 14,
    "start_time": "2022-12-06T02:18:04.105Z"
   },
   {
    "duration": 6,
    "start_time": "2022-12-06T02:18:04.120Z"
   },
   {
    "duration": 11,
    "start_time": "2022-12-06T02:18:04.127Z"
   },
   {
    "duration": 2,
    "start_time": "2022-12-06T02:18:04.139Z"
   },
   {
    "duration": 6,
    "start_time": "2022-12-06T02:18:04.143Z"
   },
   {
    "duration": 5,
    "start_time": "2022-12-06T02:18:04.151Z"
   },
   {
    "duration": 9,
    "start_time": "2022-12-06T02:18:04.158Z"
   },
   {
    "duration": 18,
    "start_time": "2022-12-06T02:18:04.279Z"
   },
   {
    "duration": 106,
    "start_time": "2022-12-06T02:18:04.299Z"
   },
   {
    "duration": 0,
    "start_time": "2022-12-06T02:18:04.407Z"
   },
   {
    "duration": 0,
    "start_time": "2022-12-06T02:18:04.408Z"
   },
   {
    "duration": 185,
    "start_time": "2022-12-06T02:18:07.888Z"
   },
   {
    "duration": 168,
    "start_time": "2022-12-06T02:18:35.208Z"
   },
   {
    "duration": 228,
    "start_time": "2022-12-06T02:18:59.973Z"
   },
   {
    "duration": 114,
    "start_time": "2022-12-06T02:19:42.668Z"
   },
   {
    "duration": 170,
    "start_time": "2022-12-06T02:20:08.854Z"
   },
   {
    "duration": 1279,
    "start_time": "2022-12-06T02:21:03.976Z"
   },
   {
    "duration": 42,
    "start_time": "2022-12-06T02:21:05.256Z"
   },
   {
    "duration": 16,
    "start_time": "2022-12-06T02:21:05.299Z"
   },
   {
    "duration": 13,
    "start_time": "2022-12-06T02:21:05.316Z"
   },
   {
    "duration": 4,
    "start_time": "2022-12-06T02:21:05.330Z"
   },
   {
    "duration": 7,
    "start_time": "2022-12-06T02:21:05.335Z"
   },
   {
    "duration": 17,
    "start_time": "2022-12-06T02:21:05.344Z"
   },
   {
    "duration": 13,
    "start_time": "2022-12-06T02:21:05.363Z"
   },
   {
    "duration": 5,
    "start_time": "2022-12-06T02:21:05.378Z"
   },
   {
    "duration": 17,
    "start_time": "2022-12-06T02:21:05.384Z"
   },
   {
    "duration": 2,
    "start_time": "2022-12-06T02:21:05.402Z"
   },
   {
    "duration": 10,
    "start_time": "2022-12-06T02:21:05.406Z"
   },
   {
    "duration": 10,
    "start_time": "2022-12-06T02:21:05.418Z"
   },
   {
    "duration": 7,
    "start_time": "2022-12-06T02:21:05.432Z"
   },
   {
    "duration": 22,
    "start_time": "2022-12-06T02:21:05.440Z"
   },
   {
    "duration": 24,
    "start_time": "2022-12-06T02:21:05.464Z"
   },
   {
    "duration": 3,
    "start_time": "2022-12-06T02:21:05.489Z"
   },
   {
    "duration": 198,
    "start_time": "2022-12-06T02:21:05.493Z"
   },
   {
    "duration": 8324,
    "start_time": "2022-12-06T02:21:05.693Z"
   },
   {
    "duration": 305,
    "start_time": "2022-12-06T02:21:14.019Z"
   },
   {
    "duration": 5392,
    "start_time": "2022-12-06T02:21:14.419Z"
   },
   {
    "duration": 23,
    "start_time": "2022-12-06T02:21:19.813Z"
   },
   {
    "duration": 9,
    "start_time": "2022-12-06T02:21:19.838Z"
   },
   {
    "duration": 104,
    "start_time": "2022-12-06T02:21:19.848Z"
   },
   {
    "duration": 185,
    "start_time": "2022-12-06T02:21:19.954Z"
   },
   {
    "duration": 4,
    "start_time": "2022-12-06T02:21:20.141Z"
   },
   {
    "duration": 231,
    "start_time": "2022-12-06T02:21:20.147Z"
   },
   {
    "duration": 4,
    "start_time": "2022-12-06T02:21:20.380Z"
   },
   {
    "duration": 124,
    "start_time": "2022-12-06T02:21:20.386Z"
   },
   {
    "duration": 177,
    "start_time": "2022-12-06T02:21:20.512Z"
   },
   {
    "duration": 9,
    "start_time": "2022-12-06T02:21:20.690Z"
   },
   {
    "duration": 15,
    "start_time": "2022-12-06T02:21:20.700Z"
   },
   {
    "duration": 211,
    "start_time": "2022-12-06T02:21:20.717Z"
   },
   {
    "duration": 163,
    "start_time": "2022-12-06T02:21:20.930Z"
   },
   {
    "duration": 280,
    "start_time": "2022-12-06T02:26:40.945Z"
   },
   {
    "duration": 4,
    "start_time": "2022-12-06T02:27:43.980Z"
   },
   {
    "duration": 314,
    "start_time": "2022-12-06T02:27:45.883Z"
   },
   {
    "duration": 4,
    "start_time": "2022-12-06T02:27:57.559Z"
   },
   {
    "duration": 61,
    "start_time": "2022-12-06T02:27:57.565Z"
   },
   {
    "duration": 12,
    "start_time": "2022-12-06T02:27:57.628Z"
   },
   {
    "duration": 38,
    "start_time": "2022-12-06T02:27:57.642Z"
   },
   {
    "duration": 11,
    "start_time": "2022-12-06T02:27:57.682Z"
   },
   {
    "duration": 17,
    "start_time": "2022-12-06T02:27:57.694Z"
   },
   {
    "duration": 33,
    "start_time": "2022-12-06T02:27:57.713Z"
   },
   {
    "duration": 37,
    "start_time": "2022-12-06T02:27:57.748Z"
   },
   {
    "duration": 18,
    "start_time": "2022-12-06T02:27:57.788Z"
   },
   {
    "duration": 24,
    "start_time": "2022-12-06T02:27:57.808Z"
   },
   {
    "duration": 12,
    "start_time": "2022-12-06T02:27:57.834Z"
   },
   {
    "duration": 22,
    "start_time": "2022-12-06T02:27:57.848Z"
   },
   {
    "duration": 32,
    "start_time": "2022-12-06T02:27:57.871Z"
   },
   {
    "duration": 15,
    "start_time": "2022-12-06T02:27:57.906Z"
   },
   {
    "duration": 24,
    "start_time": "2022-12-06T02:27:57.922Z"
   },
   {
    "duration": 44,
    "start_time": "2022-12-06T02:27:57.947Z"
   },
   {
    "duration": 3,
    "start_time": "2022-12-06T02:27:57.992Z"
   },
   {
    "duration": 170,
    "start_time": "2022-12-06T02:27:57.996Z"
   },
   {
    "duration": 8656,
    "start_time": "2022-12-06T02:27:58.168Z"
   },
   {
    "duration": 401,
    "start_time": "2022-12-06T02:28:06.916Z"
   },
   {
    "duration": 5391,
    "start_time": "2022-12-06T02:28:07.319Z"
   },
   {
    "duration": 24,
    "start_time": "2022-12-06T02:28:12.711Z"
   },
   {
    "duration": 9,
    "start_time": "2022-12-06T02:28:12.736Z"
   },
   {
    "duration": 153,
    "start_time": "2022-12-06T02:28:12.747Z"
   },
   {
    "duration": 176,
    "start_time": "2022-12-06T02:28:12.902Z"
   },
   {
    "duration": 4,
    "start_time": "2022-12-06T02:28:13.080Z"
   },
   {
    "duration": 236,
    "start_time": "2022-12-06T02:28:13.085Z"
   },
   {
    "duration": 3,
    "start_time": "2022-12-06T02:28:13.323Z"
   },
   {
    "duration": 118,
    "start_time": "2022-12-06T02:28:13.328Z"
   },
   {
    "duration": 183,
    "start_time": "2022-12-06T02:28:13.448Z"
   },
   {
    "duration": 9,
    "start_time": "2022-12-06T02:28:13.633Z"
   },
   {
    "duration": 7,
    "start_time": "2022-12-06T02:28:13.644Z"
   },
   {
    "duration": 292,
    "start_time": "2022-12-06T02:28:13.653Z"
   },
   {
    "duration": 288,
    "start_time": "2022-12-06T02:28:19.864Z"
   },
   {
    "duration": 279,
    "start_time": "2022-12-06T02:28:54.403Z"
   },
   {
    "duration": 4,
    "start_time": "2022-12-06T02:29:14.999Z"
   },
   {
    "duration": 65,
    "start_time": "2022-12-06T02:29:15.006Z"
   },
   {
    "duration": 12,
    "start_time": "2022-12-06T02:29:15.072Z"
   },
   {
    "duration": 18,
    "start_time": "2022-12-06T02:29:15.085Z"
   },
   {
    "duration": 7,
    "start_time": "2022-12-06T02:29:15.105Z"
   },
   {
    "duration": 13,
    "start_time": "2022-12-06T02:29:15.113Z"
   },
   {
    "duration": 5,
    "start_time": "2022-12-06T02:29:15.128Z"
   },
   {
    "duration": 17,
    "start_time": "2022-12-06T02:29:15.134Z"
   },
   {
    "duration": 6,
    "start_time": "2022-12-06T02:29:15.152Z"
   },
   {
    "duration": 10,
    "start_time": "2022-12-06T02:29:15.160Z"
   },
   {
    "duration": 2,
    "start_time": "2022-12-06T02:29:15.172Z"
   },
   {
    "duration": 9,
    "start_time": "2022-12-06T02:29:15.175Z"
   },
   {
    "duration": 10,
    "start_time": "2022-12-06T02:29:15.185Z"
   },
   {
    "duration": 25,
    "start_time": "2022-12-06T02:29:15.197Z"
   },
   {
    "duration": 23,
    "start_time": "2022-12-06T02:29:15.223Z"
   },
   {
    "duration": 22,
    "start_time": "2022-12-06T02:29:15.247Z"
   },
   {
    "duration": 2,
    "start_time": "2022-12-06T02:29:15.271Z"
   },
   {
    "duration": 194,
    "start_time": "2022-12-06T02:29:15.274Z"
   },
   {
    "duration": 8852,
    "start_time": "2022-12-06T02:29:15.469Z"
   },
   {
    "duration": 395,
    "start_time": "2022-12-06T02:29:24.324Z"
   },
   {
    "duration": 5435,
    "start_time": "2022-12-06T02:29:24.723Z"
   },
   {
    "duration": 21,
    "start_time": "2022-12-06T02:29:30.160Z"
   },
   {
    "duration": 21,
    "start_time": "2022-12-06T02:29:30.183Z"
   },
   {
    "duration": 90,
    "start_time": "2022-12-06T02:29:30.206Z"
   },
   {
    "duration": 180,
    "start_time": "2022-12-06T02:29:30.298Z"
   },
   {
    "duration": 5,
    "start_time": "2022-12-06T02:29:30.480Z"
   },
   {
    "duration": 253,
    "start_time": "2022-12-06T02:29:30.487Z"
   },
   {
    "duration": 5,
    "start_time": "2022-12-06T02:29:30.742Z"
   },
   {
    "duration": 152,
    "start_time": "2022-12-06T02:29:30.749Z"
   },
   {
    "duration": 188,
    "start_time": "2022-12-06T02:29:30.904Z"
   },
   {
    "duration": 9,
    "start_time": "2022-12-06T02:29:31.094Z"
   },
   {
    "duration": 38,
    "start_time": "2022-12-06T02:29:31.104Z"
   },
   {
    "duration": 257,
    "start_time": "2022-12-06T02:29:31.144Z"
   },
   {
    "duration": 1365,
    "start_time": "2022-12-06T02:30:14.199Z"
   },
   {
    "duration": 41,
    "start_time": "2022-12-06T02:30:15.565Z"
   },
   {
    "duration": 17,
    "start_time": "2022-12-06T02:30:15.608Z"
   },
   {
    "duration": 15,
    "start_time": "2022-12-06T02:30:15.627Z"
   },
   {
    "duration": 4,
    "start_time": "2022-12-06T02:30:15.644Z"
   },
   {
    "duration": 7,
    "start_time": "2022-12-06T02:30:15.650Z"
   },
   {
    "duration": 8,
    "start_time": "2022-12-06T02:30:15.658Z"
   },
   {
    "duration": 14,
    "start_time": "2022-12-06T02:30:15.667Z"
   },
   {
    "duration": 5,
    "start_time": "2022-12-06T02:30:15.682Z"
   },
   {
    "duration": 36,
    "start_time": "2022-12-06T02:30:15.689Z"
   },
   {
    "duration": 2,
    "start_time": "2022-12-06T02:30:15.726Z"
   },
   {
    "duration": 5,
    "start_time": "2022-12-06T02:30:15.730Z"
   },
   {
    "duration": 7,
    "start_time": "2022-12-06T02:30:15.736Z"
   },
   {
    "duration": 7,
    "start_time": "2022-12-06T02:30:15.745Z"
   },
   {
    "duration": 18,
    "start_time": "2022-12-06T02:30:15.753Z"
   },
   {
    "duration": 47,
    "start_time": "2022-12-06T02:30:15.772Z"
   },
   {
    "duration": 3,
    "start_time": "2022-12-06T02:30:15.820Z"
   },
   {
    "duration": 172,
    "start_time": "2022-12-06T02:30:15.824Z"
   },
   {
    "duration": 9225,
    "start_time": "2022-12-06T02:30:15.998Z"
   },
   {
    "duration": 492,
    "start_time": "2022-12-06T02:30:25.225Z"
   },
   {
    "duration": 5391,
    "start_time": "2022-12-06T02:30:25.720Z"
   },
   {
    "duration": 23,
    "start_time": "2022-12-06T02:30:31.113Z"
   },
   {
    "duration": 14,
    "start_time": "2022-12-06T02:30:31.138Z"
   },
   {
    "duration": 112,
    "start_time": "2022-12-06T02:30:31.154Z"
   },
   {
    "duration": 174,
    "start_time": "2022-12-06T02:30:31.268Z"
   },
   {
    "duration": 3,
    "start_time": "2022-12-06T02:30:31.444Z"
   },
   {
    "duration": 239,
    "start_time": "2022-12-06T02:30:31.449Z"
   },
   {
    "duration": 4,
    "start_time": "2022-12-06T02:30:31.690Z"
   },
   {
    "duration": 125,
    "start_time": "2022-12-06T02:30:31.695Z"
   },
   {
    "duration": 186,
    "start_time": "2022-12-06T02:30:31.822Z"
   },
   {
    "duration": 10,
    "start_time": "2022-12-06T02:30:32.010Z"
   },
   {
    "duration": 26,
    "start_time": "2022-12-06T02:30:32.021Z"
   },
   {
    "duration": 245,
    "start_time": "2022-12-06T02:30:32.048Z"
   },
   {
    "duration": 148,
    "start_time": "2022-12-06T02:30:32.294Z"
   },
   {
    "duration": 201,
    "start_time": "2022-12-06T02:30:56.770Z"
   },
   {
    "duration": 1308,
    "start_time": "2022-12-06T02:33:46.566Z"
   },
   {
    "duration": 40,
    "start_time": "2022-12-06T02:33:47.876Z"
   },
   {
    "duration": 15,
    "start_time": "2022-12-06T02:33:47.917Z"
   },
   {
    "duration": 14,
    "start_time": "2022-12-06T02:33:47.933Z"
   },
   {
    "duration": 3,
    "start_time": "2022-12-06T02:33:47.949Z"
   },
   {
    "duration": 9,
    "start_time": "2022-12-06T02:33:47.954Z"
   },
   {
    "duration": 4,
    "start_time": "2022-12-06T02:33:47.965Z"
   },
   {
    "duration": 16,
    "start_time": "2022-12-06T02:33:47.970Z"
   },
   {
    "duration": 31,
    "start_time": "2022-12-06T02:33:47.987Z"
   },
   {
    "duration": 11,
    "start_time": "2022-12-06T02:33:48.019Z"
   },
   {
    "duration": 24083,
    "start_time": "2022-12-06T02:33:48.032Z"
   },
   {
    "duration": 4,
    "start_time": "2022-12-06T02:34:12.117Z"
   },
   {
    "duration": 9,
    "start_time": "2022-12-06T02:34:12.123Z"
   },
   {
    "duration": 12,
    "start_time": "2022-12-06T02:34:12.136Z"
   },
   {
    "duration": 22,
    "start_time": "2022-12-06T02:34:12.150Z"
   },
   {
    "duration": 57,
    "start_time": "2022-12-06T02:34:12.174Z"
   },
   {
    "duration": 385665,
    "start_time": "2022-12-06T02:34:12.232Z"
   },
   {
    "duration": 177,
    "start_time": "2022-12-06T02:40:37.899Z"
   },
   {
    "duration": 8346,
    "start_time": "2022-12-06T02:40:38.077Z"
   },
   {
    "duration": 491,
    "start_time": "2022-12-06T02:40:46.425Z"
   },
   {
    "duration": 5380,
    "start_time": "2022-12-06T02:40:46.918Z"
   },
   {
    "duration": 26,
    "start_time": "2022-12-06T02:40:52.300Z"
   },
   {
    "duration": 9,
    "start_time": "2022-12-06T02:40:52.327Z"
   },
   {
    "duration": 91,
    "start_time": "2022-12-06T02:40:52.337Z"
   },
   {
    "duration": 179,
    "start_time": "2022-12-06T02:40:52.430Z"
   },
   {
    "duration": 5,
    "start_time": "2022-12-06T02:40:52.611Z"
   },
   {
    "duration": 233,
    "start_time": "2022-12-06T02:40:52.618Z"
   },
   {
    "duration": 5,
    "start_time": "2022-12-06T02:40:52.852Z"
   },
   {
    "duration": 134,
    "start_time": "2022-12-06T02:40:52.858Z"
   },
   {
    "duration": 190,
    "start_time": "2022-12-06T02:40:52.994Z"
   },
   {
    "duration": 9,
    "start_time": "2022-12-06T02:40:53.185Z"
   },
   {
    "duration": 5,
    "start_time": "2022-12-06T02:40:53.196Z"
   },
   {
    "duration": 212,
    "start_time": "2022-12-06T02:40:53.203Z"
   },
   {
    "duration": 151,
    "start_time": "2022-12-06T02:40:53.417Z"
   },
   {
    "duration": 323,
    "start_time": "2022-12-06T02:47:53.190Z"
   },
   {
    "duration": 3,
    "start_time": "2022-12-06T02:47:59.818Z"
   },
   {
    "duration": 45,
    "start_time": "2022-12-06T02:47:59.823Z"
   },
   {
    "duration": 11,
    "start_time": "2022-12-06T02:47:59.870Z"
   },
   {
    "duration": 12,
    "start_time": "2022-12-06T02:47:59.883Z"
   },
   {
    "duration": 4,
    "start_time": "2022-12-06T02:47:59.897Z"
   },
   {
    "duration": 8,
    "start_time": "2022-12-06T02:47:59.902Z"
   },
   {
    "duration": 5,
    "start_time": "2022-12-06T02:47:59.911Z"
   },
   {
    "duration": 12,
    "start_time": "2022-12-06T02:47:59.918Z"
   },
   {
    "duration": 5,
    "start_time": "2022-12-06T02:47:59.931Z"
   },
   {
    "duration": 134,
    "start_time": "2022-12-06T02:47:59.938Z"
   },
   {
    "duration": 10261,
    "start_time": "2022-12-06T02:48:00.073Z"
   },
   {
    "duration": 0,
    "start_time": "2022-12-06T02:48:10.335Z"
   },
   {
    "duration": 0,
    "start_time": "2022-12-06T02:48:10.337Z"
   },
   {
    "duration": 0,
    "start_time": "2022-12-06T02:48:10.338Z"
   },
   {
    "duration": 0,
    "start_time": "2022-12-06T02:48:10.339Z"
   },
   {
    "duration": 0,
    "start_time": "2022-12-06T02:48:10.340Z"
   },
   {
    "duration": 0,
    "start_time": "2022-12-06T02:48:10.342Z"
   },
   {
    "duration": 0,
    "start_time": "2022-12-06T02:48:10.343Z"
   },
   {
    "duration": 4,
    "start_time": "2022-12-06T02:48:19.230Z"
   },
   {
    "duration": 42,
    "start_time": "2022-12-06T02:48:19.236Z"
   },
   {
    "duration": 12,
    "start_time": "2022-12-06T02:48:19.280Z"
   },
   {
    "duration": 13,
    "start_time": "2022-12-06T02:48:19.294Z"
   },
   {
    "duration": 4,
    "start_time": "2022-12-06T02:48:19.309Z"
   },
   {
    "duration": 7,
    "start_time": "2022-12-06T02:48:19.315Z"
   },
   {
    "duration": 8,
    "start_time": "2022-12-06T02:48:19.323Z"
   },
   {
    "duration": 13,
    "start_time": "2022-12-06T02:48:19.333Z"
   },
   {
    "duration": 6,
    "start_time": "2022-12-06T02:48:19.348Z"
   },
   {
    "duration": 16,
    "start_time": "2022-12-06T02:48:19.355Z"
   },
   {
    "duration": 24358,
    "start_time": "2022-12-06T02:48:19.372Z"
   },
   {
    "duration": 6,
    "start_time": "2022-12-06T02:48:43.731Z"
   },
   {
    "duration": 8,
    "start_time": "2022-12-06T02:48:43.739Z"
   },
   {
    "duration": 11,
    "start_time": "2022-12-06T02:48:43.749Z"
   },
   {
    "duration": 56,
    "start_time": "2022-12-06T02:48:43.762Z"
   },
   {
    "duration": 24,
    "start_time": "2022-12-06T02:48:43.819Z"
   },
   {
    "duration": 3,
    "start_time": "2022-12-06T02:48:43.845Z"
   },
   {
    "duration": 290,
    "start_time": "2022-12-06T02:48:43.850Z"
   },
   {
    "duration": 1361,
    "start_time": "2022-12-06T02:50:05.529Z"
   },
   {
    "duration": 41,
    "start_time": "2022-12-06T02:50:06.892Z"
   },
   {
    "duration": 16,
    "start_time": "2022-12-06T02:50:06.934Z"
   },
   {
    "duration": 13,
    "start_time": "2022-12-06T02:50:06.951Z"
   },
   {
    "duration": 3,
    "start_time": "2022-12-06T02:50:06.965Z"
   },
   {
    "duration": 7,
    "start_time": "2022-12-06T02:50:06.970Z"
   },
   {
    "duration": 6,
    "start_time": "2022-12-06T02:50:06.978Z"
   },
   {
    "duration": 31,
    "start_time": "2022-12-06T02:50:06.985Z"
   },
   {
    "duration": 5,
    "start_time": "2022-12-06T02:50:07.017Z"
   },
   {
    "duration": 14,
    "start_time": "2022-12-06T02:50:07.024Z"
   },
   {
    "duration": 1385,
    "start_time": "2022-12-06T02:50:29.189Z"
   },
   {
    "duration": 43,
    "start_time": "2022-12-06T02:50:30.576Z"
   },
   {
    "duration": 16,
    "start_time": "2022-12-06T02:50:30.621Z"
   },
   {
    "duration": 27,
    "start_time": "2022-12-06T02:50:30.639Z"
   },
   {
    "duration": 16,
    "start_time": "2022-12-06T02:50:30.669Z"
   },
   {
    "duration": 40,
    "start_time": "2022-12-06T02:50:30.686Z"
   },
   {
    "duration": 39,
    "start_time": "2022-12-06T02:50:30.728Z"
   },
   {
    "duration": 40,
    "start_time": "2022-12-06T02:50:30.768Z"
   },
   {
    "duration": 19,
    "start_time": "2022-12-06T02:50:30.810Z"
   },
   {
    "duration": 29,
    "start_time": "2022-12-06T02:50:30.831Z"
   },
   {
    "duration": 16,
    "start_time": "2022-12-06T02:50:30.862Z"
   },
   {
    "duration": 29,
    "start_time": "2022-12-06T02:50:30.879Z"
   },
   {
    "duration": 26,
    "start_time": "2022-12-06T02:50:30.909Z"
   },
   {
    "duration": 26,
    "start_time": "2022-12-06T02:50:30.939Z"
   },
   {
    "duration": 43,
    "start_time": "2022-12-06T02:50:30.975Z"
   },
   {
    "duration": 40,
    "start_time": "2022-12-06T02:50:31.020Z"
   },
   {
    "duration": 14,
    "start_time": "2022-12-06T02:50:31.062Z"
   },
   {
    "duration": 303,
    "start_time": "2022-12-06T02:50:31.078Z"
   },
   {
    "duration": 9138,
    "start_time": "2022-12-06T02:50:31.383Z"
   },
   {
    "duration": 397,
    "start_time": "2022-12-06T02:50:40.523Z"
   },
   {
    "duration": 5424,
    "start_time": "2022-12-06T02:50:41.015Z"
   },
   {
    "duration": 22,
    "start_time": "2022-12-06T02:50:46.441Z"
   },
   {
    "duration": 8,
    "start_time": "2022-12-06T02:50:46.464Z"
   },
   {
    "duration": 107,
    "start_time": "2022-12-06T02:50:46.473Z"
   },
   {
    "duration": 287,
    "start_time": "2022-12-06T02:50:46.582Z"
   },
   {
    "duration": 4,
    "start_time": "2022-12-06T02:50:46.871Z"
   },
   {
    "duration": 391,
    "start_time": "2022-12-06T02:50:46.877Z"
   },
   {
    "duration": 4,
    "start_time": "2022-12-06T02:50:47.269Z"
   },
   {
    "duration": 178,
    "start_time": "2022-12-06T02:50:47.274Z"
   },
   {
    "duration": 196,
    "start_time": "2022-12-06T02:50:47.454Z"
   },
   {
    "duration": 8,
    "start_time": "2022-12-06T02:50:47.652Z"
   },
   {
    "duration": 10,
    "start_time": "2022-12-06T02:50:47.662Z"
   },
   {
    "duration": 345,
    "start_time": "2022-12-06T02:50:47.673Z"
   },
   {
    "duration": 160,
    "start_time": "2022-12-06T02:50:48.020Z"
   },
   {
    "duration": 470696,
    "start_time": "2022-12-06T02:52:15.107Z"
   },
   {
    "duration": 226,
    "start_time": "2022-12-06T03:06:10.332Z"
   },
   {
    "duration": 215,
    "start_time": "2022-12-06T03:06:20.634Z"
   },
   {
    "duration": 1367,
    "start_time": "2022-12-06T03:07:16.303Z"
   },
   {
    "duration": 42,
    "start_time": "2022-12-06T03:07:17.671Z"
   },
   {
    "duration": 19,
    "start_time": "2022-12-06T03:07:17.714Z"
   },
   {
    "duration": 25,
    "start_time": "2022-12-06T03:07:17.736Z"
   },
   {
    "duration": 3,
    "start_time": "2022-12-06T03:07:17.763Z"
   },
   {
    "duration": 8,
    "start_time": "2022-12-06T03:07:17.768Z"
   },
   {
    "duration": 14,
    "start_time": "2022-12-06T03:07:17.777Z"
   },
   {
    "duration": 15,
    "start_time": "2022-12-06T03:07:17.792Z"
   },
   {
    "duration": 12,
    "start_time": "2022-12-06T03:07:17.816Z"
   },
   {
    "duration": 17,
    "start_time": "2022-12-06T03:07:17.832Z"
   },
   {
    "duration": 3,
    "start_time": "2022-12-06T03:07:17.851Z"
   },
   {
    "duration": 6,
    "start_time": "2022-12-06T03:07:17.856Z"
   },
   {
    "duration": 9,
    "start_time": "2022-12-06T03:07:17.863Z"
   },
   {
    "duration": 8,
    "start_time": "2022-12-06T03:07:17.874Z"
   },
   {
    "duration": 44,
    "start_time": "2022-12-06T03:07:17.884Z"
   },
   {
    "duration": 26,
    "start_time": "2022-12-06T03:07:17.930Z"
   },
   {
    "duration": 2,
    "start_time": "2022-12-06T03:07:17.958Z"
   },
   {
    "duration": 189,
    "start_time": "2022-12-06T03:07:17.961Z"
   },
   {
    "duration": 16067,
    "start_time": "2022-12-06T03:07:18.151Z"
   },
   {
    "duration": 712,
    "start_time": "2022-12-06T03:07:34.220Z"
   },
   {
    "duration": 5697,
    "start_time": "2022-12-06T03:07:34.934Z"
   },
   {
    "duration": 23,
    "start_time": "2022-12-06T03:07:40.632Z"
   },
   {
    "duration": 9,
    "start_time": "2022-12-06T03:07:40.656Z"
   },
   {
    "duration": 108,
    "start_time": "2022-12-06T03:07:40.666Z"
   },
   {
    "duration": 289,
    "start_time": "2022-12-06T03:07:40.775Z"
   },
   {
    "duration": 4,
    "start_time": "2022-12-06T03:07:41.065Z"
   },
   {
    "duration": 385,
    "start_time": "2022-12-06T03:07:41.071Z"
   },
   {
    "duration": 4,
    "start_time": "2022-12-06T03:07:41.459Z"
   },
   {
    "duration": 198,
    "start_time": "2022-12-06T03:07:41.464Z"
   },
   {
    "duration": 219,
    "start_time": "2022-12-06T03:07:41.663Z"
   },
   {
    "duration": 9,
    "start_time": "2022-12-06T03:07:41.884Z"
   },
   {
    "duration": 13,
    "start_time": "2022-12-06T03:07:41.894Z"
   },
   {
    "duration": 378,
    "start_time": "2022-12-06T03:07:41.908Z"
   },
   {
    "duration": 162,
    "start_time": "2022-12-06T03:07:42.288Z"
   },
   {
    "duration": 1401,
    "start_time": "2022-12-06T03:09:53.891Z"
   },
   {
    "duration": 41,
    "start_time": "2022-12-06T03:09:55.294Z"
   },
   {
    "duration": 16,
    "start_time": "2022-12-06T03:09:55.336Z"
   },
   {
    "duration": 28,
    "start_time": "2022-12-06T03:09:55.353Z"
   },
   {
    "duration": 22,
    "start_time": "2022-12-06T03:09:55.383Z"
   },
   {
    "duration": 22,
    "start_time": "2022-12-06T03:09:55.407Z"
   },
   {
    "duration": 8,
    "start_time": "2022-12-06T03:09:55.431Z"
   },
   {
    "duration": 15,
    "start_time": "2022-12-06T03:09:55.441Z"
   },
   {
    "duration": 6,
    "start_time": "2022-12-06T03:09:55.457Z"
   },
   {
    "duration": 35,
    "start_time": "2022-12-06T03:09:55.465Z"
   },
   {
    "duration": 6,
    "start_time": "2022-12-06T03:09:55.502Z"
   },
   {
    "duration": 29,
    "start_time": "2022-12-06T03:09:55.510Z"
   },
   {
    "duration": 24,
    "start_time": "2022-12-06T03:09:55.541Z"
   },
   {
    "duration": 15,
    "start_time": "2022-12-06T03:09:55.566Z"
   },
   {
    "duration": 24,
    "start_time": "2022-12-06T03:09:55.582Z"
   },
   {
    "duration": 23,
    "start_time": "2022-12-06T03:09:55.607Z"
   },
   {
    "duration": 2,
    "start_time": "2022-12-06T03:09:55.632Z"
   },
   {
    "duration": 182,
    "start_time": "2022-12-06T03:09:55.635Z"
   },
   {
    "duration": 14301,
    "start_time": "2022-12-06T03:09:55.819Z"
   },
   {
    "duration": 498,
    "start_time": "2022-12-06T03:10:10.124Z"
   },
   {
    "duration": 5719,
    "start_time": "2022-12-06T03:10:10.629Z"
   },
   {
    "duration": 25,
    "start_time": "2022-12-06T03:10:16.350Z"
   },
   {
    "duration": 9,
    "start_time": "2022-12-06T03:10:16.377Z"
   },
   {
    "duration": 139,
    "start_time": "2022-12-06T03:10:16.388Z"
   },
   {
    "duration": 175,
    "start_time": "2022-12-06T03:10:16.528Z"
   },
   {
    "duration": 4,
    "start_time": "2022-12-06T03:10:16.704Z"
   },
   {
    "duration": 249,
    "start_time": "2022-12-06T03:10:16.710Z"
   },
   {
    "duration": 3,
    "start_time": "2022-12-06T03:10:16.962Z"
   },
   {
    "duration": 127,
    "start_time": "2022-12-06T03:10:16.967Z"
   },
   {
    "duration": 189,
    "start_time": "2022-12-06T03:10:17.096Z"
   },
   {
    "duration": 9,
    "start_time": "2022-12-06T03:10:17.286Z"
   },
   {
    "duration": 10,
    "start_time": "2022-12-06T03:10:17.296Z"
   },
   {
    "duration": 274,
    "start_time": "2022-12-06T03:10:17.315Z"
   },
   {
    "duration": 227,
    "start_time": "2022-12-06T03:10:17.591Z"
   },
   {
    "duration": 53,
    "start_time": "2022-12-06T03:14:03.856Z"
   }
  ],
  "kernelspec": {
   "display_name": "Python 3 (ipykernel)",
   "language": "python",
   "name": "python3"
  },
  "language_info": {
   "codemirror_mode": {
    "name": "ipython",
    "version": 3
   },
   "file_extension": ".py",
   "mimetype": "text/x-python",
   "name": "python",
   "nbconvert_exporter": "python",
   "pygments_lexer": "ipython3",
   "version": "3.9.5"
  },
  "toc": {
   "base_numbering": 1,
   "nav_menu": {},
   "number_sections": true,
   "sideBar": true,
   "skip_h1_title": true,
   "title_cell": "Содержание",
   "title_sidebar": "Contents",
   "toc_cell": true,
   "toc_position": {
    "height": "calc(100% - 180px)",
    "left": "10px",
    "top": "150px",
    "width": "165px"
   },
   "toc_section_display": true,
   "toc_window_display": true
  }
 },
 "nbformat": 4,
 "nbformat_minor": 2
}
