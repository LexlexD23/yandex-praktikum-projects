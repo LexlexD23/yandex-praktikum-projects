{
 "cells": [
  {
   "cell_type": "markdown",
   "metadata": {
    "toc": true
   },
   "source": [
    "<h1>Содержание<span class=\"tocSkip\"></span></h1>\n",
    "<div class=\"toc\"><ul class=\"toc-item\"><li><span><a href=\"#Подготовка-данных\" data-toc-modified-id=\"Подготовка-данных-1\"><span class=\"toc-item-num\">1&nbsp;&nbsp;</span>Подготовка данных</a></span></li><li><span><a href=\"#Анализ-данных\" data-toc-modified-id=\"Анализ-данных-2\"><span class=\"toc-item-num\">2&nbsp;&nbsp;</span>Анализ данных</a></span></li><li><span><a href=\"#Модель\" data-toc-modified-id=\"Модель-3\"><span class=\"toc-item-num\">3&nbsp;&nbsp;</span>Модель</a></span></li></ul></div>"
   ]
  },
  {
   "cell_type": "markdown",
   "metadata": {},
   "source": [
    "# Восстановление золота из руды"
   ]
  },
  {
   "cell_type": "markdown",
   "metadata": {},
   "source": [
    "Подготовьте прототип модели машинного обучения для «Цифры». Компания разрабатывает решения для эффективной работы промышленных предприятий.\n",
    "\n",
    "Модель должна предсказать коэффициент восстановления золота из золотосодержащей руды. Используйте данные с параметрами добычи и очистки. \n",
    "\n",
    "Модель поможет оптимизировать производство, чтобы не запускать предприятие с убыточными характеристиками.\n",
    "\n",
    "Вам нужно:\n",
    "\n",
    "1. Подготовить данные;\n",
    "2. Провести исследовательский анализ данных;\n",
    "3. Построить и обучить модель.\n",
    "\n",
    "Чтобы выполнить проект, обращайтесь к библиотекам *pandas*, *matplotlib* и *sklearn.* Вам поможет их документация."
   ]
  },
  {
   "cell_type": "markdown",
   "metadata": {},
   "source": [
    "## Подготовка данных"
   ]
  },
  {
   "cell_type": "code",
   "execution_count": 1,
   "metadata": {},
   "outputs": [],
   "source": [
    "import pandas as pd\n",
    "from sklearn.linear_model  import LinearRegression\n",
    "from sklearn.tree import DecisionTreeRegressor\n",
    "from sklearn.ensemble import RandomForestRegressor\n",
    "from sklearn.model_selection import train_test_split, GridSearchCV\n",
    "from sklearn.metrics import make_scorer\n",
    "from sklearn.preprocessing import RobustScaler\n",
    "import seaborn as sns\n",
    "from sklearn.metrics import mean_squared_error,mean_absolute_error\n",
    "import matplotlib.pyplot as plt\n",
    "import numpy as np\n",
    "from sklearn.dummy import DummyRegressor"
   ]
  },
  {
   "cell_type": "markdown",
   "metadata": {},
   "source": [
    "Получение данных"
   ]
  },
  {
   "cell_type": "code",
   "execution_count": 2,
   "metadata": {},
   "outputs": [],
   "source": [
    "df_full = pd.read_csv('/datasets/gold_recovery_full_new.csv')\n",
    "df_train = pd.read_csv('/datasets/gold_recovery_train_new.csv')\n",
    "df_test = pd.read_csv('/datasets/gold_recovery_test_new.csv')"
   ]
  },
  {
   "cell_type": "markdown",
   "metadata": {},
   "source": [
    "Обзор датасетов"
   ]
  },
  {
   "cell_type": "code",
   "execution_count": 3,
   "metadata": {
    "scrolled": true
   },
   "outputs": [
    {
     "name": "stdout",
     "output_type": "stream",
     "text": [
      "<class 'pandas.core.frame.DataFrame'>\n",
      "RangeIndex: 19439 entries, 0 to 19438\n",
      "Data columns (total 87 columns):\n",
      " #   Column                                              Non-Null Count  Dtype  \n",
      "---  ------                                              --------------  -----  \n",
      " 0   date                                                19439 non-null  object \n",
      " 1   final.output.concentrate_ag                         19438 non-null  float64\n",
      " 2   final.output.concentrate_pb                         19438 non-null  float64\n",
      " 3   final.output.concentrate_sol                        19228 non-null  float64\n",
      " 4   final.output.concentrate_au                         19439 non-null  float64\n",
      " 5   final.output.recovery                               19439 non-null  float64\n",
      " 6   final.output.tail_ag                                19438 non-null  float64\n",
      " 7   final.output.tail_pb                                19338 non-null  float64\n",
      " 8   final.output.tail_sol                               19433 non-null  float64\n",
      " 9   final.output.tail_au                                19439 non-null  float64\n",
      " 10  primary_cleaner.input.sulfate                       19415 non-null  float64\n",
      " 11  primary_cleaner.input.depressant                    19402 non-null  float64\n",
      " 12  primary_cleaner.input.feed_size                     19439 non-null  float64\n",
      " 13  primary_cleaner.input.xanthate                      19335 non-null  float64\n",
      " 14  primary_cleaner.output.concentrate_ag               19439 non-null  float64\n",
      " 15  primary_cleaner.output.concentrate_pb               19323 non-null  float64\n",
      " 16  primary_cleaner.output.concentrate_sol              19069 non-null  float64\n",
      " 17  primary_cleaner.output.concentrate_au               19439 non-null  float64\n",
      " 18  primary_cleaner.output.tail_ag                      19435 non-null  float64\n",
      " 19  primary_cleaner.output.tail_pb                      19418 non-null  float64\n",
      " 20  primary_cleaner.output.tail_sol                     19377 non-null  float64\n",
      " 21  primary_cleaner.output.tail_au                      19439 non-null  float64\n",
      " 22  primary_cleaner.state.floatbank8_a_air              19435 non-null  float64\n",
      " 23  primary_cleaner.state.floatbank8_a_level            19438 non-null  float64\n",
      " 24  primary_cleaner.state.floatbank8_b_air              19435 non-null  float64\n",
      " 25  primary_cleaner.state.floatbank8_b_level            19438 non-null  float64\n",
      " 26  primary_cleaner.state.floatbank8_c_air              19437 non-null  float64\n",
      " 27  primary_cleaner.state.floatbank8_c_level            19438 non-null  float64\n",
      " 28  primary_cleaner.state.floatbank8_d_air              19436 non-null  float64\n",
      " 29  primary_cleaner.state.floatbank8_d_level            19438 non-null  float64\n",
      " 30  rougher.calculation.sulfate_to_au_concentrate       19437 non-null  float64\n",
      " 31  rougher.calculation.floatbank10_sulfate_to_au_feed  19437 non-null  float64\n",
      " 32  rougher.calculation.floatbank11_sulfate_to_au_feed  19437 non-null  float64\n",
      " 33  rougher.calculation.au_pb_ratio                     19439 non-null  float64\n",
      " 34  rougher.input.feed_ag                               19439 non-null  float64\n",
      " 35  rougher.input.feed_pb                               19339 non-null  float64\n",
      " 36  rougher.input.feed_rate                             19428 non-null  float64\n",
      " 37  rougher.input.feed_size                             19294 non-null  float64\n",
      " 38  rougher.input.feed_sol                              19340 non-null  float64\n",
      " 39  rougher.input.feed_au                               19439 non-null  float64\n",
      " 40  rougher.input.floatbank10_sulfate                   19405 non-null  float64\n",
      " 41  rougher.input.floatbank10_xanthate                  19431 non-null  float64\n",
      " 42  rougher.input.floatbank11_sulfate                   19395 non-null  float64\n",
      " 43  rougher.input.floatbank11_xanthate                  18986 non-null  float64\n",
      " 44  rougher.output.concentrate_ag                       19439 non-null  float64\n",
      " 45  rougher.output.concentrate_pb                       19439 non-null  float64\n",
      " 46  rougher.output.concentrate_sol                      19416 non-null  float64\n",
      " 47  rougher.output.concentrate_au                       19439 non-null  float64\n",
      " 48  rougher.output.recovery                             19439 non-null  float64\n",
      " 49  rougher.output.tail_ag                              19438 non-null  float64\n",
      " 50  rougher.output.tail_pb                              19439 non-null  float64\n",
      " 51  rougher.output.tail_sol                             19439 non-null  float64\n",
      " 52  rougher.output.tail_au                              19439 non-null  float64\n",
      " 53  rougher.state.floatbank10_a_air                     19438 non-null  float64\n",
      " 54  rougher.state.floatbank10_a_level                   19438 non-null  float64\n",
      " 55  rougher.state.floatbank10_b_air                     19438 non-null  float64\n",
      " 56  rougher.state.floatbank10_b_level                   19438 non-null  float64\n",
      " 57  rougher.state.floatbank10_c_air                     19438 non-null  float64\n",
      " 58  rougher.state.floatbank10_c_level                   19438 non-null  float64\n",
      " 59  rougher.state.floatbank10_d_air                     19439 non-null  float64\n",
      " 60  rougher.state.floatbank10_d_level                   19439 non-null  float64\n",
      " 61  rougher.state.floatbank10_e_air                     19003 non-null  float64\n",
      " 62  rougher.state.floatbank10_e_level                   19439 non-null  float64\n",
      " 63  rougher.state.floatbank10_f_air                     19439 non-null  float64\n",
      " 64  rougher.state.floatbank10_f_level                   19439 non-null  float64\n",
      " 65  secondary_cleaner.output.tail_ag                    19437 non-null  float64\n",
      " 66  secondary_cleaner.output.tail_pb                    19427 non-null  float64\n",
      " 67  secondary_cleaner.output.tail_sol                   17691 non-null  float64\n",
      " 68  secondary_cleaner.output.tail_au                    19439 non-null  float64\n",
      " 69  secondary_cleaner.state.floatbank2_a_air            19219 non-null  float64\n",
      " 70  secondary_cleaner.state.floatbank2_a_level          19438 non-null  float64\n",
      " 71  secondary_cleaner.state.floatbank2_b_air            19416 non-null  float64\n",
      " 72  secondary_cleaner.state.floatbank2_b_level          19438 non-null  float64\n",
      " 73  secondary_cleaner.state.floatbank3_a_air            19426 non-null  float64\n",
      " 74  secondary_cleaner.state.floatbank3_a_level          19438 non-null  float64\n",
      " 75  secondary_cleaner.state.floatbank3_b_air            19438 non-null  float64\n",
      " 76  secondary_cleaner.state.floatbank3_b_level          19438 non-null  float64\n",
      " 77  secondary_cleaner.state.floatbank4_a_air            19433 non-null  float64\n",
      " 78  secondary_cleaner.state.floatbank4_a_level          19438 non-null  float64\n",
      " 79  secondary_cleaner.state.floatbank4_b_air            19438 non-null  float64\n",
      " 80  secondary_cleaner.state.floatbank4_b_level          19438 non-null  float64\n",
      " 81  secondary_cleaner.state.floatbank5_a_air            19438 non-null  float64\n",
      " 82  secondary_cleaner.state.floatbank5_a_level          19438 non-null  float64\n",
      " 83  secondary_cleaner.state.floatbank5_b_air            19438 non-null  float64\n",
      " 84  secondary_cleaner.state.floatbank5_b_level          19438 non-null  float64\n",
      " 85  secondary_cleaner.state.floatbank6_a_air            19437 non-null  float64\n",
      " 86  secondary_cleaner.state.floatbank6_a_level          19438 non-null  float64\n",
      "dtypes: float64(86), object(1)\n",
      "memory usage: 12.9+ MB\n"
     ]
    }
   ],
   "source": [
    "df_full.info()"
   ]
  },
  {
   "cell_type": "code",
   "execution_count": 4,
   "metadata": {
    "scrolled": true
   },
   "outputs": [
    {
     "name": "stdout",
     "output_type": "stream",
     "text": [
      "<class 'pandas.core.frame.DataFrame'>\n",
      "RangeIndex: 14149 entries, 0 to 14148\n",
      "Data columns (total 87 columns):\n",
      " #   Column                                              Non-Null Count  Dtype  \n",
      "---  ------                                              --------------  -----  \n",
      " 0   date                                                14149 non-null  object \n",
      " 1   final.output.concentrate_ag                         14148 non-null  float64\n",
      " 2   final.output.concentrate_pb                         14148 non-null  float64\n",
      " 3   final.output.concentrate_sol                        13938 non-null  float64\n",
      " 4   final.output.concentrate_au                         14149 non-null  float64\n",
      " 5   final.output.recovery                               14149 non-null  float64\n",
      " 6   final.output.tail_ag                                14149 non-null  float64\n",
      " 7   final.output.tail_pb                                14049 non-null  float64\n",
      " 8   final.output.tail_sol                               14144 non-null  float64\n",
      " 9   final.output.tail_au                                14149 non-null  float64\n",
      " 10  primary_cleaner.input.sulfate                       14129 non-null  float64\n",
      " 11  primary_cleaner.input.depressant                    14117 non-null  float64\n",
      " 12  primary_cleaner.input.feed_size                     14149 non-null  float64\n",
      " 13  primary_cleaner.input.xanthate                      14049 non-null  float64\n",
      " 14  primary_cleaner.output.concentrate_ag               14149 non-null  float64\n",
      " 15  primary_cleaner.output.concentrate_pb               14063 non-null  float64\n",
      " 16  primary_cleaner.output.concentrate_sol              13863 non-null  float64\n",
      " 17  primary_cleaner.output.concentrate_au               14149 non-null  float64\n",
      " 18  primary_cleaner.output.tail_ag                      14148 non-null  float64\n",
      " 19  primary_cleaner.output.tail_pb                      14134 non-null  float64\n",
      " 20  primary_cleaner.output.tail_sol                     14103 non-null  float64\n",
      " 21  primary_cleaner.output.tail_au                      14149 non-null  float64\n",
      " 22  primary_cleaner.state.floatbank8_a_air              14145 non-null  float64\n",
      " 23  primary_cleaner.state.floatbank8_a_level            14148 non-null  float64\n",
      " 24  primary_cleaner.state.floatbank8_b_air              14145 non-null  float64\n",
      " 25  primary_cleaner.state.floatbank8_b_level            14148 non-null  float64\n",
      " 26  primary_cleaner.state.floatbank8_c_air              14147 non-null  float64\n",
      " 27  primary_cleaner.state.floatbank8_c_level            14148 non-null  float64\n",
      " 28  primary_cleaner.state.floatbank8_d_air              14146 non-null  float64\n",
      " 29  primary_cleaner.state.floatbank8_d_level            14148 non-null  float64\n",
      " 30  rougher.calculation.sulfate_to_au_concentrate       14148 non-null  float64\n",
      " 31  rougher.calculation.floatbank10_sulfate_to_au_feed  14148 non-null  float64\n",
      " 32  rougher.calculation.floatbank11_sulfate_to_au_feed  14148 non-null  float64\n",
      " 33  rougher.calculation.au_pb_ratio                     14149 non-null  float64\n",
      " 34  rougher.input.feed_ag                               14149 non-null  float64\n",
      " 35  rougher.input.feed_pb                               14049 non-null  float64\n",
      " 36  rougher.input.feed_rate                             14141 non-null  float64\n",
      " 37  rougher.input.feed_size                             14005 non-null  float64\n",
      " 38  rougher.input.feed_sol                              14071 non-null  float64\n",
      " 39  rougher.input.feed_au                               14149 non-null  float64\n",
      " 40  rougher.input.floatbank10_sulfate                   14120 non-null  float64\n",
      " 41  rougher.input.floatbank10_xanthate                  14141 non-null  float64\n",
      " 42  rougher.input.floatbank11_sulfate                   14113 non-null  float64\n",
      " 43  rougher.input.floatbank11_xanthate                  13721 non-null  float64\n",
      " 44  rougher.output.concentrate_ag                       14149 non-null  float64\n",
      " 45  rougher.output.concentrate_pb                       14149 non-null  float64\n",
      " 46  rougher.output.concentrate_sol                      14127 non-null  float64\n",
      " 47  rougher.output.concentrate_au                       14149 non-null  float64\n",
      " 48  rougher.output.recovery                             14149 non-null  float64\n",
      " 49  rougher.output.tail_ag                              14148 non-null  float64\n",
      " 50  rougher.output.tail_pb                              14149 non-null  float64\n",
      " 51  rougher.output.tail_sol                             14149 non-null  float64\n",
      " 52  rougher.output.tail_au                              14149 non-null  float64\n",
      " 53  rougher.state.floatbank10_a_air                     14148 non-null  float64\n",
      " 54  rougher.state.floatbank10_a_level                   14148 non-null  float64\n",
      " 55  rougher.state.floatbank10_b_air                     14148 non-null  float64\n",
      " 56  rougher.state.floatbank10_b_level                   14148 non-null  float64\n",
      " 57  rougher.state.floatbank10_c_air                     14148 non-null  float64\n",
      " 58  rougher.state.floatbank10_c_level                   14148 non-null  float64\n",
      " 59  rougher.state.floatbank10_d_air                     14149 non-null  float64\n",
      " 60  rougher.state.floatbank10_d_level                   14149 non-null  float64\n",
      " 61  rougher.state.floatbank10_e_air                     13713 non-null  float64\n",
      " 62  rougher.state.floatbank10_e_level                   14149 non-null  float64\n",
      " 63  rougher.state.floatbank10_f_air                     14149 non-null  float64\n",
      " 64  rougher.state.floatbank10_f_level                   14149 non-null  float64\n",
      " 65  secondary_cleaner.output.tail_ag                    14147 non-null  float64\n",
      " 66  secondary_cleaner.output.tail_pb                    14139 non-null  float64\n",
      " 67  secondary_cleaner.output.tail_sol                   12544 non-null  float64\n",
      " 68  secondary_cleaner.output.tail_au                    14149 non-null  float64\n",
      " 69  secondary_cleaner.state.floatbank2_a_air            13932 non-null  float64\n",
      " 70  secondary_cleaner.state.floatbank2_a_level          14148 non-null  float64\n",
      " 71  secondary_cleaner.state.floatbank2_b_air            14128 non-null  float64\n",
      " 72  secondary_cleaner.state.floatbank2_b_level          14148 non-null  float64\n",
      " 73  secondary_cleaner.state.floatbank3_a_air            14145 non-null  float64\n",
      " 74  secondary_cleaner.state.floatbank3_a_level          14148 non-null  float64\n",
      " 75  secondary_cleaner.state.floatbank3_b_air            14148 non-null  float64\n",
      " 76  secondary_cleaner.state.floatbank3_b_level          14148 non-null  float64\n",
      " 77  secondary_cleaner.state.floatbank4_a_air            14143 non-null  float64\n",
      " 78  secondary_cleaner.state.floatbank4_a_level          14148 non-null  float64\n",
      " 79  secondary_cleaner.state.floatbank4_b_air            14148 non-null  float64\n",
      " 80  secondary_cleaner.state.floatbank4_b_level          14148 non-null  float64\n",
      " 81  secondary_cleaner.state.floatbank5_a_air            14148 non-null  float64\n",
      " 82  secondary_cleaner.state.floatbank5_a_level          14148 non-null  float64\n",
      " 83  secondary_cleaner.state.floatbank5_b_air            14148 non-null  float64\n",
      " 84  secondary_cleaner.state.floatbank5_b_level          14148 non-null  float64\n",
      " 85  secondary_cleaner.state.floatbank6_a_air            14147 non-null  float64\n",
      " 86  secondary_cleaner.state.floatbank6_a_level          14148 non-null  float64\n",
      "dtypes: float64(86), object(1)\n",
      "memory usage: 9.4+ MB\n"
     ]
    }
   ],
   "source": [
    "df_train.info()"
   ]
  },
  {
   "cell_type": "markdown",
   "metadata": {},
   "source": [
    "Столбец с датой приведен в неудобном формате"
   ]
  },
  {
   "cell_type": "code",
   "execution_count": 5,
   "metadata": {
    "scrolled": true
   },
   "outputs": [
    {
     "name": "stdout",
     "output_type": "stream",
     "text": [
      "<class 'pandas.core.frame.DataFrame'>\n",
      "RangeIndex: 5290 entries, 0 to 5289\n",
      "Data columns (total 53 columns):\n",
      " #   Column                                      Non-Null Count  Dtype  \n",
      "---  ------                                      --------------  -----  \n",
      " 0   date                                        5290 non-null   object \n",
      " 1   primary_cleaner.input.sulfate               5286 non-null   float64\n",
      " 2   primary_cleaner.input.depressant            5285 non-null   float64\n",
      " 3   primary_cleaner.input.feed_size             5290 non-null   float64\n",
      " 4   primary_cleaner.input.xanthate              5286 non-null   float64\n",
      " 5   primary_cleaner.state.floatbank8_a_air      5290 non-null   float64\n",
      " 6   primary_cleaner.state.floatbank8_a_level    5290 non-null   float64\n",
      " 7   primary_cleaner.state.floatbank8_b_air      5290 non-null   float64\n",
      " 8   primary_cleaner.state.floatbank8_b_level    5290 non-null   float64\n",
      " 9   primary_cleaner.state.floatbank8_c_air      5290 non-null   float64\n",
      " 10  primary_cleaner.state.floatbank8_c_level    5290 non-null   float64\n",
      " 11  primary_cleaner.state.floatbank8_d_air      5290 non-null   float64\n",
      " 12  primary_cleaner.state.floatbank8_d_level    5290 non-null   float64\n",
      " 13  rougher.input.feed_ag                       5290 non-null   float64\n",
      " 14  rougher.input.feed_pb                       5290 non-null   float64\n",
      " 15  rougher.input.feed_rate                     5287 non-null   float64\n",
      " 16  rougher.input.feed_size                     5289 non-null   float64\n",
      " 17  rougher.input.feed_sol                      5269 non-null   float64\n",
      " 18  rougher.input.feed_au                       5290 non-null   float64\n",
      " 19  rougher.input.floatbank10_sulfate           5285 non-null   float64\n",
      " 20  rougher.input.floatbank10_xanthate          5290 non-null   float64\n",
      " 21  rougher.input.floatbank11_sulfate           5282 non-null   float64\n",
      " 22  rougher.input.floatbank11_xanthate          5265 non-null   float64\n",
      " 23  rougher.state.floatbank10_a_air             5290 non-null   float64\n",
      " 24  rougher.state.floatbank10_a_level           5290 non-null   float64\n",
      " 25  rougher.state.floatbank10_b_air             5290 non-null   float64\n",
      " 26  rougher.state.floatbank10_b_level           5290 non-null   float64\n",
      " 27  rougher.state.floatbank10_c_air             5290 non-null   float64\n",
      " 28  rougher.state.floatbank10_c_level           5290 non-null   float64\n",
      " 29  rougher.state.floatbank10_d_air             5290 non-null   float64\n",
      " 30  rougher.state.floatbank10_d_level           5290 non-null   float64\n",
      " 31  rougher.state.floatbank10_e_air             5290 non-null   float64\n",
      " 32  rougher.state.floatbank10_e_level           5290 non-null   float64\n",
      " 33  rougher.state.floatbank10_f_air             5290 non-null   float64\n",
      " 34  rougher.state.floatbank10_f_level           5290 non-null   float64\n",
      " 35  secondary_cleaner.state.floatbank2_a_air    5287 non-null   float64\n",
      " 36  secondary_cleaner.state.floatbank2_a_level  5290 non-null   float64\n",
      " 37  secondary_cleaner.state.floatbank2_b_air    5288 non-null   float64\n",
      " 38  secondary_cleaner.state.floatbank2_b_level  5290 non-null   float64\n",
      " 39  secondary_cleaner.state.floatbank3_a_air    5281 non-null   float64\n",
      " 40  secondary_cleaner.state.floatbank3_a_level  5290 non-null   float64\n",
      " 41  secondary_cleaner.state.floatbank3_b_air    5290 non-null   float64\n",
      " 42  secondary_cleaner.state.floatbank3_b_level  5290 non-null   float64\n",
      " 43  secondary_cleaner.state.floatbank4_a_air    5290 non-null   float64\n",
      " 44  secondary_cleaner.state.floatbank4_a_level  5290 non-null   float64\n",
      " 45  secondary_cleaner.state.floatbank4_b_air    5290 non-null   float64\n",
      " 46  secondary_cleaner.state.floatbank4_b_level  5290 non-null   float64\n",
      " 47  secondary_cleaner.state.floatbank5_a_air    5290 non-null   float64\n",
      " 48  secondary_cleaner.state.floatbank5_a_level  5290 non-null   float64\n",
      " 49  secondary_cleaner.state.floatbank5_b_air    5290 non-null   float64\n",
      " 50  secondary_cleaner.state.floatbank5_b_level  5290 non-null   float64\n",
      " 51  secondary_cleaner.state.floatbank6_a_air    5290 non-null   float64\n",
      " 52  secondary_cleaner.state.floatbank6_a_level  5290 non-null   float64\n",
      "dtypes: float64(52), object(1)\n",
      "memory usage: 2.1+ MB\n"
     ]
    }
   ],
   "source": [
    "df_test.info()"
   ]
  },
  {
   "cell_type": "markdown",
   "metadata": {},
   "source": [
    "**Обработка пропусков**"
   ]
  },
  {
   "cell_type": "markdown",
   "metadata": {},
   "source": [
    "Доля пропусков"
   ]
  },
  {
   "cell_type": "code",
   "execution_count": 6,
   "metadata": {},
   "outputs": [
    {
     "data": {
      "text/plain": [
       "secondary_cleaner.output.tail_sol           8.992232\n",
       "rougher.input.floatbank11_xanthate          2.330367\n",
       "rougher.state.floatbank10_e_air             2.242914\n",
       "primary_cleaner.output.concentrate_sol      1.903390\n",
       "secondary_cleaner.state.floatbank2_a_air    1.131745\n",
       "final.output.concentrate_sol                1.085447\n",
       "Name: space, dtype: float64"
      ]
     },
     "execution_count": 6,
     "metadata": {},
     "output_type": "execute_result"
    }
   ],
   "source": [
    "(df_full.isna().mean().loc[lambda x:x>0]*100)\\\n",
    "    .to_frame()\\\n",
    "    .rename(columns ={0:'space'})\\\n",
    "    .query('space > 1')\\\n",
    "    ['space'].sort_values(ascending = False)"
   ]
  },
  {
   "cell_type": "code",
   "execution_count": 7,
   "metadata": {
    "scrolled": true
   },
   "outputs": [
    {
     "data": {
      "text/plain": [
       "secondary_cleaner.output.tail_sol           11.343558\n",
       "rougher.state.floatbank10_e_air              3.081490\n",
       "rougher.input.floatbank11_xanthate           3.024949\n",
       "primary_cleaner.output.concentrate_sol       2.021344\n",
       "secondary_cleaner.state.floatbank2_a_air     1.533677\n",
       "final.output.concentrate_sol                 1.491271\n",
       "rougher.input.feed_size                      1.017740\n",
       "Name: space, dtype: float64"
      ]
     },
     "execution_count": 7,
     "metadata": {},
     "output_type": "execute_result"
    }
   ],
   "source": [
    "(df_train.isna().mean().loc[lambda x:x>0]*100)\\\n",
    "    .to_frame()\\\n",
    "    .rename(columns ={0:'space'})\\\n",
    "    .query('space > 1')\\\n",
    "    ['space'].sort_values(ascending = False)"
   ]
  },
  {
   "cell_type": "code",
   "execution_count": 8,
   "metadata": {},
   "outputs": [
    {
     "data": {
      "text/plain": [
       "Series([], Name: space, dtype: float64)"
      ]
     },
     "execution_count": 8,
     "metadata": {},
     "output_type": "execute_result"
    }
   ],
   "source": [
    "(df_test.isna().mean().loc[lambda x:x>0]*100)\\\n",
    "    .to_frame()\\\n",
    "    .rename(columns ={0:'space'})\\\n",
    "    .query('space > 1')\\\n",
    "    ['space'].sort_values(ascending = False)"
   ]
  },
  {
   "cell_type": "markdown",
   "metadata": {},
   "source": [
    "По условию пропуски это повтор предыдущих значений"
   ]
  },
  {
   "cell_type": "code",
   "execution_count": 9,
   "metadata": {},
   "outputs": [],
   "source": [
    "# заполнение пропусков значениями, которые предшествует пропускам\n",
    "df_full= df_full.fillna(method='ffill')\n",
    "df_train = df_train.fillna(method='ffill')\n",
    "df_test = df_test.fillna(method='ffill')"
   ]
  },
  {
   "cell_type": "markdown",
   "metadata": {},
   "source": [
    "**Изменение типа в столбце даты**"
   ]
  },
  {
   "cell_type": "code",
   "execution_count": 10,
   "metadata": {},
   "outputs": [],
   "source": [
    "df_full['date'] = pd.to_datetime(df_full['date'],format = '%Y-%m-%d %H:%M:%S')\n",
    "df_train['date'] = pd.to_datetime(df_train['date'],format = '%Y-%m-%d %H:%M:%S')\n",
    "df_test['date'] = pd.to_datetime(df_test['date'],format = '%Y-%m-%d %H:%M:%S')"
   ]
  },
  {
   "cell_type": "markdown",
   "metadata": {},
   "source": [
    "## Анализ данных"
   ]
  },
  {
   "cell_type": "markdown",
   "metadata": {},
   "source": [
    "**Проверка правильности расчета обогащения**"
   ]
  },
  {
   "cell_type": "code",
   "execution_count": 11,
   "metadata": {},
   "outputs": [],
   "source": [
    "recovery_theory = df_train['rougher.output.concentrate_au'] * \\\n",
    "    (df_train['rougher.input.feed_au'] - df_train['rougher.output.tail_au'])/ \\\n",
    "    (df_train['rougher.input.feed_au'] * \\\n",
    "    (df_train['rougher.output.concentrate_au'] - df_train['rougher.output.tail_au'])) *100"
   ]
  },
  {
   "cell_type": "code",
   "execution_count": 12,
   "metadata": {
    "scrolled": true
   },
   "outputs": [
    {
     "name": "stdout",
     "output_type": "stream",
     "text": [
      "Ошибка эффективности обогащения: 9.73512347450521e-15\n"
     ]
    }
   ],
   "source": [
    "mae = mean_absolute_error(df_train['rougher.output.recovery'],recovery_theory)\n",
    "print('Ошибка эффективности обогащения:',mae)\n"
   ]
  },
  {
   "cell_type": "markdown",
   "metadata": {},
   "source": [
    "Ошибка очень мала, что говорит о правильной работе установки по обогащению"
   ]
  },
  {
   "cell_type": "markdown",
   "metadata": {},
   "source": [
    "**Обзор различий в тестовой выборке и тренеровочной**"
   ]
  },
  {
   "cell_type": "code",
   "execution_count": 13,
   "metadata": {
    "scrolled": false
   },
   "outputs": [
    {
     "name": "stdout",
     "output_type": "stream",
     "text": [
      "Размерность полных данных: (19439, 87)\n",
      "Размерность тренировочных  данных: (14149, 87)\n",
      "Размерность тестовых данных: (5290, 53)\n"
     ]
    }
   ],
   "source": [
    "print (\"Размерность полных данных:\", df_full.shape)\n",
    "print (\"Размерность тренировочных  данных:\", df_train.shape)\n",
    "print (\"Размерность тестовых данных:\", df_test.shape)"
   ]
  },
  {
   "cell_type": "markdown",
   "metadata": {},
   "source": [
    "**Добавление целевых признаков из полного датасета в тестовый датасет**"
   ]
  },
  {
   "cell_type": "code",
   "execution_count": 14,
   "metadata": {},
   "outputs": [],
   "source": [
    "df_test = df_test.merge(df_full[['date','final.output.recovery','rougher.output.recovery']],on ='date',how = 'left')"
   ]
  },
  {
   "cell_type": "markdown",
   "metadata": {},
   "source": [
    "**Удаление признаков в тренировочных данных, которые отсутствуют в тестовом датасете**"
   ]
  },
  {
   "cell_type": "markdown",
   "metadata": {},
   "source": [
    "Некоторые перенные будут получены на этапах технологического процесса, поэтому к ним нет доступа."
   ]
  },
  {
   "cell_type": "code",
   "execution_count": 15,
   "metadata": {
    "scrolled": false
   },
   "outputs": [
    {
     "name": "stdout",
     "output_type": "stream",
     "text": [
      "<class 'pandas.core.frame.DataFrame'>\n",
      "RangeIndex: 14149 entries, 0 to 14148\n",
      "Data columns (total 32 columns):\n",
      " #   Column                                              Non-Null Count  Dtype  \n",
      "---  ------                                              --------------  -----  \n",
      " 0   final.output.concentrate_ag                         14149 non-null  float64\n",
      " 1   final.output.concentrate_pb                         14149 non-null  float64\n",
      " 2   final.output.concentrate_sol                        14149 non-null  float64\n",
      " 3   final.output.concentrate_au                         14149 non-null  float64\n",
      " 4   final.output.tail_ag                                14149 non-null  float64\n",
      " 5   final.output.tail_pb                                14149 non-null  float64\n",
      " 6   final.output.tail_sol                               14149 non-null  float64\n",
      " 7   final.output.tail_au                                14149 non-null  float64\n",
      " 8   primary_cleaner.output.concentrate_ag               14149 non-null  float64\n",
      " 9   primary_cleaner.output.concentrate_pb               14149 non-null  float64\n",
      " 10  primary_cleaner.output.concentrate_sol              14149 non-null  float64\n",
      " 11  primary_cleaner.output.concentrate_au               14149 non-null  float64\n",
      " 12  primary_cleaner.output.tail_ag                      14149 non-null  float64\n",
      " 13  primary_cleaner.output.tail_pb                      14149 non-null  float64\n",
      " 14  primary_cleaner.output.tail_sol                     14149 non-null  float64\n",
      " 15  primary_cleaner.output.tail_au                      14149 non-null  float64\n",
      " 16  rougher.calculation.sulfate_to_au_concentrate       14149 non-null  float64\n",
      " 17  rougher.calculation.floatbank10_sulfate_to_au_feed  14149 non-null  float64\n",
      " 18  rougher.calculation.floatbank11_sulfate_to_au_feed  14149 non-null  float64\n",
      " 19  rougher.calculation.au_pb_ratio                     14149 non-null  float64\n",
      " 20  rougher.output.concentrate_ag                       14149 non-null  float64\n",
      " 21  rougher.output.concentrate_pb                       14149 non-null  float64\n",
      " 22  rougher.output.concentrate_sol                      14149 non-null  float64\n",
      " 23  rougher.output.concentrate_au                       14149 non-null  float64\n",
      " 24  rougher.output.tail_ag                              14149 non-null  float64\n",
      " 25  rougher.output.tail_pb                              14149 non-null  float64\n",
      " 26  rougher.output.tail_sol                             14149 non-null  float64\n",
      " 27  rougher.output.tail_au                              14149 non-null  float64\n",
      " 28  secondary_cleaner.output.tail_ag                    14149 non-null  float64\n",
      " 29  secondary_cleaner.output.tail_pb                    14149 non-null  float64\n",
      " 30  secondary_cleaner.output.tail_sol                   14149 non-null  float64\n",
      " 31  secondary_cleaner.output.tail_au                    14149 non-null  float64\n",
      "dtypes: float64(32)\n",
      "memory usage: 3.5 MB\n"
     ]
    }
   ],
   "source": [
    "df_exception = df_train\n",
    "for column in df_test.columns:\n",
    "    df_exception = df_exception.drop(column,axis = 1)\n",
    "df_exception.info()"
   ]
  },
  {
   "cell_type": "markdown",
   "metadata": {},
   "source": [
    "**Описание признаков отсутствующих в наборе**\n",
    "* rougher.output.concentrate — концентрация после флотации\n",
    "* rougher.output.tail - содержание отвальных хвостов\n",
    "* primary_cleaner — первичная очистка\n",
    "* secondary_cleaner — вторичная очистка\n",
    "* final — финальные характеристики\n",
    "\n",
    "Все отсутствующие признаки это выходные признаки получаемые в ходе прохождения технологического процесса.\n",
    "\n",
    "Наша задача в том чтобы по входным параметрам сырья и внутреним параметрам при котором работает технологический процесс (объем воздуха, скорость подачи сырья и т.п.) предсказать выход полезного компонента. Так как тренировочный набор сформирован и из полного там присутствуют признаки полученные в ходе прохождения технологического процесса"
   ]
  },
  {
   "cell_type": "code",
   "execution_count": 16,
   "metadata": {},
   "outputs": [],
   "source": [
    "for column in df_train.columns:\n",
    "    if column not in df_test.columns:\n",
    "        df_train = df_train.drop(column,axis = 1)"
   ]
  },
  {
   "cell_type": "code",
   "execution_count": 17,
   "metadata": {},
   "outputs": [
    {
     "data": {
      "text/plain": [
       "(14149, 55)"
      ]
     },
     "execution_count": 17,
     "metadata": {},
     "output_type": "execute_result"
    }
   ],
   "source": [
    "df_train.shape"
   ]
  },
  {
   "cell_type": "markdown",
   "metadata": {},
   "source": [
    "# Анализ содержания концентраций металлов на каждом этапе"
   ]
  },
  {
   "cell_type": "markdown",
   "metadata": {},
   "source": [
    "Создание списков концентрации металлов на каждом этапе обработки сырья "
   ]
  },
  {
   "cell_type": "code",
   "execution_count": 18,
   "metadata": {},
   "outputs": [],
   "source": [
    "au = ['rougher.input.feed_au',\n",
    "      'rougher.output.concentrate_au',\n",
    "      'primary_cleaner.output.concentrate_au',\n",
    "      'final.output.concentrate_au']\n",
    "\n",
    "ag = ['rougher.input.feed_ag',\n",
    "      'rougher.output.concentrate_ag',\n",
    "      'primary_cleaner.output.concentrate_ag',\n",
    "      'final.output.concentrate_ag']\n",
    "\n",
    "pb = ['rougher.input.feed_pb',\n",
    "      'rougher.output.concentrate_pb',\n",
    "      'primary_cleaner.output.concentrate_pb',\n",
    "      'final.output.concentrate_pb']\n",
    "\n",
    "metals =[au,ag,pb]"
   ]
  },
  {
   "cell_type": "code",
   "execution_count": 19,
   "metadata": {},
   "outputs": [],
   "source": [
    "def concentration(metal,stages_of_metal):\n",
    "    for stage in stages_of_metal:\n",
    "        df_full[stage].hist(figsize = (15,5),bins = 30,alpha = 0.85)   \n",
    "    plt.title(metal)\n",
    "    plt.legend(['Руда','Концентрация после флотации','Первый этап ','Уровень конечной концентрации']) \n",
    "    plt.xlabel('Уровень содержания металла')\n",
    "    plt.ylabel('Частота встречающегося уровня  содержания металла')\n",
    "    "
   ]
  },
  {
   "cell_type": "code",
   "execution_count": 20,
   "metadata": {
    "scrolled": true
   },
   "outputs": [
    {
     "data": {
      "image/png": "[encoded data removed]",
      "text/plain": [
       "<Figure size 1080x360 with 1 Axes>"
      ]
     },
     "metadata": {
      "needs_background": "light"
     },
     "output_type": "display_data"
    }
   ],
   "source": [
    "concentration('Золото',au)"
   ]
  },
  {
   "cell_type": "code",
   "execution_count": 21,
   "metadata": {
    "scrolled": true
   },
   "outputs": [
    {
     "data": {
      "image/png": "[encoded data removed]",
      "text/plain": [
       "<Figure size 1080x360 with 1 Axes>"
      ]
     },
     "metadata": {
      "needs_background": "light"
     },
     "output_type": "display_data"
    }
   ],
   "source": [
    "concentration('Серебро',ag)"
   ]
  },
  {
   "cell_type": "code",
   "execution_count": 22,
   "metadata": {
    "scrolled": true
   },
   "outputs": [
    {
     "data": {
      "image/png": "[encoded data removed]",
      "text/plain": [
       "<Figure size 1080x360 with 1 Axes>"
      ]
     },
     "metadata": {
      "needs_background": "light"
     },
     "output_type": "display_data"
    }
   ],
   "source": [
    "concentration('Свинец',pb)"
   ]
  },
  {
   "cell_type": "markdown",
   "metadata": {},
   "source": [
    "Наблюдается  ожидаемая тенденция к росту целевого компонента (золота) с повышением этапа переработки\n",
    "\n",
    "Присутствую нулевые значения концентраций на всех этапах кроме руды"
   ]
  },
  {
   "cell_type": "markdown",
   "metadata": {},
   "source": [
    "**Распределения размеров гранул на обучающей и тестовой выборках**"
   ]
  },
  {
   "cell_type": "markdown",
   "metadata": {},
   "source": [
    "Получение названия столбцов отвечающих за размер гранул"
   ]
  },
  {
   "cell_type": "code",
   "execution_count": 23,
   "metadata": {
    "scrolled": true
   },
   "outputs": [
    {
     "name": "stdout",
     "output_type": "stream",
     "text": [
      "Название столбца, содержащий размер гранул: primary_cleaner.input.feed_size\n",
      "Название столбца, содержащий размер гранул: rougher.input.feed_size\n"
     ]
    }
   ],
   "source": [
    "for column in df_test.columns:\n",
    "    if 'feed_size' in column:\n",
    "        print ('Название столбца, содержащий размер гранул:',column) "
   ]
  },
  {
   "cell_type": "markdown",
   "metadata": {},
   "source": [
    "График плотности вероятности"
   ]
  },
  {
   "cell_type": "code",
   "execution_count": 24,
   "metadata": {},
   "outputs": [
    {
     "data": {
      "image/png": "[encoded data removed]",
      "text/plain": [
       "<Figure size 1080x360 with 1 Axes>"
      ]
     },
     "metadata": {
      "needs_background": "light"
     },
     "output_type": "display_data"
    },
    {
     "data": {
      "image/png": "[encoded data removed]",
      "text/plain": [
       "<Figure size 1080x360 with 1 Axes>"
      ]
     },
     "metadata": {
      "needs_background": "light"
     },
     "output_type": "display_data"
    }
   ],
   "source": [
    "stages_with_feed_size  = ['rougher.input.feed_size','primary_cleaner.input.feed_size',]\n",
    "translate_stages =['на входе флотации','на входе последнего этапа очистки']\n",
    "\n",
    "for feed_size,stage in zip(stages_with_feed_size,translate_stages):\n",
    "    plt.figure(figsize = (15,5)) \n",
    "    sns.kdeplot(df_train[feed_size])\n",
    "    sns.kdeplot(df_test[feed_size])\n",
    "    plt.title('Распределения размеров гранул на обучающей и тестовой выборках, ' + stage)\n",
    "    plt.xlabel('Размеры гранул ' + stage)\n",
    "    plt.ylabel('Плотность')\n",
    "    plt.legend(['Обучающая выборка ','Тестовая выборка'])\n",
    "    "
   ]
  },
  {
   "cell_type": "markdown",
   "metadata": {},
   "source": [
    "Наблюдаем:\n",
    "* Уменьшение размеров гранул\n",
    "* Схожие  распределения указывает на то, что тренировочная выборка сформирована  правильно, так как повторяет структуру распределения размеров гранул на тестовой. "
   ]
  },
  {
   "cell_type": "markdown",
   "metadata": {},
   "source": [
    "**Суммарная концентрация всех веществ**"
   ]
  },
  {
   "cell_type": "code",
   "execution_count": 25,
   "metadata": {},
   "outputs": [],
   "source": [
    "# до флотации\n",
    "rougher_input = pd.Series(df_full['rougher.input.feed_au'] + df_full['rougher.input.feed_ag'] + df_full['rougher.input.feed_pb']\n",
    "                          + df_full['rougher.input.feed_sol'])\n",
    "\n",
    "# после флотации\n",
    "rougher_output =  pd.Series(df_full['rougher.output.concentrate_au'] + df_full['rougher.output.concentrate_ag']\n",
    "                            + df_full['rougher.output.concentrate_pb'] + df_full['rougher.output.concentrate_sol'])\n",
    "\n",
    "# итоговая концентрация\n",
    "final = pd.Series(df_full['final.output.concentrate_au'] + df_full['final.output.concentrate_ag']\n",
    "                            + df_full['final.output.concentrate_pb'] + df_full['final.output.concentrate_sol'])"
   ]
  },
  {
   "cell_type": "markdown",
   "metadata": {},
   "source": [
    "Сводная таблица основных параметров распределения"
   ]
  },
  {
   "cell_type": "code",
   "execution_count": 26,
   "metadata": {
    "scrolled": true
   },
   "outputs": [
    {
     "data": {
      "text/html": [
       "<div>\n",
       "<style scoped>\n",
       "    .dataframe tbody tr th:only-of-type {\n",
       "        vertical-align: middle;\n",
       "    }\n",
       "\n",
       "    .dataframe tbody tr th {\n",
       "        vertical-align: top;\n",
       "    }\n",
       "\n",
       "    .dataframe thead th {\n",
       "        text-align: right;\n",
       "    }\n",
       "</style>\n",
       "<table border=\"1\" class=\"dataframe\">\n",
       "  <thead>\n",
       "    <tr style=\"text-align: right;\">\n",
       "      <th></th>\n",
       "      <th>rougher_input</th>\n",
       "      <th>rougher_output</th>\n",
       "      <th>final</th>\n",
       "    </tr>\n",
       "  </thead>\n",
       "  <tbody>\n",
       "    <tr>\n",
       "      <th>count</th>\n",
       "      <td>19439.000000</td>\n",
       "      <td>19439.000000</td>\n",
       "      <td>19439.000000</td>\n",
       "    </tr>\n",
       "    <tr>\n",
       "      <th>mean</th>\n",
       "      <td>57.320789</td>\n",
       "      <td>68.170865</td>\n",
       "      <td>68.653624</td>\n",
       "    </tr>\n",
       "    <tr>\n",
       "      <th>std</th>\n",
       "      <td>7.212680</td>\n",
       "      <td>12.491279</td>\n",
       "      <td>7.427536</td>\n",
       "    </tr>\n",
       "    <tr>\n",
       "      <th>min</th>\n",
       "      <td>0.040000</td>\n",
       "      <td>0.000000</td>\n",
       "      <td>0.000000</td>\n",
       "    </tr>\n",
       "    <tr>\n",
       "      <th>25%</th>\n",
       "      <td>53.557679</td>\n",
       "      <td>66.012495</td>\n",
       "      <td>67.932362</td>\n",
       "    </tr>\n",
       "    <tr>\n",
       "      <th>50%</th>\n",
       "      <td>57.594391</td>\n",
       "      <td>70.181495</td>\n",
       "      <td>69.598444</td>\n",
       "    </tr>\n",
       "    <tr>\n",
       "      <th>75%</th>\n",
       "      <td>61.953459</td>\n",
       "      <td>74.356904</td>\n",
       "      <td>71.368472</td>\n",
       "    </tr>\n",
       "    <tr>\n",
       "      <th>max</th>\n",
       "      <td>76.978947</td>\n",
       "      <td>88.140119</td>\n",
       "      <td>80.210644</td>\n",
       "    </tr>\n",
       "  </tbody>\n",
       "</table>\n",
       "</div>"
      ],
      "text/plain": [
       "       rougher_input  rougher_output         final\n",
       "count   19439.000000    19439.000000  19439.000000\n",
       "mean       57.320789       68.170865     68.653624\n",
       "std         7.212680       12.491279      7.427536\n",
       "min         0.040000        0.000000      0.000000\n",
       "25%        53.557679       66.012495     67.932362\n",
       "50%        57.594391       70.181495     69.598444\n",
       "75%        61.953459       74.356904     71.368472\n",
       "max        76.978947       88.140119     80.210644"
      ]
     },
     "execution_count": 26,
     "metadata": {},
     "output_type": "execute_result"
    }
   ],
   "source": [
    "concentrate = pd.DataFrame({\"rougher_input\": rougher_input,\"rougher_output\":rougher_output,\"final\":final})\n",
    "concentrate.describe()"
   ]
  },
  {
   "cell_type": "markdown",
   "metadata": {},
   "source": [
    "График зависимости частоты встречающихся концентраций веществ от уровня концентаций на разных этапах"
   ]
  },
  {
   "cell_type": "code",
   "execution_count": 27,
   "metadata": {
    "scrolled": false
   },
   "outputs": [
    {
     "data": {
      "text/plain": [
       "Text(3.1723379629629704, 0.5, 'Частота концентраций')"
      ]
     },
     "execution_count": 27,
     "metadata": {},
     "output_type": "execute_result"
    },
    {
     "data": {
      "image/png": "[encoded data removed]",
      "text/plain": [
       "<Figure size 761x648 with 1 Axes>"
      ]
     },
     "metadata": {
      "needs_background": "light"
     },
     "output_type": "display_data"
    }
   ],
   "source": [
    "sns.displot(concentrate,kind=\"hist\",height =9)\n",
    "plt.title('Суммарная концентрация всех веществ по этапам \\n')\n",
    "plt.xlabel('Суммарная концентрация всех веществ, по этапам')\n",
    "plt.ylabel('Частота концентраций')\n"
   ]
  },
  {
   "cell_type": "markdown",
   "metadata": {},
   "source": [
    "Удаление выбросов с нулями в тренировочном наборе"
   ]
  },
  {
   "cell_type": "code",
   "execution_count": 28,
   "metadata": {},
   "outputs": [],
   "source": [
    "# поиск индексов с пропусками в df_full\n",
    "index_rougher = rougher_output[rougher_output==0].index\n",
    "index_final = final[final==0].index\n",
    "index_with_zero_concentration_full = index_rougher.append(index_final)\n",
    "\n",
    "# series с датами где нулевая концентрация\n",
    "date_with_zero_concentration = df_full.iloc[index_with_zero_concentration_full]['date']\n",
    "\n",
    "df_train = df_train[~df_train['date'].isin(date_with_zero_concentration)]"
   ]
  },
  {
   "cell_type": "markdown",
   "metadata": {},
   "source": [
    "Анализ по технологискому процессу:\n",
    "* оценка эффективности обагащения подтверждена теоритическим расчетом;\n",
    "* рост целевого показателя концетраций золота от этапа к этапу;\n",
    "* присутствие большого количество нулевых концентраций на последущих этапах обработки сырья, при этом в самой руде значительно меньше нулевых концентраций(возможно причина в точности метода измерения концентраций в руде, нужны уточнения у бизнеса) "
   ]
  },
  {
   "cell_type": "markdown",
   "metadata": {},
   "source": [
    "## Модель"
   ]
  },
  {
   "cell_type": "markdown",
   "metadata": {},
   "source": [
    "Метрика для оценки качества предсказания содержания золотоносной руды SMAPE\n",
    "Функция sMAPE(симметричное среднее абсолютное процентное отклонение)  "
   ]
  },
  {
   "cell_type": "code",
   "execution_count": 29,
   "metadata": {},
   "outputs": [],
   "source": [
    "def smape(predict,target):\n",
    "    return 1/len(predict) * np.sum((np.abs(target-predict)) /((np.abs(target)+np.abs(predict))/2))*100\n",
    "    "
   ]
  },
  {
   "cell_type": "markdown",
   "metadata": {},
   "source": [
    "Итоговый SMAPE"
   ]
  },
  {
   "cell_type": "code",
   "execution_count": 30,
   "metadata": {},
   "outputs": [],
   "source": [
    "def complete_smape(smape_rougher,smape_final):\n",
    "    total_smape = .25 * smape_rougher + 0.75 * smape_final\n",
    "    return total_smape"
   ]
  },
  {
   "cell_type": "markdown",
   "metadata": {},
   "source": [
    "Получение целевых и тренеровчных признаков"
   ]
  },
  {
   "cell_type": "code",
   "execution_count": 31,
   "metadata": {},
   "outputs": [],
   "source": [
    "# выборки двумя целивыми признаками\n",
    "features_train = df_train.drop(['rougher.output.recovery','final.output.recovery','date'], axis = 1)\n",
    "target_train_rougher = df_train['rougher.output.recovery']\n",
    "target_train_final = df_train['final.output.recovery']\n",
    "\n",
    "\n",
    "features_test = df_test.drop(['rougher.output.recovery','final.output.recovery','date'], axis = 1)\n",
    "target_test_rougher = df_test['rougher.output.recovery']\n",
    "target_test_final = df_test['final.output.recovery']"
   ]
  },
  {
   "cell_type": "markdown",
   "metadata": {},
   "source": [
    "**Подбор модели обучения**"
   ]
  },
  {
   "cell_type": "markdown",
   "metadata": {},
   "source": [
    "Метрика для оценки модели"
   ]
  },
  {
   "cell_type": "code",
   "execution_count": 32,
   "metadata": {},
   "outputs": [],
   "source": [
    "score_smape = make_scorer(smape, greater_is_better = False)"
   ]
  },
  {
   "cell_type": "markdown",
   "metadata": {},
   "source": [
    "Функция для перебора параметров лучшей модели"
   ]
  },
  {
   "cell_type": "code",
   "execution_count": 33,
   "metadata": {},
   "outputs": [],
   "source": [
    "def best_model(name_model,features,target):\n",
    "    if name_model == 'lin_reg':\n",
    "        parameters =  {'fit_intercept':[True,False]}\n",
    "        grid_model = GridSearchCV(LinearRegression(), parameters,scoring=score_smape, cv=3)\n",
    "        grid_model.fit(features,target)\n",
    "        \n",
    "    if name_model == 'tree':\n",
    "        parameters_tree = {'max_depth':range(2,20),\n",
    "                       'min_samples_leaf': range(1,5)\n",
    "                      }\n",
    "        grid_model = GridSearchCV(DecisionTreeRegressor(random_state = 12345),parameters_tree,scoring=score_smape,cv=3)\n",
    "        grid_model.fit(features,target)\n",
    "    if name_model == 'random_forest':\n",
    "        parameters = { 'n_estimators': range (1, 10, 1), \n",
    "#               'max_depth': range (1,13, 2),\n",
    "#               'min_samples_leaf': range (1,8),\n",
    "#               'min_samples_split': range (2,10,2) \n",
    "                     }\n",
    "        grid_model = GridSearchCV(RandomForestRegressor(random_state = 12345), parameters,scoring=score_smape, cv=3)\n",
    "        grid_model.fit(features,target)\n",
    "    return grid_model"
   ]
  },
  {
   "cell_type": "markdown",
   "metadata": {},
   "source": [
    "**Линейная регреcсия**"
   ]
  },
  {
   "cell_type": "code",
   "execution_count": 34,
   "metadata": {},
   "outputs": [],
   "source": [
    "model_lin_reg_rougher = best_model('lin_reg',features_train,target_train_rougher)\n",
    "model_lin_reg_rougher_predictions = model_lin_reg_rougher.predict(features_train)\n",
    "smape_rougher_lin_reg = smape(model_lin_reg_rougher_predictions, target_train_rougher)\n",
    "\n",
    "model_lin_reg_final = best_model('lin_reg',features_train,target_train_final)\n",
    "model_lin_reg_final_predictions = model_lin_reg_final.predict(features_train)                                \n",
    "smape_final_lin_reg = smape(model_lin_reg_final_predictions,target_train_final)\n",
    "                    \n"
   ]
  },
  {
   "cell_type": "markdown",
   "metadata": {},
   "source": [
    "**Дерево решений**"
   ]
  },
  {
   "cell_type": "code",
   "execution_count": 35,
   "metadata": {},
   "outputs": [],
   "source": [
    "model_tree_rougher = best_model('tree',features_train,target_train_rougher)\n",
    "model_tree_rougher_predictions = model_tree_rougher.predict(features_train)\n",
    "smape_rougher_tree = smape(model_tree_rougher_predictions, target_train_rougher)\n",
    "\n",
    "model_tree_final = best_model('tree',features_train,target_train_final)\n",
    "model_tree_final_predictions = model_tree_final.predict(features_train) \n",
    "smape_final_tree = smape(model_tree_final_predictions,target_train_final)\n",
    "\n"
   ]
  },
  {
   "cell_type": "markdown",
   "metadata": {},
   "source": [
    "**Случайный лес**"
   ]
  },
  {
   "cell_type": "code",
   "execution_count": 36,
   "metadata": {},
   "outputs": [],
   "source": [
    "model_forest_rougher = best_model('random_forest',features_train,target_train_rougher)\n",
    "model_forest_rougher_predictions = model_forest_rougher.predict(features_train)\n",
    "smape_rougher_forest = smape(model_forest_rougher_predictions, target_train_rougher)\n",
    "\n",
    "model_forest_final = best_model('random_forest',features_train,target_train_final)\n",
    "model_forest_final_predictions = model_forest_final.predict(features_train)\n",
    "smape_final_forest = smape(model_forest_final_predictions, target_train_final)"
   ]
  },
  {
   "cell_type": "markdown",
   "metadata": {},
   "source": [
    "**Проверка на адекватность**"
   ]
  },
  {
   "cell_type": "code",
   "execution_count": 37,
   "metadata": {},
   "outputs": [],
   "source": [
    "dummy_reg = DummyRegressor(strategy = 'median')\n",
    "\n",
    "dummy_reg.fit(features_train,target_train_rougher) \n",
    "dummy_predictions_rougher = dummy_reg.predict(features_train)\n",
    "smape_dummy_rougher = smape(dummy_predictions_rougher,target_train_rougher)\n",
    "\n",
    "dummy_reg.fit(features_train,target_train_final) \n",
    "dummy_predictions_final = dummy_reg.predict(features_train)\n",
    "smape_dummy_final = smape(dummy_predictions_final,target_train_final)\n"
   ]
  },
  {
   "cell_type": "code",
   "execution_count": 38,
   "metadata": {},
   "outputs": [
    {
     "data": {
      "text/html": [
       "<div>\n",
       "<style scoped>\n",
       "    .dataframe tbody tr th:only-of-type {\n",
       "        vertical-align: middle;\n",
       "    }\n",
       "\n",
       "    .dataframe tbody tr th {\n",
       "        vertical-align: top;\n",
       "    }\n",
       "\n",
       "    .dataframe thead th {\n",
       "        text-align: right;\n",
       "    }\n",
       "</style>\n",
       "<table border=\"1\" class=\"dataframe\">\n",
       "  <thead>\n",
       "    <tr style=\"text-align: right;\">\n",
       "      <th></th>\n",
       "      <th>линейная регрессия</th>\n",
       "      <th>решающее дерево</th>\n",
       "      <th>случайный лес</th>\n",
       "      <th>предсказание медианой</th>\n",
       "    </tr>\n",
       "  </thead>\n",
       "  <tbody>\n",
       "    <tr>\n",
       "      <th>smape_rougher, %</th>\n",
       "      <td>4.646065</td>\n",
       "      <td>5.55936</td>\n",
       "      <td>1.135902</td>\n",
       "      <td>7.282148</td>\n",
       "    </tr>\n",
       "  </tbody>\n",
       "</table>\n",
       "</div>"
      ],
      "text/plain": [
       "                  линейная регрессия  решающее дерево  случайный лес  \\\n",
       "smape_rougher, %            4.646065          5.55936       1.135902   \n",
       "\n",
       "                  предсказание медианой  \n",
       "smape_rougher, %               7.282148  "
      ]
     },
     "execution_count": 38,
     "metadata": {},
     "output_type": "execute_result"
    }
   ],
   "source": [
    "df_pivite_metrics_rougher =pd.DataFrame({'линейная регрессия':smape_rougher_lin_reg,\n",
    "                                 'решающее дерево':smape_rougher_tree,'случайный лес' : smape_rougher_forest,\n",
    "                                 'предсказание медианой': smape_dummy_rougher\n",
    "                                },\n",
    "             index = ['smape_rougher, %'])\n",
    "\n",
    "df_pivite_metrics_rougher"
   ]
  },
  {
   "cell_type": "code",
   "execution_count": 39,
   "metadata": {},
   "outputs": [
    {
     "data": {
      "text/html": [
       "<div>\n",
       "<style scoped>\n",
       "    .dataframe tbody tr th:only-of-type {\n",
       "        vertical-align: middle;\n",
       "    }\n",
       "\n",
       "    .dataframe tbody tr th {\n",
       "        vertical-align: top;\n",
       "    }\n",
       "\n",
       "    .dataframe thead th {\n",
       "        text-align: right;\n",
       "    }\n",
       "</style>\n",
       "<table border=\"1\" class=\"dataframe\">\n",
       "  <thead>\n",
       "    <tr style=\"text-align: right;\">\n",
       "      <th></th>\n",
       "      <th>линейная регрессия</th>\n",
       "      <th>решающее дерево</th>\n",
       "      <th>случайный лес</th>\n",
       "      <th>предсказание медианой</th>\n",
       "    </tr>\n",
       "  </thead>\n",
       "  <tbody>\n",
       "    <tr>\n",
       "      <th>smape_final, %</th>\n",
       "      <td>8.106729</td>\n",
       "      <td>8.857333</td>\n",
       "      <td>2.606227</td>\n",
       "      <td>10.19686</td>\n",
       "    </tr>\n",
       "  </tbody>\n",
       "</table>\n",
       "</div>"
      ],
      "text/plain": [
       "                линейная регрессия  решающее дерево  случайный лес  \\\n",
       "smape_final, %            8.106729         8.857333       2.606227   \n",
       "\n",
       "                предсказание медианой  \n",
       "smape_final, %               10.19686  "
      ]
     },
     "execution_count": 39,
     "metadata": {},
     "output_type": "execute_result"
    }
   ],
   "source": [
    "df_pivite_metrics_final =pd.DataFrame({'линейная регрессия':smape_final_lin_reg,\n",
    "                                 'решающее дерево':smape_final_tree,'случайный лес' : smape_final_forest,\n",
    "                                 'предсказание медианой': smape_dummy_final\n",
    "                                },\n",
    "             index = ['smape_final, %'])\n",
    "df_pivite_metrics_final"
   ]
  },
  {
   "cell_type": "markdown",
   "metadata": {},
   "source": [
    "**Лучшая модель по метрике SMAPE**"
   ]
  },
  {
   "cell_type": "code",
   "execution_count": 40,
   "metadata": {
    "scrolled": true
   },
   "outputs": [
    {
     "name": "stdout",
     "output_type": "stream",
     "text": [
      "Наилучшее значение метрики SMAPE на этапе концентрата у модели:  случайный лес\n",
      "Наилучшее значение метрики SMAPE финальном этапе у модели:  случайный лес\n"
     ]
    }
   ],
   "source": [
    "print('Наилучшее значение метрики SMAPE на этапе концентрата у модели: ',df_pivite_metrics_rougher.min().idxmin())\n",
    "print('Наилучшее значение метрики SMAPE финальном этапе у модели: ',df_pivite_metrics_final.min().idxmin())"
   ]
  },
  {
   "cell_type": "markdown",
   "metadata": {},
   "source": [
    "**Проверка итоговой метрики SMAPE для тестовой выборки для лучших моделей**"
   ]
  },
  {
   "cell_type": "code",
   "execution_count": 41,
   "metadata": {},
   "outputs": [
    {
     "name": "stdout",
     "output_type": "stream",
     "text": [
      "Полный SMAPE для лучших моделей:   9.615556069270099\n",
      "Полный SMAPE предсказаный константной моделью:   14.391190380844776\n"
     ]
    }
   ],
   "source": [
    "predictions_rougher = model_forest_rougher.predict(features_test)\n",
    "smape_rougher = smape(predictions_rougher,target_test_rougher)\n",
    "\n",
    "predictions_final = model_forest_final.predict(features_test)\n",
    "smape_final = smape(predictions_final,target_test_final)\n",
    "\n",
    "total_smape = complete_smape(smape_rougher,smape_final)\n",
    "\n",
    "\n",
    "dummy_predictions_rougher = dummy_reg.predict(features_test)\n",
    "smape_dummy_rougher = smape(dummy_predictions_rougher,target_test_rougher)\n",
    "\n",
    "dummy_predictions_final = dummy_reg.predict(features_test)\n",
    "smape_dummy_final = smape(dummy_predictions_final,target_test_final)\n",
    "\n",
    "dammy_complete_smape = complete_smape(smape_dummy_rougher,smape_dummy_final)\n",
    "\n",
    "print('Полный SMAPE для лучших моделей:  ',total_smape)\n",
    "print('Полный SMAPE предсказаный константной моделью:  ',dammy_complete_smape)"
   ]
  },
  {
   "cell_type": "markdown",
   "metadata": {},
   "source": [
    "Вывод:\n",
    "* Анализ данных подтвердил эффективность обогащения на уровне теоретического расчета\n",
    "* Выявлены некоторые аномалии (нулевые значения концентрации после обогащения)\n",
    "* Получена модель машинного обучения позволяющая предсказывать концентрацию содержания золота в руде, лучше замены медианным значением\n"
   ]
  },
  {
   "cell_type": "code",
   "execution_count": null,
   "metadata": {},
   "outputs": [],
   "source": []
  }
 ],
 "metadata": {
  "ExecuteTimeLog": [
   {
    "duration": 426,
    "start_time": "2022-12-19T04:24:55.056Z"
   },
   {
    "duration": 520,
    "start_time": "2022-12-19T04:24:57.035Z"
   },
   {
    "duration": 292,
    "start_time": "2022-12-19T04:29:00.791Z"
   },
   {
    "duration": 33,
    "start_time": "2022-12-19T04:30:29.989Z"
   },
   {
    "duration": 27,
    "start_time": "2022-12-19T04:30:42.385Z"
   },
   {
    "duration": 18,
    "start_time": "2022-12-19T04:31:23.767Z"
   },
   {
    "duration": 24,
    "start_time": "2022-12-19T04:32:14.506Z"
   },
   {
    "duration": 11,
    "start_time": "2022-12-19T04:32:22.466Z"
   },
   {
    "duration": 47,
    "start_time": "2022-12-22T03:57:21.625Z"
   },
   {
    "duration": 398,
    "start_time": "2022-12-29T08:16:46.277Z"
   },
   {
    "duration": 864,
    "start_time": "2022-12-29T08:16:46.677Z"
   },
   {
    "duration": 29,
    "start_time": "2022-12-29T08:16:47.543Z"
   },
   {
    "duration": 38,
    "start_time": "2022-12-29T08:16:47.574Z"
   },
   {
    "duration": 11,
    "start_time": "2022-12-29T08:16:52.033Z"
   },
   {
    "duration": 22,
    "start_time": "2022-12-29T08:17:40.742Z"
   },
   {
    "duration": 12,
    "start_time": "2022-12-29T08:20:22.889Z"
   },
   {
    "duration": 10,
    "start_time": "2022-12-29T08:20:53.234Z"
   },
   {
    "duration": 72,
    "start_time": "2022-12-29T08:20:58.580Z"
   },
   {
    "duration": 9,
    "start_time": "2022-12-29T08:21:03.505Z"
   },
   {
    "duration": 12,
    "start_time": "2022-12-29T08:21:12.654Z"
   },
   {
    "duration": 15,
    "start_time": "2022-12-29T08:21:18.985Z"
   },
   {
    "duration": 7,
    "start_time": "2022-12-29T08:24:13.217Z"
   },
   {
    "duration": 2365,
    "start_time": "2022-12-29T08:24:17.627Z"
   },
   {
    "duration": 33,
    "start_time": "2022-12-29T08:24:22.475Z"
   },
   {
    "duration": 7,
    "start_time": "2022-12-29T08:24:41.434Z"
   },
   {
    "duration": 4,
    "start_time": "2022-12-29T08:24:53.009Z"
   },
   {
    "duration": 3,
    "start_time": "2022-12-29T08:25:15.338Z"
   },
   {
    "duration": 4,
    "start_time": "2022-12-29T08:25:41.695Z"
   },
   {
    "duration": 18,
    "start_time": "2022-12-29T08:26:11.914Z"
   },
   {
    "duration": 15,
    "start_time": "2022-12-29T08:26:26.214Z"
   },
   {
    "duration": 13,
    "start_time": "2022-12-29T08:26:49.639Z"
   },
   {
    "duration": 15,
    "start_time": "2022-12-29T08:26:57.175Z"
   },
   {
    "duration": 7,
    "start_time": "2022-12-29T08:27:38.386Z"
   },
   {
    "duration": 7,
    "start_time": "2022-12-29T08:27:48.264Z"
   },
   {
    "duration": 7,
    "start_time": "2022-12-29T08:28:08.467Z"
   },
   {
    "duration": 12,
    "start_time": "2022-12-29T08:28:35.484Z"
   },
   {
    "duration": 9,
    "start_time": "2022-12-29T08:29:35.615Z"
   },
   {
    "duration": 22,
    "start_time": "2022-12-29T08:29:42.074Z"
   },
   {
    "duration": 19,
    "start_time": "2022-12-29T08:29:55.864Z"
   },
   {
    "duration": 25,
    "start_time": "2022-12-29T08:30:04.358Z"
   },
   {
    "duration": 23,
    "start_time": "2022-12-29T08:30:22.684Z"
   },
   {
    "duration": 8,
    "start_time": "2022-12-29T08:30:34.485Z"
   },
   {
    "duration": 29,
    "start_time": "2022-12-29T08:33:58.575Z"
   },
   {
    "duration": 31,
    "start_time": "2022-12-29T08:34:23.925Z"
   },
   {
    "duration": 8,
    "start_time": "2022-12-29T08:35:29.884Z"
   },
   {
    "duration": 11,
    "start_time": "2022-12-29T08:35:42.625Z"
   },
   {
    "duration": 54,
    "start_time": "2022-12-29T08:36:06.364Z"
   },
   {
    "duration": 11,
    "start_time": "2022-12-29T08:36:20.250Z"
   },
   {
    "duration": 15,
    "start_time": "2022-12-29T08:36:49.134Z"
   },
   {
    "duration": 724,
    "start_time": "2022-12-29T08:37:51.254Z"
   },
   {
    "duration": 55,
    "start_time": "2022-12-29T08:38:02.864Z"
   },
   {
    "duration": 49,
    "start_time": "2022-12-29T08:38:20.082Z"
   },
   {
    "duration": 51,
    "start_time": "2022-12-29T08:38:25.744Z"
   },
   {
    "duration": 759,
    "start_time": "2022-12-29T08:38:42.819Z"
   },
   {
    "duration": 14,
    "start_time": "2022-12-29T08:38:51.925Z"
   },
   {
    "duration": 15,
    "start_time": "2022-12-29T08:39:16.825Z"
   },
   {
    "duration": 58,
    "start_time": "2022-12-29T08:40:35.815Z"
   },
   {
    "duration": 16,
    "start_time": "2022-12-29T08:40:41.757Z"
   },
   {
    "duration": 12,
    "start_time": "2022-12-29T08:41:10.742Z"
   },
   {
    "duration": 3,
    "start_time": "2023-01-11T05:44:14.241Z"
   },
   {
    "duration": 4,
    "start_time": "2023-01-11T05:44:28.998Z"
   },
   {
    "duration": 705,
    "start_time": "2023-01-11T05:44:29.005Z"
   },
   {
    "duration": 4,
    "start_time": "2023-01-11T05:44:29.712Z"
   },
   {
    "duration": 17,
    "start_time": "2023-01-11T05:44:29.718Z"
   },
   {
    "duration": 14,
    "start_time": "2023-01-11T05:44:29.737Z"
   },
   {
    "duration": 31,
    "start_time": "2023-01-11T05:44:29.753Z"
   },
   {
    "duration": 46,
    "start_time": "2023-01-11T05:44:29.786Z"
   },
   {
    "duration": 2,
    "start_time": "2023-01-11T05:44:40.910Z"
   },
   {
    "duration": 4,
    "start_time": "2023-01-11T05:45:08.581Z"
   },
   {
    "duration": 682,
    "start_time": "2023-01-11T05:45:08.587Z"
   },
   {
    "duration": 6,
    "start_time": "2023-01-11T05:45:09.272Z"
   },
   {
    "duration": 9,
    "start_time": "2023-01-11T05:45:09.279Z"
   },
   {
    "duration": 9,
    "start_time": "2023-01-11T05:45:09.290Z"
   },
   {
    "duration": 21,
    "start_time": "2023-01-11T05:45:09.301Z"
   },
   {
    "duration": 2,
    "start_time": "2023-01-11T05:45:09.324Z"
   },
   {
    "duration": 20,
    "start_time": "2023-01-11T05:45:09.328Z"
   },
   {
    "duration": 35,
    "start_time": "2023-01-11T05:45:09.350Z"
   },
   {
    "duration": 8,
    "start_time": "2023-01-11T05:45:09.387Z"
   },
   {
    "duration": 31,
    "start_time": "2023-01-11T05:45:09.398Z"
   },
   {
    "duration": 16,
    "start_time": "2023-01-11T05:49:44.022Z"
   },
   {
    "duration": 12,
    "start_time": "2023-01-11T05:50:05.229Z"
   },
   {
    "duration": 6,
    "start_time": "2023-01-11T05:50:15.381Z"
   },
   {
    "duration": 14,
    "start_time": "2023-01-11T05:50:49.037Z"
   },
   {
    "duration": 4,
    "start_time": "2023-01-11T05:50:52.867Z"
   },
   {
    "duration": 700,
    "start_time": "2023-01-11T05:50:52.872Z"
   },
   {
    "duration": 4,
    "start_time": "2023-01-11T05:50:53.574Z"
   },
   {
    "duration": 12,
    "start_time": "2023-01-11T05:50:53.580Z"
   },
   {
    "duration": 11,
    "start_time": "2023-01-11T05:50:53.594Z"
   },
   {
    "duration": 28,
    "start_time": "2023-01-11T05:50:53.607Z"
   },
   {
    "duration": 3,
    "start_time": "2023-01-11T05:50:53.637Z"
   },
   {
    "duration": 26,
    "start_time": "2023-01-11T05:50:53.642Z"
   },
   {
    "duration": 23,
    "start_time": "2023-01-11T05:50:53.670Z"
   },
   {
    "duration": 17,
    "start_time": "2023-01-11T05:50:53.695Z"
   },
   {
    "duration": 29,
    "start_time": "2023-01-11T05:50:53.715Z"
   },
   {
    "duration": 128,
    "start_time": "2023-01-11T05:50:56.263Z"
   },
   {
    "duration": 27,
    "start_time": "2023-01-11T05:50:56.772Z"
   },
   {
    "duration": 5,
    "start_time": "2023-01-11T05:51:04.210Z"
   },
   {
    "duration": 45,
    "start_time": "2023-01-11T05:57:03.236Z"
   },
   {
    "duration": 24,
    "start_time": "2023-01-11T05:57:32.501Z"
   },
   {
    "duration": 27,
    "start_time": "2023-01-11T05:58:44.901Z"
   },
   {
    "duration": 6,
    "start_time": "2023-01-11T06:09:21.620Z"
   },
   {
    "duration": 7,
    "start_time": "2023-01-11T06:09:43.548Z"
   },
   {
    "duration": 41,
    "start_time": "2023-01-11T06:10:31.568Z"
   },
   {
    "duration": 44,
    "start_time": "2023-01-11T06:10:54.801Z"
   },
   {
    "duration": 10,
    "start_time": "2023-01-11T06:11:18.349Z"
   },
   {
    "duration": 8,
    "start_time": "2023-01-11T06:13:11.620Z"
   },
   {
    "duration": 7,
    "start_time": "2023-01-11T06:13:17.809Z"
   },
   {
    "duration": 7,
    "start_time": "2023-01-11T06:13:52.019Z"
   },
   {
    "duration": 1196,
    "start_time": "2023-01-11T06:14:17.679Z"
   },
   {
    "duration": 26,
    "start_time": "2023-01-11T06:14:37.250Z"
   },
   {
    "duration": 10,
    "start_time": "2023-01-11T06:14:46.020Z"
   },
   {
    "duration": 21,
    "start_time": "2023-01-11T06:14:50.980Z"
   },
   {
    "duration": 5,
    "start_time": "2023-01-11T06:15:16.749Z"
   },
   {
    "duration": 29,
    "start_time": "2023-01-11T06:15:52.760Z"
   },
   {
    "duration": 10,
    "start_time": "2023-01-11T06:16:04.740Z"
   },
   {
    "duration": 12,
    "start_time": "2023-01-11T06:16:16.320Z"
   },
   {
    "duration": 5,
    "start_time": "2023-01-11T06:16:31.174Z"
   },
   {
    "duration": 5,
    "start_time": "2023-01-11T06:16:44.660Z"
   },
   {
    "duration": 13,
    "start_time": "2023-01-11T06:18:03.549Z"
   },
   {
    "duration": 7,
    "start_time": "2023-01-11T06:18:44.108Z"
   },
   {
    "duration": 43,
    "start_time": "2023-01-13T00:59:48.312Z"
   },
   {
    "duration": 1419,
    "start_time": "2023-01-13T00:59:53.323Z"
   },
   {
    "duration": 3123,
    "start_time": "2023-01-13T00:59:54.744Z"
   },
   {
    "duration": 6,
    "start_time": "2023-01-13T00:59:57.869Z"
   },
   {
    "duration": 6,
    "start_time": "2023-01-13T00:59:57.877Z"
   },
   {
    "duration": 7,
    "start_time": "2023-01-13T00:59:57.884Z"
   },
   {
    "duration": 19,
    "start_time": "2023-01-13T00:59:57.892Z"
   },
   {
    "duration": 2,
    "start_time": "2023-01-13T00:59:57.913Z"
   },
   {
    "duration": 16,
    "start_time": "2023-01-13T00:59:57.916Z"
   },
   {
    "duration": 12,
    "start_time": "2023-01-13T00:59:57.933Z"
   },
   {
    "duration": 4,
    "start_time": "2023-01-13T00:59:57.947Z"
   },
   {
    "duration": 13,
    "start_time": "2023-01-13T00:59:57.953Z"
   },
   {
    "duration": 5,
    "start_time": "2023-01-13T00:59:57.967Z"
   },
   {
    "duration": 5,
    "start_time": "2023-01-13T00:59:57.973Z"
   },
   {
    "duration": 778,
    "start_time": "2023-01-13T00:59:57.979Z"
   },
   {
    "duration": 0,
    "start_time": "2023-01-13T00:59:58.758Z"
   },
   {
    "duration": 0,
    "start_time": "2023-01-13T00:59:58.759Z"
   },
   {
    "duration": 0,
    "start_time": "2023-01-13T00:59:58.760Z"
   },
   {
    "duration": 47,
    "start_time": "2023-01-13T01:04:02.101Z"
   },
   {
    "duration": 37,
    "start_time": "2023-01-13T01:04:21.701Z"
   },
   {
    "duration": 19,
    "start_time": "2023-01-13T01:05:02.783Z"
   },
   {
    "duration": 9,
    "start_time": "2023-01-13T01:05:56.382Z"
   },
   {
    "duration": 4,
    "start_time": "2023-01-13T01:06:00.742Z"
   },
   {
    "duration": 4,
    "start_time": "2023-01-13T01:06:13.690Z"
   },
   {
    "duration": 4,
    "start_time": "2023-01-13T01:06:43.844Z"
   },
   {
    "duration": 8,
    "start_time": "2023-01-13T01:07:04.891Z"
   },
   {
    "duration": 4,
    "start_time": "2023-01-13T01:07:25.072Z"
   },
   {
    "duration": 17,
    "start_time": "2023-01-13T01:26:51.083Z"
   },
   {
    "duration": 3,
    "start_time": "2023-01-13T02:22:29.019Z"
   },
   {
    "duration": 678,
    "start_time": "2023-01-13T02:22:29.023Z"
   },
   {
    "duration": 4,
    "start_time": "2023-01-13T02:22:29.703Z"
   },
   {
    "duration": 7,
    "start_time": "2023-01-13T02:22:29.708Z"
   },
   {
    "duration": 4,
    "start_time": "2023-01-13T02:22:29.717Z"
   },
   {
    "duration": 20,
    "start_time": "2023-01-13T02:22:29.723Z"
   },
   {
    "duration": 2,
    "start_time": "2023-01-13T02:22:29.745Z"
   },
   {
    "duration": 17,
    "start_time": "2023-01-13T02:22:29.749Z"
   },
   {
    "duration": 12,
    "start_time": "2023-01-13T02:22:29.767Z"
   },
   {
    "duration": 35,
    "start_time": "2023-01-13T02:22:29.781Z"
   },
   {
    "duration": 14,
    "start_time": "2023-01-13T02:22:29.817Z"
   },
   {
    "duration": 11,
    "start_time": "2023-01-13T02:22:29.833Z"
   },
   {
    "duration": 9,
    "start_time": "2023-01-13T02:22:29.846Z"
   },
   {
    "duration": 18,
    "start_time": "2023-01-13T02:22:29.856Z"
   },
   {
    "duration": 11,
    "start_time": "2023-01-13T02:22:29.875Z"
   },
   {
    "duration": 209,
    "start_time": "2023-01-13T02:22:29.887Z"
   },
   {
    "duration": 0,
    "start_time": "2023-01-13T02:22:30.097Z"
   },
   {
    "duration": 0,
    "start_time": "2023-01-13T02:22:30.098Z"
   },
   {
    "duration": 67,
    "start_time": "2023-01-13T02:23:08.130Z"
   },
   {
    "duration": 1373,
    "start_time": "2023-01-13T02:23:34.800Z"
   },
   {
    "duration": 1084,
    "start_time": "2023-01-13T02:24:16.265Z"
   },
   {
    "duration": 100,
    "start_time": "2023-01-13T02:26:25.213Z"
   },
   {
    "duration": 97,
    "start_time": "2023-01-13T02:26:40.191Z"
   },
   {
    "duration": 1355,
    "start_time": "2023-01-13T02:27:06.948Z"
   },
   {
    "duration": 1002,
    "start_time": "2023-01-13T02:28:59.722Z"
   },
   {
    "duration": 5,
    "start_time": "2023-01-13T02:32:05.467Z"
   },
   {
    "duration": 8,
    "start_time": "2023-01-13T02:32:08.427Z"
   },
   {
    "duration": 3,
    "start_time": "2023-01-13T02:34:39.568Z"
   },
   {
    "duration": 4,
    "start_time": "2023-01-13T02:35:28.868Z"
   },
   {
    "duration": 49,
    "start_time": "2023-01-13T02:35:56.276Z"
   },
   {
    "duration": 7,
    "start_time": "2023-01-13T02:36:08.227Z"
   },
   {
    "duration": 5,
    "start_time": "2023-01-13T02:36:16.083Z"
   },
   {
    "duration": 4,
    "start_time": "2023-01-13T02:36:17.274Z"
   },
   {
    "duration": 45,
    "start_time": "2023-01-13T02:37:12.898Z"
   },
   {
    "duration": 4,
    "start_time": "2023-01-13T02:37:38.387Z"
   },
   {
    "duration": 5,
    "start_time": "2023-01-13T02:37:41.096Z"
   },
   {
    "duration": 5,
    "start_time": "2023-01-13T02:38:40.634Z"
   },
   {
    "duration": 5,
    "start_time": "2023-01-13T02:38:54.627Z"
   },
   {
    "duration": 4,
    "start_time": "2023-01-13T02:38:55.986Z"
   },
   {
    "duration": 60,
    "start_time": "2023-01-13T02:39:29.748Z"
   },
   {
    "duration": 4,
    "start_time": "2023-01-13T02:43:09.323Z"
   },
   {
    "duration": 3,
    "start_time": "2023-01-13T02:46:04.097Z"
   },
   {
    "duration": 2,
    "start_time": "2023-01-13T02:46:51.534Z"
   },
   {
    "duration": 705,
    "start_time": "2023-01-13T02:46:51.538Z"
   },
   {
    "duration": 4,
    "start_time": "2023-01-13T02:46:52.244Z"
   },
   {
    "duration": 11,
    "start_time": "2023-01-13T02:46:52.250Z"
   },
   {
    "duration": 10,
    "start_time": "2023-01-13T02:46:52.263Z"
   },
   {
    "duration": 22,
    "start_time": "2023-01-13T02:46:52.274Z"
   },
   {
    "duration": 3,
    "start_time": "2023-01-13T02:46:52.298Z"
   },
   {
    "duration": 23,
    "start_time": "2023-01-13T02:46:52.303Z"
   },
   {
    "duration": 12,
    "start_time": "2023-01-13T02:46:52.329Z"
   },
   {
    "duration": 5,
    "start_time": "2023-01-13T02:46:52.343Z"
   },
   {
    "duration": 17,
    "start_time": "2023-01-13T02:46:52.350Z"
   },
   {
    "duration": 8,
    "start_time": "2023-01-13T02:46:52.368Z"
   },
   {
    "duration": 6,
    "start_time": "2023-01-13T02:46:52.377Z"
   },
   {
    "duration": 65,
    "start_time": "2023-01-13T02:46:52.385Z"
   },
   {
    "duration": 12,
    "start_time": "2023-01-13T02:46:52.452Z"
   },
   {
    "duration": 5,
    "start_time": "2023-01-13T02:46:52.466Z"
   },
   {
    "duration": 7,
    "start_time": "2023-01-13T02:46:52.473Z"
   },
   {
    "duration": 35,
    "start_time": "2023-01-13T02:46:52.482Z"
   },
   {
    "duration": 5,
    "start_time": "2023-01-13T02:46:52.518Z"
   },
   {
    "duration": 3,
    "start_time": "2023-01-13T02:46:53.706Z"
   },
   {
    "duration": 3,
    "start_time": "2023-01-13T02:46:54.627Z"
   },
   {
    "duration": 5,
    "start_time": "2023-01-13T02:48:49.487Z"
   },
   {
    "duration": 7,
    "start_time": "2023-01-13T02:49:27.986Z"
   },
   {
    "duration": 7,
    "start_time": "2023-01-13T02:49:52.576Z"
   },
   {
    "duration": 5,
    "start_time": "2023-01-13T02:49:54.396Z"
   },
   {
    "duration": 652,
    "start_time": "2023-01-13T02:50:08.746Z"
   },
   {
    "duration": 8,
    "start_time": "2023-01-13T03:09:45.424Z"
   },
   {
    "duration": 127,
    "start_time": "2023-01-13T03:09:54.313Z"
   },
   {
    "duration": 4,
    "start_time": "2023-01-13T03:16:45.579Z"
   },
   {
    "duration": 3,
    "start_time": "2023-01-13T03:20:03.088Z"
   },
   {
    "duration": 53,
    "start_time": "2023-01-13T03:21:08.470Z"
   },
   {
    "duration": 851,
    "start_time": "2023-01-13T03:21:17.435Z"
   },
   {
    "duration": 5,
    "start_time": "2023-01-13T03:22:04.083Z"
   },
   {
    "duration": 152,
    "start_time": "2023-01-13T03:22:06.469Z"
   },
   {
    "duration": 173,
    "start_time": "2023-01-13T03:22:54.706Z"
   },
   {
    "duration": 278,
    "start_time": "2023-01-13T03:23:09.330Z"
   },
   {
    "duration": 153,
    "start_time": "2023-01-13T03:24:59.190Z"
   },
   {
    "duration": 226,
    "start_time": "2023-01-13T03:25:13.432Z"
   },
   {
    "duration": 234,
    "start_time": "2023-01-13T03:26:17.589Z"
   },
   {
    "duration": 303,
    "start_time": "2023-01-13T03:27:04.523Z"
   },
   {
    "duration": 267,
    "start_time": "2023-01-13T03:27:51.187Z"
   },
   {
    "duration": 370,
    "start_time": "2023-01-13T03:30:50.865Z"
   },
   {
    "duration": 306,
    "start_time": "2023-01-13T03:32:54.421Z"
   },
   {
    "duration": 292,
    "start_time": "2023-01-13T03:33:41.167Z"
   },
   {
    "duration": 4,
    "start_time": "2023-01-13T03:37:01.941Z"
   },
   {
    "duration": 519,
    "start_time": "2023-01-13T03:37:44.043Z"
   },
   {
    "duration": 654,
    "start_time": "2023-01-13T03:38:41.763Z"
   },
   {
    "duration": 281,
    "start_time": "2023-01-13T03:39:50.034Z"
   },
   {
    "duration": 312,
    "start_time": "2023-01-13T03:40:07.971Z"
   },
   {
    "duration": 44,
    "start_time": "2023-01-13T03:46:21.899Z"
   },
   {
    "duration": 10,
    "start_time": "2023-01-13T03:46:28.649Z"
   },
   {
    "duration": 125,
    "start_time": "2023-01-13T03:47:10.737Z"
   },
   {
    "duration": 4,
    "start_time": "2023-01-13T03:48:02.934Z"
   },
   {
    "duration": 42,
    "start_time": "2023-01-13T03:49:26.812Z"
   },
   {
    "duration": 8,
    "start_time": "2023-01-13T03:49:31.457Z"
   },
   {
    "duration": 3,
    "start_time": "2023-01-13T03:49:34.958Z"
   },
   {
    "duration": 301,
    "start_time": "2023-01-13T03:49:36.587Z"
   },
   {
    "duration": 4,
    "start_time": "2023-01-13T03:50:20.508Z"
   },
   {
    "duration": 428,
    "start_time": "2023-01-13T03:50:22.396Z"
   },
   {
    "duration": 292,
    "start_time": "2023-01-13T03:50:38.674Z"
   },
   {
    "duration": 312,
    "start_time": "2023-01-13T03:51:06.323Z"
   },
   {
    "duration": 277,
    "start_time": "2023-01-13T03:52:54.104Z"
   },
   {
    "duration": 4,
    "start_time": "2023-01-13T03:56:13.512Z"
   },
   {
    "duration": 331,
    "start_time": "2023-01-13T03:56:15.911Z"
   },
   {
    "duration": 3,
    "start_time": "2023-01-13T03:58:02.364Z"
   },
   {
    "duration": 301,
    "start_time": "2023-01-13T03:58:04.670Z"
   },
   {
    "duration": 3,
    "start_time": "2023-01-13T03:58:44.785Z"
   },
   {
    "duration": 743,
    "start_time": "2023-01-13T03:58:45.750Z"
   },
   {
    "duration": 337,
    "start_time": "2023-01-13T03:59:24.710Z"
   },
   {
    "duration": 4,
    "start_time": "2023-01-13T04:00:05.153Z"
   },
   {
    "duration": 370,
    "start_time": "2023-01-13T04:00:06.330Z"
   },
   {
    "duration": 3,
    "start_time": "2023-01-13T04:00:13.271Z"
   },
   {
    "duration": 357,
    "start_time": "2023-01-13T04:00:17.838Z"
   },
   {
    "duration": 375,
    "start_time": "2023-01-13T04:00:51.321Z"
   },
   {
    "duration": 4,
    "start_time": "2023-01-13T04:01:07.571Z"
   },
   {
    "duration": 366,
    "start_time": "2023-01-13T04:01:09.671Z"
   },
   {
    "duration": 345,
    "start_time": "2023-01-13T04:01:12.950Z"
   },
   {
    "duration": 362,
    "start_time": "2023-01-13T04:01:31.830Z"
   },
   {
    "duration": 9,
    "start_time": "2023-01-13T05:04:32.503Z"
   },
   {
    "duration": 4,
    "start_time": "2023-01-13T05:04:39.690Z"
   },
   {
    "duration": 4,
    "start_time": "2023-01-13T05:04:50.412Z"
   },
   {
    "duration": 5,
    "start_time": "2023-01-13T05:07:03.114Z"
   },
   {
    "duration": 5,
    "start_time": "2023-01-13T05:07:26.140Z"
   },
   {
    "duration": 12,
    "start_time": "2023-01-13T05:07:44.059Z"
   },
   {
    "duration": 3,
    "start_time": "2023-01-13T05:09:53.414Z"
   },
   {
    "duration": 53,
    "start_time": "2023-01-13T05:10:42.387Z"
   },
   {
    "duration": 53,
    "start_time": "2023-01-13T05:11:02.294Z"
   },
   {
    "duration": 43,
    "start_time": "2023-01-13T05:11:07.871Z"
   },
   {
    "duration": 51,
    "start_time": "2023-01-13T05:11:16.315Z"
   },
   {
    "duration": 3,
    "start_time": "2023-01-13T05:11:25.358Z"
   },
   {
    "duration": 4,
    "start_time": "2023-01-13T05:13:32.759Z"
   },
   {
    "duration": 4,
    "start_time": "2023-01-13T05:13:45.527Z"
   },
   {
    "duration": 4,
    "start_time": "2023-01-13T05:14:33.584Z"
   },
   {
    "duration": 3,
    "start_time": "2023-01-13T05:14:55.097Z"
   },
   {
    "duration": 121,
    "start_time": "2023-01-13T05:15:54.423Z"
   },
   {
    "duration": 205,
    "start_time": "2023-01-13T05:16:08.775Z"
   },
   {
    "duration": 319,
    "start_time": "2023-01-13T05:16:31.159Z"
   },
   {
    "duration": 9,
    "start_time": "2023-01-13T05:19:41.683Z"
   },
   {
    "duration": 481,
    "start_time": "2023-01-13T05:21:26.142Z"
   },
   {
    "duration": 368,
    "start_time": "2023-01-13T05:21:37.219Z"
   },
   {
    "duration": 375,
    "start_time": "2023-01-13T05:22:12.669Z"
   },
   {
    "duration": 49,
    "start_time": "2023-01-13T05:24:40.837Z"
   },
   {
    "duration": 648,
    "start_time": "2023-01-13T05:25:02.613Z"
   },
   {
    "duration": 361,
    "start_time": "2023-01-13T05:25:28.773Z"
   },
   {
    "duration": 612,
    "start_time": "2023-01-13T05:32:44.444Z"
   },
   {
    "duration": 608,
    "start_time": "2023-01-13T05:33:39.949Z"
   },
   {
    "duration": 631,
    "start_time": "2023-01-13T05:37:22.141Z"
   },
   {
    "duration": 619,
    "start_time": "2023-01-13T05:37:49.844Z"
   },
   {
    "duration": 727,
    "start_time": "2023-01-13T05:38:29.724Z"
   },
   {
    "duration": 810,
    "start_time": "2023-01-13T05:41:05.609Z"
   },
   {
    "duration": 362,
    "start_time": "2023-01-13T05:41:34.285Z"
   },
   {
    "duration": 289,
    "start_time": "2023-01-13T05:42:01.713Z"
   },
   {
    "duration": 602,
    "start_time": "2023-01-13T05:42:19.332Z"
   },
   {
    "duration": 12,
    "start_time": "2023-01-13T05:42:49.660Z"
   },
   {
    "duration": 59,
    "start_time": "2023-01-13T05:45:05.467Z"
   },
   {
    "duration": 46,
    "start_time": "2023-01-13T05:45:17.183Z"
   },
   {
    "duration": 12,
    "start_time": "2023-01-13T05:45:21.568Z"
   },
   {
    "duration": 13,
    "start_time": "2023-01-13T05:45:31.275Z"
   },
   {
    "duration": 20,
    "start_time": "2023-01-13T05:45:38.620Z"
   },
   {
    "duration": 12,
    "start_time": "2023-01-13T05:45:53.926Z"
   },
   {
    "duration": 654,
    "start_time": "2023-01-13T05:47:06.517Z"
   },
   {
    "duration": 769,
    "start_time": "2023-01-13T05:47:20.452Z"
   },
   {
    "duration": 804,
    "start_time": "2023-01-13T05:48:43.524Z"
   },
   {
    "duration": 806,
    "start_time": "2023-01-13T05:48:57.306Z"
   },
   {
    "duration": 822,
    "start_time": "2023-01-13T05:54:49.293Z"
   },
   {
    "duration": 814,
    "start_time": "2023-01-13T05:54:58.094Z"
   },
   {
    "duration": 868,
    "start_time": "2023-01-13T05:57:31.402Z"
   },
   {
    "duration": 10,
    "start_time": "2023-01-13T05:58:16.664Z"
   },
   {
    "duration": 1248,
    "start_time": "2023-01-13T06:00:22.842Z"
   },
   {
    "duration": 1120,
    "start_time": "2023-01-13T06:00:53.848Z"
   },
   {
    "duration": 833,
    "start_time": "2023-01-13T06:03:08.017Z"
   },
   {
    "duration": 1315,
    "start_time": "2023-01-13T06:04:40.867Z"
   },
   {
    "duration": 113,
    "start_time": "2023-01-13T06:08:39.201Z"
   },
   {
    "duration": 861,
    "start_time": "2023-01-13T06:09:05.206Z"
   },
   {
    "duration": 903,
    "start_time": "2023-01-13T06:09:40.973Z"
   },
   {
    "duration": 878,
    "start_time": "2023-01-13T06:10:18.798Z"
   },
   {
    "duration": 1074,
    "start_time": "2023-01-13T06:10:32.274Z"
   },
   {
    "duration": 11,
    "start_time": "2023-01-13T07:00:00.939Z"
   },
   {
    "duration": 846,
    "start_time": "2023-01-13T07:00:33.534Z"
   },
   {
    "duration": 928,
    "start_time": "2023-01-13T07:01:10.218Z"
   },
   {
    "duration": 6,
    "start_time": "2023-01-13T07:02:05.064Z"
   },
   {
    "duration": 8,
    "start_time": "2023-01-13T07:02:58.968Z"
   },
   {
    "duration": 24,
    "start_time": "2023-01-13T07:03:28.973Z"
   },
   {
    "duration": 10,
    "start_time": "2023-01-13T07:03:50.222Z"
   },
   {
    "duration": 10,
    "start_time": "2023-01-13T07:06:14.945Z"
   },
   {
    "duration": 20,
    "start_time": "2023-01-13T07:06:49.594Z"
   },
   {
    "duration": 20,
    "start_time": "2023-01-13T07:10:03.326Z"
   },
   {
    "duration": 7,
    "start_time": "2023-01-13T07:12:29.127Z"
   },
   {
    "duration": 269,
    "start_time": "2023-01-13T07:12:34.077Z"
   },
   {
    "duration": 252,
    "start_time": "2023-01-13T07:14:57.026Z"
   },
   {
    "duration": 60,
    "start_time": "2023-01-13T07:15:13.297Z"
   },
   {
    "duration": 16,
    "start_time": "2023-01-13T07:15:17.644Z"
   },
   {
    "duration": 1007,
    "start_time": "2023-01-13T07:15:25.396Z"
   },
   {
    "duration": 1142,
    "start_time": "2023-01-13T07:16:22.227Z"
   },
   {
    "duration": 941,
    "start_time": "2023-01-13T07:36:49.797Z"
   },
   {
    "duration": 17,
    "start_time": "2023-01-13T07:36:59.384Z"
   },
   {
    "duration": 404,
    "start_time": "2023-01-13T07:37:29.287Z"
   },
   {
    "duration": 796,
    "start_time": "2023-01-13T07:37:49.066Z"
   },
   {
    "duration": 771,
    "start_time": "2023-01-13T07:37:56.598Z"
   },
   {
    "duration": 20,
    "start_time": "2023-01-13T07:38:02.664Z"
   },
   {
    "duration": 374,
    "start_time": "2023-01-13T07:38:18.939Z"
   },
   {
    "duration": 104,
    "start_time": "2023-01-13T07:40:13.867Z"
   },
   {
    "duration": 100,
    "start_time": "2023-01-13T07:40:25.704Z"
   },
   {
    "duration": 1052,
    "start_time": "2023-01-13T07:40:47.386Z"
   },
   {
    "duration": 13,
    "start_time": "2023-01-13T08:00:31.070Z"
   },
   {
    "duration": 399,
    "start_time": "2023-01-13T08:00:40.258Z"
   },
   {
    "duration": 381,
    "start_time": "2023-01-13T08:01:25.359Z"
   },
   {
    "duration": 1341,
    "start_time": "2023-01-13T08:02:36.162Z"
   },
   {
    "duration": 1778,
    "start_time": "2023-01-13T08:03:56.498Z"
   },
   {
    "duration": 1386,
    "start_time": "2023-01-13T08:04:05.722Z"
   },
   {
    "duration": 1620,
    "start_time": "2023-01-13T08:06:04.800Z"
   },
   {
    "duration": 1652,
    "start_time": "2023-01-13T08:06:17.120Z"
   },
   {
    "duration": 2064,
    "start_time": "2023-01-13T08:06:27.480Z"
   },
   {
    "duration": 1595,
    "start_time": "2023-01-13T08:06:34.280Z"
   },
   {
    "duration": 1661,
    "start_time": "2023-01-13T08:06:44.230Z"
   },
   {
    "duration": 17,
    "start_time": "2023-01-13T08:07:45.913Z"
   },
   {
    "duration": 13,
    "start_time": "2023-01-13T08:07:51.422Z"
   },
   {
    "duration": 13,
    "start_time": "2023-01-13T08:08:07.259Z"
   },
   {
    "duration": 1624,
    "start_time": "2023-01-13T08:08:15.961Z"
   },
   {
    "duration": 12,
    "start_time": "2023-01-13T08:08:21.604Z"
   },
   {
    "duration": 13,
    "start_time": "2023-01-13T08:08:28.832Z"
   },
   {
    "duration": 3,
    "start_time": "2023-01-13T08:09:10.301Z"
   },
   {
    "duration": 2245,
    "start_time": "2023-01-13T08:09:15.122Z"
   },
   {
    "duration": 1572,
    "start_time": "2023-01-13T08:09:48.484Z"
   },
   {
    "duration": 1632,
    "start_time": "2023-01-13T08:10:30.884Z"
   },
   {
    "duration": 1648,
    "start_time": "2023-01-13T08:11:33.909Z"
   },
   {
    "duration": 54,
    "start_time": "2023-01-13T08:12:10.203Z"
   },
   {
    "duration": 64,
    "start_time": "2023-01-13T08:12:20.054Z"
   },
   {
    "duration": 47,
    "start_time": "2023-01-13T08:12:25.702Z"
   },
   {
    "duration": 2188,
    "start_time": "2023-01-13T08:12:39.103Z"
   },
   {
    "duration": 1630,
    "start_time": "2023-01-13T08:12:54.250Z"
   },
   {
    "duration": 1616,
    "start_time": "2023-01-13T08:14:14.253Z"
   },
   {
    "duration": 2426,
    "start_time": "2023-01-13T08:15:01.906Z"
   },
   {
    "duration": 990,
    "start_time": "2023-01-13T08:15:46.003Z"
   },
   {
    "duration": 1626,
    "start_time": "2023-01-13T08:15:59.323Z"
   },
   {
    "duration": 1041,
    "start_time": "2023-01-13T08:16:44.648Z"
   },
   {
    "duration": 1312,
    "start_time": "2023-01-13T08:17:19.664Z"
   },
   {
    "duration": 1593,
    "start_time": "2023-01-13T08:19:00.184Z"
   },
   {
    "duration": 7,
    "start_time": "2023-01-13T08:37:48.563Z"
   },
   {
    "duration": 4,
    "start_time": "2023-01-13T08:37:56.165Z"
   },
   {
    "duration": 1639,
    "start_time": "2023-01-15T11:01:09.512Z"
   },
   {
    "duration": 2123,
    "start_time": "2023-01-15T11:01:11.153Z"
   },
   {
    "duration": 6,
    "start_time": "2023-01-15T11:01:13.277Z"
   },
   {
    "duration": 9,
    "start_time": "2023-01-15T11:01:13.285Z"
   },
   {
    "duration": 4,
    "start_time": "2023-01-15T11:01:13.297Z"
   },
   {
    "duration": 22,
    "start_time": "2023-01-15T11:01:13.303Z"
   },
   {
    "duration": 2,
    "start_time": "2023-01-15T11:01:13.327Z"
   },
   {
    "duration": 22,
    "start_time": "2023-01-15T11:01:13.331Z"
   },
   {
    "duration": 14,
    "start_time": "2023-01-15T11:01:13.354Z"
   },
   {
    "duration": 5,
    "start_time": "2023-01-15T11:01:13.370Z"
   },
   {
    "duration": 17,
    "start_time": "2023-01-15T11:01:13.377Z"
   },
   {
    "duration": 9,
    "start_time": "2023-01-15T11:01:13.396Z"
   },
   {
    "duration": 5,
    "start_time": "2023-01-15T11:01:13.407Z"
   },
   {
    "duration": 84,
    "start_time": "2023-01-15T11:01:13.415Z"
   },
   {
    "duration": 15,
    "start_time": "2023-01-15T11:01:13.501Z"
   },
   {
    "duration": 6,
    "start_time": "2023-01-15T11:01:13.518Z"
   },
   {
    "duration": 10,
    "start_time": "2023-01-15T11:01:13.525Z"
   },
   {
    "duration": 17,
    "start_time": "2023-01-15T11:01:13.536Z"
   },
   {
    "duration": 9,
    "start_time": "2023-01-15T11:01:13.555Z"
   },
   {
    "duration": 7,
    "start_time": "2023-01-15T11:01:13.566Z"
   },
   {
    "duration": 11,
    "start_time": "2023-01-15T11:01:13.574Z"
   },
   {
    "duration": 9,
    "start_time": "2023-01-15T11:01:13.586Z"
   },
   {
    "duration": 1240,
    "start_time": "2023-01-15T11:01:13.596Z"
   },
   {
    "duration": 0,
    "start_time": "2023-01-15T11:01:14.838Z"
   },
   {
    "duration": 0,
    "start_time": "2023-01-15T11:01:14.840Z"
   },
   {
    "duration": 0,
    "start_time": "2023-01-15T11:01:14.841Z"
   },
   {
    "duration": 0,
    "start_time": "2023-01-15T11:01:14.842Z"
   },
   {
    "duration": 0,
    "start_time": "2023-01-15T11:01:14.843Z"
   },
   {
    "duration": 0,
    "start_time": "2023-01-15T11:01:14.844Z"
   },
   {
    "duration": 0,
    "start_time": "2023-01-15T11:01:14.845Z"
   },
   {
    "duration": 0,
    "start_time": "2023-01-15T11:01:14.846Z"
   },
   {
    "duration": 0,
    "start_time": "2023-01-15T11:01:14.847Z"
   },
   {
    "duration": 0,
    "start_time": "2023-01-15T11:01:14.848Z"
   },
   {
    "duration": 0,
    "start_time": "2023-01-15T11:01:14.849Z"
   },
   {
    "duration": 0,
    "start_time": "2023-01-15T11:01:14.850Z"
   },
   {
    "duration": 0,
    "start_time": "2023-01-15T11:01:14.852Z"
   },
   {
    "duration": 0,
    "start_time": "2023-01-15T11:01:14.853Z"
   },
   {
    "duration": 0,
    "start_time": "2023-01-15T11:01:14.854Z"
   },
   {
    "duration": 4,
    "start_time": "2023-01-15T13:08:11.984Z"
   },
   {
    "duration": 778,
    "start_time": "2023-01-15T13:08:11.990Z"
   },
   {
    "duration": 4,
    "start_time": "2023-01-15T13:08:12.770Z"
   },
   {
    "duration": 9,
    "start_time": "2023-01-15T13:08:12.775Z"
   },
   {
    "duration": 5,
    "start_time": "2023-01-15T13:08:12.787Z"
   },
   {
    "duration": 20,
    "start_time": "2023-01-15T13:08:12.793Z"
   },
   {
    "duration": 3,
    "start_time": "2023-01-15T13:08:12.815Z"
   },
   {
    "duration": 35,
    "start_time": "2023-01-15T13:08:12.819Z"
   },
   {
    "duration": 13,
    "start_time": "2023-01-15T13:08:12.856Z"
   },
   {
    "duration": 6,
    "start_time": "2023-01-15T13:08:12.870Z"
   },
   {
    "duration": 16,
    "start_time": "2023-01-15T13:08:12.880Z"
   },
   {
    "duration": 10,
    "start_time": "2023-01-15T13:08:12.898Z"
   },
   {
    "duration": 9,
    "start_time": "2023-01-15T13:08:12.910Z"
   },
   {
    "duration": 70,
    "start_time": "2023-01-15T13:08:12.921Z"
   },
   {
    "duration": 13,
    "start_time": "2023-01-15T13:08:12.994Z"
   },
   {
    "duration": 9,
    "start_time": "2023-01-15T13:08:13.009Z"
   },
   {
    "duration": 33,
    "start_time": "2023-01-15T13:08:13.020Z"
   },
   {
    "duration": 5,
    "start_time": "2023-01-15T13:08:13.054Z"
   },
   {
    "duration": 12,
    "start_time": "2023-01-15T13:08:13.061Z"
   },
   {
    "duration": 5,
    "start_time": "2023-01-15T13:08:13.075Z"
   },
   {
    "duration": 14,
    "start_time": "2023-01-15T13:08:13.082Z"
   },
   {
    "duration": 15,
    "start_time": "2023-01-15T13:08:13.098Z"
   },
   {
    "duration": 1142,
    "start_time": "2023-01-15T13:08:13.115Z"
   },
   {
    "duration": 0,
    "start_time": "2023-01-15T13:08:14.259Z"
   },
   {
    "duration": 0,
    "start_time": "2023-01-15T13:08:14.260Z"
   },
   {
    "duration": 0,
    "start_time": "2023-01-15T13:08:14.261Z"
   },
   {
    "duration": 0,
    "start_time": "2023-01-15T13:08:14.262Z"
   },
   {
    "duration": 0,
    "start_time": "2023-01-15T13:08:14.263Z"
   },
   {
    "duration": 0,
    "start_time": "2023-01-15T13:08:14.264Z"
   },
   {
    "duration": 0,
    "start_time": "2023-01-15T13:08:14.265Z"
   },
   {
    "duration": 0,
    "start_time": "2023-01-15T13:08:14.266Z"
   },
   {
    "duration": 0,
    "start_time": "2023-01-15T13:08:14.267Z"
   },
   {
    "duration": 0,
    "start_time": "2023-01-15T13:08:14.268Z"
   },
   {
    "duration": 0,
    "start_time": "2023-01-15T13:08:14.269Z"
   },
   {
    "duration": 0,
    "start_time": "2023-01-15T13:08:14.270Z"
   },
   {
    "duration": 0,
    "start_time": "2023-01-15T13:08:14.271Z"
   },
   {
    "duration": 0,
    "start_time": "2023-01-15T13:08:14.273Z"
   },
   {
    "duration": 0,
    "start_time": "2023-01-15T13:08:14.274Z"
   },
   {
    "duration": 0,
    "start_time": "2023-01-15T13:08:14.275Z"
   },
   {
    "duration": 0,
    "start_time": "2023-01-15T13:08:14.276Z"
   },
   {
    "duration": 0,
    "start_time": "2023-01-15T13:08:14.277Z"
   },
   {
    "duration": 3,
    "start_time": "2023-01-15T13:08:42.648Z"
   },
   {
    "duration": 751,
    "start_time": "2023-01-15T13:08:42.653Z"
   },
   {
    "duration": 4,
    "start_time": "2023-01-15T13:08:43.406Z"
   },
   {
    "duration": 7,
    "start_time": "2023-01-15T13:08:43.411Z"
   },
   {
    "duration": 11,
    "start_time": "2023-01-15T13:08:43.420Z"
   },
   {
    "duration": 32,
    "start_time": "2023-01-15T13:08:43.432Z"
   },
   {
    "duration": 3,
    "start_time": "2023-01-15T13:08:43.465Z"
   },
   {
    "duration": 18,
    "start_time": "2023-01-15T13:08:43.469Z"
   },
   {
    "duration": 13,
    "start_time": "2023-01-15T13:08:43.489Z"
   },
   {
    "duration": 5,
    "start_time": "2023-01-15T13:08:43.504Z"
   },
   {
    "duration": 46,
    "start_time": "2023-01-15T13:08:43.512Z"
   },
   {
    "duration": 7,
    "start_time": "2023-01-15T13:08:43.560Z"
   },
   {
    "duration": 5,
    "start_time": "2023-01-15T13:08:43.568Z"
   },
   {
    "duration": 47,
    "start_time": "2023-01-15T13:08:43.574Z"
   },
   {
    "duration": 32,
    "start_time": "2023-01-15T13:08:43.623Z"
   },
   {
    "duration": 6,
    "start_time": "2023-01-15T13:08:43.657Z"
   },
   {
    "duration": 8,
    "start_time": "2023-01-15T13:08:43.664Z"
   },
   {
    "duration": 6,
    "start_time": "2023-01-15T13:08:43.674Z"
   },
   {
    "duration": 5,
    "start_time": "2023-01-15T13:08:43.682Z"
   },
   {
    "duration": 7,
    "start_time": "2023-01-15T13:08:43.688Z"
   },
   {
    "duration": 8,
    "start_time": "2023-01-15T13:08:43.697Z"
   },
   {
    "duration": 10,
    "start_time": "2023-01-15T13:08:43.707Z"
   },
   {
    "duration": 6,
    "start_time": "2023-01-15T13:08:43.719Z"
   },
   {
    "duration": 83,
    "start_time": "2023-01-15T13:08:43.751Z"
   },
   {
    "duration": 21,
    "start_time": "2023-01-15T13:08:43.836Z"
   },
   {
    "duration": 0,
    "start_time": "2023-01-15T13:08:43.859Z"
   },
   {
    "duration": 0,
    "start_time": "2023-01-15T13:08:43.860Z"
   },
   {
    "duration": 0,
    "start_time": "2023-01-15T13:08:43.862Z"
   },
   {
    "duration": 0,
    "start_time": "2023-01-15T13:08:43.863Z"
   },
   {
    "duration": 0,
    "start_time": "2023-01-15T13:08:43.865Z"
   },
   {
    "duration": 0,
    "start_time": "2023-01-15T13:08:43.866Z"
   },
   {
    "duration": 0,
    "start_time": "2023-01-15T13:08:43.867Z"
   },
   {
    "duration": 0,
    "start_time": "2023-01-15T13:08:43.868Z"
   },
   {
    "duration": 0,
    "start_time": "2023-01-15T13:08:43.869Z"
   },
   {
    "duration": 0,
    "start_time": "2023-01-15T13:08:43.870Z"
   },
   {
    "duration": 0,
    "start_time": "2023-01-15T13:08:43.871Z"
   },
   {
    "duration": 0,
    "start_time": "2023-01-15T13:08:43.871Z"
   },
   {
    "duration": 0,
    "start_time": "2023-01-15T13:08:43.872Z"
   },
   {
    "duration": 1527,
    "start_time": "2023-01-15T13:09:28.298Z"
   },
   {
    "duration": 843,
    "start_time": "2023-01-15T13:09:29.828Z"
   },
   {
    "duration": 22,
    "start_time": "2023-01-15T13:09:30.673Z"
   },
   {
    "duration": 68,
    "start_time": "2023-01-15T13:09:30.697Z"
   },
   {
    "duration": 59,
    "start_time": "2023-01-15T13:09:30.768Z"
   },
   {
    "duration": 77,
    "start_time": "2023-01-15T13:09:30.828Z"
   },
   {
    "duration": 63,
    "start_time": "2023-01-15T13:09:30.907Z"
   },
   {
    "duration": 66,
    "start_time": "2023-01-15T13:09:30.972Z"
   },
   {
    "duration": 90,
    "start_time": "2023-01-15T13:09:31.040Z"
   },
   {
    "duration": 70,
    "start_time": "2023-01-15T13:09:31.132Z"
   },
   {
    "duration": 60,
    "start_time": "2023-01-15T13:09:31.204Z"
   },
   {
    "duration": 29,
    "start_time": "2023-01-15T13:09:31.266Z"
   },
   {
    "duration": 23,
    "start_time": "2023-01-15T13:09:31.297Z"
   },
   {
    "duration": 73,
    "start_time": "2023-01-15T13:09:31.324Z"
   },
   {
    "duration": 22,
    "start_time": "2023-01-15T13:09:31.399Z"
   },
   {
    "duration": 42,
    "start_time": "2023-01-15T13:09:31.423Z"
   },
   {
    "duration": 42,
    "start_time": "2023-01-15T13:09:31.467Z"
   },
   {
    "duration": 35,
    "start_time": "2023-01-15T13:09:31.511Z"
   },
   {
    "duration": 47,
    "start_time": "2023-01-15T13:09:31.548Z"
   },
   {
    "duration": 24,
    "start_time": "2023-01-15T13:09:31.597Z"
   },
   {
    "duration": 25,
    "start_time": "2023-01-15T13:09:31.624Z"
   },
   {
    "duration": 35,
    "start_time": "2023-01-15T13:09:31.651Z"
   },
   {
    "duration": 51,
    "start_time": "2023-01-15T13:09:31.689Z"
   },
   {
    "duration": 113,
    "start_time": "2023-01-15T13:09:31.744Z"
   },
   {
    "duration": 176,
    "start_time": "2023-01-15T13:09:31.859Z"
   },
   {
    "duration": 0,
    "start_time": "2023-01-15T13:09:32.038Z"
   },
   {
    "duration": 0,
    "start_time": "2023-01-15T13:09:32.039Z"
   },
   {
    "duration": 0,
    "start_time": "2023-01-15T13:09:32.041Z"
   },
   {
    "duration": 0,
    "start_time": "2023-01-15T13:09:32.051Z"
   },
   {
    "duration": 0,
    "start_time": "2023-01-15T13:09:32.053Z"
   },
   {
    "duration": 0,
    "start_time": "2023-01-15T13:09:32.055Z"
   },
   {
    "duration": 0,
    "start_time": "2023-01-15T13:09:32.056Z"
   },
   {
    "duration": 0,
    "start_time": "2023-01-15T13:09:32.057Z"
   },
   {
    "duration": 0,
    "start_time": "2023-01-15T13:09:32.059Z"
   },
   {
    "duration": 0,
    "start_time": "2023-01-15T13:09:32.060Z"
   },
   {
    "duration": 0,
    "start_time": "2023-01-15T13:09:32.064Z"
   },
   {
    "duration": 0,
    "start_time": "2023-01-15T13:09:32.065Z"
   },
   {
    "duration": 0,
    "start_time": "2023-01-15T13:09:32.067Z"
   },
   {
    "duration": 30,
    "start_time": "2023-01-15T13:10:00.603Z"
   },
   {
    "duration": 1163,
    "start_time": "2023-01-15T13:10:14.578Z"
   },
   {
    "duration": 9,
    "start_time": "2023-01-15T13:17:48.111Z"
   },
   {
    "duration": 42,
    "start_time": "2023-01-15T13:18:16.617Z"
   },
   {
    "duration": 9,
    "start_time": "2023-01-15T13:18:24.453Z"
   },
   {
    "duration": 4,
    "start_time": "2023-01-15T13:18:32.550Z"
   },
   {
    "duration": 4,
    "start_time": "2023-01-15T13:18:37.636Z"
   },
   {
    "duration": 11,
    "start_time": "2023-01-15T13:21:07.487Z"
   },
   {
    "duration": 37,
    "start_time": "2023-01-15T13:25:02.637Z"
   },
   {
    "duration": 13,
    "start_time": "2023-01-15T13:26:06.033Z"
   },
   {
    "duration": 10,
    "start_time": "2023-01-15T13:26:15.514Z"
   },
   {
    "duration": 4,
    "start_time": "2023-01-15T13:26:22.725Z"
   },
   {
    "duration": 1470,
    "start_time": "2023-01-15T13:26:55.473Z"
   },
   {
    "duration": 749,
    "start_time": "2023-01-15T13:26:56.945Z"
   },
   {
    "duration": 6,
    "start_time": "2023-01-15T13:26:57.696Z"
   },
   {
    "duration": 10,
    "start_time": "2023-01-15T13:26:57.703Z"
   },
   {
    "duration": 10,
    "start_time": "2023-01-15T13:26:57.716Z"
   },
   {
    "duration": 38,
    "start_time": "2023-01-15T13:26:57.728Z"
   },
   {
    "duration": 2,
    "start_time": "2023-01-15T13:26:57.768Z"
   },
   {
    "duration": 22,
    "start_time": "2023-01-15T13:26:57.772Z"
   },
   {
    "duration": 15,
    "start_time": "2023-01-15T13:26:57.795Z"
   },
   {
    "duration": 6,
    "start_time": "2023-01-15T13:26:57.812Z"
   },
   {
    "duration": 40,
    "start_time": "2023-01-15T13:26:57.820Z"
   },
   {
    "duration": 9,
    "start_time": "2023-01-15T13:26:57.862Z"
   },
   {
    "duration": 6,
    "start_time": "2023-01-15T13:26:57.873Z"
   },
   {
    "duration": 78,
    "start_time": "2023-01-15T13:26:57.883Z"
   },
   {
    "duration": 16,
    "start_time": "2023-01-15T13:26:57.962Z"
   },
   {
    "duration": 8,
    "start_time": "2023-01-15T13:26:57.980Z"
   },
   {
    "duration": 10,
    "start_time": "2023-01-15T13:26:57.990Z"
   },
   {
    "duration": 9,
    "start_time": "2023-01-15T13:26:58.001Z"
   },
   {
    "duration": 8,
    "start_time": "2023-01-15T13:26:58.012Z"
   },
   {
    "duration": 29,
    "start_time": "2023-01-15T13:26:58.022Z"
   },
   {
    "duration": 13,
    "start_time": "2023-01-15T13:26:58.053Z"
   },
   {
    "duration": 11,
    "start_time": "2023-01-15T13:26:58.068Z"
   },
   {
    "duration": 105,
    "start_time": "2023-01-15T13:26:58.081Z"
   },
   {
    "duration": 14,
    "start_time": "2023-01-15T13:26:58.189Z"
   },
   {
    "duration": 56,
    "start_time": "2023-01-15T13:26:58.205Z"
   },
   {
    "duration": 35,
    "start_time": "2023-01-15T13:26:58.263Z"
   },
   {
    "duration": 3,
    "start_time": "2023-01-15T13:26:58.300Z"
   },
   {
    "duration": 15,
    "start_time": "2023-01-15T13:26:58.305Z"
   },
   {
    "duration": 7,
    "start_time": "2023-01-15T13:26:58.322Z"
   },
   {
    "duration": 443,
    "start_time": "2023-01-15T13:26:58.331Z"
   },
   {
    "duration": 545,
    "start_time": "2023-01-15T13:26:58.775Z"
   },
   {
    "duration": 532,
    "start_time": "2023-01-15T13:26:59.322Z"
   },
   {
    "duration": 386,
    "start_time": "2023-01-15T13:26:59.857Z"
   },
   {
    "duration": 6,
    "start_time": "2023-01-15T13:27:00.245Z"
   },
   {
    "duration": 437,
    "start_time": "2023-01-15T13:27:00.253Z"
   },
   {
    "duration": 970,
    "start_time": "2023-01-15T13:27:00.692Z"
   },
   {
    "duration": 10,
    "start_time": "2023-01-15T13:27:01.665Z"
   },
   {
    "duration": 57,
    "start_time": "2023-01-15T13:27:01.677Z"
   },
   {
    "duration": 578,
    "start_time": "2023-01-15T13:27:01.736Z"
   },
   {
    "duration": 580,
    "start_time": "2023-01-15T13:27:10.715Z"
   },
   {
    "duration": 3,
    "start_time": "2023-01-15T13:29:29.441Z"
   },
   {
    "duration": 821,
    "start_time": "2023-01-15T13:29:29.447Z"
   },
   {
    "duration": 6,
    "start_time": "2023-01-15T13:29:30.270Z"
   },
   {
    "duration": 13,
    "start_time": "2023-01-15T13:29:30.279Z"
   },
   {
    "duration": 13,
    "start_time": "2023-01-15T13:29:30.296Z"
   },
   {
    "duration": 31,
    "start_time": "2023-01-15T13:29:30.311Z"
   },
   {
    "duration": 3,
    "start_time": "2023-01-15T13:29:30.351Z"
   },
   {
    "duration": 24,
    "start_time": "2023-01-15T13:29:30.356Z"
   },
   {
    "duration": 14,
    "start_time": "2023-01-15T13:29:30.382Z"
   },
   {
    "duration": 6,
    "start_time": "2023-01-15T13:29:30.398Z"
   },
   {
    "duration": 27,
    "start_time": "2023-01-15T13:29:30.405Z"
   },
   {
    "duration": 22,
    "start_time": "2023-01-15T13:29:30.434Z"
   },
   {
    "duration": 13,
    "start_time": "2023-01-15T13:29:30.458Z"
   },
   {
    "duration": 67,
    "start_time": "2023-01-15T13:29:30.475Z"
   },
   {
    "duration": 13,
    "start_time": "2023-01-15T13:29:30.544Z"
   },
   {
    "duration": 6,
    "start_time": "2023-01-15T13:29:30.560Z"
   },
   {
    "duration": 20,
    "start_time": "2023-01-15T13:29:30.568Z"
   },
   {
    "duration": 12,
    "start_time": "2023-01-15T13:29:30.590Z"
   },
   {
    "duration": 23,
    "start_time": "2023-01-15T13:29:30.604Z"
   },
   {
    "duration": 10,
    "start_time": "2023-01-15T13:29:30.629Z"
   },
   {
    "duration": 15,
    "start_time": "2023-01-15T13:29:30.641Z"
   },
   {
    "duration": 12,
    "start_time": "2023-01-15T13:29:30.658Z"
   },
   {
    "duration": 108,
    "start_time": "2023-01-15T13:29:30.674Z"
   },
   {
    "duration": 16,
    "start_time": "2023-01-15T13:29:30.784Z"
   },
   {
    "duration": 9,
    "start_time": "2023-01-15T13:29:30.802Z"
   },
   {
    "duration": 20,
    "start_time": "2023-01-15T13:29:30.812Z"
   },
   {
    "duration": 22,
    "start_time": "2023-01-15T13:29:30.834Z"
   },
   {
    "duration": 441,
    "start_time": "2023-01-15T13:29:30.858Z"
   },
   {
    "duration": 405,
    "start_time": "2023-01-15T13:29:31.301Z"
   },
   {
    "duration": 411,
    "start_time": "2023-01-15T13:29:31.707Z"
   },
   {
    "duration": 371,
    "start_time": "2023-01-15T13:29:32.120Z"
   },
   {
    "duration": 4,
    "start_time": "2023-01-15T13:29:32.493Z"
   },
   {
    "duration": 531,
    "start_time": "2023-01-15T13:29:32.498Z"
   },
   {
    "duration": 912,
    "start_time": "2023-01-15T13:29:33.031Z"
   },
   {
    "duration": 10,
    "start_time": "2023-01-15T13:29:33.945Z"
   },
   {
    "duration": 48,
    "start_time": "2023-01-15T13:29:33.957Z"
   },
   {
    "duration": 387,
    "start_time": "2023-01-15T13:29:34.007Z"
   },
   {
    "duration": 1451,
    "start_time": "2023-01-15T13:30:30.284Z"
   },
   {
    "duration": 1522,
    "start_time": "2023-01-15T13:31:10.693Z"
   },
   {
    "duration": 14,
    "start_time": "2023-01-15T13:34:39.107Z"
   },
   {
    "duration": 16,
    "start_time": "2023-01-15T13:34:45.281Z"
   },
   {
    "duration": 23,
    "start_time": "2023-01-15T13:34:55.560Z"
   },
   {
    "duration": 24,
    "start_time": "2023-01-15T13:35:38.213Z"
   },
   {
    "duration": 2222,
    "start_time": "2023-01-15T13:36:25.325Z"
   },
   {
    "duration": 1946,
    "start_time": "2023-01-15T13:36:41.446Z"
   },
   {
    "duration": 2205,
    "start_time": "2023-01-15T13:36:53.040Z"
   },
   {
    "duration": 14,
    "start_time": "2023-01-15T13:37:46.080Z"
   },
   {
    "duration": 17,
    "start_time": "2023-01-15T13:37:54.235Z"
   },
   {
    "duration": 1543,
    "start_time": "2023-01-15T13:39:05.293Z"
   },
   {
    "duration": 7,
    "start_time": "2023-01-15T13:45:18.693Z"
   },
   {
    "duration": 3,
    "start_time": "2023-01-15T13:45:50.509Z"
   },
   {
    "duration": 4,
    "start_time": "2023-01-15T14:44:52.000Z"
   },
   {
    "duration": 748,
    "start_time": "2023-01-15T14:44:52.007Z"
   },
   {
    "duration": 4,
    "start_time": "2023-01-15T14:44:52.757Z"
   },
   {
    "duration": 8,
    "start_time": "2023-01-15T14:44:52.763Z"
   },
   {
    "duration": 7,
    "start_time": "2023-01-15T14:44:52.773Z"
   },
   {
    "duration": 29,
    "start_time": "2023-01-15T14:44:52.782Z"
   },
   {
    "duration": 3,
    "start_time": "2023-01-15T14:44:52.813Z"
   },
   {
    "duration": 38,
    "start_time": "2023-01-15T14:44:52.817Z"
   },
   {
    "duration": 13,
    "start_time": "2023-01-15T14:44:52.858Z"
   },
   {
    "duration": 11,
    "start_time": "2023-01-15T14:44:52.872Z"
   },
   {
    "duration": 23,
    "start_time": "2023-01-15T14:44:52.884Z"
   },
   {
    "duration": 11,
    "start_time": "2023-01-15T14:44:52.909Z"
   },
   {
    "duration": 8,
    "start_time": "2023-01-15T14:44:52.922Z"
   },
   {
    "duration": 67,
    "start_time": "2023-01-15T14:44:52.932Z"
   },
   {
    "duration": 14,
    "start_time": "2023-01-15T14:44:53.001Z"
   },
   {
    "duration": 7,
    "start_time": "2023-01-15T14:44:53.017Z"
   },
   {
    "duration": 28,
    "start_time": "2023-01-15T14:44:53.026Z"
   },
   {
    "duration": 15,
    "start_time": "2023-01-15T14:44:53.056Z"
   },
   {
    "duration": 16,
    "start_time": "2023-01-15T14:44:53.073Z"
   },
   {
    "duration": 15,
    "start_time": "2023-01-15T14:44:53.091Z"
   },
   {
    "duration": 19,
    "start_time": "2023-01-15T14:44:53.108Z"
   },
   {
    "duration": 23,
    "start_time": "2023-01-15T14:44:53.130Z"
   },
   {
    "duration": 89,
    "start_time": "2023-01-15T14:44:53.156Z"
   },
   {
    "duration": 9,
    "start_time": "2023-01-15T14:44:53.248Z"
   },
   {
    "duration": 14,
    "start_time": "2023-01-15T14:44:53.258Z"
   },
   {
    "duration": 14,
    "start_time": "2023-01-15T14:44:53.274Z"
   },
   {
    "duration": 6,
    "start_time": "2023-01-15T14:44:53.289Z"
   },
   {
    "duration": 470,
    "start_time": "2023-01-15T14:44:53.296Z"
   },
   {
    "duration": 496,
    "start_time": "2023-01-15T14:44:53.768Z"
   },
   {
    "duration": 493,
    "start_time": "2023-01-15T14:44:54.266Z"
   },
   {
    "duration": 398,
    "start_time": "2023-01-15T14:44:54.761Z"
   },
   {
    "duration": 5,
    "start_time": "2023-01-15T14:44:55.161Z"
   },
   {
    "duration": 558,
    "start_time": "2023-01-15T14:44:55.168Z"
   },
   {
    "duration": 997,
    "start_time": "2023-01-15T14:44:55.727Z"
   },
   {
    "duration": 8,
    "start_time": "2023-01-15T14:44:56.726Z"
   },
   {
    "duration": 41,
    "start_time": "2023-01-15T14:44:56.735Z"
   },
   {
    "duration": 2,
    "start_time": "2023-01-15T14:44:56.778Z"
   },
   {
    "duration": 1910,
    "start_time": "2023-01-15T14:44:56.782Z"
   },
   {
    "duration": 7,
    "start_time": "2023-01-15T14:44:58.693Z"
   },
   {
    "duration": 6,
    "start_time": "2023-01-15T14:44:58.701Z"
   },
   {
    "duration": 21,
    "start_time": "2023-01-15T14:44:58.709Z"
   },
   {
    "duration": 0,
    "start_time": "2023-01-15T14:44:58.732Z"
   },
   {
    "duration": 24,
    "start_time": "2023-01-15T14:45:31.213Z"
   },
   {
    "duration": 15,
    "start_time": "2023-01-15T14:46:56.428Z"
   },
   {
    "duration": 14,
    "start_time": "2023-01-15T14:47:55.469Z"
   },
   {
    "duration": 12,
    "start_time": "2023-01-15T14:49:03.796Z"
   },
   {
    "duration": 41,
    "start_time": "2023-01-15T14:49:29.128Z"
   },
   {
    "duration": 16,
    "start_time": "2023-01-15T14:49:50.575Z"
   },
   {
    "duration": 13,
    "start_time": "2023-01-15T14:50:27.600Z"
   },
   {
    "duration": 20,
    "start_time": "2023-01-15T14:51:03.254Z"
   },
   {
    "duration": 4,
    "start_time": "2023-01-15T14:51:51.649Z"
   },
   {
    "duration": 759,
    "start_time": "2023-01-15T14:51:51.655Z"
   },
   {
    "duration": 5,
    "start_time": "2023-01-15T14:51:52.417Z"
   },
   {
    "duration": 10,
    "start_time": "2023-01-15T14:51:52.424Z"
   },
   {
    "duration": 16,
    "start_time": "2023-01-15T14:51:52.437Z"
   },
   {
    "duration": 29,
    "start_time": "2023-01-15T14:51:52.456Z"
   },
   {
    "duration": 3,
    "start_time": "2023-01-15T14:51:52.487Z"
   },
   {
    "duration": 23,
    "start_time": "2023-01-15T14:51:52.492Z"
   },
   {
    "duration": 43,
    "start_time": "2023-01-15T14:51:52.517Z"
   },
   {
    "duration": 7,
    "start_time": "2023-01-15T14:51:52.563Z"
   },
   {
    "duration": 26,
    "start_time": "2023-01-15T14:51:52.574Z"
   },
   {
    "duration": 10,
    "start_time": "2023-01-15T14:51:52.601Z"
   },
   {
    "duration": 39,
    "start_time": "2023-01-15T14:51:52.613Z"
   },
   {
    "duration": 64,
    "start_time": "2023-01-15T14:51:52.654Z"
   },
   {
    "duration": 32,
    "start_time": "2023-01-15T14:51:52.720Z"
   },
   {
    "duration": 9,
    "start_time": "2023-01-15T14:51:52.755Z"
   },
   {
    "duration": 12,
    "start_time": "2023-01-15T14:51:52.766Z"
   },
   {
    "duration": 6,
    "start_time": "2023-01-15T14:51:52.784Z"
   },
   {
    "duration": 15,
    "start_time": "2023-01-15T14:51:52.792Z"
   },
   {
    "duration": 12,
    "start_time": "2023-01-15T14:51:52.810Z"
   },
   {
    "duration": 31,
    "start_time": "2023-01-15T14:51:52.824Z"
   },
   {
    "duration": 12,
    "start_time": "2023-01-15T14:51:52.857Z"
   },
   {
    "duration": 11,
    "start_time": "2023-01-15T14:51:52.872Z"
   },
   {
    "duration": 22,
    "start_time": "2023-01-15T14:51:52.886Z"
   },
   {
    "duration": 90,
    "start_time": "2023-01-15T14:51:52.910Z"
   },
   {
    "duration": 0,
    "start_time": "2023-01-15T14:51:53.003Z"
   },
   {
    "duration": 0,
    "start_time": "2023-01-15T14:51:53.005Z"
   },
   {
    "duration": 0,
    "start_time": "2023-01-15T14:51:53.006Z"
   },
   {
    "duration": 0,
    "start_time": "2023-01-15T14:51:53.007Z"
   },
   {
    "duration": 0,
    "start_time": "2023-01-15T14:51:53.009Z"
   },
   {
    "duration": 0,
    "start_time": "2023-01-15T14:51:53.010Z"
   },
   {
    "duration": 0,
    "start_time": "2023-01-15T14:51:53.012Z"
   },
   {
    "duration": 0,
    "start_time": "2023-01-15T14:51:53.013Z"
   },
   {
    "duration": 0,
    "start_time": "2023-01-15T14:51:53.014Z"
   },
   {
    "duration": 0,
    "start_time": "2023-01-15T14:51:53.016Z"
   },
   {
    "duration": 0,
    "start_time": "2023-01-15T14:51:53.018Z"
   },
   {
    "duration": 0,
    "start_time": "2023-01-15T14:51:53.019Z"
   },
   {
    "duration": 0,
    "start_time": "2023-01-15T14:51:53.020Z"
   },
   {
    "duration": 0,
    "start_time": "2023-01-15T14:51:53.022Z"
   },
   {
    "duration": 0,
    "start_time": "2023-01-15T14:51:53.023Z"
   },
   {
    "duration": 0,
    "start_time": "2023-01-15T14:51:53.025Z"
   },
   {
    "duration": 0,
    "start_time": "2023-01-15T14:51:53.026Z"
   },
   {
    "duration": 4,
    "start_time": "2023-01-15T14:52:21.877Z"
   },
   {
    "duration": 688,
    "start_time": "2023-01-15T14:52:21.885Z"
   },
   {
    "duration": 4,
    "start_time": "2023-01-15T14:52:22.575Z"
   },
   {
    "duration": 10,
    "start_time": "2023-01-15T14:52:22.581Z"
   },
   {
    "duration": 7,
    "start_time": "2023-01-15T14:52:22.594Z"
   },
   {
    "duration": 33,
    "start_time": "2023-01-15T14:52:22.603Z"
   },
   {
    "duration": 3,
    "start_time": "2023-01-15T14:52:22.638Z"
   },
   {
    "duration": 27,
    "start_time": "2023-01-15T14:52:22.643Z"
   },
   {
    "duration": 12,
    "start_time": "2023-01-15T14:52:22.672Z"
   },
   {
    "duration": 10,
    "start_time": "2023-01-15T14:52:22.686Z"
   },
   {
    "duration": 36,
    "start_time": "2023-01-15T14:52:22.699Z"
   },
   {
    "duration": 11,
    "start_time": "2023-01-15T14:52:22.737Z"
   },
   {
    "duration": 26,
    "start_time": "2023-01-15T14:52:22.750Z"
   },
   {
    "duration": 50,
    "start_time": "2023-01-15T14:52:22.778Z"
   },
   {
    "duration": 15,
    "start_time": "2023-01-15T14:52:22.829Z"
   },
   {
    "duration": 10,
    "start_time": "2023-01-15T14:52:22.846Z"
   },
   {
    "duration": 25,
    "start_time": "2023-01-15T14:52:22.857Z"
   },
   {
    "duration": 27,
    "start_time": "2023-01-15T14:52:22.884Z"
   },
   {
    "duration": 14,
    "start_time": "2023-01-15T14:52:22.913Z"
   },
   {
    "duration": 13,
    "start_time": "2023-01-15T14:52:22.928Z"
   },
   {
    "duration": 19,
    "start_time": "2023-01-15T14:52:22.943Z"
   },
   {
    "duration": 20,
    "start_time": "2023-01-15T14:52:22.964Z"
   },
   {
    "duration": 8,
    "start_time": "2023-01-15T14:52:22.986Z"
   },
   {
    "duration": 25,
    "start_time": "2023-01-15T14:52:22.996Z"
   },
   {
    "duration": 75,
    "start_time": "2023-01-15T14:52:23.023Z"
   },
   {
    "duration": 13,
    "start_time": "2023-01-15T14:52:23.100Z"
   },
   {
    "duration": 18,
    "start_time": "2023-01-15T14:52:23.115Z"
   },
   {
    "duration": 19,
    "start_time": "2023-01-15T14:52:23.134Z"
   },
   {
    "duration": 509,
    "start_time": "2023-01-15T14:52:23.156Z"
   },
   {
    "duration": 466,
    "start_time": "2023-01-15T14:52:23.666Z"
   },
   {
    "duration": 539,
    "start_time": "2023-01-15T14:52:24.133Z"
   },
   {
    "duration": 401,
    "start_time": "2023-01-15T14:52:24.673Z"
   },
   {
    "duration": 4,
    "start_time": "2023-01-15T14:52:25.076Z"
   },
   {
    "duration": 536,
    "start_time": "2023-01-15T14:52:25.082Z"
   },
   {
    "duration": 999,
    "start_time": "2023-01-15T14:52:25.620Z"
   },
   {
    "duration": 9,
    "start_time": "2023-01-15T14:52:26.621Z"
   },
   {
    "duration": 35,
    "start_time": "2023-01-15T14:52:26.632Z"
   },
   {
    "duration": 2,
    "start_time": "2023-01-15T14:52:26.669Z"
   },
   {
    "duration": 1808,
    "start_time": "2023-01-15T14:52:26.673Z"
   },
   {
    "duration": 6,
    "start_time": "2023-01-15T14:52:28.484Z"
   },
   {
    "duration": 15,
    "start_time": "2023-01-15T14:52:28.492Z"
   },
   {
    "duration": 26,
    "start_time": "2023-01-15T14:52:28.509Z"
   },
   {
    "duration": 15,
    "start_time": "2023-01-15T14:52:37.524Z"
   },
   {
    "duration": 13,
    "start_time": "2023-01-15T14:53:01.189Z"
   },
   {
    "duration": 6,
    "start_time": "2023-01-15T14:53:26.709Z"
   },
   {
    "duration": 16,
    "start_time": "2023-01-15T14:53:40.787Z"
   },
   {
    "duration": 43,
    "start_time": "2023-01-15T14:54:00.169Z"
   },
   {
    "duration": 1464,
    "start_time": "2023-01-15T14:55:23.243Z"
   },
   {
    "duration": 735,
    "start_time": "2023-01-15T14:55:24.709Z"
   },
   {
    "duration": 6,
    "start_time": "2023-01-15T14:55:25.446Z"
   },
   {
    "duration": 9,
    "start_time": "2023-01-15T14:55:25.453Z"
   },
   {
    "duration": 6,
    "start_time": "2023-01-15T14:55:25.465Z"
   },
   {
    "duration": 21,
    "start_time": "2023-01-15T14:55:25.473Z"
   },
   {
    "duration": 3,
    "start_time": "2023-01-15T14:55:25.496Z"
   },
   {
    "duration": 20,
    "start_time": "2023-01-15T14:55:25.501Z"
   },
   {
    "duration": 36,
    "start_time": "2023-01-15T14:55:25.523Z"
   },
   {
    "duration": 6,
    "start_time": "2023-01-15T14:55:25.561Z"
   },
   {
    "duration": 31,
    "start_time": "2023-01-15T14:55:25.569Z"
   },
   {
    "duration": 9,
    "start_time": "2023-01-15T14:55:25.601Z"
   },
   {
    "duration": 8,
    "start_time": "2023-01-15T14:55:25.612Z"
   },
   {
    "duration": 78,
    "start_time": "2023-01-15T14:55:25.624Z"
   },
   {
    "duration": 15,
    "start_time": "2023-01-15T14:55:25.704Z"
   },
   {
    "duration": 6,
    "start_time": "2023-01-15T14:55:25.721Z"
   },
   {
    "duration": 6,
    "start_time": "2023-01-15T14:55:25.751Z"
   },
   {
    "duration": 8,
    "start_time": "2023-01-15T14:55:25.758Z"
   },
   {
    "duration": 9,
    "start_time": "2023-01-15T14:55:25.768Z"
   },
   {
    "duration": 11,
    "start_time": "2023-01-15T14:55:25.778Z"
   },
   {
    "duration": 12,
    "start_time": "2023-01-15T14:55:25.791Z"
   },
   {
    "duration": 10,
    "start_time": "2023-01-15T14:55:25.805Z"
   },
   {
    "duration": 4,
    "start_time": "2023-01-15T14:55:25.817Z"
   },
   {
    "duration": 34,
    "start_time": "2023-01-15T14:55:25.823Z"
   },
   {
    "duration": 71,
    "start_time": "2023-01-15T14:55:25.858Z"
   },
   {
    "duration": 24,
    "start_time": "2023-01-15T14:55:25.931Z"
   },
   {
    "duration": 9,
    "start_time": "2023-01-15T14:55:25.957Z"
   },
   {
    "duration": 5,
    "start_time": "2023-01-15T14:55:25.968Z"
   },
   {
    "duration": 461,
    "start_time": "2023-01-15T14:55:25.975Z"
   },
   {
    "duration": 508,
    "start_time": "2023-01-15T14:55:26.438Z"
   },
   {
    "duration": 425,
    "start_time": "2023-01-15T14:55:26.950Z"
   },
   {
    "duration": 376,
    "start_time": "2023-01-15T14:55:27.377Z"
   },
   {
    "duration": 4,
    "start_time": "2023-01-15T14:55:27.755Z"
   },
   {
    "duration": 391,
    "start_time": "2023-01-15T14:55:27.761Z"
   },
   {
    "duration": 911,
    "start_time": "2023-01-15T14:55:28.154Z"
   },
   {
    "duration": 7,
    "start_time": "2023-01-15T14:55:29.068Z"
   },
   {
    "duration": 27,
    "start_time": "2023-01-15T14:55:29.076Z"
   },
   {
    "duration": 2,
    "start_time": "2023-01-15T14:55:29.105Z"
   },
   {
    "duration": 1887,
    "start_time": "2023-01-15T14:55:29.109Z"
   },
   {
    "duration": 8,
    "start_time": "2023-01-15T14:55:30.997Z"
   },
   {
    "duration": 29,
    "start_time": "2023-01-15T14:55:31.009Z"
   },
   {
    "duration": 39,
    "start_time": "2023-01-15T14:55:31.040Z"
   },
   {
    "duration": 27,
    "start_time": "2023-01-15T14:55:31.081Z"
   },
   {
    "duration": 28,
    "start_time": "2023-01-15T14:55:31.110Z"
   },
   {
    "duration": 62,
    "start_time": "2023-01-15T14:55:31.141Z"
   },
   {
    "duration": 132,
    "start_time": "2023-01-15T14:56:52.536Z"
   },
   {
    "duration": 7,
    "start_time": "2023-01-15T14:57:59.479Z"
   },
   {
    "duration": 12,
    "start_time": "2023-01-15T14:58:23.000Z"
   },
   {
    "duration": 10,
    "start_time": "2023-01-15T14:59:22.819Z"
   },
   {
    "duration": 11,
    "start_time": "2023-01-15T14:59:42.717Z"
   },
   {
    "duration": 12017,
    "start_time": "2023-01-15T15:00:18.824Z"
   },
   {
    "duration": 12445,
    "start_time": "2023-01-15T15:00:59.714Z"
   },
   {
    "duration": 45217,
    "start_time": "2023-01-15T15:01:18.658Z"
   },
   {
    "duration": 47275,
    "start_time": "2023-01-15T15:10:01.899Z"
   },
   {
    "duration": 185921,
    "start_time": "2023-01-15T15:16:22.519Z"
   },
   {
    "duration": 10,
    "start_time": "2023-01-15T15:23:56.557Z"
   },
   {
    "duration": 12,
    "start_time": "2023-01-15T15:25:22.978Z"
   },
   {
    "duration": 9,
    "start_time": "2023-01-15T15:26:20.600Z"
   },
   {
    "duration": 14,
    "start_time": "2023-01-15T15:27:13.152Z"
   },
   {
    "duration": 21,
    "start_time": "2023-01-15T15:27:56.093Z"
   },
   {
    "duration": 7,
    "start_time": "2023-01-15T15:28:22.565Z"
   },
   {
    "duration": 6,
    "start_time": "2023-01-15T15:28:38.576Z"
   },
   {
    "duration": 4,
    "start_time": "2023-01-15T15:30:15.317Z"
   },
   {
    "duration": 9,
    "start_time": "2023-01-15T15:30:27.027Z"
   },
   {
    "duration": 6,
    "start_time": "2023-01-15T15:31:49.251Z"
   },
   {
    "duration": 6,
    "start_time": "2023-01-15T15:32:03.721Z"
   },
   {
    "duration": 3,
    "start_time": "2023-01-15T15:33:22.645Z"
   },
   {
    "duration": 7,
    "start_time": "2023-01-15T15:33:40.820Z"
   },
   {
    "duration": 11,
    "start_time": "2023-01-15T16:04:28.799Z"
   },
   {
    "duration": 13,
    "start_time": "2023-01-15T16:04:39.968Z"
   },
   {
    "duration": 473886,
    "start_time": "2023-01-15T16:05:05.969Z"
   },
   {
    "duration": 11,
    "start_time": "2023-01-15T16:24:27.259Z"
   },
   {
    "duration": 14,
    "start_time": "2023-01-15T16:29:54.557Z"
   },
   {
    "duration": 8829,
    "start_time": "2023-01-15T16:30:04.772Z"
   },
   {
    "duration": 25,
    "start_time": "2023-01-15T16:30:29.923Z"
   },
   {
    "duration": 6213,
    "start_time": "2023-01-15T16:31:50.341Z"
   },
   {
    "duration": 7160,
    "start_time": "2023-01-15T16:32:17.691Z"
   },
   {
    "duration": 11,
    "start_time": "2023-01-15T17:00:05.491Z"
   },
   {
    "duration": 8260,
    "start_time": "2023-01-15T17:00:30.811Z"
   },
   {
    "duration": 3,
    "start_time": "2023-01-15T17:01:58.468Z"
   },
   {
    "duration": 8099,
    "start_time": "2023-01-15T17:02:03.053Z"
   },
   {
    "duration": 5,
    "start_time": "2023-01-15T17:05:51.500Z"
   },
   {
    "duration": 3,
    "start_time": "2023-01-15T17:06:38.139Z"
   },
   {
    "duration": 7392,
    "start_time": "2023-01-15T17:09:47.361Z"
   },
   {
    "duration": 8301,
    "start_time": "2023-01-15T17:10:00.052Z"
   },
   {
    "duration": 6367,
    "start_time": "2023-01-15T17:20:26.992Z"
   },
   {
    "duration": 11,
    "start_time": "2023-01-15T17:21:02.131Z"
   },
   {
    "duration": 4,
    "start_time": "2023-01-15T17:21:05.561Z"
   },
   {
    "duration": 5,
    "start_time": "2023-01-15T17:21:25.281Z"
   },
   {
    "duration": 5,
    "start_time": "2023-01-15T17:21:35.595Z"
   },
   {
    "duration": 11,
    "start_time": "2023-01-15T17:22:27.034Z"
   },
   {
    "duration": 5,
    "start_time": "2023-01-15T17:24:02.165Z"
   },
   {
    "duration": 4,
    "start_time": "2023-01-15T17:27:31.215Z"
   },
   {
    "duration": 4,
    "start_time": "2023-01-15T17:33:07.106Z"
   },
   {
    "duration": 14,
    "start_time": "2023-01-15T17:36:04.161Z"
   },
   {
    "duration": 10,
    "start_time": "2023-01-15T17:37:57.384Z"
   },
   {
    "duration": 10,
    "start_time": "2023-01-15T17:38:10.705Z"
   },
   {
    "duration": 24269,
    "start_time": "2023-01-15T17:38:31.100Z"
   },
   {
    "duration": 0,
    "start_time": "2023-01-15T17:38:55.371Z"
   },
   {
    "duration": 3,
    "start_time": "2023-01-15T17:39:12.547Z"
   },
   {
    "duration": 0,
    "start_time": "2023-01-15T17:39:56.253Z"
   },
   {
    "duration": 2,
    "start_time": "2023-01-15T17:40:38.809Z"
   },
   {
    "duration": 190114,
    "start_time": "2023-01-15T17:40:41.264Z"
   },
   {
    "duration": 46313,
    "start_time": "2023-01-15T17:44:40.302Z"
   },
   {
    "duration": 4,
    "start_time": "2023-01-16T01:40:54.765Z"
   },
   {
    "duration": 3,
    "start_time": "2023-01-16T03:19:10.393Z"
   },
   {
    "duration": 1493,
    "start_time": "2023-01-16T03:21:20.567Z"
   },
   {
    "duration": 3016,
    "start_time": "2023-01-16T03:21:22.062Z"
   },
   {
    "duration": 5,
    "start_time": "2023-01-16T03:21:25.079Z"
   },
   {
    "duration": 8,
    "start_time": "2023-01-16T03:21:25.086Z"
   },
   {
    "duration": 5,
    "start_time": "2023-01-16T03:21:25.096Z"
   },
   {
    "duration": 21,
    "start_time": "2023-01-16T03:21:25.102Z"
   },
   {
    "duration": 2,
    "start_time": "2023-01-16T03:21:25.125Z"
   },
   {
    "duration": 17,
    "start_time": "2023-01-16T03:21:25.129Z"
   },
   {
    "duration": 14,
    "start_time": "2023-01-16T03:21:25.147Z"
   },
   {
    "duration": 5,
    "start_time": "2023-01-16T03:21:25.164Z"
   },
   {
    "duration": 44,
    "start_time": "2023-01-16T03:21:25.171Z"
   },
   {
    "duration": 6,
    "start_time": "2023-01-16T03:21:25.217Z"
   },
   {
    "duration": 4,
    "start_time": "2023-01-16T03:21:25.224Z"
   },
   {
    "duration": 46,
    "start_time": "2023-01-16T03:21:25.230Z"
   },
   {
    "duration": 15,
    "start_time": "2023-01-16T03:21:25.277Z"
   },
   {
    "duration": 26,
    "start_time": "2023-01-16T03:21:25.293Z"
   },
   {
    "duration": 6,
    "start_time": "2023-01-16T03:21:25.320Z"
   },
   {
    "duration": 6,
    "start_time": "2023-01-16T03:21:25.327Z"
   },
   {
    "duration": 4,
    "start_time": "2023-01-16T03:21:25.334Z"
   },
   {
    "duration": 5,
    "start_time": "2023-01-16T03:21:25.339Z"
   },
   {
    "duration": 13,
    "start_time": "2023-01-16T03:21:25.345Z"
   },
   {
    "duration": 13,
    "start_time": "2023-01-16T03:21:25.359Z"
   },
   {
    "duration": 5,
    "start_time": "2023-01-16T03:21:25.374Z"
   },
   {
    "duration": 17,
    "start_time": "2023-01-16T03:21:25.381Z"
   },
   {
    "duration": 70,
    "start_time": "2023-01-16T03:21:25.399Z"
   },
   {
    "duration": 10,
    "start_time": "2023-01-16T03:21:25.470Z"
   },
   {
    "duration": 8,
    "start_time": "2023-01-16T03:21:25.481Z"
   },
   {
    "duration": 7,
    "start_time": "2023-01-16T03:21:25.492Z"
   },
   {
    "duration": 360,
    "start_time": "2023-01-16T03:21:25.501Z"
   },
   {
    "duration": 458,
    "start_time": "2023-01-16T03:21:25.863Z"
   },
   {
    "duration": 389,
    "start_time": "2023-01-16T03:21:26.323Z"
   },
   {
    "duration": 302,
    "start_time": "2023-01-16T03:21:26.715Z"
   },
   {
    "duration": 4,
    "start_time": "2023-01-16T03:21:27.018Z"
   },
   {
    "duration": 354,
    "start_time": "2023-01-16T03:21:27.024Z"
   },
   {
    "duration": 910,
    "start_time": "2023-01-16T03:21:27.379Z"
   },
   {
    "duration": 6,
    "start_time": "2023-01-16T03:21:28.291Z"
   },
   {
    "duration": 32,
    "start_time": "2023-01-16T03:21:28.299Z"
   },
   {
    "duration": 3,
    "start_time": "2023-01-16T03:21:28.332Z"
   },
   {
    "duration": 1457,
    "start_time": "2023-01-16T03:21:28.336Z"
   },
   {
    "duration": 5,
    "start_time": "2023-01-16T03:21:29.795Z"
   },
   {
    "duration": 17,
    "start_time": "2023-01-16T03:21:29.801Z"
   },
   {
    "duration": 6,
    "start_time": "2023-01-16T03:21:29.819Z"
   },
   {
    "duration": 7,
    "start_time": "2023-01-16T03:21:29.826Z"
   },
   {
    "duration": 12,
    "start_time": "2023-01-16T03:21:29.835Z"
   },
   {
    "duration": 5,
    "start_time": "2023-01-16T03:21:29.848Z"
   },
   {
    "duration": 8,
    "start_time": "2023-01-16T03:21:29.855Z"
   },
   {
    "duration": 4,
    "start_time": "2023-01-16T03:21:29.865Z"
   },
   {
    "duration": 4,
    "start_time": "2023-01-16T03:21:29.871Z"
   },
   {
    "duration": 5,
    "start_time": "2023-01-16T03:21:29.877Z"
   },
   {
    "duration": 7,
    "start_time": "2023-01-16T03:21:29.884Z"
   },
   {
    "duration": 7,
    "start_time": "2023-01-16T03:21:29.892Z"
   },
   {
    "duration": 103,
    "start_time": "2023-01-16T03:22:46.393Z"
   },
   {
    "duration": 5990,
    "start_time": "2023-01-16T03:23:34.739Z"
   },
   {
    "duration": 13062,
    "start_time": "2023-01-16T03:24:00.254Z"
   },
   {
    "duration": 8,
    "start_time": "2023-01-16T03:24:28.151Z"
   },
   {
    "duration": 3,
    "start_time": "2023-01-16T03:27:07.364Z"
   },
   {
    "duration": 13983,
    "start_time": "2023-01-16T03:27:11.333Z"
   },
   {
    "duration": 4,
    "start_time": "2023-01-16T03:27:32.254Z"
   },
   {
    "duration": 11,
    "start_time": "2023-01-16T03:28:14.611Z"
   },
   {
    "duration": 13459,
    "start_time": "2023-01-16T03:28:54.161Z"
   },
   {
    "duration": 5,
    "start_time": "2023-01-16T03:29:10.421Z"
   },
   {
    "duration": 12719,
    "start_time": "2023-01-16T03:29:35.697Z"
   },
   {
    "duration": 3,
    "start_time": "2023-01-16T03:29:51.929Z"
   },
   {
    "duration": 12864,
    "start_time": "2023-01-16T03:30:14.552Z"
   },
   {
    "duration": 3,
    "start_time": "2023-01-16T03:30:37.703Z"
   },
   {
    "duration": 3,
    "start_time": "2023-01-16T03:31:01.137Z"
   },
   {
    "duration": 726,
    "start_time": "2023-01-16T03:31:01.142Z"
   },
   {
    "duration": 3,
    "start_time": "2023-01-16T03:31:01.870Z"
   },
   {
    "duration": 9,
    "start_time": "2023-01-16T03:31:01.875Z"
   },
   {
    "duration": 6,
    "start_time": "2023-01-16T03:31:01.885Z"
   },
   {
    "duration": 23,
    "start_time": "2023-01-16T03:31:01.893Z"
   },
   {
    "duration": 2,
    "start_time": "2023-01-16T03:31:01.918Z"
   },
   {
    "duration": 19,
    "start_time": "2023-01-16T03:31:01.921Z"
   },
   {
    "duration": 11,
    "start_time": "2023-01-16T03:31:01.942Z"
   },
   {
    "duration": 6,
    "start_time": "2023-01-16T03:31:01.954Z"
   },
   {
    "duration": 16,
    "start_time": "2023-01-16T03:31:01.961Z"
   },
   {
    "duration": 7,
    "start_time": "2023-01-16T03:31:01.978Z"
   },
   {
    "duration": 31,
    "start_time": "2023-01-16T03:31:01.987Z"
   },
   {
    "duration": 46,
    "start_time": "2023-01-16T03:31:02.020Z"
   },
   {
    "duration": 18,
    "start_time": "2023-01-16T03:31:02.068Z"
   },
   {
    "duration": 29,
    "start_time": "2023-01-16T03:31:02.088Z"
   },
   {
    "duration": 10,
    "start_time": "2023-01-16T03:31:02.118Z"
   },
   {
    "duration": 17,
    "start_time": "2023-01-16T03:31:02.129Z"
   },
   {
    "duration": 10,
    "start_time": "2023-01-16T03:31:02.148Z"
   },
   {
    "duration": 7,
    "start_time": "2023-01-16T03:31:02.161Z"
   },
   {
    "duration": 11,
    "start_time": "2023-01-16T03:31:02.170Z"
   },
   {
    "duration": 16,
    "start_time": "2023-01-16T03:31:02.183Z"
   },
   {
    "duration": 17,
    "start_time": "2023-01-16T03:31:02.200Z"
   },
   {
    "duration": 22,
    "start_time": "2023-01-16T03:31:02.221Z"
   },
   {
    "duration": 63,
    "start_time": "2023-01-16T03:31:02.245Z"
   },
   {
    "duration": 3,
    "start_time": "2023-01-16T03:31:02.309Z"
   },
   {
    "duration": 31,
    "start_time": "2023-01-16T03:31:02.314Z"
   },
   {
    "duration": 8,
    "start_time": "2023-01-16T03:31:02.347Z"
   },
   {
    "duration": 369,
    "start_time": "2023-01-16T03:31:02.356Z"
   },
   {
    "duration": 361,
    "start_time": "2023-01-16T03:31:02.727Z"
   },
   {
    "duration": 456,
    "start_time": "2023-01-16T03:31:03.090Z"
   },
   {
    "duration": 289,
    "start_time": "2023-01-16T03:31:03.548Z"
   },
   {
    "duration": 4,
    "start_time": "2023-01-16T03:31:03.838Z"
   },
   {
    "duration": 350,
    "start_time": "2023-01-16T03:31:03.843Z"
   },
   {
    "duration": 873,
    "start_time": "2023-01-16T03:31:04.195Z"
   },
   {
    "duration": 8,
    "start_time": "2023-01-16T03:31:05.070Z"
   },
   {
    "duration": 21,
    "start_time": "2023-01-16T03:31:05.079Z"
   },
   {
    "duration": 2,
    "start_time": "2023-01-16T03:31:05.115Z"
   },
   {
    "duration": 1460,
    "start_time": "2023-01-16T03:31:05.119Z"
   },
   {
    "duration": 6,
    "start_time": "2023-01-16T03:31:06.581Z"
   },
   {
    "duration": 19,
    "start_time": "2023-01-16T03:31:06.588Z"
   },
   {
    "duration": 6,
    "start_time": "2023-01-16T03:31:06.609Z"
   },
   {
    "duration": 4,
    "start_time": "2023-01-16T03:31:06.617Z"
   },
   {
    "duration": 10,
    "start_time": "2023-01-16T03:31:06.623Z"
   },
   {
    "duration": 4,
    "start_time": "2023-01-16T03:31:06.635Z"
   },
   {
    "duration": 6,
    "start_time": "2023-01-16T03:31:06.641Z"
   },
   {
    "duration": 4,
    "start_time": "2023-01-16T03:31:06.649Z"
   },
   {
    "duration": 6,
    "start_time": "2023-01-16T03:31:06.654Z"
   },
   {
    "duration": 13465,
    "start_time": "2023-01-16T03:31:09.152Z"
   },
   {
    "duration": 98,
    "start_time": "2023-01-16T03:31:22.619Z"
   },
   {
    "duration": 1326,
    "start_time": "2023-01-16T03:31:35.356Z"
   },
   {
    "duration": 679,
    "start_time": "2023-01-16T03:31:36.684Z"
   },
   {
    "duration": 6,
    "start_time": "2023-01-16T03:31:37.364Z"
   },
   {
    "duration": 4,
    "start_time": "2023-01-16T03:31:37.372Z"
   },
   {
    "duration": 5,
    "start_time": "2023-01-16T03:31:37.377Z"
   },
   {
    "duration": 33,
    "start_time": "2023-01-16T03:31:37.383Z"
   },
   {
    "duration": 2,
    "start_time": "2023-01-16T03:31:37.418Z"
   },
   {
    "duration": 18,
    "start_time": "2023-01-16T03:31:37.421Z"
   },
   {
    "duration": 13,
    "start_time": "2023-01-16T03:31:37.440Z"
   },
   {
    "duration": 5,
    "start_time": "2023-01-16T03:31:37.456Z"
   },
   {
    "duration": 16,
    "start_time": "2023-01-16T03:31:37.463Z"
   },
   {
    "duration": 36,
    "start_time": "2023-01-16T03:31:37.480Z"
   },
   {
    "duration": 5,
    "start_time": "2023-01-16T03:31:37.518Z"
   },
   {
    "duration": 42,
    "start_time": "2023-01-16T03:31:37.524Z"
   },
   {
    "duration": 15,
    "start_time": "2023-01-16T03:31:37.567Z"
   },
   {
    "duration": 4,
    "start_time": "2023-01-16T03:31:37.584Z"
   },
   {
    "duration": 28,
    "start_time": "2023-01-16T03:31:37.590Z"
   },
   {
    "duration": 8,
    "start_time": "2023-01-16T03:31:37.620Z"
   },
   {
    "duration": 4,
    "start_time": "2023-01-16T03:31:37.629Z"
   },
   {
    "duration": 8,
    "start_time": "2023-01-16T03:31:37.635Z"
   },
   {
    "duration": 8,
    "start_time": "2023-01-16T03:31:37.644Z"
   },
   {
    "duration": 8,
    "start_time": "2023-01-16T03:31:37.654Z"
   },
   {
    "duration": 5,
    "start_time": "2023-01-16T03:31:37.663Z"
   },
   {
    "duration": 11,
    "start_time": "2023-01-16T03:31:37.669Z"
   },
   {
    "duration": 71,
    "start_time": "2023-01-16T03:31:37.682Z"
   },
   {
    "duration": 3,
    "start_time": "2023-01-16T03:31:37.754Z"
   },
   {
    "duration": 8,
    "start_time": "2023-01-16T03:31:37.759Z"
   },
   {
    "duration": 5,
    "start_time": "2023-01-16T03:31:37.770Z"
   },
   {
    "duration": 412,
    "start_time": "2023-01-16T03:31:37.776Z"
   },
   {
    "duration": 415,
    "start_time": "2023-01-16T03:31:38.190Z"
   },
   {
    "duration": 369,
    "start_time": "2023-01-16T03:31:38.607Z"
   },
   {
    "duration": 325,
    "start_time": "2023-01-16T03:31:38.978Z"
   },
   {
    "duration": 10,
    "start_time": "2023-01-16T03:31:39.305Z"
   },
   {
    "duration": 341,
    "start_time": "2023-01-16T03:31:39.317Z"
   },
   {
    "duration": 905,
    "start_time": "2023-01-16T03:31:39.660Z"
   },
   {
    "duration": 7,
    "start_time": "2023-01-16T03:31:40.567Z"
   },
   {
    "duration": 20,
    "start_time": "2023-01-16T03:31:40.576Z"
   },
   {
    "duration": 2,
    "start_time": "2023-01-16T03:31:40.597Z"
   },
   {
    "duration": 1355,
    "start_time": "2023-01-16T03:31:40.600Z"
   },
   {
    "duration": 5,
    "start_time": "2023-01-16T03:31:41.956Z"
   },
   {
    "duration": 4,
    "start_time": "2023-01-16T03:31:41.962Z"
   },
   {
    "duration": 4,
    "start_time": "2023-01-16T03:31:41.968Z"
   },
   {
    "duration": 4,
    "start_time": "2023-01-16T03:31:41.973Z"
   },
   {
    "duration": 12,
    "start_time": "2023-01-16T03:31:41.978Z"
   },
   {
    "duration": 24,
    "start_time": "2023-01-16T03:31:41.992Z"
   },
   {
    "duration": 5,
    "start_time": "2023-01-16T03:31:42.017Z"
   },
   {
    "duration": 8,
    "start_time": "2023-01-16T03:31:42.023Z"
   },
   {
    "duration": 8,
    "start_time": "2023-01-16T03:31:42.033Z"
   },
   {
    "duration": 12876,
    "start_time": "2023-01-16T03:31:50.842Z"
   },
   {
    "duration": 4,
    "start_time": "2023-01-16T03:32:05.641Z"
   },
   {
    "duration": 342804,
    "start_time": "2023-01-16T03:32:52.382Z"
   },
   {
    "duration": 3,
    "start_time": "2023-01-16T03:38:56.724Z"
   },
   {
    "duration": 111,
    "start_time": "2023-01-16T03:41:56.818Z"
   },
   {
    "duration": 53,
    "start_time": "2023-01-16T03:42:07.056Z"
   },
   {
    "duration": 3,
    "start_time": "2023-01-16T03:42:18.099Z"
   },
   {
    "duration": 2,
    "start_time": "2023-01-16T03:47:06.651Z"
   },
   {
    "duration": 47,
    "start_time": "2023-01-16T03:49:54.930Z"
   },
   {
    "duration": 10,
    "start_time": "2023-01-16T03:50:08.300Z"
   },
   {
    "duration": 10,
    "start_time": "2023-01-16T03:50:31.659Z"
   },
   {
    "duration": 3,
    "start_time": "2023-01-16T03:50:42.999Z"
   },
   {
    "duration": 13,
    "start_time": "2023-01-16T03:56:12.695Z"
   },
   {
    "duration": 14,
    "start_time": "2023-01-16T03:56:25.253Z"
   },
   {
    "duration": 9,
    "start_time": "2023-01-16T03:56:34.656Z"
   },
   {
    "duration": 15,
    "start_time": "2023-01-16T03:58:49.253Z"
   },
   {
    "duration": 15,
    "start_time": "2023-01-16T03:58:59.554Z"
   },
   {
    "duration": 9,
    "start_time": "2023-01-16T03:59:13.883Z"
   },
   {
    "duration": 4,
    "start_time": "2023-01-16T03:59:19.796Z"
   },
   {
    "duration": 11,
    "start_time": "2023-01-16T04:00:03.585Z"
   },
   {
    "duration": 16,
    "start_time": "2023-01-16T04:01:01.168Z"
   },
   {
    "duration": 510332,
    "start_time": "2023-01-16T04:01:22.214Z"
   },
   {
    "duration": 1019587,
    "start_time": "2023-01-16T04:12:55.113Z"
   },
   {
    "duration": 4,
    "start_time": "2023-01-16T05:05:26.051Z"
   },
   {
    "duration": 46,
    "start_time": "2023-01-16T05:06:29.781Z"
   },
   {
    "duration": 45,
    "start_time": "2023-01-16T05:07:19.020Z"
   },
   {
    "duration": 48,
    "start_time": "2023-01-16T05:08:34.239Z"
   },
   {
    "duration": 4,
    "start_time": "2023-01-16T05:08:46.342Z"
   },
   {
    "duration": 9,
    "start_time": "2023-01-16T05:08:57.276Z"
   },
   {
    "duration": 8,
    "start_time": "2023-01-16T05:09:05.950Z"
   },
   {
    "duration": 343343,
    "start_time": "2023-01-16T05:10:05.471Z"
   },
   {
    "duration": 4,
    "start_time": "2023-01-16T05:17:39.942Z"
   },
   {
    "duration": 5,
    "start_time": "2023-01-16T05:17:59.251Z"
   },
   {
    "duration": 3,
    "start_time": "2023-01-16T05:20:04.329Z"
   },
   {
    "duration": 8,
    "start_time": "2023-01-16T05:20:11.752Z"
   },
   {
    "duration": 11,
    "start_time": "2023-01-16T05:21:59.999Z"
   },
   {
    "duration": 9,
    "start_time": "2023-01-16T05:22:17.771Z"
   },
   {
    "duration": 3,
    "start_time": "2023-01-16T05:24:31.382Z"
   },
   {
    "duration": 9,
    "start_time": "2023-01-16T05:24:32.211Z"
   },
   {
    "duration": 6,
    "start_time": "2023-01-16T05:28:31.082Z"
   },
   {
    "duration": 5,
    "start_time": "2023-01-16T05:29:01.149Z"
   },
   {
    "duration": 5,
    "start_time": "2023-01-16T05:29:39.091Z"
   },
   {
    "duration": 9,
    "start_time": "2023-01-16T05:29:49.221Z"
   },
   {
    "duration": 7,
    "start_time": "2023-01-16T05:29:53.260Z"
   },
   {
    "duration": 10,
    "start_time": "2023-01-16T05:30:04.800Z"
   },
   {
    "duration": 6,
    "start_time": "2023-01-16T05:31:48.372Z"
   },
   {
    "duration": 9,
    "start_time": "2023-01-16T05:31:54.271Z"
   },
   {
    "duration": 5,
    "start_time": "2023-01-16T05:36:04.306Z"
   },
   {
    "duration": 8,
    "start_time": "2023-01-16T05:39:56.098Z"
   },
   {
    "duration": 7,
    "start_time": "2023-01-16T05:40:05.639Z"
   },
   {
    "duration": 4,
    "start_time": "2023-01-16T05:40:35.348Z"
   },
   {
    "duration": 8,
    "start_time": "2023-01-16T05:40:36.679Z"
   },
   {
    "duration": 5,
    "start_time": "2023-01-16T05:40:49.707Z"
   },
   {
    "duration": 5,
    "start_time": "2023-01-16T05:41:03.425Z"
   },
   {
    "duration": 5,
    "start_time": "2023-01-16T05:41:56.777Z"
   },
   {
    "duration": 15,
    "start_time": "2023-01-16T05:47:31.030Z"
   },
   {
    "duration": 3,
    "start_time": "2023-01-16T05:55:20.348Z"
   },
   {
    "duration": 7,
    "start_time": "2023-01-16T06:48:19.001Z"
   },
   {
    "duration": 4,
    "start_time": "2023-01-16T06:48:20.756Z"
   },
   {
    "duration": 5,
    "start_time": "2023-01-16T06:50:25.286Z"
   },
   {
    "duration": 18298,
    "start_time": "2023-01-16T06:50:34.728Z"
   },
   {
    "duration": 18299,
    "start_time": "2023-01-16T06:52:07.132Z"
   },
   {
    "duration": 4,
    "start_time": "2023-01-16T06:52:28.056Z"
   },
   {
    "duration": 45743,
    "start_time": "2023-01-16T06:52:57.241Z"
   },
   {
    "duration": 5,
    "start_time": "2023-01-16T07:00:12.405Z"
   },
   {
    "duration": 45776,
    "start_time": "2023-01-16T07:00:25.601Z"
   },
   {
    "duration": 16,
    "start_time": "2023-01-16T07:16:19.219Z"
   },
   {
    "duration": 4,
    "start_time": "2023-01-16T07:21:58.845Z"
   },
   {
    "duration": 690,
    "start_time": "2023-01-16T07:21:58.996Z"
   },
   {
    "duration": 15,
    "start_time": "2023-01-16T07:21:59.688Z"
   },
   {
    "duration": 15,
    "start_time": "2023-01-16T07:21:59.705Z"
   },
   {
    "duration": 16,
    "start_time": "2023-01-16T07:21:59.721Z"
   },
   {
    "duration": 13,
    "start_time": "2023-01-16T07:21:59.739Z"
   },
   {
    "duration": 13,
    "start_time": "2023-01-16T07:21:59.754Z"
   },
   {
    "duration": 9,
    "start_time": "2023-01-16T07:21:59.768Z"
   },
   {
    "duration": 43,
    "start_time": "2023-01-16T07:21:59.855Z"
   },
   {
    "duration": 16,
    "start_time": "2023-01-16T07:22:00.056Z"
   },
   {
    "duration": 6,
    "start_time": "2023-01-16T07:22:00.251Z"
   },
   {
    "duration": 20,
    "start_time": "2023-01-16T07:22:00.261Z"
   },
   {
    "duration": 4,
    "start_time": "2023-01-16T07:22:00.657Z"
   },
   {
    "duration": 9,
    "start_time": "2023-01-16T07:22:00.846Z"
   },
   {
    "duration": 124,
    "start_time": "2023-01-16T07:22:57.246Z"
   },
   {
    "duration": 119,
    "start_time": "2023-01-16T07:23:29.244Z"
   },
   {
    "duration": 136,
    "start_time": "2023-01-16T07:23:39.471Z"
   },
   {
    "duration": 154,
    "start_time": "2023-01-16T07:25:37.696Z"
   },
   {
    "duration": 137,
    "start_time": "2023-01-16T07:26:36.027Z"
   },
   {
    "duration": 128,
    "start_time": "2023-01-16T07:27:13.767Z"
   },
   {
    "duration": 159,
    "start_time": "2023-01-16T07:27:46.442Z"
   },
   {
    "duration": 3,
    "start_time": "2023-01-16T07:28:20.867Z"
   },
   {
    "duration": 709,
    "start_time": "2023-01-16T07:28:20.881Z"
   },
   {
    "duration": 17,
    "start_time": "2023-01-16T07:28:21.592Z"
   },
   {
    "duration": 18,
    "start_time": "2023-01-16T07:28:21.611Z"
   },
   {
    "duration": 12,
    "start_time": "2023-01-16T07:28:21.633Z"
   },
   {
    "duration": 14,
    "start_time": "2023-01-16T07:28:21.646Z"
   },
   {
    "duration": 12,
    "start_time": "2023-01-16T07:28:21.661Z"
   },
   {
    "duration": 8,
    "start_time": "2023-01-16T07:28:21.675Z"
   },
   {
    "duration": 69,
    "start_time": "2023-01-16T07:28:21.685Z"
   },
   {
    "duration": 12,
    "start_time": "2023-01-16T07:28:21.756Z"
   },
   {
    "duration": 6,
    "start_time": "2023-01-16T07:28:21.770Z"
   },
   {
    "duration": 7,
    "start_time": "2023-01-16T07:28:21.778Z"
   },
   {
    "duration": 5,
    "start_time": "2023-01-16T07:28:21.787Z"
   },
   {
    "duration": 11,
    "start_time": "2023-01-16T07:29:26.419Z"
   },
   {
    "duration": 4,
    "start_time": "2023-01-16T07:29:31.934Z"
   },
   {
    "duration": 59,
    "start_time": "2023-01-16T07:29:34.497Z"
   },
   {
    "duration": 3,
    "start_time": "2023-01-16T07:29:35.856Z"
   },
   {
    "duration": 3,
    "start_time": "2023-01-16T07:29:53.847Z"
   },
   {
    "duration": 718,
    "start_time": "2023-01-16T07:29:53.855Z"
   },
   {
    "duration": 16,
    "start_time": "2023-01-16T07:29:54.576Z"
   },
   {
    "duration": 35,
    "start_time": "2023-01-16T07:29:54.593Z"
   },
   {
    "duration": 12,
    "start_time": "2023-01-16T07:29:54.630Z"
   },
   {
    "duration": 13,
    "start_time": "2023-01-16T07:29:54.644Z"
   },
   {
    "duration": 13,
    "start_time": "2023-01-16T07:29:54.659Z"
   },
   {
    "duration": 9,
    "start_time": "2023-01-16T07:29:54.674Z"
   },
   {
    "duration": 71,
    "start_time": "2023-01-16T07:29:54.684Z"
   },
   {
    "duration": 12,
    "start_time": "2023-01-16T07:29:54.757Z"
   },
   {
    "duration": 7,
    "start_time": "2023-01-16T07:29:54.771Z"
   },
   {
    "duration": 5,
    "start_time": "2023-01-16T07:29:54.780Z"
   },
   {
    "duration": 6,
    "start_time": "2023-01-16T07:29:54.787Z"
   },
   {
    "duration": 10,
    "start_time": "2023-01-16T07:29:54.823Z"
   },
   {
    "duration": 146,
    "start_time": "2023-01-16T07:29:57.996Z"
   },
   {
    "duration": 141,
    "start_time": "2023-01-16T07:30:52.151Z"
   },
   {
    "duration": 87,
    "start_time": "2023-01-16T07:31:02.523Z"
   },
   {
    "duration": 1437,
    "start_time": "2023-01-16T07:43:26.617Z"
   },
   {
    "duration": 717,
    "start_time": "2023-01-16T07:43:28.055Z"
   },
   {
    "duration": 18,
    "start_time": "2023-01-16T07:43:28.774Z"
   },
   {
    "duration": 37,
    "start_time": "2023-01-16T07:43:28.794Z"
   },
   {
    "duration": 11,
    "start_time": "2023-01-16T07:43:28.833Z"
   },
   {
    "duration": 16,
    "start_time": "2023-01-16T07:43:28.845Z"
   },
   {
    "duration": 11,
    "start_time": "2023-01-16T07:43:28.862Z"
   },
   {
    "duration": 9,
    "start_time": "2023-01-16T07:43:28.875Z"
   },
   {
    "duration": 50,
    "start_time": "2023-01-16T07:43:28.926Z"
   },
   {
    "duration": 15,
    "start_time": "2023-01-16T07:43:28.979Z"
   },
   {
    "duration": 5,
    "start_time": "2023-01-16T07:43:28.995Z"
   },
   {
    "duration": 8,
    "start_time": "2023-01-16T07:43:29.001Z"
   },
   {
    "duration": 8,
    "start_time": "2023-01-16T07:43:29.023Z"
   },
   {
    "duration": 13,
    "start_time": "2023-01-16T07:43:29.032Z"
   },
   {
    "duration": 87,
    "start_time": "2023-01-16T07:43:29.046Z"
   },
   {
    "duration": 49,
    "start_time": "2023-01-16T07:43:29.135Z"
   },
   {
    "duration": 8,
    "start_time": "2023-01-16T07:43:29.185Z"
   },
   {
    "duration": 21,
    "start_time": "2023-01-16T07:43:29.195Z"
   },
   {
    "duration": 6,
    "start_time": "2023-01-16T07:43:29.226Z"
   },
   {
    "duration": 407,
    "start_time": "2023-01-16T07:43:29.233Z"
   },
   {
    "duration": 480,
    "start_time": "2023-01-16T07:43:29.641Z"
   },
   {
    "duration": 417,
    "start_time": "2023-01-16T07:43:30.128Z"
   },
   {
    "duration": 3,
    "start_time": "2023-01-16T07:43:30.547Z"
   },
   {
    "duration": 981,
    "start_time": "2023-01-16T07:43:30.552Z"
   },
   {
    "duration": 7,
    "start_time": "2023-01-16T07:43:31.535Z"
   },
   {
    "duration": 49,
    "start_time": "2023-01-16T07:43:31.543Z"
   },
   {
    "duration": 1381,
    "start_time": "2023-01-16T07:43:31.593Z"
   },
   {
    "duration": 3,
    "start_time": "2023-01-16T07:43:32.977Z"
   },
   {
    "duration": 5,
    "start_time": "2023-01-16T07:43:32.982Z"
   },
   {
    "duration": 16,
    "start_time": "2023-01-16T07:43:32.989Z"
   },
   {
    "duration": 23,
    "start_time": "2023-01-16T07:43:33.007Z"
   },
   {
    "duration": 107,
    "start_time": "2023-01-16T07:43:33.032Z"
   },
   {
    "duration": 17284,
    "start_time": "2023-01-16T07:43:33.141Z"
   },
   {
    "duration": 45706,
    "start_time": "2023-01-16T07:43:50.427Z"
   },
   {
    "duration": 591850,
    "start_time": "2023-01-16T07:44:36.134Z"
   },
   {
    "duration": 9,
    "start_time": "2023-01-16T07:54:27.985Z"
   },
   {
    "duration": 16,
    "start_time": "2023-01-16T07:54:27.995Z"
   },
   {
    "duration": 22,
    "start_time": "2023-01-16T07:54:28.012Z"
   },
   {
    "duration": 12,
    "start_time": "2023-01-16T07:54:28.036Z"
   },
   {
    "duration": 5,
    "start_time": "2023-01-16T07:55:07.885Z"
   },
   {
    "duration": 180770,
    "start_time": "2023-01-16T07:55:20.640Z"
   },
   {
    "duration": 11,
    "start_time": "2023-01-16T07:59:24.645Z"
   },
   {
    "duration": 11,
    "start_time": "2023-01-16T08:00:15.755Z"
   },
   {
    "duration": 9,
    "start_time": "2023-01-16T08:00:20.971Z"
   },
   {
    "duration": 11,
    "start_time": "2023-01-16T08:00:40.347Z"
   },
   {
    "duration": 27,
    "start_time": "2023-01-16T08:42:03.978Z"
   },
   {
    "duration": 4,
    "start_time": "2023-01-16T08:53:14.974Z"
   },
   {
    "duration": 3,
    "start_time": "2023-01-16T08:53:16.162Z"
   },
   {
    "duration": 12792,
    "start_time": "2023-01-16T08:53:23.924Z"
   },
   {
    "duration": 6,
    "start_time": "2023-01-16T08:53:36.718Z"
   },
   {
    "duration": 4,
    "start_time": "2023-01-16T08:54:13.094Z"
   },
   {
    "duration": 79,
    "start_time": "2023-01-16T13:08:44.454Z"
   },
   {
    "duration": 41,
    "start_time": "2023-01-16T13:46:45.607Z"
   },
   {
    "duration": 6,
    "start_time": "2023-01-16T13:47:02.501Z"
   },
   {
    "duration": 6,
    "start_time": "2023-01-16T13:47:13.256Z"
   },
   {
    "duration": 1493,
    "start_time": "2023-01-16T13:47:27.779Z"
   },
   {
    "duration": 1872,
    "start_time": "2023-01-16T13:47:29.274Z"
   },
   {
    "duration": 19,
    "start_time": "2023-01-16T13:47:31.147Z"
   },
   {
    "duration": 18,
    "start_time": "2023-01-16T13:47:31.168Z"
   },
   {
    "duration": 40,
    "start_time": "2023-01-16T13:47:31.187Z"
   },
   {
    "duration": 34,
    "start_time": "2023-01-16T13:47:31.228Z"
   },
   {
    "duration": 10,
    "start_time": "2023-01-16T13:47:31.263Z"
   },
   {
    "duration": 33,
    "start_time": "2023-01-16T13:47:31.275Z"
   },
   {
    "duration": 107,
    "start_time": "2023-01-16T13:47:31.310Z"
   },
   {
    "duration": 12,
    "start_time": "2023-01-16T13:47:31.419Z"
   },
   {
    "duration": 54,
    "start_time": "2023-01-16T13:47:31.432Z"
   },
   {
    "duration": 34,
    "start_time": "2023-01-16T13:47:31.488Z"
   },
   {
    "duration": 41,
    "start_time": "2023-01-16T13:47:31.524Z"
   },
   {
    "duration": 67,
    "start_time": "2023-01-16T13:47:31.566Z"
   },
   {
    "duration": 104,
    "start_time": "2023-01-16T13:47:31.635Z"
   },
   {
    "duration": 86,
    "start_time": "2023-01-16T13:47:31.741Z"
   },
   {
    "duration": 22,
    "start_time": "2023-01-16T13:47:31.829Z"
   },
   {
    "duration": 18,
    "start_time": "2023-01-16T13:47:31.853Z"
   },
   {
    "duration": 52,
    "start_time": "2023-01-16T13:47:31.872Z"
   },
   {
    "duration": 381,
    "start_time": "2023-01-16T13:47:31.925Z"
   },
   {
    "duration": 417,
    "start_time": "2023-01-16T13:47:32.308Z"
   },
   {
    "duration": 361,
    "start_time": "2023-01-16T13:47:32.726Z"
   },
   {
    "duration": 3,
    "start_time": "2023-01-16T13:47:33.089Z"
   },
   {
    "duration": 871,
    "start_time": "2023-01-16T13:47:33.094Z"
   },
   {
    "duration": 6,
    "start_time": "2023-01-16T13:47:33.967Z"
   },
   {
    "duration": 23,
    "start_time": "2023-01-16T13:47:33.975Z"
   },
   {
    "duration": 1374,
    "start_time": "2023-01-16T13:47:33.999Z"
   },
   {
    "duration": 12,
    "start_time": "2023-01-16T13:47:44.294Z"
   },
   {
    "duration": 14,
    "start_time": "2023-01-16T13:50:58.215Z"
   },
   {
    "duration": 11,
    "start_time": "2023-01-16T13:51:50.408Z"
   },
   {
    "duration": 3,
    "start_time": "2023-01-16T13:51:56.369Z"
   },
   {
    "duration": 664,
    "start_time": "2023-01-16T13:51:56.376Z"
   },
   {
    "duration": 17,
    "start_time": "2023-01-16T13:51:57.042Z"
   },
   {
    "duration": 15,
    "start_time": "2023-01-16T13:51:57.060Z"
   },
   {
    "duration": 12,
    "start_time": "2023-01-16T13:51:57.076Z"
   },
   {
    "duration": 39,
    "start_time": "2023-01-16T13:51:57.090Z"
   },
   {
    "duration": 12,
    "start_time": "2023-01-16T13:51:57.131Z"
   },
   {
    "duration": 9,
    "start_time": "2023-01-16T13:51:57.145Z"
   },
   {
    "duration": 29,
    "start_time": "2023-01-16T13:51:57.156Z"
   },
   {
    "duration": 14,
    "start_time": "2023-01-16T13:51:57.188Z"
   },
   {
    "duration": 26,
    "start_time": "2023-01-16T13:51:57.203Z"
   },
   {
    "duration": 23,
    "start_time": "2023-01-16T13:51:57.231Z"
   },
   {
    "duration": 13,
    "start_time": "2023-01-16T13:51:57.255Z"
   },
   {
    "duration": 13,
    "start_time": "2023-01-16T13:51:57.270Z"
   },
   {
    "duration": 86,
    "start_time": "2023-01-16T13:51:57.285Z"
   },
   {
    "duration": 73,
    "start_time": "2023-01-16T13:51:57.373Z"
   },
   {
    "duration": 19,
    "start_time": "2023-01-16T13:51:57.447Z"
   },
   {
    "duration": 8,
    "start_time": "2023-01-16T13:51:57.467Z"
   },
   {
    "duration": 14,
    "start_time": "2023-01-16T13:51:57.476Z"
   },
   {
    "duration": 370,
    "start_time": "2023-01-16T13:51:57.491Z"
   },
   {
    "duration": 347,
    "start_time": "2023-01-16T13:51:57.863Z"
   },
   {
    "duration": 355,
    "start_time": "2023-01-16T13:51:58.212Z"
   },
   {
    "duration": 3,
    "start_time": "2023-01-16T13:51:58.569Z"
   },
   {
    "duration": 898,
    "start_time": "2023-01-16T13:51:58.573Z"
   },
   {
    "duration": 7,
    "start_time": "2023-01-16T13:51:59.473Z"
   },
   {
    "duration": 25,
    "start_time": "2023-01-16T13:51:59.481Z"
   },
   {
    "duration": 1427,
    "start_time": "2023-01-16T13:51:59.508Z"
   },
   {
    "duration": 13,
    "start_time": "2023-01-16T13:52:03.793Z"
   },
   {
    "duration": 12,
    "start_time": "2023-01-16T13:52:09.187Z"
   },
   {
    "duration": 10,
    "start_time": "2023-01-16T13:52:40.262Z"
   },
   {
    "duration": 12,
    "start_time": "2023-01-16T13:53:16.641Z"
   },
   {
    "duration": 17,
    "start_time": "2023-01-16T13:54:43.185Z"
   },
   {
    "duration": 14,
    "start_time": "2023-01-16T13:54:54.831Z"
   },
   {
    "duration": 37,
    "start_time": "2023-01-16T13:55:17.406Z"
   },
   {
    "duration": 4,
    "start_time": "2023-01-16T13:55:24.804Z"
   },
   {
    "duration": 674,
    "start_time": "2023-01-16T13:55:24.810Z"
   },
   {
    "duration": 22,
    "start_time": "2023-01-16T13:55:25.486Z"
   },
   {
    "duration": 28,
    "start_time": "2023-01-16T13:55:25.512Z"
   },
   {
    "duration": 14,
    "start_time": "2023-01-16T13:55:25.542Z"
   },
   {
    "duration": 27,
    "start_time": "2023-01-16T13:55:25.558Z"
   },
   {
    "duration": 11,
    "start_time": "2023-01-16T13:55:25.586Z"
   },
   {
    "duration": 8,
    "start_time": "2023-01-16T13:55:25.599Z"
   },
   {
    "duration": 38,
    "start_time": "2023-01-16T13:55:30.204Z"
   },
   {
    "duration": 17,
    "start_time": "2023-01-16T13:55:31.724Z"
   },
   {
    "duration": 8,
    "start_time": "2023-01-16T13:55:46.388Z"
   },
   {
    "duration": 19,
    "start_time": "2023-01-16T13:56:07.382Z"
   },
   {
    "duration": 3,
    "start_time": "2023-01-16T13:56:58.837Z"
   },
   {
    "duration": 663,
    "start_time": "2023-01-16T13:56:58.842Z"
   },
   {
    "duration": 16,
    "start_time": "2023-01-16T13:56:59.507Z"
   },
   {
    "duration": 14,
    "start_time": "2023-01-16T13:56:59.525Z"
   },
   {
    "duration": 11,
    "start_time": "2023-01-16T13:56:59.541Z"
   },
   {
    "duration": 13,
    "start_time": "2023-01-16T13:56:59.553Z"
   },
   {
    "duration": 10,
    "start_time": "2023-01-16T13:56:59.567Z"
   },
   {
    "duration": 8,
    "start_time": "2023-01-16T13:56:59.579Z"
   },
   {
    "duration": 53,
    "start_time": "2023-01-16T13:56:59.588Z"
   },
   {
    "duration": 8,
    "start_time": "2023-01-16T13:56:59.642Z"
   },
   {
    "duration": 11,
    "start_time": "2023-01-16T13:56:59.653Z"
   },
   {
    "duration": 6,
    "start_time": "2023-01-16T13:56:59.665Z"
   },
   {
    "duration": 7,
    "start_time": "2023-01-16T13:56:59.672Z"
   },
   {
    "duration": 8,
    "start_time": "2023-01-16T13:56:59.680Z"
   },
   {
    "duration": 15,
    "start_time": "2023-01-16T13:56:59.689Z"
   },
   {
    "duration": 105,
    "start_time": "2023-01-16T13:56:59.705Z"
   },
   {
    "duration": 72,
    "start_time": "2023-01-16T13:56:59.812Z"
   },
   {
    "duration": 6,
    "start_time": "2023-01-16T13:56:59.886Z"
   },
   {
    "duration": 16,
    "start_time": "2023-01-16T13:56:59.894Z"
   },
   {
    "duration": 7,
    "start_time": "2023-01-16T13:56:59.911Z"
   },
   {
    "duration": 361,
    "start_time": "2023-01-16T13:56:59.919Z"
   },
   {
    "duration": 345,
    "start_time": "2023-01-16T13:57:00.282Z"
   },
   {
    "duration": 507,
    "start_time": "2023-01-16T13:57:00.629Z"
   },
   {
    "duration": 4,
    "start_time": "2023-01-16T13:57:01.138Z"
   },
   {
    "duration": 829,
    "start_time": "2023-01-16T13:57:01.143Z"
   },
   {
    "duration": 7,
    "start_time": "2023-01-16T13:57:01.974Z"
   },
   {
    "duration": 29,
    "start_time": "2023-01-16T13:57:01.982Z"
   },
   {
    "duration": 1272,
    "start_time": "2023-01-16T13:57:02.013Z"
   },
   {
    "duration": 12,
    "start_time": "2023-01-16T13:57:12.465Z"
   },
   {
    "duration": 12,
    "start_time": "2023-01-16T13:57:58.031Z"
   },
   {
    "duration": 11,
    "start_time": "2023-01-16T14:00:14.132Z"
   },
   {
    "duration": 7,
    "start_time": "2023-01-16T14:02:46.763Z"
   },
   {
    "duration": 13,
    "start_time": "2023-01-16T14:03:25.352Z"
   },
   {
    "duration": 10,
    "start_time": "2023-01-16T14:03:39.960Z"
   },
   {
    "duration": 10,
    "start_time": "2023-01-16T14:03:59.903Z"
   },
   {
    "duration": 10,
    "start_time": "2023-01-16T14:04:09.585Z"
   },
   {
    "duration": 9,
    "start_time": "2023-01-16T14:04:14.524Z"
   },
   {
    "duration": 10,
    "start_time": "2023-01-16T14:04:19.892Z"
   },
   {
    "duration": 10,
    "start_time": "2023-01-16T14:04:32.005Z"
   },
   {
    "duration": 11,
    "start_time": "2023-01-16T14:04:38.892Z"
   },
   {
    "duration": 12,
    "start_time": "2023-01-16T14:04:52.275Z"
   },
   {
    "duration": 12,
    "start_time": "2023-01-16T14:05:04.533Z"
   },
   {
    "duration": 70,
    "start_time": "2023-01-16T14:12:14.157Z"
   },
   {
    "duration": 87,
    "start_time": "2023-01-16T14:12:27.449Z"
   },
   {
    "duration": 5,
    "start_time": "2023-01-16T14:12:34.403Z"
   },
   {
    "duration": 5,
    "start_time": "2023-01-16T14:12:59.850Z"
   },
   {
    "duration": 10,
    "start_time": "2023-01-16T14:13:07.639Z"
   },
   {
    "duration": 4,
    "start_time": "2023-01-16T14:13:11.665Z"
   },
   {
    "duration": 4,
    "start_time": "2023-01-16T14:14:33.500Z"
   },
   {
    "duration": 4,
    "start_time": "2023-01-16T14:14:50.578Z"
   },
   {
    "duration": 4,
    "start_time": "2023-01-16T14:17:15.051Z"
   },
   {
    "duration": 34,
    "start_time": "2023-01-16T14:17:35.375Z"
   },
   {
    "duration": 34,
    "start_time": "2023-01-16T14:17:43.389Z"
   },
   {
    "duration": 3,
    "start_time": "2023-01-16T14:18:16.453Z"
   },
   {
    "duration": 4,
    "start_time": "2023-01-16T14:18:53.239Z"
   },
   {
    "duration": 5,
    "start_time": "2023-01-16T14:19:06.983Z"
   },
   {
    "duration": 4,
    "start_time": "2023-01-16T14:19:42.237Z"
   },
   {
    "duration": 8,
    "start_time": "2023-01-16T14:25:21.882Z"
   },
   {
    "duration": 5,
    "start_time": "2023-01-16T14:25:32.622Z"
   },
   {
    "duration": 33,
    "start_time": "2023-01-16T14:25:36.920Z"
   },
   {
    "duration": 9,
    "start_time": "2023-01-16T14:28:09.914Z"
   },
   {
    "duration": 4,
    "start_time": "2023-01-16T14:28:12.585Z"
   },
   {
    "duration": 28,
    "start_time": "2023-01-16T14:30:30.905Z"
   },
   {
    "duration": 26,
    "start_time": "2023-01-16T14:30:46.584Z"
   },
   {
    "duration": 9,
    "start_time": "2023-01-16T14:33:52.637Z"
   },
   {
    "duration": 4,
    "start_time": "2023-01-16T14:34:06.580Z"
   },
   {
    "duration": 40,
    "start_time": "2023-01-16T14:34:09.842Z"
   },
   {
    "duration": 38,
    "start_time": "2023-01-16T14:34:36.666Z"
   },
   {
    "duration": 55,
    "start_time": "2023-01-16T15:36:00.697Z"
   },
   {
    "duration": 42,
    "start_time": "2023-01-16T15:36:41.854Z"
   },
   {
    "duration": 34,
    "start_time": "2023-01-16T15:36:57.095Z"
   },
   {
    "duration": 30,
    "start_time": "2023-01-16T15:38:55.618Z"
   },
   {
    "duration": 31,
    "start_time": "2023-01-16T15:39:42.523Z"
   },
   {
    "duration": 2900,
    "start_time": "2023-01-16T15:40:09.988Z"
   },
   {
    "duration": 6,
    "start_time": "2023-01-16T15:40:35.366Z"
   },
   {
    "duration": 1520,
    "start_time": "2023-01-17T00:27:24.472Z"
   },
   {
    "duration": 3165,
    "start_time": "2023-01-17T00:27:25.994Z"
   },
   {
    "duration": 19,
    "start_time": "2023-01-17T00:27:29.160Z"
   },
   {
    "duration": 15,
    "start_time": "2023-01-17T00:27:29.181Z"
   },
   {
    "duration": 11,
    "start_time": "2023-01-17T00:27:29.198Z"
   },
   {
    "duration": 41,
    "start_time": "2023-01-17T00:27:29.211Z"
   },
   {
    "duration": 17,
    "start_time": "2023-01-17T00:27:29.254Z"
   },
   {
    "duration": 14,
    "start_time": "2023-01-17T00:27:29.273Z"
   },
   {
    "duration": 26,
    "start_time": "2023-01-17T00:27:29.289Z"
   },
   {
    "duration": 39,
    "start_time": "2023-01-17T00:27:29.317Z"
   },
   {
    "duration": 13,
    "start_time": "2023-01-17T00:27:29.357Z"
   },
   {
    "duration": 10,
    "start_time": "2023-01-17T00:27:29.372Z"
   },
   {
    "duration": 8,
    "start_time": "2023-01-17T00:27:29.385Z"
   },
   {
    "duration": 29,
    "start_time": "2023-01-17T00:27:29.398Z"
   },
   {
    "duration": 13,
    "start_time": "2023-01-17T00:27:29.429Z"
   },
   {
    "duration": 106,
    "start_time": "2023-01-17T00:27:29.448Z"
   },
   {
    "duration": 67,
    "start_time": "2023-01-17T00:27:29.556Z"
   },
   {
    "duration": 26,
    "start_time": "2023-01-17T00:27:29.624Z"
   },
   {
    "duration": 4,
    "start_time": "2023-01-17T00:27:29.652Z"
   },
   {
    "duration": 6,
    "start_time": "2023-01-17T00:27:29.657Z"
   },
   {
    "duration": 392,
    "start_time": "2023-01-17T00:27:29.665Z"
   },
   {
    "duration": 521,
    "start_time": "2023-01-17T00:27:30.058Z"
   },
   {
    "duration": 444,
    "start_time": "2023-01-17T00:27:30.581Z"
   },
   {
    "duration": 4,
    "start_time": "2023-01-17T00:27:31.027Z"
   },
   {
    "duration": 860,
    "start_time": "2023-01-17T00:27:31.034Z"
   },
   {
    "duration": 9,
    "start_time": "2023-01-17T00:27:31.896Z"
   },
   {
    "duration": 28,
    "start_time": "2023-01-17T00:27:31.907Z"
   },
   {
    "duration": 1488,
    "start_time": "2023-01-17T00:27:31.936Z"
   },
   {
    "duration": 151,
    "start_time": "2023-01-17T00:36:13.355Z"
   },
   {
    "duration": 27,
    "start_time": "2023-01-17T00:37:27.186Z"
   },
   {
    "duration": 60,
    "start_time": "2023-01-17T00:37:45.261Z"
   },
   {
    "duration": 1163,
    "start_time": "2023-01-17T00:40:00.855Z"
   },
   {
    "duration": 695,
    "start_time": "2023-01-17T00:40:52.142Z"
   },
   {
    "duration": 763,
    "start_time": "2023-01-17T00:42:01.827Z"
   },
   {
    "duration": 11,
    "start_time": "2023-01-17T00:43:10.196Z"
   },
   {
    "duration": 4,
    "start_time": "2023-01-17T00:43:24.066Z"
   },
   {
    "duration": 732,
    "start_time": "2023-01-17T00:44:50.779Z"
   },
   {
    "duration": 3,
    "start_time": "2023-01-17T00:44:58.388Z"
   },
   {
    "duration": 54,
    "start_time": "2023-01-17T00:47:07.397Z"
   },
   {
    "duration": 18,
    "start_time": "2023-01-17T00:49:35.336Z"
   },
   {
    "duration": 12,
    "start_time": "2023-01-17T00:49:51.557Z"
   },
   {
    "duration": 22,
    "start_time": "2023-01-17T00:52:05.065Z"
   },
   {
    "duration": 20,
    "start_time": "2023-01-17T00:52:15.236Z"
   },
   {
    "duration": 6,
    "start_time": "2023-01-17T00:54:27.856Z"
   },
   {
    "duration": 39,
    "start_time": "2023-01-17T00:54:54.930Z"
   },
   {
    "duration": 9,
    "start_time": "2023-01-17T01:02:09.778Z"
   },
   {
    "duration": 8,
    "start_time": "2023-01-17T01:08:05.605Z"
   },
   {
    "duration": 28,
    "start_time": "2023-01-17T01:08:13.705Z"
   },
   {
    "duration": 5,
    "start_time": "2023-01-17T01:08:25.712Z"
   },
   {
    "duration": 919,
    "start_time": "2023-01-17T01:08:27.554Z"
   },
   {
    "duration": 764,
    "start_time": "2023-01-17T01:14:40.075Z"
   },
   {
    "duration": 16,
    "start_time": "2023-01-17T01:14:54.134Z"
   },
   {
    "duration": 6,
    "start_time": "2023-01-17T01:15:24.559Z"
   },
   {
    "duration": 688,
    "start_time": "2023-01-17T01:23:32.676Z"
   },
   {
    "duration": 757,
    "start_time": "2023-01-17T01:23:51.357Z"
   },
   {
    "duration": 44,
    "start_time": "2023-01-17T01:29:56.805Z"
   },
   {
    "duration": 10,
    "start_time": "2023-01-17T01:33:11.909Z"
   },
   {
    "duration": 709,
    "start_time": "2023-01-17T01:33:21.268Z"
   },
   {
    "duration": 1069,
    "start_time": "2023-01-17T01:34:19.158Z"
   },
   {
    "duration": 766,
    "start_time": "2023-01-17T01:34:36.486Z"
   },
   {
    "duration": 726,
    "start_time": "2023-01-17T01:34:48.437Z"
   },
   {
    "duration": 758,
    "start_time": "2023-01-17T01:35:53.870Z"
   },
   {
    "duration": 846,
    "start_time": "2023-01-17T01:37:03.126Z"
   },
   {
    "duration": 864,
    "start_time": "2023-01-17T01:37:20.449Z"
   },
   {
    "duration": 25,
    "start_time": "2023-01-17T01:37:32.926Z"
   },
   {
    "duration": 115,
    "start_time": "2023-01-17T01:37:55.575Z"
   },
   {
    "duration": 6,
    "start_time": "2023-01-17T01:38:36.908Z"
   },
   {
    "duration": 26,
    "start_time": "2023-01-17T01:41:16.145Z"
   },
   {
    "duration": 136,
    "start_time": "2023-01-17T01:41:44.814Z"
   },
   {
    "duration": 30,
    "start_time": "2023-01-17T01:42:12.505Z"
   },
   {
    "duration": 30,
    "start_time": "2023-01-17T01:43:27.948Z"
   },
   {
    "duration": 25,
    "start_time": "2023-01-17T01:43:52.815Z"
   },
   {
    "duration": 9,
    "start_time": "2023-01-17T01:45:01.876Z"
   },
   {
    "duration": 26,
    "start_time": "2023-01-17T01:46:22.219Z"
   },
   {
    "duration": 52,
    "start_time": "2023-01-17T01:50:41.427Z"
   },
   {
    "duration": 14,
    "start_time": "2023-01-17T01:50:57.314Z"
   },
   {
    "duration": 4,
    "start_time": "2023-01-17T01:51:19.517Z"
   },
   {
    "duration": 14,
    "start_time": "2023-01-17T01:53:45.464Z"
   },
   {
    "duration": 16,
    "start_time": "2023-01-17T02:07:26.409Z"
   },
   {
    "duration": 4,
    "start_time": "2023-01-17T03:31:26.353Z"
   },
   {
    "duration": 733,
    "start_time": "2023-01-17T03:31:26.363Z"
   },
   {
    "duration": 17,
    "start_time": "2023-01-17T03:31:27.098Z"
   },
   {
    "duration": 17,
    "start_time": "2023-01-17T03:31:27.117Z"
   },
   {
    "duration": 23,
    "start_time": "2023-01-17T03:31:27.136Z"
   },
   {
    "duration": 13,
    "start_time": "2023-01-17T03:31:27.160Z"
   },
   {
    "duration": 11,
    "start_time": "2023-01-17T03:31:27.174Z"
   },
   {
    "duration": 8,
    "start_time": "2023-01-17T03:31:27.187Z"
   },
   {
    "duration": 20,
    "start_time": "2023-01-17T03:31:27.196Z"
   },
   {
    "duration": 9,
    "start_time": "2023-01-17T03:31:27.250Z"
   },
   {
    "duration": 14,
    "start_time": "2023-01-17T03:31:27.260Z"
   },
   {
    "duration": 8,
    "start_time": "2023-01-17T03:31:27.276Z"
   },
   {
    "duration": 9,
    "start_time": "2023-01-17T03:31:27.285Z"
   },
   {
    "duration": 6,
    "start_time": "2023-01-17T03:31:27.296Z"
   },
   {
    "duration": 9,
    "start_time": "2023-01-17T03:31:27.304Z"
   },
   {
    "duration": 113,
    "start_time": "2023-01-17T03:31:27.315Z"
   },
   {
    "duration": 64,
    "start_time": "2023-01-17T03:31:27.430Z"
   },
   {
    "duration": 4,
    "start_time": "2023-01-17T03:31:27.495Z"
   },
   {
    "duration": 5,
    "start_time": "2023-01-17T03:31:27.501Z"
   },
   {
    "duration": 5,
    "start_time": "2023-01-17T03:31:27.508Z"
   },
   {
    "duration": 409,
    "start_time": "2023-01-17T03:31:27.514Z"
   },
   {
    "duration": 357,
    "start_time": "2023-01-17T03:31:27.924Z"
   },
   {
    "duration": 405,
    "start_time": "2023-01-17T03:31:28.282Z"
   },
   {
    "duration": 4,
    "start_time": "2023-01-17T03:31:28.689Z"
   },
   {
    "duration": 955,
    "start_time": "2023-01-17T03:31:28.695Z"
   },
   {
    "duration": 8,
    "start_time": "2023-01-17T03:31:29.652Z"
   },
   {
    "duration": 32,
    "start_time": "2023-01-17T03:31:29.662Z"
   },
   {
    "duration": 1500,
    "start_time": "2023-01-17T03:31:29.697Z"
   },
   {
    "duration": 9,
    "start_time": "2023-01-17T03:31:31.199Z"
   },
   {
    "duration": 21,
    "start_time": "2023-01-17T03:31:31.209Z"
   },
   {
    "duration": 9,
    "start_time": "2023-01-17T03:31:31.232Z"
   },
   {
    "duration": 9,
    "start_time": "2023-01-17T03:32:53.960Z"
   },
   {
    "duration": 3,
    "start_time": "2023-01-17T03:32:59.301Z"
   },
   {
    "duration": 5,
    "start_time": "2023-01-17T03:33:02.414Z"
   },
   {
    "duration": 13255,
    "start_time": "2023-01-17T03:39:01.296Z"
   },
   {
    "duration": 4,
    "start_time": "2023-01-17T03:43:55.380Z"
   },
   {
    "duration": 728,
    "start_time": "2023-01-17T03:43:55.388Z"
   },
   {
    "duration": 17,
    "start_time": "2023-01-17T03:43:56.118Z"
   },
   {
    "duration": 21,
    "start_time": "2023-01-17T03:43:56.137Z"
   },
   {
    "duration": 12,
    "start_time": "2023-01-17T03:43:56.159Z"
   },
   {
    "duration": 14,
    "start_time": "2023-01-17T03:43:56.173Z"
   },
   {
    "duration": 12,
    "start_time": "2023-01-17T03:43:56.188Z"
   },
   {
    "duration": 48,
    "start_time": "2023-01-17T03:43:56.202Z"
   },
   {
    "duration": 28,
    "start_time": "2023-01-17T03:43:56.253Z"
   },
   {
    "duration": 10,
    "start_time": "2023-01-17T03:43:56.284Z"
   },
   {
    "duration": 27,
    "start_time": "2023-01-17T03:43:56.296Z"
   },
   {
    "duration": 7,
    "start_time": "2023-01-17T03:43:56.350Z"
   },
   {
    "duration": 6,
    "start_time": "2023-01-17T03:43:56.359Z"
   },
   {
    "duration": 7,
    "start_time": "2023-01-17T03:43:56.368Z"
   },
   {
    "duration": 14,
    "start_time": "2023-01-17T03:43:56.378Z"
   },
   {
    "duration": 116,
    "start_time": "2023-01-17T03:43:56.394Z"
   },
   {
    "duration": 68,
    "start_time": "2023-01-17T03:43:56.512Z"
   },
   {
    "duration": 4,
    "start_time": "2023-01-17T03:43:56.582Z"
   },
   {
    "duration": 6,
    "start_time": "2023-01-17T03:43:56.587Z"
   },
   {
    "duration": 7,
    "start_time": "2023-01-17T03:43:56.594Z"
   },
   {
    "duration": 363,
    "start_time": "2023-01-17T03:43:56.602Z"
   },
   {
    "duration": 352,
    "start_time": "2023-01-17T03:43:56.967Z"
   },
   {
    "duration": 511,
    "start_time": "2023-01-17T03:43:57.321Z"
   },
   {
    "duration": 5,
    "start_time": "2023-01-17T03:43:57.835Z"
   },
   {
    "duration": 972,
    "start_time": "2023-01-17T03:43:57.849Z"
   },
   {
    "duration": 6,
    "start_time": "2023-01-17T03:43:58.823Z"
   },
   {
    "duration": 26,
    "start_time": "2023-01-17T03:43:58.831Z"
   },
   {
    "duration": 1392,
    "start_time": "2023-01-17T03:43:58.858Z"
   },
   {
    "duration": 8,
    "start_time": "2023-01-17T03:44:00.252Z"
   },
   {
    "duration": 23,
    "start_time": "2023-01-17T03:44:00.261Z"
   },
   {
    "duration": 19,
    "start_time": "2023-01-17T03:44:00.286Z"
   },
   {
    "duration": 10,
    "start_time": "2023-01-17T03:44:03.780Z"
   },
   {
    "duration": 2,
    "start_time": "2023-01-17T03:44:15.998Z"
   },
   {
    "duration": 5,
    "start_time": "2023-01-17T03:44:19.081Z"
   },
   {
    "duration": 4106,
    "start_time": "2023-01-17T03:44:28.350Z"
   },
   {
    "duration": 4,
    "start_time": "2023-01-17T03:45:22.418Z"
   },
   {
    "duration": 3,
    "start_time": "2023-01-17T03:47:42.850Z"
   },
   {
    "duration": 3550,
    "start_time": "2023-01-17T03:47:56.299Z"
   },
   {
    "duration": 4,
    "start_time": "2023-01-17T03:48:02.988Z"
   },
   {
    "duration": 4,
    "start_time": "2023-01-17T03:48:29.486Z"
   },
   {
    "duration": 4,
    "start_time": "2023-01-17T03:49:10.490Z"
   },
   {
    "duration": 3727,
    "start_time": "2023-01-17T03:49:24.531Z"
   },
   {
    "duration": 5,
    "start_time": "2023-01-17T03:49:30.209Z"
   },
   {
    "duration": 7,
    "start_time": "2023-01-17T03:49:51.979Z"
   },
   {
    "duration": 10,
    "start_time": "2023-01-17T03:56:44.699Z"
   },
   {
    "duration": 3,
    "start_time": "2023-01-17T03:56:52.706Z"
   },
   {
    "duration": 8,
    "start_time": "2023-01-17T04:57:44.978Z"
   },
   {
    "duration": 5,
    "start_time": "2023-01-17T04:57:57.401Z"
   },
   {
    "duration": 10,
    "start_time": "2023-01-17T04:58:38.157Z"
   },
   {
    "duration": 4,
    "start_time": "2023-01-17T04:58:56.746Z"
   },
   {
    "duration": 10,
    "start_time": "2023-01-17T04:59:36.017Z"
   },
   {
    "duration": 3,
    "start_time": "2023-01-17T05:00:09.080Z"
   },
   {
    "duration": 4,
    "start_time": "2023-01-17T05:00:31.436Z"
   },
   {
    "duration": 4,
    "start_time": "2023-01-17T05:00:50.146Z"
   },
   {
    "duration": 4,
    "start_time": "2023-01-17T05:01:48.606Z"
   },
   {
    "duration": 8,
    "start_time": "2023-01-17T05:01:56.905Z"
   },
   {
    "duration": 4,
    "start_time": "2023-01-17T05:02:01.226Z"
   },
   {
    "duration": 5,
    "start_time": "2023-01-17T05:23:36.259Z"
   },
   {
    "duration": 3,
    "start_time": "2023-01-17T05:24:08.848Z"
   },
   {
    "duration": 9,
    "start_time": "2023-01-17T05:32:07.739Z"
   },
   {
    "duration": 9,
    "start_time": "2023-01-17T05:32:11.169Z"
   },
   {
    "duration": 3,
    "start_time": "2023-01-17T05:32:30.009Z"
   },
   {
    "duration": 7,
    "start_time": "2023-01-17T05:32:44.212Z"
   },
   {
    "duration": 3,
    "start_time": "2023-01-17T05:32:45.530Z"
   },
   {
    "duration": 8,
    "start_time": "2023-01-17T05:32:54.931Z"
   },
   {
    "duration": 9,
    "start_time": "2023-01-17T05:34:43.330Z"
   },
   {
    "duration": 3,
    "start_time": "2023-01-17T05:35:37.249Z"
   },
   {
    "duration": 11,
    "start_time": "2023-01-17T05:35:46.482Z"
   },
   {
    "duration": 3,
    "start_time": "2023-01-17T05:36:58.281Z"
   },
   {
    "duration": 3,
    "start_time": "2023-01-17T05:36:59.689Z"
   },
   {
    "duration": 12,
    "start_time": "2023-01-17T05:37:07.568Z"
   },
   {
    "duration": 6,
    "start_time": "2023-01-17T06:15:53.328Z"
   },
   {
    "duration": 3168,
    "start_time": "2023-01-17T06:21:26.981Z"
   },
   {
    "duration": 160441,
    "start_time": "2023-01-17T06:22:27.985Z"
   },
   {
    "duration": 490202,
    "start_time": "2023-01-17T06:29:00.988Z"
   },
   {
    "duration": 7,
    "start_time": "2023-01-17T06:39:04.543Z"
   },
   {
    "duration": 4,
    "start_time": "2023-01-17T06:39:19.142Z"
   },
   {
    "duration": 8,
    "start_time": "2023-01-17T06:40:18.692Z"
   },
   {
    "duration": 9,
    "start_time": "2023-01-17T06:42:38.738Z"
   },
   {
    "duration": 9,
    "start_time": "2023-01-17T06:43:33.772Z"
   },
   {
    "duration": 8,
    "start_time": "2023-01-17T06:46:11.018Z"
   },
   {
    "duration": 9,
    "start_time": "2023-01-17T06:46:13.341Z"
   },
   {
    "duration": 9,
    "start_time": "2023-01-17T06:46:17.210Z"
   },
   {
    "duration": 9,
    "start_time": "2023-01-17T06:46:31.387Z"
   },
   {
    "duration": 6,
    "start_time": "2023-01-17T06:50:03.489Z"
   },
   {
    "duration": 5,
    "start_time": "2023-01-17T06:50:16.170Z"
   },
   {
    "duration": 124,
    "start_time": "2023-01-17T07:02:04.369Z"
   },
   {
    "duration": 131,
    "start_time": "2023-01-17T07:03:06.107Z"
   },
   {
    "duration": 142,
    "start_time": "2023-01-17T07:04:13.016Z"
   },
   {
    "duration": 165,
    "start_time": "2023-01-17T07:05:05.092Z"
   },
   {
    "duration": 122,
    "start_time": "2023-01-17T07:06:08.689Z"
   },
   {
    "duration": 173,
    "start_time": "2023-01-17T07:11:42.980Z"
   },
   {
    "duration": 193,
    "start_time": "2023-01-17T07:12:09.258Z"
   },
   {
    "duration": 4,
    "start_time": "2023-01-17T07:12:38.560Z"
   },
   {
    "duration": 3,
    "start_time": "2023-01-17T07:12:59.474Z"
   },
   {
    "duration": 132,
    "start_time": "2023-01-17T07:13:25.938Z"
   },
   {
    "duration": 1377,
    "start_time": "2023-01-17T07:30:46.659Z"
   },
   {
    "duration": 705,
    "start_time": "2023-01-17T07:30:48.038Z"
   },
   {
    "duration": 18,
    "start_time": "2023-01-17T07:30:48.744Z"
   },
   {
    "duration": 14,
    "start_time": "2023-01-17T07:30:48.764Z"
   },
   {
    "duration": 12,
    "start_time": "2023-01-17T07:30:48.779Z"
   },
   {
    "duration": 15,
    "start_time": "2023-01-17T07:30:48.793Z"
   },
   {
    "duration": 12,
    "start_time": "2023-01-17T07:30:48.809Z"
   },
   {
    "duration": 10,
    "start_time": "2023-01-17T07:30:48.849Z"
   },
   {
    "duration": 25,
    "start_time": "2023-01-17T07:30:48.861Z"
   },
   {
    "duration": 9,
    "start_time": "2023-01-17T07:30:48.888Z"
   },
   {
    "duration": 12,
    "start_time": "2023-01-17T07:30:48.898Z"
   },
   {
    "duration": 36,
    "start_time": "2023-01-17T07:30:48.912Z"
   },
   {
    "duration": 5,
    "start_time": "2023-01-17T07:30:48.950Z"
   },
   {
    "duration": 10,
    "start_time": "2023-01-17T07:30:48.956Z"
   },
   {
    "duration": 15,
    "start_time": "2023-01-17T07:30:48.968Z"
   },
   {
    "duration": 89,
    "start_time": "2023-01-17T07:30:48.985Z"
   },
   {
    "duration": 54,
    "start_time": "2023-01-17T07:30:49.076Z"
   },
   {
    "duration": 18,
    "start_time": "2023-01-17T07:30:49.132Z"
   },
   {
    "duration": 4,
    "start_time": "2023-01-17T07:30:49.152Z"
   },
   {
    "duration": 5,
    "start_time": "2023-01-17T07:30:49.158Z"
   },
   {
    "duration": 402,
    "start_time": "2023-01-17T07:30:49.165Z"
   },
   {
    "duration": 438,
    "start_time": "2023-01-17T07:30:49.568Z"
   },
   {
    "duration": 362,
    "start_time": "2023-01-17T07:30:50.007Z"
   },
   {
    "duration": 4,
    "start_time": "2023-01-17T07:30:50.370Z"
   },
   {
    "duration": 840,
    "start_time": "2023-01-17T07:30:50.375Z"
   },
   {
    "duration": 7,
    "start_time": "2023-01-17T07:30:51.216Z"
   },
   {
    "duration": 34,
    "start_time": "2023-01-17T07:30:51.224Z"
   },
   {
    "duration": 1323,
    "start_time": "2023-01-17T07:30:51.261Z"
   },
   {
    "duration": 9,
    "start_time": "2023-01-17T07:30:52.586Z"
   },
   {
    "duration": 41,
    "start_time": "2023-01-17T07:30:52.596Z"
   },
   {
    "duration": 7,
    "start_time": "2023-01-17T07:30:52.639Z"
   },
   {
    "duration": 11,
    "start_time": "2023-01-17T07:30:52.647Z"
   },
   {
    "duration": 5,
    "start_time": "2023-01-17T07:30:52.660Z"
   },
   {
    "duration": 106,
    "start_time": "2023-01-17T07:30:52.667Z"
   },
   {
    "duration": 4080,
    "start_time": "2023-01-17T07:30:52.775Z"
   },
   {
    "duration": 160586,
    "start_time": "2023-01-17T07:30:56.857Z"
   },
   {
    "duration": 955956,
    "start_time": "2023-01-17T07:33:37.445Z"
   },
   {
    "duration": 11,
    "start_time": "2023-01-17T07:49:33.403Z"
   },
   {
    "duration": 14,
    "start_time": "2023-01-17T07:49:33.416Z"
   },
   {
    "duration": 121,
    "start_time": "2023-01-17T07:49:33.432Z"
   },
   {
    "duration": 0,
    "start_time": "2023-01-17T07:49:33.555Z"
   },
   {
    "duration": 0,
    "start_time": "2023-01-17T07:49:33.557Z"
   },
   {
    "duration": 10,
    "start_time": "2023-01-17T07:52:54.752Z"
   },
   {
    "duration": 1001990,
    "start_time": "2023-01-17T07:54:20.447Z"
   },
   {
    "duration": 10,
    "start_time": "2023-01-17T08:11:02.439Z"
   },
   {
    "duration": 9,
    "start_time": "2023-01-17T08:14:35.418Z"
   },
   {
    "duration": 10,
    "start_time": "2023-01-17T08:14:38.611Z"
   },
   {
    "duration": 9,
    "start_time": "2023-01-17T08:14:42.768Z"
   },
   {
    "duration": 6,
    "start_time": "2023-01-17T08:15:05.081Z"
   },
   {
    "duration": 33,
    "start_time": "2023-01-17T08:15:16.025Z"
   },
   {
    "duration": 48,
    "start_time": "2023-01-17T08:15:50.202Z"
   },
   {
    "duration": 20,
    "start_time": "2023-01-17T08:18:57.793Z"
   },
   {
    "duration": 4,
    "start_time": "2023-01-17T08:36:00.227Z"
   },
   {
    "duration": 113266,
    "start_time": "2023-01-17T08:36:14.541Z"
   },
   {
    "duration": 9,
    "start_time": "2023-01-17T08:39:10.316Z"
   },
   {
    "duration": 9,
    "start_time": "2023-01-17T08:39:20.416Z"
   },
   {
    "duration": 11,
    "start_time": "2023-01-17T08:39:37.526Z"
   },
   {
    "duration": 113236,
    "start_time": "2023-01-17T08:40:10.439Z"
   },
   {
    "duration": 9,
    "start_time": "2023-01-17T08:44:40.469Z"
   },
   {
    "duration": 65,
    "start_time": "2023-01-17T08:44:54.091Z"
   },
   {
    "duration": 1616,
    "start_time": "2023-01-17T10:13:19.040Z"
   },
   {
    "duration": 3130,
    "start_time": "2023-01-17T10:13:20.658Z"
   },
   {
    "duration": 21,
    "start_time": "2023-01-17T10:13:23.789Z"
   },
   {
    "duration": 16,
    "start_time": "2023-01-17T10:13:23.812Z"
   },
   {
    "duration": 14,
    "start_time": "2023-01-17T10:13:23.830Z"
   },
   {
    "duration": 17,
    "start_time": "2023-01-17T10:13:23.845Z"
   },
   {
    "duration": 12,
    "start_time": "2023-01-17T10:13:23.864Z"
   },
   {
    "duration": 10,
    "start_time": "2023-01-17T10:13:23.877Z"
   },
   {
    "duration": 65,
    "start_time": "2023-01-17T10:13:23.889Z"
   },
   {
    "duration": 9,
    "start_time": "2023-01-17T10:13:23.956Z"
   },
   {
    "duration": 14,
    "start_time": "2023-01-17T10:13:23.967Z"
   },
   {
    "duration": 13,
    "start_time": "2023-01-17T10:13:23.983Z"
   },
   {
    "duration": 27,
    "start_time": "2023-01-17T10:13:23.998Z"
   },
   {
    "duration": 9,
    "start_time": "2023-01-17T10:13:24.028Z"
   },
   {
    "duration": 13,
    "start_time": "2023-01-17T10:13:24.039Z"
   },
   {
    "duration": 119,
    "start_time": "2023-01-17T10:13:24.053Z"
   },
   {
    "duration": 86,
    "start_time": "2023-01-17T10:13:24.174Z"
   },
   {
    "duration": 4,
    "start_time": "2023-01-17T10:13:24.261Z"
   },
   {
    "duration": 6,
    "start_time": "2023-01-17T10:13:24.267Z"
   },
   {
    "duration": 10,
    "start_time": "2023-01-17T10:13:24.275Z"
   },
   {
    "duration": 451,
    "start_time": "2023-01-17T10:13:24.287Z"
   },
   {
    "duration": 525,
    "start_time": "2023-01-17T10:13:24.740Z"
   },
   {
    "duration": 431,
    "start_time": "2023-01-17T10:13:25.267Z"
   },
   {
    "duration": 4,
    "start_time": "2023-01-17T10:13:25.699Z"
   },
   {
    "duration": 935,
    "start_time": "2023-01-17T10:13:25.705Z"
   },
   {
    "duration": 8,
    "start_time": "2023-01-17T10:13:26.642Z"
   },
   {
    "duration": 32,
    "start_time": "2023-01-17T10:13:26.652Z"
   },
   {
    "duration": 1581,
    "start_time": "2023-01-17T10:13:26.686Z"
   },
   {
    "duration": 10,
    "start_time": "2023-01-17T10:13:28.269Z"
   },
   {
    "duration": 5,
    "start_time": "2023-01-17T10:13:28.281Z"
   },
   {
    "duration": 7,
    "start_time": "2023-01-17T10:13:28.288Z"
   },
   {
    "duration": 25,
    "start_time": "2023-01-17T10:13:28.297Z"
   },
   {
    "duration": 8,
    "start_time": "2023-01-17T10:13:28.323Z"
   },
   {
    "duration": 6,
    "start_time": "2023-01-17T10:13:28.333Z"
   },
   {
    "duration": 4583,
    "start_time": "2023-01-17T10:13:28.341Z"
   },
   {
    "duration": 174937,
    "start_time": "2023-01-17T10:13:32.925Z"
   },
   {
    "duration": 123502,
    "start_time": "2023-01-17T10:16:27.864Z"
   },
   {
    "duration": 7,
    "start_time": "2023-01-17T10:18:31.368Z"
   },
   {
    "duration": 25,
    "start_time": "2023-01-17T10:18:31.377Z"
   },
   {
    "duration": 25,
    "start_time": "2023-01-17T10:18:31.404Z"
   },
   {
    "duration": 12,
    "start_time": "2023-01-17T10:18:31.432Z"
   },
   {
    "duration": 60,
    "start_time": "2023-01-17T10:20:55.366Z"
   },
   {
    "duration": 28,
    "start_time": "2023-01-18T08:41:52.440Z"
   },
   {
    "duration": 6,
    "start_time": "2023-01-18T09:18:09.817Z"
   },
   {
    "duration": 5,
    "start_time": "2023-01-18T09:18:22.339Z"
   },
   {
    "duration": 36,
    "start_time": "2023-01-18T09:18:32.752Z"
   },
   {
    "duration": 15,
    "start_time": "2023-01-18T09:18:44.395Z"
   },
   {
    "duration": 1630,
    "start_time": "2023-01-18T11:13:24.571Z"
   },
   {
    "duration": 2115,
    "start_time": "2023-01-18T11:13:26.203Z"
   },
   {
    "duration": 34,
    "start_time": "2023-01-18T11:13:28.319Z"
   },
   {
    "duration": 17,
    "start_time": "2023-01-18T11:13:28.356Z"
   },
   {
    "duration": 14,
    "start_time": "2023-01-18T11:13:28.374Z"
   },
   {
    "duration": 17,
    "start_time": "2023-01-18T11:13:28.390Z"
   },
   {
    "duration": 12,
    "start_time": "2023-01-18T11:13:28.408Z"
   },
   {
    "duration": 11,
    "start_time": "2023-01-18T11:13:28.421Z"
   },
   {
    "duration": 52,
    "start_time": "2023-01-18T11:13:28.433Z"
   },
   {
    "duration": 14,
    "start_time": "2023-01-18T11:13:28.488Z"
   },
   {
    "duration": 9,
    "start_time": "2023-01-18T11:13:28.504Z"
   },
   {
    "duration": 8,
    "start_time": "2023-01-18T11:13:28.515Z"
   },
   {
    "duration": 6,
    "start_time": "2023-01-18T11:13:28.525Z"
   },
   {
    "duration": 14,
    "start_time": "2023-01-18T11:13:28.533Z"
   },
   {
    "duration": 107,
    "start_time": "2023-01-18T11:13:28.549Z"
   },
   {
    "duration": 79,
    "start_time": "2023-01-18T11:13:28.658Z"
   },
   {
    "duration": 8,
    "start_time": "2023-01-18T11:13:28.738Z"
   },
   {
    "duration": 5,
    "start_time": "2023-01-18T11:13:28.748Z"
   },
   {
    "duration": 6,
    "start_time": "2023-01-18T11:13:28.755Z"
   },
   {
    "duration": 423,
    "start_time": "2023-01-18T11:13:28.778Z"
   },
   {
    "duration": 442,
    "start_time": "2023-01-18T11:13:29.203Z"
   },
   {
    "duration": 365,
    "start_time": "2023-01-18T11:13:29.647Z"
   },
   {
    "duration": 3,
    "start_time": "2023-01-18T11:13:30.015Z"
   },
   {
    "duration": 904,
    "start_time": "2023-01-18T11:13:30.020Z"
   },
   {
    "duration": 7,
    "start_time": "2023-01-18T11:13:30.926Z"
   },
   {
    "duration": 63,
    "start_time": "2023-01-18T11:13:30.935Z"
   },
   {
    "duration": 1413,
    "start_time": "2023-01-18T11:13:31.000Z"
   },
   {
    "duration": 8,
    "start_time": "2023-01-18T11:13:32.416Z"
   },
   {
    "duration": 4,
    "start_time": "2023-01-18T11:13:32.425Z"
   },
   {
    "duration": 8,
    "start_time": "2023-01-18T11:13:32.431Z"
   },
   {
    "duration": 11,
    "start_time": "2023-01-18T11:13:32.440Z"
   },
   {
    "duration": 6,
    "start_time": "2023-01-18T11:13:32.453Z"
   },
   {
    "duration": 19,
    "start_time": "2023-01-18T11:13:32.460Z"
   },
   {
    "duration": 3499,
    "start_time": "2023-01-18T11:13:32.481Z"
   },
   {
    "duration": 152088,
    "start_time": "2023-01-18T11:13:35.982Z"
   },
   {
    "duration": 106900,
    "start_time": "2023-01-18T11:16:08.071Z"
   },
   {
    "duration": 9,
    "start_time": "2023-01-18T11:17:54.973Z"
   },
   {
    "duration": 15,
    "start_time": "2023-01-18T11:17:54.984Z"
   },
   {
    "duration": 25,
    "start_time": "2023-01-18T11:17:55.001Z"
   },
   {
    "duration": 23,
    "start_time": "2023-01-18T11:17:55.028Z"
   },
   {
    "duration": 37,
    "start_time": "2023-01-18T11:17:55.053Z"
   }
  ],
  "kernelspec": {
   "display_name": "Python 3 (ipykernel)",
   "language": "python",
   "name": "python3"
  },
  "language_info": {
   "codemirror_mode": {
    "name": "ipython",
    "version": 3
   },
   "file_extension": ".py",
   "mimetype": "text/x-python",
   "name": "python",
   "nbconvert_exporter": "python",
   "pygments_lexer": "ipython3",
   "version": "3.9.5"
  },
  "toc": {
   "base_numbering": 1,
   "nav_menu": {},
   "number_sections": true,
   "sideBar": true,
   "skip_h1_title": true,
   "title_cell": "Содержание",
   "title_sidebar": "Contents",
   "toc_cell": true,
   "toc_position": {
    "height": "calc(100% - 180px)",
    "left": "10px",
    "top": "150px",
    "width": "165px"
   },
   "toc_section_display": true,
   "toc_window_display": true
  }
 },
 "nbformat": 4,
 "nbformat_minor": 2
}
