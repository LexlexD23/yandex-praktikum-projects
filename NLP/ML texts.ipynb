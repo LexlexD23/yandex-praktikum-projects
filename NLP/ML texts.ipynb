{
 "cells": [
  {
   "cell_type": "markdown",
   "metadata": {
    "toc": true
   },
   "source": [
    "<h1>Содержание<span class=\"tocSkip\"></span></h1>\n",
    "<div class=\"toc\"><ul class=\"toc-item\"><li><span><a href=\"#Подготовка\" data-toc-modified-id=\"Подготовка-1\"><span class=\"toc-item-num\">1&nbsp;&nbsp;</span>Подготовка</a></span></li><li><span><a href=\"#Обучение\" data-toc-modified-id=\"Обучение-2\"><span class=\"toc-item-num\">2&nbsp;&nbsp;</span>Обучение</a></span></li><li><span><a href=\"#Выводы\" data-toc-modified-id=\"Выводы-3\"><span class=\"toc-item-num\">3&nbsp;&nbsp;</span>Выводы</a></span></li><li><span><a href=\"#Чек-лист-проверки\" data-toc-modified-id=\"Чек-лист-проверки-4\"><span class=\"toc-item-num\">4&nbsp;&nbsp;</span>Чек-лист проверки</a></span></li></ul></div>"
   ]
  },
  {
   "cell_type": "markdown",
   "metadata": {},
   "source": [
    "# Проект для «Викишоп»"
   ]
  },
  {
   "cell_type": "markdown",
   "metadata": {},
   "source": [
    "Интернет-магазин «Викишоп» запускает новый сервис. Теперь пользователи могут редактировать и дополнять описания товаров, как в вики-сообществах. То есть клиенты предлагают свои правки и комментируют изменения других. Магазину нужен инструмент, который будет искать токсичные комментарии и отправлять их на модерацию. \n",
    "\n",
    "Обучите модель классифицировать комментарии на позитивные и негативные. В вашем распоряжении набор данных с разметкой о токсичности правок.\n",
    "\n",
    "Постройте модель со значением метрики качества *F1* не меньше 0.75. \n",
    "\n",
    "**Инструкция по выполнению проекта**\n",
    "\n",
    "1. Загрузите и подготовьте данные.\n",
    "2. Обучите разные модели. \n",
    "3. Сделайте выводы.\n",
    "\n",
    "Для выполнения проекта применять *BERT* необязательно, но вы можете попробовать.\n",
    "\n",
    "**Описание данных**\n",
    "\n",
    "Данные находятся в файле `toxic_comments.csv`. Столбец *text* в нём содержит текст комментария, а *toxic* — целевой признак."
   ]
  },
  {
   "cell_type": "markdown",
   "metadata": {},
   "source": [
    "## Подготовка"
   ]
  },
  {
   "cell_type": "code",
   "execution_count": 1,
   "metadata": {},
   "outputs": [],
   "source": [
    "import pandas as pd\n",
    "\n",
    "from lightgbm import LGBMRegressor\n",
    "from sklearn.model_selection import GridSearchCV\n",
    "\n",
    "from sklearn.model_selection import train_test_split\n",
    "from sklearn.linear_model import LogisticRegression\n",
    "from sklearn.ensemble import GradientBoostingClassifier\n",
    "from sklearn.tree import DecisionTreeClassifier\n",
    "from sklearn.svm import SVC\n",
    "\n",
    "from pymystem3 import Mystem\n",
    "import nltk\n",
    "from nltk.corpus import stopwords as nltk_stopwords\n",
    "import re\n",
    "from sklearn.feature_extraction.text import TfidfVectorizer\n",
    "from sklearn.metrics import accuracy_score\n",
    "from sklearn.metrics import f1_score\n",
    "from sklearn.dummy import DummyClassifier\n",
    "import warnings"
   ]
  },
  {
   "cell_type": "code",
   "execution_count": 2,
   "metadata": {},
   "outputs": [],
   "source": [
    "warnings.filterwarnings('ignore')\n",
    "pd.options.display.float_format = '{:,.4f}'.format"
   ]
  },
  {
   "cell_type": "markdown",
   "metadata": {},
   "source": [
    "Загрузка данных"
   ]
  },
  {
   "cell_type": "code",
   "execution_count": 3,
   "metadata": {},
   "outputs": [],
   "source": [
    "df_toxic = pd.read_csv('/datasets/toxic_comments.csv')"
   ]
  },
  {
   "cell_type": "markdown",
   "metadata": {},
   "source": [
    "Обзор данных"
   ]
  },
  {
   "cell_type": "code",
   "execution_count": 4,
   "metadata": {},
   "outputs": [
    {
     "data": {
      "text/html": [
       "<div>\n",
       "<style scoped>\n",
       "    .dataframe tbody tr th:only-of-type {\n",
       "        vertical-align: middle;\n",
       "    }\n",
       "\n",
       "    .dataframe tbody tr th {\n",
       "        vertical-align: top;\n",
       "    }\n",
       "\n",
       "    .dataframe thead th {\n",
       "        text-align: right;\n",
       "    }\n",
       "</style>\n",
       "<table border=\"1\" class=\"dataframe\">\n",
       "  <thead>\n",
       "    <tr style=\"text-align: right;\">\n",
       "      <th></th>\n",
       "      <th>Unnamed: 0</th>\n",
       "      <th>text</th>\n",
       "      <th>toxic</th>\n",
       "    </tr>\n",
       "  </thead>\n",
       "  <tbody>\n",
       "    <tr>\n",
       "      <th>0</th>\n",
       "      <td>0</td>\n",
       "      <td>Explanation\\nWhy the edits made under my usern...</td>\n",
       "      <td>0</td>\n",
       "    </tr>\n",
       "    <tr>\n",
       "      <th>1</th>\n",
       "      <td>1</td>\n",
       "      <td>D'aww! He matches this background colour I'm s...</td>\n",
       "      <td>0</td>\n",
       "    </tr>\n",
       "    <tr>\n",
       "      <th>2</th>\n",
       "      <td>2</td>\n",
       "      <td>Hey man, I'm really not trying to edit war. It...</td>\n",
       "      <td>0</td>\n",
       "    </tr>\n",
       "    <tr>\n",
       "      <th>3</th>\n",
       "      <td>3</td>\n",
       "      <td>\"\\nMore\\nI can't make any real suggestions on ...</td>\n",
       "      <td>0</td>\n",
       "    </tr>\n",
       "    <tr>\n",
       "      <th>4</th>\n",
       "      <td>4</td>\n",
       "      <td>You, sir, are my hero. Any chance you remember...</td>\n",
       "      <td>0</td>\n",
       "    </tr>\n",
       "    <tr>\n",
       "      <th>5</th>\n",
       "      <td>5</td>\n",
       "      <td>\"\\n\\nCongratulations from me as well, use the ...</td>\n",
       "      <td>0</td>\n",
       "    </tr>\n",
       "    <tr>\n",
       "      <th>6</th>\n",
       "      <td>6</td>\n",
       "      <td>COCKSUCKER BEFORE YOU PISS AROUND ON MY WORK</td>\n",
       "      <td>1</td>\n",
       "    </tr>\n",
       "    <tr>\n",
       "      <th>7</th>\n",
       "      <td>7</td>\n",
       "      <td>Your vandalism to the Matt Shirvington article...</td>\n",
       "      <td>0</td>\n",
       "    </tr>\n",
       "    <tr>\n",
       "      <th>8</th>\n",
       "      <td>8</td>\n",
       "      <td>Sorry if the word 'nonsense' was offensive to ...</td>\n",
       "      <td>0</td>\n",
       "    </tr>\n",
       "    <tr>\n",
       "      <th>9</th>\n",
       "      <td>9</td>\n",
       "      <td>alignment on this subject and which are contra...</td>\n",
       "      <td>0</td>\n",
       "    </tr>\n",
       "  </tbody>\n",
       "</table>\n",
       "</div>"
      ],
      "text/plain": [
       "   Unnamed: 0                                               text  toxic\n",
       "0           0  Explanation\\nWhy the edits made under my usern...      0\n",
       "1           1  D'aww! He matches this background colour I'm s...      0\n",
       "2           2  Hey man, I'm really not trying to edit war. It...      0\n",
       "3           3  \"\\nMore\\nI can't make any real suggestions on ...      0\n",
       "4           4  You, sir, are my hero. Any chance you remember...      0\n",
       "5           5  \"\\n\\nCongratulations from me as well, use the ...      0\n",
       "6           6       COCKSUCKER BEFORE YOU PISS AROUND ON MY WORK      1\n",
       "7           7  Your vandalism to the Matt Shirvington article...      0\n",
       "8           8  Sorry if the word 'nonsense' was offensive to ...      0\n",
       "9           9  alignment on this subject and which are contra...      0"
      ]
     },
     "execution_count": 4,
     "metadata": {},
     "output_type": "execute_result"
    }
   ],
   "source": [
    "df_toxic.head(10)"
   ]
  },
  {
   "cell_type": "code",
   "execution_count": 5,
   "metadata": {},
   "outputs": [
    {
     "name": "stdout",
     "output_type": "stream",
     "text": [
      "<class 'pandas.core.frame.DataFrame'>\n",
      "RangeIndex: 159292 entries, 0 to 159291\n",
      "Data columns (total 3 columns):\n",
      " #   Column      Non-Null Count   Dtype \n",
      "---  ------      --------------   ----- \n",
      " 0   Unnamed: 0  159292 non-null  int64 \n",
      " 1   text        159292 non-null  object\n",
      " 2   toxic       159292 non-null  int64 \n",
      "dtypes: int64(2), object(1)\n",
      "memory usage: 3.6+ MB\n"
     ]
    }
   ],
   "source": [
    "df_toxic.info()"
   ]
  },
  {
   "cell_type": "markdown",
   "metadata": {},
   "source": [
    "* Присутствует столбец,  дублирующий индекс\n",
    "* Сообщения на английском"
   ]
  },
  {
   "cell_type": "markdown",
   "metadata": {},
   "source": [
    "Удаление столбца, дублирующего индекс"
   ]
  },
  {
   "cell_type": "code",
   "execution_count": 6,
   "metadata": {},
   "outputs": [],
   "source": [
    "df_toxic = df_toxic.drop('Unnamed: 0',axis =1)"
   ]
  },
  {
   "cell_type": "markdown",
   "metadata": {},
   "source": [
    "Распределение негативной окраски сообщений"
   ]
  },
  {
   "cell_type": "code",
   "execution_count": 7,
   "metadata": {},
   "outputs": [
    {
     "data": {
      "text/plain": [
       "<AxesSubplot:title={'center':'Баланс токсичности ответов'}, ylabel='toxic'>"
      ]
     },
     "execution_count": 7,
     "metadata": {},
     "output_type": "execute_result"
    },
    {
     "data": {
      "image/png": "[encoded data removed]",
      "text/plain": [
       "<Figure size 432x288 with 1 Axes>"
      ]
     },
     "metadata": {},
     "output_type": "display_data"
    }
   ],
   "source": [
    "df_toxic['toxic'].value_counts().plot(kind = 'pie', title = 'Баланс токсичности ответов',autopct='%1.1f%%')"
   ]
  },
  {
   "cell_type": "markdown",
   "metadata": {},
   "source": [
    "* Присутствует дисбаланс\n",
    "* Сложно сделать вывод -   10 % токсичных ответов это много или мало, нет сравнения"
   ]
  },
  {
   "cell_type": "markdown",
   "metadata": {},
   "source": [
    "Подготовка трейна"
   ]
  },
  {
   "cell_type": "markdown",
   "metadata": {},
   "source": [
    "**Разделение выборки на обучающую и тестовую**"
   ]
  },
  {
   "cell_type": "code",
   "execution_count": 8,
   "metadata": {},
   "outputs": [],
   "source": [
    "train,test = train_test_split(df_toxic,test_size = .25)\n",
    "\n",
    "train.reset_index(drop = True, inplace = True)\n",
    "test.reset_index(drop = True, inplace = True)\n",
    "\n",
    "# features_train = train.drop('toxic',axis =1)\n",
    "target_train = train['toxic']"
   ]
  },
  {
   "cell_type": "code",
   "execution_count": 9,
   "metadata": {},
   "outputs": [],
   "source": [
    "corpus_train = train['text'].values"
   ]
  },
  {
   "cell_type": "markdown",
   "metadata": {},
   "source": [
    "**Обработка текста**"
   ]
  },
  {
   "cell_type": "code",
   "execution_count": 10,
   "metadata": {},
   "outputs": [],
   "source": [
    "lemmatize = nltk.WordNetLemmatizer()"
   ]
  },
  {
   "cell_type": "code",
   "execution_count": 11,
   "metadata": {},
   "outputs": [],
   "source": [
    "lemma_text_train = []\n",
    "for i in corpus_train:\n",
    "    #удаляем неалфавитные символы\n",
    "    text = re.sub(\"[^a-zA-Z]\",\" \",i) \n",
    "    # токенизируем слова\n",
    "    text = nltk.word_tokenize(text,language = \"english\")\n",
    "    # лемматирзируем слова\n",
    "    text = [lemmatize.lemmatize(word) for word in text]\n",
    "    # соединяем слова\n",
    "    text = \" \".join(text)\n",
    "    lemma_text_train.append(text)"
   ]
  },
  {
   "cell_type": "code",
   "execution_count": 12,
   "metadata": {},
   "outputs": [
    {
     "data": {
      "text/plain": [
       "'season 5 issues\\nNot sure why you removed my edits on the season 5 futurama issue, but I think it has merit. The total lack of season 5 info is confusing and not sure why the season 5 info is replaced by the movie information. You could have informed me at least on why you removed my discussion comment.'"
      ]
     },
     "execution_count": 12,
     "metadata": {},
     "output_type": "execute_result"
    }
   ],
   "source": [
    "corpus_train[0]"
   ]
  },
  {
   "cell_type": "code",
   "execution_count": 13,
   "metadata": {
    "scrolled": false
   },
   "outputs": [
    {
     "data": {
      "text/plain": [
       "'season issue Not sure why you removed my edits on the season futurama issue but I think it ha merit The total lack of season info is confusing and not sure why the season info is replaced by the movie information You could have informed me at least on why you removed my discussion comment'"
      ]
     },
     "execution_count": 13,
     "metadata": {},
     "output_type": "execute_result"
    }
   ],
   "source": [
    "lemma_text_train[0]"
   ]
  },
  {
   "cell_type": "markdown",
   "metadata": {},
   "source": [
    "**Получение TF-IDF**"
   ]
  },
  {
   "cell_type": "code",
   "execution_count": 14,
   "metadata": {},
   "outputs": [
    {
     "name": "stderr",
     "output_type": "stream",
     "text": [
      "[nltk_data] Downloading package stopwords to /home/jovyan/nltk_data...\n",
      "[nltk_data]   Package stopwords is already up-to-date!\n"
     ]
    }
   ],
   "source": [
    "nltk.download('stopwords')\n",
    "stopwords = set(nltk_stopwords.words('english'))\n",
    "\n",
    "count_tf_idf = TfidfVectorizer(stop_words=stopwords)\n",
    "\n",
    "\n",
    "tf_idf_train = count_tf_idf.fit_transform(lemma_text_train)"
   ]
  },
  {
   "cell_type": "markdown",
   "metadata": {},
   "source": [
    "## Обучение"
   ]
  },
  {
   "cell_type": "markdown",
   "metadata": {},
   "source": [
    "Поиск модели"
   ]
  },
  {
   "cell_type": "markdown",
   "metadata": {},
   "source": [
    "**LogisticRegression**"
   ]
  },
  {
   "cell_type": "code",
   "execution_count": 15,
   "metadata": {},
   "outputs": [],
   "source": [
    "params = {\n",
    "   'penalty':['l1', 'l2'],        \n",
    "   'C':[1,4,6] \n",
    "}\n",
    "\n",
    "grid_logreg = GridSearchCV(LogisticRegression(random_state=123,class_weight = 'balanced',solver='liblinear',max_iter = 150),\n",
    "                           params,  scoring='f1',cv=2)"
   ]
  },
  {
   "cell_type": "code",
   "execution_count": 16,
   "metadata": {
    "scrolled": true
   },
   "outputs": [
    {
     "data": {
      "text/plain": [
       "GridSearchCV(cv=2,\n",
       "             estimator=LogisticRegression(class_weight='balanced', max_iter=150,\n",
       "                                          random_state=123,\n",
       "                                          solver='liblinear'),\n",
       "             param_grid={'C': [1, 4, 6], 'penalty': ['l1', 'l2']},\n",
       "             scoring='f1')"
      ]
     },
     "execution_count": 16,
     "metadata": {},
     "output_type": "execute_result"
    }
   ],
   "source": [
    "grid_logreg.fit(tf_idf_train, target_train)"
   ]
  },
  {
   "cell_type": "markdown",
   "metadata": {},
   "source": [
    "**DecisionTreeClassifier**"
   ]
  },
  {
   "cell_type": "code",
   "execution_count": 17,
   "metadata": {},
   "outputs": [],
   "source": [
    "params = { \n",
    "       'max_depth':[5,7] \n",
    "        }\n",
    "grid_tree = GridSearchCV(DecisionTreeClassifier(random_state=123,class_weight ='balanced'), params, cv=2, scoring='f1')"
   ]
  },
  {
   "cell_type": "code",
   "execution_count": 18,
   "metadata": {},
   "outputs": [
    {
     "data": {
      "text/plain": [
       "GridSearchCV(cv=2,\n",
       "             estimator=DecisionTreeClassifier(class_weight='balanced',\n",
       "                                              random_state=123),\n",
       "             param_grid={'max_depth': [5, 7]}, scoring='f1')"
      ]
     },
     "execution_count": 18,
     "metadata": {},
     "output_type": "execute_result"
    }
   ],
   "source": [
    "grid_tree.fit(tf_idf_train, target_train)"
   ]
  },
  {
   "cell_type": "code",
   "execution_count": 19,
   "metadata": {},
   "outputs": [
    {
     "data": {
      "text/html": [
       "<div>\n",
       "<style scoped>\n",
       "    .dataframe tbody tr th:only-of-type {\n",
       "        vertical-align: middle;\n",
       "    }\n",
       "\n",
       "    .dataframe tbody tr th {\n",
       "        vertical-align: top;\n",
       "    }\n",
       "\n",
       "    .dataframe thead th {\n",
       "        text-align: right;\n",
       "    }\n",
       "</style>\n",
       "<table border=\"1\" class=\"dataframe\">\n",
       "  <thead>\n",
       "    <tr style=\"text-align: right;\">\n",
       "      <th></th>\n",
       "      <th>F1_score</th>\n",
       "    </tr>\n",
       "  </thead>\n",
       "  <tbody>\n",
       "    <tr>\n",
       "      <th>LogisticRegression</th>\n",
       "      <td>0.7577</td>\n",
       "    </tr>\n",
       "    <tr>\n",
       "      <th>DecisionTreeClassifier</th>\n",
       "      <td>0.5103</td>\n",
       "    </tr>\n",
       "  </tbody>\n",
       "</table>\n",
       "</div>"
      ],
      "text/plain": [
       "                        F1_score\n",
       "LogisticRegression        0.7577\n",
       "DecisionTreeClassifier    0.5103"
      ]
     },
     "execution_count": 19,
     "metadata": {},
     "output_type": "execute_result"
    }
   ],
   "source": [
    "pd.DataFrame({'F1_score' : [grid_logreg.best_score_,grid_tree.best_score_]},\n",
    "             index = ['LogisticRegression','DecisionTreeClassifier'])"
   ]
  },
  {
   "cell_type": "markdown",
   "metadata": {},
   "source": [
    "На основании метрики F1 отбираем лучшую модель"
   ]
  },
  {
   "cell_type": "markdown",
   "metadata": {},
   "source": [
    "## Выводы"
   ]
  },
  {
   "cell_type": "markdown",
   "metadata": {},
   "source": [
    "**Тестирование лучшей модели** "
   ]
  },
  {
   "cell_type": "markdown",
   "metadata": {},
   "source": [
    "Подготовка тестовой выборки"
   ]
  },
  {
   "cell_type": "code",
   "execution_count": 20,
   "metadata": {},
   "outputs": [],
   "source": [
    "target_test = test['toxic']"
   ]
  },
  {
   "cell_type": "code",
   "execution_count": 23,
   "metadata": {},
   "outputs": [],
   "source": [
    "corpus_test = test['text'].values"
   ]
  },
  {
   "cell_type": "code",
   "execution_count": 24,
   "metadata": {},
   "outputs": [],
   "source": [
    "lemma_text_test = []\n",
    "for i in corpus_test:\n",
    "    #удаляем неалфавитные символы\n",
    "    text = re.sub(\"[^a-zA-Z]\",\" \",i) \n",
    "    # токенизируем слова\n",
    "    text = nltk.word_tokenize(text,language = \"english\")\n",
    "    # лемматирзируем слова\n",
    "    text = [lemmatize.lemmatize(word) for word in text]\n",
    "    # соединяем слова\n",
    "    text = \" \".join(text)\n",
    "    lemma_text_test.append(text)"
   ]
  },
  {
   "cell_type": "markdown",
   "metadata": {},
   "source": [
    "Получение TF-IDF для теста"
   ]
  },
  {
   "cell_type": "code",
   "execution_count": 25,
   "metadata": {},
   "outputs": [],
   "source": [
    "tf_idf_test = count_tf_idf.transform(lemma_text_test)"
   ]
  },
  {
   "cell_type": "code",
   "execution_count": 26,
   "metadata": {},
   "outputs": [],
   "source": [
    "predictions_test = grid_logreg.best_estimator_.predict(tf_idf_test)\n",
    "f1_best_model = f1_score(target_test, predictions_test)"
   ]
  },
  {
   "cell_type": "code",
   "execution_count": 27,
   "metadata": {},
   "outputs": [
    {
     "name": "stdout",
     "output_type": "stream",
     "text": [
      "Метрика F1 для лучшей модели: 0.763206672845227\n"
     ]
    }
   ],
   "source": [
    "print('Метрика F1 для лучшей модели:', f1_best_model)"
   ]
  },
  {
   "cell_type": "markdown",
   "metadata": {},
   "source": [
    "**Проверка адекватности**"
   ]
  },
  {
   "cell_type": "code",
   "execution_count": 28,
   "metadata": {},
   "outputs": [
    {
     "name": "stdout",
     "output_type": "stream",
     "text": [
      "Метрика F1 для константной модели: 0.17070600632244468\n"
     ]
    }
   ],
   "source": [
    "dummy= DummyClassifier(strategy = 'uniform')\n",
    "\n",
    "dummy.fit(tf_idf_train,target_train) \n",
    "dummy_predictions = dummy.predict(tf_idf_test)\n",
    "f1_dummy = f1_score(target_test,dummy_predictions)\n",
    "\n",
    "print('Метрика F1 для константной модели:', f1_dummy)"
   ]
  },
  {
   "cell_type": "code",
   "execution_count": 29,
   "metadata": {},
   "outputs": [
    {
     "data": {
      "text/html": [
       "<div>\n",
       "<style scoped>\n",
       "    .dataframe tbody tr th:only-of-type {\n",
       "        vertical-align: middle;\n",
       "    }\n",
       "\n",
       "    .dataframe tbody tr th {\n",
       "        vertical-align: top;\n",
       "    }\n",
       "\n",
       "    .dataframe thead th {\n",
       "        text-align: right;\n",
       "    }\n",
       "</style>\n",
       "<table border=\"1\" class=\"dataframe\">\n",
       "  <thead>\n",
       "    <tr style=\"text-align: right;\">\n",
       "      <th></th>\n",
       "      <th>F1_score</th>\n",
       "    </tr>\n",
       "  </thead>\n",
       "  <tbody>\n",
       "    <tr>\n",
       "      <th>LogisticRegression</th>\n",
       "      <td>0.7632</td>\n",
       "    </tr>\n",
       "    <tr>\n",
       "      <th>Const_model</th>\n",
       "      <td>0.1707</td>\n",
       "    </tr>\n",
       "  </tbody>\n",
       "</table>\n",
       "</div>"
      ],
      "text/plain": [
       "                    F1_score\n",
       "LogisticRegression    0.7632\n",
       "Const_model           0.1707"
      ]
     },
     "execution_count": 29,
     "metadata": {},
     "output_type": "execute_result"
    }
   ],
   "source": [
    "pd.DataFrame({'F1_score':[f1_best_model,f1_dummy]},\n",
    "             index = ['LogisticRegression','Const_model'])"
   ]
  },
  {
   "cell_type": "markdown",
   "metadata": {},
   "source": [
    "Выводы:\n",
    "* Проведена обработка текстовых сообщений\n",
    "* Получена модель для предсказания наличия негативных эмоций в сообщениях с метрикой качества не ниже указанной  в ТЗ"
   ]
  }
 ],
 "metadata": {
  "ExecuteTimeLog": [
   {
    "duration": 1977,
    "start_time": "2023-02-06T00:32:05.828Z"
   },
   {
    "duration": 2,
    "start_time": "2023-02-06T00:32:07.807Z"
   },
   {
    "duration": 3506,
    "start_time": "2023-02-06T00:32:08.177Z"
   },
   {
    "duration": 14,
    "start_time": "2023-02-06T00:32:13.187Z"
   },
   {
    "duration": 32,
    "start_time": "2023-02-06T00:32:14.687Z"
   },
   {
    "duration": 10,
    "start_time": "2023-02-06T00:32:19.367Z"
   },
   {
    "duration": 513,
    "start_time": "2023-02-06T00:32:21.037Z"
   },
   {
    "duration": 140,
    "start_time": "2023-02-06T00:32:29.687Z"
   },
   {
    "duration": 56,
    "start_time": "2023-02-06T00:33:30.157Z"
   },
   {
    "duration": 1516,
    "start_time": "2023-02-06T00:33:36.038Z"
   },
   {
    "duration": 4,
    "start_time": "2023-02-06T00:33:39.757Z"
   },
   {
    "duration": 14,
    "start_time": "2023-02-06T00:33:48.434Z"
   },
   {
    "duration": 3,
    "start_time": "2023-02-06T00:34:13.046Z"
   },
   {
    "duration": 4614,
    "start_time": "2023-02-06T00:34:13.737Z"
   },
   {
    "duration": 4,
    "start_time": "2023-02-06T00:34:22.327Z"
   },
   {
    "duration": 53138,
    "start_time": "2023-02-06T00:34:23.607Z"
   },
   {
    "duration": 11,
    "start_time": "2023-02-06T00:36:04.856Z"
   },
   {
    "duration": 5016,
    "start_time": "2023-02-06T00:45:18.325Z"
   },
   {
    "duration": 90,
    "start_time": "2023-02-06T00:45:37.114Z"
   },
   {
    "duration": 3,
    "start_time": "2023-02-06T00:45:43.434Z"
   },
   {
    "duration": 163437,
    "start_time": "2023-02-06T00:45:47.065Z"
   },
   {
    "duration": 4,
    "start_time": "2023-02-06T00:49:44.503Z"
   },
   {
    "duration": 3,
    "start_time": "2023-02-06T00:49:52.393Z"
   },
   {
    "duration": 1342728,
    "start_time": "2023-02-06T00:49:54.274Z"
   },
   {
    "duration": 3,
    "start_time": "2023-02-06T01:14:17.631Z"
   },
   {
    "duration": 3,
    "start_time": "2023-02-06T01:16:12.112Z"
   },
   {
    "duration": 10,
    "start_time": "2023-02-06T01:16:13.591Z"
   },
   {
    "duration": 3,
    "start_time": "2023-02-06T01:17:21.565Z"
   },
   {
    "duration": 46543,
    "start_time": "2023-02-06T01:17:22.878Z"
   },
   {
    "duration": 4,
    "start_time": "2023-02-06T01:18:40.786Z"
   },
   {
    "duration": 4,
    "start_time": "2023-02-06T01:19:25.201Z"
   },
   {
    "duration": 10,
    "start_time": "2023-02-06T01:19:29.037Z"
   },
   {
    "duration": 31,
    "start_time": "2023-02-06T01:19:36.712Z"
   },
   {
    "duration": 4,
    "start_time": "2023-02-06T01:20:07.242Z"
   },
   {
    "duration": 31,
    "start_time": "2023-02-06T01:20:13.792Z"
   },
   {
    "duration": 3,
    "start_time": "2023-02-06T01:20:20.352Z"
   },
   {
    "duration": 3,
    "start_time": "2023-02-06T01:21:49.245Z"
   },
   {
    "duration": 98,
    "start_time": "2023-02-06T01:22:49.751Z"
   },
   {
    "duration": 4,
    "start_time": "2023-02-06T01:23:05.734Z"
   },
   {
    "duration": 3,
    "start_time": "2023-02-06T01:23:43.830Z"
   },
   {
    "duration": 1391,
    "start_time": "2023-02-06T01:30:03.131Z"
   },
   {
    "duration": 2,
    "start_time": "2023-02-06T01:30:04.524Z"
   },
   {
    "duration": 907,
    "start_time": "2023-02-06T01:30:04.528Z"
   },
   {
    "duration": 14,
    "start_time": "2023-02-06T01:30:05.437Z"
   },
   {
    "duration": 41,
    "start_time": "2023-02-06T01:30:05.452Z"
   },
   {
    "duration": 10,
    "start_time": "2023-02-06T01:30:05.495Z"
   },
   {
    "duration": 300,
    "start_time": "2023-02-06T01:30:05.506Z"
   },
   {
    "duration": 25,
    "start_time": "2023-02-06T01:30:05.807Z"
   },
   {
    "duration": 1621,
    "start_time": "2023-02-06T01:30:05.833Z"
   },
   {
    "duration": 11,
    "start_time": "2023-02-06T01:30:07.456Z"
   },
   {
    "duration": 4489,
    "start_time": "2023-02-06T01:30:07.468Z"
   },
   {
    "duration": 3,
    "start_time": "2023-02-06T01:30:11.958Z"
   },
   {
    "duration": 45717,
    "start_time": "2023-02-06T01:30:11.963Z"
   },
   {
    "duration": 5212,
    "start_time": "2023-02-06T01:31:51.529Z"
   },
   {
    "duration": 3,
    "start_time": "2023-02-06T01:36:55.728Z"
   },
   {
    "duration": 44173,
    "start_time": "2023-02-06T01:36:57.447Z"
   },
   {
    "duration": 4,
    "start_time": "2023-02-06T01:39:26.468Z"
   },
   {
    "duration": 3,
    "start_time": "2023-02-06T01:40:34.926Z"
   },
   {
    "duration": 1316,
    "start_time": "2023-02-06T01:56:44.536Z"
   },
   {
    "duration": 2,
    "start_time": "2023-02-06T01:56:45.854Z"
   },
   {
    "duration": 876,
    "start_time": "2023-02-06T01:56:45.857Z"
   },
   {
    "duration": 12,
    "start_time": "2023-02-06T01:56:46.735Z"
   },
   {
    "duration": 42,
    "start_time": "2023-02-06T01:56:46.748Z"
   },
   {
    "duration": 11,
    "start_time": "2023-02-06T01:56:46.792Z"
   },
   {
    "duration": 296,
    "start_time": "2023-02-06T01:56:46.804Z"
   },
   {
    "duration": 28,
    "start_time": "2023-02-06T01:56:47.102Z"
   },
   {
    "duration": 1642,
    "start_time": "2023-02-06T01:56:47.131Z"
   },
   {
    "duration": 8,
    "start_time": "2023-02-06T01:56:48.776Z"
   },
   {
    "duration": 4580,
    "start_time": "2023-02-06T01:56:48.785Z"
   },
   {
    "duration": 3,
    "start_time": "2023-02-06T01:56:53.367Z"
   },
   {
    "duration": 45976,
    "start_time": "2023-02-06T01:56:53.372Z"
   },
   {
    "duration": 4995,
    "start_time": "2023-02-06T01:57:39.351Z"
   },
   {
    "duration": 3,
    "start_time": "2023-02-06T01:58:16.212Z"
   },
   {
    "duration": 3,
    "start_time": "2023-02-06T01:58:50.415Z"
   },
   {
    "duration": 46097,
    "start_time": "2023-02-06T01:58:52.020Z"
   },
   {
    "duration": 3,
    "start_time": "2023-02-06T01:59:46.052Z"
   },
   {
    "duration": 3,
    "start_time": "2023-02-06T02:00:13.450Z"
   },
   {
    "duration": 3,
    "start_time": "2023-02-06T02:00:23.204Z"
   },
   {
    "duration": 44822,
    "start_time": "2023-02-06T02:00:26.621Z"
   },
   {
    "duration": 4,
    "start_time": "2023-02-06T02:01:34.690Z"
   },
   {
    "duration": 147,
    "start_time": "2023-02-06T02:01:45.422Z"
   },
   {
    "duration": 3,
    "start_time": "2023-02-06T02:01:51.112Z"
   },
   {
    "duration": 152255,
    "start_time": "2023-02-06T02:01:52.832Z"
   },
   {
    "duration": 45486,
    "start_time": "2023-02-06T02:14:14.930Z"
   },
   {
    "duration": 4,
    "start_time": "2023-02-06T02:15:27.621Z"
   },
   {
    "duration": 10,
    "start_time": "2023-02-06T02:15:43.541Z"
   },
   {
    "duration": 5038,
    "start_time": "2023-02-06T02:15:53.413Z"
   },
   {
    "duration": 46565,
    "start_time": "2023-02-06T02:16:16.459Z"
   },
   {
    "duration": 3,
    "start_time": "2023-02-06T02:17:12.723Z"
   },
   {
    "duration": 4,
    "start_time": "2023-02-06T02:18:36.544Z"
   },
   {
    "duration": 31,
    "start_time": "2023-02-06T02:19:08.780Z"
   },
   {
    "duration": 21,
    "start_time": "2023-02-06T02:21:12.779Z"
   },
   {
    "duration": 4,
    "start_time": "2023-02-06T02:21:54.183Z"
   },
   {
    "duration": 10,
    "start_time": "2023-02-06T02:22:59.551Z"
   },
   {
    "duration": 10,
    "start_time": "2023-02-06T02:23:06.740Z"
   },
   {
    "duration": 18,
    "start_time": "2023-02-06T02:23:40.691Z"
   },
   {
    "duration": 13,
    "start_time": "2023-02-06T02:23:46.851Z"
   },
   {
    "duration": 15,
    "start_time": "2023-02-06T02:23:57.639Z"
   },
   {
    "duration": 18,
    "start_time": "2023-02-06T02:24:20.650Z"
   },
   {
    "duration": 13,
    "start_time": "2023-02-06T02:24:59.610Z"
   },
   {
    "duration": 49,
    "start_time": "2023-02-06T02:25:16.630Z"
   },
   {
    "duration": 3,
    "start_time": "2023-02-06T02:27:04.865Z"
   },
   {
    "duration": 38047,
    "start_time": "2023-02-06T02:27:06.596Z"
   },
   {
    "duration": 4,
    "start_time": "2023-02-06T02:27:47.985Z"
   },
   {
    "duration": 4,
    "start_time": "2023-02-06T02:28:21.704Z"
   },
   {
    "duration": 10,
    "start_time": "2023-02-06T02:30:07.156Z"
   },
   {
    "duration": 20721,
    "start_time": "2023-02-06T02:30:24.977Z"
   },
   {
    "duration": 3,
    "start_time": "2023-02-06T02:30:50.255Z"
   },
   {
    "duration": 1881,
    "start_time": "2023-02-06T02:31:41.254Z"
   },
   {
    "duration": 3,
    "start_time": "2023-02-06T02:31:46.090Z"
   },
   {
    "duration": 4,
    "start_time": "2023-02-06T02:31:49.735Z"
   },
   {
    "duration": 2,
    "start_time": "2023-02-06T02:31:50.471Z"
   },
   {
    "duration": 3508,
    "start_time": "2023-02-06T02:31:53.244Z"
   },
   {
    "duration": 1383,
    "start_time": "2023-02-06T02:33:06.087Z"
   },
   {
    "duration": 2,
    "start_time": "2023-02-06T02:33:07.471Z"
   },
   {
    "duration": 908,
    "start_time": "2023-02-06T02:33:07.475Z"
   },
   {
    "duration": 16,
    "start_time": "2023-02-06T02:33:08.385Z"
   },
   {
    "duration": 33,
    "start_time": "2023-02-06T02:33:08.403Z"
   },
   {
    "duration": 12,
    "start_time": "2023-02-06T02:33:08.437Z"
   },
   {
    "duration": 323,
    "start_time": "2023-02-06T02:33:08.450Z"
   },
   {
    "duration": 31,
    "start_time": "2023-02-06T02:33:08.775Z"
   },
   {
    "duration": 1653,
    "start_time": "2023-02-06T02:33:08.807Z"
   },
   {
    "duration": 8,
    "start_time": "2023-02-06T02:33:10.462Z"
   },
   {
    "duration": 4642,
    "start_time": "2023-02-06T02:33:10.472Z"
   },
   {
    "duration": 3,
    "start_time": "2023-02-06T02:33:15.116Z"
   },
   {
    "duration": 46353,
    "start_time": "2023-02-06T02:33:15.120Z"
   },
   {
    "duration": 147,
    "start_time": "2023-02-06T02:35:02.578Z"
   },
   {
    "duration": 2,
    "start_time": "2023-02-06T02:35:30.471Z"
   },
   {
    "duration": 157117,
    "start_time": "2023-02-06T02:35:31.578Z"
   },
   {
    "duration": 5580,
    "start_time": "2023-02-06T02:39:08.343Z"
   },
   {
    "duration": 3,
    "start_time": "2023-02-06T02:40:16.724Z"
   },
   {
    "duration": 22,
    "start_time": "2023-02-06T02:40:37.303Z"
   },
   {
    "duration": 4,
    "start_time": "2023-02-06T02:42:37.213Z"
   },
   {
    "duration": 3,
    "start_time": "2023-02-06T02:42:50.394Z"
   },
   {
    "duration": 97044,
    "start_time": "2023-02-06T02:42:54.343Z"
   },
   {
    "duration": 4,
    "start_time": "2023-02-06T02:45:24.985Z"
   },
   {
    "duration": 10,
    "start_time": "2023-02-06T02:45:53.674Z"
   },
   {
    "duration": 10,
    "start_time": "2023-02-06T02:46:01.276Z"
   },
   {
    "duration": 3,
    "start_time": "2023-02-06T02:47:06.914Z"
   },
   {
    "duration": 719,
    "start_time": "2023-02-06T02:49:35.875Z"
   },
   {
    "duration": 11,
    "start_time": "2023-02-06T02:49:45.316Z"
   },
   {
    "duration": 551,
    "start_time": "2023-02-06T02:50:04.606Z"
   },
   {
    "duration": 50759,
    "start_time": "2023-02-06T02:50:07.141Z"
   },
   {
    "duration": 1780,
    "start_time": "2023-02-06T02:51:02.684Z"
   },
   {
    "duration": 9,
    "start_time": "2023-02-06T02:51:29.724Z"
   },
   {
    "duration": 1645,
    "start_time": "2023-02-06T02:51:57.984Z"
   },
   {
    "duration": 10,
    "start_time": "2023-02-06T02:52:10.713Z"
   },
   {
    "duration": 14,
    "start_time": "2023-02-06T02:52:31.474Z"
   },
   {
    "duration": 2,
    "start_time": "2023-02-06T02:53:18.084Z"
   },
   {
    "duration": 606,
    "start_time": "2023-02-06T02:53:20.153Z"
   },
   {
    "duration": 52034,
    "start_time": "2023-02-06T02:53:22.083Z"
   },
   {
    "duration": 1653,
    "start_time": "2023-02-06T02:55:44.354Z"
   },
   {
    "duration": 1640,
    "start_time": "2023-02-06T02:56:06.593Z"
   },
   {
    "duration": 9,
    "start_time": "2023-02-06T02:56:11.594Z"
   },
   {
    "duration": 4,
    "start_time": "2023-02-06T02:56:34.634Z"
   },
   {
    "duration": 17,
    "start_time": "2023-02-06T02:56:55.091Z"
   },
   {
    "duration": 3,
    "start_time": "2023-02-06T02:56:56.644Z"
   },
   {
    "duration": 32,
    "start_time": "2023-02-06T02:57:19.532Z"
   },
   {
    "duration": 33,
    "start_time": "2023-02-06T02:57:50.005Z"
   },
   {
    "duration": 31,
    "start_time": "2023-02-06T02:58:07.945Z"
   },
   {
    "duration": 67,
    "start_time": "2023-02-06T02:58:10.463Z"
   },
   {
    "duration": 16,
    "start_time": "2023-02-06T02:58:25.916Z"
   },
   {
    "duration": 74,
    "start_time": "2023-02-06T02:59:34.721Z"
   },
   {
    "duration": 97,
    "start_time": "2023-02-06T02:59:47.479Z"
   },
   {
    "duration": 8,
    "start_time": "2023-02-06T03:00:12.473Z"
   },
   {
    "duration": 7,
    "start_time": "2023-02-06T03:00:27.394Z"
   },
   {
    "duration": 15,
    "start_time": "2023-02-06T03:01:37.319Z"
   },
   {
    "duration": 16,
    "start_time": "2023-02-06T03:01:44.244Z"
   },
   {
    "duration": 3,
    "start_time": "2023-02-06T03:02:33.896Z"
   },
   {
    "duration": 94268,
    "start_time": "2023-02-06T03:02:36.260Z"
   },
   {
    "duration": 4,
    "start_time": "2023-02-06T03:04:22.516Z"
   },
   {
    "duration": 3,
    "start_time": "2023-02-06T03:04:39.098Z"
   },
   {
    "duration": 11,
    "start_time": "2023-02-06T03:05:42.346Z"
   },
   {
    "duration": 24717,
    "start_time": "2023-02-06T03:05:49.954Z"
   },
   {
    "duration": 24529,
    "start_time": "2023-02-06T03:06:22.406Z"
   },
   {
    "duration": 8,
    "start_time": "2023-02-06T03:08:15.397Z"
   },
   {
    "duration": 75,
    "start_time": "2023-02-06T03:08:21.710Z"
   },
   {
    "duration": 8,
    "start_time": "2023-02-06T03:08:39.454Z"
   },
   {
    "duration": 3,
    "start_time": "2023-02-06T03:09:23.852Z"
   },
   {
    "duration": 599,
    "start_time": "2023-02-06T03:09:32.109Z"
   },
   {
    "duration": 1897,
    "start_time": "2023-02-06T03:09:38.372Z"
   },
   {
    "duration": 18,
    "start_time": "2023-02-06T03:10:05.442Z"
   },
   {
    "duration": 4,
    "start_time": "2023-02-06T03:10:06.389Z"
   },
   {
    "duration": 15,
    "start_time": "2023-02-06T03:10:15.750Z"
   },
   {
    "duration": 8,
    "start_time": "2023-02-06T03:10:16.470Z"
   },
   {
    "duration": 2302,
    "start_time": "2023-02-06T03:18:16.488Z"
   },
   {
    "duration": 13,
    "start_time": "2023-02-06T03:18:18.791Z"
   },
   {
    "duration": 3515,
    "start_time": "2023-02-06T03:18:18.806Z"
   },
   {
    "duration": 14,
    "start_time": "2023-02-06T03:18:22.323Z"
   },
   {
    "duration": 35,
    "start_time": "2023-02-06T03:18:22.339Z"
   },
   {
    "duration": 17,
    "start_time": "2023-02-06T03:18:22.377Z"
   },
   {
    "duration": 332,
    "start_time": "2023-02-06T03:18:22.396Z"
   },
   {
    "duration": 25,
    "start_time": "2023-02-06T03:18:22.730Z"
   },
   {
    "duration": 1657,
    "start_time": "2023-02-06T03:18:22.756Z"
   },
   {
    "duration": 13,
    "start_time": "2023-02-06T03:18:24.417Z"
   },
   {
    "duration": 167774,
    "start_time": "2023-02-06T03:18:24.431Z"
   },
   {
    "duration": 6,
    "start_time": "2023-02-06T03:21:12.206Z"
   },
   {
    "duration": 5970,
    "start_time": "2023-02-06T03:21:12.214Z"
   },
   {
    "duration": 3,
    "start_time": "2023-02-06T03:21:18.186Z"
   },
   {
    "duration": 77066,
    "start_time": "2023-02-06T03:21:18.190Z"
   },
   {
    "duration": 4,
    "start_time": "2023-02-06T03:22:35.258Z"
   },
   {
    "duration": 20,
    "start_time": "2023-02-06T03:22:35.263Z"
   },
   {
    "duration": 10,
    "start_time": "2023-02-06T03:22:35.284Z"
   },
   {
    "duration": 26642,
    "start_time": "2023-02-06T03:22:35.300Z"
   },
   {
    "duration": 4,
    "start_time": "2023-02-06T03:23:01.944Z"
   },
   {
    "duration": 22,
    "start_time": "2023-02-06T03:23:01.950Z"
   },
   {
    "duration": 79,
    "start_time": "2023-02-06T03:23:01.974Z"
   },
   {
    "duration": 0,
    "start_time": "2023-02-06T03:23:02.055Z"
   },
   {
    "duration": 0,
    "start_time": "2023-02-06T03:23:02.056Z"
   },
   {
    "duration": 0,
    "start_time": "2023-02-06T03:23:02.057Z"
   },
   {
    "duration": 0,
    "start_time": "2023-02-06T03:23:02.058Z"
   },
   {
    "duration": 0,
    "start_time": "2023-02-06T03:23:02.059Z"
   },
   {
    "duration": 0,
    "start_time": "2023-02-06T03:23:02.060Z"
   },
   {
    "duration": 0,
    "start_time": "2023-02-06T03:23:02.061Z"
   },
   {
    "duration": 0,
    "start_time": "2023-02-06T03:23:02.063Z"
   },
   {
    "duration": 3,
    "start_time": "2023-02-06T03:24:38.559Z"
   },
   {
    "duration": 505,
    "start_time": "2023-02-06T03:24:39.609Z"
   },
   {
    "duration": 56280,
    "start_time": "2023-02-06T03:24:42.460Z"
   },
   {
    "duration": 1794,
    "start_time": "2023-02-06T03:25:49.158Z"
   },
   {
    "duration": 18,
    "start_time": "2023-02-06T03:25:55.421Z"
   },
   {
    "duration": 18,
    "start_time": "2023-02-06T03:26:17.506Z"
   },
   {
    "duration": 129,
    "start_time": "2023-02-06T03:26:19.224Z"
   },
   {
    "duration": 4,
    "start_time": "2023-02-06T03:26:29.262Z"
   },
   {
    "duration": 17,
    "start_time": "2023-02-06T03:28:11.297Z"
   },
   {
    "duration": 6,
    "start_time": "2023-02-06T03:28:12.817Z"
   },
   {
    "duration": 1364,
    "start_time": "2023-02-06T03:29:10.699Z"
   },
   {
    "duration": 3,
    "start_time": "2023-02-06T03:29:12.065Z"
   },
   {
    "duration": 894,
    "start_time": "2023-02-06T03:29:12.069Z"
   },
   {
    "duration": 14,
    "start_time": "2023-02-06T03:29:12.965Z"
   },
   {
    "duration": 37,
    "start_time": "2023-02-06T03:29:12.982Z"
   },
   {
    "duration": 11,
    "start_time": "2023-02-06T03:29:13.020Z"
   },
   {
    "duration": 325,
    "start_time": "2023-02-06T03:29:13.032Z"
   },
   {
    "duration": 49,
    "start_time": "2023-02-06T03:29:13.359Z"
   },
   {
    "duration": 1713,
    "start_time": "2023-02-06T03:29:13.410Z"
   },
   {
    "duration": 7,
    "start_time": "2023-02-06T03:29:15.124Z"
   },
   {
    "duration": 156594,
    "start_time": "2023-02-06T03:29:15.133Z"
   },
   {
    "duration": 5786,
    "start_time": "2023-02-06T03:31:51.729Z"
   },
   {
    "duration": 3,
    "start_time": "2023-02-06T03:31:57.517Z"
   },
   {
    "duration": 50149,
    "start_time": "2023-02-06T03:33:46.162Z"
   },
   {
    "duration": 1619,
    "start_time": "2023-02-06T03:34:36.312Z"
   },
   {
    "duration": 16,
    "start_time": "2023-02-06T03:34:37.933Z"
   },
   {
    "duration": 3,
    "start_time": "2023-02-06T03:34:37.950Z"
   },
   {
    "duration": 17,
    "start_time": "2023-02-06T03:34:37.954Z"
   },
   {
    "duration": 20,
    "start_time": "2023-02-06T03:34:37.973Z"
   },
   {
    "duration": 3,
    "start_time": "2023-02-06T03:40:41.326Z"
   },
   {
    "duration": 88063,
    "start_time": "2023-02-06T03:40:42.894Z"
   },
   {
    "duration": 4,
    "start_time": "2023-02-06T03:42:18.003Z"
   },
   {
    "duration": 25101,
    "start_time": "2023-02-06T03:42:20.702Z"
   },
   {
    "duration": 10,
    "start_time": "2023-02-06T03:42:53.942Z"
   },
   {
    "duration": 2,
    "start_time": "2023-02-06T03:43:18.768Z"
   },
   {
    "duration": 7,
    "start_time": "2023-02-06T03:43:27.927Z"
   },
   {
    "duration": 17,
    "start_time": "2023-02-06T03:44:38.005Z"
   },
   {
    "duration": 25,
    "start_time": "2023-02-06T03:45:03.986Z"
   },
   {
    "duration": 7,
    "start_time": "2023-02-06T03:45:10.698Z"
   },
   {
    "duration": 3,
    "start_time": "2023-02-06T03:45:37.894Z"
   },
   {
    "duration": 56,
    "start_time": "2023-02-06T03:45:55.006Z"
   },
   {
    "duration": 2290,
    "start_time": "2023-02-06T03:46:27.585Z"
   },
   {
    "duration": 3,
    "start_time": "2023-02-06T03:46:29.878Z"
   },
   {
    "duration": 3730,
    "start_time": "2023-02-06T03:46:29.882Z"
   },
   {
    "duration": 16,
    "start_time": "2023-02-06T03:46:33.614Z"
   },
   {
    "duration": 31,
    "start_time": "2023-02-06T03:46:33.632Z"
   },
   {
    "duration": 10,
    "start_time": "2023-02-06T03:46:33.664Z"
   },
   {
    "duration": 364,
    "start_time": "2023-02-06T03:46:33.676Z"
   },
   {
    "duration": 34,
    "start_time": "2023-02-06T03:46:34.042Z"
   },
   {
    "duration": 1669,
    "start_time": "2023-02-06T03:46:34.079Z"
   },
   {
    "duration": 7,
    "start_time": "2023-02-06T03:46:35.751Z"
   },
   {
    "duration": 154795,
    "start_time": "2023-02-06T03:46:35.759Z"
   },
   {
    "duration": 3,
    "start_time": "2023-02-06T03:49:44.631Z"
   },
   {
    "duration": 86,
    "start_time": "2023-02-06T03:49:46.876Z"
   },
   {
    "duration": 5610,
    "start_time": "2023-02-06T03:49:54.629Z"
   },
   {
    "duration": 4,
    "start_time": "2023-02-06T03:50:09.735Z"
   },
   {
    "duration": 89855,
    "start_time": "2023-02-06T03:50:12.737Z"
   },
   {
    "duration": 12,
    "start_time": "2023-02-06T03:51:54.911Z"
   },
   {
    "duration": 3,
    "start_time": "2023-02-06T03:51:58.002Z"
   },
   {
    "duration": 25282,
    "start_time": "2023-02-06T03:51:58.873Z"
   },
   {
    "duration": 7,
    "start_time": "2023-02-06T03:52:27.152Z"
   },
   {
    "duration": 3,
    "start_time": "2023-02-06T03:52:33.682Z"
   },
   {
    "duration": 538,
    "start_time": "2023-02-06T03:52:34.680Z"
   },
   {
    "duration": 52467,
    "start_time": "2023-02-06T03:52:36.582Z"
   },
   {
    "duration": 1815,
    "start_time": "2023-02-06T03:53:33.873Z"
   },
   {
    "duration": 18,
    "start_time": "2023-02-06T03:53:36.923Z"
   },
   {
    "duration": 4,
    "start_time": "2023-02-06T03:53:39.392Z"
   },
   {
    "duration": 18,
    "start_time": "2023-02-06T03:53:45.872Z"
   },
   {
    "duration": 9,
    "start_time": "2023-02-06T03:53:46.792Z"
   },
   {
    "duration": 23,
    "start_time": "2023-02-06T03:54:23.961Z"
   },
   {
    "duration": 3272,
    "start_time": "2023-02-06T09:30:16.404Z"
   },
   {
    "duration": 2,
    "start_time": "2023-02-06T09:30:19.679Z"
   },
   {
    "duration": 4836,
    "start_time": "2023-02-06T09:30:19.687Z"
   },
   {
    "duration": 16,
    "start_time": "2023-02-06T09:30:24.526Z"
   },
   {
    "duration": 67,
    "start_time": "2023-02-06T09:30:24.547Z"
   },
   {
    "duration": 13,
    "start_time": "2023-02-06T09:30:24.616Z"
   },
   {
    "duration": 332,
    "start_time": "2023-02-06T09:30:24.631Z"
   },
   {
    "duration": 30,
    "start_time": "2023-02-06T09:30:24.967Z"
   },
   {
    "duration": 3,
    "start_time": "2023-02-06T09:30:45.500Z"
   },
   {
    "duration": 1566,
    "start_time": "2023-02-06T09:30:50.028Z"
   },
   {
    "duration": 3,
    "start_time": "2023-02-06T09:30:53.307Z"
   },
   {
    "duration": 193088,
    "start_time": "2023-02-06T09:30:54.516Z"
   },
   {
    "duration": 37,
    "start_time": "2023-02-06T09:34:24.132Z"
   },
   {
    "duration": 15,
    "start_time": "2023-02-06T09:34:46.337Z"
   },
   {
    "duration": 5,
    "start_time": "2023-02-06T09:34:49.006Z"
   },
   {
    "duration": 4,
    "start_time": "2023-02-06T09:35:03.576Z"
   },
   {
    "duration": 10,
    "start_time": "2023-02-06T09:35:05.762Z"
   },
   {
    "duration": 13,
    "start_time": "2023-02-06T09:35:09.336Z"
   },
   {
    "duration": 4,
    "start_time": "2023-02-06T09:35:11.429Z"
   },
   {
    "duration": 4,
    "start_time": "2023-02-06T09:35:25.296Z"
   },
   {
    "duration": 16,
    "start_time": "2023-02-06T09:35:25.472Z"
   },
   {
    "duration": 8,
    "start_time": "2023-02-06T09:35:57.696Z"
   },
   {
    "duration": 3,
    "start_time": "2023-02-06T09:36:15.589Z"
   },
   {
    "duration": 5,
    "start_time": "2023-02-06T09:36:18.727Z"
   },
   {
    "duration": 6,
    "start_time": "2023-02-06T09:36:54.380Z"
   },
   {
    "duration": 5,
    "start_time": "2023-02-06T09:37:19.979Z"
   },
   {
    "duration": 5,
    "start_time": "2023-02-06T09:37:25.215Z"
   },
   {
    "duration": 1435,
    "start_time": "2023-02-06T15:08:36.980Z"
   },
   {
    "duration": 3,
    "start_time": "2023-02-06T15:08:38.417Z"
   },
   {
    "duration": 3602,
    "start_time": "2023-02-06T15:08:38.423Z"
   },
   {
    "duration": 13,
    "start_time": "2023-02-06T15:08:42.026Z"
   },
   {
    "duration": 35,
    "start_time": "2023-02-06T15:08:42.041Z"
   },
   {
    "duration": 11,
    "start_time": "2023-02-06T15:08:42.078Z"
   },
   {
    "duration": 479,
    "start_time": "2023-02-06T15:08:42.090Z"
   },
   {
    "duration": 55,
    "start_time": "2023-02-06T15:08:42.570Z"
   },
   {
    "duration": 4,
    "start_time": "2023-02-06T15:08:42.627Z"
   },
   {
    "duration": 9,
    "start_time": "2023-02-06T15:08:42.632Z"
   },
   {
    "duration": 162007,
    "start_time": "2023-02-06T15:08:55.586Z"
   },
   {
    "duration": 4,
    "start_time": "2023-02-06T15:15:56.040Z"
   },
   {
    "duration": 4,
    "start_time": "2023-02-06T15:16:05.169Z"
   },
   {
    "duration": 49,
    "start_time": "2023-02-06T15:22:48.161Z"
   },
   {
    "duration": 7,
    "start_time": "2023-02-06T15:22:56.557Z"
   },
   {
    "duration": 4,
    "start_time": "2023-02-06T15:23:01.408Z"
   },
   {
    "duration": 6,
    "start_time": "2023-02-06T15:23:27.505Z"
   },
   {
    "duration": 3,
    "start_time": "2023-02-06T15:23:30.697Z"
   },
   {
    "duration": 4,
    "start_time": "2023-02-06T15:23:41.597Z"
   },
   {
    "duration": 10,
    "start_time": "2023-02-06T15:25:31.233Z"
   },
   {
    "duration": 7,
    "start_time": "2023-02-06T15:25:44.498Z"
   },
   {
    "duration": 6,
    "start_time": "2023-02-06T15:25:57.879Z"
   },
   {
    "duration": 4,
    "start_time": "2023-02-06T15:26:54.481Z"
   },
   {
    "duration": 1318,
    "start_time": "2023-02-06T15:32:16.799Z"
   },
   {
    "duration": 4,
    "start_time": "2023-02-06T15:32:37.616Z"
   },
   {
    "duration": 48,
    "start_time": "2023-02-06T15:32:57.989Z"
   },
   {
    "duration": 12,
    "start_time": "2023-02-06T15:33:28.957Z"
   },
   {
    "duration": 56,
    "start_time": "2023-02-06T15:33:44.992Z"
   },
   {
    "duration": 7,
    "start_time": "2023-02-06T15:34:07.944Z"
   },
   {
    "duration": 6,
    "start_time": "2023-02-06T15:34:30.497Z"
   },
   {
    "duration": 141255,
    "start_time": "2023-02-06T15:36:39.714Z"
   },
   {
    "duration": 0,
    "start_time": "2023-02-06T15:39:00.970Z"
   },
   {
    "duration": 5,
    "start_time": "2023-02-06T15:39:10.427Z"
   },
   {
    "duration": 7,
    "start_time": "2023-02-06T15:39:39.021Z"
   },
   {
    "duration": 38,
    "start_time": "2023-02-06T15:39:54.697Z"
   },
   {
    "duration": 51,
    "start_time": "2023-02-06T15:44:03.128Z"
   },
   {
    "duration": 10,
    "start_time": "2023-02-06T15:44:50.974Z"
   },
   {
    "duration": 62,
    "start_time": "2023-02-06T15:45:16.646Z"
   },
   {
    "duration": 4,
    "start_time": "2023-02-06T15:45:52.295Z"
   },
   {
    "duration": 41,
    "start_time": "2023-02-06T15:46:14.629Z"
   },
   {
    "duration": 40,
    "start_time": "2023-02-06T15:46:42.586Z"
   },
   {
    "duration": 47,
    "start_time": "2023-02-06T15:47:08.339Z"
   },
   {
    "duration": 65,
    "start_time": "2023-02-06T15:49:27.862Z"
   },
   {
    "duration": 74,
    "start_time": "2023-02-06T15:53:07.228Z"
   },
   {
    "duration": 46,
    "start_time": "2023-02-06T15:54:49.468Z"
   },
   {
    "duration": 49,
    "start_time": "2023-02-06T15:55:04.322Z"
   },
   {
    "duration": 85,
    "start_time": "2023-02-06T15:55:13.887Z"
   },
   {
    "duration": 17,
    "start_time": "2023-02-06T15:55:21.627Z"
   },
   {
    "duration": 3,
    "start_time": "2023-02-06T15:55:52.274Z"
   },
   {
    "duration": 49,
    "start_time": "2023-02-06T15:56:25.207Z"
   },
   {
    "duration": 7,
    "start_time": "2023-02-06T15:56:41.040Z"
   },
   {
    "duration": 5,
    "start_time": "2023-02-06T15:56:55.456Z"
   },
   {
    "duration": 6,
    "start_time": "2023-02-06T15:57:03.571Z"
   },
   {
    "duration": 8,
    "start_time": "2023-02-06T15:57:35.719Z"
   },
   {
    "duration": 4,
    "start_time": "2023-02-06T15:58:25.539Z"
   },
   {
    "duration": 7,
    "start_time": "2023-02-06T15:59:14.146Z"
   },
   {
    "duration": 3,
    "start_time": "2023-02-06T15:59:53.171Z"
   },
   {
    "duration": 6,
    "start_time": "2023-02-06T16:04:18.125Z"
   },
   {
    "duration": 5,
    "start_time": "2023-02-06T16:04:30.369Z"
   },
   {
    "duration": 4,
    "start_time": "2023-02-06T16:04:38.021Z"
   },
   {
    "duration": 7,
    "start_time": "2023-02-06T16:04:45.860Z"
   },
   {
    "duration": 14,
    "start_time": "2023-02-06T16:05:48.116Z"
   },
   {
    "duration": 12,
    "start_time": "2023-02-06T16:06:17.411Z"
   },
   {
    "duration": 12,
    "start_time": "2023-02-06T16:06:33.390Z"
   },
   {
    "duration": 11,
    "start_time": "2023-02-06T16:06:45.747Z"
   },
   {
    "duration": 13,
    "start_time": "2023-02-06T16:06:58.985Z"
   },
   {
    "duration": 4,
    "start_time": "2023-02-06T16:07:29.271Z"
   },
   {
    "duration": 10,
    "start_time": "2023-02-06T16:07:58.424Z"
   },
   {
    "duration": 13,
    "start_time": "2023-02-06T16:08:23.903Z"
   },
   {
    "duration": 5,
    "start_time": "2023-02-06T16:08:32.321Z"
   },
   {
    "duration": 74,
    "start_time": "2023-02-06T16:08:58.803Z"
   },
   {
    "duration": 64,
    "start_time": "2023-02-06T16:09:13.337Z"
   },
   {
    "duration": 5,
    "start_time": "2023-02-06T16:09:19.054Z"
   },
   {
    "duration": 4,
    "start_time": "2023-02-06T16:09:27.469Z"
   },
   {
    "duration": 5,
    "start_time": "2023-02-06T16:09:37.237Z"
   },
   {
    "duration": 13,
    "start_time": "2023-02-06T16:09:44.401Z"
   },
   {
    "duration": 8,
    "start_time": "2023-02-06T16:11:50.077Z"
   },
   {
    "duration": 7,
    "start_time": "2023-02-06T16:12:08.454Z"
   },
   {
    "duration": 8,
    "start_time": "2023-02-06T16:13:32.293Z"
   },
   {
    "duration": 4,
    "start_time": "2023-02-06T16:14:02.356Z"
   },
   {
    "duration": 4,
    "start_time": "2023-02-06T16:14:15.648Z"
   },
   {
    "duration": 10,
    "start_time": "2023-02-06T16:17:10.101Z"
   },
   {
    "duration": 4,
    "start_time": "2023-02-06T16:17:31.329Z"
   },
   {
    "duration": 3,
    "start_time": "2023-02-06T16:17:48.615Z"
   },
   {
    "duration": 4,
    "start_time": "2023-02-06T16:18:02.354Z"
   },
   {
    "duration": 4,
    "start_time": "2023-02-06T16:18:39.546Z"
   },
   {
    "duration": 3,
    "start_time": "2023-02-06T16:19:05.034Z"
   },
   {
    "duration": 3,
    "start_time": "2023-02-06T16:19:21.860Z"
   },
   {
    "duration": 8,
    "start_time": "2023-02-06T16:20:34.685Z"
   },
   {
    "duration": 4,
    "start_time": "2023-02-06T16:20:49.057Z"
   },
   {
    "duration": 8,
    "start_time": "2023-02-06T16:25:13.189Z"
   },
   {
    "duration": 158138,
    "start_time": "2023-02-06T16:32:01.082Z"
   },
   {
    "duration": 12,
    "start_time": "2023-02-06T16:34:39.222Z"
   },
   {
    "duration": 7,
    "start_time": "2023-02-06T16:35:34.608Z"
   },
   {
    "duration": 4,
    "start_time": "2023-02-06T16:35:47.028Z"
   },
   {
    "duration": 4,
    "start_time": "2023-02-06T16:38:52.621Z"
   },
   {
    "duration": 4,
    "start_time": "2023-02-06T16:38:55.637Z"
   },
   {
    "duration": 8,
    "start_time": "2023-02-06T16:39:26.255Z"
   },
   {
    "duration": 4,
    "start_time": "2023-02-06T16:40:19.619Z"
   },
   {
    "duration": 3,
    "start_time": "2023-02-06T16:40:29.743Z"
   },
   {
    "duration": 3,
    "start_time": "2023-02-06T16:41:15.881Z"
   },
   {
    "duration": 4,
    "start_time": "2023-02-06T16:41:22.936Z"
   },
   {
    "duration": 3,
    "start_time": "2023-02-06T16:42:41.123Z"
   },
   {
    "duration": 3,
    "start_time": "2023-02-06T16:43:45.857Z"
   },
   {
    "duration": 4,
    "start_time": "2023-02-06T16:47:34.520Z"
   },
   {
    "duration": 5,
    "start_time": "2023-02-06T16:49:26.142Z"
   },
   {
    "duration": 5,
    "start_time": "2023-02-06T16:49:38.293Z"
   },
   {
    "duration": 5,
    "start_time": "2023-02-06T16:50:56.808Z"
   },
   {
    "duration": 4,
    "start_time": "2023-02-06T16:51:05.458Z"
   },
   {
    "duration": 4,
    "start_time": "2023-02-06T16:51:45.298Z"
   },
   {
    "duration": 60848,
    "start_time": "2023-02-06T16:52:59.684Z"
   },
   {
    "duration": 4,
    "start_time": "2023-02-06T16:54:31.093Z"
   },
   {
    "duration": 4,
    "start_time": "2023-02-06T16:54:40.114Z"
   },
   {
    "duration": 3,
    "start_time": "2023-02-06T16:55:09.412Z"
   },
   {
    "duration": 70,
    "start_time": "2023-02-06T16:57:51.438Z"
   },
   {
    "duration": 5,
    "start_time": "2023-02-06T16:58:07.713Z"
   },
   {
    "duration": 18,
    "start_time": "2023-02-06T16:58:07.720Z"
   },
   {
    "duration": 733,
    "start_time": "2023-02-06T16:58:07.740Z"
   },
   {
    "duration": 14,
    "start_time": "2023-02-06T16:58:08.476Z"
   },
   {
    "duration": 33,
    "start_time": "2023-02-06T16:58:08.498Z"
   },
   {
    "duration": 11,
    "start_time": "2023-02-06T16:58:08.533Z"
   },
   {
    "duration": 111,
    "start_time": "2023-02-06T16:58:08.546Z"
   },
   {
    "duration": 28,
    "start_time": "2023-02-06T16:58:08.659Z"
   },
   {
    "duration": 3,
    "start_time": "2023-02-06T16:58:08.698Z"
   },
   {
    "duration": 6,
    "start_time": "2023-02-06T16:58:08.704Z"
   },
   {
    "duration": 59394,
    "start_time": "2023-02-06T16:58:08.712Z"
   },
   {
    "duration": 4,
    "start_time": "2023-02-06T16:59:08.108Z"
   },
   {
    "duration": 9,
    "start_time": "2023-02-06T16:59:08.113Z"
   },
   {
    "duration": 5239,
    "start_time": "2023-02-06T16:59:08.123Z"
   },
   {
    "duration": 1323,
    "start_time": "2023-02-06T16:59:34.355Z"
   },
   {
    "duration": 3,
    "start_time": "2023-02-06T16:59:35.679Z"
   },
   {
    "duration": 774,
    "start_time": "2023-02-06T16:59:35.684Z"
   },
   {
    "duration": 16,
    "start_time": "2023-02-06T16:59:36.460Z"
   },
   {
    "duration": 45,
    "start_time": "2023-02-06T16:59:36.478Z"
   },
   {
    "duration": 11,
    "start_time": "2023-02-06T16:59:36.526Z"
   },
   {
    "duration": 319,
    "start_time": "2023-02-06T16:59:36.538Z"
   },
   {
    "duration": 28,
    "start_time": "2023-02-06T16:59:36.859Z"
   },
   {
    "duration": 2,
    "start_time": "2023-02-06T16:59:36.899Z"
   },
   {
    "duration": 7,
    "start_time": "2023-02-06T16:59:36.903Z"
   },
   {
    "duration": 59638,
    "start_time": "2023-02-06T16:59:36.912Z"
   },
   {
    "duration": 4,
    "start_time": "2023-02-06T17:00:36.552Z"
   },
   {
    "duration": 13,
    "start_time": "2023-02-06T17:00:36.557Z"
   },
   {
    "duration": 4994,
    "start_time": "2023-02-06T17:00:36.572Z"
   },
   {
    "duration": 3,
    "start_time": "2023-02-06T17:00:41.568Z"
   },
   {
    "duration": 86746,
    "start_time": "2023-02-06T17:00:41.572Z"
   },
   {
    "duration": 3,
    "start_time": "2023-02-06T17:02:08.320Z"
   },
   {
    "duration": 21554,
    "start_time": "2023-02-06T17:02:08.325Z"
   },
   {
    "duration": 9,
    "start_time": "2023-02-06T17:03:48.526Z"
   },
   {
    "duration": 3,
    "start_time": "2023-02-06T17:04:08.329Z"
   },
   {
    "duration": 497,
    "start_time": "2023-02-06T17:04:12.186Z"
   },
   {
    "duration": 20718,
    "start_time": "2023-02-06T17:04:13.885Z"
   },
   {
    "duration": 43,
    "start_time": "2023-02-06T17:05:05.200Z"
   },
   {
    "duration": 20262,
    "start_time": "2023-02-06T17:05:06.987Z"
   },
   {
    "duration": 1696,
    "start_time": "2023-02-06T17:05:57.559Z"
   },
   {
    "duration": 16,
    "start_time": "2023-02-06T17:06:01.260Z"
   },
   {
    "duration": 3,
    "start_time": "2023-02-06T17:06:02.312Z"
   },
   {
    "duration": 19,
    "start_time": "2023-02-06T17:06:12.281Z"
   },
   {
    "duration": 7,
    "start_time": "2023-02-06T17:06:13.265Z"
   }
  ],
  "kernelspec": {
   "display_name": "Python 3 (ipykernel)",
   "language": "python",
   "name": "python3"
  },
  "language_info": {
   "codemirror_mode": {
    "name": "ipython",
    "version": 3
   },
   "file_extension": ".py",
   "mimetype": "text/x-python",
   "name": "python",
   "nbconvert_exporter": "python",
   "pygments_lexer": "ipython3",
   "version": "3.9.5"
  },
  "toc": {
   "base_numbering": 1,
   "nav_menu": {},
   "number_sections": true,
   "sideBar": true,
   "skip_h1_title": true,
   "title_cell": "Содержание",
   "title_sidebar": "Contents",
   "toc_cell": true,
   "toc_position": {
    "height": "calc(100% - 180px)",
    "left": "10px",
    "top": "150px",
    "width": "302.391px"
   },
   "toc_section_display": true,
   "toc_window_display": false
  }
 },
 "nbformat": 4,
 "nbformat_minor": 2
}
