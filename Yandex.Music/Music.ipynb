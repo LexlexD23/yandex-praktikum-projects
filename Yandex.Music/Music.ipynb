{
 "cells": [
  {
   "cell_type": "markdown",
   "metadata": {
    "id": "E0vqbgi9ay0H"
   },
   "source": [
    "# Яндекс.Музыка"
   ]
  },
  {
   "cell_type": "markdown",
   "metadata": {
    "id": "VUC88oWjTJw2"
   },
   "source": [
    "Сравнение Москвы и Петербурга окружено мифами. Например:\n",
    " * Москва — мегаполис, подчинённый жёсткому ритму рабочей недели;\n",
    " * Петербург — культурная столица, со своими вкусами.\n",
    "\n",
    "На данных Яндекс.Музыки вы сравните поведение пользователей двух столиц.\n",
    "\n",
    "**Цель исследования** — проверьте три гипотезы:\n",
    "1. Активность пользователей зависит от дня недели. Причём в Москве и Петербурге это проявляется по-разному.\n",
    "2. В понедельник утром в Москве преобладают одни жанры, а в Петербурге — другие. Так же и вечером пятницы преобладают разные жанры — в зависимости от города. \n",
    "3. Москва и Петербург предпочитают разные жанры музыки. В Москве чаще слушают поп-музыку, в Петербурге — русский рэп.\n",
    "\n",
    "**Ход исследования**\n",
    "\n",
    "Данные о поведении пользователей вы получите из файла `yandex_music_project.csv`. О качестве данных ничего не известно. Поэтому перед проверкой гипотез понадобится обзор данных. \n",
    "\n",
    "Вы проверите данные на ошибки и оцените их влияние на исследование. Затем, на этапе предобработки вы поищете возможность исправить самые критичные ошибки данных.\n",
    " \n",
    "Таким образом, исследование пройдёт в три этапа:\n",
    " 1. Обзор данных.\n",
    " 2. Предобработка данных.\n",
    " 3. Проверка гипотез.\n",
    "\n"
   ]
  },
  {
   "cell_type": "markdown",
   "metadata": {
    "id": "Ml1hmfXC_Zcs"
   },
   "source": [
    "## Обзор данных\n",
    "\n",
    "Составьте первое представление о данных Яндекс.Музыки.\n",
    "\n",
    "\n"
   ]
  },
  {
   "cell_type": "markdown",
   "metadata": {
    "id": "57eAOGIz_Zcs"
   },
   "source": [
    "Основной инструмент аналитика — `pandas`. Импортируйте эту библиотеку."
   ]
  },
  {
   "cell_type": "code",
   "execution_count": 229,
   "metadata": {
    "id": "AXN7PHPN_Zcs"
   },
   "outputs": [],
   "source": [
    "import pandas as pd # импорт библиотеки pandas"
   ]
  },
  {
   "cell_type": "markdown",
   "metadata": {
    "id": "SG23P8tt_Zcs"
   },
   "source": [
    "Прочитайте файл `yandex_music_project.csv` из папки `/datasets` и сохраните его в переменной `df`:"
   ]
  },
  {
   "cell_type": "code",
   "execution_count": 230,
   "metadata": {
    "id": "fFVu7vqh_Zct"
   },
   "outputs": [],
   "source": [
    "df = pd.read_csv('/datasets/yandex_music_project.csv')# чтение файла с данными и сохранение в df"
   ]
  },
  {
   "cell_type": "markdown",
   "metadata": {
    "id": "rDoOMd3uTqnZ"
   },
   "source": [
    "Выведите на экран первые десять строк таблицы:"
   ]
  },
  {
   "cell_type": "code",
   "execution_count": 231,
   "metadata": {
    "id": "oWTVX3gW_Zct",
    "scrolled": false
   },
   "outputs": [
    {
     "data": {
      "text/html": [
       "<div>\n",
       "<style scoped>\n",
       "    .dataframe tbody tr th:only-of-type {\n",
       "        vertical-align: middle;\n",
       "    }\n",
       "\n",
       "    .dataframe tbody tr th {\n",
       "        vertical-align: top;\n",
       "    }\n",
       "\n",
       "    .dataframe thead th {\n",
       "        text-align: right;\n",
       "    }\n",
       "</style>\n",
       "<table border=\"1\" class=\"dataframe\">\n",
       "  <thead>\n",
       "    <tr style=\"text-align: right;\">\n",
       "      <th></th>\n",
       "      <th>userID</th>\n",
       "      <th>Track</th>\n",
       "      <th>artist</th>\n",
       "      <th>genre</th>\n",
       "      <th>City</th>\n",
       "      <th>time</th>\n",
       "      <th>Day</th>\n",
       "    </tr>\n",
       "  </thead>\n",
       "  <tbody>\n",
       "    <tr>\n",
       "      <td>0</td>\n",
       "      <td>FFB692EC</td>\n",
       "      <td>Kamigata To Boots</td>\n",
       "      <td>The Mass Missile</td>\n",
       "      <td>rock</td>\n",
       "      <td>Saint-Petersburg</td>\n",
       "      <td>20:28:33</td>\n",
       "      <td>Wednesday</td>\n",
       "    </tr>\n",
       "    <tr>\n",
       "      <td>1</td>\n",
       "      <td>55204538</td>\n",
       "      <td>Delayed Because of Accident</td>\n",
       "      <td>Andreas Rönnberg</td>\n",
       "      <td>rock</td>\n",
       "      <td>Moscow</td>\n",
       "      <td>14:07:09</td>\n",
       "      <td>Friday</td>\n",
       "    </tr>\n",
       "    <tr>\n",
       "      <td>2</td>\n",
       "      <td>20EC38</td>\n",
       "      <td>Funiculì funiculà</td>\n",
       "      <td>Mario Lanza</td>\n",
       "      <td>pop</td>\n",
       "      <td>Saint-Petersburg</td>\n",
       "      <td>20:58:07</td>\n",
       "      <td>Wednesday</td>\n",
       "    </tr>\n",
       "    <tr>\n",
       "      <td>3</td>\n",
       "      <td>A3DD03C9</td>\n",
       "      <td>Dragons in the Sunset</td>\n",
       "      <td>Fire + Ice</td>\n",
       "      <td>folk</td>\n",
       "      <td>Saint-Petersburg</td>\n",
       "      <td>08:37:09</td>\n",
       "      <td>Monday</td>\n",
       "    </tr>\n",
       "    <tr>\n",
       "      <td>4</td>\n",
       "      <td>E2DC1FAE</td>\n",
       "      <td>Soul People</td>\n",
       "      <td>Space Echo</td>\n",
       "      <td>dance</td>\n",
       "      <td>Moscow</td>\n",
       "      <td>08:34:34</td>\n",
       "      <td>Monday</td>\n",
       "    </tr>\n",
       "    <tr>\n",
       "      <td>5</td>\n",
       "      <td>842029A1</td>\n",
       "      <td>Преданная</td>\n",
       "      <td>IMPERVTOR</td>\n",
       "      <td>rusrap</td>\n",
       "      <td>Saint-Petersburg</td>\n",
       "      <td>13:09:41</td>\n",
       "      <td>Friday</td>\n",
       "    </tr>\n",
       "    <tr>\n",
       "      <td>6</td>\n",
       "      <td>4CB90AA5</td>\n",
       "      <td>True</td>\n",
       "      <td>Roman Messer</td>\n",
       "      <td>dance</td>\n",
       "      <td>Moscow</td>\n",
       "      <td>13:00:07</td>\n",
       "      <td>Wednesday</td>\n",
       "    </tr>\n",
       "    <tr>\n",
       "      <td>7</td>\n",
       "      <td>F03E1C1F</td>\n",
       "      <td>Feeling This Way</td>\n",
       "      <td>Polina Griffith</td>\n",
       "      <td>dance</td>\n",
       "      <td>Moscow</td>\n",
       "      <td>20:47:49</td>\n",
       "      <td>Wednesday</td>\n",
       "    </tr>\n",
       "    <tr>\n",
       "      <td>8</td>\n",
       "      <td>8FA1D3BE</td>\n",
       "      <td>И вновь продолжается бой</td>\n",
       "      <td>NaN</td>\n",
       "      <td>ruspop</td>\n",
       "      <td>Moscow</td>\n",
       "      <td>09:17:40</td>\n",
       "      <td>Friday</td>\n",
       "    </tr>\n",
       "    <tr>\n",
       "      <td>9</td>\n",
       "      <td>E772D5C0</td>\n",
       "      <td>Pessimist</td>\n",
       "      <td>NaN</td>\n",
       "      <td>dance</td>\n",
       "      <td>Saint-Petersburg</td>\n",
       "      <td>21:20:49</td>\n",
       "      <td>Wednesday</td>\n",
       "    </tr>\n",
       "  </tbody>\n",
       "</table>\n",
       "</div>"
      ],
      "text/plain": [
       "     userID                        Track            artist   genre  \\\n",
       "0  FFB692EC            Kamigata To Boots  The Mass Missile    rock   \n",
       "1  55204538  Delayed Because of Accident  Andreas Rönnberg    rock   \n",
       "2    20EC38            Funiculì funiculà       Mario Lanza     pop   \n",
       "3  A3DD03C9        Dragons in the Sunset        Fire + Ice    folk   \n",
       "4  E2DC1FAE                  Soul People        Space Echo   dance   \n",
       "5  842029A1                    Преданная         IMPERVTOR  rusrap   \n",
       "6  4CB90AA5                         True      Roman Messer   dance   \n",
       "7  F03E1C1F             Feeling This Way   Polina Griffith   dance   \n",
       "8  8FA1D3BE     И вновь продолжается бой               NaN  ruspop   \n",
       "9  E772D5C0                    Pessimist               NaN   dance   \n",
       "\n",
       "             City        time        Day  \n",
       "0  Saint-Petersburg  20:28:33  Wednesday  \n",
       "1            Moscow  14:07:09     Friday  \n",
       "2  Saint-Petersburg  20:58:07  Wednesday  \n",
       "3  Saint-Petersburg  08:37:09     Monday  \n",
       "4            Moscow  08:34:34     Monday  \n",
       "5  Saint-Petersburg  13:09:41     Friday  \n",
       "6            Moscow  13:00:07  Wednesday  \n",
       "7            Moscow  20:47:49  Wednesday  \n",
       "8            Moscow  09:17:40     Friday  \n",
       "9  Saint-Petersburg  21:20:49  Wednesday  "
      ]
     },
     "execution_count": 231,
     "metadata": {},
     "output_type": "execute_result"
    }
   ],
   "source": [
    "df.head(10) # получение первых 10 строк таблицы df"
   ]
  },
  {
   "cell_type": "markdown",
   "metadata": {
    "id": "EO73Kwic_Zct"
   },
   "source": [
    "Одной командой получить общую информацию о таблице:"
   ]
  },
  {
   "cell_type": "code",
   "execution_count": 232,
   "metadata": {
    "id": "DSf2kIb-_Zct",
    "scrolled": true
   },
   "outputs": [
    {
     "name": "stdout",
     "output_type": "stream",
     "text": [
      "<class 'pandas.core.frame.DataFrame'>\n",
      "RangeIndex: 65079 entries, 0 to 65078\n",
      "Data columns (total 7 columns):\n",
      "  userID    65079 non-null object\n",
      "Track       63848 non-null object\n",
      "artist      57876 non-null object\n",
      "genre       63881 non-null object\n",
      "  City      65079 non-null object\n",
      "time        65079 non-null object\n",
      "Day         65079 non-null object\n",
      "dtypes: object(7)\n",
      "memory usage: 3.5+ MB\n"
     ]
    }
   ],
   "source": [
    "df.info()# получение общей информации о данных в таблице df"
   ]
  },
  {
   "cell_type": "markdown",
   "metadata": {
    "id": "TaQ2Iwbr_Zct"
   },
   "source": [
    "Итак, в таблице семь столбцов. Тип данных во всех столбцах — `object`.\n",
    "\n",
    "Согласно документации к данным:\n",
    "* `userID` — идентификатор пользователя;\n",
    "* `Track` — название трека;  \n",
    "* `artist` — имя исполнителя;\n",
    "* `genre` — название жанра;\n",
    "* `City` — город пользователя;\n",
    "* `time` — время начала прослушивания;\n",
    "* `Day` — день недели.\n",
    "\n",
    "В названиях колонок видны три нарушения стиля:\n",
    "1. Строчные буквы сочетаются с прописными.\n",
    "2. Встречаются пробелы.\n",
    "3. Отсутствует змеиный регист в названии столбца userID.\n",
    "\n",
    "\n",
    "\n",
    "\n",
    "Количество значений в столбцах различается. Значит, в данных есть пропущенные значения.\n"
   ]
  },
  {
   "cell_type": "markdown",
   "metadata": {
    "id": "MCB6-dXG_Zct"
   },
   "source": [
    "**Выводы**\n",
    "\n",
    "В каждой строке таблицы — данные о прослушанном треке. Часть колонок описывает саму композицию: название, исполнителя и жанр. Остальные данные рассказывают о пользователе: из какого он города, когда он слушал музыку. \n",
    "\n",
    "Предварительно можно утверждать, что, данных достаточно для проверки гипотез. Но встречаются пропуски в данных, а в названиях колонок — расхождения с хорошим стилем.\n",
    "\n",
    "Чтобы двигаться дальше, нужно устранить проблемы в данных."
   ]
  },
  {
   "cell_type": "markdown",
   "metadata": {
    "id": "SjYF6Ub9_Zct"
   },
   "source": [
    "## Предобработка данных\n",
    "Исправьте стиль в заголовках столбцов, исключите пропуски. Затем проверьте данные на дубликаты."
   ]
  },
  {
   "cell_type": "markdown",
   "metadata": {
    "id": "dIaKXr29_Zct"
   },
   "source": [
    "### Стиль заголовков\n",
    "Выведите на экран названия столбцов:"
   ]
  },
  {
   "cell_type": "code",
   "execution_count": 233,
   "metadata": {
    "id": "oKOTdF_Q_Zct"
   },
   "outputs": [
    {
     "data": {
      "text/plain": [
       "Index(['  userID', 'Track', 'artist', 'genre', '  City  ', 'time', 'Day'], dtype='object')"
      ]
     },
     "execution_count": 233,
     "metadata": {},
     "output_type": "execute_result"
    }
   ],
   "source": [
    "df.columns # перечень названий столбцов таблицы df"
   ]
  },
  {
   "cell_type": "markdown",
   "metadata": {
    "id": "zj5534cv_Zct"
   },
   "source": [
    "Приведите названия в соответствие с хорошим стилем:\n",
    "* несколько слов в названии запишите в «змеином_регистре»,\n",
    "* все символы сделайте строчными,\n",
    "* устраните пробелы.\n",
    "\n",
    "Для этого переименуйте колонки так:\n",
    "* `'  userID'` → `'user_id'`;\n",
    "* `'Track'` → `'track'`;\n",
    "* `'  City  '` → `'city'`;\n",
    "* `'Day'` → `'day'`."
   ]
  },
  {
   "cell_type": "code",
   "execution_count": 234,
   "metadata": {
    "id": "ISlFqs5y_Zct"
   },
   "outputs": [],
   "source": [
    "df=df.rename(columns={'  userID':'user_id','Track':'track','  City  ':'city','Day':'day'}) # переименование столбцов"
   ]
  },
  {
   "cell_type": "markdown",
   "metadata": {
    "id": "1dqbh00J_Zct"
   },
   "source": [
    "Проверьте результат. Для этого ещё раз выведите на экран названия столбцов:"
   ]
  },
  {
   "cell_type": "code",
   "execution_count": 235,
   "metadata": {
    "id": "d4NOAmTW_Zct",
    "scrolled": true
   },
   "outputs": [
    {
     "name": "stdout",
     "output_type": "stream",
     "text": [
      "Index(['user_id', 'track', 'artist', 'genre', 'city', 'time', 'day'], dtype='object')\n"
     ]
    }
   ],
   "source": [
    "print(df.columns) # проверка результатов - перечень названий столбцов"
   ]
  },
  {
   "cell_type": "markdown",
   "metadata": {
    "id": "5ISfbcfY_Zct"
   },
   "source": [
    "### Пропуски значений\n",
    "Сначала посчитайте, сколько в таблице пропущенных значений. Для этого достаточно двух методов `pandas`:"
   ]
  },
  {
   "cell_type": "code",
   "execution_count": 236,
   "metadata": {
    "id": "RskX29qr_Zct",
    "scrolled": true
   },
   "outputs": [
    {
     "data": {
      "text/plain": [
       "user_id       0\n",
       "track      1231\n",
       "artist     7203\n",
       "genre      1198\n",
       "city          0\n",
       "time          0\n",
       "day           0\n",
       "dtype: int64"
      ]
     },
     "execution_count": 236,
     "metadata": {},
     "output_type": "execute_result"
    }
   ],
   "source": [
    "df.isna().sum() # подсчёт пропусков"
   ]
  },
  {
   "cell_type": "markdown",
   "metadata": {
    "id": "qubhgnlO_Zct"
   },
   "source": [
    "Не все пропущенные значения влияют на исследование. Так в `track` и `artist` пропуски не важны для вашей работы. Достаточно заменить их явными обозначениями.\n",
    "\n",
    "Но пропуски в `genre` могут помешать сравнению музыкальных вкусов в Москве и Санкт-Петербурге. На практике было бы правильно установить причину пропусков и восстановить данные. Такой возможности нет в учебном проекте. Придётся:\n",
    "* заполнить и эти пропуски явными обозначениями,\n",
    "* оценить, насколько они повредят расчётам. "
   ]
  },
  {
   "cell_type": "markdown",
   "metadata": {
    "id": "fSv2laPA_Zct"
   },
   "source": [
    "Замените пропущенные значения в столбцах `track`, `artist` и `genre` на строку `'unknown'`. Для этого создайте список `columns_to_replace`, переберите его элементы циклом `for` и для каждого столбца выполните замену пропущенных значений:"
   ]
  },
  {
   "cell_type": "code",
   "execution_count": 237,
   "metadata": {
    "id": "KplB5qWs_Zct"
   },
   "outputs": [],
   "source": [
    "# перебор названий столбцов в цикле и замена пропущенных значений на 'unknown'\n",
    "columns_to_replace = ['track','artist','genre']\n",
    "for column in columns_to_replace:\n",
    "    df[column] = df[column].fillna('unknown')\n",
    "    "
   ]
  },
  {
   "cell_type": "markdown",
   "metadata": {
    "id": "Ilsm-MZo_Zct"
   },
   "source": [
    "Убедитесь, что в таблице не осталось пропусков. Для этого ещё раз посчитайте пропущенные значения."
   ]
  },
  {
   "cell_type": "code",
   "execution_count": 238,
   "metadata": {
    "id": "Tq4nYRX4_Zct",
    "scrolled": true
   },
   "outputs": [
    {
     "data": {
      "text/plain": [
       "user_id    0\n",
       "track      0\n",
       "artist     0\n",
       "genre      0\n",
       "city       0\n",
       "time       0\n",
       "day        0\n",
       "dtype: int64"
      ]
     },
     "execution_count": 238,
     "metadata": {},
     "output_type": "execute_result"
    }
   ],
   "source": [
    "df.isna().sum() # подсчёт пропусков"
   ]
  },
  {
   "cell_type": "markdown",
   "metadata": {
    "id": "BWKRtBJ3_Zct"
   },
   "source": [
    "### Дубликаты\n",
    "Посчитайте явные дубликаты в таблице одной командой:"
   ]
  },
  {
   "cell_type": "code",
   "execution_count": 239,
   "metadata": {
    "id": "36eES_S0_Zct",
    "scrolled": true
   },
   "outputs": [
    {
     "data": {
      "text/plain": [
       "3826"
      ]
     },
     "execution_count": 239,
     "metadata": {},
     "output_type": "execute_result"
    }
   ],
   "source": [
    "df.duplicated().sum() # подсчёт явных дубликатов"
   ]
  },
  {
   "cell_type": "markdown",
   "metadata": {
    "id": "Ot25h6XR_Zct"
   },
   "source": [
    "Вызовите специальный метод `pandas`, чтобы удалить явные дубликаты:"
   ]
  },
  {
   "cell_type": "code",
   "execution_count": 240,
   "metadata": {
    "id": "exFHq6tt_Zct"
   },
   "outputs": [],
   "source": [
    " # удаление явных дубликатов (с удалением старых индексов и формированием новых)\n",
    "df = df.drop_duplicates().reset_index(drop = True) "
   ]
  },
  {
   "cell_type": "markdown",
   "metadata": {
    "id": "Im2YwBEG_Zct"
   },
   "source": [
    "Ещё раз посчитайте явные дубликаты в таблице — убедитесь, что полностью от них избавились:"
   ]
  },
  {
   "cell_type": "code",
   "execution_count": 241,
   "metadata": {
    "id": "-8PuNWQ0_Zct",
    "scrolled": true
   },
   "outputs": [
    {
     "data": {
      "text/plain": [
       "0"
      ]
     },
     "execution_count": 241,
     "metadata": {},
     "output_type": "execute_result"
    }
   ],
   "source": [
    "df.duplicated().sum() # проверка на отсутствие дубликатов"
   ]
  },
  {
   "cell_type": "markdown",
   "metadata": {
    "id": "QlFBsxAr_Zct"
   },
   "source": [
    "Теперь избавьтесь от неявных дубликатов в колонке `genre`. Например, название одного и того же жанра может быть записано немного по-разному. Такие ошибки тоже повлияют на результат исследования."
   ]
  },
  {
   "cell_type": "markdown",
   "metadata": {
    "id": "eSjWwsOh_Zct"
   },
   "source": [
    "Выведите на экран список уникальных названий жанров, отсортированный в алфавитном порядке. Для этого:\n",
    "* извлеките нужный столбец датафрейма, \n",
    "* примените к нему метод сортировки,\n",
    "* для отсортированного столбца вызовите метод, который вернёт уникальные значения из столбца."
   ]
  },
  {
   "cell_type": "code",
   "execution_count": 242,
   "metadata": {
    "id": "JIUcqzZN_Zct",
    "scrolled": true
   },
   "outputs": [
    {
     "data": {
      "text/plain": [
       "array(['acid', 'acoustic', 'action', 'adult', 'africa', 'afrikaans',\n",
       "       'alternative', 'alternativepunk', 'ambient', 'americana',\n",
       "       'animated', 'anime', 'arabesk', 'arabic', 'arena',\n",
       "       'argentinetango', 'art', 'audiobook', 'author', 'avantgarde',\n",
       "       'axé', 'baile', 'balkan', 'beats', 'bigroom', 'black', 'bluegrass',\n",
       "       'blues', 'bollywood', 'bossa', 'brazilian', 'breakbeat', 'breaks',\n",
       "       'broadway', 'cantautori', 'cantopop', 'canzone', 'caribbean',\n",
       "       'caucasian', 'celtic', 'chamber', 'chanson', 'children', 'chill',\n",
       "       'chinese', 'choral', 'christian', 'christmas', 'classical',\n",
       "       'classicmetal', 'club', 'colombian', 'comedy', 'conjazz',\n",
       "       'contemporary', 'country', 'cuban', 'dance', 'dancehall',\n",
       "       'dancepop', 'dark', 'death', 'deep', 'deutschrock', 'deutschspr',\n",
       "       'dirty', 'disco', 'dnb', 'documentary', 'downbeat', 'downtempo',\n",
       "       'drum', 'dub', 'dubstep', 'eastern', 'easy', 'electronic',\n",
       "       'electropop', 'emo', 'entehno', 'epicmetal', 'estrada', 'ethnic',\n",
       "       'eurofolk', 'european', 'experimental', 'extrememetal', 'fado',\n",
       "       'fairytail', 'film', 'fitness', 'flamenco', 'folk', 'folklore',\n",
       "       'folkmetal', 'folkrock', 'folktronica', 'forró', 'frankreich',\n",
       "       'französisch', 'french', 'funk', 'future', 'gangsta', 'garage',\n",
       "       'german', 'ghazal', 'gitarre', 'glitch', 'gospel', 'gothic',\n",
       "       'grime', 'grunge', 'gypsy', 'handsup', \"hard'n'heavy\", 'hardcore',\n",
       "       'hardstyle', 'hardtechno', 'hip', 'hip-hop', 'hiphop',\n",
       "       'historisch', 'holiday', 'hop', 'horror', 'house', 'hymn', 'idm',\n",
       "       'independent', 'indian', 'indie', 'indipop', 'industrial',\n",
       "       'inspirational', 'instrumental', 'international', 'irish', 'jam',\n",
       "       'japanese', 'jazz', 'jewish', 'jpop', 'jungle', 'k-pop',\n",
       "       'karadeniz', 'karaoke', 'kayokyoku', 'korean', 'laiko', 'latin',\n",
       "       'latino', 'leftfield', 'local', 'lounge', 'loungeelectronic',\n",
       "       'lovers', 'malaysian', 'mandopop', 'marschmusik', 'meditative',\n",
       "       'mediterranean', 'melodic', 'metal', 'metalcore', 'mexican',\n",
       "       'middle', 'minimal', 'miscellaneous', 'modern', 'mood', 'mpb',\n",
       "       'muslim', 'native', 'neoklassik', 'neue', 'new', 'newage',\n",
       "       'newwave', 'nu', 'nujazz', 'numetal', 'oceania', 'old', 'opera',\n",
       "       'orchestral', 'other', 'piano', 'podcasts', 'pop', 'popdance',\n",
       "       'popelectronic', 'popeurodance', 'poprussian', 'post',\n",
       "       'posthardcore', 'postrock', 'power', 'progmetal', 'progressive',\n",
       "       'psychedelic', 'punjabi', 'punk', 'quebecois', 'ragga', 'ram',\n",
       "       'rancheras', 'rap', 'rave', 'reggae', 'reggaeton', 'regional',\n",
       "       'relax', 'religious', 'retro', 'rhythm', 'rnb', 'rnr', 'rock',\n",
       "       'rockabilly', 'rockalternative', 'rockindie', 'rockother',\n",
       "       'romance', 'roots', 'ruspop', 'rusrap', 'rusrock', 'russian',\n",
       "       'salsa', 'samba', 'scenic', 'schlager', 'self', 'sertanejo',\n",
       "       'shanson', 'shoegazing', 'showtunes', 'singer', 'ska', 'skarock',\n",
       "       'slow', 'smooth', 'soft', 'soul', 'soulful', 'sound', 'soundtrack',\n",
       "       'southern', 'specialty', 'speech', 'spiritual', 'sport',\n",
       "       'stonerrock', 'surf', 'swing', 'synthpop', 'synthrock',\n",
       "       'sängerportrait', 'tango', 'tanzorchester', 'taraftar', 'tatar',\n",
       "       'tech', 'techno', 'teen', 'thrash', 'top', 'traditional',\n",
       "       'tradjazz', 'trance', 'tribal', 'trip', 'triphop', 'tropical',\n",
       "       'türk', 'türkçe', 'ukrrock', 'unknown', 'urban', 'uzbek',\n",
       "       'variété', 'vi', 'videogame', 'vocal', 'western', 'world',\n",
       "       'worldbeat', 'ïîï', 'электроника'], dtype=object)"
      ]
     },
     "execution_count": 242,
     "metadata": {},
     "output_type": "execute_result"
    }
   ],
   "source": [
    "df['genre'].sort_values().unique()  # Просмотр уникальных названий жанров"
   ]
  },
  {
   "cell_type": "markdown",
   "metadata": {
    "id": "qej-Qmuo_Zct"
   },
   "source": [
    "Просмотрите список и найдите неявные дубликаты названия `hiphop`. Это могут быть названия с ошибками или альтернативные названия того же жанра.\n",
    "\n",
    "Вы увидите следующие неявные дубликаты:\n",
    "* *hip*,\n",
    "* *hop*,\n",
    "* *hip-hop*.\n",
    "\n",
    "Чтобы очистить от них таблицу, напишите функцию `replace_wrong_genres()` с двумя параметрами: \n",
    "* `wrong_genres` — список дубликатов,\n",
    "* `correct_genre` — строка с правильным значением.\n",
    "\n",
    "Функция должна исправить колонку `genre` в таблице `df`: заменить каждое значение из списка `wrong_genres` на значение из `correct_genre`."
   ]
  },
  {
   "cell_type": "code",
   "execution_count": 243,
   "metadata": {
    "id": "ErNDkmns_Zct"
   },
   "outputs": [],
   "source": [
    "def replace_wrong_genres(wrong_genres, correct_genre): # Функция для замены неявных дубликатов\n",
    "    for wrong_genre in wrong_genres:\n",
    "        df['genre'] = df['genre'].replace(wrong_genre, correct_genre)\n",
    "    "
   ]
  },
  {
   "cell_type": "markdown",
   "metadata": {
    "id": "aDoBJxbA_Zct"
   },
   "source": [
    "Вызовите `replace_wrong_genres()` и передайте ей такие аргументы, чтобы она устранила неявные дубликаты: вместо `hip`, `hop` и `hip-hop` в таблице должно быть значение `hiphop`:"
   ]
  },
  {
   "cell_type": "code",
   "execution_count": 244,
   "metadata": {
    "id": "YN5i2hpmSo09"
   },
   "outputs": [],
   "source": [
    "replace_wrong_genres(['hip','hop','hip-hop'],'hiphop')# Устранение неявных дубликатов"
   ]
  },
  {
   "cell_type": "markdown",
   "metadata": {
    "id": "zQKF16_RG15m"
   },
   "source": [
    "Проверьте, что заменили неправильные названия:\n",
    "\n",
    "*   hip\n",
    "*   hop\n",
    "*   hip-hop\n",
    "\n",
    "Выведите отсортированный список уникальных значений столбца `genre`:"
   ]
  },
  {
   "cell_type": "code",
   "execution_count": 245,
   "metadata": {
    "id": "wvixALnFG15m",
    "scrolled": true
   },
   "outputs": [
    {
     "data": {
      "text/plain": [
       "array(['acid', 'acoustic', 'action', 'adult', 'africa', 'afrikaans',\n",
       "       'alternative', 'alternativepunk', 'ambient', 'americana',\n",
       "       'animated', 'anime', 'arabesk', 'arabic', 'arena',\n",
       "       'argentinetango', 'art', 'audiobook', 'author', 'avantgarde',\n",
       "       'axé', 'baile', 'balkan', 'beats', 'bigroom', 'black', 'bluegrass',\n",
       "       'blues', 'bollywood', 'bossa', 'brazilian', 'breakbeat', 'breaks',\n",
       "       'broadway', 'cantautori', 'cantopop', 'canzone', 'caribbean',\n",
       "       'caucasian', 'celtic', 'chamber', 'chanson', 'children', 'chill',\n",
       "       'chinese', 'choral', 'christian', 'christmas', 'classical',\n",
       "       'classicmetal', 'club', 'colombian', 'comedy', 'conjazz',\n",
       "       'contemporary', 'country', 'cuban', 'dance', 'dancehall',\n",
       "       'dancepop', 'dark', 'death', 'deep', 'deutschrock', 'deutschspr',\n",
       "       'dirty', 'disco', 'dnb', 'documentary', 'downbeat', 'downtempo',\n",
       "       'drum', 'dub', 'dubstep', 'eastern', 'easy', 'electronic',\n",
       "       'electropop', 'emo', 'entehno', 'epicmetal', 'estrada', 'ethnic',\n",
       "       'eurofolk', 'european', 'experimental', 'extrememetal', 'fado',\n",
       "       'fairytail', 'film', 'fitness', 'flamenco', 'folk', 'folklore',\n",
       "       'folkmetal', 'folkrock', 'folktronica', 'forró', 'frankreich',\n",
       "       'französisch', 'french', 'funk', 'future', 'gangsta', 'garage',\n",
       "       'german', 'ghazal', 'gitarre', 'glitch', 'gospel', 'gothic',\n",
       "       'grime', 'grunge', 'gypsy', 'handsup', \"hard'n'heavy\", 'hardcore',\n",
       "       'hardstyle', 'hardtechno', 'hiphop', 'historisch', 'holiday',\n",
       "       'horror', 'house', 'hymn', 'idm', 'independent', 'indian', 'indie',\n",
       "       'indipop', 'industrial', 'inspirational', 'instrumental',\n",
       "       'international', 'irish', 'jam', 'japanese', 'jazz', 'jewish',\n",
       "       'jpop', 'jungle', 'k-pop', 'karadeniz', 'karaoke', 'kayokyoku',\n",
       "       'korean', 'laiko', 'latin', 'latino', 'leftfield', 'local',\n",
       "       'lounge', 'loungeelectronic', 'lovers', 'malaysian', 'mandopop',\n",
       "       'marschmusik', 'meditative', 'mediterranean', 'melodic', 'metal',\n",
       "       'metalcore', 'mexican', 'middle', 'minimal', 'miscellaneous',\n",
       "       'modern', 'mood', 'mpb', 'muslim', 'native', 'neoklassik', 'neue',\n",
       "       'new', 'newage', 'newwave', 'nu', 'nujazz', 'numetal', 'oceania',\n",
       "       'old', 'opera', 'orchestral', 'other', 'piano', 'podcasts', 'pop',\n",
       "       'popdance', 'popelectronic', 'popeurodance', 'poprussian', 'post',\n",
       "       'posthardcore', 'postrock', 'power', 'progmetal', 'progressive',\n",
       "       'psychedelic', 'punjabi', 'punk', 'quebecois', 'ragga', 'ram',\n",
       "       'rancheras', 'rap', 'rave', 'reggae', 'reggaeton', 'regional',\n",
       "       'relax', 'religious', 'retro', 'rhythm', 'rnb', 'rnr', 'rock',\n",
       "       'rockabilly', 'rockalternative', 'rockindie', 'rockother',\n",
       "       'romance', 'roots', 'ruspop', 'rusrap', 'rusrock', 'russian',\n",
       "       'salsa', 'samba', 'scenic', 'schlager', 'self', 'sertanejo',\n",
       "       'shanson', 'shoegazing', 'showtunes', 'singer', 'ska', 'skarock',\n",
       "       'slow', 'smooth', 'soft', 'soul', 'soulful', 'sound', 'soundtrack',\n",
       "       'southern', 'specialty', 'speech', 'spiritual', 'sport',\n",
       "       'stonerrock', 'surf', 'swing', 'synthpop', 'synthrock',\n",
       "       'sängerportrait', 'tango', 'tanzorchester', 'taraftar', 'tatar',\n",
       "       'tech', 'techno', 'teen', 'thrash', 'top', 'traditional',\n",
       "       'tradjazz', 'trance', 'tribal', 'trip', 'triphop', 'tropical',\n",
       "       'türk', 'türkçe', 'ukrrock', 'unknown', 'urban', 'uzbek',\n",
       "       'variété', 'vi', 'videogame', 'vocal', 'western', 'world',\n",
       "       'worldbeat', 'ïîï', 'электроника'], dtype=object)"
      ]
     },
     "execution_count": 245,
     "metadata": {},
     "output_type": "execute_result"
    }
   ],
   "source": [
    "df['genre'].sort_values().unique() # Проверка на неявные дубликаты"
   ]
  },
  {
   "cell_type": "markdown",
   "metadata": {
    "id": "jz6a9-7HQUDd"
   },
   "source": [
    "**Выводы**\n",
    "\n",
    "Предобработка обнаружила три проблемы в данных:\n",
    "\n",
    "- нарушения в стиле заголовков,\n",
    "- пропущенные значения,\n",
    "- дубликаты — явные и неявные.\n",
    "\n",
    "Вы исправили заголовки, чтобы упростить работу с таблицей. Без дубликатов исследование станет более точным.\n",
    "\n",
    "Пропущенные значения вы заменили на `'unknown'`. Ещё предстоит увидеть, не повредят ли исследованию пропуски в колонке `genre`.\n",
    "\n",
    "Теперь можно перейти к проверке гипотез. "
   ]
  },
  {
   "cell_type": "markdown",
   "metadata": {
    "id": "WttZHXH0SqKk"
   },
   "source": [
    "## Проверка гипотез"
   ]
  },
  {
   "cell_type": "markdown",
   "metadata": {
    "id": "Im936VVi_Zcu"
   },
   "source": [
    "### Сравнение поведения пользователей двух столиц"
   ]
  },
  {
   "cell_type": "markdown",
   "metadata": {
    "id": "nwt_MuaL_Zcu"
   },
   "source": [
    "Первая гипотеза утверждает, что пользователи по-разному слушают музыку в Москве и Санкт-Петербурге. Проверьте это предположение по данным о трёх днях недели — понедельнике, среде и пятнице. Для этого:\n",
    "\n",
    "* Разделите пользователей Москвы и Санкт-Петербурга\n",
    "* Сравните, сколько треков послушала каждая группа пользователей в понедельник, среду и пятницу.\n"
   ]
  },
  {
   "cell_type": "markdown",
   "metadata": {
    "id": "8Dw_YMmT_Zcu"
   },
   "source": [
    "Для тренировки сначала выполните каждый из расчётов по отдельности. \n",
    "\n",
    "Оцените активность пользователей в каждом городе. Сгруппируйте данные по городу и посчитайте прослушивания в каждой группе.\n",
    "\n"
   ]
  },
  {
   "cell_type": "code",
   "execution_count": 246,
   "metadata": {
    "id": "0_Qs96oh_Zcu"
   },
   "outputs": [
    {
     "data": {
      "text/plain": [
       "city\n",
       "Moscow              42741\n",
       "Saint-Petersburg    18512\n",
       "Name: user_id, dtype: int64"
      ]
     },
     "execution_count": 246,
     "metadata": {},
     "output_type": "execute_result"
    }
   ],
   "source": [
    "# Подсчёт прослушиваний в каждом городе\n",
    "df.groupby('city')['user_id'].count()"
   ]
  },
  {
   "cell_type": "markdown",
   "metadata": {
    "id": "dzli3w8o_Zcu"
   },
   "source": [
    "В Москве прослушиваний больше, чем в Петербурге. Из этого не следует, что московские пользователи чаще слушают музыку. Просто самих пользователей в Москве больше.\n",
    "\n",
    "Теперь сгруппируйте данные по дню недели и подсчитайте прослушивания в понедельник, среду и пятницу. Учтите, что в данных есть информация только о прослушиваниях только за эти дни.\n"
   ]
  },
  {
   "cell_type": "code",
   "execution_count": 247,
   "metadata": {
    "id": "uZMKjiJz_Zcu",
    "scrolled": true
   },
   "outputs": [
    {
     "data": {
      "text/plain": [
       "day\n",
       "Friday       21840\n",
       "Monday       21354\n",
       "Wednesday    18059\n",
       "Name: user_id, dtype: int64"
      ]
     },
     "execution_count": 247,
     "metadata": {},
     "output_type": "execute_result"
    }
   ],
   "source": [
    "# Подсчёт прослушиваний в каждый из трёх дней\n",
    "df.groupby('day')['user_id'].count()"
   ]
  },
  {
   "cell_type": "markdown",
   "metadata": {
    "id": "cC2tNrlL_Zcu"
   },
   "source": [
    "В среднем пользователи из двух городов менее активны по средам. Но картина может измениться, если рассмотреть каждый город в отдельности."
   ]
  },
  {
   "cell_type": "markdown",
   "metadata": {
    "id": "POzs8bGa_Zcu"
   },
   "source": [
    "Вы видели, как работает группировка по городу и по дням недели. Теперь напишите функцию, которая объединит два эти расчёта.\n",
    "\n",
    "Создайте функцию `number_tracks()`, которая посчитает прослушивания для заданного дня и города. Ей понадобятся два параметра:\n",
    "* день недели,\n",
    "* название города.\n",
    "\n",
    "В функции сохраните в переменную строки исходной таблицы, у которых значение:\n",
    "  * в колонке `day` равно параметру `day`,\n",
    "  * в колонке `city` равно параметру `city`.\n",
    "\n",
    "Для этого примените последовательную фильтрацию с логической индексацией.\n",
    "\n",
    "Затем посчитайте значения в столбце `user_id` получившейся таблицы. Результат сохраните в новую переменную. Верните эту переменную из функции."
   ]
  },
  {
   "cell_type": "code",
   "execution_count": 248,
   "metadata": {
    "id": "Nz3GdQB1_Zcu"
   },
   "outputs": [],
   "source": [
    "# <создание функции number_tracks()>\n",
    "# Объявляется функция с двумя параметрами: day, city.\n",
    "# В переменной track_list сохраняются те строки таблицы df, для которых \n",
    "# значение в столбце 'day' равно параметру day и одновременно значение\n",
    "# в столбце 'city' равно параметру city (используйте последовательную фильтрацию\n",
    "# с помощью логической индексации).\n",
    "# В переменной track_list_count сохраняется число значений столбца 'user_id',\n",
    "# рассчитанное методом count() для таблицы track_list.\n",
    "# Функция возвращает число - значение track_list_count.\n",
    "# Функция для подсчёта прослушиваний для конкретного города и дня.\n",
    "# С помощью последовательной фильтрации с логической индексацией она \n",
    "# сначала получит из исходной таблицы строки с нужным днём,\n",
    "# затем из результата отфильтрует строки с нужным городом,\n",
    "# методом count() посчитает количество значений в колонке user_id. \n",
    "# Это количество функция вернёт в качестве результата\n",
    "def number_tracks(city, day):\n",
    "    track_list = df[df['day'] == day]\n",
    "    track_list = track_list[track_list['city'] == city]\n",
    "    track_list_count = track_list['user_id'].count()\n",
    "    \n",
    "    return track_list_count"
   ]
  },
  {
   "cell_type": "markdown",
   "metadata": {
    "id": "ytf7xFrFJQ2r"
   },
   "source": [
    "Вызовите `number_tracks()` шесть раз, меняя значение параметров — так, чтобы получить данные для каждого города в каждый из трёх дней."
   ]
  },
  {
   "cell_type": "code",
   "execution_count": 249,
   "metadata": {
    "id": "rJcRATNQ_Zcu"
   },
   "outputs": [
    {
     "data": {
      "text/plain": [
       "15740"
      ]
     },
     "execution_count": 249,
     "metadata": {},
     "output_type": "execute_result"
    }
   ],
   "source": [
    "# количество прослушиваний в Москве по понедельникам\n",
    "moscow_monday = number_tracks('Moscow','Monday')\n",
    "moscow_monday"
   ]
  },
  {
   "cell_type": "code",
   "execution_count": 250,
   "metadata": {
    "id": "hq_ncZ5T_Zcu"
   },
   "outputs": [
    {
     "data": {
      "text/plain": [
       "5614"
      ]
     },
     "execution_count": 250,
     "metadata": {},
     "output_type": "execute_result"
    }
   ],
   "source": [
    "# количество прослушиваний в Санкт-Петербурге по понедельникам\n",
    "petersburg_monday = number_tracks('Saint-Petersburg','Monday')\n",
    "petersburg_monday"
   ]
  },
  {
   "cell_type": "code",
   "execution_count": 251,
   "metadata": {
    "id": "_NTy2VPU_Zcu"
   },
   "outputs": [
    {
     "data": {
      "text/plain": [
       "11056"
      ]
     },
     "execution_count": 251,
     "metadata": {},
     "output_type": "execute_result"
    }
   ],
   "source": [
    "# количество прослушиваний в Москве по средам\n",
    "moscow_wednesday = number_tracks('Moscow','Wednesday')\n",
    "moscow_wednesday"
   ]
  },
  {
   "cell_type": "code",
   "execution_count": 252,
   "metadata": {
    "id": "j2y3TAwo_Zcu"
   },
   "outputs": [
    {
     "data": {
      "text/plain": [
       "7003"
      ]
     },
     "execution_count": 252,
     "metadata": {},
     "output_type": "execute_result"
    }
   ],
   "source": [
    "# количество прослушиваний в Санкт-Петербурге по средам\n",
    "petersburg_wednesday = number_tracks('Saint-Petersburg','Wednesday')\n",
    "petersburg_wednesday"
   ]
  },
  {
   "cell_type": "code",
   "execution_count": 253,
   "metadata": {
    "id": "vYDw5u_K_Zcu"
   },
   "outputs": [
    {
     "data": {
      "text/plain": [
       "15945"
      ]
     },
     "execution_count": 253,
     "metadata": {},
     "output_type": "execute_result"
    }
   ],
   "source": [
    "# количество прослушиваний в Москве по пятницам\n",
    "moscow_friday=number_tracks('Moscow','Friday')\n",
    "moscow_friday"
   ]
  },
  {
   "cell_type": "code",
   "execution_count": 254,
   "metadata": {
    "id": "8_yzFtW3_Zcu",
    "scrolled": true
   },
   "outputs": [
    {
     "data": {
      "text/plain": [
       "5895"
      ]
     },
     "execution_count": 254,
     "metadata": {},
     "output_type": "execute_result"
    }
   ],
   "source": [
    "# количество прослушиваний в Санкт-Петербурге по пятницам\n",
    "petersburg_friday = number_tracks('Saint-Petersburg','Friday')\n",
    "petersburg_friday"
   ]
  },
  {
   "cell_type": "markdown",
   "metadata": {
    "id": "7QXffbO-_Zcu"
   },
   "source": [
    "Создайте c помощью конструктора `pd.DataFrame` таблицу, где\n",
    "* названия колонок — `['city', 'monday', 'wednesday', 'friday']`;\n",
    "* данные — результаты, которые вы получили с помощью `number_tracks`."
   ]
  },
  {
   "cell_type": "code",
   "execution_count": 255,
   "metadata": {
    "id": "APAcLpOr_Zcu",
    "scrolled": true
   },
   "outputs": [
    {
     "data": {
      "text/html": [
       "<div>\n",
       "<style scoped>\n",
       "    .dataframe tbody tr th:only-of-type {\n",
       "        vertical-align: middle;\n",
       "    }\n",
       "\n",
       "    .dataframe tbody tr th {\n",
       "        vertical-align: top;\n",
       "    }\n",
       "\n",
       "    .dataframe thead th {\n",
       "        text-align: right;\n",
       "    }\n",
       "</style>\n",
       "<table border=\"1\" class=\"dataframe\">\n",
       "  <thead>\n",
       "    <tr style=\"text-align: right;\">\n",
       "      <th></th>\n",
       "      <th>city</th>\n",
       "      <th>monday</th>\n",
       "      <th>wednesday</th>\n",
       "      <th>friday</th>\n",
       "    </tr>\n",
       "  </thead>\n",
       "  <tbody>\n",
       "    <tr>\n",
       "      <td>0</td>\n",
       "      <td>Moscow</td>\n",
       "      <td>15740</td>\n",
       "      <td>11056</td>\n",
       "      <td>15945</td>\n",
       "    </tr>\n",
       "    <tr>\n",
       "      <td>1</td>\n",
       "      <td>Saint-Petersburg</td>\n",
       "      <td>5614</td>\n",
       "      <td>7003</td>\n",
       "      <td>5895</td>\n",
       "    </tr>\n",
       "  </tbody>\n",
       "</table>\n",
       "</div>"
      ],
      "text/plain": [
       "               city  monday  wednesday  friday\n",
       "0            Moscow   15740      11056   15945\n",
       "1  Saint-Petersburg    5614       7003    5895"
      ]
     },
     "execution_count": 255,
     "metadata": {},
     "output_type": "execute_result"
    }
   ],
   "source": [
    "# Таблица с результатами\n",
    "data = [['Moscow',moscow_monday, moscow_wednesday, moscow_friday],\n",
    "       ['Saint-Petersburg',petersburg_monday, petersburg_wednesday, petersburg_friday]]\n",
    "\n",
    "columns = ['city', 'monday', 'wednesday', 'friday']\n",
    "\n",
    "info = pd.DataFrame(data = data,columns = columns)\n",
    "info"
   ]
  },
  {
   "cell_type": "markdown",
   "metadata": {
    "id": "-EgPIHYu_Zcu"
   },
   "source": [
    "**Выводы**\n",
    "\n",
    "Данные показывают разницу поведения пользователей:\n",
    "\n",
    "- В Москве пик прослушиваний приходится на понедельник и пятницу, а в среду заметен спад.\n",
    "- В Петербурге, наоборот, больше слушают музыку по средам. Активность в понедельник и пятницу здесь почти в равной мере уступает среде.\n",
    "\n",
    "Значит, данные говорят в пользу первой гипотезы."
   ]
  },
  {
   "cell_type": "markdown",
   "metadata": {
    "id": "atZAxtq4_Zcu"
   },
   "source": [
    "### Музыка в начале и в конце недели"
   ]
  },
  {
   "cell_type": "markdown",
   "metadata": {
    "id": "eXrQqXFH_Zcu"
   },
   "source": [
    "Согласно второй гипотезе, утром в понедельник в Москве преобладают одни жанры, а в Петербурге — другие. Так же и вечером пятницы преобладают разные жанры — в зависимости от города."
   ]
  },
  {
   "cell_type": "markdown",
   "metadata": {
    "id": "S8UcW6Hw_Zcu"
   },
   "source": [
    "Сохраните таблицы с данными в две переменные:\n",
    "* по Москве — в `moscow_general`;\n",
    "* по Санкт-Петербургу — в `spb_general`."
   ]
  },
  {
   "cell_type": "code",
   "execution_count": 256,
   "metadata": {
    "id": "qeaFfM_P_Zcu"
   },
   "outputs": [],
   "source": [
    "# получение таблицы moscow_general из тех строк таблицы df,\n",
    "# для которых значение в столбце 'city' равно 'Moscow'\n",
    "moscow_general = df[df['city'] == 'Moscow']\n"
   ]
  },
  {
   "cell_type": "code",
   "execution_count": 257,
   "metadata": {
    "id": "ORaVRKto_Zcu"
   },
   "outputs": [],
   "source": [
    "# получение таблицы spb_general из тех строк таблицы df,\n",
    "# для которых значение в столбце 'city' равно 'Saint-Petersburg'\n",
    "spb_general = df[df['city'] == 'Saint-Petersburg']"
   ]
  },
  {
   "cell_type": "markdown",
   "metadata": {
    "id": "MEJV-CX2_Zcu"
   },
   "source": [
    "Создайте функцию `genre_weekday()` с четырьмя параметрами:\n",
    "* таблица (датафрейм) с данными,\n",
    "* день недели,\n",
    "* начальная временная метка в формате 'hh:mm', \n",
    "* последняя временная метка в формате 'hh:mm'.\n",
    "\n",
    "Функция должна вернуть информацию о топ-10 жанров тех треков, которые прослушивали в указанный день, в промежутке между двумя отметками времени."
   ]
  },
  {
   "cell_type": "code",
   "execution_count": 258,
   "metadata": {
    "id": "laJT9BYl_Zcu"
   },
   "outputs": [],
   "source": [
    "# Объявление функции genre_weekday() с параметрами table, day, time1, time2,\n",
    "# которая возвращает информацию о самых популярных жанрах в указанный день в\n",
    "# заданное время:\n",
    "# 1) в переменную genre_df сохраняются те строки переданного датафрейма table, для\n",
    "#    которых одновременно:\n",
    "#    - значение в столбце day равно значению аргумента day\n",
    "#    - значение в столбце time больше значения аргумента time1\n",
    "#    - значение в столбце time меньше значения аргумента time2\n",
    "#    Используйте последовательную фильтрацию с помощью логической индексации.\n",
    "# 2) сгруппировать датафрейм genre_df по столбцу genre, взять один из его\n",
    "#    столбцов и посчитать методом count() количество записей для каждого из\n",
    "#    присутствующих жанров, получившийся Series записать в переменную\n",
    "#    genre_df_count\n",
    "# 3) отсортировать genre_df_count по убыванию встречаемости и сохранить\n",
    "#    в переменную genre_df_sorted\n",
    "# 4) вернуть Series из 10 первых значений genre_df_sorted, это будут топ-10\n",
    "#    популярных жанров (в указанный день, в заданное время)\n",
    "import datetime as dt\n",
    "def genre_weekday(table, day, time1, time2):\n",
    "    genre_df = table[table['day'] == day]\n",
    "    genre_df = genre_df[genre_df['time'] > time1]\n",
    "    genre_df = genre_df[genre_df['time'] < time2]\n",
    "    \n",
    "    genre_df_count = genre_df.groupby('genre')['track'].count()\n",
    "    genre_df_sorted = genre_df_count.sort_values(ascending=False)\n",
    "    \n",
    "    return genre_df_sorted.head(10)\n"
   ]
  },
  {
   "cell_type": "markdown",
   "metadata": {
    "id": "la2s2_PF_Zcu"
   },
   "source": [
    "Cравните результаты функции `genre_weekday()` для Москвы и Санкт-Петербурга в понедельник утром (с 7:00 до 11:00) и в пятницу вечером (с 17:00 до 23:00):"
   ]
  },
  {
   "cell_type": "code",
   "execution_count": 259,
   "metadata": {
    "id": "yz7itPUQ_Zcu"
   },
   "outputs": [
    {
     "data": {
      "text/plain": [
       "genre\n",
       "pop            781\n",
       "dance          549\n",
       "electronic     480\n",
       "rock           474\n",
       "hiphop         286\n",
       "ruspop         186\n",
       "world          181\n",
       "rusrap         175\n",
       "alternative    164\n",
       "unknown        161\n",
       "Name: track, dtype: int64"
      ]
     },
     "execution_count": 259,
     "metadata": {},
     "output_type": "execute_result"
    }
   ],
   "source": [
    "# вызов функции для утра понедельника в Москве (вместо df — таблица moscow_general)\n",
    "# объекты, хранящие время, являются строками и сравниваются как строки\n",
    "# пример вызова: genre_weekday(moscow_general, 'Monday', '07:00', '11:00')\n",
    "genre_weekday(moscow_general, 'Monday', '07:00', '11:00')"
   ]
  },
  {
   "cell_type": "code",
   "execution_count": 260,
   "metadata": {
    "id": "kwUcHPdy_Zcu"
   },
   "outputs": [
    {
     "data": {
      "text/plain": [
       "genre\n",
       "pop            218\n",
       "dance          182\n",
       "rock           162\n",
       "electronic     147\n",
       "hiphop          80\n",
       "ruspop          64\n",
       "alternative     58\n",
       "rusrap          55\n",
       "jazz            44\n",
       "classical       40\n",
       "Name: track, dtype: int64"
      ]
     },
     "execution_count": 260,
     "metadata": {},
     "output_type": "execute_result"
    }
   ],
   "source": [
    "# вызов функции для утра понедельника в Петербурге (вместо df — таблица spb_general)\n",
    "genre_weekday(spb_general,'Monday', '07:00', '11:00')"
   ]
  },
  {
   "cell_type": "code",
   "execution_count": 261,
   "metadata": {
    "id": "EzXVRE1o_Zcu"
   },
   "outputs": [
    {
     "data": {
      "text/plain": [
       "genre\n",
       "pop            713\n",
       "rock           517\n",
       "dance          495\n",
       "electronic     482\n",
       "hiphop         273\n",
       "world          208\n",
       "ruspop         170\n",
       "alternative    163\n",
       "classical      163\n",
       "rusrap         142\n",
       "Name: track, dtype: int64"
      ]
     },
     "execution_count": 261,
     "metadata": {},
     "output_type": "execute_result"
    }
   ],
   "source": [
    "# вызов функции для вечера пятницы в Москве\n",
    "genre_weekday(moscow_general,'Friday', '17:00', '23:00')"
   ]
  },
  {
   "cell_type": "code",
   "execution_count": 262,
   "metadata": {
    "id": "JZaEKu5v_Zcu",
    "scrolled": true
   },
   "outputs": [
    {
     "data": {
      "text/plain": [
       "genre\n",
       "pop            256\n",
       "rock           216\n",
       "electronic     216\n",
       "dance          210\n",
       "hiphop          97\n",
       "alternative     63\n",
       "jazz            61\n",
       "classical       60\n",
       "rusrap          59\n",
       "world           54\n",
       "Name: track, dtype: int64"
      ]
     },
     "execution_count": 262,
     "metadata": {},
     "output_type": "execute_result"
    }
   ],
   "source": [
    "# вызов функции для вечера пятницы в Петербурге\n",
    "genre_weekday(spb_general,'Friday', '17:00', '23:00')"
   ]
  },
  {
   "cell_type": "markdown",
   "metadata": {
    "id": "wrCe4MNX_Zcu"
   },
   "source": [
    "**Выводы**\n",
    "\n",
    "Если сравнить топ-10 жанров в понедельник утром, можно сделать такие выводы:\n",
    "\n",
    "1. В Москве и Петербурге слушают похожую музыку. Единственное отличие — в московский рейтинг вошёл жанр “world”, а в петербургский — джаз и классика.\n",
    "\n",
    "2. В Москве пропущенных значений оказалось так много, что значение `'unknown'` заняло десятое место среди самых популярных жанров. Значит, пропущенные значения занимают существенную долю в данных и угрожают достоверности исследования.\n",
    "\n",
    "Вечер пятницы не меняет эту картину. Некоторые жанры поднимаются немного выше, другие спускаются, но в целом топ-10 остаётся тем же самым.\n",
    "\n",
    "Таким образом, вторая гипотеза подтвердилась лишь частично:\n",
    "* Пользователи слушают похожую музыку в начале недели и в конце.\n",
    "* Разница между Москвой и Петербургом не слишком выражена. В Москве чаще слушают русскую популярную музыку, в Петербурге — джаз.\n",
    "\n",
    "Однако пропуски в данных ставят под сомнение этот результат. В Москве их так много, что рейтинг топ-10 мог бы выглядеть иначе, если бы не утерянные  данные о жанрах."
   ]
  },
  {
   "cell_type": "markdown",
   "metadata": {
    "id": "JolODAqr_Zcu"
   },
   "source": [
    "### Жанровые предпочтения в Москве и Петербурге\n",
    "\n",
    "Гипотеза: Петербург — столица рэпа, музыку этого жанра там слушают чаще, чем в Москве.  А Москва — город контрастов, в котором, тем не менее, преобладает поп-музыка."
   ]
  },
  {
   "cell_type": "markdown",
   "metadata": {
    "id": "DlegSvaT_Zcu"
   },
   "source": [
    "Сгруппируйте таблицу `moscow_general` по жанру и посчитайте прослушивания треков каждого жанра методом `count()`. Затем отсортируйте результат в порядке убывания и сохраните его в таблице `moscow_genres`."
   ]
  },
  {
   "cell_type": "code",
   "execution_count": 263,
   "metadata": {
    "id": "r19lIPke_Zcu"
   },
   "outputs": [],
   "source": [
    "# одной строкой: группировка таблицы moscow_general по столбцу 'genre', \n",
    "# подсчёт числа значений 'genre' в этой группировке методом count(), \n",
    "# сортировка получившегося Series в порядке убывания и сохранение в moscow_genres\n",
    "moscow_genres = moscow_general.groupby('genre')['track'].count().sort_values(ascending = False)"
   ]
  },
  {
   "cell_type": "markdown",
   "metadata": {
    "id": "6kMuomxTiIr8"
   },
   "source": [
    "Выведите на экран первые десять строк `moscow_genres`:"
   ]
  },
  {
   "cell_type": "code",
   "execution_count": 264,
   "metadata": {
    "id": "WhCSooF8_Zcv"
   },
   "outputs": [
    {
     "data": {
      "text/plain": [
       "genre\n",
       "pop            5892\n",
       "dance          4435\n",
       "rock           3965\n",
       "electronic     3786\n",
       "hiphop         2096\n",
       "classical      1616\n",
       "world          1432\n",
       "alternative    1379\n",
       "ruspop         1372\n",
       "rusrap         1161\n",
       "Name: track, dtype: int64"
      ]
     },
     "execution_count": 264,
     "metadata": {},
     "output_type": "execute_result"
    }
   ],
   "source": [
    "# просмотр первых 10 строк moscow_genres\n",
    "moscow_genres.head(10)"
   ]
  },
  {
   "cell_type": "markdown",
   "metadata": {
    "id": "cnPG2vnN_Zcv"
   },
   "source": [
    "Теперь повторите то же и для Петербурга.\n",
    "\n",
    "Сгруппируйте таблицу `spb_general` по жанру. Посчитайте прослушивания треков каждого жанра. Результат отсортируйте в порядке убывания и сохраните в таблице `spb_genres`:\n"
   ]
  },
  {
   "cell_type": "code",
   "execution_count": 265,
   "metadata": {
    "id": "gluLIpE7_Zcv"
   },
   "outputs": [],
   "source": [
    "# одной строкой: группировка таблицы spb_general по столбцу 'genre', \n",
    "# подсчёт числа значений 'genre' в этой группировке методом count(), \n",
    "# сортировка получившегося Series в порядке убывания и сохранение в spb_genres\n",
    "spb_genres = spb_general.groupby('genre')['track'].count().sort_values(ascending = False)"
   ]
  },
  {
   "cell_type": "markdown",
   "metadata": {
    "id": "5Doha_ODgyQ8"
   },
   "source": [
    "Выведите на экран первые десять строк `spb_genres`:"
   ]
  },
  {
   "cell_type": "code",
   "execution_count": 266,
   "metadata": {
    "id": "uaGJHjVU_Zcv",
    "scrolled": true
   },
   "outputs": [
    {
     "data": {
      "text/plain": [
       "genre\n",
       "pop            2431\n",
       "dance          1932\n",
       "rock           1879\n",
       "electronic     1736\n",
       "hiphop          960\n",
       "alternative     649\n",
       "classical       646\n",
       "rusrap          564\n",
       "ruspop          538\n",
       "world           515\n",
       "Name: track, dtype: int64"
      ]
     },
     "execution_count": 266,
     "metadata": {},
     "output_type": "execute_result"
    }
   ],
   "source": [
    "# просмотр первых 10 строк spb_genres\n",
    "spb_genres.head(10)"
   ]
  },
  {
   "cell_type": "markdown",
   "metadata": {
    "id": "RY51YJYu_Zcv"
   },
   "source": [
    "**Выводы**"
   ]
  },
  {
   "cell_type": "markdown",
   "metadata": {
    "id": "nVhnJEm__Zcv"
   },
   "source": [
    "Гипотеза частично подтвердилась:\n",
    "* Поп-музыка — самый популярный жанр в Москве, как и предполагала гипотеза. Более того, в топ-10 жанров встречается близкий жанр — русская популярная музыка.\n",
    "* Вопреки ожиданиям, рэп одинаково популярен в Москве и Петербурге. \n"
   ]
  },
  {
   "cell_type": "markdown",
   "metadata": {
    "id": "ykKQ0N65_Zcv"
   },
   "source": [
    "## Итоги исследования"
   ]
  },
  {
   "cell_type": "markdown",
   "metadata": {
    "id": "tjUwbHb3_Zcv"
   },
   "source": [
    "Вы проверили три гипотезы и установили:\n",
    "\n",
    "1. День недели по-разному влияет на активность пользователей в Москве и Петербурге. \n",
    "\n",
    "Первая гипотеза полностью подтвердилась.\n",
    "\n",
    "2. Музыкальные предпочтения не сильно меняются в течение недели — будь то Москва или Петербург. Небольшие различия заметны в начале недели, по понедельникам:\n",
    "* в Москве слушают музыку жанра “world”,\n",
    "* в Петербурге — джаз и классику.\n",
    "\n",
    "Таким образом, вторая гипотеза подтвердилась лишь отчасти. Этот результат мог оказаться иным, если бы не пропуски в данных.\n",
    "\n",
    "3. Во вкусах пользователей Москвы и Петербурга больше общего чем различий. Вопреки ожиданиям, предпочтения жанров в Петербурге напоминают московские.\n",
    "\n",
    "Третья гипотеза не подтвердилась. Если различия в предпочтениях и существуют, на основной массе пользователей они незаметны.\n",
    "\n",
    "**На практике исследования содержат проверки статистических гипотез.**\n",
    "Из данных одного сервиса не всегда можно сделать вывод о всех жителях города.\n",
    "Проверки статистических гипотез покажут, насколько они достоверны, исходя из имеющихся данных. \n",
    "С методами проверок гипотез вы ещё познакомитесь в следующих темах."
   ]
  }
 ],
 "metadata": {
  "ExecuteTimeLog": [
   {
    "duration": 708,
    "start_time": "2022-01-31T03:58:20.051Z"
   },
   {
    "duration": 87,
    "start_time": "2022-01-31T03:58:23.775Z"
   },
   {
    "duration": 175,
    "start_time": "2022-01-31T03:58:34.331Z"
   },
   {
    "duration": 174,
    "start_time": "2022-01-31T03:58:37.465Z"
   },
   {
    "duration": 26,
    "start_time": "2022-01-31T03:58:41.020Z"
   },
   {
    "duration": 32,
    "start_time": "2022-01-31T03:58:50.711Z"
   },
   {
    "duration": 443,
    "start_time": "2022-01-31T04:16:19.960Z"
   },
   {
    "duration": 4,
    "start_time": "2022-01-31T04:16:47.200Z"
   },
   {
    "duration": 28,
    "start_time": "2022-01-31T04:22:02.263Z"
   },
   {
    "duration": 5,
    "start_time": "2022-01-31T04:22:20.867Z"
   },
   {
    "duration": 5,
    "start_time": "2022-01-31T04:22:48.818Z"
   },
   {
    "duration": 5,
    "start_time": "2022-01-31T04:23:04.826Z"
   },
   {
    "duration": 20,
    "start_time": "2022-01-31T04:23:24.046Z"
   },
   {
    "duration": 5,
    "start_time": "2022-01-31T04:23:29.106Z"
   },
   {
    "duration": 32,
    "start_time": "2022-01-31T04:25:44.346Z"
   },
   {
    "duration": 22,
    "start_time": "2022-01-31T05:03:25.544Z"
   },
   {
    "duration": 28,
    "start_time": "2022-01-31T05:03:49.823Z"
   },
   {
    "duration": 78,
    "start_time": "2022-01-31T05:04:55.065Z"
   },
   {
    "duration": 74,
    "start_time": "2022-01-31T05:05:13.944Z"
   },
   {
    "duration": 88,
    "start_time": "2022-01-31T05:06:29.924Z"
   },
   {
    "duration": 10,
    "start_time": "2022-01-31T05:07:24.544Z"
   },
   {
    "duration": 14,
    "start_time": "2022-01-31T05:07:38.634Z"
   },
   {
    "duration": 15,
    "start_time": "2022-01-31T05:07:47.063Z"
   },
   {
    "duration": 70,
    "start_time": "2022-01-31T05:08:26.883Z"
   },
   {
    "duration": 288,
    "start_time": "2022-01-31T05:15:00.718Z"
   },
   {
    "duration": 53,
    "start_time": "2022-01-31T05:16:35.759Z"
   },
   {
    "duration": 55,
    "start_time": "2022-01-31T05:16:58.209Z"
   },
   {
    "duration": 53,
    "start_time": "2022-01-31T05:17:09.201Z"
   },
   {
    "duration": 100,
    "start_time": "2022-01-31T05:19:10.498Z"
   },
   {
    "duration": 52,
    "start_time": "2022-01-31T05:20:45.719Z"
   },
   {
    "duration": 53,
    "start_time": "2022-01-31T05:37:26.762Z"
   },
   {
    "duration": 4,
    "start_time": "2022-01-31T05:37:40.042Z"
   },
   {
    "duration": 13,
    "start_time": "2022-01-31T05:37:43.882Z"
   },
   {
    "duration": 56,
    "start_time": "2022-01-31T05:37:47.881Z"
   },
   {
    "duration": 14,
    "start_time": "2022-01-31T05:38:09.571Z"
   },
   {
    "duration": 54,
    "start_time": "2022-01-31T05:38:12.581Z"
   },
   {
    "duration": 14,
    "start_time": "2022-01-31T05:39:15.360Z"
   },
   {
    "duration": 3,
    "start_time": "2022-01-31T05:39:21.612Z"
   },
   {
    "duration": 4,
    "start_time": "2022-01-31T05:39:34.060Z"
   },
   {
    "duration": 13,
    "start_time": "2022-01-31T05:39:38.104Z"
   },
   {
    "duration": 51,
    "start_time": "2022-01-31T05:39:42.562Z"
   },
   {
    "duration": 208,
    "start_time": "2022-01-31T07:56:08.060Z"
   },
   {
    "duration": 571,
    "start_time": "2022-01-31T07:56:42.281Z"
   },
   {
    "duration": 205,
    "start_time": "2022-01-31T07:56:59.960Z"
   },
   {
    "duration": 151,
    "start_time": "2022-01-31T07:57:17.719Z"
   },
   {
    "duration": 16,
    "start_time": "2022-01-31T07:57:19.712Z"
   },
   {
    "duration": 25,
    "start_time": "2022-01-31T07:57:22.480Z"
   },
   {
    "duration": 4,
    "start_time": "2022-01-31T07:57:27.430Z"
   },
   {
    "duration": 23,
    "start_time": "2022-01-31T07:57:36.498Z"
   },
   {
    "duration": 3,
    "start_time": "2022-01-31T07:57:40.084Z"
   },
   {
    "duration": 23,
    "start_time": "2022-01-31T07:57:43.240Z"
   },
   {
    "duration": 17,
    "start_time": "2022-01-31T07:57:46.681Z"
   },
   {
    "duration": 22,
    "start_time": "2022-01-31T07:57:50.803Z"
   },
   {
    "duration": 58,
    "start_time": "2022-01-31T07:57:54.499Z"
   },
   {
    "duration": 68,
    "start_time": "2022-01-31T07:57:57.191Z"
   },
   {
    "duration": 53,
    "start_time": "2022-01-31T07:57:59.640Z"
   },
   {
    "duration": 46,
    "start_time": "2022-01-31T07:58:03.377Z"
   },
   {
    "duration": 3,
    "start_time": "2022-01-31T07:58:07.620Z"
   },
   {
    "duration": 10,
    "start_time": "2022-01-31T07:58:09.960Z"
   },
   {
    "duration": 37,
    "start_time": "2022-01-31T07:58:12.400Z"
   },
   {
    "duration": 26,
    "start_time": "2022-01-31T07:58:22.521Z"
   },
   {
    "duration": 28,
    "start_time": "2022-01-31T07:58:49.532Z"
   },
   {
    "duration": 16,
    "start_time": "2022-01-31T07:59:17.990Z"
   },
   {
    "duration": 21,
    "start_time": "2022-01-31T08:02:04.711Z"
   },
   {
    "duration": 25,
    "start_time": "2022-01-31T08:04:34.473Z"
   },
   {
    "duration": 19,
    "start_time": "2022-01-31T08:08:36.352Z"
   },
   {
    "duration": 25,
    "start_time": "2022-01-31T08:10:43.977Z"
   },
   {
    "duration": 23,
    "start_time": "2022-01-31T08:10:57.436Z"
   },
   {
    "duration": 23,
    "start_time": "2022-01-31T08:12:46.519Z"
   },
   {
    "duration": 36,
    "start_time": "2022-01-31T08:21:32.909Z"
   },
   {
    "duration": 2428,
    "start_time": "2022-01-31T08:22:05.289Z"
   },
   {
    "duration": 39,
    "start_time": "2022-01-31T08:22:39.869Z"
   },
   {
    "duration": 46,
    "start_time": "2022-01-31T08:22:55.470Z"
   },
   {
    "duration": 52,
    "start_time": "2022-01-31T08:23:12.051Z"
   },
   {
    "duration": 51,
    "start_time": "2022-01-31T08:24:35.157Z"
   },
   {
    "duration": 50,
    "start_time": "2022-01-31T08:24:54.945Z"
   },
   {
    "duration": 2322,
    "start_time": "2022-01-31T08:25:31.069Z"
   },
   {
    "duration": 3259,
    "start_time": "2022-01-31T08:26:28.525Z"
   },
   {
    "duration": 49,
    "start_time": "2022-01-31T08:26:46.817Z"
   },
   {
    "duration": 24,
    "start_time": "2022-01-31T08:27:41.236Z"
   },
   {
    "duration": 25,
    "start_time": "2022-01-31T08:28:06.108Z"
   },
   {
    "duration": 336,
    "start_time": "2022-02-01T14:36:44.922Z"
   },
   {
    "duration": 555,
    "start_time": "2022-02-01T14:36:56.893Z"
   },
   {
    "duration": 127,
    "start_time": "2022-02-01T14:37:01.027Z"
   },
   {
    "duration": 15,
    "start_time": "2022-02-01T14:37:08.585Z"
   },
   {
    "duration": 22,
    "start_time": "2022-02-01T14:37:12.117Z"
   },
   {
    "duration": 3,
    "start_time": "2022-02-01T14:37:16.600Z"
   },
   {
    "duration": 19,
    "start_time": "2022-02-01T14:37:19.555Z"
   },
   {
    "duration": 4,
    "start_time": "2022-02-01T14:37:23.692Z"
   },
   {
    "duration": 19,
    "start_time": "2022-02-01T14:37:26.520Z"
   },
   {
    "duration": 15,
    "start_time": "2022-02-01T14:37:29.455Z"
   },
   {
    "duration": 20,
    "start_time": "2022-02-01T14:37:31.779Z"
   },
   {
    "duration": 51,
    "start_time": "2022-02-01T14:37:34.912Z"
   },
   {
    "duration": 63,
    "start_time": "2022-02-01T14:37:37.201Z"
   },
   {
    "duration": 45,
    "start_time": "2022-02-01T14:37:40.388Z"
   },
   {
    "duration": 34,
    "start_time": "2022-02-01T14:37:43.450Z"
   },
   {
    "duration": 3,
    "start_time": "2022-02-01T14:37:49.080Z"
   },
   {
    "duration": 9,
    "start_time": "2022-02-01T14:37:51.179Z"
   },
   {
    "duration": 34,
    "start_time": "2022-02-01T14:37:53.320Z"
   },
   {
    "duration": 22,
    "start_time": "2022-02-01T14:37:58.183Z"
   },
   {
    "duration": 38,
    "start_time": "2022-02-01T14:52:24.014Z"
   },
   {
    "duration": 26,
    "start_time": "2022-02-01T14:53:48.592Z"
   },
   {
    "duration": 23,
    "start_time": "2022-02-01T14:54:10.776Z"
   },
   {
    "duration": 21,
    "start_time": "2022-02-01T14:54:20.640Z"
   },
   {
    "duration": 33,
    "start_time": "2022-02-01T14:57:04.853Z"
   },
   {
    "duration": 31,
    "start_time": "2022-02-01T14:57:49.802Z"
   },
   {
    "duration": 282,
    "start_time": "2022-02-02T00:55:17.618Z"
   },
   {
    "duration": 560,
    "start_time": "2022-02-02T00:55:39.032Z"
   },
   {
    "duration": 2,
    "start_time": "2022-02-02T00:55:48.668Z"
   },
   {
    "duration": 265,
    "start_time": "2022-02-02T00:56:04.248Z"
   },
   {
    "duration": 2,
    "start_time": "2022-02-02T00:56:15.198Z"
   },
   {
    "duration": 146,
    "start_time": "2022-02-02T00:56:15.202Z"
   },
   {
    "duration": 16,
    "start_time": "2022-02-02T00:56:15.350Z"
   },
   {
    "duration": 25,
    "start_time": "2022-02-02T00:56:15.368Z"
   },
   {
    "duration": 23,
    "start_time": "2022-02-02T00:56:15.395Z"
   },
   {
    "duration": 21,
    "start_time": "2022-02-02T00:56:15.420Z"
   },
   {
    "duration": 20,
    "start_time": "2022-02-02T00:56:15.443Z"
   },
   {
    "duration": 28,
    "start_time": "2022-02-02T00:56:15.466Z"
   },
   {
    "duration": 22,
    "start_time": "2022-02-02T00:56:15.496Z"
   },
   {
    "duration": 24,
    "start_time": "2022-02-02T00:56:15.520Z"
   },
   {
    "duration": 72,
    "start_time": "2022-02-02T00:56:15.546Z"
   },
   {
    "duration": 64,
    "start_time": "2022-02-02T00:56:15.620Z"
   },
   {
    "duration": 68,
    "start_time": "2022-02-02T00:56:15.686Z"
   },
   {
    "duration": 40,
    "start_time": "2022-02-02T00:56:15.756Z"
   },
   {
    "duration": 4,
    "start_time": "2022-02-02T00:56:15.798Z"
   },
   {
    "duration": 25,
    "start_time": "2022-02-02T00:56:15.803Z"
   },
   {
    "duration": 39,
    "start_time": "2022-02-02T00:56:15.830Z"
   },
   {
    "duration": 47,
    "start_time": "2022-02-02T00:56:15.871Z"
   },
   {
    "duration": 38,
    "start_time": "2022-02-02T00:56:15.920Z"
   },
   {
    "duration": 83,
    "start_time": "2022-02-02T00:56:15.960Z"
   },
   {
    "duration": -5055,
    "start_time": "2022-02-02T00:56:21.101Z"
   },
   {
    "duration": -5060,
    "start_time": "2022-02-02T00:56:21.107Z"
   },
   {
    "duration": -5063,
    "start_time": "2022-02-02T00:56:21.112Z"
   },
   {
    "duration": -5066,
    "start_time": "2022-02-02T00:56:21.116Z"
   },
   {
    "duration": -5070,
    "start_time": "2022-02-02T00:56:21.122Z"
   },
   {
    "duration": -5074,
    "start_time": "2022-02-02T00:56:21.127Z"
   },
   {
    "duration": -5078,
    "start_time": "2022-02-02T00:56:21.133Z"
   },
   {
    "duration": -5081,
    "start_time": "2022-02-02T00:56:21.137Z"
   },
   {
    "duration": -5086,
    "start_time": "2022-02-02T00:56:21.144Z"
   },
   {
    "duration": -5089,
    "start_time": "2022-02-02T00:56:21.148Z"
   },
   {
    "duration": -5092,
    "start_time": "2022-02-02T00:56:21.153Z"
   },
   {
    "duration": -5095,
    "start_time": "2022-02-02T00:56:21.157Z"
   },
   {
    "duration": -5098,
    "start_time": "2022-02-02T00:56:21.162Z"
   },
   {
    "duration": -5102,
    "start_time": "2022-02-02T00:56:21.167Z"
   },
   {
    "duration": -5116,
    "start_time": "2022-02-02T00:56:21.183Z"
   },
   {
    "duration": -5122,
    "start_time": "2022-02-02T00:56:21.190Z"
   },
   {
    "duration": -5127,
    "start_time": "2022-02-02T00:56:21.197Z"
   },
   {
    "duration": -5131,
    "start_time": "2022-02-02T00:56:21.202Z"
   },
   {
    "duration": 36,
    "start_time": "2022-02-02T00:56:28.062Z"
   },
   {
    "duration": 3,
    "start_time": "2022-02-02T01:16:37.558Z"
   },
   {
    "duration": 11,
    "start_time": "2022-02-02T01:16:43.408Z"
   },
   {
    "duration": 12,
    "start_time": "2022-02-02T01:16:57.107Z"
   },
   {
    "duration": 11,
    "start_time": "2022-02-02T01:17:00.228Z"
   },
   {
    "duration": 37,
    "start_time": "2022-02-02T01:17:05.728Z"
   },
   {
    "duration": 10,
    "start_time": "2022-02-02T01:18:04.638Z"
   },
   {
    "duration": 4,
    "start_time": "2022-02-02T01:18:11.384Z"
   },
   {
    "duration": 11,
    "start_time": "2022-02-02T01:18:13.482Z"
   },
   {
    "duration": 3,
    "start_time": "2022-02-02T01:18:36.228Z"
   },
   {
    "duration": 27,
    "start_time": "2022-02-02T01:18:41.068Z"
   },
   {
    "duration": 4,
    "start_time": "2022-02-02T01:18:57.948Z"
   },
   {
    "duration": 26,
    "start_time": "2022-02-02T01:19:00.948Z"
   },
   {
    "duration": 4,
    "start_time": "2022-02-02T01:19:42.652Z"
   },
   {
    "duration": 22,
    "start_time": "2022-02-02T01:19:44.878Z"
   },
   {
    "duration": 20,
    "start_time": "2022-02-02T01:19:48.148Z"
   },
   {
    "duration": 23,
    "start_time": "2022-02-02T01:19:52.252Z"
   },
   {
    "duration": 19,
    "start_time": "2022-02-02T01:19:56.188Z"
   },
   {
    "duration": 23,
    "start_time": "2022-02-02T01:20:05.427Z"
   },
   {
    "duration": 21,
    "start_time": "2022-02-02T01:20:09.987Z"
   },
   {
    "duration": 4,
    "start_time": "2022-02-02T01:20:34.287Z"
   },
   {
    "duration": 17,
    "start_time": "2022-02-02T01:20:35.768Z"
   },
   {
    "duration": 15,
    "start_time": "2022-02-02T01:20:38.388Z"
   },
   {
    "duration": 14,
    "start_time": "2022-02-02T01:20:40.828Z"
   },
   {
    "duration": 3,
    "start_time": "2022-02-02T01:20:51.068Z"
   },
   {
    "duration": 17,
    "start_time": "2022-02-02T01:20:53.067Z"
   },
   {
    "duration": 16,
    "start_time": "2022-02-02T01:20:55.228Z"
   },
   {
    "duration": 15,
    "start_time": "2022-02-02T01:20:57.947Z"
   },
   {
    "duration": 19,
    "start_time": "2022-02-02T01:21:00.708Z"
   },
   {
    "duration": 37,
    "start_time": "2022-02-02T01:21:36.788Z"
   },
   {
    "duration": 36,
    "start_time": "2022-02-02T01:21:53.693Z"
   },
   {
    "duration": 15,
    "start_time": "2022-02-02T01:22:08.547Z"
   },
   {
    "duration": 17,
    "start_time": "2022-02-02T01:22:12.448Z"
   },
   {
    "duration": 15,
    "start_time": "2022-02-02T01:22:14.030Z"
   },
   {
    "duration": 1008,
    "start_time": "2022-02-02T05:00:24.569Z"
   },
   {
    "duration": 254,
    "start_time": "2022-02-02T05:00:25.580Z"
   },
   {
    "duration": 40,
    "start_time": "2022-02-02T05:00:25.838Z"
   },
   {
    "duration": 52,
    "start_time": "2022-02-02T05:00:25.881Z"
   },
   {
    "duration": 5,
    "start_time": "2022-02-02T05:00:25.950Z"
   },
   {
    "duration": 38,
    "start_time": "2022-02-02T05:00:25.958Z"
   },
   {
    "duration": 6,
    "start_time": "2022-02-02T05:00:25.999Z"
   },
   {
    "duration": 64,
    "start_time": "2022-02-02T05:00:26.008Z"
   },
   {
    "duration": 22,
    "start_time": "2022-02-02T05:00:26.075Z"
   },
   {
    "duration": 49,
    "start_time": "2022-02-02T05:00:26.100Z"
   },
   {
    "duration": 104,
    "start_time": "2022-02-02T05:00:26.151Z"
   },
   {
    "duration": 108,
    "start_time": "2022-02-02T05:00:26.258Z"
   },
   {
    "duration": 84,
    "start_time": "2022-02-02T05:00:26.368Z"
   },
   {
    "duration": 56,
    "start_time": "2022-02-02T05:00:26.455Z"
   },
   {
    "duration": 9,
    "start_time": "2022-02-02T05:00:26.514Z"
   },
   {
    "duration": 31,
    "start_time": "2022-02-02T05:00:26.525Z"
   },
   {
    "duration": 57,
    "start_time": "2022-02-02T05:00:26.558Z"
   },
   {
    "duration": 50,
    "start_time": "2022-02-02T05:00:26.618Z"
   },
   {
    "duration": 46,
    "start_time": "2022-02-02T05:00:26.671Z"
   },
   {
    "duration": 28,
    "start_time": "2022-02-02T05:00:26.720Z"
   },
   {
    "duration": 41,
    "start_time": "2022-02-02T05:00:26.751Z"
   },
   {
    "duration": 31,
    "start_time": "2022-02-02T05:00:26.794Z"
   },
   {
    "duration": 47,
    "start_time": "2022-02-02T05:00:26.829Z"
   },
   {
    "duration": 28,
    "start_time": "2022-02-02T05:00:26.879Z"
   },
   {
    "duration": 66,
    "start_time": "2022-02-02T05:00:26.909Z"
   },
   {
    "duration": 33,
    "start_time": "2022-02-02T05:00:26.978Z"
   },
   {
    "duration": 51,
    "start_time": "2022-02-02T05:00:27.014Z"
   },
   {
    "duration": 6,
    "start_time": "2022-02-02T05:00:27.068Z"
   },
   {
    "duration": 6,
    "start_time": "2022-02-02T05:00:27.077Z"
   },
   {
    "duration": 6,
    "start_time": "2022-02-02T05:00:27.086Z"
   },
   {
    "duration": 8,
    "start_time": "2022-02-02T05:00:27.095Z"
   },
   {
    "duration": 6,
    "start_time": "2022-02-02T05:00:27.105Z"
   },
   {
    "duration": 12,
    "start_time": "2022-02-02T05:00:27.113Z"
   },
   {
    "duration": 22,
    "start_time": "2022-02-02T05:00:27.128Z"
   },
   {
    "duration": 9,
    "start_time": "2022-02-02T05:00:27.152Z"
   },
   {
    "duration": 18,
    "start_time": "2022-02-02T05:00:27.164Z"
   },
   {
    "duration": 11,
    "start_time": "2022-02-02T05:00:27.186Z"
   },
   {
    "duration": 8,
    "start_time": "2022-02-02T05:00:27.200Z"
   },
   {
    "duration": 751,
    "start_time": "2022-02-02T13:44:10.739Z"
   },
   {
    "duration": 181,
    "start_time": "2022-02-02T13:44:11.493Z"
   },
   {
    "duration": 25,
    "start_time": "2022-02-02T13:44:11.677Z"
   },
   {
    "duration": 49,
    "start_time": "2022-02-02T13:44:11.706Z"
   },
   {
    "duration": 5,
    "start_time": "2022-02-02T13:44:11.758Z"
   },
   {
    "duration": 33,
    "start_time": "2022-02-02T13:44:11.765Z"
   },
   {
    "duration": 17,
    "start_time": "2022-02-02T13:44:11.801Z"
   },
   {
    "duration": 54,
    "start_time": "2022-02-02T13:44:11.821Z"
   },
   {
    "duration": 25,
    "start_time": "2022-02-02T13:44:11.881Z"
   },
   {
    "duration": 54,
    "start_time": "2022-02-02T13:44:11.910Z"
   },
   {
    "duration": 88,
    "start_time": "2022-02-02T13:44:11.966Z"
   },
   {
    "duration": 112,
    "start_time": "2022-02-02T13:44:12.056Z"
   },
   {
    "duration": 90,
    "start_time": "2022-02-02T13:44:12.171Z"
   },
   {
    "duration": 54,
    "start_time": "2022-02-02T13:44:12.264Z"
   },
   {
    "duration": 4,
    "start_time": "2022-02-02T13:44:12.321Z"
   },
   {
    "duration": 14,
    "start_time": "2022-02-02T13:44:12.350Z"
   },
   {
    "duration": 57,
    "start_time": "2022-02-02T13:44:12.367Z"
   },
   {
    "duration": 29,
    "start_time": "2022-02-02T13:44:12.447Z"
   },
   {
    "duration": 70,
    "start_time": "2022-02-02T13:44:12.478Z"
   },
   {
    "duration": 5,
    "start_time": "2022-02-02T13:44:12.551Z"
   },
   {
    "duration": 41,
    "start_time": "2022-02-02T13:44:12.559Z"
   },
   {
    "duration": 56,
    "start_time": "2022-02-02T13:44:12.603Z"
   },
   {
    "duration": 28,
    "start_time": "2022-02-02T13:44:12.662Z"
   },
   {
    "duration": 28,
    "start_time": "2022-02-02T13:44:12.692Z"
   },
   {
    "duration": 61,
    "start_time": "2022-02-02T13:44:12.722Z"
   },
   {
    "duration": 37,
    "start_time": "2022-02-02T13:44:12.786Z"
   },
   {
    "duration": 12,
    "start_time": "2022-02-02T13:44:12.852Z"
   },
   {
    "duration": 494,
    "start_time": "2022-02-02T13:44:12.866Z"
   },
   {
    "duration": -770,
    "start_time": "2022-02-02T13:44:14.132Z"
   },
   {
    "duration": -816,
    "start_time": "2022-02-02T13:44:14.180Z"
   },
   {
    "duration": -820,
    "start_time": "2022-02-02T13:44:14.185Z"
   },
   {
    "duration": -822,
    "start_time": "2022-02-02T13:44:14.189Z"
   },
   {
    "duration": -826,
    "start_time": "2022-02-02T13:44:14.194Z"
   },
   {
    "duration": -827,
    "start_time": "2022-02-02T13:44:14.197Z"
   },
   {
    "duration": -829,
    "start_time": "2022-02-02T13:44:14.201Z"
   },
   {
    "duration": -832,
    "start_time": "2022-02-02T13:44:14.205Z"
   },
   {
    "duration": -836,
    "start_time": "2022-02-02T13:44:14.210Z"
   },
   {
    "duration": -839,
    "start_time": "2022-02-02T13:44:14.214Z"
   },
   {
    "duration": 616,
    "start_time": "2022-02-03T14:01:45.050Z"
   },
   {
    "duration": 143,
    "start_time": "2022-02-03T14:01:45.668Z"
   },
   {
    "duration": 15,
    "start_time": "2022-02-03T14:01:45.813Z"
   },
   {
    "duration": 40,
    "start_time": "2022-02-03T14:01:45.830Z"
   },
   {
    "duration": 3,
    "start_time": "2022-02-03T14:01:45.872Z"
   },
   {
    "duration": 30,
    "start_time": "2022-02-03T14:01:45.876Z"
   },
   {
    "duration": 3,
    "start_time": "2022-02-03T14:01:45.908Z"
   },
   {
    "duration": 23,
    "start_time": "2022-02-03T14:01:45.914Z"
   },
   {
    "duration": 17,
    "start_time": "2022-02-03T14:01:45.959Z"
   },
   {
    "duration": 22,
    "start_time": "2022-02-03T14:01:45.978Z"
   },
   {
    "duration": 77,
    "start_time": "2022-02-03T14:01:46.002Z"
   },
   {
    "duration": 80,
    "start_time": "2022-02-03T14:01:46.081Z"
   },
   {
    "duration": 49,
    "start_time": "2022-02-03T14:01:46.163Z"
   },
   {
    "duration": 49,
    "start_time": "2022-02-03T14:01:46.213Z"
   },
   {
    "duration": 3,
    "start_time": "2022-02-03T14:01:46.264Z"
   },
   {
    "duration": 11,
    "start_time": "2022-02-03T14:01:46.268Z"
   },
   {
    "duration": 38,
    "start_time": "2022-02-03T14:01:46.281Z"
   },
   {
    "duration": 39,
    "start_time": "2022-02-03T14:01:46.321Z"
   },
   {
    "duration": 34,
    "start_time": "2022-02-03T14:01:46.362Z"
   },
   {
    "duration": 3,
    "start_time": "2022-02-03T14:01:46.397Z"
   },
   {
    "duration": 31,
    "start_time": "2022-02-03T14:01:46.402Z"
   },
   {
    "duration": 43,
    "start_time": "2022-02-03T14:01:46.435Z"
   },
   {
    "duration": 22,
    "start_time": "2022-02-03T14:01:46.481Z"
   },
   {
    "duration": 21,
    "start_time": "2022-02-03T14:01:46.505Z"
   },
   {
    "duration": 51,
    "start_time": "2022-02-03T14:01:46.527Z"
   },
   {
    "duration": 22,
    "start_time": "2022-02-03T14:01:46.580Z"
   },
   {
    "duration": 8,
    "start_time": "2022-02-03T14:01:46.604Z"
   },
   {
    "duration": 12,
    "start_time": "2022-02-03T14:01:46.613Z"
   },
   {
    "duration": 37,
    "start_time": "2022-02-03T14:01:46.626Z"
   },
   {
    "duration": 59,
    "start_time": "2022-02-03T14:01:46.665Z"
   },
   {
    "duration": 14,
    "start_time": "2022-02-03T14:01:46.712Z"
   },
   {
    "duration": 11,
    "start_time": "2022-02-03T14:01:46.716Z"
   },
   {
    "duration": 8,
    "start_time": "2022-02-03T14:01:46.720Z"
   },
   {
    "duration": 6,
    "start_time": "2022-02-03T14:01:46.723Z"
   },
   {
    "duration": -11,
    "start_time": "2022-02-03T14:01:46.741Z"
   },
   {
    "duration": -15,
    "start_time": "2022-02-03T14:01:46.745Z"
   },
   {
    "duration": -18,
    "start_time": "2022-02-03T14:01:46.749Z"
   },
   {
    "duration": -28,
    "start_time": "2022-02-03T14:01:46.760Z"
   },
   {
    "duration": 4,
    "start_time": "2022-02-03T14:02:05.739Z"
   },
   {
    "duration": 441,
    "start_time": "2022-02-03T14:02:11.937Z"
   },
   {
    "duration": 475,
    "start_time": "2022-02-03T14:14:08.314Z"
   },
   {
    "duration": 372,
    "start_time": "2022-02-03T14:19:53.854Z"
   },
   {
    "duration": 6,
    "start_time": "2022-02-03T14:20:35.988Z"
   },
   {
    "duration": 4,
    "start_time": "2022-02-03T14:20:47.311Z"
   },
   {
    "duration": 4,
    "start_time": "2022-02-03T14:20:53.440Z"
   },
   {
    "duration": 4,
    "start_time": "2022-02-03T14:21:01.766Z"
   },
   {
    "duration": 5,
    "start_time": "2022-02-03T14:21:07.340Z"
   },
   {
    "duration": 5,
    "start_time": "2022-02-03T14:21:13.170Z"
   },
   {
    "duration": 184,
    "start_time": "2022-02-03T14:21:23.771Z"
   },
   {
    "duration": 6,
    "start_time": "2022-02-03T14:38:49.953Z"
   },
   {
    "duration": 6,
    "start_time": "2022-02-03T14:39:28.342Z"
   },
   {
    "duration": 579,
    "start_time": "2022-02-03T14:39:30.895Z"
   },
   {
    "duration": 2101,
    "start_time": "2022-02-03T14:40:23.826Z"
   },
   {
    "duration": 8,
    "start_time": "2022-02-10T15:34:50.493Z"
   },
   {
    "duration": 624,
    "start_time": "2022-02-11T04:15:42.414Z"
   },
   {
    "duration": 149,
    "start_time": "2022-02-11T04:15:43.040Z"
   },
   {
    "duration": 18,
    "start_time": "2022-02-11T04:15:43.191Z"
   },
   {
    "duration": 32,
    "start_time": "2022-02-11T04:15:43.211Z"
   },
   {
    "duration": 5,
    "start_time": "2022-02-11T04:15:43.244Z"
   },
   {
    "duration": 25,
    "start_time": "2022-02-11T04:15:43.250Z"
   },
   {
    "duration": 4,
    "start_time": "2022-02-11T04:15:43.277Z"
   },
   {
    "duration": 44,
    "start_time": "2022-02-11T04:15:43.283Z"
   },
   {
    "duration": 19,
    "start_time": "2022-02-11T04:15:43.329Z"
   },
   {
    "duration": 20,
    "start_time": "2022-02-11T04:15:43.350Z"
   },
   {
    "duration": 79,
    "start_time": "2022-02-11T04:15:43.372Z"
   },
   {
    "duration": 80,
    "start_time": "2022-02-11T04:15:43.453Z"
   },
   {
    "duration": 51,
    "start_time": "2022-02-11T04:15:43.535Z"
   },
   {
    "duration": 48,
    "start_time": "2022-02-11T04:15:43.587Z"
   },
   {
    "duration": 4,
    "start_time": "2022-02-11T04:15:43.637Z"
   },
   {
    "duration": 13,
    "start_time": "2022-02-11T04:15:43.642Z"
   },
   {
    "duration": 40,
    "start_time": "2022-02-11T04:15:43.656Z"
   },
   {
    "duration": 22,
    "start_time": "2022-02-11T04:15:43.718Z"
   },
   {
    "duration": 35,
    "start_time": "2022-02-11T04:15:43.742Z"
   },
   {
    "duration": 4,
    "start_time": "2022-02-11T04:15:43.779Z"
   },
   {
    "duration": 55,
    "start_time": "2022-02-11T04:15:43.785Z"
   },
   {
    "duration": 24,
    "start_time": "2022-02-11T04:15:43.842Z"
   },
   {
    "duration": 22,
    "start_time": "2022-02-11T04:15:43.871Z"
   },
   {
    "duration": 24,
    "start_time": "2022-02-11T04:15:43.919Z"
   },
   {
    "duration": 25,
    "start_time": "2022-02-11T04:15:43.945Z"
   },
   {
    "duration": 51,
    "start_time": "2022-02-11T04:15:43.972Z"
   },
   {
    "duration": 7,
    "start_time": "2022-02-11T04:15:44.025Z"
   },
   {
    "duration": 13,
    "start_time": "2022-02-11T04:15:44.034Z"
   },
   {
    "duration": 9,
    "start_time": "2022-02-11T04:15:44.048Z"
   },
   {
    "duration": 4,
    "start_time": "2022-02-11T04:15:44.059Z"
   },
   {
    "duration": 594,
    "start_time": "2022-02-11T04:15:44.065Z"
   },
   {
    "duration": -7364,
    "start_time": "2022-02-11T04:15:52.025Z"
   },
   {
    "duration": -7377,
    "start_time": "2022-02-11T04:15:52.039Z"
   },
   {
    "duration": -7418,
    "start_time": "2022-02-11T04:15:52.081Z"
   },
   {
    "duration": -7425,
    "start_time": "2022-02-11T04:15:52.089Z"
   },
   {
    "duration": -7430,
    "start_time": "2022-02-11T04:15:52.095Z"
   },
   {
    "duration": -7436,
    "start_time": "2022-02-11T04:15:52.102Z"
   },
   {
    "duration": -7439,
    "start_time": "2022-02-11T04:15:52.106Z"
   },
   {
    "duration": 5,
    "start_time": "2022-02-11T04:19:02.114Z"
   },
   {
    "duration": 5,
    "start_time": "2022-02-11T04:19:08.183Z"
   },
   {
    "duration": 549,
    "start_time": "2022-02-11T04:19:14.254Z"
   },
   {
    "duration": 519,
    "start_time": "2022-02-11T04:23:20.837Z"
   },
   {
    "duration": 603,
    "start_time": "2022-02-11T04:24:47.310Z"
   },
   {
    "duration": 4,
    "start_time": "2022-02-11T04:25:27.339Z"
   },
   {
    "duration": 4,
    "start_time": "2022-02-11T04:25:29.666Z"
   },
   {
    "duration": 6,
    "start_time": "2022-02-11T04:25:35.222Z"
   },
   {
    "duration": 3,
    "start_time": "2022-02-11T04:25:59.215Z"
   },
   {
    "duration": 5,
    "start_time": "2022-02-11T04:26:01.014Z"
   },
   {
    "duration": 4,
    "start_time": "2022-02-11T04:27:01.124Z"
   },
   {
    "duration": 2037,
    "start_time": "2022-02-11T04:27:02.894Z"
   },
   {
    "duration": 4,
    "start_time": "2022-02-11T04:41:00.580Z"
   },
   {
    "duration": 2125,
    "start_time": "2022-02-11T04:41:07.246Z"
   },
   {
    "duration": 4,
    "start_time": "2022-02-11T04:54:46.373Z"
   },
   {
    "duration": -7175,
    "start_time": "2022-02-11T04:55:03.226Z"
   },
   {
    "duration": -7181,
    "start_time": "2022-02-11T04:55:03.233Z"
   },
   {
    "duration": 4,
    "start_time": "2022-02-11T04:55:49.868Z"
   },
   {
    "duration": 6885,
    "start_time": "2022-02-11T04:55:51.357Z"
   },
   {
    "duration": 4,
    "start_time": "2022-02-11T04:57:47.534Z"
   },
   {
    "duration": 6889,
    "start_time": "2022-02-11T04:57:49.402Z"
   },
   {
    "duration": 5,
    "start_time": "2022-02-11T04:58:24.734Z"
   },
   {
    "duration": 6590,
    "start_time": "2022-02-11T04:58:37.744Z"
   },
   {
    "duration": 7,
    "start_time": "2022-02-11T04:59:52.239Z"
   },
   {
    "duration": 590,
    "start_time": "2022-02-11T05:00:01.682Z"
   },
   {
    "duration": 5,
    "start_time": "2022-02-11T05:00:08.245Z"
   },
   {
    "duration": 4,
    "start_time": "2022-02-11T05:00:49.766Z"
   },
   {
    "duration": 20,
    "start_time": "2022-02-11T05:00:53.202Z"
   },
   {
    "duration": 4,
    "start_time": "2022-02-11T05:01:11.760Z"
   },
   {
    "duration": 19,
    "start_time": "2022-02-11T05:01:13.852Z"
   },
   {
    "duration": 138,
    "start_time": "2022-02-11T05:02:37.764Z"
   },
   {
    "duration": 94,
    "start_time": "2022-02-11T05:02:52.787Z"
   },
   {
    "duration": 4,
    "start_time": "2022-02-11T05:03:05.925Z"
   },
   {
    "duration": 4,
    "start_time": "2022-02-11T05:03:14.802Z"
   },
   {
    "duration": 4,
    "start_time": "2022-02-11T05:03:16.612Z"
   },
   {
    "duration": 20,
    "start_time": "2022-02-11T05:03:18.060Z"
   },
   {
    "duration": 4,
    "start_time": "2022-02-11T05:03:39.582Z"
   },
   {
    "duration": 7427,
    "start_time": "2022-02-11T05:03:41.147Z"
   },
   {
    "duration": 95,
    "start_time": "2022-02-11T05:05:02.488Z"
   },
   {
    "duration": 5,
    "start_time": "2022-02-11T05:05:12.714Z"
   },
   {
    "duration": 7943,
    "start_time": "2022-02-11T05:05:17.011Z"
   },
   {
    "duration": 5,
    "start_time": "2022-02-11T05:06:16.793Z"
   },
   {
    "duration": 19,
    "start_time": "2022-02-11T05:06:20.877Z"
   },
   {
    "duration": 4,
    "start_time": "2022-02-11T05:06:49.765Z"
   },
   {
    "duration": 7493,
    "start_time": "2022-02-11T05:06:54.275Z"
   },
   {
    "duration": 5,
    "start_time": "2022-02-11T05:07:07.611Z"
   },
   {
    "duration": 5,
    "start_time": "2022-02-11T05:07:17.260Z"
   },
   {
    "duration": 21,
    "start_time": "2022-02-11T05:07:19.354Z"
   },
   {
    "duration": 15,
    "start_time": "2022-02-11T05:12:49.203Z"
   },
   {
    "duration": 18,
    "start_time": "2022-02-11T05:14:03.338Z"
   },
   {
    "duration": 19,
    "start_time": "2022-02-11T05:14:15.541Z"
   },
   {
    "duration": 14,
    "start_time": "2022-02-11T05:14:42.190Z"
   },
   {
    "duration": 6,
    "start_time": "2022-02-11T05:18:03.359Z"
   },
   {
    "duration": 20,
    "start_time": "2022-02-11T05:18:09.115Z"
   },
   {
    "duration": 13,
    "start_time": "2022-02-11T05:18:23.706Z"
   },
   {
    "duration": 19,
    "start_time": "2022-02-11T05:18:34.244Z"
   },
   {
    "duration": 14,
    "start_time": "2022-02-11T05:18:38.187Z"
   },
   {
    "duration": 4,
    "start_time": "2022-02-11T05:19:42.402Z"
   },
   {
    "duration": 21,
    "start_time": "2022-02-11T05:19:44.738Z"
   },
   {
    "duration": 14,
    "start_time": "2022-02-11T05:19:46.157Z"
   },
   {
    "duration": 19,
    "start_time": "2022-02-11T05:19:46.987Z"
   },
   {
    "duration": 15,
    "start_time": "2022-02-11T05:19:50.466Z"
   },
   {
    "duration": 724,
    "start_time": "2022-02-11T15:36:27.346Z"
   },
   {
    "duration": 176,
    "start_time": "2022-02-11T15:36:28.073Z"
   },
   {
    "duration": 27,
    "start_time": "2022-02-11T15:36:28.252Z"
   },
   {
    "duration": 32,
    "start_time": "2022-02-11T15:36:28.282Z"
   },
   {
    "duration": 5,
    "start_time": "2022-02-11T15:36:28.316Z"
   },
   {
    "duration": 27,
    "start_time": "2022-02-11T15:36:28.348Z"
   },
   {
    "duration": 10,
    "start_time": "2022-02-11T15:36:28.378Z"
   },
   {
    "duration": 29,
    "start_time": "2022-02-11T15:36:28.391Z"
   },
   {
    "duration": 23,
    "start_time": "2022-02-11T15:36:28.448Z"
   },
   {
    "duration": 29,
    "start_time": "2022-02-11T15:36:28.474Z"
   },
   {
    "duration": 116,
    "start_time": "2022-02-11T15:36:28.506Z"
   },
   {
    "duration": 117,
    "start_time": "2022-02-11T15:36:28.624Z"
   },
   {
    "duration": 76,
    "start_time": "2022-02-11T15:36:28.749Z"
   },
   {
    "duration": 71,
    "start_time": "2022-02-11T15:36:28.828Z"
   },
   {
    "duration": 4,
    "start_time": "2022-02-11T15:36:28.902Z"
   },
   {
    "duration": 22,
    "start_time": "2022-02-11T15:36:28.908Z"
   },
   {
    "duration": 69,
    "start_time": "2022-02-11T15:36:28.932Z"
   },
   {
    "duration": 48,
    "start_time": "2022-02-11T15:36:29.004Z"
   },
   {
    "duration": 45,
    "start_time": "2022-02-11T15:36:29.054Z"
   },
   {
    "duration": 5,
    "start_time": "2022-02-11T15:36:29.101Z"
   },
   {
    "duration": 62,
    "start_time": "2022-02-11T15:36:29.108Z"
   },
   {
    "duration": 32,
    "start_time": "2022-02-11T15:36:29.173Z"
   },
   {
    "duration": 48,
    "start_time": "2022-02-11T15:36:29.210Z"
   },
   {
    "duration": 28,
    "start_time": "2022-02-11T15:36:29.261Z"
   },
   {
    "duration": 58,
    "start_time": "2022-02-11T15:36:29.291Z"
   },
   {
    "duration": 36,
    "start_time": "2022-02-11T15:36:29.352Z"
   },
   {
    "duration": 14,
    "start_time": "2022-02-11T15:36:29.391Z"
   },
   {
    "duration": 48,
    "start_time": "2022-02-11T15:36:29.407Z"
   },
   {
    "duration": 14,
    "start_time": "2022-02-11T15:36:29.458Z"
   },
   {
    "duration": 8,
    "start_time": "2022-02-11T15:36:29.475Z"
   },
   {
    "duration": 33,
    "start_time": "2022-02-11T15:36:29.486Z"
   },
   {
    "duration": 19,
    "start_time": "2022-02-11T15:36:29.549Z"
   },
   {
    "duration": 24,
    "start_time": "2022-02-11T15:36:29.571Z"
   },
   {
    "duration": 52,
    "start_time": "2022-02-11T15:36:29.598Z"
   },
   {
    "duration": 5,
    "start_time": "2022-02-11T15:36:29.653Z"
   },
   {
    "duration": 7,
    "start_time": "2022-02-11T15:36:29.661Z"
   },
   {
    "duration": 10,
    "start_time": "2022-02-11T15:36:29.670Z"
   },
   {
    "duration": 11,
    "start_time": "2022-02-11T15:36:29.683Z"
   },
   {
    "duration": 93,
    "start_time": "2022-02-11T15:42:05.601Z"
   },
   {
    "duration": 93,
    "start_time": "2022-02-11T15:42:44.907Z"
   },
   {
    "duration": 14,
    "start_time": "2022-02-11T15:43:03.696Z"
   },
   {
    "duration": 15,
    "start_time": "2022-02-11T15:43:21.975Z"
   },
   {
    "duration": 12,
    "start_time": "2022-02-11T15:44:15.551Z"
   },
   {
    "duration": 14,
    "start_time": "2022-02-11T15:44:22.679Z"
   },
   {
    "duration": 16,
    "start_time": "2022-02-11T15:44:37.888Z"
   },
   {
    "duration": 15,
    "start_time": "2022-02-11T15:44:50.192Z"
   },
   {
    "duration": 5,
    "start_time": "2022-02-11T15:45:26.761Z"
   },
   {
    "duration": 356,
    "start_time": "2022-02-11T15:47:25.977Z"
   },
   {
    "duration": 10,
    "start_time": "2022-02-11T15:47:43.041Z"
   },
   {
    "duration": 10,
    "start_time": "2022-02-11T15:48:18.275Z"
   },
   {
    "duration": 6,
    "start_time": "2022-02-11T15:48:20.401Z"
   },
   {
    "duration": 4,
    "start_time": "2022-02-11T15:52:16.468Z"
   },
   {
    "duration": 195,
    "start_time": "2022-02-11T15:52:16.475Z"
   },
   {
    "duration": 16,
    "start_time": "2022-02-11T15:52:16.673Z"
   },
   {
    "duration": 56,
    "start_time": "2022-02-11T15:52:16.692Z"
   },
   {
    "duration": 5,
    "start_time": "2022-02-11T15:52:16.751Z"
   },
   {
    "duration": 27,
    "start_time": "2022-02-11T15:52:16.759Z"
   },
   {
    "duration": 5,
    "start_time": "2022-02-11T15:52:16.789Z"
   },
   {
    "duration": 67,
    "start_time": "2022-02-11T15:52:16.798Z"
   },
   {
    "duration": 23,
    "start_time": "2022-02-11T15:52:16.869Z"
   },
   {
    "duration": 28,
    "start_time": "2022-02-11T15:52:16.896Z"
   },
   {
    "duration": 79,
    "start_time": "2022-02-11T15:52:16.948Z"
   },
   {
    "duration": 91,
    "start_time": "2022-02-11T15:52:17.048Z"
   },
   {
    "duration": 78,
    "start_time": "2022-02-11T15:52:17.150Z"
   },
   {
    "duration": 69,
    "start_time": "2022-02-11T15:52:17.231Z"
   },
   {
    "duration": 5,
    "start_time": "2022-02-11T15:52:17.304Z"
   },
   {
    "duration": 41,
    "start_time": "2022-02-11T15:52:17.311Z"
   },
   {
    "duration": 56,
    "start_time": "2022-02-11T15:52:17.354Z"
   },
   {
    "duration": 62,
    "start_time": "2022-02-11T15:52:17.414Z"
   },
   {
    "duration": 87,
    "start_time": "2022-02-11T15:52:17.480Z"
   },
   {
    "duration": 6,
    "start_time": "2022-02-11T15:52:17.571Z"
   },
   {
    "duration": 72,
    "start_time": "2022-02-11T15:52:17.580Z"
   },
   {
    "duration": 46,
    "start_time": "2022-02-11T15:52:17.655Z"
   },
   {
    "duration": 67,
    "start_time": "2022-02-11T15:52:17.710Z"
   },
   {
    "duration": 43,
    "start_time": "2022-02-11T15:52:17.781Z"
   },
   {
    "duration": 67,
    "start_time": "2022-02-11T15:52:17.827Z"
   },
   {
    "duration": 69,
    "start_time": "2022-02-11T15:52:17.897Z"
   },
   {
    "duration": 14,
    "start_time": "2022-02-11T15:52:17.969Z"
   },
   {
    "duration": 24,
    "start_time": "2022-02-11T15:52:17.986Z"
   },
   {
    "duration": 47,
    "start_time": "2022-02-11T15:52:18.013Z"
   },
   {
    "duration": 6,
    "start_time": "2022-02-11T15:52:18.062Z"
   },
   {
    "duration": 36,
    "start_time": "2022-02-11T15:52:18.071Z"
   },
   {
    "duration": 42,
    "start_time": "2022-02-11T15:52:18.109Z"
   },
   {
    "duration": 23,
    "start_time": "2022-02-11T15:52:18.154Z"
   },
   {
    "duration": 25,
    "start_time": "2022-02-11T15:52:18.179Z"
   },
   {
    "duration": 13,
    "start_time": "2022-02-11T15:52:18.207Z"
   },
   {
    "duration": 30,
    "start_time": "2022-02-11T15:52:18.222Z"
   },
   {
    "duration": 18,
    "start_time": "2022-02-11T15:52:18.255Z"
   },
   {
    "duration": 4,
    "start_time": "2022-02-11T15:52:18.276Z"
   },
   {
    "duration": 7,
    "start_time": "2022-02-11T16:30:57.762Z"
   },
   {
    "duration": 6,
    "start_time": "2022-02-11T16:31:06.202Z"
   },
   {
    "duration": 653,
    "start_time": "2022-02-12T05:09:16.273Z"
   },
   {
    "duration": 146,
    "start_time": "2022-02-12T05:09:16.929Z"
   },
   {
    "duration": 23,
    "start_time": "2022-02-12T05:09:17.078Z"
   },
   {
    "duration": 25,
    "start_time": "2022-02-12T05:09:17.103Z"
   },
   {
    "duration": 4,
    "start_time": "2022-02-12T05:09:17.130Z"
   },
   {
    "duration": 26,
    "start_time": "2022-02-12T05:09:17.136Z"
   },
   {
    "duration": 3,
    "start_time": "2022-02-12T05:09:17.164Z"
   },
   {
    "duration": 50,
    "start_time": "2022-02-12T05:09:17.170Z"
   },
   {
    "duration": 19,
    "start_time": "2022-02-12T05:09:17.222Z"
   },
   {
    "duration": 23,
    "start_time": "2022-02-12T05:09:17.243Z"
   },
   {
    "duration": 87,
    "start_time": "2022-02-12T05:09:17.267Z"
   },
   {
    "duration": 77,
    "start_time": "2022-02-12T05:09:17.356Z"
   },
   {
    "duration": 64,
    "start_time": "2022-02-12T05:09:17.435Z"
   },
   {
    "duration": 42,
    "start_time": "2022-02-12T05:09:17.501Z"
   },
   {
    "duration": 3,
    "start_time": "2022-02-12T05:09:17.545Z"
   },
   {
    "duration": 12,
    "start_time": "2022-02-12T05:09:17.550Z"
   },
   {
    "duration": 63,
    "start_time": "2022-02-12T05:09:17.564Z"
   },
   {
    "duration": 22,
    "start_time": "2022-02-12T05:09:17.630Z"
   },
   {
    "duration": 64,
    "start_time": "2022-02-12T05:09:17.654Z"
   },
   {
    "duration": 3,
    "start_time": "2022-02-12T05:09:17.721Z"
   },
   {
    "duration": 36,
    "start_time": "2022-02-12T05:09:17.725Z"
   },
   {
    "duration": 42,
    "start_time": "2022-02-12T05:09:17.762Z"
   },
   {
    "duration": 24,
    "start_time": "2022-02-12T05:09:17.806Z"
   },
   {
    "duration": 22,
    "start_time": "2022-02-12T05:09:17.832Z"
   },
   {
    "duration": 49,
    "start_time": "2022-02-12T05:09:17.856Z"
   },
   {
    "duration": 24,
    "start_time": "2022-02-12T05:09:17.907Z"
   },
   {
    "duration": 7,
    "start_time": "2022-02-12T05:09:17.933Z"
   },
   {
    "duration": 13,
    "start_time": "2022-02-12T05:09:17.942Z"
   },
   {
    "duration": 8,
    "start_time": "2022-02-12T05:09:17.957Z"
   },
   {
    "duration": 34,
    "start_time": "2022-02-12T05:09:17.967Z"
   },
   {
    "duration": 25,
    "start_time": "2022-02-12T05:09:18.003Z"
   },
   {
    "duration": 12,
    "start_time": "2022-02-12T05:09:18.030Z"
   },
   {
    "duration": 17,
    "start_time": "2022-02-12T05:09:18.044Z"
   },
   {
    "duration": 38,
    "start_time": "2022-02-12T05:09:18.062Z"
   },
   {
    "duration": 9,
    "start_time": "2022-02-12T05:09:18.102Z"
   },
   {
    "duration": 3,
    "start_time": "2022-02-12T05:09:18.113Z"
   },
   {
    "duration": 10,
    "start_time": "2022-02-12T05:09:18.118Z"
   },
   {
    "duration": 6,
    "start_time": "2022-02-12T05:09:18.129Z"
   },
   {
    "duration": 3,
    "start_time": "2022-02-12T05:45:16.026Z"
   },
   {
    "duration": 177,
    "start_time": "2022-02-12T05:45:16.031Z"
   },
   {
    "duration": 12,
    "start_time": "2022-02-12T05:45:16.210Z"
   },
   {
    "duration": 51,
    "start_time": "2022-02-12T05:45:16.224Z"
   },
   {
    "duration": 4,
    "start_time": "2022-02-12T05:45:16.567Z"
   },
   {
    "duration": 30,
    "start_time": "2022-02-12T05:45:16.574Z"
   },
   {
    "duration": 5,
    "start_time": "2022-02-12T05:45:16.606Z"
   },
   {
    "duration": 45,
    "start_time": "2022-02-12T05:45:16.613Z"
   },
   {
    "duration": 27,
    "start_time": "2022-02-12T05:45:16.660Z"
   },
   {
    "duration": 34,
    "start_time": "2022-02-12T05:45:16.689Z"
   },
   {
    "duration": 80,
    "start_time": "2022-02-12T05:45:16.727Z"
   },
   {
    "duration": 66,
    "start_time": "2022-02-12T05:45:16.810Z"
   },
   {
    "duration": 68,
    "start_time": "2022-02-12T05:45:16.878Z"
   },
   {
    "duration": 61,
    "start_time": "2022-02-12T05:45:16.949Z"
   },
   {
    "duration": 14,
    "start_time": "2022-02-12T05:45:17.013Z"
   },
   {
    "duration": 29,
    "start_time": "2022-02-12T05:45:17.029Z"
   },
   {
    "duration": 49,
    "start_time": "2022-02-12T05:45:17.060Z"
   },
   {
    "duration": 36,
    "start_time": "2022-02-12T05:45:17.112Z"
   },
   {
    "duration": 48,
    "start_time": "2022-02-12T05:45:17.150Z"
   },
   {
    "duration": 4,
    "start_time": "2022-02-12T05:45:17.200Z"
   },
   {
    "duration": 44,
    "start_time": "2022-02-12T05:45:17.206Z"
   },
   {
    "duration": 30,
    "start_time": "2022-02-12T05:45:17.252Z"
   },
   {
    "duration": 35,
    "start_time": "2022-02-12T05:45:17.285Z"
   },
   {
    "duration": 24,
    "start_time": "2022-02-12T05:45:17.323Z"
   },
   {
    "duration": 52,
    "start_time": "2022-02-12T05:45:17.349Z"
   },
   {
    "duration": 26,
    "start_time": "2022-02-12T05:45:17.403Z"
   },
   {
    "duration": 9,
    "start_time": "2022-02-12T05:45:17.431Z"
   },
   {
    "duration": 33,
    "start_time": "2022-02-12T05:45:17.442Z"
   },
   {
    "duration": 26,
    "start_time": "2022-02-12T05:45:17.477Z"
   },
   {
    "duration": 10,
    "start_time": "2022-02-12T05:45:17.505Z"
   },
   {
    "duration": 40,
    "start_time": "2022-02-12T05:45:17.517Z"
   },
   {
    "duration": 13,
    "start_time": "2022-02-12T05:45:17.559Z"
   },
   {
    "duration": 28,
    "start_time": "2022-02-12T05:45:17.574Z"
   },
   {
    "duration": 14,
    "start_time": "2022-02-12T05:45:17.603Z"
   },
   {
    "duration": 14,
    "start_time": "2022-02-12T05:45:17.619Z"
   },
   {
    "duration": 20,
    "start_time": "2022-02-12T05:45:17.635Z"
   },
   {
    "duration": 28,
    "start_time": "2022-02-12T05:45:17.657Z"
   },
   {
    "duration": 25,
    "start_time": "2022-02-12T05:45:17.687Z"
   },
   {
    "duration": 3,
    "start_time": "2022-02-12T05:47:40.535Z"
   },
   {
    "duration": 185,
    "start_time": "2022-02-12T05:47:40.540Z"
   },
   {
    "duration": 11,
    "start_time": "2022-02-12T05:47:40.727Z"
   },
   {
    "duration": 28,
    "start_time": "2022-02-12T05:47:40.740Z"
   },
   {
    "duration": 4,
    "start_time": "2022-02-12T05:47:40.770Z"
   },
   {
    "duration": 30,
    "start_time": "2022-02-12T05:47:40.775Z"
   },
   {
    "duration": 4,
    "start_time": "2022-02-12T05:47:40.807Z"
   },
   {
    "duration": 28,
    "start_time": "2022-02-12T05:47:40.813Z"
   },
   {
    "duration": 20,
    "start_time": "2022-02-12T05:47:40.842Z"
   },
   {
    "duration": 50,
    "start_time": "2022-02-12T05:47:40.864Z"
   },
   {
    "duration": 62,
    "start_time": "2022-02-12T05:47:40.916Z"
   },
   {
    "duration": 80,
    "start_time": "2022-02-12T05:47:40.980Z"
   },
   {
    "duration": 71,
    "start_time": "2022-02-12T05:47:41.062Z"
   },
   {
    "duration": 43,
    "start_time": "2022-02-12T05:47:41.135Z"
   },
   {
    "duration": 17,
    "start_time": "2022-02-12T05:47:41.181Z"
   },
   {
    "duration": 11,
    "start_time": "2022-02-12T05:47:41.200Z"
   },
   {
    "duration": 48,
    "start_time": "2022-02-12T05:47:41.213Z"
   },
   {
    "duration": 42,
    "start_time": "2022-02-12T05:47:41.263Z"
   },
   {
    "duration": 39,
    "start_time": "2022-02-12T05:47:41.308Z"
   },
   {
    "duration": 4,
    "start_time": "2022-02-12T05:47:41.349Z"
   },
   {
    "duration": 53,
    "start_time": "2022-02-12T05:47:41.355Z"
   },
   {
    "duration": 25,
    "start_time": "2022-02-12T05:47:41.410Z"
   },
   {
    "duration": 26,
    "start_time": "2022-02-12T05:47:41.437Z"
   },
   {
    "duration": 49,
    "start_time": "2022-02-12T05:47:41.465Z"
   },
   {
    "duration": 27,
    "start_time": "2022-02-12T05:47:41.516Z"
   },
   {
    "duration": 25,
    "start_time": "2022-02-12T05:47:41.545Z"
   },
   {
    "duration": 34,
    "start_time": "2022-02-12T05:47:41.572Z"
   },
   {
    "duration": 17,
    "start_time": "2022-02-12T05:47:41.608Z"
   },
   {
    "duration": 12,
    "start_time": "2022-02-12T05:47:41.627Z"
   },
   {
    "duration": 4,
    "start_time": "2022-02-12T05:47:41.641Z"
   },
   {
    "duration": 25,
    "start_time": "2022-02-12T05:47:41.647Z"
   },
   {
    "duration": 34,
    "start_time": "2022-02-12T05:47:41.674Z"
   },
   {
    "duration": 17,
    "start_time": "2022-02-12T05:47:41.710Z"
   },
   {
    "duration": 11,
    "start_time": "2022-02-12T05:47:41.729Z"
   },
   {
    "duration": 9,
    "start_time": "2022-02-12T05:47:41.742Z"
   },
   {
    "duration": 3,
    "start_time": "2022-02-12T05:47:41.753Z"
   },
   {
    "duration": 8,
    "start_time": "2022-02-12T05:47:41.798Z"
   },
   {
    "duration": 9,
    "start_time": "2022-02-12T05:47:41.807Z"
   },
   {
    "duration": 2,
    "start_time": "2022-02-12T05:58:43.432Z"
   },
   {
    "duration": 162,
    "start_time": "2022-02-12T05:58:43.439Z"
   },
   {
    "duration": 11,
    "start_time": "2022-02-12T05:58:43.603Z"
   },
   {
    "duration": 36,
    "start_time": "2022-02-12T05:58:43.617Z"
   },
   {
    "duration": 13,
    "start_time": "2022-02-12T05:58:43.655Z"
   },
   {
    "duration": 28,
    "start_time": "2022-02-12T05:58:43.670Z"
   },
   {
    "duration": 3,
    "start_time": "2022-02-12T05:58:43.700Z"
   },
   {
    "duration": 31,
    "start_time": "2022-02-12T05:58:43.705Z"
   },
   {
    "duration": 46,
    "start_time": "2022-02-12T05:58:43.738Z"
   },
   {
    "duration": 24,
    "start_time": "2022-02-12T05:58:43.786Z"
   },
   {
    "duration": 65,
    "start_time": "2022-02-12T05:58:43.811Z"
   },
   {
    "duration": 82,
    "start_time": "2022-02-12T05:58:43.878Z"
   },
   {
    "duration": 69,
    "start_time": "2022-02-12T05:58:43.961Z"
   },
   {
    "duration": 43,
    "start_time": "2022-02-12T05:58:44.032Z"
   },
   {
    "duration": 3,
    "start_time": "2022-02-12T05:58:44.077Z"
   },
   {
    "duration": 25,
    "start_time": "2022-02-12T05:58:44.082Z"
   },
   {
    "duration": 52,
    "start_time": "2022-02-12T05:58:44.109Z"
   },
   {
    "duration": 37,
    "start_time": "2022-02-12T05:58:44.163Z"
   },
   {
    "duration": 39,
    "start_time": "2022-02-12T05:58:44.202Z"
   },
   {
    "duration": 4,
    "start_time": "2022-02-12T05:58:44.243Z"
   },
   {
    "duration": 56,
    "start_time": "2022-02-12T05:58:44.248Z"
   },
   {
    "duration": 25,
    "start_time": "2022-02-12T05:58:44.306Z"
   },
   {
    "duration": 42,
    "start_time": "2022-02-12T05:58:44.332Z"
   },
   {
    "duration": 29,
    "start_time": "2022-02-12T05:58:44.378Z"
   },
   {
    "duration": 31,
    "start_time": "2022-02-12T05:58:44.409Z"
   },
   {
    "duration": 26,
    "start_time": "2022-02-12T05:58:44.442Z"
   },
   {
    "duration": 9,
    "start_time": "2022-02-12T05:58:44.498Z"
   },
   {
    "duration": 30,
    "start_time": "2022-02-12T05:58:44.509Z"
   },
   {
    "duration": 12,
    "start_time": "2022-02-12T05:58:44.540Z"
   },
   {
    "duration": 11,
    "start_time": "2022-02-12T05:58:44.554Z"
   },
   {
    "duration": 34,
    "start_time": "2022-02-12T05:58:44.566Z"
   },
   {
    "duration": 13,
    "start_time": "2022-02-12T05:58:44.602Z"
   },
   {
    "duration": 23,
    "start_time": "2022-02-12T05:58:44.617Z"
   },
   {
    "duration": 12,
    "start_time": "2022-02-12T05:58:44.641Z"
   },
   {
    "duration": 9,
    "start_time": "2022-02-12T05:58:45.242Z"
   },
   {
    "duration": 4,
    "start_time": "2022-02-12T05:58:45.253Z"
   },
   {
    "duration": 8,
    "start_time": "2022-02-12T05:58:45.259Z"
   },
   {
    "duration": 4,
    "start_time": "2022-02-12T05:58:45.269Z"
   },
   {
    "duration": 593,
    "start_time": "2022-02-12T06:25:58.715Z"
   },
   {
    "duration": 154,
    "start_time": "2022-02-12T06:25:59.310Z"
   },
   {
    "duration": 17,
    "start_time": "2022-02-12T06:25:59.469Z"
   },
   {
    "duration": 36,
    "start_time": "2022-02-12T06:25:59.488Z"
   },
   {
    "duration": 4,
    "start_time": "2022-02-12T06:25:59.526Z"
   },
   {
    "duration": 31,
    "start_time": "2022-02-12T06:25:59.531Z"
   },
   {
    "duration": 4,
    "start_time": "2022-02-12T06:25:59.565Z"
   },
   {
    "duration": 43,
    "start_time": "2022-02-12T06:25:59.571Z"
   },
   {
    "duration": 18,
    "start_time": "2022-02-12T06:25:59.615Z"
   },
   {
    "duration": 25,
    "start_time": "2022-02-12T06:25:59.635Z"
   },
   {
    "duration": 85,
    "start_time": "2022-02-12T06:25:59.661Z"
   },
   {
    "duration": 86,
    "start_time": "2022-02-12T06:25:59.747Z"
   },
   {
    "duration": 54,
    "start_time": "2022-02-12T06:25:59.835Z"
   },
   {
    "duration": 42,
    "start_time": "2022-02-12T06:25:59.899Z"
   },
   {
    "duration": 3,
    "start_time": "2022-02-12T06:25:59.942Z"
   },
   {
    "duration": 13,
    "start_time": "2022-02-12T06:25:59.947Z"
   },
   {
    "duration": 65,
    "start_time": "2022-02-12T06:25:59.962Z"
   },
   {
    "duration": 24,
    "start_time": "2022-02-12T06:26:00.029Z"
   },
   {
    "duration": 58,
    "start_time": "2022-02-12T06:26:00.055Z"
   },
   {
    "duration": 3,
    "start_time": "2022-02-12T06:26:00.116Z"
   },
   {
    "duration": 39,
    "start_time": "2022-02-12T06:26:00.121Z"
   },
   {
    "duration": 41,
    "start_time": "2022-02-12T06:26:00.164Z"
   },
   {
    "duration": 25,
    "start_time": "2022-02-12T06:26:00.207Z"
   },
   {
    "duration": 25,
    "start_time": "2022-02-12T06:26:00.234Z"
   },
   {
    "duration": 56,
    "start_time": "2022-02-12T06:26:00.260Z"
   },
   {
    "duration": 26,
    "start_time": "2022-02-12T06:26:00.318Z"
   },
   {
    "duration": 8,
    "start_time": "2022-02-12T06:26:00.346Z"
   },
   {
    "duration": 26,
    "start_time": "2022-02-12T06:26:00.356Z"
   },
   {
    "duration": 18,
    "start_time": "2022-02-12T06:26:00.384Z"
   },
   {
    "duration": 15,
    "start_time": "2022-02-12T06:26:00.404Z"
   },
   {
    "duration": 46,
    "start_time": "2022-02-12T06:26:00.420Z"
   },
   {
    "duration": 14,
    "start_time": "2022-02-12T06:26:00.468Z"
   },
   {
    "duration": 26,
    "start_time": "2022-02-12T06:26:00.485Z"
   },
   {
    "duration": 21,
    "start_time": "2022-02-12T06:26:00.513Z"
   },
   {
    "duration": 14,
    "start_time": "2022-02-12T06:26:00.535Z"
   },
   {
    "duration": 21,
    "start_time": "2022-02-12T06:26:00.550Z"
   },
   {
    "duration": 13,
    "start_time": "2022-02-12T06:26:00.573Z"
   },
   {
    "duration": 13,
    "start_time": "2022-02-12T06:26:00.588Z"
   },
   {
    "duration": 63,
    "start_time": "2022-02-12T06:46:25.188Z"
   },
   {
    "duration": 64,
    "start_time": "2022-02-12T06:46:30.966Z"
   },
   {
    "duration": 65,
    "start_time": "2022-02-12T06:53:21.797Z"
   },
   {
    "duration": 55,
    "start_time": "2022-02-12T07:09:54.421Z"
   },
   {
    "duration": 4,
    "start_time": "2022-02-12T07:11:03.293Z"
   },
   {
    "duration": 783,
    "start_time": "2022-02-16T07:42:03.026Z"
   },
   {
    "duration": 190,
    "start_time": "2022-02-16T07:42:03.812Z"
   },
   {
    "duration": 33,
    "start_time": "2022-02-16T07:42:04.005Z"
   },
   {
    "duration": 36,
    "start_time": "2022-02-16T07:42:04.041Z"
   },
   {
    "duration": 5,
    "start_time": "2022-02-16T07:42:04.081Z"
   },
   {
    "duration": 52,
    "start_time": "2022-02-16T07:42:04.089Z"
   },
   {
    "duration": 8,
    "start_time": "2022-02-16T07:42:04.144Z"
   },
   {
    "duration": 29,
    "start_time": "2022-02-16T07:42:04.156Z"
   },
   {
    "duration": 52,
    "start_time": "2022-02-16T07:42:04.189Z"
   },
   {
    "duration": 30,
    "start_time": "2022-02-16T07:42:04.243Z"
   },
   {
    "duration": 106,
    "start_time": "2022-02-16T07:42:04.275Z"
   },
   {
    "duration": 107,
    "start_time": "2022-02-16T07:42:04.384Z"
   },
   {
    "duration": 85,
    "start_time": "2022-02-16T07:42:04.493Z"
   },
   {
    "duration": 62,
    "start_time": "2022-02-16T07:42:04.580Z"
   },
   {
    "duration": 4,
    "start_time": "2022-02-16T07:42:04.644Z"
   },
   {
    "duration": 17,
    "start_time": "2022-02-16T07:42:04.650Z"
   },
   {
    "duration": 82,
    "start_time": "2022-02-16T07:42:04.670Z"
   },
   {
    "duration": 30,
    "start_time": "2022-02-16T07:42:04.755Z"
   },
   {
    "duration": 77,
    "start_time": "2022-02-16T07:42:04.787Z"
   },
   {
    "duration": 5,
    "start_time": "2022-02-16T07:42:04.866Z"
   },
   {
    "duration": 66,
    "start_time": "2022-02-16T07:42:04.874Z"
   },
   {
    "duration": 31,
    "start_time": "2022-02-16T07:42:04.942Z"
   },
   {
    "duration": 50,
    "start_time": "2022-02-16T07:42:04.978Z"
   },
   {
    "duration": 29,
    "start_time": "2022-02-16T07:42:05.031Z"
   },
   {
    "duration": 35,
    "start_time": "2022-02-16T07:42:05.062Z"
   },
   {
    "duration": 33,
    "start_time": "2022-02-16T07:42:05.124Z"
   },
   {
    "duration": 12,
    "start_time": "2022-02-16T07:42:05.159Z"
   },
   {
    "duration": 20,
    "start_time": "2022-02-16T07:42:05.174Z"
   },
   {
    "duration": 13,
    "start_time": "2022-02-16T07:42:05.223Z"
   },
   {
    "duration": 7,
    "start_time": "2022-02-16T07:42:05.238Z"
   },
   {
    "duration": 29,
    "start_time": "2022-02-16T07:42:05.248Z"
   },
   {
    "duration": 48,
    "start_time": "2022-02-16T07:42:05.280Z"
   },
   {
    "duration": 22,
    "start_time": "2022-02-16T07:42:05.331Z"
   },
   {
    "duration": 17,
    "start_time": "2022-02-16T07:42:05.355Z"
   },
   {
    "duration": 11,
    "start_time": "2022-02-16T07:42:05.374Z"
   },
   {
    "duration": 37,
    "start_time": "2022-02-16T07:42:05.388Z"
   },
   {
    "duration": 13,
    "start_time": "2022-02-16T07:42:05.428Z"
   },
   {
    "duration": 6,
    "start_time": "2022-02-16T07:42:05.443Z"
   },
   {
    "duration": 3,
    "start_time": "2022-02-16T07:44:20.067Z"
   },
   {
    "duration": 189,
    "start_time": "2022-02-16T07:44:20.074Z"
   },
   {
    "duration": 16,
    "start_time": "2022-02-16T07:44:20.267Z"
   },
   {
    "duration": 57,
    "start_time": "2022-02-16T07:44:20.286Z"
   },
   {
    "duration": 4,
    "start_time": "2022-02-16T07:44:20.345Z"
   },
   {
    "duration": 17,
    "start_time": "2022-02-16T07:44:20.352Z"
   },
   {
    "duration": 4,
    "start_time": "2022-02-16T07:44:20.372Z"
   },
   {
    "duration": 67,
    "start_time": "2022-02-16T07:44:20.379Z"
   },
   {
    "duration": 23,
    "start_time": "2022-02-16T07:44:20.450Z"
   },
   {
    "duration": 48,
    "start_time": "2022-02-16T07:44:20.476Z"
   },
   {
    "duration": 76,
    "start_time": "2022-02-16T07:44:20.527Z"
   },
   {
    "duration": 99,
    "start_time": "2022-02-16T07:44:20.605Z"
   },
   {
    "duration": 79,
    "start_time": "2022-02-16T07:44:20.707Z"
   },
   {
    "duration": 70,
    "start_time": "2022-02-16T07:44:20.789Z"
   },
   {
    "duration": 4,
    "start_time": "2022-02-16T07:44:20.861Z"
   },
   {
    "duration": 18,
    "start_time": "2022-02-16T07:44:20.868Z"
   },
   {
    "duration": 70,
    "start_time": "2022-02-16T07:44:20.888Z"
   },
   {
    "duration": 32,
    "start_time": "2022-02-16T07:44:20.961Z"
   },
   {
    "duration": 70,
    "start_time": "2022-02-16T07:44:20.996Z"
   },
   {
    "duration": 5,
    "start_time": "2022-02-16T07:44:21.068Z"
   },
   {
    "duration": 66,
    "start_time": "2022-02-16T07:44:21.076Z"
   },
   {
    "duration": 33,
    "start_time": "2022-02-16T07:44:21.145Z"
   },
   {
    "duration": 63,
    "start_time": "2022-02-16T07:44:21.181Z"
   },
   {
    "duration": 29,
    "start_time": "2022-02-16T07:44:21.247Z"
   },
   {
    "duration": 57,
    "start_time": "2022-02-16T07:44:21.278Z"
   },
   {
    "duration": 31,
    "start_time": "2022-02-16T07:44:21.338Z"
   },
   {
    "duration": 12,
    "start_time": "2022-02-16T07:44:21.374Z"
   },
   {
    "duration": 44,
    "start_time": "2022-02-16T07:44:21.389Z"
   },
   {
    "duration": 14,
    "start_time": "2022-02-16T07:44:21.435Z"
   },
   {
    "duration": 6,
    "start_time": "2022-02-16T07:44:21.451Z"
   },
   {
    "duration": 30,
    "start_time": "2022-02-16T07:44:21.459Z"
   },
   {
    "duration": 48,
    "start_time": "2022-02-16T07:44:21.491Z"
   },
   {
    "duration": 22,
    "start_time": "2022-02-16T07:44:21.541Z"
   },
   {
    "duration": 16,
    "start_time": "2022-02-16T07:44:21.565Z"
   },
   {
    "duration": 49,
    "start_time": "2022-02-16T07:44:21.583Z"
   },
   {
    "duration": 5,
    "start_time": "2022-02-16T07:44:21.634Z"
   },
   {
    "duration": 9,
    "start_time": "2022-02-16T07:44:21.641Z"
   },
   {
    "duration": 5,
    "start_time": "2022-02-16T07:44:21.653Z"
   },
   {
    "duration": 4,
    "start_time": "2022-02-16T07:51:41.327Z"
   },
   {
    "duration": 205,
    "start_time": "2022-02-16T07:51:41.334Z"
   },
   {
    "duration": 15,
    "start_time": "2022-02-16T07:51:41.542Z"
   },
   {
    "duration": 31,
    "start_time": "2022-02-16T07:51:41.560Z"
   },
   {
    "duration": 34,
    "start_time": "2022-02-16T07:51:41.593Z"
   },
   {
    "duration": 24,
    "start_time": "2022-02-16T07:51:41.629Z"
   },
   {
    "duration": 4,
    "start_time": "2022-02-16T07:51:41.657Z"
   },
   {
    "duration": 72,
    "start_time": "2022-02-16T07:51:41.664Z"
   },
   {
    "duration": 30,
    "start_time": "2022-02-16T07:51:41.738Z"
   },
   {
    "duration": 36,
    "start_time": "2022-02-16T07:51:41.771Z"
   },
   {
    "duration": 89,
    "start_time": "2022-02-16T07:51:41.809Z"
   },
   {
    "duration": 102,
    "start_time": "2022-02-16T07:51:41.901Z"
   },
   {
    "duration": 85,
    "start_time": "2022-02-16T07:51:42.005Z"
   },
   {
    "duration": 69,
    "start_time": "2022-02-16T07:51:42.093Z"
   },
   {
    "duration": 16,
    "start_time": "2022-02-16T07:51:42.164Z"
   },
   {
    "duration": 16,
    "start_time": "2022-02-16T07:51:42.183Z"
   },
   {
    "duration": 67,
    "start_time": "2022-02-16T07:51:42.201Z"
   },
   {
    "duration": 33,
    "start_time": "2022-02-16T07:51:42.270Z"
   },
   {
    "duration": 44,
    "start_time": "2022-02-16T07:51:42.324Z"
   },
   {
    "duration": 4,
    "start_time": "2022-02-16T07:51:42.371Z"
   },
   {
    "duration": 60,
    "start_time": "2022-02-16T07:51:42.377Z"
   },
   {
    "duration": 30,
    "start_time": "2022-02-16T07:51:42.439Z"
   },
   {
    "duration": 52,
    "start_time": "2022-02-16T07:51:42.471Z"
   },
   {
    "duration": 28,
    "start_time": "2022-02-16T07:51:42.526Z"
   },
   {
    "duration": 36,
    "start_time": "2022-02-16T07:51:42.557Z"
   },
   {
    "duration": 58,
    "start_time": "2022-02-16T07:51:42.595Z"
   },
   {
    "duration": 12,
    "start_time": "2022-02-16T07:51:42.657Z"
   },
   {
    "duration": 26,
    "start_time": "2022-02-16T07:51:42.672Z"
   },
   {
    "duration": 34,
    "start_time": "2022-02-16T07:51:42.701Z"
   },
   {
    "duration": 6,
    "start_time": "2022-02-16T07:51:42.737Z"
   },
   {
    "duration": 32,
    "start_time": "2022-02-16T07:51:42.745Z"
   },
   {
    "duration": 43,
    "start_time": "2022-02-16T07:51:42.780Z"
   },
   {
    "duration": 24,
    "start_time": "2022-02-16T07:51:42.825Z"
   },
   {
    "duration": 16,
    "start_time": "2022-02-16T07:51:42.851Z"
   },
   {
    "duration": 13,
    "start_time": "2022-02-16T07:51:42.869Z"
   },
   {
    "duration": 41,
    "start_time": "2022-02-16T07:51:42.885Z"
   },
   {
    "duration": 13,
    "start_time": "2022-02-16T07:51:42.929Z"
   },
   {
    "duration": 16,
    "start_time": "2022-02-16T07:51:42.944Z"
   },
   {
    "duration": 3,
    "start_time": "2022-02-16T07:53:54.067Z"
   },
   {
    "duration": 185,
    "start_time": "2022-02-16T07:53:54.082Z"
   },
   {
    "duration": 18,
    "start_time": "2022-02-16T07:53:54.270Z"
   },
   {
    "duration": 62,
    "start_time": "2022-02-16T07:53:54.292Z"
   },
   {
    "duration": 6,
    "start_time": "2022-02-16T07:53:54.358Z"
   },
   {
    "duration": 59,
    "start_time": "2022-02-16T07:53:54.367Z"
   },
   {
    "duration": 6,
    "start_time": "2022-02-16T07:53:54.428Z"
   },
   {
    "duration": 35,
    "start_time": "2022-02-16T07:53:54.437Z"
   },
   {
    "duration": 56,
    "start_time": "2022-02-16T07:53:54.475Z"
   },
   {
    "duration": 30,
    "start_time": "2022-02-16T07:53:54.536Z"
   },
   {
    "duration": 103,
    "start_time": "2022-02-16T07:53:54.570Z"
   },
   {
    "duration": 107,
    "start_time": "2022-02-16T07:53:54.676Z"
   },
   {
    "duration": 80,
    "start_time": "2022-02-16T07:53:54.786Z"
   },
   {
    "duration": 61,
    "start_time": "2022-02-16T07:53:54.868Z"
   },
   {
    "duration": 4,
    "start_time": "2022-02-16T07:53:54.932Z"
   },
   {
    "duration": 14,
    "start_time": "2022-02-16T07:53:54.939Z"
   },
   {
    "duration": 83,
    "start_time": "2022-02-16T07:53:54.955Z"
   },
   {
    "duration": 33,
    "start_time": "2022-02-16T07:53:55.041Z"
   },
   {
    "duration": 81,
    "start_time": "2022-02-16T07:53:55.077Z"
   },
   {
    "duration": 6,
    "start_time": "2022-02-16T07:53:55.161Z"
   },
   {
    "duration": 29,
    "start_time": "2022-02-16T07:53:55.169Z"
   },
   {
    "duration": 35,
    "start_time": "2022-02-16T07:53:55.200Z"
   },
   {
    "duration": 19,
    "start_time": "2022-02-16T07:53:55.237Z"
   },
   {
    "duration": 17,
    "start_time": "2022-02-16T07:53:55.258Z"
   },
   {
    "duration": 56,
    "start_time": "2022-02-16T07:53:55.277Z"
   },
   {
    "duration": 19,
    "start_time": "2022-02-16T07:53:55.335Z"
   },
   {
    "duration": 11,
    "start_time": "2022-02-16T07:53:55.356Z"
   },
   {
    "duration": 17,
    "start_time": "2022-02-16T07:53:55.371Z"
   },
   {
    "duration": 41,
    "start_time": "2022-02-16T07:53:55.390Z"
   },
   {
    "duration": 6,
    "start_time": "2022-02-16T07:53:55.434Z"
   },
   {
    "duration": 26,
    "start_time": "2022-02-16T07:53:55.442Z"
   },
   {
    "duration": 14,
    "start_time": "2022-02-16T07:53:55.471Z"
   },
   {
    "duration": 53,
    "start_time": "2022-02-16T07:53:55.487Z"
   },
   {
    "duration": 15,
    "start_time": "2022-02-16T07:53:55.543Z"
   },
   {
    "duration": 11,
    "start_time": "2022-02-16T07:53:55.560Z"
   },
   {
    "duration": 5,
    "start_time": "2022-02-16T07:53:55.573Z"
   },
   {
    "duration": 46,
    "start_time": "2022-02-16T07:53:55.580Z"
   },
   {
    "duration": 5,
    "start_time": "2022-02-16T07:53:55.628Z"
   },
   {
    "duration": 97,
    "start_time": "2022-02-16T08:14:59.896Z"
   },
   {
    "duration": 71,
    "start_time": "2022-02-16T08:15:09.191Z"
   },
   {
    "duration": 71,
    "start_time": "2022-02-16T08:15:31.167Z"
   },
   {
    "duration": 40,
    "start_time": "2022-02-16T08:17:04.215Z"
   },
   {
    "duration": 87,
    "start_time": "2022-02-16T08:21:30.735Z"
   },
   {
    "duration": 789,
    "start_time": "2022-02-17T01:46:05.439Z"
   },
   {
    "duration": 214,
    "start_time": "2022-02-17T01:46:06.230Z"
   },
   {
    "duration": 26,
    "start_time": "2022-02-17T01:46:06.447Z"
   },
   {
    "duration": 57,
    "start_time": "2022-02-17T01:46:06.475Z"
   },
   {
    "duration": 5,
    "start_time": "2022-02-17T01:46:06.535Z"
   },
   {
    "duration": 22,
    "start_time": "2022-02-17T01:46:06.543Z"
   },
   {
    "duration": 7,
    "start_time": "2022-02-17T01:46:06.567Z"
   },
   {
    "duration": 33,
    "start_time": "2022-02-17T01:46:06.608Z"
   },
   {
    "duration": 20,
    "start_time": "2022-02-17T01:46:06.643Z"
   },
   {
    "duration": 25,
    "start_time": "2022-02-17T01:46:06.665Z"
   },
   {
    "duration": 69,
    "start_time": "2022-02-17T01:46:06.708Z"
   },
   {
    "duration": 99,
    "start_time": "2022-02-17T01:46:06.779Z"
   },
   {
    "duration": 64,
    "start_time": "2022-02-17T01:46:06.880Z"
   },
   {
    "duration": 44,
    "start_time": "2022-02-17T01:46:06.946Z"
   },
   {
    "duration": 15,
    "start_time": "2022-02-17T01:46:06.992Z"
   },
   {
    "duration": 11,
    "start_time": "2022-02-17T01:46:07.010Z"
   },
   {
    "duration": 51,
    "start_time": "2022-02-17T01:46:07.023Z"
   },
   {
    "duration": 35,
    "start_time": "2022-02-17T01:46:07.076Z"
   },
   {
    "duration": 40,
    "start_time": "2022-02-17T01:46:07.112Z"
   },
   {
    "duration": 4,
    "start_time": "2022-02-17T01:46:07.155Z"
   },
   {
    "duration": 48,
    "start_time": "2022-02-17T01:46:07.161Z"
   },
   {
    "duration": 18,
    "start_time": "2022-02-17T01:46:07.211Z"
   },
   {
    "duration": 17,
    "start_time": "2022-02-17T01:46:07.233Z"
   },
   {
    "duration": 16,
    "start_time": "2022-02-17T01:46:07.252Z"
   },
   {
    "duration": 50,
    "start_time": "2022-02-17T01:46:07.270Z"
   },
   {
    "duration": 19,
    "start_time": "2022-02-17T01:46:07.322Z"
   },
   {
    "duration": 91,
    "start_time": "2022-02-17T01:46:07.343Z"
   },
   {
    "duration": -4824,
    "start_time": "2022-02-17T01:46:12.261Z"
   },
   {
    "duration": -4830,
    "start_time": "2022-02-17T01:46:12.268Z"
   },
   {
    "duration": -4836,
    "start_time": "2022-02-17T01:46:12.276Z"
   },
   {
    "duration": -4849,
    "start_time": "2022-02-17T01:46:12.290Z"
   },
   {
    "duration": -4859,
    "start_time": "2022-02-17T01:46:12.301Z"
   },
   {
    "duration": -4865,
    "start_time": "2022-02-17T01:46:12.309Z"
   },
   {
    "duration": -4889,
    "start_time": "2022-02-17T01:46:12.334Z"
   },
   {
    "duration": -4898,
    "start_time": "2022-02-17T01:46:12.344Z"
   },
   {
    "duration": -4929,
    "start_time": "2022-02-17T01:46:12.376Z"
   },
   {
    "duration": -4933,
    "start_time": "2022-02-17T01:46:12.382Z"
   },
   {
    "duration": -4940,
    "start_time": "2022-02-17T01:46:12.390Z"
   },
   {
    "duration": 6,
    "start_time": "2022-02-17T01:46:47.131Z"
   },
   {
    "duration": 10,
    "start_time": "2022-02-17T01:47:00.348Z"
   },
   {
    "duration": 3,
    "start_time": "2022-02-17T01:47:49.806Z"
   },
   {
    "duration": 161,
    "start_time": "2022-02-17T01:47:49.811Z"
   },
   {
    "duration": 11,
    "start_time": "2022-02-17T01:47:49.974Z"
   },
   {
    "duration": 27,
    "start_time": "2022-02-17T01:47:50.007Z"
   },
   {
    "duration": 5,
    "start_time": "2022-02-17T01:47:50.037Z"
   },
   {
    "duration": 24,
    "start_time": "2022-02-17T01:47:50.045Z"
   },
   {
    "duration": 38,
    "start_time": "2022-02-17T01:47:50.072Z"
   },
   {
    "duration": 35,
    "start_time": "2022-02-17T01:47:50.114Z"
   },
   {
    "duration": 21,
    "start_time": "2022-02-17T01:47:50.152Z"
   },
   {
    "duration": 43,
    "start_time": "2022-02-17T01:47:50.175Z"
   },
   {
    "duration": 67,
    "start_time": "2022-02-17T01:47:50.220Z"
   },
   {
    "duration": 72,
    "start_time": "2022-02-17T01:47:50.308Z"
   },
   {
    "duration": 75,
    "start_time": "2022-02-17T01:47:50.382Z"
   },
   {
    "duration": 54,
    "start_time": "2022-02-17T01:47:50.459Z"
   },
   {
    "duration": 3,
    "start_time": "2022-02-17T01:47:50.515Z"
   },
   {
    "duration": 17,
    "start_time": "2022-02-17T01:47:50.520Z"
   },
   {
    "duration": 50,
    "start_time": "2022-02-17T01:47:50.540Z"
   },
   {
    "duration": 14,
    "start_time": "2022-02-17T01:47:50.608Z"
   },
   {
    "duration": 39,
    "start_time": "2022-02-17T01:47:50.624Z"
   },
   {
    "duration": 4,
    "start_time": "2022-02-17T01:47:50.665Z"
   },
   {
    "duration": 47,
    "start_time": "2022-02-17T01:47:50.671Z"
   },
   {
    "duration": 18,
    "start_time": "2022-02-17T01:47:50.720Z"
   },
   {
    "duration": 17,
    "start_time": "2022-02-17T01:47:50.741Z"
   },
   {
    "duration": 46,
    "start_time": "2022-02-17T01:47:50.761Z"
   },
   {
    "duration": 20,
    "start_time": "2022-02-17T01:47:50.809Z"
   },
   {
    "duration": 18,
    "start_time": "2022-02-17T01:47:50.831Z"
   },
   {
    "duration": 10,
    "start_time": "2022-02-17T01:47:50.851Z"
   },
   {
    "duration": 21,
    "start_time": "2022-02-17T01:47:50.863Z"
   },
   {
    "duration": 19,
    "start_time": "2022-02-17T01:47:50.908Z"
   },
   {
    "duration": 9,
    "start_time": "2022-02-17T01:47:50.929Z"
   },
   {
    "duration": 39,
    "start_time": "2022-02-17T01:47:50.940Z"
   },
   {
    "duration": 31,
    "start_time": "2022-02-17T01:47:50.981Z"
   },
   {
    "duration": 28,
    "start_time": "2022-02-17T01:47:51.014Z"
   },
   {
    "duration": 19,
    "start_time": "2022-02-17T01:47:51.045Z"
   },
   {
    "duration": 44,
    "start_time": "2022-02-17T01:47:51.066Z"
   },
   {
    "duration": 7,
    "start_time": "2022-02-17T01:47:51.112Z"
   },
   {
    "duration": 21,
    "start_time": "2022-02-17T01:47:51.121Z"
   },
   {
    "duration": 5,
    "start_time": "2022-02-17T01:47:51.144Z"
   },
   {
    "duration": 3,
    "start_time": "2022-02-17T01:48:36.616Z"
   },
   {
    "duration": 159,
    "start_time": "2022-02-17T01:48:36.624Z"
   },
   {
    "duration": 32,
    "start_time": "2022-02-17T01:48:36.786Z"
   },
   {
    "duration": 33,
    "start_time": "2022-02-17T01:48:36.820Z"
   },
   {
    "duration": 14,
    "start_time": "2022-02-17T01:48:36.855Z"
   },
   {
    "duration": 39,
    "start_time": "2022-02-17T01:48:36.872Z"
   },
   {
    "duration": 4,
    "start_time": "2022-02-17T01:48:36.913Z"
   },
   {
    "duration": 32,
    "start_time": "2022-02-17T01:48:36.919Z"
   },
   {
    "duration": 22,
    "start_time": "2022-02-17T01:48:36.955Z"
   },
   {
    "duration": 46,
    "start_time": "2022-02-17T01:48:36.979Z"
   },
   {
    "duration": 83,
    "start_time": "2022-02-17T01:48:37.027Z"
   },
   {
    "duration": 72,
    "start_time": "2022-02-17T01:48:37.111Z"
   },
   {
    "duration": 71,
    "start_time": "2022-02-17T01:48:37.186Z"
   },
   {
    "duration": 62,
    "start_time": "2022-02-17T01:48:37.259Z"
   },
   {
    "duration": 7,
    "start_time": "2022-02-17T01:48:37.323Z"
   },
   {
    "duration": 14,
    "start_time": "2022-02-17T01:48:37.332Z"
   },
   {
    "duration": 62,
    "start_time": "2022-02-17T01:48:37.348Z"
   },
   {
    "duration": 13,
    "start_time": "2022-02-17T01:48:37.412Z"
   },
   {
    "duration": 39,
    "start_time": "2022-02-17T01:48:37.427Z"
   },
   {
    "duration": 4,
    "start_time": "2022-02-17T01:48:37.468Z"
   },
   {
    "duration": 48,
    "start_time": "2022-02-17T01:48:37.473Z"
   },
   {
    "duration": 17,
    "start_time": "2022-02-17T01:48:37.523Z"
   },
   {
    "duration": 18,
    "start_time": "2022-02-17T01:48:37.543Z"
   },
   {
    "duration": 53,
    "start_time": "2022-02-17T01:48:37.565Z"
   },
   {
    "duration": 21,
    "start_time": "2022-02-17T01:48:37.620Z"
   },
   {
    "duration": 18,
    "start_time": "2022-02-17T01:48:37.643Z"
   },
   {
    "duration": 10,
    "start_time": "2022-02-17T01:48:37.663Z"
   },
   {
    "duration": 15,
    "start_time": "2022-02-17T01:48:37.708Z"
   },
   {
    "duration": 12,
    "start_time": "2022-02-17T01:48:37.725Z"
   },
   {
    "duration": 5,
    "start_time": "2022-02-17T01:48:37.740Z"
   },
   {
    "duration": 30,
    "start_time": "2022-02-17T01:48:37.748Z"
   },
   {
    "duration": 16,
    "start_time": "2022-02-17T01:48:37.808Z"
   },
   {
    "duration": 21,
    "start_time": "2022-02-17T01:48:37.827Z"
   },
   {
    "duration": 15,
    "start_time": "2022-02-17T01:48:37.850Z"
   },
   {
    "duration": 42,
    "start_time": "2022-02-17T01:48:37.867Z"
   },
   {
    "duration": 5,
    "start_time": "2022-02-17T01:48:37.911Z"
   },
   {
    "duration": 14,
    "start_time": "2022-02-17T01:48:37.919Z"
   },
   {
    "duration": 6,
    "start_time": "2022-02-17T01:48:37.935Z"
   },
   {
    "duration": 3,
    "start_time": "2022-02-17T01:50:45.993Z"
   },
   {
    "duration": 190,
    "start_time": "2022-02-17T01:50:45.999Z"
   },
   {
    "duration": 24,
    "start_time": "2022-02-17T01:50:46.192Z"
   },
   {
    "duration": 31,
    "start_time": "2022-02-17T01:50:46.218Z"
   },
   {
    "duration": 4,
    "start_time": "2022-02-17T01:50:46.251Z"
   },
   {
    "duration": 20,
    "start_time": "2022-02-17T01:50:46.256Z"
   },
   {
    "duration": 31,
    "start_time": "2022-02-17T01:50:46.278Z"
   },
   {
    "duration": 30,
    "start_time": "2022-02-17T01:50:46.311Z"
   },
   {
    "duration": 18,
    "start_time": "2022-02-17T01:50:46.344Z"
   },
   {
    "duration": 49,
    "start_time": "2022-02-17T01:50:46.365Z"
   },
   {
    "duration": 70,
    "start_time": "2022-02-17T01:50:46.417Z"
   },
   {
    "duration": 85,
    "start_time": "2022-02-17T01:50:46.489Z"
   },
   {
    "duration": 74,
    "start_time": "2022-02-17T01:50:46.576Z"
   },
   {
    "duration": 56,
    "start_time": "2022-02-17T01:50:46.652Z"
   },
   {
    "duration": 4,
    "start_time": "2022-02-17T01:50:46.711Z"
   },
   {
    "duration": 17,
    "start_time": "2022-02-17T01:50:46.717Z"
   },
   {
    "duration": 47,
    "start_time": "2022-02-17T01:50:46.736Z"
   },
   {
    "duration": 13,
    "start_time": "2022-02-17T01:50:46.807Z"
   },
   {
    "duration": 36,
    "start_time": "2022-02-17T01:50:46.823Z"
   },
   {
    "duration": 5,
    "start_time": "2022-02-17T01:50:46.861Z"
   },
   {
    "duration": 59,
    "start_time": "2022-02-17T01:50:46.868Z"
   },
   {
    "duration": 17,
    "start_time": "2022-02-17T01:50:46.929Z"
   },
   {
    "duration": 18,
    "start_time": "2022-02-17T01:50:46.948Z"
   },
   {
    "duration": 48,
    "start_time": "2022-02-17T01:50:46.968Z"
   },
   {
    "duration": 22,
    "start_time": "2022-02-17T01:50:47.018Z"
   },
   {
    "duration": 18,
    "start_time": "2022-02-17T01:50:47.042Z"
   },
   {
    "duration": 44,
    "start_time": "2022-02-17T01:50:47.065Z"
   },
   {
    "duration": 17,
    "start_time": "2022-02-17T01:50:47.112Z"
   },
   {
    "duration": 15,
    "start_time": "2022-02-17T01:50:47.132Z"
   },
   {
    "duration": 5,
    "start_time": "2022-02-17T01:50:47.150Z"
   },
   {
    "duration": 60,
    "start_time": "2022-02-17T01:50:47.158Z"
   },
   {
    "duration": 20,
    "start_time": "2022-02-17T01:50:47.220Z"
   },
   {
    "duration": 26,
    "start_time": "2022-02-17T01:50:47.242Z"
   },
   {
    "duration": 43,
    "start_time": "2022-02-17T01:50:47.271Z"
   },
   {
    "duration": 14,
    "start_time": "2022-02-17T01:50:47.316Z"
   },
   {
    "duration": 6,
    "start_time": "2022-02-17T01:50:47.332Z"
   },
   {
    "duration": 10,
    "start_time": "2022-02-17T01:50:47.340Z"
   },
   {
    "duration": 6,
    "start_time": "2022-02-17T01:50:47.352Z"
   },
   {
    "duration": 5,
    "start_time": "2022-02-17T01:53:29.572Z"
   },
   {
    "duration": 5,
    "start_time": "2022-02-17T01:53:44.991Z"
   },
   {
    "duration": 13,
    "start_time": "2022-02-17T01:54:05.612Z"
   },
   {
    "duration": 12,
    "start_time": "2022-02-17T01:54:30.352Z"
   },
   {
    "duration": 35,
    "start_time": "2022-02-17T01:54:45.332Z"
   },
   {
    "duration": 13,
    "start_time": "2022-02-17T01:55:48.575Z"
   },
   {
    "duration": 13,
    "start_time": "2022-02-17T01:56:45.536Z"
   },
   {
    "duration": 3,
    "start_time": "2022-02-17T01:59:16.325Z"
   },
   {
    "duration": 159,
    "start_time": "2022-02-17T01:59:16.330Z"
   },
   {
    "duration": 25,
    "start_time": "2022-02-17T01:59:16.492Z"
   },
   {
    "duration": 28,
    "start_time": "2022-02-17T01:59:16.520Z"
   },
   {
    "duration": 6,
    "start_time": "2022-02-17T01:59:16.550Z"
   },
   {
    "duration": 51,
    "start_time": "2022-02-17T01:59:16.558Z"
   },
   {
    "duration": 4,
    "start_time": "2022-02-17T01:59:16.612Z"
   },
   {
    "duration": 43,
    "start_time": "2022-02-17T01:59:16.618Z"
   },
   {
    "duration": 53,
    "start_time": "2022-02-17T01:59:16.665Z"
   },
   {
    "duration": 40,
    "start_time": "2022-02-17T01:59:16.722Z"
   },
   {
    "duration": 109,
    "start_time": "2022-02-17T01:59:16.764Z"
   },
   {
    "duration": 107,
    "start_time": "2022-02-17T01:59:16.875Z"
   },
   {
    "duration": 84,
    "start_time": "2022-02-17T01:59:16.984Z"
   },
   {
    "duration": 75,
    "start_time": "2022-02-17T01:59:17.070Z"
   },
   {
    "duration": 8,
    "start_time": "2022-02-17T01:59:17.147Z"
   },
   {
    "duration": 17,
    "start_time": "2022-02-17T01:59:17.157Z"
   },
   {
    "duration": 61,
    "start_time": "2022-02-17T01:59:17.176Z"
   },
   {
    "duration": 13,
    "start_time": "2022-02-17T01:59:17.239Z"
   },
   {
    "duration": 12,
    "start_time": "2022-02-17T01:59:17.255Z"
   },
   {
    "duration": 4,
    "start_time": "2022-02-17T01:59:17.269Z"
   },
   {
    "duration": 50,
    "start_time": "2022-02-17T01:59:17.275Z"
   },
   {
    "duration": 17,
    "start_time": "2022-02-17T01:59:17.327Z"
   },
   {
    "duration": 18,
    "start_time": "2022-02-17T01:59:17.346Z"
   },
   {
    "duration": 46,
    "start_time": "2022-02-17T01:59:17.366Z"
   },
   {
    "duration": 19,
    "start_time": "2022-02-17T01:59:17.414Z"
   },
   {
    "duration": 18,
    "start_time": "2022-02-17T01:59:17.435Z"
   },
   {
    "duration": 9,
    "start_time": "2022-02-17T01:59:17.457Z"
   },
   {
    "duration": 45,
    "start_time": "2022-02-17T01:59:17.468Z"
   },
   {
    "duration": 11,
    "start_time": "2022-02-17T01:59:17.515Z"
   },
   {
    "duration": 4,
    "start_time": "2022-02-17T01:59:17.528Z"
   },
   {
    "duration": 32,
    "start_time": "2022-02-17T01:59:17.534Z"
   },
   {
    "duration": 14,
    "start_time": "2022-02-17T01:59:17.568Z"
   },
   {
    "duration": 40,
    "start_time": "2022-02-17T01:59:17.584Z"
   },
   {
    "duration": 13,
    "start_time": "2022-02-17T01:59:17.626Z"
   },
   {
    "duration": 10,
    "start_time": "2022-02-17T01:59:17.641Z"
   },
   {
    "duration": 5,
    "start_time": "2022-02-17T01:59:17.653Z"
   },
   {
    "duration": 16,
    "start_time": "2022-02-17T01:59:17.659Z"
   },
   {
    "duration": 34,
    "start_time": "2022-02-17T01:59:17.677Z"
   },
   {
    "duration": 3,
    "start_time": "2022-02-17T02:01:13.466Z"
   },
   {
    "duration": 250,
    "start_time": "2022-02-17T02:01:13.472Z"
   },
   {
    "duration": 18,
    "start_time": "2022-02-17T02:01:13.725Z"
   },
   {
    "duration": 69,
    "start_time": "2022-02-17T02:01:13.745Z"
   },
   {
    "duration": 5,
    "start_time": "2022-02-17T02:01:13.816Z"
   },
   {
    "duration": 30,
    "start_time": "2022-02-17T02:01:13.823Z"
   },
   {
    "duration": 10,
    "start_time": "2022-02-17T02:01:13.855Z"
   },
   {
    "duration": 46,
    "start_time": "2022-02-17T02:01:13.867Z"
   },
   {
    "duration": 26,
    "start_time": "2022-02-17T02:01:13.917Z"
   },
   {
    "duration": 27,
    "start_time": "2022-02-17T02:01:13.946Z"
   },
   {
    "duration": 115,
    "start_time": "2022-02-17T02:01:13.976Z"
   },
   {
    "duration": 120,
    "start_time": "2022-02-17T02:01:14.094Z"
   },
   {
    "duration": 62,
    "start_time": "2022-02-17T02:01:14.217Z"
   },
   {
    "duration": 59,
    "start_time": "2022-02-17T02:01:14.281Z"
   },
   {
    "duration": 3,
    "start_time": "2022-02-17T02:01:14.342Z"
   },
   {
    "duration": 20,
    "start_time": "2022-02-17T02:01:14.347Z"
   },
   {
    "duration": 63,
    "start_time": "2022-02-17T02:01:14.369Z"
   },
   {
    "duration": 13,
    "start_time": "2022-02-17T02:01:14.434Z"
   },
   {
    "duration": 13,
    "start_time": "2022-02-17T02:01:14.449Z"
   },
   {
    "duration": 3,
    "start_time": "2022-02-17T02:01:14.464Z"
   },
   {
    "duration": 57,
    "start_time": "2022-02-17T02:01:14.469Z"
   },
   {
    "duration": 22,
    "start_time": "2022-02-17T02:01:14.528Z"
   },
   {
    "duration": 27,
    "start_time": "2022-02-17T02:01:14.552Z"
   },
   {
    "duration": 51,
    "start_time": "2022-02-17T02:01:14.581Z"
   },
   {
    "duration": 28,
    "start_time": "2022-02-17T02:01:14.634Z"
   },
   {
    "duration": 46,
    "start_time": "2022-02-17T02:01:14.665Z"
   },
   {
    "duration": 12,
    "start_time": "2022-02-17T02:01:14.715Z"
   },
   {
    "duration": 28,
    "start_time": "2022-02-17T02:01:14.729Z"
   },
   {
    "duration": 27,
    "start_time": "2022-02-17T02:01:14.759Z"
   },
   {
    "duration": 19,
    "start_time": "2022-02-17T02:01:14.789Z"
   },
   {
    "duration": 51,
    "start_time": "2022-02-17T02:01:14.811Z"
   },
   {
    "duration": 22,
    "start_time": "2022-02-17T02:01:14.864Z"
   },
   {
    "duration": 37,
    "start_time": "2022-02-17T02:01:14.888Z"
   },
   {
    "duration": 16,
    "start_time": "2022-02-17T02:01:14.928Z"
   },
   {
    "duration": 16,
    "start_time": "2022-02-17T02:01:14.946Z"
   },
   {
    "duration": 23,
    "start_time": "2022-02-17T02:01:14.964Z"
   },
   {
    "duration": 19,
    "start_time": "2022-02-17T02:01:14.989Z"
   },
   {
    "duration": 24,
    "start_time": "2022-02-17T02:01:15.010Z"
   },
   {
    "duration": 17,
    "start_time": "2022-02-17T02:03:11.772Z"
   },
   {
    "duration": 17,
    "start_time": "2022-02-17T02:03:21.836Z"
   },
   {
    "duration": 4,
    "start_time": "2022-02-17T02:03:53.612Z"
   },
   {
    "duration": 190,
    "start_time": "2022-02-17T02:03:53.618Z"
   },
   {
    "duration": 12,
    "start_time": "2022-02-17T02:03:53.811Z"
   },
   {
    "duration": 55,
    "start_time": "2022-02-17T02:03:53.826Z"
   },
   {
    "duration": 32,
    "start_time": "2022-02-17T02:03:53.883Z"
   },
   {
    "duration": 34,
    "start_time": "2022-02-17T02:03:53.918Z"
   },
   {
    "duration": 19,
    "start_time": "2022-02-17T02:03:53.954Z"
   },
   {
    "duration": 49,
    "start_time": "2022-02-17T02:03:53.977Z"
   },
   {
    "duration": 44,
    "start_time": "2022-02-17T02:03:54.028Z"
   },
   {
    "duration": 47,
    "start_time": "2022-02-17T02:03:54.074Z"
   },
   {
    "duration": 79,
    "start_time": "2022-02-17T02:03:54.123Z"
   },
   {
    "duration": 70,
    "start_time": "2022-02-17T02:03:54.204Z"
   },
   {
    "duration": 68,
    "start_time": "2022-02-17T02:03:54.276Z"
   },
   {
    "duration": 46,
    "start_time": "2022-02-17T02:03:54.346Z"
   },
   {
    "duration": 15,
    "start_time": "2022-02-17T02:03:54.394Z"
   },
   {
    "duration": 19,
    "start_time": "2022-02-17T02:03:54.411Z"
   },
   {
    "duration": 46,
    "start_time": "2022-02-17T02:03:54.432Z"
   },
   {
    "duration": 34,
    "start_time": "2022-02-17T02:03:54.480Z"
   },
   {
    "duration": 12,
    "start_time": "2022-02-17T02:03:54.516Z"
   },
   {
    "duration": 4,
    "start_time": "2022-02-17T02:03:54.531Z"
   },
   {
    "duration": 34,
    "start_time": "2022-02-17T02:03:54.537Z"
   },
   {
    "duration": 39,
    "start_time": "2022-02-17T02:03:54.573Z"
   },
   {
    "duration": 18,
    "start_time": "2022-02-17T02:03:54.616Z"
   },
   {
    "duration": 17,
    "start_time": "2022-02-17T02:03:54.637Z"
   },
   {
    "duration": 54,
    "start_time": "2022-02-17T02:03:54.656Z"
   },
   {
    "duration": 25,
    "start_time": "2022-02-17T02:03:54.713Z"
   },
   {
    "duration": 12,
    "start_time": "2022-02-17T02:03:54.741Z"
   },
   {
    "duration": 33,
    "start_time": "2022-02-17T02:03:54.756Z"
   },
   {
    "duration": 31,
    "start_time": "2022-02-17T02:03:54.792Z"
   },
   {
    "duration": 6,
    "start_time": "2022-02-17T02:03:54.826Z"
   },
   {
    "duration": 39,
    "start_time": "2022-02-17T02:03:54.834Z"
   },
   {
    "duration": 44,
    "start_time": "2022-02-17T02:03:54.875Z"
   },
   {
    "duration": 29,
    "start_time": "2022-02-17T02:03:54.921Z"
   },
   {
    "duration": 19,
    "start_time": "2022-02-17T02:03:54.952Z"
   },
   {
    "duration": 42,
    "start_time": "2022-02-17T02:03:54.973Z"
   },
   {
    "duration": 7,
    "start_time": "2022-02-17T02:03:55.018Z"
   },
   {
    "duration": 16,
    "start_time": "2022-02-17T02:03:55.027Z"
   },
   {
    "duration": 7,
    "start_time": "2022-02-17T02:03:55.046Z"
   }
  ],
  "colab": {
   "collapsed_sections": [
    "E0vqbgi9ay0H",
    "VUC88oWjTJw2"
   ],
   "name": "yandex_music_project_2021.2.ipynb",
   "provenance": []
  },
  "kernelspec": {
   "display_name": "Python 3 (ipykernel)",
   "language": "python",
   "name": "python3"
  },
  "language_info": {
   "codemirror_mode": {
    "name": "ipython",
    "version": 3
   },
   "file_extension": ".py",
   "mimetype": "text/x-python",
   "name": "python",
   "nbconvert_exporter": "python",
   "pygments_lexer": "ipython3",
   "version": "3.9.5"
  },
  "toc": {
   "base_numbering": 1,
   "nav_menu": {},
   "number_sections": true,
   "sideBar": true,
   "skip_h1_title": true,
   "title_cell": "Table of Contents",
   "title_sidebar": "Contents",
   "toc_cell": false,
   "toc_position": {
    "height": "calc(100% - 180px)",
    "left": "10px",
    "top": "150px",
    "width": "165px"
   },
   "toc_section_display": true,
   "toc_window_display": true
  }
 },
 "nbformat": 4,
 "nbformat_minor": 1
}
