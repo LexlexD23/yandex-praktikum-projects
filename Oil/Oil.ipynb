{
 "cells": [
  {
   "cell_type": "markdown",
   "metadata": {},
   "source": [
    "# Выбор локации для скважины"
   ]
  },
  {
   "cell_type": "markdown",
   "metadata": {},
   "source": [
    "Допустим, вы работаете в добывающей компании «ГлавРосГосНефть». Нужно решить, где бурить новую скважину.\n",
    "\n",
    "Вам предоставлены пробы нефти в трёх регионах: в каждом 10 000 месторождений, где измерили качество нефти и объём её запасов. Постройте модель машинного обучения, которая поможет определить регион, где добыча принесёт наибольшую прибыль. Проанализируйте возможную прибыль и риски техникой *Bootstrap.*\n",
    "\n",
    "Шаги для выбора локации:\n",
    "\n",
    "- В избранном регионе ищут месторождения, для каждого определяют значения признаков;\n",
    "- Строят модель и оценивают объём запасов;\n",
    "- Выбирают месторождения с самым высокими оценками значений. Количество месторождений зависит от бюджета компании и стоимости разработки одной скважины;\n",
    "- Прибыль равна суммарной прибыли отобранных месторождений."
   ]
  },
  {
   "cell_type": "markdown",
   "metadata": {},
   "source": [
    "## Загрузка и подготовка данных"
   ]
  },
  {
   "cell_type": "code",
   "execution_count": 1,
   "metadata": {},
   "outputs": [],
   "source": [
    "import pandas as pd\n",
    "from sklearn.linear_model  import LinearRegression\n",
    "from sklearn.model_selection import train_test_split\n",
    "from sklearn.preprocessing import RobustScaler\n",
    "from sklearn.model_selection import GridSearchCV\n",
    "from sklearn.metrics import mean_squared_error\n",
    "import matplotlib.pyplot as plt\n",
    "import numpy as np"
   ]
  },
  {
   "cell_type": "code",
   "execution_count": 2,
   "metadata": {},
   "outputs": [],
   "source": [
    "path = ['/datasets/geo_data_0.csv','/datasets/geo_data_1.csv','/datasets/geo_data_2.csv']\n",
    "df = []\n",
    "for ind in [0,1,2]:\n",
    "    df.append(pd.read_csv(path[ind]))"
   ]
  },
  {
   "cell_type": "markdown",
   "metadata": {},
   "source": [
    "Обзор данных"
   ]
  },
  {
   "cell_type": "code",
   "execution_count": 3,
   "metadata": {
    "scrolled": true
   },
   "outputs": [
    {
     "data": {
      "text/html": [
       "<div>\n",
       "<style scoped>\n",
       "    .dataframe tbody tr th:only-of-type {\n",
       "        vertical-align: middle;\n",
       "    }\n",
       "\n",
       "    .dataframe tbody tr th {\n",
       "        vertical-align: top;\n",
       "    }\n",
       "\n",
       "    .dataframe thead th {\n",
       "        text-align: right;\n",
       "    }\n",
       "</style>\n",
       "<table border=\"1\" class=\"dataframe\">\n",
       "  <thead>\n",
       "    <tr style=\"text-align: right;\">\n",
       "      <th></th>\n",
       "      <th>id</th>\n",
       "      <th>f0</th>\n",
       "      <th>f1</th>\n",
       "      <th>f2</th>\n",
       "      <th>product</th>\n",
       "    </tr>\n",
       "  </thead>\n",
       "  <tbody>\n",
       "    <tr>\n",
       "      <th>0</th>\n",
       "      <td>kBEdx</td>\n",
       "      <td>-15.001348</td>\n",
       "      <td>-8.276000</td>\n",
       "      <td>-0.005876</td>\n",
       "      <td>3.179103</td>\n",
       "    </tr>\n",
       "    <tr>\n",
       "      <th>1</th>\n",
       "      <td>62mP7</td>\n",
       "      <td>14.272088</td>\n",
       "      <td>-3.475083</td>\n",
       "      <td>0.999183</td>\n",
       "      <td>26.953261</td>\n",
       "    </tr>\n",
       "    <tr>\n",
       "      <th>2</th>\n",
       "      <td>vyE1P</td>\n",
       "      <td>6.263187</td>\n",
       "      <td>-5.948386</td>\n",
       "      <td>5.001160</td>\n",
       "      <td>134.766305</td>\n",
       "    </tr>\n",
       "    <tr>\n",
       "      <th>3</th>\n",
       "      <td>KcrkZ</td>\n",
       "      <td>-13.081196</td>\n",
       "      <td>-11.506057</td>\n",
       "      <td>4.999415</td>\n",
       "      <td>137.945408</td>\n",
       "    </tr>\n",
       "    <tr>\n",
       "      <th>4</th>\n",
       "      <td>AHL4O</td>\n",
       "      <td>12.702195</td>\n",
       "      <td>-8.147433</td>\n",
       "      <td>5.004363</td>\n",
       "      <td>134.766305</td>\n",
       "    </tr>\n",
       "  </tbody>\n",
       "</table>\n",
       "</div>"
      ],
      "text/plain": [
       "      id         f0         f1        f2     product\n",
       "0  kBEdx -15.001348  -8.276000 -0.005876    3.179103\n",
       "1  62mP7  14.272088  -3.475083  0.999183   26.953261\n",
       "2  vyE1P   6.263187  -5.948386  5.001160  134.766305\n",
       "3  KcrkZ -13.081196 -11.506057  4.999415  137.945408\n",
       "4  AHL4O  12.702195  -8.147433  5.004363  134.766305"
      ]
     },
     "execution_count": 3,
     "metadata": {},
     "output_type": "execute_result"
    }
   ],
   "source": [
    "df[1].head()"
   ]
  },
  {
   "cell_type": "code",
   "execution_count": 4,
   "metadata": {
    "scrolled": true
   },
   "outputs": [
    {
     "data": {
      "text/html": [
       "<div>\n",
       "<style scoped>\n",
       "    .dataframe tbody tr th:only-of-type {\n",
       "        vertical-align: middle;\n",
       "    }\n",
       "\n",
       "    .dataframe tbody tr th {\n",
       "        vertical-align: top;\n",
       "    }\n",
       "\n",
       "    .dataframe thead th {\n",
       "        text-align: right;\n",
       "    }\n",
       "</style>\n",
       "<table border=\"1\" class=\"dataframe\">\n",
       "  <thead>\n",
       "    <tr style=\"text-align: right;\">\n",
       "      <th></th>\n",
       "      <th>id</th>\n",
       "      <th>f0</th>\n",
       "      <th>f1</th>\n",
       "      <th>f2</th>\n",
       "      <th>product</th>\n",
       "    </tr>\n",
       "  </thead>\n",
       "  <tbody>\n",
       "    <tr>\n",
       "      <th>0</th>\n",
       "      <td>txEyH</td>\n",
       "      <td>0.705745</td>\n",
       "      <td>-0.497823</td>\n",
       "      <td>1.221170</td>\n",
       "      <td>105.280062</td>\n",
       "    </tr>\n",
       "    <tr>\n",
       "      <th>1</th>\n",
       "      <td>2acmU</td>\n",
       "      <td>1.334711</td>\n",
       "      <td>-0.340164</td>\n",
       "      <td>4.365080</td>\n",
       "      <td>73.037750</td>\n",
       "    </tr>\n",
       "    <tr>\n",
       "      <th>2</th>\n",
       "      <td>409Wp</td>\n",
       "      <td>1.022732</td>\n",
       "      <td>0.151990</td>\n",
       "      <td>1.419926</td>\n",
       "      <td>85.265647</td>\n",
       "    </tr>\n",
       "    <tr>\n",
       "      <th>3</th>\n",
       "      <td>iJLyR</td>\n",
       "      <td>-0.032172</td>\n",
       "      <td>0.139033</td>\n",
       "      <td>2.978566</td>\n",
       "      <td>168.620776</td>\n",
       "    </tr>\n",
       "    <tr>\n",
       "      <th>4</th>\n",
       "      <td>Xdl7t</td>\n",
       "      <td>1.988431</td>\n",
       "      <td>0.155413</td>\n",
       "      <td>4.751769</td>\n",
       "      <td>154.036647</td>\n",
       "    </tr>\n",
       "  </tbody>\n",
       "</table>\n",
       "</div>"
      ],
      "text/plain": [
       "      id        f0        f1        f2     product\n",
       "0  txEyH  0.705745 -0.497823  1.221170  105.280062\n",
       "1  2acmU  1.334711 -0.340164  4.365080   73.037750\n",
       "2  409Wp  1.022732  0.151990  1.419926   85.265647\n",
       "3  iJLyR -0.032172  0.139033  2.978566  168.620776\n",
       "4  Xdl7t  1.988431  0.155413  4.751769  154.036647"
      ]
     },
     "execution_count": 4,
     "metadata": {},
     "output_type": "execute_result"
    }
   ],
   "source": [
    "df[0].head()"
   ]
  },
  {
   "cell_type": "code",
   "execution_count": 5,
   "metadata": {
    "scrolled": true
   },
   "outputs": [
    {
     "name": "stdout",
     "output_type": "stream",
     "text": [
      "<class 'pandas.core.frame.DataFrame'>\n",
      "RangeIndex: 100000 entries, 0 to 99999\n",
      "Data columns (total 5 columns):\n",
      " #   Column   Non-Null Count   Dtype  \n",
      "---  ------   --------------   -----  \n",
      " 0   id       100000 non-null  object \n",
      " 1   f0       100000 non-null  float64\n",
      " 2   f1       100000 non-null  float64\n",
      " 3   f2       100000 non-null  float64\n",
      " 4   product  100000 non-null  float64\n",
      "dtypes: float64(4), object(1)\n",
      "memory usage: 3.8+ MB\n"
     ]
    }
   ],
   "source": [
    "df[0].info()"
   ]
  },
  {
   "cell_type": "code",
   "execution_count": 6,
   "metadata": {
    "scrolled": true
   },
   "outputs": [
    {
     "data": {
      "text/html": [
       "<div>\n",
       "<style scoped>\n",
       "    .dataframe tbody tr th:only-of-type {\n",
       "        vertical-align: middle;\n",
       "    }\n",
       "\n",
       "    .dataframe tbody tr th {\n",
       "        vertical-align: top;\n",
       "    }\n",
       "\n",
       "    .dataframe thead th {\n",
       "        text-align: right;\n",
       "    }\n",
       "</style>\n",
       "<table border=\"1\" class=\"dataframe\">\n",
       "  <thead>\n",
       "    <tr style=\"text-align: right;\">\n",
       "      <th></th>\n",
       "      <th>id</th>\n",
       "      <th>f0</th>\n",
       "      <th>f1</th>\n",
       "      <th>f2</th>\n",
       "      <th>product</th>\n",
       "    </tr>\n",
       "  </thead>\n",
       "  <tbody>\n",
       "    <tr>\n",
       "      <th>0</th>\n",
       "      <td>kBEdx</td>\n",
       "      <td>-15.001348</td>\n",
       "      <td>-8.276000</td>\n",
       "      <td>-0.005876</td>\n",
       "      <td>3.179103</td>\n",
       "    </tr>\n",
       "    <tr>\n",
       "      <th>1</th>\n",
       "      <td>62mP7</td>\n",
       "      <td>14.272088</td>\n",
       "      <td>-3.475083</td>\n",
       "      <td>0.999183</td>\n",
       "      <td>26.953261</td>\n",
       "    </tr>\n",
       "    <tr>\n",
       "      <th>2</th>\n",
       "      <td>vyE1P</td>\n",
       "      <td>6.263187</td>\n",
       "      <td>-5.948386</td>\n",
       "      <td>5.001160</td>\n",
       "      <td>134.766305</td>\n",
       "    </tr>\n",
       "    <tr>\n",
       "      <th>3</th>\n",
       "      <td>KcrkZ</td>\n",
       "      <td>-13.081196</td>\n",
       "      <td>-11.506057</td>\n",
       "      <td>4.999415</td>\n",
       "      <td>137.945408</td>\n",
       "    </tr>\n",
       "    <tr>\n",
       "      <th>4</th>\n",
       "      <td>AHL4O</td>\n",
       "      <td>12.702195</td>\n",
       "      <td>-8.147433</td>\n",
       "      <td>5.004363</td>\n",
       "      <td>134.766305</td>\n",
       "    </tr>\n",
       "  </tbody>\n",
       "</table>\n",
       "</div>"
      ],
      "text/plain": [
       "      id         f0         f1        f2     product\n",
       "0  kBEdx -15.001348  -8.276000 -0.005876    3.179103\n",
       "1  62mP7  14.272088  -3.475083  0.999183   26.953261\n",
       "2  vyE1P   6.263187  -5.948386  5.001160  134.766305\n",
       "3  KcrkZ -13.081196 -11.506057  4.999415  137.945408\n",
       "4  AHL4O  12.702195  -8.147433  5.004363  134.766305"
      ]
     },
     "execution_count": 6,
     "metadata": {},
     "output_type": "execute_result"
    }
   ],
   "source": [
    "df[1].head()"
   ]
  },
  {
   "cell_type": "code",
   "execution_count": 7,
   "metadata": {
    "scrolled": true
   },
   "outputs": [
    {
     "name": "stdout",
     "output_type": "stream",
     "text": [
      "<class 'pandas.core.frame.DataFrame'>\n",
      "RangeIndex: 100000 entries, 0 to 99999\n",
      "Data columns (total 5 columns):\n",
      " #   Column   Non-Null Count   Dtype  \n",
      "---  ------   --------------   -----  \n",
      " 0   id       100000 non-null  object \n",
      " 1   f0       100000 non-null  float64\n",
      " 2   f1       100000 non-null  float64\n",
      " 3   f2       100000 non-null  float64\n",
      " 4   product  100000 non-null  float64\n",
      "dtypes: float64(4), object(1)\n",
      "memory usage: 3.8+ MB\n"
     ]
    }
   ],
   "source": [
    "df[1].info()"
   ]
  },
  {
   "cell_type": "code",
   "execution_count": 8,
   "metadata": {},
   "outputs": [
    {
     "data": {
      "text/html": [
       "<div>\n",
       "<style scoped>\n",
       "    .dataframe tbody tr th:only-of-type {\n",
       "        vertical-align: middle;\n",
       "    }\n",
       "\n",
       "    .dataframe tbody tr th {\n",
       "        vertical-align: top;\n",
       "    }\n",
       "\n",
       "    .dataframe thead th {\n",
       "        text-align: right;\n",
       "    }\n",
       "</style>\n",
       "<table border=\"1\" class=\"dataframe\">\n",
       "  <thead>\n",
       "    <tr style=\"text-align: right;\">\n",
       "      <th></th>\n",
       "      <th>id</th>\n",
       "      <th>f0</th>\n",
       "      <th>f1</th>\n",
       "      <th>f2</th>\n",
       "      <th>product</th>\n",
       "    </tr>\n",
       "  </thead>\n",
       "  <tbody>\n",
       "    <tr>\n",
       "      <th>0</th>\n",
       "      <td>fwXo0</td>\n",
       "      <td>-1.146987</td>\n",
       "      <td>0.963328</td>\n",
       "      <td>-0.828965</td>\n",
       "      <td>27.758673</td>\n",
       "    </tr>\n",
       "    <tr>\n",
       "      <th>1</th>\n",
       "      <td>WJtFt</td>\n",
       "      <td>0.262778</td>\n",
       "      <td>0.269839</td>\n",
       "      <td>-2.530187</td>\n",
       "      <td>56.069697</td>\n",
       "    </tr>\n",
       "    <tr>\n",
       "      <th>2</th>\n",
       "      <td>ovLUW</td>\n",
       "      <td>0.194587</td>\n",
       "      <td>0.289035</td>\n",
       "      <td>-5.586433</td>\n",
       "      <td>62.871910</td>\n",
       "    </tr>\n",
       "    <tr>\n",
       "      <th>3</th>\n",
       "      <td>q6cA6</td>\n",
       "      <td>2.236060</td>\n",
       "      <td>-0.553760</td>\n",
       "      <td>0.930038</td>\n",
       "      <td>114.572842</td>\n",
       "    </tr>\n",
       "    <tr>\n",
       "      <th>4</th>\n",
       "      <td>WPMUX</td>\n",
       "      <td>-0.515993</td>\n",
       "      <td>1.716266</td>\n",
       "      <td>5.899011</td>\n",
       "      <td>149.600746</td>\n",
       "    </tr>\n",
       "  </tbody>\n",
       "</table>\n",
       "</div>"
      ],
      "text/plain": [
       "      id        f0        f1        f2     product\n",
       "0  fwXo0 -1.146987  0.963328 -0.828965   27.758673\n",
       "1  WJtFt  0.262778  0.269839 -2.530187   56.069697\n",
       "2  ovLUW  0.194587  0.289035 -5.586433   62.871910\n",
       "3  q6cA6  2.236060 -0.553760  0.930038  114.572842\n",
       "4  WPMUX -0.515993  1.716266  5.899011  149.600746"
      ]
     },
     "execution_count": 8,
     "metadata": {},
     "output_type": "execute_result"
    }
   ],
   "source": [
    "df[2].head()"
   ]
  },
  {
   "cell_type": "code",
   "execution_count": 9,
   "metadata": {
    "scrolled": false
   },
   "outputs": [
    {
     "name": "stdout",
     "output_type": "stream",
     "text": [
      "<class 'pandas.core.frame.DataFrame'>\n",
      "RangeIndex: 100000 entries, 0 to 99999\n",
      "Data columns (total 5 columns):\n",
      " #   Column   Non-Null Count   Dtype  \n",
      "---  ------   --------------   -----  \n",
      " 0   id       100000 non-null  object \n",
      " 1   f0       100000 non-null  float64\n",
      " 2   f1       100000 non-null  float64\n",
      " 3   f2       100000 non-null  float64\n",
      " 4   product  100000 non-null  float64\n",
      "dtypes: float64(4), object(1)\n",
      "memory usage: 3.8+ MB\n"
     ]
    }
   ],
   "source": [
    "df[2].info()"
   ]
  },
  {
   "cell_type": "markdown",
   "metadata": {},
   "source": [
    "Подготовка  выборок"
   ]
  },
  {
   "cell_type": "code",
   "execution_count": 10,
   "metadata": {},
   "outputs": [],
   "source": [
    "features = []\n",
    "targets = [] \n",
    "\n",
    "features_train = [0,1,2]\n",
    "features_valid = [0,1,2]\n",
    "target_train = [0,1,2]\n",
    "target_valid = [0,1,2]\n",
    "\n",
    "sr = RobustScaler()\n",
    "num_cols = ['f0','f1','f2']\n",
    "\n",
    "for area in [0,1,2]:\n",
    "    # выделение признаков\n",
    "    features.append(df[area].drop(['product','id'],axis = 1))\n",
    "    targets.append(df[area]['product'])\n",
    "    \n",
    "    # получение выборок для обучения\n",
    "    features_train[area],features_valid[area],target_train[area],target_valid[area] =\\\n",
    "        train_test_split(features[area],targets[area],test_size = .25, random_state = 12345)\n",
    "    \n",
    "    # маштабирование признаков\n",
    "    features_train[area] = pd.DataFrame(sr.fit_transform(features_train[area]),columns = num_cols)\n",
    "    features_valid[area] = pd.DataFrame(sr.transform(features_valid[area]),columns = num_cols)\n"
   ]
  },
  {
   "cell_type": "markdown",
   "metadata": {},
   "source": [
    "## Обучение и проверка модели"
   ]
  },
  {
   "cell_type": "markdown",
   "metadata": {},
   "source": [
    "Подбор параметров и обучение модели линейной регрессии "
   ]
  },
  {
   "cell_type": "code",
   "execution_count": 11,
   "metadata": {},
   "outputs": [],
   "source": [
    "grid_lin_reg = []\n",
    "lin_reg = []\n",
    "predictions = []\n",
    "rmse = []\n",
    "mean_deposit = []\n",
    "\n",
    "for area in range(0,3):\n",
    "    parametrs =  {'fit_intercept':[True,False], 'normalize':[True,False], 'copy_X':[True, False]}\n",
    "    lin_reg.append(LinearRegression())\n",
    "    grid_lin_reg.append( GridSearchCV(lin_reg[area],parametrs,cv=5))\n",
    "    grid_lin_reg[area].fit(features_train[area],target_train[area])\n",
    "    predictions.append(grid_lin_reg[area].predict(features_valid[area]))\n",
    "    rmse.append(mean_squared_error(target_valid[area],predictions[area])**(1/2))\n",
    "    mean_deposit.append(predictions[area].mean())"
   ]
  },
  {
   "cell_type": "code",
   "execution_count": 12,
   "metadata": {},
   "outputs": [
    {
     "data": {
      "text/plain": [
       "array([ 95.89495185,  77.57258261,  77.89263965, ...,  61.50983303,\n",
       "       118.18039721, 118.16939229])"
      ]
     },
     "execution_count": 12,
     "metadata": {},
     "output_type": "execute_result"
    }
   ],
   "source": [
    "grid_lin_reg[0].predict(features_valid[0])"
   ]
  },
  {
   "cell_type": "markdown",
   "metadata": {},
   "source": [
    "Отклонение прогнозных запасов от фактических и среднее значение прогнозных запасов  "
   ]
  },
  {
   "cell_type": "code",
   "execution_count": 13,
   "metadata": {
    "scrolled": false
   },
   "outputs": [
    {
     "data": {
      "text/html": [
       "<div>\n",
       "<style scoped>\n",
       "    .dataframe tbody tr th:only-of-type {\n",
       "        vertical-align: middle;\n",
       "    }\n",
       "\n",
       "    .dataframe tbody tr th {\n",
       "        vertical-align: top;\n",
       "    }\n",
       "\n",
       "    .dataframe thead th {\n",
       "        text-align: right;\n",
       "    }\n",
       "</style>\n",
       "<table border=\"1\" class=\"dataframe\">\n",
       "  <thead>\n",
       "    <tr style=\"text-align: right;\">\n",
       "      <th></th>\n",
       "      <th>rmse</th>\n",
       "      <th>mean_depostit_oil</th>\n",
       "    </tr>\n",
       "  </thead>\n",
       "  <tbody>\n",
       "    <tr>\n",
       "      <th>region_0</th>\n",
       "      <td>37.579422</td>\n",
       "      <td>92.592568</td>\n",
       "    </tr>\n",
       "    <tr>\n",
       "      <th>region_1</th>\n",
       "      <td>0.893099</td>\n",
       "      <td>68.728547</td>\n",
       "    </tr>\n",
       "    <tr>\n",
       "      <th>region_2</th>\n",
       "      <td>40.029709</td>\n",
       "      <td>94.965046</td>\n",
       "    </tr>\n",
       "  </tbody>\n",
       "</table>\n",
       "</div>"
      ],
      "text/plain": [
       "               rmse  mean_depostit_oil\n",
       "region_0  37.579422          92.592568\n",
       "region_1   0.893099          68.728547\n",
       "region_2  40.029709          94.965046"
      ]
     },
     "execution_count": 13,
     "metadata": {},
     "output_type": "execute_result"
    }
   ],
   "source": [
    "predictions_metrics = pd.DataFrame({'rmse':rmse, 'mean_depostit_oil':mean_deposit},index =['region_0','region_1','region_2'])\n",
    "predictions_metrics"
   ]
  },
  {
   "cell_type": "markdown",
   "metadata": {},
   "source": [
    "Обращает внимание сильное различие метрики **rmse** у **region_1** в сравнении с другими областями, на величину примерно разницы  средних запасов"
   ]
  },
  {
   "cell_type": "markdown",
   "metadata": {},
   "source": [
    "Посмотрим корреляцию признаков по регионам"
   ]
  },
  {
   "cell_type": "code",
   "execution_count": 14,
   "metadata": {
    "scrolled": false
   },
   "outputs": [
    {
     "data": {
      "text/html": [
       "<div>\n",
       "<style scoped>\n",
       "    .dataframe tbody tr th:only-of-type {\n",
       "        vertical-align: middle;\n",
       "    }\n",
       "\n",
       "    .dataframe tbody tr th {\n",
       "        vertical-align: top;\n",
       "    }\n",
       "\n",
       "    .dataframe thead th {\n",
       "        text-align: right;\n",
       "    }\n",
       "</style>\n",
       "<table border=\"1\" class=\"dataframe\">\n",
       "  <thead>\n",
       "    <tr style=\"text-align: right;\">\n",
       "      <th></th>\n",
       "      <th>f0</th>\n",
       "      <th>f1</th>\n",
       "      <th>f2</th>\n",
       "      <th>product</th>\n",
       "      <th>f0</th>\n",
       "      <th>f1</th>\n",
       "      <th>f2</th>\n",
       "      <th>product</th>\n",
       "      <th>f0</th>\n",
       "      <th>f1</th>\n",
       "      <th>f2</th>\n",
       "      <th>product</th>\n",
       "    </tr>\n",
       "  </thead>\n",
       "  <tbody>\n",
       "    <tr>\n",
       "      <th>f0</th>\n",
       "      <td>1.000000</td>\n",
       "      <td>-0.440723</td>\n",
       "      <td>-0.003153</td>\n",
       "      <td>0.143536</td>\n",
       "      <td>1.000000</td>\n",
       "      <td>0.182287</td>\n",
       "      <td>-0.001777</td>\n",
       "      <td>-0.030491</td>\n",
       "      <td>1.000000</td>\n",
       "      <td>0.000528</td>\n",
       "      <td>-0.000448</td>\n",
       "      <td>-0.001987</td>\n",
       "    </tr>\n",
       "    <tr>\n",
       "      <th>f1</th>\n",
       "      <td>-0.440723</td>\n",
       "      <td>1.000000</td>\n",
       "      <td>0.001724</td>\n",
       "      <td>-0.192356</td>\n",
       "      <td>0.182287</td>\n",
       "      <td>1.000000</td>\n",
       "      <td>-0.002595</td>\n",
       "      <td>-0.010155</td>\n",
       "      <td>0.000528</td>\n",
       "      <td>1.000000</td>\n",
       "      <td>0.000779</td>\n",
       "      <td>-0.001012</td>\n",
       "    </tr>\n",
       "    <tr>\n",
       "      <th>f2</th>\n",
       "      <td>-0.003153</td>\n",
       "      <td>0.001724</td>\n",
       "      <td>1.000000</td>\n",
       "      <td>0.483663</td>\n",
       "      <td>-0.001777</td>\n",
       "      <td>-0.002595</td>\n",
       "      <td>1.000000</td>\n",
       "      <td>0.999397</td>\n",
       "      <td>-0.000448</td>\n",
       "      <td>0.000779</td>\n",
       "      <td>1.000000</td>\n",
       "      <td>0.445871</td>\n",
       "    </tr>\n",
       "    <tr>\n",
       "      <th>product</th>\n",
       "      <td>0.143536</td>\n",
       "      <td>-0.192356</td>\n",
       "      <td>0.483663</td>\n",
       "      <td>1.000000</td>\n",
       "      <td>-0.030491</td>\n",
       "      <td>-0.010155</td>\n",
       "      <td>0.999397</td>\n",
       "      <td>1.000000</td>\n",
       "      <td>-0.001987</td>\n",
       "      <td>-0.001012</td>\n",
       "      <td>0.445871</td>\n",
       "      <td>1.000000</td>\n",
       "    </tr>\n",
       "  </tbody>\n",
       "</table>\n",
       "</div>"
      ],
      "text/plain": [
       "               f0        f1        f2   product        f0        f1        f2  \\\n",
       "f0       1.000000 -0.440723 -0.003153  0.143536  1.000000  0.182287 -0.001777   \n",
       "f1      -0.440723  1.000000  0.001724 -0.192356  0.182287  1.000000 -0.002595   \n",
       "f2      -0.003153  0.001724  1.000000  0.483663 -0.001777 -0.002595  1.000000   \n",
       "product  0.143536 -0.192356  0.483663  1.000000 -0.030491 -0.010155  0.999397   \n",
       "\n",
       "          product        f0        f1        f2   product  \n",
       "f0      -0.030491  1.000000  0.000528 -0.000448 -0.001987  \n",
       "f1      -0.010155  0.000528  1.000000  0.000779 -0.001012  \n",
       "f2       0.999397 -0.000448  0.000779  1.000000  0.445871  \n",
       "product  1.000000 -0.001987 -0.001012  0.445871  1.000000  "
      ]
     },
     "execution_count": 14,
     "metadata": {},
     "output_type": "execute_result"
    }
   ],
   "source": [
    "pd.concat((df[0].corr(),df[1].corr(),df[2].corr()),axis = 1)"
   ]
  },
  {
   "cell_type": "markdown",
   "metadata": {},
   "source": [
    "Существует практически полная  корреляция между признаком f2 и запасами у региона  с индексом 1. Один этот признак хорошо описывает прогнозные запасы"
   ]
  },
  {
   "cell_type": "markdown",
   "metadata": {},
   "source": [
    "**region_1** имеет отклонение по запасам за счет сильной связи признака **f2**, или в  **product**  других регионах есть дополнительная погрешность примерно  размером  с их **rmse**"
   ]
  },
  {
   "cell_type": "markdown",
   "metadata": {},
   "source": [
    "## Подготовка к расчёту прибыли"
   ]
  },
  {
   "cell_type": "markdown",
   "metadata": {},
   "source": [
    "Вводные финансовые параметры "
   ]
  },
  {
   "cell_type": "code",
   "execution_count": 15,
   "metadata": {
    "scrolled": false
   },
   "outputs": [
    {
     "name": "stdout",
     "output_type": "stream",
     "text": [
      "Необходимый для безубыточности уровень запасов в тыс. баррелей: 111.1111\n",
      "\n"
     ]
    }
   ],
   "source": [
    "BUDGET = 10**10\n",
    "REV_OF_BARREL = 450*1000\n",
    "EXPLORATION = 500\n",
    "DEVELOPMENT = 200\n",
    "\n",
    "# стоимость разработки скважины\n",
    "COST_OF_FILD = BUDGET/DEVELOPMENT\n",
    "\n",
    "# минимально необхадимый уровень запасов\n",
    "STOCK_FOR_PAYBACK = COST_OF_FILD/REV_OF_BARREL\n",
    "print('Необходимый для безубыточности уровень запасов в тыс. баррелей: {0:.4f}\\n'.format(STOCK_FOR_PAYBACK))"
   ]
  },
  {
   "cell_type": "markdown",
   "metadata": {},
   "source": [
    "Формула расчета прибыли для лучших 200 скважин"
   ]
  },
  {
   "cell_type": "code",
   "execution_count": 16,
   "metadata": {},
   "outputs": [],
   "source": [
    "def income_best_200(predicted_product,fact_product):\n",
    "    fact_product = fact_product.reset_index(drop = True)\n",
    "    best_predicted_filds_200 = predicted_product.sort_values(ascending = False)[:200]\n",
    "    \n",
    "    return (fact_product[best_predicted_filds_200.index] * REV_OF_BARREL - COST_OF_FILD).sum()   "
   ]
  },
  {
   "cell_type": "markdown",
   "metadata": {},
   "source": [
    "Анализ величены средних прогнозных запасов"
   ]
  },
  {
   "cell_type": "code",
   "execution_count": 17,
   "metadata": {
    "scrolled": true
   },
   "outputs": [
    {
     "data": {
      "image/png": "[encoded data removed]",
      "text/plain": [
       "<Figure size 1296x432 with 1 Axes>"
      ]
     },
     "metadata": {
      "needs_background": "light"
     },
     "output_type": "display_data"
    }
   ],
   "source": [
    "plt.figure(figsize=(18, 6))\n",
    "plt.grid()\n",
    "plt.ylim(0,150)\n",
    "plt.bar(predictions_metrics.index,predictions_metrics['mean_depostit_oil'])\n",
    "plt.axhline(STOCK_FOR_PAYBACK,color ='r')\n",
    "\n",
    "plt.xlabel(\"Регионы\")\n",
    "plt.ylabel(\"Уровень запасов нефти, тыс. бар.\")\n",
    "plt.title(\"Средние предсказанные запасы нефти, на валидационной выборке\")\n",
    "plt.show()\n"
   ]
  },
  {
   "cell_type": "markdown",
   "metadata": {},
   "source": [
    "Видно, что в среднем  разработка каждого разведанного месторождения приведет к генерации убытков в любом регионе, так как не в одном регионе они не достигают уровня безубыточности"
   ]
  },
  {
   "cell_type": "markdown",
   "metadata": {},
   "source": [
    "## Расчёт прибыли и рисков "
   ]
  },
  {
   "cell_type": "markdown",
   "metadata": {},
   "source": [
    "Нахождение методом бутсрапа метрик качества прибыльности 200 скважин"
   ]
  },
  {
   "cell_type": "code",
   "execution_count": 18,
   "metadata": {},
   "outputs": [],
   "source": [
    "state = np.random.RandomState(12345)\n",
    "\n",
    "income_samples_mean = []\n",
    "income_samples_sum = []\n",
    "\n",
    "lower = []\n",
    "upper = []\n",
    "df_bootstrap = pd.DataFrame()\n",
    "for area in range(3):\n",
    "    income_samples = []\n",
    "    for i in range(1000):\n",
    "        product_500 = pd.Series(predictions[area]).sample(n=500,replace=True,random_state=state)\n",
    "        income_samples.append(income_best_200(product_500, target_valid[area] ))\n",
    "        \n",
    "    df_bootstrap[area] = pd.Series(income_samples)/1000000\n",
    "    income_samples_mean.append(pd.Series(income_samples).mean()/1000000)\n",
    "    income_samples_sum.append(pd.Series(income_samples).mean()*200/1000000) \n",
    "    \n",
    "    lower.append(df_bootstrap[area].quantile(0.025))\n",
    "    upper.append(df_bootstrap[area].quantile(0.975))\n",
    "    "
   ]
  },
  {
   "cell_type": "markdown",
   "metadata": {},
   "source": [
    "Доверительный интервал в 95% по выборкам на основе Бутстрапа и среднее значение прибыли на скважину в миллионах рублей"
   ]
  },
  {
   "cell_type": "code",
   "execution_count": 19,
   "metadata": {
    "scrolled": true
   },
   "outputs": [
    {
     "data": {
      "text/html": [
       "<div>\n",
       "<style scoped>\n",
       "    .dataframe tbody tr th:only-of-type {\n",
       "        vertical-align: middle;\n",
       "    }\n",
       "\n",
       "    .dataframe tbody tr th {\n",
       "        vertical-align: top;\n",
       "    }\n",
       "\n",
       "    .dataframe thead th {\n",
       "        text-align: right;\n",
       "    }\n",
       "</style>\n",
       "<table border=\"1\" class=\"dataframe\">\n",
       "  <thead>\n",
       "    <tr style=\"text-align: right;\">\n",
       "      <th></th>\n",
       "      <th>lower_income</th>\n",
       "      <th>upper_income</th>\n",
       "      <th>mean_income</th>\n",
       "      <th>total_income_200</th>\n",
       "    </tr>\n",
       "  </thead>\n",
       "  <tbody>\n",
       "    <tr>\n",
       "      <th>region_0</th>\n",
       "      <td>-111.215546</td>\n",
       "      <td>909.766942</td>\n",
       "      <td>396.164985</td>\n",
       "      <td>79232.996960</td>\n",
       "    </tr>\n",
       "    <tr>\n",
       "      <th>region_1</th>\n",
       "      <td>78.050811</td>\n",
       "      <td>862.952060</td>\n",
       "      <td>461.155817</td>\n",
       "      <td>92231.163455</td>\n",
       "    </tr>\n",
       "    <tr>\n",
       "      <th>region_2</th>\n",
       "      <td>-112.227625</td>\n",
       "      <td>934.562915</td>\n",
       "      <td>392.950475</td>\n",
       "      <td>78590.095034</td>\n",
       "    </tr>\n",
       "  </tbody>\n",
       "</table>\n",
       "</div>"
      ],
      "text/plain": [
       "          lower_income  upper_income  mean_income  total_income_200\n",
       "region_0   -111.215546    909.766942   396.164985      79232.996960\n",
       "region_1     78.050811    862.952060   461.155817      92231.163455\n",
       "region_2   -112.227625    934.562915   392.950475      78590.095034"
      ]
     },
     "execution_count": 19,
     "metadata": {},
     "output_type": "execute_result"
    }
   ],
   "source": [
    "financial_parametrs_of_deposits = pd.DataFrame({'lower_income':lower,'upper_income' : upper,'mean_income': income_samples_mean,\n",
    "                                               'total_income_200' :income_samples_sum },\n",
    "                                               index = ['region_0','region_1','region_2'])\n",
    "financial_parametrs_of_deposits"
   ]
  },
  {
   "cell_type": "markdown",
   "metadata": {},
   "source": [
    "**Расчет рисков** "
   ]
  },
  {
   "cell_type": "markdown",
   "metadata": {},
   "source": [
    "Вычесление доли убыточных скважин"
   ]
  },
  {
   "cell_type": "code",
   "execution_count": 20,
   "metadata": {
    "scrolled": true
   },
   "outputs": [
    {
     "name": "stdout",
     "output_type": "stream",
     "text": [
      "Процент убыточных скважин в регионе 0: 6.9% \n",
      "Процент убыточных скважин в регионе 1: 0.7% \n",
      "Процент убыточных скважин в регионе 2: 6.5% \n"
     ]
    }
   ],
   "source": [
    "\n",
    "share_of_losses = []    \n",
    "quantity_of_losses = []    \n",
    "for area in range(3):\n",
    "    quantity_of_losses.append(len(df_bootstrap[area][df_bootstrap[area] < 0]))\n",
    "    share_of_losses.append(quantity_of_losses[area] / len(df_bootstrap[0])*100)\n",
    "    len(df_bootstrap[area])\n",
    "\n",
    "df_share_of_losses = pd.DataFrame({'share_of_losses' : share_of_losses },index = ['region_0','region_1','region_2'])    \n",
    "    \n",
    "for area in range(3):\n",
    "    print('Процент убыточных скважин в регионе {0}: {1:.1f}% '.format(area, df_share_of_losses.iloc[area][0]))\n"
   ]
  },
  {
   "cell_type": "markdown",
   "metadata": {},
   "source": [
    "Основные  финансовые показатели по 200 лучшим скважинам из 500 разведаных, на основании прогнозов модели линейной регрессии"
   ]
  },
  {
   "cell_type": "code",
   "execution_count": 21,
   "metadata": {
    "scrolled": true
   },
   "outputs": [
    {
     "data": {
      "text/html": [
       "<div>\n",
       "<style scoped>\n",
       "    .dataframe tbody tr th:only-of-type {\n",
       "        vertical-align: middle;\n",
       "    }\n",
       "\n",
       "    .dataframe tbody tr th {\n",
       "        vertical-align: top;\n",
       "    }\n",
       "\n",
       "    .dataframe thead th {\n",
       "        text-align: right;\n",
       "    }\n",
       "</style>\n",
       "<table border=\"1\" class=\"dataframe\">\n",
       "  <thead>\n",
       "    <tr style=\"text-align: right;\">\n",
       "      <th></th>\n",
       "      <th>lower_income</th>\n",
       "      <th>upper_income</th>\n",
       "      <th>mean_income</th>\n",
       "      <th>total_income_200</th>\n",
       "      <th>share_of_losses</th>\n",
       "    </tr>\n",
       "  </thead>\n",
       "  <tbody>\n",
       "    <tr>\n",
       "      <th>region_0</th>\n",
       "      <td>-111.215546</td>\n",
       "      <td>909.766942</td>\n",
       "      <td>396.164985</td>\n",
       "      <td>79232.996960</td>\n",
       "      <td>6.9</td>\n",
       "    </tr>\n",
       "    <tr>\n",
       "      <th>region_1</th>\n",
       "      <td>78.050811</td>\n",
       "      <td>862.952060</td>\n",
       "      <td>461.155817</td>\n",
       "      <td>92231.163455</td>\n",
       "      <td>0.7</td>\n",
       "    </tr>\n",
       "    <tr>\n",
       "      <th>region_2</th>\n",
       "      <td>-112.227625</td>\n",
       "      <td>934.562915</td>\n",
       "      <td>392.950475</td>\n",
       "      <td>78590.095034</td>\n",
       "      <td>6.5</td>\n",
       "    </tr>\n",
       "  </tbody>\n",
       "</table>\n",
       "</div>"
      ],
      "text/plain": [
       "          lower_income  upper_income  mean_income  total_income_200  \\\n",
       "region_0   -111.215546    909.766942   396.164985      79232.996960   \n",
       "region_1     78.050811    862.952060   461.155817      92231.163455   \n",
       "region_2   -112.227625    934.562915   392.950475      78590.095034   \n",
       "\n",
       "          share_of_losses  \n",
       "region_0              6.9  \n",
       "region_1              0.7  \n",
       "region_2              6.5  "
      ]
     },
     "execution_count": 21,
     "metadata": {},
     "output_type": "execute_result"
    }
   ],
   "source": [
    "pd.concat((financial_parametrs_of_deposits, df_share_of_losses),axis = 1)"
   ]
  },
  {
   "cell_type": "markdown",
   "metadata": {},
   "source": [
    "Выводы:\n",
    "   * получены результаты прогнозов запасов нефти моделью линейной регрессии и метрика отклонения запасов\n",
    "   * выявляны страности в данных связанные с корреляцией признака f2\n",
    "   * разработка месторождений  в **region_1** является лучшим решением,  на основании полученной более высокой средней прибыли от добычи нефти, а также наименьшим отклонением прогнозных запасов от фактических и наименьшим риском получения убытков\n"
   ]
  },
  {
   "cell_type": "code",
   "execution_count": null,
   "metadata": {},
   "outputs": [],
   "source": []
  }
 ],
 "metadata": {
  "ExecuteTimeLog": [
   {
    "duration": 402,
    "start_time": "2022-12-07T07:57:54.420Z"
   },
   {
    "duration": 1603,
    "start_time": "2022-12-07T07:57:56.792Z"
   },
   {
    "duration": 16,
    "start_time": "2022-12-07T07:58:13.345Z"
   },
   {
    "duration": 10,
    "start_time": "2022-12-07T07:59:31.175Z"
   },
   {
    "duration": 9,
    "start_time": "2022-12-07T07:59:42.466Z"
   },
   {
    "duration": 15,
    "start_time": "2022-12-07T08:00:33.347Z"
   },
   {
    "duration": 15,
    "start_time": "2022-12-07T08:01:09.378Z"
   },
   {
    "duration": 13,
    "start_time": "2022-12-07T08:13:34.331Z"
   },
   {
    "duration": 61,
    "start_time": "2022-12-07T08:29:41.426Z"
   },
   {
    "duration": 49,
    "start_time": "2022-12-07T08:29:51.256Z"
   },
   {
    "duration": 47,
    "start_time": "2022-12-07T08:29:56.996Z"
   },
   {
    "duration": 71,
    "start_time": "2022-12-07T08:30:00.624Z"
   },
   {
    "duration": 16,
    "start_time": "2022-12-07T08:31:56.602Z"
   },
   {
    "duration": 17,
    "start_time": "2022-12-07T08:32:05.831Z"
   },
   {
    "duration": 10,
    "start_time": "2022-12-07T08:34:28.954Z"
   },
   {
    "duration": 9,
    "start_time": "2022-12-07T08:34:39.112Z"
   },
   {
    "duration": 21,
    "start_time": "2022-12-07T08:37:53.258Z"
   },
   {
    "duration": 141,
    "start_time": "2022-12-07T08:38:07.548Z"
   },
   {
    "duration": 22,
    "start_time": "2022-12-07T08:38:40.376Z"
   },
   {
    "duration": 1104,
    "start_time": "2022-12-08T02:00:12.381Z"
   },
   {
    "duration": 743,
    "start_time": "2022-12-08T02:00:13.487Z"
   },
   {
    "duration": 22,
    "start_time": "2022-12-08T02:00:14.231Z"
   },
   {
    "duration": 16,
    "start_time": "2022-12-08T02:00:14.255Z"
   },
   {
    "duration": 8,
    "start_time": "2022-12-08T02:00:14.273Z"
   },
   {
    "duration": 16,
    "start_time": "2022-12-08T02:00:14.282Z"
   },
   {
    "duration": 20,
    "start_time": "2022-12-08T02:00:14.299Z"
   },
   {
    "duration": 19,
    "start_time": "2022-12-08T02:00:14.321Z"
   },
   {
    "duration": 51,
    "start_time": "2022-12-08T02:00:14.342Z"
   },
   {
    "duration": 30,
    "start_time": "2022-12-08T02:00:14.395Z"
   },
   {
    "duration": 6,
    "start_time": "2022-12-08T02:00:14.427Z"
   },
   {
    "duration": 3,
    "start_time": "2022-12-08T02:00:16.624Z"
   },
   {
    "duration": 932,
    "start_time": "2022-12-08T02:00:18.134Z"
   },
   {
    "duration": 490,
    "start_time": "2022-12-08T02:00:36.403Z"
   },
   {
    "duration": 110,
    "start_time": "2022-12-08T02:00:51.464Z"
   },
   {
    "duration": 198,
    "start_time": "2022-12-08T02:01:02.564Z"
   },
   {
    "duration": 356,
    "start_time": "2022-12-08T02:01:58.763Z"
   },
   {
    "duration": 31,
    "start_time": "2022-12-08T02:03:56.004Z"
   },
   {
    "duration": 9,
    "start_time": "2022-12-08T02:06:06.603Z"
   },
   {
    "duration": 11,
    "start_time": "2022-12-08T02:06:09.003Z"
   },
   {
    "duration": 12,
    "start_time": "2022-12-08T02:06:35.135Z"
   },
   {
    "duration": 9,
    "start_time": "2022-12-08T02:06:37.766Z"
   },
   {
    "duration": 3,
    "start_time": "2022-12-08T02:13:33.731Z"
   },
   {
    "duration": 38,
    "start_time": "2022-12-08T02:13:38.120Z"
   },
   {
    "duration": 33,
    "start_time": "2022-12-08T02:16:20.242Z"
   },
   {
    "duration": 8,
    "start_time": "2022-12-08T03:52:10.240Z"
   },
   {
    "duration": 3,
    "start_time": "2022-12-08T03:52:19.278Z"
   },
   {
    "duration": 3,
    "start_time": "2022-12-08T03:52:26.042Z"
   },
   {
    "duration": 21,
    "start_time": "2022-12-08T03:52:30.112Z"
   },
   {
    "duration": 42,
    "start_time": "2022-12-08T03:58:38.457Z"
   },
   {
    "duration": 12,
    "start_time": "2022-12-08T03:58:45.156Z"
   },
   {
    "duration": 294,
    "start_time": "2022-12-08T04:37:33.434Z"
   },
   {
    "duration": 1155,
    "start_time": "2022-12-08T14:32:37.079Z"
   },
   {
    "duration": 1732,
    "start_time": "2022-12-08T14:32:38.236Z"
   },
   {
    "duration": 17,
    "start_time": "2022-12-08T14:32:39.970Z"
   },
   {
    "duration": 40,
    "start_time": "2022-12-08T14:32:39.989Z"
   },
   {
    "duration": 31,
    "start_time": "2022-12-08T14:32:40.032Z"
   },
   {
    "duration": 32,
    "start_time": "2022-12-08T14:32:40.065Z"
   },
   {
    "duration": 17,
    "start_time": "2022-12-08T14:32:40.099Z"
   },
   {
    "duration": 48,
    "start_time": "2022-12-08T14:32:40.118Z"
   },
   {
    "duration": 30,
    "start_time": "2022-12-08T14:32:40.169Z"
   },
   {
    "duration": 14,
    "start_time": "2022-12-08T14:32:40.201Z"
   },
   {
    "duration": 25,
    "start_time": "2022-12-08T14:32:40.221Z"
   },
   {
    "duration": 885,
    "start_time": "2022-12-08T14:32:40.248Z"
   },
   {
    "duration": 11,
    "start_time": "2022-12-08T14:32:41.135Z"
   },
   {
    "duration": 34,
    "start_time": "2022-12-08T14:32:41.148Z"
   },
   {
    "duration": 65,
    "start_time": "2022-12-08T14:32:41.184Z"
   },
   {
    "duration": 123,
    "start_time": "2022-12-08T14:32:44.872Z"
   },
   {
    "duration": 10,
    "start_time": "2022-12-08T14:34:34.652Z"
   },
   {
    "duration": 3,
    "start_time": "2022-12-08T14:36:23.507Z"
   },
   {
    "duration": 4184,
    "start_time": "2022-12-08T14:36:27.730Z"
   },
   {
    "duration": 7,
    "start_time": "2022-12-08T15:09:28.299Z"
   },
   {
    "duration": 1160,
    "start_time": "2022-12-09T01:59:17.448Z"
   },
   {
    "duration": 101,
    "start_time": "2022-12-09T02:01:12.887Z"
   },
   {
    "duration": 3,
    "start_time": "2022-12-09T02:01:18.656Z"
   },
   {
    "duration": 697,
    "start_time": "2022-12-09T02:01:18.661Z"
   },
   {
    "duration": 15,
    "start_time": "2022-12-09T02:01:19.359Z"
   },
   {
    "duration": 13,
    "start_time": "2022-12-09T02:01:19.375Z"
   },
   {
    "duration": 9,
    "start_time": "2022-12-09T02:01:19.390Z"
   },
   {
    "duration": 17,
    "start_time": "2022-12-09T02:01:19.400Z"
   },
   {
    "duration": 13,
    "start_time": "2022-12-09T02:01:19.421Z"
   },
   {
    "duration": 14,
    "start_time": "2022-12-09T02:01:19.436Z"
   },
   {
    "duration": 22,
    "start_time": "2022-12-09T02:01:19.452Z"
   },
   {
    "duration": 11,
    "start_time": "2022-12-09T02:01:19.475Z"
   },
   {
    "duration": 5,
    "start_time": "2022-12-09T02:01:19.487Z"
   },
   {
    "duration": 764,
    "start_time": "2022-12-09T02:01:19.494Z"
   },
   {
    "duration": 12,
    "start_time": "2022-12-09T02:01:20.261Z"
   },
   {
    "duration": 51,
    "start_time": "2022-12-09T02:01:20.275Z"
   },
   {
    "duration": 45,
    "start_time": "2022-12-09T02:01:20.327Z"
   },
   {
    "duration": 3947,
    "start_time": "2022-12-09T02:01:20.373Z"
   },
   {
    "duration": 4036,
    "start_time": "2022-12-09T02:01:27.096Z"
   },
   {
    "duration": 99,
    "start_time": "2022-12-09T02:01:31.136Z"
   },
   {
    "duration": 6,
    "start_time": "2022-12-09T02:09:53.613Z"
   },
   {
    "duration": 2,
    "start_time": "2022-12-09T02:10:13.949Z"
   },
   {
    "duration": 4,
    "start_time": "2022-12-09T02:10:22.699Z"
   },
   {
    "duration": 2,
    "start_time": "2022-12-09T02:11:10.992Z"
   },
   {
    "duration": 3,
    "start_time": "2022-12-09T02:11:12.788Z"
   },
   {
    "duration": 4,
    "start_time": "2022-12-09T02:11:31.031Z"
   },
   {
    "duration": 4,
    "start_time": "2022-12-09T02:11:46.673Z"
   },
   {
    "duration": 2,
    "start_time": "2022-12-09T02:12:11.875Z"
   },
   {
    "duration": 7,
    "start_time": "2022-12-09T02:14:17.711Z"
   },
   {
    "duration": 7,
    "start_time": "2022-12-09T02:14:37.128Z"
   },
   {
    "duration": 4075,
    "start_time": "2022-12-09T02:14:47.043Z"
   },
   {
    "duration": 9,
    "start_time": "2022-12-09T02:14:58.872Z"
   },
   {
    "duration": 22,
    "start_time": "2022-12-09T02:15:12.710Z"
   },
   {
    "duration": 4279,
    "start_time": "2022-12-09T02:15:18.749Z"
   },
   {
    "duration": 7,
    "start_time": "2022-12-09T02:15:30.230Z"
   },
   {
    "duration": 3172,
    "start_time": "2022-12-09T02:15:44.750Z"
   },
   {
    "duration": 7,
    "start_time": "2022-12-09T02:15:53.952Z"
   },
   {
    "duration": 4403,
    "start_time": "2022-12-09T02:17:27.118Z"
   },
   {
    "duration": 12,
    "start_time": "2022-12-09T02:18:16.045Z"
   },
   {
    "duration": 4,
    "start_time": "2022-12-09T02:21:48.363Z"
   },
   {
    "duration": 7,
    "start_time": "2022-12-09T02:22:06.329Z"
   },
   {
    "duration": 3782,
    "start_time": "2022-12-09T02:22:28.739Z"
   },
   {
    "duration": 8,
    "start_time": "2022-12-09T02:22:48.598Z"
   },
   {
    "duration": 21,
    "start_time": "2022-12-09T02:23:25.647Z"
   },
   {
    "duration": 6,
    "start_time": "2022-12-09T02:23:38.175Z"
   },
   {
    "duration": 156,
    "start_time": "2022-12-09T02:24:00.606Z"
   },
   {
    "duration": 150,
    "start_time": "2022-12-09T02:24:18.615Z"
   },
   {
    "duration": 141,
    "start_time": "2022-12-09T02:25:19.850Z"
   },
   {
    "duration": 152,
    "start_time": "2022-12-09T02:25:52.571Z"
   },
   {
    "duration": 8,
    "start_time": "2022-12-09T02:26:20.328Z"
   },
   {
    "duration": 3799,
    "start_time": "2022-12-09T02:26:22.139Z"
   },
   {
    "duration": 12,
    "start_time": "2022-12-09T02:26:26.019Z"
   },
   {
    "duration": 3797,
    "start_time": "2022-12-09T02:29:00.932Z"
   },
   {
    "duration": 8,
    "start_time": "2022-12-09T02:29:10.228Z"
   },
   {
    "duration": 12,
    "start_time": "2022-12-09T02:29:52.882Z"
   },
   {
    "duration": 9,
    "start_time": "2022-12-09T02:30:34.428Z"
   },
   {
    "duration": 136,
    "start_time": "2022-12-09T02:30:53.047Z"
   },
   {
    "duration": 135,
    "start_time": "2022-12-09T02:31:16.426Z"
   },
   {
    "duration": 340,
    "start_time": "2022-12-09T02:37:12.072Z"
   },
   {
    "duration": 4,
    "start_time": "2022-12-09T02:37:37.351Z"
   },
   {
    "duration": 5,
    "start_time": "2022-12-09T02:38:36.151Z"
   },
   {
    "duration": 10,
    "start_time": "2022-12-09T02:49:24.204Z"
   },
   {
    "duration": 6,
    "start_time": "2022-12-09T02:49:52.628Z"
   },
   {
    "duration": 11,
    "start_time": "2022-12-09T02:50:27.028Z"
   },
   {
    "duration": 30,
    "start_time": "2022-12-09T02:51:08.991Z"
   },
   {
    "duration": 4,
    "start_time": "2022-12-09T02:51:26.908Z"
   },
   {
    "duration": 14,
    "start_time": "2022-12-09T02:51:45.978Z"
   },
   {
    "duration": 44,
    "start_time": "2022-12-09T02:52:13.085Z"
   },
   {
    "duration": 7,
    "start_time": "2022-12-09T02:52:31.681Z"
   },
   {
    "duration": 3394,
    "start_time": "2022-12-09T02:52:35.728Z"
   },
   {
    "duration": 14,
    "start_time": "2022-12-09T02:52:39.125Z"
   },
   {
    "duration": 9,
    "start_time": "2022-12-09T02:56:30.985Z"
   },
   {
    "duration": 2,
    "start_time": "2022-12-09T02:57:45.135Z"
   },
   {
    "duration": 2,
    "start_time": "2022-12-09T02:57:48.712Z"
   },
   {
    "duration": 9,
    "start_time": "2022-12-09T03:02:05.604Z"
   },
   {
    "duration": 6,
    "start_time": "2022-12-09T03:02:16.996Z"
   },
   {
    "duration": 28,
    "start_time": "2022-12-09T03:03:54.034Z"
   },
   {
    "duration": 17,
    "start_time": "2022-12-09T03:04:05.595Z"
   },
   {
    "duration": 47,
    "start_time": "2022-12-09T03:04:25.154Z"
   },
   {
    "duration": 997,
    "start_time": "2022-12-09T03:04:29.585Z"
   },
   {
    "duration": 403,
    "start_time": "2022-12-09T03:04:30.584Z"
   },
   {
    "duration": 17,
    "start_time": "2022-12-09T03:04:30.988Z"
   },
   {
    "duration": 34,
    "start_time": "2022-12-09T03:04:31.007Z"
   },
   {
    "duration": 16,
    "start_time": "2022-12-09T03:04:31.043Z"
   },
   {
    "duration": 18,
    "start_time": "2022-12-09T03:04:31.060Z"
   },
   {
    "duration": 8,
    "start_time": "2022-12-09T03:04:31.079Z"
   },
   {
    "duration": 15,
    "start_time": "2022-12-09T03:04:31.089Z"
   },
   {
    "duration": 35,
    "start_time": "2022-12-09T03:04:31.106Z"
   },
   {
    "duration": 20,
    "start_time": "2022-12-09T03:04:31.143Z"
   },
   {
    "duration": 16,
    "start_time": "2022-12-09T03:04:31.164Z"
   },
   {
    "duration": 594,
    "start_time": "2022-12-09T03:04:31.181Z"
   },
   {
    "duration": 363,
    "start_time": "2022-12-09T03:04:31.777Z"
   },
   {
    "duration": 11,
    "start_time": "2022-12-09T03:04:32.143Z"
   },
   {
    "duration": 44,
    "start_time": "2022-12-09T03:04:32.156Z"
   },
   {
    "duration": 49,
    "start_time": "2022-12-09T03:04:32.202Z"
   },
   {
    "duration": 3720,
    "start_time": "2022-12-09T03:04:41.113Z"
   },
   {
    "duration": 18,
    "start_time": "2022-12-09T03:04:48.554Z"
   },
   {
    "duration": 3,
    "start_time": "2022-12-09T03:06:02.355Z"
   },
   {
    "duration": 4,
    "start_time": "2022-12-09T03:07:22.446Z"
   },
   {
    "duration": 16,
    "start_time": "2022-12-09T03:07:30.546Z"
   },
   {
    "duration": 8,
    "start_time": "2022-12-09T03:08:52.781Z"
   },
   {
    "duration": 12,
    "start_time": "2022-12-09T03:09:42.991Z"
   },
   {
    "duration": 4,
    "start_time": "2022-12-09T03:09:56.095Z"
   },
   {
    "duration": 4068,
    "start_time": "2022-12-09T03:10:02.658Z"
   },
   {
    "duration": 8,
    "start_time": "2022-12-09T03:10:09.681Z"
   },
   {
    "duration": 4065,
    "start_time": "2022-12-09T03:13:36.584Z"
   },
   {
    "duration": 14,
    "start_time": "2022-12-09T03:13:44.076Z"
   },
   {
    "duration": 11,
    "start_time": "2022-12-09T03:14:19.530Z"
   },
   {
    "duration": 5,
    "start_time": "2022-12-09T03:15:25.180Z"
   },
   {
    "duration": 4,
    "start_time": "2022-12-09T03:18:25.883Z"
   },
   {
    "duration": 5,
    "start_time": "2022-12-09T03:19:18.696Z"
   },
   {
    "duration": 7,
    "start_time": "2022-12-12T03:54:37.661Z"
   },
   {
    "duration": 8,
    "start_time": "2022-12-12T03:54:47.150Z"
   },
   {
    "duration": 1013,
    "start_time": "2022-12-13T15:26:37.543Z"
   },
   {
    "duration": 589,
    "start_time": "2022-12-13T15:26:38.558Z"
   },
   {
    "duration": 15,
    "start_time": "2022-12-13T15:26:39.149Z"
   },
   {
    "duration": 19,
    "start_time": "2022-12-13T15:26:39.165Z"
   },
   {
    "duration": 8,
    "start_time": "2022-12-13T15:26:39.186Z"
   },
   {
    "duration": 15,
    "start_time": "2022-12-13T15:26:39.195Z"
   },
   {
    "duration": 7,
    "start_time": "2022-12-13T15:26:39.211Z"
   },
   {
    "duration": 14,
    "start_time": "2022-12-13T15:26:39.220Z"
   },
   {
    "duration": 22,
    "start_time": "2022-12-13T15:26:39.235Z"
   },
   {
    "duration": 11,
    "start_time": "2022-12-13T15:26:39.258Z"
   },
   {
    "duration": 27,
    "start_time": "2022-12-13T15:26:39.270Z"
   },
   {
    "duration": 700,
    "start_time": "2022-12-13T15:26:39.299Z"
   },
   {
    "duration": 344,
    "start_time": "2022-12-13T15:26:40.001Z"
   },
   {
    "duration": 10,
    "start_time": "2022-12-13T15:26:40.348Z"
   },
   {
    "duration": 37,
    "start_time": "2022-12-13T15:26:40.360Z"
   },
   {
    "duration": 43,
    "start_time": "2022-12-13T15:26:40.399Z"
   },
   {
    "duration": 4961,
    "start_time": "2022-12-13T15:26:40.443Z"
   },
   {
    "duration": 100,
    "start_time": "2022-12-13T15:26:45.406Z"
   },
   {
    "duration": 19,
    "start_time": "2022-12-13T15:26:45.597Z"
   },
   {
    "duration": 4781,
    "start_time": "2022-12-13T15:26:45.618Z"
   },
   {
    "duration": 8,
    "start_time": "2022-12-13T15:26:50.400Z"
   },
   {
    "duration": 96,
    "start_time": "2022-12-13T15:26:50.410Z"
   },
   {
    "duration": 9,
    "start_time": "2022-12-13T15:26:50.598Z"
   },
   {
    "duration": 20,
    "start_time": "2022-12-13T15:26:50.608Z"
   },
   {
    "duration": 4969,
    "start_time": "2022-12-13T15:26:50.630Z"
   },
   {
    "duration": 7,
    "start_time": "2022-12-13T15:26:55.601Z"
   },
   {
    "duration": 191,
    "start_time": "2022-12-13T15:26:55.610Z"
   },
   {
    "duration": 3,
    "start_time": "2022-12-13T15:27:31.045Z"
   },
   {
    "duration": 381,
    "start_time": "2022-12-13T15:27:31.050Z"
   },
   {
    "duration": 9,
    "start_time": "2022-12-13T15:27:31.433Z"
   },
   {
    "duration": 42,
    "start_time": "2022-12-13T15:27:31.443Z"
   },
   {
    "duration": 10,
    "start_time": "2022-12-13T15:27:31.487Z"
   },
   {
    "duration": 23,
    "start_time": "2022-12-13T15:27:31.498Z"
   },
   {
    "duration": 11,
    "start_time": "2022-12-13T15:27:31.523Z"
   },
   {
    "duration": 22,
    "start_time": "2022-12-13T15:27:31.535Z"
   },
   {
    "duration": 22,
    "start_time": "2022-12-13T15:27:31.559Z"
   },
   {
    "duration": 8,
    "start_time": "2022-12-13T15:27:31.583Z"
   },
   {
    "duration": 15,
    "start_time": "2022-12-13T15:27:31.593Z"
   },
   {
    "duration": 304,
    "start_time": "2022-12-13T15:27:31.609Z"
   },
   {
    "duration": 324,
    "start_time": "2022-12-13T15:27:31.915Z"
   },
   {
    "duration": 10,
    "start_time": "2022-12-13T15:27:32.242Z"
   },
   {
    "duration": 29,
    "start_time": "2022-12-13T15:27:32.254Z"
   },
   {
    "duration": 51,
    "start_time": "2022-12-13T15:27:32.284Z"
   },
   {
    "duration": 4163,
    "start_time": "2022-12-13T15:27:32.336Z"
   },
   {
    "duration": 97,
    "start_time": "2022-12-13T15:27:36.504Z"
   },
   {
    "duration": 96,
    "start_time": "2022-12-13T15:27:36.605Z"
   },
   {
    "duration": 3998,
    "start_time": "2022-12-13T15:27:36.703Z"
   },
   {
    "duration": 11,
    "start_time": "2022-12-13T15:27:40.797Z"
   },
   {
    "duration": 5,
    "start_time": "2022-12-13T15:27:40.899Z"
   },
   {
    "duration": 97,
    "start_time": "2022-12-13T15:27:40.906Z"
   },
   {
    "duration": 4,
    "start_time": "2022-12-13T15:27:41.005Z"
   },
   {
    "duration": 4191,
    "start_time": "2022-12-13T15:27:41.011Z"
   },
   {
    "duration": 98,
    "start_time": "2022-12-13T15:27:45.204Z"
   },
   {
    "duration": 104,
    "start_time": "2022-12-13T15:27:45.304Z"
   },
   {
    "duration": 93,
    "start_time": "2022-12-13T15:27:45.410Z"
   },
   {
    "duration": 7,
    "start_time": "2022-12-13T15:27:45.505Z"
   },
   {
    "duration": 3,
    "start_time": "2022-12-13T15:27:50.443Z"
   },
   {
    "duration": 4,
    "start_time": "2022-12-13T15:27:51.345Z"
   },
   {
    "duration": 7,
    "start_time": "2022-12-13T15:28:27.893Z"
   },
   {
    "duration": 6,
    "start_time": "2022-12-13T15:28:48.899Z"
   },
   {
    "duration": 7,
    "start_time": "2022-12-13T15:29:00.850Z"
   },
   {
    "duration": 4,
    "start_time": "2022-12-13T15:29:48.368Z"
   },
   {
    "duration": 7,
    "start_time": "2022-12-13T15:29:58.604Z"
   },
   {
    "duration": 4,
    "start_time": "2022-12-13T16:19:37.987Z"
   },
   {
    "duration": 8,
    "start_time": "2022-12-13T16:19:41.427Z"
   },
   {
    "duration": 4,
    "start_time": "2022-12-13T16:20:02.518Z"
   },
   {
    "duration": 4,
    "start_time": "2022-12-13T16:20:12.213Z"
   },
   {
    "duration": 5,
    "start_time": "2022-12-13T16:20:15.351Z"
   },
   {
    "duration": 4,
    "start_time": "2022-12-13T16:20:25.876Z"
   },
   {
    "duration": 4,
    "start_time": "2022-12-13T16:20:30.928Z"
   },
   {
    "duration": 4,
    "start_time": "2022-12-13T16:20:55.933Z"
   },
   {
    "duration": 7,
    "start_time": "2022-12-13T16:21:07.152Z"
   },
   {
    "duration": 5,
    "start_time": "2022-12-13T16:22:48.576Z"
   },
   {
    "duration": 3,
    "start_time": "2022-12-13T16:23:16.818Z"
   },
   {
    "duration": 6,
    "start_time": "2022-12-13T16:23:18.216Z"
   },
   {
    "duration": 4,
    "start_time": "2022-12-13T16:23:45.786Z"
   },
   {
    "duration": 6,
    "start_time": "2022-12-13T16:24:08.983Z"
   },
   {
    "duration": 7,
    "start_time": "2022-12-13T16:24:28.596Z"
   },
   {
    "duration": 7,
    "start_time": "2022-12-13T16:24:47.492Z"
   },
   {
    "duration": 7,
    "start_time": "2022-12-13T16:25:12.073Z"
   },
   {
    "duration": 9,
    "start_time": "2022-12-13T16:25:26.720Z"
   },
   {
    "duration": 990,
    "start_time": "2022-12-14T01:48:08.474Z"
   },
   {
    "duration": 629,
    "start_time": "2022-12-14T01:48:09.465Z"
   },
   {
    "duration": 15,
    "start_time": "2022-12-14T01:48:10.096Z"
   },
   {
    "duration": 17,
    "start_time": "2022-12-14T01:48:10.113Z"
   },
   {
    "duration": 10,
    "start_time": "2022-12-14T01:48:10.131Z"
   },
   {
    "duration": 18,
    "start_time": "2022-12-14T01:48:10.143Z"
   },
   {
    "duration": 8,
    "start_time": "2022-12-14T01:48:10.163Z"
   },
   {
    "duration": 15,
    "start_time": "2022-12-14T01:48:10.172Z"
   },
   {
    "duration": 23,
    "start_time": "2022-12-14T01:48:10.215Z"
   },
   {
    "duration": 12,
    "start_time": "2022-12-14T01:48:10.240Z"
   },
   {
    "duration": 6,
    "start_time": "2022-12-14T01:48:10.253Z"
   },
   {
    "duration": 708,
    "start_time": "2022-12-14T01:48:10.261Z"
   },
   {
    "duration": 323,
    "start_time": "2022-12-14T01:48:10.970Z"
   },
   {
    "duration": 20,
    "start_time": "2022-12-14T01:48:11.295Z"
   },
   {
    "duration": 34,
    "start_time": "2022-12-14T01:48:11.317Z"
   },
   {
    "duration": 45,
    "start_time": "2022-12-14T01:48:11.353Z"
   },
   {
    "duration": 5418,
    "start_time": "2022-12-14T01:48:11.400Z"
   },
   {
    "duration": 100,
    "start_time": "2022-12-14T01:48:16.821Z"
   },
   {
    "duration": 194,
    "start_time": "2022-12-14T01:48:16.923Z"
   },
   {
    "duration": 5307,
    "start_time": "2022-12-14T01:48:17.118Z"
   },
   {
    "duration": 7,
    "start_time": "2022-12-14T01:48:22.516Z"
   },
   {
    "duration": 196,
    "start_time": "2022-12-14T01:48:22.525Z"
   },
   {
    "duration": 2,
    "start_time": "2022-12-14T01:48:22.723Z"
   },
   {
    "duration": 4,
    "start_time": "2022-12-14T01:48:22.726Z"
   },
   {
    "duration": 5485,
    "start_time": "2022-12-14T01:48:22.732Z"
   },
   {
    "duration": 100,
    "start_time": "2022-12-14T01:48:28.219Z"
   },
   {
    "duration": 100,
    "start_time": "2022-12-14T01:48:28.322Z"
   },
   {
    "duration": 7,
    "start_time": "2022-12-14T01:48:28.425Z"
   },
   {
    "duration": 3,
    "start_time": "2022-12-14T01:56:39.234Z"
   },
   {
    "duration": 104,
    "start_time": "2022-12-14T01:57:04.614Z"
   },
   {
    "duration": 9,
    "start_time": "2022-12-14T01:57:17.324Z"
   },
   {
    "duration": 3,
    "start_time": "2022-12-14T01:57:45.856Z"
   },
   {
    "duration": 12,
    "start_time": "2022-12-14T01:57:47.821Z"
   },
   {
    "duration": 2,
    "start_time": "2022-12-14T01:58:05.720Z"
   },
   {
    "duration": 5,
    "start_time": "2022-12-14T01:58:07.250Z"
   },
   {
    "duration": 19,
    "start_time": "2022-12-14T02:03:03.749Z"
   },
   {
    "duration": 17,
    "start_time": "2022-12-14T02:03:23.580Z"
   },
   {
    "duration": 17,
    "start_time": "2022-12-14T02:03:31.909Z"
   },
   {
    "duration": 5,
    "start_time": "2022-12-14T02:05:01.569Z"
   },
   {
    "duration": 49,
    "start_time": "2022-12-14T02:11:03.928Z"
   },
   {
    "duration": 41,
    "start_time": "2022-12-14T02:11:11.212Z"
   },
   {
    "duration": 2,
    "start_time": "2022-12-14T02:11:17.378Z"
   },
   {
    "duration": 12,
    "start_time": "2022-12-14T02:11:37.448Z"
   },
   {
    "duration": 3,
    "start_time": "2022-12-14T02:13:18.378Z"
   },
   {
    "duration": 9,
    "start_time": "2022-12-14T02:13:33.049Z"
   },
   {
    "duration": 8,
    "start_time": "2022-12-14T02:14:02.319Z"
   },
   {
    "duration": 3,
    "start_time": "2022-12-14T02:14:25.918Z"
   },
   {
    "duration": 10,
    "start_time": "2022-12-14T02:14:48.785Z"
   },
   {
    "duration": 14,
    "start_time": "2022-12-14T02:15:37.888Z"
   },
   {
    "duration": 4,
    "start_time": "2022-12-14T02:16:05.200Z"
   },
   {
    "duration": 3,
    "start_time": "2022-12-14T02:16:13.298Z"
   },
   {
    "duration": 5,
    "start_time": "2022-12-14T02:16:15.522Z"
   },
   {
    "duration": 13,
    "start_time": "2022-12-14T02:16:31.131Z"
   },
   {
    "duration": 4,
    "start_time": "2022-12-14T02:16:41.473Z"
   },
   {
    "duration": 5,
    "start_time": "2022-12-14T02:17:19.979Z"
   },
   {
    "duration": 3,
    "start_time": "2022-12-14T02:17:34.159Z"
   },
   {
    "duration": 4,
    "start_time": "2022-12-14T02:17:36.558Z"
   },
   {
    "duration": 12,
    "start_time": "2022-12-14T02:17:44.289Z"
   },
   {
    "duration": 4,
    "start_time": "2022-12-14T02:17:48.679Z"
   },
   {
    "duration": 4,
    "start_time": "2022-12-14T02:18:13.288Z"
   },
   {
    "duration": 4,
    "start_time": "2022-12-14T02:18:30.963Z"
   },
   {
    "duration": 5588,
    "start_time": "2022-12-14T02:19:30.928Z"
   },
   {
    "duration": 5224,
    "start_time": "2022-12-14T02:21:33.693Z"
   },
   {
    "duration": 385,
    "start_time": "2022-12-14T02:35:52.501Z"
   },
   {
    "duration": 9,
    "start_time": "2022-12-14T02:36:09.487Z"
   },
   {
    "duration": 13,
    "start_time": "2022-12-14T02:36:42.930Z"
   },
   {
    "duration": 22,
    "start_time": "2022-12-14T02:50:59.666Z"
   },
   {
    "duration": 23,
    "start_time": "2022-12-14T02:51:33.016Z"
   },
   {
    "duration": 23,
    "start_time": "2022-12-14T02:51:41.416Z"
   },
   {
    "duration": 23,
    "start_time": "2022-12-14T02:51:50.216Z"
   },
   {
    "duration": 11,
    "start_time": "2022-12-14T02:52:44.855Z"
   },
   {
    "duration": 32,
    "start_time": "2022-12-14T02:54:26.354Z"
   },
   {
    "duration": 12,
    "start_time": "2022-12-14T02:54:36.989Z"
   },
   {
    "duration": 21,
    "start_time": "2022-12-14T02:57:00.741Z"
   },
   {
    "duration": 80,
    "start_time": "2022-12-14T02:58:24.733Z"
   },
   {
    "duration": 10,
    "start_time": "2022-12-14T02:58:40.159Z"
   },
   {
    "duration": 32,
    "start_time": "2022-12-14T02:58:54.484Z"
   },
   {
    "duration": 11,
    "start_time": "2022-12-14T02:58:56.878Z"
   },
   {
    "duration": 78,
    "start_time": "2022-12-14T02:59:22.572Z"
   },
   {
    "duration": 87,
    "start_time": "2022-12-14T03:00:12.471Z"
   },
   {
    "duration": 46,
    "start_time": "2022-12-14T03:32:24.091Z"
   },
   {
    "duration": 13,
    "start_time": "2022-12-14T03:32:29.539Z"
   },
   {
    "duration": 8444,
    "start_time": "2022-12-14T03:32:52.079Z"
   },
   {
    "duration": 14,
    "start_time": "2022-12-14T03:36:21.152Z"
   },
   {
    "duration": 7,
    "start_time": "2022-12-14T03:36:54.517Z"
   },
   {
    "duration": 22,
    "start_time": "2022-12-14T03:37:44.373Z"
   },
   {
    "duration": 7,
    "start_time": "2022-12-14T03:37:54.955Z"
   },
   {
    "duration": 7,
    "start_time": "2022-12-14T03:38:29.681Z"
   },
   {
    "duration": 4,
    "start_time": "2022-12-14T03:38:58.483Z"
   },
   {
    "duration": 4,
    "start_time": "2022-12-14T03:39:11.481Z"
   },
   {
    "duration": 16493,
    "start_time": "2022-12-14T03:39:25.523Z"
   },
   {
    "duration": 14,
    "start_time": "2022-12-14T03:39:58.366Z"
   },
   {
    "duration": 10,
    "start_time": "2022-12-14T03:40:19.807Z"
   },
   {
    "duration": 9,
    "start_time": "2022-12-14T03:40:31.717Z"
   },
   {
    "duration": 8,
    "start_time": "2022-12-14T03:41:16.511Z"
   },
   {
    "duration": 12876,
    "start_time": "2022-12-14T03:41:58.149Z"
   },
   {
    "duration": 93,
    "start_time": "2022-12-14T03:42:11.030Z"
   },
   {
    "duration": 9,
    "start_time": "2022-12-14T03:43:14.557Z"
   },
   {
    "duration": 65,
    "start_time": "2022-12-14T03:43:34.126Z"
   },
   {
    "duration": 8,
    "start_time": "2022-12-14T03:43:53.948Z"
   },
   {
    "duration": 4,
    "start_time": "2022-12-14T03:44:39.182Z"
   },
   {
    "duration": 9,
    "start_time": "2022-12-14T03:44:52.913Z"
   },
   {
    "duration": 3,
    "start_time": "2022-12-14T03:45:10.293Z"
   },
   {
    "duration": 4,
    "start_time": "2022-12-14T03:45:29.283Z"
   },
   {
    "duration": 4,
    "start_time": "2022-12-14T03:45:53.291Z"
   },
   {
    "duration": 16159,
    "start_time": "2022-12-14T03:46:11.859Z"
   },
   {
    "duration": 96,
    "start_time": "2022-12-14T03:46:28.020Z"
   },
   {
    "duration": 4,
    "start_time": "2022-12-14T03:48:31.415Z"
   },
   {
    "duration": 6,
    "start_time": "2022-12-14T03:48:38.955Z"
   },
   {
    "duration": 8,
    "start_time": "2022-12-14T03:49:57.414Z"
   },
   {
    "duration": 17,
    "start_time": "2022-12-14T03:52:30.610Z"
   },
   {
    "duration": 16,
    "start_time": "2022-12-14T03:52:59.369Z"
   },
   {
    "duration": 15,
    "start_time": "2022-12-14T03:54:15.044Z"
   },
   {
    "duration": 7,
    "start_time": "2022-12-14T03:55:22.641Z"
   },
   {
    "duration": 12,
    "start_time": "2022-12-14T03:58:07.708Z"
   },
   {
    "duration": 9,
    "start_time": "2022-12-14T03:59:19.900Z"
   },
   {
    "duration": 4,
    "start_time": "2022-12-14T03:59:30.421Z"
   },
   {
    "duration": 9,
    "start_time": "2022-12-14T03:59:31.699Z"
   },
   {
    "duration": 7,
    "start_time": "2022-12-14T04:00:02.394Z"
   },
   {
    "duration": 16,
    "start_time": "2022-12-14T04:00:38.065Z"
   },
   {
    "duration": 15,
    "start_time": "2022-12-14T04:01:09.956Z"
   },
   {
    "duration": 64,
    "start_time": "2022-12-14T04:01:28.354Z"
   },
   {
    "duration": 3,
    "start_time": "2022-12-14T04:01:33.976Z"
   },
   {
    "duration": 17,
    "start_time": "2022-12-14T04:01:35.646Z"
   },
   {
    "duration": 16,
    "start_time": "2022-12-14T04:02:14.197Z"
   },
   {
    "duration": 3,
    "start_time": "2022-12-14T04:09:44.810Z"
   },
   {
    "duration": 134,
    "start_time": "2022-12-14T04:09:59.883Z"
   },
   {
    "duration": 10,
    "start_time": "2022-12-14T04:28:43.911Z"
   },
   {
    "duration": 100,
    "start_time": "2022-12-14T04:28:50.922Z"
   },
   {
    "duration": 146,
    "start_time": "2022-12-14T04:29:50.615Z"
   },
   {
    "duration": 128,
    "start_time": "2022-12-14T04:30:01.058Z"
   },
   {
    "duration": 136,
    "start_time": "2022-12-14T04:30:37.783Z"
   },
   {
    "duration": 129,
    "start_time": "2022-12-14T04:30:55.260Z"
   },
   {
    "duration": 123,
    "start_time": "2022-12-14T04:31:36.775Z"
   },
   {
    "duration": 130,
    "start_time": "2022-12-14T04:34:04.134Z"
   },
   {
    "duration": 130,
    "start_time": "2022-12-14T04:34:33.910Z"
   },
   {
    "duration": 129,
    "start_time": "2022-12-14T04:34:43.713Z"
   },
   {
    "duration": 128,
    "start_time": "2022-12-14T04:38:07.004Z"
   },
   {
    "duration": 111,
    "start_time": "2022-12-14T04:38:28.566Z"
   },
   {
    "duration": 133,
    "start_time": "2022-12-14T04:38:52.250Z"
   },
   {
    "duration": 110,
    "start_time": "2022-12-14T04:38:57.264Z"
   },
   {
    "duration": 127,
    "start_time": "2022-12-14T04:39:06.592Z"
   },
   {
    "duration": 154,
    "start_time": "2022-12-14T04:41:39.893Z"
   },
   {
    "duration": 148,
    "start_time": "2022-12-14T04:42:00.102Z"
   },
   {
    "duration": 134,
    "start_time": "2022-12-14T04:42:50.323Z"
   },
   {
    "duration": 259,
    "start_time": "2022-12-14T04:43:59.212Z"
   },
   {
    "duration": 504,
    "start_time": "2022-12-14T04:45:13.661Z"
   },
   {
    "duration": 289,
    "start_time": "2022-12-14T04:45:24.495Z"
   },
   {
    "duration": 251,
    "start_time": "2022-12-14T04:46:45.140Z"
   },
   {
    "duration": 169,
    "start_time": "2022-12-14T04:47:16.303Z"
   },
   {
    "duration": 259,
    "start_time": "2022-12-14T04:47:52.027Z"
   },
   {
    "duration": 126,
    "start_time": "2022-12-14T04:49:15.054Z"
   },
   {
    "duration": 116,
    "start_time": "2022-12-14T04:49:32.256Z"
   },
   {
    "duration": 260,
    "start_time": "2022-12-14T04:49:37.943Z"
   },
   {
    "duration": 42,
    "start_time": "2022-12-14T04:52:54.094Z"
   },
   {
    "duration": 57,
    "start_time": "2022-12-14T04:53:02.153Z"
   },
   {
    "duration": 222,
    "start_time": "2022-12-14T04:53:13.462Z"
   },
   {
    "duration": 248,
    "start_time": "2022-12-14T04:53:22.540Z"
   },
   {
    "duration": 116,
    "start_time": "2022-12-14T04:56:34.773Z"
   },
   {
    "duration": 224,
    "start_time": "2022-12-14T04:57:31.661Z"
   },
   {
    "duration": 295,
    "start_time": "2022-12-14T04:57:51.697Z"
   },
   {
    "duration": 260,
    "start_time": "2022-12-14T04:59:36.629Z"
   },
   {
    "duration": 113,
    "start_time": "2022-12-14T04:59:55.014Z"
   },
   {
    "duration": 41,
    "start_time": "2022-12-14T05:04:07.384Z"
   },
   {
    "duration": 231,
    "start_time": "2022-12-14T05:04:45.254Z"
   },
   {
    "duration": 294,
    "start_time": "2022-12-14T05:05:04.004Z"
   },
   {
    "duration": 273,
    "start_time": "2022-12-14T05:06:08.821Z"
   },
   {
    "duration": 240,
    "start_time": "2022-12-14T05:07:52.733Z"
   },
   {
    "duration": 215,
    "start_time": "2022-12-14T05:08:24.469Z"
   },
   {
    "duration": 294,
    "start_time": "2022-12-14T05:09:21.897Z"
   },
   {
    "duration": 283,
    "start_time": "2022-12-14T05:10:01.192Z"
   },
   {
    "duration": 271,
    "start_time": "2022-12-14T05:10:07.709Z"
   },
   {
    "duration": 240,
    "start_time": "2022-12-14T05:11:00.049Z"
   },
   {
    "duration": 260,
    "start_time": "2022-12-14T05:11:12.633Z"
   },
   {
    "duration": 255,
    "start_time": "2022-12-14T05:11:40.448Z"
   },
   {
    "duration": 145,
    "start_time": "2022-12-14T05:12:11.279Z"
   },
   {
    "duration": 159,
    "start_time": "2022-12-14T05:12:36.298Z"
   },
   {
    "duration": 121,
    "start_time": "2022-12-14T05:12:55.749Z"
   },
   {
    "duration": 4,
    "start_time": "2022-12-14T05:15:44.421Z"
   },
   {
    "duration": 4,
    "start_time": "2022-12-14T05:16:31.466Z"
   },
   {
    "duration": 4,
    "start_time": "2022-12-14T05:16:44.492Z"
   },
   {
    "duration": 58,
    "start_time": "2022-12-14T05:18:51.292Z"
   },
   {
    "duration": 10,
    "start_time": "2022-12-14T05:18:56.934Z"
   },
   {
    "duration": 4,
    "start_time": "2022-12-14T05:19:02.321Z"
   },
   {
    "duration": 4,
    "start_time": "2022-12-14T05:21:34.675Z"
   },
   {
    "duration": 4,
    "start_time": "2022-12-14T05:22:47.971Z"
   },
   {
    "duration": 4,
    "start_time": "2022-12-14T05:23:16.411Z"
   },
   {
    "duration": 4,
    "start_time": "2022-12-14T05:30:51.152Z"
   },
   {
    "duration": 4,
    "start_time": "2022-12-14T05:49:38.879Z"
   },
   {
    "duration": 3,
    "start_time": "2022-12-14T05:49:50.838Z"
   },
   {
    "duration": 4,
    "start_time": "2022-12-14T05:50:03.959Z"
   },
   {
    "duration": 4,
    "start_time": "2022-12-14T05:55:54.038Z"
   },
   {
    "duration": 10,
    "start_time": "2022-12-14T05:55:59.039Z"
   },
   {
    "duration": 1525,
    "start_time": "2022-12-14T06:19:21.486Z"
   },
   {
    "duration": 1454,
    "start_time": "2022-12-14T06:19:48.416Z"
   },
   {
    "duration": 1505,
    "start_time": "2022-12-14T06:20:01.169Z"
   },
   {
    "duration": 5,
    "start_time": "2022-12-14T06:23:10.668Z"
   },
   {
    "duration": 1485,
    "start_time": "2022-12-14T06:24:47.956Z"
   },
   {
    "duration": 4476,
    "start_time": "2022-12-14T06:25:02.630Z"
   },
   {
    "duration": 4,
    "start_time": "2022-12-14T06:25:28.804Z"
   },
   {
    "duration": 10,
    "start_time": "2022-12-14T07:15:45.256Z"
   },
   {
    "duration": 18,
    "start_time": "2022-12-14T07:18:15.607Z"
   },
   {
    "duration": 1457,
    "start_time": "2022-12-14T07:19:23.816Z"
   },
   {
    "duration": 4537,
    "start_time": "2022-12-14T07:20:06.570Z"
   },
   {
    "duration": 5,
    "start_time": "2022-12-14T07:20:33.945Z"
   },
   {
    "duration": 5,
    "start_time": "2022-12-14T07:24:24.444Z"
   },
   {
    "duration": 5,
    "start_time": "2022-12-14T07:24:26.374Z"
   },
   {
    "duration": 5,
    "start_time": "2022-12-14T07:24:42.183Z"
   },
   {
    "duration": 5,
    "start_time": "2022-12-14T07:24:44.044Z"
   },
   {
    "duration": 5,
    "start_time": "2022-12-14T07:24:54.553Z"
   },
   {
    "duration": 6,
    "start_time": "2022-12-14T07:25:12.927Z"
   },
   {
    "duration": 7,
    "start_time": "2022-12-14T07:35:36.768Z"
   },
   {
    "duration": 4,
    "start_time": "2022-12-14T07:35:38.235Z"
   },
   {
    "duration": 5,
    "start_time": "2022-12-14T07:35:39.519Z"
   },
   {
    "duration": 4592,
    "start_time": "2022-12-14T07:35:41.557Z"
   },
   {
    "duration": 6,
    "start_time": "2022-12-14T07:35:46.151Z"
   },
   {
    "duration": 4,
    "start_time": "2022-12-14T07:35:46.766Z"
   },
   {
    "duration": 5,
    "start_time": "2022-12-14T07:35:47.847Z"
   },
   {
    "duration": 11,
    "start_time": "2022-12-14T07:40:09.264Z"
   },
   {
    "duration": 4875,
    "start_time": "2022-12-14T07:40:26.262Z"
   },
   {
    "duration": 5,
    "start_time": "2022-12-14T07:40:36.881Z"
   },
   {
    "duration": 5,
    "start_time": "2022-12-14T07:40:56.081Z"
   },
   {
    "duration": 6,
    "start_time": "2022-12-14T07:40:59.133Z"
   },
   {
    "duration": 6,
    "start_time": "2022-12-14T07:41:02.713Z"
   },
   {
    "duration": 4,
    "start_time": "2022-12-14T07:41:07.702Z"
   },
   {
    "duration": 13,
    "start_time": "2022-12-14T07:42:18.537Z"
   },
   {
    "duration": 7,
    "start_time": "2022-12-14T07:42:44.111Z"
   },
   {
    "duration": 5,
    "start_time": "2022-12-14T07:43:00.430Z"
   },
   {
    "duration": 3518,
    "start_time": "2022-12-14T07:45:23.693Z"
   },
   {
    "duration": 3,
    "start_time": "2022-12-14T07:45:27.214Z"
   },
   {
    "duration": 14,
    "start_time": "2022-12-14T07:45:29.358Z"
   },
   {
    "duration": 6,
    "start_time": "2022-12-14T07:45:52.069Z"
   },
   {
    "duration": 9,
    "start_time": "2022-12-14T07:46:14.801Z"
   },
   {
    "duration": 10,
    "start_time": "2022-12-14T07:46:25.890Z"
   },
   {
    "duration": 18,
    "start_time": "2022-12-14T07:46:28.011Z"
   },
   {
    "duration": 9,
    "start_time": "2022-12-14T07:46:30.450Z"
   },
   {
    "duration": 17,
    "start_time": "2022-12-14T07:46:54.802Z"
   },
   {
    "duration": 3,
    "start_time": "2022-12-14T07:47:05.971Z"
   },
   {
    "duration": 16,
    "start_time": "2022-12-14T07:47:13.193Z"
   },
   {
    "duration": 53,
    "start_time": "2022-12-14T07:47:47.539Z"
   },
   {
    "duration": 2667,
    "start_time": "2022-12-14T07:47:55.912Z"
   },
   {
    "duration": 5,
    "start_time": "2022-12-14T07:47:59.460Z"
   },
   {
    "duration": 7,
    "start_time": "2022-12-14T07:48:01.333Z"
   },
   {
    "duration": 7,
    "start_time": "2022-12-14T07:48:15.200Z"
   },
   {
    "duration": 9,
    "start_time": "2022-12-14T07:48:17.937Z"
   },
   {
    "duration": 7,
    "start_time": "2022-12-14T07:48:19.674Z"
   },
   {
    "duration": 2626,
    "start_time": "2022-12-14T07:48:32.293Z"
   },
   {
    "duration": 14,
    "start_time": "2022-12-14T07:48:40.240Z"
   },
   {
    "duration": 4,
    "start_time": "2022-12-14T07:48:46.697Z"
   },
   {
    "duration": 5,
    "start_time": "2022-12-14T07:48:53.272Z"
   },
   {
    "duration": 4,
    "start_time": "2022-12-14T07:48:54.762Z"
   },
   {
    "duration": 4,
    "start_time": "2022-12-14T07:48:57.700Z"
   },
   {
    "duration": 7,
    "start_time": "2022-12-14T07:49:39.481Z"
   },
   {
    "duration": 5,
    "start_time": "2022-12-14T07:49:42.099Z"
   },
   {
    "duration": 5,
    "start_time": "2022-12-14T07:49:47.097Z"
   },
   {
    "duration": 20,
    "start_time": "2022-12-14T07:50:34.052Z"
   },
   {
    "duration": 8,
    "start_time": "2022-12-14T07:51:49.710Z"
   },
   {
    "duration": 4,
    "start_time": "2022-12-14T07:51:51.727Z"
   },
   {
    "duration": 5,
    "start_time": "2022-12-14T07:51:54.030Z"
   },
   {
    "duration": 2827,
    "start_time": "2022-12-14T07:53:39.642Z"
   },
   {
    "duration": 6,
    "start_time": "2022-12-14T07:53:56.194Z"
   },
   {
    "duration": 9,
    "start_time": "2022-12-14T07:55:12.866Z"
   },
   {
    "duration": 7,
    "start_time": "2022-12-14T07:55:37.957Z"
   },
   {
    "duration": 7,
    "start_time": "2022-12-14T07:56:56.344Z"
   },
   {
    "duration": 20,
    "start_time": "2022-12-14T07:58:11.657Z"
   },
   {
    "duration": 9,
    "start_time": "2022-12-14T07:59:23.584Z"
   },
   {
    "duration": 6,
    "start_time": "2022-12-14T07:59:40.701Z"
   },
   {
    "duration": 7,
    "start_time": "2022-12-14T07:59:57.559Z"
   },
   {
    "duration": 4,
    "start_time": "2022-12-14T08:06:30.935Z"
   },
   {
    "duration": 8,
    "start_time": "2022-12-14T08:14:16.544Z"
   },
   {
    "duration": 7,
    "start_time": "2022-12-14T08:16:01.026Z"
   },
   {
    "duration": 7,
    "start_time": "2022-12-14T08:16:30.596Z"
   },
   {
    "duration": 5,
    "start_time": "2022-12-14T08:25:57.841Z"
   },
   {
    "duration": 8,
    "start_time": "2022-12-14T08:25:58.671Z"
   },
   {
    "duration": 8,
    "start_time": "2022-12-14T08:26:01.641Z"
   },
   {
    "duration": 11,
    "start_time": "2022-12-14T08:37:12.937Z"
   },
   {
    "duration": 10,
    "start_time": "2022-12-14T08:38:52.297Z"
   },
   {
    "duration": 920,
    "start_time": "2022-12-14T08:41:43.873Z"
   },
   {
    "duration": 1542,
    "start_time": "2022-12-15T01:09:59.388Z"
   },
   {
    "duration": 627,
    "start_time": "2022-12-15T01:10:00.932Z"
   },
   {
    "duration": 331,
    "start_time": "2022-12-15T01:10:01.561Z"
   },
   {
    "duration": 16,
    "start_time": "2022-12-15T01:10:01.894Z"
   },
   {
    "duration": 19,
    "start_time": "2022-12-15T01:10:01.916Z"
   },
   {
    "duration": 23,
    "start_time": "2022-12-15T01:10:01.937Z"
   },
   {
    "duration": 9,
    "start_time": "2022-12-15T01:10:01.962Z"
   },
   {
    "duration": 29,
    "start_time": "2022-12-15T01:10:01.973Z"
   },
   {
    "duration": 12,
    "start_time": "2022-12-15T01:10:02.004Z"
   },
   {
    "duration": 25,
    "start_time": "2022-12-15T01:10:02.018Z"
   },
   {
    "duration": 34,
    "start_time": "2022-12-15T01:10:02.045Z"
   },
   {
    "duration": 24,
    "start_time": "2022-12-15T01:10:02.080Z"
   },
   {
    "duration": 13,
    "start_time": "2022-12-15T01:10:02.106Z"
   },
   {
    "duration": 358,
    "start_time": "2022-12-15T01:10:02.123Z"
   },
   {
    "duration": 332,
    "start_time": "2022-12-15T01:10:02.483Z"
   },
   {
    "duration": 11,
    "start_time": "2022-12-15T01:10:02.817Z"
   },
   {
    "duration": 110,
    "start_time": "2022-12-15T01:10:02.830Z"
   },
   {
    "duration": 0,
    "start_time": "2022-12-15T01:10:02.943Z"
   },
   {
    "duration": 0,
    "start_time": "2022-12-15T01:10:02.944Z"
   },
   {
    "duration": 0,
    "start_time": "2022-12-15T01:10:02.945Z"
   },
   {
    "duration": 0,
    "start_time": "2022-12-15T01:10:02.946Z"
   },
   {
    "duration": 0,
    "start_time": "2022-12-15T01:10:02.948Z"
   },
   {
    "duration": 0,
    "start_time": "2022-12-15T01:10:02.949Z"
   },
   {
    "duration": 0,
    "start_time": "2022-12-15T01:10:02.951Z"
   },
   {
    "duration": 0,
    "start_time": "2022-12-15T01:10:02.952Z"
   },
   {
    "duration": 0,
    "start_time": "2022-12-15T01:10:02.953Z"
   },
   {
    "duration": 0,
    "start_time": "2022-12-15T01:10:02.955Z"
   },
   {
    "duration": 0,
    "start_time": "2022-12-15T01:10:02.956Z"
   },
   {
    "duration": 0,
    "start_time": "2022-12-15T01:10:02.958Z"
   },
   {
    "duration": 0,
    "start_time": "2022-12-15T01:10:02.959Z"
   },
   {
    "duration": 0,
    "start_time": "2022-12-15T01:10:02.960Z"
   },
   {
    "duration": 0,
    "start_time": "2022-12-15T01:10:02.961Z"
   },
   {
    "duration": 0,
    "start_time": "2022-12-15T01:10:02.962Z"
   },
   {
    "duration": 0,
    "start_time": "2022-12-15T01:10:02.963Z"
   },
   {
    "duration": 0,
    "start_time": "2022-12-15T01:10:02.964Z"
   },
   {
    "duration": 0,
    "start_time": "2022-12-15T01:10:02.965Z"
   },
   {
    "duration": 0,
    "start_time": "2022-12-15T01:10:02.966Z"
   },
   {
    "duration": 0,
    "start_time": "2022-12-15T01:10:02.967Z"
   },
   {
    "duration": 0,
    "start_time": "2022-12-15T01:10:03.015Z"
   },
   {
    "duration": 0,
    "start_time": "2022-12-15T01:10:03.016Z"
   },
   {
    "duration": 0,
    "start_time": "2022-12-15T01:10:03.017Z"
   },
   {
    "duration": 0,
    "start_time": "2022-12-15T01:10:03.018Z"
   },
   {
    "duration": 0,
    "start_time": "2022-12-15T01:10:03.019Z"
   },
   {
    "duration": 0,
    "start_time": "2022-12-15T01:10:03.020Z"
   },
   {
    "duration": 0,
    "start_time": "2022-12-15T01:10:03.021Z"
   },
   {
    "duration": 0,
    "start_time": "2022-12-15T01:10:03.023Z"
   },
   {
    "duration": 0,
    "start_time": "2022-12-15T01:10:03.024Z"
   },
   {
    "duration": 0,
    "start_time": "2022-12-15T01:10:03.025Z"
   },
   {
    "duration": 3,
    "start_time": "2022-12-15T01:10:41.795Z"
   },
   {
    "duration": 379,
    "start_time": "2022-12-15T01:10:41.800Z"
   },
   {
    "duration": 343,
    "start_time": "2022-12-15T01:10:42.181Z"
   },
   {
    "duration": 10,
    "start_time": "2022-12-15T01:10:42.526Z"
   },
   {
    "duration": 9,
    "start_time": "2022-12-15T01:10:42.538Z"
   },
   {
    "duration": 17,
    "start_time": "2022-12-15T01:10:42.549Z"
   },
   {
    "duration": 10,
    "start_time": "2022-12-15T01:10:42.567Z"
   },
   {
    "duration": 40,
    "start_time": "2022-12-15T01:10:42.579Z"
   },
   {
    "duration": 10,
    "start_time": "2022-12-15T01:10:42.621Z"
   },
   {
    "duration": 37,
    "start_time": "2022-12-15T01:10:42.633Z"
   },
   {
    "duration": 23,
    "start_time": "2022-12-15T01:10:42.672Z"
   },
   {
    "duration": 10,
    "start_time": "2022-12-15T01:10:42.696Z"
   },
   {
    "duration": 2,
    "start_time": "2022-12-15T01:10:42.715Z"
   },
   {
    "duration": 326,
    "start_time": "2022-12-15T01:10:42.720Z"
   },
   {
    "duration": 330,
    "start_time": "2022-12-15T01:10:43.048Z"
   },
   {
    "duration": 13,
    "start_time": "2022-12-15T01:10:43.380Z"
   },
   {
    "duration": 94,
    "start_time": "2022-12-15T01:10:43.395Z"
   },
   {
    "duration": 35,
    "start_time": "2022-12-15T01:10:43.491Z"
   },
   {
    "duration": 12,
    "start_time": "2022-12-15T01:10:43.528Z"
   },
   {
    "duration": 43,
    "start_time": "2022-12-15T01:10:43.541Z"
   },
   {
    "duration": 59,
    "start_time": "2022-12-15T01:10:43.585Z"
   },
   {
    "duration": 3,
    "start_time": "2022-12-15T01:10:53.044Z"
   },
   {
    "duration": 409,
    "start_time": "2022-12-15T01:10:53.049Z"
   },
   {
    "duration": 329,
    "start_time": "2022-12-15T01:10:53.460Z"
   },
   {
    "duration": 9,
    "start_time": "2022-12-15T01:10:53.791Z"
   },
   {
    "duration": 19,
    "start_time": "2022-12-15T01:10:53.802Z"
   },
   {
    "duration": 17,
    "start_time": "2022-12-15T01:10:53.823Z"
   },
   {
    "duration": 9,
    "start_time": "2022-12-15T01:10:53.842Z"
   },
   {
    "duration": 16,
    "start_time": "2022-12-15T01:10:53.853Z"
   },
   {
    "duration": 9,
    "start_time": "2022-12-15T01:10:53.870Z"
   },
   {
    "duration": 41,
    "start_time": "2022-12-15T01:10:53.880Z"
   },
   {
    "duration": 25,
    "start_time": "2022-12-15T01:10:53.924Z"
   },
   {
    "duration": 9,
    "start_time": "2022-12-15T01:10:53.951Z"
   },
   {
    "duration": 6,
    "start_time": "2022-12-15T01:10:53.962Z"
   },
   {
    "duration": 345,
    "start_time": "2022-12-15T01:10:53.970Z"
   },
   {
    "duration": 393,
    "start_time": "2022-12-15T01:10:54.317Z"
   },
   {
    "duration": 10,
    "start_time": "2022-12-15T01:10:54.715Z"
   },
   {
    "duration": 71,
    "start_time": "2022-12-15T01:10:54.726Z"
   },
   {
    "duration": 36,
    "start_time": "2022-12-15T01:10:54.799Z"
   },
   {
    "duration": 10,
    "start_time": "2022-12-15T01:10:54.837Z"
   },
   {
    "duration": 46,
    "start_time": "2022-12-15T01:10:54.849Z"
   },
   {
    "duration": 64,
    "start_time": "2022-12-15T01:10:54.897Z"
   },
   {
    "duration": 12,
    "start_time": "2022-12-15T01:10:54.963Z"
   },
   {
    "duration": 0,
    "start_time": "2022-12-15T01:10:54.977Z"
   },
   {
    "duration": 0,
    "start_time": "2022-12-15T01:10:54.978Z"
   },
   {
    "duration": 0,
    "start_time": "2022-12-15T01:10:54.980Z"
   },
   {
    "duration": 0,
    "start_time": "2022-12-15T01:10:54.981Z"
   },
   {
    "duration": 0,
    "start_time": "2022-12-15T01:10:54.982Z"
   },
   {
    "duration": 1,
    "start_time": "2022-12-15T01:10:54.983Z"
   },
   {
    "duration": 0,
    "start_time": "2022-12-15T01:10:54.985Z"
   },
   {
    "duration": 0,
    "start_time": "2022-12-15T01:10:55.015Z"
   },
   {
    "duration": 0,
    "start_time": "2022-12-15T01:10:55.016Z"
   },
   {
    "duration": 0,
    "start_time": "2022-12-15T01:10:55.018Z"
   },
   {
    "duration": 0,
    "start_time": "2022-12-15T01:10:55.019Z"
   },
   {
    "duration": 0,
    "start_time": "2022-12-15T01:10:55.021Z"
   },
   {
    "duration": 0,
    "start_time": "2022-12-15T01:10:55.022Z"
   },
   {
    "duration": 0,
    "start_time": "2022-12-15T01:10:55.023Z"
   },
   {
    "duration": 0,
    "start_time": "2022-12-15T01:10:55.024Z"
   },
   {
    "duration": 0,
    "start_time": "2022-12-15T01:10:55.025Z"
   },
   {
    "duration": 1,
    "start_time": "2022-12-15T01:10:55.026Z"
   },
   {
    "duration": 0,
    "start_time": "2022-12-15T01:10:55.028Z"
   },
   {
    "duration": 0,
    "start_time": "2022-12-15T01:10:55.029Z"
   },
   {
    "duration": 0,
    "start_time": "2022-12-15T01:10:55.031Z"
   },
   {
    "duration": 0,
    "start_time": "2022-12-15T01:10:55.032Z"
   },
   {
    "duration": 3,
    "start_time": "2022-12-15T01:39:50.751Z"
   },
   {
    "duration": 389,
    "start_time": "2022-12-15T01:39:50.757Z"
   },
   {
    "duration": 331,
    "start_time": "2022-12-15T01:39:51.148Z"
   },
   {
    "duration": 9,
    "start_time": "2022-12-15T01:39:51.481Z"
   },
   {
    "duration": 23,
    "start_time": "2022-12-15T01:39:51.491Z"
   },
   {
    "duration": 25,
    "start_time": "2022-12-15T01:39:51.516Z"
   },
   {
    "duration": 9,
    "start_time": "2022-12-15T01:39:51.543Z"
   },
   {
    "duration": 29,
    "start_time": "2022-12-15T01:39:51.553Z"
   },
   {
    "duration": 11,
    "start_time": "2022-12-15T01:39:51.584Z"
   },
   {
    "duration": 25,
    "start_time": "2022-12-15T01:39:51.598Z"
   },
   {
    "duration": 23,
    "start_time": "2022-12-15T01:39:51.625Z"
   },
   {
    "duration": 13,
    "start_time": "2022-12-15T01:39:51.650Z"
   },
   {
    "duration": 13,
    "start_time": "2022-12-15T01:39:51.665Z"
   },
   {
    "duration": 17,
    "start_time": "2022-12-15T01:39:51.680Z"
   },
   {
    "duration": 77,
    "start_time": "2022-12-15T01:39:51.699Z"
   },
   {
    "duration": 24,
    "start_time": "2022-12-15T01:39:51.778Z"
   },
   {
    "duration": 10,
    "start_time": "2022-12-15T01:39:51.815Z"
   },
   {
    "duration": 46,
    "start_time": "2022-12-15T01:39:51.826Z"
   },
   {
    "duration": 59,
    "start_time": "2022-12-15T01:39:51.874Z"
   },
   {
    "duration": 10,
    "start_time": "2022-12-15T01:39:51.935Z"
   },
   {
    "duration": 0,
    "start_time": "2022-12-15T01:39:51.946Z"
   },
   {
    "duration": 0,
    "start_time": "2022-12-15T01:39:51.948Z"
   },
   {
    "duration": 3,
    "start_time": "2022-12-15T01:39:59.069Z"
   },
   {
    "duration": 370,
    "start_time": "2022-12-15T01:39:59.074Z"
   },
   {
    "duration": 317,
    "start_time": "2022-12-15T01:39:59.446Z"
   },
   {
    "duration": 9,
    "start_time": "2022-12-15T01:39:59.765Z"
   },
   {
    "duration": 9,
    "start_time": "2022-12-15T01:39:59.777Z"
   },
   {
    "duration": 27,
    "start_time": "2022-12-15T01:39:59.788Z"
   },
   {
    "duration": 9,
    "start_time": "2022-12-15T01:39:59.817Z"
   },
   {
    "duration": 21,
    "start_time": "2022-12-15T01:39:59.828Z"
   },
   {
    "duration": 9,
    "start_time": "2022-12-15T01:39:59.850Z"
   },
   {
    "duration": 25,
    "start_time": "2022-12-15T01:39:59.860Z"
   },
   {
    "duration": 39,
    "start_time": "2022-12-15T01:39:59.889Z"
   },
   {
    "duration": 13,
    "start_time": "2022-12-15T01:39:59.930Z"
   },
   {
    "duration": 5,
    "start_time": "2022-12-15T01:39:59.945Z"
   },
   {
    "duration": 10,
    "start_time": "2022-12-15T01:39:59.952Z"
   },
   {
    "duration": 107,
    "start_time": "2022-12-15T01:39:59.964Z"
   },
   {
    "duration": 27,
    "start_time": "2022-12-15T01:40:00.073Z"
   },
   {
    "duration": 23,
    "start_time": "2022-12-15T01:40:00.102Z"
   },
   {
    "duration": 61,
    "start_time": "2022-12-15T01:40:00.127Z"
   },
   {
    "duration": 40,
    "start_time": "2022-12-15T01:40:00.189Z"
   },
   {
    "duration": 10,
    "start_time": "2022-12-15T01:40:00.231Z"
   },
   {
    "duration": 0,
    "start_time": "2022-12-15T01:40:00.243Z"
   },
   {
    "duration": 0,
    "start_time": "2022-12-15T01:40:00.244Z"
   },
   {
    "duration": 0,
    "start_time": "2022-12-15T01:40:00.246Z"
   },
   {
    "duration": 0,
    "start_time": "2022-12-15T01:40:00.247Z"
   },
   {
    "duration": 0,
    "start_time": "2022-12-15T01:40:00.248Z"
   },
   {
    "duration": 0,
    "start_time": "2022-12-15T01:40:00.249Z"
   },
   {
    "duration": 0,
    "start_time": "2022-12-15T01:40:00.251Z"
   },
   {
    "duration": 0,
    "start_time": "2022-12-15T01:40:00.252Z"
   },
   {
    "duration": 0,
    "start_time": "2022-12-15T01:40:00.253Z"
   },
   {
    "duration": 0,
    "start_time": "2022-12-15T01:40:00.254Z"
   },
   {
    "duration": 0,
    "start_time": "2022-12-15T01:40:00.254Z"
   },
   {
    "duration": 0,
    "start_time": "2022-12-15T01:40:00.256Z"
   },
   {
    "duration": 0,
    "start_time": "2022-12-15T01:40:00.257Z"
   },
   {
    "duration": 0,
    "start_time": "2022-12-15T01:40:00.257Z"
   },
   {
    "duration": 0,
    "start_time": "2022-12-15T01:40:00.258Z"
   },
   {
    "duration": 0,
    "start_time": "2022-12-15T01:40:00.259Z"
   },
   {
    "duration": 0,
    "start_time": "2022-12-15T01:40:00.260Z"
   },
   {
    "duration": 0,
    "start_time": "2022-12-15T01:40:00.261Z"
   },
   {
    "duration": 0,
    "start_time": "2022-12-15T01:40:00.263Z"
   },
   {
    "duration": 0,
    "start_time": "2022-12-15T01:40:00.264Z"
   },
   {
    "duration": 0,
    "start_time": "2022-12-15T01:40:00.265Z"
   },
   {
    "duration": 3,
    "start_time": "2022-12-15T01:41:18.068Z"
   },
   {
    "duration": 361,
    "start_time": "2022-12-15T01:41:18.074Z"
   },
   {
    "duration": 316,
    "start_time": "2022-12-15T01:41:18.436Z"
   },
   {
    "duration": 9,
    "start_time": "2022-12-15T01:41:18.753Z"
   },
   {
    "duration": 9,
    "start_time": "2022-12-15T01:41:18.764Z"
   },
   {
    "duration": 15,
    "start_time": "2022-12-15T01:41:18.774Z"
   },
   {
    "duration": 25,
    "start_time": "2022-12-15T01:41:18.791Z"
   },
   {
    "duration": 13,
    "start_time": "2022-12-15T01:41:18.817Z"
   },
   {
    "duration": 9,
    "start_time": "2022-12-15T01:41:18.831Z"
   },
   {
    "duration": 15,
    "start_time": "2022-12-15T01:41:18.841Z"
   },
   {
    "duration": 20,
    "start_time": "2022-12-15T01:41:18.858Z"
   },
   {
    "duration": 40,
    "start_time": "2022-12-15T01:41:18.880Z"
   },
   {
    "duration": 6,
    "start_time": "2022-12-15T01:41:18.921Z"
   },
   {
    "duration": 14,
    "start_time": "2022-12-15T01:41:18.930Z"
   },
   {
    "duration": 65,
    "start_time": "2022-12-15T01:41:18.946Z"
   },
   {
    "duration": 21,
    "start_time": "2022-12-15T01:41:19.015Z"
   },
   {
    "duration": 9,
    "start_time": "2022-12-15T01:41:19.037Z"
   },
   {
    "duration": 62,
    "start_time": "2022-12-15T01:41:19.047Z"
   },
   {
    "duration": 42,
    "start_time": "2022-12-15T01:41:19.110Z"
   },
   {
    "duration": 13065,
    "start_time": "2022-12-15T01:41:19.154Z"
   },
   {
    "duration": 96,
    "start_time": "2022-12-15T01:41:32.221Z"
   },
   {
    "duration": 94,
    "start_time": "2022-12-15T01:41:32.323Z"
   },
   {
    "duration": 9,
    "start_time": "2022-12-15T01:41:32.419Z"
   },
   {
    "duration": 9,
    "start_time": "2022-12-15T01:41:32.430Z"
   },
   {
    "duration": 9,
    "start_time": "2022-12-15T01:41:32.441Z"
   },
   {
    "duration": 20,
    "start_time": "2022-12-15T01:41:32.451Z"
   },
   {
    "duration": 18,
    "start_time": "2022-12-15T01:41:32.473Z"
   },
   {
    "duration": 36,
    "start_time": "2022-12-15T01:41:32.493Z"
   },
   {
    "duration": 4,
    "start_time": "2022-12-15T01:41:32.531Z"
   },
   {
    "duration": 8,
    "start_time": "2022-12-15T01:41:32.537Z"
   },
   {
    "duration": 14,
    "start_time": "2022-12-15T01:41:32.547Z"
   },
   {
    "duration": 1,
    "start_time": "2022-12-15T01:41:32.562Z"
   },
   {
    "duration": 0,
    "start_time": "2022-12-15T01:41:32.564Z"
   },
   {
    "duration": 0,
    "start_time": "2022-12-15T01:41:32.565Z"
   },
   {
    "duration": 0,
    "start_time": "2022-12-15T01:41:32.567Z"
   },
   {
    "duration": 0,
    "start_time": "2022-12-15T01:41:32.567Z"
   },
   {
    "duration": 0,
    "start_time": "2022-12-15T01:41:32.569Z"
   },
   {
    "duration": 0,
    "start_time": "2022-12-15T01:41:32.570Z"
   },
   {
    "duration": 0,
    "start_time": "2022-12-15T01:41:32.572Z"
   },
   {
    "duration": 0,
    "start_time": "2022-12-15T01:41:32.573Z"
   },
   {
    "duration": 3,
    "start_time": "2022-12-15T01:42:03.389Z"
   },
   {
    "duration": 417,
    "start_time": "2022-12-15T01:42:03.395Z"
   },
   {
    "duration": 338,
    "start_time": "2022-12-15T01:42:03.814Z"
   },
   {
    "duration": 9,
    "start_time": "2022-12-15T01:42:04.154Z"
   },
   {
    "duration": 14,
    "start_time": "2022-12-15T01:42:04.165Z"
   },
   {
    "duration": 35,
    "start_time": "2022-12-15T01:42:04.182Z"
   },
   {
    "duration": 9,
    "start_time": "2022-12-15T01:42:04.218Z"
   },
   {
    "duration": 16,
    "start_time": "2022-12-15T01:42:04.229Z"
   },
   {
    "duration": 9,
    "start_time": "2022-12-15T01:42:04.247Z"
   },
   {
    "duration": 16,
    "start_time": "2022-12-15T01:42:04.259Z"
   },
   {
    "duration": 52,
    "start_time": "2022-12-15T01:42:04.277Z"
   },
   {
    "duration": 13,
    "start_time": "2022-12-15T01:42:04.330Z"
   },
   {
    "duration": 8,
    "start_time": "2022-12-15T01:42:04.344Z"
   },
   {
    "duration": 10,
    "start_time": "2022-12-15T01:42:04.354Z"
   },
   {
    "duration": 81,
    "start_time": "2022-12-15T01:42:04.365Z"
   },
   {
    "duration": 23,
    "start_time": "2022-12-15T01:42:04.447Z"
   },
   {
    "duration": 10,
    "start_time": "2022-12-15T01:42:04.471Z"
   },
   {
    "duration": 64,
    "start_time": "2022-12-15T01:42:04.483Z"
   },
   {
    "duration": 43,
    "start_time": "2022-12-15T01:42:04.549Z"
   },
   {
    "duration": 13222,
    "start_time": "2022-12-15T01:42:04.594Z"
   },
   {
    "duration": 97,
    "start_time": "2022-12-15T01:42:17.819Z"
   },
   {
    "duration": 4,
    "start_time": "2022-12-15T01:42:17.917Z"
   },
   {
    "duration": 9,
    "start_time": "2022-12-15T01:42:17.923Z"
   },
   {
    "duration": 4,
    "start_time": "2022-12-15T01:42:17.934Z"
   },
   {
    "duration": 10,
    "start_time": "2022-12-15T01:42:17.939Z"
   },
   {
    "duration": 17,
    "start_time": "2022-12-15T01:42:17.951Z"
   },
   {
    "duration": 13,
    "start_time": "2022-12-15T01:42:17.970Z"
   },
   {
    "duration": 14,
    "start_time": "2022-12-15T01:42:18.016Z"
   },
   {
    "duration": 4,
    "start_time": "2022-12-15T01:42:18.032Z"
   },
   {
    "duration": 6,
    "start_time": "2022-12-15T01:42:18.038Z"
   },
   {
    "duration": 172,
    "start_time": "2022-12-15T01:42:18.047Z"
   },
   {
    "duration": 2399,
    "start_time": "2022-12-15T01:42:18.220Z"
   },
   {
    "duration": 9,
    "start_time": "2022-12-15T01:42:20.621Z"
   },
   {
    "duration": 9,
    "start_time": "2022-12-15T01:42:20.631Z"
   },
   {
    "duration": 6,
    "start_time": "2022-12-15T01:42:20.642Z"
   },
   {
    "duration": 7,
    "start_time": "2022-12-15T01:42:20.649Z"
   },
   {
    "duration": 7,
    "start_time": "2022-12-15T01:42:20.657Z"
   },
   {
    "duration": 5,
    "start_time": "2022-12-15T01:42:20.665Z"
   },
   {
    "duration": 5,
    "start_time": "2022-12-15T01:42:20.672Z"
   },
   {
    "duration": 207,
    "start_time": "2022-12-15T01:43:25.971Z"
   },
   {
    "duration": 6,
    "start_time": "2022-12-15T01:57:17.480Z"
   },
   {
    "duration": 778,
    "start_time": "2022-12-15T01:57:32.742Z"
   },
   {
    "duration": 2419,
    "start_time": "2022-12-15T01:57:51.269Z"
   },
   {
    "duration": 9,
    "start_time": "2022-12-15T01:57:54.861Z"
   },
   {
    "duration": 2435,
    "start_time": "2022-12-15T01:58:25.948Z"
   },
   {
    "duration": 10,
    "start_time": "2022-12-15T01:58:28.385Z"
   },
   {
    "duration": 5,
    "start_time": "2022-12-15T02:10:35.257Z"
   },
   {
    "duration": 5,
    "start_time": "2022-12-15T02:10:55.574Z"
   },
   {
    "duration": 5,
    "start_time": "2022-12-15T02:15:58.726Z"
   },
   {
    "duration": 4,
    "start_time": "2022-12-15T02:16:22.544Z"
   },
   {
    "duration": 4,
    "start_time": "2022-12-15T02:16:29.578Z"
   },
   {
    "duration": 4,
    "start_time": "2022-12-15T02:18:43.398Z"
   },
   {
    "duration": 6,
    "start_time": "2022-12-15T02:18:52.212Z"
   },
   {
    "duration": 7,
    "start_time": "2022-12-15T02:20:01.918Z"
   },
   {
    "duration": 6,
    "start_time": "2022-12-15T02:23:31.293Z"
   },
   {
    "duration": 6,
    "start_time": "2022-12-15T02:24:29.635Z"
   },
   {
    "duration": 12,
    "start_time": "2022-12-15T02:24:38.063Z"
   },
   {
    "duration": 3,
    "start_time": "2022-12-15T02:31:10.853Z"
   },
   {
    "duration": 5,
    "start_time": "2022-12-15T02:31:17.312Z"
   },
   {
    "duration": 4,
    "start_time": "2022-12-15T02:32:06.299Z"
   },
   {
    "duration": 4,
    "start_time": "2022-12-15T02:32:07.559Z"
   },
   {
    "duration": 12,
    "start_time": "2022-12-15T02:32:19.256Z"
   },
   {
    "duration": 12,
    "start_time": "2022-12-15T02:35:01.867Z"
   },
   {
    "duration": 9,
    "start_time": "2022-12-15T02:35:22.019Z"
   },
   {
    "duration": 4,
    "start_time": "2022-12-15T02:35:29.469Z"
   },
   {
    "duration": 7,
    "start_time": "2022-12-15T02:37:00.123Z"
   },
   {
    "duration": 6,
    "start_time": "2022-12-15T02:37:09.074Z"
   },
   {
    "duration": 738,
    "start_time": "2022-12-15T02:37:30.776Z"
   },
   {
    "duration": 6,
    "start_time": "2022-12-15T02:37:41.123Z"
   },
   {
    "duration": 6,
    "start_time": "2022-12-15T02:37:52.198Z"
   },
   {
    "duration": 6,
    "start_time": "2022-12-15T02:39:13.034Z"
   },
   {
    "duration": 61,
    "start_time": "2022-12-15T02:45:14.027Z"
   },
   {
    "duration": 52,
    "start_time": "2022-12-15T02:45:40.100Z"
   },
   {
    "duration": 9,
    "start_time": "2022-12-15T02:45:56.034Z"
   },
   {
    "duration": 4,
    "start_time": "2022-12-15T02:46:05.545Z"
   },
   {
    "duration": 5,
    "start_time": "2022-12-15T02:47:07.106Z"
   },
   {
    "duration": 7,
    "start_time": "2022-12-15T02:52:21.190Z"
   },
   {
    "duration": 15,
    "start_time": "2022-12-15T02:54:28.720Z"
   },
   {
    "duration": 9,
    "start_time": "2022-12-15T02:55:45.929Z"
   },
   {
    "duration": 9,
    "start_time": "2022-12-15T02:59:25.475Z"
   },
   {
    "duration": 18,
    "start_time": "2022-12-15T03:00:05.988Z"
   },
   {
    "duration": 18,
    "start_time": "2022-12-15T03:00:37.691Z"
   },
   {
    "duration": 20,
    "start_time": "2022-12-15T03:00:46.899Z"
   },
   {
    "duration": 20,
    "start_time": "2022-12-15T03:00:58.170Z"
   },
   {
    "duration": 20,
    "start_time": "2022-12-15T03:02:23.984Z"
   },
   {
    "duration": 20,
    "start_time": "2022-12-15T03:03:12.050Z"
   },
   {
    "duration": 3,
    "start_time": "2022-12-15T03:03:16.419Z"
   },
   {
    "duration": 361,
    "start_time": "2022-12-15T03:03:16.424Z"
   },
   {
    "duration": 306,
    "start_time": "2022-12-15T03:03:16.787Z"
   },
   {
    "duration": 9,
    "start_time": "2022-12-15T03:03:17.095Z"
   },
   {
    "duration": 19,
    "start_time": "2022-12-15T03:03:17.106Z"
   },
   {
    "duration": 19,
    "start_time": "2022-12-15T03:03:17.126Z"
   },
   {
    "duration": 12,
    "start_time": "2022-12-15T03:03:17.148Z"
   },
   {
    "duration": 22,
    "start_time": "2022-12-15T03:03:17.161Z"
   },
   {
    "duration": 9,
    "start_time": "2022-12-15T03:03:17.184Z"
   },
   {
    "duration": 13,
    "start_time": "2022-12-15T03:03:17.216Z"
   },
   {
    "duration": 22,
    "start_time": "2022-12-15T03:03:17.231Z"
   },
   {
    "duration": 12,
    "start_time": "2022-12-15T03:03:17.255Z"
   },
   {
    "duration": 6,
    "start_time": "2022-12-15T03:03:17.268Z"
   },
   {
    "duration": 43,
    "start_time": "2022-12-15T03:03:17.276Z"
   },
   {
    "duration": 71,
    "start_time": "2022-12-15T03:03:17.321Z"
   },
   {
    "duration": 41,
    "start_time": "2022-12-15T03:03:17.394Z"
   },
   {
    "duration": 12,
    "start_time": "2022-12-15T03:03:17.437Z"
   },
   {
    "duration": 44,
    "start_time": "2022-12-15T03:03:17.450Z"
   },
   {
    "duration": 42,
    "start_time": "2022-12-15T03:03:17.515Z"
   },
   {
    "duration": 13166,
    "start_time": "2022-12-15T03:03:17.558Z"
   },
   {
    "duration": 103,
    "start_time": "2022-12-15T03:03:30.817Z"
   },
   {
    "duration": 33,
    "start_time": "2022-12-15T03:03:30.922Z"
   },
   {
    "duration": 30,
    "start_time": "2022-12-15T03:03:30.956Z"
   },
   {
    "duration": 41,
    "start_time": "2022-12-15T03:03:30.988Z"
   },
   {
    "duration": 15,
    "start_time": "2022-12-15T03:03:31.031Z"
   },
   {
    "duration": 32,
    "start_time": "2022-12-15T03:03:31.047Z"
   },
   {
    "duration": 315,
    "start_time": "2022-12-15T03:03:31.081Z"
   },
   {
    "duration": 2394,
    "start_time": "2022-12-15T03:03:31.398Z"
   },
   {
    "duration": 9,
    "start_time": "2022-12-15T03:03:33.794Z"
   },
   {
    "duration": 15,
    "start_time": "2022-12-15T03:03:33.804Z"
   },
   {
    "duration": 7,
    "start_time": "2022-12-15T03:03:33.830Z"
   },
   {
    "duration": 15,
    "start_time": "2022-12-15T03:03:33.838Z"
   },
   {
    "duration": 16,
    "start_time": "2022-12-15T03:03:42.617Z"
   },
   {
    "duration": 16,
    "start_time": "2022-12-15T03:04:00.417Z"
   },
   {
    "duration": 16,
    "start_time": "2022-12-15T03:04:04.810Z"
   },
   {
    "duration": 9,
    "start_time": "2022-12-15T03:14:33.135Z"
   },
   {
    "duration": 17,
    "start_time": "2022-12-15T03:14:42.971Z"
   },
   {
    "duration": 9,
    "start_time": "2022-12-15T03:16:12.380Z"
   },
   {
    "duration": 14,
    "start_time": "2022-12-15T03:16:54.366Z"
   },
   {
    "duration": 9,
    "start_time": "2022-12-15T03:17:10.141Z"
   },
   {
    "duration": 18,
    "start_time": "2022-12-15T03:17:35.658Z"
   },
   {
    "duration": 9,
    "start_time": "2022-12-15T03:18:23.568Z"
   },
   {
    "duration": 14,
    "start_time": "2022-12-15T03:18:27.500Z"
   },
   {
    "duration": 3,
    "start_time": "2022-12-15T03:20:36.267Z"
   },
   {
    "duration": 403,
    "start_time": "2022-12-15T03:20:36.273Z"
   },
   {
    "duration": 326,
    "start_time": "2022-12-15T03:20:36.678Z"
   },
   {
    "duration": 14,
    "start_time": "2022-12-15T03:20:37.005Z"
   },
   {
    "duration": 10,
    "start_time": "2022-12-15T03:20:37.021Z"
   },
   {
    "duration": 18,
    "start_time": "2022-12-15T03:20:37.033Z"
   },
   {
    "duration": 8,
    "start_time": "2022-12-15T03:20:37.053Z"
   },
   {
    "duration": 14,
    "start_time": "2022-12-15T03:20:37.062Z"
   },
   {
    "duration": 8,
    "start_time": "2022-12-15T03:20:37.078Z"
   },
   {
    "duration": 13,
    "start_time": "2022-12-15T03:20:37.116Z"
   },
   {
    "duration": 14,
    "start_time": "2022-12-15T03:20:39.480Z"
   },
   {
    "duration": 70,
    "start_time": "2022-12-15T03:20:41.182Z"
   },
   {
    "duration": 65,
    "start_time": "2022-12-15T03:20:56.073Z"
   },
   {
    "duration": 4,
    "start_time": "2022-12-15T03:21:11.976Z"
   },
   {
    "duration": 387,
    "start_time": "2022-12-15T03:21:11.984Z"
   },
   {
    "duration": 334,
    "start_time": "2022-12-15T03:21:12.373Z"
   },
   {
    "duration": 10,
    "start_time": "2022-12-15T03:21:12.709Z"
   },
   {
    "duration": 10,
    "start_time": "2022-12-15T03:21:12.721Z"
   },
   {
    "duration": 15,
    "start_time": "2022-12-15T03:21:12.733Z"
   },
   {
    "duration": 8,
    "start_time": "2022-12-15T03:21:12.749Z"
   },
   {
    "duration": 16,
    "start_time": "2022-12-15T03:21:12.758Z"
   },
   {
    "duration": 41,
    "start_time": "2022-12-15T03:21:12.775Z"
   },
   {
    "duration": 19,
    "start_time": "2022-12-15T03:21:12.818Z"
   },
   {
    "duration": 80,
    "start_time": "2022-12-15T03:21:12.840Z"
   },
   {
    "duration": 12696,
    "start_time": "2022-12-15T03:21:12.922Z"
   },
   {
    "duration": 97,
    "start_time": "2022-12-15T03:21:25.620Z"
   },
   {
    "duration": 102,
    "start_time": "2022-12-15T03:21:25.720Z"
   },
   {
    "duration": 14,
    "start_time": "2022-12-15T03:21:25.824Z"
   },
   {
    "duration": 13,
    "start_time": "2022-12-15T03:21:25.839Z"
   },
   {
    "duration": 4,
    "start_time": "2022-12-15T03:21:25.853Z"
   },
   {
    "duration": 6,
    "start_time": "2022-12-15T03:21:25.858Z"
   },
   {
    "duration": 331,
    "start_time": "2022-12-15T03:21:25.865Z"
   },
   {
    "duration": 2472,
    "start_time": "2022-12-15T03:21:26.198Z"
   },
   {
    "duration": 9,
    "start_time": "2022-12-15T03:21:28.671Z"
   },
   {
    "duration": 8,
    "start_time": "2022-12-15T03:21:28.681Z"
   },
   {
    "duration": 32,
    "start_time": "2022-12-15T03:21:28.690Z"
   },
   {
    "duration": 35,
    "start_time": "2022-12-15T03:27:24.278Z"
   },
   {
    "duration": 30,
    "start_time": "2022-12-15T03:27:32.955Z"
   },
   {
    "duration": 39,
    "start_time": "2022-12-15T03:27:56.271Z"
   },
   {
    "duration": 366,
    "start_time": "2022-12-15T03:41:38.041Z"
   },
   {
    "duration": 248,
    "start_time": "2022-12-15T03:43:53.157Z"
   },
   {
    "duration": 262,
    "start_time": "2022-12-15T03:44:01.318Z"
   },
   {
    "duration": 2365,
    "start_time": "2022-12-15T03:49:17.544Z"
   },
   {
    "duration": 12,
    "start_time": "2022-12-15T03:49:24.808Z"
   },
   {
    "duration": 2339,
    "start_time": "2022-12-15T03:49:59.928Z"
   },
   {
    "duration": 9,
    "start_time": "2022-12-15T03:50:03.583Z"
   },
   {
    "duration": 17,
    "start_time": "2022-12-15T03:50:20.628Z"
   },
   {
    "duration": 10,
    "start_time": "2022-12-15T03:56:09.397Z"
   },
   {
    "duration": 2411,
    "start_time": "2022-12-15T04:13:23.362Z"
   },
   {
    "duration": 2446,
    "start_time": "2022-12-15T04:15:01.790Z"
   },
   {
    "duration": 10,
    "start_time": "2022-12-15T04:15:04.239Z"
   },
   {
    "duration": 13,
    "start_time": "2022-12-15T04:15:50.317Z"
   },
   {
    "duration": 9,
    "start_time": "2022-12-15T04:15:59.305Z"
   },
   {
    "duration": 51,
    "start_time": "2022-12-15T04:16:42.849Z"
   },
   {
    "duration": 10,
    "start_time": "2022-12-15T04:16:50.328Z"
   },
   {
    "duration": 5,
    "start_time": "2022-12-15T04:16:55.481Z"
   },
   {
    "duration": 10,
    "start_time": "2022-12-15T04:18:23.861Z"
   },
   {
    "duration": 2321,
    "start_time": "2022-12-15T04:18:27.622Z"
   },
   {
    "duration": 10,
    "start_time": "2022-12-15T04:18:30.268Z"
   },
   {
    "duration": 9,
    "start_time": "2022-12-15T04:18:48.184Z"
   },
   {
    "duration": 9,
    "start_time": "2022-12-15T04:18:50.099Z"
   },
   {
    "duration": 6,
    "start_time": "2022-12-15T04:19:31.140Z"
   },
   {
    "duration": 14,
    "start_time": "2022-12-15T04:19:41.916Z"
   },
   {
    "duration": 14,
    "start_time": "2022-12-15T04:20:44.025Z"
   },
   {
    "duration": 10,
    "start_time": "2022-12-15T04:21:20.906Z"
   },
   {
    "duration": 13,
    "start_time": "2022-12-15T04:21:35.469Z"
   },
   {
    "duration": 758,
    "start_time": "2022-12-15T04:26:48.775Z"
   },
   {
    "duration": 861,
    "start_time": "2022-12-15T04:27:12.094Z"
   },
   {
    "duration": 12,
    "start_time": "2022-12-15T04:27:15.295Z"
   },
   {
    "duration": 814,
    "start_time": "2022-12-15T04:29:18.247Z"
   },
   {
    "duration": 53,
    "start_time": "2022-12-15T04:29:39.908Z"
   },
   {
    "duration": 13,
    "start_time": "2022-12-15T04:30:08.026Z"
   },
   {
    "duration": 4,
    "start_time": "2022-12-15T04:30:17.195Z"
   },
   {
    "duration": 814,
    "start_time": "2022-12-15T04:30:33.759Z"
   },
   {
    "duration": 772,
    "start_time": "2022-12-15T04:30:52.741Z"
   },
   {
    "duration": 765,
    "start_time": "2022-12-15T04:31:04.260Z"
   },
   {
    "duration": 694,
    "start_time": "2022-12-15T04:31:23.867Z"
   },
   {
    "duration": 767,
    "start_time": "2022-12-15T04:31:52.214Z"
   },
   {
    "duration": 6,
    "start_time": "2022-12-15T04:32:15.236Z"
   },
   {
    "duration": 704,
    "start_time": "2022-12-15T04:32:39.898Z"
   },
   {
    "duration": 14,
    "start_time": "2022-12-15T04:32:53.388Z"
   },
   {
    "duration": 12,
    "start_time": "2022-12-15T04:33:00.900Z"
   },
   {
    "duration": 20,
    "start_time": "2022-12-15T04:33:32.135Z"
   },
   {
    "duration": 11,
    "start_time": "2022-12-15T04:33:41.506Z"
   },
   {
    "duration": 16,
    "start_time": "2022-12-15T04:34:01.817Z"
   },
   {
    "duration": 12,
    "start_time": "2022-12-15T04:34:51.156Z"
   },
   {
    "duration": 13,
    "start_time": "2022-12-15T04:34:58.621Z"
   },
   {
    "duration": 11,
    "start_time": "2022-12-15T04:35:03.576Z"
   },
   {
    "duration": 3,
    "start_time": "2022-12-15T08:06:30.446Z"
   },
   {
    "duration": 5,
    "start_time": "2022-12-15T08:06:40.817Z"
   },
   {
    "duration": 9,
    "start_time": "2022-12-15T08:36:41.246Z"
   },
   {
    "duration": 9,
    "start_time": "2022-12-15T08:37:14.004Z"
   },
   {
    "duration": 8,
    "start_time": "2022-12-15T08:37:23.233Z"
   },
   {
    "duration": 15,
    "start_time": "2022-12-15T08:38:58.933Z"
   },
   {
    "duration": 11,
    "start_time": "2022-12-15T08:39:08.413Z"
   },
   {
    "duration": 8,
    "start_time": "2022-12-15T08:42:12.751Z"
   },
   {
    "duration": 46,
    "start_time": "2022-12-16T03:13:55.638Z"
   },
   {
    "duration": 1483,
    "start_time": "2022-12-16T03:13:58.788Z"
   },
   {
    "duration": 625,
    "start_time": "2022-12-16T03:14:00.274Z"
   },
   {
    "duration": 13,
    "start_time": "2022-12-16T03:14:00.901Z"
   },
   {
    "duration": 53,
    "start_time": "2022-12-16T03:14:00.916Z"
   },
   {
    "duration": 41,
    "start_time": "2022-12-16T03:14:00.971Z"
   },
   {
    "duration": 26,
    "start_time": "2022-12-16T03:14:01.015Z"
   },
   {
    "duration": 37,
    "start_time": "2022-12-16T03:14:01.042Z"
   },
   {
    "duration": 27,
    "start_time": "2022-12-16T03:14:01.081Z"
   },
   {
    "duration": 32,
    "start_time": "2022-12-16T03:14:01.110Z"
   },
   {
    "duration": 82,
    "start_time": "2022-12-16T03:14:01.145Z"
   },
   {
    "duration": 16088,
    "start_time": "2022-12-16T03:14:01.228Z"
   },
   {
    "duration": 101,
    "start_time": "2022-12-16T03:14:17.318Z"
   },
   {
    "duration": 34,
    "start_time": "2022-12-16T03:14:17.421Z"
   },
   {
    "duration": 81,
    "start_time": "2022-12-16T03:14:17.457Z"
   },
   {
    "duration": 0,
    "start_time": "2022-12-16T03:14:17.540Z"
   },
   {
    "duration": 4,
    "start_time": "2022-12-16T03:15:19.079Z"
   },
   {
    "duration": 9,
    "start_time": "2022-12-16T03:18:45.808Z"
   },
   {
    "duration": 5,
    "start_time": "2022-12-16T03:19:05.809Z"
   },
   {
    "duration": 9,
    "start_time": "2022-12-16T03:20:09.328Z"
   },
   {
    "duration": 12,
    "start_time": "2022-12-16T03:20:13.989Z"
   },
   {
    "duration": 8,
    "start_time": "2022-12-16T03:21:59.048Z"
   },
   {
    "duration": 12,
    "start_time": "2022-12-16T03:22:12.371Z"
   },
   {
    "duration": 8,
    "start_time": "2022-12-16T03:22:16.768Z"
   },
   {
    "duration": 4,
    "start_time": "2022-12-16T03:29:59.973Z"
   },
   {
    "duration": 3,
    "start_time": "2022-12-16T03:31:56.485Z"
   },
   {
    "duration": 373,
    "start_time": "2022-12-16T03:31:56.491Z"
   },
   {
    "duration": 8,
    "start_time": "2022-12-16T03:31:56.866Z"
   },
   {
    "duration": 27,
    "start_time": "2022-12-16T03:31:56.876Z"
   },
   {
    "duration": 28,
    "start_time": "2022-12-16T03:31:56.905Z"
   },
   {
    "duration": 15,
    "start_time": "2022-12-16T03:31:56.935Z"
   },
   {
    "duration": 21,
    "start_time": "2022-12-16T03:31:56.952Z"
   },
   {
    "duration": 9,
    "start_time": "2022-12-16T03:31:56.975Z"
   },
   {
    "duration": 35,
    "start_time": "2022-12-16T03:31:56.986Z"
   },
   {
    "duration": 81,
    "start_time": "2022-12-16T03:31:57.022Z"
   },
   {
    "duration": 9415,
    "start_time": "2022-12-16T03:31:57.104Z"
   },
   {
    "duration": 95,
    "start_time": "2022-12-16T03:32:06.522Z"
   },
   {
    "duration": 125,
    "start_time": "2022-12-16T03:32:06.619Z"
   },
   {
    "duration": 4,
    "start_time": "2022-12-16T03:32:06.746Z"
   },
   {
    "duration": 8,
    "start_time": "2022-12-16T03:32:06.752Z"
   },
   {
    "duration": 11,
    "start_time": "2022-12-16T03:32:06.761Z"
   },
   {
    "duration": 10,
    "start_time": "2022-12-16T03:32:06.774Z"
   },
   {
    "duration": 29,
    "start_time": "2022-12-16T03:32:06.786Z"
   },
   {
    "duration": 2,
    "start_time": "2022-12-16T03:32:06.817Z"
   },
   {
    "duration": 43,
    "start_time": "2022-12-16T03:32:06.821Z"
   },
   {
    "duration": 0,
    "start_time": "2022-12-16T03:32:06.866Z"
   },
   {
    "duration": 0,
    "start_time": "2022-12-16T03:32:06.867Z"
   },
   {
    "duration": 0,
    "start_time": "2022-12-16T03:32:06.869Z"
   },
   {
    "duration": 0,
    "start_time": "2022-12-16T03:32:06.870Z"
   },
   {
    "duration": 0,
    "start_time": "2022-12-16T03:32:06.871Z"
   },
   {
    "duration": 0,
    "start_time": "2022-12-16T03:32:06.872Z"
   },
   {
    "duration": 0,
    "start_time": "2022-12-16T03:32:06.873Z"
   },
   {
    "duration": 3,
    "start_time": "2022-12-16T03:32:32.846Z"
   },
   {
    "duration": 389,
    "start_time": "2022-12-16T03:32:32.851Z"
   },
   {
    "duration": 9,
    "start_time": "2022-12-16T03:32:33.242Z"
   },
   {
    "duration": 33,
    "start_time": "2022-12-16T03:32:33.252Z"
   },
   {
    "duration": 37,
    "start_time": "2022-12-16T03:32:33.288Z"
   },
   {
    "duration": 11,
    "start_time": "2022-12-16T03:32:33.327Z"
   },
   {
    "duration": 31,
    "start_time": "2022-12-16T03:32:33.339Z"
   },
   {
    "duration": 13,
    "start_time": "2022-12-16T03:32:33.371Z"
   },
   {
    "duration": 36,
    "start_time": "2022-12-16T03:32:33.387Z"
   },
   {
    "duration": 67,
    "start_time": "2022-12-16T03:32:33.424Z"
   },
   {
    "duration": 9234,
    "start_time": "2022-12-16T03:32:33.492Z"
   },
   {
    "duration": 95,
    "start_time": "2022-12-16T03:32:42.730Z"
   },
   {
    "duration": 41,
    "start_time": "2022-12-16T03:32:42.915Z"
   },
   {
    "duration": 4,
    "start_time": "2022-12-16T03:32:42.959Z"
   },
   {
    "duration": 8,
    "start_time": "2022-12-16T03:32:42.964Z"
   },
   {
    "duration": 9,
    "start_time": "2022-12-16T03:32:42.974Z"
   },
   {
    "duration": 13,
    "start_time": "2022-12-16T03:32:42.985Z"
   },
   {
    "duration": 4,
    "start_time": "2022-12-16T03:32:43.016Z"
   },
   {
    "duration": 7,
    "start_time": "2022-12-16T03:32:43.021Z"
   },
   {
    "duration": 158,
    "start_time": "2022-12-16T03:32:43.030Z"
   },
   {
    "duration": 0,
    "start_time": "2022-12-16T03:32:43.190Z"
   },
   {
    "duration": 11,
    "start_time": "2022-12-16T03:33:12.764Z"
   },
   {
    "duration": 55,
    "start_time": "2022-12-16T03:33:22.097Z"
   },
   {
    "duration": 13,
    "start_time": "2022-12-16T03:37:00.770Z"
   },
   {
    "duration": 4,
    "start_time": "2022-12-16T03:37:14.086Z"
   },
   {
    "duration": 43,
    "start_time": "2022-12-16T03:37:29.737Z"
   },
   {
    "duration": 12,
    "start_time": "2022-12-16T03:37:37.095Z"
   },
   {
    "duration": 23,
    "start_time": "2022-12-16T03:38:09.126Z"
   },
   {
    "duration": 7,
    "start_time": "2022-12-16T03:38:49.087Z"
   },
   {
    "duration": 6,
    "start_time": "2022-12-16T03:39:20.166Z"
   },
   {
    "duration": 9,
    "start_time": "2022-12-16T03:40:29.047Z"
   },
   {
    "duration": 5,
    "start_time": "2022-12-16T03:46:48.808Z"
   },
   {
    "duration": 4,
    "start_time": "2022-12-16T03:47:20.487Z"
   },
   {
    "duration": 8,
    "start_time": "2022-12-16T03:47:31.929Z"
   },
   {
    "duration": 10,
    "start_time": "2022-12-16T03:47:36.165Z"
   },
   {
    "duration": 5,
    "start_time": "2022-12-16T03:47:42.355Z"
   },
   {
    "duration": 6,
    "start_time": "2022-12-16T03:49:34.489Z"
   },
   {
    "duration": 3,
    "start_time": "2022-12-16T03:52:07.847Z"
   },
   {
    "duration": 15,
    "start_time": "2022-12-16T03:52:10.886Z"
   },
   {
    "duration": 3,
    "start_time": "2022-12-16T03:53:46.940Z"
   },
   {
    "duration": 13,
    "start_time": "2022-12-16T03:53:50.789Z"
   },
   {
    "duration": 136,
    "start_time": "2022-12-16T03:54:01.488Z"
   },
   {
    "duration": 237,
    "start_time": "2022-12-16T03:54:30.659Z"
   },
   {
    "duration": 161,
    "start_time": "2022-12-16T03:55:07.533Z"
   },
   {
    "duration": 1316,
    "start_time": "2022-12-16T04:15:25.626Z"
   },
   {
    "duration": 3799,
    "start_time": "2022-12-16T04:15:44.615Z"
   },
   {
    "duration": 10,
    "start_time": "2022-12-16T04:15:53.686Z"
   },
   {
    "duration": 13,
    "start_time": "2022-12-16T04:16:45.929Z"
   },
   {
    "duration": 6,
    "start_time": "2022-12-16T04:17:01.965Z"
   },
   {
    "duration": 6,
    "start_time": "2022-12-16T04:27:21.728Z"
   },
   {
    "duration": 11,
    "start_time": "2022-12-16T05:24:59.353Z"
   },
   {
    "duration": 6,
    "start_time": "2022-12-16T05:29:52.587Z"
   },
   {
    "duration": 6,
    "start_time": "2022-12-16T05:30:28.458Z"
   },
   {
    "duration": 6,
    "start_time": "2022-12-16T05:30:51.707Z"
   },
   {
    "duration": 6,
    "start_time": "2022-12-16T05:30:59.806Z"
   },
   {
    "duration": 6,
    "start_time": "2022-12-16T05:31:13.356Z"
   },
   {
    "duration": 4,
    "start_time": "2022-12-16T05:31:30.397Z"
   },
   {
    "duration": 5,
    "start_time": "2022-12-16T05:43:03.880Z"
   },
   {
    "duration": 6,
    "start_time": "2022-12-16T05:43:19.227Z"
   },
   {
    "duration": 7,
    "start_time": "2022-12-16T05:43:55.846Z"
   },
   {
    "duration": 19,
    "start_time": "2022-12-16T06:17:01.515Z"
   },
   {
    "duration": 11,
    "start_time": "2022-12-16T06:19:01.843Z"
   },
   {
    "duration": 19,
    "start_time": "2022-12-16T06:19:31.048Z"
   },
   {
    "duration": 14,
    "start_time": "2022-12-16T06:20:14.119Z"
   },
   {
    "duration": 7,
    "start_time": "2022-12-16T06:20:50.870Z"
   },
   {
    "duration": 16,
    "start_time": "2022-12-16T06:20:53.808Z"
   },
   {
    "duration": 7,
    "start_time": "2022-12-16T06:21:08.246Z"
   },
   {
    "duration": 5,
    "start_time": "2022-12-16T06:21:17.007Z"
   },
   {
    "duration": 3,
    "start_time": "2022-12-16T06:22:46.598Z"
   },
   {
    "duration": 20,
    "start_time": "2022-12-16T06:23:06.269Z"
   },
   {
    "duration": 5,
    "start_time": "2022-12-16T06:23:52.421Z"
   },
   {
    "duration": 13,
    "start_time": "2022-12-16T06:24:11.346Z"
   },
   {
    "duration": 18,
    "start_time": "2022-12-16T06:24:57.856Z"
   },
   {
    "duration": 4,
    "start_time": "2022-12-16T06:25:08.962Z"
   },
   {
    "duration": 19,
    "start_time": "2022-12-16T06:30:49.006Z"
   },
   {
    "duration": 18,
    "start_time": "2022-12-16T06:31:13.465Z"
   },
   {
    "duration": 4,
    "start_time": "2022-12-16T06:31:34.524Z"
   },
   {
    "duration": 5,
    "start_time": "2022-12-16T06:31:39.472Z"
   },
   {
    "duration": 11,
    "start_time": "2022-12-16T06:32:12.873Z"
   },
   {
    "duration": 3,
    "start_time": "2022-12-16T06:32:41.343Z"
   },
   {
    "duration": 11,
    "start_time": "2022-12-16T06:33:01.803Z"
   },
   {
    "duration": 4,
    "start_time": "2022-12-16T06:33:06.016Z"
   },
   {
    "duration": 3,
    "start_time": "2022-12-16T06:33:07.053Z"
   },
   {
    "duration": 4,
    "start_time": "2022-12-16T06:33:14.174Z"
   },
   {
    "duration": 3,
    "start_time": "2022-12-16T06:33:15.023Z"
   },
   {
    "duration": 11,
    "start_time": "2022-12-16T06:33:34.328Z"
   },
   {
    "duration": 4,
    "start_time": "2022-12-16T06:33:51.685Z"
   },
   {
    "duration": 4,
    "start_time": "2022-12-16T06:34:27.513Z"
   },
   {
    "duration": 4,
    "start_time": "2022-12-16T06:34:35.113Z"
   },
   {
    "duration": 13,
    "start_time": "2022-12-16T06:34:59.536Z"
   },
   {
    "duration": 12,
    "start_time": "2022-12-16T06:35:20.535Z"
   },
   {
    "duration": 13,
    "start_time": "2022-12-16T06:36:55.894Z"
   },
   {
    "duration": 12,
    "start_time": "2022-12-16T06:37:13.656Z"
   },
   {
    "duration": 11,
    "start_time": "2022-12-16T06:45:11.204Z"
   },
   {
    "duration": 11,
    "start_time": "2022-12-16T06:52:16.063Z"
   },
   {
    "duration": 288,
    "start_time": "2022-12-16T06:59:26.007Z"
   },
   {
    "duration": 1298,
    "start_time": "2022-12-16T07:01:16.301Z"
   },
   {
    "duration": 374,
    "start_time": "2022-12-16T07:01:17.601Z"
   },
   {
    "duration": 15,
    "start_time": "2022-12-16T07:01:17.977Z"
   },
   {
    "duration": 11,
    "start_time": "2022-12-16T07:01:17.994Z"
   },
   {
    "duration": 25,
    "start_time": "2022-12-16T07:01:18.015Z"
   },
   {
    "duration": 18,
    "start_time": "2022-12-16T07:01:18.042Z"
   },
   {
    "duration": 18,
    "start_time": "2022-12-16T07:01:18.062Z"
   },
   {
    "duration": 27,
    "start_time": "2022-12-16T07:01:18.081Z"
   },
   {
    "duration": 14,
    "start_time": "2022-12-16T07:01:18.110Z"
   },
   {
    "duration": 86,
    "start_time": "2022-12-16T07:01:18.127Z"
   },
   {
    "duration": 15805,
    "start_time": "2022-12-16T07:01:18.215Z"
   },
   {
    "duration": 192,
    "start_time": "2022-12-16T07:01:34.024Z"
   },
   {
    "duration": 107,
    "start_time": "2022-12-16T07:01:34.218Z"
   },
   {
    "duration": 38,
    "start_time": "2022-12-16T07:01:34.326Z"
   },
   {
    "duration": 3,
    "start_time": "2022-12-16T07:01:34.366Z"
   },
   {
    "duration": 7,
    "start_time": "2022-12-16T07:01:34.371Z"
   },
   {
    "duration": 290,
    "start_time": "2022-12-16T07:01:34.379Z"
   },
   {
    "duration": 3705,
    "start_time": "2022-12-16T07:01:34.671Z"
   },
   {
    "duration": 9,
    "start_time": "2022-12-16T07:01:38.378Z"
   },
   {
    "duration": 15,
    "start_time": "2022-12-16T07:01:38.388Z"
   },
   {
    "duration": 16,
    "start_time": "2022-12-16T07:01:38.405Z"
   }
  ],
  "kernelspec": {
   "display_name": "Python 3 (ipykernel)",
   "language": "python",
   "name": "python3"
  },
  "language_info": {
   "codemirror_mode": {
    "name": "ipython",
    "version": 3
   },
   "file_extension": ".py",
   "mimetype": "text/x-python",
   "name": "python",
   "nbconvert_exporter": "python",
   "pygments_lexer": "ipython3",
   "version": "3.9.5"
  },
  "toc": {
   "base_numbering": 1,
   "nav_menu": {},
   "number_sections": true,
   "sideBar": true,
   "skip_h1_title": true,
   "title_cell": "Table of Contents",
   "title_sidebar": "Contents",
   "toc_cell": false,
   "toc_position": {},
   "toc_section_display": true,
   "toc_window_display": false
  }
 },
 "nbformat": 4,
 "nbformat_minor": 2
}
